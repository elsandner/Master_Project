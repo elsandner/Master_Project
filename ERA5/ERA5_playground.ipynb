{
 "cells": [
  {
   "cell_type": "code",
   "execution_count": 45,
   "metadata": {
    "collapsed": true,
    "pycharm": {
     "name": "#%%\n"
    }
   },
   "outputs": [],
   "source": [
    "import sys\n",
    "import os\n",
    "\n",
    "import numpy as np\n",
    "\n",
    "dir_root =os.path.abspath(os.path.join(os.getcwd(), os.path.pardir))\n",
    "sys.path.append(dir_root)\n",
    "import myLibrary as mL\n",
    "\n",
    "import netCDF4 as nc\n",
    "import pandas as pd"
   ]
  },
  {
   "cell_type": "code",
   "execution_count": 2,
   "outputs": [],
   "source": [
    "STATION_ID_1 = 'venf1'\n",
    "YEAR = '2020'"
   ],
   "metadata": {
    "collapsed": false,
    "pycharm": {
     "name": "#%%\n"
    }
   }
  },
  {
   "cell_type": "code",
   "execution_count": 3,
   "outputs": [],
   "source": [
    "ds_ERA5_1 = nc.Dataset(f'ERA5_downloads/singleStations/{STATION_ID_1}_{YEAR}.nc')"
   ],
   "metadata": {
    "collapsed": false,
    "pycharm": {
     "name": "#%%\n"
    }
   }
  },
  {
   "cell_type": "code",
   "execution_count": 4,
   "outputs": [],
   "source": [
    "u10 = ds_ERA5_1.variables[\"u10\"][:, :, 0].data\n",
    "v10 = ds_ERA5_1.variables[\"v10\"][:, :, 0].data"
   ],
   "metadata": {
    "collapsed": false,
    "pycharm": {
     "name": "#%%\n"
    }
   }
  },
  {
   "cell_type": "code",
   "execution_count": 5,
   "outputs": [],
   "source": [
    "WDIR = []\n",
    "WSPD = []\n",
    "for v, u in zip(v10, u10):\n",
    "    WDIR.append(mL.calc_WDIR(v,u))\n",
    "    WSPD.append(mL.calcWSPD(v,u))"
   ],
   "metadata": {
    "collapsed": false,
    "pycharm": {
     "name": "#%%\n"
    }
   }
  },
  {
   "cell_type": "code",
   "execution_count": 6,
   "outputs": [
    {
     "data": {
      "text/plain": "      u10_venf1  v10_venf1  WDIR_venf1  WSPD_venf1\n0      0.496071  -4.414787  270.111896    4.442570\n1      0.856801  -4.222514  270.200195    4.308565\n2      1.146837  -4.259305  270.263017    4.410999\n3      1.257273  -4.350842  270.281309    4.528859\n4      1.519414  -4.513332  270.324733    4.762225\n...         ...        ...         ...         ...\n8779  -3.743654   6.117713   90.549150    7.172263\n8780  -3.393242   6.151438   90.504084    7.025260\n8781  -3.273635   5.978874   90.500948    6.816423\n8782  -4.118523   4.865096   90.702485    6.374275\n8783  -4.293156   5.210222   90.689197    6.751119\n\n[8784 rows x 4 columns]",
      "text/html": "<div>\n<style scoped>\n    .dataframe tbody tr th:only-of-type {\n        vertical-align: middle;\n    }\n\n    .dataframe tbody tr th {\n        vertical-align: top;\n    }\n\n    .dataframe thead th {\n        text-align: right;\n    }\n</style>\n<table border=\"1\" class=\"dataframe\">\n  <thead>\n    <tr style=\"text-align: right;\">\n      <th></th>\n      <th>u10_venf1</th>\n      <th>v10_venf1</th>\n      <th>WDIR_venf1</th>\n      <th>WSPD_venf1</th>\n    </tr>\n  </thead>\n  <tbody>\n    <tr>\n      <th>0</th>\n      <td>0.496071</td>\n      <td>-4.414787</td>\n      <td>270.111896</td>\n      <td>4.442570</td>\n    </tr>\n    <tr>\n      <th>1</th>\n      <td>0.856801</td>\n      <td>-4.222514</td>\n      <td>270.200195</td>\n      <td>4.308565</td>\n    </tr>\n    <tr>\n      <th>2</th>\n      <td>1.146837</td>\n      <td>-4.259305</td>\n      <td>270.263017</td>\n      <td>4.410999</td>\n    </tr>\n    <tr>\n      <th>3</th>\n      <td>1.257273</td>\n      <td>-4.350842</td>\n      <td>270.281309</td>\n      <td>4.528859</td>\n    </tr>\n    <tr>\n      <th>4</th>\n      <td>1.519414</td>\n      <td>-4.513332</td>\n      <td>270.324733</td>\n      <td>4.762225</td>\n    </tr>\n    <tr>\n      <th>...</th>\n      <td>...</td>\n      <td>...</td>\n      <td>...</td>\n      <td>...</td>\n    </tr>\n    <tr>\n      <th>8779</th>\n      <td>-3.743654</td>\n      <td>6.117713</td>\n      <td>90.549150</td>\n      <td>7.172263</td>\n    </tr>\n    <tr>\n      <th>8780</th>\n      <td>-3.393242</td>\n      <td>6.151438</td>\n      <td>90.504084</td>\n      <td>7.025260</td>\n    </tr>\n    <tr>\n      <th>8781</th>\n      <td>-3.273635</td>\n      <td>5.978874</td>\n      <td>90.500948</td>\n      <td>6.816423</td>\n    </tr>\n    <tr>\n      <th>8782</th>\n      <td>-4.118523</td>\n      <td>4.865096</td>\n      <td>90.702485</td>\n      <td>6.374275</td>\n    </tr>\n    <tr>\n      <th>8783</th>\n      <td>-4.293156</td>\n      <td>5.210222</td>\n      <td>90.689197</td>\n      <td>6.751119</td>\n    </tr>\n  </tbody>\n</table>\n<p>8784 rows × 4 columns</p>\n</div>"
     },
     "execution_count": 6,
     "metadata": {},
     "output_type": "execute_result"
    }
   ],
   "source": [
    "df = pd.DataFrame({\n",
    "    f'u10_{STATION_ID_1}': u10[:,0],\n",
    "    f'v10_{STATION_ID_1}': v10[:,0],\n",
    "    f'WDIR_{STATION_ID_1}': WDIR,        # WDIR\n",
    "    f'WSPD_{STATION_ID_1}': WSPD,        # WSPD\n",
    "})\n",
    "\n",
    "df"
   ],
   "metadata": {
    "collapsed": false,
    "pycharm": {
     "name": "#%%\n"
    }
   }
  },
  {
   "cell_type": "code",
   "execution_count": 7,
   "outputs": [
    {
     "data": {
      "text/plain": "<AxesSubplot:>"
     },
     "execution_count": 7,
     "metadata": {},
     "output_type": "execute_result"
    },
    {
     "data": {
      "text/plain": "<Figure size 640x480 with 1 Axes>",
      "image/png": "[encoded data removed]"
     },
     "metadata": {},
     "output_type": "display_data"
    }
   ],
   "source": [
    "df[\"WDIR_venf1\"].plot()"
   ],
   "metadata": {
    "collapsed": false,
    "pycharm": {
     "name": "#%%\n"
    }
   }
  },
  {
   "cell_type": "code",
   "execution_count": 46,
   "outputs": [],
   "source": [
    "import math\n",
    "\n",
    "\n",
    "def calc_WDIR(v, u):\n",
    "    if v == 0:\n",
    "        return 0\n",
    "    alpha = math.degrees(math.atan(u / v)) # angle in triangle of v, u and WSPD vectors\n",
    "    print(\"Alpha = \", alpha)\n",
    "\n",
    "    if v > 0:  # East-Wind\n",
    "        WDIR = 90 - alpha\n",
    "    else:  # v < 0 ... West-Wind\n",
    "        WDIR = 270 - alpha\n",
    "\n",
    "    return WDIR"
   ],
   "metadata": {
    "collapsed": false,
    "pycharm": {
     "name": "#%%\n"
    }
   }
  },
  {
   "cell_type": "code",
   "execution_count": 47,
   "outputs": [
    {
     "name": "stdout",
     "output_type": "stream",
     "text": [
      "Alpha =  63.43494882292202\n"
     ]
    },
    {
     "data": {
      "text/plain": "26.565051177077983"
     },
     "execution_count": 47,
     "metadata": {},
     "output_type": "execute_result"
    }
   ],
   "source": [
    "v = 1\n",
    "u = 2\n",
    "# expected: 30°\n",
    "calc_WDIR(v, u)"
   ],
   "metadata": {
    "collapsed": false,
    "pycharm": {
     "name": "#%%\n"
    }
   }
  },
  {
   "cell_type": "code",
   "execution_count": 48,
   "outputs": [],
   "source": [
    "def calc_WDIR_2(v, u):\n",
    "\n",
    "#No wind at all\n",
    "    if v == 0 and u == 0:\n",
    "        return np.NAN\n",
    "\n",
    "#Wind straight to one coordinate direction\n",
    "    #North Wind\n",
    "    if v == 0 and u > 0:\n",
    "        return 0\n",
    "\n",
    "    #South Wind\n",
    "    if v == 0 and u < 0:\n",
    "        return 180\n",
    "\n",
    "    #East Wind\n",
    "    if u == 0 and v > 0:\n",
    "        return 90\n",
    "\n",
    "    #West wind\n",
    "    if u == 0 and v < 0:\n",
    "        return 270\n",
    "\n",
    "#Angle needs to be calculated\n",
    "    #North-East (+u +v)\n",
    "    if u > 0 and v > 0:\n",
    "        alpha = math.degrees(math.atan(u / v))\n",
    "        return 90 - alpha\n",
    "\n",
    "    #South-East (-u +v)\n",
    "    if u < 0 and v > 0:\n",
    "        alpha = math.degrees(math.atan(u / v))\n",
    "        return 90 + abs(alpha)\n",
    "\n",
    "    #South-West (-u, -v)\n",
    "    if u < 0 and v < 0:\n",
    "        alpha = math.degrees(math.atan(u / v))\n",
    "        return 270 - alpha\n",
    "\n",
    "    #North-West (+u, -v)\n",
    "    if u > 0 and v < 0:\n",
    "        alpha = math.degrees(math.atan(u / v))\n",
    "        return 270 + abs(alpha)\n",
    "\n",
    "\n",
    "\n"
   ],
   "metadata": {
    "collapsed": false,
    "pycharm": {
     "name": "#%%\n"
    }
   }
  },
  {
   "cell_type": "code",
   "execution_count": 49,
   "outputs": [
    {
     "data": {
      "text/plain": "-0.057295760414500616"
     },
     "execution_count": 49,
     "metadata": {},
     "output_type": "execute_result"
    }
   ],
   "source": [
    "u = 0.001\n",
    "v = -1\n",
    "alpha = math.degrees(math.atan(u / v))\n",
    "alpha"
   ],
   "metadata": {
    "collapsed": false,
    "pycharm": {
     "name": "#%%\n"
    }
   }
  },
  {
   "cell_type": "code",
   "execution_count": 50,
   "outputs": [
    {
     "data": {
      "text/plain": "-89.94270423958551"
     },
     "execution_count": 50,
     "metadata": {},
     "output_type": "execute_result"
    }
   ],
   "source": [
    "u = 1\n",
    "v = -0.001\n",
    "alpha = math.degrees(math.atan(u / v))\n",
    "alpha"
   ],
   "metadata": {
    "collapsed": false,
    "pycharm": {
     "name": "#%%\n"
    }
   }
  },
  {
   "cell_type": "markdown",
   "source": [
    "# Tests:"
   ],
   "metadata": {
    "collapsed": false,
    "pycharm": {
     "name": "#%% md\n"
    }
   }
  },
  {
   "cell_type": "code",
   "execution_count": 51,
   "outputs": [
    {
     "data": {
      "text/plain": "nan"
     },
     "execution_count": 51,
     "metadata": {},
     "output_type": "execute_result"
    }
   ],
   "source": [
    "calc_WDIR_2(0,0)"
   ],
   "metadata": {
    "collapsed": false,
    "pycharm": {
     "name": "#%%\n"
    }
   }
  },
  {
   "cell_type": "code",
   "execution_count": 52,
   "outputs": [
    {
     "data": {
      "text/plain": "45.0"
     },
     "execution_count": 52,
     "metadata": {},
     "output_type": "execute_result"
    }
   ],
   "source": [
    "calc_WDIR_2(1, 1)"
   ],
   "metadata": {
    "collapsed": false,
    "pycharm": {
     "name": "#%%\n"
    }
   }
  },
  {
   "cell_type": "code",
   "execution_count": 53,
   "outputs": [
    {
     "data": {
      "text/plain": "135.0"
     },
     "execution_count": 53,
     "metadata": {},
     "output_type": "execute_result"
    }
   ],
   "source": [
    "calc_WDIR_2(1,-1)"
   ],
   "metadata": {
    "collapsed": false,
    "pycharm": {
     "name": "#%%\n"
    }
   }
  },
  {
   "cell_type": "code",
   "execution_count": 54,
   "outputs": [
    {
     "data": {
      "text/plain": "225.0"
     },
     "execution_count": 54,
     "metadata": {},
     "output_type": "execute_result"
    }
   ],
   "source": [
    "calc_WDIR_2(-1,-1)"
   ],
   "metadata": {
    "collapsed": false,
    "pycharm": {
     "name": "#%%\n"
    }
   }
  },
  {
   "cell_type": "code",
   "execution_count": 55,
   "outputs": [
    {
     "data": {
      "text/plain": "315.0"
     },
     "execution_count": 55,
     "metadata": {},
     "output_type": "execute_result"
    }
   ],
   "source": [
    "calc_WDIR_2(-1, 1)"
   ],
   "metadata": {
    "collapsed": false,
    "pycharm": {
     "name": "#%%\n"
    }
   }
  },
  {
   "cell_type": "code",
   "execution_count": 56,
   "outputs": [
    {
     "data": {
      "text/plain": "0"
     },
     "execution_count": 56,
     "metadata": {},
     "output_type": "execute_result"
    }
   ],
   "source": [
    "calc_WDIR_2(0, 1)"
   ],
   "metadata": {
    "collapsed": false,
    "pycharm": {
     "name": "#%%\n"
    }
   }
  },
  {
   "cell_type": "code",
   "execution_count": 57,
   "outputs": [
    {
     "data": {
      "text/plain": "180"
     },
     "execution_count": 57,
     "metadata": {},
     "output_type": "execute_result"
    }
   ],
   "source": [
    "calc_WDIR_2(0, -1)"
   ],
   "metadata": {
    "collapsed": false,
    "pycharm": {
     "name": "#%%\n"
    }
   }
  },
  {
   "cell_type": "code",
   "execution_count": 58,
   "outputs": [
    {
     "data": {
      "text/plain": "90"
     },
     "execution_count": 58,
     "metadata": {},
     "output_type": "execute_result"
    }
   ],
   "source": [
    "calc_WDIR_2(1, 0)"
   ],
   "metadata": {
    "collapsed": false,
    "pycharm": {
     "name": "#%%\n"
    }
   }
  },
  {
   "cell_type": "code",
   "execution_count": 59,
   "outputs": [
    {
     "data": {
      "text/plain": "270"
     },
     "execution_count": 59,
     "metadata": {},
     "output_type": "execute_result"
    }
   ],
   "source": [
    "calc_WDIR_2(-1, 0)"
   ],
   "metadata": {
    "collapsed": false,
    "pycharm": {
     "name": "#%%\n"
    }
   }
  },
  {
   "cell_type": "code",
   "execution_count": null,
   "outputs": [],
   "source": [],
   "metadata": {
    "collapsed": false,
    "pycharm": {
     "name": "#%%\n"
    }
   }
  }
 ],
 "metadata": {
  "kernelspec": {
   "display_name": "Python 3",
   "language": "python",
   "name": "python3"
  },
  "language_info": {
   "codemirror_mode": {
    "name": "ipython",
    "version": 2
   },
   "file_extension": ".py",
   "mimetype": "text/x-python",
   "name": "python",
   "nbconvert_exporter": "python",
   "pygments_lexer": "ipython2",
   "version": "2.7.6"
  }
 },
 "nbformat": 4,
 "nbformat_minor": 0
}