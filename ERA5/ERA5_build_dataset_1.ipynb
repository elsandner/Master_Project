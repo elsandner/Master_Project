{
 "cells": [
  {
   "cell_type": "markdown",
   "source": [
    "# Goal: Compare ERA5 to NDBC data\n",
    "\n",
    "## Build a dataset which is as similar as possible to the ERA5 dataset but with the data from ERA5.\n",
    "\n",
    "-->\n",
    "* 1h timestamps\n",
    "* Buoys from Gulf of Mexico (start with single buoy)\n",
    "* Data: see excel table Feature_Comparison_NDBC_ERA5.xlsx.\n",
    "\n",
    "Then: Compare values with those from NDBC"
   ],
   "metadata": {
    "collapsed": false,
    "pycharm": {
     "name": "#%% md\n"
    }
   }
  },
  {
   "cell_type": "code",
   "execution_count": 19,
   "metadata": {
    "collapsed": true,
    "pycharm": {
     "name": "#%%\n"
    }
   },
   "outputs": [],
   "source": [
    "import sys\n",
    "import os\n",
    "\n",
    "import numpy as np\n",
    "from IPython.core.display_functions import display\n",
    "\n",
    "dir_root =os.path.abspath(os.path.join(os.getcwd(), os.path.pardir))\n",
    "sys.path.append(dir_root+\"/NDBC_Buoy_Data\")\n",
    "import myLibrary as mL\n",
    "\n",
    "import cdsapi\n",
    "import matplotlib.pyplot as plt\n",
    "import pandas as pd\n",
    "from datetime import datetime\n",
    "import netCDF4 as nc"
   ]
  },
  {
   "cell_type": "markdown",
   "source": [
    "# Find best buoy to compare data\n",
    "## must:\n",
    " * contain all 1h timestamps,\n",
    " * have as little NaN values in relevant features"
   ],
   "metadata": {
    "collapsed": false,
    "pycharm": {
     "name": "#%% md\n"
    }
   }
  },
  {
   "cell_type": "code",
   "execution_count": 2,
   "outputs": [
    {
     "name": "stdout",
     "output_type": "stream",
     "text": [
      "starting with year  2010\n",
      "Failed to get file: HTTP Error 404: Not Found\n",
      "41112 skipped - it only has  0  records.\n",
      "42001 skipped - it only has  0  records.\n",
      "42002 skipped - it only has  0  records.\n",
      "42012 skipped - it only has  1  records.\n",
      "42019 skipped - it only has  0  records.\n",
      "42020 skipped - it only has  0  records.\n",
      "Failed to get file: HTTP Error 404: Not Found\n",
      "42023 skipped - it only has  1197  records.\n",
      "Failed to get file: HTTP Error 404: Not Found\n",
      "42036 skipped - it only has  0  records.\n",
      "42039 skipped - it only has  0  records.\n",
      "42040 skipped - it only has  0  records.\n",
      "42055 skipped - it only has  0  records.\n",
      "Failed to get file: HTTP Error 404: Not Found\n",
      "Failed to get file: HTTP Error 404: Not Found\n",
      "Failed to get file: HTTP Error 404: Not Found\n",
      "42099 skipped - it only has  0  records.\n",
      "Failed to get file: HTTP Error 404: Not Found\n",
      "Failed to get file: HTTP Error 404: Not Found\n",
      "Failed to get file: HTTP Error 404: Not Found\n",
      "Failed to get file: HTTP Error 404: Not Found\n",
      "bygl1 skipped - it only has  4113  records.\n",
      "Failed to get file: HTTP Error 404: Not Found\n",
      "Failed to get file: HTTP Error 404: Not Found\n",
      "Failed to get file: HTTP Error 404: Not Found\n",
      "Failed to get file: HTTP Error 404: Not Found\n",
      "Failed to get file: HTTP Error 404: Not Found\n",
      "Failed to get file: HTTP Error 404: Not Found\n",
      "Failed to get file: HTTP Error 404: Not Found\n",
      "Failed to get file: HTTP Error 404: Not Found\n",
      "Failed to get file: HTTP Error 404: Not Found\n",
      "fmrf1 skipped - it only has  4642  records.\n",
      "Failed to get file: HTTP Error 404: Not Found\n",
      "Failed to get file: HTTP Error 404: Not Found\n",
      "Failed to get file: HTTP Error 404: Not Found\n",
      "Failed to get file: HTTP Error 404: Not Found\n",
      "Failed to get file: HTTP Error 404: Not Found\n",
      "Failed to get file: HTTP Error 404: Not Found\n",
      "Failed to get file: HTTP Error 404: Not Found\n",
      "Failed to get file: HTTP Error 404: Not Found\n",
      "Failed to get file: HTTP Error 404: Not Found\n",
      "Failed to get file: HTTP Error 404: Not Found\n",
      "Failed to get file: HTTP Error 404: Not Found\n",
      "Failed to get file: HTTP Error 404: Not Found\n",
      "Failed to get file: HTTP Error 404: Not Found\n",
      "Failed to get file: HTTP Error 404: Not Found\n",
      "Failed to get file: HTTP Error 404: Not Found\n",
      "Failed to get file: HTTP Error 404: Not Found\n",
      "Failed to get file: HTTP Error 404: Not Found\n",
      "Failed to get file: HTTP Error 404: Not Found\n",
      "Failed to get file: HTTP Error 404: Not Found\n",
      "Failed to get file: HTTP Error 404: Not Found\n",
      "Failed to get file: HTTP Error 404: Not Found\n",
      "Failed to get file: HTTP Error 404: Not Found\n",
      "Failed to get file: HTTP Error 404: Not Found\n",
      "Failed to get file: HTTP Error 404: Not Found\n",
      "Failed to get file: HTTP Error 404: Not Found\n",
      "pmaf1 skipped - it only has  1152  records.\n",
      "Failed to get file: HTTP Error 404: Not Found\n",
      "Failed to get file: HTTP Error 404: Not Found\n",
      "Failed to get file: HTTP Error 404: Not Found\n",
      "sapf1 skipped - it only has  4837  records.\n",
      "Failed to get file: HTTP Error 404: Not Found\n",
      "Failed to get file: HTTP Error 404: Not Found\n",
      "Failed to get file: HTTP Error 404: Not Found\n",
      "Failed to get file: HTTP Error 404: Not Found\n",
      "Failed to get file: HTTP Error 404: Not Found\n",
      "Failed to get file: HTTP Error 404: Not Found\n",
      "Failed to get file: HTTP Error 404: Not Found\n",
      "Failed to get file: HTTP Error 404: Not Found\n",
      "Failed to get file: HTTP Error 404: Not Found\n",
      "Failed to get file: HTTP Error 404: Not Found\n",
      "Failed to get file: HTTP Error 404: Not Found\n",
      "Failed to get file: HTTP Error 404: Not Found\n",
      "starting with year  2011\n",
      "Failed to get file: HTTP Error 404: Not Found\n",
      "41112 skipped - it only has  0  records.\n",
      "42001 skipped - it only has  0  records.\n",
      "42002 skipped - it only has  0  records.\n",
      "42012 skipped - it only has  0  records.\n",
      "42019 skipped - it only has  0  records.\n",
      "42020 skipped - it only has  0  records.\n",
      "Failed to get file: HTTP Error 404: Not Found\n",
      "42023 skipped - it only has  907  records.\n",
      "Failed to get file: HTTP Error 404: Not Found\n",
      "42036 skipped - it only has  0  records.\n",
      "42039 skipped - it only has  0  records.\n",
      "42040 skipped - it only has  0  records.\n",
      "42055 skipped - it only has  0  records.\n",
      "Failed to get file: HTTP Error 404: Not Found\n",
      "Failed to get file: HTTP Error 404: Not Found\n",
      "Failed to get file: HTTP Error 404: Not Found\n",
      "42099 skipped - it only has  0  records.\n",
      "Failed to get file: HTTP Error 404: Not Found\n",
      "Failed to get file: HTTP Error 404: Not Found\n",
      "Failed to get file: HTTP Error 404: Not Found\n",
      "bsca1 skipped - it only has  1355  records.\n",
      "Failed to get file: HTTP Error 404: Not Found\n",
      "Failed to get file: HTTP Error 404: Not Found\n",
      "Failed to get file: HTTP Error 404: Not Found\n",
      "crta1 skipped - it only has  4803  records.\n",
      "Failed to get file: HTTP Error 404: Not Found\n",
      "Failed to get file: HTTP Error 404: Not Found\n",
      "Failed to get file: HTTP Error 404: Not Found\n",
      "Failed to get file: HTTP Error 404: Not Found\n",
      "Failed to get file: HTTP Error 404: Not Found\n",
      "Failed to get file: HTTP Error 404: Not Found\n",
      "Failed to get file: HTTP Error 404: Not Found\n",
      "Failed to get file: HTTP Error 404: Not Found\n",
      "Failed to get file: HTTP Error 404: Not Found\n",
      "gnjt2 skipped - it only has  2884  records.\n",
      "Failed to get file: HTTP Error 404: Not Found\n",
      "Failed to get file: HTTP Error 404: Not Found\n",
      "Failed to get file: HTTP Error 404: Not Found\n",
      "Failed to get file: HTTP Error 404: Not Found\n",
      "Failed to get file: HTTP Error 404: Not Found\n",
      "Failed to get file: HTTP Error 404: Not Found\n",
      "Failed to get file: HTTP Error 404: Not Found\n",
      "Failed to get file: HTTP Error 404: Not Found\n",
      "Failed to get file: HTTP Error 404: Not Found\n",
      "Failed to get file: HTTP Error 404: Not Found\n",
      "Failed to get file: HTTP Error 404: Not Found\n",
      "Failed to get file: HTTP Error 404: Not Found\n",
      "Failed to get file: HTTP Error 404: Not Found\n",
      "ncht2 skipped - it only has  2183  records.\n",
      "Failed to get file: HTTP Error 404: Not Found\n",
      "Failed to get file: HTTP Error 404: Not Found\n",
      "Failed to get file: HTTP Error 404: Not Found\n",
      "pcgt2 skipped - it only has  1992  records.\n",
      "pill1 skipped - it only has  1549  records.\n",
      "Failed to get file: HTTP Error 404: Not Found\n",
      "Failed to get file: HTTP Error 404: Not Found\n",
      "Failed to get file: HTTP Error 404: Not Found\n",
      "Failed to get file: HTTP Error 404: Not Found\n",
      "Failed to get file: HTTP Error 404: Not Found\n",
      "Failed to get file: HTTP Error 404: Not Found\n",
      "Failed to get file: HTTP Error 404: Not Found\n",
      "taqt2 skipped - it only has  2182  records.\n",
      "Failed to get file: HTTP Error 404: Not Found\n",
      "Failed to get file: HTTP Error 404: Not Found\n",
      "Failed to get file: HTTP Error 404: Not Found\n",
      "Failed to get file: HTTP Error 404: Not Found\n",
      "vcat2 skipped - it only has  1323  records.\n",
      "Failed to get file: HTTP Error 404: Not Found\n",
      "Failed to get file: HTTP Error 404: Not Found\n",
      "starting with year  2012\n",
      "Failed to get file: HTTP Error 404: Not Found\n",
      "41112 skipped - it only has  0  records.\n",
      "42001 skipped - it only has  0  records.\n",
      "42002 skipped - it only has  0  records.\n",
      "42012 skipped - it only has  0  records.\n",
      "42013 skipped - it only has  3283  records.\n",
      "42019 skipped - it only has  0  records.\n",
      "42020 skipped - it only has  0  records.\n",
      "42022 skipped - it only has  0  records.\n",
      "42023 skipped - it only has  4698  records.\n",
      "Failed to get file: HTTP Error 404: Not Found\n",
      "42036 skipped - it only has  0  records.\n",
      "42039 skipped - it only has  0  records.\n",
      "42040 skipped - it only has  0  records.\n",
      "42055 skipped - it only has  0  records.\n",
      "Failed to get file: HTTP Error 404: Not Found\n",
      "Failed to get file: HTTP Error 404: Not Found\n",
      "Failed to get file: HTTP Error 404: Not Found\n",
      "42099 skipped - it only has  0  records.\n",
      "Failed to get file: HTTP Error 404: Not Found\n",
      "Failed to get file: HTTP Error 404: Not Found\n",
      "Failed to get file: HTTP Error 404: Not Found\n",
      "Failed to get file: HTTP Error 404: Not Found\n",
      "Failed to get file: HTTP Error 404: Not Found\n",
      "Failed to get file: HTTP Error 404: Not Found\n",
      "Failed to get file: HTTP Error 404: Not Found\n",
      "Failed to get file: HTTP Error 404: Not Found\n",
      "Failed to get file: HTTP Error 404: Not Found\n",
      "Failed to get file: HTTP Error 404: Not Found\n",
      "Failed to get file: HTTP Error 404: Not Found\n",
      "Failed to get file: HTTP Error 404: Not Found\n",
      "Failed to get file: HTTP Error 404: Not Found\n",
      "Failed to get file: HTTP Error 404: Not Found\n",
      "Failed to get file: HTTP Error 404: Not Found\n",
      "Failed to get file: HTTP Error 404: Not Found\n",
      "Failed to get file: HTTP Error 404: Not Found\n",
      "Failed to get file: HTTP Error 404: Not Found\n",
      "Failed to get file: HTTP Error 404: Not Found\n",
      "Failed to get file: HTTP Error 404: Not Found\n",
      "Failed to get file: HTTP Error 404: Not Found\n",
      "Failed to get file: HTTP Error 404: Not Found\n",
      "Failed to get file: HTTP Error 404: Not Found\n",
      "Failed to get file: HTTP Error 404: Not Found\n",
      "Failed to get file: HTTP Error 404: Not Found\n",
      "Failed to get file: HTTP Error 404: Not Found\n",
      "Failed to get file: HTTP Error 404: Not Found\n",
      "Failed to get file: HTTP Error 404: Not Found\n",
      "Failed to get file: HTTP Error 404: Not Found\n",
      "Failed to get file: HTTP Error 404: Not Found\n",
      "Failed to get file: HTTP Error 404: Not Found\n",
      "pcgt2 skipped - it only has  4066  records.\n",
      "pmaf1 skipped - it only has  1843  records.\n",
      "Failed to get file: HTTP Error 404: Not Found\n",
      "Failed to get file: HTTP Error 404: Not Found\n",
      "Failed to get file: HTTP Error 404: Not Found\n",
      "Failed to get file: HTTP Error 404: Not Found\n",
      "Failed to get file: HTTP Error 404: Not Found\n",
      "Failed to get file: HTTP Error 404: Not Found\n",
      "Failed to get file: HTTP Error 404: Not Found\n",
      "Failed to get file: HTTP Error 404: Not Found\n",
      "Failed to get file: HTTP Error 404: Not Found\n",
      "Failed to get file: HTTP Error 404: Not Found\n",
      "Failed to get file: HTTP Error 404: Not Found\n",
      "starting with year  2013\n",
      "Failed to get file: HTTP Error 404: Not Found\n",
      "41112 skipped - it only has  0  records.\n",
      "42001 skipped - it only has  0  records.\n",
      "42002 skipped - it only has  0  records.\n",
      "42012 skipped - it only has  0  records.\n",
      "42013 skipped - it only has  214  records.\n",
      "42019 skipped - it only has  0  records.\n",
      "42020 skipped - it only has  0  records.\n",
      "42022 skipped - it only has  0  records.\n",
      "42023 skipped - it only has  569  records.\n",
      "Failed to get file: HTTP Error 404: Not Found\n",
      "42036 skipped - it only has  0  records.\n",
      "42039 skipped - it only has  0  records.\n",
      "42040 skipped - it only has  0  records.\n",
      "42055 skipped - it only has  0  records.\n",
      "Failed to get file: HTTP Error 404: Not Found\n",
      "Failed to get file: HTTP Error 404: Not Found\n",
      "Failed to get file: HTTP Error 404: Not Found\n",
      "42099 skipped - it only has  0  records.\n",
      "Failed to get file: HTTP Error 404: Not Found\n",
      "Failed to get file: HTTP Error 404: Not Found\n",
      "Failed to get file: HTTP Error 404: Not Found\n",
      "Failed to get file: HTTP Error 404: Not Found\n",
      "Failed to get file: HTTP Error 404: Not Found\n",
      "Failed to get file: HTTP Error 404: Not Found\n",
      "Failed to get file: HTTP Error 404: Not Found\n",
      "Failed to get file: HTTP Error 404: Not Found\n",
      "Failed to get file: HTTP Error 404: Not Found\n",
      "Failed to get file: HTTP Error 404: Not Found\n",
      "Failed to get file: HTTP Error 404: Not Found\n",
      "Failed to get file: HTTP Error 404: Not Found\n",
      "Failed to get file: HTTP Error 404: Not Found\n",
      "Failed to get file: HTTP Error 404: Not Found\n",
      "Failed to get file: HTTP Error 404: Not Found\n",
      "Failed to get file: HTTP Error 404: Not Found\n",
      "Failed to get file: HTTP Error 404: Not Found\n",
      "Failed to get file: HTTP Error 404: Not Found\n",
      "Failed to get file: HTTP Error 404: Not Found\n",
      "Failed to get file: HTTP Error 404: Not Found\n",
      "Failed to get file: HTTP Error 404: Not Found\n",
      "Failed to get file: HTTP Error 404: Not Found\n",
      "Failed to get file: HTTP Error 404: Not Found\n",
      "Failed to get file: HTTP Error 404: Not Found\n",
      "mtbf1 skipped - it only has  602  records.\n",
      "Failed to get file: HTTP Error 404: Not Found\n",
      "Failed to get file: HTTP Error 404: Not Found\n",
      "pcbf1 skipped - it only has  2141  records.\n",
      "Failed to get file: HTTP Error 404: Not Found\n",
      "Failed to get file: HTTP Error 404: Not Found\n",
      "Failed to get file: HTTP Error 404: Not Found\n",
      "Failed to get file: HTTP Error 404: Not Found\n",
      "Failed to get file: HTTP Error 404: Not Found\n",
      "Failed to get file: HTTP Error 404: Not Found\n",
      "taqt2 skipped - it only has  4870  records.\n",
      "Failed to get file: HTTP Error 404: Not Found\n",
      "Failed to get file: HTTP Error 404: Not Found\n",
      "Failed to get file: HTTP Error 404: Not Found\n",
      "venf1 skipped - it only has  4140  records.\n",
      "Failed to get file: HTTP Error 404: Not Found\n",
      "Failed to get file: HTTP Error 404: Not Found\n",
      "starting with year  2014\n",
      "Failed to get file: HTTP Error 404: Not Found\n",
      "41112 skipped - it only has  0  records.\n",
      "42001 skipped - it only has  0  records.\n",
      "42002 skipped - it only has  0  records.\n",
      "42012 skipped - it only has  0  records.\n",
      "Failed to get file: HTTP Error 404: Not Found\n",
      "42019 skipped - it only has  0  records.\n",
      "42020 skipped - it only has  0  records.\n",
      "42022 skipped - it only has  0  records.\n",
      "Failed to get file: HTTP Error 404: Not Found\n",
      "Failed to get file: HTTP Error 404: Not Found\n",
      "42036 skipped - it only has  0  records.\n",
      "42039 skipped - it only has  0  records.\n",
      "42040 skipped - it only has  0  records.\n",
      "42055 skipped - it only has  0  records.\n",
      "Failed to get file: HTTP Error 404: Not Found\n",
      "Failed to get file: HTTP Error 404: Not Found\n",
      "Failed to get file: HTTP Error 404: Not Found\n",
      "42099 skipped - it only has  0  records.\n",
      "Failed to get file: HTTP Error 404: Not Found\n",
      "Failed to get file: HTTP Error 404: Not Found\n",
      "Failed to get file: HTTP Error 404: Not Found\n",
      "Failed to get file: HTTP Error 404: Not Found\n",
      "Failed to get file: HTTP Error 404: Not Found\n",
      "Failed to get file: HTTP Error 404: Not Found\n",
      "Failed to get file: HTTP Error 404: Not Found\n",
      "Failed to get file: HTTP Error 404: Not Found\n",
      "Failed to get file: HTTP Error 404: Not Found\n",
      "Failed to get file: HTTP Error 404: Not Found\n",
      "Failed to get file: HTTP Error 404: Not Found\n",
      "Failed to get file: HTTP Error 404: Not Found\n",
      "Failed to get file: HTTP Error 404: Not Found\n",
      "Failed to get file: HTTP Error 404: Not Found\n",
      "Failed to get file: HTTP Error 404: Not Found\n",
      "Failed to get file: HTTP Error 404: Not Found\n",
      "Failed to get file: HTTP Error 404: Not Found\n",
      "Failed to get file: HTTP Error 404: Not Found\n",
      "Failed to get file: HTTP Error 404: Not Found\n",
      "Failed to get file: HTTP Error 404: Not Found\n",
      "Failed to get file: HTTP Error 404: Not Found\n",
      "Failed to get file: HTTP Error 404: Not Found\n",
      "Failed to get file: HTTP Error 404: Not Found\n",
      "Failed to get file: HTTP Error 404: Not Found\n",
      "Failed to get file: HTTP Error 404: Not Found\n",
      "Failed to get file: HTTP Error 404: Not Found\n",
      "starting with year  2015\n",
      "Failed to get file: HTTP Error 404: Not Found\n",
      "41112 skipped - it only has  0  records.\n",
      "42001 skipped - it only has  728  records.\n",
      "42002 skipped - it only has  0  records.\n",
      "42012 skipped - it only has  0  records.\n",
      "42013 skipped - it only has  3788  records.\n",
      "42019 skipped - it only has  0  records.\n",
      "42020 skipped - it only has  0  records.\n",
      "42022 skipped - it only has  4390  records.\n",
      "42023 skipped - it only has  3258  records.\n",
      "Failed to get file: HTTP Error 404: Not Found\n",
      "42036 skipped - it only has  0  records.\n",
      "42039 skipped - it only has  0  records.\n",
      "42040 skipped - it only has  0  records.\n",
      "42055 skipped - it only has  0  records.\n",
      "Failed to get file: HTTP Error 404: Not Found\n",
      "Failed to get file: HTTP Error 404: Not Found\n",
      "42098 skipped - it only has  4665  records.\n",
      "42099 skipped - it only has  1279  records.\n",
      "Failed to get file: HTTP Error 404: Not Found\n",
      "awrt2 skipped - it only has  27  records.\n",
      "Failed to get file: HTTP Error 404: Not Found\n",
      "Failed to get file: HTTP Error 404: Not Found\n",
      "Failed to get file: HTTP Error 404: Not Found\n",
      "Failed to get file: HTTP Error 404: Not Found\n",
      "Failed to get file: HTTP Error 404: Not Found\n",
      "Failed to get file: HTTP Error 404: Not Found\n",
      "Failed to get file: HTTP Error 404: Not Found\n",
      "Failed to get file: HTTP Error 404: Not Found\n",
      "Failed to get file: HTTP Error 404: Not Found\n",
      "Failed to get file: HTTP Error 404: Not Found\n",
      "Failed to get file: HTTP Error 404: Not Found\n",
      "Failed to get file: HTTP Error 404: Not Found\n",
      "jxuf1 skipped - it only has  197  records.\n",
      "Failed to get file: HTTP Error 404: Not Found\n",
      "luit2 skipped - it only has  1027  records.\n",
      "Failed to get file: HTTP Error 404: Not Found\n",
      "mbpa1 skipped - it only has  2014  records.\n",
      "Failed to get file: HTTP Error 404: Not Found\n",
      "pcgt2 skipped - it only has  2374  records.\n",
      "sdrt2 skipped - it only has  1893  records.\n",
      "Failed to get file: HTTP Error 404: Not Found\n",
      "Failed to get file: HTTP Error 404: Not Found\n",
      "Failed to get file: HTTP Error 404: Not Found\n",
      "taqt2 skipped - it only has  3532  records.\n",
      "Failed to get file: HTTP Error 404: Not Found\n",
      "txpt2 skipped - it only has  2371  records.\n",
      "Failed to get file: HTTP Error 404: Not Found\n",
      "Failed to get file: HTTP Error 404: Not Found\n",
      "Failed to get file: HTTP Error 404: Not Found\n",
      "Failed to get file: HTTP Error 404: Not Found\n",
      "starting with year  2016\n",
      "Failed to get file: HTTP Error 404: Not Found\n",
      "41112 skipped - it only has  1092  records.\n",
      "42001 skipped - it only has  0  records.\n",
      "42002 skipped - it only has  0  records.\n",
      "42012 skipped - it only has  0  records.\n",
      "42019 skipped - it only has  0  records.\n",
      "42020 skipped - it only has  0  records.\n",
      "Failed to get file: HTTP Error 404: Not Found\n",
      "42036 skipped - it only has  0  records.\n",
      "42039 skipped - it only has  0  records.\n",
      "42055 skipped - it only has  0  records.\n",
      "Failed to get file: HTTP Error 404: Not Found\n",
      "42097 skipped - it only has  2223  records.\n",
      "Failed to get file: HTTP Error 404: Not Found\n",
      "Failed to get file: HTTP Error 404: Not Found\n",
      "Failed to get file: HTTP Error 404: Not Found\n",
      "Failed to get file: HTTP Error 404: Not Found\n",
      "Failed to get file: HTTP Error 404: Not Found\n",
      "Failed to get file: HTTP Error 404: Not Found\n",
      "Failed to get file: HTTP Error 404: Not Found\n",
      "Failed to get file: HTTP Error 404: Not Found\n",
      "Failed to get file: HTTP Error 404: Not Found\n",
      "Failed to get file: HTTP Error 404: Not Found\n",
      "grrt2 skipped - it only has  4528  records.\n",
      "Failed to get file: HTTP Error 404: Not Found\n",
      "irdt2 skipped - it only has  3697  records.\n",
      "Failed to get file: HTTP Error 404: Not Found\n",
      "mbet2 skipped - it only has  4098  records.\n",
      "mbpa1 skipped - it only has  2161  records.\n",
      "Failed to get file: HTTP Error 404: Not Found\n",
      "sgnt2 skipped - it only has  2758  records.\n",
      "Failed to get file: HTTP Error 404: Not Found\n",
      "Failed to get file: HTTP Error 404: Not Found\n",
      "Failed to get file: HTTP Error 404: Not Found\n",
      "Failed to get file: HTTP Error 404: Not Found\n",
      "tpaf1 skipped - it only has  4017  records.\n",
      "Failed to get file: HTTP Error 404: Not Found\n",
      "Failed to get file: HTTP Error 404: Not Found\n",
      "Failed to get file: HTTP Error 404: Not Found\n",
      "Failed to get file: HTTP Error 404: Not Found\n",
      "starting with year  2017\n",
      "41117 skipped - it only has  0  records.\n",
      "42002 skipped - it only has  0  records.\n",
      "42012 skipped - it only has  0  records.\n",
      "42019 skipped - it only has  0  records.\n",
      "42020 skipped - it only has  0  records.\n",
      "Failed to get file: HTTP Error 404: Not Found\n",
      "42036 skipped - it only has  0  records.\n",
      "42039 skipped - it only has  0  records.\n",
      "42055 skipped - it only has  0  records.\n",
      "Failed to get file: HTTP Error 404: Not Found\n",
      "Failed to get file: HTTP Error 404: Not Found\n",
      "Failed to get file: HTTP Error 404: Not Found\n",
      "Failed to get file: HTTP Error 404: Not Found\n",
      "emat2 skipped - it only has  2194  records.\n",
      "Failed to get file: HTTP Error 404: Not Found\n",
      "Failed to get file: HTTP Error 404: Not Found\n",
      "Failed to get file: HTTP Error 404: Not Found\n",
      "Failed to get file: HTTP Error 404: Not Found\n",
      "Failed to get file: HTTP Error 404: Not Found\n",
      "Failed to get file: HTTP Error 404: Not Found\n",
      "Failed to get file: HTTP Error 404: Not Found\n",
      "Failed to get file: HTTP Error 404: Not Found\n",
      "Failed to get file: HTTP Error 404: Not Found\n",
      "Failed to get file: HTTP Error 404: Not Found\n",
      "Failed to get file: HTTP Error 404: Not Found\n",
      "Failed to get file: HTTP Error 404: Not Found\n",
      "Failed to get file: HTTP Error 404: Not Found\n",
      "Failed to get file: HTTP Error 404: Not Found\n",
      "Failed to get file: HTTP Error 404: Not Found\n",
      "Failed to get file: HTTP Error 404: Not Found\n",
      "starting with year  2018\n",
      "41117 skipped - it only has  282  records.\n",
      "42002 skipped - it only has  0  records.\n",
      "42019 skipped - it only has  3301  records.\n",
      "42023 skipped - it only has  4750  records.\n",
      "Failed to get file: HTTP Error 404: Not Found\n",
      "Failed to get file: HTTP Error 404: Not Found\n",
      "42039 skipped - it only has  0  records.\n",
      "Failed to get file: HTTP Error 404: Not Found\n",
      "Failed to get file: HTTP Error 404: Not Found\n",
      "Failed to get file: HTTP Error 404: Not Found\n",
      "Failed to get file: HTTP Error 404: Not Found\n",
      "fpst2 skipped - it only has  3687  records.\n",
      "Failed to get file: HTTP Error 404: Not Found\n",
      "gctf1 skipped - it only has  3395  records.\n",
      "Failed to get file: HTTP Error 404: Not Found\n",
      "Failed to get file: HTTP Error 404: Not Found\n",
      "jxuf1 skipped - it only has  3148  records.\n",
      "Failed to get file: HTTP Error 404: Not Found\n",
      "mbpa1 skipped - it only has  2839  records.\n",
      "Failed to get file: HTTP Error 404: Not Found\n",
      "Failed to get file: HTTP Error 404: Not Found\n",
      "rcpt2 skipped - it only has  1257  records.\n",
      "Failed to get file: HTTP Error 404: Not Found\n",
      "smkf1 skipped - it only has  0  records.\n",
      "Failed to get file: HTTP Error 404: Not Found\n",
      "Failed to get file: HTTP Error 404: Not Found\n",
      "tshf1 skipped - it only has  2493  records.\n",
      "Failed to get file: HTTP Error 404: Not Found\n",
      "Failed to get file: HTTP Error 404: Not Found\n",
      "Failed to get file: HTTP Error 404: Not Found\n",
      "Failed to get file: HTTP Error 404: Not Found\n",
      "starting with year  2019\n",
      "42001 skipped - it only has  4964  records.\n"
     ]
    },
    {
     "name": "stderr",
     "output_type": "stream",
     "text": [
      "/var/folders/ys/lj6w647n5qjdv23zdxs_fn740000gn/T/ipykernel_7248/3040055127.py:29: FutureWarning: reindexing with a non-unique Index is deprecated and will raise in a future version.\n",
      "  data = data.filter(timestamp_filter_list, axis=0)\n"
     ]
    },
    {
     "name": "stdout",
     "output_type": "stream",
     "text": [
      "FAILED AT BUOY:  42002\n",
      "42026 skipped - it only has  3756  records.\n",
      "42036 skipped - it only has  4488  records.\n",
      "42039 skipped - it only has  4481  records.\n",
      "cnbf1 skipped - it only has  1443  records.\n",
      "cwaf1 skipped - it only has  1450  records.\n",
      "Failed to get file: HTTP Error 404: Not Found\n",
      "gbif1 skipped - it only has  1449  records.\n",
      "gkyf1 skipped - it only has  1446  records.\n",
      "href1 skipped - it only has  1448  records.\n",
      "jxuf1 skipped - it only has  1598  records.\n",
      "lmrf1 skipped - it only has  1443  records.\n",
      "Failed to get file: HTTP Error 404: Not Found\n",
      "nfdf1 skipped - it only has  4202  records.\n",
      "Failed to get file: HTTP Error 404: Not Found\n",
      "smkf1 skipped - it only has  4535  records.\n",
      "sref1 skipped - it only has  1444  records.\n",
      "Failed to get file: HTTP Error 404: Not Found\n",
      "Failed to get file: HTTP Error 404: Not Found\n",
      "Failed to get file: HTTP Error 404: Not Found\n",
      "wiwf1 skipped - it only has  1444  records.\n",
      "wplf1 skipped - it only has  1445  records.\n",
      "starting with year  2020\n",
      "41117 skipped - it only has  3845  records.\n",
      "42097 skipped - it only has  3848  records.\n",
      "42098 skipped - it only has  3853  records.\n",
      "42099 skipped - it only has  3516  records.\n",
      "arpf1 skipped - it only has  1836  records.\n",
      "jxuf1 skipped - it only has  4093  records.\n"
     ]
    },
    {
     "name": "stderr",
     "output_type": "stream",
     "text": [
      "/var/folders/ys/lj6w647n5qjdv23zdxs_fn740000gn/T/ipykernel_7248/3040055127.py:29: FutureWarning: reindexing with a non-unique Index is deprecated and will raise in a future version.\n",
      "  data = data.filter(timestamp_filter_list, axis=0)\n"
     ]
    },
    {
     "name": "stdout",
     "output_type": "stream",
     "text": [
      "FAILED AT BUOY:  smkf1\n",
      "srst2 skipped - it only has  3006  records.\n",
      "tlvt2 skipped - it only has  201  records.\n",
      "txvt2 skipped - it only has  1013  records.\n",
      "utvt2 skipped - it only has  911  records.\n",
      "starting with year  2021\n",
      "41117 skipped - it only has  4838  records.\n",
      "42001 skipped - it only has  2273  records.\n",
      "42020 skipped - it only has  3813  records.\n",
      "42097 skipped - it only has  0  records.\n",
      "42098 skipped - it only has  0  records.\n",
      "42099 skipped - it only has  0  records.\n",
      "arpf1 skipped - it only has  4662  records.\n",
      "bsca1 skipped - it only has  4386  records.\n",
      "crta1 skipped - it only has  270  records.\n",
      "srst2 skipped - it only has  4649  records.\n",
      "Failed to get file: HTTP Error 404: Not Found\n",
      "tpaf1 skipped - it only has  4259  records.\n",
      "Failed to get file: HTTP Error 404: Not Found\n",
      "Failed to get file: HTTP Error 404: Not Found\n",
      "starting with year  2022\n",
      "Failed to get file: HTTP Error 404: Not Found\n",
      "Failed to get file: HTTP Error 404: Not Found\n",
      "Failed to get file: HTTP Error 404: Not Found\n",
      "Failed to get file: HTTP Error 404: Not Found\n",
      "Failed to get file: HTTP Error 404: Not Found\n",
      "Failed to get file: HTTP Error 404: Not Found\n",
      "Failed to get file: HTTP Error 404: Not Found\n",
      "Failed to get file: HTTP Error 404: Not Found\n",
      "Failed to get file: HTTP Error 404: Not Found\n",
      "Failed to get file: HTTP Error 404: Not Found\n",
      "Failed to get file: HTTP Error 404: Not Found\n",
      "Failed to get file: HTTP Error 404: Not Found\n",
      "Failed to get file: HTTP Error 404: Not Found\n",
      "Failed to get file: HTTP Error 404: Not Found\n",
      "Failed to get file: HTTP Error 404: Not Found\n",
      "Failed to get file: HTTP Error 404: Not Found\n",
      "Failed to get file: HTTP Error 404: Not Found\n",
      "Failed to get file: HTTP Error 404: Not Found\n",
      "Failed to get file: HTTP Error 404: Not Found\n",
      "Failed to get file: HTTP Error 404: Not Found\n",
      "Failed to get file: HTTP Error 404: Not Found\n",
      "Failed to get file: HTTP Error 404: Not Found\n",
      "Failed to get file: HTTP Error 404: Not Found\n",
      "Failed to get file: HTTP Error 404: Not Found\n",
      "Failed to get file: HTTP Error 404: Not Found\n",
      "Failed to get file: HTTP Error 404: Not Found\n",
      "Failed to get file: HTTP Error 404: Not Found\n",
      "Failed to get file: HTTP Error 404: Not Found\n",
      "Failed to get file: HTTP Error 404: Not Found\n",
      "Failed to get file: HTTP Error 404: Not Found\n",
      "Failed to get file: HTTP Error 404: Not Found\n",
      "Failed to get file: HTTP Error 404: Not Found\n",
      "Failed to get file: HTTP Error 404: Not Found\n",
      "Failed to get file: HTTP Error 404: Not Found\n",
      "Failed to get file: HTTP Error 404: Not Found\n",
      "Failed to get file: HTTP Error 404: Not Found\n",
      "Failed to get file: HTTP Error 404: Not Found\n",
      "Failed to get file: HTTP Error 404: Not Found\n",
      "Failed to get file: HTTP Error 404: Not Found\n",
      "Failed to get file: HTTP Error 404: Not Found\n",
      "Failed to get file: HTTP Error 404: Not Found\n",
      "Failed to get file: HTTP Error 404: Not Found\n",
      "Failed to get file: HTTP Error 404: Not Found\n",
      "Failed to get file: HTTP Error 404: Not Found\n",
      "Failed to get file: HTTP Error 404: Not Found\n",
      "Failed to get file: HTTP Error 404: Not Found\n",
      "Failed to get file: HTTP Error 404: Not Found\n",
      "Failed to get file: HTTP Error 404: Not Found\n",
      "Failed to get file: HTTP Error 404: Not Found\n",
      "Failed to get file: HTTP Error 404: Not Found\n",
      "Failed to get file: HTTP Error 404: Not Found\n",
      "Failed to get file: HTTP Error 404: Not Found\n",
      "Failed to get file: HTTP Error 404: Not Found\n",
      "Failed to get file: HTTP Error 404: Not Found\n",
      "Failed to get file: HTTP Error 404: Not Found\n",
      "Failed to get file: HTTP Error 404: Not Found\n",
      "Failed to get file: HTTP Error 404: Not Found\n",
      "Failed to get file: HTTP Error 404: Not Found\n",
      "Failed to get file: HTTP Error 404: Not Found\n",
      "Failed to get file: HTTP Error 404: Not Found\n",
      "Failed to get file: HTTP Error 404: Not Found\n",
      "Failed to get file: HTTP Error 404: Not Found\n",
      "Failed to get file: HTTP Error 404: Not Found\n",
      "Failed to get file: HTTP Error 404: Not Found\n",
      "Failed to get file: HTTP Error 404: Not Found\n",
      "Failed to get file: HTTP Error 404: Not Found\n",
      "Failed to get file: HTTP Error 404: Not Found\n",
      "Failed to get file: HTTP Error 404: Not Found\n",
      "Failed to get file: HTTP Error 404: Not Found\n",
      "Failed to get file: HTTP Error 404: Not Found\n",
      "Failed to get file: HTTP Error 404: Not Found\n",
      "Failed to get file: HTTP Error 404: Not Found\n",
      "Failed to get file: HTTP Error 404: Not Found\n",
      "Failed to get file: HTTP Error 404: Not Found\n",
      "Failed to get file: HTTP Error 404: Not Found\n",
      "Failed to get file: HTTP Error 404: Not Found\n",
      "Failed to get file: HTTP Error 404: Not Found\n",
      "Failed to get file: HTTP Error 404: Not Found\n",
      "Failed to get file: HTTP Error 404: Not Found\n",
      "Failed to get file: HTTP Error 404: Not Found\n",
      "Failed to get file: HTTP Error 404: Not Found\n",
      "Failed to get file: HTTP Error 404: Not Found\n",
      "Failed to get file: HTTP Error 404: Not Found\n",
      "Failed to get file: HTTP Error 404: Not Found\n",
      "Failed to get file: HTTP Error 404: Not Found\n",
      "Failed to get file: HTTP Error 404: Not Found\n",
      "Failed to get file: HTTP Error 404: Not Found\n",
      "Failed to get file: HTTP Error 404: Not Found\n",
      "Failed to get file: HTTP Error 404: Not Found\n",
      "Failed to get file: HTTP Error 404: Not Found\n",
      "Failed to get file: HTTP Error 404: Not Found\n",
      "Failed to get file: HTTP Error 404: Not Found\n",
      "Failed to get file: HTTP Error 404: Not Found\n",
      "Failed to get file: HTTP Error 404: Not Found\n",
      "Failed to get file: HTTP Error 404: Not Found\n",
      "Failed to get file: HTTP Error 404: Not Found\n",
      "Failed to get file: HTTP Error 404: Not Found\n",
      "Failed to get file: HTTP Error 404: Not Found\n",
      "Failed to get file: HTTP Error 404: Not Found\n",
      "Failed to get file: HTTP Error 404: Not Found\n",
      "Failed to get file: HTTP Error 404: Not Found\n",
      "Failed to get file: HTTP Error 404: Not Found\n",
      "Failed to get file: HTTP Error 404: Not Found\n",
      "Failed to get file: HTTP Error 404: Not Found\n",
      "Failed to get file: HTTP Error 404: Not Found\n",
      "Failed to get file: HTTP Error 404: Not Found\n",
      "Failed to get file: HTTP Error 404: Not Found\n",
      "Failed to get file: HTTP Error 404: Not Found\n",
      "Failed to get file: HTTP Error 404: Not Found\n",
      "Failed to get file: HTTP Error 404: Not Found\n",
      "Failed to get file: HTTP Error 404: Not Found\n",
      "Failed to get file: HTTP Error 404: Not Found\n",
      "Failed to get file: HTTP Error 404: Not Found\n",
      "Failed to get file: HTTP Error 404: Not Found\n",
      "Failed to get file: HTTP Error 404: Not Found\n",
      "Failed to get file: HTTP Error 404: Not Found\n",
      "Failed to get file: HTTP Error 404: Not Found\n",
      "Failed to get file: HTTP Error 404: Not Found\n",
      "Failed to get file: HTTP Error 404: Not Found\n",
      "Failed to get file: HTTP Error 404: Not Found\n",
      "Failed to get file: HTTP Error 404: Not Found\n",
      "Failed to get file: HTTP Error 404: Not Found\n",
      "Failed to get file: HTTP Error 404: Not Found\n"
     ]
    }
   ],
   "source": [
    "stations = mL.stations_GOM\n",
    "\n",
    "NaN_statistic = pd.DataFrame()\n",
    "years = [\"2010\", \"2011\", \"2012\", \"2013\", \"2014\", \"2015\", \"2016\", \"2017\", \"2018\", \"2019\", \"2020\", \"2021\", \"2022\"]\n",
    "#years = [\"2020\", \"2021\", \"2022\"]\n",
    "\n",
    "# for year in years:\n",
    "#     print(\"starting with year \", year)\n",
    "#     for stationID in mL.cleaned_stations_GOM:\n",
    "#         data = mL.get_data_file(stationID, year)  # only consider 2020 since otherwise to many changes would be required\n",
    "#         if data is not None:\n",
    "#\n",
    "#             # dataframe modifications and filters\n",
    "#             data = mL.df_modification(data)[1]\n",
    "#\n",
    "#             data.drop([f'GST_{stationID}',\n",
    "#                        f'DPD_{stationID}',\n",
    "#                        f'VIS_{stationID}',\n",
    "#                        f'TIDE_{stationID}'], axis=1, inplace=True)\n",
    "#\n",
    "#             current_ts = datetime.strptime(f\"{year}-01-01 00:00\", '%Y-%m-%d %H:%M')\n",
    "#             next_year = str(int(year)+1)\n",
    "#             last_ts = datetime.strptime(f\"{next_year}-01-01 00:00\", '%Y-%m-%d %H:%M')\n",
    "#             timestamp_filter_list = mL.create_timestamp_list(current_ts, last_ts)\n",
    "#             # display(timestamp_filter_list)\n",
    "#\n",
    "#\n",
    "#             try:\n",
    "#                 data = data.filter(timestamp_filter_list, axis=0)\n",
    "#             except:\n",
    "#                 print(\"FAILED AT BUOY: \", stationID)\n",
    "#             else:\n",
    "#                 data = mL.replace_with_NaN(data)\n",
    "#                 # display(data)\n",
    "#\n",
    "#                 if len(data.index) > 5000:  # ignore files with to low number of 1h time-records\n",
    "#                     #display(data)\n",
    "#                     # create statistic\n",
    "#                     num_values, num_NaN_percentage, NaN_by_feature = mL.print_NaN_statistic(data, \"\", silent=True)\n",
    "#\n",
    "#                     new_row = pd.DataFrame({\n",
    "#                             \"StationID\": [stationID],\n",
    "#                             \"Year\": [year],\n",
    "#                             \"#records\": [len(data.index)],\n",
    "#                             \"#NaN in %\": [num_NaN_percentage]\n",
    "#                         })\n",
    "#                     NaN_statistic = pd.concat([NaN_statistic, new_row])\n",
    "#                 else:\n",
    "#                     print(stationID, \"skipped - it only has \", len(data.index), \" records.\")"
   ],
   "metadata": {
    "collapsed": false,
    "pycharm": {
     "name": "#%%\n"
    }
   }
  },
  {
   "cell_type": "code",
   "execution_count": 3,
   "outputs": [
    {
     "data": {
      "text/plain": "   StationID  Year  #records  #NaN in %\n0      42013  2010      7149      74.46\n0      amrl1  2010      7935      47.69\n0      apcf1  2010      8403      44.69\n0      arpf1  2010      8532      53.81\n0      babt2  2010      7678      77.88\n..       ...   ...       ...        ...\n0      vcat2  2021      8228      44.99\n0      venf1  2021      8576      33.39\n0      wiwf1  2021      8133      89.22\n0      wplf1  2021      8171      88.89\n0      wycm6  2021      8131      52.74\n\n[963 rows x 4 columns]",
      "text/html": "<div>\n<style scoped>\n    .dataframe tbody tr th:only-of-type {\n        vertical-align: middle;\n    }\n\n    .dataframe tbody tr th {\n        vertical-align: top;\n    }\n\n    .dataframe thead th {\n        text-align: right;\n    }\n</style>\n<table border=\"1\" class=\"dataframe\">\n  <thead>\n    <tr style=\"text-align: right;\">\n      <th></th>\n      <th>StationID</th>\n      <th>Year</th>\n      <th>#records</th>\n      <th>#NaN in %</th>\n    </tr>\n  </thead>\n  <tbody>\n    <tr>\n      <th>0</th>\n      <td>42013</td>\n      <td>2010</td>\n      <td>7149</td>\n      <td>74.46</td>\n    </tr>\n    <tr>\n      <th>0</th>\n      <td>amrl1</td>\n      <td>2010</td>\n      <td>7935</td>\n      <td>47.69</td>\n    </tr>\n    <tr>\n      <th>0</th>\n      <td>apcf1</td>\n      <td>2010</td>\n      <td>8403</td>\n      <td>44.69</td>\n    </tr>\n    <tr>\n      <th>0</th>\n      <td>arpf1</td>\n      <td>2010</td>\n      <td>8532</td>\n      <td>53.81</td>\n    </tr>\n    <tr>\n      <th>0</th>\n      <td>babt2</td>\n      <td>2010</td>\n      <td>7678</td>\n      <td>77.88</td>\n    </tr>\n    <tr>\n      <th>...</th>\n      <td>...</td>\n      <td>...</td>\n      <td>...</td>\n      <td>...</td>\n    </tr>\n    <tr>\n      <th>0</th>\n      <td>vcat2</td>\n      <td>2021</td>\n      <td>8228</td>\n      <td>44.99</td>\n    </tr>\n    <tr>\n      <th>0</th>\n      <td>venf1</td>\n      <td>2021</td>\n      <td>8576</td>\n      <td>33.39</td>\n    </tr>\n    <tr>\n      <th>0</th>\n      <td>wiwf1</td>\n      <td>2021</td>\n      <td>8133</td>\n      <td>89.22</td>\n    </tr>\n    <tr>\n      <th>0</th>\n      <td>wplf1</td>\n      <td>2021</td>\n      <td>8171</td>\n      <td>88.89</td>\n    </tr>\n    <tr>\n      <th>0</th>\n      <td>wycm6</td>\n      <td>2021</td>\n      <td>8131</td>\n      <td>52.74</td>\n    </tr>\n  </tbody>\n</table>\n<p>963 rows × 4 columns</p>\n</div>"
     },
     "execution_count": 3,
     "metadata": {},
     "output_type": "execute_result"
    }
   ],
   "source": [
    "NaN_statistic"
   ],
   "metadata": {
    "collapsed": false,
    "pycharm": {
     "name": "#%%\n"
    }
   }
  },
  {
   "cell_type": "markdown",
   "source": [
    "lets continue with buoy \"venf1\" for 2020. It includes almost all rows and has the lowest amount of NaN values (still 33.4%)\n",
    "\n",
    "(did not choose 2021 since then I would have to do to many changes ..."
   ],
   "metadata": {
    "collapsed": false,
    "pycharm": {
     "name": "#%% md\n"
    }
   }
  },
  {
   "cell_type": "markdown",
   "source": [
    "# Comparing two datasets\n",
    "(executing buoy search does not need to be executed again)"
   ],
   "metadata": {
    "collapsed": false,
    "pycharm": {
     "name": "#%% md\n"
    }
   }
  },
  {
   "cell_type": "code",
   "execution_count": 6,
   "outputs": [
    {
     "name": "stdout",
     "output_type": "stream",
     "text": [
      "[27.0, -82.5, 27.0, -82.5]\n"
     ]
    }
   ],
   "source": [
    "STATION_ID = 'venf1'\n",
    "YEAR = '2020'\n",
    "\n",
    "#Timestamp_list for 2020 and 1h timesteps\n",
    "current_ts = datetime.strptime(\"2020-01-01 00:00\", '%Y-%m-%d %H:%M')\n",
    "last_ts = datetime.strptime(\"2021-01-01 00:00\", '%Y-%m-%d %H:%M')\n",
    "timestamp_filter_list = mL.create_timestamp_list(current_ts, last_ts)\n",
    "\n",
    "metadata = pd.read_csv('../data/my_metadata.csv')\n",
    "metadata.set_index(\"StationID\", inplace=True)\n",
    "lat = metadata.loc[STATION_ID.upper()][\"lat\"]   #TODO: rebuild metadata with lowercased letters (or create method to retreive coordinates)\n",
    "lon = metadata.loc[STATION_ID.upper()][\"lon\"]\n",
    "\n",
    "COORDS = [lat, lon]*2   # NORTH, WEST, SOUTH, EAST\n",
    "print(COORDS)"
   ],
   "metadata": {
    "collapsed": false,
    "pycharm": {
     "name": "#%%\n"
    }
   }
  },
  {
   "cell_type": "markdown",
   "source": [
    "# Download and prepare NDBC dataset"
   ],
   "metadata": {
    "collapsed": false,
    "pycharm": {
     "name": "#%% md\n"
    }
   }
  },
  {
   "cell_type": "code",
   "execution_count": 27,
   "outputs": [
    {
     "data": {
      "text/plain": "                    WDIR_venf1 WSPD_venf1  WVHT_venf1  APD_venf1  MWD_venf1  \\\ntimestamp                                                                     \n2020-01-01 00:00:00         14        2.9         NaN        NaN        NaN   \n2020-01-01 01:00:00          4        3.1         NaN        NaN        NaN   \n2020-01-01 02:00:00          6        2.3         NaN        NaN        NaN   \n2020-01-01 03:00:00        355        3.2         NaN        NaN        NaN   \n2020-01-01 04:00:00          6        2.9         NaN        NaN        NaN   \n...                        ...        ...         ...        ...        ...   \n2020-12-31 19:00:00        159        5.5         NaN        NaN        NaN   \n2020-12-31 20:00:00        175        7.4         NaN        NaN        NaN   \n2020-12-31 21:00:00        161        3.9         NaN        NaN        NaN   \n2020-12-31 22:00:00        164        4.8         NaN        NaN        NaN   \n2020-12-31 23:00:00        140        3.2         NaN        NaN        NaN   \n\n                    PRES_venf1 ATMP_venf1 WTMP_venf1 DEWP_venf1  \ntimestamp                                                        \n2020-01-01 00:00:00     1018.3       17.0       21.3        9.7  \n2020-01-01 01:00:00     1018.9       16.4       21.2       10.1  \n2020-01-01 02:00:00     1019.0       16.1       21.1        9.8  \n2020-01-01 03:00:00     1019.4       16.2       21.0        9.8  \n2020-01-01 04:00:00     1019.4       15.4       21.0        9.2  \n...                        ...        ...        ...        ...  \n2020-12-31 19:00:00     1016.7       21.8       18.0       20.4  \n2020-12-31 20:00:00     1016.4       22.3       18.0       20.6  \n2020-12-31 21:00:00     1016.8       20.2       18.2       20.2  \n2020-12-31 22:00:00     1016.5       20.6       18.0       20.4  \n2020-12-31 23:00:00     1016.8       21.5       18.2       21.5  \n\n[8758 rows x 9 columns]",
      "text/html": "<div>\n<style scoped>\n    .dataframe tbody tr th:only-of-type {\n        vertical-align: middle;\n    }\n\n    .dataframe tbody tr th {\n        vertical-align: top;\n    }\n\n    .dataframe thead th {\n        text-align: right;\n    }\n</style>\n<table border=\"1\" class=\"dataframe\">\n  <thead>\n    <tr style=\"text-align: right;\">\n      <th></th>\n      <th>WDIR_venf1</th>\n      <th>WSPD_venf1</th>\n      <th>WVHT_venf1</th>\n      <th>APD_venf1</th>\n      <th>MWD_venf1</th>\n      <th>PRES_venf1</th>\n      <th>ATMP_venf1</th>\n      <th>WTMP_venf1</th>\n      <th>DEWP_venf1</th>\n    </tr>\n    <tr>\n      <th>timestamp</th>\n      <th></th>\n      <th></th>\n      <th></th>\n      <th></th>\n      <th></th>\n      <th></th>\n      <th></th>\n      <th></th>\n      <th></th>\n    </tr>\n  </thead>\n  <tbody>\n    <tr>\n      <th>2020-01-01 00:00:00</th>\n      <td>14</td>\n      <td>2.9</td>\n      <td>NaN</td>\n      <td>NaN</td>\n      <td>NaN</td>\n      <td>1018.3</td>\n      <td>17.0</td>\n      <td>21.3</td>\n      <td>9.7</td>\n    </tr>\n    <tr>\n      <th>2020-01-01 01:00:00</th>\n      <td>4</td>\n      <td>3.1</td>\n      <td>NaN</td>\n      <td>NaN</td>\n      <td>NaN</td>\n      <td>1018.9</td>\n      <td>16.4</td>\n      <td>21.2</td>\n      <td>10.1</td>\n    </tr>\n    <tr>\n      <th>2020-01-01 02:00:00</th>\n      <td>6</td>\n      <td>2.3</td>\n      <td>NaN</td>\n      <td>NaN</td>\n      <td>NaN</td>\n      <td>1019.0</td>\n      <td>16.1</td>\n      <td>21.1</td>\n      <td>9.8</td>\n    </tr>\n    <tr>\n      <th>2020-01-01 03:00:00</th>\n      <td>355</td>\n      <td>3.2</td>\n      <td>NaN</td>\n      <td>NaN</td>\n      <td>NaN</td>\n      <td>1019.4</td>\n      <td>16.2</td>\n      <td>21.0</td>\n      <td>9.8</td>\n    </tr>\n    <tr>\n      <th>2020-01-01 04:00:00</th>\n      <td>6</td>\n      <td>2.9</td>\n      <td>NaN</td>\n      <td>NaN</td>\n      <td>NaN</td>\n      <td>1019.4</td>\n      <td>15.4</td>\n      <td>21.0</td>\n      <td>9.2</td>\n    </tr>\n    <tr>\n      <th>...</th>\n      <td>...</td>\n      <td>...</td>\n      <td>...</td>\n      <td>...</td>\n      <td>...</td>\n      <td>...</td>\n      <td>...</td>\n      <td>...</td>\n      <td>...</td>\n    </tr>\n    <tr>\n      <th>2020-12-31 19:00:00</th>\n      <td>159</td>\n      <td>5.5</td>\n      <td>NaN</td>\n      <td>NaN</td>\n      <td>NaN</td>\n      <td>1016.7</td>\n      <td>21.8</td>\n      <td>18.0</td>\n      <td>20.4</td>\n    </tr>\n    <tr>\n      <th>2020-12-31 20:00:00</th>\n      <td>175</td>\n      <td>7.4</td>\n      <td>NaN</td>\n      <td>NaN</td>\n      <td>NaN</td>\n      <td>1016.4</td>\n      <td>22.3</td>\n      <td>18.0</td>\n      <td>20.6</td>\n    </tr>\n    <tr>\n      <th>2020-12-31 21:00:00</th>\n      <td>161</td>\n      <td>3.9</td>\n      <td>NaN</td>\n      <td>NaN</td>\n      <td>NaN</td>\n      <td>1016.8</td>\n      <td>20.2</td>\n      <td>18.2</td>\n      <td>20.2</td>\n    </tr>\n    <tr>\n      <th>2020-12-31 22:00:00</th>\n      <td>164</td>\n      <td>4.8</td>\n      <td>NaN</td>\n      <td>NaN</td>\n      <td>NaN</td>\n      <td>1016.5</td>\n      <td>20.6</td>\n      <td>18.0</td>\n      <td>20.4</td>\n    </tr>\n    <tr>\n      <th>2020-12-31 23:00:00</th>\n      <td>140</td>\n      <td>3.2</td>\n      <td>NaN</td>\n      <td>NaN</td>\n      <td>NaN</td>\n      <td>1016.8</td>\n      <td>21.5</td>\n      <td>18.2</td>\n      <td>21.5</td>\n    </tr>\n  </tbody>\n</table>\n<p>8758 rows × 9 columns</p>\n</div>"
     },
     "execution_count": 27,
     "metadata": {},
     "output_type": "execute_result"
    }
   ],
   "source": [
    "df_NDBC = mL.get_data_file(STATION_ID, YEAR)\n",
    "df_NDBC = mL.df_modification(df_NDBC)[1]\n",
    "df_NDBC = mL.replace_with_NaN(df_NDBC)\n",
    "df_NDBC = df_NDBC.filter(timestamp_filter_list, axis=0)\n",
    "df_NDBC.drop([f'GST_{STATION_ID}',\n",
    "              f'DPD_{STATION_ID}',\n",
    "              f'VIS_{STATION_ID}',\n",
    "              f'TIDE_{STATION_ID}'], axis=1, inplace=True)\n",
    "df_NDBC"
   ],
   "metadata": {
    "collapsed": false,
    "pycharm": {
     "name": "#%%\n"
    }
   }
  },
  {
   "cell_type": "code",
   "execution_count": 28,
   "outputs": [
    {
     "name": "stdout",
     "output_type": "stream",
     "text": [
      "2020-01-31 16:00:00\n",
      "2020-02-14 17:00:00\n",
      "2020-08-09 18:00:00\n",
      "2020-08-30 23:00:00\n",
      "2020-08-31 01:00:00\n",
      "2020-08-31 02:00:00\n",
      "2020-08-31 03:00:00\n",
      "2020-08-31 04:00:00\n",
      "2020-08-31 06:00:00\n",
      "2020-09-02 12:00:00\n",
      "2020-09-21 13:00:00\n",
      "2020-09-21 14:00:00\n",
      "2020-10-19 08:00:00\n",
      "2020-10-19 09:00:00\n",
      "2020-10-19 23:00:00\n",
      "2020-11-08 21:00:00\n",
      "2020-11-13 03:00:00\n",
      "2020-11-13 04:00:00\n",
      "2020-11-13 05:00:00\n",
      "2020-11-13 06:00:00\n",
      "2020-11-13 07:00:00\n",
      "2020-11-13 08:00:00\n",
      "2020-11-13 09:00:00\n",
      "2020-11-13 10:00:00\n",
      "2020-11-13 11:00:00\n",
      "2020-11-13 12:00:00\n",
      "Count= 26\n"
     ]
    }
   ],
   "source": [
    "#ISSUE: some of the data rows are missed. Those should be filled up with NaN\n",
    "\n",
    "count = 0\n",
    "for timestamp in timestamp_filter_list:\n",
    "    if not timestamp in df_NDBC.index:  #might must be timestamp instead of index\n",
    "        print(timestamp)\n",
    "        count +=1\n",
    "        # add new record\n",
    "        df_NDBC.loc[timestamp] = [np.NAN]*9\n",
    "\n",
    "print(\"Count=\",count)   # should print 26 timestamps"
   ],
   "metadata": {
    "collapsed": false,
    "pycharm": {
     "name": "#%%\n"
    }
   }
  },
  {
   "cell_type": "code",
   "execution_count": 46,
   "outputs": [
    {
     "data": {
      "text/plain": "                     WDIR_venf1  WSPD_venf1  WVHT_venf1  APD_venf1  MWD_venf1  \\\ntimestamp                                                                       \n2020-01-01 00:00:00        14.0         2.9         NaN        NaN        NaN   \n2020-01-01 01:00:00         4.0         3.1         NaN        NaN        NaN   \n2020-01-01 02:00:00         6.0         2.3         NaN        NaN        NaN   \n2020-01-01 03:00:00       355.0         3.2         NaN        NaN        NaN   \n2020-01-01 04:00:00         6.0         2.9         NaN        NaN        NaN   \n...                         ...         ...         ...        ...        ...   \n2020-12-31 19:00:00       159.0         5.5         NaN        NaN        NaN   \n2020-12-31 20:00:00       175.0         7.4         NaN        NaN        NaN   \n2020-12-31 21:00:00       161.0         3.9         NaN        NaN        NaN   \n2020-12-31 22:00:00       164.0         4.8         NaN        NaN        NaN   \n2020-12-31 23:00:00       140.0         3.2         NaN        NaN        NaN   \n\n                     PRES_venf1  ATMP_venf1  WTMP_venf1  DEWP_venf1  \ntimestamp                                                            \n2020-01-01 00:00:00      1018.3        17.0        21.3         9.7  \n2020-01-01 01:00:00      1018.9        16.4        21.2        10.1  \n2020-01-01 02:00:00      1019.0        16.1        21.1         9.8  \n2020-01-01 03:00:00      1019.4        16.2        21.0         9.8  \n2020-01-01 04:00:00      1019.4        15.4        21.0         9.2  \n...                         ...         ...         ...         ...  \n2020-12-31 19:00:00      1016.7        21.8        18.0        20.4  \n2020-12-31 20:00:00      1016.4        22.3        18.0        20.6  \n2020-12-31 21:00:00      1016.8        20.2        18.2        20.2  \n2020-12-31 22:00:00      1016.5        20.6        18.0        20.4  \n2020-12-31 23:00:00      1016.8        21.5        18.2        21.5  \n\n[8784 rows x 9 columns]",
      "text/html": "<div>\n<style scoped>\n    .dataframe tbody tr th:only-of-type {\n        vertical-align: middle;\n    }\n\n    .dataframe tbody tr th {\n        vertical-align: top;\n    }\n\n    .dataframe thead th {\n        text-align: right;\n    }\n</style>\n<table border=\"1\" class=\"dataframe\">\n  <thead>\n    <tr style=\"text-align: right;\">\n      <th></th>\n      <th>WDIR_venf1</th>\n      <th>WSPD_venf1</th>\n      <th>WVHT_venf1</th>\n      <th>APD_venf1</th>\n      <th>MWD_venf1</th>\n      <th>PRES_venf1</th>\n      <th>ATMP_venf1</th>\n      <th>WTMP_venf1</th>\n      <th>DEWP_venf1</th>\n    </tr>\n    <tr>\n      <th>timestamp</th>\n      <th></th>\n      <th></th>\n      <th></th>\n      <th></th>\n      <th></th>\n      <th></th>\n      <th></th>\n      <th></th>\n      <th></th>\n    </tr>\n  </thead>\n  <tbody>\n    <tr>\n      <th>2020-01-01 00:00:00</th>\n      <td>14.0</td>\n      <td>2.9</td>\n      <td>NaN</td>\n      <td>NaN</td>\n      <td>NaN</td>\n      <td>1018.3</td>\n      <td>17.0</td>\n      <td>21.3</td>\n      <td>9.7</td>\n    </tr>\n    <tr>\n      <th>2020-01-01 01:00:00</th>\n      <td>4.0</td>\n      <td>3.1</td>\n      <td>NaN</td>\n      <td>NaN</td>\n      <td>NaN</td>\n      <td>1018.9</td>\n      <td>16.4</td>\n      <td>21.2</td>\n      <td>10.1</td>\n    </tr>\n    <tr>\n      <th>2020-01-01 02:00:00</th>\n      <td>6.0</td>\n      <td>2.3</td>\n      <td>NaN</td>\n      <td>NaN</td>\n      <td>NaN</td>\n      <td>1019.0</td>\n      <td>16.1</td>\n      <td>21.1</td>\n      <td>9.8</td>\n    </tr>\n    <tr>\n      <th>2020-01-01 03:00:00</th>\n      <td>355.0</td>\n      <td>3.2</td>\n      <td>NaN</td>\n      <td>NaN</td>\n      <td>NaN</td>\n      <td>1019.4</td>\n      <td>16.2</td>\n      <td>21.0</td>\n      <td>9.8</td>\n    </tr>\n    <tr>\n      <th>2020-01-01 04:00:00</th>\n      <td>6.0</td>\n      <td>2.9</td>\n      <td>NaN</td>\n      <td>NaN</td>\n      <td>NaN</td>\n      <td>1019.4</td>\n      <td>15.4</td>\n      <td>21.0</td>\n      <td>9.2</td>\n    </tr>\n    <tr>\n      <th>...</th>\n      <td>...</td>\n      <td>...</td>\n      <td>...</td>\n      <td>...</td>\n      <td>...</td>\n      <td>...</td>\n      <td>...</td>\n      <td>...</td>\n      <td>...</td>\n    </tr>\n    <tr>\n      <th>2020-12-31 19:00:00</th>\n      <td>159.0</td>\n      <td>5.5</td>\n      <td>NaN</td>\n      <td>NaN</td>\n      <td>NaN</td>\n      <td>1016.7</td>\n      <td>21.8</td>\n      <td>18.0</td>\n      <td>20.4</td>\n    </tr>\n    <tr>\n      <th>2020-12-31 20:00:00</th>\n      <td>175.0</td>\n      <td>7.4</td>\n      <td>NaN</td>\n      <td>NaN</td>\n      <td>NaN</td>\n      <td>1016.4</td>\n      <td>22.3</td>\n      <td>18.0</td>\n      <td>20.6</td>\n    </tr>\n    <tr>\n      <th>2020-12-31 21:00:00</th>\n      <td>161.0</td>\n      <td>3.9</td>\n      <td>NaN</td>\n      <td>NaN</td>\n      <td>NaN</td>\n      <td>1016.8</td>\n      <td>20.2</td>\n      <td>18.2</td>\n      <td>20.2</td>\n    </tr>\n    <tr>\n      <th>2020-12-31 22:00:00</th>\n      <td>164.0</td>\n      <td>4.8</td>\n      <td>NaN</td>\n      <td>NaN</td>\n      <td>NaN</td>\n      <td>1016.5</td>\n      <td>20.6</td>\n      <td>18.0</td>\n      <td>20.4</td>\n    </tr>\n    <tr>\n      <th>2020-12-31 23:00:00</th>\n      <td>140.0</td>\n      <td>3.2</td>\n      <td>NaN</td>\n      <td>NaN</td>\n      <td>NaN</td>\n      <td>1016.8</td>\n      <td>21.5</td>\n      <td>18.2</td>\n      <td>21.5</td>\n    </tr>\n  </tbody>\n</table>\n<p>8784 rows × 9 columns</p>\n</div>"
     },
     "execution_count": 46,
     "metadata": {},
     "output_type": "execute_result"
    }
   ],
   "source": [
    "df_NDBC.sort_index(inplace=True)\n",
    "df_NDBC = df_NDBC.astype(float)\n",
    "df_NDBC"
   ],
   "metadata": {
    "collapsed": false,
    "pycharm": {
     "name": "#%%\n"
    }
   }
  },
  {
   "cell_type": "markdown",
   "source": [
    "# Download ERA5 data"
   ],
   "metadata": {
    "collapsed": false,
    "pycharm": {
     "name": "#%% md\n"
    }
   }
  },
  {
   "cell_type": "code",
   "execution_count": 8,
   "outputs": [],
   "source": [
    "api_keyfile = open(\".cdsapirc\", \"r\")\n",
    "lines = api_keyfile.readlines()\n",
    "url = lines[0].rstrip().replace(\"url: \", \"\")\n",
    "key = lines[1].rstrip().replace(\"key: \", \"\")"
   ],
   "metadata": {
    "collapsed": false,
    "pycharm": {
     "name": "#%%\n"
    }
   }
  },
  {
   "cell_type": "markdown",
   "source": [
    "### Following cell only needs to be executed once. It is loaded from disc later on!"
   ],
   "metadata": {
    "collapsed": false,
    "pycharm": {
     "name": "#%% md\n"
    }
   }
  },
  {
   "cell_type": "code",
   "execution_count": 9,
   "outputs": [
    {
     "name": "stderr",
     "output_type": "stream",
     "text": [
      "/opt/homebrew/Caskroom/miniforge/base/envs/Master_Project/lib/python3.8/site-packages/urllib3/connectionpool.py:1045: InsecureRequestWarning: Unverified HTTPS request is being made to host 'cds.climate.copernicus.eu'. Adding certificate verification is strongly advised. See: https://urllib3.readthedocs.io/en/1.26.x/advanced-usage.html#ssl-warnings\n",
      "  warnings.warn(\n",
      "2023-01-15 15:53:30,154 INFO Welcome to the CDS\n",
      "2023-01-15 15:53:30,178 INFO Sending request to https://cds.climate.copernicus.eu/api/v2/resources/reanalysis-era5-single-levels\n",
      "/opt/homebrew/Caskroom/miniforge/base/envs/Master_Project/lib/python3.8/site-packages/urllib3/connectionpool.py:1045: InsecureRequestWarning: Unverified HTTPS request is being made to host 'cds.climate.copernicus.eu'. Adding certificate verification is strongly advised. See: https://urllib3.readthedocs.io/en/1.26.x/advanced-usage.html#ssl-warnings\n",
      "  warnings.warn(\n",
      "2023-01-15 15:53:30,319 INFO Request is queued\n",
      "/opt/homebrew/Caskroom/miniforge/base/envs/Master_Project/lib/python3.8/site-packages/urllib3/connectionpool.py:1045: InsecureRequestWarning: Unverified HTTPS request is being made to host 'cds.climate.copernicus.eu'. Adding certificate verification is strongly advised. See: https://urllib3.readthedocs.io/en/1.26.x/advanced-usage.html#ssl-warnings\n",
      "  warnings.warn(\n",
      "2023-01-15 15:53:31,381 INFO Request is running\n",
      "/opt/homebrew/Caskroom/miniforge/base/envs/Master_Project/lib/python3.8/site-packages/urllib3/connectionpool.py:1045: InsecureRequestWarning: Unverified HTTPS request is being made to host 'cds.climate.copernicus.eu'. Adding certificate verification is strongly advised. See: https://urllib3.readthedocs.io/en/1.26.x/advanced-usage.html#ssl-warnings\n",
      "  warnings.warn(\n",
      "/opt/homebrew/Caskroom/miniforge/base/envs/Master_Project/lib/python3.8/site-packages/urllib3/connectionpool.py:1045: InsecureRequestWarning: Unverified HTTPS request is being made to host 'cds.climate.copernicus.eu'. Adding certificate verification is strongly advised. See: https://urllib3.readthedocs.io/en/1.26.x/advanced-usage.html#ssl-warnings\n",
      "  warnings.warn(\n",
      "/opt/homebrew/Caskroom/miniforge/base/envs/Master_Project/lib/python3.8/site-packages/urllib3/connectionpool.py:1045: InsecureRequestWarning: Unverified HTTPS request is being made to host 'cds.climate.copernicus.eu'. Adding certificate verification is strongly advised. See: https://urllib3.readthedocs.io/en/1.26.x/advanced-usage.html#ssl-warnings\n",
      "  warnings.warn(\n",
      "/opt/homebrew/Caskroom/miniforge/base/envs/Master_Project/lib/python3.8/site-packages/urllib3/connectionpool.py:1045: InsecureRequestWarning: Unverified HTTPS request is being made to host 'cds.climate.copernicus.eu'. Adding certificate verification is strongly advised. See: https://urllib3.readthedocs.io/en/1.26.x/advanced-usage.html#ssl-warnings\n",
      "  warnings.warn(\n",
      "/opt/homebrew/Caskroom/miniforge/base/envs/Master_Project/lib/python3.8/site-packages/urllib3/connectionpool.py:1045: InsecureRequestWarning: Unverified HTTPS request is being made to host 'cds.climate.copernicus.eu'. Adding certificate verification is strongly advised. See: https://urllib3.readthedocs.io/en/1.26.x/advanced-usage.html#ssl-warnings\n",
      "  warnings.warn(\n",
      "/opt/homebrew/Caskroom/miniforge/base/envs/Master_Project/lib/python3.8/site-packages/urllib3/connectionpool.py:1045: InsecureRequestWarning: Unverified HTTPS request is being made to host 'cds.climate.copernicus.eu'. Adding certificate verification is strongly advised. See: https://urllib3.readthedocs.io/en/1.26.x/advanced-usage.html#ssl-warnings\n",
      "  warnings.warn(\n",
      "/opt/homebrew/Caskroom/miniforge/base/envs/Master_Project/lib/python3.8/site-packages/urllib3/connectionpool.py:1045: InsecureRequestWarning: Unverified HTTPS request is being made to host 'cds.climate.copernicus.eu'. Adding certificate verification is strongly advised. See: https://urllib3.readthedocs.io/en/1.26.x/advanced-usage.html#ssl-warnings\n",
      "  warnings.warn(\n",
      "/opt/homebrew/Caskroom/miniforge/base/envs/Master_Project/lib/python3.8/site-packages/urllib3/connectionpool.py:1045: InsecureRequestWarning: Unverified HTTPS request is being made to host 'cds.climate.copernicus.eu'. Adding certificate verification is strongly advised. See: https://urllib3.readthedocs.io/en/1.26.x/advanced-usage.html#ssl-warnings\n",
      "  warnings.warn(\n",
      "/opt/homebrew/Caskroom/miniforge/base/envs/Master_Project/lib/python3.8/site-packages/urllib3/connectionpool.py:1045: InsecureRequestWarning: Unverified HTTPS request is being made to host 'cds.climate.copernicus.eu'. Adding certificate verification is strongly advised. See: https://urllib3.readthedocs.io/en/1.26.x/advanced-usage.html#ssl-warnings\n",
      "  warnings.warn(\n",
      "/opt/homebrew/Caskroom/miniforge/base/envs/Master_Project/lib/python3.8/site-packages/urllib3/connectionpool.py:1045: InsecureRequestWarning: Unverified HTTPS request is being made to host 'cds.climate.copernicus.eu'. Adding certificate verification is strongly advised. See: https://urllib3.readthedocs.io/en/1.26.x/advanced-usage.html#ssl-warnings\n",
      "  warnings.warn(\n",
      "/opt/homebrew/Caskroom/miniforge/base/envs/Master_Project/lib/python3.8/site-packages/urllib3/connectionpool.py:1045: InsecureRequestWarning: Unverified HTTPS request is being made to host 'cds.climate.copernicus.eu'. Adding certificate verification is strongly advised. See: https://urllib3.readthedocs.io/en/1.26.x/advanced-usage.html#ssl-warnings\n",
      "  warnings.warn(\n",
      "/opt/homebrew/Caskroom/miniforge/base/envs/Master_Project/lib/python3.8/site-packages/urllib3/connectionpool.py:1045: InsecureRequestWarning: Unverified HTTPS request is being made to host 'cds.climate.copernicus.eu'. Adding certificate verification is strongly advised. See: https://urllib3.readthedocs.io/en/1.26.x/advanced-usage.html#ssl-warnings\n",
      "  warnings.warn(\n",
      "/opt/homebrew/Caskroom/miniforge/base/envs/Master_Project/lib/python3.8/site-packages/urllib3/connectionpool.py:1045: InsecureRequestWarning: Unverified HTTPS request is being made to host 'cds.climate.copernicus.eu'. Adding certificate verification is strongly advised. See: https://urllib3.readthedocs.io/en/1.26.x/advanced-usage.html#ssl-warnings\n",
      "  warnings.warn(\n",
      "/opt/homebrew/Caskroom/miniforge/base/envs/Master_Project/lib/python3.8/site-packages/urllib3/connectionpool.py:1045: InsecureRequestWarning: Unverified HTTPS request is being made to host 'cds.climate.copernicus.eu'. Adding certificate verification is strongly advised. See: https://urllib3.readthedocs.io/en/1.26.x/advanced-usage.html#ssl-warnings\n",
      "  warnings.warn(\n",
      "/opt/homebrew/Caskroom/miniforge/base/envs/Master_Project/lib/python3.8/site-packages/urllib3/connectionpool.py:1045: InsecureRequestWarning: Unverified HTTPS request is being made to host 'cds.climate.copernicus.eu'. Adding certificate verification is strongly advised. See: https://urllib3.readthedocs.io/en/1.26.x/advanced-usage.html#ssl-warnings\n",
      "  warnings.warn(\n",
      "/opt/homebrew/Caskroom/miniforge/base/envs/Master_Project/lib/python3.8/site-packages/urllib3/connectionpool.py:1045: InsecureRequestWarning: Unverified HTTPS request is being made to host 'cds.climate.copernicus.eu'. Adding certificate verification is strongly advised. See: https://urllib3.readthedocs.io/en/1.26.x/advanced-usage.html#ssl-warnings\n",
      "  warnings.warn(\n",
      "/opt/homebrew/Caskroom/miniforge/base/envs/Master_Project/lib/python3.8/site-packages/urllib3/connectionpool.py:1045: InsecureRequestWarning: Unverified HTTPS request is being made to host 'cds.climate.copernicus.eu'. Adding certificate verification is strongly advised. See: https://urllib3.readthedocs.io/en/1.26.x/advanced-usage.html#ssl-warnings\n",
      "  warnings.warn(\n",
      "/opt/homebrew/Caskroom/miniforge/base/envs/Master_Project/lib/python3.8/site-packages/urllib3/connectionpool.py:1045: InsecureRequestWarning: Unverified HTTPS request is being made to host 'cds.climate.copernicus.eu'. Adding certificate verification is strongly advised. See: https://urllib3.readthedocs.io/en/1.26.x/advanced-usage.html#ssl-warnings\n",
      "  warnings.warn(\n",
      "/opt/homebrew/Caskroom/miniforge/base/envs/Master_Project/lib/python3.8/site-packages/urllib3/connectionpool.py:1045: InsecureRequestWarning: Unverified HTTPS request is being made to host 'cds.climate.copernicus.eu'. Adding certificate verification is strongly advised. See: https://urllib3.readthedocs.io/en/1.26.x/advanced-usage.html#ssl-warnings\n",
      "  warnings.warn(\n",
      "2023-01-15 16:13:51,361 INFO Request is queued\n",
      "/opt/homebrew/Caskroom/miniforge/base/envs/Master_Project/lib/python3.8/site-packages/urllib3/connectionpool.py:1045: InsecureRequestWarning: Unverified HTTPS request is being made to host 'cds.climate.copernicus.eu'. Adding certificate verification is strongly advised. See: https://urllib3.readthedocs.io/en/1.26.x/advanced-usage.html#ssl-warnings\n",
      "  warnings.warn(\n",
      "2023-01-15 16:15:51,642 INFO Request is running\n",
      "/opt/homebrew/Caskroom/miniforge/base/envs/Master_Project/lib/python3.8/site-packages/urllib3/connectionpool.py:1045: InsecureRequestWarning: Unverified HTTPS request is being made to host 'cds.climate.copernicus.eu'. Adding certificate verification is strongly advised. See: https://urllib3.readthedocs.io/en/1.26.x/advanced-usage.html#ssl-warnings\n",
      "  warnings.warn(\n",
      "/opt/homebrew/Caskroom/miniforge/base/envs/Master_Project/lib/python3.8/site-packages/urllib3/connectionpool.py:1045: InsecureRequestWarning: Unverified HTTPS request is being made to host 'cds.climate.copernicus.eu'. Adding certificate verification is strongly advised. See: https://urllib3.readthedocs.io/en/1.26.x/advanced-usage.html#ssl-warnings\n",
      "  warnings.warn(\n",
      "/opt/homebrew/Caskroom/miniforge/base/envs/Master_Project/lib/python3.8/site-packages/urllib3/connectionpool.py:1045: InsecureRequestWarning: Unverified HTTPS request is being made to host 'cds.climate.copernicus.eu'. Adding certificate verification is strongly advised. See: https://urllib3.readthedocs.io/en/1.26.x/advanced-usage.html#ssl-warnings\n",
      "  warnings.warn(\n",
      "/opt/homebrew/Caskroom/miniforge/base/envs/Master_Project/lib/python3.8/site-packages/urllib3/connectionpool.py:1045: InsecureRequestWarning: Unverified HTTPS request is being made to host 'cds.climate.copernicus.eu'. Adding certificate verification is strongly advised. See: https://urllib3.readthedocs.io/en/1.26.x/advanced-usage.html#ssl-warnings\n",
      "  warnings.warn(\n",
      "/opt/homebrew/Caskroom/miniforge/base/envs/Master_Project/lib/python3.8/site-packages/urllib3/connectionpool.py:1045: InsecureRequestWarning: Unverified HTTPS request is being made to host 'cds.climate.copernicus.eu'. Adding certificate verification is strongly advised. See: https://urllib3.readthedocs.io/en/1.26.x/advanced-usage.html#ssl-warnings\n",
      "  warnings.warn(\n",
      "/opt/homebrew/Caskroom/miniforge/base/envs/Master_Project/lib/python3.8/site-packages/urllib3/connectionpool.py:1045: InsecureRequestWarning: Unverified HTTPS request is being made to host 'cds.climate.copernicus.eu'. Adding certificate verification is strongly advised. See: https://urllib3.readthedocs.io/en/1.26.x/advanced-usage.html#ssl-warnings\n",
      "  warnings.warn(\n",
      "/opt/homebrew/Caskroom/miniforge/base/envs/Master_Project/lib/python3.8/site-packages/urllib3/connectionpool.py:1045: InsecureRequestWarning: Unverified HTTPS request is being made to host 'cds.climate.copernicus.eu'. Adding certificate verification is strongly advised. See: https://urllib3.readthedocs.io/en/1.26.x/advanced-usage.html#ssl-warnings\n",
      "  warnings.warn(\n",
      "/opt/homebrew/Caskroom/miniforge/base/envs/Master_Project/lib/python3.8/site-packages/urllib3/connectionpool.py:1045: InsecureRequestWarning: Unverified HTTPS request is being made to host 'cds.climate.copernicus.eu'. Adding certificate verification is strongly advised. See: https://urllib3.readthedocs.io/en/1.26.x/advanced-usage.html#ssl-warnings\n",
      "  warnings.warn(\n",
      "/opt/homebrew/Caskroom/miniforge/base/envs/Master_Project/lib/python3.8/site-packages/urllib3/connectionpool.py:1045: InsecureRequestWarning: Unverified HTTPS request is being made to host 'cds.climate.copernicus.eu'. Adding certificate verification is strongly advised. See: https://urllib3.readthedocs.io/en/1.26.x/advanced-usage.html#ssl-warnings\n",
      "  warnings.warn(\n",
      "/opt/homebrew/Caskroom/miniforge/base/envs/Master_Project/lib/python3.8/site-packages/urllib3/connectionpool.py:1045: InsecureRequestWarning: Unverified HTTPS request is being made to host 'cds.climate.copernicus.eu'. Adding certificate verification is strongly advised. See: https://urllib3.readthedocs.io/en/1.26.x/advanced-usage.html#ssl-warnings\n",
      "  warnings.warn(\n",
      "/opt/homebrew/Caskroom/miniforge/base/envs/Master_Project/lib/python3.8/site-packages/urllib3/connectionpool.py:1045: InsecureRequestWarning: Unverified HTTPS request is being made to host 'cds.climate.copernicus.eu'. Adding certificate verification is strongly advised. See: https://urllib3.readthedocs.io/en/1.26.x/advanced-usage.html#ssl-warnings\n",
      "  warnings.warn(\n",
      "/opt/homebrew/Caskroom/miniforge/base/envs/Master_Project/lib/python3.8/site-packages/urllib3/connectionpool.py:1045: InsecureRequestWarning: Unverified HTTPS request is being made to host 'cds.climate.copernicus.eu'. Adding certificate verification is strongly advised. See: https://urllib3.readthedocs.io/en/1.26.x/advanced-usage.html#ssl-warnings\n",
      "  warnings.warn(\n",
      "/opt/homebrew/Caskroom/miniforge/base/envs/Master_Project/lib/python3.8/site-packages/urllib3/connectionpool.py:1045: InsecureRequestWarning: Unverified HTTPS request is being made to host 'cds.climate.copernicus.eu'. Adding certificate verification is strongly advised. See: https://urllib3.readthedocs.io/en/1.26.x/advanced-usage.html#ssl-warnings\n",
      "  warnings.warn(\n",
      "/opt/homebrew/Caskroom/miniforge/base/envs/Master_Project/lib/python3.8/site-packages/urllib3/connectionpool.py:1045: InsecureRequestWarning: Unverified HTTPS request is being made to host 'cds.climate.copernicus.eu'. Adding certificate verification is strongly advised. See: https://urllib3.readthedocs.io/en/1.26.x/advanced-usage.html#ssl-warnings\n",
      "  warnings.warn(\n",
      "/opt/homebrew/Caskroom/miniforge/base/envs/Master_Project/lib/python3.8/site-packages/urllib3/connectionpool.py:1045: InsecureRequestWarning: Unverified HTTPS request is being made to host 'cds.climate.copernicus.eu'. Adding certificate verification is strongly advised. See: https://urllib3.readthedocs.io/en/1.26.x/advanced-usage.html#ssl-warnings\n",
      "  warnings.warn(\n",
      "/opt/homebrew/Caskroom/miniforge/base/envs/Master_Project/lib/python3.8/site-packages/urllib3/connectionpool.py:1045: InsecureRequestWarning: Unverified HTTPS request is being made to host 'cds.climate.copernicus.eu'. Adding certificate verification is strongly advised. See: https://urllib3.readthedocs.io/en/1.26.x/advanced-usage.html#ssl-warnings\n",
      "  warnings.warn(\n",
      "/opt/homebrew/Caskroom/miniforge/base/envs/Master_Project/lib/python3.8/site-packages/urllib3/connectionpool.py:1045: InsecureRequestWarning: Unverified HTTPS request is being made to host 'cds.climate.copernicus.eu'. Adding certificate verification is strongly advised. See: https://urllib3.readthedocs.io/en/1.26.x/advanced-usage.html#ssl-warnings\n",
      "  warnings.warn(\n",
      "/opt/homebrew/Caskroom/miniforge/base/envs/Master_Project/lib/python3.8/site-packages/urllib3/connectionpool.py:1045: InsecureRequestWarning: Unverified HTTPS request is being made to host 'cds.climate.copernicus.eu'. Adding certificate verification is strongly advised. See: https://urllib3.readthedocs.io/en/1.26.x/advanced-usage.html#ssl-warnings\n",
      "  warnings.warn(\n",
      "2023-01-15 16:51:57,317 INFO Request is completed\n",
      "2023-01-15 16:51:57,327 INFO Downloading https://download-0008-clone.copernicus-climate.eu/cache-compute-0008/cache/data5/adaptor.mars.internal-1673797517.6387904-22568-3-08cb4a74-d3d5-47d7-990e-f0772f0edeba.nc to ERA5_downloads/singleStations/venf1_2020.nc (191.8K)\n",
      "/opt/homebrew/Caskroom/miniforge/base/envs/Master_Project/lib/python3.8/site-packages/urllib3/connectionpool.py:1045: InsecureRequestWarning: Unverified HTTPS request is being made to host 'download-0008-clone.copernicus-climate.eu'. Adding certificate verification is strongly advised. See: https://urllib3.readthedocs.io/en/1.26.x/advanced-usage.html#ssl-warnings\n",
      "  warnings.warn(\n",
      "2023-01-15 16:51:58,100 INFO Download rate 248.8K/s\n"
     ]
    },
    {
     "data": {
      "text/plain": "Result(content_length=196368,content_type=application/x-netcdf,location=https://download-0008-clone.copernicus-climate.eu/cache-compute-0008/cache/data5/adaptor.mars.internal-1673797517.6387904-22568-3-08cb4a74-d3d5-47d7-990e-f0772f0edeba.nc)"
     },
     "execution_count": 9,
     "metadata": {},
     "output_type": "execute_result"
    }
   ],
   "source": [
    "# https://stackoverflow.com/questions/65186216/how-to-download-era5-data-for-specific-location-via-python\n",
    "\n",
    "# c = cdsapi.Client(url, key)\n",
    "#\n",
    "# c.retrieve(\n",
    "#   'reanalysis-era5-single-levels',\n",
    "#   {\n",
    "#     'product_type': 'reanalysis',\n",
    "#\n",
    "#     'variable': [\n",
    "#         '10m_u_component_of_wind', '10m_v_component_of_wind', '2m_dewpoint_temperature',\n",
    "#         '2m_temperature', 'mean_sea_level_pressure', 'mean_wave_direction',\n",
    "#         'mean_wave_period', 'sea_surface_temperature', 'significant_height_of_total_swell',\n",
    "#     ],\n",
    "#\n",
    "#     'year': YEAR,\n",
    "#     'month': [\n",
    "#         '01', '02', '03', '04', '05', '06',\n",
    "#         '07', '08', '09', '10', '11', '12',\n",
    "#     ],\n",
    "#     'day': [\n",
    "#         '01', '02', '03', '04', '05', '06', '07', '08', '09', '10',\n",
    "#         '11', '12', '13', '14', '15', '16', '17', '18', '19', '20',\n",
    "#         '21', '22', '23', '24', '25', '26', '27', '28', '29', '30', '31',\n",
    "#     ],\n",
    "#     'time': [\n",
    "#         '00:00', '01:00', '02:00', '03:00', '04:00', '05:00',\n",
    "#         '06:00', '07:00', '08:00', '09:00', '10:00', '11:00',\n",
    "#         '12:00', '13:00', '14:00', '15:00', '16:00', '17:00',\n",
    "#         '18:00', '19:00', '20:00', '21:00', '22:00', '23:00',\n",
    "#     ],\n",
    "#     #'area': station_point_coord,  # Area: NORTH, WEST, SOUTH, EAST\n",
    "#     'area': COORDS,\n",
    "#     'format': 'netcdf',\n",
    "#   },\n",
    "#   f'ERA5_downloads/singleStations/{STATION_ID}_{YEAR}.nc')"
   ],
   "metadata": {
    "collapsed": false,
    "pycharm": {
     "name": "#%%\n"
    }
   }
  },
  {
   "cell_type": "code",
   "execution_count": 32,
   "outputs": [
    {
     "data": {
      "text/plain": "<class 'netCDF4._netCDF4.Dataset'>\nroot group (NETCDF3_64BIT_OFFSET data model, file format NETCDF3):\n    Conventions: CF-1.6\n    history: 2023-01-15 15:50:26 GMT by grib_to_netcdf-2.25.1: /opt/ecmwf/mars-client/bin/grib_to_netcdf.bin -S param -o /cache/data5/adaptor.mars.internal-1673797517.6387904-22568-3-08cb4a74-d3d5-47d7-990e-f0772f0edeba.nc /cache/tmp/08cb4a74-d3d5-47d7-990e-f0772f0edeba-adaptor.mars.internal-1673795745.7986693-22568-5-tmp.grib\n    dimensions(sizes): longitude(1), latitude(1), time(8784)\n    variables(dimensions): float32 longitude(longitude), float32 latitude(latitude), int32 time(time), int16 u10(time, latitude, longitude), int16 v10(time, latitude, longitude), int16 d2m(time, latitude, longitude), int16 t2m(time, latitude, longitude), int16 msl(time, latitude, longitude), int16 mwd(time, latitude, longitude), int16 mwp(time, latitude, longitude), int16 sst(time, latitude, longitude), int16 shts(time, latitude, longitude)\n    groups: "
     },
     "execution_count": 32,
     "metadata": {},
     "output_type": "execute_result"
    }
   ],
   "source": [
    "ds_ERA5 = nc.Dataset(f'ERA5_downloads/singleStations/{STATION_ID}_{YEAR}.nc')\n",
    "ds_ERA5"
   ],
   "metadata": {
    "collapsed": false,
    "pycharm": {
     "name": "#%%\n"
    }
   }
  },
  {
   "cell_type": "code",
   "execution_count": 33,
   "outputs": [
    {
     "name": "stdout",
     "output_type": "stream",
     "text": [
      "<class 'netCDF4._netCDF4.Dimension'>: name = 'longitude', size = 1\n",
      "<class 'netCDF4._netCDF4.Dimension'>: name = 'latitude', size = 1\n",
      "<class 'netCDF4._netCDF4.Dimension'>: name = 'time', size = 8784\n"
     ]
    }
   ],
   "source": [
    "print(ds_ERA5.dimensions.get(\"longitude\"))\n",
    "print(ds_ERA5.dimensions.get(\"latitude\"))\n",
    "print(ds_ERA5.dimensions.get(\"time\"))"
   ],
   "metadata": {
    "collapsed": false,
    "pycharm": {
     "name": "#%%\n"
    }
   }
  },
  {
   "cell_type": "code",
   "execution_count": 34,
   "outputs": [
    {
     "name": "stdout",
     "output_type": "stream",
     "text": [
      "<class 'netCDF4._netCDF4.Variable'>\n",
      "int16 u10(time, latitude, longitude)\n",
      "    scale_factor: 0.0003821293659718672\n",
      "    add_offset: -1.4489673098001734\n",
      "    _FillValue: -32767\n",
      "    missing_value: -32767\n",
      "    units: m s**-1\n",
      "    long_name: 10 metre U wind component\n",
      "unlimited dimensions: \n",
      "current shape = (8784, 1, 1)\n",
      "filling on\n",
      "\n",
      "Datatype: int16\n",
      "Shape: (8784, 1, 1)\n",
      "Dimension: ('time', 'latitude', 'longitude')\n"
     ]
    }
   ],
   "source": [
    "print(ds_ERA5.variables[\"u10\"])\n",
    "print(\"\\nDatatype:\", ds_ERA5.variables[\"u10\"].datatype)\n",
    "print(\"Shape:\", ds_ERA5.variables[\"u10\"].shape)\n",
    "print(\"Dimension:\", ds_ERA5.variables[\"u10\"].dimensions)"
   ],
   "metadata": {
    "collapsed": false,
    "pycharm": {
     "name": "#%%\n"
    }
   }
  },
  {
   "cell_type": "code",
   "execution_count": 35,
   "outputs": [
    {
     "name": "stdout",
     "output_type": "stream",
     "text": [
      "\n",
      "-------------------------------------------------\n",
      "------ u10 : ------\n",
      "<class 'netCDF4._netCDF4.Variable'>\n",
      "int16 u10(time, latitude, longitude)\n",
      "    scale_factor: 0.0003821293659718672\n",
      "    add_offset: -1.4489673098001734\n",
      "    _FillValue: -32767\n",
      "    missing_value: -32767\n",
      "    units: m s**-1\n",
      "    long_name: 10 metre U wind component\n",
      "unlimited dimensions: \n",
      "current shape = (8784, 1, 1)\n",
      "filling on\n",
      "\n",
      "Datatype: int16\n",
      "Shape: (8784, 1, 1)\n",
      "Dimension: ('time', 'latitude', 'longitude')\n",
      "\n",
      "-------------------------------------------------\n",
      "------ v10 : ------\n",
      "<class 'netCDF4._netCDF4.Variable'>\n",
      "int16 v10(time, latitude, longitude)\n",
      "    scale_factor: 0.0004379782150548197\n",
      "    add_offset: 3.1661781056190352\n",
      "    _FillValue: -32767\n",
      "    missing_value: -32767\n",
      "    units: m s**-1\n",
      "    long_name: 10 metre V wind component\n",
      "unlimited dimensions: \n",
      "current shape = (8784, 1, 1)\n",
      "filling on\n",
      "\n",
      "Datatype: int16\n",
      "Shape: (8784, 1, 1)\n",
      "Dimension: ('time', 'latitude', 'longitude')\n",
      "\n",
      "-------------------------------------------------\n",
      "------ d2m : ------\n",
      "<class 'netCDF4._netCDF4.Variable'>\n",
      "int16 d2m(time, latitude, longitude)\n",
      "    scale_factor: 0.00041637240493339235\n",
      "    add_offset: 285.5759636887975\n",
      "    _FillValue: -32767\n",
      "    missing_value: -32767\n",
      "    units: K\n",
      "    long_name: 2 metre dewpoint temperature\n",
      "unlimited dimensions: \n",
      "current shape = (8784, 1, 1)\n",
      "filling on\n",
      "\n",
      "Datatype: int16\n",
      "Shape: (8784, 1, 1)\n",
      "Dimension: ('time', 'latitude', 'longitude')\n",
      "\n",
      "-------------------------------------------------\n",
      "------ t2m : ------\n",
      "<class 'netCDF4._netCDF4.Variable'>\n",
      "int16 t2m(time, latitude, longitude)\n",
      "    scale_factor: 0.00039165769774388476\n",
      "    add_offset: 292.75029245240114\n",
      "    _FillValue: -32767\n",
      "    missing_value: -32767\n",
      "    units: K\n",
      "    long_name: 2 metre temperature\n",
      "unlimited dimensions: \n",
      "current shape = (8784, 1, 1)\n",
      "filling on\n",
      "\n",
      "Datatype: int16\n",
      "Shape: (8784, 1, 1)\n",
      "Dimension: ('time', 'latitude', 'longitude')\n",
      "\n",
      "-------------------------------------------------\n",
      "------ msl : ------\n",
      "<class 'netCDF4._netCDF4.Variable'>\n",
      "int16 msl(time, latitude, longitude)\n",
      "    scale_factor: 0.04188633970671265\n",
      "    add_offset: 101791.94780683014\n",
      "    _FillValue: -32767\n",
      "    missing_value: -32767\n",
      "    units: Pa\n",
      "    long_name: Mean sea level pressure\n",
      "    standard_name: air_pressure_at_mean_sea_level\n",
      "unlimited dimensions: \n",
      "current shape = (8784, 1, 1)\n",
      "filling on\n",
      "\n",
      "Datatype: int16\n",
      "Shape: (8784, 1, 1)\n",
      "Dimension: ('time', 'latitude', 'longitude')\n",
      "\n",
      "-------------------------------------------------\n",
      "------ mwd : ------\n",
      "<class 'netCDF4._netCDF4.Variable'>\n",
      "int16 mwd(time, latitude, longitude)\n",
      "    scale_factor: 0.005491582728071837\n",
      "    add_offset: 180.0475431242701\n",
      "    _FillValue: -32767\n",
      "    missing_value: -32767\n",
      "    units: Degree true\n",
      "    long_name: Mean wave direction\n",
      "unlimited dimensions: \n",
      "current shape = (8784, 1, 1)\n",
      "filling on\n",
      "\n",
      "Datatype: int16\n",
      "Shape: (8784, 1, 1)\n",
      "Dimension: ('time', 'latitude', 'longitude')\n",
      "\n",
      "-------------------------------------------------\n",
      "------ mwp : ------\n",
      "<class 'netCDF4._netCDF4.Variable'>\n",
      "int16 mwp(time, latitude, longitude)\n",
      "    scale_factor: 9.963180367128369e-05\n",
      "    add_offset: 5.2893111841591995\n",
      "    _FillValue: -32767\n",
      "    missing_value: -32767\n",
      "    units: s\n",
      "    long_name: Mean wave period\n",
      "unlimited dimensions: \n",
      "current shape = (8784, 1, 1)\n",
      "filling on\n",
      "\n",
      "Datatype: int16\n",
      "Shape: (8784, 1, 1)\n",
      "Dimension: ('time', 'latitude', 'longitude')\n",
      "\n",
      "-------------------------------------------------\n",
      "------ sst : ------\n",
      "<class 'netCDF4._netCDF4.Variable'>\n",
      "int16 sst(time, latitude, longitude)\n",
      "    scale_factor: 0.00021504850132757542\n",
      "    add_offset: 297.42079091324933\n",
      "    _FillValue: -32767\n",
      "    missing_value: -32767\n",
      "    units: K\n",
      "    long_name: Sea surface temperature\n",
      "unlimited dimensions: \n",
      "current shape = (8784, 1, 1)\n",
      "filling on\n",
      "\n",
      "Datatype: int16\n",
      "Shape: (8784, 1, 1)\n",
      "Dimension: ('time', 'latitude', 'longitude')\n",
      "\n",
      "-------------------------------------------------\n",
      "------ shts : ------\n",
      "<class 'netCDF4._netCDF4.Variable'>\n",
      "int16 shts(time, latitude, longitude)\n",
      "    scale_factor: 2.9591335424518945e-05\n",
      "    add_offset: 0.9826512199572878\n",
      "    _FillValue: -32767\n",
      "    missing_value: -32767\n",
      "    units: m\n",
      "    long_name: Significant height of total swell\n",
      "unlimited dimensions: \n",
      "current shape = (8784, 1, 1)\n",
      "filling on\n",
      "\n",
      "Datatype: int16\n",
      "Shape: (8784, 1, 1)\n",
      "Dimension: ('time', 'latitude', 'longitude')\n"
     ]
    }
   ],
   "source": [
    "features_ERA5 = [\"u10\", \"v10\", \"d2m\", \"t2m\", \"msl\", \"mwd\", \"mwp\", \"sst\", \"shts\"]\n",
    "\n",
    "for feature in features_ERA5:\n",
    "    print(\"\\n-------------------------------------------------\")\n",
    "    print(\"------\",feature,\": ------\")\n",
    "    print(ds_ERA5.variables[feature])\n",
    "    print(\"\\nDatatype:\", ds_ERA5.variables[feature].datatype)\n",
    "    print(\"Shape:\", ds_ERA5.variables[feature].shape)\n",
    "    print(\"Dimension:\", ds_ERA5.variables[feature].dimensions)"
   ],
   "metadata": {
    "collapsed": false,
    "pycharm": {
     "name": "#%%\n"
    }
   }
  },
  {
   "cell_type": "markdown",
   "source": [
    "# Build Dataframe"
   ],
   "metadata": {
    "collapsed": false,
    "pycharm": {
     "name": "#%% md\n"
    }
   }
  },
  {
   "cell_type": "code",
   "execution_count": 36,
   "outputs": [],
   "source": [
    "u10 = ds_ERA5.variables[\"u10\"][:, :, 0].data\n",
    "v10 = ds_ERA5.variables[\"v10\"][:, :, 0].data\n",
    "d2m = ds_ERA5.variables[\"d2m\"][:, :, 0].data\n",
    "t2m = ds_ERA5.variables[\"t2m\"][:, :, 0].data\n",
    "msl = ds_ERA5.variables[\"msl\"][:, :, 0].data\n",
    "mwd = ds_ERA5.variables[\"mwd\"][:, :, 0].data\n",
    "mwp = ds_ERA5.variables[\"mwp\"][:, :, 0].data\n",
    "sst = ds_ERA5.variables[\"sst\"][:, :, 0].data\n",
    "shts = ds_ERA5.variables[\"shts\"][:, :, 0].data"
   ],
   "metadata": {
    "collapsed": false,
    "pycharm": {
     "name": "#%%\n"
    }
   }
  },
  {
   "cell_type": "markdown",
   "source": [
    "## Convert units"
   ],
   "metadata": {
    "collapsed": false,
    "pycharm": {
     "name": "#%% md\n"
    }
   }
  },
  {
   "cell_type": "markdown",
   "source": [
    "# TODO: WDIR and WSPD do not match at all!! Something must be wrong here!!\n",
    "# I also could convert WDIR and WSPD to u / v coordinates!!"
   ],
   "metadata": {
    "collapsed": false,
    "pycharm": {
     "name": "#%% md\n"
    }
   }
  },
  {
   "cell_type": "code",
   "execution_count": 37,
   "outputs": [],
   "source": [
    "import math\n",
    "\n",
    "#v ... x-axis (North is plus)\n",
    "#u ... y-axis (East is plus)\n",
    "def calc_WDIR(v, u):\n",
    "    alpha = math.atan(u / v)    # angle in triangle of v, u and WSPD vectors\n",
    "\n",
    "    if v > 0:   # East-Wind\n",
    "        WDIR = 90 - alpha\n",
    "    else: # v < 0 ... West-Wind\n",
    "        WDIR = 270 - alpha\n",
    "\n",
    "    return WDIR\n",
    "\n",
    "def calcWSPD(v, u):\n",
    "    return math.sqrt( (u*u) + (v*v) ) # Pythagoras"
   ],
   "metadata": {
    "collapsed": false,
    "pycharm": {
     "name": "#%%\n"
    }
   }
  },
  {
   "cell_type": "code",
   "execution_count": 38,
   "outputs": [],
   "source": [
    "WDIR = []\n",
    "WSPD = []\n",
    "for v, u in zip(v10, u10):\n",
    "    WDIR.append(calc_WDIR(v,u))\n",
    "    WSPD.append(calcWSPD(v,u))"
   ],
   "metadata": {
    "collapsed": false,
    "pycharm": {
     "name": "#%%\n"
    }
   }
  },
  {
   "cell_type": "code",
   "execution_count": 39,
   "outputs": [
    {
     "data": {
      "text/plain": "                     WDIR_venf1  WSPD_venf1  DEWP_venf1  ATMP_venf1  \\\ntimestamp                                                             \n2020-01-01 00:00:00  270.111896    4.442570   10.635562   17.774776   \n2020-01-01 01:00:00  270.200195    4.308565   10.366586   17.602055   \n2020-01-01 02:00:00  270.263017    4.410999   10.126339   17.460275   \n2020-01-01 03:00:00  270.281309    4.528859    9.946882   17.378810   \n2020-01-01 04:00:00  270.324733    4.762225    9.968534   17.280504   \n...                         ...         ...         ...         ...   \n2020-12-31 19:00:00   90.549150    7.172263   17.655601   21.486124   \n2020-12-31 20:00:00   90.504084    7.025260   17.556921   21.627513   \n2020-12-31 21:00:00   90.500948    6.816423   17.522362   21.594222   \n2020-12-31 22:00:00   90.702485    6.374275   18.051571   21.359227   \n2020-12-31 23:00:00   90.689197    6.751119   18.075304   21.291079   \n\n                      PRES_venf1   MWD_venf1  APD_venf1  WTMP_venf1  \\\ntimestamp                                                             \n2020-01-01 00:00:00  1018.435518  316.299202   4.598464   20.700986   \n2020-01-01 01:00:00  1019.065488  314.695660   4.664421   20.700986   \n2020-01-01 02:00:00  1019.034911  313.602835   4.688731   20.700986   \n2020-01-01 03:00:00  1019.386338  312.861471   4.691221   20.700986   \n2020-01-01 04:00:00  1019.610011  312.751640   4.642502   20.700986   \n...                          ...         ...        ...         ...   \n2020-12-31 19:00:00  1017.001330  148.037107   3.981345   18.113092   \n2020-12-31 20:00:00  1016.799437  150.524794   3.988917   18.113092   \n2020-12-31 21:00:00  1016.776400  152.430374   4.001371   18.113092   \n2020-12-31 22:00:00  1016.739540  153.616555   4.062047   18.462976   \n2020-12-31 23:00:00  1017.034420  154.127273   4.069818   18.462976   \n\n                     WVHT_venf1  \ntimestamp                        \n2020-01-01 00:00:00    0.551150  \n2020-01-01 01:00:00    0.543338  \n2020-01-01 02:00:00    0.522328  \n2020-01-01 03:00:00    0.501111  \n2020-01-01 04:00:00    0.472645  \n...                         ...  \n2020-12-31 19:00:00    0.461400  \n2020-12-31 20:00:00    0.477350  \n2020-12-31 21:00:00    0.478740  \n2020-12-31 22:00:00    0.562750  \n2020-12-31 23:00:00    0.495104  \n\n[8784 rows x 9 columns]",
      "text/html": "<div>\n<style scoped>\n    .dataframe tbody tr th:only-of-type {\n        vertical-align: middle;\n    }\n\n    .dataframe tbody tr th {\n        vertical-align: top;\n    }\n\n    .dataframe thead th {\n        text-align: right;\n    }\n</style>\n<table border=\"1\" class=\"dataframe\">\n  <thead>\n    <tr style=\"text-align: right;\">\n      <th></th>\n      <th>WDIR_venf1</th>\n      <th>WSPD_venf1</th>\n      <th>DEWP_venf1</th>\n      <th>ATMP_venf1</th>\n      <th>PRES_venf1</th>\n      <th>MWD_venf1</th>\n      <th>APD_venf1</th>\n      <th>WTMP_venf1</th>\n      <th>WVHT_venf1</th>\n    </tr>\n    <tr>\n      <th>timestamp</th>\n      <th></th>\n      <th></th>\n      <th></th>\n      <th></th>\n      <th></th>\n      <th></th>\n      <th></th>\n      <th></th>\n      <th></th>\n    </tr>\n  </thead>\n  <tbody>\n    <tr>\n      <th>2020-01-01 00:00:00</th>\n      <td>270.111896</td>\n      <td>4.442570</td>\n      <td>10.635562</td>\n      <td>17.774776</td>\n      <td>1018.435518</td>\n      <td>316.299202</td>\n      <td>4.598464</td>\n      <td>20.700986</td>\n      <td>0.551150</td>\n    </tr>\n    <tr>\n      <th>2020-01-01 01:00:00</th>\n      <td>270.200195</td>\n      <td>4.308565</td>\n      <td>10.366586</td>\n      <td>17.602055</td>\n      <td>1019.065488</td>\n      <td>314.695660</td>\n      <td>4.664421</td>\n      <td>20.700986</td>\n      <td>0.543338</td>\n    </tr>\n    <tr>\n      <th>2020-01-01 02:00:00</th>\n      <td>270.263017</td>\n      <td>4.410999</td>\n      <td>10.126339</td>\n      <td>17.460275</td>\n      <td>1019.034911</td>\n      <td>313.602835</td>\n      <td>4.688731</td>\n      <td>20.700986</td>\n      <td>0.522328</td>\n    </tr>\n    <tr>\n      <th>2020-01-01 03:00:00</th>\n      <td>270.281309</td>\n      <td>4.528859</td>\n      <td>9.946882</td>\n      <td>17.378810</td>\n      <td>1019.386338</td>\n      <td>312.861471</td>\n      <td>4.691221</td>\n      <td>20.700986</td>\n      <td>0.501111</td>\n    </tr>\n    <tr>\n      <th>2020-01-01 04:00:00</th>\n      <td>270.324733</td>\n      <td>4.762225</td>\n      <td>9.968534</td>\n      <td>17.280504</td>\n      <td>1019.610011</td>\n      <td>312.751640</td>\n      <td>4.642502</td>\n      <td>20.700986</td>\n      <td>0.472645</td>\n    </tr>\n    <tr>\n      <th>...</th>\n      <td>...</td>\n      <td>...</td>\n      <td>...</td>\n      <td>...</td>\n      <td>...</td>\n      <td>...</td>\n      <td>...</td>\n      <td>...</td>\n      <td>...</td>\n    </tr>\n    <tr>\n      <th>2020-12-31 19:00:00</th>\n      <td>90.549150</td>\n      <td>7.172263</td>\n      <td>17.655601</td>\n      <td>21.486124</td>\n      <td>1017.001330</td>\n      <td>148.037107</td>\n      <td>3.981345</td>\n      <td>18.113092</td>\n      <td>0.461400</td>\n    </tr>\n    <tr>\n      <th>2020-12-31 20:00:00</th>\n      <td>90.504084</td>\n      <td>7.025260</td>\n      <td>17.556921</td>\n      <td>21.627513</td>\n      <td>1016.799437</td>\n      <td>150.524794</td>\n      <td>3.988917</td>\n      <td>18.113092</td>\n      <td>0.477350</td>\n    </tr>\n    <tr>\n      <th>2020-12-31 21:00:00</th>\n      <td>90.500948</td>\n      <td>6.816423</td>\n      <td>17.522362</td>\n      <td>21.594222</td>\n      <td>1016.776400</td>\n      <td>152.430374</td>\n      <td>4.001371</td>\n      <td>18.113092</td>\n      <td>0.478740</td>\n    </tr>\n    <tr>\n      <th>2020-12-31 22:00:00</th>\n      <td>90.702485</td>\n      <td>6.374275</td>\n      <td>18.051571</td>\n      <td>21.359227</td>\n      <td>1016.739540</td>\n      <td>153.616555</td>\n      <td>4.062047</td>\n      <td>18.462976</td>\n      <td>0.562750</td>\n    </tr>\n    <tr>\n      <th>2020-12-31 23:00:00</th>\n      <td>90.689197</td>\n      <td>6.751119</td>\n      <td>18.075304</td>\n      <td>21.291079</td>\n      <td>1017.034420</td>\n      <td>154.127273</td>\n      <td>4.069818</td>\n      <td>18.462976</td>\n      <td>0.495104</td>\n    </tr>\n  </tbody>\n</table>\n<p>8784 rows × 9 columns</p>\n</div>"
     },
     "execution_count": 39,
     "metadata": {},
     "output_type": "execute_result"
    }
   ],
   "source": [
    "df_ERA5 = pd.DataFrame({ #'u10_41117': u10[:,0],\n",
    "                         #'v10_41117': v10[:,0],\n",
    "                        f'WDIR_{STATION_ID}': WDIR,        # WDIR\n",
    "                        f'WSPD_{STATION_ID}': WSPD,        # WSPD\n",
    "                        f'DEWP_{STATION_ID}': d2m[:,0],     # D2M\n",
    "                        f'ATMP_{STATION_ID}': t2m[:,0],     # T2M\n",
    "                        f'PRES_{STATION_ID}': msl[:,0],     # MSL\n",
    "                        f'MWD_{STATION_ID}': mwd[:,0],     # MWD\n",
    "                        f'APD_{STATION_ID}': mwp[:,0],     # MWP\n",
    "                        f'WTMP_{STATION_ID}': sst[:,0],     # SST\n",
    "                        f'WVHT_{STATION_ID}': shts[:,0],   # SHTS\n",
    "                   })\n",
    "df_ERA5[\"timestamp\"] = timestamp_filter_list\n",
    "df_ERA5.set_index('timestamp', inplace = True)\n",
    "df_ERA5[f\"DEWP_{STATION_ID}\"] -= 273.15    #convert to degree Celsius\n",
    "df_ERA5[f\"ATMP_{STATION_ID}\"] -= 273.15\n",
    "df_ERA5[f\"PRES_{STATION_ID}\"] = df_ERA5[f\"PRES_{STATION_ID}\"] / 100 #convert Pa to hPa\n",
    "df_ERA5[f\"WTMP_{STATION_ID}\"] -= 273.15\n",
    "df_ERA5"
   ],
   "metadata": {
    "collapsed": false,
    "pycharm": {
     "name": "#%%\n"
    }
   }
  },
  {
   "cell_type": "markdown",
   "source": [
    "# Comparing the two dataframes"
   ],
   "metadata": {
    "collapsed": false,
    "pycharm": {
     "name": "#%% md\n"
    }
   }
  },
  {
   "cell_type": "code",
   "execution_count": null,
   "outputs": [],
   "source": [],
   "metadata": {
    "collapsed": false,
    "pycharm": {
     "name": "#%%\n"
    }
   }
  },
  {
   "cell_type": "code",
   "execution_count": 42,
   "outputs": [
    {
     "name": "stdout",
     "output_type": "stream",
     "text": [
      "['WDIR_venf1', 'WSPD_venf1', 'WVHT_venf1', 'APD_venf1', 'MWD_venf1', 'PRES_venf1', 'ATMP_venf1', 'WTMP_venf1', 'DEWP_venf1']\n"
     ]
    }
   ],
   "source": [
    "features = list(df_NDBC.columns.values)\n",
    "\n",
    "print(features)\n"
   ],
   "metadata": {
    "collapsed": false,
    "pycharm": {
     "name": "#%%\n"
    }
   }
  },
  {
   "cell_type": "code",
   "execution_count": null,
   "outputs": [],
   "source": [
    "delta_absolute = pd.DataFrame({\"timestamp\": timestamp_filter_list})\n",
    "delta_absolute.set_index(\"timestamp\", inplace=True)\n",
    "\n",
    "delta_relative = delta_absolute.copy(deep=True)\n",
    "\n",
    "for feature in features:\n",
    "    delta_absolute[feature] = df_NDBC[feature] - df_ERA5[feature]\n",
    "    delta_relative[feature] = round(delta_absolute[feature] * 100 / df_NDBC[feature], 2)  # deviation from NDBC data in %\n"
   ],
   "metadata": {
    "collapsed": false,
    "pycharm": {
     "name": "#%%\n"
    }
   }
  },
  {
   "cell_type": "code",
   "execution_count": 60,
   "outputs": [
    {
     "name": "stdout",
     "output_type": "stream",
     "text": [
      "Absolute deviation from NDBC:\n"
     ]
    },
    {
     "data": {
      "text/plain": "                     WDIR_venf1  WSPD_venf1  WVHT_venf1  APD_venf1  MWD_venf1  \\\ntimestamp                                                                       \n2020-01-01 00:00:00 -256.111896   -1.542570         NaN        NaN        NaN   \n2020-01-01 01:00:00 -266.200195   -1.208565         NaN        NaN        NaN   \n2020-01-01 02:00:00 -264.263017   -2.110999         NaN        NaN        NaN   \n2020-01-01 03:00:00   84.718691   -1.328859         NaN        NaN        NaN   \n2020-01-01 04:00:00 -264.324733   -1.862225         NaN        NaN        NaN   \n...                         ...         ...         ...        ...        ...   \n2020-12-31 19:00:00   68.450850   -1.672263         NaN        NaN        NaN   \n2020-12-31 20:00:00   84.495916    0.374740         NaN        NaN        NaN   \n2020-12-31 21:00:00   70.499052   -2.916423         NaN        NaN        NaN   \n2020-12-31 22:00:00   73.297515   -1.574275         NaN        NaN        NaN   \n2020-12-31 23:00:00   49.310803   -3.551119         NaN        NaN        NaN   \n\n                     PRES_venf1  ATMP_venf1  WTMP_venf1  DEWP_venf1  \ntimestamp                                                            \n2020-01-01 00:00:00   -0.135518   -0.774776    0.599014   -0.935562  \n2020-01-01 01:00:00   -0.165488   -1.202055    0.499014   -0.266586  \n2020-01-01 02:00:00   -0.034911   -1.360275    0.399014   -0.326339  \n2020-01-01 03:00:00    0.013662   -1.178810    0.299014   -0.146882  \n2020-01-01 04:00:00   -0.210011   -1.880504    0.299014   -0.768534  \n...                         ...         ...         ...         ...  \n2020-12-31 19:00:00   -0.301330    0.313876   -0.113092    2.744399  \n2020-12-31 20:00:00   -0.399437    0.672487   -0.113092    3.043079  \n2020-12-31 21:00:00    0.023600   -1.394222    0.086908    2.677638  \n2020-12-31 22:00:00   -0.239540   -0.759227   -0.462976    2.348429  \n2020-12-31 23:00:00   -0.234420    0.208921   -0.262976    3.424696  \n\n[8784 rows x 9 columns]",
      "text/html": "<div>\n<style scoped>\n    .dataframe tbody tr th:only-of-type {\n        vertical-align: middle;\n    }\n\n    .dataframe tbody tr th {\n        vertical-align: top;\n    }\n\n    .dataframe thead th {\n        text-align: right;\n    }\n</style>\n<table border=\"1\" class=\"dataframe\">\n  <thead>\n    <tr style=\"text-align: right;\">\n      <th></th>\n      <th>WDIR_venf1</th>\n      <th>WSPD_venf1</th>\n      <th>WVHT_venf1</th>\n      <th>APD_venf1</th>\n      <th>MWD_venf1</th>\n      <th>PRES_venf1</th>\n      <th>ATMP_venf1</th>\n      <th>WTMP_venf1</th>\n      <th>DEWP_venf1</th>\n    </tr>\n    <tr>\n      <th>timestamp</th>\n      <th></th>\n      <th></th>\n      <th></th>\n      <th></th>\n      <th></th>\n      <th></th>\n      <th></th>\n      <th></th>\n      <th></th>\n    </tr>\n  </thead>\n  <tbody>\n    <tr>\n      <th>2020-01-01 00:00:00</th>\n      <td>-256.111896</td>\n      <td>-1.542570</td>\n      <td>NaN</td>\n      <td>NaN</td>\n      <td>NaN</td>\n      <td>-0.135518</td>\n      <td>-0.774776</td>\n      <td>0.599014</td>\n      <td>-0.935562</td>\n    </tr>\n    <tr>\n      <th>2020-01-01 01:00:00</th>\n      <td>-266.200195</td>\n      <td>-1.208565</td>\n      <td>NaN</td>\n      <td>NaN</td>\n      <td>NaN</td>\n      <td>-0.165488</td>\n      <td>-1.202055</td>\n      <td>0.499014</td>\n      <td>-0.266586</td>\n    </tr>\n    <tr>\n      <th>2020-01-01 02:00:00</th>\n      <td>-264.263017</td>\n      <td>-2.110999</td>\n      <td>NaN</td>\n      <td>NaN</td>\n      <td>NaN</td>\n      <td>-0.034911</td>\n      <td>-1.360275</td>\n      <td>0.399014</td>\n      <td>-0.326339</td>\n    </tr>\n    <tr>\n      <th>2020-01-01 03:00:00</th>\n      <td>84.718691</td>\n      <td>-1.328859</td>\n      <td>NaN</td>\n      <td>NaN</td>\n      <td>NaN</td>\n      <td>0.013662</td>\n      <td>-1.178810</td>\n      <td>0.299014</td>\n      <td>-0.146882</td>\n    </tr>\n    <tr>\n      <th>2020-01-01 04:00:00</th>\n      <td>-264.324733</td>\n      <td>-1.862225</td>\n      <td>NaN</td>\n      <td>NaN</td>\n      <td>NaN</td>\n      <td>-0.210011</td>\n      <td>-1.880504</td>\n      <td>0.299014</td>\n      <td>-0.768534</td>\n    </tr>\n    <tr>\n      <th>...</th>\n      <td>...</td>\n      <td>...</td>\n      <td>...</td>\n      <td>...</td>\n      <td>...</td>\n      <td>...</td>\n      <td>...</td>\n      <td>...</td>\n      <td>...</td>\n    </tr>\n    <tr>\n      <th>2020-12-31 19:00:00</th>\n      <td>68.450850</td>\n      <td>-1.672263</td>\n      <td>NaN</td>\n      <td>NaN</td>\n      <td>NaN</td>\n      <td>-0.301330</td>\n      <td>0.313876</td>\n      <td>-0.113092</td>\n      <td>2.744399</td>\n    </tr>\n    <tr>\n      <th>2020-12-31 20:00:00</th>\n      <td>84.495916</td>\n      <td>0.374740</td>\n      <td>NaN</td>\n      <td>NaN</td>\n      <td>NaN</td>\n      <td>-0.399437</td>\n      <td>0.672487</td>\n      <td>-0.113092</td>\n      <td>3.043079</td>\n    </tr>\n    <tr>\n      <th>2020-12-31 21:00:00</th>\n      <td>70.499052</td>\n      <td>-2.916423</td>\n      <td>NaN</td>\n      <td>NaN</td>\n      <td>NaN</td>\n      <td>0.023600</td>\n      <td>-1.394222</td>\n      <td>0.086908</td>\n      <td>2.677638</td>\n    </tr>\n    <tr>\n      <th>2020-12-31 22:00:00</th>\n      <td>73.297515</td>\n      <td>-1.574275</td>\n      <td>NaN</td>\n      <td>NaN</td>\n      <td>NaN</td>\n      <td>-0.239540</td>\n      <td>-0.759227</td>\n      <td>-0.462976</td>\n      <td>2.348429</td>\n    </tr>\n    <tr>\n      <th>2020-12-31 23:00:00</th>\n      <td>49.310803</td>\n      <td>-3.551119</td>\n      <td>NaN</td>\n      <td>NaN</td>\n      <td>NaN</td>\n      <td>-0.234420</td>\n      <td>0.208921</td>\n      <td>-0.262976</td>\n      <td>3.424696</td>\n    </tr>\n  </tbody>\n</table>\n<p>8784 rows × 9 columns</p>\n</div>"
     },
     "execution_count": 60,
     "metadata": {},
     "output_type": "execute_result"
    }
   ],
   "source": [
    "print(\"Absolute deviation from NDBC:\")\n",
    "delta_absolute"
   ],
   "metadata": {
    "collapsed": false,
    "pycharm": {
     "name": "#%%\n"
    }
   }
  },
  {
   "cell_type": "code",
   "execution_count": 61,
   "outputs": [
    {
     "name": "stdout",
     "output_type": "stream",
     "text": [
      "Deviation from NDBC data in %:\n"
     ]
    },
    {
     "data": {
      "text/plain": "                     WDIR_venf1  WSPD_venf1  WVHT_venf1  APD_venf1  MWD_venf1  \\\ntimestamp                                                                       \n2020-01-01 00:00:00    -1829.37      -53.19         NaN        NaN        NaN   \n2020-01-01 01:00:00    -6655.00      -38.99         NaN        NaN        NaN   \n2020-01-01 02:00:00    -4404.38      -91.78         NaN        NaN        NaN   \n2020-01-01 03:00:00       23.86      -41.53         NaN        NaN        NaN   \n2020-01-01 04:00:00    -4405.41      -64.21         NaN        NaN        NaN   \n...                         ...         ...         ...        ...        ...   \n2020-12-31 19:00:00       43.05      -30.40         NaN        NaN        NaN   \n2020-12-31 20:00:00       48.28        5.06         NaN        NaN        NaN   \n2020-12-31 21:00:00       43.79      -74.78         NaN        NaN        NaN   \n2020-12-31 22:00:00       44.69      -32.80         NaN        NaN        NaN   \n2020-12-31 23:00:00       35.22     -110.97         NaN        NaN        NaN   \n\n                     PRES_venf1  ATMP_venf1  WTMP_venf1  DEWP_venf1  \ntimestamp                                                            \n2020-01-01 00:00:00       -0.01       -4.56        2.81       -9.64  \n2020-01-01 01:00:00       -0.02       -7.33        2.35       -2.64  \n2020-01-01 02:00:00       -0.00       -8.45        1.89       -3.33  \n2020-01-01 03:00:00        0.00       -7.28        1.42       -1.50  \n2020-01-01 04:00:00       -0.02      -12.21        1.42       -8.35  \n...                         ...         ...         ...         ...  \n2020-12-31 19:00:00       -0.03        1.44       -0.63       13.45  \n2020-12-31 20:00:00       -0.04        3.02       -0.63       14.77  \n2020-12-31 21:00:00        0.00       -6.90        0.48       13.26  \n2020-12-31 22:00:00       -0.02       -3.69       -2.57       11.51  \n2020-12-31 23:00:00       -0.02        0.97       -1.44       15.93  \n\n[8784 rows x 9 columns]",
      "text/html": "<div>\n<style scoped>\n    .dataframe tbody tr th:only-of-type {\n        vertical-align: middle;\n    }\n\n    .dataframe tbody tr th {\n        vertical-align: top;\n    }\n\n    .dataframe thead th {\n        text-align: right;\n    }\n</style>\n<table border=\"1\" class=\"dataframe\">\n  <thead>\n    <tr style=\"text-align: right;\">\n      <th></th>\n      <th>WDIR_venf1</th>\n      <th>WSPD_venf1</th>\n      <th>WVHT_venf1</th>\n      <th>APD_venf1</th>\n      <th>MWD_venf1</th>\n      <th>PRES_venf1</th>\n      <th>ATMP_venf1</th>\n      <th>WTMP_venf1</th>\n      <th>DEWP_venf1</th>\n    </tr>\n    <tr>\n      <th>timestamp</th>\n      <th></th>\n      <th></th>\n      <th></th>\n      <th></th>\n      <th></th>\n      <th></th>\n      <th></th>\n      <th></th>\n      <th></th>\n    </tr>\n  </thead>\n  <tbody>\n    <tr>\n      <th>2020-01-01 00:00:00</th>\n      <td>-1829.37</td>\n      <td>-53.19</td>\n      <td>NaN</td>\n      <td>NaN</td>\n      <td>NaN</td>\n      <td>-0.01</td>\n      <td>-4.56</td>\n      <td>2.81</td>\n      <td>-9.64</td>\n    </tr>\n    <tr>\n      <th>2020-01-01 01:00:00</th>\n      <td>-6655.00</td>\n      <td>-38.99</td>\n      <td>NaN</td>\n      <td>NaN</td>\n      <td>NaN</td>\n      <td>-0.02</td>\n      <td>-7.33</td>\n      <td>2.35</td>\n      <td>-2.64</td>\n    </tr>\n    <tr>\n      <th>2020-01-01 02:00:00</th>\n      <td>-4404.38</td>\n      <td>-91.78</td>\n      <td>NaN</td>\n      <td>NaN</td>\n      <td>NaN</td>\n      <td>-0.00</td>\n      <td>-8.45</td>\n      <td>1.89</td>\n      <td>-3.33</td>\n    </tr>\n    <tr>\n      <th>2020-01-01 03:00:00</th>\n      <td>23.86</td>\n      <td>-41.53</td>\n      <td>NaN</td>\n      <td>NaN</td>\n      <td>NaN</td>\n      <td>0.00</td>\n      <td>-7.28</td>\n      <td>1.42</td>\n      <td>-1.50</td>\n    </tr>\n    <tr>\n      <th>2020-01-01 04:00:00</th>\n      <td>-4405.41</td>\n      <td>-64.21</td>\n      <td>NaN</td>\n      <td>NaN</td>\n      <td>NaN</td>\n      <td>-0.02</td>\n      <td>-12.21</td>\n      <td>1.42</td>\n      <td>-8.35</td>\n    </tr>\n    <tr>\n      <th>...</th>\n      <td>...</td>\n      <td>...</td>\n      <td>...</td>\n      <td>...</td>\n      <td>...</td>\n      <td>...</td>\n      <td>...</td>\n      <td>...</td>\n      <td>...</td>\n    </tr>\n    <tr>\n      <th>2020-12-31 19:00:00</th>\n      <td>43.05</td>\n      <td>-30.40</td>\n      <td>NaN</td>\n      <td>NaN</td>\n      <td>NaN</td>\n      <td>-0.03</td>\n      <td>1.44</td>\n      <td>-0.63</td>\n      <td>13.45</td>\n    </tr>\n    <tr>\n      <th>2020-12-31 20:00:00</th>\n      <td>48.28</td>\n      <td>5.06</td>\n      <td>NaN</td>\n      <td>NaN</td>\n      <td>NaN</td>\n      <td>-0.04</td>\n      <td>3.02</td>\n      <td>-0.63</td>\n      <td>14.77</td>\n    </tr>\n    <tr>\n      <th>2020-12-31 21:00:00</th>\n      <td>43.79</td>\n      <td>-74.78</td>\n      <td>NaN</td>\n      <td>NaN</td>\n      <td>NaN</td>\n      <td>0.00</td>\n      <td>-6.90</td>\n      <td>0.48</td>\n      <td>13.26</td>\n    </tr>\n    <tr>\n      <th>2020-12-31 22:00:00</th>\n      <td>44.69</td>\n      <td>-32.80</td>\n      <td>NaN</td>\n      <td>NaN</td>\n      <td>NaN</td>\n      <td>-0.02</td>\n      <td>-3.69</td>\n      <td>-2.57</td>\n      <td>11.51</td>\n    </tr>\n    <tr>\n      <th>2020-12-31 23:00:00</th>\n      <td>35.22</td>\n      <td>-110.97</td>\n      <td>NaN</td>\n      <td>NaN</td>\n      <td>NaN</td>\n      <td>-0.02</td>\n      <td>0.97</td>\n      <td>-1.44</td>\n      <td>15.93</td>\n    </tr>\n  </tbody>\n</table>\n<p>8784 rows × 9 columns</p>\n</div>"
     },
     "execution_count": 61,
     "metadata": {},
     "output_type": "execute_result"
    }
   ],
   "source": [
    "print(\"Deviation from NDBC data in %:\")\n",
    "delta_relative\n"
   ],
   "metadata": {
    "collapsed": false,
    "pycharm": {
     "name": "#%%\n"
    }
   }
  },
  {
   "cell_type": "markdown",
   "source": [],
   "metadata": {
    "collapsed": false,
    "pycharm": {
     "name": "#%% md\n"
    }
   }
  },
  {
   "cell_type": "markdown",
   "source": [
    "# ERROR!!!!     -inf ---> Is there somewhere a division by 0 ????"
   ],
   "metadata": {
    "collapsed": false,
    "pycharm": {
     "name": "#%% md\n"
    }
   }
  },
  {
   "cell_type": "markdown",
   "source": [
    "# Average deviation of ERA5 from NDBC in % per feature"
   ],
   "metadata": {
    "collapsed": false,
    "pycharm": {
     "name": "#%% md\n"
    }
   }
  },
  {
   "cell_type": "code",
   "execution_count": 54,
   "outputs": [
    {
     "data": {
      "text/plain": "       WDIR_venf1  WSPD_venf1  WVHT_venf1  APD_venf1  MWD_venf1   PRES_venf1  \\\ncount   8726.0000     8753.00         0.0        0.0        0.0  8758.000000   \nmean         -inf        -inf         NaN        NaN        NaN    -0.017600   \nstd           NaN         NaN         NaN        NaN        NaN     0.028086   \nmin          -inf        -inf         NaN        NaN        NaN    -0.230000   \n25%     -333.5375      -55.94         NaN        NaN        NaN    -0.030000   \n50%        1.6050      -11.27         NaN        NaN        NaN    -0.020000   \n75%       36.2800       17.59         NaN        NaN        NaN     0.000000   \nmax       75.2700       97.81         NaN        NaN        NaN     0.220000   \n\n        ATMP_venf1   WTMP_venf1  DEWP_venf1  \ncount  8754.000000  8758.000000     8744.00  \nmean     -3.010732     0.998655        -inf  \nstd      10.089748     3.478587         NaN  \nmin    -106.460000   -15.470000        -inf  \n25%      -6.837500    -1.147500       -3.45  \n50%      -0.455000     1.210000        1.47  \n75%       2.920000     3.430000        5.02  \nmax      21.310000    11.600000     3896.23  ",
      "text/html": "<div>\n<style scoped>\n    .dataframe tbody tr th:only-of-type {\n        vertical-align: middle;\n    }\n\n    .dataframe tbody tr th {\n        vertical-align: top;\n    }\n\n    .dataframe thead th {\n        text-align: right;\n    }\n</style>\n<table border=\"1\" class=\"dataframe\">\n  <thead>\n    <tr style=\"text-align: right;\">\n      <th></th>\n      <th>WDIR_venf1</th>\n      <th>WSPD_venf1</th>\n      <th>WVHT_venf1</th>\n      <th>APD_venf1</th>\n      <th>MWD_venf1</th>\n      <th>PRES_venf1</th>\n      <th>ATMP_venf1</th>\n      <th>WTMP_venf1</th>\n      <th>DEWP_venf1</th>\n    </tr>\n  </thead>\n  <tbody>\n    <tr>\n      <th>count</th>\n      <td>8726.0000</td>\n      <td>8753.00</td>\n      <td>0.0</td>\n      <td>0.0</td>\n      <td>0.0</td>\n      <td>8758.000000</td>\n      <td>8754.000000</td>\n      <td>8758.000000</td>\n      <td>8744.00</td>\n    </tr>\n    <tr>\n      <th>mean</th>\n      <td>-inf</td>\n      <td>-inf</td>\n      <td>NaN</td>\n      <td>NaN</td>\n      <td>NaN</td>\n      <td>-0.017600</td>\n      <td>-3.010732</td>\n      <td>0.998655</td>\n      <td>-inf</td>\n    </tr>\n    <tr>\n      <th>std</th>\n      <td>NaN</td>\n      <td>NaN</td>\n      <td>NaN</td>\n      <td>NaN</td>\n      <td>NaN</td>\n      <td>0.028086</td>\n      <td>10.089748</td>\n      <td>3.478587</td>\n      <td>NaN</td>\n    </tr>\n    <tr>\n      <th>min</th>\n      <td>-inf</td>\n      <td>-inf</td>\n      <td>NaN</td>\n      <td>NaN</td>\n      <td>NaN</td>\n      <td>-0.230000</td>\n      <td>-106.460000</td>\n      <td>-15.470000</td>\n      <td>-inf</td>\n    </tr>\n    <tr>\n      <th>25%</th>\n      <td>-333.5375</td>\n      <td>-55.94</td>\n      <td>NaN</td>\n      <td>NaN</td>\n      <td>NaN</td>\n      <td>-0.030000</td>\n      <td>-6.837500</td>\n      <td>-1.147500</td>\n      <td>-3.45</td>\n    </tr>\n    <tr>\n      <th>50%</th>\n      <td>1.6050</td>\n      <td>-11.27</td>\n      <td>NaN</td>\n      <td>NaN</td>\n      <td>NaN</td>\n      <td>-0.020000</td>\n      <td>-0.455000</td>\n      <td>1.210000</td>\n      <td>1.47</td>\n    </tr>\n    <tr>\n      <th>75%</th>\n      <td>36.2800</td>\n      <td>17.59</td>\n      <td>NaN</td>\n      <td>NaN</td>\n      <td>NaN</td>\n      <td>0.000000</td>\n      <td>2.920000</td>\n      <td>3.430000</td>\n      <td>5.02</td>\n    </tr>\n    <tr>\n      <th>max</th>\n      <td>75.2700</td>\n      <td>97.81</td>\n      <td>NaN</td>\n      <td>NaN</td>\n      <td>NaN</td>\n      <td>0.220000</td>\n      <td>21.310000</td>\n      <td>11.600000</td>\n      <td>3896.23</td>\n    </tr>\n  </tbody>\n</table>\n</div>"
     },
     "execution_count": 54,
     "metadata": {},
     "output_type": "execute_result"
    }
   ],
   "source": [
    "delta_relative.describe()"
   ],
   "metadata": {
    "collapsed": false,
    "pycharm": {
     "name": "#%%\n"
    }
   }
  },
  {
   "cell_type": "markdown",
   "source": [
    "# Visualize deviation.\n",
    "(In perfect screnario, all values would be 0!)"
   ],
   "metadata": {
    "collapsed": false,
    "pycharm": {
     "name": "#%% md\n"
    }
   }
  },
  {
   "cell_type": "code",
   "execution_count": 94,
   "outputs": [
    {
     "data": {
      "text/plain": "[]"
     },
     "execution_count": 94,
     "metadata": {},
     "output_type": "execute_result"
    },
    {
     "data": {
      "text/plain": "<Figure size 640x480 with 1 Axes>",
      "image/png": "[encoded data removed]"
     },
     "metadata": {},
     "output_type": "display_data"
    }
   ],
   "source": [
    "delta_absolute.boxplot(\"WDIR_venf1\").plot()"
   ],
   "metadata": {
    "collapsed": false,
    "pycharm": {
     "name": "#%%\n"
    }
   }
  },
  {
   "cell_type": "code",
   "execution_count": 95,
   "outputs": [
    {
     "data": {
      "text/plain": "[]"
     },
     "execution_count": 95,
     "metadata": {},
     "output_type": "execute_result"
    },
    {
     "data": {
      "text/plain": "<Figure size 640x480 with 1 Axes>",
      "image/png": "[encoded data removed]"
     },
     "metadata": {},
     "output_type": "display_data"
    }
   ],
   "source": [
    "delta_relative.boxplot(\"WDIR_venf1\").plot()"
   ],
   "metadata": {
    "collapsed": false,
    "pycharm": {
     "name": "#%%\n"
    }
   }
  },
  {
   "cell_type": "code",
   "execution_count": 96,
   "outputs": [
    {
     "data": {
      "text/plain": "[]"
     },
     "execution_count": 96,
     "metadata": {},
     "output_type": "execute_result"
    },
    {
     "data": {
      "text/plain": "<Figure size 640x480 with 1 Axes>",
      "image/png": "[encoded data removed]"
     },
     "metadata": {},
     "output_type": "display_data"
    }
   ],
   "source": [
    "delta_absolute.boxplot(\"WSPD_venf1\").plot()"
   ],
   "metadata": {
    "collapsed": false,
    "pycharm": {
     "name": "#%%\n"
    }
   }
  },
  {
   "cell_type": "code",
   "execution_count": 97,
   "outputs": [
    {
     "data": {
      "text/plain": "[]"
     },
     "execution_count": 97,
     "metadata": {},
     "output_type": "execute_result"
    },
    {
     "data": {
      "text/plain": "<Figure size 640x480 with 1 Axes>",
      "image/png": "[encoded data removed]"
     },
     "metadata": {},
     "output_type": "display_data"
    }
   ],
   "source": [
    "delta_relative.boxplot(\"WSPD_venf1\").plot()"
   ],
   "metadata": {
    "collapsed": false,
    "pycharm": {
     "name": "#%%\n"
    }
   }
  },
  {
   "cell_type": "code",
   "execution_count": 98,
   "outputs": [
    {
     "data": {
      "text/plain": "[]"
     },
     "execution_count": 98,
     "metadata": {},
     "output_type": "execute_result"
    },
    {
     "data": {
      "text/plain": "<Figure size 640x480 with 1 Axes>",
      "image/png": "[encoded data removed]"
     },
     "metadata": {},
     "output_type": "display_data"
    }
   ],
   "source": [
    "delta_absolute.boxplot(\"PRES_venf1\").plot()"
   ],
   "metadata": {
    "collapsed": false,
    "pycharm": {
     "name": "#%%\n"
    }
   }
  },
  {
   "cell_type": "code",
   "execution_count": 99,
   "outputs": [
    {
     "data": {
      "text/plain": "[]"
     },
     "execution_count": 99,
     "metadata": {},
     "output_type": "execute_result"
    },
    {
     "data": {
      "text/plain": "<Figure size 640x480 with 1 Axes>",
      "image/png": "[encoded data removed]"
     },
     "metadata": {},
     "output_type": "display_data"
    }
   ],
   "source": [
    "delta_relative.boxplot(\"PRES_venf1\").plot()"
   ],
   "metadata": {
    "collapsed": false,
    "pycharm": {
     "name": "#%%\n"
    }
   }
  },
  {
   "cell_type": "code",
   "execution_count": 100,
   "outputs": [
    {
     "data": {
      "text/plain": "[]"
     },
     "execution_count": 100,
     "metadata": {},
     "output_type": "execute_result"
    },
    {
     "data": {
      "text/plain": "<Figure size 640x480 with 1 Axes>",
      "image/png": "[encoded data removed]"
     },
     "metadata": {},
     "output_type": "display_data"
    }
   ],
   "source": [
    "delta_absolute.boxplot(\"ATMP_venf1\").plot()"
   ],
   "metadata": {
    "collapsed": false,
    "pycharm": {
     "name": "#%%\n"
    }
   }
  },
  {
   "cell_type": "code",
   "execution_count": 101,
   "outputs": [
    {
     "data": {
      "text/plain": "[]"
     },
     "execution_count": 101,
     "metadata": {},
     "output_type": "execute_result"
    },
    {
     "data": {
      "text/plain": "<Figure size 640x480 with 1 Axes>",
      "image/png": "[encoded data removed]"
     },
     "metadata": {},
     "output_type": "display_data"
    }
   ],
   "source": [
    "delta_relative.boxplot(\"ATMP_venf1\").plot()"
   ],
   "metadata": {
    "collapsed": false,
    "pycharm": {
     "name": "#%%\n"
    }
   }
  },
  {
   "cell_type": "code",
   "execution_count": 102,
   "outputs": [
    {
     "data": {
      "text/plain": "[]"
     },
     "execution_count": 102,
     "metadata": {},
     "output_type": "execute_result"
    },
    {
     "data": {
      "text/plain": "<Figure size 640x480 with 1 Axes>",
      "image/png": "[encoded data removed]"
     },
     "metadata": {},
     "output_type": "display_data"
    }
   ],
   "source": [
    "delta_absolute.boxplot(\"WTMP_venf1\").plot()"
   ],
   "metadata": {
    "collapsed": false,
    "pycharm": {
     "name": "#%%\n"
    }
   }
  },
  {
   "cell_type": "code",
   "execution_count": 103,
   "outputs": [
    {
     "data": {
      "text/plain": "[]"
     },
     "execution_count": 103,
     "metadata": {},
     "output_type": "execute_result"
    },
    {
     "data": {
      "text/plain": "<Figure size 640x480 with 1 Axes>",
      "image/png": "[encoded data removed]"
     },
     "metadata": {},
     "output_type": "display_data"
    }
   ],
   "source": [
    "delta_relative.boxplot(\"WTMP_venf1\").plot()"
   ],
   "metadata": {
    "collapsed": false,
    "pycharm": {
     "name": "#%%\n"
    }
   }
  },
  {
   "cell_type": "code",
   "execution_count": 104,
   "outputs": [
    {
     "data": {
      "text/plain": "[]"
     },
     "execution_count": 104,
     "metadata": {},
     "output_type": "execute_result"
    },
    {
     "data": {
      "text/plain": "<Figure size 640x480 with 1 Axes>",
      "image/png": "[encoded data removed]"
     },
     "metadata": {},
     "output_type": "display_data"
    }
   ],
   "source": [
    "delta_absolute.boxplot(\"DEWP_venf1\").plot()"
   ],
   "metadata": {
    "collapsed": false,
    "pycharm": {
     "name": "#%%\n"
    }
   }
  },
  {
   "cell_type": "code",
   "execution_count": 105,
   "outputs": [
    {
     "data": {
      "text/plain": "[]"
     },
     "execution_count": 105,
     "metadata": {},
     "output_type": "execute_result"
    },
    {
     "data": {
      "text/plain": "<Figure size 640x480 with 1 Axes>",
      "image/png": "[encoded data removed]"
     },
     "metadata": {},
     "output_type": "display_data"
    }
   ],
   "source": [
    "delta_relative.boxplot(\"DEWP_venf1\").plot()"
   ],
   "metadata": {
    "collapsed": false,
    "pycharm": {
     "name": "#%%\n"
    }
   }
  },
  {
   "cell_type": "markdown",
   "source": [
    "# Result\n",
    "\n",
    "* Unfortunatelly, there is not a single buoy which does deliver less than 30% of NaN values over a whole year.\n",
    "* Wind speed does not match at all. Probably, the calculation from v / u wind to speed and angle is wrong. Or the units do not match.\n",
    "* WVHT, APF, MWD need to be ckecked on another dataframe (Not available for this buoy!) .\n",
    "* Pressure is almost equivalent. The max diviation is 0.23%. The standard deviation is 0.03%!\n",
    "* Also the values of ATMP, WTMP are very similar.\n",
    "        Standard diviations:\n",
    "        ATMTP:  10.089748,\n",
    "        WTMP:   3.478587\n",
    "* DEWP values are pretty equivalent for most values but there are also many extreme outliers.\n",
    "\n",
    "\n"
   ],
   "metadata": {
    "collapsed": false,
    "pycharm": {
     "name": "#%% md\n"
    }
   }
  },
  {
   "cell_type": "markdown",
   "source": [
    "# Use other NDBC buoy to compare WVHT, APD, MWD"
   ],
   "metadata": {
    "collapsed": false,
    "pycharm": {
     "name": "#%% md\n"
    }
   }
  },
  {
   "cell_type": "code",
   "execution_count": 124,
   "outputs": [
    {
     "name": "stdout",
     "output_type": "stream",
     "text": [
      "starting with year  2020\n",
      "41117 skipped - it only has  3845  records.\n",
      "42097 skipped - it only has  3848  records.\n",
      "42098 skipped - it only has  3853  records.\n",
      "42099 skipped - it only has  3516  records.\n",
      "arpf1 skipped - it only has  1836  records.\n",
      "jxuf1 skipped - it only has  4093  records.\n"
     ]
    },
    {
     "name": "stderr",
     "output_type": "stream",
     "text": [
      "/var/folders/ys/lj6w647n5qjdv23zdxs_fn740000gn/T/ipykernel_9571/986619196.py:25: FutureWarning: reindexing with a non-unique Index is deprecated and will raise in a future version.\n",
      "  data = data.filter(timestamp_filter_list, axis=0)\n"
     ]
    },
    {
     "name": "stdout",
     "output_type": "stream",
     "text": [
      "FAILED AT BUOY:  smkf1\n",
      "srst2 skipped - it only has  3006  records.\n",
      "tlvt2 skipped - it only has  201  records.\n",
      "txvt2 skipped - it only has  1013  records.\n",
      "utvt2 skipped - it only has  911  records.\n"
     ]
    },
    {
     "data": {
      "text/plain": "   StationID  #records  #NaN in %\n0      41112      7297       1.51\n0      42001      6254     100.00\n0      42002      8703     100.00\n0      42012      8706     100.00\n0      42013      7371     100.00\n..       ...       ...        ...\n0      vcat2      8625     100.00\n0      venf1      8758     100.00\n0      wiwf1      8519     100.00\n0      wplf1      8596     100.00\n0      wycm6      8275     100.00\n\n[112 rows x 3 columns]",
      "text/html": "<div>\n<style scoped>\n    .dataframe tbody tr th:only-of-type {\n        vertical-align: middle;\n    }\n\n    .dataframe tbody tr th {\n        vertical-align: top;\n    }\n\n    .dataframe thead th {\n        text-align: right;\n    }\n</style>\n<table border=\"1\" class=\"dataframe\">\n  <thead>\n    <tr style=\"text-align: right;\">\n      <th></th>\n      <th>StationID</th>\n      <th>#records</th>\n      <th>#NaN in %</th>\n    </tr>\n  </thead>\n  <tbody>\n    <tr>\n      <th>0</th>\n      <td>41112</td>\n      <td>7297</td>\n      <td>1.51</td>\n    </tr>\n    <tr>\n      <th>0</th>\n      <td>42001</td>\n      <td>6254</td>\n      <td>100.00</td>\n    </tr>\n    <tr>\n      <th>0</th>\n      <td>42002</td>\n      <td>8703</td>\n      <td>100.00</td>\n    </tr>\n    <tr>\n      <th>0</th>\n      <td>42012</td>\n      <td>8706</td>\n      <td>100.00</td>\n    </tr>\n    <tr>\n      <th>0</th>\n      <td>42013</td>\n      <td>7371</td>\n      <td>100.00</td>\n    </tr>\n    <tr>\n      <th>...</th>\n      <td>...</td>\n      <td>...</td>\n      <td>...</td>\n    </tr>\n    <tr>\n      <th>0</th>\n      <td>vcat2</td>\n      <td>8625</td>\n      <td>100.00</td>\n    </tr>\n    <tr>\n      <th>0</th>\n      <td>venf1</td>\n      <td>8758</td>\n      <td>100.00</td>\n    </tr>\n    <tr>\n      <th>0</th>\n      <td>wiwf1</td>\n      <td>8519</td>\n      <td>100.00</td>\n    </tr>\n    <tr>\n      <th>0</th>\n      <td>wplf1</td>\n      <td>8596</td>\n      <td>100.00</td>\n    </tr>\n    <tr>\n      <th>0</th>\n      <td>wycm6</td>\n      <td>8275</td>\n      <td>100.00</td>\n    </tr>\n  </tbody>\n</table>\n<p>112 rows × 3 columns</p>\n</div>"
     },
     "execution_count": 124,
     "metadata": {},
     "output_type": "execute_result"
    }
   ],
   "source": [
    "#stations = mL.stations_GOM\n",
    "\n",
    "NaN_statistic = pd.DataFrame()\n",
    "print(\"starting with year \", \"2020\")\n",
    "for stationID in mL.cleaned_stations_GOM:\n",
    "    data = mL.get_data_file(stationID, \"2020\")  # only consider 2020 since otherwise to many changes would be required\n",
    "    if data is not None:\n",
    "\n",
    "        # dataframe modifications and filters\n",
    "        data = mL.df_modification(data)[1]\n",
    "\n",
    "        data.drop([ f'WDIR_{stationID}',\n",
    "                    f'WSPD_{stationID}',\n",
    "                    f'GST_{stationID}',\n",
    "                    f'DPD_{stationID}',\n",
    "                    f'PRES_{stationID}',\n",
    "                    f'ATMP_{stationID}',\n",
    "                    f'WTMP_{stationID}',\n",
    "                    f'DEWP_{stationID}',\n",
    "                    f'VIS_{stationID}',\n",
    "                    f'TIDE_{stationID}',],axis=1, inplace=True)\n",
    "\n",
    "\n",
    "        try:\n",
    "            data = data.filter(timestamp_filter_list, axis=0)\n",
    "        except:\n",
    "            print(\"FAILED AT BUOY: \", stationID)\n",
    "        else:\n",
    "            data = mL.replace_with_NaN(data)\n",
    "            # display(data)\n",
    "\n",
    "            if len(data.index) > 5000:  # ignore files with to low number of 1h time-records\n",
    "                #display(data)\n",
    "                # create statistic\n",
    "                num_values, num_NaN_percentage, NaN_by_feature = mL.print_NaN_statistic(data, \"\", silent=True)\n",
    "\n",
    "                new_row = pd.DataFrame({\n",
    "                        \"StationID\": [stationID],\n",
    "                        \"#records\": [len(data.index)],\n",
    "                        \"#NaN in %\": [num_NaN_percentage]\n",
    "                    })\n",
    "                NaN_statistic = pd.concat([NaN_statistic, new_row])\n",
    "            else:\n",
    "                print(stationID, \"skipped - it only has \", len(data.index), \" records.\")\n",
    "\n",
    "NaN_statistic"
   ],
   "metadata": {
    "collapsed": false,
    "pycharm": {
     "name": "#%%\n"
    }
   }
  },
  {
   "cell_type": "markdown",
   "source": [
    "As we can see, only two buoys do privide those values in the gulf ofm mexico for the year 2020.\n",
    "Lets continue with buoy 42095, since it contains more records!\n"
   ],
   "metadata": {
    "collapsed": false,
    "pycharm": {
     "name": "#%% md\n"
    }
   }
  },
  {
   "cell_type": "code",
   "execution_count": 136,
   "outputs": [
    {
     "name": "stdout",
     "output_type": "stream",
     "text": [
      "[27.0, -82.5, 27.0, -82.5]\n"
     ]
    }
   ],
   "source": [
    "STATION_ID_2 = \"42095\"\n",
    "lat_2 = metadata.loc[STATION_ID_2.upper()][\"lat\"]\n",
    "lon_2 = metadata.loc[STATION_ID_2.upper()][\"lon\"]\n",
    "COORDS_2 = [lat_2, lon_2]*2   # NORTH, WEST, SOUTH, EAST\n",
    "print(COORDS)"
   ],
   "metadata": {
    "collapsed": false,
    "pycharm": {
     "name": "#%%\n"
    }
   }
  },
  {
   "cell_type": "markdown",
   "source": [
    "# Build second NDBC Dataset"
   ],
   "metadata": {
    "collapsed": false,
    "pycharm": {
     "name": "#%% md\n"
    }
   }
  },
  {
   "cell_type": "code",
   "execution_count": 129,
   "outputs": [
    {
     "data": {
      "text/plain": "                    WVHT_42095 APD_42095 MWD_42095\ntimestamp                                         \n2020-01-01 00:00:00       0.51      3.16       265\n2020-01-01 01:00:00       0.58      4.17       259\n2020-01-01 02:00:00       0.59      4.80       262\n2020-01-01 03:00:00       0.56      4.59       261\n2020-01-01 04:00:00       0.60      4.22       259\n...                        ...       ...       ...\n2020-12-31 19:00:00       2.84      6.35       107\n2020-12-31 20:00:00       3.03      6.61        97\n2020-12-31 21:00:00       3.18      6.83       100\n2020-12-31 22:00:00       3.02      6.80       107\n2020-12-31 23:00:00       3.09      6.73       101\n\n[7466 rows x 3 columns]",
      "text/html": "<div>\n<style scoped>\n    .dataframe tbody tr th:only-of-type {\n        vertical-align: middle;\n    }\n\n    .dataframe tbody tr th {\n        vertical-align: top;\n    }\n\n    .dataframe thead th {\n        text-align: right;\n    }\n</style>\n<table border=\"1\" class=\"dataframe\">\n  <thead>\n    <tr style=\"text-align: right;\">\n      <th></th>\n      <th>WVHT_42095</th>\n      <th>APD_42095</th>\n      <th>MWD_42095</th>\n    </tr>\n    <tr>\n      <th>timestamp</th>\n      <th></th>\n      <th></th>\n      <th></th>\n    </tr>\n  </thead>\n  <tbody>\n    <tr>\n      <th>2020-01-01 00:00:00</th>\n      <td>0.51</td>\n      <td>3.16</td>\n      <td>265</td>\n    </tr>\n    <tr>\n      <th>2020-01-01 01:00:00</th>\n      <td>0.58</td>\n      <td>4.17</td>\n      <td>259</td>\n    </tr>\n    <tr>\n      <th>2020-01-01 02:00:00</th>\n      <td>0.59</td>\n      <td>4.80</td>\n      <td>262</td>\n    </tr>\n    <tr>\n      <th>2020-01-01 03:00:00</th>\n      <td>0.56</td>\n      <td>4.59</td>\n      <td>261</td>\n    </tr>\n    <tr>\n      <th>2020-01-01 04:00:00</th>\n      <td>0.60</td>\n      <td>4.22</td>\n      <td>259</td>\n    </tr>\n    <tr>\n      <th>...</th>\n      <td>...</td>\n      <td>...</td>\n      <td>...</td>\n    </tr>\n    <tr>\n      <th>2020-12-31 19:00:00</th>\n      <td>2.84</td>\n      <td>6.35</td>\n      <td>107</td>\n    </tr>\n    <tr>\n      <th>2020-12-31 20:00:00</th>\n      <td>3.03</td>\n      <td>6.61</td>\n      <td>97</td>\n    </tr>\n    <tr>\n      <th>2020-12-31 21:00:00</th>\n      <td>3.18</td>\n      <td>6.83</td>\n      <td>100</td>\n    </tr>\n    <tr>\n      <th>2020-12-31 22:00:00</th>\n      <td>3.02</td>\n      <td>6.80</td>\n      <td>107</td>\n    </tr>\n    <tr>\n      <th>2020-12-31 23:00:00</th>\n      <td>3.09</td>\n      <td>6.73</td>\n      <td>101</td>\n    </tr>\n  </tbody>\n</table>\n<p>7466 rows × 3 columns</p>\n</div>"
     },
     "execution_count": 129,
     "metadata": {},
     "output_type": "execute_result"
    }
   ],
   "source": [
    "df_NDBC_2 = mL.get_data_file(STATION_ID_2, YEAR)\n",
    "df_NDBC_2 = mL.df_modification(df_NDBC_2)[1]\n",
    "df_NDBC_2 = mL.replace_with_NaN(df_NDBC_2)\n",
    "df_NDBC_2 = df_NDBC_2.filter(timestamp_filter_list, axis=0)\n",
    "df_NDBC_2.drop([\n",
    "    f'WDIR_{STATION_ID_2}',\n",
    "    f'WSPD_{STATION_ID_2}',\n",
    "    f'GST_{STATION_ID_2}',\n",
    "    f'DPD_{STATION_ID_2}',\n",
    "    f'PRES_{STATION_ID_2}',\n",
    "    f'ATMP_{STATION_ID_2}',\n",
    "    f'WTMP_{STATION_ID_2}',\n",
    "    f'DEWP_{STATION_ID_2}',\n",
    "    f'VIS_{STATION_ID_2}',\n",
    "    f'TIDE_{STATION_ID_2}',],axis=1, inplace=True)\n",
    "\n",
    "df_NDBC_2"
   ],
   "metadata": {
    "collapsed": false,
    "pycharm": {
     "name": "#%%\n"
    }
   }
  },
  {
   "cell_type": "code",
   "execution_count": 132,
   "outputs": [
    {
     "name": "stdout",
     "output_type": "stream",
     "text": [
      "Count= 0\n"
     ]
    },
    {
     "data": {
      "text/plain": "                     WVHT_42095  APD_42095  MWD_42095\ntimestamp                                            \n2020-01-01 00:00:00        0.51       3.16      265.0\n2020-01-01 01:00:00        0.58       4.17      259.0\n2020-01-01 02:00:00        0.59       4.80      262.0\n2020-01-01 03:00:00        0.56       4.59      261.0\n2020-01-01 04:00:00        0.60       4.22      259.0\n...                         ...        ...        ...\n2020-12-31 19:00:00        2.84       6.35      107.0\n2020-12-31 20:00:00        3.03       6.61       97.0\n2020-12-31 21:00:00        3.18       6.83      100.0\n2020-12-31 22:00:00        3.02       6.80      107.0\n2020-12-31 23:00:00        3.09       6.73      101.0\n\n[8784 rows x 3 columns]",
      "text/html": "<div>\n<style scoped>\n    .dataframe tbody tr th:only-of-type {\n        vertical-align: middle;\n    }\n\n    .dataframe tbody tr th {\n        vertical-align: top;\n    }\n\n    .dataframe thead th {\n        text-align: right;\n    }\n</style>\n<table border=\"1\" class=\"dataframe\">\n  <thead>\n    <tr style=\"text-align: right;\">\n      <th></th>\n      <th>WVHT_42095</th>\n      <th>APD_42095</th>\n      <th>MWD_42095</th>\n    </tr>\n    <tr>\n      <th>timestamp</th>\n      <th></th>\n      <th></th>\n      <th></th>\n    </tr>\n  </thead>\n  <tbody>\n    <tr>\n      <th>2020-01-01 00:00:00</th>\n      <td>0.51</td>\n      <td>3.16</td>\n      <td>265.0</td>\n    </tr>\n    <tr>\n      <th>2020-01-01 01:00:00</th>\n      <td>0.58</td>\n      <td>4.17</td>\n      <td>259.0</td>\n    </tr>\n    <tr>\n      <th>2020-01-01 02:00:00</th>\n      <td>0.59</td>\n      <td>4.80</td>\n      <td>262.0</td>\n    </tr>\n    <tr>\n      <th>2020-01-01 03:00:00</th>\n      <td>0.56</td>\n      <td>4.59</td>\n      <td>261.0</td>\n    </tr>\n    <tr>\n      <th>2020-01-01 04:00:00</th>\n      <td>0.60</td>\n      <td>4.22</td>\n      <td>259.0</td>\n    </tr>\n    <tr>\n      <th>...</th>\n      <td>...</td>\n      <td>...</td>\n      <td>...</td>\n    </tr>\n    <tr>\n      <th>2020-12-31 19:00:00</th>\n      <td>2.84</td>\n      <td>6.35</td>\n      <td>107.0</td>\n    </tr>\n    <tr>\n      <th>2020-12-31 20:00:00</th>\n      <td>3.03</td>\n      <td>6.61</td>\n      <td>97.0</td>\n    </tr>\n    <tr>\n      <th>2020-12-31 21:00:00</th>\n      <td>3.18</td>\n      <td>6.83</td>\n      <td>100.0</td>\n    </tr>\n    <tr>\n      <th>2020-12-31 22:00:00</th>\n      <td>3.02</td>\n      <td>6.80</td>\n      <td>107.0</td>\n    </tr>\n    <tr>\n      <th>2020-12-31 23:00:00</th>\n      <td>3.09</td>\n      <td>6.73</td>\n      <td>101.0</td>\n    </tr>\n  </tbody>\n</table>\n<p>8784 rows × 3 columns</p>\n</div>"
     },
     "execution_count": 132,
     "metadata": {},
     "output_type": "execute_result"
    }
   ],
   "source": [
    "count = 0\n",
    "for timestamp in timestamp_filter_list:\n",
    "    if not timestamp in df_NDBC_2.index:  #might must be timestamp instead of index\n",
    "        #print(timestamp)\n",
    "        count +=1\n",
    "        # add new record\n",
    "        df_NDBC_2.loc[timestamp] = [np.NAN]*3\n",
    "\n",
    "print(\"Count=\",count)   # should print 26 timestamps\n",
    "\n",
    "df_NDBC_2.sort_index(inplace=True)\n",
    "df_NDBC_2 = df_NDBC_2.astype(float)\n",
    "df_NDBC_2"
   ],
   "metadata": {
    "collapsed": false,
    "pycharm": {
     "name": "#%%\n"
    }
   }
  },
  {
   "cell_type": "markdown",
   "source": [
    "# Build second ERA5 dataset"
   ],
   "metadata": {
    "collapsed": false,
    "pycharm": {
     "name": "#%% md\n"
    }
   }
  },
  {
   "cell_type": "code",
   "execution_count": 137,
   "outputs": [
    {
     "name": "stderr",
     "output_type": "stream",
     "text": [
      "/opt/homebrew/Caskroom/miniforge/base/envs/Master_Project/lib/python3.8/site-packages/urllib3/connectionpool.py:1045: InsecureRequestWarning: Unverified HTTPS request is being made to host 'cds.climate.copernicus.eu'. Adding certificate verification is strongly advised. See: https://urllib3.readthedocs.io/en/1.26.x/advanced-usage.html#ssl-warnings\n",
      "  warnings.warn(\n",
      "2023-01-16 12:41:01,217 INFO Welcome to the CDS\n",
      "2023-01-16 12:41:01,225 INFO Sending request to https://cds.climate.copernicus.eu/api/v2/resources/reanalysis-era5-single-levels\n",
      "/opt/homebrew/Caskroom/miniforge/base/envs/Master_Project/lib/python3.8/site-packages/urllib3/connectionpool.py:1045: InsecureRequestWarning: Unverified HTTPS request is being made to host 'cds.climate.copernicus.eu'. Adding certificate verification is strongly advised. See: https://urllib3.readthedocs.io/en/1.26.x/advanced-usage.html#ssl-warnings\n",
      "  warnings.warn(\n",
      "2023-01-16 12:41:01,384 INFO Request is queued\n",
      "/opt/homebrew/Caskroom/miniforge/base/envs/Master_Project/lib/python3.8/site-packages/urllib3/connectionpool.py:1045: InsecureRequestWarning: Unverified HTTPS request is being made to host 'cds.climate.copernicus.eu'. Adding certificate verification is strongly advised. See: https://urllib3.readthedocs.io/en/1.26.x/advanced-usage.html#ssl-warnings\n",
      "  warnings.warn(\n",
      "2023-01-16 12:41:02,517 INFO Request is running\n",
      "/opt/homebrew/Caskroom/miniforge/base/envs/Master_Project/lib/python3.8/site-packages/urllib3/connectionpool.py:1045: InsecureRequestWarning: Unverified HTTPS request is being made to host 'cds.climate.copernicus.eu'. Adding certificate verification is strongly advised. See: https://urllib3.readthedocs.io/en/1.26.x/advanced-usage.html#ssl-warnings\n",
      "  warnings.warn(\n",
      "/opt/homebrew/Caskroom/miniforge/base/envs/Master_Project/lib/python3.8/site-packages/urllib3/connectionpool.py:1045: InsecureRequestWarning: Unverified HTTPS request is being made to host 'cds.climate.copernicus.eu'. Adding certificate verification is strongly advised. See: https://urllib3.readthedocs.io/en/1.26.x/advanced-usage.html#ssl-warnings\n",
      "  warnings.warn(\n",
      "/opt/homebrew/Caskroom/miniforge/base/envs/Master_Project/lib/python3.8/site-packages/urllib3/connectionpool.py:1045: InsecureRequestWarning: Unverified HTTPS request is being made to host 'cds.climate.copernicus.eu'. Adding certificate verification is strongly advised. See: https://urllib3.readthedocs.io/en/1.26.x/advanced-usage.html#ssl-warnings\n",
      "  warnings.warn(\n",
      "/opt/homebrew/Caskroom/miniforge/base/envs/Master_Project/lib/python3.8/site-packages/urllib3/connectionpool.py:1045: InsecureRequestWarning: Unverified HTTPS request is being made to host 'cds.climate.copernicus.eu'. Adding certificate verification is strongly advised. See: https://urllib3.readthedocs.io/en/1.26.x/advanced-usage.html#ssl-warnings\n",
      "  warnings.warn(\n",
      "/opt/homebrew/Caskroom/miniforge/base/envs/Master_Project/lib/python3.8/site-packages/urllib3/connectionpool.py:1045: InsecureRequestWarning: Unverified HTTPS request is being made to host 'cds.climate.copernicus.eu'. Adding certificate verification is strongly advised. See: https://urllib3.readthedocs.io/en/1.26.x/advanced-usage.html#ssl-warnings\n",
      "  warnings.warn(\n",
      "/opt/homebrew/Caskroom/miniforge/base/envs/Master_Project/lib/python3.8/site-packages/urllib3/connectionpool.py:1045: InsecureRequestWarning: Unverified HTTPS request is being made to host 'cds.climate.copernicus.eu'. Adding certificate verification is strongly advised. See: https://urllib3.readthedocs.io/en/1.26.x/advanced-usage.html#ssl-warnings\n",
      "  warnings.warn(\n",
      "/opt/homebrew/Caskroom/miniforge/base/envs/Master_Project/lib/python3.8/site-packages/urllib3/connectionpool.py:1045: InsecureRequestWarning: Unverified HTTPS request is being made to host 'cds.climate.copernicus.eu'. Adding certificate verification is strongly advised. See: https://urllib3.readthedocs.io/en/1.26.x/advanced-usage.html#ssl-warnings\n",
      "  warnings.warn(\n",
      "/opt/homebrew/Caskroom/miniforge/base/envs/Master_Project/lib/python3.8/site-packages/urllib3/connectionpool.py:1045: InsecureRequestWarning: Unverified HTTPS request is being made to host 'cds.climate.copernicus.eu'. Adding certificate verification is strongly advised. See: https://urllib3.readthedocs.io/en/1.26.x/advanced-usage.html#ssl-warnings\n",
      "  warnings.warn(\n",
      "/opt/homebrew/Caskroom/miniforge/base/envs/Master_Project/lib/python3.8/site-packages/urllib3/connectionpool.py:1045: InsecureRequestWarning: Unverified HTTPS request is being made to host 'cds.climate.copernicus.eu'. Adding certificate verification is strongly advised. See: https://urllib3.readthedocs.io/en/1.26.x/advanced-usage.html#ssl-warnings\n",
      "  warnings.warn(\n",
      "/opt/homebrew/Caskroom/miniforge/base/envs/Master_Project/lib/python3.8/site-packages/urllib3/connectionpool.py:1045: InsecureRequestWarning: Unverified HTTPS request is being made to host 'cds.climate.copernicus.eu'. Adding certificate verification is strongly advised. See: https://urllib3.readthedocs.io/en/1.26.x/advanced-usage.html#ssl-warnings\n",
      "  warnings.warn(\n",
      "/opt/homebrew/Caskroom/miniforge/base/envs/Master_Project/lib/python3.8/site-packages/urllib3/connectionpool.py:1045: InsecureRequestWarning: Unverified HTTPS request is being made to host 'cds.climate.copernicus.eu'. Adding certificate verification is strongly advised. See: https://urllib3.readthedocs.io/en/1.26.x/advanced-usage.html#ssl-warnings\n",
      "  warnings.warn(\n",
      "/opt/homebrew/Caskroom/miniforge/base/envs/Master_Project/lib/python3.8/site-packages/urllib3/connectionpool.py:1045: InsecureRequestWarning: Unverified HTTPS request is being made to host 'cds.climate.copernicus.eu'. Adding certificate verification is strongly advised. See: https://urllib3.readthedocs.io/en/1.26.x/advanced-usage.html#ssl-warnings\n",
      "  warnings.warn(\n",
      "/opt/homebrew/Caskroom/miniforge/base/envs/Master_Project/lib/python3.8/site-packages/urllib3/connectionpool.py:1045: InsecureRequestWarning: Unverified HTTPS request is being made to host 'cds.climate.copernicus.eu'. Adding certificate verification is strongly advised. See: https://urllib3.readthedocs.io/en/1.26.x/advanced-usage.html#ssl-warnings\n",
      "  warnings.warn(\n",
      "/opt/homebrew/Caskroom/miniforge/base/envs/Master_Project/lib/python3.8/site-packages/urllib3/connectionpool.py:1045: InsecureRequestWarning: Unverified HTTPS request is being made to host 'cds.climate.copernicus.eu'. Adding certificate verification is strongly advised. See: https://urllib3.readthedocs.io/en/1.26.x/advanced-usage.html#ssl-warnings\n",
      "  warnings.warn(\n",
      "/opt/homebrew/Caskroom/miniforge/base/envs/Master_Project/lib/python3.8/site-packages/urllib3/connectionpool.py:1045: InsecureRequestWarning: Unverified HTTPS request is being made to host 'cds.climate.copernicus.eu'. Adding certificate verification is strongly advised. See: https://urllib3.readthedocs.io/en/1.26.x/advanced-usage.html#ssl-warnings\n",
      "  warnings.warn(\n",
      "/opt/homebrew/Caskroom/miniforge/base/envs/Master_Project/lib/python3.8/site-packages/urllib3/connectionpool.py:1045: InsecureRequestWarning: Unverified HTTPS request is being made to host 'cds.climate.copernicus.eu'. Adding certificate verification is strongly advised. See: https://urllib3.readthedocs.io/en/1.26.x/advanced-usage.html#ssl-warnings\n",
      "  warnings.warn(\n",
      "/opt/homebrew/Caskroom/miniforge/base/envs/Master_Project/lib/python3.8/site-packages/urllib3/connectionpool.py:1045: InsecureRequestWarning: Unverified HTTPS request is being made to host 'cds.climate.copernicus.eu'. Adding certificate verification is strongly advised. See: https://urllib3.readthedocs.io/en/1.26.x/advanced-usage.html#ssl-warnings\n",
      "  warnings.warn(\n",
      "/opt/homebrew/Caskroom/miniforge/base/envs/Master_Project/lib/python3.8/site-packages/urllib3/connectionpool.py:1045: InsecureRequestWarning: Unverified HTTPS request is being made to host 'cds.climate.copernicus.eu'. Adding certificate verification is strongly advised. See: https://urllib3.readthedocs.io/en/1.26.x/advanced-usage.html#ssl-warnings\n",
      "  warnings.warn(\n",
      "/opt/homebrew/Caskroom/miniforge/base/envs/Master_Project/lib/python3.8/site-packages/urllib3/connectionpool.py:1045: InsecureRequestWarning: Unverified HTTPS request is being made to host 'cds.climate.copernicus.eu'. Adding certificate verification is strongly advised. See: https://urllib3.readthedocs.io/en/1.26.x/advanced-usage.html#ssl-warnings\n",
      "  warnings.warn(\n",
      "/opt/homebrew/Caskroom/miniforge/base/envs/Master_Project/lib/python3.8/site-packages/urllib3/connectionpool.py:1045: InsecureRequestWarning: Unverified HTTPS request is being made to host 'cds.climate.copernicus.eu'. Adding certificate verification is strongly advised. See: https://urllib3.readthedocs.io/en/1.26.x/advanced-usage.html#ssl-warnings\n",
      "  warnings.warn(\n",
      "/opt/homebrew/Caskroom/miniforge/base/envs/Master_Project/lib/python3.8/site-packages/urllib3/connectionpool.py:1045: InsecureRequestWarning: Unverified HTTPS request is being made to host 'cds.climate.copernicus.eu'. Adding certificate verification is strongly advised. See: https://urllib3.readthedocs.io/en/1.26.x/advanced-usage.html#ssl-warnings\n",
      "  warnings.warn(\n",
      "/opt/homebrew/Caskroom/miniforge/base/envs/Master_Project/lib/python3.8/site-packages/urllib3/connectionpool.py:1045: InsecureRequestWarning: Unverified HTTPS request is being made to host 'cds.climate.copernicus.eu'. Adding certificate verification is strongly advised. See: https://urllib3.readthedocs.io/en/1.26.x/advanced-usage.html#ssl-warnings\n",
      "  warnings.warn(\n",
      "/opt/homebrew/Caskroom/miniforge/base/envs/Master_Project/lib/python3.8/site-packages/urllib3/connectionpool.py:1045: InsecureRequestWarning: Unverified HTTPS request is being made to host 'cds.climate.copernicus.eu'. Adding certificate verification is strongly advised. See: https://urllib3.readthedocs.io/en/1.26.x/advanced-usage.html#ssl-warnings\n",
      "  warnings.warn(\n",
      "/opt/homebrew/Caskroom/miniforge/base/envs/Master_Project/lib/python3.8/site-packages/urllib3/connectionpool.py:1045: InsecureRequestWarning: Unverified HTTPS request is being made to host 'cds.climate.copernicus.eu'. Adding certificate verification is strongly advised. See: https://urllib3.readthedocs.io/en/1.26.x/advanced-usage.html#ssl-warnings\n",
      "  warnings.warn(\n",
      "/opt/homebrew/Caskroom/miniforge/base/envs/Master_Project/lib/python3.8/site-packages/urllib3/connectionpool.py:1045: InsecureRequestWarning: Unverified HTTPS request is being made to host 'cds.climate.copernicus.eu'. Adding certificate verification is strongly advised. See: https://urllib3.readthedocs.io/en/1.26.x/advanced-usage.html#ssl-warnings\n",
      "  warnings.warn(\n",
      "/opt/homebrew/Caskroom/miniforge/base/envs/Master_Project/lib/python3.8/site-packages/urllib3/connectionpool.py:1045: InsecureRequestWarning: Unverified HTTPS request is being made to host 'cds.climate.copernicus.eu'. Adding certificate verification is strongly advised. See: https://urllib3.readthedocs.io/en/1.26.x/advanced-usage.html#ssl-warnings\n",
      "  warnings.warn(\n",
      "/opt/homebrew/Caskroom/miniforge/base/envs/Master_Project/lib/python3.8/site-packages/urllib3/connectionpool.py:1045: InsecureRequestWarning: Unverified HTTPS request is being made to host 'cds.climate.copernicus.eu'. Adding certificate verification is strongly advised. See: https://urllib3.readthedocs.io/en/1.26.x/advanced-usage.html#ssl-warnings\n",
      "  warnings.warn(\n",
      "/opt/homebrew/Caskroom/miniforge/base/envs/Master_Project/lib/python3.8/site-packages/urllib3/connectionpool.py:1045: InsecureRequestWarning: Unverified HTTPS request is being made to host 'cds.climate.copernicus.eu'. Adding certificate verification is strongly advised. See: https://urllib3.readthedocs.io/en/1.26.x/advanced-usage.html#ssl-warnings\n",
      "  warnings.warn(\n",
      "2023-01-16 13:19:25,986 INFO Request is completed\n",
      "2023-01-16 13:19:26,019 INFO Downloading https://download-0007-clone.copernicus-climate.eu/cache-compute-0007/cache/data9/adaptor.mars.internal-1673871071.6096768-26426-15-fd93f880-086c-4403-aba4-ddad762424ef.nc to ERA5_downloads/singleStations/42095_2020.nc (191.8K)\n",
      "/opt/homebrew/Caskroom/miniforge/base/envs/Master_Project/lib/python3.8/site-packages/urllib3/connectionpool.py:1045: InsecureRequestWarning: Unverified HTTPS request is being made to host 'download-0007-clone.copernicus-climate.eu'. Adding certificate verification is strongly advised. See: https://urllib3.readthedocs.io/en/1.26.x/advanced-usage.html#ssl-warnings\n",
      "  warnings.warn(\n",
      "2023-01-16 13:19:26,853 INFO Download rate 230.3K/s\n"
     ]
    },
    {
     "data": {
      "text/plain": "Result(content_length=196372,content_type=application/x-netcdf,location=https://download-0007-clone.copernicus-climate.eu/cache-compute-0007/cache/data9/adaptor.mars.internal-1673871071.6096768-26426-15-fd93f880-086c-4403-aba4-ddad762424ef.nc)"
     },
     "execution_count": 137,
     "metadata": {},
     "output_type": "execute_result"
    }
   ],
   "source": [
    "c = cdsapi.Client(url, key)\n",
    "\n",
    "c.retrieve(\n",
    "  'reanalysis-era5-single-levels',\n",
    "  {\n",
    "    'product_type': 'reanalysis',\n",
    "\n",
    "    'variable': [\n",
    "        '10m_u_component_of_wind', '10m_v_component_of_wind', '2m_dewpoint_temperature',\n",
    "        '2m_temperature', 'mean_sea_level_pressure', 'mean_wave_direction',\n",
    "        'mean_wave_period', 'sea_surface_temperature', 'significant_height_of_total_swell',\n",
    "    ],\n",
    "\n",
    "    'year': YEAR,\n",
    "    'month': [\n",
    "        '01', '02', '03', '04', '05', '06',\n",
    "        '07', '08', '09', '10', '11', '12',\n",
    "    ],\n",
    "    'day': [\n",
    "        '01', '02', '03', '04', '05', '06', '07', '08', '09', '10',\n",
    "        '11', '12', '13', '14', '15', '16', '17', '18', '19', '20',\n",
    "        '21', '22', '23', '24', '25', '26', '27', '28', '29', '30', '31',\n",
    "    ],\n",
    "    'time': [\n",
    "        '00:00', '01:00', '02:00', '03:00', '04:00', '05:00',\n",
    "        '06:00', '07:00', '08:00', '09:00', '10:00', '11:00',\n",
    "        '12:00', '13:00', '14:00', '15:00', '16:00', '17:00',\n",
    "        '18:00', '19:00', '20:00', '21:00', '22:00', '23:00',\n",
    "    ],\n",
    "    #'area': station_point_coord,  # Area: NORTH, WEST, SOUTH, EAST\n",
    "    'area': COORDS_2,\n",
    "    'format': 'netcdf',\n",
    "  },\n",
    "  f'ERA5_downloads/singleStations/{STATION_ID_2}_{YEAR}.nc')"
   ],
   "metadata": {
    "collapsed": false,
    "pycharm": {
     "name": "#%%\n"
    }
   }
  },
  {
   "cell_type": "code",
   "execution_count": 138,
   "outputs": [
    {
     "data": {
      "text/plain": "<class 'netCDF4._netCDF4.Dataset'>\nroot group (NETCDF3_64BIT_OFFSET data model, file format NETCDF3):\n    Conventions: CF-1.6\n    history: 2023-01-16 12:17:30 GMT by grib_to_netcdf-2.25.1: /opt/ecmwf/mars-client/bin/grib_to_netcdf.bin -S param -o /cache/data9/adaptor.mars.internal-1673871071.6096768-26426-15-fd93f880-086c-4403-aba4-ddad762424ef.nc /cache/tmp/fd93f880-086c-4403-aba4-ddad762424ef-adaptor.mars.internal-1673869261.6168013-26426-23-tmp.grib\n    dimensions(sizes): longitude(1), latitude(1), time(8784)\n    variables(dimensions): float32 longitude(longitude), float32 latitude(latitude), int32 time(time), int16 u10(time, latitude, longitude), int16 v10(time, latitude, longitude), int16 d2m(time, latitude, longitude), int16 t2m(time, latitude, longitude), int16 msl(time, latitude, longitude), int16 mwd(time, latitude, longitude), int16 mwp(time, latitude, longitude), int16 sst(time, latitude, longitude), int16 shts(time, latitude, longitude)\n    groups: "
     },
     "execution_count": 138,
     "metadata": {},
     "output_type": "execute_result"
    }
   ],
   "source": [
    "ds_ERA5_2 = nc.Dataset(f'ERA5_downloads/singleStations/{STATION_ID_2}_{YEAR}.nc')\n",
    "ds_ERA5_2"
   ],
   "metadata": {
    "collapsed": false,
    "pycharm": {
     "name": "#%%\n"
    }
   }
  },
  {
   "cell_type": "code",
   "execution_count": 139,
   "outputs": [],
   "source": [
    "shts_2 = ds_ERA5_2.variables[\"shts\"][:, :, 0].data\n",
    "mwp_2 = ds_ERA5_2.variables[\"mwp\"][:, :, 0].data\n",
    "mwd_2 = ds_ERA5_2.variables[\"mwd\"][:, :, 0].data"
   ],
   "metadata": {
    "collapsed": false,
    "pycharm": {
     "name": "#%%\n"
    }
   }
  },
  {
   "cell_type": "code",
   "execution_count": 140,
   "outputs": [
    {
     "data": {
      "text/plain": "                     WVHT_42095  APD_42095   MWD_42095\ntimestamp                                             \n2020-01-01 00:00:00    0.628299   4.503230  350.407556\n2020-01-01 01:00:00    0.662221   4.576796  347.760078\n2020-01-01 02:00:00    0.672740   4.653110  345.425683\n2020-01-01 03:00:00    0.671013   4.718079  343.393386\n2020-01-01 04:00:00    0.665409   4.764022  341.756564\n...                         ...        ...         ...\n2020-12-31 19:00:00    0.853743   5.635680  119.879205\n2020-12-31 20:00:00    0.841126   5.621940  119.384863\n2020-12-31 21:00:00    0.802715   5.604887  118.753203\n2020-12-31 22:00:00    0.694097   5.594106  117.709591\n2020-12-31 23:00:00    0.603755   5.576208  116.759355\n\n[8784 rows x 3 columns]",
      "text/html": "<div>\n<style scoped>\n    .dataframe tbody tr th:only-of-type {\n        vertical-align: middle;\n    }\n\n    .dataframe tbody tr th {\n        vertical-align: top;\n    }\n\n    .dataframe thead th {\n        text-align: right;\n    }\n</style>\n<table border=\"1\" class=\"dataframe\">\n  <thead>\n    <tr style=\"text-align: right;\">\n      <th></th>\n      <th>WVHT_42095</th>\n      <th>APD_42095</th>\n      <th>MWD_42095</th>\n    </tr>\n    <tr>\n      <th>timestamp</th>\n      <th></th>\n      <th></th>\n      <th></th>\n    </tr>\n  </thead>\n  <tbody>\n    <tr>\n      <th>2020-01-01 00:00:00</th>\n      <td>0.628299</td>\n      <td>4.503230</td>\n      <td>350.407556</td>\n    </tr>\n    <tr>\n      <th>2020-01-01 01:00:00</th>\n      <td>0.662221</td>\n      <td>4.576796</td>\n      <td>347.760078</td>\n    </tr>\n    <tr>\n      <th>2020-01-01 02:00:00</th>\n      <td>0.672740</td>\n      <td>4.653110</td>\n      <td>345.425683</td>\n    </tr>\n    <tr>\n      <th>2020-01-01 03:00:00</th>\n      <td>0.671013</td>\n      <td>4.718079</td>\n      <td>343.393386</td>\n    </tr>\n    <tr>\n      <th>2020-01-01 04:00:00</th>\n      <td>0.665409</td>\n      <td>4.764022</td>\n      <td>341.756564</td>\n    </tr>\n    <tr>\n      <th>...</th>\n      <td>...</td>\n      <td>...</td>\n      <td>...</td>\n    </tr>\n    <tr>\n      <th>2020-12-31 19:00:00</th>\n      <td>0.853743</td>\n      <td>5.635680</td>\n      <td>119.879205</td>\n    </tr>\n    <tr>\n      <th>2020-12-31 20:00:00</th>\n      <td>0.841126</td>\n      <td>5.621940</td>\n      <td>119.384863</td>\n    </tr>\n    <tr>\n      <th>2020-12-31 21:00:00</th>\n      <td>0.802715</td>\n      <td>5.604887</td>\n      <td>118.753203</td>\n    </tr>\n    <tr>\n      <th>2020-12-31 22:00:00</th>\n      <td>0.694097</td>\n      <td>5.594106</td>\n      <td>117.709591</td>\n    </tr>\n    <tr>\n      <th>2020-12-31 23:00:00</th>\n      <td>0.603755</td>\n      <td>5.576208</td>\n      <td>116.759355</td>\n    </tr>\n  </tbody>\n</table>\n<p>8784 rows × 3 columns</p>\n</div>"
     },
     "execution_count": 140,
     "metadata": {},
     "output_type": "execute_result"
    }
   ],
   "source": [
    "df_ERA5_2 = pd.DataFrame({  f'WVHT_{STATION_ID_2}': shts_2[:,0],   # SHTS\n",
    "                            f'APD_{STATION_ID_2}': mwp_2[:,0],     # MWP\n",
    "                            f'MWD_{STATION_ID_2}': mwd_2[:,0],     # MWD\n",
    "        })\n",
    "\n",
    "df_ERA5_2[\"timestamp\"] = timestamp_filter_list\n",
    "df_ERA5_2.set_index('timestamp', inplace = True)\n",
    "\n",
    "df_ERA5_2\n"
   ],
   "metadata": {
    "collapsed": false,
    "pycharm": {
     "name": "#%%\n"
    }
   }
  },
  {
   "cell_type": "markdown",
   "source": [
    "# Compare the two dataframes for those variables which have been null in first test"
   ],
   "metadata": {
    "collapsed": false,
    "pycharm": {
     "name": "#%% md\n"
    }
   }
  },
  {
   "cell_type": "code",
   "execution_count": 144,
   "outputs": [],
   "source": [
    "features_2 = list(df_NDBC_2.columns.values)\n",
    "\n",
    "delta_absolute_2 = pd.DataFrame({\"timestamp\": timestamp_filter_list})\n",
    "delta_absolute_2.set_index(\"timestamp\", inplace=True)\n",
    "\n",
    "delta_relative_2 = delta_absolute_2.copy(deep=True)\n",
    "\n",
    "for feature in features_2:\n",
    "    delta_absolute_2[feature] = df_NDBC_2[feature] - df_ERA5_2[feature]\n",
    "    delta_relative_2[feature] = round(delta_absolute_2[feature] * 100 / df_NDBC_2[feature], 2)  # deviation from NDBC data in %"
   ],
   "metadata": {
    "collapsed": false,
    "pycharm": {
     "name": "#%%\n"
    }
   }
  },
  {
   "cell_type": "code",
   "execution_count": 145,
   "outputs": [
    {
     "name": "stdout",
     "output_type": "stream",
     "text": [
      "Absolute deviation from NDBC:\n"
     ]
    },
    {
     "data": {
      "text/plain": "                     WVHT_42095  APD_42095  MWD_42095\ntimestamp                                            \n2020-01-01 00:00:00   -0.118299  -1.343230 -85.407556\n2020-01-01 01:00:00   -0.082221  -0.406796 -88.760078\n2020-01-01 02:00:00   -0.082740   0.146890 -83.425683\n2020-01-01 03:00:00   -0.111013  -0.128079 -82.393386\n2020-01-01 04:00:00   -0.065409  -0.544022 -82.756564\n...                         ...        ...        ...\n2020-12-31 19:00:00    1.986257   0.714320 -12.879205\n2020-12-31 20:00:00    2.188874   0.988060 -22.384863\n2020-12-31 21:00:00    2.377285   1.225113 -18.753203\n2020-12-31 22:00:00    2.325903   1.205894 -10.709591\n2020-12-31 23:00:00    2.486245   1.153792 -15.759355\n\n[8784 rows x 3 columns]",
      "text/html": "<div>\n<style scoped>\n    .dataframe tbody tr th:only-of-type {\n        vertical-align: middle;\n    }\n\n    .dataframe tbody tr th {\n        vertical-align: top;\n    }\n\n    .dataframe thead th {\n        text-align: right;\n    }\n</style>\n<table border=\"1\" class=\"dataframe\">\n  <thead>\n    <tr style=\"text-align: right;\">\n      <th></th>\n      <th>WVHT_42095</th>\n      <th>APD_42095</th>\n      <th>MWD_42095</th>\n    </tr>\n    <tr>\n      <th>timestamp</th>\n      <th></th>\n      <th></th>\n      <th></th>\n    </tr>\n  </thead>\n  <tbody>\n    <tr>\n      <th>2020-01-01 00:00:00</th>\n      <td>-0.118299</td>\n      <td>-1.343230</td>\n      <td>-85.407556</td>\n    </tr>\n    <tr>\n      <th>2020-01-01 01:00:00</th>\n      <td>-0.082221</td>\n      <td>-0.406796</td>\n      <td>-88.760078</td>\n    </tr>\n    <tr>\n      <th>2020-01-01 02:00:00</th>\n      <td>-0.082740</td>\n      <td>0.146890</td>\n      <td>-83.425683</td>\n    </tr>\n    <tr>\n      <th>2020-01-01 03:00:00</th>\n      <td>-0.111013</td>\n      <td>-0.128079</td>\n      <td>-82.393386</td>\n    </tr>\n    <tr>\n      <th>2020-01-01 04:00:00</th>\n      <td>-0.065409</td>\n      <td>-0.544022</td>\n      <td>-82.756564</td>\n    </tr>\n    <tr>\n      <th>...</th>\n      <td>...</td>\n      <td>...</td>\n      <td>...</td>\n    </tr>\n    <tr>\n      <th>2020-12-31 19:00:00</th>\n      <td>1.986257</td>\n      <td>0.714320</td>\n      <td>-12.879205</td>\n    </tr>\n    <tr>\n      <th>2020-12-31 20:00:00</th>\n      <td>2.188874</td>\n      <td>0.988060</td>\n      <td>-22.384863</td>\n    </tr>\n    <tr>\n      <th>2020-12-31 21:00:00</th>\n      <td>2.377285</td>\n      <td>1.225113</td>\n      <td>-18.753203</td>\n    </tr>\n    <tr>\n      <th>2020-12-31 22:00:00</th>\n      <td>2.325903</td>\n      <td>1.205894</td>\n      <td>-10.709591</td>\n    </tr>\n    <tr>\n      <th>2020-12-31 23:00:00</th>\n      <td>2.486245</td>\n      <td>1.153792</td>\n      <td>-15.759355</td>\n    </tr>\n  </tbody>\n</table>\n<p>8784 rows × 3 columns</p>\n</div>"
     },
     "execution_count": 145,
     "metadata": {},
     "output_type": "execute_result"
    }
   ],
   "source": [
    "print(\"Absolute deviation from NDBC:\")\n",
    "delta_absolute_2"
   ],
   "metadata": {
    "collapsed": false,
    "pycharm": {
     "name": "#%%\n"
    }
   }
  },
  {
   "cell_type": "code",
   "execution_count": 146,
   "outputs": [
    {
     "name": "stdout",
     "output_type": "stream",
     "text": [
      "Deviation from NDBC data in %:\n"
     ]
    },
    {
     "data": {
      "text/plain": "                     WVHT_42095  APD_42095  MWD_42095\ntimestamp                                            \n2020-01-01 00:00:00      -23.20     -42.51     -32.23\n2020-01-01 01:00:00      -14.18      -9.76     -34.27\n2020-01-01 02:00:00      -14.02       3.06     -31.84\n2020-01-01 03:00:00      -19.82      -2.79     -31.57\n2020-01-01 04:00:00      -10.90     -12.89     -31.95\n...                         ...        ...        ...\n2020-12-31 19:00:00       69.94      11.25     -12.04\n2020-12-31 20:00:00       72.24      14.95     -23.08\n2020-12-31 21:00:00       74.76      17.94     -18.75\n2020-12-31 22:00:00       77.02      17.73     -10.01\n2020-12-31 23:00:00       80.46      17.14     -15.60\n\n[8784 rows x 3 columns]",
      "text/html": "<div>\n<style scoped>\n    .dataframe tbody tr th:only-of-type {\n        vertical-align: middle;\n    }\n\n    .dataframe tbody tr th {\n        vertical-align: top;\n    }\n\n    .dataframe thead th {\n        text-align: right;\n    }\n</style>\n<table border=\"1\" class=\"dataframe\">\n  <thead>\n    <tr style=\"text-align: right;\">\n      <th></th>\n      <th>WVHT_42095</th>\n      <th>APD_42095</th>\n      <th>MWD_42095</th>\n    </tr>\n    <tr>\n      <th>timestamp</th>\n      <th></th>\n      <th></th>\n      <th></th>\n    </tr>\n  </thead>\n  <tbody>\n    <tr>\n      <th>2020-01-01 00:00:00</th>\n      <td>-23.20</td>\n      <td>-42.51</td>\n      <td>-32.23</td>\n    </tr>\n    <tr>\n      <th>2020-01-01 01:00:00</th>\n      <td>-14.18</td>\n      <td>-9.76</td>\n      <td>-34.27</td>\n    </tr>\n    <tr>\n      <th>2020-01-01 02:00:00</th>\n      <td>-14.02</td>\n      <td>3.06</td>\n      <td>-31.84</td>\n    </tr>\n    <tr>\n      <th>2020-01-01 03:00:00</th>\n      <td>-19.82</td>\n      <td>-2.79</td>\n      <td>-31.57</td>\n    </tr>\n    <tr>\n      <th>2020-01-01 04:00:00</th>\n      <td>-10.90</td>\n      <td>-12.89</td>\n      <td>-31.95</td>\n    </tr>\n    <tr>\n      <th>...</th>\n      <td>...</td>\n      <td>...</td>\n      <td>...</td>\n    </tr>\n    <tr>\n      <th>2020-12-31 19:00:00</th>\n      <td>69.94</td>\n      <td>11.25</td>\n      <td>-12.04</td>\n    </tr>\n    <tr>\n      <th>2020-12-31 20:00:00</th>\n      <td>72.24</td>\n      <td>14.95</td>\n      <td>-23.08</td>\n    </tr>\n    <tr>\n      <th>2020-12-31 21:00:00</th>\n      <td>74.76</td>\n      <td>17.94</td>\n      <td>-18.75</td>\n    </tr>\n    <tr>\n      <th>2020-12-31 22:00:00</th>\n      <td>77.02</td>\n      <td>17.73</td>\n      <td>-10.01</td>\n    </tr>\n    <tr>\n      <th>2020-12-31 23:00:00</th>\n      <td>80.46</td>\n      <td>17.14</td>\n      <td>-15.60</td>\n    </tr>\n  </tbody>\n</table>\n<p>8784 rows × 3 columns</p>\n</div>"
     },
     "execution_count": 146,
     "metadata": {},
     "output_type": "execute_result"
    }
   ],
   "source": [
    "print(\"Deviation from NDBC data in %:\")\n",
    "delta_relative_2"
   ],
   "metadata": {
    "collapsed": false,
    "pycharm": {
     "name": "#%%\n"
    }
   }
  },
  {
   "cell_type": "code",
   "execution_count": 147,
   "outputs": [
    {
     "data": {
      "text/plain": "       WVHT_42095    APD_42095     MWD_42095\ncount  7466.00000  7466.000000   7033.000000\nmean     21.39875   -16.647135    -25.422643\nstd      31.18546    18.257572    572.955527\nmin    -172.87000  -110.530000 -33367.100000\n25%       1.64250   -27.517500    -14.000000\n50%      23.55000   -15.640000      0.440000\n75%      43.30000    -4.940000     16.310000\nmax      97.28000    55.230000     99.970000",
      "text/html": "<div>\n<style scoped>\n    .dataframe tbody tr th:only-of-type {\n        vertical-align: middle;\n    }\n\n    .dataframe tbody tr th {\n        vertical-align: top;\n    }\n\n    .dataframe thead th {\n        text-align: right;\n    }\n</style>\n<table border=\"1\" class=\"dataframe\">\n  <thead>\n    <tr style=\"text-align: right;\">\n      <th></th>\n      <th>WVHT_42095</th>\n      <th>APD_42095</th>\n      <th>MWD_42095</th>\n    </tr>\n  </thead>\n  <tbody>\n    <tr>\n      <th>count</th>\n      <td>7466.00000</td>\n      <td>7466.000000</td>\n      <td>7033.000000</td>\n    </tr>\n    <tr>\n      <th>mean</th>\n      <td>21.39875</td>\n      <td>-16.647135</td>\n      <td>-25.422643</td>\n    </tr>\n    <tr>\n      <th>std</th>\n      <td>31.18546</td>\n      <td>18.257572</td>\n      <td>572.955527</td>\n    </tr>\n    <tr>\n      <th>min</th>\n      <td>-172.87000</td>\n      <td>-110.530000</td>\n      <td>-33367.100000</td>\n    </tr>\n    <tr>\n      <th>25%</th>\n      <td>1.64250</td>\n      <td>-27.517500</td>\n      <td>-14.000000</td>\n    </tr>\n    <tr>\n      <th>50%</th>\n      <td>23.55000</td>\n      <td>-15.640000</td>\n      <td>0.440000</td>\n    </tr>\n    <tr>\n      <th>75%</th>\n      <td>43.30000</td>\n      <td>-4.940000</td>\n      <td>16.310000</td>\n    </tr>\n    <tr>\n      <th>max</th>\n      <td>97.28000</td>\n      <td>55.230000</td>\n      <td>99.970000</td>\n    </tr>\n  </tbody>\n</table>\n</div>"
     },
     "execution_count": 147,
     "metadata": {},
     "output_type": "execute_result"
    }
   ],
   "source": [
    "delta_relative_2.describe()"
   ],
   "metadata": {
    "collapsed": false,
    "pycharm": {
     "name": "#%%\n"
    }
   }
  },
  {
   "cell_type": "markdown",
   "source": [
    "Visualize deviation"
   ],
   "metadata": {
    "collapsed": false,
    "pycharm": {
     "name": "#%% md\n"
    }
   }
  },
  {
   "cell_type": "code",
   "execution_count": 154,
   "outputs": [
    {
     "data": {
      "text/plain": "pandas.core.frame.DataFrame"
     },
     "execution_count": 154,
     "metadata": {},
     "output_type": "execute_result"
    }
   ],
   "source": [],
   "metadata": {
    "collapsed": false,
    "pycharm": {
     "name": "#%%\n"
    }
   }
  },
  {
   "cell_type": "code",
   "execution_count": 148,
   "outputs": [
    {
     "data": {
      "text/plain": "[]"
     },
     "execution_count": 148,
     "metadata": {},
     "output_type": "execute_result"
    },
    {
     "data": {
      "text/plain": "<Figure size 640x480 with 1 Axes>",
      "image/png": "[encoded data removed]"
     },
     "metadata": {},
     "output_type": "display_data"
    }
   ],
   "source": [
    "delta_absolute_2.boxplot(\"WVHT_42095\").plot()"
   ],
   "metadata": {
    "collapsed": false,
    "pycharm": {
     "name": "#%%\n"
    }
   }
  },
  {
   "cell_type": "code",
   "execution_count": 149,
   "outputs": [
    {
     "data": {
      "text/plain": "[]"
     },
     "execution_count": 149,
     "metadata": {},
     "output_type": "execute_result"
    },
    {
     "data": {
      "text/plain": "<Figure size 640x480 with 1 Axes>",
      "image/png": "[encoded data removed]"
     },
     "metadata": {},
     "output_type": "display_data"
    }
   ],
   "source": [
    "delta_relative_2.boxplot(\"WVHT_42095\").plot()"
   ],
   "metadata": {
    "collapsed": false,
    "pycharm": {
     "name": "#%%\n"
    }
   }
  },
  {
   "cell_type": "code",
   "execution_count": 150,
   "outputs": [
    {
     "data": {
      "text/plain": "[]"
     },
     "execution_count": 150,
     "metadata": {},
     "output_type": "execute_result"
    },
    {
     "data": {
      "text/plain": "<Figure size 640x480 with 1 Axes>",
      "image/png": "[encoded data removed]"
     },
     "metadata": {},
     "output_type": "display_data"
    }
   ],
   "source": [
    "delta_absolute_2.boxplot(\"APD_42095\").plot()"
   ],
   "metadata": {
    "collapsed": false,
    "pycharm": {
     "name": "#%%\n"
    }
   }
  },
  {
   "cell_type": "code",
   "execution_count": 151,
   "outputs": [
    {
     "data": {
      "text/plain": "[]"
     },
     "execution_count": 151,
     "metadata": {},
     "output_type": "execute_result"
    },
    {
     "data": {
      "text/plain": "<Figure size 640x480 with 1 Axes>",
      "image/png": "[encoded data removed]"
     },
     "metadata": {},
     "output_type": "display_data"
    }
   ],
   "source": [
    "delta_relative_2.boxplot(\"APD_42095\").plot()"
   ],
   "metadata": {
    "collapsed": false,
    "pycharm": {
     "name": "#%%\n"
    }
   }
  },
  {
   "cell_type": "code",
   "execution_count": 152,
   "outputs": [
    {
     "data": {
      "text/plain": "[]"
     },
     "execution_count": 152,
     "metadata": {},
     "output_type": "execute_result"
    },
    {
     "data": {
      "text/plain": "<Figure size 640x480 with 1 Axes>",
      "image/png": "[encoded data removed]"
     },
     "metadata": {},
     "output_type": "display_data"
    }
   ],
   "source": [
    "delta_absolute_2.boxplot(\"MWD_42095\").plot()"
   ],
   "metadata": {
    "collapsed": false,
    "pycharm": {
     "name": "#%%\n"
    }
   }
  },
  {
   "cell_type": "code",
   "execution_count": 153,
   "outputs": [
    {
     "data": {
      "text/plain": "[]"
     },
     "execution_count": 153,
     "metadata": {},
     "output_type": "execute_result"
    },
    {
     "data": {
      "text/plain": "<Figure size 640x480 with 1 Axes>",
      "image/png": "[encoded data removed]"
     },
     "metadata": {},
     "output_type": "display_data"
    }
   ],
   "source": [
    "delta_relative_2.boxplot(\"MWD_42095\").plot()"
   ],
   "metadata": {
    "collapsed": false,
    "pycharm": {
     "name": "#%%\n"
    }
   }
  },
  {
   "cell_type": "markdown",
   "source": [
    "# Merged statistic"
   ],
   "metadata": {
    "collapsed": false,
    "pycharm": {
     "name": "#%% md\n"
    }
   }
  },
  {
   "cell_type": "code",
   "execution_count": 157,
   "outputs": [
    {
     "data": {
      "text/plain": "                     WDIR_venf1  WSPD_venf1  WVHT_venf1  APD_venf1  MWD_venf1  \\\ntimestamp                                                                       \n2020-01-01 00:00:00    -1829.37      -53.19         NaN        NaN        NaN   \n2020-01-01 01:00:00    -6655.00      -38.99         NaN        NaN        NaN   \n2020-01-01 02:00:00    -4404.38      -91.78         NaN        NaN        NaN   \n2020-01-01 03:00:00       23.86      -41.53         NaN        NaN        NaN   \n2020-01-01 04:00:00    -4405.41      -64.21         NaN        NaN        NaN   \n...                         ...         ...         ...        ...        ...   \n2020-12-31 19:00:00       43.05      -30.40         NaN        NaN        NaN   \n2020-12-31 20:00:00       48.28        5.06         NaN        NaN        NaN   \n2020-12-31 21:00:00       43.79      -74.78         NaN        NaN        NaN   \n2020-12-31 22:00:00       44.69      -32.80         NaN        NaN        NaN   \n2020-12-31 23:00:00       35.22     -110.97         NaN        NaN        NaN   \n\n                     PRES_venf1  ATMP_venf1  WTMP_venf1  DEWP_venf1  \ntimestamp                                                            \n2020-01-01 00:00:00       -0.01       -4.56        2.81       -9.64  \n2020-01-01 01:00:00       -0.02       -7.33        2.35       -2.64  \n2020-01-01 02:00:00       -0.00       -8.45        1.89       -3.33  \n2020-01-01 03:00:00        0.00       -7.28        1.42       -1.50  \n2020-01-01 04:00:00       -0.02      -12.21        1.42       -8.35  \n...                         ...         ...         ...         ...  \n2020-12-31 19:00:00       -0.03        1.44       -0.63       13.45  \n2020-12-31 20:00:00       -0.04        3.02       -0.63       14.77  \n2020-12-31 21:00:00        0.00       -6.90        0.48       13.26  \n2020-12-31 22:00:00       -0.02       -3.69       -2.57       11.51  \n2020-12-31 23:00:00       -0.02        0.97       -1.44       15.93  \n\n[8784 rows x 9 columns]",
      "text/html": "<div>\n<style scoped>\n    .dataframe tbody tr th:only-of-type {\n        vertical-align: middle;\n    }\n\n    .dataframe tbody tr th {\n        vertical-align: top;\n    }\n\n    .dataframe thead th {\n        text-align: right;\n    }\n</style>\n<table border=\"1\" class=\"dataframe\">\n  <thead>\n    <tr style=\"text-align: right;\">\n      <th></th>\n      <th>WDIR_venf1</th>\n      <th>WSPD_venf1</th>\n      <th>WVHT_venf1</th>\n      <th>APD_venf1</th>\n      <th>MWD_venf1</th>\n      <th>PRES_venf1</th>\n      <th>ATMP_venf1</th>\n      <th>WTMP_venf1</th>\n      <th>DEWP_venf1</th>\n    </tr>\n    <tr>\n      <th>timestamp</th>\n      <th></th>\n      <th></th>\n      <th></th>\n      <th></th>\n      <th></th>\n      <th></th>\n      <th></th>\n      <th></th>\n      <th></th>\n    </tr>\n  </thead>\n  <tbody>\n    <tr>\n      <th>2020-01-01 00:00:00</th>\n      <td>-1829.37</td>\n      <td>-53.19</td>\n      <td>NaN</td>\n      <td>NaN</td>\n      <td>NaN</td>\n      <td>-0.01</td>\n      <td>-4.56</td>\n      <td>2.81</td>\n      <td>-9.64</td>\n    </tr>\n    <tr>\n      <th>2020-01-01 01:00:00</th>\n      <td>-6655.00</td>\n      <td>-38.99</td>\n      <td>NaN</td>\n      <td>NaN</td>\n      <td>NaN</td>\n      <td>-0.02</td>\n      <td>-7.33</td>\n      <td>2.35</td>\n      <td>-2.64</td>\n    </tr>\n    <tr>\n      <th>2020-01-01 02:00:00</th>\n      <td>-4404.38</td>\n      <td>-91.78</td>\n      <td>NaN</td>\n      <td>NaN</td>\n      <td>NaN</td>\n      <td>-0.00</td>\n      <td>-8.45</td>\n      <td>1.89</td>\n      <td>-3.33</td>\n    </tr>\n    <tr>\n      <th>2020-01-01 03:00:00</th>\n      <td>23.86</td>\n      <td>-41.53</td>\n      <td>NaN</td>\n      <td>NaN</td>\n      <td>NaN</td>\n      <td>0.00</td>\n      <td>-7.28</td>\n      <td>1.42</td>\n      <td>-1.50</td>\n    </tr>\n    <tr>\n      <th>2020-01-01 04:00:00</th>\n      <td>-4405.41</td>\n      <td>-64.21</td>\n      <td>NaN</td>\n      <td>NaN</td>\n      <td>NaN</td>\n      <td>-0.02</td>\n      <td>-12.21</td>\n      <td>1.42</td>\n      <td>-8.35</td>\n    </tr>\n    <tr>\n      <th>...</th>\n      <td>...</td>\n      <td>...</td>\n      <td>...</td>\n      <td>...</td>\n      <td>...</td>\n      <td>...</td>\n      <td>...</td>\n      <td>...</td>\n      <td>...</td>\n    </tr>\n    <tr>\n      <th>2020-12-31 19:00:00</th>\n      <td>43.05</td>\n      <td>-30.40</td>\n      <td>NaN</td>\n      <td>NaN</td>\n      <td>NaN</td>\n      <td>-0.03</td>\n      <td>1.44</td>\n      <td>-0.63</td>\n      <td>13.45</td>\n    </tr>\n    <tr>\n      <th>2020-12-31 20:00:00</th>\n      <td>48.28</td>\n      <td>5.06</td>\n      <td>NaN</td>\n      <td>NaN</td>\n      <td>NaN</td>\n      <td>-0.04</td>\n      <td>3.02</td>\n      <td>-0.63</td>\n      <td>14.77</td>\n    </tr>\n    <tr>\n      <th>2020-12-31 21:00:00</th>\n      <td>43.79</td>\n      <td>-74.78</td>\n      <td>NaN</td>\n      <td>NaN</td>\n      <td>NaN</td>\n      <td>0.00</td>\n      <td>-6.90</td>\n      <td>0.48</td>\n      <td>13.26</td>\n    </tr>\n    <tr>\n      <th>2020-12-31 22:00:00</th>\n      <td>44.69</td>\n      <td>-32.80</td>\n      <td>NaN</td>\n      <td>NaN</td>\n      <td>NaN</td>\n      <td>-0.02</td>\n      <td>-3.69</td>\n      <td>-2.57</td>\n      <td>11.51</td>\n    </tr>\n    <tr>\n      <th>2020-12-31 23:00:00</th>\n      <td>35.22</td>\n      <td>-110.97</td>\n      <td>NaN</td>\n      <td>NaN</td>\n      <td>NaN</td>\n      <td>-0.02</td>\n      <td>0.97</td>\n      <td>-1.44</td>\n      <td>15.93</td>\n    </tr>\n  </tbody>\n</table>\n<p>8784 rows × 9 columns</p>\n</div>"
     },
     "execution_count": 157,
     "metadata": {},
     "output_type": "execute_result"
    }
   ],
   "source": [
    "delta_relative"
   ],
   "metadata": {
    "collapsed": false,
    "pycharm": {
     "name": "#%%\n"
    }
   }
  },
  {
   "cell_type": "code",
   "execution_count": 161,
   "outputs": [
    {
     "data": {
      "text/plain": "                     WDIR_venf1  WSPD_venf1  PRES_venf1  ATMP_venf1  \\\ntimestamp                                                             \n2020-01-01 00:00:00    -1829.37      -53.19       -0.01       -4.56   \n2020-01-01 01:00:00    -6655.00      -38.99       -0.02       -7.33   \n2020-01-01 02:00:00    -4404.38      -91.78       -0.00       -8.45   \n2020-01-01 03:00:00       23.86      -41.53        0.00       -7.28   \n2020-01-01 04:00:00    -4405.41      -64.21       -0.02      -12.21   \n...                         ...         ...         ...         ...   \n2020-12-31 19:00:00       43.05      -30.40       -0.03        1.44   \n2020-12-31 20:00:00       48.28        5.06       -0.04        3.02   \n2020-12-31 21:00:00       43.79      -74.78        0.00       -6.90   \n2020-12-31 22:00:00       44.69      -32.80       -0.02       -3.69   \n2020-12-31 23:00:00       35.22     -110.97       -0.02        0.97   \n\n                     WTMP_venf1  DEWP_venf1  WVHT_42095  APD_42095  MWD_42095  \ntimestamp                                                                      \n2020-01-01 00:00:00        2.81       -9.64      -23.20     -42.51     -32.23  \n2020-01-01 01:00:00        2.35       -2.64      -14.18      -9.76     -34.27  \n2020-01-01 02:00:00        1.89       -3.33      -14.02       3.06     -31.84  \n2020-01-01 03:00:00        1.42       -1.50      -19.82      -2.79     -31.57  \n2020-01-01 04:00:00        1.42       -8.35      -10.90     -12.89     -31.95  \n...                         ...         ...         ...        ...        ...  \n2020-12-31 19:00:00       -0.63       13.45       69.94      11.25     -12.04  \n2020-12-31 20:00:00       -0.63       14.77       72.24      14.95     -23.08  \n2020-12-31 21:00:00        0.48       13.26       74.76      17.94     -18.75  \n2020-12-31 22:00:00       -2.57       11.51       77.02      17.73     -10.01  \n2020-12-31 23:00:00       -1.44       15.93       80.46      17.14     -15.60  \n\n[8784 rows x 9 columns]",
      "text/html": "<div>\n<style scoped>\n    .dataframe tbody tr th:only-of-type {\n        vertical-align: middle;\n    }\n\n    .dataframe tbody tr th {\n        vertical-align: top;\n    }\n\n    .dataframe thead th {\n        text-align: right;\n    }\n</style>\n<table border=\"1\" class=\"dataframe\">\n  <thead>\n    <tr style=\"text-align: right;\">\n      <th></th>\n      <th>WDIR_venf1</th>\n      <th>WSPD_venf1</th>\n      <th>PRES_venf1</th>\n      <th>ATMP_venf1</th>\n      <th>WTMP_venf1</th>\n      <th>DEWP_venf1</th>\n      <th>WVHT_42095</th>\n      <th>APD_42095</th>\n      <th>MWD_42095</th>\n    </tr>\n    <tr>\n      <th>timestamp</th>\n      <th></th>\n      <th></th>\n      <th></th>\n      <th></th>\n      <th></th>\n      <th></th>\n      <th></th>\n      <th></th>\n      <th></th>\n    </tr>\n  </thead>\n  <tbody>\n    <tr>\n      <th>2020-01-01 00:00:00</th>\n      <td>-1829.37</td>\n      <td>-53.19</td>\n      <td>-0.01</td>\n      <td>-4.56</td>\n      <td>2.81</td>\n      <td>-9.64</td>\n      <td>-23.20</td>\n      <td>-42.51</td>\n      <td>-32.23</td>\n    </tr>\n    <tr>\n      <th>2020-01-01 01:00:00</th>\n      <td>-6655.00</td>\n      <td>-38.99</td>\n      <td>-0.02</td>\n      <td>-7.33</td>\n      <td>2.35</td>\n      <td>-2.64</td>\n      <td>-14.18</td>\n      <td>-9.76</td>\n      <td>-34.27</td>\n    </tr>\n    <tr>\n      <th>2020-01-01 02:00:00</th>\n      <td>-4404.38</td>\n      <td>-91.78</td>\n      <td>-0.00</td>\n      <td>-8.45</td>\n      <td>1.89</td>\n      <td>-3.33</td>\n      <td>-14.02</td>\n      <td>3.06</td>\n      <td>-31.84</td>\n    </tr>\n    <tr>\n      <th>2020-01-01 03:00:00</th>\n      <td>23.86</td>\n      <td>-41.53</td>\n      <td>0.00</td>\n      <td>-7.28</td>\n      <td>1.42</td>\n      <td>-1.50</td>\n      <td>-19.82</td>\n      <td>-2.79</td>\n      <td>-31.57</td>\n    </tr>\n    <tr>\n      <th>2020-01-01 04:00:00</th>\n      <td>-4405.41</td>\n      <td>-64.21</td>\n      <td>-0.02</td>\n      <td>-12.21</td>\n      <td>1.42</td>\n      <td>-8.35</td>\n      <td>-10.90</td>\n      <td>-12.89</td>\n      <td>-31.95</td>\n    </tr>\n    <tr>\n      <th>...</th>\n      <td>...</td>\n      <td>...</td>\n      <td>...</td>\n      <td>...</td>\n      <td>...</td>\n      <td>...</td>\n      <td>...</td>\n      <td>...</td>\n      <td>...</td>\n    </tr>\n    <tr>\n      <th>2020-12-31 19:00:00</th>\n      <td>43.05</td>\n      <td>-30.40</td>\n      <td>-0.03</td>\n      <td>1.44</td>\n      <td>-0.63</td>\n      <td>13.45</td>\n      <td>69.94</td>\n      <td>11.25</td>\n      <td>-12.04</td>\n    </tr>\n    <tr>\n      <th>2020-12-31 20:00:00</th>\n      <td>48.28</td>\n      <td>5.06</td>\n      <td>-0.04</td>\n      <td>3.02</td>\n      <td>-0.63</td>\n      <td>14.77</td>\n      <td>72.24</td>\n      <td>14.95</td>\n      <td>-23.08</td>\n    </tr>\n    <tr>\n      <th>2020-12-31 21:00:00</th>\n      <td>43.79</td>\n      <td>-74.78</td>\n      <td>0.00</td>\n      <td>-6.90</td>\n      <td>0.48</td>\n      <td>13.26</td>\n      <td>74.76</td>\n      <td>17.94</td>\n      <td>-18.75</td>\n    </tr>\n    <tr>\n      <th>2020-12-31 22:00:00</th>\n      <td>44.69</td>\n      <td>-32.80</td>\n      <td>-0.02</td>\n      <td>-3.69</td>\n      <td>-2.57</td>\n      <td>11.51</td>\n      <td>77.02</td>\n      <td>17.73</td>\n      <td>-10.01</td>\n    </tr>\n    <tr>\n      <th>2020-12-31 23:00:00</th>\n      <td>35.22</td>\n      <td>-110.97</td>\n      <td>-0.02</td>\n      <td>0.97</td>\n      <td>-1.44</td>\n      <td>15.93</td>\n      <td>80.46</td>\n      <td>17.14</td>\n      <td>-15.60</td>\n    </tr>\n  </tbody>\n</table>\n<p>8784 rows × 9 columns</p>\n</div>"
     },
     "execution_count": 161,
     "metadata": {},
     "output_type": "execute_result"
    }
   ],
   "source": [
    "delta_relative_merged = delta_relative.copy(deep=True)\n",
    "delta_relative_merged[\"WVHT_42095\"] = delta_relative_2[\"WVHT_42095\"]\n",
    "delta_relative_merged[\"APD_42095\"] = delta_relative_2[\"APD_42095\"]\n",
    "delta_relative_merged[\"MWD_42095\"] = delta_relative_2[\"MWD_42095\"]\n",
    "delta_relative_merged.drop([ f'WVHT_venf1',\n",
    "                             f'APD_venf1',\n",
    "                             f'MWD_venf1',],axis=1, inplace=True)\n",
    "\n",
    "delta_relative_merged"
   ],
   "metadata": {
    "collapsed": false,
    "pycharm": {
     "name": "#%%\n"
    }
   }
  },
  {
   "cell_type": "markdown",
   "source": [
    "# Result:\n",
    "...."
   ],
   "metadata": {
    "collapsed": false,
    "pycharm": {
     "name": "#%% md\n"
    }
   }
  },
  {
   "cell_type": "code",
   "execution_count": 162,
   "outputs": [
    {
     "data": {
      "text/plain": "       WDIR_venf1  WSPD_venf1   PRES_venf1   ATMP_venf1   WTMP_venf1  \\\ncount   8726.0000     8753.00  8758.000000  8754.000000  8758.000000   \nmean         -inf        -inf    -0.017600    -3.010732     0.998655   \nstd           NaN         NaN     0.028086    10.089748     3.478587   \nmin          -inf        -inf    -0.230000  -106.460000   -15.470000   \n25%     -333.5375      -55.94    -0.030000    -6.837500    -1.147500   \n50%        1.6050      -11.27    -0.020000    -0.455000     1.210000   \n75%       36.2800       17.59     0.000000     2.920000     3.430000   \nmax       75.2700       97.81     0.220000    21.310000    11.600000   \n\n       DEWP_venf1  WVHT_42095    APD_42095     MWD_42095  \ncount     8744.00  7466.00000  7466.000000   7033.000000  \nmean         -inf    21.39875   -16.647135    -25.422643  \nstd           NaN    31.18546    18.257572    572.955527  \nmin          -inf  -172.87000  -110.530000 -33367.100000  \n25%         -3.45     1.64250   -27.517500    -14.000000  \n50%          1.47    23.55000   -15.640000      0.440000  \n75%          5.02    43.30000    -4.940000     16.310000  \nmax       3896.23    97.28000    55.230000     99.970000  ",
      "text/html": "<div>\n<style scoped>\n    .dataframe tbody tr th:only-of-type {\n        vertical-align: middle;\n    }\n\n    .dataframe tbody tr th {\n        vertical-align: top;\n    }\n\n    .dataframe thead th {\n        text-align: right;\n    }\n</style>\n<table border=\"1\" class=\"dataframe\">\n  <thead>\n    <tr style=\"text-align: right;\">\n      <th></th>\n      <th>WDIR_venf1</th>\n      <th>WSPD_venf1</th>\n      <th>PRES_venf1</th>\n      <th>ATMP_venf1</th>\n      <th>WTMP_venf1</th>\n      <th>DEWP_venf1</th>\n      <th>WVHT_42095</th>\n      <th>APD_42095</th>\n      <th>MWD_42095</th>\n    </tr>\n  </thead>\n  <tbody>\n    <tr>\n      <th>count</th>\n      <td>8726.0000</td>\n      <td>8753.00</td>\n      <td>8758.000000</td>\n      <td>8754.000000</td>\n      <td>8758.000000</td>\n      <td>8744.00</td>\n      <td>7466.00000</td>\n      <td>7466.000000</td>\n      <td>7033.000000</td>\n    </tr>\n    <tr>\n      <th>mean</th>\n      <td>-inf</td>\n      <td>-inf</td>\n      <td>-0.017600</td>\n      <td>-3.010732</td>\n      <td>0.998655</td>\n      <td>-inf</td>\n      <td>21.39875</td>\n      <td>-16.647135</td>\n      <td>-25.422643</td>\n    </tr>\n    <tr>\n      <th>std</th>\n      <td>NaN</td>\n      <td>NaN</td>\n      <td>0.028086</td>\n      <td>10.089748</td>\n      <td>3.478587</td>\n      <td>NaN</td>\n      <td>31.18546</td>\n      <td>18.257572</td>\n      <td>572.955527</td>\n    </tr>\n    <tr>\n      <th>min</th>\n      <td>-inf</td>\n      <td>-inf</td>\n      <td>-0.230000</td>\n      <td>-106.460000</td>\n      <td>-15.470000</td>\n      <td>-inf</td>\n      <td>-172.87000</td>\n      <td>-110.530000</td>\n      <td>-33367.100000</td>\n    </tr>\n    <tr>\n      <th>25%</th>\n      <td>-333.5375</td>\n      <td>-55.94</td>\n      <td>-0.030000</td>\n      <td>-6.837500</td>\n      <td>-1.147500</td>\n      <td>-3.45</td>\n      <td>1.64250</td>\n      <td>-27.517500</td>\n      <td>-14.000000</td>\n    </tr>\n    <tr>\n      <th>50%</th>\n      <td>1.6050</td>\n      <td>-11.27</td>\n      <td>-0.020000</td>\n      <td>-0.455000</td>\n      <td>1.210000</td>\n      <td>1.47</td>\n      <td>23.55000</td>\n      <td>-15.640000</td>\n      <td>0.440000</td>\n    </tr>\n    <tr>\n      <th>75%</th>\n      <td>36.2800</td>\n      <td>17.59</td>\n      <td>0.000000</td>\n      <td>2.920000</td>\n      <td>3.430000</td>\n      <td>5.02</td>\n      <td>43.30000</td>\n      <td>-4.940000</td>\n      <td>16.310000</td>\n    </tr>\n    <tr>\n      <th>max</th>\n      <td>75.2700</td>\n      <td>97.81</td>\n      <td>0.220000</td>\n      <td>21.310000</td>\n      <td>11.600000</td>\n      <td>3896.23</td>\n      <td>97.28000</td>\n      <td>55.230000</td>\n      <td>99.970000</td>\n    </tr>\n  </tbody>\n</table>\n</div>"
     },
     "execution_count": 162,
     "metadata": {},
     "output_type": "execute_result"
    }
   ],
   "source": [
    "delta_relative_merged.describe()"
   ],
   "metadata": {
    "collapsed": false,
    "pycharm": {
     "name": "#%%\n"
    }
   }
  },
  {
   "cell_type": "code",
   "execution_count": null,
   "outputs": [],
   "source": [],
   "metadata": {
    "collapsed": false,
    "pycharm": {
     "name": "#%%\n"
    }
   }
  }
 ],
 "metadata": {
  "kernelspec": {
   "display_name": "Python 3",
   "language": "python",
   "name": "python3"
  },
  "language_info": {
   "codemirror_mode": {
    "name": "ipython",
    "version": 2
   },
   "file_extension": ".py",
   "mimetype": "text/x-python",
   "name": "python",
   "nbconvert_exporter": "python",
   "pygments_lexer": "ipython2",
   "version": "2.7.6"
  }
 },
 "nbformat": 4,
 "nbformat_minor": 0
}