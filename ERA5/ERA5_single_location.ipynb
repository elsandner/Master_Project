{
 "cells": [
  {
   "cell_type": "markdown",
   "source": [
    "# Try to receive features for the same location as a single buoy!\n",
    "\n",
    "First Station from NDBC as example:\n",
    "Station ID: 41117\n",
    "Coordinates: 30.000 N 81.080 W (29°59'59\" N 81°4'48\" W)"
   ],
   "metadata": {
    "collapsed": false,
    "pycharm": {
     "name": "#%% md\n"
    }
   }
  },
  {
   "cell_type": "code",
   "execution_count": 145,
   "outputs": [],
   "source": [
    "import cdsapi\n",
    "import matplotlib.pyplot as plt\n",
    "import pandas as pd\n",
    "\n",
    "from datetime import datetime\n",
    "\n",
    "import sys\n",
    "import os\n",
    "dir_root =os.path.abspath(os.path.join(os.getcwd(), os.path.pardir))\n",
    "sys.path.append(dir_root+\"/NDBC_Buoy_Data\")\n",
    "\n",
    "import myLibrary as mL\n",
    "\n",
    "import netCDF4 as nc"
   ],
   "metadata": {
    "collapsed": false,
    "pycharm": {
     "name": "#%%\n"
    }
   }
  },
  {
   "cell_type": "markdown",
   "source": [
    "# Download data"
   ],
   "metadata": {
    "collapsed": false,
    "pycharm": {
     "name": "#%% md\n"
    }
   }
  },
  {
   "cell_type": "code",
   "execution_count": 111,
   "outputs": [],
   "source": [
    "api_keyfile = open(\".cdsapirc\", \"r\")\n",
    "lines = api_keyfile.readlines()\n",
    "url = lines[0].rstrip().replace(\"url: \", \"\")\n",
    "key = lines[1].rstrip().replace(\"key: \", \"\")"
   ],
   "metadata": {
    "collapsed": false,
    "pycharm": {
     "name": "#%%\n"
    }
   }
  },
  {
   "cell_type": "code",
   "execution_count": 112,
   "outputs": [
    {
     "data": {
      "text/plain": "[30, -81, 30, -81]"
     },
     "execution_count": 112,
     "metadata": {},
     "output_type": "execute_result"
    }
   ],
   "source": [
    "COORDS = {\n",
    "        \"41117\": [30, -81]*2,\n",
    "        #\"Location_2\":[-34.822, -58.536]   # randomly chosen lat lon\n",
    "        }\n",
    "\n",
    "COORDS[\"41117\"]"
   ],
   "metadata": {
    "collapsed": false,
    "pycharm": {
     "name": "#%%\n"
    }
   }
  },
  {
   "cell_type": "code",
   "execution_count": 114,
   "outputs": [
    {
     "name": "stderr",
     "output_type": "stream",
     "text": [
      "/opt/homebrew/Caskroom/miniforge/base/envs/Master_Project/lib/python3.8/site-packages/urllib3/connectionpool.py:1045: InsecureRequestWarning: Unverified HTTPS request is being made to host 'cds.climate.copernicus.eu'. Adding certificate verification is strongly advised. See: https://urllib3.readthedocs.io/en/1.26.x/advanced-usage.html#ssl-warnings\n",
      "  warnings.warn(\n",
      "2023-01-14 02:07:11,690 INFO Welcome to the CDS\n",
      "2023-01-14 02:07:11,691 INFO Sending request to https://cds.climate.copernicus.eu/api/v2/resources/reanalysis-era5-single-levels\n",
      "/opt/homebrew/Caskroom/miniforge/base/envs/Master_Project/lib/python3.8/site-packages/urllib3/connectionpool.py:1045: InsecureRequestWarning: Unverified HTTPS request is being made to host 'cds.climate.copernicus.eu'. Adding certificate verification is strongly advised. See: https://urllib3.readthedocs.io/en/1.26.x/advanced-usage.html#ssl-warnings\n",
      "  warnings.warn(\n",
      "2023-01-14 02:07:11,760 INFO Request is queued\n",
      "/opt/homebrew/Caskroom/miniforge/base/envs/Master_Project/lib/python3.8/site-packages/urllib3/connectionpool.py:1045: InsecureRequestWarning: Unverified HTTPS request is being made to host 'cds.climate.copernicus.eu'. Adding certificate verification is strongly advised. See: https://urllib3.readthedocs.io/en/1.26.x/advanced-usage.html#ssl-warnings\n",
      "  warnings.warn(\n",
      "/opt/homebrew/Caskroom/miniforge/base/envs/Master_Project/lib/python3.8/site-packages/urllib3/connectionpool.py:1045: InsecureRequestWarning: Unverified HTTPS request is being made to host 'cds.climate.copernicus.eu'. Adding certificate verification is strongly advised. See: https://urllib3.readthedocs.io/en/1.26.x/advanced-usage.html#ssl-warnings\n",
      "  warnings.warn(\n",
      "/opt/homebrew/Caskroom/miniforge/base/envs/Master_Project/lib/python3.8/site-packages/urllib3/connectionpool.py:1045: InsecureRequestWarning: Unverified HTTPS request is being made to host 'cds.climate.copernicus.eu'. Adding certificate verification is strongly advised. See: https://urllib3.readthedocs.io/en/1.26.x/advanced-usage.html#ssl-warnings\n",
      "  warnings.warn(\n",
      "/opt/homebrew/Caskroom/miniforge/base/envs/Master_Project/lib/python3.8/site-packages/urllib3/connectionpool.py:1045: InsecureRequestWarning: Unverified HTTPS request is being made to host 'cds.climate.copernicus.eu'. Adding certificate verification is strongly advised. See: https://urllib3.readthedocs.io/en/1.26.x/advanced-usage.html#ssl-warnings\n",
      "  warnings.warn(\n",
      "/opt/homebrew/Caskroom/miniforge/base/envs/Master_Project/lib/python3.8/site-packages/urllib3/connectionpool.py:1045: InsecureRequestWarning: Unverified HTTPS request is being made to host 'cds.climate.copernicus.eu'. Adding certificate verification is strongly advised. See: https://urllib3.readthedocs.io/en/1.26.x/advanced-usage.html#ssl-warnings\n",
      "  warnings.warn(\n",
      "/opt/homebrew/Caskroom/miniforge/base/envs/Master_Project/lib/python3.8/site-packages/urllib3/connectionpool.py:1045: InsecureRequestWarning: Unverified HTTPS request is being made to host 'cds.climate.copernicus.eu'. Adding certificate verification is strongly advised. See: https://urllib3.readthedocs.io/en/1.26.x/advanced-usage.html#ssl-warnings\n",
      "  warnings.warn(\n",
      "/opt/homebrew/Caskroom/miniforge/base/envs/Master_Project/lib/python3.8/site-packages/urllib3/connectionpool.py:1045: InsecureRequestWarning: Unverified HTTPS request is being made to host 'cds.climate.copernicus.eu'. Adding certificate verification is strongly advised. See: https://urllib3.readthedocs.io/en/1.26.x/advanced-usage.html#ssl-warnings\n",
      "  warnings.warn(\n",
      "/opt/homebrew/Caskroom/miniforge/base/envs/Master_Project/lib/python3.8/site-packages/urllib3/connectionpool.py:1045: InsecureRequestWarning: Unverified HTTPS request is being made to host 'cds.climate.copernicus.eu'. Adding certificate verification is strongly advised. See: https://urllib3.readthedocs.io/en/1.26.x/advanced-usage.html#ssl-warnings\n",
      "  warnings.warn(\n",
      "/opt/homebrew/Caskroom/miniforge/base/envs/Master_Project/lib/python3.8/site-packages/urllib3/connectionpool.py:1045: InsecureRequestWarning: Unverified HTTPS request is being made to host 'cds.climate.copernicus.eu'. Adding certificate verification is strongly advised. See: https://urllib3.readthedocs.io/en/1.26.x/advanced-usage.html#ssl-warnings\n",
      "  warnings.warn(\n",
      "/opt/homebrew/Caskroom/miniforge/base/envs/Master_Project/lib/python3.8/site-packages/urllib3/connectionpool.py:1045: InsecureRequestWarning: Unverified HTTPS request is being made to host 'cds.climate.copernicus.eu'. Adding certificate verification is strongly advised. See: https://urllib3.readthedocs.io/en/1.26.x/advanced-usage.html#ssl-warnings\n",
      "  warnings.warn(\n",
      "/opt/homebrew/Caskroom/miniforge/base/envs/Master_Project/lib/python3.8/site-packages/urllib3/connectionpool.py:1045: InsecureRequestWarning: Unverified HTTPS request is being made to host 'cds.climate.copernicus.eu'. Adding certificate verification is strongly advised. See: https://urllib3.readthedocs.io/en/1.26.x/advanced-usage.html#ssl-warnings\n",
      "  warnings.warn(\n",
      "/opt/homebrew/Caskroom/miniforge/base/envs/Master_Project/lib/python3.8/site-packages/urllib3/connectionpool.py:1045: InsecureRequestWarning: Unverified HTTPS request is being made to host 'cds.climate.copernicus.eu'. Adding certificate verification is strongly advised. See: https://urllib3.readthedocs.io/en/1.26.x/advanced-usage.html#ssl-warnings\n",
      "  warnings.warn(\n",
      "2023-01-14 02:11:30,678 INFO Request is completed\n",
      "2023-01-14 02:11:30,680 INFO Downloading https://download-0011-clone.copernicus-climate.eu/cache-compute-0011/cache/data2/adaptor.mars.internal-1673658604.5468612-2475-12-8600b91e-bd88-4d72-9001-300633efb551.nc to ERA5_downloads/singleStations/41117_2020_sst.nc (52.5K)\n",
      "/opt/homebrew/Caskroom/miniforge/base/envs/Master_Project/lib/python3.8/site-packages/urllib3/connectionpool.py:1045: InsecureRequestWarning: Unverified HTTPS request is being made to host 'download-0011-clone.copernicus-climate.eu'. Adding certificate verification is strongly advised. See: https://urllib3.readthedocs.io/en/1.26.x/advanced-usage.html#ssl-warnings\n",
      "  warnings.warn(\n",
      "2023-01-14 02:11:31,731 INFO Download rate 50K/s   \n",
      "/opt/homebrew/Caskroom/miniforge/base/envs/Master_Project/lib/python3.8/site-packages/urllib3/connectionpool.py:1045: InsecureRequestWarning: Unverified HTTPS request is being made to host 'cds.climate.copernicus.eu'. Adding certificate verification is strongly advised. See: https://urllib3.readthedocs.io/en/1.26.x/advanced-usage.html#ssl-warnings\n",
      "  warnings.warn(\n"
     ]
    }
   ],
   "source": [
    "# https://stackoverflow.com/questions/65186216/how-to-download-era5-data-for-specific-location-via-python\n",
    "\n",
    "c = cdsapi.Client(url, key)\n",
    "\n",
    "for station in COORDS:\n",
    "    # coords = COORDS[station]\n",
    "    # station_point_coord = [coords[0]+1, coords[1]+1, coords[0]-1, coords[1]-1]    #area around buoy\n",
    "    # station_point_coord = COORDS[\"41117\"]\n",
    "    c.retrieve(\n",
    "      'reanalysis-era5-single-levels',\n",
    "      {\n",
    "          'product_type': 'reanalysis',\n",
    "          'variable': 'sea_surface_temperature',\n",
    "          'year': '2020',\n",
    "          'month': [\n",
    "            '01', '02', '03', '04', '05', '06',\n",
    "            '07', '08', '09', '10', '11', '12',\n",
    "        ],\n",
    "          'day': [\n",
    "              '01', '02', '03', '04', '05', '06', '07', '08', '09', '10',\n",
    "              '11', '12', '13', '14', '15', '16', '17', '18', '19', '20',\n",
    "              '21', '22', '23', '24', '25', '26', '27', '28', '29', '30', '31',\n",
    "          ],\n",
    "          'time': [\n",
    "              '00:00', '01:00', '02:00', '03:00', '04:00', '05:00',\n",
    "              '06:00', '07:00', '08:00', '09:00', '10:00', '11:00',\n",
    "              '12:00', '13:00', '14:00', '15:00', '16:00', '17:00',\n",
    "              '18:00', '19:00', '20:00', '21:00', '22:00', '23:00',\n",
    "          ],\n",
    "          #'area': station_point_coord,  # Area: NORTH, WEST, SOUTH, EAST\n",
    "          'area': COORDS[station],\n",
    "          'format': 'netcdf',\n",
    "      },\n",
    "      f'ERA5_downloads/singleStations/{station}_2020_sst.nc')"
   ],
   "metadata": {
    "collapsed": false,
    "pycharm": {
     "name": "#%%\n"
    }
   }
  },
  {
   "cell_type": "markdown",
   "source": [
    "# Read data from disc"
   ],
   "metadata": {
    "collapsed": false,
    "pycharm": {
     "name": "#%% md\n"
    }
   }
  },
  {
   "cell_type": "code",
   "execution_count": 115,
   "outputs": [],
   "source": [],
   "metadata": {
    "collapsed": false,
    "pycharm": {
     "name": "#%%\n"
    }
   }
  },
  {
   "cell_type": "code",
   "execution_count": 116,
   "outputs": [],
   "source": [
    "ds = nc.Dataset('ERA5_downloads/singleStations/41117_2020_sst.nc')"
   ],
   "metadata": {
    "collapsed": false,
    "pycharm": {
     "name": "#%%\n"
    }
   }
  },
  {
   "cell_type": "code",
   "execution_count": 117,
   "outputs": [
    {
     "data": {
      "text/plain": "<class 'netCDF4._netCDF4.Dataset'>\nroot group (NETCDF3_64BIT_OFFSET data model, file format NETCDF3):\n    Conventions: CF-1.6\n    history: 2023-01-14 01:10:30 GMT by grib_to_netcdf-2.25.1: /opt/ecmwf/mars-client/bin/grib_to_netcdf.bin -S param -o /cache/data2/adaptor.mars.internal-1673658604.5468612-2475-12-8600b91e-bd88-4d72-9001-300633efb551.nc /cache/tmp/8600b91e-bd88-4d72-9001-300633efb551-adaptor.mars.internal-1673658244.9543242-2475-23-tmp.grib\n    dimensions(sizes): longitude(1), latitude(1), time(8784)\n    variables(dimensions): float32 longitude(longitude), float32 latitude(latitude), int32 time(time), int16 sst(time, latitude, longitude)\n    groups: "
     },
     "execution_count": 117,
     "metadata": {},
     "output_type": "execute_result"
    }
   ],
   "source": [
    "ds"
   ],
   "metadata": {
    "collapsed": false,
    "pycharm": {
     "name": "#%%\n"
    }
   }
  },
  {
   "cell_type": "markdown",
   "source": [
    "# Getting an overview about the data"
   ],
   "metadata": {
    "collapsed": false,
    "pycharm": {
     "name": "#%% md\n"
    }
   }
  },
  {
   "cell_type": "code",
   "execution_count": 118,
   "outputs": [
    {
     "name": "stdout",
     "output_type": "stream",
     "text": [
      "<class 'netCDF4._netCDF4.Dataset'>\n"
     ]
    }
   ],
   "source": [
    "print(type(ds))"
   ],
   "metadata": {
    "collapsed": false,
    "pycharm": {
     "name": "#%%\n"
    }
   }
  },
  {
   "cell_type": "code",
   "execution_count": 119,
   "outputs": [
    {
     "name": "stdout",
     "output_type": "stream",
     "text": [
      "<class 'netCDF4._netCDF4.Dimension'>: name = 'longitude', size = 1\n",
      "<class 'netCDF4._netCDF4.Dimension'>: name = 'latitude', size = 1\n",
      "<class 'netCDF4._netCDF4.Dimension'>: name = 'time', size = 8784\n"
     ]
    }
   ],
   "source": [
    "print(ds.dimensions.get(\"longitude\"))\n",
    "print(ds.dimensions.get(\"latitude\"))\n",
    "print(ds.dimensions.get(\"time\"))"
   ],
   "metadata": {
    "collapsed": false,
    "pycharm": {
     "name": "#%%\n"
    }
   }
  },
  {
   "cell_type": "code",
   "execution_count": 120,
   "outputs": [
    {
     "data": {
      "text/plain": "array([-81.], dtype=float32)"
     },
     "execution_count": 120,
     "metadata": {},
     "output_type": "execute_result"
    }
   ],
   "source": [
    "longs = ds.variables[\"longitude\"][:].data\n",
    "longs"
   ],
   "metadata": {
    "collapsed": false,
    "pycharm": {
     "name": "#%%\n"
    }
   }
  },
  {
   "cell_type": "code",
   "execution_count": 121,
   "outputs": [
    {
     "data": {
      "text/plain": "array([30.], dtype=float32)"
     },
     "execution_count": 121,
     "metadata": {},
     "output_type": "execute_result"
    }
   ],
   "source": [
    "lats = ds.variables[\"latitude\"][:].data\n",
    "lats"
   ],
   "metadata": {
    "collapsed": false,
    "pycharm": {
     "name": "#%%\n"
    }
   }
  },
  {
   "cell_type": "code",
   "execution_count": 122,
   "outputs": [
    {
     "name": "stdout",
     "output_type": "stream",
     "text": [
      "<class 'netCDF4._netCDF4.Variable'>\n",
      "int16 sst(time, latitude, longitude)\n",
      "    scale_factor: 0.00019377984541185358\n",
      "    add_offset: 296.3791755710148\n",
      "    _FillValue: -32767\n",
      "    missing_value: -32767\n",
      "    units: K\n",
      "    long_name: Sea surface temperature\n",
      "unlimited dimensions: \n",
      "current shape = (8784, 1, 1)\n",
      "filling on\n",
      "\n",
      "Datatype: int16\n",
      "Shape: (8784, 1, 1)\n",
      "Dimension: ('time', 'latitude', 'longitude')\n"
     ]
    }
   ],
   "source": [
    "print(ds.variables[\"sst\"])\n",
    "print(\"\\nDatatype:\", ds.variables[\"sst\"].datatype)\n",
    "print(\"Shape:\", ds.variables[\"sst\"].shape)\n",
    "print(\"Dimension:\", ds.variables[\"sst\"].dimensions)"
   ],
   "metadata": {
    "collapsed": false,
    "pycharm": {
     "name": "#%%\n"
    }
   }
  },
  {
   "cell_type": "code",
   "execution_count": 169,
   "outputs": [
    {
     "data": {
      "text/plain": "array([[292.39893755],\n       [292.39893755],\n       [292.39893755],\n       ...,\n       [291.85596642],\n       [291.52615312],\n       [291.52615312]])"
     },
     "execution_count": 169,
     "metadata": {},
     "output_type": "execute_result"
    }
   ],
   "source": [
    "sst_data_time0 = ds.variables[\"sst\"][:, :, 0].data\n",
    "sst_data_time0"
   ],
   "metadata": {
    "collapsed": false,
    "pycharm": {
     "name": "#%%\n"
    }
   }
  },
  {
   "cell_type": "markdown",
   "source": [
    "Why 8784 records?\n",
    "One year: 365 * 24 =8760\n",
    "2020 was a leapyear --> 366 * 24 = 8784\n"
   ],
   "metadata": {
    "collapsed": false,
    "pycharm": {
     "name": "#%% md\n"
    }
   }
  },
  {
   "cell_type": "code",
   "execution_count": 173,
   "outputs": [
    {
     "data": {
      "text/plain": "numpy.ndarray"
     },
     "execution_count": 173,
     "metadata": {},
     "output_type": "execute_result"
    }
   ],
   "source": [],
   "metadata": {
    "collapsed": false,
    "pycharm": {
     "name": "#%%\n"
    }
   }
  },
  {
   "cell_type": "code",
   "execution_count": 166,
   "outputs": [
    {
     "data": {
      "text/plain": "[datetime.datetime(2020, 1, 1, 0, 0),\n datetime.datetime(2020, 1, 1, 1, 0),\n datetime.datetime(2020, 1, 1, 2, 0),\n datetime.datetime(2020, 1, 1, 3, 0),\n datetime.datetime(2020, 1, 1, 4, 0),\n datetime.datetime(2020, 1, 1, 5, 0),\n datetime.datetime(2020, 1, 1, 6, 0),\n datetime.datetime(2020, 1, 1, 7, 0),\n datetime.datetime(2020, 1, 1, 8, 0),\n datetime.datetime(2020, 1, 1, 9, 0),\n datetime.datetime(2020, 1, 1, 10, 0),\n datetime.datetime(2020, 1, 1, 11, 0),\n datetime.datetime(2020, 1, 1, 12, 0),\n datetime.datetime(2020, 1, 1, 13, 0),\n datetime.datetime(2020, 1, 1, 14, 0),\n datetime.datetime(2020, 1, 1, 15, 0),\n datetime.datetime(2020, 1, 1, 16, 0),\n datetime.datetime(2020, 1, 1, 17, 0),\n datetime.datetime(2020, 1, 1, 18, 0),\n datetime.datetime(2020, 1, 1, 19, 0),\n datetime.datetime(2020, 1, 1, 20, 0),\n datetime.datetime(2020, 1, 1, 21, 0),\n datetime.datetime(2020, 1, 1, 22, 0),\n datetime.datetime(2020, 1, 1, 23, 0),\n datetime.datetime(2020, 1, 2, 0, 0),\n datetime.datetime(2020, 1, 2, 1, 0),\n datetime.datetime(2020, 1, 2, 2, 0),\n datetime.datetime(2020, 1, 2, 3, 0),\n datetime.datetime(2020, 1, 2, 4, 0),\n datetime.datetime(2020, 1, 2, 5, 0),\n datetime.datetime(2020, 1, 2, 6, 0),\n datetime.datetime(2020, 1, 2, 7, 0),\n datetime.datetime(2020, 1, 2, 8, 0),\n datetime.datetime(2020, 1, 2, 9, 0),\n datetime.datetime(2020, 1, 2, 10, 0),\n datetime.datetime(2020, 1, 2, 11, 0),\n datetime.datetime(2020, 1, 2, 12, 0),\n datetime.datetime(2020, 1, 2, 13, 0),\n datetime.datetime(2020, 1, 2, 14, 0),\n datetime.datetime(2020, 1, 2, 15, 0),\n datetime.datetime(2020, 1, 2, 16, 0),\n datetime.datetime(2020, 1, 2, 17, 0),\n datetime.datetime(2020, 1, 2, 18, 0),\n datetime.datetime(2020, 1, 2, 19, 0),\n datetime.datetime(2020, 1, 2, 20, 0),\n datetime.datetime(2020, 1, 2, 21, 0),\n datetime.datetime(2020, 1, 2, 22, 0),\n datetime.datetime(2020, 1, 2, 23, 0),\n datetime.datetime(2020, 1, 3, 0, 0),\n datetime.datetime(2020, 1, 3, 1, 0),\n datetime.datetime(2020, 1, 3, 2, 0),\n datetime.datetime(2020, 1, 3, 3, 0),\n datetime.datetime(2020, 1, 3, 4, 0),\n datetime.datetime(2020, 1, 3, 5, 0),\n datetime.datetime(2020, 1, 3, 6, 0),\n datetime.datetime(2020, 1, 3, 7, 0),\n datetime.datetime(2020, 1, 3, 8, 0),\n datetime.datetime(2020, 1, 3, 9, 0),\n datetime.datetime(2020, 1, 3, 10, 0),\n datetime.datetime(2020, 1, 3, 11, 0),\n datetime.datetime(2020, 1, 3, 12, 0),\n datetime.datetime(2020, 1, 3, 13, 0),\n datetime.datetime(2020, 1, 3, 14, 0),\n datetime.datetime(2020, 1, 3, 15, 0),\n datetime.datetime(2020, 1, 3, 16, 0),\n datetime.datetime(2020, 1, 3, 17, 0),\n datetime.datetime(2020, 1, 3, 18, 0),\n datetime.datetime(2020, 1, 3, 19, 0),\n datetime.datetime(2020, 1, 3, 20, 0),\n datetime.datetime(2020, 1, 3, 21, 0),\n datetime.datetime(2020, 1, 3, 22, 0),\n datetime.datetime(2020, 1, 3, 23, 0),\n datetime.datetime(2020, 1, 4, 0, 0),\n datetime.datetime(2020, 1, 4, 1, 0),\n datetime.datetime(2020, 1, 4, 2, 0),\n datetime.datetime(2020, 1, 4, 3, 0),\n datetime.datetime(2020, 1, 4, 4, 0),\n datetime.datetime(2020, 1, 4, 5, 0),\n datetime.datetime(2020, 1, 4, 6, 0),\n datetime.datetime(2020, 1, 4, 7, 0),\n datetime.datetime(2020, 1, 4, 8, 0),\n datetime.datetime(2020, 1, 4, 9, 0),\n datetime.datetime(2020, 1, 4, 10, 0),\n datetime.datetime(2020, 1, 4, 11, 0),\n datetime.datetime(2020, 1, 4, 12, 0),\n datetime.datetime(2020, 1, 4, 13, 0),\n datetime.datetime(2020, 1, 4, 14, 0),\n datetime.datetime(2020, 1, 4, 15, 0),\n datetime.datetime(2020, 1, 4, 16, 0),\n datetime.datetime(2020, 1, 4, 17, 0),\n datetime.datetime(2020, 1, 4, 18, 0),\n datetime.datetime(2020, 1, 4, 19, 0),\n datetime.datetime(2020, 1, 4, 20, 0),\n datetime.datetime(2020, 1, 4, 21, 0),\n datetime.datetime(2020, 1, 4, 22, 0),\n datetime.datetime(2020, 1, 4, 23, 0),\n datetime.datetime(2020, 1, 5, 0, 0),\n datetime.datetime(2020, 1, 5, 1, 0),\n datetime.datetime(2020, 1, 5, 2, 0),\n datetime.datetime(2020, 1, 5, 3, 0),\n datetime.datetime(2020, 1, 5, 4, 0),\n datetime.datetime(2020, 1, 5, 5, 0),\n datetime.datetime(2020, 1, 5, 6, 0),\n datetime.datetime(2020, 1, 5, 7, 0),\n datetime.datetime(2020, 1, 5, 8, 0),\n datetime.datetime(2020, 1, 5, 9, 0),\n datetime.datetime(2020, 1, 5, 10, 0),\n datetime.datetime(2020, 1, 5, 11, 0),\n datetime.datetime(2020, 1, 5, 12, 0),\n datetime.datetime(2020, 1, 5, 13, 0),\n datetime.datetime(2020, 1, 5, 14, 0),\n datetime.datetime(2020, 1, 5, 15, 0),\n datetime.datetime(2020, 1, 5, 16, 0),\n datetime.datetime(2020, 1, 5, 17, 0),\n datetime.datetime(2020, 1, 5, 18, 0),\n datetime.datetime(2020, 1, 5, 19, 0),\n datetime.datetime(2020, 1, 5, 20, 0),\n datetime.datetime(2020, 1, 5, 21, 0),\n datetime.datetime(2020, 1, 5, 22, 0),\n datetime.datetime(2020, 1, 5, 23, 0),\n datetime.datetime(2020, 1, 6, 0, 0),\n datetime.datetime(2020, 1, 6, 1, 0),\n datetime.datetime(2020, 1, 6, 2, 0),\n datetime.datetime(2020, 1, 6, 3, 0),\n datetime.datetime(2020, 1, 6, 4, 0),\n datetime.datetime(2020, 1, 6, 5, 0),\n datetime.datetime(2020, 1, 6, 6, 0),\n datetime.datetime(2020, 1, 6, 7, 0),\n datetime.datetime(2020, 1, 6, 8, 0),\n datetime.datetime(2020, 1, 6, 9, 0),\n datetime.datetime(2020, 1, 6, 10, 0),\n datetime.datetime(2020, 1, 6, 11, 0),\n datetime.datetime(2020, 1, 6, 12, 0),\n datetime.datetime(2020, 1, 6, 13, 0),\n datetime.datetime(2020, 1, 6, 14, 0),\n datetime.datetime(2020, 1, 6, 15, 0),\n datetime.datetime(2020, 1, 6, 16, 0),\n datetime.datetime(2020, 1, 6, 17, 0),\n datetime.datetime(2020, 1, 6, 18, 0),\n datetime.datetime(2020, 1, 6, 19, 0),\n datetime.datetime(2020, 1, 6, 20, 0),\n datetime.datetime(2020, 1, 6, 21, 0),\n datetime.datetime(2020, 1, 6, 22, 0),\n datetime.datetime(2020, 1, 6, 23, 0),\n datetime.datetime(2020, 1, 7, 0, 0),\n datetime.datetime(2020, 1, 7, 1, 0),\n datetime.datetime(2020, 1, 7, 2, 0),\n datetime.datetime(2020, 1, 7, 3, 0),\n datetime.datetime(2020, 1, 7, 4, 0),\n datetime.datetime(2020, 1, 7, 5, 0),\n datetime.datetime(2020, 1, 7, 6, 0),\n datetime.datetime(2020, 1, 7, 7, 0),\n datetime.datetime(2020, 1, 7, 8, 0),\n datetime.datetime(2020, 1, 7, 9, 0),\n datetime.datetime(2020, 1, 7, 10, 0),\n datetime.datetime(2020, 1, 7, 11, 0),\n datetime.datetime(2020, 1, 7, 12, 0),\n datetime.datetime(2020, 1, 7, 13, 0),\n datetime.datetime(2020, 1, 7, 14, 0),\n datetime.datetime(2020, 1, 7, 15, 0),\n datetime.datetime(2020, 1, 7, 16, 0),\n datetime.datetime(2020, 1, 7, 17, 0),\n datetime.datetime(2020, 1, 7, 18, 0),\n datetime.datetime(2020, 1, 7, 19, 0),\n datetime.datetime(2020, 1, 7, 20, 0),\n datetime.datetime(2020, 1, 7, 21, 0),\n datetime.datetime(2020, 1, 7, 22, 0),\n datetime.datetime(2020, 1, 7, 23, 0),\n datetime.datetime(2020, 1, 8, 0, 0),\n datetime.datetime(2020, 1, 8, 1, 0),\n datetime.datetime(2020, 1, 8, 2, 0),\n datetime.datetime(2020, 1, 8, 3, 0),\n datetime.datetime(2020, 1, 8, 4, 0),\n datetime.datetime(2020, 1, 8, 5, 0),\n datetime.datetime(2020, 1, 8, 6, 0),\n datetime.datetime(2020, 1, 8, 7, 0),\n datetime.datetime(2020, 1, 8, 8, 0),\n datetime.datetime(2020, 1, 8, 9, 0),\n datetime.datetime(2020, 1, 8, 10, 0),\n datetime.datetime(2020, 1, 8, 11, 0),\n datetime.datetime(2020, 1, 8, 12, 0),\n datetime.datetime(2020, 1, 8, 13, 0),\n datetime.datetime(2020, 1, 8, 14, 0),\n datetime.datetime(2020, 1, 8, 15, 0),\n datetime.datetime(2020, 1, 8, 16, 0),\n datetime.datetime(2020, 1, 8, 17, 0),\n datetime.datetime(2020, 1, 8, 18, 0),\n datetime.datetime(2020, 1, 8, 19, 0),\n datetime.datetime(2020, 1, 8, 20, 0),\n datetime.datetime(2020, 1, 8, 21, 0),\n datetime.datetime(2020, 1, 8, 22, 0),\n datetime.datetime(2020, 1, 8, 23, 0),\n datetime.datetime(2020, 1, 9, 0, 0),\n datetime.datetime(2020, 1, 9, 1, 0),\n datetime.datetime(2020, 1, 9, 2, 0),\n datetime.datetime(2020, 1, 9, 3, 0),\n datetime.datetime(2020, 1, 9, 4, 0),\n datetime.datetime(2020, 1, 9, 5, 0),\n datetime.datetime(2020, 1, 9, 6, 0),\n datetime.datetime(2020, 1, 9, 7, 0),\n datetime.datetime(2020, 1, 9, 8, 0),\n datetime.datetime(2020, 1, 9, 9, 0),\n datetime.datetime(2020, 1, 9, 10, 0),\n datetime.datetime(2020, 1, 9, 11, 0),\n datetime.datetime(2020, 1, 9, 12, 0),\n datetime.datetime(2020, 1, 9, 13, 0),\n datetime.datetime(2020, 1, 9, 14, 0),\n datetime.datetime(2020, 1, 9, 15, 0),\n datetime.datetime(2020, 1, 9, 16, 0),\n datetime.datetime(2020, 1, 9, 17, 0),\n datetime.datetime(2020, 1, 9, 18, 0),\n datetime.datetime(2020, 1, 9, 19, 0),\n datetime.datetime(2020, 1, 9, 20, 0),\n datetime.datetime(2020, 1, 9, 21, 0),\n datetime.datetime(2020, 1, 9, 22, 0),\n datetime.datetime(2020, 1, 9, 23, 0),\n datetime.datetime(2020, 1, 10, 0, 0),\n datetime.datetime(2020, 1, 10, 1, 0),\n datetime.datetime(2020, 1, 10, 2, 0),\n datetime.datetime(2020, 1, 10, 3, 0),\n datetime.datetime(2020, 1, 10, 4, 0),\n datetime.datetime(2020, 1, 10, 5, 0),\n datetime.datetime(2020, 1, 10, 6, 0),\n datetime.datetime(2020, 1, 10, 7, 0),\n datetime.datetime(2020, 1, 10, 8, 0),\n datetime.datetime(2020, 1, 10, 9, 0),\n datetime.datetime(2020, 1, 10, 10, 0),\n datetime.datetime(2020, 1, 10, 11, 0),\n datetime.datetime(2020, 1, 10, 12, 0),\n datetime.datetime(2020, 1, 10, 13, 0),\n datetime.datetime(2020, 1, 10, 14, 0),\n datetime.datetime(2020, 1, 10, 15, 0),\n datetime.datetime(2020, 1, 10, 16, 0),\n datetime.datetime(2020, 1, 10, 17, 0),\n datetime.datetime(2020, 1, 10, 18, 0),\n datetime.datetime(2020, 1, 10, 19, 0),\n datetime.datetime(2020, 1, 10, 20, 0),\n datetime.datetime(2020, 1, 10, 21, 0),\n datetime.datetime(2020, 1, 10, 22, 0),\n datetime.datetime(2020, 1, 10, 23, 0),\n datetime.datetime(2020, 1, 11, 0, 0),\n datetime.datetime(2020, 1, 11, 1, 0),\n datetime.datetime(2020, 1, 11, 2, 0),\n datetime.datetime(2020, 1, 11, 3, 0),\n datetime.datetime(2020, 1, 11, 4, 0),\n datetime.datetime(2020, 1, 11, 5, 0),\n datetime.datetime(2020, 1, 11, 6, 0),\n datetime.datetime(2020, 1, 11, 7, 0),\n datetime.datetime(2020, 1, 11, 8, 0),\n datetime.datetime(2020, 1, 11, 9, 0),\n datetime.datetime(2020, 1, 11, 10, 0),\n datetime.datetime(2020, 1, 11, 11, 0),\n datetime.datetime(2020, 1, 11, 12, 0),\n datetime.datetime(2020, 1, 11, 13, 0),\n datetime.datetime(2020, 1, 11, 14, 0),\n datetime.datetime(2020, 1, 11, 15, 0),\n datetime.datetime(2020, 1, 11, 16, 0),\n datetime.datetime(2020, 1, 11, 17, 0),\n datetime.datetime(2020, 1, 11, 18, 0),\n datetime.datetime(2020, 1, 11, 19, 0),\n datetime.datetime(2020, 1, 11, 20, 0),\n datetime.datetime(2020, 1, 11, 21, 0),\n datetime.datetime(2020, 1, 11, 22, 0),\n datetime.datetime(2020, 1, 11, 23, 0),\n datetime.datetime(2020, 1, 12, 0, 0),\n datetime.datetime(2020, 1, 12, 1, 0),\n datetime.datetime(2020, 1, 12, 2, 0),\n datetime.datetime(2020, 1, 12, 3, 0),\n datetime.datetime(2020, 1, 12, 4, 0),\n datetime.datetime(2020, 1, 12, 5, 0),\n datetime.datetime(2020, 1, 12, 6, 0),\n datetime.datetime(2020, 1, 12, 7, 0),\n datetime.datetime(2020, 1, 12, 8, 0),\n datetime.datetime(2020, 1, 12, 9, 0),\n datetime.datetime(2020, 1, 12, 10, 0),\n datetime.datetime(2020, 1, 12, 11, 0),\n datetime.datetime(2020, 1, 12, 12, 0),\n datetime.datetime(2020, 1, 12, 13, 0),\n datetime.datetime(2020, 1, 12, 14, 0),\n datetime.datetime(2020, 1, 12, 15, 0),\n datetime.datetime(2020, 1, 12, 16, 0),\n datetime.datetime(2020, 1, 12, 17, 0),\n datetime.datetime(2020, 1, 12, 18, 0),\n datetime.datetime(2020, 1, 12, 19, 0),\n datetime.datetime(2020, 1, 12, 20, 0),\n datetime.datetime(2020, 1, 12, 21, 0),\n datetime.datetime(2020, 1, 12, 22, 0),\n datetime.datetime(2020, 1, 12, 23, 0),\n datetime.datetime(2020, 1, 13, 0, 0),\n datetime.datetime(2020, 1, 13, 1, 0),\n datetime.datetime(2020, 1, 13, 2, 0),\n datetime.datetime(2020, 1, 13, 3, 0),\n datetime.datetime(2020, 1, 13, 4, 0),\n datetime.datetime(2020, 1, 13, 5, 0),\n datetime.datetime(2020, 1, 13, 6, 0),\n datetime.datetime(2020, 1, 13, 7, 0),\n datetime.datetime(2020, 1, 13, 8, 0),\n datetime.datetime(2020, 1, 13, 9, 0),\n datetime.datetime(2020, 1, 13, 10, 0),\n datetime.datetime(2020, 1, 13, 11, 0),\n datetime.datetime(2020, 1, 13, 12, 0),\n datetime.datetime(2020, 1, 13, 13, 0),\n datetime.datetime(2020, 1, 13, 14, 0),\n datetime.datetime(2020, 1, 13, 15, 0),\n datetime.datetime(2020, 1, 13, 16, 0),\n datetime.datetime(2020, 1, 13, 17, 0),\n datetime.datetime(2020, 1, 13, 18, 0),\n datetime.datetime(2020, 1, 13, 19, 0),\n datetime.datetime(2020, 1, 13, 20, 0),\n datetime.datetime(2020, 1, 13, 21, 0),\n datetime.datetime(2020, 1, 13, 22, 0),\n datetime.datetime(2020, 1, 13, 23, 0),\n datetime.datetime(2020, 1, 14, 0, 0),\n datetime.datetime(2020, 1, 14, 1, 0),\n datetime.datetime(2020, 1, 14, 2, 0),\n datetime.datetime(2020, 1, 14, 3, 0),\n datetime.datetime(2020, 1, 14, 4, 0),\n datetime.datetime(2020, 1, 14, 5, 0),\n datetime.datetime(2020, 1, 14, 6, 0),\n datetime.datetime(2020, 1, 14, 7, 0),\n datetime.datetime(2020, 1, 14, 8, 0),\n datetime.datetime(2020, 1, 14, 9, 0),\n datetime.datetime(2020, 1, 14, 10, 0),\n datetime.datetime(2020, 1, 14, 11, 0),\n datetime.datetime(2020, 1, 14, 12, 0),\n datetime.datetime(2020, 1, 14, 13, 0),\n datetime.datetime(2020, 1, 14, 14, 0),\n datetime.datetime(2020, 1, 14, 15, 0),\n datetime.datetime(2020, 1, 14, 16, 0),\n datetime.datetime(2020, 1, 14, 17, 0),\n datetime.datetime(2020, 1, 14, 18, 0),\n datetime.datetime(2020, 1, 14, 19, 0),\n datetime.datetime(2020, 1, 14, 20, 0),\n datetime.datetime(2020, 1, 14, 21, 0),\n datetime.datetime(2020, 1, 14, 22, 0),\n datetime.datetime(2020, 1, 14, 23, 0),\n datetime.datetime(2020, 1, 15, 0, 0),\n datetime.datetime(2020, 1, 15, 1, 0),\n datetime.datetime(2020, 1, 15, 2, 0),\n datetime.datetime(2020, 1, 15, 3, 0),\n datetime.datetime(2020, 1, 15, 4, 0),\n datetime.datetime(2020, 1, 15, 5, 0),\n datetime.datetime(2020, 1, 15, 6, 0),\n datetime.datetime(2020, 1, 15, 7, 0),\n datetime.datetime(2020, 1, 15, 8, 0),\n datetime.datetime(2020, 1, 15, 9, 0),\n datetime.datetime(2020, 1, 15, 10, 0),\n datetime.datetime(2020, 1, 15, 11, 0),\n datetime.datetime(2020, 1, 15, 12, 0),\n datetime.datetime(2020, 1, 15, 13, 0),\n datetime.datetime(2020, 1, 15, 14, 0),\n datetime.datetime(2020, 1, 15, 15, 0),\n datetime.datetime(2020, 1, 15, 16, 0),\n datetime.datetime(2020, 1, 15, 17, 0),\n datetime.datetime(2020, 1, 15, 18, 0),\n datetime.datetime(2020, 1, 15, 19, 0),\n datetime.datetime(2020, 1, 15, 20, 0),\n datetime.datetime(2020, 1, 15, 21, 0),\n datetime.datetime(2020, 1, 15, 22, 0),\n datetime.datetime(2020, 1, 15, 23, 0),\n datetime.datetime(2020, 1, 16, 0, 0),\n datetime.datetime(2020, 1, 16, 1, 0),\n datetime.datetime(2020, 1, 16, 2, 0),\n datetime.datetime(2020, 1, 16, 3, 0),\n datetime.datetime(2020, 1, 16, 4, 0),\n datetime.datetime(2020, 1, 16, 5, 0),\n datetime.datetime(2020, 1, 16, 6, 0),\n datetime.datetime(2020, 1, 16, 7, 0),\n datetime.datetime(2020, 1, 16, 8, 0),\n datetime.datetime(2020, 1, 16, 9, 0),\n datetime.datetime(2020, 1, 16, 10, 0),\n datetime.datetime(2020, 1, 16, 11, 0),\n datetime.datetime(2020, 1, 16, 12, 0),\n datetime.datetime(2020, 1, 16, 13, 0),\n datetime.datetime(2020, 1, 16, 14, 0),\n datetime.datetime(2020, 1, 16, 15, 0),\n datetime.datetime(2020, 1, 16, 16, 0),\n datetime.datetime(2020, 1, 16, 17, 0),\n datetime.datetime(2020, 1, 16, 18, 0),\n datetime.datetime(2020, 1, 16, 19, 0),\n datetime.datetime(2020, 1, 16, 20, 0),\n datetime.datetime(2020, 1, 16, 21, 0),\n datetime.datetime(2020, 1, 16, 22, 0),\n datetime.datetime(2020, 1, 16, 23, 0),\n datetime.datetime(2020, 1, 17, 0, 0),\n datetime.datetime(2020, 1, 17, 1, 0),\n datetime.datetime(2020, 1, 17, 2, 0),\n datetime.datetime(2020, 1, 17, 3, 0),\n datetime.datetime(2020, 1, 17, 4, 0),\n datetime.datetime(2020, 1, 17, 5, 0),\n datetime.datetime(2020, 1, 17, 6, 0),\n datetime.datetime(2020, 1, 17, 7, 0),\n datetime.datetime(2020, 1, 17, 8, 0),\n datetime.datetime(2020, 1, 17, 9, 0),\n datetime.datetime(2020, 1, 17, 10, 0),\n datetime.datetime(2020, 1, 17, 11, 0),\n datetime.datetime(2020, 1, 17, 12, 0),\n datetime.datetime(2020, 1, 17, 13, 0),\n datetime.datetime(2020, 1, 17, 14, 0),\n datetime.datetime(2020, 1, 17, 15, 0),\n datetime.datetime(2020, 1, 17, 16, 0),\n datetime.datetime(2020, 1, 17, 17, 0),\n datetime.datetime(2020, 1, 17, 18, 0),\n datetime.datetime(2020, 1, 17, 19, 0),\n datetime.datetime(2020, 1, 17, 20, 0),\n datetime.datetime(2020, 1, 17, 21, 0),\n datetime.datetime(2020, 1, 17, 22, 0),\n datetime.datetime(2020, 1, 17, 23, 0),\n datetime.datetime(2020, 1, 18, 0, 0),\n datetime.datetime(2020, 1, 18, 1, 0),\n datetime.datetime(2020, 1, 18, 2, 0),\n datetime.datetime(2020, 1, 18, 3, 0),\n datetime.datetime(2020, 1, 18, 4, 0),\n datetime.datetime(2020, 1, 18, 5, 0),\n datetime.datetime(2020, 1, 18, 6, 0),\n datetime.datetime(2020, 1, 18, 7, 0),\n datetime.datetime(2020, 1, 18, 8, 0),\n datetime.datetime(2020, 1, 18, 9, 0),\n datetime.datetime(2020, 1, 18, 10, 0),\n datetime.datetime(2020, 1, 18, 11, 0),\n datetime.datetime(2020, 1, 18, 12, 0),\n datetime.datetime(2020, 1, 18, 13, 0),\n datetime.datetime(2020, 1, 18, 14, 0),\n datetime.datetime(2020, 1, 18, 15, 0),\n datetime.datetime(2020, 1, 18, 16, 0),\n datetime.datetime(2020, 1, 18, 17, 0),\n datetime.datetime(2020, 1, 18, 18, 0),\n datetime.datetime(2020, 1, 18, 19, 0),\n datetime.datetime(2020, 1, 18, 20, 0),\n datetime.datetime(2020, 1, 18, 21, 0),\n datetime.datetime(2020, 1, 18, 22, 0),\n datetime.datetime(2020, 1, 18, 23, 0),\n datetime.datetime(2020, 1, 19, 0, 0),\n datetime.datetime(2020, 1, 19, 1, 0),\n datetime.datetime(2020, 1, 19, 2, 0),\n datetime.datetime(2020, 1, 19, 3, 0),\n datetime.datetime(2020, 1, 19, 4, 0),\n datetime.datetime(2020, 1, 19, 5, 0),\n datetime.datetime(2020, 1, 19, 6, 0),\n datetime.datetime(2020, 1, 19, 7, 0),\n datetime.datetime(2020, 1, 19, 8, 0),\n datetime.datetime(2020, 1, 19, 9, 0),\n datetime.datetime(2020, 1, 19, 10, 0),\n datetime.datetime(2020, 1, 19, 11, 0),\n datetime.datetime(2020, 1, 19, 12, 0),\n datetime.datetime(2020, 1, 19, 13, 0),\n datetime.datetime(2020, 1, 19, 14, 0),\n datetime.datetime(2020, 1, 19, 15, 0),\n datetime.datetime(2020, 1, 19, 16, 0),\n datetime.datetime(2020, 1, 19, 17, 0),\n datetime.datetime(2020, 1, 19, 18, 0),\n datetime.datetime(2020, 1, 19, 19, 0),\n datetime.datetime(2020, 1, 19, 20, 0),\n datetime.datetime(2020, 1, 19, 21, 0),\n datetime.datetime(2020, 1, 19, 22, 0),\n datetime.datetime(2020, 1, 19, 23, 0),\n datetime.datetime(2020, 1, 20, 0, 0),\n datetime.datetime(2020, 1, 20, 1, 0),\n datetime.datetime(2020, 1, 20, 2, 0),\n datetime.datetime(2020, 1, 20, 3, 0),\n datetime.datetime(2020, 1, 20, 4, 0),\n datetime.datetime(2020, 1, 20, 5, 0),\n datetime.datetime(2020, 1, 20, 6, 0),\n datetime.datetime(2020, 1, 20, 7, 0),\n datetime.datetime(2020, 1, 20, 8, 0),\n datetime.datetime(2020, 1, 20, 9, 0),\n datetime.datetime(2020, 1, 20, 10, 0),\n datetime.datetime(2020, 1, 20, 11, 0),\n datetime.datetime(2020, 1, 20, 12, 0),\n datetime.datetime(2020, 1, 20, 13, 0),\n datetime.datetime(2020, 1, 20, 14, 0),\n datetime.datetime(2020, 1, 20, 15, 0),\n datetime.datetime(2020, 1, 20, 16, 0),\n datetime.datetime(2020, 1, 20, 17, 0),\n datetime.datetime(2020, 1, 20, 18, 0),\n datetime.datetime(2020, 1, 20, 19, 0),\n datetime.datetime(2020, 1, 20, 20, 0),\n datetime.datetime(2020, 1, 20, 21, 0),\n datetime.datetime(2020, 1, 20, 22, 0),\n datetime.datetime(2020, 1, 20, 23, 0),\n datetime.datetime(2020, 1, 21, 0, 0),\n datetime.datetime(2020, 1, 21, 1, 0),\n datetime.datetime(2020, 1, 21, 2, 0),\n datetime.datetime(2020, 1, 21, 3, 0),\n datetime.datetime(2020, 1, 21, 4, 0),\n datetime.datetime(2020, 1, 21, 5, 0),\n datetime.datetime(2020, 1, 21, 6, 0),\n datetime.datetime(2020, 1, 21, 7, 0),\n datetime.datetime(2020, 1, 21, 8, 0),\n datetime.datetime(2020, 1, 21, 9, 0),\n datetime.datetime(2020, 1, 21, 10, 0),\n datetime.datetime(2020, 1, 21, 11, 0),\n datetime.datetime(2020, 1, 21, 12, 0),\n datetime.datetime(2020, 1, 21, 13, 0),\n datetime.datetime(2020, 1, 21, 14, 0),\n datetime.datetime(2020, 1, 21, 15, 0),\n datetime.datetime(2020, 1, 21, 16, 0),\n datetime.datetime(2020, 1, 21, 17, 0),\n datetime.datetime(2020, 1, 21, 18, 0),\n datetime.datetime(2020, 1, 21, 19, 0),\n datetime.datetime(2020, 1, 21, 20, 0),\n datetime.datetime(2020, 1, 21, 21, 0),\n datetime.datetime(2020, 1, 21, 22, 0),\n datetime.datetime(2020, 1, 21, 23, 0),\n datetime.datetime(2020, 1, 22, 0, 0),\n datetime.datetime(2020, 1, 22, 1, 0),\n datetime.datetime(2020, 1, 22, 2, 0),\n datetime.datetime(2020, 1, 22, 3, 0),\n datetime.datetime(2020, 1, 22, 4, 0),\n datetime.datetime(2020, 1, 22, 5, 0),\n datetime.datetime(2020, 1, 22, 6, 0),\n datetime.datetime(2020, 1, 22, 7, 0),\n datetime.datetime(2020, 1, 22, 8, 0),\n datetime.datetime(2020, 1, 22, 9, 0),\n datetime.datetime(2020, 1, 22, 10, 0),\n datetime.datetime(2020, 1, 22, 11, 0),\n datetime.datetime(2020, 1, 22, 12, 0),\n datetime.datetime(2020, 1, 22, 13, 0),\n datetime.datetime(2020, 1, 22, 14, 0),\n datetime.datetime(2020, 1, 22, 15, 0),\n datetime.datetime(2020, 1, 22, 16, 0),\n datetime.datetime(2020, 1, 22, 17, 0),\n datetime.datetime(2020, 1, 22, 18, 0),\n datetime.datetime(2020, 1, 22, 19, 0),\n datetime.datetime(2020, 1, 22, 20, 0),\n datetime.datetime(2020, 1, 22, 21, 0),\n datetime.datetime(2020, 1, 22, 22, 0),\n datetime.datetime(2020, 1, 22, 23, 0),\n datetime.datetime(2020, 1, 23, 0, 0),\n datetime.datetime(2020, 1, 23, 1, 0),\n datetime.datetime(2020, 1, 23, 2, 0),\n datetime.datetime(2020, 1, 23, 3, 0),\n datetime.datetime(2020, 1, 23, 4, 0),\n datetime.datetime(2020, 1, 23, 5, 0),\n datetime.datetime(2020, 1, 23, 6, 0),\n datetime.datetime(2020, 1, 23, 7, 0),\n datetime.datetime(2020, 1, 23, 8, 0),\n datetime.datetime(2020, 1, 23, 9, 0),\n datetime.datetime(2020, 1, 23, 10, 0),\n datetime.datetime(2020, 1, 23, 11, 0),\n datetime.datetime(2020, 1, 23, 12, 0),\n datetime.datetime(2020, 1, 23, 13, 0),\n datetime.datetime(2020, 1, 23, 14, 0),\n datetime.datetime(2020, 1, 23, 15, 0),\n datetime.datetime(2020, 1, 23, 16, 0),\n datetime.datetime(2020, 1, 23, 17, 0),\n datetime.datetime(2020, 1, 23, 18, 0),\n datetime.datetime(2020, 1, 23, 19, 0),\n datetime.datetime(2020, 1, 23, 20, 0),\n datetime.datetime(2020, 1, 23, 21, 0),\n datetime.datetime(2020, 1, 23, 22, 0),\n datetime.datetime(2020, 1, 23, 23, 0),\n datetime.datetime(2020, 1, 24, 0, 0),\n datetime.datetime(2020, 1, 24, 1, 0),\n datetime.datetime(2020, 1, 24, 2, 0),\n datetime.datetime(2020, 1, 24, 3, 0),\n datetime.datetime(2020, 1, 24, 4, 0),\n datetime.datetime(2020, 1, 24, 5, 0),\n datetime.datetime(2020, 1, 24, 6, 0),\n datetime.datetime(2020, 1, 24, 7, 0),\n datetime.datetime(2020, 1, 24, 8, 0),\n datetime.datetime(2020, 1, 24, 9, 0),\n datetime.datetime(2020, 1, 24, 10, 0),\n datetime.datetime(2020, 1, 24, 11, 0),\n datetime.datetime(2020, 1, 24, 12, 0),\n datetime.datetime(2020, 1, 24, 13, 0),\n datetime.datetime(2020, 1, 24, 14, 0),\n datetime.datetime(2020, 1, 24, 15, 0),\n datetime.datetime(2020, 1, 24, 16, 0),\n datetime.datetime(2020, 1, 24, 17, 0),\n datetime.datetime(2020, 1, 24, 18, 0),\n datetime.datetime(2020, 1, 24, 19, 0),\n datetime.datetime(2020, 1, 24, 20, 0),\n datetime.datetime(2020, 1, 24, 21, 0),\n datetime.datetime(2020, 1, 24, 22, 0),\n datetime.datetime(2020, 1, 24, 23, 0),\n datetime.datetime(2020, 1, 25, 0, 0),\n datetime.datetime(2020, 1, 25, 1, 0),\n datetime.datetime(2020, 1, 25, 2, 0),\n datetime.datetime(2020, 1, 25, 3, 0),\n datetime.datetime(2020, 1, 25, 4, 0),\n datetime.datetime(2020, 1, 25, 5, 0),\n datetime.datetime(2020, 1, 25, 6, 0),\n datetime.datetime(2020, 1, 25, 7, 0),\n datetime.datetime(2020, 1, 25, 8, 0),\n datetime.datetime(2020, 1, 25, 9, 0),\n datetime.datetime(2020, 1, 25, 10, 0),\n datetime.datetime(2020, 1, 25, 11, 0),\n datetime.datetime(2020, 1, 25, 12, 0),\n datetime.datetime(2020, 1, 25, 13, 0),\n datetime.datetime(2020, 1, 25, 14, 0),\n datetime.datetime(2020, 1, 25, 15, 0),\n datetime.datetime(2020, 1, 25, 16, 0),\n datetime.datetime(2020, 1, 25, 17, 0),\n datetime.datetime(2020, 1, 25, 18, 0),\n datetime.datetime(2020, 1, 25, 19, 0),\n datetime.datetime(2020, 1, 25, 20, 0),\n datetime.datetime(2020, 1, 25, 21, 0),\n datetime.datetime(2020, 1, 25, 22, 0),\n datetime.datetime(2020, 1, 25, 23, 0),\n datetime.datetime(2020, 1, 26, 0, 0),\n datetime.datetime(2020, 1, 26, 1, 0),\n datetime.datetime(2020, 1, 26, 2, 0),\n datetime.datetime(2020, 1, 26, 3, 0),\n datetime.datetime(2020, 1, 26, 4, 0),\n datetime.datetime(2020, 1, 26, 5, 0),\n datetime.datetime(2020, 1, 26, 6, 0),\n datetime.datetime(2020, 1, 26, 7, 0),\n datetime.datetime(2020, 1, 26, 8, 0),\n datetime.datetime(2020, 1, 26, 9, 0),\n datetime.datetime(2020, 1, 26, 10, 0),\n datetime.datetime(2020, 1, 26, 11, 0),\n datetime.datetime(2020, 1, 26, 12, 0),\n datetime.datetime(2020, 1, 26, 13, 0),\n datetime.datetime(2020, 1, 26, 14, 0),\n datetime.datetime(2020, 1, 26, 15, 0),\n datetime.datetime(2020, 1, 26, 16, 0),\n datetime.datetime(2020, 1, 26, 17, 0),\n datetime.datetime(2020, 1, 26, 18, 0),\n datetime.datetime(2020, 1, 26, 19, 0),\n datetime.datetime(2020, 1, 26, 20, 0),\n datetime.datetime(2020, 1, 26, 21, 0),\n datetime.datetime(2020, 1, 26, 22, 0),\n datetime.datetime(2020, 1, 26, 23, 0),\n datetime.datetime(2020, 1, 27, 0, 0),\n datetime.datetime(2020, 1, 27, 1, 0),\n datetime.datetime(2020, 1, 27, 2, 0),\n datetime.datetime(2020, 1, 27, 3, 0),\n datetime.datetime(2020, 1, 27, 4, 0),\n datetime.datetime(2020, 1, 27, 5, 0),\n datetime.datetime(2020, 1, 27, 6, 0),\n datetime.datetime(2020, 1, 27, 7, 0),\n datetime.datetime(2020, 1, 27, 8, 0),\n datetime.datetime(2020, 1, 27, 9, 0),\n datetime.datetime(2020, 1, 27, 10, 0),\n datetime.datetime(2020, 1, 27, 11, 0),\n datetime.datetime(2020, 1, 27, 12, 0),\n datetime.datetime(2020, 1, 27, 13, 0),\n datetime.datetime(2020, 1, 27, 14, 0),\n datetime.datetime(2020, 1, 27, 15, 0),\n datetime.datetime(2020, 1, 27, 16, 0),\n datetime.datetime(2020, 1, 27, 17, 0),\n datetime.datetime(2020, 1, 27, 18, 0),\n datetime.datetime(2020, 1, 27, 19, 0),\n datetime.datetime(2020, 1, 27, 20, 0),\n datetime.datetime(2020, 1, 27, 21, 0),\n datetime.datetime(2020, 1, 27, 22, 0),\n datetime.datetime(2020, 1, 27, 23, 0),\n datetime.datetime(2020, 1, 28, 0, 0),\n datetime.datetime(2020, 1, 28, 1, 0),\n datetime.datetime(2020, 1, 28, 2, 0),\n datetime.datetime(2020, 1, 28, 3, 0),\n datetime.datetime(2020, 1, 28, 4, 0),\n datetime.datetime(2020, 1, 28, 5, 0),\n datetime.datetime(2020, 1, 28, 6, 0),\n datetime.datetime(2020, 1, 28, 7, 0),\n datetime.datetime(2020, 1, 28, 8, 0),\n datetime.datetime(2020, 1, 28, 9, 0),\n datetime.datetime(2020, 1, 28, 10, 0),\n datetime.datetime(2020, 1, 28, 11, 0),\n datetime.datetime(2020, 1, 28, 12, 0),\n datetime.datetime(2020, 1, 28, 13, 0),\n datetime.datetime(2020, 1, 28, 14, 0),\n datetime.datetime(2020, 1, 28, 15, 0),\n datetime.datetime(2020, 1, 28, 16, 0),\n datetime.datetime(2020, 1, 28, 17, 0),\n datetime.datetime(2020, 1, 28, 18, 0),\n datetime.datetime(2020, 1, 28, 19, 0),\n datetime.datetime(2020, 1, 28, 20, 0),\n datetime.datetime(2020, 1, 28, 21, 0),\n datetime.datetime(2020, 1, 28, 22, 0),\n datetime.datetime(2020, 1, 28, 23, 0),\n datetime.datetime(2020, 1, 29, 0, 0),\n datetime.datetime(2020, 1, 29, 1, 0),\n datetime.datetime(2020, 1, 29, 2, 0),\n datetime.datetime(2020, 1, 29, 3, 0),\n datetime.datetime(2020, 1, 29, 4, 0),\n datetime.datetime(2020, 1, 29, 5, 0),\n datetime.datetime(2020, 1, 29, 6, 0),\n datetime.datetime(2020, 1, 29, 7, 0),\n datetime.datetime(2020, 1, 29, 8, 0),\n datetime.datetime(2020, 1, 29, 9, 0),\n datetime.datetime(2020, 1, 29, 10, 0),\n datetime.datetime(2020, 1, 29, 11, 0),\n datetime.datetime(2020, 1, 29, 12, 0),\n datetime.datetime(2020, 1, 29, 13, 0),\n datetime.datetime(2020, 1, 29, 14, 0),\n datetime.datetime(2020, 1, 29, 15, 0),\n datetime.datetime(2020, 1, 29, 16, 0),\n datetime.datetime(2020, 1, 29, 17, 0),\n datetime.datetime(2020, 1, 29, 18, 0),\n datetime.datetime(2020, 1, 29, 19, 0),\n datetime.datetime(2020, 1, 29, 20, 0),\n datetime.datetime(2020, 1, 29, 21, 0),\n datetime.datetime(2020, 1, 29, 22, 0),\n datetime.datetime(2020, 1, 29, 23, 0),\n datetime.datetime(2020, 1, 30, 0, 0),\n datetime.datetime(2020, 1, 30, 1, 0),\n datetime.datetime(2020, 1, 30, 2, 0),\n datetime.datetime(2020, 1, 30, 3, 0),\n datetime.datetime(2020, 1, 30, 4, 0),\n datetime.datetime(2020, 1, 30, 5, 0),\n datetime.datetime(2020, 1, 30, 6, 0),\n datetime.datetime(2020, 1, 30, 7, 0),\n datetime.datetime(2020, 1, 30, 8, 0),\n datetime.datetime(2020, 1, 30, 9, 0),\n datetime.datetime(2020, 1, 30, 10, 0),\n datetime.datetime(2020, 1, 30, 11, 0),\n datetime.datetime(2020, 1, 30, 12, 0),\n datetime.datetime(2020, 1, 30, 13, 0),\n datetime.datetime(2020, 1, 30, 14, 0),\n datetime.datetime(2020, 1, 30, 15, 0),\n datetime.datetime(2020, 1, 30, 16, 0),\n datetime.datetime(2020, 1, 30, 17, 0),\n datetime.datetime(2020, 1, 30, 18, 0),\n datetime.datetime(2020, 1, 30, 19, 0),\n datetime.datetime(2020, 1, 30, 20, 0),\n datetime.datetime(2020, 1, 30, 21, 0),\n datetime.datetime(2020, 1, 30, 22, 0),\n datetime.datetime(2020, 1, 30, 23, 0),\n datetime.datetime(2020, 1, 31, 0, 0),\n datetime.datetime(2020, 1, 31, 1, 0),\n datetime.datetime(2020, 1, 31, 2, 0),\n datetime.datetime(2020, 1, 31, 3, 0),\n datetime.datetime(2020, 1, 31, 4, 0),\n datetime.datetime(2020, 1, 31, 5, 0),\n datetime.datetime(2020, 1, 31, 6, 0),\n datetime.datetime(2020, 1, 31, 7, 0),\n datetime.datetime(2020, 1, 31, 8, 0),\n datetime.datetime(2020, 1, 31, 9, 0),\n datetime.datetime(2020, 1, 31, 10, 0),\n datetime.datetime(2020, 1, 31, 11, 0),\n datetime.datetime(2020, 1, 31, 12, 0),\n datetime.datetime(2020, 1, 31, 13, 0),\n datetime.datetime(2020, 1, 31, 14, 0),\n datetime.datetime(2020, 1, 31, 15, 0),\n datetime.datetime(2020, 1, 31, 16, 0),\n datetime.datetime(2020, 1, 31, 17, 0),\n datetime.datetime(2020, 1, 31, 18, 0),\n datetime.datetime(2020, 1, 31, 19, 0),\n datetime.datetime(2020, 1, 31, 20, 0),\n datetime.datetime(2020, 1, 31, 21, 0),\n datetime.datetime(2020, 1, 31, 22, 0),\n datetime.datetime(2020, 1, 31, 23, 0),\n datetime.datetime(2020, 2, 1, 0, 0),\n datetime.datetime(2020, 2, 1, 1, 0),\n datetime.datetime(2020, 2, 1, 2, 0),\n datetime.datetime(2020, 2, 1, 3, 0),\n datetime.datetime(2020, 2, 1, 4, 0),\n datetime.datetime(2020, 2, 1, 5, 0),\n datetime.datetime(2020, 2, 1, 6, 0),\n datetime.datetime(2020, 2, 1, 7, 0),\n datetime.datetime(2020, 2, 1, 8, 0),\n datetime.datetime(2020, 2, 1, 9, 0),\n datetime.datetime(2020, 2, 1, 10, 0),\n datetime.datetime(2020, 2, 1, 11, 0),\n datetime.datetime(2020, 2, 1, 12, 0),\n datetime.datetime(2020, 2, 1, 13, 0),\n datetime.datetime(2020, 2, 1, 14, 0),\n datetime.datetime(2020, 2, 1, 15, 0),\n datetime.datetime(2020, 2, 1, 16, 0),\n datetime.datetime(2020, 2, 1, 17, 0),\n datetime.datetime(2020, 2, 1, 18, 0),\n datetime.datetime(2020, 2, 1, 19, 0),\n datetime.datetime(2020, 2, 1, 20, 0),\n datetime.datetime(2020, 2, 1, 21, 0),\n datetime.datetime(2020, 2, 1, 22, 0),\n datetime.datetime(2020, 2, 1, 23, 0),\n datetime.datetime(2020, 2, 2, 0, 0),\n datetime.datetime(2020, 2, 2, 1, 0),\n datetime.datetime(2020, 2, 2, 2, 0),\n datetime.datetime(2020, 2, 2, 3, 0),\n datetime.datetime(2020, 2, 2, 4, 0),\n datetime.datetime(2020, 2, 2, 5, 0),\n datetime.datetime(2020, 2, 2, 6, 0),\n datetime.datetime(2020, 2, 2, 7, 0),\n datetime.datetime(2020, 2, 2, 8, 0),\n datetime.datetime(2020, 2, 2, 9, 0),\n datetime.datetime(2020, 2, 2, 10, 0),\n datetime.datetime(2020, 2, 2, 11, 0),\n datetime.datetime(2020, 2, 2, 12, 0),\n datetime.datetime(2020, 2, 2, 13, 0),\n datetime.datetime(2020, 2, 2, 14, 0),\n datetime.datetime(2020, 2, 2, 15, 0),\n datetime.datetime(2020, 2, 2, 16, 0),\n datetime.datetime(2020, 2, 2, 17, 0),\n datetime.datetime(2020, 2, 2, 18, 0),\n datetime.datetime(2020, 2, 2, 19, 0),\n datetime.datetime(2020, 2, 2, 20, 0),\n datetime.datetime(2020, 2, 2, 21, 0),\n datetime.datetime(2020, 2, 2, 22, 0),\n datetime.datetime(2020, 2, 2, 23, 0),\n datetime.datetime(2020, 2, 3, 0, 0),\n datetime.datetime(2020, 2, 3, 1, 0),\n datetime.datetime(2020, 2, 3, 2, 0),\n datetime.datetime(2020, 2, 3, 3, 0),\n datetime.datetime(2020, 2, 3, 4, 0),\n datetime.datetime(2020, 2, 3, 5, 0),\n datetime.datetime(2020, 2, 3, 6, 0),\n datetime.datetime(2020, 2, 3, 7, 0),\n datetime.datetime(2020, 2, 3, 8, 0),\n datetime.datetime(2020, 2, 3, 9, 0),\n datetime.datetime(2020, 2, 3, 10, 0),\n datetime.datetime(2020, 2, 3, 11, 0),\n datetime.datetime(2020, 2, 3, 12, 0),\n datetime.datetime(2020, 2, 3, 13, 0),\n datetime.datetime(2020, 2, 3, 14, 0),\n datetime.datetime(2020, 2, 3, 15, 0),\n datetime.datetime(2020, 2, 3, 16, 0),\n datetime.datetime(2020, 2, 3, 17, 0),\n datetime.datetime(2020, 2, 3, 18, 0),\n datetime.datetime(2020, 2, 3, 19, 0),\n datetime.datetime(2020, 2, 3, 20, 0),\n datetime.datetime(2020, 2, 3, 21, 0),\n datetime.datetime(2020, 2, 3, 22, 0),\n datetime.datetime(2020, 2, 3, 23, 0),\n datetime.datetime(2020, 2, 4, 0, 0),\n datetime.datetime(2020, 2, 4, 1, 0),\n datetime.datetime(2020, 2, 4, 2, 0),\n datetime.datetime(2020, 2, 4, 3, 0),\n datetime.datetime(2020, 2, 4, 4, 0),\n datetime.datetime(2020, 2, 4, 5, 0),\n datetime.datetime(2020, 2, 4, 6, 0),\n datetime.datetime(2020, 2, 4, 7, 0),\n datetime.datetime(2020, 2, 4, 8, 0),\n datetime.datetime(2020, 2, 4, 9, 0),\n datetime.datetime(2020, 2, 4, 10, 0),\n datetime.datetime(2020, 2, 4, 11, 0),\n datetime.datetime(2020, 2, 4, 12, 0),\n datetime.datetime(2020, 2, 4, 13, 0),\n datetime.datetime(2020, 2, 4, 14, 0),\n datetime.datetime(2020, 2, 4, 15, 0),\n datetime.datetime(2020, 2, 4, 16, 0),\n datetime.datetime(2020, 2, 4, 17, 0),\n datetime.datetime(2020, 2, 4, 18, 0),\n datetime.datetime(2020, 2, 4, 19, 0),\n datetime.datetime(2020, 2, 4, 20, 0),\n datetime.datetime(2020, 2, 4, 21, 0),\n datetime.datetime(2020, 2, 4, 22, 0),\n datetime.datetime(2020, 2, 4, 23, 0),\n datetime.datetime(2020, 2, 5, 0, 0),\n datetime.datetime(2020, 2, 5, 1, 0),\n datetime.datetime(2020, 2, 5, 2, 0),\n datetime.datetime(2020, 2, 5, 3, 0),\n datetime.datetime(2020, 2, 5, 4, 0),\n datetime.datetime(2020, 2, 5, 5, 0),\n datetime.datetime(2020, 2, 5, 6, 0),\n datetime.datetime(2020, 2, 5, 7, 0),\n datetime.datetime(2020, 2, 5, 8, 0),\n datetime.datetime(2020, 2, 5, 9, 0),\n datetime.datetime(2020, 2, 5, 10, 0),\n datetime.datetime(2020, 2, 5, 11, 0),\n datetime.datetime(2020, 2, 5, 12, 0),\n datetime.datetime(2020, 2, 5, 13, 0),\n datetime.datetime(2020, 2, 5, 14, 0),\n datetime.datetime(2020, 2, 5, 15, 0),\n datetime.datetime(2020, 2, 5, 16, 0),\n datetime.datetime(2020, 2, 5, 17, 0),\n datetime.datetime(2020, 2, 5, 18, 0),\n datetime.datetime(2020, 2, 5, 19, 0),\n datetime.datetime(2020, 2, 5, 20, 0),\n datetime.datetime(2020, 2, 5, 21, 0),\n datetime.datetime(2020, 2, 5, 22, 0),\n datetime.datetime(2020, 2, 5, 23, 0),\n datetime.datetime(2020, 2, 6, 0, 0),\n datetime.datetime(2020, 2, 6, 1, 0),\n datetime.datetime(2020, 2, 6, 2, 0),\n datetime.datetime(2020, 2, 6, 3, 0),\n datetime.datetime(2020, 2, 6, 4, 0),\n datetime.datetime(2020, 2, 6, 5, 0),\n datetime.datetime(2020, 2, 6, 6, 0),\n datetime.datetime(2020, 2, 6, 7, 0),\n datetime.datetime(2020, 2, 6, 8, 0),\n datetime.datetime(2020, 2, 6, 9, 0),\n datetime.datetime(2020, 2, 6, 10, 0),\n datetime.datetime(2020, 2, 6, 11, 0),\n datetime.datetime(2020, 2, 6, 12, 0),\n datetime.datetime(2020, 2, 6, 13, 0),\n datetime.datetime(2020, 2, 6, 14, 0),\n datetime.datetime(2020, 2, 6, 15, 0),\n datetime.datetime(2020, 2, 6, 16, 0),\n datetime.datetime(2020, 2, 6, 17, 0),\n datetime.datetime(2020, 2, 6, 18, 0),\n datetime.datetime(2020, 2, 6, 19, 0),\n datetime.datetime(2020, 2, 6, 20, 0),\n datetime.datetime(2020, 2, 6, 21, 0),\n datetime.datetime(2020, 2, 6, 22, 0),\n datetime.datetime(2020, 2, 6, 23, 0),\n datetime.datetime(2020, 2, 7, 0, 0),\n datetime.datetime(2020, 2, 7, 1, 0),\n datetime.datetime(2020, 2, 7, 2, 0),\n datetime.datetime(2020, 2, 7, 3, 0),\n datetime.datetime(2020, 2, 7, 4, 0),\n datetime.datetime(2020, 2, 7, 5, 0),\n datetime.datetime(2020, 2, 7, 6, 0),\n datetime.datetime(2020, 2, 7, 7, 0),\n datetime.datetime(2020, 2, 7, 8, 0),\n datetime.datetime(2020, 2, 7, 9, 0),\n datetime.datetime(2020, 2, 7, 10, 0),\n datetime.datetime(2020, 2, 7, 11, 0),\n datetime.datetime(2020, 2, 7, 12, 0),\n datetime.datetime(2020, 2, 7, 13, 0),\n datetime.datetime(2020, 2, 7, 14, 0),\n datetime.datetime(2020, 2, 7, 15, 0),\n datetime.datetime(2020, 2, 7, 16, 0),\n datetime.datetime(2020, 2, 7, 17, 0),\n datetime.datetime(2020, 2, 7, 18, 0),\n datetime.datetime(2020, 2, 7, 19, 0),\n datetime.datetime(2020, 2, 7, 20, 0),\n datetime.datetime(2020, 2, 7, 21, 0),\n datetime.datetime(2020, 2, 7, 22, 0),\n datetime.datetime(2020, 2, 7, 23, 0),\n datetime.datetime(2020, 2, 8, 0, 0),\n datetime.datetime(2020, 2, 8, 1, 0),\n datetime.datetime(2020, 2, 8, 2, 0),\n datetime.datetime(2020, 2, 8, 3, 0),\n datetime.datetime(2020, 2, 8, 4, 0),\n datetime.datetime(2020, 2, 8, 5, 0),\n datetime.datetime(2020, 2, 8, 6, 0),\n datetime.datetime(2020, 2, 8, 7, 0),\n datetime.datetime(2020, 2, 8, 8, 0),\n datetime.datetime(2020, 2, 8, 9, 0),\n datetime.datetime(2020, 2, 8, 10, 0),\n datetime.datetime(2020, 2, 8, 11, 0),\n datetime.datetime(2020, 2, 8, 12, 0),\n datetime.datetime(2020, 2, 8, 13, 0),\n datetime.datetime(2020, 2, 8, 14, 0),\n datetime.datetime(2020, 2, 8, 15, 0),\n datetime.datetime(2020, 2, 8, 16, 0),\n datetime.datetime(2020, 2, 8, 17, 0),\n datetime.datetime(2020, 2, 8, 18, 0),\n datetime.datetime(2020, 2, 8, 19, 0),\n datetime.datetime(2020, 2, 8, 20, 0),\n datetime.datetime(2020, 2, 8, 21, 0),\n datetime.datetime(2020, 2, 8, 22, 0),\n datetime.datetime(2020, 2, 8, 23, 0),\n datetime.datetime(2020, 2, 9, 0, 0),\n datetime.datetime(2020, 2, 9, 1, 0),\n datetime.datetime(2020, 2, 9, 2, 0),\n datetime.datetime(2020, 2, 9, 3, 0),\n datetime.datetime(2020, 2, 9, 4, 0),\n datetime.datetime(2020, 2, 9, 5, 0),\n datetime.datetime(2020, 2, 9, 6, 0),\n datetime.datetime(2020, 2, 9, 7, 0),\n datetime.datetime(2020, 2, 9, 8, 0),\n datetime.datetime(2020, 2, 9, 9, 0),\n datetime.datetime(2020, 2, 9, 10, 0),\n datetime.datetime(2020, 2, 9, 11, 0),\n datetime.datetime(2020, 2, 9, 12, 0),\n datetime.datetime(2020, 2, 9, 13, 0),\n datetime.datetime(2020, 2, 9, 14, 0),\n datetime.datetime(2020, 2, 9, 15, 0),\n datetime.datetime(2020, 2, 9, 16, 0),\n datetime.datetime(2020, 2, 9, 17, 0),\n datetime.datetime(2020, 2, 9, 18, 0),\n datetime.datetime(2020, 2, 9, 19, 0),\n datetime.datetime(2020, 2, 9, 20, 0),\n datetime.datetime(2020, 2, 9, 21, 0),\n datetime.datetime(2020, 2, 9, 22, 0),\n datetime.datetime(2020, 2, 9, 23, 0),\n datetime.datetime(2020, 2, 10, 0, 0),\n datetime.datetime(2020, 2, 10, 1, 0),\n datetime.datetime(2020, 2, 10, 2, 0),\n datetime.datetime(2020, 2, 10, 3, 0),\n datetime.datetime(2020, 2, 10, 4, 0),\n datetime.datetime(2020, 2, 10, 5, 0),\n datetime.datetime(2020, 2, 10, 6, 0),\n datetime.datetime(2020, 2, 10, 7, 0),\n datetime.datetime(2020, 2, 10, 8, 0),\n datetime.datetime(2020, 2, 10, 9, 0),\n datetime.datetime(2020, 2, 10, 10, 0),\n datetime.datetime(2020, 2, 10, 11, 0),\n datetime.datetime(2020, 2, 10, 12, 0),\n datetime.datetime(2020, 2, 10, 13, 0),\n datetime.datetime(2020, 2, 10, 14, 0),\n datetime.datetime(2020, 2, 10, 15, 0),\n datetime.datetime(2020, 2, 10, 16, 0),\n datetime.datetime(2020, 2, 10, 17, 0),\n datetime.datetime(2020, 2, 10, 18, 0),\n datetime.datetime(2020, 2, 10, 19, 0),\n datetime.datetime(2020, 2, 10, 20, 0),\n datetime.datetime(2020, 2, 10, 21, 0),\n datetime.datetime(2020, 2, 10, 22, 0),\n datetime.datetime(2020, 2, 10, 23, 0),\n datetime.datetime(2020, 2, 11, 0, 0),\n datetime.datetime(2020, 2, 11, 1, 0),\n datetime.datetime(2020, 2, 11, 2, 0),\n datetime.datetime(2020, 2, 11, 3, 0),\n datetime.datetime(2020, 2, 11, 4, 0),\n datetime.datetime(2020, 2, 11, 5, 0),\n datetime.datetime(2020, 2, 11, 6, 0),\n datetime.datetime(2020, 2, 11, 7, 0),\n datetime.datetime(2020, 2, 11, 8, 0),\n datetime.datetime(2020, 2, 11, 9, 0),\n datetime.datetime(2020, 2, 11, 10, 0),\n datetime.datetime(2020, 2, 11, 11, 0),\n datetime.datetime(2020, 2, 11, 12, 0),\n datetime.datetime(2020, 2, 11, 13, 0),\n datetime.datetime(2020, 2, 11, 14, 0),\n datetime.datetime(2020, 2, 11, 15, 0),\n ...]"
     },
     "execution_count": 166,
     "metadata": {},
     "output_type": "execute_result"
    }
   ],
   "source": [
    "current_ts = datetime.strptime(\"2020-01-01 00:00\", '%Y-%m-%d %H:%M')\n",
    "last_ts = datetime.strptime(\"2021-01-01 00:00\", '%Y-%m-%d %H:%M')\n",
    "\n",
    "timestamp_filter_list = mL.create_timestamp_list(current_ts, last_ts)\n",
    "timestamp_filter_list"
   ],
   "metadata": {
    "collapsed": false,
    "pycharm": {
     "name": "#%%\n"
    }
   }
  },
  {
   "cell_type": "code",
   "execution_count": 207,
   "outputs": [
    {
     "data": {
      "text/plain": "                     SST_41117\ntimestamp                     \n2020-01-01 00:00:00  19.248938\n2020-01-01 01:00:00  19.248938\n2020-01-01 02:00:00  19.248938\n2020-01-01 03:00:00  19.248938\n2020-01-01 04:00:00  19.248938\n...                        ...\n2020-12-31 19:00:00  18.705966\n2020-12-31 20:00:00  18.705966\n2020-12-31 21:00:00  18.705966\n2020-12-31 22:00:00  18.376153\n2020-12-31 23:00:00  18.376153\n\n[8784 rows x 1 columns]",
      "text/html": "<div>\n<style scoped>\n    .dataframe tbody tr th:only-of-type {\n        vertical-align: middle;\n    }\n\n    .dataframe tbody tr th {\n        vertical-align: top;\n    }\n\n    .dataframe thead th {\n        text-align: right;\n    }\n</style>\n<table border=\"1\" class=\"dataframe\">\n  <thead>\n    <tr style=\"text-align: right;\">\n      <th></th>\n      <th>SST_41117</th>\n    </tr>\n    <tr>\n      <th>timestamp</th>\n      <th></th>\n    </tr>\n  </thead>\n  <tbody>\n    <tr>\n      <th>2020-01-01 00:00:00</th>\n      <td>19.248938</td>\n    </tr>\n    <tr>\n      <th>2020-01-01 01:00:00</th>\n      <td>19.248938</td>\n    </tr>\n    <tr>\n      <th>2020-01-01 02:00:00</th>\n      <td>19.248938</td>\n    </tr>\n    <tr>\n      <th>2020-01-01 03:00:00</th>\n      <td>19.248938</td>\n    </tr>\n    <tr>\n      <th>2020-01-01 04:00:00</th>\n      <td>19.248938</td>\n    </tr>\n    <tr>\n      <th>...</th>\n      <td>...</td>\n    </tr>\n    <tr>\n      <th>2020-12-31 19:00:00</th>\n      <td>18.705966</td>\n    </tr>\n    <tr>\n      <th>2020-12-31 20:00:00</th>\n      <td>18.705966</td>\n    </tr>\n    <tr>\n      <th>2020-12-31 21:00:00</th>\n      <td>18.705966</td>\n    </tr>\n    <tr>\n      <th>2020-12-31 22:00:00</th>\n      <td>18.376153</td>\n    </tr>\n    <tr>\n      <th>2020-12-31 23:00:00</th>\n      <td>18.376153</td>\n    </tr>\n  </tbody>\n</table>\n<p>8784 rows × 1 columns</p>\n</div>"
     },
     "execution_count": 207,
     "metadata": {},
     "output_type": "execute_result"
    }
   ],
   "source": [
    "sst_data_time0_df = pd.DataFrame({'SST_41117': sst_data_time0[:,0]})\n",
    "sst_data_time0_df[\"timestamp\"] = timestamp_filter_list\n",
    "sst_data_time0_df.set_index('timestamp', inplace = True)\n",
    "sst_data_time0_df[\"SST_41117\"] -= 273.15    #convert to degree Celsius\n",
    "sst_data_time0_df"
   ],
   "metadata": {
    "collapsed": false,
    "pycharm": {
     "name": "#%%\n"
    }
   }
  },
  {
   "cell_type": "code",
   "execution_count": 210,
   "outputs": [
    {
     "data": {
      "text/plain": "<Figure size 640x480 with 1 Axes>",
      "image/png": "[encoded data removed]"
     },
     "metadata": {},
     "output_type": "display_data"
    }
   ],
   "source": [
    "plt.plot(sst_data_time0_df[\"SST_41117\"])\n",
    "plt.title(\"Sea Surface Temperature at Station 41117 in °C\")\n",
    "plt.show()"
   ],
   "metadata": {
    "collapsed": false,
    "pycharm": {
     "name": "#%%\n"
    }
   }
  },
  {
   "cell_type": "markdown",
   "source": [],
   "metadata": {
    "collapsed": false,
    "pycharm": {
     "name": "#%% md\n"
    }
   }
  },
  {
   "cell_type": "markdown",
   "source": [
    "Note: If every value is -32767, it is very likely that langitude and longitude are switched or anything else is wrong with the coordinates. I assume that this value (which is almost the min of int16) should represent land areas.\n"
   ],
   "metadata": {
    "collapsed": false,
    "pycharm": {
     "name": "#%% md\n"
    }
   }
  },
  {
   "cell_type": "code",
   "execution_count": null,
   "outputs": [],
   "source": [],
   "metadata": {
    "collapsed": false,
    "pycharm": {
     "name": "#%%\n"
    }
   }
  }
 ],
 "metadata": {
  "kernelspec": {
   "display_name": "Python 3",
   "language": "python",
   "name": "python3"
  },
  "language_info": {
   "codemirror_mode": {
    "name": "ipython",
    "version": 2
   },
   "file_extension": ".py",
   "mimetype": "text/x-python",
   "name": "python",
   "nbconvert_exporter": "python",
   "pygments_lexer": "ipython2",
   "version": "2.7.6"
  }
 },
 "nbformat": 4,
 "nbformat_minor": 0
}