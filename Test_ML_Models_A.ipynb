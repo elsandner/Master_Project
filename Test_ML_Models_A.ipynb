{
 "cells": [
  {
   "cell_type": "markdown",
   "metadata": {
    "pycharm": {
     "name": "#%% md\n"
    }
   },
   "source": [
    "# Test Environment"
   ]
  },
  {
   "cell_type": "code",
   "execution_count": 2,
   "metadata": {
    "pycharm": {
     "name": "#%%\n"
    }
   },
   "outputs": [
    {
     "data": {
      "text/plain": "<IPython.core.display.Javascript object>",
      "application/javascript": "if (!(\"Notification\" in window)) {\n    alert(\"This browser does not support desktop notifications, so the %%notify magic will not work.\");\n} else if (Notification.permission !== 'granted' && Notification.permission !== 'denied') {\n    Notification.requestPermission(function (permission) {\n        if(!('permission' in Notification)) {\n            Notification.permission = permission;\n        }\n    })\n}\n"
     },
     "metadata": {},
     "output_type": "display_data"
    }
   ],
   "source": [
    "import ipywidgets as widgets\n",
    "from IPython.display import display\n",
    "import numpy as np\n",
    "import pandas as pd\n",
    "#import Models.models as models\n",
    "#import Models.LSTM.models_LSTM as models\n",
    "import myLibrary as mL\n",
    "#from Experiment_Class import Experiment\n",
    "from sklearn.metrics import mean_squared_error, mean_absolute_error\n",
    "import pickle\n",
    "import os\n",
    "\n",
    "NDBC = mL.NDBC_lib\n",
    "ERA5 = mL.ERA5_lib\n",
    "Models = mL.Models\n",
    "DP = mL.DataProcessor\n",
    "Experiment = mL.Experiment\n",
    "\n",
    "%load_ext jupyternotify"
   ]
  },
  {
   "cell_type": "markdown",
   "metadata": {
    "pycharm": {
     "name": "#%% md\n"
    }
   },
   "source": [
    "# Get Data"
   ]
  },
  {
   "cell_type": "code",
   "execution_count": 3,
   "metadata": {
    "pycharm": {
     "name": "#%%\n"
    }
   },
   "outputs": [
    {
     "data": {
      "text/plain": "Select(description='Datafile:', options=('.DS_Store', 'GOM_2_A.pickle', 'dataset_GOM_1_A_A.pickle', 'GOM_1_A.p…",
      "application/vnd.jupyter.widget-view+json": {
       "version_major": 2,
       "version_minor": 0,
       "model_id": "ecf0a063931742978f07f75fa13ead48"
      }
     },
     "metadata": {},
     "output_type": "display_data"
    },
    {
     "name": "stdout",
     "output_type": "stream",
     "text": [
      "Stationary Shilft: \n"
     ]
    },
    {
     "data": {
      "text/plain": "BoundedIntText(value=1, max=10)",
      "application/vnd.jupyter.widget-view+json": {
       "version_major": 2,
       "version_minor": 0,
       "model_id": "732a88944bb44f2397c64912d7519ee8"
      }
     },
     "metadata": {},
     "output_type": "display_data"
    },
    {
     "data": {
      "text/plain": "IntSlider(value=24, continuous_update=False, description='Test Hours:', max=1000)",
      "application/vnd.jupyter.widget-view+json": {
       "version_major": 2,
       "version_minor": 0,
       "model_id": "bd37aa904e6542028fb7112106a59c2c"
      }
     },
     "metadata": {},
     "output_type": "display_data"
    },
    {
     "data": {
      "text/plain": "Select(description='Model:', options=('LSTM', 'GRU', 'CNN', 'TCN'), rows=10, value='LSTM')",
      "application/vnd.jupyter.widget-view+json": {
       "version_major": 2,
       "version_minor": 0,
       "model_id": "8371b73692be4cf2a7a09c9e316ea41f"
      }
     },
     "metadata": {},
     "output_type": "display_data"
    },
    {
     "name": "stdout",
     "output_type": "stream",
     "text": [
      "Alpha (only for PINN):\n"
     ]
    },
    {
     "data": {
      "text/plain": "FloatSlider(value=0.5, layout=Layout(width='500px'), max=1.0, step=0.01)",
      "application/vnd.jupyter.widget-view+json": {
       "version_major": 2,
       "version_minor": 0,
       "model_id": "487bd6d82dfd4c859fe03663ce86d56b"
      }
     },
     "metadata": {},
     "output_type": "display_data"
    }
   ],
   "source": [
    "data_directory = os.path.join(os.getcwd(), f'data/datasets/type_A')\n",
    "\n",
    "def build_UI():\n",
    "\n",
    "    # Select Model-------------------------------------------------------------------------------\n",
    "    global datafile_widget\n",
    "    datafile_list = os.listdir(data_directory)\n",
    "    datafile_widget = widgets.Select(\n",
    "        options=datafile_list,\n",
    "        value=datafile_list[0],\n",
    "        # rows=10,\n",
    "        description='Datafile:',\n",
    "        disabled=False\n",
    "    )\n",
    "    display(datafile_widget)\n",
    "\n",
    "    #STATIONARY_SHIFT -----------------------------------------------------------------------\n",
    "    global stationaryShift_widget\n",
    "    stationaryShift_widget = widgets.BoundedIntText(\n",
    "        value=1,\n",
    "        min=0,\n",
    "        max=10,\n",
    "        step=1,\n",
    "        description='',\n",
    "        disabled=False,\n",
    "    )\n",
    "    print(\"Stationary Shilft: \")\n",
    "    display(stationaryShift_widget)\n",
    "\n",
    "    # Test Hours-------------------------------------------------------------------------------\n",
    "    global test_hours_widget\n",
    "    test_hours_widget = widgets.IntSlider(\n",
    "        value=24,\n",
    "        min=0,\n",
    "        max=1000,\n",
    "        step=1,\n",
    "        description='Test Hours:',\n",
    "        disabled=False,\n",
    "        continuous_update=False,\n",
    "        orientation='horizontal',\n",
    "        readout=True,\n",
    "        readout_format='d'\n",
    "    )\n",
    "\n",
    "    # display the range slider widget\n",
    "    display(test_hours_widget)\n",
    "    #print(\"(1 Week = 168h)\")\n",
    "\n",
    "    # Select Model-------------------------------------------------------------------------------\n",
    "    global models_widget\n",
    "    models_list = list(Models.model_dictionary.keys())\n",
    "    models_widget = widgets.Select(\n",
    "        options=models_list,\n",
    "        value=models_list[0],\n",
    "        rows=10,\n",
    "        description='Model:',\n",
    "        disabled=False\n",
    "    )\n",
    "    display(models_widget)\n",
    "\n",
    "    #ALPHA:-------------------------------------------------------------------------------\n",
    "    # create a FloatSlider widget for a value between 0 and 1\n",
    "    print(\"Alpha (only for PINN):\")\n",
    "    global alpha_slider\n",
    "    alpha_slider = widgets.FloatSlider(\n",
    "        value=0.5,\n",
    "        min=0,\n",
    "        max=1,\n",
    "        step=0.01,\n",
    "        description='',\n",
    "        readout_format='.2f',\n",
    "        orientation='horizontal',\n",
    "        layout={'width': '500px'}\n",
    "    )\n",
    "\n",
    "    # display the FloatSlider widget\n",
    "    display(alpha_slider)\n",
    "\n",
    "build_UI()"
   ]
  },
  {
   "cell_type": "code",
   "execution_count": 4,
   "metadata": {
    "pycharm": {
     "name": "#%%\n"
    }
   },
   "outputs": [],
   "source": [
    "# DATAFILE = datafile_widget.value\n",
    "# STATIONARY_SHIFT = stationaryShift_widget.value\n",
    "# N_TEST_HOURS = test_hours_widget.value\n",
    "# MODEL_NAME = models_widget.value\n",
    "# ALPHA = alpha_slider.value"
   ]
  },
  {
   "cell_type": "markdown",
   "metadata": {
    "pycharm": {
     "name": "#%% md\n"
    }
   },
   "source": [
    "## Optional: use hardcoded variables instead"
   ]
  },
  {
   "cell_type": "code",
   "execution_count": 7,
   "metadata": {
    "pycharm": {
     "name": "#%%\n"
    }
   },
   "outputs": [],
   "source": [
    "DATAFILE = \"dataset_GOM_1_A_A.pickle\"\n",
    "STATIONARY_SHIFT = 1\n",
    "N_TEST_HOURS = 24\n",
    "MODEL_NAME = \"LSTM\"\n",
    "ALPHA = 0"
   ]
  },
  {
   "cell_type": "code",
   "execution_count": 8,
   "metadata": {
    "pycharm": {
     "name": "#%%\n"
    }
   },
   "outputs": [
    {
     "name": "stdout",
     "output_type": "stream",
     "text": [
      "Datafile: dataset_GOM_1_A_A.pickle\n",
      "Alpha: 0\n",
      "Stationary Shift: 1\n",
      "Test-Hours: 24\n",
      "Model: LSTM\n"
     ]
    }
   ],
   "source": [
    "print(f\"Datafile: {DATAFILE}\")\n",
    "print(f\"Alpha: {ALPHA}\")\n",
    "print(f\"Stationary Shift: {STATIONARY_SHIFT}\")\n",
    "print(f\"Test-Hours: {N_TEST_HOURS}\")\n",
    "print(f\"Model: {MODEL_NAME}\")"
   ]
  },
  {
   "cell_type": "code",
   "execution_count": 9,
   "metadata": {
    "pycharm": {
     "name": "#%%\n"
    }
   },
   "outputs": [
    {
     "name": "stdout",
     "output_type": "stream",
     "text": [
      "stations ['42001', '42002', '42003', '42007', '42012', '42019', '42020', '42035', '42036', '42038', '42039', '42040', '42041', '42055']\n",
      "years ['2002', '2003', '2004', '2005', '2006', '2007', '2008', '2009', '2010', '2011', '2012', '2013', '2014', '2015', '2016', '2017', '2018', '2019', '2020', '2021', '2022']\n",
      "nan_threshold 0.66\n",
      "features ['WDIR', 'WSPD', 'WVHT', 'APD', 'MWD', 'PRES', 'ATMP', 'WTMP', 'DEWP']\n",
      "add_era5 True\n"
     ]
    },
    {
     "data": {
      "text/plain": "                     WDIR_42001  WSPD_42001  PRES_42001  ATMP_42001  \\\n2002-01-01 00:00:00        66.0         9.3      1017.1        22.3   \n2002-01-01 01:00:00        66.0         9.3      1017.1        22.3   \n2002-01-01 02:00:00        67.0         9.4      1017.2        21.9   \n2002-01-01 03:00:00        69.0         9.1      1017.2        22.4   \n2002-01-01 04:00:00        70.0         9.0      1017.1        22.5   \n...                         ...         ...         ...         ...   \n2022-12-31 19:00:00       195.0         0.5      1015.0        25.6   \n2022-12-31 20:00:00       210.0         1.0      1015.0        25.3   \n2022-12-31 21:00:00       231.0         0.6      1014.7        26.4   \n2022-12-31 22:00:00        18.0         0.7      1014.9        25.4   \n2022-12-31 23:00:00        68.0         1.6      1015.0        25.0   \n\n                     WTMP_42001  DEWP_42001  WDIR_42002  WSPD_42002  \\\n2002-01-01 00:00:00        25.5        16.8        39.0        10.5   \n2002-01-01 01:00:00        25.5        16.8        39.0        10.5   \n2002-01-01 02:00:00        25.5        16.6        36.0        10.9   \n2002-01-01 03:00:00        25.5        16.9        32.0        12.7   \n2002-01-01 04:00:00        25.5        16.3        33.0        12.7   \n...                         ...         ...         ...         ...   \n2022-12-31 19:00:00        24.7        24.5        22.0         0.6   \n2022-12-31 20:00:00        24.5        24.3        88.0         1.2   \n2022-12-31 21:00:00        24.7        24.4        87.0         1.7   \n2022-12-31 22:00:00        24.7        24.1        90.0         2.5   \n2022-12-31 23:00:00        24.5        24.3       116.0         3.7   \n\n                     PRES_42002  ATMP_42002  ...  WDIR_42039_ERA5  \\\n2002-01-01 00:00:00      1016.1        21.7  ...       246.007357   \n2002-01-01 01:00:00      1016.1        21.7  ...       247.678051   \n2002-01-01 02:00:00      1016.1        21.7  ...       250.591891   \n2002-01-01 03:00:00      1015.9        20.8  ...       253.468273   \n2002-01-01 04:00:00      1015.8        21.0  ...       251.493918   \n...                         ...         ...  ...              ...   \n2022-12-31 19:00:00      1015.9        25.1  ...        28.180851   \n2022-12-31 20:00:00      1015.4        24.7  ...        22.969408   \n2022-12-31 21:00:00      1014.9        24.6  ...        14.655430   \n2022-12-31 22:00:00      1014.9        24.5  ...        20.371840   \n2022-12-31 23:00:00      1015.0        24.5  ...        21.918165   \n\n                     WSPD_42039_ERA5  ATMP_42039_ERA5  WSPD_42035_ERA5  \\\n2002-01-01 00:00:00         5.756333        13.882608         8.031200   \n2002-01-01 01:00:00         5.579721        14.020573         8.216895   \n2002-01-01 02:00:00         5.582730        14.070538         8.454808   \n2002-01-01 03:00:00         5.633966        14.058979         8.471692   \n2002-01-01 04:00:00         5.638108        13.986641         8.698506   \n...                              ...              ...              ...   \n2022-12-31 19:00:00         8.602918        22.730194         2.533178   \n2022-12-31 20:00:00         7.734290        22.564177         2.669909   \n2022-12-31 21:00:00         6.485218        22.377552         3.147255   \n2022-12-31 22:00:00         3.294807        24.068445         3.469271   \n2022-12-31 23:00:00         2.229422        23.926533         3.938095   \n\n                     WSPD_42001_ERA5  DEWP_42020_ERA5  ATMP_42019_ERA5  \\\n2002-01-01 00:00:00         9.867456        10.834305        11.708612   \n2002-01-01 01:00:00         9.782997        10.975658        11.926516   \n2002-01-01 02:00:00         9.517146        11.111871        12.166319   \n2002-01-01 03:00:00         8.911373        11.239089        12.361607   \n2002-01-01 04:00:00         8.481407        11.332468        12.482585   \n...                              ...              ...              ...   \n2022-12-31 19:00:00         0.601025        19.323104        21.847184   \n2022-12-31 20:00:00         0.979714        19.245361        22.052563   \n2022-12-31 21:00:00         2.067327        19.338348        22.260412   \n2022-12-31 22:00:00         1.554299        18.567779        22.101541   \n2022-12-31 23:00:00         2.206784        18.779285        22.243125   \n\n                     WTMP_42039_ERA5  WSPD_42002_ERA5  PRES_42039_ERA5  \n2002-01-01 00:00:00        21.781113         9.820263      1019.426223  \n2002-01-01 01:00:00        21.781113        10.465795      1019.792677  \n2002-01-01 02:00:00        21.781113        11.760698      1019.725358  \n2002-01-01 03:00:00        21.781113        11.910608      1019.833394  \n2002-01-01 04:00:00        21.781113        11.716782      1019.804620  \n...                              ...              ...              ...  \n2022-12-31 19:00:00        24.392457         1.062895      1016.581840  \n2022-12-31 20:00:00        24.392457         1.330008      1016.363260  \n2022-12-31 21:00:00        24.392457         1.770915      1016.186435  \n2022-12-31 22:00:00        24.885927         2.483432      1017.067575  \n2022-12-31 23:00:00        24.885927         3.242142      1017.021132  \n\n[184080 rows x 104 columns]",
      "text/html": "<div>\n<style scoped>\n    .dataframe tbody tr th:only-of-type {\n        vertical-align: middle;\n    }\n\n    .dataframe tbody tr th {\n        vertical-align: top;\n    }\n\n    .dataframe thead th {\n        text-align: right;\n    }\n</style>\n<table border=\"1\" class=\"dataframe\">\n  <thead>\n    <tr style=\"text-align: right;\">\n      <th></th>\n      <th>WDIR_42001</th>\n      <th>WSPD_42001</th>\n      <th>PRES_42001</th>\n      <th>ATMP_42001</th>\n      <th>WTMP_42001</th>\n      <th>DEWP_42001</th>\n      <th>WDIR_42002</th>\n      <th>WSPD_42002</th>\n      <th>PRES_42002</th>\n      <th>ATMP_42002</th>\n      <th>...</th>\n      <th>WDIR_42039_ERA5</th>\n      <th>WSPD_42039_ERA5</th>\n      <th>ATMP_42039_ERA5</th>\n      <th>WSPD_42035_ERA5</th>\n      <th>WSPD_42001_ERA5</th>\n      <th>DEWP_42020_ERA5</th>\n      <th>ATMP_42019_ERA5</th>\n      <th>WTMP_42039_ERA5</th>\n      <th>WSPD_42002_ERA5</th>\n      <th>PRES_42039_ERA5</th>\n    </tr>\n  </thead>\n  <tbody>\n    <tr>\n      <th>2002-01-01 00:00:00</th>\n      <td>66.0</td>\n      <td>9.3</td>\n      <td>1017.1</td>\n      <td>22.3</td>\n      <td>25.5</td>\n      <td>16.8</td>\n      <td>39.0</td>\n      <td>10.5</td>\n      <td>1016.1</td>\n      <td>21.7</td>\n      <td>...</td>\n      <td>246.007357</td>\n      <td>5.756333</td>\n      <td>13.882608</td>\n      <td>8.031200</td>\n      <td>9.867456</td>\n      <td>10.834305</td>\n      <td>11.708612</td>\n      <td>21.781113</td>\n      <td>9.820263</td>\n      <td>1019.426223</td>\n    </tr>\n    <tr>\n      <th>2002-01-01 01:00:00</th>\n      <td>66.0</td>\n      <td>9.3</td>\n      <td>1017.1</td>\n      <td>22.3</td>\n      <td>25.5</td>\n      <td>16.8</td>\n      <td>39.0</td>\n      <td>10.5</td>\n      <td>1016.1</td>\n      <td>21.7</td>\n      <td>...</td>\n      <td>247.678051</td>\n      <td>5.579721</td>\n      <td>14.020573</td>\n      <td>8.216895</td>\n      <td>9.782997</td>\n      <td>10.975658</td>\n      <td>11.926516</td>\n      <td>21.781113</td>\n      <td>10.465795</td>\n      <td>1019.792677</td>\n    </tr>\n    <tr>\n      <th>2002-01-01 02:00:00</th>\n      <td>67.0</td>\n      <td>9.4</td>\n      <td>1017.2</td>\n      <td>21.9</td>\n      <td>25.5</td>\n      <td>16.6</td>\n      <td>36.0</td>\n      <td>10.9</td>\n      <td>1016.1</td>\n      <td>21.7</td>\n      <td>...</td>\n      <td>250.591891</td>\n      <td>5.582730</td>\n      <td>14.070538</td>\n      <td>8.454808</td>\n      <td>9.517146</td>\n      <td>11.111871</td>\n      <td>12.166319</td>\n      <td>21.781113</td>\n      <td>11.760698</td>\n      <td>1019.725358</td>\n    </tr>\n    <tr>\n      <th>2002-01-01 03:00:00</th>\n      <td>69.0</td>\n      <td>9.1</td>\n      <td>1017.2</td>\n      <td>22.4</td>\n      <td>25.5</td>\n      <td>16.9</td>\n      <td>32.0</td>\n      <td>12.7</td>\n      <td>1015.9</td>\n      <td>20.8</td>\n      <td>...</td>\n      <td>253.468273</td>\n      <td>5.633966</td>\n      <td>14.058979</td>\n      <td>8.471692</td>\n      <td>8.911373</td>\n      <td>11.239089</td>\n      <td>12.361607</td>\n      <td>21.781113</td>\n      <td>11.910608</td>\n      <td>1019.833394</td>\n    </tr>\n    <tr>\n      <th>2002-01-01 04:00:00</th>\n      <td>70.0</td>\n      <td>9.0</td>\n      <td>1017.1</td>\n      <td>22.5</td>\n      <td>25.5</td>\n      <td>16.3</td>\n      <td>33.0</td>\n      <td>12.7</td>\n      <td>1015.8</td>\n      <td>21.0</td>\n      <td>...</td>\n      <td>251.493918</td>\n      <td>5.638108</td>\n      <td>13.986641</td>\n      <td>8.698506</td>\n      <td>8.481407</td>\n      <td>11.332468</td>\n      <td>12.482585</td>\n      <td>21.781113</td>\n      <td>11.716782</td>\n      <td>1019.804620</td>\n    </tr>\n    <tr>\n      <th>...</th>\n      <td>...</td>\n      <td>...</td>\n      <td>...</td>\n      <td>...</td>\n      <td>...</td>\n      <td>...</td>\n      <td>...</td>\n      <td>...</td>\n      <td>...</td>\n      <td>...</td>\n      <td>...</td>\n      <td>...</td>\n      <td>...</td>\n      <td>...</td>\n      <td>...</td>\n      <td>...</td>\n      <td>...</td>\n      <td>...</td>\n      <td>...</td>\n      <td>...</td>\n      <td>...</td>\n    </tr>\n    <tr>\n      <th>2022-12-31 19:00:00</th>\n      <td>195.0</td>\n      <td>0.5</td>\n      <td>1015.0</td>\n      <td>25.6</td>\n      <td>24.7</td>\n      <td>24.5</td>\n      <td>22.0</td>\n      <td>0.6</td>\n      <td>1015.9</td>\n      <td>25.1</td>\n      <td>...</td>\n      <td>28.180851</td>\n      <td>8.602918</td>\n      <td>22.730194</td>\n      <td>2.533178</td>\n      <td>0.601025</td>\n      <td>19.323104</td>\n      <td>21.847184</td>\n      <td>24.392457</td>\n      <td>1.062895</td>\n      <td>1016.581840</td>\n    </tr>\n    <tr>\n      <th>2022-12-31 20:00:00</th>\n      <td>210.0</td>\n      <td>1.0</td>\n      <td>1015.0</td>\n      <td>25.3</td>\n      <td>24.5</td>\n      <td>24.3</td>\n      <td>88.0</td>\n      <td>1.2</td>\n      <td>1015.4</td>\n      <td>24.7</td>\n      <td>...</td>\n      <td>22.969408</td>\n      <td>7.734290</td>\n      <td>22.564177</td>\n      <td>2.669909</td>\n      <td>0.979714</td>\n      <td>19.245361</td>\n      <td>22.052563</td>\n      <td>24.392457</td>\n      <td>1.330008</td>\n      <td>1016.363260</td>\n    </tr>\n    <tr>\n      <th>2022-12-31 21:00:00</th>\n      <td>231.0</td>\n      <td>0.6</td>\n      <td>1014.7</td>\n      <td>26.4</td>\n      <td>24.7</td>\n      <td>24.4</td>\n      <td>87.0</td>\n      <td>1.7</td>\n      <td>1014.9</td>\n      <td>24.6</td>\n      <td>...</td>\n      <td>14.655430</td>\n      <td>6.485218</td>\n      <td>22.377552</td>\n      <td>3.147255</td>\n      <td>2.067327</td>\n      <td>19.338348</td>\n      <td>22.260412</td>\n      <td>24.392457</td>\n      <td>1.770915</td>\n      <td>1016.186435</td>\n    </tr>\n    <tr>\n      <th>2022-12-31 22:00:00</th>\n      <td>18.0</td>\n      <td>0.7</td>\n      <td>1014.9</td>\n      <td>25.4</td>\n      <td>24.7</td>\n      <td>24.1</td>\n      <td>90.0</td>\n      <td>2.5</td>\n      <td>1014.9</td>\n      <td>24.5</td>\n      <td>...</td>\n      <td>20.371840</td>\n      <td>3.294807</td>\n      <td>24.068445</td>\n      <td>3.469271</td>\n      <td>1.554299</td>\n      <td>18.567779</td>\n      <td>22.101541</td>\n      <td>24.885927</td>\n      <td>2.483432</td>\n      <td>1017.067575</td>\n    </tr>\n    <tr>\n      <th>2022-12-31 23:00:00</th>\n      <td>68.0</td>\n      <td>1.6</td>\n      <td>1015.0</td>\n      <td>25.0</td>\n      <td>24.5</td>\n      <td>24.3</td>\n      <td>116.0</td>\n      <td>3.7</td>\n      <td>1015.0</td>\n      <td>24.5</td>\n      <td>...</td>\n      <td>21.918165</td>\n      <td>2.229422</td>\n      <td>23.926533</td>\n      <td>3.938095</td>\n      <td>2.206784</td>\n      <td>18.779285</td>\n      <td>22.243125</td>\n      <td>24.885927</td>\n      <td>3.242142</td>\n      <td>1017.021132</td>\n    </tr>\n  </tbody>\n</table>\n<p>184080 rows × 104 columns</p>\n</div>"
     },
     "execution_count": 9,
     "metadata": {},
     "output_type": "execute_result"
    }
   ],
   "source": [
    "with open(f'data/datasets/type_A/{DATAFILE}', 'rb') as f:\n",
    "    # load the object from the file using pickle.load()\n",
    "    dataset = pickle.load(f)\n",
    "\n",
    "print(\"stations\",dataset[\"stations\"])\n",
    "print(\"years\",dataset[\"years\"])\n",
    "print(\"nan_threshold\",dataset[\"nan_threshold\"])\n",
    "print(\"features\",dataset[\"features\"])\n",
    "print(\"add_era5\",dataset[\"add_era5\"])\n",
    "\n",
    "data = dataset[\"data\"]\n",
    "data"
   ]
  },
  {
   "cell_type": "markdown",
   "metadata": {
    "pycharm": {
     "name": "#%% md\n"
    }
   },
   "source": [
    "# Data Processing"
   ]
  },
  {
   "cell_type": "markdown",
   "metadata": {
    "pycharm": {
     "name": "#%% md\n"
    }
   },
   "source": [
    "## 1. Make data stationary"
   ]
  },
  {
   "cell_type": "code",
   "execution_count": 10,
   "metadata": {
    "pycharm": {
     "name": "#%%\n"
    }
   },
   "outputs": [
    {
     "name": "stderr",
     "output_type": "stream",
     "text": [
      "/Users/elsandner/Library/Mobile Documents/com~apple~CloudDocs/Uni/WS22/Master Thesis/Master_Project/myLibrary.py:1043: PerformanceWarning: DataFrame is highly fragmented.  This is usually the result of calling `frame.insert` many times, which has poor performance.  Consider joining all columns at once using pd.concat(axis=1) instead. To get a de-fragmented frame, use `newframe = frame.copy()`\n",
      "  data_stationary[col] = data[col] - data[col].shift(n)  # y = value(i) - value(i-n)\n",
      "/Users/elsandner/Library/Mobile Documents/com~apple~CloudDocs/Uni/WS22/Master Thesis/Master_Project/myLibrary.py:1043: PerformanceWarning: DataFrame is highly fragmented.  This is usually the result of calling `frame.insert` many times, which has poor performance.  Consider joining all columns at once using pd.concat(axis=1) instead. To get a de-fragmented frame, use `newframe = frame.copy()`\n",
      "  data_stationary[col] = data[col] - data[col].shift(n)  # y = value(i) - value(i-n)\n",
      "/Users/elsandner/Library/Mobile Documents/com~apple~CloudDocs/Uni/WS22/Master Thesis/Master_Project/myLibrary.py:1043: PerformanceWarning: DataFrame is highly fragmented.  This is usually the result of calling `frame.insert` many times, which has poor performance.  Consider joining all columns at once using pd.concat(axis=1) instead. To get a de-fragmented frame, use `newframe = frame.copy()`\n",
      "  data_stationary[col] = data[col] - data[col].shift(n)  # y = value(i) - value(i-n)\n",
      "/Users/elsandner/Library/Mobile Documents/com~apple~CloudDocs/Uni/WS22/Master Thesis/Master_Project/myLibrary.py:1043: PerformanceWarning: DataFrame is highly fragmented.  This is usually the result of calling `frame.insert` many times, which has poor performance.  Consider joining all columns at once using pd.concat(axis=1) instead. To get a de-fragmented frame, use `newframe = frame.copy()`\n",
      "  data_stationary[col] = data[col] - data[col].shift(n)  # y = value(i) - value(i-n)\n"
     ]
    },
    {
     "data": {
      "text/plain": "                     WDIR_42001  WSPD_42001  PRES_42001  ATMP_42001  \\\n2002-01-01 01:00:00         0.0         0.0         0.0         0.0   \n2002-01-01 02:00:00         1.0         0.1         0.1        -0.4   \n2002-01-01 03:00:00         2.0        -0.3         0.0         0.5   \n2002-01-01 04:00:00         1.0        -0.1        -0.1         0.1   \n2002-01-01 05:00:00        -1.0         0.6        -0.6         0.0   \n\n                     WTMP_42001  DEWP_42001  WDIR_42002  WSPD_42002  \\\n2002-01-01 01:00:00         0.0         0.0         0.0         0.0   \n2002-01-01 02:00:00         0.0        -0.2        -3.0         0.4   \n2002-01-01 03:00:00         0.0         0.3        -4.0         1.8   \n2002-01-01 04:00:00         0.0        -0.6         1.0         0.0   \n2002-01-01 05:00:00        -0.1         0.8         9.0        -0.9   \n\n                     PRES_42002  ATMP_42002  ...  WDIR_42039_ERA5  \\\n2002-01-01 01:00:00         0.0         0.0  ...         1.670694   \n2002-01-01 02:00:00         0.0         0.0  ...         2.913840   \n2002-01-01 03:00:00        -0.2        -0.9  ...         2.876383   \n2002-01-01 04:00:00        -0.1         0.2  ...        -1.974355   \n2002-01-01 05:00:00        -0.2        -0.2  ...        -3.817351   \n\n                     WSPD_42039_ERA5  ATMP_42039_ERA5  WSPD_42035_ERA5  \\\n2002-01-01 01:00:00        -0.176612         0.137965         0.185695   \n2002-01-01 02:00:00         0.003009         0.049966         0.237913   \n2002-01-01 03:00:00         0.051235        -0.011559         0.016884   \n2002-01-01 04:00:00         0.004142        -0.072338         0.226814   \n2002-01-01 05:00:00        -0.199347        -0.181964         0.199733   \n\n                     WSPD_42001_ERA5  DEWP_42020_ERA5  ATMP_42019_ERA5  \\\n2002-01-01 01:00:00        -0.084459         0.141353         0.217904   \n2002-01-01 02:00:00        -0.265851         0.136213         0.239802   \n2002-01-01 03:00:00        -0.605774         0.127218         0.195288   \n2002-01-01 04:00:00        -0.429966         0.093379         0.120978   \n2002-01-01 05:00:00        -0.446340         0.097662         0.066412   \n\n                     WTMP_42039_ERA5  WSPD_42002_ERA5  PRES_42039_ERA5  \n2002-01-01 01:00:00              0.0         0.645532         0.366454  \n2002-01-01 02:00:00              0.0         1.294903        -0.067319  \n2002-01-01 03:00:00              0.0         0.149910         0.108036  \n2002-01-01 04:00:00              0.0        -0.193825        -0.028773  \n2002-01-01 05:00:00              0.0        -0.422577        -0.087949  \n\n[5 rows x 104 columns]",
      "text/html": "<div>\n<style scoped>\n    .dataframe tbody tr th:only-of-type {\n        vertical-align: middle;\n    }\n\n    .dataframe tbody tr th {\n        vertical-align: top;\n    }\n\n    .dataframe thead th {\n        text-align: right;\n    }\n</style>\n<table border=\"1\" class=\"dataframe\">\n  <thead>\n    <tr style=\"text-align: right;\">\n      <th></th>\n      <th>WDIR_42001</th>\n      <th>WSPD_42001</th>\n      <th>PRES_42001</th>\n      <th>ATMP_42001</th>\n      <th>WTMP_42001</th>\n      <th>DEWP_42001</th>\n      <th>WDIR_42002</th>\n      <th>WSPD_42002</th>\n      <th>PRES_42002</th>\n      <th>ATMP_42002</th>\n      <th>...</th>\n      <th>WDIR_42039_ERA5</th>\n      <th>WSPD_42039_ERA5</th>\n      <th>ATMP_42039_ERA5</th>\n      <th>WSPD_42035_ERA5</th>\n      <th>WSPD_42001_ERA5</th>\n      <th>DEWP_42020_ERA5</th>\n      <th>ATMP_42019_ERA5</th>\n      <th>WTMP_42039_ERA5</th>\n      <th>WSPD_42002_ERA5</th>\n      <th>PRES_42039_ERA5</th>\n    </tr>\n  </thead>\n  <tbody>\n    <tr>\n      <th>2002-01-01 01:00:00</th>\n      <td>0.0</td>\n      <td>0.0</td>\n      <td>0.0</td>\n      <td>0.0</td>\n      <td>0.0</td>\n      <td>0.0</td>\n      <td>0.0</td>\n      <td>0.0</td>\n      <td>0.0</td>\n      <td>0.0</td>\n      <td>...</td>\n      <td>1.670694</td>\n      <td>-0.176612</td>\n      <td>0.137965</td>\n      <td>0.185695</td>\n      <td>-0.084459</td>\n      <td>0.141353</td>\n      <td>0.217904</td>\n      <td>0.0</td>\n      <td>0.645532</td>\n      <td>0.366454</td>\n    </tr>\n    <tr>\n      <th>2002-01-01 02:00:00</th>\n      <td>1.0</td>\n      <td>0.1</td>\n      <td>0.1</td>\n      <td>-0.4</td>\n      <td>0.0</td>\n      <td>-0.2</td>\n      <td>-3.0</td>\n      <td>0.4</td>\n      <td>0.0</td>\n      <td>0.0</td>\n      <td>...</td>\n      <td>2.913840</td>\n      <td>0.003009</td>\n      <td>0.049966</td>\n      <td>0.237913</td>\n      <td>-0.265851</td>\n      <td>0.136213</td>\n      <td>0.239802</td>\n      <td>0.0</td>\n      <td>1.294903</td>\n      <td>-0.067319</td>\n    </tr>\n    <tr>\n      <th>2002-01-01 03:00:00</th>\n      <td>2.0</td>\n      <td>-0.3</td>\n      <td>0.0</td>\n      <td>0.5</td>\n      <td>0.0</td>\n      <td>0.3</td>\n      <td>-4.0</td>\n      <td>1.8</td>\n      <td>-0.2</td>\n      <td>-0.9</td>\n      <td>...</td>\n      <td>2.876383</td>\n      <td>0.051235</td>\n      <td>-0.011559</td>\n      <td>0.016884</td>\n      <td>-0.605774</td>\n      <td>0.127218</td>\n      <td>0.195288</td>\n      <td>0.0</td>\n      <td>0.149910</td>\n      <td>0.108036</td>\n    </tr>\n    <tr>\n      <th>2002-01-01 04:00:00</th>\n      <td>1.0</td>\n      <td>-0.1</td>\n      <td>-0.1</td>\n      <td>0.1</td>\n      <td>0.0</td>\n      <td>-0.6</td>\n      <td>1.0</td>\n      <td>0.0</td>\n      <td>-0.1</td>\n      <td>0.2</td>\n      <td>...</td>\n      <td>-1.974355</td>\n      <td>0.004142</td>\n      <td>-0.072338</td>\n      <td>0.226814</td>\n      <td>-0.429966</td>\n      <td>0.093379</td>\n      <td>0.120978</td>\n      <td>0.0</td>\n      <td>-0.193825</td>\n      <td>-0.028773</td>\n    </tr>\n    <tr>\n      <th>2002-01-01 05:00:00</th>\n      <td>-1.0</td>\n      <td>0.6</td>\n      <td>-0.6</td>\n      <td>0.0</td>\n      <td>-0.1</td>\n      <td>0.8</td>\n      <td>9.0</td>\n      <td>-0.9</td>\n      <td>-0.2</td>\n      <td>-0.2</td>\n      <td>...</td>\n      <td>-3.817351</td>\n      <td>-0.199347</td>\n      <td>-0.181964</td>\n      <td>0.199733</td>\n      <td>-0.446340</td>\n      <td>0.097662</td>\n      <td>0.066412</td>\n      <td>0.0</td>\n      <td>-0.422577</td>\n      <td>-0.087949</td>\n    </tr>\n  </tbody>\n</table>\n<p>5 rows × 104 columns</p>\n</div>"
     },
     "execution_count": 10,
     "metadata": {},
     "output_type": "execute_result"
    }
   ],
   "source": [
    "STATIONARY = True #Set Flag for report\n",
    "data_stationary = DP.data_to_stationary(data, n = STATIONARY_SHIFT)\n",
    "data_stationary.head()"
   ]
  },
  {
   "cell_type": "markdown",
   "metadata": {
    "pycharm": {
     "name": "#%% md\n"
    }
   },
   "source": [
    "## 2. Transform to supervised problem"
   ]
  },
  {
   "cell_type": "code",
   "execution_count": 11,
   "metadata": {
    "pycharm": {
     "name": "#%%\n"
    }
   },
   "outputs": [
    {
     "data": {
      "text/plain": "                     WDIR_42001(t-3)  WSPD_42001(t-3)  PRES_42001(t-3)  \\\n2002-01-01 04:00:00              0.0              0.0              0.0   \n2002-01-01 05:00:00              1.0              0.1              0.1   \n2002-01-01 06:00:00              2.0             -0.3              0.0   \n2002-01-01 07:00:00              1.0             -0.1             -0.1   \n2002-01-01 08:00:00             -1.0              0.6             -0.6   \n\n                     ATMP_42001(t-3)  WTMP_42001(t-3)  DEWP_42001(t-3)  \\\n2002-01-01 04:00:00              0.0              0.0              0.0   \n2002-01-01 05:00:00             -0.4              0.0             -0.2   \n2002-01-01 06:00:00              0.5              0.0              0.3   \n2002-01-01 07:00:00              0.1              0.0             -0.6   \n2002-01-01 08:00:00              0.0             -0.1              0.8   \n\n                     WDIR_42002(t-3)  WSPD_42002(t-3)  PRES_42002(t-3)  \\\n2002-01-01 04:00:00              0.0              0.0              0.0   \n2002-01-01 05:00:00             -3.0              0.4              0.0   \n2002-01-01 06:00:00             -4.0              1.8             -0.2   \n2002-01-01 07:00:00              1.0              0.0             -0.1   \n2002-01-01 08:00:00              9.0             -0.9             -0.2   \n\n                     ATMP_42002(t-3)  ...  WDIR_42039_ERA5(t)  \\\n2002-01-01 04:00:00              0.0  ...           -1.974355   \n2002-01-01 05:00:00              0.0  ...           -3.817351   \n2002-01-01 06:00:00             -0.9  ...            1.650662   \n2002-01-01 07:00:00              0.2  ...            0.094929   \n2002-01-01 08:00:00             -0.2  ...           -0.235380   \n\n                     WSPD_42039_ERA5(t)  ATMP_42039_ERA5(t)  \\\n2002-01-01 04:00:00            0.004142           -0.072338   \n2002-01-01 05:00:00           -0.199347           -0.181964   \n2002-01-01 06:00:00            0.179143           -0.247964   \n2002-01-01 07:00:00            0.381179           -0.362064   \n2002-01-01 08:00:00            0.358710           -0.351624   \n\n                     WSPD_42035_ERA5(t)  WSPD_42001_ERA5(t)  \\\n2002-01-01 04:00:00            0.226814           -0.429966   \n2002-01-01 05:00:00            0.199733           -0.446340   \n2002-01-01 06:00:00            0.187775            0.416342   \n2002-01-01 07:00:00            0.180239            0.504338   \n2002-01-01 08:00:00            0.274880            0.330289   \n\n                     DEWP_42020_ERA5(t)  ATMP_42019_ERA5(t)  \\\n2002-01-01 04:00:00            0.093379            0.120978   \n2002-01-01 05:00:00            0.097662            0.066412   \n2002-01-01 06:00:00            0.074103            0.066053   \n2002-01-01 07:00:00            0.097662            0.114516   \n2002-01-01 08:00:00            0.122506            0.109850   \n\n                     WTMP_42039_ERA5(t)  WSPD_42002_ERA5(t)  \\\n2002-01-01 04:00:00                 0.0           -0.193825   \n2002-01-01 05:00:00                 0.0           -0.422577   \n2002-01-01 06:00:00                 0.0           -0.400801   \n2002-01-01 07:00:00                 0.0           -0.923080   \n2002-01-01 08:00:00                 0.0           -1.613417   \n\n                     PRES_42039_ERA5(t)  \n2002-01-01 04:00:00           -0.028773  \n2002-01-01 05:00:00           -0.087949  \n2002-01-01 06:00:00            0.382198  \n2002-01-01 07:00:00           -0.081434  \n2002-01-01 08:00:00           -0.093921  \n\n[5 rows x 416 columns]",
      "text/html": "<div>\n<style scoped>\n    .dataframe tbody tr th:only-of-type {\n        vertical-align: middle;\n    }\n\n    .dataframe tbody tr th {\n        vertical-align: top;\n    }\n\n    .dataframe thead th {\n        text-align: right;\n    }\n</style>\n<table border=\"1\" class=\"dataframe\">\n  <thead>\n    <tr style=\"text-align: right;\">\n      <th></th>\n      <th>WDIR_42001(t-3)</th>\n      <th>WSPD_42001(t-3)</th>\n      <th>PRES_42001(t-3)</th>\n      <th>ATMP_42001(t-3)</th>\n      <th>WTMP_42001(t-3)</th>\n      <th>DEWP_42001(t-3)</th>\n      <th>WDIR_42002(t-3)</th>\n      <th>WSPD_42002(t-3)</th>\n      <th>PRES_42002(t-3)</th>\n      <th>ATMP_42002(t-3)</th>\n      <th>...</th>\n      <th>WDIR_42039_ERA5(t)</th>\n      <th>WSPD_42039_ERA5(t)</th>\n      <th>ATMP_42039_ERA5(t)</th>\n      <th>WSPD_42035_ERA5(t)</th>\n      <th>WSPD_42001_ERA5(t)</th>\n      <th>DEWP_42020_ERA5(t)</th>\n      <th>ATMP_42019_ERA5(t)</th>\n      <th>WTMP_42039_ERA5(t)</th>\n      <th>WSPD_42002_ERA5(t)</th>\n      <th>PRES_42039_ERA5(t)</th>\n    </tr>\n  </thead>\n  <tbody>\n    <tr>\n      <th>2002-01-01 04:00:00</th>\n      <td>0.0</td>\n      <td>0.0</td>\n      <td>0.0</td>\n      <td>0.0</td>\n      <td>0.0</td>\n      <td>0.0</td>\n      <td>0.0</td>\n      <td>0.0</td>\n      <td>0.0</td>\n      <td>0.0</td>\n      <td>...</td>\n      <td>-1.974355</td>\n      <td>0.004142</td>\n      <td>-0.072338</td>\n      <td>0.226814</td>\n      <td>-0.429966</td>\n      <td>0.093379</td>\n      <td>0.120978</td>\n      <td>0.0</td>\n      <td>-0.193825</td>\n      <td>-0.028773</td>\n    </tr>\n    <tr>\n      <th>2002-01-01 05:00:00</th>\n      <td>1.0</td>\n      <td>0.1</td>\n      <td>0.1</td>\n      <td>-0.4</td>\n      <td>0.0</td>\n      <td>-0.2</td>\n      <td>-3.0</td>\n      <td>0.4</td>\n      <td>0.0</td>\n      <td>0.0</td>\n      <td>...</td>\n      <td>-3.817351</td>\n      <td>-0.199347</td>\n      <td>-0.181964</td>\n      <td>0.199733</td>\n      <td>-0.446340</td>\n      <td>0.097662</td>\n      <td>0.066412</td>\n      <td>0.0</td>\n      <td>-0.422577</td>\n      <td>-0.087949</td>\n    </tr>\n    <tr>\n      <th>2002-01-01 06:00:00</th>\n      <td>2.0</td>\n      <td>-0.3</td>\n      <td>0.0</td>\n      <td>0.5</td>\n      <td>0.0</td>\n      <td>0.3</td>\n      <td>-4.0</td>\n      <td>1.8</td>\n      <td>-0.2</td>\n      <td>-0.9</td>\n      <td>...</td>\n      <td>1.650662</td>\n      <td>0.179143</td>\n      <td>-0.247964</td>\n      <td>0.187775</td>\n      <td>0.416342</td>\n      <td>0.074103</td>\n      <td>0.066053</td>\n      <td>0.0</td>\n      <td>-0.400801</td>\n      <td>0.382198</td>\n    </tr>\n    <tr>\n      <th>2002-01-01 07:00:00</th>\n      <td>1.0</td>\n      <td>-0.1</td>\n      <td>-0.1</td>\n      <td>0.1</td>\n      <td>0.0</td>\n      <td>-0.6</td>\n      <td>1.0</td>\n      <td>0.0</td>\n      <td>-0.1</td>\n      <td>0.2</td>\n      <td>...</td>\n      <td>0.094929</td>\n      <td>0.381179</td>\n      <td>-0.362064</td>\n      <td>0.180239</td>\n      <td>0.504338</td>\n      <td>0.097662</td>\n      <td>0.114516</td>\n      <td>0.0</td>\n      <td>-0.923080</td>\n      <td>-0.081434</td>\n    </tr>\n    <tr>\n      <th>2002-01-01 08:00:00</th>\n      <td>-1.0</td>\n      <td>0.6</td>\n      <td>-0.6</td>\n      <td>0.0</td>\n      <td>-0.1</td>\n      <td>0.8</td>\n      <td>9.0</td>\n      <td>-0.9</td>\n      <td>-0.2</td>\n      <td>-0.2</td>\n      <td>...</td>\n      <td>-0.235380</td>\n      <td>0.358710</td>\n      <td>-0.351624</td>\n      <td>0.274880</td>\n      <td>0.330289</td>\n      <td>0.122506</td>\n      <td>0.109850</td>\n      <td>0.0</td>\n      <td>-1.613417</td>\n      <td>-0.093921</td>\n    </tr>\n  </tbody>\n</table>\n<p>5 rows × 416 columns</p>\n</div>"
     },
     "execution_count": 11,
     "metadata": {},
     "output_type": "execute_result"
    }
   ],
   "source": [
    "data_supervised = DP.data_to_supervised(data_stationary, n_in=3)\n",
    "data_supervised.head()"
   ]
  },
  {
   "cell_type": "markdown",
   "metadata": {
    "pycharm": {
     "name": "#%% md\n"
    }
   },
   "source": [
    "## train test split"
   ]
  },
  {
   "cell_type": "code",
   "execution_count": 12,
   "metadata": {
    "pycharm": {
     "name": "#%%\n"
    }
   },
   "outputs": [
    {
     "name": "stdout",
     "output_type": "stream",
     "text": [
      "Shapes:  (184052, 3, 104) (184052, 104) (24, 3, 104) (24, 104)\n"
     ]
    }
   ],
   "source": [
    "train_X, train_y, test_X, test_y = DP.train_test_split(data_supervised, N_TEST_HOURS)\n",
    "print(\"Shapes: \", train_X.shape, train_y.shape, test_X.shape, test_y.shape)"
   ]
  },
  {
   "cell_type": "markdown",
   "metadata": {
    "pycharm": {
     "name": "#%% md\n"
    }
   },
   "source": [
    "## Normalize the data"
   ]
  },
  {
   "cell_type": "code",
   "execution_count": 13,
   "metadata": {
    "pycharm": {
     "name": "#%%\n"
    }
   },
   "outputs": [],
   "source": [
    "# Scale the data\n",
    "#NORMALIZED = True   #set flag for report\n",
    "\n",
    "#train_X_scaled, train_y_scaled, test_X_scaled, test_y_scaled, SCALER = DP.scale_data(train_X,\n",
    "#                                                                                     train_y,\n",
    "#                                                                                     test_X,\n",
    "#                                                                                     test_y)\n",
    "\n",
    "train_X_scaled, train_y_scaled, test_X_scaled, test_y_scaled = train_X, train_y, test_X, test_y #just to exclude scaling for now!\n",
    "\n",
    "\n"
   ]
  },
  {
   "cell_type": "markdown",
   "metadata": {
    "pycharm": {
     "name": "#%% md\n"
    }
   },
   "source": [
    "---\n",
    "# Select Model"
   ]
  },
  {
   "cell_type": "code",
   "execution_count": 14,
   "metadata": {
    "pycharm": {
     "name": "#%%\n"
    }
   },
   "outputs": [
    {
     "name": "stdout",
     "output_type": "stream",
     "text": [
      "(184052, 3, 104)\n",
      "(184052, 104)\n"
     ]
    }
   ],
   "source": [
    "print(train_X_scaled.shape)\n",
    "print(train_y_scaled.shape)"
   ]
  },
  {
   "cell_type": "code",
   "execution_count": 15,
   "metadata": {
    "pycharm": {
     "name": "#%%\n"
    }
   },
   "outputs": [
    {
     "name": "stdout",
     "output_type": "stream",
     "text": [
      "Epoch 1/100\n"
     ]
    },
    {
     "name": "stderr",
     "output_type": "stream",
     "text": [
      "2023-06-27 08:04:20.732709: W tensorflow/tsl/platform/profile_utils/cpu_utils.cc:128] Failed to get CPU frequency: 0 Hz\n"
     ]
    },
    {
     "name": "stdout",
     "output_type": "stream",
     "text": [
      "2589/2589 [==============================] - 29s 10ms/step - loss: 276.6984 - val_loss: 262.9989\n",
      "Epoch 2/100\n",
      "2589/2589 [==============================] - 28s 11ms/step - loss: 274.6181 - val_loss: 261.6424\n",
      "Epoch 3/100\n",
      "2589/2589 [==============================] - 23s 9ms/step - loss: 272.9682 - val_loss: 260.8443\n",
      "Epoch 4/100\n",
      "2589/2589 [==============================] - 22s 8ms/step - loss: 271.6462 - val_loss: 259.9648\n",
      "Epoch 5/100\n",
      "2589/2589 [==============================] - 20s 8ms/step - loss: 270.5360 - val_loss: 259.4519\n",
      "Epoch 6/100\n",
      "2589/2589 [==============================] - 20s 8ms/step - loss: 269.4467 - val_loss: 259.2028\n",
      "Epoch 7/100\n",
      "2589/2589 [==============================] - 20s 8ms/step - loss: 268.3947 - val_loss: 258.3316\n",
      "Epoch 8/100\n",
      "2589/2589 [==============================] - 20s 8ms/step - loss: 267.3018 - val_loss: 257.8242\n",
      "Epoch 9/100\n",
      "2589/2589 [==============================] - 19s 8ms/step - loss: 266.2772 - val_loss: 257.3876\n",
      "Epoch 10/100\n",
      "2589/2589 [==============================] - 19s 8ms/step - loss: 265.3357 - val_loss: 256.8138\n",
      "Epoch 11/100\n",
      "2589/2589 [==============================] - 20s 8ms/step - loss: 264.1610 - val_loss: 256.5207\n",
      "Epoch 12/100\n",
      "2589/2589 [==============================] - 20s 8ms/step - loss: 263.4388 - val_loss: 255.8296\n",
      "Epoch 13/100\n",
      "2589/2589 [==============================] - 19s 8ms/step - loss: 262.4367 - val_loss: 255.2762\n",
      "Epoch 14/100\n",
      "2589/2589 [==============================] - 19s 8ms/step - loss: 261.7169 - val_loss: 254.9616\n",
      "Epoch 15/100\n",
      "2589/2589 [==============================] - 20s 8ms/step - loss: 260.8756 - val_loss: 254.5631\n",
      "Epoch 16/100\n",
      "2589/2589 [==============================] - 20s 8ms/step - loss: 260.1375 - val_loss: 254.4650\n",
      "Epoch 17/100\n",
      "2589/2589 [==============================] - 20s 8ms/step - loss: 259.3811 - val_loss: 254.5252\n",
      "Epoch 18/100\n",
      "2589/2589 [==============================] - 19s 7ms/step - loss: 258.6306 - val_loss: 255.0840\n",
      "Epoch 19/100\n",
      "2589/2589 [==============================] - 20s 8ms/step - loss: 257.7141 - val_loss: 254.5887\n",
      "Epoch 20/100\n",
      "2589/2589 [==============================] - 19s 7ms/step - loss: 257.0699 - val_loss: 255.1881\n",
      "Epoch 21/100\n",
      "2589/2589 [==============================] - 20s 8ms/step - loss: 256.7214 - val_loss: 254.9864\n",
      "Epoch 22/100\n",
      "2589/2589 [==============================] - 20s 8ms/step - loss: 255.4869 - val_loss: 254.5172\n",
      "Epoch 23/100\n",
      "2589/2589 [==============================] - 20s 8ms/step - loss: 255.0087 - val_loss: 254.7276\n",
      "Epoch 24/100\n",
      "2589/2589 [==============================] - 19s 8ms/step - loss: 254.4079 - val_loss: 254.8798\n",
      "Epoch 25/100\n",
      "2589/2589 [==============================] - 20s 8ms/step - loss: 253.9880 - val_loss: 254.6426\n",
      "Epoch 26/100\n",
      "2589/2589 [==============================] - 19s 7ms/step - loss: 253.3174 - val_loss: 255.0392\n",
      "Epoch 27/100\n",
      "2589/2589 [==============================] - 20s 8ms/step - loss: 252.4769 - val_loss: 255.3472\n",
      "Epoch 28/100\n",
      "2589/2589 [==============================] - 19s 7ms/step - loss: 251.7283 - val_loss: 254.7614\n",
      "Epoch 29/100\n",
      "2589/2589 [==============================] - 20s 8ms/step - loss: 251.1071 - val_loss: 255.2726\n",
      "Epoch 30/100\n",
      "2589/2589 [==============================] - 20s 8ms/step - loss: 250.8985 - val_loss: 255.4142\n",
      "Epoch 31/100\n",
      "2589/2589 [==============================] - 20s 8ms/step - loss: 250.1526 - val_loss: 255.4934\n",
      "Epoch 32/100\n",
      "2589/2589 [==============================] - 19s 7ms/step - loss: 249.3471 - val_loss: 254.9270\n",
      "Epoch 33/100\n",
      "2589/2589 [==============================] - 19s 7ms/step - loss: 248.7667 - val_loss: 255.2374\n",
      "Epoch 34/100\n",
      "2589/2589 [==============================] - 19s 7ms/step - loss: 248.5133 - val_loss: 254.5630\n",
      "Epoch 35/100\n",
      "2589/2589 [==============================] - 19s 7ms/step - loss: 247.8427 - val_loss: 254.7925\n",
      "Epoch 36/100\n",
      "2589/2589 [==============================] - 20s 8ms/step - loss: 247.3756 - val_loss: 255.2379\n",
      "Epoch 37/100\n",
      "2589/2589 [==============================] - 22s 9ms/step - loss: 246.4068 - val_loss: 256.1676\n",
      "Epoch 38/100\n",
      "2589/2589 [==============================] - 21s 8ms/step - loss: 246.0132 - val_loss: 255.4754\n",
      "Epoch 39/100\n",
      "2589/2589 [==============================] - 21s 8ms/step - loss: 245.0358 - val_loss: 255.4763\n",
      "Epoch 40/100\n",
      "2589/2589 [==============================] - 19s 7ms/step - loss: 244.8028 - val_loss: 255.2311\n",
      "Epoch 41/100\n",
      "2589/2589 [==============================] - 20s 8ms/step - loss: 244.2556 - val_loss: 255.4709\n",
      "Epoch 42/100\n",
      "2589/2589 [==============================] - 20s 8ms/step - loss: 243.5954 - val_loss: 256.3336\n",
      "Epoch 43/100\n",
      "2589/2589 [==============================] - 20s 8ms/step - loss: 242.8869 - val_loss: 257.1257\n",
      "Epoch 44/100\n",
      "2589/2589 [==============================] - 20s 8ms/step - loss: 242.3738 - val_loss: 256.1858\n",
      "Epoch 45/100\n",
      "2589/2589 [==============================] - 20s 8ms/step - loss: 242.0090 - val_loss: 256.4594\n",
      "Epoch 46/100\n",
      "2589/2589 [==============================] - 20s 8ms/step - loss: 241.4538 - val_loss: 256.7907\n",
      "Epoch 47/100\n",
      "2589/2589 [==============================] - 20s 8ms/step - loss: 240.9259 - val_loss: 256.5431\n",
      "Epoch 48/100\n",
      "2589/2589 [==============================] - 20s 8ms/step - loss: 240.0770 - val_loss: 257.7761\n",
      "Epoch 49/100\n",
      "2589/2589 [==============================] - 20s 8ms/step - loss: 239.9265 - val_loss: 256.6665\n",
      "Epoch 50/100\n",
      "2589/2589 [==============================] - 20s 8ms/step - loss: 239.6360 - val_loss: 257.0019\n",
      "Epoch 51/100\n",
      "2589/2589 [==============================] - 20s 8ms/step - loss: 239.1856 - val_loss: 256.0778\n",
      "Epoch 52/100\n",
      "2589/2589 [==============================] - 20s 8ms/step - loss: 238.8859 - val_loss: 257.1314\n",
      "Epoch 53/100\n",
      "2589/2589 [==============================] - 18s 7ms/step - loss: 238.6989 - val_loss: 258.1123\n",
      "Epoch 54/100\n",
      "2589/2589 [==============================] - 18s 7ms/step - loss: 238.0531 - val_loss: 259.7254\n",
      "Epoch 55/100\n",
      "2589/2589 [==============================] - 18s 7ms/step - loss: 236.9477 - val_loss: 258.2742\n",
      "Epoch 56/100\n",
      "2589/2589 [==============================] - 18s 7ms/step - loss: 236.5521 - val_loss: 257.8972\n",
      "Epoch 57/100\n",
      "2589/2589 [==============================] - 18s 7ms/step - loss: 236.6646 - val_loss: 258.5169\n",
      "Epoch 58/100\n",
      "2589/2589 [==============================] - 19s 7ms/step - loss: 235.9567 - val_loss: 258.9954\n",
      "Epoch 59/100\n",
      "2589/2589 [==============================] - 18s 7ms/step - loss: 235.9859 - val_loss: 258.1712\n",
      "Epoch 60/100\n",
      "2589/2589 [==============================] - 18s 7ms/step - loss: 235.8919 - val_loss: 258.2222\n",
      "Epoch 61/100\n",
      "2589/2589 [==============================] - 18s 7ms/step - loss: 235.3351 - val_loss: 258.6352\n",
      "Epoch 62/100\n",
      "2589/2589 [==============================] - 19s 7ms/step - loss: 234.2119 - val_loss: 259.8902\n",
      "Epoch 63/100\n",
      "2589/2589 [==============================] - 18s 7ms/step - loss: 234.0782 - val_loss: 258.4294\n",
      "Epoch 64/100\n",
      "2589/2589 [==============================] - 18s 7ms/step - loss: 234.6951 - val_loss: 259.7968\n",
      "Epoch 65/100\n",
      "2589/2589 [==============================] - 18s 7ms/step - loss: 233.5219 - val_loss: 259.7628\n",
      "Epoch 66/100\n",
      "2589/2589 [==============================] - 19s 7ms/step - loss: 233.3773 - val_loss: 260.5208\n",
      "Epoch 67/100\n",
      "2589/2589 [==============================] - 18s 7ms/step - loss: 233.6504 - val_loss: 259.9999\n",
      "Epoch 68/100\n",
      "2589/2589 [==============================] - 18s 7ms/step - loss: 232.5566 - val_loss: 260.1569\n",
      "Epoch 69/100\n",
      "2589/2589 [==============================] - 18s 7ms/step - loss: 232.4269 - val_loss: 259.8023\n",
      "Epoch 70/100\n",
      "2589/2589 [==============================] - 18s 7ms/step - loss: 232.4541 - val_loss: 260.6744\n",
      "Epoch 71/100\n",
      "2589/2589 [==============================] - 18s 7ms/step - loss: 231.3223 - val_loss: 261.4012\n",
      "Epoch 72/100\n",
      "2589/2589 [==============================] - 18s 7ms/step - loss: 232.2335 - val_loss: 262.6157\n",
      "Epoch 73/100\n",
      "2589/2589 [==============================] - 18s 7ms/step - loss: 231.2117 - val_loss: 260.8567\n",
      "Epoch 74/100\n",
      "2589/2589 [==============================] - 18s 7ms/step - loss: 230.8195 - val_loss: 261.5397\n",
      "Epoch 75/100\n",
      "2589/2589 [==============================] - 18s 7ms/step - loss: 230.4045 - val_loss: 263.1322\n",
      "Epoch 76/100\n",
      "2589/2589 [==============================] - 18s 7ms/step - loss: 230.1935 - val_loss: 261.5909\n",
      "Epoch 77/100\n",
      "2589/2589 [==============================] - 18s 7ms/step - loss: 229.9805 - val_loss: 262.1555\n",
      "Epoch 78/100\n",
      "2589/2589 [==============================] - 18s 7ms/step - loss: 229.7569 - val_loss: 260.8474\n",
      "Epoch 79/100\n",
      "2589/2589 [==============================] - 18s 7ms/step - loss: 229.0853 - val_loss: 262.0815\n",
      "Epoch 80/100\n",
      "2589/2589 [==============================] - 18s 7ms/step - loss: 228.9119 - val_loss: 262.9194\n",
      "Epoch 81/100\n",
      "2589/2589 [==============================] - 18s 7ms/step - loss: 228.8234 - val_loss: 261.7788\n",
      "Epoch 82/100\n",
      "2589/2589 [==============================] - 18s 7ms/step - loss: 227.7502 - val_loss: 262.6268\n",
      "Epoch 83/100\n",
      "2589/2589 [==============================] - 18s 7ms/step - loss: 228.4198 - val_loss: 262.3174\n",
      "Epoch 84/100\n",
      "2589/2589 [==============================] - 18s 7ms/step - loss: 228.0070 - val_loss: 263.3258\n",
      "Epoch 85/100\n",
      "2589/2589 [==============================] - 18s 7ms/step - loss: 227.7732 - val_loss: 263.4109\n",
      "Epoch 86/100\n",
      "2589/2589 [==============================] - 18s 7ms/step - loss: 227.2725 - val_loss: 263.8763\n",
      "Epoch 87/100\n",
      "2589/2589 [==============================] - 18s 7ms/step - loss: 227.3573 - val_loss: 264.1915\n",
      "Epoch 88/100\n",
      "2589/2589 [==============================] - 18s 7ms/step - loss: 227.2681 - val_loss: 262.2556\n",
      "Epoch 89/100\n",
      "2589/2589 [==============================] - 18s 7ms/step - loss: 226.5312 - val_loss: 264.1267\n",
      "Epoch 90/100\n",
      "2589/2589 [==============================] - 18s 7ms/step - loss: 226.7823 - val_loss: 263.0344\n",
      "Epoch 91/100\n",
      "2589/2589 [==============================] - 18s 7ms/step - loss: 226.2814 - val_loss: 261.7924\n",
      "Epoch 92/100\n",
      "2589/2589 [==============================] - 18s 7ms/step - loss: 225.9534 - val_loss: 260.4878\n",
      "Epoch 93/100\n",
      "2589/2589 [==============================] - 18s 7ms/step - loss: 226.6733 - val_loss: 262.2018\n",
      "Epoch 94/100\n",
      "2589/2589 [==============================] - 18s 7ms/step - loss: 225.6500 - val_loss: 262.9968\n",
      "Epoch 95/100\n",
      "2589/2589 [==============================] - 18s 7ms/step - loss: 224.8682 - val_loss: 262.3358\n",
      "Epoch 96/100\n",
      "2589/2589 [==============================] - 18s 7ms/step - loss: 225.0826 - val_loss: 264.6609\n",
      "Epoch 97/100\n",
      "2589/2589 [==============================] - 18s 7ms/step - loss: 225.1114 - val_loss: 263.1489\n",
      "Epoch 98/100\n",
      "2589/2589 [==============================] - 18s 7ms/step - loss: 224.5333 - val_loss: 264.9960\n",
      "Epoch 99/100\n",
      "2589/2589 [==============================] - 18s 7ms/step - loss: 224.3544 - val_loss: 263.1971\n",
      "Epoch 100/100\n",
      "2589/2589 [==============================] - 18s 7ms/step - loss: 223.9329 - val_loss: 263.3577\n"
     ]
    }
   ],
   "source": [
    "model = Models.get_model(MODEL_NAME, train_X_scaled, train_y_scaled, ALPHA)\n"
   ]
  },
  {
   "cell_type": "markdown",
   "metadata": {
    "pycharm": {
     "name": "#%% md\n"
    }
   },
   "source": [
    "----\n",
    "# One-Shot Forecasting"
   ]
  },
  {
   "cell_type": "code",
   "execution_count": 16,
   "metadata": {
    "pycharm": {
     "name": "#%%\n"
    }
   },
   "outputs": [
    {
     "name": "stdout",
     "output_type": "stream",
     "text": [
      "184052/184052 [==============================] - 115s 619us/step\n"
     ]
    }
   ],
   "source": [
    "_ = model.predict(train_X_scaled, batch_size=1)"
   ]
  },
  {
   "cell_type": "code",
   "execution_count": 17,
   "metadata": {
    "pycharm": {
     "name": "#%%\n"
    }
   },
   "outputs": [
    {
     "data": {
      "text/plain": "['WDIR_42001',\n 'WSPD_42001',\n 'PRES_42001',\n 'ATMP_42001',\n 'WTMP_42001',\n 'DEWP_42001',\n 'WDIR_42002',\n 'WSPD_42002',\n 'PRES_42002',\n 'ATMP_42002',\n 'WTMP_42002',\n 'DEWP_42002',\n 'WDIR_42003',\n 'WSPD_42003',\n 'PRES_42003',\n 'ATMP_42003',\n 'WTMP_42003',\n 'DEWP_42003',\n 'WDIR_42019',\n 'WSPD_42019',\n 'PRES_42019',\n 'ATMP_42019',\n 'WTMP_42019',\n 'DEWP_42019',\n 'WDIR_42020',\n 'WSPD_42020',\n 'PRES_42020',\n 'ATMP_42020',\n 'WTMP_42020',\n 'DEWP_42020',\n 'WDIR_42035',\n 'WSPD_42035',\n 'PRES_42035',\n 'ATMP_42035',\n 'WTMP_42035',\n 'DEWP_42035',\n 'WDIR_42036',\n 'WSPD_42036',\n 'PRES_42036',\n 'ATMP_42036',\n 'DEWP_42036',\n 'WDIR_42039',\n 'WSPD_42039',\n 'PRES_42039',\n 'ATMP_42039',\n 'WTMP_42039',\n 'WDIR_42040',\n 'WSPD_42040',\n 'PRES_42040',\n 'ATMP_42040',\n 'WTMP_42040',\n 'DEWP_42040',\n 'WTMP_42001_ERA5',\n 'ATMP_42020_ERA5',\n 'ATMP_42001_ERA5',\n 'DEWP_42001_ERA5',\n 'PRES_42019_ERA5',\n 'ATMP_42040_ERA5',\n 'PRES_42001_ERA5',\n 'WDIR_42035_ERA5',\n 'PRES_42003_ERA5',\n 'DEWP_42003_ERA5',\n 'WTMP_42035_ERA5',\n 'PRES_42040_ERA5',\n 'DEWP_42040_ERA5',\n 'ATMP_42035_ERA5',\n 'PRES_42002_ERA5',\n 'WDIR_42001_ERA5',\n 'DEWP_42019_ERA5',\n 'WDIR_42020_ERA5',\n 'WSPD_42019_ERA5',\n 'PRES_42020_ERA5',\n 'DEWP_42036_ERA5',\n 'WTMP_42002_ERA5',\n 'WTMP_42019_ERA5',\n 'WSPD_42036_ERA5',\n 'ATMP_42003_ERA5',\n 'WDIR_42003_ERA5',\n 'WTMP_42003_ERA5',\n 'WTMP_42020_ERA5',\n 'PRES_42036_ERA5',\n 'WDIR_42040_ERA5',\n 'WSPD_42040_ERA5',\n 'WSPD_42003_ERA5',\n 'WSPD_42020_ERA5',\n 'WDIR_42036_ERA5',\n 'WDIR_42019_ERA5',\n 'WTMP_42040_ERA5',\n 'DEWP_42035_ERA5',\n 'ATMP_42002_ERA5',\n 'PRES_42035_ERA5',\n 'WDIR_42002_ERA5',\n 'ATMP_42036_ERA5',\n 'DEWP_42002_ERA5',\n 'WDIR_42039_ERA5',\n 'WSPD_42039_ERA5',\n 'ATMP_42039_ERA5',\n 'WSPD_42035_ERA5',\n 'WSPD_42001_ERA5',\n 'DEWP_42020_ERA5',\n 'ATMP_42019_ERA5',\n 'WTMP_42039_ERA5',\n 'WSPD_42002_ERA5',\n 'PRES_42039_ERA5']"
     },
     "execution_count": 17,
     "metadata": {},
     "output_type": "execute_result"
    }
   ],
   "source": [
    "output_cols = data.columns.tolist()\n",
    "output_cols"
   ]
  },
  {
   "cell_type": "code",
   "execution_count": 18,
   "metadata": {
    "pycharm": {
     "name": "#%%\n"
    }
   },
   "outputs": [
    {
     "name": "stdout",
     "output_type": "stream",
     "text": [
      "1/1 [==============================] - 0s 434ms/step\n"
     ]
    },
    {
     "data": {
      "text/plain": "                     WDIR_42001_pred  WSPD_42001_pred  PRES_42001_pred  \\\n2022-12-31 00:00:00        -0.067665        -0.007836         0.167321   \n2022-12-31 01:00:00        -0.432389         0.027640        -0.098480   \n2022-12-31 02:00:00        -0.022016         0.178444        -0.137889   \n2022-12-31 03:00:00         0.056639         0.003211        -0.001394   \n2022-12-31 04:00:00        -0.108752        -0.172973         0.034550   \n2022-12-31 05:00:00        -0.271184         0.056969        -0.172108   \n2022-12-31 06:00:00        -0.254871         0.169037        -0.181575   \n2022-12-31 07:00:00        -0.170443        -0.157249        -0.147704   \n2022-12-31 08:00:00        -0.076196        -0.154466         0.093333   \n2022-12-31 09:00:00        -0.118099        -0.191943         0.084528   \n2022-12-31 10:00:00        -0.008407        -0.133674         0.088349   \n2022-12-31 11:00:00         0.197011        -0.069347         0.161998   \n2022-12-31 12:00:00         0.059175        -0.204427         0.151160   \n2022-12-31 13:00:00        -0.106767        -0.098499         0.102456   \n2022-12-31 14:00:00        -0.082045        -0.176702         0.068832   \n2022-12-31 15:00:00        -0.053836        -0.188987         0.075679   \n2022-12-31 16:00:00        -0.136286        -0.186328         0.105510   \n2022-12-31 17:00:00        -0.110948        -0.169392         0.090234   \n2022-12-31 18:00:00        -0.082550        -0.147380         0.103240   \n2022-12-31 19:00:00        -0.070676        -0.154355         0.101022   \n2022-12-31 20:00:00        -0.045233        -0.169520         0.101579   \n2022-12-31 21:00:00        -0.018319        -0.000323         0.199076   \n2022-12-31 22:00:00        -0.063836        -0.105718         0.137165   \n2022-12-31 23:00:00        -0.066662        -0.167466         0.092453   \n\n                     ATMP_42001_pred  WTMP_42001_pred  DEWP_42001_pred  \\\n2022-12-31 00:00:00        -0.084559         0.104929        -0.031779   \n2022-12-31 01:00:00        -0.529826        -0.077289         0.074303   \n2022-12-31 02:00:00         0.302488        -0.022078         0.446410   \n2022-12-31 03:00:00        -0.040182         0.076263        -0.080128   \n2022-12-31 04:00:00        -0.037077         0.100366        -0.076487   \n2022-12-31 05:00:00        -0.485183         0.038879        -0.041742   \n2022-12-31 06:00:00        -0.612638         0.024905        -0.022933   \n2022-12-31 07:00:00        -0.306118        -0.066344         0.014866   \n2022-12-31 08:00:00        -0.025134         0.094833        -0.023543   \n2022-12-31 09:00:00        -0.034235         0.094281        -0.040871   \n2022-12-31 10:00:00        -0.018610         0.089510        -0.042483   \n2022-12-31 11:00:00         0.055328         0.214393        -0.021399   \n2022-12-31 12:00:00         0.065478         0.157058        -0.014226   \n2022-12-31 13:00:00        -0.029558         0.102828        -0.020367   \n2022-12-31 14:00:00        -0.026329         0.096437        -0.022639   \n2022-12-31 15:00:00        -0.005062         0.108326        -0.030558   \n2022-12-31 16:00:00        -0.042975         0.104423        -0.047670   \n2022-12-31 17:00:00        -0.039525         0.087696        -0.033716   \n2022-12-31 18:00:00        -0.038401         0.092673        -0.020468   \n2022-12-31 19:00:00        -0.030221         0.098902        -0.025979   \n2022-12-31 20:00:00        -0.056359         0.124446        -0.044399   \n2022-12-31 21:00:00        -0.069220         0.056267         0.018379   \n2022-12-31 22:00:00        -0.033186         0.077089         0.000068   \n2022-12-31 23:00:00        -0.019475         0.105838        -0.022631   \n\n                     WDIR_42002_pred  WSPD_42002_pred  PRES_42002_pred  \\\n2022-12-31 00:00:00         0.025267         0.062751        -0.138179   \n2022-12-31 01:00:00         0.637668         0.383176        -0.217658   \n2022-12-31 02:00:00         0.008618         0.435822         0.243580   \n2022-12-31 03:00:00         0.039829        -0.136879         0.082483   \n2022-12-31 04:00:00         0.059895        -0.037153        -0.091535   \n2022-12-31 05:00:00         0.755505         0.299332        -0.137994   \n2022-12-31 06:00:00         0.918392         0.449026        -0.028297   \n2022-12-31 07:00:00         0.516033         0.110499        -0.064598   \n2022-12-31 08:00:00         0.102461         0.003409        -0.123125   \n2022-12-31 09:00:00         0.082747        -0.007529        -0.150594   \n2022-12-31 10:00:00         0.103089        -0.030872        -0.101876   \n2022-12-31 11:00:00         0.049943        -0.136501        -0.076654   \n2022-12-31 12:00:00         0.059654        -0.092854        -0.162370   \n2022-12-31 13:00:00         0.088962         0.013829        -0.106860   \n2022-12-31 14:00:00         0.110318         0.002059        -0.124765   \n2022-12-31 15:00:00         0.091914        -0.015240        -0.116087   \n2022-12-31 16:00:00         0.075224        -0.000540        -0.156548   \n2022-12-31 17:00:00         0.090195        -0.008529        -0.137724   \n2022-12-31 18:00:00         0.073308        -0.001844        -0.133326   \n2022-12-31 19:00:00         0.095045        -0.003949        -0.130089   \n2022-12-31 20:00:00         0.085555        -0.035350        -0.132548   \n2022-12-31 21:00:00         0.042195        -0.011126        -0.066520   \n2022-12-31 22:00:00         0.052112         0.003824        -0.120094   \n2022-12-31 23:00:00         0.089864        -0.018259        -0.124290   \n\n                     ATMP_42002_pred  ...  WDIR_42039_ERA5_pred  \\\n2022-12-31 00:00:00        -0.056266  ...             16.821949   \n2022-12-31 01:00:00         0.714852  ...             19.422321   \n2022-12-31 02:00:00         0.379887  ...             10.407141   \n2022-12-31 03:00:00        -0.009333  ...              1.354479   \n2022-12-31 04:00:00        -0.065216  ...             -2.272961   \n2022-12-31 05:00:00         0.820281  ...             -9.409861   \n2022-12-31 06:00:00         1.141362  ...             -4.570562   \n2022-12-31 07:00:00         0.578646  ...              0.104834   \n2022-12-31 08:00:00        -0.037198  ...             -2.806997   \n2022-12-31 09:00:00        -0.048964  ...             -1.435867   \n2022-12-31 10:00:00        -0.026327  ...              1.846463   \n2022-12-31 11:00:00        -0.124028  ...              4.918279   \n2022-12-31 12:00:00        -0.192064  ...              0.305573   \n2022-12-31 13:00:00        -0.081766  ...             -0.820175   \n2022-12-31 14:00:00        -0.008069  ...              0.971905   \n2022-12-31 15:00:00        -0.038490  ...              2.003366   \n2022-12-31 16:00:00        -0.053265  ...             -1.997627   \n2022-12-31 17:00:00        -0.042877  ...             -2.180351   \n2022-12-31 18:00:00        -0.047392  ...              1.209270   \n2022-12-31 19:00:00        -0.042343  ...              2.107161   \n2022-12-31 20:00:00        -0.051052  ...              5.560089   \n2022-12-31 21:00:00        -0.121865  ...             -4.663305   \n2022-12-31 22:00:00        -0.090308  ...             -0.722618   \n2022-12-31 23:00:00        -0.056076  ...             -0.691626   \n\n                     WSPD_42039_ERA5_pred  ATMP_42039_ERA5_pred  \\\n2022-12-31 00:00:00              0.036146             -0.031013   \n2022-12-31 01:00:00             -0.001101             -0.026467   \n2022-12-31 02:00:00             -0.057829             -0.073988   \n2022-12-31 03:00:00             -0.003990             -0.051895   \n2022-12-31 04:00:00              0.016285             -0.020803   \n2022-12-31 05:00:00             -0.001048              0.012667   \n2022-12-31 06:00:00              0.018595             -0.017439   \n2022-12-31 07:00:00             -0.063852              0.020294   \n2022-12-31 08:00:00             -0.008006              0.005213   \n2022-12-31 09:00:00             -0.004851              0.002120   \n2022-12-31 10:00:00             -0.007995              0.001753   \n2022-12-31 11:00:00             -0.033896              0.006646   \n2022-12-31 12:00:00             -0.054035              0.016761   \n2022-12-31 13:00:00              0.009907             -0.020821   \n2022-12-31 14:00:00             -0.003473              0.003866   \n2022-12-31 15:00:00              0.003362              0.002651   \n2022-12-31 16:00:00             -0.000812              0.000037   \n2022-12-31 17:00:00             -0.004727             -0.000916   \n2022-12-31 18:00:00             -0.000947             -0.001014   \n2022-12-31 19:00:00             -0.000103             -0.001355   \n2022-12-31 20:00:00              0.002099             -0.002192   \n2022-12-31 21:00:00              0.012382             -0.023872   \n2022-12-31 22:00:00             -0.003279             -0.007421   \n2022-12-31 23:00:00             -0.006998              0.001172   \n\n                     WSPD_42035_ERA5_pred  WSPD_42001_ERA5_pred  \\\n2022-12-31 00:00:00             -0.002554              0.008022   \n2022-12-31 01:00:00             -0.065930             -0.007728   \n2022-12-31 02:00:00              0.010505             -0.093764   \n2022-12-31 03:00:00             -0.048426             -0.000069   \n2022-12-31 04:00:00             -0.029035             -0.003778   \n2022-12-31 05:00:00             -0.026081             -0.032857   \n2022-12-31 06:00:00             -0.007963             -0.076637   \n2022-12-31 07:00:00             -0.066571             -0.001979   \n2022-12-31 08:00:00              0.023257              0.002638   \n2022-12-31 09:00:00             -0.015166             -0.001514   \n2022-12-31 10:00:00              0.014371              0.016040   \n2022-12-31 11:00:00              0.069280              0.049600   \n2022-12-31 12:00:00              0.051710              0.044415   \n2022-12-31 13:00:00              0.029020              0.002767   \n2022-12-31 14:00:00              0.017095             -0.000260   \n2022-12-31 15:00:00              0.021926              0.005270   \n2022-12-31 16:00:00             -0.026075             -0.005038   \n2022-12-31 17:00:00             -0.013954              0.001341   \n2022-12-31 18:00:00             -0.003305              0.005398   \n2022-12-31 19:00:00              0.009116              0.009454   \n2022-12-31 20:00:00             -0.006335              0.021496   \n2022-12-31 21:00:00              0.002931              0.038316   \n2022-12-31 22:00:00              0.012866              0.009788   \n2022-12-31 23:00:00              0.013248              0.007858   \n\n                     DEWP_42020_ERA5_pred  ATMP_42019_ERA5_pred  \\\n2022-12-31 00:00:00             -0.023686             -0.008213   \n2022-12-31 01:00:00             -0.019003             -0.048400   \n2022-12-31 02:00:00             -0.129510             -0.184593   \n2022-12-31 03:00:00             -0.068140             -0.063520   \n2022-12-31 04:00:00              0.023807              0.021491   \n2022-12-31 05:00:00             -0.061659             -0.114619   \n2022-12-31 06:00:00             -0.158216             -0.217387   \n2022-12-31 07:00:00             -0.078352             -0.091087   \n2022-12-31 08:00:00             -0.021384             -0.020847   \n2022-12-31 09:00:00              0.020367              0.012299   \n2022-12-31 10:00:00             -0.040459             -0.025521   \n2022-12-31 11:00:00             -0.121731             -0.086607   \n2022-12-31 12:00:00             -0.077371             -0.045074   \n2022-12-31 13:00:00             -0.015036             -0.018108   \n2022-12-31 14:00:00             -0.015144             -0.016637   \n2022-12-31 15:00:00             -0.022823             -0.014545   \n2022-12-31 16:00:00              0.033706              0.022157   \n2022-12-31 17:00:00              0.015081              0.007038   \n2022-12-31 18:00:00             -0.005350             -0.006083   \n2022-12-31 19:00:00             -0.016540             -0.011458   \n2022-12-31 20:00:00             -0.028953             -0.010483   \n2022-12-31 21:00:00             -0.040546             -0.019399   \n2022-12-31 22:00:00             -0.024951             -0.022612   \n2022-12-31 23:00:00             -0.019615             -0.017773   \n\n                     WTMP_42039_ERA5_pred  WSPD_42002_ERA5_pred  \\\n2022-12-31 00:00:00             -0.002591             -0.002721   \n2022-12-31 01:00:00             -0.003061             -0.055443   \n2022-12-31 02:00:00             -0.006569             -0.152169   \n2022-12-31 03:00:00             -0.003771             -0.007381   \n2022-12-31 04:00:00             -0.002263              0.004143   \n2022-12-31 05:00:00             -0.005504             -0.084066   \n2022-12-31 06:00:00             -0.005497             -0.144545   \n2022-12-31 07:00:00             -0.000168              0.012301   \n2022-12-31 08:00:00             -0.002138              0.000918   \n2022-12-31 09:00:00             -0.002537             -0.004685   \n2022-12-31 10:00:00             -0.001678              0.022772   \n2022-12-31 11:00:00             -0.001951              0.027410   \n2022-12-31 12:00:00             -0.003521              0.022055   \n2022-12-31 13:00:00             -0.004010             -0.010040   \n2022-12-31 14:00:00             -0.001704              0.004436   \n2022-12-31 15:00:00             -0.001255              0.016450   \n2022-12-31 16:00:00             -0.002864             -0.013649   \n2022-12-31 17:00:00             -0.002643             -0.005895   \n2022-12-31 18:00:00             -0.002039              0.000666   \n2022-12-31 19:00:00             -0.002186              0.009421   \n2022-12-31 20:00:00             -0.001271              0.028519   \n2022-12-31 21:00:00             -0.001342              0.007526   \n2022-12-31 22:00:00             -0.002469             -0.006116   \n2022-12-31 23:00:00             -0.002344              0.005735   \n\n                     PRES_42039_ERA5_pred  \n2022-12-31 00:00:00              0.040800  \n2022-12-31 01:00:00              0.068241  \n2022-12-31 02:00:00              0.126858  \n2022-12-31 03:00:00              0.038534  \n2022-12-31 04:00:00              0.006051  \n2022-12-31 05:00:00              0.033389  \n2022-12-31 06:00:00              0.091574  \n2022-12-31 07:00:00              0.050614  \n2022-12-31 08:00:00              0.002629  \n2022-12-31 09:00:00             -0.012390  \n2022-12-31 10:00:00              0.027644  \n2022-12-31 11:00:00              0.032952  \n2022-12-31 12:00:00             -0.012019  \n2022-12-31 13:00:00              0.007293  \n2022-12-31 14:00:00              0.006796  \n2022-12-31 15:00:00              0.013412  \n2022-12-31 16:00:00             -0.017122  \n2022-12-31 17:00:00             -0.007779  \n2022-12-31 18:00:00              0.000285  \n2022-12-31 19:00:00              0.009242  \n2022-12-31 20:00:00              0.011227  \n2022-12-31 21:00:00              0.031867  \n2022-12-31 22:00:00              0.001399  \n2022-12-31 23:00:00             -0.001016  \n\n[24 rows x 104 columns]",
      "text/html": "<div>\n<style scoped>\n    .dataframe tbody tr th:only-of-type {\n        vertical-align: middle;\n    }\n\n    .dataframe tbody tr th {\n        vertical-align: top;\n    }\n\n    .dataframe thead th {\n        text-align: right;\n    }\n</style>\n<table border=\"1\" class=\"dataframe\">\n  <thead>\n    <tr style=\"text-align: right;\">\n      <th></th>\n      <th>WDIR_42001_pred</th>\n      <th>WSPD_42001_pred</th>\n      <th>PRES_42001_pred</th>\n      <th>ATMP_42001_pred</th>\n      <th>WTMP_42001_pred</th>\n      <th>DEWP_42001_pred</th>\n      <th>WDIR_42002_pred</th>\n      <th>WSPD_42002_pred</th>\n      <th>PRES_42002_pred</th>\n      <th>ATMP_42002_pred</th>\n      <th>...</th>\n      <th>WDIR_42039_ERA5_pred</th>\n      <th>WSPD_42039_ERA5_pred</th>\n      <th>ATMP_42039_ERA5_pred</th>\n      <th>WSPD_42035_ERA5_pred</th>\n      <th>WSPD_42001_ERA5_pred</th>\n      <th>DEWP_42020_ERA5_pred</th>\n      <th>ATMP_42019_ERA5_pred</th>\n      <th>WTMP_42039_ERA5_pred</th>\n      <th>WSPD_42002_ERA5_pred</th>\n      <th>PRES_42039_ERA5_pred</th>\n    </tr>\n  </thead>\n  <tbody>\n    <tr>\n      <th>2022-12-31 00:00:00</th>\n      <td>-0.067665</td>\n      <td>-0.007836</td>\n      <td>0.167321</td>\n      <td>-0.084559</td>\n      <td>0.104929</td>\n      <td>-0.031779</td>\n      <td>0.025267</td>\n      <td>0.062751</td>\n      <td>-0.138179</td>\n      <td>-0.056266</td>\n      <td>...</td>\n      <td>16.821949</td>\n      <td>0.036146</td>\n      <td>-0.031013</td>\n      <td>-0.002554</td>\n      <td>0.008022</td>\n      <td>-0.023686</td>\n      <td>-0.008213</td>\n      <td>-0.002591</td>\n      <td>-0.002721</td>\n      <td>0.040800</td>\n    </tr>\n    <tr>\n      <th>2022-12-31 01:00:00</th>\n      <td>-0.432389</td>\n      <td>0.027640</td>\n      <td>-0.098480</td>\n      <td>-0.529826</td>\n      <td>-0.077289</td>\n      <td>0.074303</td>\n      <td>0.637668</td>\n      <td>0.383176</td>\n      <td>-0.217658</td>\n      <td>0.714852</td>\n      <td>...</td>\n      <td>19.422321</td>\n      <td>-0.001101</td>\n      <td>-0.026467</td>\n      <td>-0.065930</td>\n      <td>-0.007728</td>\n      <td>-0.019003</td>\n      <td>-0.048400</td>\n      <td>-0.003061</td>\n      <td>-0.055443</td>\n      <td>0.068241</td>\n    </tr>\n    <tr>\n      <th>2022-12-31 02:00:00</th>\n      <td>-0.022016</td>\n      <td>0.178444</td>\n      <td>-0.137889</td>\n      <td>0.302488</td>\n      <td>-0.022078</td>\n      <td>0.446410</td>\n      <td>0.008618</td>\n      <td>0.435822</td>\n      <td>0.243580</td>\n      <td>0.379887</td>\n      <td>...</td>\n      <td>10.407141</td>\n      <td>-0.057829</td>\n      <td>-0.073988</td>\n      <td>0.010505</td>\n      <td>-0.093764</td>\n      <td>-0.129510</td>\n      <td>-0.184593</td>\n      <td>-0.006569</td>\n      <td>-0.152169</td>\n      <td>0.126858</td>\n    </tr>\n    <tr>\n      <th>2022-12-31 03:00:00</th>\n      <td>0.056639</td>\n      <td>0.003211</td>\n      <td>-0.001394</td>\n      <td>-0.040182</td>\n      <td>0.076263</td>\n      <td>-0.080128</td>\n      <td>0.039829</td>\n      <td>-0.136879</td>\n      <td>0.082483</td>\n      <td>-0.009333</td>\n      <td>...</td>\n      <td>1.354479</td>\n      <td>-0.003990</td>\n      <td>-0.051895</td>\n      <td>-0.048426</td>\n      <td>-0.000069</td>\n      <td>-0.068140</td>\n      <td>-0.063520</td>\n      <td>-0.003771</td>\n      <td>-0.007381</td>\n      <td>0.038534</td>\n    </tr>\n    <tr>\n      <th>2022-12-31 04:00:00</th>\n      <td>-0.108752</td>\n      <td>-0.172973</td>\n      <td>0.034550</td>\n      <td>-0.037077</td>\n      <td>0.100366</td>\n      <td>-0.076487</td>\n      <td>0.059895</td>\n      <td>-0.037153</td>\n      <td>-0.091535</td>\n      <td>-0.065216</td>\n      <td>...</td>\n      <td>-2.272961</td>\n      <td>0.016285</td>\n      <td>-0.020803</td>\n      <td>-0.029035</td>\n      <td>-0.003778</td>\n      <td>0.023807</td>\n      <td>0.021491</td>\n      <td>-0.002263</td>\n      <td>0.004143</td>\n      <td>0.006051</td>\n    </tr>\n    <tr>\n      <th>2022-12-31 05:00:00</th>\n      <td>-0.271184</td>\n      <td>0.056969</td>\n      <td>-0.172108</td>\n      <td>-0.485183</td>\n      <td>0.038879</td>\n      <td>-0.041742</td>\n      <td>0.755505</td>\n      <td>0.299332</td>\n      <td>-0.137994</td>\n      <td>0.820281</td>\n      <td>...</td>\n      <td>-9.409861</td>\n      <td>-0.001048</td>\n      <td>0.012667</td>\n      <td>-0.026081</td>\n      <td>-0.032857</td>\n      <td>-0.061659</td>\n      <td>-0.114619</td>\n      <td>-0.005504</td>\n      <td>-0.084066</td>\n      <td>0.033389</td>\n    </tr>\n    <tr>\n      <th>2022-12-31 06:00:00</th>\n      <td>-0.254871</td>\n      <td>0.169037</td>\n      <td>-0.181575</td>\n      <td>-0.612638</td>\n      <td>0.024905</td>\n      <td>-0.022933</td>\n      <td>0.918392</td>\n      <td>0.449026</td>\n      <td>-0.028297</td>\n      <td>1.141362</td>\n      <td>...</td>\n      <td>-4.570562</td>\n      <td>0.018595</td>\n      <td>-0.017439</td>\n      <td>-0.007963</td>\n      <td>-0.076637</td>\n      <td>-0.158216</td>\n      <td>-0.217387</td>\n      <td>-0.005497</td>\n      <td>-0.144545</td>\n      <td>0.091574</td>\n    </tr>\n    <tr>\n      <th>2022-12-31 07:00:00</th>\n      <td>-0.170443</td>\n      <td>-0.157249</td>\n      <td>-0.147704</td>\n      <td>-0.306118</td>\n      <td>-0.066344</td>\n      <td>0.014866</td>\n      <td>0.516033</td>\n      <td>0.110499</td>\n      <td>-0.064598</td>\n      <td>0.578646</td>\n      <td>...</td>\n      <td>0.104834</td>\n      <td>-0.063852</td>\n      <td>0.020294</td>\n      <td>-0.066571</td>\n      <td>-0.001979</td>\n      <td>-0.078352</td>\n      <td>-0.091087</td>\n      <td>-0.000168</td>\n      <td>0.012301</td>\n      <td>0.050614</td>\n    </tr>\n    <tr>\n      <th>2022-12-31 08:00:00</th>\n      <td>-0.076196</td>\n      <td>-0.154466</td>\n      <td>0.093333</td>\n      <td>-0.025134</td>\n      <td>0.094833</td>\n      <td>-0.023543</td>\n      <td>0.102461</td>\n      <td>0.003409</td>\n      <td>-0.123125</td>\n      <td>-0.037198</td>\n      <td>...</td>\n      <td>-2.806997</td>\n      <td>-0.008006</td>\n      <td>0.005213</td>\n      <td>0.023257</td>\n      <td>0.002638</td>\n      <td>-0.021384</td>\n      <td>-0.020847</td>\n      <td>-0.002138</td>\n      <td>0.000918</td>\n      <td>0.002629</td>\n    </tr>\n    <tr>\n      <th>2022-12-31 09:00:00</th>\n      <td>-0.118099</td>\n      <td>-0.191943</td>\n      <td>0.084528</td>\n      <td>-0.034235</td>\n      <td>0.094281</td>\n      <td>-0.040871</td>\n      <td>0.082747</td>\n      <td>-0.007529</td>\n      <td>-0.150594</td>\n      <td>-0.048964</td>\n      <td>...</td>\n      <td>-1.435867</td>\n      <td>-0.004851</td>\n      <td>0.002120</td>\n      <td>-0.015166</td>\n      <td>-0.001514</td>\n      <td>0.020367</td>\n      <td>0.012299</td>\n      <td>-0.002537</td>\n      <td>-0.004685</td>\n      <td>-0.012390</td>\n    </tr>\n    <tr>\n      <th>2022-12-31 10:00:00</th>\n      <td>-0.008407</td>\n      <td>-0.133674</td>\n      <td>0.088349</td>\n      <td>-0.018610</td>\n      <td>0.089510</td>\n      <td>-0.042483</td>\n      <td>0.103089</td>\n      <td>-0.030872</td>\n      <td>-0.101876</td>\n      <td>-0.026327</td>\n      <td>...</td>\n      <td>1.846463</td>\n      <td>-0.007995</td>\n      <td>0.001753</td>\n      <td>0.014371</td>\n      <td>0.016040</td>\n      <td>-0.040459</td>\n      <td>-0.025521</td>\n      <td>-0.001678</td>\n      <td>0.022772</td>\n      <td>0.027644</td>\n    </tr>\n    <tr>\n      <th>2022-12-31 11:00:00</th>\n      <td>0.197011</td>\n      <td>-0.069347</td>\n      <td>0.161998</td>\n      <td>0.055328</td>\n      <td>0.214393</td>\n      <td>-0.021399</td>\n      <td>0.049943</td>\n      <td>-0.136501</td>\n      <td>-0.076654</td>\n      <td>-0.124028</td>\n      <td>...</td>\n      <td>4.918279</td>\n      <td>-0.033896</td>\n      <td>0.006646</td>\n      <td>0.069280</td>\n      <td>0.049600</td>\n      <td>-0.121731</td>\n      <td>-0.086607</td>\n      <td>-0.001951</td>\n      <td>0.027410</td>\n      <td>0.032952</td>\n    </tr>\n    <tr>\n      <th>2022-12-31 12:00:00</th>\n      <td>0.059175</td>\n      <td>-0.204427</td>\n      <td>0.151160</td>\n      <td>0.065478</td>\n      <td>0.157058</td>\n      <td>-0.014226</td>\n      <td>0.059654</td>\n      <td>-0.092854</td>\n      <td>-0.162370</td>\n      <td>-0.192064</td>\n      <td>...</td>\n      <td>0.305573</td>\n      <td>-0.054035</td>\n      <td>0.016761</td>\n      <td>0.051710</td>\n      <td>0.044415</td>\n      <td>-0.077371</td>\n      <td>-0.045074</td>\n      <td>-0.003521</td>\n      <td>0.022055</td>\n      <td>-0.012019</td>\n    </tr>\n    <tr>\n      <th>2022-12-31 13:00:00</th>\n      <td>-0.106767</td>\n      <td>-0.098499</td>\n      <td>0.102456</td>\n      <td>-0.029558</td>\n      <td>0.102828</td>\n      <td>-0.020367</td>\n      <td>0.088962</td>\n      <td>0.013829</td>\n      <td>-0.106860</td>\n      <td>-0.081766</td>\n      <td>...</td>\n      <td>-0.820175</td>\n      <td>0.009907</td>\n      <td>-0.020821</td>\n      <td>0.029020</td>\n      <td>0.002767</td>\n      <td>-0.015036</td>\n      <td>-0.018108</td>\n      <td>-0.004010</td>\n      <td>-0.010040</td>\n      <td>0.007293</td>\n    </tr>\n    <tr>\n      <th>2022-12-31 14:00:00</th>\n      <td>-0.082045</td>\n      <td>-0.176702</td>\n      <td>0.068832</td>\n      <td>-0.026329</td>\n      <td>0.096437</td>\n      <td>-0.022639</td>\n      <td>0.110318</td>\n      <td>0.002059</td>\n      <td>-0.124765</td>\n      <td>-0.008069</td>\n      <td>...</td>\n      <td>0.971905</td>\n      <td>-0.003473</td>\n      <td>0.003866</td>\n      <td>0.017095</td>\n      <td>-0.000260</td>\n      <td>-0.015144</td>\n      <td>-0.016637</td>\n      <td>-0.001704</td>\n      <td>0.004436</td>\n      <td>0.006796</td>\n    </tr>\n    <tr>\n      <th>2022-12-31 15:00:00</th>\n      <td>-0.053836</td>\n      <td>-0.188987</td>\n      <td>0.075679</td>\n      <td>-0.005062</td>\n      <td>0.108326</td>\n      <td>-0.030558</td>\n      <td>0.091914</td>\n      <td>-0.015240</td>\n      <td>-0.116087</td>\n      <td>-0.038490</td>\n      <td>...</td>\n      <td>2.003366</td>\n      <td>0.003362</td>\n      <td>0.002651</td>\n      <td>0.021926</td>\n      <td>0.005270</td>\n      <td>-0.022823</td>\n      <td>-0.014545</td>\n      <td>-0.001255</td>\n      <td>0.016450</td>\n      <td>0.013412</td>\n    </tr>\n    <tr>\n      <th>2022-12-31 16:00:00</th>\n      <td>-0.136286</td>\n      <td>-0.186328</td>\n      <td>0.105510</td>\n      <td>-0.042975</td>\n      <td>0.104423</td>\n      <td>-0.047670</td>\n      <td>0.075224</td>\n      <td>-0.000540</td>\n      <td>-0.156548</td>\n      <td>-0.053265</td>\n      <td>...</td>\n      <td>-1.997627</td>\n      <td>-0.000812</td>\n      <td>0.000037</td>\n      <td>-0.026075</td>\n      <td>-0.005038</td>\n      <td>0.033706</td>\n      <td>0.022157</td>\n      <td>-0.002864</td>\n      <td>-0.013649</td>\n      <td>-0.017122</td>\n    </tr>\n    <tr>\n      <th>2022-12-31 17:00:00</th>\n      <td>-0.110948</td>\n      <td>-0.169392</td>\n      <td>0.090234</td>\n      <td>-0.039525</td>\n      <td>0.087696</td>\n      <td>-0.033716</td>\n      <td>0.090195</td>\n      <td>-0.008529</td>\n      <td>-0.137724</td>\n      <td>-0.042877</td>\n      <td>...</td>\n      <td>-2.180351</td>\n      <td>-0.004727</td>\n      <td>-0.000916</td>\n      <td>-0.013954</td>\n      <td>0.001341</td>\n      <td>0.015081</td>\n      <td>0.007038</td>\n      <td>-0.002643</td>\n      <td>-0.005895</td>\n      <td>-0.007779</td>\n    </tr>\n    <tr>\n      <th>2022-12-31 18:00:00</th>\n      <td>-0.082550</td>\n      <td>-0.147380</td>\n      <td>0.103240</td>\n      <td>-0.038401</td>\n      <td>0.092673</td>\n      <td>-0.020468</td>\n      <td>0.073308</td>\n      <td>-0.001844</td>\n      <td>-0.133326</td>\n      <td>-0.047392</td>\n      <td>...</td>\n      <td>1.209270</td>\n      <td>-0.000947</td>\n      <td>-0.001014</td>\n      <td>-0.003305</td>\n      <td>0.005398</td>\n      <td>-0.005350</td>\n      <td>-0.006083</td>\n      <td>-0.002039</td>\n      <td>0.000666</td>\n      <td>0.000285</td>\n    </tr>\n    <tr>\n      <th>2022-12-31 19:00:00</th>\n      <td>-0.070676</td>\n      <td>-0.154355</td>\n      <td>0.101022</td>\n      <td>-0.030221</td>\n      <td>0.098902</td>\n      <td>-0.025979</td>\n      <td>0.095045</td>\n      <td>-0.003949</td>\n      <td>-0.130089</td>\n      <td>-0.042343</td>\n      <td>...</td>\n      <td>2.107161</td>\n      <td>-0.000103</td>\n      <td>-0.001355</td>\n      <td>0.009116</td>\n      <td>0.009454</td>\n      <td>-0.016540</td>\n      <td>-0.011458</td>\n      <td>-0.002186</td>\n      <td>0.009421</td>\n      <td>0.009242</td>\n    </tr>\n    <tr>\n      <th>2022-12-31 20:00:00</th>\n      <td>-0.045233</td>\n      <td>-0.169520</td>\n      <td>0.101579</td>\n      <td>-0.056359</td>\n      <td>0.124446</td>\n      <td>-0.044399</td>\n      <td>0.085555</td>\n      <td>-0.035350</td>\n      <td>-0.132548</td>\n      <td>-0.051052</td>\n      <td>...</td>\n      <td>5.560089</td>\n      <td>0.002099</td>\n      <td>-0.002192</td>\n      <td>-0.006335</td>\n      <td>0.021496</td>\n      <td>-0.028953</td>\n      <td>-0.010483</td>\n      <td>-0.001271</td>\n      <td>0.028519</td>\n      <td>0.011227</td>\n    </tr>\n    <tr>\n      <th>2022-12-31 21:00:00</th>\n      <td>-0.018319</td>\n      <td>-0.000323</td>\n      <td>0.199076</td>\n      <td>-0.069220</td>\n      <td>0.056267</td>\n      <td>0.018379</td>\n      <td>0.042195</td>\n      <td>-0.011126</td>\n      <td>-0.066520</td>\n      <td>-0.121865</td>\n      <td>...</td>\n      <td>-4.663305</td>\n      <td>0.012382</td>\n      <td>-0.023872</td>\n      <td>0.002931</td>\n      <td>0.038316</td>\n      <td>-0.040546</td>\n      <td>-0.019399</td>\n      <td>-0.001342</td>\n      <td>0.007526</td>\n      <td>0.031867</td>\n    </tr>\n    <tr>\n      <th>2022-12-31 22:00:00</th>\n      <td>-0.063836</td>\n      <td>-0.105718</td>\n      <td>0.137165</td>\n      <td>-0.033186</td>\n      <td>0.077089</td>\n      <td>0.000068</td>\n      <td>0.052112</td>\n      <td>0.003824</td>\n      <td>-0.120094</td>\n      <td>-0.090308</td>\n      <td>...</td>\n      <td>-0.722618</td>\n      <td>-0.003279</td>\n      <td>-0.007421</td>\n      <td>0.012866</td>\n      <td>0.009788</td>\n      <td>-0.024951</td>\n      <td>-0.022612</td>\n      <td>-0.002469</td>\n      <td>-0.006116</td>\n      <td>0.001399</td>\n    </tr>\n    <tr>\n      <th>2022-12-31 23:00:00</th>\n      <td>-0.066662</td>\n      <td>-0.167466</td>\n      <td>0.092453</td>\n      <td>-0.019475</td>\n      <td>0.105838</td>\n      <td>-0.022631</td>\n      <td>0.089864</td>\n      <td>-0.018259</td>\n      <td>-0.124290</td>\n      <td>-0.056076</td>\n      <td>...</td>\n      <td>-0.691626</td>\n      <td>-0.006998</td>\n      <td>0.001172</td>\n      <td>0.013248</td>\n      <td>0.007858</td>\n      <td>-0.019615</td>\n      <td>-0.017773</td>\n      <td>-0.002344</td>\n      <td>0.005735</td>\n      <td>-0.001016</td>\n    </tr>\n  </tbody>\n</table>\n<p>24 rows × 104 columns</p>\n</div>"
     },
     "execution_count": 18,
     "metadata": {},
     "output_type": "execute_result"
    }
   ],
   "source": [
    "yhat = model.predict(test_X_scaled)\n",
    "# yhat_unscaled = DP.invert_scaling(yhat, SCALER)\n",
    "yhat_unscaled = yhat # since test_X_scaled is actually not scaled - lol :D\n",
    "yhat_unscaled_df = pd.DataFrame(yhat_unscaled, columns=[name + \"_pred\" for name in output_cols])\n",
    "yhat_unscaled_df.set_index(data.tail(len(yhat)).index, inplace=True)\n",
    "yhat_unscaled_df"
   ]
  },
  {
   "cell_type": "markdown",
   "metadata": {
    "pycharm": {
     "name": "#%% md\n"
    }
   },
   "source": []
  },
  {
   "cell_type": "code",
   "execution_count": null,
   "outputs": [],
   "source": [
    "# # Get the list of columns starting with \"WDIR\"\n",
    "# wdir_columns = [col for col in yhat_unscaled_df.columns if col.startswith(\"WDIR\")]\n",
    "#\n",
    "# # Modify the values in the selected columns\n",
    "# yhat_unscaled_df[wdir_columns] = yhat_unscaled_df[wdir_columns] % 360\n",
    "#\n",
    "# yhat_unscaled_df"
   ],
   "metadata": {
    "collapsed": false,
    "pycharm": {
     "name": "#%%\n"
    }
   }
  },
  {
   "cell_type": "code",
   "execution_count": 20,
   "metadata": {
    "pycharm": {
     "name": "#%%\n"
    }
   },
   "outputs": [
    {
     "data": {
      "text/plain": "                     WDIR_42001  WSPD_42001  PRES_42001  ATMP_42001  \\\n2022-12-30 23:00:00       185.0         5.9      1012.9        25.3   \n2022-12-31 00:00:00       189.0         5.0      1013.5        25.2   \n2022-12-31 01:00:00       203.0         5.6      1013.8        24.7   \n2022-12-31 02:00:00       169.0         2.3      1014.5        24.8   \n2022-12-31 03:00:00        53.0         6.0      1014.8        22.7   \n2022-12-31 04:00:00        55.0         8.5      1015.2        22.3   \n2022-12-31 05:00:00        72.0         7.6      1014.9        22.6   \n2022-12-31 06:00:00        77.0         7.2      1014.4        23.0   \n2022-12-31 07:00:00        97.0         7.8      1014.1        23.1   \n2022-12-31 08:00:00       148.0         3.3      1013.9        24.4   \n2022-12-31 09:00:00       195.0         5.4      1014.0        25.0   \n2022-12-31 10:00:00       223.0         5.1      1014.4        25.0   \n2022-12-31 11:00:00        18.0         3.3      1015.0        22.6   \n2022-12-31 12:00:00       115.0         2.1      1014.9        23.2   \n2022-12-31 13:00:00        31.0         0.9      1015.4        23.6   \n2022-12-31 14:00:00        97.0         0.8      1015.9        24.5   \n2022-12-31 15:00:00       113.0         1.9      1016.6        24.4   \n2022-12-31 16:00:00       124.0         0.8      1017.1        24.6   \n2022-12-31 17:00:00       107.0         1.1      1016.6        24.9   \n2022-12-31 18:00:00       147.0         1.1      1015.9        25.1   \n2022-12-31 19:00:00       195.0         0.5      1015.0        25.6   \n2022-12-31 20:00:00       210.0         1.0      1015.0        25.3   \n2022-12-31 21:00:00       231.0         0.6      1014.7        26.4   \n2022-12-31 22:00:00        18.0         0.7      1014.9        25.4   \n2022-12-31 23:00:00        68.0         1.6      1015.0        25.0   \n\n                     WTMP_42001  DEWP_42001  WDIR_42002  WSPD_42002  \\\n2022-12-30 23:00:00        24.2        24.4       322.0         5.5   \n2022-12-31 00:00:00        24.3        24.5       333.0         5.6   \n2022-12-31 01:00:00        24.3        23.5       359.0         4.6   \n2022-12-31 02:00:00        24.3        24.4        18.0         4.2   \n2022-12-31 03:00:00        24.4        22.1        51.0         4.0   \n2022-12-31 04:00:00        24.4        21.9        69.0         3.1   \n2022-12-31 05:00:00        24.3        22.1        89.0         3.7   \n2022-12-31 06:00:00        24.4        23.0       118.0         2.6   \n2022-12-31 07:00:00        24.4        23.0       151.0         2.8   \n2022-12-31 08:00:00        24.4        24.3       195.0         1.2   \n2022-12-31 09:00:00        24.4        24.6       207.0         2.3   \n2022-12-31 10:00:00        24.4        24.6       194.0         2.2   \n2022-12-31 11:00:00        24.3        22.0       217.0         2.7   \n2022-12-31 12:00:00        24.3        22.4       253.0         3.3   \n2022-12-31 13:00:00        24.4        22.7       273.0         2.9   \n2022-12-31 14:00:00        24.4        23.0       322.0         4.7   \n2022-12-31 15:00:00        24.3        23.6       322.0         3.2   \n2022-12-31 16:00:00        24.4        23.8       316.0         1.3   \n2022-12-31 17:00:00        24.4        23.9       104.0         0.0   \n2022-12-31 18:00:00        24.5        24.3        42.0         0.5   \n2022-12-31 19:00:00        24.7        24.5        22.0         0.6   \n2022-12-31 20:00:00        24.5        24.3        88.0         1.2   \n2022-12-31 21:00:00        24.7        24.4        87.0         1.7   \n2022-12-31 22:00:00        24.7        24.1        90.0         2.5   \n2022-12-31 23:00:00        24.5        24.3       116.0         3.7   \n\n                     PRES_42002  ATMP_42002  ...  WDIR_42039_ERA5  \\\n2022-12-30 23:00:00      1011.7        24.7  ...       113.871622   \n2022-12-31 00:00:00      1012.3        24.6  ...       108.235067   \n2022-12-31 01:00:00      1012.9        24.6  ...        97.574364   \n2022-12-31 02:00:00      1013.5        24.7  ...        84.710673   \n2022-12-31 03:00:00      1014.1        24.5  ...        70.760477   \n2022-12-31 04:00:00      1014.4        24.3  ...        61.682710   \n2022-12-31 05:00:00      1014.4        24.3  ...        65.365573   \n2022-12-31 06:00:00      1014.5        24.4  ...        77.495898   \n2022-12-31 07:00:00      1014.6        24.5  ...        81.234776   \n2022-12-31 08:00:00      1014.8        24.6  ...        77.326712   \n2022-12-31 09:00:00      1014.4        24.5  ...        68.590929   \n2022-12-31 10:00:00      1014.4        24.6  ...        36.958083   \n2022-12-31 11:00:00      1014.9        24.6  ...        42.923937   \n2022-12-31 12:00:00      1015.4        24.6  ...        57.340921   \n2022-12-31 13:00:00      1016.0        24.6  ...        67.428525   \n2022-12-31 14:00:00      1016.6        24.5  ...        63.862272   \n2022-12-31 15:00:00      1017.2        24.6  ...        59.982563   \n2022-12-31 16:00:00      1017.8        24.7  ...        54.021722   \n2022-12-31 17:00:00      1017.7        25.8  ...        42.613490   \n2022-12-31 18:00:00      1016.8        25.5  ...        33.224639   \n2022-12-31 19:00:00      1015.9        25.1  ...        28.180851   \n2022-12-31 20:00:00      1015.4        24.7  ...        22.969408   \n2022-12-31 21:00:00      1014.9        24.6  ...        14.655430   \n2022-12-31 22:00:00      1014.9        24.5  ...        20.371840   \n2022-12-31 23:00:00      1015.0        24.5  ...        21.918165   \n\n                     WSPD_42039_ERA5  ATMP_42039_ERA5  WSPD_42035_ERA5  \\\n2022-12-30 23:00:00        10.542640        23.935086         2.632245   \n2022-12-31 00:00:00        10.136320        24.123266         3.286975   \n2022-12-31 01:00:00         9.799587        24.028398         4.023334   \n2022-12-31 02:00:00        10.336202        22.973194         3.117344   \n2022-12-31 03:00:00        11.014376        23.074671         1.771335   \n2022-12-31 04:00:00         9.975791        23.811448         1.624550   \n2022-12-31 05:00:00         9.259451        24.030731         1.979889   \n2022-12-31 06:00:00         8.763196        24.011680         2.840376   \n2022-12-31 07:00:00         9.032894        24.101493         3.889530   \n2022-12-31 08:00:00         9.596466        24.324664         3.860175   \n2022-12-31 09:00:00         9.274966        24.482128         3.656089   \n2022-12-31 10:00:00         7.138695        23.919534         3.737391   \n2022-12-31 11:00:00         6.912922        23.877933         3.433366   \n2022-12-31 12:00:00         7.748116        23.225526         3.249472   \n2022-12-31 13:00:00         8.995343        23.788509         3.861368   \n2022-12-31 14:00:00         9.735934        24.198304         4.578226   \n2022-12-31 15:00:00         8.944310        24.267899         4.467306   \n2022-12-31 16:00:00         8.184192        22.985636         4.666860   \n2022-12-31 17:00:00         8.048871        22.726306         3.951884   \n2022-12-31 18:00:00         8.420749        22.645825         3.044037   \n2022-12-31 19:00:00         8.602918        22.730194         2.533178   \n2022-12-31 20:00:00         7.734290        22.564177         2.669909   \n2022-12-31 21:00:00         6.485218        22.377552         3.147255   \n2022-12-31 22:00:00         3.294807        24.068445         3.469271   \n2022-12-31 23:00:00         2.229422        23.926533         3.938095   \n\n                     WSPD_42001_ERA5  DEWP_42020_ERA5  ATMP_42019_ERA5  \\\n2022-12-30 23:00:00         5.301299        18.452689        19.872416   \n2022-12-31 00:00:00         5.057694        18.248043        20.009884   \n2022-12-31 01:00:00         5.587926        17.794162        20.081088   \n2022-12-31 02:00:00         5.840792        17.447368        20.151057   \n2022-12-31 03:00:00         6.463279        17.274733        20.047338   \n2022-12-31 04:00:00         6.500897        17.075041        19.827142   \n2022-12-31 05:00:00         6.541557        16.895165        19.694613   \n2022-12-31 06:00:00         6.465415        16.681753        19.667860   \n2022-12-31 07:00:00         6.487022        16.582288        19.685558   \n2022-12-31 08:00:00         6.690521        16.566664        19.631641   \n2022-12-31 09:00:00         6.661433        16.592959        19.552206   \n2022-12-31 10:00:00         4.087878        18.007574        19.941150   \n2022-12-31 11:00:00         3.082339        17.928687        20.125950   \n2022-12-31 12:00:00         2.253867        17.940120        20.289760   \n2022-12-31 13:00:00         1.868949        18.015958        20.528888   \n2022-12-31 14:00:00         2.137407        18.188211        20.764725   \n2022-12-31 15:00:00         2.001684        18.374565        20.972985   \n2022-12-31 16:00:00         1.689902        18.530813        21.218287   \n2022-12-31 17:00:00         1.136156        18.914954        21.425724   \n2022-12-31 18:00:00         0.956942        19.264797        21.661149   \n2022-12-31 19:00:00         0.601025        19.323104        21.847184   \n2022-12-31 20:00:00         0.979714        19.245361        22.052563   \n2022-12-31 21:00:00         2.067327        19.338348        22.260412   \n2022-12-31 22:00:00         1.554299        18.567779        22.101541   \n2022-12-31 23:00:00         2.206784        18.779285        22.243125   \n\n                     WTMP_42039_ERA5  WSPD_42002_ERA5  PRES_42039_ERA5  \n2022-12-30 23:00:00        24.392457         3.651173      1015.146367  \n2022-12-31 00:00:00        24.392457         1.420595      1015.755665  \n2022-12-31 01:00:00        24.392457         1.134690      1016.328747  \n2022-12-31 02:00:00        24.392457         1.613154      1016.790195  \n2022-12-31 03:00:00        24.392457         1.853178      1017.056071  \n2022-12-31 04:00:00        24.392457         2.384701      1017.194548  \n2022-12-31 05:00:00        24.392457         3.354966      1016.693048  \n2022-12-31 06:00:00        24.392457         4.305897      1016.111445  \n2022-12-31 07:00:00        24.392457         4.524105      1015.494477  \n2022-12-31 08:00:00        24.392457         4.233950      1015.054333  \n2022-12-31 09:00:00        24.392457         4.025557      1015.007038  \n2022-12-31 10:00:00        24.392457         2.932615      1015.372617  \n2022-12-31 11:00:00        24.392457         2.577727      1015.801682  \n2022-12-31 12:00:00        24.392457         2.801135      1016.457424  \n2022-12-31 13:00:00        24.392457         3.091739      1016.537954  \n2022-12-31 14:00:00        24.392457         3.032069      1017.260591  \n2022-12-31 15:00:00        24.392457         2.112608      1017.936358  \n2022-12-31 16:00:00        24.392457         0.927335      1018.299381  \n2022-12-31 17:00:00        24.392457         0.337422      1017.865203  \n2022-12-31 18:00:00        24.392457         0.622219      1017.238861  \n2022-12-31 19:00:00        24.392457         1.062895      1016.581840  \n2022-12-31 20:00:00        24.392457         1.330008      1016.363260  \n2022-12-31 21:00:00        24.392457         1.770915      1016.186435  \n2022-12-31 22:00:00        24.885927         2.483432      1017.067575  \n2022-12-31 23:00:00        24.885927         3.242142      1017.021132  \n\n[25 rows x 104 columns]",
      "text/html": "<div>\n<style scoped>\n    .dataframe tbody tr th:only-of-type {\n        vertical-align: middle;\n    }\n\n    .dataframe tbody tr th {\n        vertical-align: top;\n    }\n\n    .dataframe thead th {\n        text-align: right;\n    }\n</style>\n<table border=\"1\" class=\"dataframe\">\n  <thead>\n    <tr style=\"text-align: right;\">\n      <th></th>\n      <th>WDIR_42001</th>\n      <th>WSPD_42001</th>\n      <th>PRES_42001</th>\n      <th>ATMP_42001</th>\n      <th>WTMP_42001</th>\n      <th>DEWP_42001</th>\n      <th>WDIR_42002</th>\n      <th>WSPD_42002</th>\n      <th>PRES_42002</th>\n      <th>ATMP_42002</th>\n      <th>...</th>\n      <th>WDIR_42039_ERA5</th>\n      <th>WSPD_42039_ERA5</th>\n      <th>ATMP_42039_ERA5</th>\n      <th>WSPD_42035_ERA5</th>\n      <th>WSPD_42001_ERA5</th>\n      <th>DEWP_42020_ERA5</th>\n      <th>ATMP_42019_ERA5</th>\n      <th>WTMP_42039_ERA5</th>\n      <th>WSPD_42002_ERA5</th>\n      <th>PRES_42039_ERA5</th>\n    </tr>\n  </thead>\n  <tbody>\n    <tr>\n      <th>2022-12-30 23:00:00</th>\n      <td>185.0</td>\n      <td>5.9</td>\n      <td>1012.9</td>\n      <td>25.3</td>\n      <td>24.2</td>\n      <td>24.4</td>\n      <td>322.0</td>\n      <td>5.5</td>\n      <td>1011.7</td>\n      <td>24.7</td>\n      <td>...</td>\n      <td>113.871622</td>\n      <td>10.542640</td>\n      <td>23.935086</td>\n      <td>2.632245</td>\n      <td>5.301299</td>\n      <td>18.452689</td>\n      <td>19.872416</td>\n      <td>24.392457</td>\n      <td>3.651173</td>\n      <td>1015.146367</td>\n    </tr>\n    <tr>\n      <th>2022-12-31 00:00:00</th>\n      <td>189.0</td>\n      <td>5.0</td>\n      <td>1013.5</td>\n      <td>25.2</td>\n      <td>24.3</td>\n      <td>24.5</td>\n      <td>333.0</td>\n      <td>5.6</td>\n      <td>1012.3</td>\n      <td>24.6</td>\n      <td>...</td>\n      <td>108.235067</td>\n      <td>10.136320</td>\n      <td>24.123266</td>\n      <td>3.286975</td>\n      <td>5.057694</td>\n      <td>18.248043</td>\n      <td>20.009884</td>\n      <td>24.392457</td>\n      <td>1.420595</td>\n      <td>1015.755665</td>\n    </tr>\n    <tr>\n      <th>2022-12-31 01:00:00</th>\n      <td>203.0</td>\n      <td>5.6</td>\n      <td>1013.8</td>\n      <td>24.7</td>\n      <td>24.3</td>\n      <td>23.5</td>\n      <td>359.0</td>\n      <td>4.6</td>\n      <td>1012.9</td>\n      <td>24.6</td>\n      <td>...</td>\n      <td>97.574364</td>\n      <td>9.799587</td>\n      <td>24.028398</td>\n      <td>4.023334</td>\n      <td>5.587926</td>\n      <td>17.794162</td>\n      <td>20.081088</td>\n      <td>24.392457</td>\n      <td>1.134690</td>\n      <td>1016.328747</td>\n    </tr>\n    <tr>\n      <th>2022-12-31 02:00:00</th>\n      <td>169.0</td>\n      <td>2.3</td>\n      <td>1014.5</td>\n      <td>24.8</td>\n      <td>24.3</td>\n      <td>24.4</td>\n      <td>18.0</td>\n      <td>4.2</td>\n      <td>1013.5</td>\n      <td>24.7</td>\n      <td>...</td>\n      <td>84.710673</td>\n      <td>10.336202</td>\n      <td>22.973194</td>\n      <td>3.117344</td>\n      <td>5.840792</td>\n      <td>17.447368</td>\n      <td>20.151057</td>\n      <td>24.392457</td>\n      <td>1.613154</td>\n      <td>1016.790195</td>\n    </tr>\n    <tr>\n      <th>2022-12-31 03:00:00</th>\n      <td>53.0</td>\n      <td>6.0</td>\n      <td>1014.8</td>\n      <td>22.7</td>\n      <td>24.4</td>\n      <td>22.1</td>\n      <td>51.0</td>\n      <td>4.0</td>\n      <td>1014.1</td>\n      <td>24.5</td>\n      <td>...</td>\n      <td>70.760477</td>\n      <td>11.014376</td>\n      <td>23.074671</td>\n      <td>1.771335</td>\n      <td>6.463279</td>\n      <td>17.274733</td>\n      <td>20.047338</td>\n      <td>24.392457</td>\n      <td>1.853178</td>\n      <td>1017.056071</td>\n    </tr>\n    <tr>\n      <th>2022-12-31 04:00:00</th>\n      <td>55.0</td>\n      <td>8.5</td>\n      <td>1015.2</td>\n      <td>22.3</td>\n      <td>24.4</td>\n      <td>21.9</td>\n      <td>69.0</td>\n      <td>3.1</td>\n      <td>1014.4</td>\n      <td>24.3</td>\n      <td>...</td>\n      <td>61.682710</td>\n      <td>9.975791</td>\n      <td>23.811448</td>\n      <td>1.624550</td>\n      <td>6.500897</td>\n      <td>17.075041</td>\n      <td>19.827142</td>\n      <td>24.392457</td>\n      <td>2.384701</td>\n      <td>1017.194548</td>\n    </tr>\n    <tr>\n      <th>2022-12-31 05:00:00</th>\n      <td>72.0</td>\n      <td>7.6</td>\n      <td>1014.9</td>\n      <td>22.6</td>\n      <td>24.3</td>\n      <td>22.1</td>\n      <td>89.0</td>\n      <td>3.7</td>\n      <td>1014.4</td>\n      <td>24.3</td>\n      <td>...</td>\n      <td>65.365573</td>\n      <td>9.259451</td>\n      <td>24.030731</td>\n      <td>1.979889</td>\n      <td>6.541557</td>\n      <td>16.895165</td>\n      <td>19.694613</td>\n      <td>24.392457</td>\n      <td>3.354966</td>\n      <td>1016.693048</td>\n    </tr>\n    <tr>\n      <th>2022-12-31 06:00:00</th>\n      <td>77.0</td>\n      <td>7.2</td>\n      <td>1014.4</td>\n      <td>23.0</td>\n      <td>24.4</td>\n      <td>23.0</td>\n      <td>118.0</td>\n      <td>2.6</td>\n      <td>1014.5</td>\n      <td>24.4</td>\n      <td>...</td>\n      <td>77.495898</td>\n      <td>8.763196</td>\n      <td>24.011680</td>\n      <td>2.840376</td>\n      <td>6.465415</td>\n      <td>16.681753</td>\n      <td>19.667860</td>\n      <td>24.392457</td>\n      <td>4.305897</td>\n      <td>1016.111445</td>\n    </tr>\n    <tr>\n      <th>2022-12-31 07:00:00</th>\n      <td>97.0</td>\n      <td>7.8</td>\n      <td>1014.1</td>\n      <td>23.1</td>\n      <td>24.4</td>\n      <td>23.0</td>\n      <td>151.0</td>\n      <td>2.8</td>\n      <td>1014.6</td>\n      <td>24.5</td>\n      <td>...</td>\n      <td>81.234776</td>\n      <td>9.032894</td>\n      <td>24.101493</td>\n      <td>3.889530</td>\n      <td>6.487022</td>\n      <td>16.582288</td>\n      <td>19.685558</td>\n      <td>24.392457</td>\n      <td>4.524105</td>\n      <td>1015.494477</td>\n    </tr>\n    <tr>\n      <th>2022-12-31 08:00:00</th>\n      <td>148.0</td>\n      <td>3.3</td>\n      <td>1013.9</td>\n      <td>24.4</td>\n      <td>24.4</td>\n      <td>24.3</td>\n      <td>195.0</td>\n      <td>1.2</td>\n      <td>1014.8</td>\n      <td>24.6</td>\n      <td>...</td>\n      <td>77.326712</td>\n      <td>9.596466</td>\n      <td>24.324664</td>\n      <td>3.860175</td>\n      <td>6.690521</td>\n      <td>16.566664</td>\n      <td>19.631641</td>\n      <td>24.392457</td>\n      <td>4.233950</td>\n      <td>1015.054333</td>\n    </tr>\n    <tr>\n      <th>2022-12-31 09:00:00</th>\n      <td>195.0</td>\n      <td>5.4</td>\n      <td>1014.0</td>\n      <td>25.0</td>\n      <td>24.4</td>\n      <td>24.6</td>\n      <td>207.0</td>\n      <td>2.3</td>\n      <td>1014.4</td>\n      <td>24.5</td>\n      <td>...</td>\n      <td>68.590929</td>\n      <td>9.274966</td>\n      <td>24.482128</td>\n      <td>3.656089</td>\n      <td>6.661433</td>\n      <td>16.592959</td>\n      <td>19.552206</td>\n      <td>24.392457</td>\n      <td>4.025557</td>\n      <td>1015.007038</td>\n    </tr>\n    <tr>\n      <th>2022-12-31 10:00:00</th>\n      <td>223.0</td>\n      <td>5.1</td>\n      <td>1014.4</td>\n      <td>25.0</td>\n      <td>24.4</td>\n      <td>24.6</td>\n      <td>194.0</td>\n      <td>2.2</td>\n      <td>1014.4</td>\n      <td>24.6</td>\n      <td>...</td>\n      <td>36.958083</td>\n      <td>7.138695</td>\n      <td>23.919534</td>\n      <td>3.737391</td>\n      <td>4.087878</td>\n      <td>18.007574</td>\n      <td>19.941150</td>\n      <td>24.392457</td>\n      <td>2.932615</td>\n      <td>1015.372617</td>\n    </tr>\n    <tr>\n      <th>2022-12-31 11:00:00</th>\n      <td>18.0</td>\n      <td>3.3</td>\n      <td>1015.0</td>\n      <td>22.6</td>\n      <td>24.3</td>\n      <td>22.0</td>\n      <td>217.0</td>\n      <td>2.7</td>\n      <td>1014.9</td>\n      <td>24.6</td>\n      <td>...</td>\n      <td>42.923937</td>\n      <td>6.912922</td>\n      <td>23.877933</td>\n      <td>3.433366</td>\n      <td>3.082339</td>\n      <td>17.928687</td>\n      <td>20.125950</td>\n      <td>24.392457</td>\n      <td>2.577727</td>\n      <td>1015.801682</td>\n    </tr>\n    <tr>\n      <th>2022-12-31 12:00:00</th>\n      <td>115.0</td>\n      <td>2.1</td>\n      <td>1014.9</td>\n      <td>23.2</td>\n      <td>24.3</td>\n      <td>22.4</td>\n      <td>253.0</td>\n      <td>3.3</td>\n      <td>1015.4</td>\n      <td>24.6</td>\n      <td>...</td>\n      <td>57.340921</td>\n      <td>7.748116</td>\n      <td>23.225526</td>\n      <td>3.249472</td>\n      <td>2.253867</td>\n      <td>17.940120</td>\n      <td>20.289760</td>\n      <td>24.392457</td>\n      <td>2.801135</td>\n      <td>1016.457424</td>\n    </tr>\n    <tr>\n      <th>2022-12-31 13:00:00</th>\n      <td>31.0</td>\n      <td>0.9</td>\n      <td>1015.4</td>\n      <td>23.6</td>\n      <td>24.4</td>\n      <td>22.7</td>\n      <td>273.0</td>\n      <td>2.9</td>\n      <td>1016.0</td>\n      <td>24.6</td>\n      <td>...</td>\n      <td>67.428525</td>\n      <td>8.995343</td>\n      <td>23.788509</td>\n      <td>3.861368</td>\n      <td>1.868949</td>\n      <td>18.015958</td>\n      <td>20.528888</td>\n      <td>24.392457</td>\n      <td>3.091739</td>\n      <td>1016.537954</td>\n    </tr>\n    <tr>\n      <th>2022-12-31 14:00:00</th>\n      <td>97.0</td>\n      <td>0.8</td>\n      <td>1015.9</td>\n      <td>24.5</td>\n      <td>24.4</td>\n      <td>23.0</td>\n      <td>322.0</td>\n      <td>4.7</td>\n      <td>1016.6</td>\n      <td>24.5</td>\n      <td>...</td>\n      <td>63.862272</td>\n      <td>9.735934</td>\n      <td>24.198304</td>\n      <td>4.578226</td>\n      <td>2.137407</td>\n      <td>18.188211</td>\n      <td>20.764725</td>\n      <td>24.392457</td>\n      <td>3.032069</td>\n      <td>1017.260591</td>\n    </tr>\n    <tr>\n      <th>2022-12-31 15:00:00</th>\n      <td>113.0</td>\n      <td>1.9</td>\n      <td>1016.6</td>\n      <td>24.4</td>\n      <td>24.3</td>\n      <td>23.6</td>\n      <td>322.0</td>\n      <td>3.2</td>\n      <td>1017.2</td>\n      <td>24.6</td>\n      <td>...</td>\n      <td>59.982563</td>\n      <td>8.944310</td>\n      <td>24.267899</td>\n      <td>4.467306</td>\n      <td>2.001684</td>\n      <td>18.374565</td>\n      <td>20.972985</td>\n      <td>24.392457</td>\n      <td>2.112608</td>\n      <td>1017.936358</td>\n    </tr>\n    <tr>\n      <th>2022-12-31 16:00:00</th>\n      <td>124.0</td>\n      <td>0.8</td>\n      <td>1017.1</td>\n      <td>24.6</td>\n      <td>24.4</td>\n      <td>23.8</td>\n      <td>316.0</td>\n      <td>1.3</td>\n      <td>1017.8</td>\n      <td>24.7</td>\n      <td>...</td>\n      <td>54.021722</td>\n      <td>8.184192</td>\n      <td>22.985636</td>\n      <td>4.666860</td>\n      <td>1.689902</td>\n      <td>18.530813</td>\n      <td>21.218287</td>\n      <td>24.392457</td>\n      <td>0.927335</td>\n      <td>1018.299381</td>\n    </tr>\n    <tr>\n      <th>2022-12-31 17:00:00</th>\n      <td>107.0</td>\n      <td>1.1</td>\n      <td>1016.6</td>\n      <td>24.9</td>\n      <td>24.4</td>\n      <td>23.9</td>\n      <td>104.0</td>\n      <td>0.0</td>\n      <td>1017.7</td>\n      <td>25.8</td>\n      <td>...</td>\n      <td>42.613490</td>\n      <td>8.048871</td>\n      <td>22.726306</td>\n      <td>3.951884</td>\n      <td>1.136156</td>\n      <td>18.914954</td>\n      <td>21.425724</td>\n      <td>24.392457</td>\n      <td>0.337422</td>\n      <td>1017.865203</td>\n    </tr>\n    <tr>\n      <th>2022-12-31 18:00:00</th>\n      <td>147.0</td>\n      <td>1.1</td>\n      <td>1015.9</td>\n      <td>25.1</td>\n      <td>24.5</td>\n      <td>24.3</td>\n      <td>42.0</td>\n      <td>0.5</td>\n      <td>1016.8</td>\n      <td>25.5</td>\n      <td>...</td>\n      <td>33.224639</td>\n      <td>8.420749</td>\n      <td>22.645825</td>\n      <td>3.044037</td>\n      <td>0.956942</td>\n      <td>19.264797</td>\n      <td>21.661149</td>\n      <td>24.392457</td>\n      <td>0.622219</td>\n      <td>1017.238861</td>\n    </tr>\n    <tr>\n      <th>2022-12-31 19:00:00</th>\n      <td>195.0</td>\n      <td>0.5</td>\n      <td>1015.0</td>\n      <td>25.6</td>\n      <td>24.7</td>\n      <td>24.5</td>\n      <td>22.0</td>\n      <td>0.6</td>\n      <td>1015.9</td>\n      <td>25.1</td>\n      <td>...</td>\n      <td>28.180851</td>\n      <td>8.602918</td>\n      <td>22.730194</td>\n      <td>2.533178</td>\n      <td>0.601025</td>\n      <td>19.323104</td>\n      <td>21.847184</td>\n      <td>24.392457</td>\n      <td>1.062895</td>\n      <td>1016.581840</td>\n    </tr>\n    <tr>\n      <th>2022-12-31 20:00:00</th>\n      <td>210.0</td>\n      <td>1.0</td>\n      <td>1015.0</td>\n      <td>25.3</td>\n      <td>24.5</td>\n      <td>24.3</td>\n      <td>88.0</td>\n      <td>1.2</td>\n      <td>1015.4</td>\n      <td>24.7</td>\n      <td>...</td>\n      <td>22.969408</td>\n      <td>7.734290</td>\n      <td>22.564177</td>\n      <td>2.669909</td>\n      <td>0.979714</td>\n      <td>19.245361</td>\n      <td>22.052563</td>\n      <td>24.392457</td>\n      <td>1.330008</td>\n      <td>1016.363260</td>\n    </tr>\n    <tr>\n      <th>2022-12-31 21:00:00</th>\n      <td>231.0</td>\n      <td>0.6</td>\n      <td>1014.7</td>\n      <td>26.4</td>\n      <td>24.7</td>\n      <td>24.4</td>\n      <td>87.0</td>\n      <td>1.7</td>\n      <td>1014.9</td>\n      <td>24.6</td>\n      <td>...</td>\n      <td>14.655430</td>\n      <td>6.485218</td>\n      <td>22.377552</td>\n      <td>3.147255</td>\n      <td>2.067327</td>\n      <td>19.338348</td>\n      <td>22.260412</td>\n      <td>24.392457</td>\n      <td>1.770915</td>\n      <td>1016.186435</td>\n    </tr>\n    <tr>\n      <th>2022-12-31 22:00:00</th>\n      <td>18.0</td>\n      <td>0.7</td>\n      <td>1014.9</td>\n      <td>25.4</td>\n      <td>24.7</td>\n      <td>24.1</td>\n      <td>90.0</td>\n      <td>2.5</td>\n      <td>1014.9</td>\n      <td>24.5</td>\n      <td>...</td>\n      <td>20.371840</td>\n      <td>3.294807</td>\n      <td>24.068445</td>\n      <td>3.469271</td>\n      <td>1.554299</td>\n      <td>18.567779</td>\n      <td>22.101541</td>\n      <td>24.885927</td>\n      <td>2.483432</td>\n      <td>1017.067575</td>\n    </tr>\n    <tr>\n      <th>2022-12-31 23:00:00</th>\n      <td>68.0</td>\n      <td>1.6</td>\n      <td>1015.0</td>\n      <td>25.0</td>\n      <td>24.5</td>\n      <td>24.3</td>\n      <td>116.0</td>\n      <td>3.7</td>\n      <td>1015.0</td>\n      <td>24.5</td>\n      <td>...</td>\n      <td>21.918165</td>\n      <td>2.229422</td>\n      <td>23.926533</td>\n      <td>3.938095</td>\n      <td>2.206784</td>\n      <td>18.779285</td>\n      <td>22.243125</td>\n      <td>24.885927</td>\n      <td>3.242142</td>\n      <td>1017.021132</td>\n    </tr>\n  </tbody>\n</table>\n<p>25 rows × 104 columns</p>\n</div>"
     },
     "execution_count": 20,
     "metadata": {},
     "output_type": "execute_result"
    }
   ],
   "source": [
    "evaluation_1 = data.tail(len(yhat)+1).copy()  #+1 since i need that value for de-differencing\n",
    "evaluation_1"
   ]
  },
  {
   "cell_type": "code",
   "execution_count": null,
   "outputs": [],
   "source": [],
   "metadata": {
    "collapsed": false,
    "pycharm": {
     "name": "#%%\n"
    }
   }
  },
  {
   "cell_type": "code",
   "execution_count": 21,
   "metadata": {
    "pycharm": {
     "name": "#%%\n"
    }
   },
   "outputs": [
    {
     "name": "stderr",
     "output_type": "stream",
     "text": [
      "/var/folders/ys/lj6w647n5qjdv23zdxs_fn740000gn/T/ipykernel_93188/4009267436.py:2: PerformanceWarning: DataFrame is highly fragmented.  This is usually the result of calling `frame.insert` many times, which has poor performance.  Consider joining all columns at once using pd.concat(axis=1) instead. To get a de-fragmented frame, use `newframe = frame.copy()`\n",
      "  evaluation_1[f\"{col}_pred\"]= evaluation_1[col].shift(STATIONARY_SHIFT) + yhat_unscaled_df[f\"{col}_pred\"]\n",
      "/var/folders/ys/lj6w647n5qjdv23zdxs_fn740000gn/T/ipykernel_93188/4009267436.py:2: PerformanceWarning: DataFrame is highly fragmented.  This is usually the result of calling `frame.insert` many times, which has poor performance.  Consider joining all columns at once using pd.concat(axis=1) instead. To get a de-fragmented frame, use `newframe = frame.copy()`\n",
      "  evaluation_1[f\"{col}_pred\"]= evaluation_1[col].shift(STATIONARY_SHIFT) + yhat_unscaled_df[f\"{col}_pred\"]\n",
      "/var/folders/ys/lj6w647n5qjdv23zdxs_fn740000gn/T/ipykernel_93188/4009267436.py:2: PerformanceWarning: DataFrame is highly fragmented.  This is usually the result of calling `frame.insert` many times, which has poor performance.  Consider joining all columns at once using pd.concat(axis=1) instead. To get a de-fragmented frame, use `newframe = frame.copy()`\n",
      "  evaluation_1[f\"{col}_pred\"]= evaluation_1[col].shift(STATIONARY_SHIFT) + yhat_unscaled_df[f\"{col}_pred\"]\n",
      "/var/folders/ys/lj6w647n5qjdv23zdxs_fn740000gn/T/ipykernel_93188/4009267436.py:2: PerformanceWarning: DataFrame is highly fragmented.  This is usually the result of calling `frame.insert` many times, which has poor performance.  Consider joining all columns at once using pd.concat(axis=1) instead. To get a de-fragmented frame, use `newframe = frame.copy()`\n",
      "  evaluation_1[f\"{col}_pred\"]= evaluation_1[col].shift(STATIONARY_SHIFT) + yhat_unscaled_df[f\"{col}_pred\"]\n",
      "/var/folders/ys/lj6w647n5qjdv23zdxs_fn740000gn/T/ipykernel_93188/4009267436.py:2: PerformanceWarning: DataFrame is highly fragmented.  This is usually the result of calling `frame.insert` many times, which has poor performance.  Consider joining all columns at once using pd.concat(axis=1) instead. To get a de-fragmented frame, use `newframe = frame.copy()`\n",
      "  evaluation_1[f\"{col}_pred\"]= evaluation_1[col].shift(STATIONARY_SHIFT) + yhat_unscaled_df[f\"{col}_pred\"]\n"
     ]
    },
    {
     "data": {
      "text/plain": "                     WDIR_42001  WSPD_42001  PRES_42001  ATMP_42001  \\\n2022-12-31 00:00:00       189.0         5.0      1013.5        25.2   \n2022-12-31 01:00:00       203.0         5.6      1013.8        24.7   \n2022-12-31 02:00:00       169.0         2.3      1014.5        24.8   \n2022-12-31 03:00:00        53.0         6.0      1014.8        22.7   \n2022-12-31 04:00:00        55.0         8.5      1015.2        22.3   \n2022-12-31 05:00:00        72.0         7.6      1014.9        22.6   \n2022-12-31 06:00:00        77.0         7.2      1014.4        23.0   \n2022-12-31 07:00:00        97.0         7.8      1014.1        23.1   \n2022-12-31 08:00:00       148.0         3.3      1013.9        24.4   \n2022-12-31 09:00:00       195.0         5.4      1014.0        25.0   \n2022-12-31 10:00:00       223.0         5.1      1014.4        25.0   \n2022-12-31 11:00:00        18.0         3.3      1015.0        22.6   \n2022-12-31 12:00:00       115.0         2.1      1014.9        23.2   \n2022-12-31 13:00:00        31.0         0.9      1015.4        23.6   \n2022-12-31 14:00:00        97.0         0.8      1015.9        24.5   \n2022-12-31 15:00:00       113.0         1.9      1016.6        24.4   \n2022-12-31 16:00:00       124.0         0.8      1017.1        24.6   \n2022-12-31 17:00:00       107.0         1.1      1016.6        24.9   \n2022-12-31 18:00:00       147.0         1.1      1015.9        25.1   \n2022-12-31 19:00:00       195.0         0.5      1015.0        25.6   \n2022-12-31 20:00:00       210.0         1.0      1015.0        25.3   \n2022-12-31 21:00:00       231.0         0.6      1014.7        26.4   \n2022-12-31 22:00:00        18.0         0.7      1014.9        25.4   \n2022-12-31 23:00:00        68.0         1.6      1015.0        25.0   \n\n                     WTMP_42001  DEWP_42001  WDIR_42002  WSPD_42002  \\\n2022-12-31 00:00:00        24.3        24.5       333.0         5.6   \n2022-12-31 01:00:00        24.3        23.5       359.0         4.6   \n2022-12-31 02:00:00        24.3        24.4        18.0         4.2   \n2022-12-31 03:00:00        24.4        22.1        51.0         4.0   \n2022-12-31 04:00:00        24.4        21.9        69.0         3.1   \n2022-12-31 05:00:00        24.3        22.1        89.0         3.7   \n2022-12-31 06:00:00        24.4        23.0       118.0         2.6   \n2022-12-31 07:00:00        24.4        23.0       151.0         2.8   \n2022-12-31 08:00:00        24.4        24.3       195.0         1.2   \n2022-12-31 09:00:00        24.4        24.6       207.0         2.3   \n2022-12-31 10:00:00        24.4        24.6       194.0         2.2   \n2022-12-31 11:00:00        24.3        22.0       217.0         2.7   \n2022-12-31 12:00:00        24.3        22.4       253.0         3.3   \n2022-12-31 13:00:00        24.4        22.7       273.0         2.9   \n2022-12-31 14:00:00        24.4        23.0       322.0         4.7   \n2022-12-31 15:00:00        24.3        23.6       322.0         3.2   \n2022-12-31 16:00:00        24.4        23.8       316.0         1.3   \n2022-12-31 17:00:00        24.4        23.9       104.0         0.0   \n2022-12-31 18:00:00        24.5        24.3        42.0         0.5   \n2022-12-31 19:00:00        24.7        24.5        22.0         0.6   \n2022-12-31 20:00:00        24.5        24.3        88.0         1.2   \n2022-12-31 21:00:00        24.7        24.4        87.0         1.7   \n2022-12-31 22:00:00        24.7        24.1        90.0         2.5   \n2022-12-31 23:00:00        24.5        24.3       116.0         3.7   \n\n                     PRES_42002  ATMP_42002  ...  WDIR_42039_ERA5_pred  \\\n2022-12-31 00:00:00      1012.3        24.6  ...            130.693571   \n2022-12-31 01:00:00      1012.9        24.6  ...            127.657388   \n2022-12-31 02:00:00      1013.5        24.7  ...            107.981504   \n2022-12-31 03:00:00      1014.1        24.5  ...             86.065152   \n2022-12-31 04:00:00      1014.4        24.3  ...            428.487527   \n2022-12-31 05:00:00      1014.4        24.3  ...            412.272859   \n2022-12-31 06:00:00      1014.5        24.4  ...            420.795017   \n2022-12-31 07:00:00      1014.6        24.5  ...             77.600732   \n2022-12-31 08:00:00      1014.8        24.6  ...            438.427770   \n2022-12-31 09:00:00      1014.4        24.5  ...            435.890860   \n2022-12-31 10:00:00      1014.4        24.6  ...             70.437392   \n2022-12-31 11:00:00      1014.9        24.6  ...             41.876362   \n2022-12-31 12:00:00      1015.4        24.6  ...             43.229510   \n2022-12-31 13:00:00      1016.0        24.6  ...            416.520731   \n2022-12-31 14:00:00      1016.6        24.5  ...             68.400430   \n2022-12-31 15:00:00      1017.2        24.6  ...             65.865638   \n2022-12-31 16:00:00      1017.8        24.7  ...            417.984943   \n2022-12-31 17:00:00      1017.7        25.8  ...            411.841363   \n2022-12-31 18:00:00      1016.8        25.5  ...             43.822761   \n2022-12-31 19:00:00      1015.9        25.1  ...             35.331799   \n2022-12-31 20:00:00      1015.4        24.7  ...             33.740940   \n2022-12-31 21:00:00      1014.9        24.6  ...            378.306108   \n2022-12-31 22:00:00      1014.9        24.5  ...            373.932805   \n2022-12-31 23:00:00      1015.0        24.5  ...            379.680220   \n\n                     WSPD_42039_ERA5_pred  ATMP_42039_ERA5_pred  \\\n2022-12-31 00:00:00             10.578786             23.904074   \n2022-12-31 01:00:00             10.135219             24.096799   \n2022-12-31 02:00:00              9.741758             23.954411   \n2022-12-31 03:00:00             10.332212             22.921299   \n2022-12-31 04:00:00             11.030661             23.053869   \n2022-12-31 05:00:00              9.974742             23.824115   \n2022-12-31 06:00:00              9.278046             24.013292   \n2022-12-31 07:00:00              8.699344             24.031973   \n2022-12-31 08:00:00              9.024888             24.106706   \n2022-12-31 09:00:00              9.591615             24.326784   \n2022-12-31 10:00:00              9.266971             24.483882   \n2022-12-31 11:00:00              7.104800             23.926180   \n2022-12-31 12:00:00              6.858887             23.894694   \n2022-12-31 13:00:00              7.758023             23.204705   \n2022-12-31 14:00:00              8.991870             23.792375   \n2022-12-31 15:00:00              9.739296             24.200955   \n2022-12-31 16:00:00              8.943498             24.267937   \n2022-12-31 17:00:00              8.179465             22.984720   \n2022-12-31 18:00:00              8.047924             22.725292   \n2022-12-31 19:00:00              8.420646             22.644469   \n2022-12-31 20:00:00              8.605017             22.728002   \n2022-12-31 21:00:00              7.746672             22.540305   \n2022-12-31 22:00:00              6.481939             22.370132   \n2022-12-31 23:00:00              3.287809             24.069617   \n\n                     WSPD_42035_ERA5_pred  WSPD_42001_ERA5_pred  \\\n2022-12-31 00:00:00              2.629691              5.309321   \n2022-12-31 01:00:00              3.221046              5.049966   \n2022-12-31 02:00:00              4.033839              5.494162   \n2022-12-31 03:00:00              3.068918              5.840723   \n2022-12-31 04:00:00              1.742300              6.459502   \n2022-12-31 05:00:00              1.598469              6.468039   \n2022-12-31 06:00:00              1.971927              6.464920   \n2022-12-31 07:00:00              2.773805              6.463436   \n2022-12-31 08:00:00              3.912788              6.489660   \n2022-12-31 09:00:00              3.845009              6.689007   \n2022-12-31 10:00:00              3.670461              6.677473   \n2022-12-31 11:00:00              3.806671              4.137478   \n2022-12-31 12:00:00              3.485076              3.126754   \n2022-12-31 13:00:00              3.278493              2.256634   \n2022-12-31 14:00:00              3.878463              1.868689   \n2022-12-31 15:00:00              4.600152              2.142677   \n2022-12-31 16:00:00              4.441231              1.996646   \n2022-12-31 17:00:00              4.652906              1.691243   \n2022-12-31 18:00:00              3.948578              1.141554   \n2022-12-31 19:00:00              3.053152              0.966395   \n2022-12-31 20:00:00              2.526843              0.622521   \n2022-12-31 21:00:00              2.672840              1.018030   \n2022-12-31 22:00:00              3.160121              2.077114   \n2022-12-31 23:00:00              3.482519              1.562157   \n\n                     DEWP_42020_ERA5_pred  ATMP_42019_ERA5_pred  \\\n2022-12-31 00:00:00             18.429003             19.864203   \n2022-12-31 01:00:00             18.229040             19.961484   \n2022-12-31 02:00:00             17.664652             19.896495   \n2022-12-31 03:00:00             17.379228             20.087536   \n2022-12-31 04:00:00             17.298540             20.068829   \n2022-12-31 05:00:00             17.013382             19.712524   \n2022-12-31 06:00:00             16.736949             19.477226   \n2022-12-31 07:00:00             16.603402             19.576773   \n2022-12-31 08:00:00             16.560904             19.664711   \n2022-12-31 09:00:00             16.587030             19.643940   \n2022-12-31 10:00:00             16.552500             19.526684   \n2022-12-31 11:00:00             17.885843             19.854543   \n2022-12-31 12:00:00             17.851316             20.080876   \n2022-12-31 13:00:00             17.925084             20.271652   \n2022-12-31 14:00:00             18.000813             20.512251   \n2022-12-31 15:00:00             18.165389             20.750180   \n2022-12-31 16:00:00             18.408272             20.995142   \n2022-12-31 17:00:00             18.545894             21.225326   \n2022-12-31 18:00:00             18.909604             21.419642   \n2022-12-31 19:00:00             19.248257             21.649691   \n2022-12-31 20:00:00             19.294151             21.836701   \n2022-12-31 21:00:00             19.204815             22.033164   \n2022-12-31 22:00:00             19.313397             22.237799   \n2022-12-31 23:00:00             18.548164             22.083769   \n\n                     WTMP_42039_ERA5_pred  WSPD_42002_ERA5_pred  \\\n2022-12-31 00:00:00             24.389866              3.648452   \n2022-12-31 01:00:00             24.389396              1.365152   \n2022-12-31 02:00:00             24.385888              0.982521   \n2022-12-31 03:00:00             24.388686              1.605773   \n2022-12-31 04:00:00             24.390194              1.857321   \n2022-12-31 05:00:00             24.386953              2.300635   \n2022-12-31 06:00:00             24.386960              3.210421   \n2022-12-31 07:00:00             24.392289              4.318198   \n2022-12-31 08:00:00             24.390319              4.525023   \n2022-12-31 09:00:00             24.389920              4.229266   \n2022-12-31 10:00:00             24.390779              4.048328   \n2022-12-31 11:00:00             24.390506              2.960025   \n2022-12-31 12:00:00             24.388936              2.599782   \n2022-12-31 13:00:00             24.388447              2.791096   \n2022-12-31 14:00:00             24.390754              3.096175   \n2022-12-31 15:00:00             24.391202              3.048518   \n2022-12-31 16:00:00             24.389594              2.098959   \n2022-12-31 17:00:00             24.389815              0.921441   \n2022-12-31 18:00:00             24.390418              0.338087   \n2022-12-31 19:00:00             24.390271              0.631639   \n2022-12-31 20:00:00             24.391186              1.091415   \n2022-12-31 21:00:00             24.391115              1.337534   \n2022-12-31 22:00:00             24.389988              1.764799   \n2022-12-31 23:00:00             24.883582              2.489167   \n\n                     PRES_42039_ERA5_pred  \n2022-12-31 00:00:00           1015.187167  \n2022-12-31 01:00:00           1015.823906  \n2022-12-31 02:00:00           1016.455605  \n2022-12-31 03:00:00           1016.828729  \n2022-12-31 04:00:00           1017.062122  \n2022-12-31 05:00:00           1017.227937  \n2022-12-31 06:00:00           1016.784622  \n2022-12-31 07:00:00           1016.162059  \n2022-12-31 08:00:00           1015.497106  \n2022-12-31 09:00:00           1015.041943  \n2022-12-31 10:00:00           1015.034682  \n2022-12-31 11:00:00           1015.405569  \n2022-12-31 12:00:00           1015.789663  \n2022-12-31 13:00:00           1016.464717  \n2022-12-31 14:00:00           1016.544750  \n2022-12-31 15:00:00           1017.274003  \n2022-12-31 16:00:00           1017.919237  \n2022-12-31 17:00:00           1018.291602  \n2022-12-31 18:00:00           1017.865488  \n2022-12-31 19:00:00           1017.248102  \n2022-12-31 20:00:00           1016.593067  \n2022-12-31 21:00:00           1016.395127  \n2022-12-31 22:00:00           1016.187834  \n2022-12-31 23:00:00           1017.066559  \n\n[24 rows x 208 columns]",
      "text/html": "<div>\n<style scoped>\n    .dataframe tbody tr th:only-of-type {\n        vertical-align: middle;\n    }\n\n    .dataframe tbody tr th {\n        vertical-align: top;\n    }\n\n    .dataframe thead th {\n        text-align: right;\n    }\n</style>\n<table border=\"1\" class=\"dataframe\">\n  <thead>\n    <tr style=\"text-align: right;\">\n      <th></th>\n      <th>WDIR_42001</th>\n      <th>WSPD_42001</th>\n      <th>PRES_42001</th>\n      <th>ATMP_42001</th>\n      <th>WTMP_42001</th>\n      <th>DEWP_42001</th>\n      <th>WDIR_42002</th>\n      <th>WSPD_42002</th>\n      <th>PRES_42002</th>\n      <th>ATMP_42002</th>\n      <th>...</th>\n      <th>WDIR_42039_ERA5_pred</th>\n      <th>WSPD_42039_ERA5_pred</th>\n      <th>ATMP_42039_ERA5_pred</th>\n      <th>WSPD_42035_ERA5_pred</th>\n      <th>WSPD_42001_ERA5_pred</th>\n      <th>DEWP_42020_ERA5_pred</th>\n      <th>ATMP_42019_ERA5_pred</th>\n      <th>WTMP_42039_ERA5_pred</th>\n      <th>WSPD_42002_ERA5_pred</th>\n      <th>PRES_42039_ERA5_pred</th>\n    </tr>\n  </thead>\n  <tbody>\n    <tr>\n      <th>2022-12-31 00:00:00</th>\n      <td>189.0</td>\n      <td>5.0</td>\n      <td>1013.5</td>\n      <td>25.2</td>\n      <td>24.3</td>\n      <td>24.5</td>\n      <td>333.0</td>\n      <td>5.6</td>\n      <td>1012.3</td>\n      <td>24.6</td>\n      <td>...</td>\n      <td>130.693571</td>\n      <td>10.578786</td>\n      <td>23.904074</td>\n      <td>2.629691</td>\n      <td>5.309321</td>\n      <td>18.429003</td>\n      <td>19.864203</td>\n      <td>24.389866</td>\n      <td>3.648452</td>\n      <td>1015.187167</td>\n    </tr>\n    <tr>\n      <th>2022-12-31 01:00:00</th>\n      <td>203.0</td>\n      <td>5.6</td>\n      <td>1013.8</td>\n      <td>24.7</td>\n      <td>24.3</td>\n      <td>23.5</td>\n      <td>359.0</td>\n      <td>4.6</td>\n      <td>1012.9</td>\n      <td>24.6</td>\n      <td>...</td>\n      <td>127.657388</td>\n      <td>10.135219</td>\n      <td>24.096799</td>\n      <td>3.221046</td>\n      <td>5.049966</td>\n      <td>18.229040</td>\n      <td>19.961484</td>\n      <td>24.389396</td>\n      <td>1.365152</td>\n      <td>1015.823906</td>\n    </tr>\n    <tr>\n      <th>2022-12-31 02:00:00</th>\n      <td>169.0</td>\n      <td>2.3</td>\n      <td>1014.5</td>\n      <td>24.8</td>\n      <td>24.3</td>\n      <td>24.4</td>\n      <td>18.0</td>\n      <td>4.2</td>\n      <td>1013.5</td>\n      <td>24.7</td>\n      <td>...</td>\n      <td>107.981504</td>\n      <td>9.741758</td>\n      <td>23.954411</td>\n      <td>4.033839</td>\n      <td>5.494162</td>\n      <td>17.664652</td>\n      <td>19.896495</td>\n      <td>24.385888</td>\n      <td>0.982521</td>\n      <td>1016.455605</td>\n    </tr>\n    <tr>\n      <th>2022-12-31 03:00:00</th>\n      <td>53.0</td>\n      <td>6.0</td>\n      <td>1014.8</td>\n      <td>22.7</td>\n      <td>24.4</td>\n      <td>22.1</td>\n      <td>51.0</td>\n      <td>4.0</td>\n      <td>1014.1</td>\n      <td>24.5</td>\n      <td>...</td>\n      <td>86.065152</td>\n      <td>10.332212</td>\n      <td>22.921299</td>\n      <td>3.068918</td>\n      <td>5.840723</td>\n      <td>17.379228</td>\n      <td>20.087536</td>\n      <td>24.388686</td>\n      <td>1.605773</td>\n      <td>1016.828729</td>\n    </tr>\n    <tr>\n      <th>2022-12-31 04:00:00</th>\n      <td>55.0</td>\n      <td>8.5</td>\n      <td>1015.2</td>\n      <td>22.3</td>\n      <td>24.4</td>\n      <td>21.9</td>\n      <td>69.0</td>\n      <td>3.1</td>\n      <td>1014.4</td>\n      <td>24.3</td>\n      <td>...</td>\n      <td>428.487527</td>\n      <td>11.030661</td>\n      <td>23.053869</td>\n      <td>1.742300</td>\n      <td>6.459502</td>\n      <td>17.298540</td>\n      <td>20.068829</td>\n      <td>24.390194</td>\n      <td>1.857321</td>\n      <td>1017.062122</td>\n    </tr>\n    <tr>\n      <th>2022-12-31 05:00:00</th>\n      <td>72.0</td>\n      <td>7.6</td>\n      <td>1014.9</td>\n      <td>22.6</td>\n      <td>24.3</td>\n      <td>22.1</td>\n      <td>89.0</td>\n      <td>3.7</td>\n      <td>1014.4</td>\n      <td>24.3</td>\n      <td>...</td>\n      <td>412.272859</td>\n      <td>9.974742</td>\n      <td>23.824115</td>\n      <td>1.598469</td>\n      <td>6.468039</td>\n      <td>17.013382</td>\n      <td>19.712524</td>\n      <td>24.386953</td>\n      <td>2.300635</td>\n      <td>1017.227937</td>\n    </tr>\n    <tr>\n      <th>2022-12-31 06:00:00</th>\n      <td>77.0</td>\n      <td>7.2</td>\n      <td>1014.4</td>\n      <td>23.0</td>\n      <td>24.4</td>\n      <td>23.0</td>\n      <td>118.0</td>\n      <td>2.6</td>\n      <td>1014.5</td>\n      <td>24.4</td>\n      <td>...</td>\n      <td>420.795017</td>\n      <td>9.278046</td>\n      <td>24.013292</td>\n      <td>1.971927</td>\n      <td>6.464920</td>\n      <td>16.736949</td>\n      <td>19.477226</td>\n      <td>24.386960</td>\n      <td>3.210421</td>\n      <td>1016.784622</td>\n    </tr>\n    <tr>\n      <th>2022-12-31 07:00:00</th>\n      <td>97.0</td>\n      <td>7.8</td>\n      <td>1014.1</td>\n      <td>23.1</td>\n      <td>24.4</td>\n      <td>23.0</td>\n      <td>151.0</td>\n      <td>2.8</td>\n      <td>1014.6</td>\n      <td>24.5</td>\n      <td>...</td>\n      <td>77.600732</td>\n      <td>8.699344</td>\n      <td>24.031973</td>\n      <td>2.773805</td>\n      <td>6.463436</td>\n      <td>16.603402</td>\n      <td>19.576773</td>\n      <td>24.392289</td>\n      <td>4.318198</td>\n      <td>1016.162059</td>\n    </tr>\n    <tr>\n      <th>2022-12-31 08:00:00</th>\n      <td>148.0</td>\n      <td>3.3</td>\n      <td>1013.9</td>\n      <td>24.4</td>\n      <td>24.4</td>\n      <td>24.3</td>\n      <td>195.0</td>\n      <td>1.2</td>\n      <td>1014.8</td>\n      <td>24.6</td>\n      <td>...</td>\n      <td>438.427770</td>\n      <td>9.024888</td>\n      <td>24.106706</td>\n      <td>3.912788</td>\n      <td>6.489660</td>\n      <td>16.560904</td>\n      <td>19.664711</td>\n      <td>24.390319</td>\n      <td>4.525023</td>\n      <td>1015.497106</td>\n    </tr>\n    <tr>\n      <th>2022-12-31 09:00:00</th>\n      <td>195.0</td>\n      <td>5.4</td>\n      <td>1014.0</td>\n      <td>25.0</td>\n      <td>24.4</td>\n      <td>24.6</td>\n      <td>207.0</td>\n      <td>2.3</td>\n      <td>1014.4</td>\n      <td>24.5</td>\n      <td>...</td>\n      <td>435.890860</td>\n      <td>9.591615</td>\n      <td>24.326784</td>\n      <td>3.845009</td>\n      <td>6.689007</td>\n      <td>16.587030</td>\n      <td>19.643940</td>\n      <td>24.389920</td>\n      <td>4.229266</td>\n      <td>1015.041943</td>\n    </tr>\n    <tr>\n      <th>2022-12-31 10:00:00</th>\n      <td>223.0</td>\n      <td>5.1</td>\n      <td>1014.4</td>\n      <td>25.0</td>\n      <td>24.4</td>\n      <td>24.6</td>\n      <td>194.0</td>\n      <td>2.2</td>\n      <td>1014.4</td>\n      <td>24.6</td>\n      <td>...</td>\n      <td>70.437392</td>\n      <td>9.266971</td>\n      <td>24.483882</td>\n      <td>3.670461</td>\n      <td>6.677473</td>\n      <td>16.552500</td>\n      <td>19.526684</td>\n      <td>24.390779</td>\n      <td>4.048328</td>\n      <td>1015.034682</td>\n    </tr>\n    <tr>\n      <th>2022-12-31 11:00:00</th>\n      <td>18.0</td>\n      <td>3.3</td>\n      <td>1015.0</td>\n      <td>22.6</td>\n      <td>24.3</td>\n      <td>22.0</td>\n      <td>217.0</td>\n      <td>2.7</td>\n      <td>1014.9</td>\n      <td>24.6</td>\n      <td>...</td>\n      <td>41.876362</td>\n      <td>7.104800</td>\n      <td>23.926180</td>\n      <td>3.806671</td>\n      <td>4.137478</td>\n      <td>17.885843</td>\n      <td>19.854543</td>\n      <td>24.390506</td>\n      <td>2.960025</td>\n      <td>1015.405569</td>\n    </tr>\n    <tr>\n      <th>2022-12-31 12:00:00</th>\n      <td>115.0</td>\n      <td>2.1</td>\n      <td>1014.9</td>\n      <td>23.2</td>\n      <td>24.3</td>\n      <td>22.4</td>\n      <td>253.0</td>\n      <td>3.3</td>\n      <td>1015.4</td>\n      <td>24.6</td>\n      <td>...</td>\n      <td>43.229510</td>\n      <td>6.858887</td>\n      <td>23.894694</td>\n      <td>3.485076</td>\n      <td>3.126754</td>\n      <td>17.851316</td>\n      <td>20.080876</td>\n      <td>24.388936</td>\n      <td>2.599782</td>\n      <td>1015.789663</td>\n    </tr>\n    <tr>\n      <th>2022-12-31 13:00:00</th>\n      <td>31.0</td>\n      <td>0.9</td>\n      <td>1015.4</td>\n      <td>23.6</td>\n      <td>24.4</td>\n      <td>22.7</td>\n      <td>273.0</td>\n      <td>2.9</td>\n      <td>1016.0</td>\n      <td>24.6</td>\n      <td>...</td>\n      <td>416.520731</td>\n      <td>7.758023</td>\n      <td>23.204705</td>\n      <td>3.278493</td>\n      <td>2.256634</td>\n      <td>17.925084</td>\n      <td>20.271652</td>\n      <td>24.388447</td>\n      <td>2.791096</td>\n      <td>1016.464717</td>\n    </tr>\n    <tr>\n      <th>2022-12-31 14:00:00</th>\n      <td>97.0</td>\n      <td>0.8</td>\n      <td>1015.9</td>\n      <td>24.5</td>\n      <td>24.4</td>\n      <td>23.0</td>\n      <td>322.0</td>\n      <td>4.7</td>\n      <td>1016.6</td>\n      <td>24.5</td>\n      <td>...</td>\n      <td>68.400430</td>\n      <td>8.991870</td>\n      <td>23.792375</td>\n      <td>3.878463</td>\n      <td>1.868689</td>\n      <td>18.000813</td>\n      <td>20.512251</td>\n      <td>24.390754</td>\n      <td>3.096175</td>\n      <td>1016.544750</td>\n    </tr>\n    <tr>\n      <th>2022-12-31 15:00:00</th>\n      <td>113.0</td>\n      <td>1.9</td>\n      <td>1016.6</td>\n      <td>24.4</td>\n      <td>24.3</td>\n      <td>23.6</td>\n      <td>322.0</td>\n      <td>3.2</td>\n      <td>1017.2</td>\n      <td>24.6</td>\n      <td>...</td>\n      <td>65.865638</td>\n      <td>9.739296</td>\n      <td>24.200955</td>\n      <td>4.600152</td>\n      <td>2.142677</td>\n      <td>18.165389</td>\n      <td>20.750180</td>\n      <td>24.391202</td>\n      <td>3.048518</td>\n      <td>1017.274003</td>\n    </tr>\n    <tr>\n      <th>2022-12-31 16:00:00</th>\n      <td>124.0</td>\n      <td>0.8</td>\n      <td>1017.1</td>\n      <td>24.6</td>\n      <td>24.4</td>\n      <td>23.8</td>\n      <td>316.0</td>\n      <td>1.3</td>\n      <td>1017.8</td>\n      <td>24.7</td>\n      <td>...</td>\n      <td>417.984943</td>\n      <td>8.943498</td>\n      <td>24.267937</td>\n      <td>4.441231</td>\n      <td>1.996646</td>\n      <td>18.408272</td>\n      <td>20.995142</td>\n      <td>24.389594</td>\n      <td>2.098959</td>\n      <td>1017.919237</td>\n    </tr>\n    <tr>\n      <th>2022-12-31 17:00:00</th>\n      <td>107.0</td>\n      <td>1.1</td>\n      <td>1016.6</td>\n      <td>24.9</td>\n      <td>24.4</td>\n      <td>23.9</td>\n      <td>104.0</td>\n      <td>0.0</td>\n      <td>1017.7</td>\n      <td>25.8</td>\n      <td>...</td>\n      <td>411.841363</td>\n      <td>8.179465</td>\n      <td>22.984720</td>\n      <td>4.652906</td>\n      <td>1.691243</td>\n      <td>18.545894</td>\n      <td>21.225326</td>\n      <td>24.389815</td>\n      <td>0.921441</td>\n      <td>1018.291602</td>\n    </tr>\n    <tr>\n      <th>2022-12-31 18:00:00</th>\n      <td>147.0</td>\n      <td>1.1</td>\n      <td>1015.9</td>\n      <td>25.1</td>\n      <td>24.5</td>\n      <td>24.3</td>\n      <td>42.0</td>\n      <td>0.5</td>\n      <td>1016.8</td>\n      <td>25.5</td>\n      <td>...</td>\n      <td>43.822761</td>\n      <td>8.047924</td>\n      <td>22.725292</td>\n      <td>3.948578</td>\n      <td>1.141554</td>\n      <td>18.909604</td>\n      <td>21.419642</td>\n      <td>24.390418</td>\n      <td>0.338087</td>\n      <td>1017.865488</td>\n    </tr>\n    <tr>\n      <th>2022-12-31 19:00:00</th>\n      <td>195.0</td>\n      <td>0.5</td>\n      <td>1015.0</td>\n      <td>25.6</td>\n      <td>24.7</td>\n      <td>24.5</td>\n      <td>22.0</td>\n      <td>0.6</td>\n      <td>1015.9</td>\n      <td>25.1</td>\n      <td>...</td>\n      <td>35.331799</td>\n      <td>8.420646</td>\n      <td>22.644469</td>\n      <td>3.053152</td>\n      <td>0.966395</td>\n      <td>19.248257</td>\n      <td>21.649691</td>\n      <td>24.390271</td>\n      <td>0.631639</td>\n      <td>1017.248102</td>\n    </tr>\n    <tr>\n      <th>2022-12-31 20:00:00</th>\n      <td>210.0</td>\n      <td>1.0</td>\n      <td>1015.0</td>\n      <td>25.3</td>\n      <td>24.5</td>\n      <td>24.3</td>\n      <td>88.0</td>\n      <td>1.2</td>\n      <td>1015.4</td>\n      <td>24.7</td>\n      <td>...</td>\n      <td>33.740940</td>\n      <td>8.605017</td>\n      <td>22.728002</td>\n      <td>2.526843</td>\n      <td>0.622521</td>\n      <td>19.294151</td>\n      <td>21.836701</td>\n      <td>24.391186</td>\n      <td>1.091415</td>\n      <td>1016.593067</td>\n    </tr>\n    <tr>\n      <th>2022-12-31 21:00:00</th>\n      <td>231.0</td>\n      <td>0.6</td>\n      <td>1014.7</td>\n      <td>26.4</td>\n      <td>24.7</td>\n      <td>24.4</td>\n      <td>87.0</td>\n      <td>1.7</td>\n      <td>1014.9</td>\n      <td>24.6</td>\n      <td>...</td>\n      <td>378.306108</td>\n      <td>7.746672</td>\n      <td>22.540305</td>\n      <td>2.672840</td>\n      <td>1.018030</td>\n      <td>19.204815</td>\n      <td>22.033164</td>\n      <td>24.391115</td>\n      <td>1.337534</td>\n      <td>1016.395127</td>\n    </tr>\n    <tr>\n      <th>2022-12-31 22:00:00</th>\n      <td>18.0</td>\n      <td>0.7</td>\n      <td>1014.9</td>\n      <td>25.4</td>\n      <td>24.7</td>\n      <td>24.1</td>\n      <td>90.0</td>\n      <td>2.5</td>\n      <td>1014.9</td>\n      <td>24.5</td>\n      <td>...</td>\n      <td>373.932805</td>\n      <td>6.481939</td>\n      <td>22.370132</td>\n      <td>3.160121</td>\n      <td>2.077114</td>\n      <td>19.313397</td>\n      <td>22.237799</td>\n      <td>24.389988</td>\n      <td>1.764799</td>\n      <td>1016.187834</td>\n    </tr>\n    <tr>\n      <th>2022-12-31 23:00:00</th>\n      <td>68.0</td>\n      <td>1.6</td>\n      <td>1015.0</td>\n      <td>25.0</td>\n      <td>24.5</td>\n      <td>24.3</td>\n      <td>116.0</td>\n      <td>3.7</td>\n      <td>1015.0</td>\n      <td>24.5</td>\n      <td>...</td>\n      <td>379.680220</td>\n      <td>3.287809</td>\n      <td>24.069617</td>\n      <td>3.482519</td>\n      <td>1.562157</td>\n      <td>18.548164</td>\n      <td>22.083769</td>\n      <td>24.883582</td>\n      <td>2.489167</td>\n      <td>1017.066559</td>\n    </tr>\n  </tbody>\n</table>\n<p>24 rows × 208 columns</p>\n</div>"
     },
     "execution_count": 21,
     "metadata": {},
     "output_type": "execute_result"
    }
   ],
   "source": [
    "for col in evaluation_1.columns:\n",
    "    evaluation_1[f\"{col}_pred\"]= evaluation_1[col].shift(STATIONARY_SHIFT) + yhat_unscaled_df[f\"{col}_pred\"]\n",
    "\n",
    "evaluation_1 = evaluation_1.iloc[STATIONARY_SHIFT:]  # remove first n entries since there is no delta value for them\n",
    "evaluation_1"
   ]
  },
  {
   "cell_type": "markdown",
   "source": [
    "# Correct wind direction (modulo 360)"
   ],
   "metadata": {
    "collapsed": false,
    "pycharm": {
     "name": "#%% md\n"
    }
   }
  },
  {
   "cell_type": "code",
   "execution_count": null,
   "outputs": [],
   "source": [
    "# Get the list of columns starting with \"WDIR\"\n",
    "wdir_columns = [col for col in evaluation_1.columns if col.startswith(\"WDIR\")]\n",
    "\n",
    "# Modify the values in the selected columns\n",
    "evaluation_1[wdir_columns] = evaluation_1[wdir_columns] % 360\n",
    "\n",
    "evaluation_1"
   ],
   "metadata": {
    "collapsed": false,
    "pycharm": {
     "name": "#%%\n"
    }
   }
  },
  {
   "cell_type": "markdown",
   "metadata": {
    "pycharm": {
     "name": "#%% md\n"
    }
   },
   "source": [
    "# Recurrent forecast (EXCLUDED FOR NOW!)"
   ]
  },
  {
   "cell_type": "code",
   "execution_count": 24,
   "metadata": {
    "pycharm": {
     "name": "#%%\n"
    }
   },
   "outputs": [],
   "source": [
    "# model.reset_states()\n",
    "# _ = model.predict(train_X_scaled, batch_size=1)"
   ]
  },
  {
   "cell_type": "code",
   "execution_count": 25,
   "metadata": {
    "pycharm": {
     "name": "#%%\n"
    }
   },
   "outputs": [],
   "source": [
    "# # make a one-step forecast\n",
    "# # This function helps with reshaping.\n",
    "# def single_forecast(model, x):\n",
    "#     x = x.reshape(1, 1, len(x[0]))\n",
    "#     yhat = model.predict(x, verbose=0)\n",
    "#     return yhat"
   ]
  },
  {
   "cell_type": "code",
   "execution_count": 26,
   "metadata": {
    "pycharm": {
     "name": "#%%\n"
    }
   },
   "outputs": [],
   "source": [
    "# # Prepare data structure\n",
    "# prediction_2 = pd.DataFrame(test_y_scaled, columns=output_cols)\n",
    "# for col in output_cols:\n",
    "#     prediction_2[f\"{col}_pred\"] = 0\n",
    "#\n",
    "# prediction_2"
   ]
  },
  {
   "cell_type": "code",
   "execution_count": 27,
   "metadata": {
    "pycharm": {
     "name": "#%%\n"
    }
   },
   "outputs": [],
   "source": [
    "# #Forecast a whole week\n",
    "# prev_obs = test_X_scaled[0]\n",
    "#\n",
    "# for i, row in prediction_2.iterrows():\n",
    "#     yhat = single_forecast(model, prev_obs)\n",
    "#     prev_obs = yhat\n",
    "#\n",
    "#     #Mapping of array index and df column name\n",
    "#     for j, element in enumerate(output_cols):\n",
    "#         prediction_2.at[i, f\"{element}_pred\"] =yhat[0,j]\n",
    "#\n",
    "# # prediction_2.plot(kind='line')\n",
    "# prediction_2"
   ]
  },
  {
   "cell_type": "code",
   "execution_count": 28,
   "metadata": {
    "pycharm": {
     "name": "#%%\n"
    }
   },
   "outputs": [],
   "source": [
    "# #Reverse differenciate\n",
    "# first_row = data.iloc[-len(yhat)-1]\n",
    "#\n",
    "# yhat = prediction_2[[name + \"_pred\" for name in output_cols]].values\n",
    "# yhat_unscaled = DP.invert_scaling(yhat, SCALER)\n",
    "# yhat_true_value = DP.stationary_to_data(yhat_unscaled, first_row)\n",
    "#\n",
    "# yhat_true_value_df = pd.DataFrame(yhat_true_value, columns=[name + \"_pred\" for name in output_cols])\n",
    "# yhat_true_value_df.set_index(data.tail(len(yhat)).index, inplace=True)\n",
    "#\n",
    "# true_value = data.tail(len(yhat)+1).copy()\n",
    "#\n",
    "# evaluation_2 = pd.concat([true_value, yhat_true_value_df], axis=1)\n",
    "# evaluation_2 = evaluation_2.iloc[STATIONARY_SHIFT:]\n",
    "# evaluation_2"
   ]
  },
  {
   "cell_type": "code",
   "execution_count": 29,
   "metadata": {
    "pycharm": {
     "name": "#%%\n"
    }
   },
   "outputs": [],
   "source": [
    "# wtmp_true = [col for col in evaluation_2.columns if col.startswith(\"WTMP\")][0]\n",
    "#\n",
    "# mae_2 = mean_absolute_error(evaluation_2[wtmp_true], evaluation_2[f\"{wtmp_true}_pred\"])\n",
    "# mse_2 = mean_squared_error(evaluation_2[wtmp_true], evaluation_2[f\"{wtmp_true}_pred\"])\n",
    "# print('MAE: ', mae_2)\n",
    "# print('MSE: ', mse_2)"
   ]
  },
  {
   "cell_type": "code",
   "execution_count": 30,
   "metadata": {
    "pycharm": {
     "name": "#%%\n"
    }
   },
   "outputs": [],
   "source": [
    "#evaluation_2.plot(kind='line')"
   ]
  },
  {
   "cell_type": "markdown",
   "metadata": {
    "pycharm": {
     "name": "#%% md\n"
    }
   },
   "source": [
    "# SAVE"
   ]
  },
  {
   "cell_type": "code",
   "execution_count": 31,
   "metadata": {
    "pycharm": {
     "name": "#%%\n"
    }
   },
   "outputs": [
    {
     "name": "stdout",
     "output_type": "stream",
     "text": [
      "reached checkpoint\n"
     ]
    },
    {
     "data": {
      "text/plain": "<IPython.core.display.Javascript object>",
      "application/javascript": "$(document).ready(\n    function() {\n        function appendUniqueDiv(){\n            // append a div with our uuid so we can check that it's already\n            // been sent and avoid duplicates on page reload\n            var notifiedDiv = document.createElement(\"div\")\n            notifiedDiv.id = \"ff01c5bd-478a-4b73-a836-d2c46c5ab786\"\n            element.append(notifiedDiv)\n        }\n\n        // only send notifications if the pageload is complete; this will\n        // help stop extra notifications when a saved notebook is loaded,\n        // which during testing gives us state \"interactive\", not \"complete\"\n        if (document.readyState === 'complete') {\n            // check for the div that signifies that the notification\n            // was already sent\n            if (document.getElementById(\"ff01c5bd-478a-4b73-a836-d2c46c5ab786\") === null) {\n                var notificationPayload = {\"requireInteraction\": false, \"icon\": \"/static/base/images/favicon.ico\", \"body\": \"Finished!!\"};\n                if (Notification.permission !== 'denied') {\n                    if (Notification.permission !== 'granted') { \n                        Notification.requestPermission(function (permission) {\n                            if(!('permission' in Notification)) {\n                                Notification.permission = permission\n                            }\n                        })\n                    }\n                    if (Notification.permission === 'granted') {\n                    var notification = new Notification(\"Jupyter Notebook\", notificationPayload)\n                    appendUniqueDiv()\n                    notification.onclick = function () {\n                        window.focus();\n                        this.close();\n                        };\n                    } \n                }     \n            }\n        }\n    }\n)\n"
     },
     "metadata": {},
     "output_type": "display_data"
    }
   ],
   "source": [
    "%%notify -m \"Finished!!\"\n",
    "print(\"reached checkpoint\")"
   ]
  },
  {
   "cell_type": "code",
   "execution_count": 33,
   "metadata": {
    "pycharm": {
     "name": "#%%\n"
    }
   },
   "outputs": [
    {
     "data": {
      "text/plain": "HBox(children=(Text(value='', description='Filename:', placeholder='Enter filename'), Label(value='.pickle')))",
      "application/vnd.jupyter.widget-view+json": {
       "version_major": 2,
       "version_minor": 0,
       "model_id": "1dd5296a05a9464c9b6253867b39ae11"
      }
     },
     "metadata": {},
     "output_type": "display_data"
    },
    {
     "name": "stdout",
     "output_type": "stream",
     "text": [
      "Please also check if the reports description needs to be changed!\n"
     ]
    }
   ],
   "source": [
    "# create a text input widget for username\n",
    "filename_widget = widgets.Text(\n",
    "    value='',\n",
    "    placeholder='Enter filename',\n",
    "    description='Filename:',\n",
    "    disabled=False\n",
    ")\n",
    "# add '.csv' to the description\n",
    "extension_label = widgets.Label('.pickle')\n",
    "\n",
    "# display the widget\n",
    "display(widgets.HBox([filename_widget, extension_label]))\n",
    "\n",
    "print(\"Please also check if the reports description needs to be changed!\")"
   ]
  },
  {
   "cell_type": "markdown",
   "metadata": {
    "pycharm": {
     "name": "#%% md\n"
    }
   },
   "source": []
  },
  {
   "cell_type": "code",
   "execution_count": 34,
   "metadata": {
    "pycharm": {
     "name": "#%%\n"
    }
   },
   "outputs": [],
   "source": [
    "report_description=\"Test #01_b GOM, dataset A, TCN based PINN, Alpha = 0\""
   ]
  },
  {
   "cell_type": "markdown",
   "metadata": {
    "pycharm": {
     "name": "#%% md\n"
    }
   },
   "source": []
  },
  {
   "cell_type": "code",
   "execution_count": 35,
   "metadata": {
    "pycharm": {
     "name": "#%%\n"
    }
   },
   "outputs": [
    {
     "name": "stdout",
     "output_type": "stream",
     "text": [
      "File successfully saved:\n",
      "data/reports/report_01_b.pickle\n"
     ]
    }
   ],
   "source": [
    "filename = filename_widget.value\n",
    "if filename == \"\":\n",
    "    print(\"Enter a valid filename!\")\n",
    "\n",
    "else:\n",
    "    #Save Data About executed Test:\n",
    "\n",
    "    # Convert model summary to string\n",
    "    stringlist = []\n",
    "    model.summary(print_fn=lambda x: stringlist.append(x))\n",
    "    model_summary = \"\\n\".join(stringlist)\n",
    "\n",
    "    report = Experiment(\n",
    "        name=filename,\n",
    "        description=report_description,\n",
    "\n",
    "        stations = dataset[\"stations\"],\n",
    "        years = dataset[\"years\"],\n",
    "        nan_threshold=dataset[\"nan_threshold\"],\n",
    "        features=dataset[\"features\"],\n",
    "        era5=dataset[\"add_era5\"],\n",
    "\n",
    "        stationary_shift=STATIONARY_SHIFT,\n",
    "\n",
    "        n_test_hours=N_TEST_HOURS,\n",
    "\n",
    "        #stationary=STATIONARY,\n",
    "        scaler= None, # SCALER,\n",
    "\n",
    "        model_name = MODEL_NAME,\n",
    "        model_summary=model_summary,\n",
    "\n",
    "        one_shot_forecast = evaluation_1,\n",
    "        recursive_forecast = None   # evaluation_2\n",
    "    )\n",
    "\n",
    "\n",
    "    # open a file for writing in binary mode\n",
    "    filepath = f'data/reports/{report.name}.pickle'\n",
    "    with open(filepath, 'wb') as f:\n",
    "        # write the object to the file using pickle.dump()\n",
    "        pickle.dump(report, f)\n",
    "        print(\"File successfully saved:\")\n",
    "        print(filepath)"
   ]
  },
  {
   "cell_type": "code",
   "execution_count": null,
   "metadata": {
    "pycharm": {
     "name": "#%%\n"
    }
   },
   "outputs": [],
   "source": []
  },
  {
   "cell_type": "code",
   "execution_count": null,
   "metadata": {
    "pycharm": {
     "name": "#%%\n"
    }
   },
   "outputs": [],
   "source": []
  },
  {
   "cell_type": "code",
   "execution_count": null,
   "metadata": {
    "pycharm": {
     "name": "#%%\n"
    }
   },
   "outputs": [],
   "source": []
  }
 ],
 "metadata": {
  "kernelspec": {
   "display_name": "Python 3 (ipykernel)",
   "language": "python",
   "name": "python3"
  },
  "language_info": {
   "codemirror_mode": {
    "name": "ipython",
    "version": 3
   },
   "file_extension": ".py",
   "mimetype": "text/x-python",
   "name": "python",
   "nbconvert_exporter": "python",
   "pygments_lexer": "ipython3",
   "version": "3.8.15"
  }
 },
 "nbformat": 4,
 "nbformat_minor": 1
}