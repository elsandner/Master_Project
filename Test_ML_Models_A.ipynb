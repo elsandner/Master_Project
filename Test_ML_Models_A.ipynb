{
 "cells": [
  {
   "cell_type": "markdown",
   "source": [
    "# Test Environment"
   ],
   "metadata": {
    "collapsed": false,
    "pycharm": {
     "name": "#%% md\n"
    }
   }
  },
  {
   "cell_type": "code",
   "execution_count": 1,
   "outputs": [],
   "source": [
    "import ipywidgets as widgets\n",
    "from IPython.display import display\n",
    "import numpy as np\n",
    "import pandas as pd\n",
    "#import Models.models as models\n",
    "#import Models.LSTM.models_LSTM as models\n",
    "import myLibrary as mL\n",
    "#from Experiment_Class import Experiment\n",
    "from sklearn.metrics import mean_squared_error, mean_absolute_error\n",
    "import pickle\n",
    "import os\n",
    "\n",
    "NDBC = mL.NDBC_lib\n",
    "ERA5 = mL.ERA5_lib\n",
    "Models = mL.Models\n",
    "DP = mL.DataProcessor\n",
    "Experiment = mL.Experiment"
   ],
   "metadata": {
    "collapsed": false,
    "pycharm": {
     "name": "#%%\n"
    }
   }
  },
  {
   "cell_type": "markdown",
   "source": [
    "# Get Data"
   ],
   "metadata": {
    "collapsed": false,
    "pycharm": {
     "name": "#%% md\n"
    }
   }
  },
  {
   "cell_type": "code",
   "execution_count": 2,
   "outputs": [
    {
     "data": {
      "text/plain": "Select(description='Datafile:', options=('.DS_Store', 'GOM_2_A.pickle', 'dataset_GOM_1_A_A.pickle', 'GOM_1_A.p…",
      "application/vnd.jupyter.widget-view+json": {
       "version_major": 2,
       "version_minor": 0,
       "model_id": "e5bed9cc2d994ab8b88e4d76466f1bbd"
      }
     },
     "metadata": {},
     "output_type": "display_data"
    },
    {
     "name": "stdout",
     "output_type": "stream",
     "text": [
      "Stationary Shilft: \n"
     ]
    },
    {
     "data": {
      "text/plain": "BoundedIntText(value=1, max=10)",
      "application/vnd.jupyter.widget-view+json": {
       "version_major": 2,
       "version_minor": 0,
       "model_id": "f6f8887b4eda49768bf0c97091b77181"
      }
     },
     "metadata": {},
     "output_type": "display_data"
    },
    {
     "data": {
      "text/plain": "IntSlider(value=24, continuous_update=False, description='Test Hours:', max=1000)",
      "application/vnd.jupyter.widget-view+json": {
       "version_major": 2,
       "version_minor": 0,
       "model_id": "ded11d4d39524eb4abc09051baf04857"
      }
     },
     "metadata": {},
     "output_type": "display_data"
    },
    {
     "data": {
      "text/plain": "Select(description='Model:', options=('LSTM',), rows=10, value='LSTM')",
      "application/vnd.jupyter.widget-view+json": {
       "version_major": 2,
       "version_minor": 0,
       "model_id": "bb35000d04814bcea33ffd190fa32ee6"
      }
     },
     "metadata": {},
     "output_type": "display_data"
    },
    {
     "name": "stdout",
     "output_type": "stream",
     "text": [
      "Alpha (only for PINN):\n"
     ]
    },
    {
     "data": {
      "text/plain": "FloatSlider(value=0.5, layout=Layout(width='500px'), max=1.0, step=0.01)",
      "application/vnd.jupyter.widget-view+json": {
       "version_major": 2,
       "version_minor": 0,
       "model_id": "ca40516f5ae7427a822af91850508228"
      }
     },
     "metadata": {},
     "output_type": "display_data"
    }
   ],
   "source": [
    "data_directory = os.path.join(os.getcwd(), f'data/datasets/type_A')\n",
    "\n",
    "def build_UI():\n",
    "\n",
    "    # Select Model-------------------------------------------------------------------------------\n",
    "    global datafile_widget\n",
    "    datafile_list = os.listdir(data_directory)\n",
    "    datafile_widget = widgets.Select(\n",
    "        options=datafile_list,\n",
    "        value=datafile_list[0],\n",
    "        # rows=10,\n",
    "        description='Datafile:',\n",
    "        disabled=False\n",
    "    )\n",
    "    display(datafile_widget)\n",
    "\n",
    "    #STATIONARY_SHIFT -----------------------------------------------------------------------\n",
    "    global stationaryShift_widget\n",
    "    stationaryShift_widget = widgets.BoundedIntText(\n",
    "        value=1,\n",
    "        min=0,\n",
    "        max=10,\n",
    "        step=1,\n",
    "        description='',\n",
    "        disabled=False,\n",
    "    )\n",
    "    print(\"Stationary Shilft: \")\n",
    "    display(stationaryShift_widget)\n",
    "\n",
    "    # Test Hours-------------------------------------------------------------------------------\n",
    "    global test_hours_widget\n",
    "    test_hours_widget = widgets.IntSlider(\n",
    "        value=24,\n",
    "        min=0,\n",
    "        max=1000,\n",
    "        step=1,\n",
    "        description='Test Hours:',\n",
    "        disabled=False,\n",
    "        continuous_update=False,\n",
    "        orientation='horizontal',\n",
    "        readout=True,\n",
    "        readout_format='d'\n",
    "    )\n",
    "\n",
    "    # display the range slider widget\n",
    "    display(test_hours_widget)\n",
    "    #print(\"(1 Week = 168h)\")\n",
    "\n",
    "    # Select Model-------------------------------------------------------------------------------\n",
    "    global models_widget\n",
    "    models_list = list(Models.model_dictionary.keys())\n",
    "    models_widget = widgets.Select(\n",
    "        options=models_list,\n",
    "        value=models_list[0],\n",
    "        rows=10,\n",
    "        description='Model:',\n",
    "        disabled=False\n",
    "    )\n",
    "    display(models_widget)\n",
    "\n",
    "    #ALPHA:-------------------------------------------------------------------------------\n",
    "    # create a FloatSlider widget for a value between 0 and 1\n",
    "    print(\"Alpha (only for PINN):\")\n",
    "    global alpha_slider\n",
    "    alpha_slider = widgets.FloatSlider(\n",
    "        value=0.5,\n",
    "        min=0,\n",
    "        max=1,\n",
    "        step=0.01,\n",
    "        description='',\n",
    "        readout_format='.2f',\n",
    "        orientation='horizontal',\n",
    "        layout={'width': '500px'}\n",
    "    )\n",
    "\n",
    "    # display the FloatSlider widget\n",
    "    display(alpha_slider)\n",
    "\n",
    "\n",
    "build_UI()"
   ],
   "metadata": {
    "collapsed": false,
    "pycharm": {
     "name": "#%%\n"
    }
   }
  },
  {
   "cell_type": "code",
   "execution_count": 3,
   "outputs": [],
   "source": [
    "DATAFILE = datafile_widget.value\n",
    "STATIONARY_SHIFT = stationaryShift_widget.value\n",
    "N_TEST_HOURS = test_hours_widget.value\n",
    "MODEL_NAME = models_widget.value\n",
    "ALPHA = alpha_slider.value"
   ],
   "metadata": {
    "collapsed": false,
    "pycharm": {
     "name": "#%%\n"
    }
   }
  },
  {
   "cell_type": "markdown",
   "source": [
    "## Optional: use hardcoded variables instead"
   ],
   "metadata": {
    "collapsed": false,
    "pycharm": {
     "name": "#%% md\n"
    }
   }
  },
  {
   "cell_type": "code",
   "execution_count": 4,
   "outputs": [],
   "source": [
    "# DATAFILE = \"dataset_1_A.pickle\"\n",
    "# STATIONARY_SHIFT = 1\n",
    "# N_TEST_HOURS = 24\n",
    "# MODEL_NAME = \"pinn_1\"\n",
    "# ALPHA = 0.5\n",
    "\n"
   ],
   "metadata": {
    "collapsed": false,
    "pycharm": {
     "name": "#%%\n"
    }
   }
  },
  {
   "cell_type": "code",
   "execution_count": 5,
   "outputs": [
    {
     "name": "stdout",
     "output_type": "stream",
     "text": [
      "Datafile: dataset_GOM_1_A_A.pickle\n",
      "Alpha: 0.2\n",
      "Stationary Shift: 1\n",
      "Test-Hours: 24\n",
      "Model: LSTM\n"
     ]
    }
   ],
   "source": [
    "print(f\"Datafile: {DATAFILE}\")\n",
    "print(f\"Alpha: {ALPHA}\")\n",
    "print(f\"Stationary Shift: {STATIONARY_SHIFT}\")\n",
    "print(f\"Test-Hours: {N_TEST_HOURS}\")\n",
    "print(f\"Model: {MODEL_NAME}\")"
   ],
   "metadata": {
    "collapsed": false,
    "pycharm": {
     "name": "#%%\n"
    }
   }
  },
  {
   "cell_type": "code",
   "execution_count": 6,
   "outputs": [
    {
     "name": "stdout",
     "output_type": "stream",
     "text": [
      "stations ['42001', '42002', '42003', '42007', '42012', '42019', '42020', '42035', '42036', '42038', '42039', '42040', '42041', '42055']\n",
      "years ['2002', '2003', '2004', '2005', '2006', '2007', '2008', '2009', '2010', '2011', '2012', '2013', '2014', '2015', '2016', '2017', '2018', '2019', '2020', '2021', '2022']\n",
      "nan_threshold 0.66\n",
      "features ['WDIR', 'WSPD', 'WVHT', 'APD', 'MWD', 'PRES', 'ATMP', 'WTMP', 'DEWP']\n",
      "add_era5 True\n"
     ]
    },
    {
     "data": {
      "text/plain": "                     WDIR_42001  WSPD_42001  PRES_42001  ATMP_42001  \\\n2002-01-01 00:00:00        66.0         9.3      1017.1        22.3   \n2002-01-01 01:00:00        66.0         9.3      1017.1        22.3   \n2002-01-01 02:00:00        67.0         9.4      1017.2        21.9   \n2002-01-01 03:00:00        69.0         9.1      1017.2        22.4   \n2002-01-01 04:00:00        70.0         9.0      1017.1        22.5   \n...                         ...         ...         ...         ...   \n2022-12-31 19:00:00       195.0         0.5      1015.0        25.6   \n2022-12-31 20:00:00       210.0         1.0      1015.0        25.3   \n2022-12-31 21:00:00       231.0         0.6      1014.7        26.4   \n2022-12-31 22:00:00        18.0         0.7      1014.9        25.4   \n2022-12-31 23:00:00        68.0         1.6      1015.0        25.0   \n\n                     WTMP_42001  DEWP_42001  WDIR_42002  WSPD_42002  \\\n2002-01-01 00:00:00        25.5        16.8        39.0        10.5   \n2002-01-01 01:00:00        25.5        16.8        39.0        10.5   \n2002-01-01 02:00:00        25.5        16.6        36.0        10.9   \n2002-01-01 03:00:00        25.5        16.9        32.0        12.7   \n2002-01-01 04:00:00        25.5        16.3        33.0        12.7   \n...                         ...         ...         ...         ...   \n2022-12-31 19:00:00        24.7        24.5        22.0         0.6   \n2022-12-31 20:00:00        24.5        24.3        88.0         1.2   \n2022-12-31 21:00:00        24.7        24.4        87.0         1.7   \n2022-12-31 22:00:00        24.7        24.1        90.0         2.5   \n2022-12-31 23:00:00        24.5        24.3       116.0         3.7   \n\n                     PRES_42002  ATMP_42002  ...  WDIR_42039_ERA5  \\\n2002-01-01 00:00:00      1016.1        21.7  ...       246.007357   \n2002-01-01 01:00:00      1016.1        21.7  ...       247.678051   \n2002-01-01 02:00:00      1016.1        21.7  ...       250.591891   \n2002-01-01 03:00:00      1015.9        20.8  ...       253.468273   \n2002-01-01 04:00:00      1015.8        21.0  ...       251.493918   \n...                         ...         ...  ...              ...   \n2022-12-31 19:00:00      1015.9        25.1  ...        28.180851   \n2022-12-31 20:00:00      1015.4        24.7  ...        22.969408   \n2022-12-31 21:00:00      1014.9        24.6  ...        14.655430   \n2022-12-31 22:00:00      1014.9        24.5  ...        20.371840   \n2022-12-31 23:00:00      1015.0        24.5  ...        21.918165   \n\n                     WSPD_42039_ERA5  ATMP_42039_ERA5  WSPD_42035_ERA5  \\\n2002-01-01 00:00:00         5.756333        13.882608         8.031200   \n2002-01-01 01:00:00         5.579721        14.020573         8.216895   \n2002-01-01 02:00:00         5.582730        14.070538         8.454808   \n2002-01-01 03:00:00         5.633966        14.058979         8.471692   \n2002-01-01 04:00:00         5.638108        13.986641         8.698506   \n...                              ...              ...              ...   \n2022-12-31 19:00:00         8.602918        22.730194         2.533178   \n2022-12-31 20:00:00         7.734290        22.564177         2.669909   \n2022-12-31 21:00:00         6.485218        22.377552         3.147255   \n2022-12-31 22:00:00         3.294807        24.068445         3.469271   \n2022-12-31 23:00:00         2.229422        23.926533         3.938095   \n\n                     WSPD_42001_ERA5  DEWP_42020_ERA5  ATMP_42019_ERA5  \\\n2002-01-01 00:00:00         9.867456        10.834305        11.708612   \n2002-01-01 01:00:00         9.782997        10.975658        11.926516   \n2002-01-01 02:00:00         9.517146        11.111871        12.166319   \n2002-01-01 03:00:00         8.911373        11.239089        12.361607   \n2002-01-01 04:00:00         8.481407        11.332468        12.482585   \n...                              ...              ...              ...   \n2022-12-31 19:00:00         0.601025        19.323104        21.847184   \n2022-12-31 20:00:00         0.979714        19.245361        22.052563   \n2022-12-31 21:00:00         2.067327        19.338348        22.260412   \n2022-12-31 22:00:00         1.554299        18.567779        22.101541   \n2022-12-31 23:00:00         2.206784        18.779285        22.243125   \n\n                     WTMP_42039_ERA5  WSPD_42002_ERA5  PRES_42039_ERA5  \n2002-01-01 00:00:00        21.781113         9.820263      1019.426223  \n2002-01-01 01:00:00        21.781113        10.465795      1019.792677  \n2002-01-01 02:00:00        21.781113        11.760698      1019.725358  \n2002-01-01 03:00:00        21.781113        11.910608      1019.833394  \n2002-01-01 04:00:00        21.781113        11.716782      1019.804620  \n...                              ...              ...              ...  \n2022-12-31 19:00:00        24.392457         1.062895      1016.581840  \n2022-12-31 20:00:00        24.392457         1.330008      1016.363260  \n2022-12-31 21:00:00        24.392457         1.770915      1016.186435  \n2022-12-31 22:00:00        24.885927         2.483432      1017.067575  \n2022-12-31 23:00:00        24.885927         3.242142      1017.021132  \n\n[184080 rows x 104 columns]",
      "text/html": "<div>\n<style scoped>\n    .dataframe tbody tr th:only-of-type {\n        vertical-align: middle;\n    }\n\n    .dataframe tbody tr th {\n        vertical-align: top;\n    }\n\n    .dataframe thead th {\n        text-align: right;\n    }\n</style>\n<table border=\"1\" class=\"dataframe\">\n  <thead>\n    <tr style=\"text-align: right;\">\n      <th></th>\n      <th>WDIR_42001</th>\n      <th>WSPD_42001</th>\n      <th>PRES_42001</th>\n      <th>ATMP_42001</th>\n      <th>WTMP_42001</th>\n      <th>DEWP_42001</th>\n      <th>WDIR_42002</th>\n      <th>WSPD_42002</th>\n      <th>PRES_42002</th>\n      <th>ATMP_42002</th>\n      <th>...</th>\n      <th>WDIR_42039_ERA5</th>\n      <th>WSPD_42039_ERA5</th>\n      <th>ATMP_42039_ERA5</th>\n      <th>WSPD_42035_ERA5</th>\n      <th>WSPD_42001_ERA5</th>\n      <th>DEWP_42020_ERA5</th>\n      <th>ATMP_42019_ERA5</th>\n      <th>WTMP_42039_ERA5</th>\n      <th>WSPD_42002_ERA5</th>\n      <th>PRES_42039_ERA5</th>\n    </tr>\n  </thead>\n  <tbody>\n    <tr>\n      <th>2002-01-01 00:00:00</th>\n      <td>66.0</td>\n      <td>9.3</td>\n      <td>1017.1</td>\n      <td>22.3</td>\n      <td>25.5</td>\n      <td>16.8</td>\n      <td>39.0</td>\n      <td>10.5</td>\n      <td>1016.1</td>\n      <td>21.7</td>\n      <td>...</td>\n      <td>246.007357</td>\n      <td>5.756333</td>\n      <td>13.882608</td>\n      <td>8.031200</td>\n      <td>9.867456</td>\n      <td>10.834305</td>\n      <td>11.708612</td>\n      <td>21.781113</td>\n      <td>9.820263</td>\n      <td>1019.426223</td>\n    </tr>\n    <tr>\n      <th>2002-01-01 01:00:00</th>\n      <td>66.0</td>\n      <td>9.3</td>\n      <td>1017.1</td>\n      <td>22.3</td>\n      <td>25.5</td>\n      <td>16.8</td>\n      <td>39.0</td>\n      <td>10.5</td>\n      <td>1016.1</td>\n      <td>21.7</td>\n      <td>...</td>\n      <td>247.678051</td>\n      <td>5.579721</td>\n      <td>14.020573</td>\n      <td>8.216895</td>\n      <td>9.782997</td>\n      <td>10.975658</td>\n      <td>11.926516</td>\n      <td>21.781113</td>\n      <td>10.465795</td>\n      <td>1019.792677</td>\n    </tr>\n    <tr>\n      <th>2002-01-01 02:00:00</th>\n      <td>67.0</td>\n      <td>9.4</td>\n      <td>1017.2</td>\n      <td>21.9</td>\n      <td>25.5</td>\n      <td>16.6</td>\n      <td>36.0</td>\n      <td>10.9</td>\n      <td>1016.1</td>\n      <td>21.7</td>\n      <td>...</td>\n      <td>250.591891</td>\n      <td>5.582730</td>\n      <td>14.070538</td>\n      <td>8.454808</td>\n      <td>9.517146</td>\n      <td>11.111871</td>\n      <td>12.166319</td>\n      <td>21.781113</td>\n      <td>11.760698</td>\n      <td>1019.725358</td>\n    </tr>\n    <tr>\n      <th>2002-01-01 03:00:00</th>\n      <td>69.0</td>\n      <td>9.1</td>\n      <td>1017.2</td>\n      <td>22.4</td>\n      <td>25.5</td>\n      <td>16.9</td>\n      <td>32.0</td>\n      <td>12.7</td>\n      <td>1015.9</td>\n      <td>20.8</td>\n      <td>...</td>\n      <td>253.468273</td>\n      <td>5.633966</td>\n      <td>14.058979</td>\n      <td>8.471692</td>\n      <td>8.911373</td>\n      <td>11.239089</td>\n      <td>12.361607</td>\n      <td>21.781113</td>\n      <td>11.910608</td>\n      <td>1019.833394</td>\n    </tr>\n    <tr>\n      <th>2002-01-01 04:00:00</th>\n      <td>70.0</td>\n      <td>9.0</td>\n      <td>1017.1</td>\n      <td>22.5</td>\n      <td>25.5</td>\n      <td>16.3</td>\n      <td>33.0</td>\n      <td>12.7</td>\n      <td>1015.8</td>\n      <td>21.0</td>\n      <td>...</td>\n      <td>251.493918</td>\n      <td>5.638108</td>\n      <td>13.986641</td>\n      <td>8.698506</td>\n      <td>8.481407</td>\n      <td>11.332468</td>\n      <td>12.482585</td>\n      <td>21.781113</td>\n      <td>11.716782</td>\n      <td>1019.804620</td>\n    </tr>\n    <tr>\n      <th>...</th>\n      <td>...</td>\n      <td>...</td>\n      <td>...</td>\n      <td>...</td>\n      <td>...</td>\n      <td>...</td>\n      <td>...</td>\n      <td>...</td>\n      <td>...</td>\n      <td>...</td>\n      <td>...</td>\n      <td>...</td>\n      <td>...</td>\n      <td>...</td>\n      <td>...</td>\n      <td>...</td>\n      <td>...</td>\n      <td>...</td>\n      <td>...</td>\n      <td>...</td>\n      <td>...</td>\n    </tr>\n    <tr>\n      <th>2022-12-31 19:00:00</th>\n      <td>195.0</td>\n      <td>0.5</td>\n      <td>1015.0</td>\n      <td>25.6</td>\n      <td>24.7</td>\n      <td>24.5</td>\n      <td>22.0</td>\n      <td>0.6</td>\n      <td>1015.9</td>\n      <td>25.1</td>\n      <td>...</td>\n      <td>28.180851</td>\n      <td>8.602918</td>\n      <td>22.730194</td>\n      <td>2.533178</td>\n      <td>0.601025</td>\n      <td>19.323104</td>\n      <td>21.847184</td>\n      <td>24.392457</td>\n      <td>1.062895</td>\n      <td>1016.581840</td>\n    </tr>\n    <tr>\n      <th>2022-12-31 20:00:00</th>\n      <td>210.0</td>\n      <td>1.0</td>\n      <td>1015.0</td>\n      <td>25.3</td>\n      <td>24.5</td>\n      <td>24.3</td>\n      <td>88.0</td>\n      <td>1.2</td>\n      <td>1015.4</td>\n      <td>24.7</td>\n      <td>...</td>\n      <td>22.969408</td>\n      <td>7.734290</td>\n      <td>22.564177</td>\n      <td>2.669909</td>\n      <td>0.979714</td>\n      <td>19.245361</td>\n      <td>22.052563</td>\n      <td>24.392457</td>\n      <td>1.330008</td>\n      <td>1016.363260</td>\n    </tr>\n    <tr>\n      <th>2022-12-31 21:00:00</th>\n      <td>231.0</td>\n      <td>0.6</td>\n      <td>1014.7</td>\n      <td>26.4</td>\n      <td>24.7</td>\n      <td>24.4</td>\n      <td>87.0</td>\n      <td>1.7</td>\n      <td>1014.9</td>\n      <td>24.6</td>\n      <td>...</td>\n      <td>14.655430</td>\n      <td>6.485218</td>\n      <td>22.377552</td>\n      <td>3.147255</td>\n      <td>2.067327</td>\n      <td>19.338348</td>\n      <td>22.260412</td>\n      <td>24.392457</td>\n      <td>1.770915</td>\n      <td>1016.186435</td>\n    </tr>\n    <tr>\n      <th>2022-12-31 22:00:00</th>\n      <td>18.0</td>\n      <td>0.7</td>\n      <td>1014.9</td>\n      <td>25.4</td>\n      <td>24.7</td>\n      <td>24.1</td>\n      <td>90.0</td>\n      <td>2.5</td>\n      <td>1014.9</td>\n      <td>24.5</td>\n      <td>...</td>\n      <td>20.371840</td>\n      <td>3.294807</td>\n      <td>24.068445</td>\n      <td>3.469271</td>\n      <td>1.554299</td>\n      <td>18.567779</td>\n      <td>22.101541</td>\n      <td>24.885927</td>\n      <td>2.483432</td>\n      <td>1017.067575</td>\n    </tr>\n    <tr>\n      <th>2022-12-31 23:00:00</th>\n      <td>68.0</td>\n      <td>1.6</td>\n      <td>1015.0</td>\n      <td>25.0</td>\n      <td>24.5</td>\n      <td>24.3</td>\n      <td>116.0</td>\n      <td>3.7</td>\n      <td>1015.0</td>\n      <td>24.5</td>\n      <td>...</td>\n      <td>21.918165</td>\n      <td>2.229422</td>\n      <td>23.926533</td>\n      <td>3.938095</td>\n      <td>2.206784</td>\n      <td>18.779285</td>\n      <td>22.243125</td>\n      <td>24.885927</td>\n      <td>3.242142</td>\n      <td>1017.021132</td>\n    </tr>\n  </tbody>\n</table>\n<p>184080 rows × 104 columns</p>\n</div>"
     },
     "execution_count": 6,
     "metadata": {},
     "output_type": "execute_result"
    }
   ],
   "source": [
    "with open(f'data/datasets/type_A/{DATAFILE}', 'rb') as f:\n",
    "    # load the object from the file using pickle.load()\n",
    "    dataset = pickle.load(f)\n",
    "\n",
    "print(\"stations\",dataset[\"stations\"])\n",
    "print(\"years\",dataset[\"years\"])\n",
    "print(\"nan_threshold\",dataset[\"nan_threshold\"])\n",
    "print(\"features\",dataset[\"features\"])\n",
    "print(\"add_era5\",dataset[\"add_era5\"])\n",
    "\n",
    "data = dataset[\"data\"]\n",
    "data"
   ],
   "metadata": {
    "collapsed": false,
    "pycharm": {
     "name": "#%%\n"
    }
   }
  },
  {
   "cell_type": "markdown",
   "source": [
    "# Data Processing"
   ],
   "metadata": {
    "collapsed": false,
    "pycharm": {
     "name": "#%% md\n"
    }
   }
  },
  {
   "cell_type": "markdown",
   "source": [
    "## 1. Make data stationary"
   ],
   "metadata": {
    "collapsed": false,
    "pycharm": {
     "name": "#%% md\n"
    }
   }
  },
  {
   "cell_type": "code",
   "execution_count": 7,
   "outputs": [
    {
     "name": "stderr",
     "output_type": "stream",
     "text": [
      "/Users/elsandner/Library/Mobile Documents/com~apple~CloudDocs/Uni/WS22/Master Thesis/Master_Project/myLibrary.py:1041: PerformanceWarning: DataFrame is highly fragmented.  This is usually the result of calling `frame.insert` many times, which has poor performance.  Consider joining all columns at once using pd.concat(axis=1) instead. To get a de-fragmented frame, use `newframe = frame.copy()`\n",
      "  data_stationary[col] = data[col] - data[col].shift(n)  # y = value(i) - value(i-n)\n",
      "/Users/elsandner/Library/Mobile Documents/com~apple~CloudDocs/Uni/WS22/Master Thesis/Master_Project/myLibrary.py:1041: PerformanceWarning: DataFrame is highly fragmented.  This is usually the result of calling `frame.insert` many times, which has poor performance.  Consider joining all columns at once using pd.concat(axis=1) instead. To get a de-fragmented frame, use `newframe = frame.copy()`\n",
      "  data_stationary[col] = data[col] - data[col].shift(n)  # y = value(i) - value(i-n)\n",
      "/Users/elsandner/Library/Mobile Documents/com~apple~CloudDocs/Uni/WS22/Master Thesis/Master_Project/myLibrary.py:1041: PerformanceWarning: DataFrame is highly fragmented.  This is usually the result of calling `frame.insert` many times, which has poor performance.  Consider joining all columns at once using pd.concat(axis=1) instead. To get a de-fragmented frame, use `newframe = frame.copy()`\n",
      "  data_stationary[col] = data[col] - data[col].shift(n)  # y = value(i) - value(i-n)\n",
      "/Users/elsandner/Library/Mobile Documents/com~apple~CloudDocs/Uni/WS22/Master Thesis/Master_Project/myLibrary.py:1041: PerformanceWarning: DataFrame is highly fragmented.  This is usually the result of calling `frame.insert` many times, which has poor performance.  Consider joining all columns at once using pd.concat(axis=1) instead. To get a de-fragmented frame, use `newframe = frame.copy()`\n",
      "  data_stationary[col] = data[col] - data[col].shift(n)  # y = value(i) - value(i-n)\n"
     ]
    },
    {
     "data": {
      "text/plain": "                     WDIR_42001  WSPD_42001  PRES_42001  ATMP_42001  \\\n2002-01-01 01:00:00         0.0         0.0         0.0         0.0   \n2002-01-01 02:00:00         1.0         0.1         0.1        -0.4   \n2002-01-01 03:00:00         2.0        -0.3         0.0         0.5   \n2002-01-01 04:00:00         1.0        -0.1        -0.1         0.1   \n2002-01-01 05:00:00        -1.0         0.6        -0.6         0.0   \n\n                     WTMP_42001  DEWP_42001  WDIR_42002  WSPD_42002  \\\n2002-01-01 01:00:00         0.0         0.0         0.0         0.0   \n2002-01-01 02:00:00         0.0        -0.2        -3.0         0.4   \n2002-01-01 03:00:00         0.0         0.3        -4.0         1.8   \n2002-01-01 04:00:00         0.0        -0.6         1.0         0.0   \n2002-01-01 05:00:00        -0.1         0.8         9.0        -0.9   \n\n                     PRES_42002  ATMP_42002  ...  WDIR_42039_ERA5  \\\n2002-01-01 01:00:00         0.0         0.0  ...         1.670694   \n2002-01-01 02:00:00         0.0         0.0  ...         2.913840   \n2002-01-01 03:00:00        -0.2        -0.9  ...         2.876383   \n2002-01-01 04:00:00        -0.1         0.2  ...        -1.974355   \n2002-01-01 05:00:00        -0.2        -0.2  ...        -3.817351   \n\n                     WSPD_42039_ERA5  ATMP_42039_ERA5  WSPD_42035_ERA5  \\\n2002-01-01 01:00:00        -0.176612         0.137965         0.185695   \n2002-01-01 02:00:00         0.003009         0.049966         0.237913   \n2002-01-01 03:00:00         0.051235        -0.011559         0.016884   \n2002-01-01 04:00:00         0.004142        -0.072338         0.226814   \n2002-01-01 05:00:00        -0.199347        -0.181964         0.199733   \n\n                     WSPD_42001_ERA5  DEWP_42020_ERA5  ATMP_42019_ERA5  \\\n2002-01-01 01:00:00        -0.084459         0.141353         0.217904   \n2002-01-01 02:00:00        -0.265851         0.136213         0.239802   \n2002-01-01 03:00:00        -0.605774         0.127218         0.195288   \n2002-01-01 04:00:00        -0.429966         0.093379         0.120978   \n2002-01-01 05:00:00        -0.446340         0.097662         0.066412   \n\n                     WTMP_42039_ERA5  WSPD_42002_ERA5  PRES_42039_ERA5  \n2002-01-01 01:00:00              0.0         0.645532         0.366454  \n2002-01-01 02:00:00              0.0         1.294903        -0.067319  \n2002-01-01 03:00:00              0.0         0.149910         0.108036  \n2002-01-01 04:00:00              0.0        -0.193825        -0.028773  \n2002-01-01 05:00:00              0.0        -0.422577        -0.087949  \n\n[5 rows x 104 columns]",
      "text/html": "<div>\n<style scoped>\n    .dataframe tbody tr th:only-of-type {\n        vertical-align: middle;\n    }\n\n    .dataframe tbody tr th {\n        vertical-align: top;\n    }\n\n    .dataframe thead th {\n        text-align: right;\n    }\n</style>\n<table border=\"1\" class=\"dataframe\">\n  <thead>\n    <tr style=\"text-align: right;\">\n      <th></th>\n      <th>WDIR_42001</th>\n      <th>WSPD_42001</th>\n      <th>PRES_42001</th>\n      <th>ATMP_42001</th>\n      <th>WTMP_42001</th>\n      <th>DEWP_42001</th>\n      <th>WDIR_42002</th>\n      <th>WSPD_42002</th>\n      <th>PRES_42002</th>\n      <th>ATMP_42002</th>\n      <th>...</th>\n      <th>WDIR_42039_ERA5</th>\n      <th>WSPD_42039_ERA5</th>\n      <th>ATMP_42039_ERA5</th>\n      <th>WSPD_42035_ERA5</th>\n      <th>WSPD_42001_ERA5</th>\n      <th>DEWP_42020_ERA5</th>\n      <th>ATMP_42019_ERA5</th>\n      <th>WTMP_42039_ERA5</th>\n      <th>WSPD_42002_ERA5</th>\n      <th>PRES_42039_ERA5</th>\n    </tr>\n  </thead>\n  <tbody>\n    <tr>\n      <th>2002-01-01 01:00:00</th>\n      <td>0.0</td>\n      <td>0.0</td>\n      <td>0.0</td>\n      <td>0.0</td>\n      <td>0.0</td>\n      <td>0.0</td>\n      <td>0.0</td>\n      <td>0.0</td>\n      <td>0.0</td>\n      <td>0.0</td>\n      <td>...</td>\n      <td>1.670694</td>\n      <td>-0.176612</td>\n      <td>0.137965</td>\n      <td>0.185695</td>\n      <td>-0.084459</td>\n      <td>0.141353</td>\n      <td>0.217904</td>\n      <td>0.0</td>\n      <td>0.645532</td>\n      <td>0.366454</td>\n    </tr>\n    <tr>\n      <th>2002-01-01 02:00:00</th>\n      <td>1.0</td>\n      <td>0.1</td>\n      <td>0.1</td>\n      <td>-0.4</td>\n      <td>0.0</td>\n      <td>-0.2</td>\n      <td>-3.0</td>\n      <td>0.4</td>\n      <td>0.0</td>\n      <td>0.0</td>\n      <td>...</td>\n      <td>2.913840</td>\n      <td>0.003009</td>\n      <td>0.049966</td>\n      <td>0.237913</td>\n      <td>-0.265851</td>\n      <td>0.136213</td>\n      <td>0.239802</td>\n      <td>0.0</td>\n      <td>1.294903</td>\n      <td>-0.067319</td>\n    </tr>\n    <tr>\n      <th>2002-01-01 03:00:00</th>\n      <td>2.0</td>\n      <td>-0.3</td>\n      <td>0.0</td>\n      <td>0.5</td>\n      <td>0.0</td>\n      <td>0.3</td>\n      <td>-4.0</td>\n      <td>1.8</td>\n      <td>-0.2</td>\n      <td>-0.9</td>\n      <td>...</td>\n      <td>2.876383</td>\n      <td>0.051235</td>\n      <td>-0.011559</td>\n      <td>0.016884</td>\n      <td>-0.605774</td>\n      <td>0.127218</td>\n      <td>0.195288</td>\n      <td>0.0</td>\n      <td>0.149910</td>\n      <td>0.108036</td>\n    </tr>\n    <tr>\n      <th>2002-01-01 04:00:00</th>\n      <td>1.0</td>\n      <td>-0.1</td>\n      <td>-0.1</td>\n      <td>0.1</td>\n      <td>0.0</td>\n      <td>-0.6</td>\n      <td>1.0</td>\n      <td>0.0</td>\n      <td>-0.1</td>\n      <td>0.2</td>\n      <td>...</td>\n      <td>-1.974355</td>\n      <td>0.004142</td>\n      <td>-0.072338</td>\n      <td>0.226814</td>\n      <td>-0.429966</td>\n      <td>0.093379</td>\n      <td>0.120978</td>\n      <td>0.0</td>\n      <td>-0.193825</td>\n      <td>-0.028773</td>\n    </tr>\n    <tr>\n      <th>2002-01-01 05:00:00</th>\n      <td>-1.0</td>\n      <td>0.6</td>\n      <td>-0.6</td>\n      <td>0.0</td>\n      <td>-0.1</td>\n      <td>0.8</td>\n      <td>9.0</td>\n      <td>-0.9</td>\n      <td>-0.2</td>\n      <td>-0.2</td>\n      <td>...</td>\n      <td>-3.817351</td>\n      <td>-0.199347</td>\n      <td>-0.181964</td>\n      <td>0.199733</td>\n      <td>-0.446340</td>\n      <td>0.097662</td>\n      <td>0.066412</td>\n      <td>0.0</td>\n      <td>-0.422577</td>\n      <td>-0.087949</td>\n    </tr>\n  </tbody>\n</table>\n<p>5 rows × 104 columns</p>\n</div>"
     },
     "execution_count": 7,
     "metadata": {},
     "output_type": "execute_result"
    }
   ],
   "source": [
    "STATIONARY = True #Set Flag for report\n",
    "data_stationary = DP.data_to_stationary(data, n = STATIONARY_SHIFT)\n",
    "data_stationary.head()"
   ],
   "metadata": {
    "collapsed": false,
    "pycharm": {
     "name": "#%%\n"
    }
   }
  },
  {
   "cell_type": "markdown",
   "source": [
    "## 2. Transform to supervised problem"
   ],
   "metadata": {
    "collapsed": false,
    "pycharm": {
     "name": "#%% md\n"
    }
   }
  },
  {
   "cell_type": "code",
   "execution_count": 8,
   "outputs": [
    {
     "data": {
      "text/plain": "                     WDIR_42001(t-1)  WSPD_42001(t-1)  PRES_42001(t-1)  \\\n2002-01-01 02:00:00              0.0              0.0              0.0   \n2002-01-01 03:00:00              1.0              0.1              0.1   \n2002-01-01 04:00:00              2.0             -0.3              0.0   \n2002-01-01 05:00:00              1.0             -0.1             -0.1   \n2002-01-01 06:00:00             -1.0              0.6             -0.6   \n\n                     ATMP_42001(t-1)  WTMP_42001(t-1)  DEWP_42001(t-1)  \\\n2002-01-01 02:00:00              0.0              0.0              0.0   \n2002-01-01 03:00:00             -0.4              0.0             -0.2   \n2002-01-01 04:00:00              0.5              0.0              0.3   \n2002-01-01 05:00:00              0.1              0.0             -0.6   \n2002-01-01 06:00:00              0.0             -0.1              0.8   \n\n                     WDIR_42002(t-1)  WSPD_42002(t-1)  PRES_42002(t-1)  \\\n2002-01-01 02:00:00              0.0              0.0              0.0   \n2002-01-01 03:00:00             -3.0              0.4              0.0   \n2002-01-01 04:00:00             -4.0              1.8             -0.2   \n2002-01-01 05:00:00              1.0              0.0             -0.1   \n2002-01-01 06:00:00              9.0             -0.9             -0.2   \n\n                     ATMP_42002(t-1)  ...  WDIR_42039_ERA5(t)  \\\n2002-01-01 02:00:00              0.0  ...            2.913840   \n2002-01-01 03:00:00              0.0  ...            2.876383   \n2002-01-01 04:00:00             -0.9  ...           -1.974355   \n2002-01-01 05:00:00              0.2  ...           -3.817351   \n2002-01-01 06:00:00             -0.2  ...            1.650662   \n\n                     WSPD_42039_ERA5(t)  ATMP_42039_ERA5(t)  \\\n2002-01-01 02:00:00            0.003009            0.049966   \n2002-01-01 03:00:00            0.051235           -0.011559   \n2002-01-01 04:00:00            0.004142           -0.072338   \n2002-01-01 05:00:00           -0.199347           -0.181964   \n2002-01-01 06:00:00            0.179143           -0.247964   \n\n                     WSPD_42035_ERA5(t)  WSPD_42001_ERA5(t)  \\\n2002-01-01 02:00:00            0.237913           -0.265851   \n2002-01-01 03:00:00            0.016884           -0.605774   \n2002-01-01 04:00:00            0.226814           -0.429966   \n2002-01-01 05:00:00            0.199733           -0.446340   \n2002-01-01 06:00:00            0.187775            0.416342   \n\n                     DEWP_42020_ERA5(t)  ATMP_42019_ERA5(t)  \\\n2002-01-01 02:00:00            0.136213            0.239802   \n2002-01-01 03:00:00            0.127218            0.195288   \n2002-01-01 04:00:00            0.093379            0.120978   \n2002-01-01 05:00:00            0.097662            0.066412   \n2002-01-01 06:00:00            0.074103            0.066053   \n\n                     WTMP_42039_ERA5(t)  WSPD_42002_ERA5(t)  \\\n2002-01-01 02:00:00                 0.0            1.294903   \n2002-01-01 03:00:00                 0.0            0.149910   \n2002-01-01 04:00:00                 0.0           -0.193825   \n2002-01-01 05:00:00                 0.0           -0.422577   \n2002-01-01 06:00:00                 0.0           -0.400801   \n\n                     PRES_42039_ERA5(t)  \n2002-01-01 02:00:00           -0.067319  \n2002-01-01 03:00:00            0.108036  \n2002-01-01 04:00:00           -0.028773  \n2002-01-01 05:00:00           -0.087949  \n2002-01-01 06:00:00            0.382198  \n\n[5 rows x 208 columns]",
      "text/html": "<div>\n<style scoped>\n    .dataframe tbody tr th:only-of-type {\n        vertical-align: middle;\n    }\n\n    .dataframe tbody tr th {\n        vertical-align: top;\n    }\n\n    .dataframe thead th {\n        text-align: right;\n    }\n</style>\n<table border=\"1\" class=\"dataframe\">\n  <thead>\n    <tr style=\"text-align: right;\">\n      <th></th>\n      <th>WDIR_42001(t-1)</th>\n      <th>WSPD_42001(t-1)</th>\n      <th>PRES_42001(t-1)</th>\n      <th>ATMP_42001(t-1)</th>\n      <th>WTMP_42001(t-1)</th>\n      <th>DEWP_42001(t-1)</th>\n      <th>WDIR_42002(t-1)</th>\n      <th>WSPD_42002(t-1)</th>\n      <th>PRES_42002(t-1)</th>\n      <th>ATMP_42002(t-1)</th>\n      <th>...</th>\n      <th>WDIR_42039_ERA5(t)</th>\n      <th>WSPD_42039_ERA5(t)</th>\n      <th>ATMP_42039_ERA5(t)</th>\n      <th>WSPD_42035_ERA5(t)</th>\n      <th>WSPD_42001_ERA5(t)</th>\n      <th>DEWP_42020_ERA5(t)</th>\n      <th>ATMP_42019_ERA5(t)</th>\n      <th>WTMP_42039_ERA5(t)</th>\n      <th>WSPD_42002_ERA5(t)</th>\n      <th>PRES_42039_ERA5(t)</th>\n    </tr>\n  </thead>\n  <tbody>\n    <tr>\n      <th>2002-01-01 02:00:00</th>\n      <td>0.0</td>\n      <td>0.0</td>\n      <td>0.0</td>\n      <td>0.0</td>\n      <td>0.0</td>\n      <td>0.0</td>\n      <td>0.0</td>\n      <td>0.0</td>\n      <td>0.0</td>\n      <td>0.0</td>\n      <td>...</td>\n      <td>2.913840</td>\n      <td>0.003009</td>\n      <td>0.049966</td>\n      <td>0.237913</td>\n      <td>-0.265851</td>\n      <td>0.136213</td>\n      <td>0.239802</td>\n      <td>0.0</td>\n      <td>1.294903</td>\n      <td>-0.067319</td>\n    </tr>\n    <tr>\n      <th>2002-01-01 03:00:00</th>\n      <td>1.0</td>\n      <td>0.1</td>\n      <td>0.1</td>\n      <td>-0.4</td>\n      <td>0.0</td>\n      <td>-0.2</td>\n      <td>-3.0</td>\n      <td>0.4</td>\n      <td>0.0</td>\n      <td>0.0</td>\n      <td>...</td>\n      <td>2.876383</td>\n      <td>0.051235</td>\n      <td>-0.011559</td>\n      <td>0.016884</td>\n      <td>-0.605774</td>\n      <td>0.127218</td>\n      <td>0.195288</td>\n      <td>0.0</td>\n      <td>0.149910</td>\n      <td>0.108036</td>\n    </tr>\n    <tr>\n      <th>2002-01-01 04:00:00</th>\n      <td>2.0</td>\n      <td>-0.3</td>\n      <td>0.0</td>\n      <td>0.5</td>\n      <td>0.0</td>\n      <td>0.3</td>\n      <td>-4.0</td>\n      <td>1.8</td>\n      <td>-0.2</td>\n      <td>-0.9</td>\n      <td>...</td>\n      <td>-1.974355</td>\n      <td>0.004142</td>\n      <td>-0.072338</td>\n      <td>0.226814</td>\n      <td>-0.429966</td>\n      <td>0.093379</td>\n      <td>0.120978</td>\n      <td>0.0</td>\n      <td>-0.193825</td>\n      <td>-0.028773</td>\n    </tr>\n    <tr>\n      <th>2002-01-01 05:00:00</th>\n      <td>1.0</td>\n      <td>-0.1</td>\n      <td>-0.1</td>\n      <td>0.1</td>\n      <td>0.0</td>\n      <td>-0.6</td>\n      <td>1.0</td>\n      <td>0.0</td>\n      <td>-0.1</td>\n      <td>0.2</td>\n      <td>...</td>\n      <td>-3.817351</td>\n      <td>-0.199347</td>\n      <td>-0.181964</td>\n      <td>0.199733</td>\n      <td>-0.446340</td>\n      <td>0.097662</td>\n      <td>0.066412</td>\n      <td>0.0</td>\n      <td>-0.422577</td>\n      <td>-0.087949</td>\n    </tr>\n    <tr>\n      <th>2002-01-01 06:00:00</th>\n      <td>-1.0</td>\n      <td>0.6</td>\n      <td>-0.6</td>\n      <td>0.0</td>\n      <td>-0.1</td>\n      <td>0.8</td>\n      <td>9.0</td>\n      <td>-0.9</td>\n      <td>-0.2</td>\n      <td>-0.2</td>\n      <td>...</td>\n      <td>1.650662</td>\n      <td>0.179143</td>\n      <td>-0.247964</td>\n      <td>0.187775</td>\n      <td>0.416342</td>\n      <td>0.074103</td>\n      <td>0.066053</td>\n      <td>0.0</td>\n      <td>-0.400801</td>\n      <td>0.382198</td>\n    </tr>\n  </tbody>\n</table>\n<p>5 rows × 208 columns</p>\n</div>"
     },
     "execution_count": 8,
     "metadata": {},
     "output_type": "execute_result"
    }
   ],
   "source": [
    "data_supervised = DP.data_to_supervised(data_stationary)\n",
    "data_supervised.head()"
   ],
   "metadata": {
    "collapsed": false,
    "pycharm": {
     "name": "#%%\n"
    }
   }
  },
  {
   "cell_type": "markdown",
   "source": [
    "## train test split"
   ],
   "metadata": {
    "collapsed": false,
    "pycharm": {
     "name": "#%% md\n"
    }
   }
  },
  {
   "cell_type": "code",
   "execution_count": 9,
   "outputs": [
    {
     "name": "stdout",
     "output_type": "stream",
     "text": [
      "Shapes:  (184054, 1, 104) (184054, 104) (24, 1, 104) (24, 104)\n"
     ]
    }
   ],
   "source": [
    "train_X, train_y, test_X, test_y = DP.train_test_split(data_supervised, N_TEST_HOURS)\n",
    "print(\"Shapes: \", train_X.shape, train_y.shape, test_X.shape, test_y.shape)"
   ],
   "metadata": {
    "collapsed": false,
    "pycharm": {
     "name": "#%%\n"
    }
   }
  },
  {
   "cell_type": "markdown",
   "source": [
    "## Normalize the data"
   ],
   "metadata": {
    "collapsed": false,
    "pycharm": {
     "name": "#%% md\n"
    }
   }
  },
  {
   "cell_type": "code",
   "execution_count": 10,
   "outputs": [],
   "source": [
    "# Scale the data\n",
    "#NORMALIZED = True   #set flag for report\n",
    "train_X_scaled, train_y_scaled, test_X_scaled, test_y_scaled, SCALER = DP.scale_data(train_X,\n",
    "                                                                                     train_y,\n",
    "                                                                                     test_X,\n",
    "                                                                                     test_y)"
   ],
   "metadata": {
    "collapsed": false,
    "pycharm": {
     "name": "#%%\n"
    }
   }
  },
  {
   "cell_type": "markdown",
   "source": [
    "---\n",
    "# Select Model"
   ],
   "metadata": {
    "collapsed": false,
    "pycharm": {
     "name": "#%% md\n"
    }
   }
  },
  {
   "cell_type": "code",
   "execution_count": 11,
   "outputs": [
    {
     "name": "stdout",
     "output_type": "stream",
     "text": [
      "Epoch 1/100\n"
     ]
    },
    {
     "name": "stderr",
     "output_type": "stream",
     "text": [
      "2023-06-19 22:09:04.088545: W tensorflow/tsl/platform/profile_utils/cpu_utils.cc:128] Failed to get CPU frequency: 0 Hz\n"
     ]
    },
    {
     "name": "stdout",
     "output_type": "stream",
     "text": [
      "2589/2589 [==============================] - 16s 5ms/step - loss: 270.4389 - val_loss: 290.1409\n",
      "Epoch 2/100\n",
      "2589/2589 [==============================] - 10s 4ms/step - loss: 269.5475 - val_loss: 289.5790\n",
      "Epoch 3/100\n",
      "2589/2589 [==============================] - 9s 4ms/step - loss: 269.0239 - val_loss: 289.2519\n",
      "Epoch 4/100\n",
      "2589/2589 [==============================] - 10s 4ms/step - loss: 268.5964 - val_loss: 288.8992\n",
      "Epoch 5/100\n",
      "2589/2589 [==============================] - 12s 5ms/step - loss: 268.1965 - val_loss: 288.6955\n",
      "Epoch 6/100\n",
      "2589/2589 [==============================] - 11s 4ms/step - loss: 267.8478 - val_loss: 288.3893\n",
      "Epoch 7/100\n",
      "2589/2589 [==============================] - 12s 5ms/step - loss: 267.5024 - val_loss: 288.2573\n",
      "Epoch 8/100\n",
      "2589/2589 [==============================] - 13s 5ms/step - loss: 267.1290 - val_loss: 287.8416\n",
      "Epoch 9/100\n",
      "2589/2589 [==============================] - 13s 5ms/step - loss: 266.8521 - val_loss: 287.5802\n",
      "Epoch 10/100\n",
      "2589/2589 [==============================] - 10s 4ms/step - loss: 266.5413 - val_loss: 287.4080\n",
      "Epoch 11/100\n",
      "2589/2589 [==============================] - 11s 4ms/step - loss: 266.1826 - val_loss: 287.2203\n",
      "Epoch 12/100\n",
      "2589/2589 [==============================] - 14s 5ms/step - loss: 265.8968 - val_loss: 287.1455\n",
      "Epoch 13/100\n",
      "2589/2589 [==============================] - 12s 5ms/step - loss: 265.5807 - val_loss: 286.9293\n",
      "Epoch 14/100\n",
      "2589/2589 [==============================] - 14s 5ms/step - loss: 265.3438 - val_loss: 286.7755\n",
      "Epoch 15/100\n",
      "2589/2589 [==============================] - 12s 5ms/step - loss: 265.1707 - val_loss: 286.5326\n",
      "Epoch 16/100\n",
      "2589/2589 [==============================] - 14s 5ms/step - loss: 264.9301 - val_loss: 286.4448\n",
      "Epoch 17/100\n",
      "2589/2589 [==============================] - 13s 5ms/step - loss: 264.6443 - val_loss: 286.1382\n",
      "Epoch 18/100\n",
      "2589/2589 [==============================] - 13s 5ms/step - loss: 264.4678 - val_loss: 286.1904\n",
      "Epoch 19/100\n",
      "2589/2589 [==============================] - 11s 4ms/step - loss: 264.3066 - val_loss: 286.0199\n",
      "Epoch 20/100\n",
      "2589/2589 [==============================] - 11s 4ms/step - loss: 264.0937 - val_loss: 285.9825\n",
      "Epoch 21/100\n",
      "2589/2589 [==============================] - 15s 6ms/step - loss: 264.0121 - val_loss: 286.0800\n",
      "Epoch 22/100\n",
      "2589/2589 [==============================] - 14s 6ms/step - loss: 263.7789 - val_loss: 285.8897\n",
      "Epoch 23/100\n",
      "2589/2589 [==============================] - 11s 4ms/step - loss: 263.5867 - val_loss: 285.6953\n",
      "Epoch 24/100\n",
      "2589/2589 [==============================] - 11s 4ms/step - loss: 263.4205 - val_loss: 285.6721\n",
      "Epoch 25/100\n",
      "2589/2589 [==============================] - 14s 5ms/step - loss: 263.1535 - val_loss: 285.3406\n",
      "Epoch 26/100\n",
      "2589/2589 [==============================] - 18s 7ms/step - loss: 262.9731 - val_loss: 285.5237\n",
      "Epoch 27/100\n",
      "2589/2589 [==============================] - 12s 5ms/step - loss: 262.8118 - val_loss: 285.6361\n",
      "Epoch 28/100\n",
      "2589/2589 [==============================] - 11s 4ms/step - loss: 262.5770 - val_loss: 285.5871\n",
      "Epoch 29/100\n",
      "2589/2589 [==============================] - 12s 4ms/step - loss: 262.5232 - val_loss: 285.5415\n",
      "Epoch 30/100\n",
      "2589/2589 [==============================] - 16s 6ms/step - loss: 262.3358 - val_loss: 285.1194\n",
      "Epoch 31/100\n",
      "2589/2589 [==============================] - 13s 5ms/step - loss: 262.1468 - val_loss: 285.3734\n",
      "Epoch 32/100\n",
      "2589/2589 [==============================] - 10s 4ms/step - loss: 261.9250 - val_loss: 284.8575\n",
      "Epoch 33/100\n",
      "2589/2589 [==============================] - 11s 4ms/step - loss: 261.7606 - val_loss: 285.3302\n",
      "Epoch 34/100\n",
      "2589/2589 [==============================] - 16s 6ms/step - loss: 261.6572 - val_loss: 285.2990\n",
      "Epoch 35/100\n",
      "2589/2589 [==============================] - 13s 5ms/step - loss: 261.3499 - val_loss: 285.4801\n",
      "Epoch 36/100\n",
      "2589/2589 [==============================] - 9s 4ms/step - loss: 261.1292 - val_loss: 285.3029\n",
      "Epoch 37/100\n",
      "2589/2589 [==============================] - 10s 4ms/step - loss: 261.1074 - val_loss: 285.1566\n",
      "Epoch 38/100\n",
      "2589/2589 [==============================] - 11s 4ms/step - loss: 260.8549 - val_loss: 285.2387\n",
      "Epoch 39/100\n",
      "2589/2589 [==============================] - 15s 6ms/step - loss: 260.8300 - val_loss: 285.1412\n",
      "Epoch 40/100\n",
      "2589/2589 [==============================] - 16s 6ms/step - loss: 260.5224 - val_loss: 285.4842\n",
      "Epoch 41/100\n",
      "2589/2589 [==============================] - 11s 4ms/step - loss: 260.5522 - val_loss: 285.2033\n",
      "Epoch 42/100\n",
      "2589/2589 [==============================] - 10s 4ms/step - loss: 260.5251 - val_loss: 285.0150\n",
      "Epoch 43/100\n",
      "2589/2589 [==============================] - 11s 4ms/step - loss: 260.2741 - val_loss: 285.4018\n",
      "Epoch 44/100\n",
      "2589/2589 [==============================] - 12s 5ms/step - loss: 260.1189 - val_loss: 285.3002\n",
      "Epoch 45/100\n",
      "2589/2589 [==============================] - 15s 6ms/step - loss: 259.9303 - val_loss: 285.4441\n",
      "Epoch 46/100\n",
      "2589/2589 [==============================] - 14s 5ms/step - loss: 259.9070 - val_loss: 285.4969\n",
      "Epoch 47/100\n",
      "2589/2589 [==============================] - 11s 4ms/step - loss: 259.7144 - val_loss: 285.2879\n",
      "Epoch 48/100\n",
      "2589/2589 [==============================] - 10s 4ms/step - loss: 259.4678 - val_loss: 285.4536\n",
      "Epoch 49/100\n",
      "2589/2589 [==============================] - 10s 4ms/step - loss: 259.4099 - val_loss: 285.4540\n",
      "Epoch 50/100\n",
      "2589/2589 [==============================] - 14s 5ms/step - loss: 259.2694 - val_loss: 285.1682\n",
      "Epoch 51/100\n",
      "2589/2589 [==============================] - 14s 5ms/step - loss: 259.1385 - val_loss: 285.4314\n",
      "Epoch 52/100\n",
      "2589/2589 [==============================] - 10s 4ms/step - loss: 258.8828 - val_loss: 285.2740\n",
      "Epoch 53/100\n",
      "2589/2589 [==============================] - 9s 4ms/step - loss: 258.6215 - val_loss: 285.4076\n",
      "Epoch 54/100\n",
      "2589/2589 [==============================] - 10s 4ms/step - loss: 258.6848 - val_loss: 285.3521\n",
      "Epoch 55/100\n",
      "2589/2589 [==============================] - 13s 5ms/step - loss: 258.4828 - val_loss: 285.6014\n",
      "Epoch 56/100\n",
      "2589/2589 [==============================] - 13s 5ms/step - loss: 258.2689 - val_loss: 285.4833\n",
      "Epoch 57/100\n",
      "2589/2589 [==============================] - 10s 4ms/step - loss: 258.3761 - val_loss: 285.4434\n",
      "Epoch 58/100\n",
      "2589/2589 [==============================] - 10s 4ms/step - loss: 257.7568 - val_loss: 285.5761\n",
      "Epoch 59/100\n",
      "2589/2589 [==============================] - 11s 4ms/step - loss: 257.7984 - val_loss: 285.1003\n",
      "Epoch 60/100\n",
      "2589/2589 [==============================] - 11s 4ms/step - loss: 257.3499 - val_loss: 285.3554\n",
      "Epoch 61/100\n",
      "2589/2589 [==============================] - 10s 4ms/step - loss: 257.2886 - val_loss: 285.3702\n",
      "Epoch 62/100\n",
      "2589/2589 [==============================] - 10s 4ms/step - loss: 257.3477 - val_loss: 285.5748\n",
      "Epoch 63/100\n",
      "2589/2589 [==============================] - 12s 5ms/step - loss: 257.1732 - val_loss: 285.3694\n",
      "Epoch 64/100\n",
      "2589/2589 [==============================] - 11s 4ms/step - loss: 257.0177 - val_loss: 285.7166\n",
      "Epoch 65/100\n",
      "2589/2589 [==============================] - 11s 4ms/step - loss: 256.7458 - val_loss: 285.7645\n",
      "Epoch 66/100\n",
      "2589/2589 [==============================] - 10s 4ms/step - loss: 256.5600 - val_loss: 285.9294\n",
      "Epoch 67/100\n",
      "2589/2589 [==============================] - 10s 4ms/step - loss: 256.4172 - val_loss: 285.5192\n",
      "Epoch 68/100\n",
      "2589/2589 [==============================] - 12s 5ms/step - loss: 256.4420 - val_loss: 285.6846\n",
      "Epoch 69/100\n",
      "2589/2589 [==============================] - 13s 5ms/step - loss: 256.2704 - val_loss: 285.6542\n",
      "Epoch 70/100\n",
      "2589/2589 [==============================] - 14s 5ms/step - loss: 256.1050 - val_loss: 285.7716\n",
      "Epoch 71/100\n",
      "2589/2589 [==============================] - 13s 5ms/step - loss: 256.1136 - val_loss: 285.2257\n",
      "Epoch 72/100\n",
      "2589/2589 [==============================] - 13s 5ms/step - loss: 255.7266 - val_loss: 285.2631\n",
      "Epoch 73/100\n",
      "2589/2589 [==============================] - 13s 5ms/step - loss: 255.8000 - val_loss: 285.8524\n",
      "Epoch 74/100\n",
      "2589/2589 [==============================] - 11s 4ms/step - loss: 255.5933 - val_loss: 285.7453\n",
      "Epoch 75/100\n",
      "2589/2589 [==============================] - 14s 5ms/step - loss: 255.4872 - val_loss: 285.9633\n",
      "Epoch 76/100\n",
      "2589/2589 [==============================] - 12s 4ms/step - loss: 255.0477 - val_loss: 286.3372\n",
      "Epoch 77/100\n",
      "2589/2589 [==============================] - 12s 5ms/step - loss: 255.2807 - val_loss: 286.3419\n",
      "Epoch 78/100\n",
      "2589/2589 [==============================] - 11s 4ms/step - loss: 255.0299 - val_loss: 286.3551\n",
      "Epoch 79/100\n",
      "2589/2589 [==============================] - 10s 4ms/step - loss: 254.6629 - val_loss: 286.0432\n",
      "Epoch 80/100\n",
      "2589/2589 [==============================] - 11s 4ms/step - loss: 254.7920 - val_loss: 286.1988\n",
      "Epoch 81/100\n",
      "2589/2589 [==============================] - 14s 5ms/step - loss: 254.4250 - val_loss: 286.3138\n",
      "Epoch 82/100\n",
      "2589/2589 [==============================] - 15s 6ms/step - loss: 254.4652 - val_loss: 286.2377\n",
      "Epoch 83/100\n",
      "2589/2589 [==============================] - 12s 5ms/step - loss: 254.0423 - val_loss: 286.0988\n",
      "Epoch 84/100\n",
      "2589/2589 [==============================] - 10s 4ms/step - loss: 254.0094 - val_loss: 286.0142\n",
      "Epoch 85/100\n",
      "2589/2589 [==============================] - 10s 4ms/step - loss: 253.5694 - val_loss: 286.4381\n",
      "Epoch 86/100\n",
      "2589/2589 [==============================] - 13s 5ms/step - loss: 253.7663 - val_loss: 286.5033\n",
      "Epoch 87/100\n",
      "2589/2589 [==============================] - 16s 6ms/step - loss: 253.4703 - val_loss: 286.3537\n",
      "Epoch 88/100\n",
      "2589/2589 [==============================] - 12s 5ms/step - loss: 253.3635 - val_loss: 286.4561\n",
      "Epoch 89/100\n",
      "2589/2589 [==============================] - 13s 5ms/step - loss: 253.1965 - val_loss: 286.4181\n",
      "Epoch 90/100\n",
      "2589/2589 [==============================] - 13s 5ms/step - loss: 253.3478 - val_loss: 286.4761\n",
      "Epoch 91/100\n",
      "2589/2589 [==============================] - 16s 6ms/step - loss: 253.0361 - val_loss: 286.0623\n",
      "Epoch 92/100\n",
      "2589/2589 [==============================] - 12s 5ms/step - loss: 252.6562 - val_loss: 285.8928\n",
      "Epoch 93/100\n",
      "2589/2589 [==============================] - 13s 5ms/step - loss: 252.8137 - val_loss: 286.0892\n",
      "Epoch 94/100\n",
      "2589/2589 [==============================] - 12s 5ms/step - loss: 252.4997 - val_loss: 286.7705\n",
      "Epoch 95/100\n",
      "2589/2589 [==============================] - 13s 5ms/step - loss: 252.7364 - val_loss: 286.8027\n",
      "Epoch 96/100\n",
      "2589/2589 [==============================] - 12s 5ms/step - loss: 252.4665 - val_loss: 286.3416\n",
      "Epoch 97/100\n",
      "2589/2589 [==============================] - 14s 5ms/step - loss: 251.9682 - val_loss: 287.1967\n",
      "Epoch 98/100\n",
      "2589/2589 [==============================] - 17s 6ms/step - loss: 251.7781 - val_loss: 286.5632\n",
      "Epoch 99/100\n",
      "2589/2589 [==============================] - 17s 6ms/step - loss: 251.8710 - val_loss: 286.3383\n",
      "Epoch 100/100\n",
      "2589/2589 [==============================] - 10s 4ms/step - loss: 251.9370 - val_loss: 286.6564\n",
      "Model: \"sequential\"\n",
      "_________________________________________________________________\n",
      " Layer (type)                Output Shape              Param #   \n",
      "=================================================================\n",
      " lstm (LSTM)                 (None, 1, 128)            119296    \n",
      "                                                                 \n",
      " dropout (Dropout)           (None, 1, 128)            0         \n",
      "                                                                 \n",
      " lstm_1 (LSTM)               (None, 1, 64)             49408     \n",
      "                                                                 \n",
      " dropout_1 (Dropout)         (None, 1, 64)             0         \n",
      "                                                                 \n",
      " lstm_2 (LSTM)               (None, 1, 32)             12416     \n",
      "                                                                 \n",
      " dropout_2 (Dropout)         (None, 1, 32)             0         \n",
      "                                                                 \n",
      " lstm_3 (LSTM)               (None, 16)                3136      \n",
      "                                                                 \n",
      " dense (Dense)               (None, 104)               1768      \n",
      "                                                                 \n",
      "=================================================================\n",
      "Total params: 186,024\n",
      "Trainable params: 186,024\n",
      "Non-trainable params: 0\n",
      "_________________________________________________________________\n"
     ]
    }
   ],
   "source": [
    "#model = models.lstm_0(train_X_scaled,train_y_scaled)\n",
    "model = Models.get_model(MODEL_NAME, train_X, train_y, ALPHA)\n",
    "model.summary()"
   ],
   "metadata": {
    "collapsed": false,
    "pycharm": {
     "name": "#%%\n"
    }
   }
  },
  {
   "cell_type": "markdown",
   "source": [
    "----\n",
    "# One-Shot Forecasting"
   ],
   "metadata": {
    "collapsed": false,
    "pycharm": {
     "name": "#%% md\n"
    }
   }
  },
  {
   "cell_type": "code",
   "execution_count": 12,
   "outputs": [
    {
     "name": "stdout",
     "output_type": "stream",
     "text": [
      "184054/184054 [==============================] - 88s 475us/step\n"
     ]
    }
   ],
   "source": [
    "_ = model.predict(train_X_scaled, batch_size=1)"
   ],
   "metadata": {
    "collapsed": false,
    "pycharm": {
     "name": "#%%\n"
    }
   }
  },
  {
   "cell_type": "code",
   "execution_count": 13,
   "outputs": [
    {
     "data": {
      "text/plain": "['WDIR_42001',\n 'WSPD_42001',\n 'PRES_42001',\n 'ATMP_42001',\n 'WTMP_42001',\n 'DEWP_42001',\n 'WDIR_42002',\n 'WSPD_42002',\n 'PRES_42002',\n 'ATMP_42002',\n 'WTMP_42002',\n 'DEWP_42002',\n 'WDIR_42003',\n 'WSPD_42003',\n 'PRES_42003',\n 'ATMP_42003',\n 'WTMP_42003',\n 'DEWP_42003',\n 'WDIR_42019',\n 'WSPD_42019',\n 'PRES_42019',\n 'ATMP_42019',\n 'WTMP_42019',\n 'DEWP_42019',\n 'WDIR_42020',\n 'WSPD_42020',\n 'PRES_42020',\n 'ATMP_42020',\n 'WTMP_42020',\n 'DEWP_42020',\n 'WDIR_42035',\n 'WSPD_42035',\n 'PRES_42035',\n 'ATMP_42035',\n 'WTMP_42035',\n 'DEWP_42035',\n 'WDIR_42036',\n 'WSPD_42036',\n 'PRES_42036',\n 'ATMP_42036',\n 'DEWP_42036',\n 'WDIR_42039',\n 'WSPD_42039',\n 'PRES_42039',\n 'ATMP_42039',\n 'WTMP_42039',\n 'WDIR_42040',\n 'WSPD_42040',\n 'PRES_42040',\n 'ATMP_42040',\n 'WTMP_42040',\n 'DEWP_42040',\n 'WTMP_42001_ERA5',\n 'ATMP_42020_ERA5',\n 'ATMP_42001_ERA5',\n 'DEWP_42001_ERA5',\n 'PRES_42019_ERA5',\n 'ATMP_42040_ERA5',\n 'PRES_42001_ERA5',\n 'WDIR_42035_ERA5',\n 'PRES_42003_ERA5',\n 'DEWP_42003_ERA5',\n 'WTMP_42035_ERA5',\n 'PRES_42040_ERA5',\n 'DEWP_42040_ERA5',\n 'ATMP_42035_ERA5',\n 'PRES_42002_ERA5',\n 'WDIR_42001_ERA5',\n 'DEWP_42019_ERA5',\n 'WDIR_42020_ERA5',\n 'WSPD_42019_ERA5',\n 'PRES_42020_ERA5',\n 'DEWP_42036_ERA5',\n 'WTMP_42002_ERA5',\n 'WTMP_42019_ERA5',\n 'WSPD_42036_ERA5',\n 'ATMP_42003_ERA5',\n 'WDIR_42003_ERA5',\n 'WTMP_42003_ERA5',\n 'WTMP_42020_ERA5',\n 'PRES_42036_ERA5',\n 'WDIR_42040_ERA5',\n 'WSPD_42040_ERA5',\n 'WSPD_42003_ERA5',\n 'WSPD_42020_ERA5',\n 'WDIR_42036_ERA5',\n 'WDIR_42019_ERA5',\n 'WTMP_42040_ERA5',\n 'DEWP_42035_ERA5',\n 'ATMP_42002_ERA5',\n 'PRES_42035_ERA5',\n 'WDIR_42002_ERA5',\n 'ATMP_42036_ERA5',\n 'DEWP_42002_ERA5',\n 'WDIR_42039_ERA5',\n 'WSPD_42039_ERA5',\n 'ATMP_42039_ERA5',\n 'WSPD_42035_ERA5',\n 'WSPD_42001_ERA5',\n 'DEWP_42020_ERA5',\n 'ATMP_42019_ERA5',\n 'WTMP_42039_ERA5',\n 'WSPD_42002_ERA5',\n 'PRES_42039_ERA5']"
     },
     "execution_count": 13,
     "metadata": {},
     "output_type": "execute_result"
    }
   ],
   "source": [
    "output_cols = data.columns.tolist()\n",
    "output_cols"
   ],
   "metadata": {
    "collapsed": false,
    "pycharm": {
     "name": "#%%\n"
    }
   }
  },
  {
   "cell_type": "code",
   "execution_count": 14,
   "outputs": [
    {
     "name": "stdout",
     "output_type": "stream",
     "text": [
      "1/1 [==============================] - 0s 453ms/step\n"
     ]
    },
    {
     "data": {
      "text/plain": "                     WDIR_42001_pred  WSPD_42001_pred  PRES_42001_pred  \\\n2022-12-31 00:00:00       181.004929        -1.613021        -4.770545   \n2022-12-31 01:00:00       153.792877        -1.614667        -4.748064   \n2022-12-31 02:00:00       147.790466        -1.605179        -4.838012   \n2022-12-31 03:00:00       251.893433        -1.607363        -4.705099   \n2022-12-31 04:00:00       129.493835        -1.612553        -4.713374   \n2022-12-31 05:00:00        74.741692        -1.605976        -4.897756   \n2022-12-31 06:00:00       120.373848        -1.614301        -4.934953   \n2022-12-31 07:00:00       178.339676        -1.612391        -4.907498   \n2022-12-31 08:00:00       150.286926        -1.616956        -4.884286   \n2022-12-31 09:00:00       121.625717        -1.606470        -4.992885   \n2022-12-31 10:00:00       189.564972        -1.611118        -4.788376   \n2022-12-31 11:00:00       105.669395        -1.606467        -4.531281   \n2022-12-31 12:00:00       233.235947        -1.602930        -4.713221   \n2022-12-31 13:00:00        96.614883        -1.618529        -4.633174   \n2022-12-31 14:00:00       135.033066        -1.595880        -4.981678   \n2022-12-31 15:00:00        42.930000        -1.587185        -5.076926   \n2022-12-31 16:00:00        85.363609        -1.628034        -4.787864   \n2022-12-31 17:00:00        54.655842        -1.621177        -4.729352   \n2022-12-31 18:00:00       202.575714        -1.607983        -4.855847   \n2022-12-31 19:00:00        98.492783        -1.611155        -4.921892   \n2022-12-31 20:00:00       168.632996        -1.620515        -4.545972   \n2022-12-31 21:00:00       236.735764        -1.596587        -4.752748   \n2022-12-31 22:00:00       194.262527        -1.576626        -4.843761   \n2022-12-31 23:00:00       246.323593        -1.629286        -4.481619   \n\n                     ATMP_42001_pred  WTMP_42001_pred  DEWP_42001_pred  \\\n2022-12-31 00:00:00        -0.699644        -0.900683        -2.236889   \n2022-12-31 01:00:00        -0.700806        -0.900419        -2.239975   \n2022-12-31 02:00:00        -0.703050        -0.901353        -2.239955   \n2022-12-31 03:00:00        -0.699231        -0.899855        -2.239411   \n2022-12-31 04:00:00        -0.700811        -0.900203        -2.240116   \n2022-12-31 05:00:00        -0.703968        -0.902001        -2.238764   \n2022-12-31 06:00:00        -0.703543        -0.902274        -2.238032   \n2022-12-31 07:00:00        -0.703678        -0.901578        -2.240569   \n2022-12-31 08:00:00        -0.701741        -0.901529        -2.238487   \n2022-12-31 09:00:00        -0.702674        -0.902440        -2.238186   \n2022-12-31 10:00:00        -0.700193        -0.900540        -2.239421   \n2022-12-31 11:00:00        -0.698126        -0.898204        -2.246050   \n2022-12-31 12:00:00        -0.700803        -0.900173        -2.240429   \n2022-12-31 13:00:00        -0.700239        -0.899481        -2.241341   \n2022-12-31 14:00:00        -0.704837        -0.902382        -2.240732   \n2022-12-31 15:00:00        -0.706642        -0.903340        -2.241338   \n2022-12-31 16:00:00        -0.701682        -0.900889        -2.240793   \n2022-12-31 17:00:00        -0.702127        -0.900635        -2.241177   \n2022-12-31 18:00:00        -0.701938        -0.901263        -2.238642   \n2022-12-31 19:00:00        -0.702599        -0.901682        -2.240259   \n2022-12-31 20:00:00        -0.696447        -0.897672        -2.249657   \n2022-12-31 21:00:00        -0.701093        -0.899728        -2.245052   \n2022-12-31 22:00:00        -0.703428        -0.900995        -2.244076   \n2022-12-31 23:00:00        -0.696927        -0.897224        -2.249951   \n\n                     WDIR_42002_pred  WSPD_42002_pred  PRES_42002_pred  \\\n2022-12-31 00:00:00       -19.737869        -5.553482        -0.897391   \n2022-12-31 01:00:00       -21.147339        -5.550149        -0.886973   \n2022-12-31 02:00:00       -21.473269        -5.569685        -0.945232   \n2022-12-31 03:00:00       -10.116276        -5.539085        -0.852375   \n2022-12-31 04:00:00       -27.197329        -5.544037        -0.868325   \n2022-12-31 05:00:00       -28.829403        -5.586896        -0.984891   \n2022-12-31 06:00:00       -29.581989        -5.591302        -1.011824   \n2022-12-31 07:00:00       -21.512299        -5.576720        -0.991919   \n2022-12-31 08:00:00       -24.749487        -5.578020        -0.977968   \n2022-12-31 09:00:00       -26.948149        -5.608409        -1.048625   \n2022-12-31 10:00:00       -18.853701        -5.558774        -0.912753   \n2022-12-31 11:00:00       -19.257784        -5.523890        -0.747737   \n2022-12-31 12:00:00       -12.547249        -5.542958        -0.861357   \n2022-12-31 13:00:00       -25.159506        -5.531990        -0.811858   \n2022-12-31 14:00:00       -21.536665        -5.601438        -1.039328   \n2022-12-31 15:00:00       -23.199329        -5.632998        -1.094388   \n2022-12-31 16:00:00       -31.839914        -5.560295        -0.922527   \n2022-12-31 17:00:00       -35.319794        -5.554490        -0.884966   \n2022-12-31 18:00:00       -17.991251        -5.567142        -0.954035   \n2022-12-31 19:00:00       -24.771757        -5.591738        -0.999247   \n2022-12-31 20:00:00        -3.258690        -5.522286        -0.752706   \n2022-12-31 21:00:00        -6.523567        -5.552904        -0.886711   \n2022-12-31 22:00:00        -7.956114        -5.582746        -0.944116   \n2022-12-31 23:00:00         5.367299        -5.491394        -0.718341   \n\n                     ATMP_42002_pred  ...  WDIR_42039_ERA5_pred  \\\n2022-12-31 00:00:00        -0.419738  ...           -613.882141   \n2022-12-31 01:00:00        -0.420351  ...           -393.186249   \n2022-12-31 02:00:00        -0.417294  ...           -428.900360   \n2022-12-31 03:00:00        -0.422122  ...           -559.526001   \n2022-12-31 04:00:00        -0.423558  ...           -423.940002   \n2022-12-31 05:00:00        -0.415325  ...           -472.175781   \n2022-12-31 06:00:00        -0.415633  ...           -701.027954   \n2022-12-31 07:00:00        -0.417067  ...           -583.861938   \n2022-12-31 08:00:00        -0.417343  ...           -741.881470   \n2022-12-31 09:00:00        -0.414849  ...           -957.101990   \n2022-12-31 10:00:00        -0.420979  ...           -639.497803   \n2022-12-31 11:00:00        -0.430064  ...           -157.522781   \n2022-12-31 12:00:00        -0.421568  ...           -376.551971   \n2022-12-31 13:00:00        -0.424495  ...           -188.145462   \n2022-12-31 14:00:00        -0.413868  ...           -632.673096   \n2022-12-31 15:00:00        -0.410601  ...           -724.438171   \n2022-12-31 16:00:00        -0.419708  ...           -431.861572   \n2022-12-31 17:00:00        -0.421988  ...           -247.450302   \n2022-12-31 18:00:00        -0.417722  ...           -603.647156   \n2022-12-31 19:00:00        -0.416106  ...           -734.178467   \n2022-12-31 20:00:00        -0.428266  ...           -385.147034   \n2022-12-31 21:00:00        -0.422676  ...           -458.297180   \n2022-12-31 22:00:00        -0.418792  ...           -490.871338   \n2022-12-31 23:00:00        -0.425674  ...           -124.197594   \n\n                     WSPD_42039_ERA5_pred  ATMP_42039_ERA5_pred  \\\n2022-12-31 00:00:00             -1.330827             -2.026993   \n2022-12-31 01:00:00             -1.359675             -2.031423   \n2022-12-31 02:00:00             -1.328351             -2.031884   \n2022-12-31 03:00:00             -1.368373             -2.031934   \n2022-12-31 04:00:00             -1.343874             -2.032681   \n2022-12-31 05:00:00             -1.290115             -2.030331   \n2022-12-31 06:00:00             -1.286852             -2.023575   \n2022-12-31 07:00:00             -1.320129             -2.025574   \n2022-12-31 08:00:00             -1.311304             -2.022185   \n2022-12-31 09:00:00             -1.270491             -2.018897   \n2022-12-31 10:00:00             -1.347229             -2.027443   \n2022-12-31 11:00:00             -1.439496             -2.046110   \n2022-12-31 12:00:00             -1.368076             -2.036527   \n2022-12-31 13:00:00             -1.385908             -2.036876   \n2022-12-31 14:00:00             -1.287246             -2.027605   \n2022-12-31 15:00:00             -1.252810             -2.027782   \n2022-12-31 16:00:00             -1.352152             -2.026592   \n2022-12-31 17:00:00             -1.355304             -2.033741   \n2022-12-31 18:00:00             -1.326602             -2.026632   \n2022-12-31 19:00:00             -1.316178             -2.023578   \n2022-12-31 20:00:00             -1.493943             -2.042221   \n2022-12-31 21:00:00             -1.407423             -2.037165   \n2022-12-31 22:00:00             -1.359872             -2.040741   \n2022-12-31 23:00:00             -1.475194             -2.047612   \n\n                     WSPD_42035_ERA5_pred  WSPD_42001_ERA5_pred  \\\n2022-12-31 00:00:00              0.355348             -0.048313   \n2022-12-31 01:00:00              0.356995             -0.055516   \n2022-12-31 02:00:00              0.354822             -0.060653   \n2022-12-31 03:00:00              0.357185             -0.049558   \n2022-12-31 04:00:00              0.355885             -0.047158   \n2022-12-31 05:00:00              0.352869             -0.058690   \n2022-12-31 06:00:00              0.365335             -0.066122   \n2022-12-31 07:00:00              0.351233             -0.067885   \n2022-12-31 08:00:00              0.364140             -0.062910   \n2022-12-31 09:00:00              0.366292             -0.067558   \n2022-12-31 10:00:00              0.360989             -0.057680   \n2022-12-31 11:00:00              0.371165             -0.052311   \n2022-12-31 12:00:00              0.362890             -0.056370   \n2022-12-31 13:00:00              0.366929             -0.049724   \n2022-12-31 14:00:00              0.350074             -0.069281   \n2022-12-31 15:00:00              0.358751             -0.076116   \n2022-12-31 16:00:00              0.369456             -0.063400   \n2022-12-31 17:00:00              0.372303             -0.059038   \n2022-12-31 18:00:00              0.351974             -0.060456   \n2022-12-31 19:00:00              0.360831             -0.067699   \n2022-12-31 20:00:00              0.377870             -0.067587   \n2022-12-31 21:00:00              0.357131             -0.069443   \n2022-12-31 22:00:00              0.367247             -0.073844   \n2022-12-31 23:00:00              0.347990             -0.049265   \n\n                     DEWP_42020_ERA5_pred  ATMP_42019_ERA5_pred  \\\n2022-12-31 00:00:00             -1.429555             -2.238705   \n2022-12-31 01:00:00             -1.439693             -2.242640   \n2022-12-31 02:00:00             -1.401854             -2.220924   \n2022-12-31 03:00:00             -1.456493             -2.255240   \n2022-12-31 04:00:00             -1.455288             -2.254955   \n2022-12-31 05:00:00             -1.377318             -2.207604   \n2022-12-31 06:00:00             -1.368586             -2.202179   \n2022-12-31 07:00:00             -1.382164             -2.206639   \n2022-12-31 08:00:00             -1.392151             -2.215679   \n2022-12-31 09:00:00             -1.348791             -2.189194   \n2022-12-31 10:00:00             -1.427690             -2.234599   \n2022-12-31 11:00:00             -1.522058             -2.286154   \n2022-12-31 12:00:00             -1.448849             -2.248046   \n2022-12-31 13:00:00             -1.484192             -2.271621   \n2022-12-31 14:00:00             -1.347243             -2.185947   \n2022-12-31 15:00:00             -1.304676             -2.161078   \n2022-12-31 16:00:00             -1.430124             -2.237502   \n2022-12-31 17:00:00             -1.448505             -2.249484   \n2022-12-31 18:00:00             -1.398643             -2.217859   \n2022-12-31 19:00:00             -1.375173             -2.203542   \n2022-12-31 20:00:00             -1.519526             -2.277836   \n2022-12-31 21:00:00             -1.438523             -2.233832   \n2022-12-31 22:00:00             -1.394157             -2.210053   \n2022-12-31 23:00:00             -1.547029             -2.301755   \n\n                     WTMP_42039_ERA5_pred  WSPD_42002_ERA5_pred  \\\n2022-12-31 00:00:00              0.020209              0.231062   \n2022-12-31 01:00:00              0.020079              0.216955   \n2022-12-31 02:00:00              0.019491              0.224087   \n2022-12-31 03:00:00              0.020513              0.202442   \n2022-12-31 04:00:00              0.020055              0.224556   \n2022-12-31 05:00:00              0.019080              0.242003   \n2022-12-31 06:00:00              0.018847              0.232062   \n2022-12-31 07:00:00              0.019025              0.220815   \n2022-12-31 08:00:00              0.019157              0.222885   \n2022-12-31 09:00:00              0.018459              0.223692   \n2022-12-31 10:00:00              0.019870              0.209694   \n2022-12-31 11:00:00              0.021044              0.163307   \n2022-12-31 12:00:00              0.020458              0.202652   \n2022-12-31 13:00:00              0.020533              0.207131   \n2022-12-31 14:00:00              0.018528              0.226061   \n2022-12-31 15:00:00              0.017783              0.222924   \n2022-12-31 16:00:00              0.019448              0.216725   \n2022-12-31 17:00:00              0.019757              0.216784   \n2022-12-31 18:00:00              0.019582              0.224636   \n2022-12-31 19:00:00              0.018820              0.214070   \n2022-12-31 20:00:00              0.020955              0.121118   \n2022-12-31 21:00:00              0.020008              0.168614   \n2022-12-31 22:00:00              0.019435              0.176169   \n2022-12-31 23:00:00              0.021256              0.153856   \n\n                     PRES_42039_ERA5_pred  \n2022-12-31 00:00:00             -0.949860  \n2022-12-31 01:00:00             -0.943733  \n2022-12-31 02:00:00             -0.955737  \n2022-12-31 03:00:00             -0.936655  \n2022-12-31 04:00:00             -0.934579  \n2022-12-31 05:00:00             -0.964053  \n2022-12-31 06:00:00             -0.974344  \n2022-12-31 07:00:00             -0.968920  \n2022-12-31 08:00:00             -0.967720  \n2022-12-31 09:00:00             -0.984790  \n2022-12-31 10:00:00             -0.952059  \n2022-12-31 11:00:00             -0.904522  \n2022-12-31 12:00:00             -0.937596  \n2022-12-31 13:00:00             -0.922455  \n2022-12-31 14:00:00             -0.978054  \n2022-12-31 15:00:00             -0.991258  \n2022-12-31 16:00:00             -0.951142  \n2022-12-31 17:00:00             -0.938357  \n2022-12-31 18:00:00             -0.962208  \n2022-12-31 19:00:00             -0.971542  \n2022-12-31 20:00:00             -0.911983  \n2022-12-31 21:00:00             -0.942768  \n2022-12-31 22:00:00             -0.954318  \n2022-12-31 23:00:00             -0.895107  \n\n[24 rows x 104 columns]",
      "text/html": "<div>\n<style scoped>\n    .dataframe tbody tr th:only-of-type {\n        vertical-align: middle;\n    }\n\n    .dataframe tbody tr th {\n        vertical-align: top;\n    }\n\n    .dataframe thead th {\n        text-align: right;\n    }\n</style>\n<table border=\"1\" class=\"dataframe\">\n  <thead>\n    <tr style=\"text-align: right;\">\n      <th></th>\n      <th>WDIR_42001_pred</th>\n      <th>WSPD_42001_pred</th>\n      <th>PRES_42001_pred</th>\n      <th>ATMP_42001_pred</th>\n      <th>WTMP_42001_pred</th>\n      <th>DEWP_42001_pred</th>\n      <th>WDIR_42002_pred</th>\n      <th>WSPD_42002_pred</th>\n      <th>PRES_42002_pred</th>\n      <th>ATMP_42002_pred</th>\n      <th>...</th>\n      <th>WDIR_42039_ERA5_pred</th>\n      <th>WSPD_42039_ERA5_pred</th>\n      <th>ATMP_42039_ERA5_pred</th>\n      <th>WSPD_42035_ERA5_pred</th>\n      <th>WSPD_42001_ERA5_pred</th>\n      <th>DEWP_42020_ERA5_pred</th>\n      <th>ATMP_42019_ERA5_pred</th>\n      <th>WTMP_42039_ERA5_pred</th>\n      <th>WSPD_42002_ERA5_pred</th>\n      <th>PRES_42039_ERA5_pred</th>\n    </tr>\n  </thead>\n  <tbody>\n    <tr>\n      <th>2022-12-31 00:00:00</th>\n      <td>181.004929</td>\n      <td>-1.613021</td>\n      <td>-4.770545</td>\n      <td>-0.699644</td>\n      <td>-0.900683</td>\n      <td>-2.236889</td>\n      <td>-19.737869</td>\n      <td>-5.553482</td>\n      <td>-0.897391</td>\n      <td>-0.419738</td>\n      <td>...</td>\n      <td>-613.882141</td>\n      <td>-1.330827</td>\n      <td>-2.026993</td>\n      <td>0.355348</td>\n      <td>-0.048313</td>\n      <td>-1.429555</td>\n      <td>-2.238705</td>\n      <td>0.020209</td>\n      <td>0.231062</td>\n      <td>-0.949860</td>\n    </tr>\n    <tr>\n      <th>2022-12-31 01:00:00</th>\n      <td>153.792877</td>\n      <td>-1.614667</td>\n      <td>-4.748064</td>\n      <td>-0.700806</td>\n      <td>-0.900419</td>\n      <td>-2.239975</td>\n      <td>-21.147339</td>\n      <td>-5.550149</td>\n      <td>-0.886973</td>\n      <td>-0.420351</td>\n      <td>...</td>\n      <td>-393.186249</td>\n      <td>-1.359675</td>\n      <td>-2.031423</td>\n      <td>0.356995</td>\n      <td>-0.055516</td>\n      <td>-1.439693</td>\n      <td>-2.242640</td>\n      <td>0.020079</td>\n      <td>0.216955</td>\n      <td>-0.943733</td>\n    </tr>\n    <tr>\n      <th>2022-12-31 02:00:00</th>\n      <td>147.790466</td>\n      <td>-1.605179</td>\n      <td>-4.838012</td>\n      <td>-0.703050</td>\n      <td>-0.901353</td>\n      <td>-2.239955</td>\n      <td>-21.473269</td>\n      <td>-5.569685</td>\n      <td>-0.945232</td>\n      <td>-0.417294</td>\n      <td>...</td>\n      <td>-428.900360</td>\n      <td>-1.328351</td>\n      <td>-2.031884</td>\n      <td>0.354822</td>\n      <td>-0.060653</td>\n      <td>-1.401854</td>\n      <td>-2.220924</td>\n      <td>0.019491</td>\n      <td>0.224087</td>\n      <td>-0.955737</td>\n    </tr>\n    <tr>\n      <th>2022-12-31 03:00:00</th>\n      <td>251.893433</td>\n      <td>-1.607363</td>\n      <td>-4.705099</td>\n      <td>-0.699231</td>\n      <td>-0.899855</td>\n      <td>-2.239411</td>\n      <td>-10.116276</td>\n      <td>-5.539085</td>\n      <td>-0.852375</td>\n      <td>-0.422122</td>\n      <td>...</td>\n      <td>-559.526001</td>\n      <td>-1.368373</td>\n      <td>-2.031934</td>\n      <td>0.357185</td>\n      <td>-0.049558</td>\n      <td>-1.456493</td>\n      <td>-2.255240</td>\n      <td>0.020513</td>\n      <td>0.202442</td>\n      <td>-0.936655</td>\n    </tr>\n    <tr>\n      <th>2022-12-31 04:00:00</th>\n      <td>129.493835</td>\n      <td>-1.612553</td>\n      <td>-4.713374</td>\n      <td>-0.700811</td>\n      <td>-0.900203</td>\n      <td>-2.240116</td>\n      <td>-27.197329</td>\n      <td>-5.544037</td>\n      <td>-0.868325</td>\n      <td>-0.423558</td>\n      <td>...</td>\n      <td>-423.940002</td>\n      <td>-1.343874</td>\n      <td>-2.032681</td>\n      <td>0.355885</td>\n      <td>-0.047158</td>\n      <td>-1.455288</td>\n      <td>-2.254955</td>\n      <td>0.020055</td>\n      <td>0.224556</td>\n      <td>-0.934579</td>\n    </tr>\n    <tr>\n      <th>2022-12-31 05:00:00</th>\n      <td>74.741692</td>\n      <td>-1.605976</td>\n      <td>-4.897756</td>\n      <td>-0.703968</td>\n      <td>-0.902001</td>\n      <td>-2.238764</td>\n      <td>-28.829403</td>\n      <td>-5.586896</td>\n      <td>-0.984891</td>\n      <td>-0.415325</td>\n      <td>...</td>\n      <td>-472.175781</td>\n      <td>-1.290115</td>\n      <td>-2.030331</td>\n      <td>0.352869</td>\n      <td>-0.058690</td>\n      <td>-1.377318</td>\n      <td>-2.207604</td>\n      <td>0.019080</td>\n      <td>0.242003</td>\n      <td>-0.964053</td>\n    </tr>\n    <tr>\n      <th>2022-12-31 06:00:00</th>\n      <td>120.373848</td>\n      <td>-1.614301</td>\n      <td>-4.934953</td>\n      <td>-0.703543</td>\n      <td>-0.902274</td>\n      <td>-2.238032</td>\n      <td>-29.581989</td>\n      <td>-5.591302</td>\n      <td>-1.011824</td>\n      <td>-0.415633</td>\n      <td>...</td>\n      <td>-701.027954</td>\n      <td>-1.286852</td>\n      <td>-2.023575</td>\n      <td>0.365335</td>\n      <td>-0.066122</td>\n      <td>-1.368586</td>\n      <td>-2.202179</td>\n      <td>0.018847</td>\n      <td>0.232062</td>\n      <td>-0.974344</td>\n    </tr>\n    <tr>\n      <th>2022-12-31 07:00:00</th>\n      <td>178.339676</td>\n      <td>-1.612391</td>\n      <td>-4.907498</td>\n      <td>-0.703678</td>\n      <td>-0.901578</td>\n      <td>-2.240569</td>\n      <td>-21.512299</td>\n      <td>-5.576720</td>\n      <td>-0.991919</td>\n      <td>-0.417067</td>\n      <td>...</td>\n      <td>-583.861938</td>\n      <td>-1.320129</td>\n      <td>-2.025574</td>\n      <td>0.351233</td>\n      <td>-0.067885</td>\n      <td>-1.382164</td>\n      <td>-2.206639</td>\n      <td>0.019025</td>\n      <td>0.220815</td>\n      <td>-0.968920</td>\n    </tr>\n    <tr>\n      <th>2022-12-31 08:00:00</th>\n      <td>150.286926</td>\n      <td>-1.616956</td>\n      <td>-4.884286</td>\n      <td>-0.701741</td>\n      <td>-0.901529</td>\n      <td>-2.238487</td>\n      <td>-24.749487</td>\n      <td>-5.578020</td>\n      <td>-0.977968</td>\n      <td>-0.417343</td>\n      <td>...</td>\n      <td>-741.881470</td>\n      <td>-1.311304</td>\n      <td>-2.022185</td>\n      <td>0.364140</td>\n      <td>-0.062910</td>\n      <td>-1.392151</td>\n      <td>-2.215679</td>\n      <td>0.019157</td>\n      <td>0.222885</td>\n      <td>-0.967720</td>\n    </tr>\n    <tr>\n      <th>2022-12-31 09:00:00</th>\n      <td>121.625717</td>\n      <td>-1.606470</td>\n      <td>-4.992885</td>\n      <td>-0.702674</td>\n      <td>-0.902440</td>\n      <td>-2.238186</td>\n      <td>-26.948149</td>\n      <td>-5.608409</td>\n      <td>-1.048625</td>\n      <td>-0.414849</td>\n      <td>...</td>\n      <td>-957.101990</td>\n      <td>-1.270491</td>\n      <td>-2.018897</td>\n      <td>0.366292</td>\n      <td>-0.067558</td>\n      <td>-1.348791</td>\n      <td>-2.189194</td>\n      <td>0.018459</td>\n      <td>0.223692</td>\n      <td>-0.984790</td>\n    </tr>\n    <tr>\n      <th>2022-12-31 10:00:00</th>\n      <td>189.564972</td>\n      <td>-1.611118</td>\n      <td>-4.788376</td>\n      <td>-0.700193</td>\n      <td>-0.900540</td>\n      <td>-2.239421</td>\n      <td>-18.853701</td>\n      <td>-5.558774</td>\n      <td>-0.912753</td>\n      <td>-0.420979</td>\n      <td>...</td>\n      <td>-639.497803</td>\n      <td>-1.347229</td>\n      <td>-2.027443</td>\n      <td>0.360989</td>\n      <td>-0.057680</td>\n      <td>-1.427690</td>\n      <td>-2.234599</td>\n      <td>0.019870</td>\n      <td>0.209694</td>\n      <td>-0.952059</td>\n    </tr>\n    <tr>\n      <th>2022-12-31 11:00:00</th>\n      <td>105.669395</td>\n      <td>-1.606467</td>\n      <td>-4.531281</td>\n      <td>-0.698126</td>\n      <td>-0.898204</td>\n      <td>-2.246050</td>\n      <td>-19.257784</td>\n      <td>-5.523890</td>\n      <td>-0.747737</td>\n      <td>-0.430064</td>\n      <td>...</td>\n      <td>-157.522781</td>\n      <td>-1.439496</td>\n      <td>-2.046110</td>\n      <td>0.371165</td>\n      <td>-0.052311</td>\n      <td>-1.522058</td>\n      <td>-2.286154</td>\n      <td>0.021044</td>\n      <td>0.163307</td>\n      <td>-0.904522</td>\n    </tr>\n    <tr>\n      <th>2022-12-31 12:00:00</th>\n      <td>233.235947</td>\n      <td>-1.602930</td>\n      <td>-4.713221</td>\n      <td>-0.700803</td>\n      <td>-0.900173</td>\n      <td>-2.240429</td>\n      <td>-12.547249</td>\n      <td>-5.542958</td>\n      <td>-0.861357</td>\n      <td>-0.421568</td>\n      <td>...</td>\n      <td>-376.551971</td>\n      <td>-1.368076</td>\n      <td>-2.036527</td>\n      <td>0.362890</td>\n      <td>-0.056370</td>\n      <td>-1.448849</td>\n      <td>-2.248046</td>\n      <td>0.020458</td>\n      <td>0.202652</td>\n      <td>-0.937596</td>\n    </tr>\n    <tr>\n      <th>2022-12-31 13:00:00</th>\n      <td>96.614883</td>\n      <td>-1.618529</td>\n      <td>-4.633174</td>\n      <td>-0.700239</td>\n      <td>-0.899481</td>\n      <td>-2.241341</td>\n      <td>-25.159506</td>\n      <td>-5.531990</td>\n      <td>-0.811858</td>\n      <td>-0.424495</td>\n      <td>...</td>\n      <td>-188.145462</td>\n      <td>-1.385908</td>\n      <td>-2.036876</td>\n      <td>0.366929</td>\n      <td>-0.049724</td>\n      <td>-1.484192</td>\n      <td>-2.271621</td>\n      <td>0.020533</td>\n      <td>0.207131</td>\n      <td>-0.922455</td>\n    </tr>\n    <tr>\n      <th>2022-12-31 14:00:00</th>\n      <td>135.033066</td>\n      <td>-1.595880</td>\n      <td>-4.981678</td>\n      <td>-0.704837</td>\n      <td>-0.902382</td>\n      <td>-2.240732</td>\n      <td>-21.536665</td>\n      <td>-5.601438</td>\n      <td>-1.039328</td>\n      <td>-0.413868</td>\n      <td>...</td>\n      <td>-632.673096</td>\n      <td>-1.287246</td>\n      <td>-2.027605</td>\n      <td>0.350074</td>\n      <td>-0.069281</td>\n      <td>-1.347243</td>\n      <td>-2.185947</td>\n      <td>0.018528</td>\n      <td>0.226061</td>\n      <td>-0.978054</td>\n    </tr>\n    <tr>\n      <th>2022-12-31 15:00:00</th>\n      <td>42.930000</td>\n      <td>-1.587185</td>\n      <td>-5.076926</td>\n      <td>-0.706642</td>\n      <td>-0.903340</td>\n      <td>-2.241338</td>\n      <td>-23.199329</td>\n      <td>-5.632998</td>\n      <td>-1.094388</td>\n      <td>-0.410601</td>\n      <td>...</td>\n      <td>-724.438171</td>\n      <td>-1.252810</td>\n      <td>-2.027782</td>\n      <td>0.358751</td>\n      <td>-0.076116</td>\n      <td>-1.304676</td>\n      <td>-2.161078</td>\n      <td>0.017783</td>\n      <td>0.222924</td>\n      <td>-0.991258</td>\n    </tr>\n    <tr>\n      <th>2022-12-31 16:00:00</th>\n      <td>85.363609</td>\n      <td>-1.628034</td>\n      <td>-4.787864</td>\n      <td>-0.701682</td>\n      <td>-0.900889</td>\n      <td>-2.240793</td>\n      <td>-31.839914</td>\n      <td>-5.560295</td>\n      <td>-0.922527</td>\n      <td>-0.419708</td>\n      <td>...</td>\n      <td>-431.861572</td>\n      <td>-1.352152</td>\n      <td>-2.026592</td>\n      <td>0.369456</td>\n      <td>-0.063400</td>\n      <td>-1.430124</td>\n      <td>-2.237502</td>\n      <td>0.019448</td>\n      <td>0.216725</td>\n      <td>-0.951142</td>\n    </tr>\n    <tr>\n      <th>2022-12-31 17:00:00</th>\n      <td>54.655842</td>\n      <td>-1.621177</td>\n      <td>-4.729352</td>\n      <td>-0.702127</td>\n      <td>-0.900635</td>\n      <td>-2.241177</td>\n      <td>-35.319794</td>\n      <td>-5.554490</td>\n      <td>-0.884966</td>\n      <td>-0.421988</td>\n      <td>...</td>\n      <td>-247.450302</td>\n      <td>-1.355304</td>\n      <td>-2.033741</td>\n      <td>0.372303</td>\n      <td>-0.059038</td>\n      <td>-1.448505</td>\n      <td>-2.249484</td>\n      <td>0.019757</td>\n      <td>0.216784</td>\n      <td>-0.938357</td>\n    </tr>\n    <tr>\n      <th>2022-12-31 18:00:00</th>\n      <td>202.575714</td>\n      <td>-1.607983</td>\n      <td>-4.855847</td>\n      <td>-0.701938</td>\n      <td>-0.901263</td>\n      <td>-2.238642</td>\n      <td>-17.991251</td>\n      <td>-5.567142</td>\n      <td>-0.954035</td>\n      <td>-0.417722</td>\n      <td>...</td>\n      <td>-603.647156</td>\n      <td>-1.326602</td>\n      <td>-2.026632</td>\n      <td>0.351974</td>\n      <td>-0.060456</td>\n      <td>-1.398643</td>\n      <td>-2.217859</td>\n      <td>0.019582</td>\n      <td>0.224636</td>\n      <td>-0.962208</td>\n    </tr>\n    <tr>\n      <th>2022-12-31 19:00:00</th>\n      <td>98.492783</td>\n      <td>-1.611155</td>\n      <td>-4.921892</td>\n      <td>-0.702599</td>\n      <td>-0.901682</td>\n      <td>-2.240259</td>\n      <td>-24.771757</td>\n      <td>-5.591738</td>\n      <td>-0.999247</td>\n      <td>-0.416106</td>\n      <td>...</td>\n      <td>-734.178467</td>\n      <td>-1.316178</td>\n      <td>-2.023578</td>\n      <td>0.360831</td>\n      <td>-0.067699</td>\n      <td>-1.375173</td>\n      <td>-2.203542</td>\n      <td>0.018820</td>\n      <td>0.214070</td>\n      <td>-0.971542</td>\n    </tr>\n    <tr>\n      <th>2022-12-31 20:00:00</th>\n      <td>168.632996</td>\n      <td>-1.620515</td>\n      <td>-4.545972</td>\n      <td>-0.696447</td>\n      <td>-0.897672</td>\n      <td>-2.249657</td>\n      <td>-3.258690</td>\n      <td>-5.522286</td>\n      <td>-0.752706</td>\n      <td>-0.428266</td>\n      <td>...</td>\n      <td>-385.147034</td>\n      <td>-1.493943</td>\n      <td>-2.042221</td>\n      <td>0.377870</td>\n      <td>-0.067587</td>\n      <td>-1.519526</td>\n      <td>-2.277836</td>\n      <td>0.020955</td>\n      <td>0.121118</td>\n      <td>-0.911983</td>\n    </tr>\n    <tr>\n      <th>2022-12-31 21:00:00</th>\n      <td>236.735764</td>\n      <td>-1.596587</td>\n      <td>-4.752748</td>\n      <td>-0.701093</td>\n      <td>-0.899728</td>\n      <td>-2.245052</td>\n      <td>-6.523567</td>\n      <td>-5.552904</td>\n      <td>-0.886711</td>\n      <td>-0.422676</td>\n      <td>...</td>\n      <td>-458.297180</td>\n      <td>-1.407423</td>\n      <td>-2.037165</td>\n      <td>0.357131</td>\n      <td>-0.069443</td>\n      <td>-1.438523</td>\n      <td>-2.233832</td>\n      <td>0.020008</td>\n      <td>0.168614</td>\n      <td>-0.942768</td>\n    </tr>\n    <tr>\n      <th>2022-12-31 22:00:00</th>\n      <td>194.262527</td>\n      <td>-1.576626</td>\n      <td>-4.843761</td>\n      <td>-0.703428</td>\n      <td>-0.900995</td>\n      <td>-2.244076</td>\n      <td>-7.956114</td>\n      <td>-5.582746</td>\n      <td>-0.944116</td>\n      <td>-0.418792</td>\n      <td>...</td>\n      <td>-490.871338</td>\n      <td>-1.359872</td>\n      <td>-2.040741</td>\n      <td>0.367247</td>\n      <td>-0.073844</td>\n      <td>-1.394157</td>\n      <td>-2.210053</td>\n      <td>0.019435</td>\n      <td>0.176169</td>\n      <td>-0.954318</td>\n    </tr>\n    <tr>\n      <th>2022-12-31 23:00:00</th>\n      <td>246.323593</td>\n      <td>-1.629286</td>\n      <td>-4.481619</td>\n      <td>-0.696927</td>\n      <td>-0.897224</td>\n      <td>-2.249951</td>\n      <td>5.367299</td>\n      <td>-5.491394</td>\n      <td>-0.718341</td>\n      <td>-0.425674</td>\n      <td>...</td>\n      <td>-124.197594</td>\n      <td>-1.475194</td>\n      <td>-2.047612</td>\n      <td>0.347990</td>\n      <td>-0.049265</td>\n      <td>-1.547029</td>\n      <td>-2.301755</td>\n      <td>0.021256</td>\n      <td>0.153856</td>\n      <td>-0.895107</td>\n    </tr>\n  </tbody>\n</table>\n<p>24 rows × 104 columns</p>\n</div>"
     },
     "execution_count": 14,
     "metadata": {},
     "output_type": "execute_result"
    }
   ],
   "source": [
    "yhat = model.predict(test_X_scaled)\n",
    "yhat_unscaled = DP.invert_scaling(yhat, SCALER)\n",
    "yhat_unscaled_df = pd.DataFrame(yhat_unscaled, columns=[name + \"_pred\" for name in output_cols])\n",
    "yhat_unscaled_df.set_index(data.tail(len(yhat)).index, inplace=True)\n",
    "yhat_unscaled_df"
   ],
   "metadata": {
    "collapsed": false,
    "pycharm": {
     "name": "#%%\n"
    }
   }
  },
  {
   "cell_type": "markdown",
   "source": [
    "# Correct wind direction (modulo 360)"
   ],
   "metadata": {
    "collapsed": false,
    "pycharm": {
     "name": "#%% md\n"
    }
   }
  },
  {
   "cell_type": "code",
   "execution_count": 15,
   "outputs": [
    {
     "data": {
      "text/plain": "                     WDIR_42001_pred  WSPD_42001_pred  PRES_42001_pred  \\\n2022-12-31 00:00:00       181.004929        -1.613021        -4.770545   \n2022-12-31 01:00:00       153.792877        -1.614667        -4.748064   \n2022-12-31 02:00:00       147.790466        -1.605179        -4.838012   \n2022-12-31 03:00:00       251.893433        -1.607363        -4.705099   \n2022-12-31 04:00:00       129.493835        -1.612553        -4.713374   \n2022-12-31 05:00:00        74.741692        -1.605976        -4.897756   \n2022-12-31 06:00:00       120.373848        -1.614301        -4.934953   \n2022-12-31 07:00:00       178.339676        -1.612391        -4.907498   \n2022-12-31 08:00:00       150.286926        -1.616956        -4.884286   \n2022-12-31 09:00:00       121.625717        -1.606470        -4.992885   \n2022-12-31 10:00:00       189.564972        -1.611118        -4.788376   \n2022-12-31 11:00:00       105.669395        -1.606467        -4.531281   \n2022-12-31 12:00:00       233.235947        -1.602930        -4.713221   \n2022-12-31 13:00:00        96.614883        -1.618529        -4.633174   \n2022-12-31 14:00:00       135.033066        -1.595880        -4.981678   \n2022-12-31 15:00:00        42.930000        -1.587185        -5.076926   \n2022-12-31 16:00:00        85.363609        -1.628034        -4.787864   \n2022-12-31 17:00:00        54.655842        -1.621177        -4.729352   \n2022-12-31 18:00:00       202.575714        -1.607983        -4.855847   \n2022-12-31 19:00:00        98.492783        -1.611155        -4.921892   \n2022-12-31 20:00:00       168.632996        -1.620515        -4.545972   \n2022-12-31 21:00:00       236.735764        -1.596587        -4.752748   \n2022-12-31 22:00:00       194.262527        -1.576626        -4.843761   \n2022-12-31 23:00:00       246.323593        -1.629286        -4.481619   \n\n                     ATMP_42001_pred  WTMP_42001_pred  DEWP_42001_pred  \\\n2022-12-31 00:00:00        -0.699644        -0.900683        -2.236889   \n2022-12-31 01:00:00        -0.700806        -0.900419        -2.239975   \n2022-12-31 02:00:00        -0.703050        -0.901353        -2.239955   \n2022-12-31 03:00:00        -0.699231        -0.899855        -2.239411   \n2022-12-31 04:00:00        -0.700811        -0.900203        -2.240116   \n2022-12-31 05:00:00        -0.703968        -0.902001        -2.238764   \n2022-12-31 06:00:00        -0.703543        -0.902274        -2.238032   \n2022-12-31 07:00:00        -0.703678        -0.901578        -2.240569   \n2022-12-31 08:00:00        -0.701741        -0.901529        -2.238487   \n2022-12-31 09:00:00        -0.702674        -0.902440        -2.238186   \n2022-12-31 10:00:00        -0.700193        -0.900540        -2.239421   \n2022-12-31 11:00:00        -0.698126        -0.898204        -2.246050   \n2022-12-31 12:00:00        -0.700803        -0.900173        -2.240429   \n2022-12-31 13:00:00        -0.700239        -0.899481        -2.241341   \n2022-12-31 14:00:00        -0.704837        -0.902382        -2.240732   \n2022-12-31 15:00:00        -0.706642        -0.903340        -2.241338   \n2022-12-31 16:00:00        -0.701682        -0.900889        -2.240793   \n2022-12-31 17:00:00        -0.702127        -0.900635        -2.241177   \n2022-12-31 18:00:00        -0.701938        -0.901263        -2.238642   \n2022-12-31 19:00:00        -0.702599        -0.901682        -2.240259   \n2022-12-31 20:00:00        -0.696447        -0.897672        -2.249657   \n2022-12-31 21:00:00        -0.701093        -0.899728        -2.245052   \n2022-12-31 22:00:00        -0.703428        -0.900995        -2.244076   \n2022-12-31 23:00:00        -0.696927        -0.897224        -2.249951   \n\n                     WDIR_42002_pred  WSPD_42002_pred  PRES_42002_pred  \\\n2022-12-31 00:00:00       340.262146        -5.553482        -0.897391   \n2022-12-31 01:00:00       338.852661        -5.550149        -0.886973   \n2022-12-31 02:00:00       338.526733        -5.569685        -0.945232   \n2022-12-31 03:00:00       349.883728        -5.539085        -0.852375   \n2022-12-31 04:00:00       332.802673        -5.544037        -0.868325   \n2022-12-31 05:00:00       331.170593        -5.586896        -0.984891   \n2022-12-31 06:00:00       330.417999        -5.591302        -1.011824   \n2022-12-31 07:00:00       338.487701        -5.576720        -0.991919   \n2022-12-31 08:00:00       335.250519        -5.578020        -0.977968   \n2022-12-31 09:00:00       333.051849        -5.608409        -1.048625   \n2022-12-31 10:00:00       341.146301        -5.558774        -0.912753   \n2022-12-31 11:00:00       340.742218        -5.523890        -0.747737   \n2022-12-31 12:00:00       347.452759        -5.542958        -0.861357   \n2022-12-31 13:00:00       334.840485        -5.531990        -0.811858   \n2022-12-31 14:00:00       338.463348        -5.601438        -1.039328   \n2022-12-31 15:00:00       336.800659        -5.632998        -1.094388   \n2022-12-31 16:00:00       328.160095        -5.560295        -0.922527   \n2022-12-31 17:00:00       324.680206        -5.554490        -0.884966   \n2022-12-31 18:00:00       342.008759        -5.567142        -0.954035   \n2022-12-31 19:00:00       335.228241        -5.591738        -0.999247   \n2022-12-31 20:00:00       356.741302        -5.522286        -0.752706   \n2022-12-31 21:00:00       353.476440        -5.552904        -0.886711   \n2022-12-31 22:00:00       352.043884        -5.582746        -0.944116   \n2022-12-31 23:00:00         5.367299        -5.491394        -0.718341   \n\n                     ATMP_42002_pred  ...  WDIR_42039_ERA5_pred  \\\n2022-12-31 00:00:00        -0.419738  ...            106.117859   \n2022-12-31 01:00:00        -0.420351  ...            326.813751   \n2022-12-31 02:00:00        -0.417294  ...            291.099640   \n2022-12-31 03:00:00        -0.422122  ...            160.473999   \n2022-12-31 04:00:00        -0.423558  ...            296.059998   \n2022-12-31 05:00:00        -0.415325  ...            247.824219   \n2022-12-31 06:00:00        -0.415633  ...             18.972046   \n2022-12-31 07:00:00        -0.417067  ...            136.138062   \n2022-12-31 08:00:00        -0.417343  ...            338.118530   \n2022-12-31 09:00:00        -0.414849  ...            122.898010   \n2022-12-31 10:00:00        -0.420979  ...             80.502197   \n2022-12-31 11:00:00        -0.430064  ...            202.477219   \n2022-12-31 12:00:00        -0.421568  ...            343.448029   \n2022-12-31 13:00:00        -0.424495  ...            171.854538   \n2022-12-31 14:00:00        -0.413868  ...             87.326904   \n2022-12-31 15:00:00        -0.410601  ...            355.561829   \n2022-12-31 16:00:00        -0.419708  ...            288.138428   \n2022-12-31 17:00:00        -0.421988  ...            112.549698   \n2022-12-31 18:00:00        -0.417722  ...            116.352844   \n2022-12-31 19:00:00        -0.416106  ...            345.821533   \n2022-12-31 20:00:00        -0.428266  ...            334.852966   \n2022-12-31 21:00:00        -0.422676  ...            261.702820   \n2022-12-31 22:00:00        -0.418792  ...            229.128662   \n2022-12-31 23:00:00        -0.425674  ...            235.802399   \n\n                     WSPD_42039_ERA5_pred  ATMP_42039_ERA5_pred  \\\n2022-12-31 00:00:00             -1.330827             -2.026993   \n2022-12-31 01:00:00             -1.359675             -2.031423   \n2022-12-31 02:00:00             -1.328351             -2.031884   \n2022-12-31 03:00:00             -1.368373             -2.031934   \n2022-12-31 04:00:00             -1.343874             -2.032681   \n2022-12-31 05:00:00             -1.290115             -2.030331   \n2022-12-31 06:00:00             -1.286852             -2.023575   \n2022-12-31 07:00:00             -1.320129             -2.025574   \n2022-12-31 08:00:00             -1.311304             -2.022185   \n2022-12-31 09:00:00             -1.270491             -2.018897   \n2022-12-31 10:00:00             -1.347229             -2.027443   \n2022-12-31 11:00:00             -1.439496             -2.046110   \n2022-12-31 12:00:00             -1.368076             -2.036527   \n2022-12-31 13:00:00             -1.385908             -2.036876   \n2022-12-31 14:00:00             -1.287246             -2.027605   \n2022-12-31 15:00:00             -1.252810             -2.027782   \n2022-12-31 16:00:00             -1.352152             -2.026592   \n2022-12-31 17:00:00             -1.355304             -2.033741   \n2022-12-31 18:00:00             -1.326602             -2.026632   \n2022-12-31 19:00:00             -1.316178             -2.023578   \n2022-12-31 20:00:00             -1.493943             -2.042221   \n2022-12-31 21:00:00             -1.407423             -2.037165   \n2022-12-31 22:00:00             -1.359872             -2.040741   \n2022-12-31 23:00:00             -1.475194             -2.047612   \n\n                     WSPD_42035_ERA5_pred  WSPD_42001_ERA5_pred  \\\n2022-12-31 00:00:00              0.355348             -0.048313   \n2022-12-31 01:00:00              0.356995             -0.055516   \n2022-12-31 02:00:00              0.354822             -0.060653   \n2022-12-31 03:00:00              0.357185             -0.049558   \n2022-12-31 04:00:00              0.355885             -0.047158   \n2022-12-31 05:00:00              0.352869             -0.058690   \n2022-12-31 06:00:00              0.365335             -0.066122   \n2022-12-31 07:00:00              0.351233             -0.067885   \n2022-12-31 08:00:00              0.364140             -0.062910   \n2022-12-31 09:00:00              0.366292             -0.067558   \n2022-12-31 10:00:00              0.360989             -0.057680   \n2022-12-31 11:00:00              0.371165             -0.052311   \n2022-12-31 12:00:00              0.362890             -0.056370   \n2022-12-31 13:00:00              0.366929             -0.049724   \n2022-12-31 14:00:00              0.350074             -0.069281   \n2022-12-31 15:00:00              0.358751             -0.076116   \n2022-12-31 16:00:00              0.369456             -0.063400   \n2022-12-31 17:00:00              0.372303             -0.059038   \n2022-12-31 18:00:00              0.351974             -0.060456   \n2022-12-31 19:00:00              0.360831             -0.067699   \n2022-12-31 20:00:00              0.377870             -0.067587   \n2022-12-31 21:00:00              0.357131             -0.069443   \n2022-12-31 22:00:00              0.367247             -0.073844   \n2022-12-31 23:00:00              0.347990             -0.049265   \n\n                     DEWP_42020_ERA5_pred  ATMP_42019_ERA5_pred  \\\n2022-12-31 00:00:00             -1.429555             -2.238705   \n2022-12-31 01:00:00             -1.439693             -2.242640   \n2022-12-31 02:00:00             -1.401854             -2.220924   \n2022-12-31 03:00:00             -1.456493             -2.255240   \n2022-12-31 04:00:00             -1.455288             -2.254955   \n2022-12-31 05:00:00             -1.377318             -2.207604   \n2022-12-31 06:00:00             -1.368586             -2.202179   \n2022-12-31 07:00:00             -1.382164             -2.206639   \n2022-12-31 08:00:00             -1.392151             -2.215679   \n2022-12-31 09:00:00             -1.348791             -2.189194   \n2022-12-31 10:00:00             -1.427690             -2.234599   \n2022-12-31 11:00:00             -1.522058             -2.286154   \n2022-12-31 12:00:00             -1.448849             -2.248046   \n2022-12-31 13:00:00             -1.484192             -2.271621   \n2022-12-31 14:00:00             -1.347243             -2.185947   \n2022-12-31 15:00:00             -1.304676             -2.161078   \n2022-12-31 16:00:00             -1.430124             -2.237502   \n2022-12-31 17:00:00             -1.448505             -2.249484   \n2022-12-31 18:00:00             -1.398643             -2.217859   \n2022-12-31 19:00:00             -1.375173             -2.203542   \n2022-12-31 20:00:00             -1.519526             -2.277836   \n2022-12-31 21:00:00             -1.438523             -2.233832   \n2022-12-31 22:00:00             -1.394157             -2.210053   \n2022-12-31 23:00:00             -1.547029             -2.301755   \n\n                     WTMP_42039_ERA5_pred  WSPD_42002_ERA5_pred  \\\n2022-12-31 00:00:00              0.020209              0.231062   \n2022-12-31 01:00:00              0.020079              0.216955   \n2022-12-31 02:00:00              0.019491              0.224087   \n2022-12-31 03:00:00              0.020513              0.202442   \n2022-12-31 04:00:00              0.020055              0.224556   \n2022-12-31 05:00:00              0.019080              0.242003   \n2022-12-31 06:00:00              0.018847              0.232062   \n2022-12-31 07:00:00              0.019025              0.220815   \n2022-12-31 08:00:00              0.019157              0.222885   \n2022-12-31 09:00:00              0.018459              0.223692   \n2022-12-31 10:00:00              0.019870              0.209694   \n2022-12-31 11:00:00              0.021044              0.163307   \n2022-12-31 12:00:00              0.020458              0.202652   \n2022-12-31 13:00:00              0.020533              0.207131   \n2022-12-31 14:00:00              0.018528              0.226061   \n2022-12-31 15:00:00              0.017783              0.222924   \n2022-12-31 16:00:00              0.019448              0.216725   \n2022-12-31 17:00:00              0.019757              0.216784   \n2022-12-31 18:00:00              0.019582              0.224636   \n2022-12-31 19:00:00              0.018820              0.214070   \n2022-12-31 20:00:00              0.020955              0.121118   \n2022-12-31 21:00:00              0.020008              0.168614   \n2022-12-31 22:00:00              0.019435              0.176169   \n2022-12-31 23:00:00              0.021256              0.153856   \n\n                     PRES_42039_ERA5_pred  \n2022-12-31 00:00:00             -0.949860  \n2022-12-31 01:00:00             -0.943733  \n2022-12-31 02:00:00             -0.955737  \n2022-12-31 03:00:00             -0.936655  \n2022-12-31 04:00:00             -0.934579  \n2022-12-31 05:00:00             -0.964053  \n2022-12-31 06:00:00             -0.974344  \n2022-12-31 07:00:00             -0.968920  \n2022-12-31 08:00:00             -0.967720  \n2022-12-31 09:00:00             -0.984790  \n2022-12-31 10:00:00             -0.952059  \n2022-12-31 11:00:00             -0.904522  \n2022-12-31 12:00:00             -0.937596  \n2022-12-31 13:00:00             -0.922455  \n2022-12-31 14:00:00             -0.978054  \n2022-12-31 15:00:00             -0.991258  \n2022-12-31 16:00:00             -0.951142  \n2022-12-31 17:00:00             -0.938357  \n2022-12-31 18:00:00             -0.962208  \n2022-12-31 19:00:00             -0.971542  \n2022-12-31 20:00:00             -0.911983  \n2022-12-31 21:00:00             -0.942768  \n2022-12-31 22:00:00             -0.954318  \n2022-12-31 23:00:00             -0.895107  \n\n[24 rows x 104 columns]",
      "text/html": "<div>\n<style scoped>\n    .dataframe tbody tr th:only-of-type {\n        vertical-align: middle;\n    }\n\n    .dataframe tbody tr th {\n        vertical-align: top;\n    }\n\n    .dataframe thead th {\n        text-align: right;\n    }\n</style>\n<table border=\"1\" class=\"dataframe\">\n  <thead>\n    <tr style=\"text-align: right;\">\n      <th></th>\n      <th>WDIR_42001_pred</th>\n      <th>WSPD_42001_pred</th>\n      <th>PRES_42001_pred</th>\n      <th>ATMP_42001_pred</th>\n      <th>WTMP_42001_pred</th>\n      <th>DEWP_42001_pred</th>\n      <th>WDIR_42002_pred</th>\n      <th>WSPD_42002_pred</th>\n      <th>PRES_42002_pred</th>\n      <th>ATMP_42002_pred</th>\n      <th>...</th>\n      <th>WDIR_42039_ERA5_pred</th>\n      <th>WSPD_42039_ERA5_pred</th>\n      <th>ATMP_42039_ERA5_pred</th>\n      <th>WSPD_42035_ERA5_pred</th>\n      <th>WSPD_42001_ERA5_pred</th>\n      <th>DEWP_42020_ERA5_pred</th>\n      <th>ATMP_42019_ERA5_pred</th>\n      <th>WTMP_42039_ERA5_pred</th>\n      <th>WSPD_42002_ERA5_pred</th>\n      <th>PRES_42039_ERA5_pred</th>\n    </tr>\n  </thead>\n  <tbody>\n    <tr>\n      <th>2022-12-31 00:00:00</th>\n      <td>181.004929</td>\n      <td>-1.613021</td>\n      <td>-4.770545</td>\n      <td>-0.699644</td>\n      <td>-0.900683</td>\n      <td>-2.236889</td>\n      <td>340.262146</td>\n      <td>-5.553482</td>\n      <td>-0.897391</td>\n      <td>-0.419738</td>\n      <td>...</td>\n      <td>106.117859</td>\n      <td>-1.330827</td>\n      <td>-2.026993</td>\n      <td>0.355348</td>\n      <td>-0.048313</td>\n      <td>-1.429555</td>\n      <td>-2.238705</td>\n      <td>0.020209</td>\n      <td>0.231062</td>\n      <td>-0.949860</td>\n    </tr>\n    <tr>\n      <th>2022-12-31 01:00:00</th>\n      <td>153.792877</td>\n      <td>-1.614667</td>\n      <td>-4.748064</td>\n      <td>-0.700806</td>\n      <td>-0.900419</td>\n      <td>-2.239975</td>\n      <td>338.852661</td>\n      <td>-5.550149</td>\n      <td>-0.886973</td>\n      <td>-0.420351</td>\n      <td>...</td>\n      <td>326.813751</td>\n      <td>-1.359675</td>\n      <td>-2.031423</td>\n      <td>0.356995</td>\n      <td>-0.055516</td>\n      <td>-1.439693</td>\n      <td>-2.242640</td>\n      <td>0.020079</td>\n      <td>0.216955</td>\n      <td>-0.943733</td>\n    </tr>\n    <tr>\n      <th>2022-12-31 02:00:00</th>\n      <td>147.790466</td>\n      <td>-1.605179</td>\n      <td>-4.838012</td>\n      <td>-0.703050</td>\n      <td>-0.901353</td>\n      <td>-2.239955</td>\n      <td>338.526733</td>\n      <td>-5.569685</td>\n      <td>-0.945232</td>\n      <td>-0.417294</td>\n      <td>...</td>\n      <td>291.099640</td>\n      <td>-1.328351</td>\n      <td>-2.031884</td>\n      <td>0.354822</td>\n      <td>-0.060653</td>\n      <td>-1.401854</td>\n      <td>-2.220924</td>\n      <td>0.019491</td>\n      <td>0.224087</td>\n      <td>-0.955737</td>\n    </tr>\n    <tr>\n      <th>2022-12-31 03:00:00</th>\n      <td>251.893433</td>\n      <td>-1.607363</td>\n      <td>-4.705099</td>\n      <td>-0.699231</td>\n      <td>-0.899855</td>\n      <td>-2.239411</td>\n      <td>349.883728</td>\n      <td>-5.539085</td>\n      <td>-0.852375</td>\n      <td>-0.422122</td>\n      <td>...</td>\n      <td>160.473999</td>\n      <td>-1.368373</td>\n      <td>-2.031934</td>\n      <td>0.357185</td>\n      <td>-0.049558</td>\n      <td>-1.456493</td>\n      <td>-2.255240</td>\n      <td>0.020513</td>\n      <td>0.202442</td>\n      <td>-0.936655</td>\n    </tr>\n    <tr>\n      <th>2022-12-31 04:00:00</th>\n      <td>129.493835</td>\n      <td>-1.612553</td>\n      <td>-4.713374</td>\n      <td>-0.700811</td>\n      <td>-0.900203</td>\n      <td>-2.240116</td>\n      <td>332.802673</td>\n      <td>-5.544037</td>\n      <td>-0.868325</td>\n      <td>-0.423558</td>\n      <td>...</td>\n      <td>296.059998</td>\n      <td>-1.343874</td>\n      <td>-2.032681</td>\n      <td>0.355885</td>\n      <td>-0.047158</td>\n      <td>-1.455288</td>\n      <td>-2.254955</td>\n      <td>0.020055</td>\n      <td>0.224556</td>\n      <td>-0.934579</td>\n    </tr>\n    <tr>\n      <th>2022-12-31 05:00:00</th>\n      <td>74.741692</td>\n      <td>-1.605976</td>\n      <td>-4.897756</td>\n      <td>-0.703968</td>\n      <td>-0.902001</td>\n      <td>-2.238764</td>\n      <td>331.170593</td>\n      <td>-5.586896</td>\n      <td>-0.984891</td>\n      <td>-0.415325</td>\n      <td>...</td>\n      <td>247.824219</td>\n      <td>-1.290115</td>\n      <td>-2.030331</td>\n      <td>0.352869</td>\n      <td>-0.058690</td>\n      <td>-1.377318</td>\n      <td>-2.207604</td>\n      <td>0.019080</td>\n      <td>0.242003</td>\n      <td>-0.964053</td>\n    </tr>\n    <tr>\n      <th>2022-12-31 06:00:00</th>\n      <td>120.373848</td>\n      <td>-1.614301</td>\n      <td>-4.934953</td>\n      <td>-0.703543</td>\n      <td>-0.902274</td>\n      <td>-2.238032</td>\n      <td>330.417999</td>\n      <td>-5.591302</td>\n      <td>-1.011824</td>\n      <td>-0.415633</td>\n      <td>...</td>\n      <td>18.972046</td>\n      <td>-1.286852</td>\n      <td>-2.023575</td>\n      <td>0.365335</td>\n      <td>-0.066122</td>\n      <td>-1.368586</td>\n      <td>-2.202179</td>\n      <td>0.018847</td>\n      <td>0.232062</td>\n      <td>-0.974344</td>\n    </tr>\n    <tr>\n      <th>2022-12-31 07:00:00</th>\n      <td>178.339676</td>\n      <td>-1.612391</td>\n      <td>-4.907498</td>\n      <td>-0.703678</td>\n      <td>-0.901578</td>\n      <td>-2.240569</td>\n      <td>338.487701</td>\n      <td>-5.576720</td>\n      <td>-0.991919</td>\n      <td>-0.417067</td>\n      <td>...</td>\n      <td>136.138062</td>\n      <td>-1.320129</td>\n      <td>-2.025574</td>\n      <td>0.351233</td>\n      <td>-0.067885</td>\n      <td>-1.382164</td>\n      <td>-2.206639</td>\n      <td>0.019025</td>\n      <td>0.220815</td>\n      <td>-0.968920</td>\n    </tr>\n    <tr>\n      <th>2022-12-31 08:00:00</th>\n      <td>150.286926</td>\n      <td>-1.616956</td>\n      <td>-4.884286</td>\n      <td>-0.701741</td>\n      <td>-0.901529</td>\n      <td>-2.238487</td>\n      <td>335.250519</td>\n      <td>-5.578020</td>\n      <td>-0.977968</td>\n      <td>-0.417343</td>\n      <td>...</td>\n      <td>338.118530</td>\n      <td>-1.311304</td>\n      <td>-2.022185</td>\n      <td>0.364140</td>\n      <td>-0.062910</td>\n      <td>-1.392151</td>\n      <td>-2.215679</td>\n      <td>0.019157</td>\n      <td>0.222885</td>\n      <td>-0.967720</td>\n    </tr>\n    <tr>\n      <th>2022-12-31 09:00:00</th>\n      <td>121.625717</td>\n      <td>-1.606470</td>\n      <td>-4.992885</td>\n      <td>-0.702674</td>\n      <td>-0.902440</td>\n      <td>-2.238186</td>\n      <td>333.051849</td>\n      <td>-5.608409</td>\n      <td>-1.048625</td>\n      <td>-0.414849</td>\n      <td>...</td>\n      <td>122.898010</td>\n      <td>-1.270491</td>\n      <td>-2.018897</td>\n      <td>0.366292</td>\n      <td>-0.067558</td>\n      <td>-1.348791</td>\n      <td>-2.189194</td>\n      <td>0.018459</td>\n      <td>0.223692</td>\n      <td>-0.984790</td>\n    </tr>\n    <tr>\n      <th>2022-12-31 10:00:00</th>\n      <td>189.564972</td>\n      <td>-1.611118</td>\n      <td>-4.788376</td>\n      <td>-0.700193</td>\n      <td>-0.900540</td>\n      <td>-2.239421</td>\n      <td>341.146301</td>\n      <td>-5.558774</td>\n      <td>-0.912753</td>\n      <td>-0.420979</td>\n      <td>...</td>\n      <td>80.502197</td>\n      <td>-1.347229</td>\n      <td>-2.027443</td>\n      <td>0.360989</td>\n      <td>-0.057680</td>\n      <td>-1.427690</td>\n      <td>-2.234599</td>\n      <td>0.019870</td>\n      <td>0.209694</td>\n      <td>-0.952059</td>\n    </tr>\n    <tr>\n      <th>2022-12-31 11:00:00</th>\n      <td>105.669395</td>\n      <td>-1.606467</td>\n      <td>-4.531281</td>\n      <td>-0.698126</td>\n      <td>-0.898204</td>\n      <td>-2.246050</td>\n      <td>340.742218</td>\n      <td>-5.523890</td>\n      <td>-0.747737</td>\n      <td>-0.430064</td>\n      <td>...</td>\n      <td>202.477219</td>\n      <td>-1.439496</td>\n      <td>-2.046110</td>\n      <td>0.371165</td>\n      <td>-0.052311</td>\n      <td>-1.522058</td>\n      <td>-2.286154</td>\n      <td>0.021044</td>\n      <td>0.163307</td>\n      <td>-0.904522</td>\n    </tr>\n    <tr>\n      <th>2022-12-31 12:00:00</th>\n      <td>233.235947</td>\n      <td>-1.602930</td>\n      <td>-4.713221</td>\n      <td>-0.700803</td>\n      <td>-0.900173</td>\n      <td>-2.240429</td>\n      <td>347.452759</td>\n      <td>-5.542958</td>\n      <td>-0.861357</td>\n      <td>-0.421568</td>\n      <td>...</td>\n      <td>343.448029</td>\n      <td>-1.368076</td>\n      <td>-2.036527</td>\n      <td>0.362890</td>\n      <td>-0.056370</td>\n      <td>-1.448849</td>\n      <td>-2.248046</td>\n      <td>0.020458</td>\n      <td>0.202652</td>\n      <td>-0.937596</td>\n    </tr>\n    <tr>\n      <th>2022-12-31 13:00:00</th>\n      <td>96.614883</td>\n      <td>-1.618529</td>\n      <td>-4.633174</td>\n      <td>-0.700239</td>\n      <td>-0.899481</td>\n      <td>-2.241341</td>\n      <td>334.840485</td>\n      <td>-5.531990</td>\n      <td>-0.811858</td>\n      <td>-0.424495</td>\n      <td>...</td>\n      <td>171.854538</td>\n      <td>-1.385908</td>\n      <td>-2.036876</td>\n      <td>0.366929</td>\n      <td>-0.049724</td>\n      <td>-1.484192</td>\n      <td>-2.271621</td>\n      <td>0.020533</td>\n      <td>0.207131</td>\n      <td>-0.922455</td>\n    </tr>\n    <tr>\n      <th>2022-12-31 14:00:00</th>\n      <td>135.033066</td>\n      <td>-1.595880</td>\n      <td>-4.981678</td>\n      <td>-0.704837</td>\n      <td>-0.902382</td>\n      <td>-2.240732</td>\n      <td>338.463348</td>\n      <td>-5.601438</td>\n      <td>-1.039328</td>\n      <td>-0.413868</td>\n      <td>...</td>\n      <td>87.326904</td>\n      <td>-1.287246</td>\n      <td>-2.027605</td>\n      <td>0.350074</td>\n      <td>-0.069281</td>\n      <td>-1.347243</td>\n      <td>-2.185947</td>\n      <td>0.018528</td>\n      <td>0.226061</td>\n      <td>-0.978054</td>\n    </tr>\n    <tr>\n      <th>2022-12-31 15:00:00</th>\n      <td>42.930000</td>\n      <td>-1.587185</td>\n      <td>-5.076926</td>\n      <td>-0.706642</td>\n      <td>-0.903340</td>\n      <td>-2.241338</td>\n      <td>336.800659</td>\n      <td>-5.632998</td>\n      <td>-1.094388</td>\n      <td>-0.410601</td>\n      <td>...</td>\n      <td>355.561829</td>\n      <td>-1.252810</td>\n      <td>-2.027782</td>\n      <td>0.358751</td>\n      <td>-0.076116</td>\n      <td>-1.304676</td>\n      <td>-2.161078</td>\n      <td>0.017783</td>\n      <td>0.222924</td>\n      <td>-0.991258</td>\n    </tr>\n    <tr>\n      <th>2022-12-31 16:00:00</th>\n      <td>85.363609</td>\n      <td>-1.628034</td>\n      <td>-4.787864</td>\n      <td>-0.701682</td>\n      <td>-0.900889</td>\n      <td>-2.240793</td>\n      <td>328.160095</td>\n      <td>-5.560295</td>\n      <td>-0.922527</td>\n      <td>-0.419708</td>\n      <td>...</td>\n      <td>288.138428</td>\n      <td>-1.352152</td>\n      <td>-2.026592</td>\n      <td>0.369456</td>\n      <td>-0.063400</td>\n      <td>-1.430124</td>\n      <td>-2.237502</td>\n      <td>0.019448</td>\n      <td>0.216725</td>\n      <td>-0.951142</td>\n    </tr>\n    <tr>\n      <th>2022-12-31 17:00:00</th>\n      <td>54.655842</td>\n      <td>-1.621177</td>\n      <td>-4.729352</td>\n      <td>-0.702127</td>\n      <td>-0.900635</td>\n      <td>-2.241177</td>\n      <td>324.680206</td>\n      <td>-5.554490</td>\n      <td>-0.884966</td>\n      <td>-0.421988</td>\n      <td>...</td>\n      <td>112.549698</td>\n      <td>-1.355304</td>\n      <td>-2.033741</td>\n      <td>0.372303</td>\n      <td>-0.059038</td>\n      <td>-1.448505</td>\n      <td>-2.249484</td>\n      <td>0.019757</td>\n      <td>0.216784</td>\n      <td>-0.938357</td>\n    </tr>\n    <tr>\n      <th>2022-12-31 18:00:00</th>\n      <td>202.575714</td>\n      <td>-1.607983</td>\n      <td>-4.855847</td>\n      <td>-0.701938</td>\n      <td>-0.901263</td>\n      <td>-2.238642</td>\n      <td>342.008759</td>\n      <td>-5.567142</td>\n      <td>-0.954035</td>\n      <td>-0.417722</td>\n      <td>...</td>\n      <td>116.352844</td>\n      <td>-1.326602</td>\n      <td>-2.026632</td>\n      <td>0.351974</td>\n      <td>-0.060456</td>\n      <td>-1.398643</td>\n      <td>-2.217859</td>\n      <td>0.019582</td>\n      <td>0.224636</td>\n      <td>-0.962208</td>\n    </tr>\n    <tr>\n      <th>2022-12-31 19:00:00</th>\n      <td>98.492783</td>\n      <td>-1.611155</td>\n      <td>-4.921892</td>\n      <td>-0.702599</td>\n      <td>-0.901682</td>\n      <td>-2.240259</td>\n      <td>335.228241</td>\n      <td>-5.591738</td>\n      <td>-0.999247</td>\n      <td>-0.416106</td>\n      <td>...</td>\n      <td>345.821533</td>\n      <td>-1.316178</td>\n      <td>-2.023578</td>\n      <td>0.360831</td>\n      <td>-0.067699</td>\n      <td>-1.375173</td>\n      <td>-2.203542</td>\n      <td>0.018820</td>\n      <td>0.214070</td>\n      <td>-0.971542</td>\n    </tr>\n    <tr>\n      <th>2022-12-31 20:00:00</th>\n      <td>168.632996</td>\n      <td>-1.620515</td>\n      <td>-4.545972</td>\n      <td>-0.696447</td>\n      <td>-0.897672</td>\n      <td>-2.249657</td>\n      <td>356.741302</td>\n      <td>-5.522286</td>\n      <td>-0.752706</td>\n      <td>-0.428266</td>\n      <td>...</td>\n      <td>334.852966</td>\n      <td>-1.493943</td>\n      <td>-2.042221</td>\n      <td>0.377870</td>\n      <td>-0.067587</td>\n      <td>-1.519526</td>\n      <td>-2.277836</td>\n      <td>0.020955</td>\n      <td>0.121118</td>\n      <td>-0.911983</td>\n    </tr>\n    <tr>\n      <th>2022-12-31 21:00:00</th>\n      <td>236.735764</td>\n      <td>-1.596587</td>\n      <td>-4.752748</td>\n      <td>-0.701093</td>\n      <td>-0.899728</td>\n      <td>-2.245052</td>\n      <td>353.476440</td>\n      <td>-5.552904</td>\n      <td>-0.886711</td>\n      <td>-0.422676</td>\n      <td>...</td>\n      <td>261.702820</td>\n      <td>-1.407423</td>\n      <td>-2.037165</td>\n      <td>0.357131</td>\n      <td>-0.069443</td>\n      <td>-1.438523</td>\n      <td>-2.233832</td>\n      <td>0.020008</td>\n      <td>0.168614</td>\n      <td>-0.942768</td>\n    </tr>\n    <tr>\n      <th>2022-12-31 22:00:00</th>\n      <td>194.262527</td>\n      <td>-1.576626</td>\n      <td>-4.843761</td>\n      <td>-0.703428</td>\n      <td>-0.900995</td>\n      <td>-2.244076</td>\n      <td>352.043884</td>\n      <td>-5.582746</td>\n      <td>-0.944116</td>\n      <td>-0.418792</td>\n      <td>...</td>\n      <td>229.128662</td>\n      <td>-1.359872</td>\n      <td>-2.040741</td>\n      <td>0.367247</td>\n      <td>-0.073844</td>\n      <td>-1.394157</td>\n      <td>-2.210053</td>\n      <td>0.019435</td>\n      <td>0.176169</td>\n      <td>-0.954318</td>\n    </tr>\n    <tr>\n      <th>2022-12-31 23:00:00</th>\n      <td>246.323593</td>\n      <td>-1.629286</td>\n      <td>-4.481619</td>\n      <td>-0.696927</td>\n      <td>-0.897224</td>\n      <td>-2.249951</td>\n      <td>5.367299</td>\n      <td>-5.491394</td>\n      <td>-0.718341</td>\n      <td>-0.425674</td>\n      <td>...</td>\n      <td>235.802399</td>\n      <td>-1.475194</td>\n      <td>-2.047612</td>\n      <td>0.347990</td>\n      <td>-0.049265</td>\n      <td>-1.547029</td>\n      <td>-2.301755</td>\n      <td>0.021256</td>\n      <td>0.153856</td>\n      <td>-0.895107</td>\n    </tr>\n  </tbody>\n</table>\n<p>24 rows × 104 columns</p>\n</div>"
     },
     "execution_count": 15,
     "metadata": {},
     "output_type": "execute_result"
    }
   ],
   "source": [
    "# Get the list of columns starting with \"WDIR\"\n",
    "wdir_columns = [col for col in yhat_unscaled_df.columns if col.startswith(\"WDIR\")]\n",
    "\n",
    "# Modify the values in the selected columns\n",
    "yhat_unscaled_df[wdir_columns] = yhat_unscaled_df[wdir_columns] % 360\n",
    "\n",
    "yhat_unscaled_df"
   ],
   "metadata": {
    "collapsed": false,
    "pycharm": {
     "name": "#%%\n"
    }
   }
  },
  {
   "cell_type": "code",
   "execution_count": 16,
   "outputs": [
    {
     "data": {
      "text/plain": "                     WDIR_42001  WSPD_42001  PRES_42001  ATMP_42001  \\\n2022-12-30 23:00:00       185.0         5.9      1012.9        25.3   \n2022-12-31 00:00:00       189.0         5.0      1013.5        25.2   \n2022-12-31 01:00:00       203.0         5.6      1013.8        24.7   \n2022-12-31 02:00:00       169.0         2.3      1014.5        24.8   \n2022-12-31 03:00:00        53.0         6.0      1014.8        22.7   \n2022-12-31 04:00:00        55.0         8.5      1015.2        22.3   \n2022-12-31 05:00:00        72.0         7.6      1014.9        22.6   \n2022-12-31 06:00:00        77.0         7.2      1014.4        23.0   \n2022-12-31 07:00:00        97.0         7.8      1014.1        23.1   \n2022-12-31 08:00:00       148.0         3.3      1013.9        24.4   \n2022-12-31 09:00:00       195.0         5.4      1014.0        25.0   \n2022-12-31 10:00:00       223.0         5.1      1014.4        25.0   \n2022-12-31 11:00:00        18.0         3.3      1015.0        22.6   \n2022-12-31 12:00:00       115.0         2.1      1014.9        23.2   \n2022-12-31 13:00:00        31.0         0.9      1015.4        23.6   \n2022-12-31 14:00:00        97.0         0.8      1015.9        24.5   \n2022-12-31 15:00:00       113.0         1.9      1016.6        24.4   \n2022-12-31 16:00:00       124.0         0.8      1017.1        24.6   \n2022-12-31 17:00:00       107.0         1.1      1016.6        24.9   \n2022-12-31 18:00:00       147.0         1.1      1015.9        25.1   \n2022-12-31 19:00:00       195.0         0.5      1015.0        25.6   \n2022-12-31 20:00:00       210.0         1.0      1015.0        25.3   \n2022-12-31 21:00:00       231.0         0.6      1014.7        26.4   \n2022-12-31 22:00:00        18.0         0.7      1014.9        25.4   \n2022-12-31 23:00:00        68.0         1.6      1015.0        25.0   \n\n                     WTMP_42001  DEWP_42001  WDIR_42002  WSPD_42002  \\\n2022-12-30 23:00:00        24.2        24.4       322.0         5.5   \n2022-12-31 00:00:00        24.3        24.5       333.0         5.6   \n2022-12-31 01:00:00        24.3        23.5       359.0         4.6   \n2022-12-31 02:00:00        24.3        24.4        18.0         4.2   \n2022-12-31 03:00:00        24.4        22.1        51.0         4.0   \n2022-12-31 04:00:00        24.4        21.9        69.0         3.1   \n2022-12-31 05:00:00        24.3        22.1        89.0         3.7   \n2022-12-31 06:00:00        24.4        23.0       118.0         2.6   \n2022-12-31 07:00:00        24.4        23.0       151.0         2.8   \n2022-12-31 08:00:00        24.4        24.3       195.0         1.2   \n2022-12-31 09:00:00        24.4        24.6       207.0         2.3   \n2022-12-31 10:00:00        24.4        24.6       194.0         2.2   \n2022-12-31 11:00:00        24.3        22.0       217.0         2.7   \n2022-12-31 12:00:00        24.3        22.4       253.0         3.3   \n2022-12-31 13:00:00        24.4        22.7       273.0         2.9   \n2022-12-31 14:00:00        24.4        23.0       322.0         4.7   \n2022-12-31 15:00:00        24.3        23.6       322.0         3.2   \n2022-12-31 16:00:00        24.4        23.8       316.0         1.3   \n2022-12-31 17:00:00        24.4        23.9       104.0         0.0   \n2022-12-31 18:00:00        24.5        24.3        42.0         0.5   \n2022-12-31 19:00:00        24.7        24.5        22.0         0.6   \n2022-12-31 20:00:00        24.5        24.3        88.0         1.2   \n2022-12-31 21:00:00        24.7        24.4        87.0         1.7   \n2022-12-31 22:00:00        24.7        24.1        90.0         2.5   \n2022-12-31 23:00:00        24.5        24.3       116.0         3.7   \n\n                     PRES_42002  ATMP_42002  ...  WDIR_42039_ERA5  \\\n2022-12-30 23:00:00      1011.7        24.7  ...       113.871622   \n2022-12-31 00:00:00      1012.3        24.6  ...       108.235067   \n2022-12-31 01:00:00      1012.9        24.6  ...        97.574364   \n2022-12-31 02:00:00      1013.5        24.7  ...        84.710673   \n2022-12-31 03:00:00      1014.1        24.5  ...        70.760477   \n2022-12-31 04:00:00      1014.4        24.3  ...        61.682710   \n2022-12-31 05:00:00      1014.4        24.3  ...        65.365573   \n2022-12-31 06:00:00      1014.5        24.4  ...        77.495898   \n2022-12-31 07:00:00      1014.6        24.5  ...        81.234776   \n2022-12-31 08:00:00      1014.8        24.6  ...        77.326712   \n2022-12-31 09:00:00      1014.4        24.5  ...        68.590929   \n2022-12-31 10:00:00      1014.4        24.6  ...        36.958083   \n2022-12-31 11:00:00      1014.9        24.6  ...        42.923937   \n2022-12-31 12:00:00      1015.4        24.6  ...        57.340921   \n2022-12-31 13:00:00      1016.0        24.6  ...        67.428525   \n2022-12-31 14:00:00      1016.6        24.5  ...        63.862272   \n2022-12-31 15:00:00      1017.2        24.6  ...        59.982563   \n2022-12-31 16:00:00      1017.8        24.7  ...        54.021722   \n2022-12-31 17:00:00      1017.7        25.8  ...        42.613490   \n2022-12-31 18:00:00      1016.8        25.5  ...        33.224639   \n2022-12-31 19:00:00      1015.9        25.1  ...        28.180851   \n2022-12-31 20:00:00      1015.4        24.7  ...        22.969408   \n2022-12-31 21:00:00      1014.9        24.6  ...        14.655430   \n2022-12-31 22:00:00      1014.9        24.5  ...        20.371840   \n2022-12-31 23:00:00      1015.0        24.5  ...        21.918165   \n\n                     WSPD_42039_ERA5  ATMP_42039_ERA5  WSPD_42035_ERA5  \\\n2022-12-30 23:00:00        10.542640        23.935086         2.632245   \n2022-12-31 00:00:00        10.136320        24.123266         3.286975   \n2022-12-31 01:00:00         9.799587        24.028398         4.023334   \n2022-12-31 02:00:00        10.336202        22.973194         3.117344   \n2022-12-31 03:00:00        11.014376        23.074671         1.771335   \n2022-12-31 04:00:00         9.975791        23.811448         1.624550   \n2022-12-31 05:00:00         9.259451        24.030731         1.979889   \n2022-12-31 06:00:00         8.763196        24.011680         2.840376   \n2022-12-31 07:00:00         9.032894        24.101493         3.889530   \n2022-12-31 08:00:00         9.596466        24.324664         3.860175   \n2022-12-31 09:00:00         9.274966        24.482128         3.656089   \n2022-12-31 10:00:00         7.138695        23.919534         3.737391   \n2022-12-31 11:00:00         6.912922        23.877933         3.433366   \n2022-12-31 12:00:00         7.748116        23.225526         3.249472   \n2022-12-31 13:00:00         8.995343        23.788509         3.861368   \n2022-12-31 14:00:00         9.735934        24.198304         4.578226   \n2022-12-31 15:00:00         8.944310        24.267899         4.467306   \n2022-12-31 16:00:00         8.184192        22.985636         4.666860   \n2022-12-31 17:00:00         8.048871        22.726306         3.951884   \n2022-12-31 18:00:00         8.420749        22.645825         3.044037   \n2022-12-31 19:00:00         8.602918        22.730194         2.533178   \n2022-12-31 20:00:00         7.734290        22.564177         2.669909   \n2022-12-31 21:00:00         6.485218        22.377552         3.147255   \n2022-12-31 22:00:00         3.294807        24.068445         3.469271   \n2022-12-31 23:00:00         2.229422        23.926533         3.938095   \n\n                     WSPD_42001_ERA5  DEWP_42020_ERA5  ATMP_42019_ERA5  \\\n2022-12-30 23:00:00         5.301299        18.452689        19.872416   \n2022-12-31 00:00:00         5.057694        18.248043        20.009884   \n2022-12-31 01:00:00         5.587926        17.794162        20.081088   \n2022-12-31 02:00:00         5.840792        17.447368        20.151057   \n2022-12-31 03:00:00         6.463279        17.274733        20.047338   \n2022-12-31 04:00:00         6.500897        17.075041        19.827142   \n2022-12-31 05:00:00         6.541557        16.895165        19.694613   \n2022-12-31 06:00:00         6.465415        16.681753        19.667860   \n2022-12-31 07:00:00         6.487022        16.582288        19.685558   \n2022-12-31 08:00:00         6.690521        16.566664        19.631641   \n2022-12-31 09:00:00         6.661433        16.592959        19.552206   \n2022-12-31 10:00:00         4.087878        18.007574        19.941150   \n2022-12-31 11:00:00         3.082339        17.928687        20.125950   \n2022-12-31 12:00:00         2.253867        17.940120        20.289760   \n2022-12-31 13:00:00         1.868949        18.015958        20.528888   \n2022-12-31 14:00:00         2.137407        18.188211        20.764725   \n2022-12-31 15:00:00         2.001684        18.374565        20.972985   \n2022-12-31 16:00:00         1.689902        18.530813        21.218287   \n2022-12-31 17:00:00         1.136156        18.914954        21.425724   \n2022-12-31 18:00:00         0.956942        19.264797        21.661149   \n2022-12-31 19:00:00         0.601025        19.323104        21.847184   \n2022-12-31 20:00:00         0.979714        19.245361        22.052563   \n2022-12-31 21:00:00         2.067327        19.338348        22.260412   \n2022-12-31 22:00:00         1.554299        18.567779        22.101541   \n2022-12-31 23:00:00         2.206784        18.779285        22.243125   \n\n                     WTMP_42039_ERA5  WSPD_42002_ERA5  PRES_42039_ERA5  \n2022-12-30 23:00:00        24.392457         3.651173      1015.146367  \n2022-12-31 00:00:00        24.392457         1.420595      1015.755665  \n2022-12-31 01:00:00        24.392457         1.134690      1016.328747  \n2022-12-31 02:00:00        24.392457         1.613154      1016.790195  \n2022-12-31 03:00:00        24.392457         1.853178      1017.056071  \n2022-12-31 04:00:00        24.392457         2.384701      1017.194548  \n2022-12-31 05:00:00        24.392457         3.354966      1016.693048  \n2022-12-31 06:00:00        24.392457         4.305897      1016.111445  \n2022-12-31 07:00:00        24.392457         4.524105      1015.494477  \n2022-12-31 08:00:00        24.392457         4.233950      1015.054333  \n2022-12-31 09:00:00        24.392457         4.025557      1015.007038  \n2022-12-31 10:00:00        24.392457         2.932615      1015.372617  \n2022-12-31 11:00:00        24.392457         2.577727      1015.801682  \n2022-12-31 12:00:00        24.392457         2.801135      1016.457424  \n2022-12-31 13:00:00        24.392457         3.091739      1016.537954  \n2022-12-31 14:00:00        24.392457         3.032069      1017.260591  \n2022-12-31 15:00:00        24.392457         2.112608      1017.936358  \n2022-12-31 16:00:00        24.392457         0.927335      1018.299381  \n2022-12-31 17:00:00        24.392457         0.337422      1017.865203  \n2022-12-31 18:00:00        24.392457         0.622219      1017.238861  \n2022-12-31 19:00:00        24.392457         1.062895      1016.581840  \n2022-12-31 20:00:00        24.392457         1.330008      1016.363260  \n2022-12-31 21:00:00        24.392457         1.770915      1016.186435  \n2022-12-31 22:00:00        24.885927         2.483432      1017.067575  \n2022-12-31 23:00:00        24.885927         3.242142      1017.021132  \n\n[25 rows x 104 columns]",
      "text/html": "<div>\n<style scoped>\n    .dataframe tbody tr th:only-of-type {\n        vertical-align: middle;\n    }\n\n    .dataframe tbody tr th {\n        vertical-align: top;\n    }\n\n    .dataframe thead th {\n        text-align: right;\n    }\n</style>\n<table border=\"1\" class=\"dataframe\">\n  <thead>\n    <tr style=\"text-align: right;\">\n      <th></th>\n      <th>WDIR_42001</th>\n      <th>WSPD_42001</th>\n      <th>PRES_42001</th>\n      <th>ATMP_42001</th>\n      <th>WTMP_42001</th>\n      <th>DEWP_42001</th>\n      <th>WDIR_42002</th>\n      <th>WSPD_42002</th>\n      <th>PRES_42002</th>\n      <th>ATMP_42002</th>\n      <th>...</th>\n      <th>WDIR_42039_ERA5</th>\n      <th>WSPD_42039_ERA5</th>\n      <th>ATMP_42039_ERA5</th>\n      <th>WSPD_42035_ERA5</th>\n      <th>WSPD_42001_ERA5</th>\n      <th>DEWP_42020_ERA5</th>\n      <th>ATMP_42019_ERA5</th>\n      <th>WTMP_42039_ERA5</th>\n      <th>WSPD_42002_ERA5</th>\n      <th>PRES_42039_ERA5</th>\n    </tr>\n  </thead>\n  <tbody>\n    <tr>\n      <th>2022-12-30 23:00:00</th>\n      <td>185.0</td>\n      <td>5.9</td>\n      <td>1012.9</td>\n      <td>25.3</td>\n      <td>24.2</td>\n      <td>24.4</td>\n      <td>322.0</td>\n      <td>5.5</td>\n      <td>1011.7</td>\n      <td>24.7</td>\n      <td>...</td>\n      <td>113.871622</td>\n      <td>10.542640</td>\n      <td>23.935086</td>\n      <td>2.632245</td>\n      <td>5.301299</td>\n      <td>18.452689</td>\n      <td>19.872416</td>\n      <td>24.392457</td>\n      <td>3.651173</td>\n      <td>1015.146367</td>\n    </tr>\n    <tr>\n      <th>2022-12-31 00:00:00</th>\n      <td>189.0</td>\n      <td>5.0</td>\n      <td>1013.5</td>\n      <td>25.2</td>\n      <td>24.3</td>\n      <td>24.5</td>\n      <td>333.0</td>\n      <td>5.6</td>\n      <td>1012.3</td>\n      <td>24.6</td>\n      <td>...</td>\n      <td>108.235067</td>\n      <td>10.136320</td>\n      <td>24.123266</td>\n      <td>3.286975</td>\n      <td>5.057694</td>\n      <td>18.248043</td>\n      <td>20.009884</td>\n      <td>24.392457</td>\n      <td>1.420595</td>\n      <td>1015.755665</td>\n    </tr>\n    <tr>\n      <th>2022-12-31 01:00:00</th>\n      <td>203.0</td>\n      <td>5.6</td>\n      <td>1013.8</td>\n      <td>24.7</td>\n      <td>24.3</td>\n      <td>23.5</td>\n      <td>359.0</td>\n      <td>4.6</td>\n      <td>1012.9</td>\n      <td>24.6</td>\n      <td>...</td>\n      <td>97.574364</td>\n      <td>9.799587</td>\n      <td>24.028398</td>\n      <td>4.023334</td>\n      <td>5.587926</td>\n      <td>17.794162</td>\n      <td>20.081088</td>\n      <td>24.392457</td>\n      <td>1.134690</td>\n      <td>1016.328747</td>\n    </tr>\n    <tr>\n      <th>2022-12-31 02:00:00</th>\n      <td>169.0</td>\n      <td>2.3</td>\n      <td>1014.5</td>\n      <td>24.8</td>\n      <td>24.3</td>\n      <td>24.4</td>\n      <td>18.0</td>\n      <td>4.2</td>\n      <td>1013.5</td>\n      <td>24.7</td>\n      <td>...</td>\n      <td>84.710673</td>\n      <td>10.336202</td>\n      <td>22.973194</td>\n      <td>3.117344</td>\n      <td>5.840792</td>\n      <td>17.447368</td>\n      <td>20.151057</td>\n      <td>24.392457</td>\n      <td>1.613154</td>\n      <td>1016.790195</td>\n    </tr>\n    <tr>\n      <th>2022-12-31 03:00:00</th>\n      <td>53.0</td>\n      <td>6.0</td>\n      <td>1014.8</td>\n      <td>22.7</td>\n      <td>24.4</td>\n      <td>22.1</td>\n      <td>51.0</td>\n      <td>4.0</td>\n      <td>1014.1</td>\n      <td>24.5</td>\n      <td>...</td>\n      <td>70.760477</td>\n      <td>11.014376</td>\n      <td>23.074671</td>\n      <td>1.771335</td>\n      <td>6.463279</td>\n      <td>17.274733</td>\n      <td>20.047338</td>\n      <td>24.392457</td>\n      <td>1.853178</td>\n      <td>1017.056071</td>\n    </tr>\n    <tr>\n      <th>2022-12-31 04:00:00</th>\n      <td>55.0</td>\n      <td>8.5</td>\n      <td>1015.2</td>\n      <td>22.3</td>\n      <td>24.4</td>\n      <td>21.9</td>\n      <td>69.0</td>\n      <td>3.1</td>\n      <td>1014.4</td>\n      <td>24.3</td>\n      <td>...</td>\n      <td>61.682710</td>\n      <td>9.975791</td>\n      <td>23.811448</td>\n      <td>1.624550</td>\n      <td>6.500897</td>\n      <td>17.075041</td>\n      <td>19.827142</td>\n      <td>24.392457</td>\n      <td>2.384701</td>\n      <td>1017.194548</td>\n    </tr>\n    <tr>\n      <th>2022-12-31 05:00:00</th>\n      <td>72.0</td>\n      <td>7.6</td>\n      <td>1014.9</td>\n      <td>22.6</td>\n      <td>24.3</td>\n      <td>22.1</td>\n      <td>89.0</td>\n      <td>3.7</td>\n      <td>1014.4</td>\n      <td>24.3</td>\n      <td>...</td>\n      <td>65.365573</td>\n      <td>9.259451</td>\n      <td>24.030731</td>\n      <td>1.979889</td>\n      <td>6.541557</td>\n      <td>16.895165</td>\n      <td>19.694613</td>\n      <td>24.392457</td>\n      <td>3.354966</td>\n      <td>1016.693048</td>\n    </tr>\n    <tr>\n      <th>2022-12-31 06:00:00</th>\n      <td>77.0</td>\n      <td>7.2</td>\n      <td>1014.4</td>\n      <td>23.0</td>\n      <td>24.4</td>\n      <td>23.0</td>\n      <td>118.0</td>\n      <td>2.6</td>\n      <td>1014.5</td>\n      <td>24.4</td>\n      <td>...</td>\n      <td>77.495898</td>\n      <td>8.763196</td>\n      <td>24.011680</td>\n      <td>2.840376</td>\n      <td>6.465415</td>\n      <td>16.681753</td>\n      <td>19.667860</td>\n      <td>24.392457</td>\n      <td>4.305897</td>\n      <td>1016.111445</td>\n    </tr>\n    <tr>\n      <th>2022-12-31 07:00:00</th>\n      <td>97.0</td>\n      <td>7.8</td>\n      <td>1014.1</td>\n      <td>23.1</td>\n      <td>24.4</td>\n      <td>23.0</td>\n      <td>151.0</td>\n      <td>2.8</td>\n      <td>1014.6</td>\n      <td>24.5</td>\n      <td>...</td>\n      <td>81.234776</td>\n      <td>9.032894</td>\n      <td>24.101493</td>\n      <td>3.889530</td>\n      <td>6.487022</td>\n      <td>16.582288</td>\n      <td>19.685558</td>\n      <td>24.392457</td>\n      <td>4.524105</td>\n      <td>1015.494477</td>\n    </tr>\n    <tr>\n      <th>2022-12-31 08:00:00</th>\n      <td>148.0</td>\n      <td>3.3</td>\n      <td>1013.9</td>\n      <td>24.4</td>\n      <td>24.4</td>\n      <td>24.3</td>\n      <td>195.0</td>\n      <td>1.2</td>\n      <td>1014.8</td>\n      <td>24.6</td>\n      <td>...</td>\n      <td>77.326712</td>\n      <td>9.596466</td>\n      <td>24.324664</td>\n      <td>3.860175</td>\n      <td>6.690521</td>\n      <td>16.566664</td>\n      <td>19.631641</td>\n      <td>24.392457</td>\n      <td>4.233950</td>\n      <td>1015.054333</td>\n    </tr>\n    <tr>\n      <th>2022-12-31 09:00:00</th>\n      <td>195.0</td>\n      <td>5.4</td>\n      <td>1014.0</td>\n      <td>25.0</td>\n      <td>24.4</td>\n      <td>24.6</td>\n      <td>207.0</td>\n      <td>2.3</td>\n      <td>1014.4</td>\n      <td>24.5</td>\n      <td>...</td>\n      <td>68.590929</td>\n      <td>9.274966</td>\n      <td>24.482128</td>\n      <td>3.656089</td>\n      <td>6.661433</td>\n      <td>16.592959</td>\n      <td>19.552206</td>\n      <td>24.392457</td>\n      <td>4.025557</td>\n      <td>1015.007038</td>\n    </tr>\n    <tr>\n      <th>2022-12-31 10:00:00</th>\n      <td>223.0</td>\n      <td>5.1</td>\n      <td>1014.4</td>\n      <td>25.0</td>\n      <td>24.4</td>\n      <td>24.6</td>\n      <td>194.0</td>\n      <td>2.2</td>\n      <td>1014.4</td>\n      <td>24.6</td>\n      <td>...</td>\n      <td>36.958083</td>\n      <td>7.138695</td>\n      <td>23.919534</td>\n      <td>3.737391</td>\n      <td>4.087878</td>\n      <td>18.007574</td>\n      <td>19.941150</td>\n      <td>24.392457</td>\n      <td>2.932615</td>\n      <td>1015.372617</td>\n    </tr>\n    <tr>\n      <th>2022-12-31 11:00:00</th>\n      <td>18.0</td>\n      <td>3.3</td>\n      <td>1015.0</td>\n      <td>22.6</td>\n      <td>24.3</td>\n      <td>22.0</td>\n      <td>217.0</td>\n      <td>2.7</td>\n      <td>1014.9</td>\n      <td>24.6</td>\n      <td>...</td>\n      <td>42.923937</td>\n      <td>6.912922</td>\n      <td>23.877933</td>\n      <td>3.433366</td>\n      <td>3.082339</td>\n      <td>17.928687</td>\n      <td>20.125950</td>\n      <td>24.392457</td>\n      <td>2.577727</td>\n      <td>1015.801682</td>\n    </tr>\n    <tr>\n      <th>2022-12-31 12:00:00</th>\n      <td>115.0</td>\n      <td>2.1</td>\n      <td>1014.9</td>\n      <td>23.2</td>\n      <td>24.3</td>\n      <td>22.4</td>\n      <td>253.0</td>\n      <td>3.3</td>\n      <td>1015.4</td>\n      <td>24.6</td>\n      <td>...</td>\n      <td>57.340921</td>\n      <td>7.748116</td>\n      <td>23.225526</td>\n      <td>3.249472</td>\n      <td>2.253867</td>\n      <td>17.940120</td>\n      <td>20.289760</td>\n      <td>24.392457</td>\n      <td>2.801135</td>\n      <td>1016.457424</td>\n    </tr>\n    <tr>\n      <th>2022-12-31 13:00:00</th>\n      <td>31.0</td>\n      <td>0.9</td>\n      <td>1015.4</td>\n      <td>23.6</td>\n      <td>24.4</td>\n      <td>22.7</td>\n      <td>273.0</td>\n      <td>2.9</td>\n      <td>1016.0</td>\n      <td>24.6</td>\n      <td>...</td>\n      <td>67.428525</td>\n      <td>8.995343</td>\n      <td>23.788509</td>\n      <td>3.861368</td>\n      <td>1.868949</td>\n      <td>18.015958</td>\n      <td>20.528888</td>\n      <td>24.392457</td>\n      <td>3.091739</td>\n      <td>1016.537954</td>\n    </tr>\n    <tr>\n      <th>2022-12-31 14:00:00</th>\n      <td>97.0</td>\n      <td>0.8</td>\n      <td>1015.9</td>\n      <td>24.5</td>\n      <td>24.4</td>\n      <td>23.0</td>\n      <td>322.0</td>\n      <td>4.7</td>\n      <td>1016.6</td>\n      <td>24.5</td>\n      <td>...</td>\n      <td>63.862272</td>\n      <td>9.735934</td>\n      <td>24.198304</td>\n      <td>4.578226</td>\n      <td>2.137407</td>\n      <td>18.188211</td>\n      <td>20.764725</td>\n      <td>24.392457</td>\n      <td>3.032069</td>\n      <td>1017.260591</td>\n    </tr>\n    <tr>\n      <th>2022-12-31 15:00:00</th>\n      <td>113.0</td>\n      <td>1.9</td>\n      <td>1016.6</td>\n      <td>24.4</td>\n      <td>24.3</td>\n      <td>23.6</td>\n      <td>322.0</td>\n      <td>3.2</td>\n      <td>1017.2</td>\n      <td>24.6</td>\n      <td>...</td>\n      <td>59.982563</td>\n      <td>8.944310</td>\n      <td>24.267899</td>\n      <td>4.467306</td>\n      <td>2.001684</td>\n      <td>18.374565</td>\n      <td>20.972985</td>\n      <td>24.392457</td>\n      <td>2.112608</td>\n      <td>1017.936358</td>\n    </tr>\n    <tr>\n      <th>2022-12-31 16:00:00</th>\n      <td>124.0</td>\n      <td>0.8</td>\n      <td>1017.1</td>\n      <td>24.6</td>\n      <td>24.4</td>\n      <td>23.8</td>\n      <td>316.0</td>\n      <td>1.3</td>\n      <td>1017.8</td>\n      <td>24.7</td>\n      <td>...</td>\n      <td>54.021722</td>\n      <td>8.184192</td>\n      <td>22.985636</td>\n      <td>4.666860</td>\n      <td>1.689902</td>\n      <td>18.530813</td>\n      <td>21.218287</td>\n      <td>24.392457</td>\n      <td>0.927335</td>\n      <td>1018.299381</td>\n    </tr>\n    <tr>\n      <th>2022-12-31 17:00:00</th>\n      <td>107.0</td>\n      <td>1.1</td>\n      <td>1016.6</td>\n      <td>24.9</td>\n      <td>24.4</td>\n      <td>23.9</td>\n      <td>104.0</td>\n      <td>0.0</td>\n      <td>1017.7</td>\n      <td>25.8</td>\n      <td>...</td>\n      <td>42.613490</td>\n      <td>8.048871</td>\n      <td>22.726306</td>\n      <td>3.951884</td>\n      <td>1.136156</td>\n      <td>18.914954</td>\n      <td>21.425724</td>\n      <td>24.392457</td>\n      <td>0.337422</td>\n      <td>1017.865203</td>\n    </tr>\n    <tr>\n      <th>2022-12-31 18:00:00</th>\n      <td>147.0</td>\n      <td>1.1</td>\n      <td>1015.9</td>\n      <td>25.1</td>\n      <td>24.5</td>\n      <td>24.3</td>\n      <td>42.0</td>\n      <td>0.5</td>\n      <td>1016.8</td>\n      <td>25.5</td>\n      <td>...</td>\n      <td>33.224639</td>\n      <td>8.420749</td>\n      <td>22.645825</td>\n      <td>3.044037</td>\n      <td>0.956942</td>\n      <td>19.264797</td>\n      <td>21.661149</td>\n      <td>24.392457</td>\n      <td>0.622219</td>\n      <td>1017.238861</td>\n    </tr>\n    <tr>\n      <th>2022-12-31 19:00:00</th>\n      <td>195.0</td>\n      <td>0.5</td>\n      <td>1015.0</td>\n      <td>25.6</td>\n      <td>24.7</td>\n      <td>24.5</td>\n      <td>22.0</td>\n      <td>0.6</td>\n      <td>1015.9</td>\n      <td>25.1</td>\n      <td>...</td>\n      <td>28.180851</td>\n      <td>8.602918</td>\n      <td>22.730194</td>\n      <td>2.533178</td>\n      <td>0.601025</td>\n      <td>19.323104</td>\n      <td>21.847184</td>\n      <td>24.392457</td>\n      <td>1.062895</td>\n      <td>1016.581840</td>\n    </tr>\n    <tr>\n      <th>2022-12-31 20:00:00</th>\n      <td>210.0</td>\n      <td>1.0</td>\n      <td>1015.0</td>\n      <td>25.3</td>\n      <td>24.5</td>\n      <td>24.3</td>\n      <td>88.0</td>\n      <td>1.2</td>\n      <td>1015.4</td>\n      <td>24.7</td>\n      <td>...</td>\n      <td>22.969408</td>\n      <td>7.734290</td>\n      <td>22.564177</td>\n      <td>2.669909</td>\n      <td>0.979714</td>\n      <td>19.245361</td>\n      <td>22.052563</td>\n      <td>24.392457</td>\n      <td>1.330008</td>\n      <td>1016.363260</td>\n    </tr>\n    <tr>\n      <th>2022-12-31 21:00:00</th>\n      <td>231.0</td>\n      <td>0.6</td>\n      <td>1014.7</td>\n      <td>26.4</td>\n      <td>24.7</td>\n      <td>24.4</td>\n      <td>87.0</td>\n      <td>1.7</td>\n      <td>1014.9</td>\n      <td>24.6</td>\n      <td>...</td>\n      <td>14.655430</td>\n      <td>6.485218</td>\n      <td>22.377552</td>\n      <td>3.147255</td>\n      <td>2.067327</td>\n      <td>19.338348</td>\n      <td>22.260412</td>\n      <td>24.392457</td>\n      <td>1.770915</td>\n      <td>1016.186435</td>\n    </tr>\n    <tr>\n      <th>2022-12-31 22:00:00</th>\n      <td>18.0</td>\n      <td>0.7</td>\n      <td>1014.9</td>\n      <td>25.4</td>\n      <td>24.7</td>\n      <td>24.1</td>\n      <td>90.0</td>\n      <td>2.5</td>\n      <td>1014.9</td>\n      <td>24.5</td>\n      <td>...</td>\n      <td>20.371840</td>\n      <td>3.294807</td>\n      <td>24.068445</td>\n      <td>3.469271</td>\n      <td>1.554299</td>\n      <td>18.567779</td>\n      <td>22.101541</td>\n      <td>24.885927</td>\n      <td>2.483432</td>\n      <td>1017.067575</td>\n    </tr>\n    <tr>\n      <th>2022-12-31 23:00:00</th>\n      <td>68.0</td>\n      <td>1.6</td>\n      <td>1015.0</td>\n      <td>25.0</td>\n      <td>24.5</td>\n      <td>24.3</td>\n      <td>116.0</td>\n      <td>3.7</td>\n      <td>1015.0</td>\n      <td>24.5</td>\n      <td>...</td>\n      <td>21.918165</td>\n      <td>2.229422</td>\n      <td>23.926533</td>\n      <td>3.938095</td>\n      <td>2.206784</td>\n      <td>18.779285</td>\n      <td>22.243125</td>\n      <td>24.885927</td>\n      <td>3.242142</td>\n      <td>1017.021132</td>\n    </tr>\n  </tbody>\n</table>\n<p>25 rows × 104 columns</p>\n</div>"
     },
     "execution_count": 16,
     "metadata": {},
     "output_type": "execute_result"
    }
   ],
   "source": [
    "evaluation_1 = data.tail(len(yhat)+1).copy()  #+1 since i need that value for de-differencing\n",
    "evaluation_1"
   ],
   "metadata": {
    "collapsed": false,
    "pycharm": {
     "name": "#%%\n"
    }
   }
  },
  {
   "cell_type": "code",
   "execution_count": 17,
   "outputs": [
    {
     "name": "stderr",
     "output_type": "stream",
     "text": [
      "/var/folders/ys/lj6w647n5qjdv23zdxs_fn740000gn/T/ipykernel_3193/4009267436.py:2: PerformanceWarning: DataFrame is highly fragmented.  This is usually the result of calling `frame.insert` many times, which has poor performance.  Consider joining all columns at once using pd.concat(axis=1) instead. To get a de-fragmented frame, use `newframe = frame.copy()`\n",
      "  evaluation_1[f\"{col}_pred\"]= evaluation_1[col].shift(STATIONARY_SHIFT) + yhat_unscaled_df[f\"{col}_pred\"]\n",
      "/var/folders/ys/lj6w647n5qjdv23zdxs_fn740000gn/T/ipykernel_3193/4009267436.py:2: PerformanceWarning: DataFrame is highly fragmented.  This is usually the result of calling `frame.insert` many times, which has poor performance.  Consider joining all columns at once using pd.concat(axis=1) instead. To get a de-fragmented frame, use `newframe = frame.copy()`\n",
      "  evaluation_1[f\"{col}_pred\"]= evaluation_1[col].shift(STATIONARY_SHIFT) + yhat_unscaled_df[f\"{col}_pred\"]\n",
      "/var/folders/ys/lj6w647n5qjdv23zdxs_fn740000gn/T/ipykernel_3193/4009267436.py:2: PerformanceWarning: DataFrame is highly fragmented.  This is usually the result of calling `frame.insert` many times, which has poor performance.  Consider joining all columns at once using pd.concat(axis=1) instead. To get a de-fragmented frame, use `newframe = frame.copy()`\n",
      "  evaluation_1[f\"{col}_pred\"]= evaluation_1[col].shift(STATIONARY_SHIFT) + yhat_unscaled_df[f\"{col}_pred\"]\n",
      "/var/folders/ys/lj6w647n5qjdv23zdxs_fn740000gn/T/ipykernel_3193/4009267436.py:2: PerformanceWarning: DataFrame is highly fragmented.  This is usually the result of calling `frame.insert` many times, which has poor performance.  Consider joining all columns at once using pd.concat(axis=1) instead. To get a de-fragmented frame, use `newframe = frame.copy()`\n",
      "  evaluation_1[f\"{col}_pred\"]= evaluation_1[col].shift(STATIONARY_SHIFT) + yhat_unscaled_df[f\"{col}_pred\"]\n",
      "/var/folders/ys/lj6w647n5qjdv23zdxs_fn740000gn/T/ipykernel_3193/4009267436.py:2: PerformanceWarning: DataFrame is highly fragmented.  This is usually the result of calling `frame.insert` many times, which has poor performance.  Consider joining all columns at once using pd.concat(axis=1) instead. To get a de-fragmented frame, use `newframe = frame.copy()`\n",
      "  evaluation_1[f\"{col}_pred\"]= evaluation_1[col].shift(STATIONARY_SHIFT) + yhat_unscaled_df[f\"{col}_pred\"]\n"
     ]
    },
    {
     "data": {
      "text/plain": "                     WDIR_42001  WSPD_42001  PRES_42001  ATMP_42001  \\\n2022-12-31 00:00:00       189.0         5.0      1013.5        25.2   \n2022-12-31 01:00:00       203.0         5.6      1013.8        24.7   \n2022-12-31 02:00:00       169.0         2.3      1014.5        24.8   \n2022-12-31 03:00:00        53.0         6.0      1014.8        22.7   \n2022-12-31 04:00:00        55.0         8.5      1015.2        22.3   \n2022-12-31 05:00:00        72.0         7.6      1014.9        22.6   \n2022-12-31 06:00:00        77.0         7.2      1014.4        23.0   \n2022-12-31 07:00:00        97.0         7.8      1014.1        23.1   \n2022-12-31 08:00:00       148.0         3.3      1013.9        24.4   \n2022-12-31 09:00:00       195.0         5.4      1014.0        25.0   \n2022-12-31 10:00:00       223.0         5.1      1014.4        25.0   \n2022-12-31 11:00:00        18.0         3.3      1015.0        22.6   \n2022-12-31 12:00:00       115.0         2.1      1014.9        23.2   \n2022-12-31 13:00:00        31.0         0.9      1015.4        23.6   \n2022-12-31 14:00:00        97.0         0.8      1015.9        24.5   \n2022-12-31 15:00:00       113.0         1.9      1016.6        24.4   \n2022-12-31 16:00:00       124.0         0.8      1017.1        24.6   \n2022-12-31 17:00:00       107.0         1.1      1016.6        24.9   \n2022-12-31 18:00:00       147.0         1.1      1015.9        25.1   \n2022-12-31 19:00:00       195.0         0.5      1015.0        25.6   \n2022-12-31 20:00:00       210.0         1.0      1015.0        25.3   \n2022-12-31 21:00:00       231.0         0.6      1014.7        26.4   \n2022-12-31 22:00:00        18.0         0.7      1014.9        25.4   \n2022-12-31 23:00:00        68.0         1.6      1015.0        25.0   \n\n                     WTMP_42001  DEWP_42001  WDIR_42002  WSPD_42002  \\\n2022-12-31 00:00:00        24.3        24.5       333.0         5.6   \n2022-12-31 01:00:00        24.3        23.5       359.0         4.6   \n2022-12-31 02:00:00        24.3        24.4        18.0         4.2   \n2022-12-31 03:00:00        24.4        22.1        51.0         4.0   \n2022-12-31 04:00:00        24.4        21.9        69.0         3.1   \n2022-12-31 05:00:00        24.3        22.1        89.0         3.7   \n2022-12-31 06:00:00        24.4        23.0       118.0         2.6   \n2022-12-31 07:00:00        24.4        23.0       151.0         2.8   \n2022-12-31 08:00:00        24.4        24.3       195.0         1.2   \n2022-12-31 09:00:00        24.4        24.6       207.0         2.3   \n2022-12-31 10:00:00        24.4        24.6       194.0         2.2   \n2022-12-31 11:00:00        24.3        22.0       217.0         2.7   \n2022-12-31 12:00:00        24.3        22.4       253.0         3.3   \n2022-12-31 13:00:00        24.4        22.7       273.0         2.9   \n2022-12-31 14:00:00        24.4        23.0       322.0         4.7   \n2022-12-31 15:00:00        24.3        23.6       322.0         3.2   \n2022-12-31 16:00:00        24.4        23.8       316.0         1.3   \n2022-12-31 17:00:00        24.4        23.9       104.0         0.0   \n2022-12-31 18:00:00        24.5        24.3        42.0         0.5   \n2022-12-31 19:00:00        24.7        24.5        22.0         0.6   \n2022-12-31 20:00:00        24.5        24.3        88.0         1.2   \n2022-12-31 21:00:00        24.7        24.4        87.0         1.7   \n2022-12-31 22:00:00        24.7        24.1        90.0         2.5   \n2022-12-31 23:00:00        24.5        24.3       116.0         3.7   \n\n                     PRES_42002  ATMP_42002  ...  WDIR_42039_ERA5_pred  \\\n2022-12-31 00:00:00      1012.3        24.6  ...            219.989481   \n2022-12-31 01:00:00      1012.9        24.6  ...            435.048818   \n2022-12-31 02:00:00      1013.5        24.7  ...            388.674003   \n2022-12-31 03:00:00      1014.1        24.5  ...            245.184672   \n2022-12-31 04:00:00      1014.4        24.3  ...            366.820474   \n2022-12-31 05:00:00      1014.4        24.3  ...            309.506929   \n2022-12-31 06:00:00      1014.5        24.4  ...             84.337619   \n2022-12-31 07:00:00      1014.6        24.5  ...            213.633959   \n2022-12-31 08:00:00      1014.8        24.6  ...            419.353307   \n2022-12-31 09:00:00      1014.4        24.5  ...            200.224722   \n2022-12-31 10:00:00      1014.4        24.6  ...            149.093126   \n2022-12-31 11:00:00      1014.9        24.6  ...            239.435302   \n2022-12-31 12:00:00      1015.4        24.6  ...            386.371966   \n2022-12-31 13:00:00      1016.0        24.6  ...            229.195459   \n2022-12-31 14:00:00      1016.6        24.5  ...            154.755429   \n2022-12-31 15:00:00      1017.2        24.6  ...            419.424101   \n2022-12-31 16:00:00      1017.8        24.7  ...            348.120991   \n2022-12-31 17:00:00      1017.7        25.8  ...            166.571420   \n2022-12-31 18:00:00      1016.8        25.5  ...            158.966335   \n2022-12-31 19:00:00      1015.9        25.1  ...            379.046172   \n2022-12-31 20:00:00      1015.4        24.7  ...            363.033817   \n2022-12-31 21:00:00      1014.9        24.6  ...            284.672228   \n2022-12-31 22:00:00      1014.9        24.5  ...            243.784092   \n2022-12-31 23:00:00      1015.0        24.5  ...            256.174238   \n\n                     WSPD_42039_ERA5_pred  ATMP_42039_ERA5_pred  \\\n2022-12-31 00:00:00              9.211813             21.908093   \n2022-12-31 01:00:00              8.776645             22.091843   \n2022-12-31 02:00:00              8.471236             21.996514   \n2022-12-31 03:00:00              8.967829             20.941260   \n2022-12-31 04:00:00              9.670502             21.041990   \n2022-12-31 05:00:00              8.685676             21.781116   \n2022-12-31 06:00:00              7.972599             22.007156   \n2022-12-31 07:00:00              7.443067             21.986106   \n2022-12-31 08:00:00              7.721590             22.079308   \n2022-12-31 09:00:00              8.325974             22.305767   \n2022-12-31 10:00:00              7.927737             22.454686   \n2022-12-31 11:00:00              5.699199             21.873424   \n2022-12-31 12:00:00              5.544846             21.841406   \n2022-12-31 13:00:00              6.362208             21.188650   \n2022-12-31 14:00:00              7.708098             21.760904   \n2022-12-31 15:00:00              8.483125             22.170522   \n2022-12-31 16:00:00              7.592158             22.241307   \n2022-12-31 17:00:00              6.828888             20.951895   \n2022-12-31 18:00:00              6.722269             20.699674   \n2022-12-31 19:00:00              7.104571             20.622247   \n2022-12-31 20:00:00              7.108975             20.687974   \n2022-12-31 21:00:00              6.326867             20.527012   \n2022-12-31 22:00:00              5.125347             20.336811   \n2022-12-31 23:00:00              1.819614             22.020832   \n\n                     WSPD_42035_ERA5_pred  WSPD_42001_ERA5_pred  \\\n2022-12-31 00:00:00              2.987593              5.252986   \n2022-12-31 01:00:00              3.643971              5.002178   \n2022-12-31 02:00:00              4.378156              5.527273   \n2022-12-31 03:00:00              3.474529              5.791234   \n2022-12-31 04:00:00              2.127220              6.416122   \n2022-12-31 05:00:00              1.977419              6.442206   \n2022-12-31 06:00:00              2.345224              6.475435   \n2022-12-31 07:00:00              3.191609              6.397530   \n2022-12-31 08:00:00              4.253671              6.424112   \n2022-12-31 09:00:00              4.226467              6.622963   \n2022-12-31 10:00:00              4.017078              6.603753   \n2022-12-31 11:00:00              4.108555              4.035568   \n2022-12-31 12:00:00              3.796256              3.025969   \n2022-12-31 13:00:00              3.616402              2.204143   \n2022-12-31 14:00:00              4.211442              1.799668   \n2022-12-31 15:00:00              4.936978              2.061291   \n2022-12-31 16:00:00              4.836762              1.938284   \n2022-12-31 17:00:00              5.039163              1.630864   \n2022-12-31 18:00:00              4.303858              1.075700   \n2022-12-31 19:00:00              3.404868              0.889243   \n2022-12-31 20:00:00              2.911048              0.533439   \n2022-12-31 21:00:00              3.027040              0.910271   \n2022-12-31 22:00:00              3.514501              1.993482   \n2022-12-31 23:00:00              3.817260              1.505034   \n\n                     DEWP_42020_ERA5_pred  ATMP_42019_ERA5_pred  \\\n2022-12-31 00:00:00             17.023135             17.633711   \n2022-12-31 01:00:00             16.808350             17.767244   \n2022-12-31 02:00:00             16.392308             17.860164   \n2022-12-31 03:00:00             15.990875             17.895816   \n2022-12-31 04:00:00             15.819445             17.792384   \n2022-12-31 05:00:00             15.697723             17.619538   \n2022-12-31 06:00:00             15.526579             17.492434   \n2022-12-31 07:00:00             15.299589             17.461221   \n2022-12-31 08:00:00             15.190138             17.469879   \n2022-12-31 09:00:00             15.217872             17.442447   \n2022-12-31 10:00:00             15.165269             17.317606   \n2022-12-31 11:00:00             16.485515             17.654996   \n2022-12-31 12:00:00             16.479839             17.877904   \n2022-12-31 13:00:00             16.455928             18.018139   \n2022-12-31 14:00:00             16.668715             18.342941   \n2022-12-31 15:00:00             16.883535             18.603647   \n2022-12-31 16:00:00             16.944442             18.735483   \n2022-12-31 17:00:00             17.082308             18.968803   \n2022-12-31 18:00:00             17.516311             19.207865   \n2022-12-31 19:00:00             17.889624             19.457607   \n2022-12-31 20:00:00             17.803578             19.569348   \n2022-12-31 21:00:00             17.806838             19.818731   \n2022-12-31 22:00:00             17.944191             20.050359   \n2022-12-31 23:00:00             17.020750             19.799787   \n\n                     WTMP_42039_ERA5_pred  WSPD_42002_ERA5_pred  \\\n2022-12-31 00:00:00             24.412666              3.882235   \n2022-12-31 01:00:00             24.412537              1.637549   \n2022-12-31 02:00:00             24.411949              1.358777   \n2022-12-31 03:00:00             24.412970              1.815596   \n2022-12-31 04:00:00             24.412512              2.077735   \n2022-12-31 05:00:00             24.411538              2.626704   \n2022-12-31 06:00:00             24.411305              3.587028   \n2022-12-31 07:00:00             24.411482              4.526712   \n2022-12-31 08:00:00             24.411615              4.746990   \n2022-12-31 09:00:00             24.410916              4.457642   \n2022-12-31 10:00:00             24.412327              4.235251   \n2022-12-31 11:00:00             24.413501              3.095922   \n2022-12-31 12:00:00             24.412915              2.780379   \n2022-12-31 13:00:00             24.412990              3.008267   \n2022-12-31 14:00:00             24.410985              3.317799   \n2022-12-31 15:00:00             24.410240              3.254993   \n2022-12-31 16:00:00             24.411906              2.329333   \n2022-12-31 17:00:00             24.412214              1.144119   \n2022-12-31 18:00:00             24.412039              0.562058   \n2022-12-31 19:00:00             24.411277              0.836289   \n2022-12-31 20:00:00             24.413412              1.184013   \n2022-12-31 21:00:00             24.412465              1.498622   \n2022-12-31 22:00:00             24.411892              1.947083   \n2022-12-31 23:00:00             24.907183              2.637288   \n\n                     PRES_42039_ERA5_pred  \n2022-12-31 00:00:00           1014.196507  \n2022-12-31 01:00:00           1014.811932  \n2022-12-31 02:00:00           1015.373010  \n2022-12-31 03:00:00           1015.853540  \n2022-12-31 04:00:00           1016.121492  \n2022-12-31 05:00:00           1016.230495  \n2022-12-31 06:00:00           1015.718704  \n2022-12-31 07:00:00           1015.142525  \n2022-12-31 08:00:00           1014.526757  \n2022-12-31 09:00:00           1014.069543  \n2022-12-31 10:00:00           1014.054978  \n2022-12-31 11:00:00           1014.468095  \n2022-12-31 12:00:00           1014.864086  \n2022-12-31 13:00:00           1015.534969  \n2022-12-31 14:00:00           1015.559900  \n2022-12-31 15:00:00           1016.269332  \n2022-12-31 16:00:00           1016.985216  \n2022-12-31 17:00:00           1017.361025  \n2022-12-31 18:00:00           1016.902995  \n2022-12-31 19:00:00           1016.267319  \n2022-12-31 20:00:00           1015.669858  \n2022-12-31 21:00:00           1015.420492  \n2022-12-31 22:00:00           1015.232118  \n2022-12-31 23:00:00           1016.172468  \n\n[24 rows x 208 columns]",
      "text/html": "<div>\n<style scoped>\n    .dataframe tbody tr th:only-of-type {\n        vertical-align: middle;\n    }\n\n    .dataframe tbody tr th {\n        vertical-align: top;\n    }\n\n    .dataframe thead th {\n        text-align: right;\n    }\n</style>\n<table border=\"1\" class=\"dataframe\">\n  <thead>\n    <tr style=\"text-align: right;\">\n      <th></th>\n      <th>WDIR_42001</th>\n      <th>WSPD_42001</th>\n      <th>PRES_42001</th>\n      <th>ATMP_42001</th>\n      <th>WTMP_42001</th>\n      <th>DEWP_42001</th>\n      <th>WDIR_42002</th>\n      <th>WSPD_42002</th>\n      <th>PRES_42002</th>\n      <th>ATMP_42002</th>\n      <th>...</th>\n      <th>WDIR_42039_ERA5_pred</th>\n      <th>WSPD_42039_ERA5_pred</th>\n      <th>ATMP_42039_ERA5_pred</th>\n      <th>WSPD_42035_ERA5_pred</th>\n      <th>WSPD_42001_ERA5_pred</th>\n      <th>DEWP_42020_ERA5_pred</th>\n      <th>ATMP_42019_ERA5_pred</th>\n      <th>WTMP_42039_ERA5_pred</th>\n      <th>WSPD_42002_ERA5_pred</th>\n      <th>PRES_42039_ERA5_pred</th>\n    </tr>\n  </thead>\n  <tbody>\n    <tr>\n      <th>2022-12-31 00:00:00</th>\n      <td>189.0</td>\n      <td>5.0</td>\n      <td>1013.5</td>\n      <td>25.2</td>\n      <td>24.3</td>\n      <td>24.5</td>\n      <td>333.0</td>\n      <td>5.6</td>\n      <td>1012.3</td>\n      <td>24.6</td>\n      <td>...</td>\n      <td>219.989481</td>\n      <td>9.211813</td>\n      <td>21.908093</td>\n      <td>2.987593</td>\n      <td>5.252986</td>\n      <td>17.023135</td>\n      <td>17.633711</td>\n      <td>24.412666</td>\n      <td>3.882235</td>\n      <td>1014.196507</td>\n    </tr>\n    <tr>\n      <th>2022-12-31 01:00:00</th>\n      <td>203.0</td>\n      <td>5.6</td>\n      <td>1013.8</td>\n      <td>24.7</td>\n      <td>24.3</td>\n      <td>23.5</td>\n      <td>359.0</td>\n      <td>4.6</td>\n      <td>1012.9</td>\n      <td>24.6</td>\n      <td>...</td>\n      <td>435.048818</td>\n      <td>8.776645</td>\n      <td>22.091843</td>\n      <td>3.643971</td>\n      <td>5.002178</td>\n      <td>16.808350</td>\n      <td>17.767244</td>\n      <td>24.412537</td>\n      <td>1.637549</td>\n      <td>1014.811932</td>\n    </tr>\n    <tr>\n      <th>2022-12-31 02:00:00</th>\n      <td>169.0</td>\n      <td>2.3</td>\n      <td>1014.5</td>\n      <td>24.8</td>\n      <td>24.3</td>\n      <td>24.4</td>\n      <td>18.0</td>\n      <td>4.2</td>\n      <td>1013.5</td>\n      <td>24.7</td>\n      <td>...</td>\n      <td>388.674003</td>\n      <td>8.471236</td>\n      <td>21.996514</td>\n      <td>4.378156</td>\n      <td>5.527273</td>\n      <td>16.392308</td>\n      <td>17.860164</td>\n      <td>24.411949</td>\n      <td>1.358777</td>\n      <td>1015.373010</td>\n    </tr>\n    <tr>\n      <th>2022-12-31 03:00:00</th>\n      <td>53.0</td>\n      <td>6.0</td>\n      <td>1014.8</td>\n      <td>22.7</td>\n      <td>24.4</td>\n      <td>22.1</td>\n      <td>51.0</td>\n      <td>4.0</td>\n      <td>1014.1</td>\n      <td>24.5</td>\n      <td>...</td>\n      <td>245.184672</td>\n      <td>8.967829</td>\n      <td>20.941260</td>\n      <td>3.474529</td>\n      <td>5.791234</td>\n      <td>15.990875</td>\n      <td>17.895816</td>\n      <td>24.412970</td>\n      <td>1.815596</td>\n      <td>1015.853540</td>\n    </tr>\n    <tr>\n      <th>2022-12-31 04:00:00</th>\n      <td>55.0</td>\n      <td>8.5</td>\n      <td>1015.2</td>\n      <td>22.3</td>\n      <td>24.4</td>\n      <td>21.9</td>\n      <td>69.0</td>\n      <td>3.1</td>\n      <td>1014.4</td>\n      <td>24.3</td>\n      <td>...</td>\n      <td>366.820474</td>\n      <td>9.670502</td>\n      <td>21.041990</td>\n      <td>2.127220</td>\n      <td>6.416122</td>\n      <td>15.819445</td>\n      <td>17.792384</td>\n      <td>24.412512</td>\n      <td>2.077735</td>\n      <td>1016.121492</td>\n    </tr>\n    <tr>\n      <th>2022-12-31 05:00:00</th>\n      <td>72.0</td>\n      <td>7.6</td>\n      <td>1014.9</td>\n      <td>22.6</td>\n      <td>24.3</td>\n      <td>22.1</td>\n      <td>89.0</td>\n      <td>3.7</td>\n      <td>1014.4</td>\n      <td>24.3</td>\n      <td>...</td>\n      <td>309.506929</td>\n      <td>8.685676</td>\n      <td>21.781116</td>\n      <td>1.977419</td>\n      <td>6.442206</td>\n      <td>15.697723</td>\n      <td>17.619538</td>\n      <td>24.411538</td>\n      <td>2.626704</td>\n      <td>1016.230495</td>\n    </tr>\n    <tr>\n      <th>2022-12-31 06:00:00</th>\n      <td>77.0</td>\n      <td>7.2</td>\n      <td>1014.4</td>\n      <td>23.0</td>\n      <td>24.4</td>\n      <td>23.0</td>\n      <td>118.0</td>\n      <td>2.6</td>\n      <td>1014.5</td>\n      <td>24.4</td>\n      <td>...</td>\n      <td>84.337619</td>\n      <td>7.972599</td>\n      <td>22.007156</td>\n      <td>2.345224</td>\n      <td>6.475435</td>\n      <td>15.526579</td>\n      <td>17.492434</td>\n      <td>24.411305</td>\n      <td>3.587028</td>\n      <td>1015.718704</td>\n    </tr>\n    <tr>\n      <th>2022-12-31 07:00:00</th>\n      <td>97.0</td>\n      <td>7.8</td>\n      <td>1014.1</td>\n      <td>23.1</td>\n      <td>24.4</td>\n      <td>23.0</td>\n      <td>151.0</td>\n      <td>2.8</td>\n      <td>1014.6</td>\n      <td>24.5</td>\n      <td>...</td>\n      <td>213.633959</td>\n      <td>7.443067</td>\n      <td>21.986106</td>\n      <td>3.191609</td>\n      <td>6.397530</td>\n      <td>15.299589</td>\n      <td>17.461221</td>\n      <td>24.411482</td>\n      <td>4.526712</td>\n      <td>1015.142525</td>\n    </tr>\n    <tr>\n      <th>2022-12-31 08:00:00</th>\n      <td>148.0</td>\n      <td>3.3</td>\n      <td>1013.9</td>\n      <td>24.4</td>\n      <td>24.4</td>\n      <td>24.3</td>\n      <td>195.0</td>\n      <td>1.2</td>\n      <td>1014.8</td>\n      <td>24.6</td>\n      <td>...</td>\n      <td>419.353307</td>\n      <td>7.721590</td>\n      <td>22.079308</td>\n      <td>4.253671</td>\n      <td>6.424112</td>\n      <td>15.190138</td>\n      <td>17.469879</td>\n      <td>24.411615</td>\n      <td>4.746990</td>\n      <td>1014.526757</td>\n    </tr>\n    <tr>\n      <th>2022-12-31 09:00:00</th>\n      <td>195.0</td>\n      <td>5.4</td>\n      <td>1014.0</td>\n      <td>25.0</td>\n      <td>24.4</td>\n      <td>24.6</td>\n      <td>207.0</td>\n      <td>2.3</td>\n      <td>1014.4</td>\n      <td>24.5</td>\n      <td>...</td>\n      <td>200.224722</td>\n      <td>8.325974</td>\n      <td>22.305767</td>\n      <td>4.226467</td>\n      <td>6.622963</td>\n      <td>15.217872</td>\n      <td>17.442447</td>\n      <td>24.410916</td>\n      <td>4.457642</td>\n      <td>1014.069543</td>\n    </tr>\n    <tr>\n      <th>2022-12-31 10:00:00</th>\n      <td>223.0</td>\n      <td>5.1</td>\n      <td>1014.4</td>\n      <td>25.0</td>\n      <td>24.4</td>\n      <td>24.6</td>\n      <td>194.0</td>\n      <td>2.2</td>\n      <td>1014.4</td>\n      <td>24.6</td>\n      <td>...</td>\n      <td>149.093126</td>\n      <td>7.927737</td>\n      <td>22.454686</td>\n      <td>4.017078</td>\n      <td>6.603753</td>\n      <td>15.165269</td>\n      <td>17.317606</td>\n      <td>24.412327</td>\n      <td>4.235251</td>\n      <td>1014.054978</td>\n    </tr>\n    <tr>\n      <th>2022-12-31 11:00:00</th>\n      <td>18.0</td>\n      <td>3.3</td>\n      <td>1015.0</td>\n      <td>22.6</td>\n      <td>24.3</td>\n      <td>22.0</td>\n      <td>217.0</td>\n      <td>2.7</td>\n      <td>1014.9</td>\n      <td>24.6</td>\n      <td>...</td>\n      <td>239.435302</td>\n      <td>5.699199</td>\n      <td>21.873424</td>\n      <td>4.108555</td>\n      <td>4.035568</td>\n      <td>16.485515</td>\n      <td>17.654996</td>\n      <td>24.413501</td>\n      <td>3.095922</td>\n      <td>1014.468095</td>\n    </tr>\n    <tr>\n      <th>2022-12-31 12:00:00</th>\n      <td>115.0</td>\n      <td>2.1</td>\n      <td>1014.9</td>\n      <td>23.2</td>\n      <td>24.3</td>\n      <td>22.4</td>\n      <td>253.0</td>\n      <td>3.3</td>\n      <td>1015.4</td>\n      <td>24.6</td>\n      <td>...</td>\n      <td>386.371966</td>\n      <td>5.544846</td>\n      <td>21.841406</td>\n      <td>3.796256</td>\n      <td>3.025969</td>\n      <td>16.479839</td>\n      <td>17.877904</td>\n      <td>24.412915</td>\n      <td>2.780379</td>\n      <td>1014.864086</td>\n    </tr>\n    <tr>\n      <th>2022-12-31 13:00:00</th>\n      <td>31.0</td>\n      <td>0.9</td>\n      <td>1015.4</td>\n      <td>23.6</td>\n      <td>24.4</td>\n      <td>22.7</td>\n      <td>273.0</td>\n      <td>2.9</td>\n      <td>1016.0</td>\n      <td>24.6</td>\n      <td>...</td>\n      <td>229.195459</td>\n      <td>6.362208</td>\n      <td>21.188650</td>\n      <td>3.616402</td>\n      <td>2.204143</td>\n      <td>16.455928</td>\n      <td>18.018139</td>\n      <td>24.412990</td>\n      <td>3.008267</td>\n      <td>1015.534969</td>\n    </tr>\n    <tr>\n      <th>2022-12-31 14:00:00</th>\n      <td>97.0</td>\n      <td>0.8</td>\n      <td>1015.9</td>\n      <td>24.5</td>\n      <td>24.4</td>\n      <td>23.0</td>\n      <td>322.0</td>\n      <td>4.7</td>\n      <td>1016.6</td>\n      <td>24.5</td>\n      <td>...</td>\n      <td>154.755429</td>\n      <td>7.708098</td>\n      <td>21.760904</td>\n      <td>4.211442</td>\n      <td>1.799668</td>\n      <td>16.668715</td>\n      <td>18.342941</td>\n      <td>24.410985</td>\n      <td>3.317799</td>\n      <td>1015.559900</td>\n    </tr>\n    <tr>\n      <th>2022-12-31 15:00:00</th>\n      <td>113.0</td>\n      <td>1.9</td>\n      <td>1016.6</td>\n      <td>24.4</td>\n      <td>24.3</td>\n      <td>23.6</td>\n      <td>322.0</td>\n      <td>3.2</td>\n      <td>1017.2</td>\n      <td>24.6</td>\n      <td>...</td>\n      <td>419.424101</td>\n      <td>8.483125</td>\n      <td>22.170522</td>\n      <td>4.936978</td>\n      <td>2.061291</td>\n      <td>16.883535</td>\n      <td>18.603647</td>\n      <td>24.410240</td>\n      <td>3.254993</td>\n      <td>1016.269332</td>\n    </tr>\n    <tr>\n      <th>2022-12-31 16:00:00</th>\n      <td>124.0</td>\n      <td>0.8</td>\n      <td>1017.1</td>\n      <td>24.6</td>\n      <td>24.4</td>\n      <td>23.8</td>\n      <td>316.0</td>\n      <td>1.3</td>\n      <td>1017.8</td>\n      <td>24.7</td>\n      <td>...</td>\n      <td>348.120991</td>\n      <td>7.592158</td>\n      <td>22.241307</td>\n      <td>4.836762</td>\n      <td>1.938284</td>\n      <td>16.944442</td>\n      <td>18.735483</td>\n      <td>24.411906</td>\n      <td>2.329333</td>\n      <td>1016.985216</td>\n    </tr>\n    <tr>\n      <th>2022-12-31 17:00:00</th>\n      <td>107.0</td>\n      <td>1.1</td>\n      <td>1016.6</td>\n      <td>24.9</td>\n      <td>24.4</td>\n      <td>23.9</td>\n      <td>104.0</td>\n      <td>0.0</td>\n      <td>1017.7</td>\n      <td>25.8</td>\n      <td>...</td>\n      <td>166.571420</td>\n      <td>6.828888</td>\n      <td>20.951895</td>\n      <td>5.039163</td>\n      <td>1.630864</td>\n      <td>17.082308</td>\n      <td>18.968803</td>\n      <td>24.412214</td>\n      <td>1.144119</td>\n      <td>1017.361025</td>\n    </tr>\n    <tr>\n      <th>2022-12-31 18:00:00</th>\n      <td>147.0</td>\n      <td>1.1</td>\n      <td>1015.9</td>\n      <td>25.1</td>\n      <td>24.5</td>\n      <td>24.3</td>\n      <td>42.0</td>\n      <td>0.5</td>\n      <td>1016.8</td>\n      <td>25.5</td>\n      <td>...</td>\n      <td>158.966335</td>\n      <td>6.722269</td>\n      <td>20.699674</td>\n      <td>4.303858</td>\n      <td>1.075700</td>\n      <td>17.516311</td>\n      <td>19.207865</td>\n      <td>24.412039</td>\n      <td>0.562058</td>\n      <td>1016.902995</td>\n    </tr>\n    <tr>\n      <th>2022-12-31 19:00:00</th>\n      <td>195.0</td>\n      <td>0.5</td>\n      <td>1015.0</td>\n      <td>25.6</td>\n      <td>24.7</td>\n      <td>24.5</td>\n      <td>22.0</td>\n      <td>0.6</td>\n      <td>1015.9</td>\n      <td>25.1</td>\n      <td>...</td>\n      <td>379.046172</td>\n      <td>7.104571</td>\n      <td>20.622247</td>\n      <td>3.404868</td>\n      <td>0.889243</td>\n      <td>17.889624</td>\n      <td>19.457607</td>\n      <td>24.411277</td>\n      <td>0.836289</td>\n      <td>1016.267319</td>\n    </tr>\n    <tr>\n      <th>2022-12-31 20:00:00</th>\n      <td>210.0</td>\n      <td>1.0</td>\n      <td>1015.0</td>\n      <td>25.3</td>\n      <td>24.5</td>\n      <td>24.3</td>\n      <td>88.0</td>\n      <td>1.2</td>\n      <td>1015.4</td>\n      <td>24.7</td>\n      <td>...</td>\n      <td>363.033817</td>\n      <td>7.108975</td>\n      <td>20.687974</td>\n      <td>2.911048</td>\n      <td>0.533439</td>\n      <td>17.803578</td>\n      <td>19.569348</td>\n      <td>24.413412</td>\n      <td>1.184013</td>\n      <td>1015.669858</td>\n    </tr>\n    <tr>\n      <th>2022-12-31 21:00:00</th>\n      <td>231.0</td>\n      <td>0.6</td>\n      <td>1014.7</td>\n      <td>26.4</td>\n      <td>24.7</td>\n      <td>24.4</td>\n      <td>87.0</td>\n      <td>1.7</td>\n      <td>1014.9</td>\n      <td>24.6</td>\n      <td>...</td>\n      <td>284.672228</td>\n      <td>6.326867</td>\n      <td>20.527012</td>\n      <td>3.027040</td>\n      <td>0.910271</td>\n      <td>17.806838</td>\n      <td>19.818731</td>\n      <td>24.412465</td>\n      <td>1.498622</td>\n      <td>1015.420492</td>\n    </tr>\n    <tr>\n      <th>2022-12-31 22:00:00</th>\n      <td>18.0</td>\n      <td>0.7</td>\n      <td>1014.9</td>\n      <td>25.4</td>\n      <td>24.7</td>\n      <td>24.1</td>\n      <td>90.0</td>\n      <td>2.5</td>\n      <td>1014.9</td>\n      <td>24.5</td>\n      <td>...</td>\n      <td>243.784092</td>\n      <td>5.125347</td>\n      <td>20.336811</td>\n      <td>3.514501</td>\n      <td>1.993482</td>\n      <td>17.944191</td>\n      <td>20.050359</td>\n      <td>24.411892</td>\n      <td>1.947083</td>\n      <td>1015.232118</td>\n    </tr>\n    <tr>\n      <th>2022-12-31 23:00:00</th>\n      <td>68.0</td>\n      <td>1.6</td>\n      <td>1015.0</td>\n      <td>25.0</td>\n      <td>24.5</td>\n      <td>24.3</td>\n      <td>116.0</td>\n      <td>3.7</td>\n      <td>1015.0</td>\n      <td>24.5</td>\n      <td>...</td>\n      <td>256.174238</td>\n      <td>1.819614</td>\n      <td>22.020832</td>\n      <td>3.817260</td>\n      <td>1.505034</td>\n      <td>17.020750</td>\n      <td>19.799787</td>\n      <td>24.907183</td>\n      <td>2.637288</td>\n      <td>1016.172468</td>\n    </tr>\n  </tbody>\n</table>\n<p>24 rows × 208 columns</p>\n</div>"
     },
     "execution_count": 17,
     "metadata": {},
     "output_type": "execute_result"
    }
   ],
   "source": [
    "for col in evaluation_1.columns:\n",
    "    evaluation_1[f\"{col}_pred\"]= evaluation_1[col].shift(STATIONARY_SHIFT) + yhat_unscaled_df[f\"{col}_pred\"]\n",
    "\n",
    "evaluation_1 = evaluation_1.iloc[STATIONARY_SHIFT:]  # remove first n entries since there is no delta value for them\n",
    "evaluation_1"
   ],
   "metadata": {
    "collapsed": false,
    "pycharm": {
     "name": "#%%\n"
    }
   }
  },
  {
   "cell_type": "code",
   "execution_count": 18,
   "outputs": [
    {
     "name": "stdout",
     "output_type": "stream",
     "text": [
      "MAE:  0.9131892790397008\n",
      "MSE:  0.844276077415207\n"
     ]
    }
   ],
   "source": [
    "wtmp_true = [col for col in evaluation_1.columns if col.startswith(\"WTMP\")][0]\n",
    "\n",
    "mae = mean_absolute_error(evaluation_1[wtmp_true], evaluation_1[f\"{wtmp_true}_pred\"])\n",
    "mse = mean_squared_error(evaluation_1[wtmp_true], evaluation_1[f\"{wtmp_true}_pred\"])\n",
    "print('MAE: ', mae)\n",
    "print('MSE: ', mse)"
   ],
   "metadata": {
    "collapsed": false,
    "pycharm": {
     "name": "#%%\n"
    }
   }
  },
  {
   "cell_type": "code",
   "execution_count": 19,
   "outputs": [],
   "source": [
    "#evaluation_1.plot(kind='line')"
   ],
   "metadata": {
    "collapsed": false,
    "pycharm": {
     "name": "#%%\n"
    }
   }
  },
  {
   "cell_type": "markdown",
   "source": [
    "# Recurrent forecast (EXCLUDED FOR NOW!)"
   ],
   "metadata": {
    "collapsed": false,
    "pycharm": {
     "name": "#%% md\n"
    }
   }
  },
  {
   "cell_type": "code",
   "execution_count": 20,
   "outputs": [],
   "source": [
    "# model.reset_states()\n",
    "# _ = model.predict(train_X_scaled, batch_size=1)"
   ],
   "metadata": {
    "collapsed": false,
    "pycharm": {
     "name": "#%%\n"
    }
   }
  },
  {
   "cell_type": "code",
   "execution_count": 21,
   "outputs": [],
   "source": [
    "# # make a one-step forecast\n",
    "# # This function helps with reshaping.\n",
    "# def single_forecast(model, x):\n",
    "#     x = x.reshape(1, 1, len(x[0]))\n",
    "#     yhat = model.predict(x, verbose=0)\n",
    "#     return yhat"
   ],
   "metadata": {
    "collapsed": false,
    "pycharm": {
     "name": "#%%\n"
    }
   }
  },
  {
   "cell_type": "code",
   "execution_count": 22,
   "outputs": [],
   "source": [
    "# # Prepare data structure\n",
    "# prediction_2 = pd.DataFrame(test_y_scaled, columns=output_cols)\n",
    "# for col in output_cols:\n",
    "#     prediction_2[f\"{col}_pred\"] = 0\n",
    "#\n",
    "# prediction_2"
   ],
   "metadata": {
    "collapsed": false,
    "pycharm": {
     "name": "#%%\n"
    }
   }
  },
  {
   "cell_type": "code",
   "execution_count": 23,
   "outputs": [],
   "source": [
    "# #Forecast a whole week\n",
    "# prev_obs = test_X_scaled[0]\n",
    "#\n",
    "# for i, row in prediction_2.iterrows():\n",
    "#     yhat = single_forecast(model, prev_obs)\n",
    "#     prev_obs = yhat\n",
    "#\n",
    "#     #Mapping of array index and df column name\n",
    "#     for j, element in enumerate(output_cols):\n",
    "#         prediction_2.at[i, f\"{element}_pred\"] =yhat[0,j]\n",
    "#\n",
    "# # prediction_2.plot(kind='line')\n",
    "# prediction_2"
   ],
   "metadata": {
    "collapsed": false,
    "pycharm": {
     "name": "#%%\n"
    }
   }
  },
  {
   "cell_type": "code",
   "execution_count": 24,
   "outputs": [],
   "source": [
    "# #Reverse differenciate\n",
    "# first_row = data.iloc[-len(yhat)-1]\n",
    "#\n",
    "# yhat = prediction_2[[name + \"_pred\" for name in output_cols]].values\n",
    "# yhat_unscaled = DP.invert_scaling(yhat, SCALER)\n",
    "# yhat_true_value = DP.stationary_to_data(yhat_unscaled, first_row)\n",
    "#\n",
    "# yhat_true_value_df = pd.DataFrame(yhat_true_value, columns=[name + \"_pred\" for name in output_cols])\n",
    "# yhat_true_value_df.set_index(data.tail(len(yhat)).index, inplace=True)\n",
    "#\n",
    "# true_value = data.tail(len(yhat)+1).copy()\n",
    "#\n",
    "# evaluation_2 = pd.concat([true_value, yhat_true_value_df], axis=1)\n",
    "# evaluation_2 = evaluation_2.iloc[STATIONARY_SHIFT:]\n",
    "# evaluation_2"
   ],
   "metadata": {
    "collapsed": false,
    "pycharm": {
     "name": "#%%\n"
    }
   }
  },
  {
   "cell_type": "code",
   "execution_count": 25,
   "outputs": [],
   "source": [
    "# wtmp_true = [col for col in evaluation_2.columns if col.startswith(\"WTMP\")][0]\n",
    "#\n",
    "# mae_2 = mean_absolute_error(evaluation_2[wtmp_true], evaluation_2[f\"{wtmp_true}_pred\"])\n",
    "# mse_2 = mean_squared_error(evaluation_2[wtmp_true], evaluation_2[f\"{wtmp_true}_pred\"])\n",
    "# print('MAE: ', mae_2)\n",
    "# print('MSE: ', mse_2)"
   ],
   "metadata": {
    "collapsed": false,
    "pycharm": {
     "name": "#%%\n"
    }
   }
  },
  {
   "cell_type": "code",
   "execution_count": 26,
   "outputs": [],
   "source": [
    "#evaluation_2.plot(kind='line')"
   ],
   "metadata": {
    "collapsed": false,
    "pycharm": {
     "name": "#%%\n"
    }
   }
  },
  {
   "cell_type": "markdown",
   "source": [
    "# SAVE"
   ],
   "metadata": {
    "collapsed": false,
    "pycharm": {
     "name": "#%% md\n"
    }
   }
  },
  {
   "cell_type": "code",
   "execution_count": 27,
   "outputs": [
    {
     "data": {
      "text/plain": "HBox(children=(Text(value='', description='Filename:', placeholder='Enter filename'), Label(value='.pickle')))",
      "application/vnd.jupyter.widget-view+json": {
       "version_major": 2,
       "version_minor": 0,
       "model_id": "de450c7d83d248be98ff7be61e269780"
      }
     },
     "metadata": {},
     "output_type": "display_data"
    },
    {
     "name": "stdout",
     "output_type": "stream",
     "text": [
      "Please also check if the reports description needs to be changed!\n"
     ]
    }
   ],
   "source": [
    "# create a text input widget for username\n",
    "filename_widget = widgets.Text(\n",
    "    value='',\n",
    "    placeholder='Enter filename',\n",
    "    description='Filename:',\n",
    "    disabled=False\n",
    ")\n",
    "# add '.csv' to the description\n",
    "extension_label = widgets.Label('.pickle')\n",
    "\n",
    "# display the widget\n",
    "display(widgets.HBox([filename_widget, extension_label]))\n",
    "\n",
    "print(\"Please also check if the reports description needs to be changed!\")"
   ],
   "metadata": {
    "collapsed": false,
    "pycharm": {
     "name": "#%%\n"
    }
   }
  },
  {
   "cell_type": "code",
   "execution_count": 41,
   "outputs": [],
   "source": [
    "report_description=\"Test #12 GOM, dataset A, LSTM based PINN, Alpha = 0.2\""
   ],
   "metadata": {
    "collapsed": false,
    "pycharm": {
     "name": "#%%\n"
    }
   }
  },
  {
   "cell_type": "code",
   "execution_count": 42,
   "outputs": [
    {
     "name": "stdout",
     "output_type": "stream",
     "text": [
      "File successfully saved:\n",
      "data/reports/report_01.pickle\n"
     ]
    }
   ],
   "source": [
    "filename = filename_widget.value\n",
    "if filename == \"\":\n",
    "    print(\"Enter a valid filename!\")\n",
    "\n",
    "else:\n",
    "    #Save Data About executed Test:\n",
    "\n",
    "    # Convert model summary to string\n",
    "    stringlist = []\n",
    "    model.summary(print_fn=lambda x: stringlist.append(x))\n",
    "    model_summary = \"\\n\".join(stringlist)\n",
    "\n",
    "    report = Experiment(\n",
    "        name=filename,\n",
    "        description=report_description,\n",
    "\n",
    "        stations = dataset[\"stations\"],\n",
    "        years = dataset[\"years\"],\n",
    "        nan_threshold=dataset[\"nan_threshold\"],\n",
    "        features=dataset[\"features\"],\n",
    "        era5=dataset[\"add_era5\"],\n",
    "\n",
    "        stationary_shift=STATIONARY_SHIFT,\n",
    "\n",
    "        n_test_hours=N_TEST_HOURS,\n",
    "\n",
    "        #stationary=STATIONARY,\n",
    "        scaler=SCALER,\n",
    "\n",
    "        model_name = MODEL_NAME,\n",
    "        model_summary=model_summary,\n",
    "\n",
    "        one_shot_forecast = evaluation_1,\n",
    "        recursive_forecast = None   # evaluation_2\n",
    "    )\n",
    "\n",
    "\n",
    "    # open a file for writing in binary mode\n",
    "    filepath = f'data/reports/{report.name}.pickle'\n",
    "    with open(filepath, 'wb') as f:\n",
    "        # write the object to the file using pickle.dump()\n",
    "        pickle.dump(report, f)\n",
    "        print(\"File successfully saved:\")\n",
    "        print(filepath)"
   ],
   "metadata": {
    "collapsed": false,
    "pycharm": {
     "name": "#%%\n"
    }
   }
  },
  {
   "cell_type": "code",
   "execution_count": null,
   "outputs": [],
   "source": [],
   "metadata": {
    "collapsed": false,
    "pycharm": {
     "name": "#%%\n"
    }
   }
  },
  {
   "cell_type": "code",
   "execution_count": null,
   "outputs": [],
   "source": [],
   "metadata": {
    "collapsed": false,
    "pycharm": {
     "name": "#%%\n"
    }
   }
  },
  {
   "cell_type": "code",
   "execution_count": null,
   "outputs": [],
   "source": [],
   "metadata": {
    "collapsed": false,
    "pycharm": {
     "name": "#%%\n"
    }
   }
  }
 ],
 "metadata": {
  "kernelspec": {
   "display_name": "Python 3",
   "language": "python",
   "name": "python3"
  },
  "language_info": {
   "codemirror_mode": {
    "name": "ipython",
    "version": 2
   },
   "file_extension": ".py",
   "mimetype": "text/x-python",
   "name": "python",
   "nbconvert_exporter": "python",
   "pygments_lexer": "ipython2",
   "version": "2.7.6"
  }
 },
 "nbformat": 4,
 "nbformat_minor": 0
}