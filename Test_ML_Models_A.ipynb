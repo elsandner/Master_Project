{
 "cells": [
  {
   "cell_type": "markdown",
   "metadata": {
    "pycharm": {
     "name": "#%% md\n"
    }
   },
   "source": [
    "# Test Environment"
   ]
  },
  {
   "cell_type": "code",
   "execution_count": 15,
   "metadata": {
    "pycharm": {
     "name": "#%%\n"
    }
   },
   "outputs": [
    {
     "name": "stdout",
     "output_type": "stream",
     "text": [
      "The jupyternotify extension is already loaded. To reload it, use:\n",
      "  %reload_ext jupyternotify\n"
     ]
    }
   ],
   "source": [
    "import ipywidgets as widgets\n",
    "from IPython.display import display\n",
    "import numpy as np\n",
    "import pandas as pd\n",
    "#import Models.models as models\n",
    "#import Models.LSTM.models_LSTM as models\n",
    "import myLibrary as mL\n",
    "#from Experiment_Class import Experiment\n",
    "from sklearn.metrics import mean_squared_error, mean_absolute_error\n",
    "import pickle\n",
    "import os\n",
    "\n",
    "NDBC = mL.NDBC_lib\n",
    "ERA5 = mL.ERA5_lib\n",
    "Models = mL.Models\n",
    "DP = mL.DataProcessor\n",
    "Experiment = mL.Experiment\n",
    "\n",
    "%load_ext jupyternotify"
   ]
  },
  {
   "cell_type": "markdown",
   "metadata": {
    "pycharm": {
     "name": "#%% md\n"
    }
   },
   "source": [
    "# Get Data"
   ]
  },
  {
   "cell_type": "code",
   "execution_count": 16,
   "metadata": {
    "pycharm": {
     "name": "#%%\n"
    }
   },
   "outputs": [
    {
     "data": {
      "text/plain": "Select(description='Datafile:', options=('.DS_Store', 'GOM_2_A.pickle', 'dataset_GOM_1_A_A.pickle', 'GOM_1_A.p…",
      "application/vnd.jupyter.widget-view+json": {
       "version_major": 2,
       "version_minor": 0,
       "model_id": "0452470afa494424a85eda721e8aee7d"
      }
     },
     "metadata": {},
     "output_type": "display_data"
    },
    {
     "name": "stdout",
     "output_type": "stream",
     "text": [
      "Stationary Shilft: \n"
     ]
    },
    {
     "data": {
      "text/plain": "BoundedIntText(value=1, max=10)",
      "application/vnd.jupyter.widget-view+json": {
       "version_major": 2,
       "version_minor": 0,
       "model_id": "809fb41f58c743d8ac9db0676d783786"
      }
     },
     "metadata": {},
     "output_type": "display_data"
    },
    {
     "data": {
      "text/plain": "IntSlider(value=24, continuous_update=False, description='Test Hours:', max=1000)",
      "application/vnd.jupyter.widget-view+json": {
       "version_major": 2,
       "version_minor": 0,
       "model_id": "d87a004ce6d449fb8fed2697cd4c620e"
      }
     },
     "metadata": {},
     "output_type": "display_data"
    },
    {
     "data": {
      "text/plain": "Select(description='Model:', options=('LSTM', 'GRU', 'CNN', 'TCN'), rows=10, value='LSTM')",
      "application/vnd.jupyter.widget-view+json": {
       "version_major": 2,
       "version_minor": 0,
       "model_id": "64a511ca4a724381a44dd4b33f007fff"
      }
     },
     "metadata": {},
     "output_type": "display_data"
    },
    {
     "name": "stdout",
     "output_type": "stream",
     "text": [
      "Alpha (only for PINN):\n"
     ]
    },
    {
     "data": {
      "text/plain": "FloatSlider(value=0.5, layout=Layout(width='500px'), max=1.0, step=0.01)",
      "application/vnd.jupyter.widget-view+json": {
       "version_major": 2,
       "version_minor": 0,
       "model_id": "0408da4dd6564952a2ddcc11f5b2b365"
      }
     },
     "metadata": {},
     "output_type": "display_data"
    }
   ],
   "source": [
    "data_directory = os.path.join(os.getcwd(), f'data/datasets/type_A')\n",
    "\n",
    "def build_UI():\n",
    "\n",
    "    # Select Model-------------------------------------------------------------------------------\n",
    "    global datafile_widget\n",
    "    datafile_list = os.listdir(data_directory)\n",
    "    datafile_widget = widgets.Select(\n",
    "        options=datafile_list,\n",
    "        value=datafile_list[0],\n",
    "        # rows=10,\n",
    "        description='Datafile:',\n",
    "        disabled=False\n",
    "    )\n",
    "    display(datafile_widget)\n",
    "\n",
    "    #STATIONARY_SHIFT -----------------------------------------------------------------------\n",
    "    global stationaryShift_widget\n",
    "    stationaryShift_widget = widgets.BoundedIntText(\n",
    "        value=1,\n",
    "        min=0,\n",
    "        max=10,\n",
    "        step=1,\n",
    "        description='',\n",
    "        disabled=False,\n",
    "    )\n",
    "    print(\"Stationary Shilft: \")\n",
    "    display(stationaryShift_widget)\n",
    "\n",
    "    # Test Hours-------------------------------------------------------------------------------\n",
    "    global test_hours_widget\n",
    "    test_hours_widget = widgets.IntSlider(\n",
    "        value=24,\n",
    "        min=0,\n",
    "        max=1000,\n",
    "        step=1,\n",
    "        description='Test Hours:',\n",
    "        disabled=False,\n",
    "        continuous_update=False,\n",
    "        orientation='horizontal',\n",
    "        readout=True,\n",
    "        readout_format='d'\n",
    "    )\n",
    "\n",
    "    # display the range slider widget\n",
    "    display(test_hours_widget)\n",
    "    #print(\"(1 Week = 168h)\")\n",
    "\n",
    "    # Select Model-------------------------------------------------------------------------------\n",
    "    global models_widget\n",
    "    models_list = list(Models.model_dictionary.keys())\n",
    "    models_widget = widgets.Select(\n",
    "        options=models_list,\n",
    "        value=models_list[0],\n",
    "        rows=10,\n",
    "        description='Model:',\n",
    "        disabled=False\n",
    "    )\n",
    "    display(models_widget)\n",
    "\n",
    "    #ALPHA:-------------------------------------------------------------------------------\n",
    "    # create a FloatSlider widget for a value between 0 and 1\n",
    "    print(\"Alpha (only for PINN):\")\n",
    "    global alpha_slider\n",
    "    alpha_slider = widgets.FloatSlider(\n",
    "        value=0.5,\n",
    "        min=0,\n",
    "        max=1,\n",
    "        step=0.01,\n",
    "        description='',\n",
    "        readout_format='.2f',\n",
    "        orientation='horizontal',\n",
    "        layout={'width': '500px'}\n",
    "    )\n",
    "\n",
    "    # display the FloatSlider widget\n",
    "    display(alpha_slider)\n",
    "\n",
    "\n",
    "build_UI()"
   ]
  },
  {
   "cell_type": "code",
   "execution_count": 17,
   "metadata": {
    "pycharm": {
     "name": "#%%\n"
    }
   },
   "outputs": [],
   "source": [
    "DATAFILE = datafile_widget.value\n",
    "STATIONARY_SHIFT = stationaryShift_widget.value\n",
    "N_TEST_HOURS = test_hours_widget.value\n",
    "MODEL_NAME = models_widget.value\n",
    "ALPHA = alpha_slider.value"
   ]
  },
  {
   "cell_type": "markdown",
   "metadata": {
    "pycharm": {
     "name": "#%% md\n"
    }
   },
   "source": [
    "## Optional: use hardcoded variables instead"
   ]
  },
  {
   "cell_type": "code",
   "execution_count": 18,
   "metadata": {
    "pycharm": {
     "name": "#%%\n"
    }
   },
   "outputs": [],
   "source": [
    "DATAFILE = \"dataset_GOM_1_A_A.pickle\"\n",
    "STATIONARY_SHIFT = 1\n",
    "N_TEST_HOURS = 24\n",
    "MODEL_NAME = \"CNN\"\n",
    "ALPHA = 0.0"
   ]
  },
  {
   "cell_type": "code",
   "execution_count": 19,
   "metadata": {
    "pycharm": {
     "name": "#%%\n"
    }
   },
   "outputs": [
    {
     "name": "stdout",
     "output_type": "stream",
     "text": [
      "Datafile: dataset_GOM_1_A_A.pickle\n",
      "Alpha: 0.0\n",
      "Stationary Shift: 1\n",
      "Test-Hours: 24\n",
      "Model: CNN\n"
     ]
    }
   ],
   "source": [
    "print(f\"Datafile: {DATAFILE}\")\n",
    "print(f\"Alpha: {ALPHA}\")\n",
    "print(f\"Stationary Shift: {STATIONARY_SHIFT}\")\n",
    "print(f\"Test-Hours: {N_TEST_HOURS}\")\n",
    "print(f\"Model: {MODEL_NAME}\")"
   ]
  },
  {
   "cell_type": "code",
   "execution_count": 20,
   "metadata": {
    "pycharm": {
     "name": "#%%\n"
    }
   },
   "outputs": [
    {
     "name": "stdout",
     "output_type": "stream",
     "text": [
      "stations ['42001', '42002', '42003', '42007', '42012', '42019', '42020', '42035', '42036', '42038', '42039', '42040', '42041', '42055']\n",
      "years ['2002', '2003', '2004', '2005', '2006', '2007', '2008', '2009', '2010', '2011', '2012', '2013', '2014', '2015', '2016', '2017', '2018', '2019', '2020', '2021', '2022']\n",
      "nan_threshold 0.66\n",
      "features ['WDIR', 'WSPD', 'WVHT', 'APD', 'MWD', 'PRES', 'ATMP', 'WTMP', 'DEWP']\n",
      "add_era5 True\n"
     ]
    },
    {
     "data": {
      "text/plain": "                     WDIR_42001  WSPD_42001  PRES_42001  ATMP_42001  \\\n2002-01-01 00:00:00        66.0         9.3      1017.1        22.3   \n2002-01-01 01:00:00        66.0         9.3      1017.1        22.3   \n2002-01-01 02:00:00        67.0         9.4      1017.2        21.9   \n2002-01-01 03:00:00        69.0         9.1      1017.2        22.4   \n2002-01-01 04:00:00        70.0         9.0      1017.1        22.5   \n...                         ...         ...         ...         ...   \n2022-12-31 19:00:00       195.0         0.5      1015.0        25.6   \n2022-12-31 20:00:00       210.0         1.0      1015.0        25.3   \n2022-12-31 21:00:00       231.0         0.6      1014.7        26.4   \n2022-12-31 22:00:00        18.0         0.7      1014.9        25.4   \n2022-12-31 23:00:00        68.0         1.6      1015.0        25.0   \n\n                     WTMP_42001  DEWP_42001  WDIR_42002  WSPD_42002  \\\n2002-01-01 00:00:00        25.5        16.8        39.0        10.5   \n2002-01-01 01:00:00        25.5        16.8        39.0        10.5   \n2002-01-01 02:00:00        25.5        16.6        36.0        10.9   \n2002-01-01 03:00:00        25.5        16.9        32.0        12.7   \n2002-01-01 04:00:00        25.5        16.3        33.0        12.7   \n...                         ...         ...         ...         ...   \n2022-12-31 19:00:00        24.7        24.5        22.0         0.6   \n2022-12-31 20:00:00        24.5        24.3        88.0         1.2   \n2022-12-31 21:00:00        24.7        24.4        87.0         1.7   \n2022-12-31 22:00:00        24.7        24.1        90.0         2.5   \n2022-12-31 23:00:00        24.5        24.3       116.0         3.7   \n\n                     PRES_42002  ATMP_42002  ...  WDIR_42039_ERA5  \\\n2002-01-01 00:00:00      1016.1        21.7  ...       246.007357   \n2002-01-01 01:00:00      1016.1        21.7  ...       247.678051   \n2002-01-01 02:00:00      1016.1        21.7  ...       250.591891   \n2002-01-01 03:00:00      1015.9        20.8  ...       253.468273   \n2002-01-01 04:00:00      1015.8        21.0  ...       251.493918   \n...                         ...         ...  ...              ...   \n2022-12-31 19:00:00      1015.9        25.1  ...        28.180851   \n2022-12-31 20:00:00      1015.4        24.7  ...        22.969408   \n2022-12-31 21:00:00      1014.9        24.6  ...        14.655430   \n2022-12-31 22:00:00      1014.9        24.5  ...        20.371840   \n2022-12-31 23:00:00      1015.0        24.5  ...        21.918165   \n\n                     WSPD_42039_ERA5  ATMP_42039_ERA5  WSPD_42035_ERA5  \\\n2002-01-01 00:00:00         5.756333        13.882608         8.031200   \n2002-01-01 01:00:00         5.579721        14.020573         8.216895   \n2002-01-01 02:00:00         5.582730        14.070538         8.454808   \n2002-01-01 03:00:00         5.633966        14.058979         8.471692   \n2002-01-01 04:00:00         5.638108        13.986641         8.698506   \n...                              ...              ...              ...   \n2022-12-31 19:00:00         8.602918        22.730194         2.533178   \n2022-12-31 20:00:00         7.734290        22.564177         2.669909   \n2022-12-31 21:00:00         6.485218        22.377552         3.147255   \n2022-12-31 22:00:00         3.294807        24.068445         3.469271   \n2022-12-31 23:00:00         2.229422        23.926533         3.938095   \n\n                     WSPD_42001_ERA5  DEWP_42020_ERA5  ATMP_42019_ERA5  \\\n2002-01-01 00:00:00         9.867456        10.834305        11.708612   \n2002-01-01 01:00:00         9.782997        10.975658        11.926516   \n2002-01-01 02:00:00         9.517146        11.111871        12.166319   \n2002-01-01 03:00:00         8.911373        11.239089        12.361607   \n2002-01-01 04:00:00         8.481407        11.332468        12.482585   \n...                              ...              ...              ...   \n2022-12-31 19:00:00         0.601025        19.323104        21.847184   \n2022-12-31 20:00:00         0.979714        19.245361        22.052563   \n2022-12-31 21:00:00         2.067327        19.338348        22.260412   \n2022-12-31 22:00:00         1.554299        18.567779        22.101541   \n2022-12-31 23:00:00         2.206784        18.779285        22.243125   \n\n                     WTMP_42039_ERA5  WSPD_42002_ERA5  PRES_42039_ERA5  \n2002-01-01 00:00:00        21.781113         9.820263      1019.426223  \n2002-01-01 01:00:00        21.781113        10.465795      1019.792677  \n2002-01-01 02:00:00        21.781113        11.760698      1019.725358  \n2002-01-01 03:00:00        21.781113        11.910608      1019.833394  \n2002-01-01 04:00:00        21.781113        11.716782      1019.804620  \n...                              ...              ...              ...  \n2022-12-31 19:00:00        24.392457         1.062895      1016.581840  \n2022-12-31 20:00:00        24.392457         1.330008      1016.363260  \n2022-12-31 21:00:00        24.392457         1.770915      1016.186435  \n2022-12-31 22:00:00        24.885927         2.483432      1017.067575  \n2022-12-31 23:00:00        24.885927         3.242142      1017.021132  \n\n[184080 rows x 104 columns]",
      "text/html": "<div>\n<style scoped>\n    .dataframe tbody tr th:only-of-type {\n        vertical-align: middle;\n    }\n\n    .dataframe tbody tr th {\n        vertical-align: top;\n    }\n\n    .dataframe thead th {\n        text-align: right;\n    }\n</style>\n<table border=\"1\" class=\"dataframe\">\n  <thead>\n    <tr style=\"text-align: right;\">\n      <th></th>\n      <th>WDIR_42001</th>\n      <th>WSPD_42001</th>\n      <th>PRES_42001</th>\n      <th>ATMP_42001</th>\n      <th>WTMP_42001</th>\n      <th>DEWP_42001</th>\n      <th>WDIR_42002</th>\n      <th>WSPD_42002</th>\n      <th>PRES_42002</th>\n      <th>ATMP_42002</th>\n      <th>...</th>\n      <th>WDIR_42039_ERA5</th>\n      <th>WSPD_42039_ERA5</th>\n      <th>ATMP_42039_ERA5</th>\n      <th>WSPD_42035_ERA5</th>\n      <th>WSPD_42001_ERA5</th>\n      <th>DEWP_42020_ERA5</th>\n      <th>ATMP_42019_ERA5</th>\n      <th>WTMP_42039_ERA5</th>\n      <th>WSPD_42002_ERA5</th>\n      <th>PRES_42039_ERA5</th>\n    </tr>\n  </thead>\n  <tbody>\n    <tr>\n      <th>2002-01-01 00:00:00</th>\n      <td>66.0</td>\n      <td>9.3</td>\n      <td>1017.1</td>\n      <td>22.3</td>\n      <td>25.5</td>\n      <td>16.8</td>\n      <td>39.0</td>\n      <td>10.5</td>\n      <td>1016.1</td>\n      <td>21.7</td>\n      <td>...</td>\n      <td>246.007357</td>\n      <td>5.756333</td>\n      <td>13.882608</td>\n      <td>8.031200</td>\n      <td>9.867456</td>\n      <td>10.834305</td>\n      <td>11.708612</td>\n      <td>21.781113</td>\n      <td>9.820263</td>\n      <td>1019.426223</td>\n    </tr>\n    <tr>\n      <th>2002-01-01 01:00:00</th>\n      <td>66.0</td>\n      <td>9.3</td>\n      <td>1017.1</td>\n      <td>22.3</td>\n      <td>25.5</td>\n      <td>16.8</td>\n      <td>39.0</td>\n      <td>10.5</td>\n      <td>1016.1</td>\n      <td>21.7</td>\n      <td>...</td>\n      <td>247.678051</td>\n      <td>5.579721</td>\n      <td>14.020573</td>\n      <td>8.216895</td>\n      <td>9.782997</td>\n      <td>10.975658</td>\n      <td>11.926516</td>\n      <td>21.781113</td>\n      <td>10.465795</td>\n      <td>1019.792677</td>\n    </tr>\n    <tr>\n      <th>2002-01-01 02:00:00</th>\n      <td>67.0</td>\n      <td>9.4</td>\n      <td>1017.2</td>\n      <td>21.9</td>\n      <td>25.5</td>\n      <td>16.6</td>\n      <td>36.0</td>\n      <td>10.9</td>\n      <td>1016.1</td>\n      <td>21.7</td>\n      <td>...</td>\n      <td>250.591891</td>\n      <td>5.582730</td>\n      <td>14.070538</td>\n      <td>8.454808</td>\n      <td>9.517146</td>\n      <td>11.111871</td>\n      <td>12.166319</td>\n      <td>21.781113</td>\n      <td>11.760698</td>\n      <td>1019.725358</td>\n    </tr>\n    <tr>\n      <th>2002-01-01 03:00:00</th>\n      <td>69.0</td>\n      <td>9.1</td>\n      <td>1017.2</td>\n      <td>22.4</td>\n      <td>25.5</td>\n      <td>16.9</td>\n      <td>32.0</td>\n      <td>12.7</td>\n      <td>1015.9</td>\n      <td>20.8</td>\n      <td>...</td>\n      <td>253.468273</td>\n      <td>5.633966</td>\n      <td>14.058979</td>\n      <td>8.471692</td>\n      <td>8.911373</td>\n      <td>11.239089</td>\n      <td>12.361607</td>\n      <td>21.781113</td>\n      <td>11.910608</td>\n      <td>1019.833394</td>\n    </tr>\n    <tr>\n      <th>2002-01-01 04:00:00</th>\n      <td>70.0</td>\n      <td>9.0</td>\n      <td>1017.1</td>\n      <td>22.5</td>\n      <td>25.5</td>\n      <td>16.3</td>\n      <td>33.0</td>\n      <td>12.7</td>\n      <td>1015.8</td>\n      <td>21.0</td>\n      <td>...</td>\n      <td>251.493918</td>\n      <td>5.638108</td>\n      <td>13.986641</td>\n      <td>8.698506</td>\n      <td>8.481407</td>\n      <td>11.332468</td>\n      <td>12.482585</td>\n      <td>21.781113</td>\n      <td>11.716782</td>\n      <td>1019.804620</td>\n    </tr>\n    <tr>\n      <th>...</th>\n      <td>...</td>\n      <td>...</td>\n      <td>...</td>\n      <td>...</td>\n      <td>...</td>\n      <td>...</td>\n      <td>...</td>\n      <td>...</td>\n      <td>...</td>\n      <td>...</td>\n      <td>...</td>\n      <td>...</td>\n      <td>...</td>\n      <td>...</td>\n      <td>...</td>\n      <td>...</td>\n      <td>...</td>\n      <td>...</td>\n      <td>...</td>\n      <td>...</td>\n      <td>...</td>\n    </tr>\n    <tr>\n      <th>2022-12-31 19:00:00</th>\n      <td>195.0</td>\n      <td>0.5</td>\n      <td>1015.0</td>\n      <td>25.6</td>\n      <td>24.7</td>\n      <td>24.5</td>\n      <td>22.0</td>\n      <td>0.6</td>\n      <td>1015.9</td>\n      <td>25.1</td>\n      <td>...</td>\n      <td>28.180851</td>\n      <td>8.602918</td>\n      <td>22.730194</td>\n      <td>2.533178</td>\n      <td>0.601025</td>\n      <td>19.323104</td>\n      <td>21.847184</td>\n      <td>24.392457</td>\n      <td>1.062895</td>\n      <td>1016.581840</td>\n    </tr>\n    <tr>\n      <th>2022-12-31 20:00:00</th>\n      <td>210.0</td>\n      <td>1.0</td>\n      <td>1015.0</td>\n      <td>25.3</td>\n      <td>24.5</td>\n      <td>24.3</td>\n      <td>88.0</td>\n      <td>1.2</td>\n      <td>1015.4</td>\n      <td>24.7</td>\n      <td>...</td>\n      <td>22.969408</td>\n      <td>7.734290</td>\n      <td>22.564177</td>\n      <td>2.669909</td>\n      <td>0.979714</td>\n      <td>19.245361</td>\n      <td>22.052563</td>\n      <td>24.392457</td>\n      <td>1.330008</td>\n      <td>1016.363260</td>\n    </tr>\n    <tr>\n      <th>2022-12-31 21:00:00</th>\n      <td>231.0</td>\n      <td>0.6</td>\n      <td>1014.7</td>\n      <td>26.4</td>\n      <td>24.7</td>\n      <td>24.4</td>\n      <td>87.0</td>\n      <td>1.7</td>\n      <td>1014.9</td>\n      <td>24.6</td>\n      <td>...</td>\n      <td>14.655430</td>\n      <td>6.485218</td>\n      <td>22.377552</td>\n      <td>3.147255</td>\n      <td>2.067327</td>\n      <td>19.338348</td>\n      <td>22.260412</td>\n      <td>24.392457</td>\n      <td>1.770915</td>\n      <td>1016.186435</td>\n    </tr>\n    <tr>\n      <th>2022-12-31 22:00:00</th>\n      <td>18.0</td>\n      <td>0.7</td>\n      <td>1014.9</td>\n      <td>25.4</td>\n      <td>24.7</td>\n      <td>24.1</td>\n      <td>90.0</td>\n      <td>2.5</td>\n      <td>1014.9</td>\n      <td>24.5</td>\n      <td>...</td>\n      <td>20.371840</td>\n      <td>3.294807</td>\n      <td>24.068445</td>\n      <td>3.469271</td>\n      <td>1.554299</td>\n      <td>18.567779</td>\n      <td>22.101541</td>\n      <td>24.885927</td>\n      <td>2.483432</td>\n      <td>1017.067575</td>\n    </tr>\n    <tr>\n      <th>2022-12-31 23:00:00</th>\n      <td>68.0</td>\n      <td>1.6</td>\n      <td>1015.0</td>\n      <td>25.0</td>\n      <td>24.5</td>\n      <td>24.3</td>\n      <td>116.0</td>\n      <td>3.7</td>\n      <td>1015.0</td>\n      <td>24.5</td>\n      <td>...</td>\n      <td>21.918165</td>\n      <td>2.229422</td>\n      <td>23.926533</td>\n      <td>3.938095</td>\n      <td>2.206784</td>\n      <td>18.779285</td>\n      <td>22.243125</td>\n      <td>24.885927</td>\n      <td>3.242142</td>\n      <td>1017.021132</td>\n    </tr>\n  </tbody>\n</table>\n<p>184080 rows × 104 columns</p>\n</div>"
     },
     "execution_count": 20,
     "metadata": {},
     "output_type": "execute_result"
    }
   ],
   "source": [
    "with open(f'data/datasets/type_A/{DATAFILE}', 'rb') as f:\n",
    "    # load the object from the file using pickle.load()\n",
    "    dataset = pickle.load(f)\n",
    "\n",
    "print(\"stations\",dataset[\"stations\"])\n",
    "print(\"years\",dataset[\"years\"])\n",
    "print(\"nan_threshold\",dataset[\"nan_threshold\"])\n",
    "print(\"features\",dataset[\"features\"])\n",
    "print(\"add_era5\",dataset[\"add_era5\"])\n",
    "\n",
    "data = dataset[\"data\"]\n",
    "data"
   ]
  },
  {
   "cell_type": "markdown",
   "metadata": {
    "pycharm": {
     "name": "#%% md\n"
    }
   },
   "source": [
    "# Data Processing"
   ]
  },
  {
   "cell_type": "markdown",
   "metadata": {
    "pycharm": {
     "name": "#%% md\n"
    }
   },
   "source": [
    "## 1. Make data stationary"
   ]
  },
  {
   "cell_type": "code",
   "execution_count": 21,
   "metadata": {
    "pycharm": {
     "name": "#%%\n"
    }
   },
   "outputs": [
    {
     "name": "stderr",
     "output_type": "stream",
     "text": [
      "/Users/elsandner/Library/Mobile Documents/com~apple~CloudDocs/Uni/WS22/Master Thesis/Master_Project/myLibrary.py:1043: PerformanceWarning: DataFrame is highly fragmented.  This is usually the result of calling `frame.insert` many times, which has poor performance.  Consider joining all columns at once using pd.concat(axis=1) instead. To get a de-fragmented frame, use `newframe = frame.copy()`\n",
      "  data_stationary[col] = data[col] - data[col].shift(n)  # y = value(i) - value(i-n)\n",
      "/Users/elsandner/Library/Mobile Documents/com~apple~CloudDocs/Uni/WS22/Master Thesis/Master_Project/myLibrary.py:1043: PerformanceWarning: DataFrame is highly fragmented.  This is usually the result of calling `frame.insert` many times, which has poor performance.  Consider joining all columns at once using pd.concat(axis=1) instead. To get a de-fragmented frame, use `newframe = frame.copy()`\n",
      "  data_stationary[col] = data[col] - data[col].shift(n)  # y = value(i) - value(i-n)\n",
      "/Users/elsandner/Library/Mobile Documents/com~apple~CloudDocs/Uni/WS22/Master Thesis/Master_Project/myLibrary.py:1043: PerformanceWarning: DataFrame is highly fragmented.  This is usually the result of calling `frame.insert` many times, which has poor performance.  Consider joining all columns at once using pd.concat(axis=1) instead. To get a de-fragmented frame, use `newframe = frame.copy()`\n",
      "  data_stationary[col] = data[col] - data[col].shift(n)  # y = value(i) - value(i-n)\n",
      "/Users/elsandner/Library/Mobile Documents/com~apple~CloudDocs/Uni/WS22/Master Thesis/Master_Project/myLibrary.py:1043: PerformanceWarning: DataFrame is highly fragmented.  This is usually the result of calling `frame.insert` many times, which has poor performance.  Consider joining all columns at once using pd.concat(axis=1) instead. To get a de-fragmented frame, use `newframe = frame.copy()`\n",
      "  data_stationary[col] = data[col] - data[col].shift(n)  # y = value(i) - value(i-n)\n"
     ]
    },
    {
     "data": {
      "text/plain": "                     WDIR_42001  WSPD_42001  PRES_42001  ATMP_42001  \\\n2002-01-01 01:00:00         0.0         0.0         0.0         0.0   \n2002-01-01 02:00:00         1.0         0.1         0.1        -0.4   \n2002-01-01 03:00:00         2.0        -0.3         0.0         0.5   \n2002-01-01 04:00:00         1.0        -0.1        -0.1         0.1   \n2002-01-01 05:00:00        -1.0         0.6        -0.6         0.0   \n\n                     WTMP_42001  DEWP_42001  WDIR_42002  WSPD_42002  \\\n2002-01-01 01:00:00         0.0         0.0         0.0         0.0   \n2002-01-01 02:00:00         0.0        -0.2        -3.0         0.4   \n2002-01-01 03:00:00         0.0         0.3        -4.0         1.8   \n2002-01-01 04:00:00         0.0        -0.6         1.0         0.0   \n2002-01-01 05:00:00        -0.1         0.8         9.0        -0.9   \n\n                     PRES_42002  ATMP_42002  ...  WDIR_42039_ERA5  \\\n2002-01-01 01:00:00         0.0         0.0  ...         1.670694   \n2002-01-01 02:00:00         0.0         0.0  ...         2.913840   \n2002-01-01 03:00:00        -0.2        -0.9  ...         2.876383   \n2002-01-01 04:00:00        -0.1         0.2  ...        -1.974355   \n2002-01-01 05:00:00        -0.2        -0.2  ...        -3.817351   \n\n                     WSPD_42039_ERA5  ATMP_42039_ERA5  WSPD_42035_ERA5  \\\n2002-01-01 01:00:00        -0.176612         0.137965         0.185695   \n2002-01-01 02:00:00         0.003009         0.049966         0.237913   \n2002-01-01 03:00:00         0.051235        -0.011559         0.016884   \n2002-01-01 04:00:00         0.004142        -0.072338         0.226814   \n2002-01-01 05:00:00        -0.199347        -0.181964         0.199733   \n\n                     WSPD_42001_ERA5  DEWP_42020_ERA5  ATMP_42019_ERA5  \\\n2002-01-01 01:00:00        -0.084459         0.141353         0.217904   \n2002-01-01 02:00:00        -0.265851         0.136213         0.239802   \n2002-01-01 03:00:00        -0.605774         0.127218         0.195288   \n2002-01-01 04:00:00        -0.429966         0.093379         0.120978   \n2002-01-01 05:00:00        -0.446340         0.097662         0.066412   \n\n                     WTMP_42039_ERA5  WSPD_42002_ERA5  PRES_42039_ERA5  \n2002-01-01 01:00:00              0.0         0.645532         0.366454  \n2002-01-01 02:00:00              0.0         1.294903        -0.067319  \n2002-01-01 03:00:00              0.0         0.149910         0.108036  \n2002-01-01 04:00:00              0.0        -0.193825        -0.028773  \n2002-01-01 05:00:00              0.0        -0.422577        -0.087949  \n\n[5 rows x 104 columns]",
      "text/html": "<div>\n<style scoped>\n    .dataframe tbody tr th:only-of-type {\n        vertical-align: middle;\n    }\n\n    .dataframe tbody tr th {\n        vertical-align: top;\n    }\n\n    .dataframe thead th {\n        text-align: right;\n    }\n</style>\n<table border=\"1\" class=\"dataframe\">\n  <thead>\n    <tr style=\"text-align: right;\">\n      <th></th>\n      <th>WDIR_42001</th>\n      <th>WSPD_42001</th>\n      <th>PRES_42001</th>\n      <th>ATMP_42001</th>\n      <th>WTMP_42001</th>\n      <th>DEWP_42001</th>\n      <th>WDIR_42002</th>\n      <th>WSPD_42002</th>\n      <th>PRES_42002</th>\n      <th>ATMP_42002</th>\n      <th>...</th>\n      <th>WDIR_42039_ERA5</th>\n      <th>WSPD_42039_ERA5</th>\n      <th>ATMP_42039_ERA5</th>\n      <th>WSPD_42035_ERA5</th>\n      <th>WSPD_42001_ERA5</th>\n      <th>DEWP_42020_ERA5</th>\n      <th>ATMP_42019_ERA5</th>\n      <th>WTMP_42039_ERA5</th>\n      <th>WSPD_42002_ERA5</th>\n      <th>PRES_42039_ERA5</th>\n    </tr>\n  </thead>\n  <tbody>\n    <tr>\n      <th>2002-01-01 01:00:00</th>\n      <td>0.0</td>\n      <td>0.0</td>\n      <td>0.0</td>\n      <td>0.0</td>\n      <td>0.0</td>\n      <td>0.0</td>\n      <td>0.0</td>\n      <td>0.0</td>\n      <td>0.0</td>\n      <td>0.0</td>\n      <td>...</td>\n      <td>1.670694</td>\n      <td>-0.176612</td>\n      <td>0.137965</td>\n      <td>0.185695</td>\n      <td>-0.084459</td>\n      <td>0.141353</td>\n      <td>0.217904</td>\n      <td>0.0</td>\n      <td>0.645532</td>\n      <td>0.366454</td>\n    </tr>\n    <tr>\n      <th>2002-01-01 02:00:00</th>\n      <td>1.0</td>\n      <td>0.1</td>\n      <td>0.1</td>\n      <td>-0.4</td>\n      <td>0.0</td>\n      <td>-0.2</td>\n      <td>-3.0</td>\n      <td>0.4</td>\n      <td>0.0</td>\n      <td>0.0</td>\n      <td>...</td>\n      <td>2.913840</td>\n      <td>0.003009</td>\n      <td>0.049966</td>\n      <td>0.237913</td>\n      <td>-0.265851</td>\n      <td>0.136213</td>\n      <td>0.239802</td>\n      <td>0.0</td>\n      <td>1.294903</td>\n      <td>-0.067319</td>\n    </tr>\n    <tr>\n      <th>2002-01-01 03:00:00</th>\n      <td>2.0</td>\n      <td>-0.3</td>\n      <td>0.0</td>\n      <td>0.5</td>\n      <td>0.0</td>\n      <td>0.3</td>\n      <td>-4.0</td>\n      <td>1.8</td>\n      <td>-0.2</td>\n      <td>-0.9</td>\n      <td>...</td>\n      <td>2.876383</td>\n      <td>0.051235</td>\n      <td>-0.011559</td>\n      <td>0.016884</td>\n      <td>-0.605774</td>\n      <td>0.127218</td>\n      <td>0.195288</td>\n      <td>0.0</td>\n      <td>0.149910</td>\n      <td>0.108036</td>\n    </tr>\n    <tr>\n      <th>2002-01-01 04:00:00</th>\n      <td>1.0</td>\n      <td>-0.1</td>\n      <td>-0.1</td>\n      <td>0.1</td>\n      <td>0.0</td>\n      <td>-0.6</td>\n      <td>1.0</td>\n      <td>0.0</td>\n      <td>-0.1</td>\n      <td>0.2</td>\n      <td>...</td>\n      <td>-1.974355</td>\n      <td>0.004142</td>\n      <td>-0.072338</td>\n      <td>0.226814</td>\n      <td>-0.429966</td>\n      <td>0.093379</td>\n      <td>0.120978</td>\n      <td>0.0</td>\n      <td>-0.193825</td>\n      <td>-0.028773</td>\n    </tr>\n    <tr>\n      <th>2002-01-01 05:00:00</th>\n      <td>-1.0</td>\n      <td>0.6</td>\n      <td>-0.6</td>\n      <td>0.0</td>\n      <td>-0.1</td>\n      <td>0.8</td>\n      <td>9.0</td>\n      <td>-0.9</td>\n      <td>-0.2</td>\n      <td>-0.2</td>\n      <td>...</td>\n      <td>-3.817351</td>\n      <td>-0.199347</td>\n      <td>-0.181964</td>\n      <td>0.199733</td>\n      <td>-0.446340</td>\n      <td>0.097662</td>\n      <td>0.066412</td>\n      <td>0.0</td>\n      <td>-0.422577</td>\n      <td>-0.087949</td>\n    </tr>\n  </tbody>\n</table>\n<p>5 rows × 104 columns</p>\n</div>"
     },
     "execution_count": 21,
     "metadata": {},
     "output_type": "execute_result"
    }
   ],
   "source": [
    "STATIONARY = True #Set Flag for report\n",
    "data_stationary = DP.data_to_stationary(data, n = STATIONARY_SHIFT)\n",
    "data_stationary.head()"
   ]
  },
  {
   "cell_type": "markdown",
   "metadata": {
    "pycharm": {
     "name": "#%% md\n"
    }
   },
   "source": [
    "## 2. Transform to supervised problem"
   ]
  },
  {
   "cell_type": "code",
   "execution_count": 22,
   "metadata": {
    "pycharm": {
     "name": "#%%\n"
    }
   },
   "outputs": [
    {
     "data": {
      "text/plain": "                     WDIR_42001(t-1)  WSPD_42001(t-1)  PRES_42001(t-1)  \\\n2002-01-01 02:00:00              0.0              0.0              0.0   \n2002-01-01 03:00:00              1.0              0.1              0.1   \n2002-01-01 04:00:00              2.0             -0.3              0.0   \n2002-01-01 05:00:00              1.0             -0.1             -0.1   \n2002-01-01 06:00:00             -1.0              0.6             -0.6   \n\n                     ATMP_42001(t-1)  WTMP_42001(t-1)  DEWP_42001(t-1)  \\\n2002-01-01 02:00:00              0.0              0.0              0.0   \n2002-01-01 03:00:00             -0.4              0.0             -0.2   \n2002-01-01 04:00:00              0.5              0.0              0.3   \n2002-01-01 05:00:00              0.1              0.0             -0.6   \n2002-01-01 06:00:00              0.0             -0.1              0.8   \n\n                     WDIR_42002(t-1)  WSPD_42002(t-1)  PRES_42002(t-1)  \\\n2002-01-01 02:00:00              0.0              0.0              0.0   \n2002-01-01 03:00:00             -3.0              0.4              0.0   \n2002-01-01 04:00:00             -4.0              1.8             -0.2   \n2002-01-01 05:00:00              1.0              0.0             -0.1   \n2002-01-01 06:00:00              9.0             -0.9             -0.2   \n\n                     ATMP_42002(t-1)  ...  WDIR_42039_ERA5(t)  \\\n2002-01-01 02:00:00              0.0  ...            2.913840   \n2002-01-01 03:00:00              0.0  ...            2.876383   \n2002-01-01 04:00:00             -0.9  ...           -1.974355   \n2002-01-01 05:00:00              0.2  ...           -3.817351   \n2002-01-01 06:00:00             -0.2  ...            1.650662   \n\n                     WSPD_42039_ERA5(t)  ATMP_42039_ERA5(t)  \\\n2002-01-01 02:00:00            0.003009            0.049966   \n2002-01-01 03:00:00            0.051235           -0.011559   \n2002-01-01 04:00:00            0.004142           -0.072338   \n2002-01-01 05:00:00           -0.199347           -0.181964   \n2002-01-01 06:00:00            0.179143           -0.247964   \n\n                     WSPD_42035_ERA5(t)  WSPD_42001_ERA5(t)  \\\n2002-01-01 02:00:00            0.237913           -0.265851   \n2002-01-01 03:00:00            0.016884           -0.605774   \n2002-01-01 04:00:00            0.226814           -0.429966   \n2002-01-01 05:00:00            0.199733           -0.446340   \n2002-01-01 06:00:00            0.187775            0.416342   \n\n                     DEWP_42020_ERA5(t)  ATMP_42019_ERA5(t)  \\\n2002-01-01 02:00:00            0.136213            0.239802   \n2002-01-01 03:00:00            0.127218            0.195288   \n2002-01-01 04:00:00            0.093379            0.120978   \n2002-01-01 05:00:00            0.097662            0.066412   \n2002-01-01 06:00:00            0.074103            0.066053   \n\n                     WTMP_42039_ERA5(t)  WSPD_42002_ERA5(t)  \\\n2002-01-01 02:00:00                 0.0            1.294903   \n2002-01-01 03:00:00                 0.0            0.149910   \n2002-01-01 04:00:00                 0.0           -0.193825   \n2002-01-01 05:00:00                 0.0           -0.422577   \n2002-01-01 06:00:00                 0.0           -0.400801   \n\n                     PRES_42039_ERA5(t)  \n2002-01-01 02:00:00           -0.067319  \n2002-01-01 03:00:00            0.108036  \n2002-01-01 04:00:00           -0.028773  \n2002-01-01 05:00:00           -0.087949  \n2002-01-01 06:00:00            0.382198  \n\n[5 rows x 208 columns]",
      "text/html": "<div>\n<style scoped>\n    .dataframe tbody tr th:only-of-type {\n        vertical-align: middle;\n    }\n\n    .dataframe tbody tr th {\n        vertical-align: top;\n    }\n\n    .dataframe thead th {\n        text-align: right;\n    }\n</style>\n<table border=\"1\" class=\"dataframe\">\n  <thead>\n    <tr style=\"text-align: right;\">\n      <th></th>\n      <th>WDIR_42001(t-1)</th>\n      <th>WSPD_42001(t-1)</th>\n      <th>PRES_42001(t-1)</th>\n      <th>ATMP_42001(t-1)</th>\n      <th>WTMP_42001(t-1)</th>\n      <th>DEWP_42001(t-1)</th>\n      <th>WDIR_42002(t-1)</th>\n      <th>WSPD_42002(t-1)</th>\n      <th>PRES_42002(t-1)</th>\n      <th>ATMP_42002(t-1)</th>\n      <th>...</th>\n      <th>WDIR_42039_ERA5(t)</th>\n      <th>WSPD_42039_ERA5(t)</th>\n      <th>ATMP_42039_ERA5(t)</th>\n      <th>WSPD_42035_ERA5(t)</th>\n      <th>WSPD_42001_ERA5(t)</th>\n      <th>DEWP_42020_ERA5(t)</th>\n      <th>ATMP_42019_ERA5(t)</th>\n      <th>WTMP_42039_ERA5(t)</th>\n      <th>WSPD_42002_ERA5(t)</th>\n      <th>PRES_42039_ERA5(t)</th>\n    </tr>\n  </thead>\n  <tbody>\n    <tr>\n      <th>2002-01-01 02:00:00</th>\n      <td>0.0</td>\n      <td>0.0</td>\n      <td>0.0</td>\n      <td>0.0</td>\n      <td>0.0</td>\n      <td>0.0</td>\n      <td>0.0</td>\n      <td>0.0</td>\n      <td>0.0</td>\n      <td>0.0</td>\n      <td>...</td>\n      <td>2.913840</td>\n      <td>0.003009</td>\n      <td>0.049966</td>\n      <td>0.237913</td>\n      <td>-0.265851</td>\n      <td>0.136213</td>\n      <td>0.239802</td>\n      <td>0.0</td>\n      <td>1.294903</td>\n      <td>-0.067319</td>\n    </tr>\n    <tr>\n      <th>2002-01-01 03:00:00</th>\n      <td>1.0</td>\n      <td>0.1</td>\n      <td>0.1</td>\n      <td>-0.4</td>\n      <td>0.0</td>\n      <td>-0.2</td>\n      <td>-3.0</td>\n      <td>0.4</td>\n      <td>0.0</td>\n      <td>0.0</td>\n      <td>...</td>\n      <td>2.876383</td>\n      <td>0.051235</td>\n      <td>-0.011559</td>\n      <td>0.016884</td>\n      <td>-0.605774</td>\n      <td>0.127218</td>\n      <td>0.195288</td>\n      <td>0.0</td>\n      <td>0.149910</td>\n      <td>0.108036</td>\n    </tr>\n    <tr>\n      <th>2002-01-01 04:00:00</th>\n      <td>2.0</td>\n      <td>-0.3</td>\n      <td>0.0</td>\n      <td>0.5</td>\n      <td>0.0</td>\n      <td>0.3</td>\n      <td>-4.0</td>\n      <td>1.8</td>\n      <td>-0.2</td>\n      <td>-0.9</td>\n      <td>...</td>\n      <td>-1.974355</td>\n      <td>0.004142</td>\n      <td>-0.072338</td>\n      <td>0.226814</td>\n      <td>-0.429966</td>\n      <td>0.093379</td>\n      <td>0.120978</td>\n      <td>0.0</td>\n      <td>-0.193825</td>\n      <td>-0.028773</td>\n    </tr>\n    <tr>\n      <th>2002-01-01 05:00:00</th>\n      <td>1.0</td>\n      <td>-0.1</td>\n      <td>-0.1</td>\n      <td>0.1</td>\n      <td>0.0</td>\n      <td>-0.6</td>\n      <td>1.0</td>\n      <td>0.0</td>\n      <td>-0.1</td>\n      <td>0.2</td>\n      <td>...</td>\n      <td>-3.817351</td>\n      <td>-0.199347</td>\n      <td>-0.181964</td>\n      <td>0.199733</td>\n      <td>-0.446340</td>\n      <td>0.097662</td>\n      <td>0.066412</td>\n      <td>0.0</td>\n      <td>-0.422577</td>\n      <td>-0.087949</td>\n    </tr>\n    <tr>\n      <th>2002-01-01 06:00:00</th>\n      <td>-1.0</td>\n      <td>0.6</td>\n      <td>-0.6</td>\n      <td>0.0</td>\n      <td>-0.1</td>\n      <td>0.8</td>\n      <td>9.0</td>\n      <td>-0.9</td>\n      <td>-0.2</td>\n      <td>-0.2</td>\n      <td>...</td>\n      <td>1.650662</td>\n      <td>0.179143</td>\n      <td>-0.247964</td>\n      <td>0.187775</td>\n      <td>0.416342</td>\n      <td>0.074103</td>\n      <td>0.066053</td>\n      <td>0.0</td>\n      <td>-0.400801</td>\n      <td>0.382198</td>\n    </tr>\n  </tbody>\n</table>\n<p>5 rows × 208 columns</p>\n</div>"
     },
     "execution_count": 22,
     "metadata": {},
     "output_type": "execute_result"
    }
   ],
   "source": [
    "data_supervised = DP.data_to_supervised(data_stationary)\n",
    "data_supervised.head()"
   ]
  },
  {
   "cell_type": "markdown",
   "metadata": {
    "pycharm": {
     "name": "#%% md\n"
    }
   },
   "source": [
    "## train test split"
   ]
  },
  {
   "cell_type": "code",
   "execution_count": 23,
   "metadata": {
    "pycharm": {
     "name": "#%%\n"
    }
   },
   "outputs": [
    {
     "name": "stdout",
     "output_type": "stream",
     "text": [
      "Shapes:  (184054, 1, 104) (184054, 104) (24, 1, 104) (24, 104)\n"
     ]
    }
   ],
   "source": [
    "train_X, train_y, test_X, test_y = DP.train_test_split(data_supervised, N_TEST_HOURS)\n",
    "print(\"Shapes: \", train_X.shape, train_y.shape, test_X.shape, test_y.shape)"
   ]
  },
  {
   "cell_type": "markdown",
   "metadata": {
    "pycharm": {
     "name": "#%% md\n"
    }
   },
   "source": [
    "## Normalize the data"
   ]
  },
  {
   "cell_type": "code",
   "execution_count": 24,
   "metadata": {
    "pycharm": {
     "name": "#%%\n"
    }
   },
   "outputs": [],
   "source": [
    "# Scale the data\n",
    "#NORMALIZED = True   #set flag for report\n",
    "train_X_scaled, train_y_scaled, test_X_scaled, test_y_scaled, SCALER = DP.scale_data(train_X,\n",
    "                                                                                     train_y,\n",
    "                                                                                     test_X,\n",
    "                                                                                     test_y)"
   ]
  },
  {
   "cell_type": "markdown",
   "metadata": {
    "pycharm": {
     "name": "#%% md\n"
    }
   },
   "source": [
    "---\n",
    "# Select Model"
   ]
  },
  {
   "cell_type": "code",
   "execution_count": 25,
   "outputs": [
    {
     "data": {
      "text/plain": "(184054, 1, 104)"
     },
     "execution_count": 25,
     "metadata": {},
     "output_type": "execute_result"
    }
   ],
   "source": [
    "train_X.shape\n",
    "\n"
   ],
   "metadata": {
    "collapsed": false,
    "pycharm": {
     "name": "#%%\n"
    }
   }
  },
  {
   "cell_type": "code",
   "execution_count": 25,
   "outputs": [],
   "source": [],
   "metadata": {
    "collapsed": false,
    "pycharm": {
     "name": "#%%\n"
    }
   }
  },
  {
   "cell_type": "code",
   "execution_count": 1,
   "metadata": {
    "pycharm": {
     "name": "#%%\n"
    }
   },
   "outputs": [
    {
     "ename": "NameError",
     "evalue": "name 'Models' is not defined",
     "output_type": "error",
     "traceback": [
      "\u001B[0;31m---------------------------------------------------------------------------\u001B[0m",
      "\u001B[0;31mNameError\u001B[0m                                 Traceback (most recent call last)",
      "Cell \u001B[0;32mIn[1], line 1\u001B[0m\n\u001B[0;32m----> 1\u001B[0m model \u001B[38;5;241m=\u001B[39m \u001B[43mModels\u001B[49m\u001B[38;5;241m.\u001B[39mget_model(MODEL_NAME, train_X_scaled, train_y_scaled, ALPHA)\n\u001B[1;32m      2\u001B[0m model\u001B[38;5;241m.\u001B[39msummary()\n",
      "\u001B[0;31mNameError\u001B[0m: name 'Models' is not defined"
     ]
    }
   ],
   "source": [
    "model = Models.get_model(MODEL_NAME, train_X_scaled, train_y_scaled, ALPHA)\n",
    "model.summary()"
   ]
  },
  {
   "cell_type": "markdown",
   "metadata": {
    "pycharm": {
     "name": "#%% md\n"
    }
   },
   "source": [
    "----\n",
    "# One-Shot Forecasting"
   ]
  },
  {
   "cell_type": "code",
   "execution_count": null,
   "metadata": {
    "pycharm": {
     "name": "#%%\n"
    }
   },
   "outputs": [],
   "source": [
    "_ = model.predict(train_X_scaled, batch_size=1)"
   ]
  },
  {
   "cell_type": "code",
   "execution_count": null,
   "metadata": {
    "pycharm": {
     "name": "#%%\n"
    }
   },
   "outputs": [],
   "source": [
    "output_cols = data.columns.tolist()\n",
    "output_cols"
   ]
  },
  {
   "cell_type": "code",
   "execution_count": null,
   "metadata": {
    "pycharm": {
     "name": "#%%\n"
    }
   },
   "outputs": [],
   "source": [
    "yhat = model.predict(test_X_scaled)\n",
    "yhat_unscaled = DP.invert_scaling(yhat, SCALER)\n",
    "yhat_unscaled_df = pd.DataFrame(yhat_unscaled, columns=[name + \"_pred\" for name in output_cols])\n",
    "yhat_unscaled_df.set_index(data.tail(len(yhat)).index, inplace=True)\n",
    "yhat_unscaled_df"
   ]
  },
  {
   "cell_type": "markdown",
   "metadata": {
    "pycharm": {
     "name": "#%% md\n"
    }
   },
   "source": [
    "# Correct wind direction (modulo 360)"
   ]
  },
  {
   "cell_type": "code",
   "execution_count": null,
   "metadata": {
    "pycharm": {
     "name": "#%%\n"
    }
   },
   "outputs": [],
   "source": [
    "# Get the list of columns starting with \"WDIR\"\n",
    "wdir_columns = [col for col in yhat_unscaled_df.columns if col.startswith(\"WDIR\")]\n",
    "\n",
    "# Modify the values in the selected columns\n",
    "yhat_unscaled_df[wdir_columns] = yhat_unscaled_df[wdir_columns] % 360\n",
    "\n",
    "yhat_unscaled_df"
   ]
  },
  {
   "cell_type": "code",
   "execution_count": null,
   "metadata": {
    "pycharm": {
     "name": "#%%\n"
    }
   },
   "outputs": [],
   "source": [
    "evaluation_1 = data.tail(len(yhat)+1).copy()  #+1 since i need that value for de-differencing\n",
    "evaluation_1"
   ]
  },
  {
   "cell_type": "code",
   "execution_count": null,
   "metadata": {
    "pycharm": {
     "name": "#%%\n"
    }
   },
   "outputs": [],
   "source": [
    "for col in evaluation_1.columns:\n",
    "    evaluation_1[f\"{col}_pred\"]= evaluation_1[col].shift(STATIONARY_SHIFT) + yhat_unscaled_df[f\"{col}_pred\"]\n",
    "\n",
    "evaluation_1 = evaluation_1.iloc[STATIONARY_SHIFT:]  # remove first n entries since there is no delta value for them\n",
    "evaluation_1"
   ]
  },
  {
   "cell_type": "code",
   "execution_count": null,
   "metadata": {
    "pycharm": {
     "name": "#%%\n"
    }
   },
   "outputs": [],
   "source": [
    "wtmp_true = [col for col in evaluation_1.columns if col.startswith(\"WTMP\")][0]\n",
    "\n",
    "mae = mean_absolute_error(evaluation_1[wtmp_true], evaluation_1[f\"{wtmp_true}_pred\"])\n",
    "mse = mean_squared_error(evaluation_1[wtmp_true], evaluation_1[f\"{wtmp_true}_pred\"])\n",
    "print('MAE: ', mae)\n",
    "print('MSE: ', mse)"
   ]
  },
  {
   "cell_type": "code",
   "execution_count": null,
   "metadata": {
    "pycharm": {
     "name": "#%%\n"
    }
   },
   "outputs": [],
   "source": [
    "#evaluation_1.plot(kind='line')"
   ]
  },
  {
   "cell_type": "markdown",
   "metadata": {
    "pycharm": {
     "name": "#%% md\n"
    }
   },
   "source": [
    "# Recurrent forecast (EXCLUDED FOR NOW!)"
   ]
  },
  {
   "cell_type": "code",
   "execution_count": null,
   "metadata": {
    "pycharm": {
     "name": "#%%\n"
    }
   },
   "outputs": [],
   "source": [
    "# model.reset_states()\n",
    "# _ = model.predict(train_X_scaled, batch_size=1)"
   ]
  },
  {
   "cell_type": "code",
   "execution_count": null,
   "metadata": {
    "pycharm": {
     "name": "#%%\n"
    }
   },
   "outputs": [],
   "source": [
    "# # make a one-step forecast\n",
    "# # This function helps with reshaping.\n",
    "# def single_forecast(model, x):\n",
    "#     x = x.reshape(1, 1, len(x[0]))\n",
    "#     yhat = model.predict(x, verbose=0)\n",
    "#     return yhat"
   ]
  },
  {
   "cell_type": "code",
   "execution_count": null,
   "metadata": {
    "pycharm": {
     "name": "#%%\n"
    }
   },
   "outputs": [],
   "source": [
    "# # Prepare data structure\n",
    "# prediction_2 = pd.DataFrame(test_y_scaled, columns=output_cols)\n",
    "# for col in output_cols:\n",
    "#     prediction_2[f\"{col}_pred\"] = 0\n",
    "#\n",
    "# prediction_2"
   ]
  },
  {
   "cell_type": "code",
   "execution_count": null,
   "metadata": {
    "pycharm": {
     "name": "#%%\n"
    }
   },
   "outputs": [],
   "source": [
    "# #Forecast a whole week\n",
    "# prev_obs = test_X_scaled[0]\n",
    "#\n",
    "# for i, row in prediction_2.iterrows():\n",
    "#     yhat = single_forecast(model, prev_obs)\n",
    "#     prev_obs = yhat\n",
    "#\n",
    "#     #Mapping of array index and df column name\n",
    "#     for j, element in enumerate(output_cols):\n",
    "#         prediction_2.at[i, f\"{element}_pred\"] =yhat[0,j]\n",
    "#\n",
    "# # prediction_2.plot(kind='line')\n",
    "# prediction_2"
   ]
  },
  {
   "cell_type": "code",
   "execution_count": null,
   "metadata": {
    "pycharm": {
     "name": "#%%\n"
    }
   },
   "outputs": [],
   "source": [
    "# #Reverse differenciate\n",
    "# first_row = data.iloc[-len(yhat)-1]\n",
    "#\n",
    "# yhat = prediction_2[[name + \"_pred\" for name in output_cols]].values\n",
    "# yhat_unscaled = DP.invert_scaling(yhat, SCALER)\n",
    "# yhat_true_value = DP.stationary_to_data(yhat_unscaled, first_row)\n",
    "#\n",
    "# yhat_true_value_df = pd.DataFrame(yhat_true_value, columns=[name + \"_pred\" for name in output_cols])\n",
    "# yhat_true_value_df.set_index(data.tail(len(yhat)).index, inplace=True)\n",
    "#\n",
    "# true_value = data.tail(len(yhat)+1).copy()\n",
    "#\n",
    "# evaluation_2 = pd.concat([true_value, yhat_true_value_df], axis=1)\n",
    "# evaluation_2 = evaluation_2.iloc[STATIONARY_SHIFT:]\n",
    "# evaluation_2"
   ]
  },
  {
   "cell_type": "code",
   "execution_count": null,
   "metadata": {
    "pycharm": {
     "name": "#%%\n"
    }
   },
   "outputs": [],
   "source": [
    "# wtmp_true = [col for col in evaluation_2.columns if col.startswith(\"WTMP\")][0]\n",
    "#\n",
    "# mae_2 = mean_absolute_error(evaluation_2[wtmp_true], evaluation_2[f\"{wtmp_true}_pred\"])\n",
    "# mse_2 = mean_squared_error(evaluation_2[wtmp_true], evaluation_2[f\"{wtmp_true}_pred\"])\n",
    "# print('MAE: ', mae_2)\n",
    "# print('MSE: ', mse_2)"
   ]
  },
  {
   "cell_type": "code",
   "execution_count": null,
   "metadata": {
    "pycharm": {
     "name": "#%%\n"
    }
   },
   "outputs": [],
   "source": [
    "#evaluation_2.plot(kind='line')"
   ]
  },
  {
   "cell_type": "markdown",
   "metadata": {
    "pycharm": {
     "name": "#%% md\n"
    }
   },
   "source": [
    "# SAVE"
   ]
  },
  {
   "cell_type": "code",
   "execution_count": null,
   "metadata": {
    "pycharm": {
     "name": "#%%\n"
    }
   },
   "outputs": [],
   "source": [
    "%%notify -m \"Finished!!\"\n",
    "print(\"reached checkpoint\")"
   ]
  },
  {
   "cell_type": "code",
   "execution_count": null,
   "metadata": {
    "pycharm": {
     "name": "#%%\n"
    }
   },
   "outputs": [],
   "source": [
    "# create a text input widget for username\n",
    "filename_widget = widgets.Text(\n",
    "    value='',\n",
    "    placeholder='Enter filename',\n",
    "    description='Filename:',\n",
    "    disabled=False\n",
    ")\n",
    "# add '.csv' to the description\n",
    "extension_label = widgets.Label('.pickle')\n",
    "\n",
    "# display the widget\n",
    "display(widgets.HBox([filename_widget, extension_label]))\n",
    "\n",
    "print(\"Please also check if the reports description needs to be changed!\")"
   ]
  },
  {
   "cell_type": "code",
   "execution_count": null,
   "metadata": {
    "pycharm": {
     "name": "#%%\n"
    }
   },
   "outputs": [],
   "source": [
    "report_description=\"Test #8 GOM, dataset A, GRU based PINN, Alpha = 0.8\""
   ]
  },
  {
   "cell_type": "code",
   "execution_count": null,
   "metadata": {
    "pycharm": {
     "name": "#%%\n"
    }
   },
   "outputs": [],
   "source": [
    "filename = filename_widget.value\n",
    "if filename == \"\":\n",
    "    print(\"Enter a valid filename!\")\n",
    "\n",
    "else:\n",
    "    #Save Data About executed Test:\n",
    "\n",
    "    # Convert model summary to string\n",
    "    stringlist = []\n",
    "    model.summary(print_fn=lambda x: stringlist.append(x))\n",
    "    model_summary = \"\\n\".join(stringlist)\n",
    "\n",
    "    report = Experiment(\n",
    "        name=filename,\n",
    "        description=report_description,\n",
    "\n",
    "        stations = dataset[\"stations\"],\n",
    "        years = dataset[\"years\"],\n",
    "        nan_threshold=dataset[\"nan_threshold\"],\n",
    "        features=dataset[\"features\"],\n",
    "        era5=dataset[\"add_era5\"],\n",
    "\n",
    "        stationary_shift=STATIONARY_SHIFT,\n",
    "\n",
    "        n_test_hours=N_TEST_HOURS,\n",
    "\n",
    "        #stationary=STATIONARY,\n",
    "        scaler=SCALER,\n",
    "\n",
    "        model_name = MODEL_NAME,\n",
    "        model_summary=model_summary,\n",
    "\n",
    "        one_shot_forecast = evaluation_1,\n",
    "        recursive_forecast = None   # evaluation_2\n",
    "    )\n",
    "\n",
    "\n",
    "    # open a file for writing in binary mode\n",
    "    filepath = f'data/reports/{report.name}.pickle'\n",
    "    with open(filepath, 'wb') as f:\n",
    "        # write the object to the file using pickle.dump()\n",
    "        pickle.dump(report, f)\n",
    "        print(\"File successfully saved:\")\n",
    "        print(filepath)"
   ]
  },
  {
   "cell_type": "code",
   "execution_count": null,
   "metadata": {
    "pycharm": {
     "name": "#%%\n"
    }
   },
   "outputs": [],
   "source": []
  },
  {
   "cell_type": "code",
   "execution_count": null,
   "metadata": {
    "pycharm": {
     "name": "#%%\n"
    }
   },
   "outputs": [],
   "source": []
  },
  {
   "cell_type": "code",
   "execution_count": null,
   "metadata": {
    "pycharm": {
     "name": "#%%\n"
    }
   },
   "outputs": [],
   "source": []
  }
 ],
 "metadata": {
  "kernelspec": {
   "display_name": "Python 3 (ipykernel)",
   "language": "python",
   "name": "python3"
  },
  "language_info": {
   "codemirror_mode": {
    "name": "ipython",
    "version": 3
   },
   "file_extension": ".py",
   "mimetype": "text/x-python",
   "name": "python",
   "nbconvert_exporter": "python",
   "pygments_lexer": "ipython3",
   "version": "3.8.15"
  }
 },
 "nbformat": 4,
 "nbformat_minor": 1
}