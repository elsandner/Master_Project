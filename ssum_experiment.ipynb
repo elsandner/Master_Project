{
 "cells": [
  {
   "cell_type": "markdown",
   "source": [],
   "metadata": {
    "collapsed": false,
    "pycharm": {
     "name": "#%% md\n"
    }
   }
  },
  {
   "cell_type": "markdown",
   "source": [
    "# Not sure if this file is up to date - for operational usage go to Experiment_Automation.ipynb !!\n"
   ],
   "metadata": {
    "collapsed": false,
    "pycharm": {
     "name": "#%% md\n"
    }
   }
  },
  {
   "cell_type": "markdown",
   "source": [
    "# Test Environment"
   ],
   "metadata": {
    "collapsed": false,
    "pycharm": {
     "name": "#%% md\n"
    }
   }
  },
  {
   "cell_type": "code",
   "execution_count": 3,
   "outputs": [],
   "source": [
    "import ipywidgets as widgets\n",
    "from IPython.display import display\n",
    "import numpy as np\n",
    "import pandas as pd\n",
    "#import Models.models as models\n",
    "#import Models.LSTM.models_LSTM as models\n",
    "import script_utils as mL\n",
    "#from Experiment_Class import Experiment\n",
    "from sklearn.metrics import mean_squared_error, mean_absolute_error\n",
    "import pickle\n",
    "import os\n",
    "import time\n",
    "\n",
    "NDBC = mL.NDBC_lib\n",
    "ERA5 = mL.ERA5_lib\n",
    "Models = mL.Models\n",
    "DP = mL.DataProcessor\n",
    "Experiment = mL.Experiment"
   ],
   "metadata": {
    "collapsed": false,
    "pycharm": {
     "name": "#%%\n"
    }
   }
  },
  {
   "cell_type": "markdown",
   "source": [
    "# Get Data"
   ],
   "metadata": {
    "collapsed": false,
    "pycharm": {
     "name": "#%% md\n"
    }
   }
  },
  {
   "cell_type": "code",
   "execution_count": 4,
   "outputs": [
    {
     "data": {
      "text/plain": "HBox(children=(VBox(children=(Select(description='Datafile:', options=('GOM_buoys_since2002_nan50_SSUM.pickle'…",
      "application/vnd.jupyter.widget-view+json": {
       "version_major": 2,
       "version_minor": 0,
       "model_id": "d9c173f7b6bc40a8bf2066dc5e9a11cf"
      }
     },
     "metadata": {},
     "output_type": "display_data"
    },
    {
     "name": "stdout",
     "output_type": "stream",
     "text": [
      "Alpha: \n"
     ]
    },
    {
     "data": {
      "text/plain": "FloatSlider(value=0.5, layout=Layout(width='500px'), max=1.0, step=0.01)",
      "application/vnd.jupyter.widget-view+json": {
       "version_major": 2,
       "version_minor": 0,
       "model_id": "186a0c0610d64b4bb242fcf70ca1f437"
      }
     },
     "metadata": {},
     "output_type": "display_data"
    }
   ],
   "source": [
    "data_directory = os.path.join(os.getcwd(), f'data/datasets/type_B')\n",
    "\n",
    "def build_UI():\n",
    "\n",
    "    # Select Model-------------------------------------------------------------------------------\n",
    "    global datafile_widget\n",
    "    datafile_list = os.listdir(data_directory)\n",
    "    datafile_widget = widgets.Select(\n",
    "        options=datafile_list,\n",
    "        value=datafile_list[0],\n",
    "        # rows=10,\n",
    "        description='Datafile:',\n",
    "        disabled=False\n",
    "    )\n",
    "\n",
    "    #STATIONARY_SHIFT -----------------------------------------------------------------------\n",
    "    global stationaryShift_widget\n",
    "    stationaryShift_widget = widgets.BoundedIntText(\n",
    "        value=1,\n",
    "        min=0,\n",
    "        max=10,\n",
    "        step=1,\n",
    "        description='',\n",
    "        disabled=False,\n",
    "    )\n",
    "\n",
    "\n",
    "    # Select Model-------------------------------------------------------------------------------\n",
    "    global models_widget\n",
    "    models_list = list(Models.model_dictionary.keys())\n",
    "    models_widget = widgets.Select(\n",
    "        options=models_list,\n",
    "        value=models_list[0],\n",
    "        # rows=10,\n",
    "        description='Model:',\n",
    "        disabled=False\n",
    "    )\n",
    "\n",
    "\n",
    "    #ALPHA:-------------------------------------------------------------------------------\n",
    "    # create a FloatSlider widget for a value between 0 and 1\n",
    "    global alpha_slider\n",
    "    alpha_slider = widgets.FloatSlider(\n",
    "        value=0.5,\n",
    "        min=0,\n",
    "        max=1,\n",
    "        step=0.01,\n",
    "        description='',\n",
    "        readout_format='.2f',\n",
    "        orientation='horizontal',\n",
    "        layout={'width': '500px'}\n",
    "    )\n",
    "\n",
    "\n",
    "    left_box = widgets.VBox([\n",
    "        datafile_widget,\n",
    "        widgets.HTML(value=\"<p>Station Shift:</p>\"),\n",
    "        stationaryShift_widget\n",
    "        ],\n",
    "    )\n",
    "\n",
    "\n",
    "    right_box = widgets.VBox([\n",
    "        models_widget\n",
    "    ])\n",
    "\n",
    "\n",
    "    display(widgets.HBox([\n",
    "        left_box,\n",
    "        right_box,\n",
    "    ]))\n",
    "    print(\"Alpha: \")\n",
    "    display(alpha_slider)\n",
    "\n",
    "\n",
    "build_UI()"
   ],
   "metadata": {
    "collapsed": false,
    "pycharm": {
     "name": "#%%\n"
    }
   }
  },
  {
   "cell_type": "code",
   "execution_count": 13,
   "outputs": [],
   "source": [
    "DATAFILE = datafile_widget.value\n",
    "#print(DATAFILE)\n",
    "# STATIONARY_SHIFT = stationaryShift_widget.value\n",
    "# MODEL_NAME = models_widget.value\n",
    "# ALPHA = alpha_slider.value"
   ],
   "metadata": {
    "collapsed": false,
    "pycharm": {
     "name": "#%%\n"
    }
   }
  },
  {
   "cell_type": "markdown",
   "source": [
    "## Optional: use hardcoded variables instead"
   ],
   "metadata": {
    "collapsed": false,
    "pycharm": {
     "name": "#%% md\n"
    }
   }
  },
  {
   "cell_type": "code",
   "execution_count": 14,
   "outputs": [],
   "source": [
    "#DATAFILE = \"dataset_GOM_1_B_B.pickle\"\n",
    "STATIONARY_SHIFT = 1\n",
    "MODEL_NAME = \"LSTM\"\n",
    "ALPHA = 0"
   ],
   "metadata": {
    "collapsed": false,
    "pycharm": {
     "name": "#%%\n"
    }
   }
  },
  {
   "cell_type": "code",
   "execution_count": 15,
   "outputs": [
    {
     "name": "stdout",
     "output_type": "stream",
     "text": [
      "Datafile: GOM_buoys_since2002_nan50_SSUM.pickle\n",
      "Stationary Shift: 1\n",
      "Model: LSTM\n",
      "Alpha: 0\n"
     ]
    }
   ],
   "source": [
    "print(f\"Datafile: {DATAFILE}\")\n",
    "print(f\"Stationary Shift: {STATIONARY_SHIFT}\")\n",
    "print(f\"Model: {MODEL_NAME}\")\n",
    "print(f\"Alpha: {ALPHA}\")"
   ],
   "metadata": {
    "collapsed": false,
    "pycharm": {
     "name": "#%%\n"
    }
   }
  },
  {
   "cell_type": "code",
   "execution_count": 16,
   "outputs": [
    {
     "name": "stdout",
     "output_type": "stream",
     "text": [
      "files: [['42001', '2002'], ['42002', '2002'], ['42003', '2002'], ['42007', '2002'], ['42019', '2002'], ['42020', '2002'], ['42035', '2002'], ['42036', '2002'], ['42039', '2002'], ['42040', '2002'], ['42041', '2002'], ['42001', '2003'], ['42002', '2003'], ['42003', '2003'], ['42007', '2003'], ['42019', '2003'], ['42020', '2003'], ['42035', '2003'], ['42036', '2003'], ['42039', '2003'], ['42040', '2003'], ['42041', '2003'], ['42001', '2004'], ['42002', '2004'], ['42003', '2004'], ['42007', '2004'], ['42019', '2004'], ['42020', '2004'], ['42035', '2004'], ['42036', '2004'], ['42038', '2004'], ['42039', '2004'], ['42040', '2004'], ['42041', '2004'], ['42001', '2005'], ['42002', '2005'], ['42003', '2005'], ['42007', '2005'], ['42019', '2005'], ['42020', '2005'], ['42035', '2005'], ['42036', '2005'], ['42038', '2005'], ['42039', '2005'], ['42040', '2005'], ['42041', '2005'], ['42055', '2005'], ['42001', '2006'], ['42002', '2006'], ['42003', '2006'], ['42007', '2006'], ['42019', '2006'], ['42020', '2006'], ['42035', '2006'], ['42036', '2006'], ['42038', '2006'], ['42039', '2006'], ['42040', '2006'], ['42055', '2006'], ['42001', '2007'], ['42002', '2007'], ['42003', '2007'], ['42007', '2007'], ['42019', '2007'], ['42020', '2007'], ['42035', '2007'], ['42036', '2007'], ['42039', '2007'], ['42040', '2007'], ['42055', '2007'], ['42001', '2008'], ['42002', '2008'], ['42003', '2008'], ['42007', '2008'], ['42019', '2008'], ['42020', '2008'], ['42035', '2008'], ['42036', '2008'], ['42039', '2008'], ['42040', '2008'], ['42055', '2008'], ['42001', '2009'], ['42002', '2009'], ['42003', '2009'], ['42007', '2009'], ['42012', '2009'], ['42019', '2009'], ['42020', '2009'], ['42035', '2009'], ['42036', '2009'], ['42039', '2009'], ['42040', '2009'], ['42055', '2009'], ['42001', '2010'], ['42002', '2010'], ['42003', '2010'], ['42012', '2010'], ['42019', '2010'], ['42020', '2010'], ['42035', '2010'], ['42036', '2010'], ['42039', '2010'], ['42040', '2010'], ['42055', '2010'], ['42001', '2011'], ['42002', '2011'], ['42003', '2011'], ['42012', '2011'], ['42019', '2011'], ['42020', '2011'], ['42035', '2011'], ['42036', '2011'], ['42039', '2011'], ['42040', '2011'], ['42055', '2011'], ['42001', '2012'], ['42002', '2012'], ['42003', '2012'], ['42012', '2012'], ['42019', '2012'], ['42020', '2012'], ['42035', '2012'], ['42036', '2012'], ['42039', '2012'], ['42040', '2012'], ['42055', '2012'], ['42001', '2013'], ['42002', '2013'], ['42003', '2013'], ['42012', '2013'], ['42019', '2013'], ['42020', '2013'], ['42035', '2013'], ['42036', '2013'], ['42039', '2013'], ['42040', '2013'], ['42055', '2013'], ['42001', '2014'], ['42002', '2014'], ['42003', '2014'], ['42012', '2014'], ['42019', '2014'], ['42020', '2014'], ['42035', '2014'], ['42036', '2014'], ['42039', '2014'], ['42040', '2014'], ['42055', '2014'], ['42001', '2015'], ['42002', '2015'], ['42003', '2015'], ['42012', '2015'], ['42019', '2015'], ['42020', '2015'], ['42035', '2015'], ['42036', '2015'], ['42039', '2015'], ['42040', '2015'], ['42055', '2015'], ['42001', '2016'], ['42002', '2016'], ['42003', '2016'], ['42012', '2016'], ['42019', '2016'], ['42020', '2016'], ['42035', '2016'], ['42036', '2016'], ['42039', '2016'], ['42040', '2016'], ['42055', '2016'], ['42001', '2017'], ['42002', '2017'], ['42003', '2017'], ['42012', '2017'], ['42019', '2017'], ['42020', '2017'], ['42035', '2017'], ['42036', '2017'], ['42039', '2017'], ['42040', '2017'], ['42055', '2017'], ['42001', '2018'], ['42002', '2018'], ['42003', '2018'], ['42012', '2018'], ['42019', '2018'], ['42020', '2018'], ['42035', '2018'], ['42039', '2018'], ['42040', '2018'], ['42055', '2018'], ['42001', '2019'], ['42002', '2019'], ['42003', '2019'], ['42012', '2019'], ['42019', '2019'], ['42020', '2019'], ['42035', '2019'], ['42036', '2019'], ['42039', '2019'], ['42040', '2019'], ['42055', '2019'], ['42001', '2020'], ['42002', '2020'], ['42003', '2020'], ['42012', '2020'], ['42019', '2020'], ['42020', '2020'], ['42035', '2020'], ['42036', '2020'], ['42039', '2020'], ['42040', '2020'], ['42055', '2020'], ['42001', '2021'], ['42002', '2021'], ['42003', '2021'], ['42012', '2021'], ['42019', '2021'], ['42020', '2021'], ['42035', '2021'], ['42036', '2021'], ['42039', '2021'], ['42040', '2021'], ['42055', '2021'], ['42001', '2022'], ['42002', '2022'], ['42003', '2022'], ['42012', '2022'], ['42019', '2022'], ['42020', '2022'], ['42035', '2022'], ['42036', '2022'], ['42039', '2022'], ['42040', '2022'], ['42055', '2022']]\n",
      "nan_threshold 0.5\n",
      "features []\n",
      "add_era5 True\n",
      "num_test_hours 27\n"
     ]
    },
    {
     "data": {
      "text/plain": "Empty DataFrame\nColumns: []\nIndex: [2002-01-01 00:00:00, 2002-01-01 01:00:00, 2002-01-01 02:00:00, 2002-01-01 03:00:00, 2002-01-01 04:00:00, 2002-01-01 05:00:00, 2002-01-01 06:00:00, 2002-01-01 07:00:00, 2002-01-01 08:00:00, 2002-01-01 09:00:00, 2002-01-01 10:00:00, 2002-01-01 11:00:00, 2002-01-01 12:00:00, 2002-01-01 13:00:00, 2002-01-01 14:00:00, 2002-01-01 15:00:00, 2002-01-01 16:00:00, 2002-01-01 17:00:00, 2002-01-01 18:00:00, 2002-01-01 19:00:00, 2002-01-01 20:00:00, 2002-01-01 21:00:00, 2002-01-01 22:00:00, 2002-01-01 23:00:00, 2002-01-02 00:00:00, 2002-01-02 01:00:00, 2002-01-02 02:00:00, 2002-01-02 03:00:00, 2002-01-02 04:00:00, 2002-01-02 05:00:00, 2002-01-02 06:00:00, 2002-01-02 07:00:00, 2002-01-02 08:00:00, 2002-01-02 09:00:00, 2002-01-02 10:00:00, 2002-01-02 11:00:00, 2002-01-02 12:00:00, 2002-01-02 13:00:00, 2002-01-02 14:00:00, 2002-01-02 15:00:00, 2002-01-02 16:00:00, 2002-01-02 17:00:00, 2002-01-02 18:00:00, 2002-01-02 19:00:00, 2002-01-02 20:00:00, 2002-01-02 21:00:00, 2002-01-02 22:00:00, 2002-01-02 23:00:00, 2002-01-03 00:00:00, 2002-01-03 01:00:00, 2002-01-03 02:00:00, 2002-01-03 03:00:00, 2002-01-03 04:00:00, 2002-01-03 05:00:00, 2002-01-03 06:00:00, 2002-01-03 07:00:00, 2002-01-03 08:00:00, 2002-01-03 09:00:00, 2002-01-03 10:00:00, 2002-01-03 11:00:00, 2002-01-03 12:00:00, 2002-01-03 13:00:00, 2002-01-03 14:00:00, 2002-01-03 15:00:00, 2002-01-03 16:00:00, 2002-01-03 17:00:00, 2002-01-03 18:00:00, 2002-01-03 19:00:00, 2002-01-03 20:00:00, 2002-01-03 21:00:00, 2002-01-03 22:00:00, 2002-01-03 23:00:00, 2002-01-04 00:00:00, 2002-01-04 01:00:00, 2002-01-04 02:00:00, 2002-01-04 03:00:00, 2002-01-04 04:00:00, 2002-01-04 05:00:00, 2002-01-04 06:00:00, 2002-01-04 07:00:00, 2002-01-04 08:00:00, 2002-01-04 09:00:00, 2002-01-04 10:00:00, 2002-01-04 11:00:00, 2002-01-04 12:00:00, 2002-01-04 13:00:00, 2002-01-04 14:00:00, 2002-01-04 15:00:00, 2002-01-04 16:00:00, 2002-01-04 17:00:00, 2002-01-04 18:00:00, 2002-01-04 19:00:00, 2002-01-04 20:00:00, 2002-01-04 21:00:00, 2002-01-04 22:00:00, 2002-01-04 23:00:00, 2002-01-05 00:00:00, 2002-01-05 01:00:00, 2002-01-05 02:00:00, 2002-01-05 03:00:00, ...]\n\n[2059658 rows x 0 columns]",
      "text/html": "<div>\n<style scoped>\n    .dataframe tbody tr th:only-of-type {\n        vertical-align: middle;\n    }\n\n    .dataframe tbody tr th {\n        vertical-align: top;\n    }\n\n    .dataframe thead th {\n        text-align: right;\n    }\n</style>\n<table border=\"1\" class=\"dataframe\">\n  <thead>\n    <tr style=\"text-align: right;\">\n      <th></th>\n    </tr>\n    <tr>\n      <th>timestamp</th>\n    </tr>\n  </thead>\n  <tbody>\n    <tr>\n      <th>2002-01-01 00:00:00</th>\n    </tr>\n    <tr>\n      <th>2002-01-01 01:00:00</th>\n    </tr>\n    <tr>\n      <th>2002-01-01 02:00:00</th>\n    </tr>\n    <tr>\n      <th>2002-01-01 03:00:00</th>\n    </tr>\n    <tr>\n      <th>2002-01-01 04:00:00</th>\n    </tr>\n    <tr>\n      <th>...</th>\n    </tr>\n    <tr>\n      <th>2022-12-30 17:00:00</th>\n    </tr>\n    <tr>\n      <th>2022-12-30 18:00:00</th>\n    </tr>\n    <tr>\n      <th>2022-12-30 19:00:00</th>\n    </tr>\n    <tr>\n      <th>2022-12-30 20:00:00</th>\n    </tr>\n    <tr>\n      <th>2022-12-30 21:00:00</th>\n    </tr>\n  </tbody>\n</table>\n<p>2059658 rows × 0 columns</p>\n</div>"
     },
     "metadata": {},
     "output_type": "display_data"
    },
    {
     "data": {
      "text/plain": "Empty DataFrame\nColumns: []\nIndex: [2022-12-30 20:00:00, 2022-12-30 21:00:00, 2022-12-30 22:00:00, 2022-12-30 23:00:00, 2022-12-31 00:00:00, 2022-12-31 01:00:00, 2022-12-31 02:00:00, 2022-12-31 03:00:00, 2022-12-31 04:00:00, 2022-12-31 05:00:00, 2022-12-31 06:00:00, 2022-12-31 07:00:00, 2022-12-31 08:00:00, 2022-12-31 09:00:00, 2022-12-31 10:00:00, 2022-12-31 11:00:00, 2022-12-31 12:00:00, 2022-12-31 13:00:00, 2022-12-31 14:00:00, 2022-12-31 15:00:00, 2022-12-31 16:00:00, 2022-12-31 17:00:00, 2022-12-31 18:00:00, 2022-12-31 19:00:00, 2022-12-31 20:00:00, 2022-12-31 21:00:00, 2022-12-31 22:00:00, 2022-12-31 23:00:00]",
      "text/html": "<div>\n<style scoped>\n    .dataframe tbody tr th:only-of-type {\n        vertical-align: middle;\n    }\n\n    .dataframe tbody tr th {\n        vertical-align: top;\n    }\n\n    .dataframe thead th {\n        text-align: right;\n    }\n</style>\n<table border=\"1\" class=\"dataframe\">\n  <thead>\n    <tr style=\"text-align: right;\">\n      <th></th>\n    </tr>\n    <tr>\n      <th>timestamp</th>\n    </tr>\n  </thead>\n  <tbody>\n    <tr>\n      <th>2022-12-30 20:00:00</th>\n    </tr>\n    <tr>\n      <th>2022-12-30 21:00:00</th>\n    </tr>\n    <tr>\n      <th>2022-12-30 22:00:00</th>\n    </tr>\n    <tr>\n      <th>2022-12-30 23:00:00</th>\n    </tr>\n    <tr>\n      <th>2022-12-31 00:00:00</th>\n    </tr>\n    <tr>\n      <th>2022-12-31 01:00:00</th>\n    </tr>\n    <tr>\n      <th>2022-12-31 02:00:00</th>\n    </tr>\n    <tr>\n      <th>2022-12-31 03:00:00</th>\n    </tr>\n    <tr>\n      <th>2022-12-31 04:00:00</th>\n    </tr>\n    <tr>\n      <th>2022-12-31 05:00:00</th>\n    </tr>\n    <tr>\n      <th>2022-12-31 06:00:00</th>\n    </tr>\n    <tr>\n      <th>2022-12-31 07:00:00</th>\n    </tr>\n    <tr>\n      <th>2022-12-31 08:00:00</th>\n    </tr>\n    <tr>\n      <th>2022-12-31 09:00:00</th>\n    </tr>\n    <tr>\n      <th>2022-12-31 10:00:00</th>\n    </tr>\n    <tr>\n      <th>2022-12-31 11:00:00</th>\n    </tr>\n    <tr>\n      <th>2022-12-31 12:00:00</th>\n    </tr>\n    <tr>\n      <th>2022-12-31 13:00:00</th>\n    </tr>\n    <tr>\n      <th>2022-12-31 14:00:00</th>\n    </tr>\n    <tr>\n      <th>2022-12-31 15:00:00</th>\n    </tr>\n    <tr>\n      <th>2022-12-31 16:00:00</th>\n    </tr>\n    <tr>\n      <th>2022-12-31 17:00:00</th>\n    </tr>\n    <tr>\n      <th>2022-12-31 18:00:00</th>\n    </tr>\n    <tr>\n      <th>2022-12-31 19:00:00</th>\n    </tr>\n    <tr>\n      <th>2022-12-31 20:00:00</th>\n    </tr>\n    <tr>\n      <th>2022-12-31 21:00:00</th>\n    </tr>\n    <tr>\n      <th>2022-12-31 22:00:00</th>\n    </tr>\n    <tr>\n      <th>2022-12-31 23:00:00</th>\n    </tr>\n  </tbody>\n</table>\n</div>"
     },
     "metadata": {},
     "output_type": "display_data"
    }
   ],
   "source": [
    "with open(f'data/datasets/type_B/{DATAFILE}', 'rb') as f:\n",
    "    # load the object from the file using pickle.load()\n",
    "    dataset = pickle.load(f)\n",
    "\n",
    "print(\"files:\", dataset[\"files\"])\n",
    "print(\"nan_threshold\", dataset[\"nan_threshold\"])\n",
    "print(\"features\", dataset[\"features\"])\n",
    "print(\"add_era5\", dataset[\"add_era5\"])\n",
    "print(\"num_test_hours\", dataset[\"num_test_hours\"])\n",
    "\n",
    "train = dataset[\"data_train\"]\n",
    "test = dataset[\"data_test\"]\n",
    "\n",
    "display(train)\n",
    "display(test)"
   ],
   "metadata": {
    "collapsed": false,
    "pycharm": {
     "name": "#%%\n"
    }
   }
  },
  {
   "cell_type": "markdown",
   "source": [
    "# Data Processing"
   ],
   "metadata": {
    "collapsed": false,
    "pycharm": {
     "name": "#%% md\n"
    }
   }
  },
  {
   "cell_type": "markdown",
   "source": [
    "## 1. Make data stationary"
   ],
   "metadata": {
    "collapsed": false,
    "pycharm": {
     "name": "#%% md\n"
    }
   }
  },
  {
   "cell_type": "code",
   "execution_count": 46,
   "outputs": [
    {
     "name": "stdout",
     "output_type": "stream",
     "text": [
      "TRAIN: shape: (832843, 24)\n"
     ]
    },
    {
     "data": {
      "text/plain": "                     WDIR(t-3)  WSPD(t-3)  PRES(t-3)  WDIR_ERA5(t-3)  \\\n2002-01-01 05:00:00        1.0        0.1        0.1       -2.838651   \n2002-01-01 06:00:00        2.0       -0.3        0.0       -2.869363   \n2002-01-01 07:00:00        1.0       -0.1       -0.1        0.210819   \n2002-01-01 13:00:00        8.0        1.2       -1.4       -1.134972   \n2002-01-01 14:00:00        2.0       -0.2        0.0       -7.752430   \n\n                     WSPD_ERA5(t-3)  PRES_ERA5(t-3)  WDIR(t-2)  WSPD(t-2)  \\\n2002-01-01 05:00:00       -0.265851        0.107580        2.0       -0.3   \n2002-01-01 06:00:00       -0.605774       -0.344908        1.0       -0.1   \n2002-01-01 07:00:00       -0.429966        0.541160       -1.0        0.6   \n2002-01-01 13:00:00        1.175009       -1.161864       11.0        0.4   \n2002-01-01 14:00:00        0.408429        0.158436        7.0        0.7   \n\n                     PRES(t-2)  WDIR_ERA5(t-2)  ...  PRES(t-1)  \\\n2002-01-01 05:00:00        0.0       -2.869363  ...       -0.1   \n2002-01-01 06:00:00       -0.1        0.210819  ...       -0.6   \n2002-01-01 07:00:00       -0.6        1.433525  ...       -0.3   \n2002-01-01 13:00:00       -0.8      -10.320926  ...       -1.3   \n2002-01-01 14:00:00       -0.8       -8.316887  ...        0.3   \n\n                     WDIR_ERA5(t-1)  WSPD_ERA5(t-1)  PRES_ERA5(t-1)  WDIR(t)  \\\n2002-01-01 05:00:00        0.210819       -0.429966        0.541160     -1.0   \n2002-01-01 06:00:00        1.433525       -0.446340       -0.279708      3.0   \n2002-01-01 07:00:00       -0.611968        0.416342        0.069112     -2.0   \n2002-01-01 13:00:00      -18.025845        1.599584       -0.987128     20.0   \n2002-01-01 14:00:00       -9.735999       -0.341883        0.198860     -1.0   \n\n                     WSPD(t)  PRES(t)  WDIR_ERA5(t)  WSPD_ERA5(t)  \\\n2002-01-01 05:00:00      0.6     -0.6      1.433525     -0.446340   \n2002-01-01 06:00:00     -0.1     -0.3     -0.611968      0.416342   \n2002-01-01 07:00:00      0.1      0.1      0.677998      0.504338   \n2002-01-01 13:00:00      0.6     -1.1    -28.439841      0.753363   \n2002-01-01 14:00:00      0.6      0.4     -5.044216     -0.446621   \n\n                     PRES_ERA5(t)  \n2002-01-01 05:00:00     -0.279708  \n2002-01-01 06:00:00      0.069112  \n2002-01-01 07:00:00     -0.183212  \n2002-01-01 13:00:00     -0.605056  \n2002-01-01 14:00:00      0.691772  \n\n[5 rows x 24 columns]",
      "text/html": "<div>\n<style scoped>\n    .dataframe tbody tr th:only-of-type {\n        vertical-align: middle;\n    }\n\n    .dataframe tbody tr th {\n        vertical-align: top;\n    }\n\n    .dataframe thead th {\n        text-align: right;\n    }\n</style>\n<table border=\"1\" class=\"dataframe\">\n  <thead>\n    <tr style=\"text-align: right;\">\n      <th></th>\n      <th>WDIR(t-3)</th>\n      <th>WSPD(t-3)</th>\n      <th>PRES(t-3)</th>\n      <th>WDIR_ERA5(t-3)</th>\n      <th>WSPD_ERA5(t-3)</th>\n      <th>PRES_ERA5(t-3)</th>\n      <th>WDIR(t-2)</th>\n      <th>WSPD(t-2)</th>\n      <th>PRES(t-2)</th>\n      <th>WDIR_ERA5(t-2)</th>\n      <th>...</th>\n      <th>PRES(t-1)</th>\n      <th>WDIR_ERA5(t-1)</th>\n      <th>WSPD_ERA5(t-1)</th>\n      <th>PRES_ERA5(t-1)</th>\n      <th>WDIR(t)</th>\n      <th>WSPD(t)</th>\n      <th>PRES(t)</th>\n      <th>WDIR_ERA5(t)</th>\n      <th>WSPD_ERA5(t)</th>\n      <th>PRES_ERA5(t)</th>\n    </tr>\n  </thead>\n  <tbody>\n    <tr>\n      <th>2002-01-01 05:00:00</th>\n      <td>1.0</td>\n      <td>0.1</td>\n      <td>0.1</td>\n      <td>-2.838651</td>\n      <td>-0.265851</td>\n      <td>0.107580</td>\n      <td>2.0</td>\n      <td>-0.3</td>\n      <td>0.0</td>\n      <td>-2.869363</td>\n      <td>...</td>\n      <td>-0.1</td>\n      <td>0.210819</td>\n      <td>-0.429966</td>\n      <td>0.541160</td>\n      <td>-1.0</td>\n      <td>0.6</td>\n      <td>-0.6</td>\n      <td>1.433525</td>\n      <td>-0.446340</td>\n      <td>-0.279708</td>\n    </tr>\n    <tr>\n      <th>2002-01-01 06:00:00</th>\n      <td>2.0</td>\n      <td>-0.3</td>\n      <td>0.0</td>\n      <td>-2.869363</td>\n      <td>-0.605774</td>\n      <td>-0.344908</td>\n      <td>1.0</td>\n      <td>-0.1</td>\n      <td>-0.1</td>\n      <td>0.210819</td>\n      <td>...</td>\n      <td>-0.6</td>\n      <td>1.433525</td>\n      <td>-0.446340</td>\n      <td>-0.279708</td>\n      <td>3.0</td>\n      <td>-0.1</td>\n      <td>-0.3</td>\n      <td>-0.611968</td>\n      <td>0.416342</td>\n      <td>0.069112</td>\n    </tr>\n    <tr>\n      <th>2002-01-01 07:00:00</th>\n      <td>1.0</td>\n      <td>-0.1</td>\n      <td>-0.1</td>\n      <td>0.210819</td>\n      <td>-0.429966</td>\n      <td>0.541160</td>\n      <td>-1.0</td>\n      <td>0.6</td>\n      <td>-0.6</td>\n      <td>1.433525</td>\n      <td>...</td>\n      <td>-0.3</td>\n      <td>-0.611968</td>\n      <td>0.416342</td>\n      <td>0.069112</td>\n      <td>-2.0</td>\n      <td>0.1</td>\n      <td>0.1</td>\n      <td>0.677998</td>\n      <td>0.504338</td>\n      <td>-0.183212</td>\n    </tr>\n    <tr>\n      <th>2002-01-01 13:00:00</th>\n      <td>8.0</td>\n      <td>1.2</td>\n      <td>-1.4</td>\n      <td>-1.134972</td>\n      <td>1.175009</td>\n      <td>-1.161864</td>\n      <td>11.0</td>\n      <td>0.4</td>\n      <td>-0.8</td>\n      <td>-10.320926</td>\n      <td>...</td>\n      <td>-1.3</td>\n      <td>-18.025845</td>\n      <td>1.599584</td>\n      <td>-0.987128</td>\n      <td>20.0</td>\n      <td>0.6</td>\n      <td>-1.1</td>\n      <td>-28.439841</td>\n      <td>0.753363</td>\n      <td>-0.605056</td>\n    </tr>\n    <tr>\n      <th>2002-01-01 14:00:00</th>\n      <td>2.0</td>\n      <td>-0.2</td>\n      <td>0.0</td>\n      <td>-7.752430</td>\n      <td>0.408429</td>\n      <td>0.158436</td>\n      <td>7.0</td>\n      <td>0.7</td>\n      <td>-0.8</td>\n      <td>-8.316887</td>\n      <td>...</td>\n      <td>0.3</td>\n      <td>-9.735999</td>\n      <td>-0.341883</td>\n      <td>0.198860</td>\n      <td>-1.0</td>\n      <td>0.6</td>\n      <td>0.4</td>\n      <td>-5.044216</td>\n      <td>-0.446621</td>\n      <td>0.691772</td>\n    </tr>\n  </tbody>\n</table>\n<p>5 rows × 24 columns</p>\n</div>"
     },
     "metadata": {},
     "output_type": "display_data"
    },
    {
     "name": "stdout",
     "output_type": "stream",
     "text": [
      "TEST: shape: (24, 24)\n"
     ]
    },
    {
     "data": {
      "text/plain": "                     WDIR(t-3)  WSPD(t-3)  PRES(t-3)  WSPD_ERA5(t-3)  \\\ntimestamp                                                              \n2022-12-31 00:00:00        4.0       -1.2        0.0       -1.676501   \n2022-12-31 01:00:00        7.0        0.0        0.4       -0.872666   \n2022-12-31 02:00:00        0.0       -1.2        0.4       -1.363622   \n2022-12-31 03:00:00        4.0       -0.9        0.6       -0.243606   \n2022-12-31 04:00:00       14.0        0.6        0.3        0.530232   \n\n                     WDIR_ERA5(t-3)  PRES_ERA5(t-3)  WDIR(t-2)  WSPD(t-2)  \\\ntimestamp                                                                   \n2022-12-31 00:00:00       -9.228674        0.027344        7.0        0.0   \n2022-12-31 01:00:00       15.261675        0.148272        0.0       -1.2   \n2022-12-31 02:00:00      -13.103055        0.241086        4.0       -0.9   \n2022-12-31 03:00:00       -8.966873        0.546872       14.0        0.6   \n2022-12-31 04:00:00        0.785140        0.788342      -34.0       -3.3   \n\n                     PRES(t-2)  WSPD_ERA5(t-2)  ...  PRES(t-1)  \\\ntimestamp                                       ...              \n2022-12-31 00:00:00        0.4       -0.872666  ...        0.4   \n2022-12-31 01:00:00        0.4       -1.363622  ...        0.6   \n2022-12-31 02:00:00        0.6       -0.243606  ...        0.3   \n2022-12-31 03:00:00        0.3        0.530232  ...        0.7   \n2022-12-31 04:00:00        0.7        0.252866  ...        0.3   \n\n                     WSPD_ERA5(t-1)  WDIR_ERA5(t-1)  PRES_ERA5(t-1)  WDIR(t)  \\\ntimestamp                                                                      \n2022-12-31 00:00:00       -1.363622      -13.103055        0.241086      4.0   \n2022-12-31 01:00:00       -0.243606       -8.966873        0.546872     14.0   \n2022-12-31 02:00:00        0.530232        0.785140        0.788342    -34.0   \n2022-12-31 03:00:00        0.252866        4.558071        0.613498   -116.0   \n2022-12-31 04:00:00        0.622488       -2.838479        0.403992      2.0   \n\n                     WSPD(t)  PRES(t)  WSPD_ERA5(t)  WDIR_ERA5(t)  \\\ntimestamp                                                           \n2022-12-31 00:00:00     -0.9      0.6     -0.243606     -8.966873   \n2022-12-31 01:00:00      0.6      0.3      0.530232      0.785140   \n2022-12-31 02:00:00     -3.3      0.7      0.252866      4.558071   \n2022-12-31 03:00:00      3.7      0.3      0.622488     -2.838479   \n2022-12-31 04:00:00      2.5      0.4      0.037617     -7.927598   \n\n                     PRES_ERA5(t)  \ntimestamp                          \n2022-12-31 00:00:00      0.546872  \n2022-12-31 01:00:00      0.788342  \n2022-12-31 02:00:00      0.613498  \n2022-12-31 03:00:00      0.403992  \n2022-12-31 04:00:00      0.105523  \n\n[5 rows x 24 columns]",
      "text/html": "<div>\n<style scoped>\n    .dataframe tbody tr th:only-of-type {\n        vertical-align: middle;\n    }\n\n    .dataframe tbody tr th {\n        vertical-align: top;\n    }\n\n    .dataframe thead th {\n        text-align: right;\n    }\n</style>\n<table border=\"1\" class=\"dataframe\">\n  <thead>\n    <tr style=\"text-align: right;\">\n      <th></th>\n      <th>WDIR(t-3)</th>\n      <th>WSPD(t-3)</th>\n      <th>PRES(t-3)</th>\n      <th>WSPD_ERA5(t-3)</th>\n      <th>WDIR_ERA5(t-3)</th>\n      <th>PRES_ERA5(t-3)</th>\n      <th>WDIR(t-2)</th>\n      <th>WSPD(t-2)</th>\n      <th>PRES(t-2)</th>\n      <th>WSPD_ERA5(t-2)</th>\n      <th>...</th>\n      <th>PRES(t-1)</th>\n      <th>WSPD_ERA5(t-1)</th>\n      <th>WDIR_ERA5(t-1)</th>\n      <th>PRES_ERA5(t-1)</th>\n      <th>WDIR(t)</th>\n      <th>WSPD(t)</th>\n      <th>PRES(t)</th>\n      <th>WSPD_ERA5(t)</th>\n      <th>WDIR_ERA5(t)</th>\n      <th>PRES_ERA5(t)</th>\n    </tr>\n    <tr>\n      <th>timestamp</th>\n      <th></th>\n      <th></th>\n      <th></th>\n      <th></th>\n      <th></th>\n      <th></th>\n      <th></th>\n      <th></th>\n      <th></th>\n      <th></th>\n      <th></th>\n      <th></th>\n      <th></th>\n      <th></th>\n      <th></th>\n      <th></th>\n      <th></th>\n      <th></th>\n      <th></th>\n      <th></th>\n      <th></th>\n    </tr>\n  </thead>\n  <tbody>\n    <tr>\n      <th>2022-12-31 00:00:00</th>\n      <td>4.0</td>\n      <td>-1.2</td>\n      <td>0.0</td>\n      <td>-1.676501</td>\n      <td>-9.228674</td>\n      <td>0.027344</td>\n      <td>7.0</td>\n      <td>0.0</td>\n      <td>0.4</td>\n      <td>-0.872666</td>\n      <td>...</td>\n      <td>0.4</td>\n      <td>-1.363622</td>\n      <td>-13.103055</td>\n      <td>0.241086</td>\n      <td>4.0</td>\n      <td>-0.9</td>\n      <td>0.6</td>\n      <td>-0.243606</td>\n      <td>-8.966873</td>\n      <td>0.546872</td>\n    </tr>\n    <tr>\n      <th>2022-12-31 01:00:00</th>\n      <td>7.0</td>\n      <td>0.0</td>\n      <td>0.4</td>\n      <td>-0.872666</td>\n      <td>15.261675</td>\n      <td>0.148272</td>\n      <td>0.0</td>\n      <td>-1.2</td>\n      <td>0.4</td>\n      <td>-1.363622</td>\n      <td>...</td>\n      <td>0.6</td>\n      <td>-0.243606</td>\n      <td>-8.966873</td>\n      <td>0.546872</td>\n      <td>14.0</td>\n      <td>0.6</td>\n      <td>0.3</td>\n      <td>0.530232</td>\n      <td>0.785140</td>\n      <td>0.788342</td>\n    </tr>\n    <tr>\n      <th>2022-12-31 02:00:00</th>\n      <td>0.0</td>\n      <td>-1.2</td>\n      <td>0.4</td>\n      <td>-1.363622</td>\n      <td>-13.103055</td>\n      <td>0.241086</td>\n      <td>4.0</td>\n      <td>-0.9</td>\n      <td>0.6</td>\n      <td>-0.243606</td>\n      <td>...</td>\n      <td>0.3</td>\n      <td>0.530232</td>\n      <td>0.785140</td>\n      <td>0.788342</td>\n      <td>-34.0</td>\n      <td>-3.3</td>\n      <td>0.7</td>\n      <td>0.252866</td>\n      <td>4.558071</td>\n      <td>0.613498</td>\n    </tr>\n    <tr>\n      <th>2022-12-31 03:00:00</th>\n      <td>4.0</td>\n      <td>-0.9</td>\n      <td>0.6</td>\n      <td>-0.243606</td>\n      <td>-8.966873</td>\n      <td>0.546872</td>\n      <td>14.0</td>\n      <td>0.6</td>\n      <td>0.3</td>\n      <td>0.530232</td>\n      <td>...</td>\n      <td>0.7</td>\n      <td>0.252866</td>\n      <td>4.558071</td>\n      <td>0.613498</td>\n      <td>-116.0</td>\n      <td>3.7</td>\n      <td>0.3</td>\n      <td>0.622488</td>\n      <td>-2.838479</td>\n      <td>0.403992</td>\n    </tr>\n    <tr>\n      <th>2022-12-31 04:00:00</th>\n      <td>14.0</td>\n      <td>0.6</td>\n      <td>0.3</td>\n      <td>0.530232</td>\n      <td>0.785140</td>\n      <td>0.788342</td>\n      <td>-34.0</td>\n      <td>-3.3</td>\n      <td>0.7</td>\n      <td>0.252866</td>\n      <td>...</td>\n      <td>0.3</td>\n      <td>0.622488</td>\n      <td>-2.838479</td>\n      <td>0.403992</td>\n      <td>2.0</td>\n      <td>2.5</td>\n      <td>0.4</td>\n      <td>0.037617</td>\n      <td>-7.927598</td>\n      <td>0.105523</td>\n    </tr>\n  </tbody>\n</table>\n<p>5 rows × 24 columns</p>\n</div>"
     },
     "metadata": {},
     "output_type": "display_data"
    }
   ],
   "source": [
    "STATIONARY = True #Set Flag for report\n",
    "train_stationary = DP.data_to_stationary(train, n = STATIONARY_SHIFT)\n",
    "test_stationary = DP.data_to_stationary(test, n = STATIONARY_SHIFT)\n",
    "\n",
    "print(f\"TRAIN: shape: {train_stationary.shape}\")\n",
    "display(train_stationary.head())\n",
    "\n",
    "print(f\"TEST: shape: {test_stationary.shape}\")\n",
    "display(test_stationary.head())"
   ],
   "metadata": {
    "collapsed": false,
    "pycharm": {
     "name": "#%%\n"
    }
   }
  },
  {
   "cell_type": "markdown",
   "source": [
    "## 2. Transform to supervised problem"
   ],
   "metadata": {
    "collapsed": false,
    "pycharm": {
     "name": "#%% md\n"
    }
   }
  },
  {
   "cell_type": "code",
   "execution_count": 47,
   "outputs": [],
   "source": [
    "#Is already supervised!"
   ],
   "metadata": {
    "collapsed": false,
    "pycharm": {
     "name": "#%%\n"
    }
   }
  },
  {
   "cell_type": "markdown",
   "source": [
    "## train test split"
   ],
   "metadata": {
    "collapsed": false,
    "pycharm": {
     "name": "#%% md\n"
    }
   }
  },
  {
   "cell_type": "code",
   "execution_count": 48,
   "outputs": [
    {
     "name": "stdout",
     "output_type": "stream",
     "text": [
      "Shapes:  (832843, 3, 6) (832843, 6) (24, 3, 6) (24, 6)\n"
     ]
    }
   ],
   "source": [
    "train_X, train_y, _, _ = DP.train_test_split(train_stationary, -len(train_stationary))\n",
    "_, _, test_X, test_y = DP.train_test_split(test_stationary, len(test_stationary))\n",
    "print(\"Shapes: \", train_X.shape, train_y.shape, test_X.shape, test_y.shape)"
   ],
   "metadata": {
    "collapsed": false,
    "pycharm": {
     "name": "#%%\n"
    }
   }
  },
  {
   "cell_type": "markdown",
   "source": [
    "## Normalize the data"
   ],
   "metadata": {
    "collapsed": false,
    "pycharm": {
     "name": "#%% md\n"
    }
   }
  },
  {
   "cell_type": "code",
   "execution_count": 49,
   "outputs": [],
   "source": [
    "# Scale the data\n",
    "#NORMALIZED = True   #set flag for report\n",
    "\n",
    "# train_X_scaled, train_y_scaled, test_X_scaled, test_y_scaled, SCALER = DP.scale_data(train_X,\n",
    "#                                                                                      train_y,\n",
    "#                                                                                      test_X,\n",
    "#                                                                                      test_y)\n",
    "\n",
    "train_X_scaled, train_y_scaled, test_X_scaled, test_y_scaled = train_X, train_y, test_X, test_y #just to exclude scaling for now!"
   ],
   "metadata": {
    "collapsed": false,
    "pycharm": {
     "name": "#%%\n"
    }
   }
  },
  {
   "cell_type": "markdown",
   "source": [
    "---\n",
    "# Select Model"
   ],
   "metadata": {
    "collapsed": false,
    "pycharm": {
     "name": "#%% md\n"
    }
   }
  },
  {
   "cell_type": "code",
   "execution_count": 50,
   "outputs": [
    {
     "name": "stdout",
     "output_type": "stream",
     "text": [
      "Epoch 1/100\n",
      "11712/11712 [==============================] - 98s 8ms/step - loss: 1107.1050 - val_loss: 1061.1262\n",
      "Epoch 2/100\n",
      "11712/11712 [==============================] - 103s 9ms/step - loss: 1050.7704 - val_loss: 1026.7465\n",
      "Epoch 3/100\n",
      "11712/11712 [==============================] - 92s 8ms/step - loss: 1032.4683 - val_loss: 1018.8115\n",
      "Epoch 4/100\n",
      "11712/11712 [==============================] - 92s 8ms/step - loss: 1024.4038 - val_loss: 1010.4485\n",
      "Epoch 5/100\n",
      "11712/11712 [==============================] - 85s 7ms/step - loss: 1019.1964 - val_loss: 1007.7982\n",
      "Epoch 6/100\n",
      "11712/11712 [==============================] - 85s 7ms/step - loss: 1016.2034 - val_loss: 1004.0020\n",
      "Epoch 7/100\n",
      "11712/11712 [==============================] - 86s 7ms/step - loss: 1013.0759 - val_loss: 1002.7194\n",
      "Epoch 8/100\n",
      "11712/11712 [==============================] - 88s 7ms/step - loss: 1010.8411 - val_loss: 1003.3090\n",
      "Epoch 9/100\n",
      "11712/11712 [==============================] - 85s 7ms/step - loss: 1010.0564 - val_loss: 1000.5106\n",
      "Epoch 10/100\n",
      "11712/11712 [==============================] - 86s 7ms/step - loss: 1008.4340 - val_loss: 1003.3991\n",
      "Epoch 11/100\n",
      "11712/11712 [==============================] - 88s 8ms/step - loss: 1007.3191 - val_loss: 998.0515\n",
      "Epoch 12/100\n",
      "11712/11712 [==============================] - 86s 7ms/step - loss: 1005.3232 - val_loss: 995.5118\n",
      "Epoch 13/100\n",
      "11712/11712 [==============================] - 89s 8ms/step - loss: 1005.2299 - val_loss: 997.7291\n",
      "Epoch 14/100\n",
      "11712/11712 [==============================] - 92s 8ms/step - loss: 1003.4784 - val_loss: 997.0679\n",
      "Epoch 15/100\n",
      "11712/11712 [==============================] - 86s 7ms/step - loss: 1003.8951 - val_loss: 1001.1235\n",
      "Epoch 16/100\n",
      "11712/11712 [==============================] - 86s 7ms/step - loss: 1002.8680 - val_loss: 997.6680\n",
      "Epoch 17/100\n",
      "11712/11712 [==============================] - 85s 7ms/step - loss: 1000.7894 - val_loss: 996.8502\n",
      "Epoch 18/100\n",
      "11712/11712 [==============================] - 85s 7ms/step - loss: 1000.3792 - val_loss: 995.3492\n",
      "Epoch 19/100\n",
      "11712/11712 [==============================] - 90s 8ms/step - loss: 1000.4601 - val_loss: 995.1498\n",
      "Epoch 20/100\n",
      "11712/11712 [==============================] - 89s 8ms/step - loss: 999.3602 - val_loss: 999.8986\n",
      "Epoch 21/100\n",
      "11712/11712 [==============================] - 90s 8ms/step - loss: 999.5873 - val_loss: 994.2672\n",
      "Epoch 22/100\n",
      "11712/11712 [==============================] - 91s 8ms/step - loss: 999.0518 - val_loss: 993.3610\n",
      "Epoch 23/100\n",
      "11712/11712 [==============================] - 86s 7ms/step - loss: 998.5339 - val_loss: 995.8372\n",
      "Epoch 24/100\n",
      "11712/11712 [==============================] - 86s 7ms/step - loss: 1000.7762 - val_loss: 994.8239\n",
      "Epoch 25/100\n",
      "11712/11712 [==============================] - 86s 7ms/step - loss: 997.8356 - val_loss: 995.2532\n",
      "Epoch 26/100\n",
      "11712/11712 [==============================] - 249s 21ms/step - loss: 996.1493 - val_loss: 993.3218\n",
      "Epoch 27/100\n",
      "11712/11712 [==============================] - 100s 9ms/step - loss: 996.8109 - val_loss: 993.0868\n",
      "Epoch 28/100\n",
      "11712/11712 [==============================] - 104s 9ms/step - loss: 997.7108 - val_loss: 995.8322\n",
      "Epoch 29/100\n",
      "11712/11712 [==============================] - 106s 9ms/step - loss: 996.0598 - val_loss: 996.5084\n",
      "Epoch 30/100\n",
      "11712/11712 [==============================] - 104s 9ms/step - loss: 997.6528 - val_loss: 993.1914\n",
      "Epoch 31/100\n",
      "11712/11712 [==============================] - 102s 9ms/step - loss: 994.7051 - val_loss: 998.3522\n",
      "Epoch 32/100\n",
      "11712/11712 [==============================] - 104s 9ms/step - loss: 995.9382 - val_loss: 995.2792\n",
      "Epoch 33/100\n",
      "11712/11712 [==============================] - 100s 9ms/step - loss: 994.8821 - val_loss: 995.4565\n",
      "Epoch 34/100\n",
      "11712/11712 [==============================] - 101s 9ms/step - loss: 994.8016 - val_loss: 994.7430\n",
      "Epoch 35/100\n",
      "11712/11712 [==============================] - 101s 9ms/step - loss: 994.6232 - val_loss: 993.3595\n",
      "Epoch 36/100\n",
      "11712/11712 [==============================] - 103s 9ms/step - loss: 992.2961 - val_loss: 992.4590\n",
      "Epoch 37/100\n",
      "11712/11712 [==============================] - 103s 9ms/step - loss: 992.9757 - val_loss: 992.1957\n",
      "Epoch 38/100\n",
      "11712/11712 [==============================] - 101s 9ms/step - loss: 992.6224 - val_loss: 995.4766\n",
      "Epoch 39/100\n",
      "11712/11712 [==============================] - 103s 9ms/step - loss: 992.7438 - val_loss: 995.3304\n",
      "Epoch 40/100\n",
      "11712/11712 [==============================] - 105s 9ms/step - loss: 992.8508 - val_loss: 994.0093\n",
      "Epoch 41/100\n",
      "11712/11712 [==============================] - 100s 9ms/step - loss: 992.1655 - val_loss: 992.5009\n",
      "Epoch 42/100\n",
      "11712/11712 [==============================] - 223s 19ms/step - loss: 994.2039 - val_loss: 995.5350\n",
      "Epoch 43/100\n",
      "11712/11712 [==============================] - 105s 9ms/step - loss: 991.8074 - val_loss: 992.5846\n",
      "Epoch 44/100\n",
      "11712/11712 [==============================] - 106s 9ms/step - loss: 991.7843 - val_loss: 992.5247\n",
      "Epoch 45/100\n",
      "11712/11712 [==============================] - 104s 9ms/step - loss: 991.1437 - val_loss: 992.8226\n",
      "Epoch 46/100\n",
      "11712/11712 [==============================] - 109s 9ms/step - loss: 992.3984 - val_loss: 997.0710\n",
      "Epoch 47/100\n",
      "11712/11712 [==============================] - 100s 9ms/step - loss: 993.1489 - val_loss: 994.5627\n",
      "Epoch 48/100\n",
      "11712/11712 [==============================] - 104s 9ms/step - loss: 993.3533 - val_loss: 992.8768\n",
      "Epoch 49/100\n",
      "11712/11712 [==============================] - 104s 9ms/step - loss: 990.5347 - val_loss: 991.7172\n",
      "Epoch 50/100\n",
      "11712/11712 [==============================] - 102s 9ms/step - loss: 991.4405 - val_loss: 993.5671\n",
      "Epoch 51/100\n",
      "11712/11712 [==============================] - 105s 9ms/step - loss: 992.1895 - val_loss: 995.0788\n",
      "Epoch 52/100\n",
      "11712/11712 [==============================] - 104s 9ms/step - loss: 991.8129 - val_loss: 992.8936\n",
      "Epoch 53/100\n",
      "11712/11712 [==============================] - 105s 9ms/step - loss: 991.7881 - val_loss: 993.9997\n",
      "Epoch 54/100\n",
      "11712/11712 [==============================] - 106s 9ms/step - loss: 991.0395 - val_loss: 995.1798\n",
      "Epoch 55/100\n",
      "11712/11712 [==============================] - 107s 9ms/step - loss: 990.7327 - val_loss: 992.2482\n",
      "Epoch 56/100\n",
      "11712/11712 [==============================] - 100s 9ms/step - loss: 989.8907 - val_loss: 994.4373\n",
      "Epoch 57/100\n",
      "11712/11712 [==============================] - 105s 9ms/step - loss: 990.5461 - val_loss: 990.4597\n",
      "Epoch 58/100\n",
      "11712/11712 [==============================] - 109s 9ms/step - loss: 991.1631 - val_loss: 993.4985\n",
      "Epoch 59/100\n",
      "11712/11712 [==============================] - 106s 9ms/step - loss: 989.5986 - val_loss: 990.4404\n",
      "Epoch 60/100\n",
      "11712/11712 [==============================] - 108s 9ms/step - loss: 990.4881 - val_loss: 992.8068\n",
      "Epoch 61/100\n",
      "11712/11712 [==============================] - 108s 9ms/step - loss: 989.2499 - val_loss: 993.0014\n",
      "Epoch 62/100\n",
      "11712/11712 [==============================] - 111s 9ms/step - loss: 988.6865 - val_loss: 1000.3502\n",
      "Epoch 63/100\n",
      "11712/11712 [==============================] - 117s 10ms/step - loss: 990.0776 - val_loss: 996.1360\n",
      "Epoch 64/100\n",
      "11712/11712 [==============================] - 114s 10ms/step - loss: 987.7915 - val_loss: 994.1384\n",
      "Epoch 65/100\n",
      "11712/11712 [==============================] - 112s 10ms/step - loss: 987.8232 - val_loss: 995.1870\n",
      "Epoch 66/100\n",
      "11712/11712 [==============================] - 109s 9ms/step - loss: 988.5386 - val_loss: 996.1811\n",
      "Epoch 67/100\n",
      "11712/11712 [==============================] - 109s 9ms/step - loss: 986.3141 - val_loss: 995.0733\n",
      "Epoch 68/100\n",
      "11712/11712 [==============================] - 110s 9ms/step - loss: 986.9713 - val_loss: 991.5972\n",
      "Epoch 69/100\n",
      "11712/11712 [==============================] - 107s 9ms/step - loss: 986.5294 - val_loss: 995.8514\n",
      "Epoch 70/100\n",
      "11712/11712 [==============================] - 105s 9ms/step - loss: 985.1078 - val_loss: 991.0042\n",
      "Epoch 71/100\n",
      "11712/11712 [==============================] - 106s 9ms/step - loss: 984.8594 - val_loss: 996.0982\n",
      "Epoch 72/100\n",
      "11712/11712 [==============================] - 113s 10ms/step - loss: 987.0449 - val_loss: 994.0434\n",
      "Epoch 73/100\n",
      "11712/11712 [==============================] - 118s 10ms/step - loss: 985.9639 - val_loss: 994.0687\n",
      "Epoch 74/100\n",
      "11712/11712 [==============================] - 103s 9ms/step - loss: 985.8251 - val_loss: 997.7393\n",
      "Epoch 75/100\n",
      "11712/11712 [==============================] - 98s 8ms/step - loss: 983.9091 - val_loss: 995.1964\n",
      "Epoch 76/100\n",
      "11712/11712 [==============================] - 99s 8ms/step - loss: 984.1736 - val_loss: 996.0644\n",
      "Epoch 77/100\n",
      "11712/11712 [==============================] - 96s 8ms/step - loss: 985.0439 - val_loss: 996.9635\n",
      "Epoch 78/100\n",
      "11712/11712 [==============================] - 96s 8ms/step - loss: 987.6187 - val_loss: 992.7858\n",
      "Epoch 79/100\n",
      "11712/11712 [==============================] - 97s 8ms/step - loss: 985.9276 - val_loss: 994.9684\n",
      "Epoch 80/100\n",
      "11712/11712 [==============================] - 97s 8ms/step - loss: 985.1479 - val_loss: 995.0262\n",
      "Epoch 81/100\n",
      "11712/11712 [==============================] - 97s 8ms/step - loss: 983.1686 - val_loss: 997.1931\n",
      "Epoch 82/100\n",
      "11712/11712 [==============================] - 97s 8ms/step - loss: 983.1716 - val_loss: 996.7361\n",
      "Epoch 83/100\n",
      "11712/11712 [==============================] - 98s 8ms/step - loss: 984.9498 - val_loss: 998.4843\n",
      "Epoch 84/100\n",
      "11712/11712 [==============================] - 99s 8ms/step - loss: 986.0361 - val_loss: 995.8318\n",
      "Epoch 85/100\n",
      "11712/11712 [==============================] - 100s 9ms/step - loss: 982.4872 - val_loss: 991.5813\n",
      "Epoch 86/100\n",
      "11712/11712 [==============================] - 102s 9ms/step - loss: 982.6383 - val_loss: 997.1472\n",
      "Epoch 87/100\n",
      "11712/11712 [==============================] - 99s 8ms/step - loss: 985.4169 - val_loss: 995.0630\n",
      "Epoch 88/100\n",
      "11712/11712 [==============================] - 100s 9ms/step - loss: 982.8654 - val_loss: 999.5266\n",
      "Epoch 89/100\n",
      "11712/11712 [==============================] - 97s 8ms/step - loss: 984.9387 - val_loss: 996.2191\n",
      "Epoch 90/100\n",
      "11712/11712 [==============================] - 97s 8ms/step - loss: 984.2798 - val_loss: 994.9528\n",
      "Epoch 91/100\n",
      "11712/11712 [==============================] - 104s 9ms/step - loss: 984.0208 - val_loss: 1000.5344\n",
      "Epoch 92/100\n",
      "11712/11712 [==============================] - 104s 9ms/step - loss: 983.9161 - val_loss: 998.2344\n",
      "Epoch 93/100\n",
      "11712/11712 [==============================] - 108s 9ms/step - loss: 981.1665 - val_loss: 999.2513\n",
      "Epoch 94/100\n",
      "11712/11712 [==============================] - 106s 9ms/step - loss: 983.8085 - val_loss: 993.7958\n",
      "Epoch 95/100\n",
      "11712/11712 [==============================] - 110s 9ms/step - loss: 985.6404 - val_loss: 995.9641\n",
      "Epoch 96/100\n",
      "11712/11712 [==============================] - 102s 9ms/step - loss: 984.6239 - val_loss: 996.5358\n",
      "Epoch 97/100\n",
      "11712/11712 [==============================] - 105s 9ms/step - loss: 984.3436 - val_loss: 998.1844\n",
      "Epoch 98/100\n",
      "11712/11712 [==============================] - 103s 9ms/step - loss: 983.5574 - val_loss: 999.8471\n",
      "Epoch 99/100\n",
      "11712/11712 [==============================] - 1288s 110ms/step - loss: 986.9973 - val_loss: 997.2998\n",
      "Epoch 100/100\n",
      "11712/11712 [==============================] - 86s 7ms/step - loss: 982.1329 - val_loss: 995.2419\n",
      "Model: \"sequential_1\"\n",
      "_________________________________________________________________\n",
      " Layer (type)                Output Shape              Param #   \n",
      "=================================================================\n",
      " lstm_4 (LSTM)               (None, 3, 128)            69120     \n",
      "                                                                 \n",
      " dropout_3 (Dropout)         (None, 3, 128)            0         \n",
      "                                                                 \n",
      " lstm_5 (LSTM)               (None, 3, 64)             49408     \n",
      "                                                                 \n",
      " dropout_4 (Dropout)         (None, 3, 64)             0         \n",
      "                                                                 \n",
      " lstm_6 (LSTM)               (None, 3, 32)             12416     \n",
      "                                                                 \n",
      " dropout_5 (Dropout)         (None, 3, 32)             0         \n",
      "                                                                 \n",
      " lstm_7 (LSTM)               (None, 16)                3136      \n",
      "                                                                 \n",
      " dense_1 (Dense)             (None, 6)                 102       \n",
      "                                                                 \n",
      "=================================================================\n",
      "Total params: 134,182\n",
      "Trainable params: 134,182\n",
      "Non-trainable params: 0\n",
      "_________________________________________________________________\n"
     ]
    }
   ],
   "source": [
    "#model = models.lstm_0(train_X_scaled,train_y_scaled)\n",
    "start_time = time.time()\n",
    "model = Models.get_model(MODEL_NAME, train_X, train_y, ALPHA)\n",
    "TRAINING_TIME = time.time() - start_time\n",
    "model.summary()"
   ],
   "metadata": {
    "collapsed": false,
    "pycharm": {
     "name": "#%%\n"
    }
   }
  },
  {
   "cell_type": "markdown",
   "source": [
    "----\n",
    "# One-Shot Forecasting"
   ],
   "metadata": {
    "collapsed": false,
    "pycharm": {
     "name": "#%% md\n"
    }
   }
  },
  {
   "cell_type": "code",
   "execution_count": 51,
   "outputs": [
    {
     "name": "stdout",
     "output_type": "stream",
     "text": [
      "832843/832843 [==============================] - 787s 944us/step\n"
     ]
    }
   ],
   "source": [
    "_ = model.predict(train_X_scaled, batch_size=1)"
   ],
   "metadata": {
    "collapsed": false,
    "pycharm": {
     "name": "#%%\n"
    }
   }
  },
  {
   "cell_type": "code",
   "execution_count": 52,
   "outputs": [],
   "source": [
    "output_cols  = test.loc[:, ~test.columns.str.contains('t-')].columns\n",
    "#output_cols"
   ],
   "metadata": {
    "collapsed": false,
    "pycharm": {
     "name": "#%%\n"
    }
   }
  },
  {
   "cell_type": "code",
   "execution_count": 53,
   "outputs": [
    {
     "name": "stdout",
     "output_type": "stream",
     "text": [
      "1/1 [==============================] - 1s 903ms/step\n"
     ]
    }
   ],
   "source": [
    "yhat = model.predict(test_X_scaled)\n",
    "#yhat"
   ],
   "metadata": {
    "collapsed": false,
    "pycharm": {
     "name": "#%%\n"
    }
   }
  },
  {
   "cell_type": "code",
   "execution_count": 54,
   "outputs": [],
   "source": [
    "#yhat_unscaled = DP.invert_scaling(yhat, SCALER)\n",
    "yhat_unscaled = yhat # since test_X_scaled is actually not scaled - lol :D\n",
    "#yhat_unscaled"
   ],
   "metadata": {
    "collapsed": false,
    "pycharm": {
     "name": "#%%\n"
    }
   }
  },
  {
   "cell_type": "code",
   "execution_count": 55,
   "outputs": [],
   "source": [
    "yhat_unscaled_df = pd.DataFrame(yhat_unscaled)\n",
    "yhat_unscaled_df.columns = [name + \"_pred\" for name in output_cols]\n",
    "yhat_unscaled_df.set_index(test.tail(len(yhat)).index, inplace=True)\n",
    "#yhat_unscaled_df"
   ],
   "metadata": {
    "collapsed": false,
    "pycharm": {
     "name": "#%%\n"
    }
   }
  },
  {
   "cell_type": "code",
   "execution_count": 56,
   "outputs": [],
   "source": [
    "evaluation_1 = test.loc[:, ~test.columns.str.contains('t-')]    #ground truth: just y, without X\n",
    "#evaluation_1"
   ],
   "metadata": {
    "collapsed": false,
    "pycharm": {
     "name": "#%%\n"
    }
   }
  },
  {
   "cell_type": "code",
   "execution_count": 57,
   "outputs": [
    {
     "name": "stderr",
     "output_type": "stream",
     "text": [
      "/var/folders/ys/lj6w647n5qjdv23zdxs_fn740000gn/T/ipykernel_63573/795191291.py:3: SettingWithCopyWarning: \n",
      "A value is trying to be set on a copy of a slice from a DataFrame.\n",
      "Try using .loc[row_indexer,col_indexer] = value instead\n",
      "\n",
      "See the caveats in the documentation: https://pandas.pydata.org/pandas-docs/stable/user_guide/indexing.html#returning-a-view-versus-a-copy\n",
      "  evaluation_1[f\"{col}_pred\"]= shifted + yhat_unscaled_df[f\"{col}_pred\"]\n",
      "/var/folders/ys/lj6w647n5qjdv23zdxs_fn740000gn/T/ipykernel_63573/795191291.py:3: SettingWithCopyWarning: \n",
      "A value is trying to be set on a copy of a slice from a DataFrame.\n",
      "Try using .loc[row_indexer,col_indexer] = value instead\n",
      "\n",
      "See the caveats in the documentation: https://pandas.pydata.org/pandas-docs/stable/user_guide/indexing.html#returning-a-view-versus-a-copy\n",
      "  evaluation_1[f\"{col}_pred\"]= shifted + yhat_unscaled_df[f\"{col}_pred\"]\n",
      "/var/folders/ys/lj6w647n5qjdv23zdxs_fn740000gn/T/ipykernel_63573/795191291.py:3: SettingWithCopyWarning: \n",
      "A value is trying to be set on a copy of a slice from a DataFrame.\n",
      "Try using .loc[row_indexer,col_indexer] = value instead\n",
      "\n",
      "See the caveats in the documentation: https://pandas.pydata.org/pandas-docs/stable/user_guide/indexing.html#returning-a-view-versus-a-copy\n",
      "  evaluation_1[f\"{col}_pred\"]= shifted + yhat_unscaled_df[f\"{col}_pred\"]\n",
      "/var/folders/ys/lj6w647n5qjdv23zdxs_fn740000gn/T/ipykernel_63573/795191291.py:3: SettingWithCopyWarning: \n",
      "A value is trying to be set on a copy of a slice from a DataFrame.\n",
      "Try using .loc[row_indexer,col_indexer] = value instead\n",
      "\n",
      "See the caveats in the documentation: https://pandas.pydata.org/pandas-docs/stable/user_guide/indexing.html#returning-a-view-versus-a-copy\n",
      "  evaluation_1[f\"{col}_pred\"]= shifted + yhat_unscaled_df[f\"{col}_pred\"]\n",
      "/var/folders/ys/lj6w647n5qjdv23zdxs_fn740000gn/T/ipykernel_63573/795191291.py:3: SettingWithCopyWarning: \n",
      "A value is trying to be set on a copy of a slice from a DataFrame.\n",
      "Try using .loc[row_indexer,col_indexer] = value instead\n",
      "\n",
      "See the caveats in the documentation: https://pandas.pydata.org/pandas-docs/stable/user_guide/indexing.html#returning-a-view-versus-a-copy\n",
      "  evaluation_1[f\"{col}_pred\"]= shifted + yhat_unscaled_df[f\"{col}_pred\"]\n",
      "/var/folders/ys/lj6w647n5qjdv23zdxs_fn740000gn/T/ipykernel_63573/795191291.py:3: SettingWithCopyWarning: \n",
      "A value is trying to be set on a copy of a slice from a DataFrame.\n",
      "Try using .loc[row_indexer,col_indexer] = value instead\n",
      "\n",
      "See the caveats in the documentation: https://pandas.pydata.org/pandas-docs/stable/user_guide/indexing.html#returning-a-view-versus-a-copy\n",
      "  evaluation_1[f\"{col}_pred\"]= shifted + yhat_unscaled_df[f\"{col}_pred\"]\n"
     ]
    }
   ],
   "source": [
    "for col in evaluation_1.columns:\n",
    "    shifted = evaluation_1[col].shift(STATIONARY_SHIFT)\n",
    "    evaluation_1[f\"{col}_pred\"]= shifted + yhat_unscaled_df[f\"{col}_pred\"]"
   ],
   "metadata": {
    "collapsed": false,
    "pycharm": {
     "name": "#%%\n"
    }
   }
  },
  {
   "cell_type": "code",
   "execution_count": 58,
   "outputs": [
    {
     "data": {
      "text/plain": "                     WDIR(t)  WSPD(t)  PRES(t)  WSPD_ERA5(t)  WDIR_ERA5(t)  \\\ntimestamp                                                                    \n2022-12-31 00:00:00    189.0      5.0   1013.5      5.057694     66.884523   \n2022-12-31 01:00:00    203.0      5.6   1013.8      5.587926     67.669663   \n2022-12-31 02:00:00    169.0      2.3   1014.5      5.840792     72.227735   \n2022-12-31 03:00:00     53.0      6.0   1014.8      6.463279     69.389256   \n2022-12-31 04:00:00     55.0      8.5   1015.2      6.500897     61.461657   \n2022-12-31 05:00:00     72.0      7.6   1014.9      6.541557     53.576686   \n2022-12-31 06:00:00     77.0      7.2   1014.4      6.465415     56.308269   \n2022-12-31 07:00:00     97.0      7.8   1014.1      6.487022     61.932861   \n2022-12-31 08:00:00    148.0      3.3   1013.9      6.690521     65.444207   \n2022-12-31 09:00:00    195.0      5.4   1014.0      6.661433     60.655439   \n2022-12-31 10:00:00    223.0      5.1   1014.4      4.087878     44.785787   \n2022-12-31 11:00:00     18.0      3.3   1015.0      3.082339     46.984747   \n2022-12-31 12:00:00    115.0      2.1   1014.9      2.253867     41.578548   \n2022-12-31 13:00:00     31.0      0.9   1015.4      1.868949     45.624845   \n2022-12-31 14:00:00     97.0      0.8   1015.9      2.137407     61.040945   \n2022-12-31 15:00:00    113.0      1.9   1016.6      2.001684     69.936360   \n2022-12-31 16:00:00    124.0      0.8   1017.1      1.689902     57.291839   \n2022-12-31 17:00:00    107.0      1.1   1016.6      1.136156     27.849093   \n2022-12-31 18:00:00    147.0      1.1   1015.9      0.956942      4.265350   \n2022-12-31 19:00:00    195.0      0.5   1015.0      0.601025    331.707817   \n2022-12-31 20:00:00    210.0      1.0   1015.0      0.979714    213.539484   \n2022-12-31 21:00:00    231.0      0.6   1014.7      2.067327    185.761738   \n2022-12-31 22:00:00     18.0      0.7   1014.9      1.554299    186.942913   \n2022-12-31 23:00:00     68.0      1.6   1015.0      2.206784    152.648150   \n\n                     PRES_ERA5(t)  WDIR(t)_pred  WSPD(t)_pred  PRES(t)_pred  \\\ntimestamp                                                                     \n2022-12-31 00:00:00   1014.403047    188.511487      5.875141   1012.892656   \n2022-12-31 01:00:00   1015.191389    195.363029      4.958570   1013.513761   \n2022-12-31 02:00:00   1015.804887    197.093222      5.541854   1013.854648   \n2022-12-31 03:00:00   1016.208879    172.070677      2.318695   1014.477424   \n2022-12-31 04:00:00   1016.314402    103.891296      6.325666   1014.832072   \n2022-12-31 05:00:00   1016.235452     79.556767      8.651113   1015.207445   \n2022-12-31 06:00:00   1015.708607     87.234285      7.674629   1014.888717   \n2022-12-31 07:00:00   1015.506803     71.169741      7.161522   1014.452869   \n2022-12-31 08:00:00   1015.204484     94.172756      7.754755   1014.125072   \n2022-12-31 09:00:00   1015.499486    135.328728      3.270705   1013.948716   \n2022-12-31 10:00:00   1015.262637    180.421633      5.395610   1014.066055   \n2022-12-31 11:00:00   1015.781780    176.727612      5.218067   1014.489420   \n2022-12-31 12:00:00   1016.172677     91.999313      3.385029   1015.088979   \n2022-12-31 13:00:00   1016.523137    120.025926      2.188164   1014.949152   \n2022-12-31 14:00:00   1017.198254     65.448456      1.205675   1015.367363   \n2022-12-31 15:00:00   1017.826386     96.098790      0.792734   1015.915983   \n2022-12-31 16:00:00   1018.226912    118.124113      1.922773   1016.583579   \n2022-12-31 17:00:00   1018.087498    224.894707      1.239830   1017.042935   \n2022-12-31 18:00:00   1017.561423    117.626913      1.167158   1016.608227   \n2022-12-31 19:00:00   1016.724556    139.641004      0.982605   1015.898425   \n2022-12-31 20:00:00   1016.415689    137.209774      0.830748   1015.159086   \n2022-12-31 21:00:00   1015.928896    195.028294      1.149220   1015.026880   \n2022-12-31 22:00:00   1016.562420    244.635721      0.659023   1014.687279   \n2022-12-31 23:00:00   1016.741116     19.927534      0.593560   1014.940531   \n\n                     WSPD_ERA5(t)_pred  WDIR_ERA5(t)_pred  PRES_ERA5(t)_pred  \ntimestamp                                                                     \n2022-12-31 00:00:00           6.955716          76.511123        1014.329291  \n2022-12-31 01:00:00           6.719800          67.554375        1014.860011  \n2022-12-31 02:00:00           7.262590          68.348238        1015.780335  \n2022-12-31 03:00:00           7.387517          72.797478        1016.257625  \n2022-12-31 04:00:00           7.675694          69.895695        1015.870008  \n2022-12-31 05:00:00           8.084803          61.961520        1016.483853  \n2022-12-31 06:00:00           8.218962          54.192594        1016.579179  \n2022-12-31 07:00:00           8.134612          56.997164        1016.285588  \n2022-12-31 08:00:00           8.124779          62.580805        1016.055912  \n2022-12-31 09:00:00           8.411449          66.225106        1015.860899  \n2022-12-31 10:00:00           8.363850          61.435356        1016.162178  \n2022-12-31 11:00:00           5.816817          45.751606        1016.337031  \n2022-12-31 12:00:00           4.601228          47.061960        1015.409780  \n2022-12-31 13:00:00           3.949329          42.328904        1016.520600  \n2022-12-31 14:00:00           3.236955          45.983662        1016.498070  \n2022-12-31 15:00:00           3.685214          61.640956        1017.717781  \n2022-12-31 16:00:00           3.563208          70.512822        1018.248032  \n2022-12-31 17:00:00           2.424100          56.802524        1017.697242  \n2022-12-31 18:00:00           2.680887          28.510698        1018.255656  \n2022-12-31 19:00:00           2.616970           4.991061        1018.160540  \n2022-12-31 20:00:00           1.959533         332.580999        1017.688330  \n2022-12-31 21:00:00           2.597537         214.225104        1017.095997  \n2022-12-31 22:00:00           3.609467         186.293050        1016.261678  \n2022-12-31 23:00:00           3.115139         187.513057        1017.096833  ",
      "text/html": "<div>\n<style scoped>\n    .dataframe tbody tr th:only-of-type {\n        vertical-align: middle;\n    }\n\n    .dataframe tbody tr th {\n        vertical-align: top;\n    }\n\n    .dataframe thead th {\n        text-align: right;\n    }\n</style>\n<table border=\"1\" class=\"dataframe\">\n  <thead>\n    <tr style=\"text-align: right;\">\n      <th></th>\n      <th>WDIR(t)</th>\n      <th>WSPD(t)</th>\n      <th>PRES(t)</th>\n      <th>WSPD_ERA5(t)</th>\n      <th>WDIR_ERA5(t)</th>\n      <th>PRES_ERA5(t)</th>\n      <th>WDIR(t)_pred</th>\n      <th>WSPD(t)_pred</th>\n      <th>PRES(t)_pred</th>\n      <th>WSPD_ERA5(t)_pred</th>\n      <th>WDIR_ERA5(t)_pred</th>\n      <th>PRES_ERA5(t)_pred</th>\n    </tr>\n    <tr>\n      <th>timestamp</th>\n      <th></th>\n      <th></th>\n      <th></th>\n      <th></th>\n      <th></th>\n      <th></th>\n      <th></th>\n      <th></th>\n      <th></th>\n      <th></th>\n      <th></th>\n      <th></th>\n    </tr>\n  </thead>\n  <tbody>\n    <tr>\n      <th>2022-12-31 00:00:00</th>\n      <td>189.0</td>\n      <td>5.0</td>\n      <td>1013.5</td>\n      <td>5.057694</td>\n      <td>66.884523</td>\n      <td>1014.403047</td>\n      <td>188.511487</td>\n      <td>5.875141</td>\n      <td>1012.892656</td>\n      <td>6.955716</td>\n      <td>76.511123</td>\n      <td>1014.329291</td>\n    </tr>\n    <tr>\n      <th>2022-12-31 01:00:00</th>\n      <td>203.0</td>\n      <td>5.6</td>\n      <td>1013.8</td>\n      <td>5.587926</td>\n      <td>67.669663</td>\n      <td>1015.191389</td>\n      <td>195.363029</td>\n      <td>4.958570</td>\n      <td>1013.513761</td>\n      <td>6.719800</td>\n      <td>67.554375</td>\n      <td>1014.860011</td>\n    </tr>\n    <tr>\n      <th>2022-12-31 02:00:00</th>\n      <td>169.0</td>\n      <td>2.3</td>\n      <td>1014.5</td>\n      <td>5.840792</td>\n      <td>72.227735</td>\n      <td>1015.804887</td>\n      <td>197.093222</td>\n      <td>5.541854</td>\n      <td>1013.854648</td>\n      <td>7.262590</td>\n      <td>68.348238</td>\n      <td>1015.780335</td>\n    </tr>\n    <tr>\n      <th>2022-12-31 03:00:00</th>\n      <td>53.0</td>\n      <td>6.0</td>\n      <td>1014.8</td>\n      <td>6.463279</td>\n      <td>69.389256</td>\n      <td>1016.208879</td>\n      <td>172.070677</td>\n      <td>2.318695</td>\n      <td>1014.477424</td>\n      <td>7.387517</td>\n      <td>72.797478</td>\n      <td>1016.257625</td>\n    </tr>\n    <tr>\n      <th>2022-12-31 04:00:00</th>\n      <td>55.0</td>\n      <td>8.5</td>\n      <td>1015.2</td>\n      <td>6.500897</td>\n      <td>61.461657</td>\n      <td>1016.314402</td>\n      <td>103.891296</td>\n      <td>6.325666</td>\n      <td>1014.832072</td>\n      <td>7.675694</td>\n      <td>69.895695</td>\n      <td>1015.870008</td>\n    </tr>\n    <tr>\n      <th>2022-12-31 05:00:00</th>\n      <td>72.0</td>\n      <td>7.6</td>\n      <td>1014.9</td>\n      <td>6.541557</td>\n      <td>53.576686</td>\n      <td>1016.235452</td>\n      <td>79.556767</td>\n      <td>8.651113</td>\n      <td>1015.207445</td>\n      <td>8.084803</td>\n      <td>61.961520</td>\n      <td>1016.483853</td>\n    </tr>\n    <tr>\n      <th>2022-12-31 06:00:00</th>\n      <td>77.0</td>\n      <td>7.2</td>\n      <td>1014.4</td>\n      <td>6.465415</td>\n      <td>56.308269</td>\n      <td>1015.708607</td>\n      <td>87.234285</td>\n      <td>7.674629</td>\n      <td>1014.888717</td>\n      <td>8.218962</td>\n      <td>54.192594</td>\n      <td>1016.579179</td>\n    </tr>\n    <tr>\n      <th>2022-12-31 07:00:00</th>\n      <td>97.0</td>\n      <td>7.8</td>\n      <td>1014.1</td>\n      <td>6.487022</td>\n      <td>61.932861</td>\n      <td>1015.506803</td>\n      <td>71.169741</td>\n      <td>7.161522</td>\n      <td>1014.452869</td>\n      <td>8.134612</td>\n      <td>56.997164</td>\n      <td>1016.285588</td>\n    </tr>\n    <tr>\n      <th>2022-12-31 08:00:00</th>\n      <td>148.0</td>\n      <td>3.3</td>\n      <td>1013.9</td>\n      <td>6.690521</td>\n      <td>65.444207</td>\n      <td>1015.204484</td>\n      <td>94.172756</td>\n      <td>7.754755</td>\n      <td>1014.125072</td>\n      <td>8.124779</td>\n      <td>62.580805</td>\n      <td>1016.055912</td>\n    </tr>\n    <tr>\n      <th>2022-12-31 09:00:00</th>\n      <td>195.0</td>\n      <td>5.4</td>\n      <td>1014.0</td>\n      <td>6.661433</td>\n      <td>60.655439</td>\n      <td>1015.499486</td>\n      <td>135.328728</td>\n      <td>3.270705</td>\n      <td>1013.948716</td>\n      <td>8.411449</td>\n      <td>66.225106</td>\n      <td>1015.860899</td>\n    </tr>\n    <tr>\n      <th>2022-12-31 10:00:00</th>\n      <td>223.0</td>\n      <td>5.1</td>\n      <td>1014.4</td>\n      <td>4.087878</td>\n      <td>44.785787</td>\n      <td>1015.262637</td>\n      <td>180.421633</td>\n      <td>5.395610</td>\n      <td>1014.066055</td>\n      <td>8.363850</td>\n      <td>61.435356</td>\n      <td>1016.162178</td>\n    </tr>\n    <tr>\n      <th>2022-12-31 11:00:00</th>\n      <td>18.0</td>\n      <td>3.3</td>\n      <td>1015.0</td>\n      <td>3.082339</td>\n      <td>46.984747</td>\n      <td>1015.781780</td>\n      <td>176.727612</td>\n      <td>5.218067</td>\n      <td>1014.489420</td>\n      <td>5.816817</td>\n      <td>45.751606</td>\n      <td>1016.337031</td>\n    </tr>\n    <tr>\n      <th>2022-12-31 12:00:00</th>\n      <td>115.0</td>\n      <td>2.1</td>\n      <td>1014.9</td>\n      <td>2.253867</td>\n      <td>41.578548</td>\n      <td>1016.172677</td>\n      <td>91.999313</td>\n      <td>3.385029</td>\n      <td>1015.088979</td>\n      <td>4.601228</td>\n      <td>47.061960</td>\n      <td>1015.409780</td>\n    </tr>\n    <tr>\n      <th>2022-12-31 13:00:00</th>\n      <td>31.0</td>\n      <td>0.9</td>\n      <td>1015.4</td>\n      <td>1.868949</td>\n      <td>45.624845</td>\n      <td>1016.523137</td>\n      <td>120.025926</td>\n      <td>2.188164</td>\n      <td>1014.949152</td>\n      <td>3.949329</td>\n      <td>42.328904</td>\n      <td>1016.520600</td>\n    </tr>\n    <tr>\n      <th>2022-12-31 14:00:00</th>\n      <td>97.0</td>\n      <td>0.8</td>\n      <td>1015.9</td>\n      <td>2.137407</td>\n      <td>61.040945</td>\n      <td>1017.198254</td>\n      <td>65.448456</td>\n      <td>1.205675</td>\n      <td>1015.367363</td>\n      <td>3.236955</td>\n      <td>45.983662</td>\n      <td>1016.498070</td>\n    </tr>\n    <tr>\n      <th>2022-12-31 15:00:00</th>\n      <td>113.0</td>\n      <td>1.9</td>\n      <td>1016.6</td>\n      <td>2.001684</td>\n      <td>69.936360</td>\n      <td>1017.826386</td>\n      <td>96.098790</td>\n      <td>0.792734</td>\n      <td>1015.915983</td>\n      <td>3.685214</td>\n      <td>61.640956</td>\n      <td>1017.717781</td>\n    </tr>\n    <tr>\n      <th>2022-12-31 16:00:00</th>\n      <td>124.0</td>\n      <td>0.8</td>\n      <td>1017.1</td>\n      <td>1.689902</td>\n      <td>57.291839</td>\n      <td>1018.226912</td>\n      <td>118.124113</td>\n      <td>1.922773</td>\n      <td>1016.583579</td>\n      <td>3.563208</td>\n      <td>70.512822</td>\n      <td>1018.248032</td>\n    </tr>\n    <tr>\n      <th>2022-12-31 17:00:00</th>\n      <td>107.0</td>\n      <td>1.1</td>\n      <td>1016.6</td>\n      <td>1.136156</td>\n      <td>27.849093</td>\n      <td>1018.087498</td>\n      <td>224.894707</td>\n      <td>1.239830</td>\n      <td>1017.042935</td>\n      <td>2.424100</td>\n      <td>56.802524</td>\n      <td>1017.697242</td>\n    </tr>\n    <tr>\n      <th>2022-12-31 18:00:00</th>\n      <td>147.0</td>\n      <td>1.1</td>\n      <td>1015.9</td>\n      <td>0.956942</td>\n      <td>4.265350</td>\n      <td>1017.561423</td>\n      <td>117.626913</td>\n      <td>1.167158</td>\n      <td>1016.608227</td>\n      <td>2.680887</td>\n      <td>28.510698</td>\n      <td>1018.255656</td>\n    </tr>\n    <tr>\n      <th>2022-12-31 19:00:00</th>\n      <td>195.0</td>\n      <td>0.5</td>\n      <td>1015.0</td>\n      <td>0.601025</td>\n      <td>331.707817</td>\n      <td>1016.724556</td>\n      <td>139.641004</td>\n      <td>0.982605</td>\n      <td>1015.898425</td>\n      <td>2.616970</td>\n      <td>4.991061</td>\n      <td>1018.160540</td>\n    </tr>\n    <tr>\n      <th>2022-12-31 20:00:00</th>\n      <td>210.0</td>\n      <td>1.0</td>\n      <td>1015.0</td>\n      <td>0.979714</td>\n      <td>213.539484</td>\n      <td>1016.415689</td>\n      <td>137.209774</td>\n      <td>0.830748</td>\n      <td>1015.159086</td>\n      <td>1.959533</td>\n      <td>332.580999</td>\n      <td>1017.688330</td>\n    </tr>\n    <tr>\n      <th>2022-12-31 21:00:00</th>\n      <td>231.0</td>\n      <td>0.6</td>\n      <td>1014.7</td>\n      <td>2.067327</td>\n      <td>185.761738</td>\n      <td>1015.928896</td>\n      <td>195.028294</td>\n      <td>1.149220</td>\n      <td>1015.026880</td>\n      <td>2.597537</td>\n      <td>214.225104</td>\n      <td>1017.095997</td>\n    </tr>\n    <tr>\n      <th>2022-12-31 22:00:00</th>\n      <td>18.0</td>\n      <td>0.7</td>\n      <td>1014.9</td>\n      <td>1.554299</td>\n      <td>186.942913</td>\n      <td>1016.562420</td>\n      <td>244.635721</td>\n      <td>0.659023</td>\n      <td>1014.687279</td>\n      <td>3.609467</td>\n      <td>186.293050</td>\n      <td>1016.261678</td>\n    </tr>\n    <tr>\n      <th>2022-12-31 23:00:00</th>\n      <td>68.0</td>\n      <td>1.6</td>\n      <td>1015.0</td>\n      <td>2.206784</td>\n      <td>152.648150</td>\n      <td>1016.741116</td>\n      <td>19.927534</td>\n      <td>0.593560</td>\n      <td>1014.940531</td>\n      <td>3.115139</td>\n      <td>187.513057</td>\n      <td>1017.096833</td>\n    </tr>\n  </tbody>\n</table>\n</div>"
     },
     "execution_count": 58,
     "metadata": {},
     "output_type": "execute_result"
    }
   ],
   "source": [
    "evaluation_1 = evaluation_1.iloc[STATIONARY_SHIFT:]  # remove first n entries since there is no delta value for them\n",
    "evaluation_1"
   ],
   "metadata": {
    "collapsed": false,
    "pycharm": {
     "name": "#%%\n"
    }
   }
  },
  {
   "cell_type": "markdown",
   "source": [
    "# Correct wind direction (modulo 360)"
   ],
   "metadata": {
    "collapsed": false,
    "pycharm": {
     "name": "#%% md\n"
    }
   }
  },
  {
   "cell_type": "code",
   "execution_count": 59,
   "outputs": [
    {
     "data": {
      "text/plain": "                     WDIR(t)  WSPD(t)  PRES(t)  WSPD_ERA5(t)  WDIR_ERA5(t)  \\\ntimestamp                                                                    \n2022-12-31 00:00:00    189.0      5.0   1013.5      5.057694     66.884523   \n2022-12-31 01:00:00    203.0      5.6   1013.8      5.587926     67.669663   \n2022-12-31 02:00:00    169.0      2.3   1014.5      5.840792     72.227735   \n2022-12-31 03:00:00     53.0      6.0   1014.8      6.463279     69.389256   \n2022-12-31 04:00:00     55.0      8.5   1015.2      6.500897     61.461657   \n2022-12-31 05:00:00     72.0      7.6   1014.9      6.541557     53.576686   \n2022-12-31 06:00:00     77.0      7.2   1014.4      6.465415     56.308269   \n2022-12-31 07:00:00     97.0      7.8   1014.1      6.487022     61.932861   \n2022-12-31 08:00:00    148.0      3.3   1013.9      6.690521     65.444207   \n2022-12-31 09:00:00    195.0      5.4   1014.0      6.661433     60.655439   \n2022-12-31 10:00:00    223.0      5.1   1014.4      4.087878     44.785787   \n2022-12-31 11:00:00     18.0      3.3   1015.0      3.082339     46.984747   \n2022-12-31 12:00:00    115.0      2.1   1014.9      2.253867     41.578548   \n2022-12-31 13:00:00     31.0      0.9   1015.4      1.868949     45.624845   \n2022-12-31 14:00:00     97.0      0.8   1015.9      2.137407     61.040945   \n2022-12-31 15:00:00    113.0      1.9   1016.6      2.001684     69.936360   \n2022-12-31 16:00:00    124.0      0.8   1017.1      1.689902     57.291839   \n2022-12-31 17:00:00    107.0      1.1   1016.6      1.136156     27.849093   \n2022-12-31 18:00:00    147.0      1.1   1015.9      0.956942      4.265350   \n2022-12-31 19:00:00    195.0      0.5   1015.0      0.601025    331.707817   \n2022-12-31 20:00:00    210.0      1.0   1015.0      0.979714    213.539484   \n2022-12-31 21:00:00    231.0      0.6   1014.7      2.067327    185.761738   \n2022-12-31 22:00:00     18.0      0.7   1014.9      1.554299    186.942913   \n2022-12-31 23:00:00     68.0      1.6   1015.0      2.206784    152.648150   \n\n                     PRES_ERA5(t)  WDIR(t)_pred  WSPD(t)_pred  PRES(t)_pred  \\\ntimestamp                                                                     \n2022-12-31 00:00:00   1014.403047    188.511487      5.875141   1012.892656   \n2022-12-31 01:00:00   1015.191389    195.363029      4.958570   1013.513761   \n2022-12-31 02:00:00   1015.804887    197.093222      5.541854   1013.854648   \n2022-12-31 03:00:00   1016.208879    172.070677      2.318695   1014.477424   \n2022-12-31 04:00:00   1016.314402    103.891296      6.325666   1014.832072   \n2022-12-31 05:00:00   1016.235452     79.556767      8.651113   1015.207445   \n2022-12-31 06:00:00   1015.708607     87.234285      7.674629   1014.888717   \n2022-12-31 07:00:00   1015.506803     71.169741      7.161522   1014.452869   \n2022-12-31 08:00:00   1015.204484     94.172756      7.754755   1014.125072   \n2022-12-31 09:00:00   1015.499486    135.328728      3.270705   1013.948716   \n2022-12-31 10:00:00   1015.262637    180.421633      5.395610   1014.066055   \n2022-12-31 11:00:00   1015.781780    176.727612      5.218067   1014.489420   \n2022-12-31 12:00:00   1016.172677     91.999313      3.385029   1015.088979   \n2022-12-31 13:00:00   1016.523137    120.025926      2.188164   1014.949152   \n2022-12-31 14:00:00   1017.198254     65.448456      1.205675   1015.367363   \n2022-12-31 15:00:00   1017.826386     96.098790      0.792734   1015.915983   \n2022-12-31 16:00:00   1018.226912    118.124113      1.922773   1016.583579   \n2022-12-31 17:00:00   1018.087498    224.894707      1.239830   1017.042935   \n2022-12-31 18:00:00   1017.561423    117.626913      1.167158   1016.608227   \n2022-12-31 19:00:00   1016.724556    139.641004      0.982605   1015.898425   \n2022-12-31 20:00:00   1016.415689    137.209774      0.830748   1015.159086   \n2022-12-31 21:00:00   1015.928896    195.028294      1.149220   1015.026880   \n2022-12-31 22:00:00   1016.562420    244.635721      0.659023   1014.687279   \n2022-12-31 23:00:00   1016.741116     19.927534      0.593560   1014.940531   \n\n                     WSPD_ERA5(t)_pred  WDIR_ERA5(t)_pred  PRES_ERA5(t)_pred  \ntimestamp                                                                     \n2022-12-31 00:00:00           6.955716          76.511123        1014.329291  \n2022-12-31 01:00:00           6.719800          67.554375        1014.860011  \n2022-12-31 02:00:00           7.262590          68.348238        1015.780335  \n2022-12-31 03:00:00           7.387517          72.797478        1016.257625  \n2022-12-31 04:00:00           7.675694          69.895695        1015.870008  \n2022-12-31 05:00:00           8.084803          61.961520        1016.483853  \n2022-12-31 06:00:00           8.218962          54.192594        1016.579179  \n2022-12-31 07:00:00           8.134612          56.997164        1016.285588  \n2022-12-31 08:00:00           8.124779          62.580805        1016.055912  \n2022-12-31 09:00:00           8.411449          66.225106        1015.860899  \n2022-12-31 10:00:00           8.363850          61.435356        1016.162178  \n2022-12-31 11:00:00           5.816817          45.751606        1016.337031  \n2022-12-31 12:00:00           4.601228          47.061960        1015.409780  \n2022-12-31 13:00:00           3.949329          42.328904        1016.520600  \n2022-12-31 14:00:00           3.236955          45.983662        1016.498070  \n2022-12-31 15:00:00           3.685214          61.640956        1017.717781  \n2022-12-31 16:00:00           3.563208          70.512822        1018.248032  \n2022-12-31 17:00:00           2.424100          56.802524        1017.697242  \n2022-12-31 18:00:00           2.680887          28.510698        1018.255656  \n2022-12-31 19:00:00           2.616970           4.991061        1018.160540  \n2022-12-31 20:00:00           1.959533         332.580999        1017.688330  \n2022-12-31 21:00:00           2.597537         214.225104        1017.095997  \n2022-12-31 22:00:00           3.609467         186.293050        1016.261678  \n2022-12-31 23:00:00           3.115139         187.513057        1017.096833  ",
      "text/html": "<div>\n<style scoped>\n    .dataframe tbody tr th:only-of-type {\n        vertical-align: middle;\n    }\n\n    .dataframe tbody tr th {\n        vertical-align: top;\n    }\n\n    .dataframe thead th {\n        text-align: right;\n    }\n</style>\n<table border=\"1\" class=\"dataframe\">\n  <thead>\n    <tr style=\"text-align: right;\">\n      <th></th>\n      <th>WDIR(t)</th>\n      <th>WSPD(t)</th>\n      <th>PRES(t)</th>\n      <th>WSPD_ERA5(t)</th>\n      <th>WDIR_ERA5(t)</th>\n      <th>PRES_ERA5(t)</th>\n      <th>WDIR(t)_pred</th>\n      <th>WSPD(t)_pred</th>\n      <th>PRES(t)_pred</th>\n      <th>WSPD_ERA5(t)_pred</th>\n      <th>WDIR_ERA5(t)_pred</th>\n      <th>PRES_ERA5(t)_pred</th>\n    </tr>\n    <tr>\n      <th>timestamp</th>\n      <th></th>\n      <th></th>\n      <th></th>\n      <th></th>\n      <th></th>\n      <th></th>\n      <th></th>\n      <th></th>\n      <th></th>\n      <th></th>\n      <th></th>\n      <th></th>\n    </tr>\n  </thead>\n  <tbody>\n    <tr>\n      <th>2022-12-31 00:00:00</th>\n      <td>189.0</td>\n      <td>5.0</td>\n      <td>1013.5</td>\n      <td>5.057694</td>\n      <td>66.884523</td>\n      <td>1014.403047</td>\n      <td>188.511487</td>\n      <td>5.875141</td>\n      <td>1012.892656</td>\n      <td>6.955716</td>\n      <td>76.511123</td>\n      <td>1014.329291</td>\n    </tr>\n    <tr>\n      <th>2022-12-31 01:00:00</th>\n      <td>203.0</td>\n      <td>5.6</td>\n      <td>1013.8</td>\n      <td>5.587926</td>\n      <td>67.669663</td>\n      <td>1015.191389</td>\n      <td>195.363029</td>\n      <td>4.958570</td>\n      <td>1013.513761</td>\n      <td>6.719800</td>\n      <td>67.554375</td>\n      <td>1014.860011</td>\n    </tr>\n    <tr>\n      <th>2022-12-31 02:00:00</th>\n      <td>169.0</td>\n      <td>2.3</td>\n      <td>1014.5</td>\n      <td>5.840792</td>\n      <td>72.227735</td>\n      <td>1015.804887</td>\n      <td>197.093222</td>\n      <td>5.541854</td>\n      <td>1013.854648</td>\n      <td>7.262590</td>\n      <td>68.348238</td>\n      <td>1015.780335</td>\n    </tr>\n    <tr>\n      <th>2022-12-31 03:00:00</th>\n      <td>53.0</td>\n      <td>6.0</td>\n      <td>1014.8</td>\n      <td>6.463279</td>\n      <td>69.389256</td>\n      <td>1016.208879</td>\n      <td>172.070677</td>\n      <td>2.318695</td>\n      <td>1014.477424</td>\n      <td>7.387517</td>\n      <td>72.797478</td>\n      <td>1016.257625</td>\n    </tr>\n    <tr>\n      <th>2022-12-31 04:00:00</th>\n      <td>55.0</td>\n      <td>8.5</td>\n      <td>1015.2</td>\n      <td>6.500897</td>\n      <td>61.461657</td>\n      <td>1016.314402</td>\n      <td>103.891296</td>\n      <td>6.325666</td>\n      <td>1014.832072</td>\n      <td>7.675694</td>\n      <td>69.895695</td>\n      <td>1015.870008</td>\n    </tr>\n    <tr>\n      <th>2022-12-31 05:00:00</th>\n      <td>72.0</td>\n      <td>7.6</td>\n      <td>1014.9</td>\n      <td>6.541557</td>\n      <td>53.576686</td>\n      <td>1016.235452</td>\n      <td>79.556767</td>\n      <td>8.651113</td>\n      <td>1015.207445</td>\n      <td>8.084803</td>\n      <td>61.961520</td>\n      <td>1016.483853</td>\n    </tr>\n    <tr>\n      <th>2022-12-31 06:00:00</th>\n      <td>77.0</td>\n      <td>7.2</td>\n      <td>1014.4</td>\n      <td>6.465415</td>\n      <td>56.308269</td>\n      <td>1015.708607</td>\n      <td>87.234285</td>\n      <td>7.674629</td>\n      <td>1014.888717</td>\n      <td>8.218962</td>\n      <td>54.192594</td>\n      <td>1016.579179</td>\n    </tr>\n    <tr>\n      <th>2022-12-31 07:00:00</th>\n      <td>97.0</td>\n      <td>7.8</td>\n      <td>1014.1</td>\n      <td>6.487022</td>\n      <td>61.932861</td>\n      <td>1015.506803</td>\n      <td>71.169741</td>\n      <td>7.161522</td>\n      <td>1014.452869</td>\n      <td>8.134612</td>\n      <td>56.997164</td>\n      <td>1016.285588</td>\n    </tr>\n    <tr>\n      <th>2022-12-31 08:00:00</th>\n      <td>148.0</td>\n      <td>3.3</td>\n      <td>1013.9</td>\n      <td>6.690521</td>\n      <td>65.444207</td>\n      <td>1015.204484</td>\n      <td>94.172756</td>\n      <td>7.754755</td>\n      <td>1014.125072</td>\n      <td>8.124779</td>\n      <td>62.580805</td>\n      <td>1016.055912</td>\n    </tr>\n    <tr>\n      <th>2022-12-31 09:00:00</th>\n      <td>195.0</td>\n      <td>5.4</td>\n      <td>1014.0</td>\n      <td>6.661433</td>\n      <td>60.655439</td>\n      <td>1015.499486</td>\n      <td>135.328728</td>\n      <td>3.270705</td>\n      <td>1013.948716</td>\n      <td>8.411449</td>\n      <td>66.225106</td>\n      <td>1015.860899</td>\n    </tr>\n    <tr>\n      <th>2022-12-31 10:00:00</th>\n      <td>223.0</td>\n      <td>5.1</td>\n      <td>1014.4</td>\n      <td>4.087878</td>\n      <td>44.785787</td>\n      <td>1015.262637</td>\n      <td>180.421633</td>\n      <td>5.395610</td>\n      <td>1014.066055</td>\n      <td>8.363850</td>\n      <td>61.435356</td>\n      <td>1016.162178</td>\n    </tr>\n    <tr>\n      <th>2022-12-31 11:00:00</th>\n      <td>18.0</td>\n      <td>3.3</td>\n      <td>1015.0</td>\n      <td>3.082339</td>\n      <td>46.984747</td>\n      <td>1015.781780</td>\n      <td>176.727612</td>\n      <td>5.218067</td>\n      <td>1014.489420</td>\n      <td>5.816817</td>\n      <td>45.751606</td>\n      <td>1016.337031</td>\n    </tr>\n    <tr>\n      <th>2022-12-31 12:00:00</th>\n      <td>115.0</td>\n      <td>2.1</td>\n      <td>1014.9</td>\n      <td>2.253867</td>\n      <td>41.578548</td>\n      <td>1016.172677</td>\n      <td>91.999313</td>\n      <td>3.385029</td>\n      <td>1015.088979</td>\n      <td>4.601228</td>\n      <td>47.061960</td>\n      <td>1015.409780</td>\n    </tr>\n    <tr>\n      <th>2022-12-31 13:00:00</th>\n      <td>31.0</td>\n      <td>0.9</td>\n      <td>1015.4</td>\n      <td>1.868949</td>\n      <td>45.624845</td>\n      <td>1016.523137</td>\n      <td>120.025926</td>\n      <td>2.188164</td>\n      <td>1014.949152</td>\n      <td>3.949329</td>\n      <td>42.328904</td>\n      <td>1016.520600</td>\n    </tr>\n    <tr>\n      <th>2022-12-31 14:00:00</th>\n      <td>97.0</td>\n      <td>0.8</td>\n      <td>1015.9</td>\n      <td>2.137407</td>\n      <td>61.040945</td>\n      <td>1017.198254</td>\n      <td>65.448456</td>\n      <td>1.205675</td>\n      <td>1015.367363</td>\n      <td>3.236955</td>\n      <td>45.983662</td>\n      <td>1016.498070</td>\n    </tr>\n    <tr>\n      <th>2022-12-31 15:00:00</th>\n      <td>113.0</td>\n      <td>1.9</td>\n      <td>1016.6</td>\n      <td>2.001684</td>\n      <td>69.936360</td>\n      <td>1017.826386</td>\n      <td>96.098790</td>\n      <td>0.792734</td>\n      <td>1015.915983</td>\n      <td>3.685214</td>\n      <td>61.640956</td>\n      <td>1017.717781</td>\n    </tr>\n    <tr>\n      <th>2022-12-31 16:00:00</th>\n      <td>124.0</td>\n      <td>0.8</td>\n      <td>1017.1</td>\n      <td>1.689902</td>\n      <td>57.291839</td>\n      <td>1018.226912</td>\n      <td>118.124113</td>\n      <td>1.922773</td>\n      <td>1016.583579</td>\n      <td>3.563208</td>\n      <td>70.512822</td>\n      <td>1018.248032</td>\n    </tr>\n    <tr>\n      <th>2022-12-31 17:00:00</th>\n      <td>107.0</td>\n      <td>1.1</td>\n      <td>1016.6</td>\n      <td>1.136156</td>\n      <td>27.849093</td>\n      <td>1018.087498</td>\n      <td>224.894707</td>\n      <td>1.239830</td>\n      <td>1017.042935</td>\n      <td>2.424100</td>\n      <td>56.802524</td>\n      <td>1017.697242</td>\n    </tr>\n    <tr>\n      <th>2022-12-31 18:00:00</th>\n      <td>147.0</td>\n      <td>1.1</td>\n      <td>1015.9</td>\n      <td>0.956942</td>\n      <td>4.265350</td>\n      <td>1017.561423</td>\n      <td>117.626913</td>\n      <td>1.167158</td>\n      <td>1016.608227</td>\n      <td>2.680887</td>\n      <td>28.510698</td>\n      <td>1018.255656</td>\n    </tr>\n    <tr>\n      <th>2022-12-31 19:00:00</th>\n      <td>195.0</td>\n      <td>0.5</td>\n      <td>1015.0</td>\n      <td>0.601025</td>\n      <td>331.707817</td>\n      <td>1016.724556</td>\n      <td>139.641004</td>\n      <td>0.982605</td>\n      <td>1015.898425</td>\n      <td>2.616970</td>\n      <td>4.991061</td>\n      <td>1018.160540</td>\n    </tr>\n    <tr>\n      <th>2022-12-31 20:00:00</th>\n      <td>210.0</td>\n      <td>1.0</td>\n      <td>1015.0</td>\n      <td>0.979714</td>\n      <td>213.539484</td>\n      <td>1016.415689</td>\n      <td>137.209774</td>\n      <td>0.830748</td>\n      <td>1015.159086</td>\n      <td>1.959533</td>\n      <td>332.580999</td>\n      <td>1017.688330</td>\n    </tr>\n    <tr>\n      <th>2022-12-31 21:00:00</th>\n      <td>231.0</td>\n      <td>0.6</td>\n      <td>1014.7</td>\n      <td>2.067327</td>\n      <td>185.761738</td>\n      <td>1015.928896</td>\n      <td>195.028294</td>\n      <td>1.149220</td>\n      <td>1015.026880</td>\n      <td>2.597537</td>\n      <td>214.225104</td>\n      <td>1017.095997</td>\n    </tr>\n    <tr>\n      <th>2022-12-31 22:00:00</th>\n      <td>18.0</td>\n      <td>0.7</td>\n      <td>1014.9</td>\n      <td>1.554299</td>\n      <td>186.942913</td>\n      <td>1016.562420</td>\n      <td>244.635721</td>\n      <td>0.659023</td>\n      <td>1014.687279</td>\n      <td>3.609467</td>\n      <td>186.293050</td>\n      <td>1016.261678</td>\n    </tr>\n    <tr>\n      <th>2022-12-31 23:00:00</th>\n      <td>68.0</td>\n      <td>1.6</td>\n      <td>1015.0</td>\n      <td>2.206784</td>\n      <td>152.648150</td>\n      <td>1016.741116</td>\n      <td>19.927534</td>\n      <td>0.593560</td>\n      <td>1014.940531</td>\n      <td>3.115139</td>\n      <td>187.513057</td>\n      <td>1017.096833</td>\n    </tr>\n  </tbody>\n</table>\n</div>"
     },
     "execution_count": 59,
     "metadata": {},
     "output_type": "execute_result"
    }
   ],
   "source": [
    "# Get the list of columns starting with \"WDIR\"\n",
    "wdir_columns = [col for col in evaluation_1.columns if col.startswith(\"WDIR\")]\n",
    "\n",
    "# Modify the values in the selected columns\n",
    "evaluation_1[wdir_columns] = evaluation_1[wdir_columns] % 360\n",
    "\n",
    "evaluation_1"
   ],
   "metadata": {
    "collapsed": false,
    "pycharm": {
     "name": "#%%\n"
    }
   }
  },
  {
   "cell_type": "code",
   "execution_count": 60,
   "outputs": [],
   "source": [
    "# wtmp_true = [col for col in evaluation_1.columns if col.startswith(\"WTMP\")][0]\n",
    "#\n",
    "# mae = mean_absolute_error(evaluation_1[wtmp_true], evaluation_1[f\"{wtmp_true}_pred\"])\n",
    "# mse = mean_squared_error(evaluation_1[wtmp_true], evaluation_1[f\"{wtmp_true}_pred\"])\n",
    "# print('MAE: ', mae)\n",
    "# print('MSE: ', mse)"
   ],
   "metadata": {
    "collapsed": false,
    "pycharm": {
     "name": "#%%\n"
    }
   }
  },
  {
   "cell_type": "code",
   "execution_count": 61,
   "outputs": [],
   "source": [
    "#evaluation_1.plot(kind='line')"
   ],
   "metadata": {
    "collapsed": false,
    "pycharm": {
     "name": "#%%\n"
    }
   }
  },
  {
   "cell_type": "markdown",
   "source": [
    "---\n",
    "# SAVE"
   ],
   "metadata": {
    "collapsed": false,
    "pycharm": {
     "name": "#%% md\n"
    }
   }
  },
  {
   "cell_type": "code",
   "execution_count": 62,
   "outputs": [],
   "source": [
    "# create a text input widget for username\n",
    "# filename_widget = widgets.Text(\n",
    "#     value='',\n",
    "#     placeholder='Enter filename',\n",
    "#     description='Filename:',\n",
    "#     disabled=False\n",
    "# )\n",
    "# # add '.csv' to the description\n",
    "# extension_label = widgets.Label('.pickle')\n",
    "#\n",
    "# # display the widget\n",
    "# display(widgets.HBox([filename_widget, extension_label]))\n",
    "#\n",
    "# print(\"Please also check if the reports description needs to be changed!\")"
   ],
   "metadata": {
    "collapsed": false,
    "pycharm": {
     "name": "#%%\n"
    }
   }
  },
  {
   "cell_type": "code",
   "execution_count": 63,
   "outputs": [],
   "source": [
    "report_description=\"Executed with Test_ML_Models_B script!\""
   ],
   "metadata": {
    "collapsed": false,
    "pycharm": {
     "name": "#%%\n"
    }
   }
  },
  {
   "cell_type": "code",
   "execution_count": 64,
   "outputs": [
    {
     "name": "stdout",
     "output_type": "stream",
     "text": [
      "File successfully saved:\n",
      "data/reports/report_B_LSTM_1.0.pickle\n"
     ]
    }
   ],
   "source": [
    "#filename = filename_widget.value\n",
    "\n",
    "filename = \"report_B_LSTM_1.0\"\n",
    "\n",
    "\n",
    "if filename == \"\":\n",
    "    print(\"Enter a valid filename!\")\n",
    "\n",
    "else:\n",
    "    #Save Data About executed Test:\n",
    "\n",
    "    #Convert model summary to string\n",
    "    stringlist = []\n",
    "    model.summary(print_fn=lambda x: stringlist.append(x))\n",
    "    model_summary = \"\\n\".join(stringlist)\n",
    "\n",
    "    report = Experiment(\n",
    "        name=filename,\n",
    "        description=report_description,\n",
    "\n",
    "        stations = dataset[\"files\"],\n",
    "        years = [\"not available\"],\n",
    "        nan_threshold=dataset[\"nan_threshold\"],\n",
    "        features=dataset[\"features\"],\n",
    "        era5=dataset[\"add_era5\"],\n",
    "\n",
    "        stationary_shift=STATIONARY_SHIFT,\n",
    "        # lag=1,\n",
    "        n_test_hours=dataset[\"num_test_hours\"],\n",
    "\n",
    "        #stationary=STATIONARY,\n",
    "        scaler=None, #SCALER,\n",
    "\n",
    "        model_name = MODEL_NAME,\n",
    "        model_summary=model_summary,\n",
    "        training_time = TRAINING_TIME,\n",
    "\n",
    "        one_shot_forecast = evaluation_1,\n",
    "        recursive_forecast = None\n",
    "    )\n",
    "\n",
    "\n",
    "    # open a file for writing in binary mode\n",
    "    filepath = f'data/reports/{filename}.pickle'\n",
    "    with open(filepath, 'wb') as f:\n",
    "        # write the object to the file using pickle.dump()\n",
    "        pickle.dump(report, f)\n",
    "        print(\"File successfully saved:\")\n",
    "        print(filepath)"
   ],
   "metadata": {
    "collapsed": false,
    "pycharm": {
     "name": "#%%\n"
    }
   }
  },
  {
   "cell_type": "code",
   "execution_count": 64,
   "outputs": [],
   "source": [],
   "metadata": {
    "collapsed": false,
    "pycharm": {
     "name": "#%%\n"
    }
   }
  },
  {
   "cell_type": "code",
   "execution_count": 65,
   "outputs": [
    {
     "name": "stdout",
     "output_type": "stream",
     "text": [
      "DONE!\n"
     ]
    }
   ],
   "source": [
    "print(\"DONE!\")"
   ],
   "metadata": {
    "collapsed": false,
    "pycharm": {
     "name": "#%%\n"
    }
   }
  },
  {
   "cell_type": "code",
   "execution_count": null,
   "outputs": [],
   "source": [],
   "metadata": {
    "collapsed": false,
    "pycharm": {
     "name": "#%%\n"
    }
   }
  }
 ],
 "metadata": {
  "kernelspec": {
   "display_name": "Python 3",
   "language": "python",
   "name": "python3"
  },
  "language_info": {
   "codemirror_mode": {
    "name": "ipython",
    "version": 2
   },
   "file_extension": ".py",
   "mimetype": "text/x-python",
   "name": "python",
   "nbconvert_exporter": "python",
   "pygments_lexer": "ipython2",
   "version": "2.7.6"
  }
 },
 "nbformat": 4,
 "nbformat_minor": 0
}