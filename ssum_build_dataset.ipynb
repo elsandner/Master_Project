{
 "cells": [
  {
   "cell_type": "markdown",
   "source": [
    "# Build Dataset B\n",
    "\n",
    "## Description of approach B:\n",
    "\n",
    "The idea is to find data records of single buoys that provide all measurements [“WDIR”, “WSPD”, “WVHT”, “APD”, “MWD”, “PRES”, “ATMP”, “WTMP”, “DEWP”].\n",
    "\n",
    "### TODO: detailed description after implementation!"
   ],
   "metadata": {
    "collapsed": false,
    "pycharm": {
     "name": "#%% md\n"
    }
   }
  },
  {
   "cell_type": "code",
   "execution_count": 3,
   "outputs": [],
   "source": [
    "import pickle\n",
    "import pandas as pd\n",
    "import script_utils as mL\n",
    "import datetime\n",
    "import ipywidgets as widgets\n",
    "from IPython.display import display\n",
    "NDBC = mL.NDBC_lib"
   ],
   "metadata": {
    "collapsed": false,
    "pycharm": {
     "name": "#%%\n"
    }
   }
  },
  {
   "cell_type": "markdown",
   "source": [
    "---\n",
    "# Parameter:"
   ],
   "metadata": {
    "collapsed": false,
    "pycharm": {
     "name": "#%% md\n"
    }
   }
  },
  {
   "cell_type": "code",
   "execution_count": 4,
   "outputs": [
    {
     "data": {
      "text/plain": "HBox(children=(VBox(children=(HTML(value='<h2>Train Set:</h2>'), Box(children=(GridBox(children=(Checkbox(valu…",
      "application/vnd.jupyter.widget-view+json": {
       "version_major": 2,
       "version_minor": 0,
       "model_id": "efb76093107646ed803a84949f5261a3"
      }
     },
     "metadata": {},
     "output_type": "display_data"
    }
   ],
   "source": [
    "def build_UI():\n",
    "    #STATIONS -----------------------------------------------------------------------------------\n",
    "    # create a list of checkbox widgets for each station\n",
    "    stations = []\n",
    "    for station in NDBC.cleaned_stations_GOM:\n",
    "        checkbox = widgets.Checkbox(value=False, description=station, disabled=False, indent=False)\n",
    "        stations.append(checkbox)\n",
    "\n",
    "    # create a GridBox layout container with two columns\n",
    "    global stations_grid\n",
    "    stations_grid = widgets.GridBox(stations, layout=widgets.Layout(grid_template_columns=\"repeat(3, 300px)\"))\n",
    "\n",
    "    # wrap the GridBox inside a Box layout container with a fixed height and scrollable overflow\n",
    "    stations_box = widgets.Box(children=[stations_grid], layout=widgets.Layout(height=\"200px\", overflow=\"scroll\"))\n",
    "\n",
    "\n",
    "    #Years --------------------------------------------------------------------------------------\n",
    "    # create a range slider widget for selecting a time range\n",
    "    global time_range_slider\n",
    "    time_range_slider = widgets.SelectionRangeSlider(\n",
    "        options=list(range(1970, 2023)),  # range of years to select from\n",
    "        index=(51, 52),  # initial range selected (1970-2023)\n",
    "        description='Time Range:',\n",
    "        orientation='horizontal',\n",
    "        layout={'width': '500px'}\n",
    "    )\n",
    "\n",
    "\n",
    "    #NaN_Theshold--------------------------------------------------------------------------------\n",
    "    # create a FloatSlider widget for a value between 0 and 1\n",
    "    global nan_threshold_slider\n",
    "    nan_threshold_slider = widgets.FloatSlider(\n",
    "        value=0.5,\n",
    "        min=0,\n",
    "        max=1,\n",
    "        step=0.01,\n",
    "        readout_format='.2f',\n",
    "        orientation='horizontal',\n",
    "        layout={'width': '500px'},\n",
    "        description=''\n",
    "    )\n",
    "\n",
    "    #Features--------------------------------------------------------------------------------\n",
    "    features = []\n",
    "    for feature in [\"WDIR\", \"WSPD\", \"WVHT\", \"APD\", \"MWD\", \"PRES\", \"ATMP\", \"WTMP\", \"DEWP\"]:\n",
    "        checkbox = widgets.Checkbox(value=False, description=feature, disabled=False, indent=False)\n",
    "        features.append(checkbox)\n",
    "\n",
    "    global feature_container\n",
    "    feature_container = widgets.HBox(features)\n",
    "\n",
    "    #ERA5------------------------------------------------------------------------------------\n",
    "    global era5_checkbox\n",
    "    era5_checkbox = widgets.Checkbox(value=True, description=\"Add ERA5 data\", disabled=False, indent=False)\n",
    "\n",
    "    #Supervised:\n",
    "    n_in_dropdown = widgets.Dropdown(\n",
    "        options=[1, 2, 3, 4, 5, 6, 7, 8, 9, 10],\n",
    "        value=3,\n",
    "        description='n_in:',\n",
    "        disabled=False,\n",
    "    )\n",
    "    n_out_dropdown = widgets.Dropdown(\n",
    "        options=[1, 2, 3, 4, 5, 6, 7, 8, 9, 10],\n",
    "        value=1,\n",
    "        description='n_out:',\n",
    "        disabled=False,\n",
    "    )\n",
    "\n",
    "    #Test\n",
    "    test_station_dropdown = widgets.Dropdown(\n",
    "        options=NDBC.cleaned_stations_GOM,\n",
    "        value='41117',\n",
    "        description='Test Station:',\n",
    "        disabled=False,\n",
    "    )\n",
    "\n",
    "    test_year_dropdown = widgets.Dropdown(\n",
    "        options=range(2022, 1970, -1),\n",
    "        value=2022,\n",
    "        description='Test Year:',\n",
    "        disabled=False,\n",
    "    )\n",
    "\n",
    "    # Test Hours-------------------------------------------------------------------------------\n",
    "    global test_hours_widget\n",
    "    test_hours_widget = widgets.IntSlider(\n",
    "        value=24,\n",
    "        min=0,\n",
    "        max=1000,\n",
    "        step=1,\n",
    "        description='Test Hours:',\n",
    "        disabled=False,\n",
    "        continuous_update=False,\n",
    "        orientation='horizontal',\n",
    "        readout=True,\n",
    "        readout_format='d'\n",
    "    )\n",
    "\n",
    "    filename_widget = widgets.Text(\n",
    "        value='',\n",
    "        placeholder='Enter filename',\n",
    "        description='Filename:',\n",
    "        disabled=False\n",
    "    )\n",
    "\n",
    "\n",
    "\n",
    "    left_box = widgets.VBox([\n",
    "        widgets.HTML(value=\"<h2>Train Set:</h2>\"),\n",
    "        stations_box,\n",
    "        time_range_slider,\n",
    "        widgets.HBox([widgets.HTML(value=\"<b>NaN-Threshold:</b>\"), nan_threshold_slider]),\n",
    "        nan_threshold_slider,\n",
    "        feature_container,\n",
    "        era5_checkbox,\n",
    "        #widgets.HBox([widgets.HTML(value=\"<b>Supervised:</b>\"), n_in_dropdown, n_out_dropdown])\n",
    "        ],\n",
    "        layout=widgets.Layout(width='60%')\n",
    "    )\n",
    "\n",
    "    right_box = widgets.VBox([\n",
    "        widgets.HTML(value=\"<h2>Test Set:</h2>\"),\n",
    "        test_station_dropdown,\n",
    "        test_year_dropdown,\n",
    "        test_hours_widget,\n",
    "\n",
    "        widgets.HTML(value=\"<h2>Supervised:</h2>\"),\n",
    "        n_in_dropdown,\n",
    "        n_out_dropdown,\n",
    "\n",
    "        widgets.HTML(value=\"<h2>Filename:</h2>\"),\n",
    "        filename_widget\n",
    "\n",
    "    ])\n",
    "\n",
    "    display(widgets.HBox([left_box, right_box]))\n",
    "\n",
    "\n",
    "\n",
    "build_UI()\n",
    "\n",
    "# UI looks quite ok but should has no functionality :D\n",
    "# TODO if find time: implement functionality + improve design"
   ],
   "metadata": {
    "collapsed": false,
    "pycharm": {
     "name": "#%%\n"
    }
   }
  },
  {
   "cell_type": "code",
   "execution_count": 17,
   "outputs": [],
   "source": [
    "# Optional build files list by stations and years\n",
    "# stations = [ '42001',\n",
    "#              '42002',\n",
    "#              '42003',\n",
    "#              '42007',\n",
    "#              '42012',\n",
    "#              '42019',\n",
    "#              '42020',\n",
    "#              '42035',\n",
    "#              '42036',\n",
    "#              '42038',\n",
    "#              '42039',\n",
    "#              '42040',\n",
    "#              '42041',\n",
    "#              '42055']\n",
    "#\n",
    "# years = ['2002',\n",
    "#          '2003',\n",
    "#          '2004',\n",
    "#          '2005',\n",
    "#          '2006',\n",
    "#          '2007',\n",
    "#          '2008',\n",
    "#          '2009',\n",
    "#          '2010',\n",
    "#          '2011',\n",
    "#          '2012',\n",
    "#          '2013',\n",
    "#          '2014',\n",
    "#          '2015',\n",
    "#          '2016',\n",
    "#          '2017',\n",
    "#          '2018',\n",
    "#          '2019',\n",
    "#          '2020',\n",
    "#          '2021',\n",
    "#          '2022']\n",
    "#\n",
    "#\n",
    "# files = []\n",
    "# for year in years:\n",
    "#     for station in stations:\n",
    "#         files.append([station, year])\n",
    "#\n",
    "# files"
   ],
   "metadata": {
    "collapsed": false,
    "pycharm": {
     "name": "#%%\n"
    }
   }
  },
  {
   "cell_type": "code",
   "execution_count": 18,
   "outputs": [],
   "source": [
    "files = [['42001', '2002'], ['42002', '2002'], ['42003', '2002'], ['42007', '2002'], ['42019', '2002'], ['42020', '2002'], ['42035', '2002'], ['42036', '2002'], ['42039', '2002'], ['42040', '2002'], ['42041', '2002'], ['42001', '2003'], ['42002', '2003'], ['42003', '2003'], ['42007', '2003'], ['42019', '2003'], ['42020', '2003'], ['42035', '2003'], ['42036', '2003'], ['42039', '2003'], ['42040', '2003'], ['42041', '2003'], ['42001', '2004'], ['42002', '2004'], ['42003', '2004'], ['42007', '2004'], ['42019', '2004'], ['42020', '2004'], ['42035', '2004'], ['42036', '2004'], ['42038', '2004'], ['42039', '2004'], ['42040', '2004'], ['42041', '2004'], ['42001', '2005'], ['42002', '2005'], ['42003', '2005'], ['42007', '2005'], ['42019', '2005'], ['42020', '2005'], ['42035', '2005'], ['42036', '2005'], ['42038', '2005'], ['42039', '2005'], ['42040', '2005'], ['42041', '2005'], ['42055', '2005'], ['42001', '2006'], ['42002', '2006'], ['42003', '2006'], ['42007', '2006'], ['42019', '2006'], ['42020', '2006'], ['42035', '2006'], ['42036', '2006'], ['42038', '2006'], ['42039', '2006'], ['42040', '2006'], ['42055', '2006'], ['42001', '2007'], ['42002', '2007'], ['42003', '2007'], ['42007', '2007'], ['42019', '2007'], ['42020', '2007'], ['42035', '2007'], ['42036', '2007'], ['42039', '2007'], ['42040', '2007'], ['42055', '2007'], ['42001', '2008'], ['42002', '2008'], ['42003', '2008'], ['42007', '2008'], ['42019', '2008'], ['42020', '2008'], ['42035', '2008'], ['42036', '2008'], ['42039', '2008'], ['42040', '2008'], ['42055', '2008'], ['42001', '2009'], ['42002', '2009'], ['42003', '2009'], ['42007', '2009'], ['42012', '2009'], ['42019', '2009'], ['42020', '2009'], ['42035', '2009'], ['42036', '2009'], ['42039', '2009'], ['42040', '2009'], ['42055', '2009'], ['42001', '2010'], ['42002', '2010'], ['42003', '2010'], ['42012', '2010'], ['42019', '2010'], ['42020', '2010'], ['42035', '2010'], ['42036', '2010'], ['42039', '2010'], ['42040', '2010'], ['42055', '2010'], ['42001', '2011'], ['42002', '2011'], ['42003', '2011'], ['42012', '2011'], ['42019', '2011'], ['42020', '2011'], ['42035', '2011'], ['42036', '2011'], ['42039', '2011'], ['42040', '2011'], ['42055', '2011'], ['42001', '2012'], ['42002', '2012'], ['42003', '2012'], ['42012', '2012'], ['42019', '2012'], ['42020', '2012'], ['42035', '2012'], ['42036', '2012'], ['42039', '2012'], ['42040', '2012'], ['42055', '2012'], ['42001', '2013'], ['42002', '2013'], ['42003', '2013'], ['42012', '2013'], ['42019', '2013'], ['42020', '2013'], ['42035', '2013'], ['42036', '2013'], ['42039', '2013'], ['42040', '2013'], ['42055', '2013'], ['42001', '2014'], ['42002', '2014'], ['42003', '2014'], ['42012', '2014'], ['42019', '2014'], ['42020', '2014'], ['42035', '2014'], ['42036', '2014'], ['42039', '2014'], ['42040', '2014'], ['42055', '2014'], ['42001', '2015'], ['42002', '2015'], ['42003', '2015'], ['42012', '2015'], ['42019', '2015'], ['42020', '2015'], ['42035', '2015'], ['42036', '2015'], ['42039', '2015'], ['42040', '2015'], ['42055', '2015'], ['42001', '2016'], ['42002', '2016'], ['42003', '2016'], ['42012', '2016'], ['42019', '2016'], ['42020', '2016'], ['42035', '2016'], ['42036', '2016'], ['42039', '2016'], ['42040', '2016'], ['42055', '2016'], ['42001', '2017'], ['42002', '2017'], ['42003', '2017'], ['42012', '2017'], ['42019', '2017'], ['42020', '2017'], ['42035', '2017'], ['42036', '2017'], ['42039', '2017'], ['42040', '2017'], ['42055', '2017'], ['42001', '2018'], ['42002', '2018'], ['42003', '2018'], ['42012', '2018'], ['42019', '2018'], ['42020', '2018'], ['42035', '2018'], ['42039', '2018'], ['42040', '2018'], ['42055', '2018'], ['42001', '2019'], ['42002', '2019'], ['42003', '2019'], ['42012', '2019'], ['42019', '2019'], ['42020', '2019'], ['42035', '2019'], ['42036', '2019'], ['42039', '2019'], ['42040', '2019'], ['42055', '2019'], ['42001', '2020'], ['42002', '2020'], ['42003', '2020'], ['42012', '2020'], ['42019', '2020'], ['42020', '2020'], ['42035', '2020'], ['42036', '2020'], ['42039', '2020'], ['42040', '2020'], ['42055', '2020'], ['42001', '2021'], ['42002', '2021'], ['42003', '2021'], ['42012', '2021'], ['42019', '2021'], ['42020', '2021'], ['42035', '2021'], ['42036', '2021'], ['42039', '2021'], ['42040', '2021'], ['42055', '2021'], ['42001', '2022'], ['42002', '2022'], ['42003', '2022'], ['42012', '2022'], ['42019', '2022'], ['42020', '2022'], ['42035', '2022'], ['42036', '2022'], ['42039', '2022'], ['42040', '2022'], ['42055', '2022']]\n",
    "\n",
    "#List created in development/station_selection.ipynb"
   ],
   "metadata": {
    "collapsed": false,
    "pycharm": {
     "name": "#%%\n"
    }
   }
  },
  {
   "cell_type": "code",
   "execution_count": 19,
   "outputs": [],
   "source": [
    "features =  mL.measurements     # [\"WDIR\", \"WSPD\", \"WVHT\", \"APD\", \"MWD\", \"PRES\", \"ATMP\", \"WTMP\", \"DEWP\"]\n",
    "add_ERA5 = True\n",
    "n_in=3  #CHANGED!\n",
    "n_out=1\n",
    "nan_threshold = 0.5    # used for feature selection\n",
    "\n",
    "# Test data:1\n",
    "station_id = \"42001\"\n",
    "year = \"2022\"\n",
    "num_test_hours = 24\n",
    "\n",
    "# Save as:\n",
    "filename = \"GOM_buoys_since2002_nan50\""
   ],
   "metadata": {
    "collapsed": false,
    "pycharm": {
     "name": "#%%\n"
    }
   }
  },
  {
   "cell_type": "markdown",
   "source": [
    "---"
   ],
   "metadata": {
    "collapsed": false,
    "pycharm": {
     "name": "#%% md\n"
    }
   }
  },
  {
   "cell_type": "code",
   "execution_count": 20,
   "outputs": [],
   "source": [
    "#Correction of num_test_hours:\n",
    "num_test_hours = num_test_hours + n_in"
   ],
   "metadata": {
    "collapsed": false,
    "pycharm": {
     "name": "#%%\n"
    }
   }
  },
  {
   "cell_type": "code",
   "execution_count": 21,
   "outputs": [
    {
     "name": "stdout",
     "output_type": "stream",
     "text": [
      "from disc\n",
      "from disc\n",
      "from disc\n",
      "from disc\n",
      "from disc\n",
      "from disc\n",
      "from disc\n",
      "from disc\n",
      "from disc\n",
      "from disc\n",
      "from disc\n",
      "from disc\n",
      "from disc\n",
      "from disc\n",
      "from disc\n",
      "from disc\n",
      "from disc\n",
      "from disc\n",
      "from disc\n",
      "from disc\n",
      "from disc\n",
      "from disc\n",
      "from disc\n",
      "from disc\n",
      "from disc\n",
      "from disc\n",
      "from disc\n",
      "from disc\n",
      "from disc\n",
      "from disc\n",
      "from disc\n",
      "from disc\n",
      "from disc\n",
      "from disc\n",
      "from disc\n",
      "from disc\n",
      "from disc\n",
      "from disc\n",
      "from disc\n",
      "from disc\n",
      "from disc\n",
      "from disc\n",
      "from disc\n",
      "from disc\n",
      "from disc\n",
      "from disc\n",
      "from disc\n",
      "from disc\n",
      "from disc\n",
      "from disc\n",
      "from disc\n",
      "from disc\n",
      "from disc\n",
      "from disc\n",
      "from disc\n",
      "from disc\n",
      "from disc\n",
      "from disc\n",
      "from disc\n",
      "from disc\n",
      "from disc\n",
      "from disc\n",
      "from disc\n",
      "from disc\n",
      "from disc\n",
      "from disc\n",
      "from disc\n",
      "from disc\n",
      "from disc\n",
      "from disc\n",
      "from disc\n",
      "from disc\n",
      "from disc\n",
      "from disc\n",
      "from disc\n",
      "from disc\n",
      "from disc\n",
      "from disc\n",
      "from disc\n",
      "from disc\n",
      "from disc\n",
      "from disc\n",
      "from disc\n",
      "from disc\n",
      "from disc\n",
      "from disc\n",
      "from disc\n",
      "from disc\n",
      "from disc\n",
      "from disc\n",
      "from disc\n",
      "from disc\n",
      "from disc\n",
      "from disc\n",
      "from disc\n",
      "from disc\n",
      "from disc\n",
      "from disc\n",
      "from disc\n",
      "from disc\n",
      "from disc\n",
      "from disc\n",
      "from disc\n",
      "from disc\n",
      "from disc\n",
      "from disc\n",
      "from disc\n",
      "from disc\n",
      "from disc\n",
      "from disc\n",
      "from disc\n",
      "from disc\n",
      "from disc\n",
      "from disc\n",
      "from disc\n",
      "from disc\n",
      "from disc\n",
      "from disc\n",
      "from disc\n",
      "from disc\n",
      "from disc\n",
      "from disc\n",
      "from disc\n",
      "from disc\n",
      "from disc\n",
      "from disc\n",
      "from disc\n",
      "from disc\n",
      "from disc\n",
      "from disc\n",
      "from disc\n",
      "from disc\n",
      "from disc\n",
      "from disc\n",
      "from disc\n",
      "from disc\n",
      "from disc\n",
      "from disc\n",
      "from disc\n",
      "from disc\n",
      "from disc\n",
      "from disc\n",
      "from disc\n",
      "from disc\n",
      "from disc\n",
      "from disc\n",
      "from disc\n",
      "from disc\n",
      "from disc\n",
      "from disc\n",
      "from disc\n",
      "from disc\n",
      "from disc\n",
      "from disc\n",
      "from disc\n",
      "from disc\n",
      "from disc\n",
      "from disc\n",
      "from disc\n",
      "from disc\n",
      "from disc\n",
      "from disc\n",
      "from disc\n",
      "from disc\n",
      "from disc\n",
      "from disc\n",
      "from disc\n",
      "from disc\n",
      "from disc\n",
      "from disc\n",
      "from disc\n",
      "from disc\n",
      "from disc\n",
      "from disc\n",
      "from disc\n",
      "from disc\n",
      "from disc\n",
      "from disc\n",
      "from disc\n",
      "from disc\n",
      "from disc\n",
      "from disc\n",
      "from disc\n",
      "from disc\n",
      "from disc\n",
      "from disc\n",
      "from disc\n",
      "from disc\n",
      "from disc\n",
      "from disc\n",
      "from disc\n",
      "from disc\n",
      "from disc\n",
      "Found 1 duplicates is 42002h2019 and removed them!\n",
      "from disc\n",
      "from disc\n",
      "from disc\n",
      "from disc\n",
      "from disc\n",
      "from disc\n",
      "from disc\n",
      "from disc\n",
      "from disc\n",
      "from disc\n",
      "from disc\n",
      "from disc\n",
      "from disc\n",
      "from disc\n",
      "from disc\n",
      "from disc\n",
      "from disc\n",
      "from disc\n",
      "from disc\n",
      "from disc\n",
      "from disc\n",
      "from disc\n",
      "from disc\n",
      "from disc\n",
      "from disc\n",
      "from disc\n",
      "from disc\n",
      "from disc\n",
      "from disc\n",
      "from disc\n",
      "from disc\n",
      "from disc\n",
      "from disc\n",
      "from disc\n",
      "from disc\n",
      "from disc\n",
      "from disc\n",
      "from disc\n",
      "from disc\n",
      "from disc\n",
      "from disc\n",
      "from disc\n",
      "Removed 0 rows with NaN values!\n"
     ]
    }
   ],
   "source": [
    "train = mL.get_data_B(files, features, n_in, n_out, nan_threshold, add_ERA5)"
   ],
   "metadata": {
    "collapsed": false,
    "pycharm": {
     "name": "#%%\n"
    }
   }
  },
  {
   "cell_type": "code",
   "execution_count": 22,
   "outputs": [
    {
     "data": {
      "text/plain": "Empty DataFrame\nColumns: []\nIndex: [2002-01-01 00:00:00, 2002-01-01 01:00:00, 2002-01-01 02:00:00, 2002-01-01 03:00:00, 2002-01-01 04:00:00, 2002-01-01 05:00:00, 2002-01-01 06:00:00, 2002-01-01 07:00:00, 2002-01-01 08:00:00, 2002-01-01 09:00:00, 2002-01-01 10:00:00, 2002-01-01 11:00:00, 2002-01-01 12:00:00, 2002-01-01 13:00:00, 2002-01-01 14:00:00, 2002-01-01 15:00:00, 2002-01-01 16:00:00, 2002-01-01 17:00:00, 2002-01-01 18:00:00, 2002-01-01 19:00:00, 2002-01-01 20:00:00, 2002-01-01 21:00:00, 2002-01-01 22:00:00, 2002-01-01 23:00:00, 2002-01-02 00:00:00, 2002-01-02 01:00:00, 2002-01-02 02:00:00, 2002-01-02 03:00:00, 2002-01-02 04:00:00, 2002-01-02 05:00:00, 2002-01-02 06:00:00, 2002-01-02 07:00:00, 2002-01-02 08:00:00, 2002-01-02 09:00:00, 2002-01-02 10:00:00, 2002-01-02 11:00:00, 2002-01-02 12:00:00, 2002-01-02 13:00:00, 2002-01-02 14:00:00, 2002-01-02 15:00:00, 2002-01-02 16:00:00, 2002-01-02 17:00:00, 2002-01-02 18:00:00, 2002-01-02 19:00:00, 2002-01-02 20:00:00, 2002-01-02 21:00:00, 2002-01-02 22:00:00, 2002-01-02 23:00:00, 2002-01-03 00:00:00, 2002-01-03 01:00:00, 2002-01-03 02:00:00, 2002-01-03 03:00:00, 2002-01-03 04:00:00, 2002-01-03 05:00:00, 2002-01-03 06:00:00, 2002-01-03 07:00:00, 2002-01-03 08:00:00, 2002-01-03 09:00:00, 2002-01-03 10:00:00, 2002-01-03 11:00:00, 2002-01-03 12:00:00, 2002-01-03 13:00:00, 2002-01-03 14:00:00, 2002-01-03 15:00:00, 2002-01-03 16:00:00, 2002-01-03 17:00:00, 2002-01-03 18:00:00, 2002-01-03 19:00:00, 2002-01-03 20:00:00, 2002-01-03 21:00:00, 2002-01-03 22:00:00, 2002-01-03 23:00:00, 2002-01-04 00:00:00, 2002-01-04 01:00:00, 2002-01-04 02:00:00, 2002-01-04 03:00:00, 2002-01-04 04:00:00, 2002-01-04 05:00:00, 2002-01-04 06:00:00, 2002-01-04 07:00:00, 2002-01-04 08:00:00, 2002-01-04 09:00:00, 2002-01-04 10:00:00, 2002-01-04 11:00:00, 2002-01-04 12:00:00, 2002-01-04 13:00:00, 2002-01-04 14:00:00, 2002-01-04 15:00:00, 2002-01-04 16:00:00, 2002-01-04 17:00:00, 2002-01-04 18:00:00, 2002-01-04 19:00:00, 2002-01-04 20:00:00, 2002-01-04 21:00:00, 2002-01-04 22:00:00, 2002-01-04 23:00:00, 2002-01-05 00:00:00, 2002-01-05 01:00:00, 2002-01-05 02:00:00, 2002-01-05 03:00:00, ...]\n\n[2059944 rows x 0 columns]",
      "text/html": "<div>\n<style scoped>\n    .dataframe tbody tr th:only-of-type {\n        vertical-align: middle;\n    }\n\n    .dataframe tbody tr th {\n        vertical-align: top;\n    }\n\n    .dataframe thead th {\n        text-align: right;\n    }\n</style>\n<table border=\"1\" class=\"dataframe\">\n  <thead>\n    <tr style=\"text-align: right;\">\n      <th></th>\n    </tr>\n    <tr>\n      <th>timestamp</th>\n    </tr>\n  </thead>\n  <tbody>\n    <tr>\n      <th>2002-01-01 00:00:00</th>\n    </tr>\n    <tr>\n      <th>2002-01-01 01:00:00</th>\n    </tr>\n    <tr>\n      <th>2002-01-01 02:00:00</th>\n    </tr>\n    <tr>\n      <th>2002-01-01 03:00:00</th>\n    </tr>\n    <tr>\n      <th>2002-01-01 04:00:00</th>\n    </tr>\n    <tr>\n      <th>...</th>\n    </tr>\n    <tr>\n      <th>2022-12-31 19:00:00</th>\n    </tr>\n    <tr>\n      <th>2022-12-31 20:00:00</th>\n    </tr>\n    <tr>\n      <th>2022-12-31 21:00:00</th>\n    </tr>\n    <tr>\n      <th>2022-12-31 22:00:00</th>\n    </tr>\n    <tr>\n      <th>2022-12-31 23:00:00</th>\n    </tr>\n  </tbody>\n</table>\n<p>2059944 rows × 0 columns</p>\n</div>"
     },
     "execution_count": 22,
     "metadata": {},
     "output_type": "execute_result"
    }
   ],
   "source": [
    "train"
   ],
   "metadata": {
    "collapsed": false,
    "pycharm": {
     "name": "#%%\n"
    }
   }
  },
  {
   "cell_type": "markdown",
   "source": [
    "# Ensure that all records in training data are from a timestamp prior the first test timestamp"
   ],
   "metadata": {
    "collapsed": false,
    "pycharm": {
     "name": "#%% md\n"
    }
   }
  },
  {
   "cell_type": "code",
   "execution_count": 23,
   "outputs": [
    {
     "data": {
      "text/plain": "Empty DataFrame\nColumns: []\nIndex: [2002-01-01 00:00:00, 2002-01-01 01:00:00, 2002-01-01 02:00:00, 2002-01-01 03:00:00, 2002-01-01 04:00:00, 2002-01-01 05:00:00, 2002-01-01 06:00:00, 2002-01-01 07:00:00, 2002-01-01 08:00:00, 2002-01-01 09:00:00, 2002-01-01 10:00:00, 2002-01-01 11:00:00, 2002-01-01 12:00:00, 2002-01-01 13:00:00, 2002-01-01 14:00:00, 2002-01-01 15:00:00, 2002-01-01 16:00:00, 2002-01-01 17:00:00, 2002-01-01 18:00:00, 2002-01-01 19:00:00, 2002-01-01 20:00:00, 2002-01-01 21:00:00, 2002-01-01 22:00:00, 2002-01-01 23:00:00, 2002-01-02 00:00:00, 2002-01-02 01:00:00, 2002-01-02 02:00:00, 2002-01-02 03:00:00, 2002-01-02 04:00:00, 2002-01-02 05:00:00, 2002-01-02 06:00:00, 2002-01-02 07:00:00, 2002-01-02 08:00:00, 2002-01-02 09:00:00, 2002-01-02 10:00:00, 2002-01-02 11:00:00, 2002-01-02 12:00:00, 2002-01-02 13:00:00, 2002-01-02 14:00:00, 2002-01-02 15:00:00, 2002-01-02 16:00:00, 2002-01-02 17:00:00, 2002-01-02 18:00:00, 2002-01-02 19:00:00, 2002-01-02 20:00:00, 2002-01-02 21:00:00, 2002-01-02 22:00:00, 2002-01-02 23:00:00, 2002-01-03 00:00:00, 2002-01-03 01:00:00, 2002-01-03 02:00:00, 2002-01-03 03:00:00, 2002-01-03 04:00:00, 2002-01-03 05:00:00, 2002-01-03 06:00:00, 2002-01-03 07:00:00, 2002-01-03 08:00:00, 2002-01-03 09:00:00, 2002-01-03 10:00:00, 2002-01-03 11:00:00, 2002-01-03 12:00:00, 2002-01-03 13:00:00, 2002-01-03 14:00:00, 2002-01-03 15:00:00, 2002-01-03 16:00:00, 2002-01-03 17:00:00, 2002-01-03 18:00:00, 2002-01-03 19:00:00, 2002-01-03 20:00:00, 2002-01-03 21:00:00, 2002-01-03 22:00:00, 2002-01-03 23:00:00, 2002-01-04 00:00:00, 2002-01-04 01:00:00, 2002-01-04 02:00:00, 2002-01-04 03:00:00, 2002-01-04 04:00:00, 2002-01-04 05:00:00, 2002-01-04 06:00:00, 2002-01-04 07:00:00, 2002-01-04 08:00:00, 2002-01-04 09:00:00, 2002-01-04 10:00:00, 2002-01-04 11:00:00, 2002-01-04 12:00:00, 2002-01-04 13:00:00, 2002-01-04 14:00:00, 2002-01-04 15:00:00, 2002-01-04 16:00:00, 2002-01-04 17:00:00, 2002-01-04 18:00:00, 2002-01-04 19:00:00, 2002-01-04 20:00:00, 2002-01-04 21:00:00, 2002-01-04 22:00:00, 2002-01-04 23:00:00, 2002-01-05 00:00:00, 2002-01-05 01:00:00, 2002-01-05 02:00:00, 2002-01-05 03:00:00, ...]\n\n[2059658 rows x 0 columns]",
      "text/html": "<div>\n<style scoped>\n    .dataframe tbody tr th:only-of-type {\n        vertical-align: middle;\n    }\n\n    .dataframe tbody tr th {\n        vertical-align: top;\n    }\n\n    .dataframe thead th {\n        text-align: right;\n    }\n</style>\n<table border=\"1\" class=\"dataframe\">\n  <thead>\n    <tr style=\"text-align: right;\">\n      <th></th>\n    </tr>\n    <tr>\n      <th>timestamp</th>\n    </tr>\n  </thead>\n  <tbody>\n    <tr>\n      <th>2002-01-01 00:00:00</th>\n    </tr>\n    <tr>\n      <th>2002-01-01 01:00:00</th>\n    </tr>\n    <tr>\n      <th>2002-01-01 02:00:00</th>\n    </tr>\n    <tr>\n      <th>2002-01-01 03:00:00</th>\n    </tr>\n    <tr>\n      <th>2002-01-01 04:00:00</th>\n    </tr>\n    <tr>\n      <th>...</th>\n    </tr>\n    <tr>\n      <th>2022-12-30 17:00:00</th>\n    </tr>\n    <tr>\n      <th>2022-12-30 18:00:00</th>\n    </tr>\n    <tr>\n      <th>2022-12-30 19:00:00</th>\n    </tr>\n    <tr>\n      <th>2022-12-30 20:00:00</th>\n    </tr>\n    <tr>\n      <th>2022-12-30 21:00:00</th>\n    </tr>\n  </tbody>\n</table>\n<p>2059658 rows × 0 columns</p>\n</div>"
     },
     "execution_count": 23,
     "metadata": {},
     "output_type": "execute_result"
    }
   ],
   "source": [
    "cutoff_timestamp = pd.to_datetime(f'{int(year)+1}-01-01 00:00:00')-pd.Timedelta(hours=num_test_hours)\n",
    "cutoff_timestamp\n",
    "\n",
    "mask = train.index > cutoff_timestamp\n",
    "train = train[~mask]\n",
    "train"
   ],
   "metadata": {
    "collapsed": false,
    "pycharm": {
     "name": "#%%\n"
    }
   }
  },
  {
   "cell_type": "markdown",
   "source": [
    "# Depending on the provided features, a Test set is build:"
   ],
   "metadata": {
    "collapsed": false,
    "pycharm": {
     "name": "#%% md\n"
    }
   }
  },
  {
   "cell_type": "code",
   "execution_count": 24,
   "outputs": [
    {
     "data": {
      "text/plain": "[]"
     },
     "execution_count": 24,
     "metadata": {},
     "output_type": "execute_result"
    }
   ],
   "source": [
    "features = train.columns\n",
    "features = [f.split('(')[0].replace('_ERA5', '') for f in features]\n",
    "features = list(set(features))  #remove duplicates\n",
    "features"
   ],
   "metadata": {
    "collapsed": false,
    "pycharm": {
     "name": "#%%\n"
    }
   }
  },
  {
   "cell_type": "code",
   "execution_count": 25,
   "outputs": [
    {
     "name": "stdout",
     "output_type": "stream",
     "text": [
      "Started with  2022 . Previous year took:   0.0002570152282714844 seconds\n",
      "from disc\n",
      "Finished downloading - now merging it together!\n",
      "Started with  2022 . Previous year took:   1.1920928955078125e-06 seconds\n",
      "Finished downloading - now merging it together!\n"
     ]
    },
    {
     "data": {
      "text/plain": "Empty DataFrame\nColumns: []\nIndex: [2022-12-30 20:00:00, 2022-12-30 21:00:00, 2022-12-30 22:00:00, 2022-12-30 23:00:00, 2022-12-31 00:00:00, 2022-12-31 01:00:00, 2022-12-31 02:00:00, 2022-12-31 03:00:00, 2022-12-31 04:00:00, 2022-12-31 05:00:00, 2022-12-31 06:00:00, 2022-12-31 07:00:00, 2022-12-31 08:00:00, 2022-12-31 09:00:00, 2022-12-31 10:00:00, 2022-12-31 11:00:00, 2022-12-31 12:00:00, 2022-12-31 13:00:00, 2022-12-31 14:00:00, 2022-12-31 15:00:00, 2022-12-31 16:00:00, 2022-12-31 17:00:00, 2022-12-31 18:00:00, 2022-12-31 19:00:00, 2022-12-31 20:00:00, 2022-12-31 21:00:00, 2022-12-31 22:00:00, 2022-12-31 23:00:00]",
      "text/html": "<div>\n<style scoped>\n    .dataframe tbody tr th:only-of-type {\n        vertical-align: middle;\n    }\n\n    .dataframe tbody tr th {\n        vertical-align: top;\n    }\n\n    .dataframe thead th {\n        text-align: right;\n    }\n</style>\n<table border=\"1\" class=\"dataframe\">\n  <thead>\n    <tr style=\"text-align: right;\">\n      <th></th>\n    </tr>\n    <tr>\n      <th>timestamp</th>\n    </tr>\n  </thead>\n  <tbody>\n    <tr>\n      <th>2022-12-30 20:00:00</th>\n    </tr>\n    <tr>\n      <th>2022-12-30 21:00:00</th>\n    </tr>\n    <tr>\n      <th>2022-12-30 22:00:00</th>\n    </tr>\n    <tr>\n      <th>2022-12-30 23:00:00</th>\n    </tr>\n    <tr>\n      <th>2022-12-31 00:00:00</th>\n    </tr>\n    <tr>\n      <th>2022-12-31 01:00:00</th>\n    </tr>\n    <tr>\n      <th>2022-12-31 02:00:00</th>\n    </tr>\n    <tr>\n      <th>2022-12-31 03:00:00</th>\n    </tr>\n    <tr>\n      <th>2022-12-31 04:00:00</th>\n    </tr>\n    <tr>\n      <th>2022-12-31 05:00:00</th>\n    </tr>\n    <tr>\n      <th>2022-12-31 06:00:00</th>\n    </tr>\n    <tr>\n      <th>2022-12-31 07:00:00</th>\n    </tr>\n    <tr>\n      <th>2022-12-31 08:00:00</th>\n    </tr>\n    <tr>\n      <th>2022-12-31 09:00:00</th>\n    </tr>\n    <tr>\n      <th>2022-12-31 10:00:00</th>\n    </tr>\n    <tr>\n      <th>2022-12-31 11:00:00</th>\n    </tr>\n    <tr>\n      <th>2022-12-31 12:00:00</th>\n    </tr>\n    <tr>\n      <th>2022-12-31 13:00:00</th>\n    </tr>\n    <tr>\n      <th>2022-12-31 14:00:00</th>\n    </tr>\n    <tr>\n      <th>2022-12-31 15:00:00</th>\n    </tr>\n    <tr>\n      <th>2022-12-31 16:00:00</th>\n    </tr>\n    <tr>\n      <th>2022-12-31 17:00:00</th>\n    </tr>\n    <tr>\n      <th>2022-12-31 18:00:00</th>\n    </tr>\n    <tr>\n      <th>2022-12-31 19:00:00</th>\n    </tr>\n    <tr>\n      <th>2022-12-31 20:00:00</th>\n    </tr>\n    <tr>\n      <th>2022-12-31 21:00:00</th>\n    </tr>\n    <tr>\n      <th>2022-12-31 22:00:00</th>\n    </tr>\n    <tr>\n      <th>2022-12-31 23:00:00</th>\n    </tr>\n  </tbody>\n</table>\n</div>"
     },
     "execution_count": 25,
     "metadata": {},
     "output_type": "execute_result"
    }
   ],
   "source": [
    "station_id = station_id.lower()\n",
    "test = mL.get_data_A([station_id], [year],1,features ,add_ERA5).tail(num_test_hours+1)\n",
    "test.columns = test.columns.str.replace(f'_{station_id}', '')\n",
    "test = mL.DataProcessor.data_to_supervised(test, n_in, n_out, True)\n",
    "test"
   ],
   "metadata": {
    "collapsed": false,
    "pycharm": {
     "name": "#%%\n"
    }
   }
  },
  {
   "cell_type": "markdown",
   "source": [
    "# Save to disc:"
   ],
   "metadata": {
    "collapsed": false,
    "pycharm": {
     "name": "#%% md\n"
    }
   }
  },
  {
   "cell_type": "code",
   "execution_count": 26,
   "outputs": [],
   "source": [
    "#filename =\"GOM_2\""
   ],
   "metadata": {
    "collapsed": false,
    "pycharm": {
     "name": "#%%\n"
    }
   }
  },
  {
   "cell_type": "code",
   "execution_count": 27,
   "outputs": [
    {
     "name": "stdout",
     "output_type": "stream",
     "text": [
      "Current time: 16:39:23.374972\n",
      "File successfully saved:\n",
      "data/datasets/SSUM/GOM_buoys_since2002_nan50_SSUM.pickle\n"
     ]
    }
   ],
   "source": [
    "data_object = {\n",
    "    \"files\": files,\n",
    "    \"nan_threshold\": nan_threshold,\n",
    "    \"features\": features,\n",
    "    \"add_era5\": add_ERA5,\n",
    "    \"num_test_hours\": num_test_hours,\n",
    "    \"data_train\": train,\n",
    "    \"data_test\": test\n",
    "}\n",
    "\n",
    "# open a file for writing in binary mode\n",
    "filepath = f'data/datasets/type_B/{filename}_SSUM.pickle'\n",
    "with open(filepath, 'wb') as f:\n",
    "    # write the object to the file using pickle.dump()\n",
    "    pickle.dump(data_object, f)\n",
    "\n",
    "\n",
    "current_time = datetime.datetime.now().time()\n",
    "print(\"Current time:\", current_time)\n",
    "print(\"File successfully saved:\")\n",
    "print(filepath)"
   ],
   "metadata": {
    "collapsed": false,
    "pycharm": {
     "name": "#%%\n"
    }
   }
  },
  {
   "cell_type": "code",
   "execution_count": 28,
   "outputs": [
    {
     "name": "stdout",
     "output_type": "stream",
     "text": [
      "DONE!\n"
     ]
    }
   ],
   "source": [
    "print(\"DONE!\")"
   ],
   "metadata": {
    "collapsed": false,
    "pycharm": {
     "name": "#%%\n"
    }
   }
  },
  {
   "cell_type": "code",
   "execution_count": null,
   "outputs": [],
   "source": [],
   "metadata": {
    "collapsed": false,
    "pycharm": {
     "name": "#%%\n"
    }
   }
  }
 ],
 "metadata": {
  "kernelspec": {
   "display_name": "Python 3",
   "language": "python",
   "name": "python3"
  },
  "language_info": {
   "codemirror_mode": {
    "name": "ipython",
    "version": 2
   },
   "file_extension": ".py",
   "mimetype": "text/x-python",
   "name": "python",
   "nbconvert_exporter": "python",
   "pygments_lexer": "ipython2",
   "version": "2.7.6"
  }
 },
 "nbformat": 4,
 "nbformat_minor": 0
}