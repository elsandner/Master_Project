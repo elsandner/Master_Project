{
 "cells": [
  {
   "cell_type": "markdown",
   "source": [
    "# Clean Dataset (=Remove NaN columns etc.)"
   ],
   "metadata": {
    "collapsed": false,
    "pycharm": {
     "name": "#%% md\n"
    }
   }
  },
  {
   "cell_type": "code",
   "execution_count": 2,
   "metadata": {
    "collapsed": true,
    "pycharm": {
     "name": "#%%\n"
    }
   },
   "outputs": [],
   "source": [
    "import pandas as pd"
   ]
  },
  {
   "cell_type": "code",
   "execution_count": 4,
   "outputs": [
    {
     "data": {
      "text/plain": "                     WDIR_41117  WSPD_41117  WVHT_41117  APD_41117  MWD_41117  \\\ntimestamp                                                                       \n2013-01-01 00:00:00         NaN         NaN         NaN        NaN        NaN   \n2013-01-01 01:00:00         NaN         NaN         NaN        NaN        NaN   \n2013-01-01 02:00:00         NaN         NaN         NaN        NaN        NaN   \n2013-01-01 03:00:00         NaN         NaN         NaN        NaN        NaN   \n2013-01-01 04:00:00         NaN         NaN         NaN        NaN        NaN   \n...                         ...         ...         ...        ...        ...   \n2022-12-31 19:00:00         NaN         NaN        0.97       5.79       88.0   \n2022-12-31 20:00:00         NaN         NaN        0.93       5.93       88.0   \n2022-12-31 21:00:00         NaN         NaN        0.95       6.17       91.0   \n2022-12-31 22:00:00         NaN         NaN        0.88       5.85       78.0   \n2022-12-31 23:00:00         NaN         NaN        0.91       6.17       83.0   \n\n                     PRES_41117  ATMP_41117  WTMP_41117  DEWP_41117  \\\ntimestamp                                                             \n2013-01-01 00:00:00         NaN         NaN         NaN         NaN   \n2013-01-01 01:00:00         NaN         NaN         NaN         NaN   \n2013-01-01 02:00:00         NaN         NaN         NaN         NaN   \n2013-01-01 03:00:00         NaN         NaN         NaN         NaN   \n2013-01-01 04:00:00         NaN         NaN         NaN         NaN   \n...                         ...         ...         ...         ...   \n2022-12-31 19:00:00         NaN        18.1        17.4         NaN   \n2022-12-31 20:00:00         NaN        18.3        17.4         NaN   \n2022-12-31 21:00:00         NaN        18.7        17.4         NaN   \n2022-12-31 22:00:00         NaN         NaN        17.4         NaN   \n2022-12-31 23:00:00         NaN        18.7        17.3         NaN   \n\n                     WDIR_41112  ...  DEWP_WPLF1  WDIR_WYCM6  WSPD_WYCM6  \\\ntimestamp                        ...                                       \n2013-01-01 00:00:00         NaN  ...         NaN         NaN         NaN   \n2013-01-01 01:00:00         NaN  ...         NaN         NaN         NaN   \n2013-01-01 02:00:00         NaN  ...         NaN         NaN         NaN   \n2013-01-01 03:00:00         NaN  ...         NaN         NaN         NaN   \n2013-01-01 04:00:00         NaN  ...         NaN         NaN         NaN   \n...                         ...  ...         ...         ...         ...   \n2022-12-31 19:00:00         NaN  ...         NaN         NaN         NaN   \n2022-12-31 20:00:00         NaN  ...         NaN         NaN         NaN   \n2022-12-31 21:00:00         NaN  ...         NaN         NaN         NaN   \n2022-12-31 22:00:00         NaN  ...         NaN         NaN         NaN   \n2022-12-31 23:00:00         NaN  ...         NaN         NaN         NaN   \n\n                     WVHT_WYCM6  APD_WYCM6  MWD_WYCM6  PRES_WYCM6  ATMP_WYCM6  \\\ntimestamp                                                                       \n2013-01-01 00:00:00         NaN        NaN        NaN         NaN         NaN   \n2013-01-01 01:00:00         NaN        NaN        NaN         NaN         NaN   \n2013-01-01 02:00:00         NaN        NaN        NaN         NaN         NaN   \n2013-01-01 03:00:00         NaN        NaN        NaN         NaN         NaN   \n2013-01-01 04:00:00         NaN        NaN        NaN         NaN         NaN   \n...                         ...        ...        ...         ...         ...   \n2022-12-31 19:00:00         NaN        NaN        NaN         NaN         NaN   \n2022-12-31 20:00:00         NaN        NaN        NaN         NaN         NaN   \n2022-12-31 21:00:00         NaN        NaN        NaN         NaN         NaN   \n2022-12-31 22:00:00         NaN        NaN        NaN         NaN         NaN   \n2022-12-31 23:00:00         NaN        NaN        NaN         NaN         NaN   \n\n                     WTMP_WYCM6  DEWP_WYCM6  \ntimestamp                                    \n2013-01-01 00:00:00         NaN         NaN  \n2013-01-01 01:00:00         NaN         NaN  \n2013-01-01 02:00:00         NaN         NaN  \n2013-01-01 03:00:00         NaN         NaN  \n2013-01-01 04:00:00         NaN         NaN  \n...                         ...         ...  \n2022-12-31 19:00:00         NaN         NaN  \n2022-12-31 20:00:00         NaN         NaN  \n2022-12-31 21:00:00         NaN         NaN  \n2022-12-31 22:00:00         NaN         NaN  \n2022-12-31 23:00:00         NaN         NaN  \n\n[87648 rows x 1107 columns]",
      "text/html": "<div>\n<style scoped>\n    .dataframe tbody tr th:only-of-type {\n        vertical-align: middle;\n    }\n\n    .dataframe tbody tr th {\n        vertical-align: top;\n    }\n\n    .dataframe thead th {\n        text-align: right;\n    }\n</style>\n<table border=\"1\" class=\"dataframe\">\n  <thead>\n    <tr style=\"text-align: right;\">\n      <th></th>\n      <th>WDIR_41117</th>\n      <th>WSPD_41117</th>\n      <th>WVHT_41117</th>\n      <th>APD_41117</th>\n      <th>MWD_41117</th>\n      <th>PRES_41117</th>\n      <th>ATMP_41117</th>\n      <th>WTMP_41117</th>\n      <th>DEWP_41117</th>\n      <th>WDIR_41112</th>\n      <th>...</th>\n      <th>DEWP_WPLF1</th>\n      <th>WDIR_WYCM6</th>\n      <th>WSPD_WYCM6</th>\n      <th>WVHT_WYCM6</th>\n      <th>APD_WYCM6</th>\n      <th>MWD_WYCM6</th>\n      <th>PRES_WYCM6</th>\n      <th>ATMP_WYCM6</th>\n      <th>WTMP_WYCM6</th>\n      <th>DEWP_WYCM6</th>\n    </tr>\n    <tr>\n      <th>timestamp</th>\n      <th></th>\n      <th></th>\n      <th></th>\n      <th></th>\n      <th></th>\n      <th></th>\n      <th></th>\n      <th></th>\n      <th></th>\n      <th></th>\n      <th></th>\n      <th></th>\n      <th></th>\n      <th></th>\n      <th></th>\n      <th></th>\n      <th></th>\n      <th></th>\n      <th></th>\n      <th></th>\n      <th></th>\n    </tr>\n  </thead>\n  <tbody>\n    <tr>\n      <th>2013-01-01 00:00:00</th>\n      <td>NaN</td>\n      <td>NaN</td>\n      <td>NaN</td>\n      <td>NaN</td>\n      <td>NaN</td>\n      <td>NaN</td>\n      <td>NaN</td>\n      <td>NaN</td>\n      <td>NaN</td>\n      <td>NaN</td>\n      <td>...</td>\n      <td>NaN</td>\n      <td>NaN</td>\n      <td>NaN</td>\n      <td>NaN</td>\n      <td>NaN</td>\n      <td>NaN</td>\n      <td>NaN</td>\n      <td>NaN</td>\n      <td>NaN</td>\n      <td>NaN</td>\n    </tr>\n    <tr>\n      <th>2013-01-01 01:00:00</th>\n      <td>NaN</td>\n      <td>NaN</td>\n      <td>NaN</td>\n      <td>NaN</td>\n      <td>NaN</td>\n      <td>NaN</td>\n      <td>NaN</td>\n      <td>NaN</td>\n      <td>NaN</td>\n      <td>NaN</td>\n      <td>...</td>\n      <td>NaN</td>\n      <td>NaN</td>\n      <td>NaN</td>\n      <td>NaN</td>\n      <td>NaN</td>\n      <td>NaN</td>\n      <td>NaN</td>\n      <td>NaN</td>\n      <td>NaN</td>\n      <td>NaN</td>\n    </tr>\n    <tr>\n      <th>2013-01-01 02:00:00</th>\n      <td>NaN</td>\n      <td>NaN</td>\n      <td>NaN</td>\n      <td>NaN</td>\n      <td>NaN</td>\n      <td>NaN</td>\n      <td>NaN</td>\n      <td>NaN</td>\n      <td>NaN</td>\n      <td>NaN</td>\n      <td>...</td>\n      <td>NaN</td>\n      <td>NaN</td>\n      <td>NaN</td>\n      <td>NaN</td>\n      <td>NaN</td>\n      <td>NaN</td>\n      <td>NaN</td>\n      <td>NaN</td>\n      <td>NaN</td>\n      <td>NaN</td>\n    </tr>\n    <tr>\n      <th>2013-01-01 03:00:00</th>\n      <td>NaN</td>\n      <td>NaN</td>\n      <td>NaN</td>\n      <td>NaN</td>\n      <td>NaN</td>\n      <td>NaN</td>\n      <td>NaN</td>\n      <td>NaN</td>\n      <td>NaN</td>\n      <td>NaN</td>\n      <td>...</td>\n      <td>NaN</td>\n      <td>NaN</td>\n      <td>NaN</td>\n      <td>NaN</td>\n      <td>NaN</td>\n      <td>NaN</td>\n      <td>NaN</td>\n      <td>NaN</td>\n      <td>NaN</td>\n      <td>NaN</td>\n    </tr>\n    <tr>\n      <th>2013-01-01 04:00:00</th>\n      <td>NaN</td>\n      <td>NaN</td>\n      <td>NaN</td>\n      <td>NaN</td>\n      <td>NaN</td>\n      <td>NaN</td>\n      <td>NaN</td>\n      <td>NaN</td>\n      <td>NaN</td>\n      <td>NaN</td>\n      <td>...</td>\n      <td>NaN</td>\n      <td>NaN</td>\n      <td>NaN</td>\n      <td>NaN</td>\n      <td>NaN</td>\n      <td>NaN</td>\n      <td>NaN</td>\n      <td>NaN</td>\n      <td>NaN</td>\n      <td>NaN</td>\n    </tr>\n    <tr>\n      <th>...</th>\n      <td>...</td>\n      <td>...</td>\n      <td>...</td>\n      <td>...</td>\n      <td>...</td>\n      <td>...</td>\n      <td>...</td>\n      <td>...</td>\n      <td>...</td>\n      <td>...</td>\n      <td>...</td>\n      <td>...</td>\n      <td>...</td>\n      <td>...</td>\n      <td>...</td>\n      <td>...</td>\n      <td>...</td>\n      <td>...</td>\n      <td>...</td>\n      <td>...</td>\n      <td>...</td>\n    </tr>\n    <tr>\n      <th>2022-12-31 19:00:00</th>\n      <td>NaN</td>\n      <td>NaN</td>\n      <td>0.97</td>\n      <td>5.79</td>\n      <td>88.0</td>\n      <td>NaN</td>\n      <td>18.1</td>\n      <td>17.4</td>\n      <td>NaN</td>\n      <td>NaN</td>\n      <td>...</td>\n      <td>NaN</td>\n      <td>NaN</td>\n      <td>NaN</td>\n      <td>NaN</td>\n      <td>NaN</td>\n      <td>NaN</td>\n      <td>NaN</td>\n      <td>NaN</td>\n      <td>NaN</td>\n      <td>NaN</td>\n    </tr>\n    <tr>\n      <th>2022-12-31 20:00:00</th>\n      <td>NaN</td>\n      <td>NaN</td>\n      <td>0.93</td>\n      <td>5.93</td>\n      <td>88.0</td>\n      <td>NaN</td>\n      <td>18.3</td>\n      <td>17.4</td>\n      <td>NaN</td>\n      <td>NaN</td>\n      <td>...</td>\n      <td>NaN</td>\n      <td>NaN</td>\n      <td>NaN</td>\n      <td>NaN</td>\n      <td>NaN</td>\n      <td>NaN</td>\n      <td>NaN</td>\n      <td>NaN</td>\n      <td>NaN</td>\n      <td>NaN</td>\n    </tr>\n    <tr>\n      <th>2022-12-31 21:00:00</th>\n      <td>NaN</td>\n      <td>NaN</td>\n      <td>0.95</td>\n      <td>6.17</td>\n      <td>91.0</td>\n      <td>NaN</td>\n      <td>18.7</td>\n      <td>17.4</td>\n      <td>NaN</td>\n      <td>NaN</td>\n      <td>...</td>\n      <td>NaN</td>\n      <td>NaN</td>\n      <td>NaN</td>\n      <td>NaN</td>\n      <td>NaN</td>\n      <td>NaN</td>\n      <td>NaN</td>\n      <td>NaN</td>\n      <td>NaN</td>\n      <td>NaN</td>\n    </tr>\n    <tr>\n      <th>2022-12-31 22:00:00</th>\n      <td>NaN</td>\n      <td>NaN</td>\n      <td>0.88</td>\n      <td>5.85</td>\n      <td>78.0</td>\n      <td>NaN</td>\n      <td>NaN</td>\n      <td>17.4</td>\n      <td>NaN</td>\n      <td>NaN</td>\n      <td>...</td>\n      <td>NaN</td>\n      <td>NaN</td>\n      <td>NaN</td>\n      <td>NaN</td>\n      <td>NaN</td>\n      <td>NaN</td>\n      <td>NaN</td>\n      <td>NaN</td>\n      <td>NaN</td>\n      <td>NaN</td>\n    </tr>\n    <tr>\n      <th>2022-12-31 23:00:00</th>\n      <td>NaN</td>\n      <td>NaN</td>\n      <td>0.91</td>\n      <td>6.17</td>\n      <td>83.0</td>\n      <td>NaN</td>\n      <td>18.7</td>\n      <td>17.3</td>\n      <td>NaN</td>\n      <td>NaN</td>\n      <td>...</td>\n      <td>NaN</td>\n      <td>NaN</td>\n      <td>NaN</td>\n      <td>NaN</td>\n      <td>NaN</td>\n      <td>NaN</td>\n      <td>NaN</td>\n      <td>NaN</td>\n      <td>NaN</td>\n      <td>NaN</td>\n    </tr>\n  </tbody>\n</table>\n<p>87648 rows × 1107 columns</p>\n</div>"
     },
     "execution_count": 4,
     "metadata": {},
     "output_type": "execute_result"
    }
   ],
   "source": [
    "#df = pd.read_csv('../../data/datasets/dataset1.csv')\n",
    "df = pd.read_csv('../../data/datasets/dataset_GOM_baseline_NDBC.csv')\n",
    "df.set_index('Unnamed: 0', inplace=True)\n",
    "df.index.name = 'timestamp'\n",
    "df"
   ],
   "metadata": {
    "collapsed": false,
    "pycharm": {
     "name": "#%%\n"
    }
   }
  },
  {
   "cell_type": "code",
   "execution_count": null,
   "outputs": [],
   "source": [],
   "metadata": {
    "collapsed": false,
    "pycharm": {
     "name": "#%%\n"
    }
   }
  },
  {
   "cell_type": "code",
   "execution_count": null,
   "outputs": [],
   "source": [],
   "metadata": {
    "collapsed": false,
    "pycharm": {
     "name": "#%%\n"
    }
   }
  }
 ],
 "metadata": {
  "kernelspec": {
   "display_name": "Python 3",
   "language": "python",
   "name": "python3"
  },
  "language_info": {
   "codemirror_mode": {
    "name": "ipython",
    "version": 2
   },
   "file_extension": ".py",
   "mimetype": "text/x-python",
   "name": "python",
   "nbconvert_exporter": "python",
   "pygments_lexer": "ipython2",
   "version": "2.7.6"
  }
 },
 "nbformat": 4,
 "nbformat_minor": 0
}