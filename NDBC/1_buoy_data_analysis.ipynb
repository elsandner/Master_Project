{
 "cells": [
  {
   "cell_type": "markdown",
   "source": [
    "# This notebook was used to develope the functions in myLibrary.py!\n"
   ],
   "metadata": {
    "collapsed": false,
    "pycharm": {
     "name": "#%% md\n"
    }
   }
  },
  {
   "cell_type": "markdown",
   "source": [],
   "metadata": {
    "collapsed": false,
    "pycharm": {
     "name": "#%% md\n"
    }
   }
  },
  {
   "cell_type": "code",
   "execution_count": 1,
   "outputs": [],
   "source": [
    "import pandas as pd\n",
    "from IPython.core.display_functions import display\n",
    "import script_utils as mL\n",
    "\n",
    "NDBC = mL.NDBC_lib"
   ],
   "metadata": {
    "collapsed": false,
    "pycharm": {
     "name": "#%%\n"
    }
   }
  },
  {
   "cell_type": "code",
   "execution_count": 2,
   "outputs": [
    {
     "name": "stdout",
     "output_type": "stream",
     "text": [
      "from disc\n"
     ]
    },
    {
     "data": {
      "text/plain": "        #YY  MM  DD  hh  mm  WDIR  WSPD   GST  WVHT   DPD   APD   MWD    PRES  \\\n0       #yr  mo  dy  hr  mn  degT   m/s   m/s     m   sec   sec  degT     hPa   \n1      2017  03  31  19  22   999  99.0  99.0  1.29  5.88  4.88   136  9999.0   \n2      2017  03  31  19  52   999  99.0  99.0  1.24  5.88  4.76   136  9999.0   \n3      2017  03  31  20  22   999  99.0  99.0  1.18  5.88  4.89   136  9999.0   \n4      2017  03  31  20  52   999  99.0  99.0  1.15  5.56  4.76   137  9999.0   \n...     ...  ..  ..  ..  ..   ...   ...   ...   ...   ...   ...   ...     ...   \n12701  2017  12  31  21  52   999  99.0  99.0  0.70  9.09  5.15    78  9999.0   \n12702  2017  12  31  22  22   999  99.0  99.0  0.72  9.09  5.47    85  9999.0   \n12703  2017  12  31  22  52   999  99.0  99.0  0.70  9.88  5.13    87  9999.0   \n12704  2017  12  31  23  22   999  99.0  99.0  0.74  9.09  4.85    81  9999.0   \n12705  2017  12  31  23  52   999  99.0  99.0  0.73  9.88  4.53    77  9999.0   \n\n        ATMP  WTMP   DEWP   VIS   TIDE  \n0       degC  degC   degC    mi     ft  \n1      999.0  20.9  999.0  99.0  99.00  \n2      999.0  20.9  999.0  99.0  99.00  \n3      999.0  20.9  999.0  99.0  99.00  \n4      999.0  20.8  999.0  99.0  99.00  \n...      ...   ...    ...   ...    ...  \n12701  999.0  17.7  999.0  99.0  99.00  \n12702  999.0  17.7  999.0  99.0  99.00  \n12703  999.0  17.6  999.0  99.0  99.00  \n12704  999.0  17.6  999.0  99.0  99.00  \n12705  999.0  17.6  999.0  99.0  99.00  \n\n[12706 rows x 18 columns]",
      "text/html": "<div>\n<style scoped>\n    .dataframe tbody tr th:only-of-type {\n        vertical-align: middle;\n    }\n\n    .dataframe tbody tr th {\n        vertical-align: top;\n    }\n\n    .dataframe thead th {\n        text-align: right;\n    }\n</style>\n<table border=\"1\" class=\"dataframe\">\n  <thead>\n    <tr style=\"text-align: right;\">\n      <th></th>\n      <th>#YY</th>\n      <th>MM</th>\n      <th>DD</th>\n      <th>hh</th>\n      <th>mm</th>\n      <th>WDIR</th>\n      <th>WSPD</th>\n      <th>GST</th>\n      <th>WVHT</th>\n      <th>DPD</th>\n      <th>APD</th>\n      <th>MWD</th>\n      <th>PRES</th>\n      <th>ATMP</th>\n      <th>WTMP</th>\n      <th>DEWP</th>\n      <th>VIS</th>\n      <th>TIDE</th>\n    </tr>\n  </thead>\n  <tbody>\n    <tr>\n      <th>0</th>\n      <td>#yr</td>\n      <td>mo</td>\n      <td>dy</td>\n      <td>hr</td>\n      <td>mn</td>\n      <td>degT</td>\n      <td>m/s</td>\n      <td>m/s</td>\n      <td>m</td>\n      <td>sec</td>\n      <td>sec</td>\n      <td>degT</td>\n      <td>hPa</td>\n      <td>degC</td>\n      <td>degC</td>\n      <td>degC</td>\n      <td>mi</td>\n      <td>ft</td>\n    </tr>\n    <tr>\n      <th>1</th>\n      <td>2017</td>\n      <td>03</td>\n      <td>31</td>\n      <td>19</td>\n      <td>22</td>\n      <td>999</td>\n      <td>99.0</td>\n      <td>99.0</td>\n      <td>1.29</td>\n      <td>5.88</td>\n      <td>4.88</td>\n      <td>136</td>\n      <td>9999.0</td>\n      <td>999.0</td>\n      <td>20.9</td>\n      <td>999.0</td>\n      <td>99.0</td>\n      <td>99.00</td>\n    </tr>\n    <tr>\n      <th>2</th>\n      <td>2017</td>\n      <td>03</td>\n      <td>31</td>\n      <td>19</td>\n      <td>52</td>\n      <td>999</td>\n      <td>99.0</td>\n      <td>99.0</td>\n      <td>1.24</td>\n      <td>5.88</td>\n      <td>4.76</td>\n      <td>136</td>\n      <td>9999.0</td>\n      <td>999.0</td>\n      <td>20.9</td>\n      <td>999.0</td>\n      <td>99.0</td>\n      <td>99.00</td>\n    </tr>\n    <tr>\n      <th>3</th>\n      <td>2017</td>\n      <td>03</td>\n      <td>31</td>\n      <td>20</td>\n      <td>22</td>\n      <td>999</td>\n      <td>99.0</td>\n      <td>99.0</td>\n      <td>1.18</td>\n      <td>5.88</td>\n      <td>4.89</td>\n      <td>136</td>\n      <td>9999.0</td>\n      <td>999.0</td>\n      <td>20.9</td>\n      <td>999.0</td>\n      <td>99.0</td>\n      <td>99.00</td>\n    </tr>\n    <tr>\n      <th>4</th>\n      <td>2017</td>\n      <td>03</td>\n      <td>31</td>\n      <td>20</td>\n      <td>52</td>\n      <td>999</td>\n      <td>99.0</td>\n      <td>99.0</td>\n      <td>1.15</td>\n      <td>5.56</td>\n      <td>4.76</td>\n      <td>137</td>\n      <td>9999.0</td>\n      <td>999.0</td>\n      <td>20.8</td>\n      <td>999.0</td>\n      <td>99.0</td>\n      <td>99.00</td>\n    </tr>\n    <tr>\n      <th>...</th>\n      <td>...</td>\n      <td>...</td>\n      <td>...</td>\n      <td>...</td>\n      <td>...</td>\n      <td>...</td>\n      <td>...</td>\n      <td>...</td>\n      <td>...</td>\n      <td>...</td>\n      <td>...</td>\n      <td>...</td>\n      <td>...</td>\n      <td>...</td>\n      <td>...</td>\n      <td>...</td>\n      <td>...</td>\n      <td>...</td>\n    </tr>\n    <tr>\n      <th>12701</th>\n      <td>2017</td>\n      <td>12</td>\n      <td>31</td>\n      <td>21</td>\n      <td>52</td>\n      <td>999</td>\n      <td>99.0</td>\n      <td>99.0</td>\n      <td>0.70</td>\n      <td>9.09</td>\n      <td>5.15</td>\n      <td>78</td>\n      <td>9999.0</td>\n      <td>999.0</td>\n      <td>17.7</td>\n      <td>999.0</td>\n      <td>99.0</td>\n      <td>99.00</td>\n    </tr>\n    <tr>\n      <th>12702</th>\n      <td>2017</td>\n      <td>12</td>\n      <td>31</td>\n      <td>22</td>\n      <td>22</td>\n      <td>999</td>\n      <td>99.0</td>\n      <td>99.0</td>\n      <td>0.72</td>\n      <td>9.09</td>\n      <td>5.47</td>\n      <td>85</td>\n      <td>9999.0</td>\n      <td>999.0</td>\n      <td>17.7</td>\n      <td>999.0</td>\n      <td>99.0</td>\n      <td>99.00</td>\n    </tr>\n    <tr>\n      <th>12703</th>\n      <td>2017</td>\n      <td>12</td>\n      <td>31</td>\n      <td>22</td>\n      <td>52</td>\n      <td>999</td>\n      <td>99.0</td>\n      <td>99.0</td>\n      <td>0.70</td>\n      <td>9.88</td>\n      <td>5.13</td>\n      <td>87</td>\n      <td>9999.0</td>\n      <td>999.0</td>\n      <td>17.6</td>\n      <td>999.0</td>\n      <td>99.0</td>\n      <td>99.00</td>\n    </tr>\n    <tr>\n      <th>12704</th>\n      <td>2017</td>\n      <td>12</td>\n      <td>31</td>\n      <td>23</td>\n      <td>22</td>\n      <td>999</td>\n      <td>99.0</td>\n      <td>99.0</td>\n      <td>0.74</td>\n      <td>9.09</td>\n      <td>4.85</td>\n      <td>81</td>\n      <td>9999.0</td>\n      <td>999.0</td>\n      <td>17.6</td>\n      <td>999.0</td>\n      <td>99.0</td>\n      <td>99.00</td>\n    </tr>\n    <tr>\n      <th>12705</th>\n      <td>2017</td>\n      <td>12</td>\n      <td>31</td>\n      <td>23</td>\n      <td>52</td>\n      <td>999</td>\n      <td>99.0</td>\n      <td>99.0</td>\n      <td>0.73</td>\n      <td>9.88</td>\n      <td>4.53</td>\n      <td>77</td>\n      <td>9999.0</td>\n      <td>999.0</td>\n      <td>17.6</td>\n      <td>999.0</td>\n      <td>99.0</td>\n      <td>99.00</td>\n    </tr>\n  </tbody>\n</table>\n<p>12706 rows × 18 columns</p>\n</div>"
     },
     "execution_count": 2,
     "metadata": {},
     "output_type": "execute_result"
    }
   ],
   "source": [
    "test_data = NDBC.get_data_file(\"41117\", \"2017\")\n",
    "test_data[1]"
   ],
   "metadata": {
    "collapsed": false,
    "pycharm": {
     "name": "#%%\n"
    }
   }
  },
  {
   "cell_type": "markdown",
   "source": [
    "Get all data of year 2020 from all stations"
   ],
   "metadata": {
    "collapsed": false,
    "pycharm": {
     "name": "#%% md\n"
    }
   }
  },
  {
   "cell_type": "code",
   "execution_count": 3,
   "outputs": [
    {
     "name": "stdout",
     "output_type": "stream",
     "text": [
      "from disc\n"
     ]
    },
    {
     "data": {
      "text/plain": "                    WDIR_41117 WSPD_41117 GST_41117 WVHT_41117 DPD_41117  \\\ntimestamp                                                                  \n2017-03-31 19:22:00        999       99.0      99.0       1.29      5.88   \n2017-03-31 19:52:00        999       99.0      99.0       1.24      5.88   \n2017-03-31 20:22:00        999       99.0      99.0       1.18      5.88   \n2017-03-31 20:52:00        999       99.0      99.0       1.15      5.56   \n2017-03-31 21:22:00        999       99.0      99.0       1.10      5.88   \n...                        ...        ...       ...        ...       ...   \n2017-12-31 21:52:00        999       99.0      99.0       0.70      9.09   \n2017-12-31 22:22:00        999       99.0      99.0       0.72      9.09   \n2017-12-31 22:52:00        999       99.0      99.0       0.70      9.88   \n2017-12-31 23:22:00        999       99.0      99.0       0.74      9.09   \n2017-12-31 23:52:00        999       99.0      99.0       0.73      9.88   \n\n                    APD_41117 MWD_41117 PRES_41117 ATMP_41117 WTMP_41117  \\\ntimestamp                                                                  \n2017-03-31 19:22:00      4.88       136     9999.0      999.0       20.9   \n2017-03-31 19:52:00      4.76       136     9999.0      999.0       20.9   \n2017-03-31 20:22:00      4.89       136     9999.0      999.0       20.9   \n2017-03-31 20:52:00      4.76       137     9999.0      999.0       20.8   \n2017-03-31 21:22:00      4.81       133     9999.0      999.0       21.0   \n...                       ...       ...        ...        ...        ...   \n2017-12-31 21:52:00      5.15        78     9999.0      999.0       17.7   \n2017-12-31 22:22:00      5.47        85     9999.0      999.0       17.7   \n2017-12-31 22:52:00      5.13        87     9999.0      999.0       17.6   \n2017-12-31 23:22:00      4.85        81     9999.0      999.0       17.6   \n2017-12-31 23:52:00      4.53        77     9999.0      999.0       17.6   \n\n                    DEWP_41117 VIS_41117 TIDE_41117  \ntimestamp                                            \n2017-03-31 19:22:00      999.0      99.0      99.00  \n2017-03-31 19:52:00      999.0      99.0      99.00  \n2017-03-31 20:22:00      999.0      99.0      99.00  \n2017-03-31 20:52:00      999.0      99.0      99.00  \n2017-03-31 21:22:00      999.0      99.0      99.00  \n...                        ...       ...        ...  \n2017-12-31 21:52:00      999.0      99.0      99.00  \n2017-12-31 22:22:00      999.0      99.0      99.00  \n2017-12-31 22:52:00      999.0      99.0      99.00  \n2017-12-31 23:22:00      999.0      99.0      99.00  \n2017-12-31 23:52:00      999.0      99.0      99.00  \n\n[12705 rows x 13 columns]",
      "text/html": "<div>\n<style scoped>\n    .dataframe tbody tr th:only-of-type {\n        vertical-align: middle;\n    }\n\n    .dataframe tbody tr th {\n        vertical-align: top;\n    }\n\n    .dataframe thead th {\n        text-align: right;\n    }\n</style>\n<table border=\"1\" class=\"dataframe\">\n  <thead>\n    <tr style=\"text-align: right;\">\n      <th></th>\n      <th>WDIR_41117</th>\n      <th>WSPD_41117</th>\n      <th>GST_41117</th>\n      <th>WVHT_41117</th>\n      <th>DPD_41117</th>\n      <th>APD_41117</th>\n      <th>MWD_41117</th>\n      <th>PRES_41117</th>\n      <th>ATMP_41117</th>\n      <th>WTMP_41117</th>\n      <th>DEWP_41117</th>\n      <th>VIS_41117</th>\n      <th>TIDE_41117</th>\n    </tr>\n    <tr>\n      <th>timestamp</th>\n      <th></th>\n      <th></th>\n      <th></th>\n      <th></th>\n      <th></th>\n      <th></th>\n      <th></th>\n      <th></th>\n      <th></th>\n      <th></th>\n      <th></th>\n      <th></th>\n      <th></th>\n    </tr>\n  </thead>\n  <tbody>\n    <tr>\n      <th>2017-03-31 19:22:00</th>\n      <td>999</td>\n      <td>99.0</td>\n      <td>99.0</td>\n      <td>1.29</td>\n      <td>5.88</td>\n      <td>4.88</td>\n      <td>136</td>\n      <td>9999.0</td>\n      <td>999.0</td>\n      <td>20.9</td>\n      <td>999.0</td>\n      <td>99.0</td>\n      <td>99.00</td>\n    </tr>\n    <tr>\n      <th>2017-03-31 19:52:00</th>\n      <td>999</td>\n      <td>99.0</td>\n      <td>99.0</td>\n      <td>1.24</td>\n      <td>5.88</td>\n      <td>4.76</td>\n      <td>136</td>\n      <td>9999.0</td>\n      <td>999.0</td>\n      <td>20.9</td>\n      <td>999.0</td>\n      <td>99.0</td>\n      <td>99.00</td>\n    </tr>\n    <tr>\n      <th>2017-03-31 20:22:00</th>\n      <td>999</td>\n      <td>99.0</td>\n      <td>99.0</td>\n      <td>1.18</td>\n      <td>5.88</td>\n      <td>4.89</td>\n      <td>136</td>\n      <td>9999.0</td>\n      <td>999.0</td>\n      <td>20.9</td>\n      <td>999.0</td>\n      <td>99.0</td>\n      <td>99.00</td>\n    </tr>\n    <tr>\n      <th>2017-03-31 20:52:00</th>\n      <td>999</td>\n      <td>99.0</td>\n      <td>99.0</td>\n      <td>1.15</td>\n      <td>5.56</td>\n      <td>4.76</td>\n      <td>137</td>\n      <td>9999.0</td>\n      <td>999.0</td>\n      <td>20.8</td>\n      <td>999.0</td>\n      <td>99.0</td>\n      <td>99.00</td>\n    </tr>\n    <tr>\n      <th>2017-03-31 21:22:00</th>\n      <td>999</td>\n      <td>99.0</td>\n      <td>99.0</td>\n      <td>1.10</td>\n      <td>5.88</td>\n      <td>4.81</td>\n      <td>133</td>\n      <td>9999.0</td>\n      <td>999.0</td>\n      <td>21.0</td>\n      <td>999.0</td>\n      <td>99.0</td>\n      <td>99.00</td>\n    </tr>\n    <tr>\n      <th>...</th>\n      <td>...</td>\n      <td>...</td>\n      <td>...</td>\n      <td>...</td>\n      <td>...</td>\n      <td>...</td>\n      <td>...</td>\n      <td>...</td>\n      <td>...</td>\n      <td>...</td>\n      <td>...</td>\n      <td>...</td>\n      <td>...</td>\n    </tr>\n    <tr>\n      <th>2017-12-31 21:52:00</th>\n      <td>999</td>\n      <td>99.0</td>\n      <td>99.0</td>\n      <td>0.70</td>\n      <td>9.09</td>\n      <td>5.15</td>\n      <td>78</td>\n      <td>9999.0</td>\n      <td>999.0</td>\n      <td>17.7</td>\n      <td>999.0</td>\n      <td>99.0</td>\n      <td>99.00</td>\n    </tr>\n    <tr>\n      <th>2017-12-31 22:22:00</th>\n      <td>999</td>\n      <td>99.0</td>\n      <td>99.0</td>\n      <td>0.72</td>\n      <td>9.09</td>\n      <td>5.47</td>\n      <td>85</td>\n      <td>9999.0</td>\n      <td>999.0</td>\n      <td>17.7</td>\n      <td>999.0</td>\n      <td>99.0</td>\n      <td>99.00</td>\n    </tr>\n    <tr>\n      <th>2017-12-31 22:52:00</th>\n      <td>999</td>\n      <td>99.0</td>\n      <td>99.0</td>\n      <td>0.70</td>\n      <td>9.88</td>\n      <td>5.13</td>\n      <td>87</td>\n      <td>9999.0</td>\n      <td>999.0</td>\n      <td>17.6</td>\n      <td>999.0</td>\n      <td>99.0</td>\n      <td>99.00</td>\n    </tr>\n    <tr>\n      <th>2017-12-31 23:22:00</th>\n      <td>999</td>\n      <td>99.0</td>\n      <td>99.0</td>\n      <td>0.74</td>\n      <td>9.09</td>\n      <td>4.85</td>\n      <td>81</td>\n      <td>9999.0</td>\n      <td>999.0</td>\n      <td>17.6</td>\n      <td>999.0</td>\n      <td>99.0</td>\n      <td>99.00</td>\n    </tr>\n    <tr>\n      <th>2017-12-31 23:52:00</th>\n      <td>999</td>\n      <td>99.0</td>\n      <td>99.0</td>\n      <td>0.73</td>\n      <td>9.88</td>\n      <td>4.53</td>\n      <td>77</td>\n      <td>9999.0</td>\n      <td>999.0</td>\n      <td>17.6</td>\n      <td>999.0</td>\n      <td>99.0</td>\n      <td>99.00</td>\n    </tr>\n  </tbody>\n</table>\n<p>12705 rows × 13 columns</p>\n</div>"
     },
     "metadata": {},
     "output_type": "display_data"
    }
   ],
   "source": [
    "#Test df_modification\n",
    "test_data = NDBC.get_data_file(\"41117\", \"2017\")\n",
    "data_modified = NDBC.df_modification(test_data)[1]\n",
    "#display(list(data_modified.columns))\n",
    "display(data_modified)\n"
   ],
   "metadata": {
    "collapsed": false,
    "pycharm": {
     "name": "#%%\n"
    }
   }
  },
  {
   "cell_type": "code",
   "execution_count": 4,
   "outputs": [
    {
     "ename": "AttributeError",
     "evalue": "type object 'NDBC_lib' has no attribute 'build_dataset'",
     "output_type": "error",
     "traceback": [
      "\u001B[0;31m---------------------------------------------------------------------------\u001B[0m",
      "\u001B[0;31mAttributeError\u001B[0m                            Traceback (most recent call last)",
      "Cell \u001B[0;32mIn[4], line 5\u001B[0m\n\u001B[1;32m      2\u001B[0m station_numbers_one \u001B[38;5;241m=\u001B[39m [\u001B[38;5;124m\"\u001B[39m\u001B[38;5;124m41117\u001B[39m\u001B[38;5;124m\"\u001B[39m]\n\u001B[1;32m      3\u001B[0m station_numbers_two \u001B[38;5;241m=\u001B[39m [ \u001B[38;5;124m\"\u001B[39m\u001B[38;5;124m41117\u001B[39m\u001B[38;5;124m\"\u001B[39m,\u001B[38;5;124m\"\u001B[39m\u001B[38;5;124m41112\u001B[39m\u001B[38;5;124m\"\u001B[39m]\n\u001B[0;32m----> 5\u001B[0m merged_df \u001B[38;5;241m=\u001B[39m \u001B[43mNDBC\u001B[49m\u001B[38;5;241;43m.\u001B[39;49m\u001B[43mbuild_dataset\u001B[49m(NDBC\u001B[38;5;241m.\u001B[39mstations_GOM, \u001B[38;5;124m\"\u001B[39m\u001B[38;5;124m2020\u001B[39m\u001B[38;5;124m\"\u001B[39m)\n\u001B[1;32m      6\u001B[0m merged_df\n",
      "\u001B[0;31mAttributeError\u001B[0m: type object 'NDBC_lib' has no attribute 'build_dataset'"
     ]
    }
   ],
   "source": [
    "#TEST:\n",
    "station_numbers_one = [\"41117\"]\n",
    "station_numbers_two = [ \"41117\",\"41112\"]\n",
    "\n",
    "merged_df = NDBC.build_dataset(NDBC.stations_GOM, \"2020\")\n",
    "merged_df"
   ],
   "metadata": {
    "collapsed": false,
    "pycharm": {
     "name": "#%%\n"
    }
   }
  },
  {
   "cell_type": "markdown",
   "source": [
    "Guide:\n",
    "https://www.ndbc.noaa.gov/docs/ndbc_web_data_guide.pdf"
   ],
   "metadata": {
    "collapsed": false,
    "pycharm": {
     "name": "#%% md\n"
    }
   }
  },
  {
   "cell_type": "markdown",
   "source": [
    "# Issue with Timestamps\n",
    "\n",
    "Since the datafiles of each buoy have different numbers of rows, the timestamps are not similar.\n",
    "I think this can be handles by outer-join the whole data and then remove rows with NaN values.\n",
    "Anyways, I need to find a way to investigate / visualize the timestamps\n",
    "\n",
    "### The problem is, that different buoys provide values on different time stamps!\n",
    "\n",
    "--> 2_timestamp_analysis.ipynb"
   ],
   "metadata": {
    "collapsed": false,
    "pycharm": {
     "name": "#%% md\n"
    }
   }
  },
  {
   "cell_type": "markdown",
   "source": [
    "\n"
   ],
   "metadata": {
    "collapsed": false,
    "pycharm": {
     "name": "#%% md\n"
    }
   }
  }
 ],
 "metadata": {
  "kernelspec": {
   "display_name": "Python 3",
   "language": "python",
   "name": "python3"
  },
  "language_info": {
   "codemirror_mode": {
    "name": "ipython",
    "version": 2
   },
   "file_extension": ".py",
   "mimetype": "text/x-python",
   "name": "python",
   "nbconvert_exporter": "python",
   "pygments_lexer": "ipython2",
   "version": "2.7.6"
  }
 },
 "nbformat": 4,
 "nbformat_minor": 0
}