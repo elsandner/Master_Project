{
 "cells": [
  {
   "cell_type": "code",
   "execution_count": 2,
   "outputs": [],
   "source": [
    "import pandas as pd"
   ],
   "metadata": {
    "collapsed": false,
    "pycharm": {
     "name": "#%%\n"
    }
   }
  },
  {
   "cell_type": "code",
   "execution_count": 3,
   "outputs": [
    {
     "data": {
      "text/plain": "       #YY  MM  DD  hh  mm  WDIR WSPD   GST   WVHT    DPD    APD   MWD  \\\n0      #yr  mo  dy  hr  mn  degT  m/s   m/s      m    sec    sec  degT   \n1     2009  07  01  00  00   130  7.0  99.0  99.00  99.00  99.00   999   \n2     2009  07  01  01  00   131  6.7  99.0  99.00  99.00  99.00   999   \n3     2009  07  01  02  00   132  7.3  99.0  99.00  99.00  99.00   999   \n4     2009  07  01  03  00   133  6.9  99.0  99.00  99.00  99.00   999   \n...    ...  ..  ..  ..  ..   ...  ...   ...    ...    ...    ...   ...   \n1469  2009  08  31  19  00   119  1.6  99.0  99.00  99.00  99.00   999   \n1470  2009  08  31  20  00   177  1.1  99.0  99.00  99.00  99.00   999   \n1471  2009  08  31  21  00   166  1.1  99.0  99.00  99.00  99.00   999   \n1472  2009  08  31  22  00   133  2.7  99.0  99.00  99.00  99.00   999   \n1473  2009  08  31  23  00   176  2.0  99.0  99.00  99.00  99.00   999   \n\n        PRES  ATMP  WTMP  DEWP   VIS   TIDE  \n0        hPa  degC  degC  degC    mi     ft  \n1     1019.0  19.2  21.0  13.5  99.0  99.00  \n2     1020.0  19.2  21.0  13.5  99.0  99.00  \n3     1020.0  19.3  21.0  13.1  99.0  99.00  \n4     1020.0  19.3  20.9  13.1  99.0  99.00  \n...      ...   ...   ...   ...   ...    ...  \n1469  1016.0  18.7  19.9  13.6  99.0  99.00  \n1470  1016.0  18.8  20.1  13.5  99.0  99.00  \n1471  1015.0  18.7  20.1  13.9  99.0  99.00  \n1472  1016.0  18.4  19.9  14.7  99.0  99.00  \n1473  1016.0  18.1  19.9  14.9  99.0  99.00  \n\n[1474 rows x 18 columns]",
      "text/html": "<div>\n<style scoped>\n    .dataframe tbody tr th:only-of-type {\n        vertical-align: middle;\n    }\n\n    .dataframe tbody tr th {\n        vertical-align: top;\n    }\n\n    .dataframe thead th {\n        text-align: right;\n    }\n</style>\n<table border=\"1\" class=\"dataframe\">\n  <thead>\n    <tr style=\"text-align: right;\">\n      <th></th>\n      <th>#YY</th>\n      <th>MM</th>\n      <th>DD</th>\n      <th>hh</th>\n      <th>mm</th>\n      <th>WDIR</th>\n      <th>WSPD</th>\n      <th>GST</th>\n      <th>WVHT</th>\n      <th>DPD</th>\n      <th>APD</th>\n      <th>MWD</th>\n      <th>PRES</th>\n      <th>ATMP</th>\n      <th>WTMP</th>\n      <th>DEWP</th>\n      <th>VIS</th>\n      <th>TIDE</th>\n    </tr>\n  </thead>\n  <tbody>\n    <tr>\n      <th>0</th>\n      <td>#yr</td>\n      <td>mo</td>\n      <td>dy</td>\n      <td>hr</td>\n      <td>mn</td>\n      <td>degT</td>\n      <td>m/s</td>\n      <td>m/s</td>\n      <td>m</td>\n      <td>sec</td>\n      <td>sec</td>\n      <td>degT</td>\n      <td>hPa</td>\n      <td>degC</td>\n      <td>degC</td>\n      <td>degC</td>\n      <td>mi</td>\n      <td>ft</td>\n    </tr>\n    <tr>\n      <th>1</th>\n      <td>2009</td>\n      <td>07</td>\n      <td>01</td>\n      <td>00</td>\n      <td>00</td>\n      <td>130</td>\n      <td>7.0</td>\n      <td>99.0</td>\n      <td>99.00</td>\n      <td>99.00</td>\n      <td>99.00</td>\n      <td>999</td>\n      <td>1019.0</td>\n      <td>19.2</td>\n      <td>21.0</td>\n      <td>13.5</td>\n      <td>99.0</td>\n      <td>99.00</td>\n    </tr>\n    <tr>\n      <th>2</th>\n      <td>2009</td>\n      <td>07</td>\n      <td>01</td>\n      <td>01</td>\n      <td>00</td>\n      <td>131</td>\n      <td>6.7</td>\n      <td>99.0</td>\n      <td>99.00</td>\n      <td>99.00</td>\n      <td>99.00</td>\n      <td>999</td>\n      <td>1020.0</td>\n      <td>19.2</td>\n      <td>21.0</td>\n      <td>13.5</td>\n      <td>99.0</td>\n      <td>99.00</td>\n    </tr>\n    <tr>\n      <th>3</th>\n      <td>2009</td>\n      <td>07</td>\n      <td>01</td>\n      <td>02</td>\n      <td>00</td>\n      <td>132</td>\n      <td>7.3</td>\n      <td>99.0</td>\n      <td>99.00</td>\n      <td>99.00</td>\n      <td>99.00</td>\n      <td>999</td>\n      <td>1020.0</td>\n      <td>19.3</td>\n      <td>21.0</td>\n      <td>13.1</td>\n      <td>99.0</td>\n      <td>99.00</td>\n    </tr>\n    <tr>\n      <th>4</th>\n      <td>2009</td>\n      <td>07</td>\n      <td>01</td>\n      <td>03</td>\n      <td>00</td>\n      <td>133</td>\n      <td>6.9</td>\n      <td>99.0</td>\n      <td>99.00</td>\n      <td>99.00</td>\n      <td>99.00</td>\n      <td>999</td>\n      <td>1020.0</td>\n      <td>19.3</td>\n      <td>20.9</td>\n      <td>13.1</td>\n      <td>99.0</td>\n      <td>99.00</td>\n    </tr>\n    <tr>\n      <th>...</th>\n      <td>...</td>\n      <td>...</td>\n      <td>...</td>\n      <td>...</td>\n      <td>...</td>\n      <td>...</td>\n      <td>...</td>\n      <td>...</td>\n      <td>...</td>\n      <td>...</td>\n      <td>...</td>\n      <td>...</td>\n      <td>...</td>\n      <td>...</td>\n      <td>...</td>\n      <td>...</td>\n      <td>...</td>\n      <td>...</td>\n    </tr>\n    <tr>\n      <th>1469</th>\n      <td>2009</td>\n      <td>08</td>\n      <td>31</td>\n      <td>19</td>\n      <td>00</td>\n      <td>119</td>\n      <td>1.6</td>\n      <td>99.0</td>\n      <td>99.00</td>\n      <td>99.00</td>\n      <td>99.00</td>\n      <td>999</td>\n      <td>1016.0</td>\n      <td>18.7</td>\n      <td>19.9</td>\n      <td>13.6</td>\n      <td>99.0</td>\n      <td>99.00</td>\n    </tr>\n    <tr>\n      <th>1470</th>\n      <td>2009</td>\n      <td>08</td>\n      <td>31</td>\n      <td>20</td>\n      <td>00</td>\n      <td>177</td>\n      <td>1.1</td>\n      <td>99.0</td>\n      <td>99.00</td>\n      <td>99.00</td>\n      <td>99.00</td>\n      <td>999</td>\n      <td>1016.0</td>\n      <td>18.8</td>\n      <td>20.1</td>\n      <td>13.5</td>\n      <td>99.0</td>\n      <td>99.00</td>\n    </tr>\n    <tr>\n      <th>1471</th>\n      <td>2009</td>\n      <td>08</td>\n      <td>31</td>\n      <td>21</td>\n      <td>00</td>\n      <td>166</td>\n      <td>1.1</td>\n      <td>99.0</td>\n      <td>99.00</td>\n      <td>99.00</td>\n      <td>99.00</td>\n      <td>999</td>\n      <td>1015.0</td>\n      <td>18.7</td>\n      <td>20.1</td>\n      <td>13.9</td>\n      <td>99.0</td>\n      <td>99.00</td>\n    </tr>\n    <tr>\n      <th>1472</th>\n      <td>2009</td>\n      <td>08</td>\n      <td>31</td>\n      <td>22</td>\n      <td>00</td>\n      <td>133</td>\n      <td>2.7</td>\n      <td>99.0</td>\n      <td>99.00</td>\n      <td>99.00</td>\n      <td>99.00</td>\n      <td>999</td>\n      <td>1016.0</td>\n      <td>18.4</td>\n      <td>19.9</td>\n      <td>14.7</td>\n      <td>99.0</td>\n      <td>99.00</td>\n    </tr>\n    <tr>\n      <th>1473</th>\n      <td>2009</td>\n      <td>08</td>\n      <td>31</td>\n      <td>23</td>\n      <td>00</td>\n      <td>176</td>\n      <td>2.0</td>\n      <td>99.0</td>\n      <td>99.00</td>\n      <td>99.00</td>\n      <td>99.00</td>\n      <td>999</td>\n      <td>1016.0</td>\n      <td>18.1</td>\n      <td>19.9</td>\n      <td>14.9</td>\n      <td>99.0</td>\n      <td>99.00</td>\n    </tr>\n  </tbody>\n</table>\n<p>1474 rows × 18 columns</p>\n</div>"
     },
     "execution_count": 3,
     "metadata": {},
     "output_type": "execute_result"
    }
   ],
   "source": [
    "url =\"https://www.ndbc.noaa.gov/data/historical/stdmet/32st1h2009.txt.gz\"\n",
    "df_data = pd.read_csv(url, delim_whitespace=True, low_memory=False)\n",
    "df_data"
   ],
   "metadata": {
    "collapsed": false,
    "pycharm": {
     "name": "#%%\n"
    }
   }
  },
  {
   "cell_type": "markdown",
   "source": [],
   "metadata": {
    "collapsed": false,
    "pycharm": {
     "name": "#%% md\n"
    }
   }
  },
  {
   "cell_type": "code",
   "execution_count": 8,
   "outputs": [],
   "source": [
    "df_data.to_csv(\"../data/oneBuoyData.csv\") # used for documentation / thesis"
   ],
   "metadata": {
    "collapsed": false,
    "pycharm": {
     "name": "#%%\n"
    }
   }
  },
  {
   "cell_type": "code",
   "execution_count": 1,
   "metadata": {
    "collapsed": true,
    "pycharm": {
     "name": "#%%\n"
    }
   },
   "outputs": [
    {
     "data": {
      "text/plain": "       #YY  MM  DD  hh  mm DEPTH   OTMP    COND    SAL    O2%  O2PPM   CLCON  \\\n0      #yr  mo  dy  hr  mn     m   degC   mS/cm    psu      %    ppm    ug/l   \n1     2009  07  01  00  00   1.0  21.00  999.00  35.60  999.0  99.00  999.00   \n2     2009  07  01  01  00   1.0  21.00  999.00  35.60  999.0  99.00  999.00   \n3     2009  07  01  02  00   1.0  21.00  999.00  35.60  999.0  99.00  999.00   \n4     2009  07  01  03  00   1.0  20.90  999.00  35.60  999.0  99.00  999.00   \n...    ...  ..  ..  ..  ..   ...    ...     ...    ...    ...    ...     ...   \n1469  2009  08  31  19  00   1.0  19.90  999.00  35.50  999.0  99.00  999.00   \n1470  2009  08  31  20  00   1.0  20.10  999.00  35.40  999.0  99.00  999.00   \n1471  2009  08  31  21  00   1.0  20.10  999.00  35.50  999.0  99.00  999.00   \n1472  2009  08  31  22  00   1.0  19.90  999.00  35.40  999.0  99.00  999.00   \n1473  2009  08  31  23  00   1.0  19.90  999.00  35.50  999.0  99.00  999.00   \n\n     TURB     PH     EH  \n0     FTU      -     mv  \n1      99  99.00  99.00  \n2      99  99.00  99.00  \n3      99  99.00  99.00  \n4      99  99.00  99.00  \n...   ...    ...    ...  \n1469   99  99.00  99.00  \n1470   99  99.00  99.00  \n1471   99  99.00  99.00  \n1472   99  99.00  99.00  \n1473   99  99.00  99.00  \n\n[1474 rows x 15 columns]",
      "text/html": "<div>\n<style scoped>\n    .dataframe tbody tr th:only-of-type {\n        vertical-align: middle;\n    }\n\n    .dataframe tbody tr th {\n        vertical-align: top;\n    }\n\n    .dataframe thead th {\n        text-align: right;\n    }\n</style>\n<table border=\"1\" class=\"dataframe\">\n  <thead>\n    <tr style=\"text-align: right;\">\n      <th></th>\n      <th>#YY</th>\n      <th>MM</th>\n      <th>DD</th>\n      <th>hh</th>\n      <th>mm</th>\n      <th>DEPTH</th>\n      <th>OTMP</th>\n      <th>COND</th>\n      <th>SAL</th>\n      <th>O2%</th>\n      <th>O2PPM</th>\n      <th>CLCON</th>\n      <th>TURB</th>\n      <th>PH</th>\n      <th>EH</th>\n    </tr>\n  </thead>\n  <tbody>\n    <tr>\n      <th>0</th>\n      <td>#yr</td>\n      <td>mo</td>\n      <td>dy</td>\n      <td>hr</td>\n      <td>mn</td>\n      <td>m</td>\n      <td>degC</td>\n      <td>mS/cm</td>\n      <td>psu</td>\n      <td>%</td>\n      <td>ppm</td>\n      <td>ug/l</td>\n      <td>FTU</td>\n      <td>-</td>\n      <td>mv</td>\n    </tr>\n    <tr>\n      <th>1</th>\n      <td>2009</td>\n      <td>07</td>\n      <td>01</td>\n      <td>00</td>\n      <td>00</td>\n      <td>1.0</td>\n      <td>21.00</td>\n      <td>999.00</td>\n      <td>35.60</td>\n      <td>999.0</td>\n      <td>99.00</td>\n      <td>999.00</td>\n      <td>99</td>\n      <td>99.00</td>\n      <td>99.00</td>\n    </tr>\n    <tr>\n      <th>2</th>\n      <td>2009</td>\n      <td>07</td>\n      <td>01</td>\n      <td>01</td>\n      <td>00</td>\n      <td>1.0</td>\n      <td>21.00</td>\n      <td>999.00</td>\n      <td>35.60</td>\n      <td>999.0</td>\n      <td>99.00</td>\n      <td>999.00</td>\n      <td>99</td>\n      <td>99.00</td>\n      <td>99.00</td>\n    </tr>\n    <tr>\n      <th>3</th>\n      <td>2009</td>\n      <td>07</td>\n      <td>01</td>\n      <td>02</td>\n      <td>00</td>\n      <td>1.0</td>\n      <td>21.00</td>\n      <td>999.00</td>\n      <td>35.60</td>\n      <td>999.0</td>\n      <td>99.00</td>\n      <td>999.00</td>\n      <td>99</td>\n      <td>99.00</td>\n      <td>99.00</td>\n    </tr>\n    <tr>\n      <th>4</th>\n      <td>2009</td>\n      <td>07</td>\n      <td>01</td>\n      <td>03</td>\n      <td>00</td>\n      <td>1.0</td>\n      <td>20.90</td>\n      <td>999.00</td>\n      <td>35.60</td>\n      <td>999.0</td>\n      <td>99.00</td>\n      <td>999.00</td>\n      <td>99</td>\n      <td>99.00</td>\n      <td>99.00</td>\n    </tr>\n    <tr>\n      <th>...</th>\n      <td>...</td>\n      <td>...</td>\n      <td>...</td>\n      <td>...</td>\n      <td>...</td>\n      <td>...</td>\n      <td>...</td>\n      <td>...</td>\n      <td>...</td>\n      <td>...</td>\n      <td>...</td>\n      <td>...</td>\n      <td>...</td>\n      <td>...</td>\n      <td>...</td>\n    </tr>\n    <tr>\n      <th>1469</th>\n      <td>2009</td>\n      <td>08</td>\n      <td>31</td>\n      <td>19</td>\n      <td>00</td>\n      <td>1.0</td>\n      <td>19.90</td>\n      <td>999.00</td>\n      <td>35.50</td>\n      <td>999.0</td>\n      <td>99.00</td>\n      <td>999.00</td>\n      <td>99</td>\n      <td>99.00</td>\n      <td>99.00</td>\n    </tr>\n    <tr>\n      <th>1470</th>\n      <td>2009</td>\n      <td>08</td>\n      <td>31</td>\n      <td>20</td>\n      <td>00</td>\n      <td>1.0</td>\n      <td>20.10</td>\n      <td>999.00</td>\n      <td>35.40</td>\n      <td>999.0</td>\n      <td>99.00</td>\n      <td>999.00</td>\n      <td>99</td>\n      <td>99.00</td>\n      <td>99.00</td>\n    </tr>\n    <tr>\n      <th>1471</th>\n      <td>2009</td>\n      <td>08</td>\n      <td>31</td>\n      <td>21</td>\n      <td>00</td>\n      <td>1.0</td>\n      <td>20.10</td>\n      <td>999.00</td>\n      <td>35.50</td>\n      <td>999.0</td>\n      <td>99.00</td>\n      <td>999.00</td>\n      <td>99</td>\n      <td>99.00</td>\n      <td>99.00</td>\n    </tr>\n    <tr>\n      <th>1472</th>\n      <td>2009</td>\n      <td>08</td>\n      <td>31</td>\n      <td>22</td>\n      <td>00</td>\n      <td>1.0</td>\n      <td>19.90</td>\n      <td>999.00</td>\n      <td>35.40</td>\n      <td>999.0</td>\n      <td>99.00</td>\n      <td>999.00</td>\n      <td>99</td>\n      <td>99.00</td>\n      <td>99.00</td>\n    </tr>\n    <tr>\n      <th>1473</th>\n      <td>2009</td>\n      <td>08</td>\n      <td>31</td>\n      <td>23</td>\n      <td>00</td>\n      <td>1.0</td>\n      <td>19.90</td>\n      <td>999.00</td>\n      <td>35.50</td>\n      <td>999.0</td>\n      <td>99.00</td>\n      <td>999.00</td>\n      <td>99</td>\n      <td>99.00</td>\n      <td>99.00</td>\n    </tr>\n  </tbody>\n</table>\n<p>1474 rows × 15 columns</p>\n</div>"
     },
     "execution_count": 1,
     "metadata": {},
     "output_type": "execute_result"
    }
   ],
   "source": [
    "url =\"https://www.ndbc.noaa.gov/data/historical/ocean/32st1o2009.txt.gz\"\n",
    "df_data = pd.read_csv(url, delim_whitespace=True, low_memory=False)\n",
    "df_data"
   ]
  },
  {
   "cell_type": "markdown",
   "source": [
    "# Ideas 1:\n",
    "Maybee, it would make sense to use another dataset than stdmet"
   ],
   "metadata": {
    "collapsed": false,
    "pycharm": {
     "name": "#%% md\n"
    }
   }
  },
  {
   "cell_type": "markdown",
   "source": [
    "Datapath used by Austin:\n"
   ],
   "metadata": {
    "collapsed": false,
    "pycharm": {
     "name": "#%% md\n"
    }
   }
  },
  {
   "cell_type": "code",
   "execution_count": 4,
   "outputs": [
    {
     "data": {
      "text/plain": "'http://www.ndbc.noaa.gov/view_text_file.php?filename=32st1h2020.txt.gz&dir=data/historical/stdmet/'"
     },
     "execution_count": 4,
     "metadata": {},
     "output_type": "execute_result"
    }
   ],
   "source": [
    "\n",
    "#url =\"https://www.ndbc.noaa.gov/data/historical/stdmet/32st1h2009.txt.gz\"\n",
    "buoy = \"32st1\"\n",
    "date = \"2020\"\n",
    "myurl = \"http://www.ndbc.noaa.gov/view_text_file.php?filename=\"+buoy+\"h\"+ date +\".txt.gz&dir=data/historical/stdmet/\"\n",
    "myurl\n"
   ],
   "metadata": {
    "collapsed": false,
    "pycharm": {
     "name": "#%%\n"
    }
   }
  },
  {
   "cell_type": "markdown",
   "source": [
    "## Compare my download function with Austins"
   ],
   "metadata": {
    "collapsed": false,
    "pycharm": {
     "name": "#%% md\n"
    }
   }
  },
  {
   "cell_type": "code",
   "execution_count": 15,
   "outputs": [
    {
     "name": "stdout",
     "output_type": "stream",
     "text": [
      "http://www.ndbc.noaa.gov/view_text_file.php?filename=0y2w3h2012.txt.gz&dir=data/historical/stdmet/\n"
     ]
    },
    {
     "data": {
      "text/plain": "        #YY    MM    DD    hh    mm   WDIR  WSPD   GST  WVHT   DPD   APD  \\\n0    2012.0   7.0   1.0   0.0  20.0  180.0   3.1  99.0   0.9  99.0  99.0   \n1    2012.0   7.0   1.0  12.0  26.0  300.0   1.3  99.0   0.3  99.0  99.0   \n2    2012.0   7.0   1.0  13.0  55.0  220.0   0.9  99.0   0.3  99.0  99.0   \n3    2012.0   7.0   1.0  15.0  55.0  130.0   0.9  99.0   0.3  99.0  99.0   \n4    2012.0   7.0   1.0  18.0  40.0  170.0   4.0  99.0   0.9  99.0  99.0   \n..      ...   ...   ...   ...   ...    ...   ...   ...   ...   ...   ...   \n823  2012.0  12.0  31.0   0.0  55.0  230.0   3.1  99.0   0.3  99.0  99.0   \n824  2012.0  12.0  31.0  12.0  50.0  270.0   1.8  99.0   0.0  99.0  99.0   \n825  2012.0  12.0  31.0  16.0  35.0  310.0   2.7  99.0   0.3  99.0  99.0   \n826  2012.0  12.0  31.0  18.0  55.0  280.0   3.6  99.0   0.0  99.0  99.0   \n827  2012.0  12.0  31.0  21.0  50.0  330.0   2.2  99.0   0.3  99.0  99.0   \n\n       MWD    PRES  ATMP   WTMP   DEWP  VIS  TIDE  \n0    999.0  9999.0  21.0  999.0  999.0  6.0  99.0  \n1    999.0  9999.0  21.0  999.0  999.0  6.0  99.0  \n2    999.0  9999.0  23.0  999.0  999.0  6.0  99.0  \n3    999.0  9999.0  24.0  999.0  999.0  6.0  99.0  \n4    999.0  9999.0  22.0  999.0  999.0  6.0  99.0  \n..     ...     ...   ...    ...    ...  ...   ...  \n823  999.0  1018.5  -9.0  999.0  999.0  6.0  99.0  \n824  999.0  1013.8  -6.0  999.0  999.0  1.0  99.0  \n825  999.0  1015.1  -4.0  999.0  999.0  6.0  99.0  \n826  999.0  1014.8  -4.0  999.0  999.0  6.0  99.0  \n827  999.0  1015.8  -6.0  999.0  999.0  6.0  99.0  \n\n[828 rows x 18 columns]",
      "text/html": "<div>\n<style scoped>\n    .dataframe tbody tr th:only-of-type {\n        vertical-align: middle;\n    }\n\n    .dataframe tbody tr th {\n        vertical-align: top;\n    }\n\n    .dataframe thead th {\n        text-align: right;\n    }\n</style>\n<table border=\"1\" class=\"dataframe\">\n  <thead>\n    <tr style=\"text-align: right;\">\n      <th></th>\n      <th>#YY</th>\n      <th>MM</th>\n      <th>DD</th>\n      <th>hh</th>\n      <th>mm</th>\n      <th>WDIR</th>\n      <th>WSPD</th>\n      <th>GST</th>\n      <th>WVHT</th>\n      <th>DPD</th>\n      <th>APD</th>\n      <th>MWD</th>\n      <th>PRES</th>\n      <th>ATMP</th>\n      <th>WTMP</th>\n      <th>DEWP</th>\n      <th>VIS</th>\n      <th>TIDE</th>\n    </tr>\n  </thead>\n  <tbody>\n    <tr>\n      <th>0</th>\n      <td>2012.0</td>\n      <td>7.0</td>\n      <td>1.0</td>\n      <td>0.0</td>\n      <td>20.0</td>\n      <td>180.0</td>\n      <td>3.1</td>\n      <td>99.0</td>\n      <td>0.9</td>\n      <td>99.0</td>\n      <td>99.0</td>\n      <td>999.0</td>\n      <td>9999.0</td>\n      <td>21.0</td>\n      <td>999.0</td>\n      <td>999.0</td>\n      <td>6.0</td>\n      <td>99.0</td>\n    </tr>\n    <tr>\n      <th>1</th>\n      <td>2012.0</td>\n      <td>7.0</td>\n      <td>1.0</td>\n      <td>12.0</td>\n      <td>26.0</td>\n      <td>300.0</td>\n      <td>1.3</td>\n      <td>99.0</td>\n      <td>0.3</td>\n      <td>99.0</td>\n      <td>99.0</td>\n      <td>999.0</td>\n      <td>9999.0</td>\n      <td>21.0</td>\n      <td>999.0</td>\n      <td>999.0</td>\n      <td>6.0</td>\n      <td>99.0</td>\n    </tr>\n    <tr>\n      <th>2</th>\n      <td>2012.0</td>\n      <td>7.0</td>\n      <td>1.0</td>\n      <td>13.0</td>\n      <td>55.0</td>\n      <td>220.0</td>\n      <td>0.9</td>\n      <td>99.0</td>\n      <td>0.3</td>\n      <td>99.0</td>\n      <td>99.0</td>\n      <td>999.0</td>\n      <td>9999.0</td>\n      <td>23.0</td>\n      <td>999.0</td>\n      <td>999.0</td>\n      <td>6.0</td>\n      <td>99.0</td>\n    </tr>\n    <tr>\n      <th>3</th>\n      <td>2012.0</td>\n      <td>7.0</td>\n      <td>1.0</td>\n      <td>15.0</td>\n      <td>55.0</td>\n      <td>130.0</td>\n      <td>0.9</td>\n      <td>99.0</td>\n      <td>0.3</td>\n      <td>99.0</td>\n      <td>99.0</td>\n      <td>999.0</td>\n      <td>9999.0</td>\n      <td>24.0</td>\n      <td>999.0</td>\n      <td>999.0</td>\n      <td>6.0</td>\n      <td>99.0</td>\n    </tr>\n    <tr>\n      <th>4</th>\n      <td>2012.0</td>\n      <td>7.0</td>\n      <td>1.0</td>\n      <td>18.0</td>\n      <td>40.0</td>\n      <td>170.0</td>\n      <td>4.0</td>\n      <td>99.0</td>\n      <td>0.9</td>\n      <td>99.0</td>\n      <td>99.0</td>\n      <td>999.0</td>\n      <td>9999.0</td>\n      <td>22.0</td>\n      <td>999.0</td>\n      <td>999.0</td>\n      <td>6.0</td>\n      <td>99.0</td>\n    </tr>\n    <tr>\n      <th>...</th>\n      <td>...</td>\n      <td>...</td>\n      <td>...</td>\n      <td>...</td>\n      <td>...</td>\n      <td>...</td>\n      <td>...</td>\n      <td>...</td>\n      <td>...</td>\n      <td>...</td>\n      <td>...</td>\n      <td>...</td>\n      <td>...</td>\n      <td>...</td>\n      <td>...</td>\n      <td>...</td>\n      <td>...</td>\n      <td>...</td>\n    </tr>\n    <tr>\n      <th>823</th>\n      <td>2012.0</td>\n      <td>12.0</td>\n      <td>31.0</td>\n      <td>0.0</td>\n      <td>55.0</td>\n      <td>230.0</td>\n      <td>3.1</td>\n      <td>99.0</td>\n      <td>0.3</td>\n      <td>99.0</td>\n      <td>99.0</td>\n      <td>999.0</td>\n      <td>1018.5</td>\n      <td>-9.0</td>\n      <td>999.0</td>\n      <td>999.0</td>\n      <td>6.0</td>\n      <td>99.0</td>\n    </tr>\n    <tr>\n      <th>824</th>\n      <td>2012.0</td>\n      <td>12.0</td>\n      <td>31.0</td>\n      <td>12.0</td>\n      <td>50.0</td>\n      <td>270.0</td>\n      <td>1.8</td>\n      <td>99.0</td>\n      <td>0.0</td>\n      <td>99.0</td>\n      <td>99.0</td>\n      <td>999.0</td>\n      <td>1013.8</td>\n      <td>-6.0</td>\n      <td>999.0</td>\n      <td>999.0</td>\n      <td>1.0</td>\n      <td>99.0</td>\n    </tr>\n    <tr>\n      <th>825</th>\n      <td>2012.0</td>\n      <td>12.0</td>\n      <td>31.0</td>\n      <td>16.0</td>\n      <td>35.0</td>\n      <td>310.0</td>\n      <td>2.7</td>\n      <td>99.0</td>\n      <td>0.3</td>\n      <td>99.0</td>\n      <td>99.0</td>\n      <td>999.0</td>\n      <td>1015.1</td>\n      <td>-4.0</td>\n      <td>999.0</td>\n      <td>999.0</td>\n      <td>6.0</td>\n      <td>99.0</td>\n    </tr>\n    <tr>\n      <th>826</th>\n      <td>2012.0</td>\n      <td>12.0</td>\n      <td>31.0</td>\n      <td>18.0</td>\n      <td>55.0</td>\n      <td>280.0</td>\n      <td>3.6</td>\n      <td>99.0</td>\n      <td>0.0</td>\n      <td>99.0</td>\n      <td>99.0</td>\n      <td>999.0</td>\n      <td>1014.8</td>\n      <td>-4.0</td>\n      <td>999.0</td>\n      <td>999.0</td>\n      <td>6.0</td>\n      <td>99.0</td>\n    </tr>\n    <tr>\n      <th>827</th>\n      <td>2012.0</td>\n      <td>12.0</td>\n      <td>31.0</td>\n      <td>21.0</td>\n      <td>50.0</td>\n      <td>330.0</td>\n      <td>2.2</td>\n      <td>99.0</td>\n      <td>0.3</td>\n      <td>99.0</td>\n      <td>99.0</td>\n      <td>999.0</td>\n      <td>1015.8</td>\n      <td>-6.0</td>\n      <td>999.0</td>\n      <td>999.0</td>\n      <td>6.0</td>\n      <td>99.0</td>\n    </tr>\n  </tbody>\n</table>\n<p>828 rows × 18 columns</p>\n</div>"
     },
     "metadata": {},
     "output_type": "display_data"
    },
    {
     "data": {
      "text/plain": "array([[2.012e+03, 7.000e+00, 1.000e+00, ..., 9.990e+02, 6.000e+00,\n        9.900e+01],\n       [2.012e+03, 7.000e+00, 1.000e+00, ..., 9.990e+02, 6.000e+00,\n        9.900e+01],\n       [2.012e+03, 7.000e+00, 1.000e+00, ..., 9.990e+02, 6.000e+00,\n        9.900e+01],\n       ...,\n       [2.012e+03, 1.200e+01, 3.100e+01, ..., 9.990e+02, 6.000e+00,\n        9.900e+01],\n       [2.012e+03, 1.200e+01, 3.100e+01, ..., 9.990e+02, 6.000e+00,\n        9.900e+01],\n       [2.012e+03, 1.200e+01, 3.100e+01, ..., 9.990e+02, 6.000e+00,\n        9.900e+01]])"
     },
     "metadata": {},
     "output_type": "display_data"
    }
   ],
   "source": [
    "from IPython.core.display_functions import display\n",
    "import requests\n",
    "import numpy as np\n",
    "\n",
    "def download_noaa(buoy, date):\n",
    "    myurl = \"http://www.ndbc.noaa.gov/view_text_file.php?filename=\"+buoy+\"h\"+ date +\".txt.gz&dir=data/historical/stdmet/\"\n",
    "    print(myurl)\n",
    "    data = requests.get(myurl).text.split(\"\\n\")\n",
    "\n",
    "    return_val = []\n",
    "    for line in data[2:]:\n",
    "        return_val.append([float(a) for a in line.strip().split(\" \") if a.strip() != '' ] )\n",
    "\n",
    "    return_val = np.array(return_val[0:-1])\n",
    "\n",
    "\n",
    "    if return_val.size == 0:\n",
    "        return return_val, return_val\n",
    "\n",
    "    df = pd.DataFrame(return_val, columns = data[0].split())\n",
    "\n",
    "    return df, return_val\n",
    "\n",
    "austin_df, austin_return_val = download_noaa(\"0y2w3\", \"2012\")\n",
    "display(austin_df)\n",
    "display(austin_return_val)"
   ],
   "metadata": {
    "collapsed": false,
    "pycharm": {
     "name": "#%%\n"
    }
   }
  },
  {
   "cell_type": "code",
   "execution_count": 19,
   "outputs": [
    {
     "data": {
      "text/plain": "      #YY  MM  DD  hh  mm  WDIR WSPD   GST  WVHT    DPD    APD   MWD    PRES  \\\n0     #yr  mo  dy  hr  mn  degT  m/s   m/s     m    sec    sec  degT     hPa   \n1    2012  07  01  00  20   180  3.1  99.0  0.90  99.00  99.00   999  9999.0   \n2    2012  07  01  12  26   300  1.3  99.0  0.30  99.00  99.00   999  9999.0   \n3    2012  07  01  13  55   220  0.9  99.0  0.30  99.00  99.00   999  9999.0   \n4    2012  07  01  15  55   130  0.9  99.0  0.30  99.00  99.00   999  9999.0   \n..    ...  ..  ..  ..  ..   ...  ...   ...   ...    ...    ...   ...     ...   \n824  2012  12  31  00  55   230  3.1  99.0  0.30  99.00  99.00   999  1018.5   \n825  2012  12  31  12  50   270  1.8  99.0  0.00  99.00  99.00   999  1013.8   \n826  2012  12  31  16  35   310  2.7  99.0  0.30  99.00  99.00   999  1015.1   \n827  2012  12  31  18  55   280  3.6  99.0  0.00  99.00  99.00   999  1014.8   \n828  2012  12  31  21  50   330  2.2  99.0  0.30  99.00  99.00   999  1015.8   \n\n     ATMP   WTMP   DEWP  VIS   TIDE  \n0    degC   degC   degC   mi     ft  \n1    21.0  999.0  999.0  6.0  99.00  \n2    21.0  999.0  999.0  6.0  99.00  \n3    23.0  999.0  999.0  6.0  99.00  \n4    24.0  999.0  999.0  6.0  99.00  \n..    ...    ...    ...  ...    ...  \n824  -9.0  999.0  999.0  6.0  99.00  \n825  -6.0  999.0  999.0  1.0  99.00  \n826  -4.0  999.0  999.0  6.0  99.00  \n827  -4.0  999.0  999.0  6.0  99.00  \n828  -6.0  999.0  999.0  6.0  99.00  \n\n[829 rows x 18 columns]",
      "text/html": "<div>\n<style scoped>\n    .dataframe tbody tr th:only-of-type {\n        vertical-align: middle;\n    }\n\n    .dataframe tbody tr th {\n        vertical-align: top;\n    }\n\n    .dataframe thead th {\n        text-align: right;\n    }\n</style>\n<table border=\"1\" class=\"dataframe\">\n  <thead>\n    <tr style=\"text-align: right;\">\n      <th></th>\n      <th>#YY</th>\n      <th>MM</th>\n      <th>DD</th>\n      <th>hh</th>\n      <th>mm</th>\n      <th>WDIR</th>\n      <th>WSPD</th>\n      <th>GST</th>\n      <th>WVHT</th>\n      <th>DPD</th>\n      <th>APD</th>\n      <th>MWD</th>\n      <th>PRES</th>\n      <th>ATMP</th>\n      <th>WTMP</th>\n      <th>DEWP</th>\n      <th>VIS</th>\n      <th>TIDE</th>\n    </tr>\n  </thead>\n  <tbody>\n    <tr>\n      <th>0</th>\n      <td>#yr</td>\n      <td>mo</td>\n      <td>dy</td>\n      <td>hr</td>\n      <td>mn</td>\n      <td>degT</td>\n      <td>m/s</td>\n      <td>m/s</td>\n      <td>m</td>\n      <td>sec</td>\n      <td>sec</td>\n      <td>degT</td>\n      <td>hPa</td>\n      <td>degC</td>\n      <td>degC</td>\n      <td>degC</td>\n      <td>mi</td>\n      <td>ft</td>\n    </tr>\n    <tr>\n      <th>1</th>\n      <td>2012</td>\n      <td>07</td>\n      <td>01</td>\n      <td>00</td>\n      <td>20</td>\n      <td>180</td>\n      <td>3.1</td>\n      <td>99.0</td>\n      <td>0.90</td>\n      <td>99.00</td>\n      <td>99.00</td>\n      <td>999</td>\n      <td>9999.0</td>\n      <td>21.0</td>\n      <td>999.0</td>\n      <td>999.0</td>\n      <td>6.0</td>\n      <td>99.00</td>\n    </tr>\n    <tr>\n      <th>2</th>\n      <td>2012</td>\n      <td>07</td>\n      <td>01</td>\n      <td>12</td>\n      <td>26</td>\n      <td>300</td>\n      <td>1.3</td>\n      <td>99.0</td>\n      <td>0.30</td>\n      <td>99.00</td>\n      <td>99.00</td>\n      <td>999</td>\n      <td>9999.0</td>\n      <td>21.0</td>\n      <td>999.0</td>\n      <td>999.0</td>\n      <td>6.0</td>\n      <td>99.00</td>\n    </tr>\n    <tr>\n      <th>3</th>\n      <td>2012</td>\n      <td>07</td>\n      <td>01</td>\n      <td>13</td>\n      <td>55</td>\n      <td>220</td>\n      <td>0.9</td>\n      <td>99.0</td>\n      <td>0.30</td>\n      <td>99.00</td>\n      <td>99.00</td>\n      <td>999</td>\n      <td>9999.0</td>\n      <td>23.0</td>\n      <td>999.0</td>\n      <td>999.0</td>\n      <td>6.0</td>\n      <td>99.00</td>\n    </tr>\n    <tr>\n      <th>4</th>\n      <td>2012</td>\n      <td>07</td>\n      <td>01</td>\n      <td>15</td>\n      <td>55</td>\n      <td>130</td>\n      <td>0.9</td>\n      <td>99.0</td>\n      <td>0.30</td>\n      <td>99.00</td>\n      <td>99.00</td>\n      <td>999</td>\n      <td>9999.0</td>\n      <td>24.0</td>\n      <td>999.0</td>\n      <td>999.0</td>\n      <td>6.0</td>\n      <td>99.00</td>\n    </tr>\n    <tr>\n      <th>...</th>\n      <td>...</td>\n      <td>...</td>\n      <td>...</td>\n      <td>...</td>\n      <td>...</td>\n      <td>...</td>\n      <td>...</td>\n      <td>...</td>\n      <td>...</td>\n      <td>...</td>\n      <td>...</td>\n      <td>...</td>\n      <td>...</td>\n      <td>...</td>\n      <td>...</td>\n      <td>...</td>\n      <td>...</td>\n      <td>...</td>\n    </tr>\n    <tr>\n      <th>824</th>\n      <td>2012</td>\n      <td>12</td>\n      <td>31</td>\n      <td>00</td>\n      <td>55</td>\n      <td>230</td>\n      <td>3.1</td>\n      <td>99.0</td>\n      <td>0.30</td>\n      <td>99.00</td>\n      <td>99.00</td>\n      <td>999</td>\n      <td>1018.5</td>\n      <td>-9.0</td>\n      <td>999.0</td>\n      <td>999.0</td>\n      <td>6.0</td>\n      <td>99.00</td>\n    </tr>\n    <tr>\n      <th>825</th>\n      <td>2012</td>\n      <td>12</td>\n      <td>31</td>\n      <td>12</td>\n      <td>50</td>\n      <td>270</td>\n      <td>1.8</td>\n      <td>99.0</td>\n      <td>0.00</td>\n      <td>99.00</td>\n      <td>99.00</td>\n      <td>999</td>\n      <td>1013.8</td>\n      <td>-6.0</td>\n      <td>999.0</td>\n      <td>999.0</td>\n      <td>1.0</td>\n      <td>99.00</td>\n    </tr>\n    <tr>\n      <th>826</th>\n      <td>2012</td>\n      <td>12</td>\n      <td>31</td>\n      <td>16</td>\n      <td>35</td>\n      <td>310</td>\n      <td>2.7</td>\n      <td>99.0</td>\n      <td>0.30</td>\n      <td>99.00</td>\n      <td>99.00</td>\n      <td>999</td>\n      <td>1015.1</td>\n      <td>-4.0</td>\n      <td>999.0</td>\n      <td>999.0</td>\n      <td>6.0</td>\n      <td>99.00</td>\n    </tr>\n    <tr>\n      <th>827</th>\n      <td>2012</td>\n      <td>12</td>\n      <td>31</td>\n      <td>18</td>\n      <td>55</td>\n      <td>280</td>\n      <td>3.6</td>\n      <td>99.0</td>\n      <td>0.00</td>\n      <td>99.00</td>\n      <td>99.00</td>\n      <td>999</td>\n      <td>1014.8</td>\n      <td>-4.0</td>\n      <td>999.0</td>\n      <td>999.0</td>\n      <td>6.0</td>\n      <td>99.00</td>\n    </tr>\n    <tr>\n      <th>828</th>\n      <td>2012</td>\n      <td>12</td>\n      <td>31</td>\n      <td>21</td>\n      <td>50</td>\n      <td>330</td>\n      <td>2.2</td>\n      <td>99.0</td>\n      <td>0.30</td>\n      <td>99.00</td>\n      <td>99.00</td>\n      <td>999</td>\n      <td>1015.8</td>\n      <td>-6.0</td>\n      <td>999.0</td>\n      <td>999.0</td>\n      <td>6.0</td>\n      <td>99.00</td>\n    </tr>\n  </tbody>\n</table>\n<p>829 rows × 18 columns</p>\n</div>"
     },
     "execution_count": 19,
     "metadata": {},
     "output_type": "execute_result"
    }
   ],
   "source": [
    "def get_data_file(station_number, year):\n",
    "    base_url =\"https://www.ndbc.noaa.gov/data/historical/stdmet/\"\n",
    "    filename = station_number +\"h\"+ year + \".txt.gz\"\n",
    "    url = base_url + filename\n",
    "    #print(url)\n",
    "\n",
    "    try:\n",
    "        df_data = pd.read_csv(url, delim_whitespace=True, low_memory=False)\n",
    "        return station_number, df_data    #return as tuple\n",
    "    except BaseException as e:\n",
    "        print('Failed to get file: {}'.format(e))\n",
    "        return None\n",
    "\n",
    "station_number, my_df = get_data_file(\"0y2w3\", \"2012\")\n",
    "my_df\n"
   ],
   "metadata": {
    "collapsed": false,
    "pycharm": {
     "name": "#%%\n"
    }
   }
  },
  {
   "cell_type": "markdown",
   "source": [
    "## --> Yes, it is the same data!"
   ],
   "metadata": {
    "collapsed": false,
    "pycharm": {
     "name": "#%% md\n"
    }
   }
  },
  {
   "cell_type": "markdown",
   "source": [
    "---\n",
    "# Investigate buoy that is listed in historical/stmed but can not be found on NDBC station list"
   ],
   "metadata": {
    "collapsed": false,
    "pycharm": {
     "name": "#%% md\n"
    }
   }
  },
  {
   "cell_type": "code",
   "execution_count": 1,
   "outputs": [
    {
     "data": {
      "text/plain": "       #YY  MM  DD  hh  mm  WDIR WSPD  GST   WVHT    DPD    APD   MWD    PRES  \\\n0      #yr  mo  dy  hr  mn  degT  m/s  m/s      m    sec    sec  degT     hPa   \n1     2020  06  01  00  00   341  0.5  1.7  99.00  99.00  99.00   999  1016.5   \n2     2020  06  01  00  10    12  0.2  0.9  99.00  99.00  99.00   999  1016.5   \n3     2020  06  01  00  20    24  0.3  0.8  99.00  99.00  99.00   999  1016.6   \n4     2020  06  01  00  30    17  0.2  0.6  99.00  99.00  99.00   999  1016.7   \n...    ...  ..  ..  ..  ..   ...  ...  ...    ...    ...    ...   ...     ...   \n2729  2020  06  30  23  10   143  3.4  4.4  99.00  99.00  99.00   999  1014.5   \n2730  2020  06  30  23  20   140  3.3  4.4  99.00  99.00  99.00   999  1014.5   \n2731  2020  06  30  23  30   150  3.4  4.4  99.00  99.00  99.00   999  1014.3   \n2732  2020  06  30  23  40   151  3.0  3.8  99.00  99.00  99.00   999  1014.3   \n2733  2020  06  30  23  50   147  3.2  4.3  99.00  99.00  99.00   999  1014.3   \n\n      ATMP   WTMP  DEWP   VIS   TIDE  \n0     degC   degC  degC    mi     ft  \n1     29.4  999.0  17.8  99.0  99.00  \n2     28.7  999.0  18.0  99.0  99.00  \n3     28.1  999.0  18.2  99.0  99.00  \n4     27.4  999.0  18.6  99.0  99.00  \n...    ...    ...   ...   ...    ...  \n2729  29.2  999.0  24.1  99.0  99.00  \n2730  29.3  999.0  24.2  99.0  99.00  \n2731  29.3  999.0  24.1  99.0  99.00  \n2732  29.2  999.0  24.1  99.0  99.00  \n2733  29.2  999.0  24.1  99.0  99.00  \n\n[2734 rows x 18 columns]",
      "text/html": "<div>\n<style scoped>\n    .dataframe tbody tr th:only-of-type {\n        vertical-align: middle;\n    }\n\n    .dataframe tbody tr th {\n        vertical-align: top;\n    }\n\n    .dataframe thead th {\n        text-align: right;\n    }\n</style>\n<table border=\"1\" class=\"dataframe\">\n  <thead>\n    <tr style=\"text-align: right;\">\n      <th></th>\n      <th>#YY</th>\n      <th>MM</th>\n      <th>DD</th>\n      <th>hh</th>\n      <th>mm</th>\n      <th>WDIR</th>\n      <th>WSPD</th>\n      <th>GST</th>\n      <th>WVHT</th>\n      <th>DPD</th>\n      <th>APD</th>\n      <th>MWD</th>\n      <th>PRES</th>\n      <th>ATMP</th>\n      <th>WTMP</th>\n      <th>DEWP</th>\n      <th>VIS</th>\n      <th>TIDE</th>\n    </tr>\n  </thead>\n  <tbody>\n    <tr>\n      <th>0</th>\n      <td>#yr</td>\n      <td>mo</td>\n      <td>dy</td>\n      <td>hr</td>\n      <td>mn</td>\n      <td>degT</td>\n      <td>m/s</td>\n      <td>m/s</td>\n      <td>m</td>\n      <td>sec</td>\n      <td>sec</td>\n      <td>degT</td>\n      <td>hPa</td>\n      <td>degC</td>\n      <td>degC</td>\n      <td>degC</td>\n      <td>mi</td>\n      <td>ft</td>\n    </tr>\n    <tr>\n      <th>1</th>\n      <td>2020</td>\n      <td>06</td>\n      <td>01</td>\n      <td>00</td>\n      <td>00</td>\n      <td>341</td>\n      <td>0.5</td>\n      <td>1.7</td>\n      <td>99.00</td>\n      <td>99.00</td>\n      <td>99.00</td>\n      <td>999</td>\n      <td>1016.5</td>\n      <td>29.4</td>\n      <td>999.0</td>\n      <td>17.8</td>\n      <td>99.0</td>\n      <td>99.00</td>\n    </tr>\n    <tr>\n      <th>2</th>\n      <td>2020</td>\n      <td>06</td>\n      <td>01</td>\n      <td>00</td>\n      <td>10</td>\n      <td>12</td>\n      <td>0.2</td>\n      <td>0.9</td>\n      <td>99.00</td>\n      <td>99.00</td>\n      <td>99.00</td>\n      <td>999</td>\n      <td>1016.5</td>\n      <td>28.7</td>\n      <td>999.0</td>\n      <td>18.0</td>\n      <td>99.0</td>\n      <td>99.00</td>\n    </tr>\n    <tr>\n      <th>3</th>\n      <td>2020</td>\n      <td>06</td>\n      <td>01</td>\n      <td>00</td>\n      <td>20</td>\n      <td>24</td>\n      <td>0.3</td>\n      <td>0.8</td>\n      <td>99.00</td>\n      <td>99.00</td>\n      <td>99.00</td>\n      <td>999</td>\n      <td>1016.6</td>\n      <td>28.1</td>\n      <td>999.0</td>\n      <td>18.2</td>\n      <td>99.0</td>\n      <td>99.00</td>\n    </tr>\n    <tr>\n      <th>4</th>\n      <td>2020</td>\n      <td>06</td>\n      <td>01</td>\n      <td>00</td>\n      <td>30</td>\n      <td>17</td>\n      <td>0.2</td>\n      <td>0.6</td>\n      <td>99.00</td>\n      <td>99.00</td>\n      <td>99.00</td>\n      <td>999</td>\n      <td>1016.7</td>\n      <td>27.4</td>\n      <td>999.0</td>\n      <td>18.6</td>\n      <td>99.0</td>\n      <td>99.00</td>\n    </tr>\n    <tr>\n      <th>...</th>\n      <td>...</td>\n      <td>...</td>\n      <td>...</td>\n      <td>...</td>\n      <td>...</td>\n      <td>...</td>\n      <td>...</td>\n      <td>...</td>\n      <td>...</td>\n      <td>...</td>\n      <td>...</td>\n      <td>...</td>\n      <td>...</td>\n      <td>...</td>\n      <td>...</td>\n      <td>...</td>\n      <td>...</td>\n      <td>...</td>\n    </tr>\n    <tr>\n      <th>2729</th>\n      <td>2020</td>\n      <td>06</td>\n      <td>30</td>\n      <td>23</td>\n      <td>10</td>\n      <td>143</td>\n      <td>3.4</td>\n      <td>4.4</td>\n      <td>99.00</td>\n      <td>99.00</td>\n      <td>99.00</td>\n      <td>999</td>\n      <td>1014.5</td>\n      <td>29.2</td>\n      <td>999.0</td>\n      <td>24.1</td>\n      <td>99.0</td>\n      <td>99.00</td>\n    </tr>\n    <tr>\n      <th>2730</th>\n      <td>2020</td>\n      <td>06</td>\n      <td>30</td>\n      <td>23</td>\n      <td>20</td>\n      <td>140</td>\n      <td>3.3</td>\n      <td>4.4</td>\n      <td>99.00</td>\n      <td>99.00</td>\n      <td>99.00</td>\n      <td>999</td>\n      <td>1014.5</td>\n      <td>29.3</td>\n      <td>999.0</td>\n      <td>24.2</td>\n      <td>99.0</td>\n      <td>99.00</td>\n    </tr>\n    <tr>\n      <th>2731</th>\n      <td>2020</td>\n      <td>06</td>\n      <td>30</td>\n      <td>23</td>\n      <td>30</td>\n      <td>150</td>\n      <td>3.4</td>\n      <td>4.4</td>\n      <td>99.00</td>\n      <td>99.00</td>\n      <td>99.00</td>\n      <td>999</td>\n      <td>1014.3</td>\n      <td>29.3</td>\n      <td>999.0</td>\n      <td>24.1</td>\n      <td>99.0</td>\n      <td>99.00</td>\n    </tr>\n    <tr>\n      <th>2732</th>\n      <td>2020</td>\n      <td>06</td>\n      <td>30</td>\n      <td>23</td>\n      <td>40</td>\n      <td>151</td>\n      <td>3.0</td>\n      <td>3.8</td>\n      <td>99.00</td>\n      <td>99.00</td>\n      <td>99.00</td>\n      <td>999</td>\n      <td>1014.3</td>\n      <td>29.2</td>\n      <td>999.0</td>\n      <td>24.1</td>\n      <td>99.0</td>\n      <td>99.00</td>\n    </tr>\n    <tr>\n      <th>2733</th>\n      <td>2020</td>\n      <td>06</td>\n      <td>30</td>\n      <td>23</td>\n      <td>50</td>\n      <td>147</td>\n      <td>3.2</td>\n      <td>4.3</td>\n      <td>99.00</td>\n      <td>99.00</td>\n      <td>99.00</td>\n      <td>999</td>\n      <td>1014.3</td>\n      <td>29.2</td>\n      <td>999.0</td>\n      <td>24.1</td>\n      <td>99.0</td>\n      <td>99.00</td>\n    </tr>\n  </tbody>\n</table>\n<p>2734 rows × 18 columns</p>\n</div>"
     },
     "execution_count": 1,
     "metadata": {},
     "output_type": "execute_result"
    }
   ],
   "source": [
    "import myLibrary as mL\n",
    "\n",
    "station_number, df_data = mL.get_data_file(\"4cONF\", \"2020\")\n",
    "\n",
    "df_data"
   ],
   "metadata": {
    "collapsed": false,
    "pycharm": {
     "name": "#%%\n"
    }
   }
  },
  {
   "cell_type": "code",
   "execution_count": null,
   "outputs": [],
   "source": [],
   "metadata": {
    "collapsed": false,
    "pycharm": {
     "name": "#%%\n"
    }
   }
  }
 ],
 "metadata": {
  "kernelspec": {
   "display_name": "Python 3",
   "language": "python",
   "name": "python3"
  },
  "language_info": {
   "codemirror_mode": {
    "name": "ipython",
    "version": 2
   },
   "file_extension": ".py",
   "mimetype": "text/x-python",
   "name": "python",
   "nbconvert_exporter": "python",
   "pygments_lexer": "ipython2",
   "version": "2.7.6"
  }
 },
 "nbformat": 4,
 "nbformat_minor": 0
}