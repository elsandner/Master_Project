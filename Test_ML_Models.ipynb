{
 "cells": [
  {
   "cell_type": "markdown",
   "source": [
    "# Test Environment"
   ],
   "metadata": {
    "collapsed": false,
    "pycharm": {
     "name": "#%% md\n"
    }
   }
  },
  {
   "cell_type": "code",
   "execution_count": 1,
   "outputs": [],
   "source": [
    "import ipywidgets as widgets\n",
    "from IPython.display import display\n",
    "import numpy as np\n",
    "import pandas as pd\n",
    "#import Models.models as models\n",
    "#import Models.LSTM.models_LSTM as models\n",
    "import myLibrary as mL\n",
    "#from Experiment_Class import Experiment\n",
    "from sklearn.metrics import mean_squared_error, mean_absolute_error\n",
    "import pickle\n",
    "\n",
    "NDBC = mL.NDBC_lib\n",
    "ERA5 = mL.ERA5_lib\n",
    "Models = mL.Models\n",
    "DP = mL.DataProcessor\n",
    "Experiment = mL.Experiment"
   ],
   "metadata": {
    "collapsed": false,
    "pycharm": {
     "name": "#%%\n"
    }
   }
  },
  {
   "cell_type": "markdown",
   "source": [
    "# Get Data"
   ],
   "metadata": {
    "collapsed": false,
    "pycharm": {
     "name": "#%% md\n"
    }
   }
  },
  {
   "cell_type": "code",
   "execution_count": 2,
   "outputs": [
    {
     "name": "stdout",
     "output_type": "stream",
     "text": [
      "STATIONS\n"
     ]
    },
    {
     "data": {
      "text/plain": "Box(children=(GridBox(children=(Checkbox(value=False, description='41117', indent=False), Checkbox(value=False…",
      "application/vnd.jupyter.widget-view+json": {
       "version_major": 2,
       "version_minor": 0,
       "model_id": "24b9db3bc0e84511bfd22dc0e7b0ba4b"
      }
     },
     "metadata": {},
     "output_type": "display_data"
    },
    {
     "data": {
      "text/plain": "SelectionRangeSlider(description='Time Range:', index=(51, 52), layout=Layout(width='500px'), options=(1970, 1…",
      "application/vnd.jupyter.widget-view+json": {
       "version_major": 2,
       "version_minor": 0,
       "model_id": "720869471d864ed5adaaf197cdad2b6d"
      }
     },
     "metadata": {},
     "output_type": "display_data"
    },
    {
     "name": "stdout",
     "output_type": "stream",
     "text": [
      "NaN-Threshold:\n"
     ]
    },
    {
     "data": {
      "text/plain": "FloatSlider(value=0.5, layout=Layout(width='500px'), max=1.0, step=0.01)",
      "application/vnd.jupyter.widget-view+json": {
       "version_major": 2,
       "version_minor": 0,
       "model_id": "ef18743e85c74ca3b85501c1d9832ef2"
      }
     },
     "metadata": {},
     "output_type": "display_data"
    },
    {
     "name": "stdout",
     "output_type": "stream",
     "text": [
      "Features:\n"
     ]
    },
    {
     "data": {
      "text/plain": "HBox(children=(Checkbox(value=False, description='WDIR', indent=False), Checkbox(value=False, description='WSP…",
      "application/vnd.jupyter.widget-view+json": {
       "version_major": 2,
       "version_minor": 0,
       "model_id": "a2a9f8dbc0914f10b1f22a616895c2a4"
      }
     },
     "metadata": {},
     "output_type": "display_data"
    },
    {
     "name": "stdout",
     "output_type": "stream",
     "text": [
      "Model Data:\n"
     ]
    },
    {
     "data": {
      "text/plain": "Checkbox(value=False, description='Add ERA5 model data', indent=False)",
      "application/vnd.jupyter.widget-view+json": {
       "version_major": 2,
       "version_minor": 0,
       "model_id": "291314499e4f41fba2a98e7e14dd845e"
      }
     },
     "metadata": {},
     "output_type": "display_data"
    },
    {
     "name": "stdout",
     "output_type": "stream",
     "text": [
      "Alpha:\n"
     ]
    },
    {
     "data": {
      "text/plain": "FloatSlider(value=0.5, layout=Layout(width='500px'), max=1.0, step=0.01)",
      "application/vnd.jupyter.widget-view+json": {
       "version_major": 2,
       "version_minor": 0,
       "model_id": "7707d06b9e9b4653b03092b7afc1763c"
      }
     },
     "metadata": {},
     "output_type": "display_data"
    },
    {
     "name": "stdout",
     "output_type": "stream",
     "text": [
      "Stationary Shilft: \n"
     ]
    },
    {
     "data": {
      "text/plain": "BoundedIntText(value=1, max=10)",
      "application/vnd.jupyter.widget-view+json": {
       "version_major": 2,
       "version_minor": 0,
       "model_id": "2800098b8f384ec5b352351a11cf69ee"
      }
     },
     "metadata": {},
     "output_type": "display_data"
    },
    {
     "name": "stdout",
     "output_type": "stream",
     "text": [
      "LAG:\n"
     ]
    },
    {
     "data": {
      "text/plain": "BoundedIntText(value=1, max=10)",
      "application/vnd.jupyter.widget-view+json": {
       "version_major": 2,
       "version_minor": 0,
       "model_id": "a08d5b7ceaa04e6fbf544ddfda4c7caf"
      }
     },
     "metadata": {},
     "output_type": "display_data"
    },
    {
     "data": {
      "text/plain": "IntSlider(value=24, continuous_update=False, description='Test Hours:', max=1000)",
      "application/vnd.jupyter.widget-view+json": {
       "version_major": 2,
       "version_minor": 0,
       "model_id": "7ef07e4636a84f9fa48feba9b2022030"
      }
     },
     "metadata": {},
     "output_type": "display_data"
    },
    {
     "data": {
      "text/plain": "Select(description='Model:', options=('lstm_0', 'lstm_1', 'lstm_2', 'pinn_0', 'pinn_1'), value='lstm_0')",
      "application/vnd.jupyter.widget-view+json": {
       "version_major": 2,
       "version_minor": 0,
       "model_id": "9c600cdee3fd4d8293bbced05906bf12"
      }
     },
     "metadata": {},
     "output_type": "display_data"
    }
   ],
   "source": [
    "def build_UI():\n",
    "    #STATIONS -----------------------------------------------------------------------------------\n",
    "    # create a list of checkbox widgets for each station\n",
    "    stations = []\n",
    "    for station in NDBC.cleaned_stations_GOM:\n",
    "        checkbox = widgets.Checkbox(value=False, description=station, disabled=False, indent=False)\n",
    "        stations.append(checkbox)\n",
    "\n",
    "    # create a GridBox layout container with two columns\n",
    "    global stations_grid\n",
    "    stations_grid = widgets.GridBox(stations, layout=widgets.Layout(grid_template_columns=\"repeat(3, 300px)\"))\n",
    "\n",
    "    # wrap the GridBox inside a Box layout container with a fixed height and scrollable overflow\n",
    "    stations_box = widgets.Box(children=[stations_grid], layout=widgets.Layout(height=\"200px\", overflow=\"scroll\"))\n",
    "\n",
    "    # display the checkboxes\n",
    "    print(\"STATIONS\")\n",
    "    display(stations_box)\n",
    "\n",
    "    #Years --------------------------------------------------------------------------------------\n",
    "    # create a range slider widget for selecting a time range\n",
    "    global time_range_slider\n",
    "    time_range_slider = widgets.SelectionRangeSlider(\n",
    "        options=list(range(1970, 2023)),  # range of years to select from\n",
    "        index=(51, 52),  # initial range selected (1970-2023)\n",
    "        description='Time Range:',\n",
    "        orientation='horizontal',\n",
    "        layout={'width': '500px'}\n",
    "    )\n",
    "\n",
    "    # display the range slider widget\n",
    "    display(time_range_slider)\n",
    "\n",
    "    #NaN_Theshold--------------------------------------------------------------------------------\n",
    "    # create a FloatSlider widget for a value between 0 and 1\n",
    "    print(\"NaN-Threshold:\")\n",
    "    global nan_threshold_slider\n",
    "    nan_threshold_slider = widgets.FloatSlider(\n",
    "        value=0.5,\n",
    "        min=0,\n",
    "        max=1,\n",
    "        step=0.01,\n",
    "        description='',\n",
    "        readout_format='.2f',\n",
    "        orientation='horizontal',\n",
    "        layout={'width': '500px'}\n",
    "    )\n",
    "\n",
    "    # display the FloatSlider widget\n",
    "    display(nan_threshold_slider)\n",
    "\n",
    "    #Features--------------------------------------------------------------------------------\n",
    "    features = []\n",
    "    for feature in [\"WDIR\", \"WSPD\", \"WVHT\", \"APD\", \"MWD\", \"PRES\", \"ATMP\", \"WTMP\", \"DEWP\"]:\n",
    "        checkbox = widgets.Checkbox(value=False, description=feature, disabled=False, indent=False)\n",
    "        features.append(checkbox)\n",
    "\n",
    "    print(\"Features:\")\n",
    "    global feature_container\n",
    "    feature_container = widgets.HBox(features)\n",
    "    display(feature_container)\n",
    "\n",
    "    #ERA5------------------------------------------------------------------------------------\n",
    "    global era5_checkbox\n",
    "    era5_checkbox = widgets.Checkbox(value=False, description=\"Add ERA5 model data\", disabled=False, indent=False)\n",
    "    print(\"Model Data:\")\n",
    "    display(era5_checkbox)\n",
    "\n",
    "    #ALPHA:\n",
    "    # create a FloatSlider widget for a value between 0 and 1\n",
    "    print(\"Alpha:\")\n",
    "    global alpha_slider\n",
    "    alpha_slider = widgets.FloatSlider(\n",
    "        value=0.5,\n",
    "        min=0,\n",
    "        max=1,\n",
    "        step=0.01,\n",
    "        description='',\n",
    "        readout_format='.2f',\n",
    "        orientation='horizontal',\n",
    "        layout={'width': '500px'}\n",
    "    )\n",
    "\n",
    "    # display the FloatSlider widget\n",
    "    display(alpha_slider)\n",
    "\n",
    "    #STATIONARY_SHIFT -----------------------------------------------------------------------\n",
    "    global stationaryShift_widget\n",
    "    stationaryShift_widget = widgets.BoundedIntText(\n",
    "        value=1,\n",
    "        min=0,\n",
    "        max=10,\n",
    "        step=1,\n",
    "        description='',\n",
    "        disabled=False,\n",
    "    )\n",
    "    print(\"Stationary Shilft: \")\n",
    "    display(stationaryShift_widget)\n",
    "    # LAG ----------------------------------------------------------------------------------------\n",
    "    global lag_widget\n",
    "    lag_widget = widgets.BoundedIntText(\n",
    "        value=1,\n",
    "        min=0,\n",
    "        max=10,\n",
    "        step=1,\n",
    "        description='',\n",
    "        disabled=False,\n",
    "    )\n",
    "    print(\"LAG:\")\n",
    "    display(lag_widget)\n",
    "\n",
    "    # Test Hours-------------------------------------------------------------------------------\n",
    "    global test_hours_widget\n",
    "    test_hours_widget = widgets.IntSlider(\n",
    "        value=24,\n",
    "        min=0,\n",
    "        max=1000,\n",
    "        step=1,\n",
    "        description='Test Hours:',\n",
    "        disabled=False,\n",
    "        continuous_update=False,\n",
    "        orientation='horizontal',\n",
    "        readout=True,\n",
    "        readout_format='d'\n",
    "    )\n",
    "\n",
    "    # display the range slider widget\n",
    "    display(test_hours_widget)\n",
    "    #print(\"(1 Week = 168h)\")\n",
    "\n",
    "    # Test Hours-------------------------------------------------------------------------------\n",
    "    global models_widget\n",
    "    models_list = list(Models.model_dictionary.keys())\n",
    "    models_widget = widgets.Select(\n",
    "        options=models_list,\n",
    "        value=models_list[0],\n",
    "        # rows=10,\n",
    "        description='Model:',\n",
    "        disabled=False\n",
    "    )\n",
    "    display(models_widget)\n",
    "\n",
    "\n",
    "build_UI()"
   ],
   "metadata": {
    "collapsed": false,
    "pycharm": {
     "name": "#%%\n"
    }
   }
  },
  {
   "cell_type": "code",
   "execution_count": 3,
   "outputs": [],
   "source": [
    "STATIONS = [checkbox.description for checkbox in stations_grid.children if checkbox.value]\n",
    "\n",
    "# get the selected time range\n",
    "start_year, end_year = time_range_slider.value\n",
    "YEARS = [str(year) for year in range(start_year, end_year + 1)]\n",
    "NAN_THRESHOLD = nan_threshold_slider.value\n",
    "FEATURES =  [checkbox.description for checkbox in feature_container.children if checkbox.value]\n",
    "ERA5 = era5_checkbox.value\n",
    "ALPHA = alpha_slider.value\n",
    "STATIONARY_SHIFT = stationaryShift_widget.value\n",
    "LAG = lag_widget.value\n",
    "N_TEST_HOURS = test_hours_widget.value\n",
    "MODEL_NAME = models_widget.value"
   ],
   "metadata": {
    "collapsed": false,
    "pycharm": {
     "name": "#%%\n"
    }
   }
  },
  {
   "cell_type": "code",
   "execution_count": 4,
   "outputs": [],
   "source": [
    "#Hardcoded variables!\n",
    "#STATIONS = NDBC.stations_GOM\n",
    "#STATIONS = [\"41008\",\n",
    "            # \"41009\",\n",
    "            # \"41112\",\n",
    "            # \"41113\",\n",
    "            # \"41114\",\n",
    "            # \"42001\",\n",
    "            # \"42002\",\n",
    "            # \"42003\",\n",
    "            # \"42012\",\n",
    "            # \"42019\",\n",
    "            # \"42020\",\n",
    "            # \"42022\",\n",
    "            # \"42035\",\n",
    "            # \"42039\",\n",
    "            # \"42040\",\n",
    "            # \"42055\",\n",
    "            # \"42056\",\n",
    "            # \"42099\",\n",
    "            # \"AMRL1\",\n",
    "            # \"APCF1\",\n",
    "            # \"ARPF1\",\n",
    "            # \"BABT2\",\n",
    "            # \"BKTL1\",\n",
    "            # \"BSCA1\",\n",
    "            # \"BURL1\",\n",
    "            # \"BYGL1\",\n",
    "            # \"CAPL1\",\n",
    "            # \"CARL1\",\n",
    "            # \"CDRF1\",\n",
    "            # \"CRTA1\",\n",
    "            # \"CWBF1\",\n",
    "            # \"EPTT2\",\n",
    "            # \"FHPF1\",\n",
    "            # \"FMOA1\",\n",
    "            # \"FMRF1\",\n",
    "            # \"FRDF1\",\n",
    "            # \"FRWL1\",\n",
    "            # \"FWYF1\",\n",
    "            # \"GISL1\",\n",
    "            # \"GNJT2\",\n",
    "            # \"GTOT2\",\n",
    "            # \"KTNF1\",\n",
    "            # \"KYWF1\",\n",
    "            # \"LCLL1\",\n",
    "            # \"LKWF1\",\n",
    "            # \"LONF1\",\n",
    "            # \"LOPL1\",\n",
    "            # \"MBLA1\",\n",
    "            # \"MCGA1\",\n",
    "            # \"MGPT2\",\n",
    "            # \"MTBF1\",\n",
    "            # \"MYPF1\",\n",
    "            # \"NCHT2\",\n",
    "            # \"NPSF1\",\n",
    "            # \"NWCL1\",\n",
    "            # \"OBLA1\",\n",
    "            # \"OPTF1\",\n",
    "            # \"PACF1\",\n",
    "            # \"PACT2\",\n",
    "            # \"PCBF1\",\n",
    "            # \"PCGT2\",\n",
    "            # \"PCLF1\",\n",
    "            # \"PCNT2\",\n",
    "            # \"PILL1\",\n",
    "            # \"PMAF1\",\n",
    "            # \"PNLM6\",\n",
    "            # \"PORT2\",\n",
    "            # \"PSTL1\",\n",
    "            # \"PTAT2\",\n",
    "            # \"PTBM6\",\n",
    "            # \"PTIT2\",\n",
    "            # \"RCPT2\",\n",
    "            # \"RLOT2\",\n",
    "            # \"RSJT2\",\n",
    "            # \"RTAT2\",\n",
    "            # \"SANF1\",\n",
    "            # \"SAPF1\",\n",
    "            # \"SAUF1\",\n",
    "            # \"SDRT2\",\n",
    "            # \"SGOF1\",\n",
    "            # \"SHBL1\",\n",
    "            # \"SHPF1\",\n",
    "            # \"SIPF1\",\n",
    "            # \"SRST2\",\n",
    "            # \"TAQT2\",\n",
    "            # \"TESL1\",\n",
    "            # \"TPAF1\",\n",
    "            # \"TRDF1\",\n",
    "            # \"TSHF1\",\n",
    "            # \"TXPT2\",\n",
    "            # \"VAKF1\",\n",
    "            # \"VCAF1\",\n",
    "            # \"VCAT2\",\n",
    "            # \"VENF1\",\n",
    "            # \"WYCM6\"]    # All Stations in Gulf of Mexico that provide data files for every year within 2013-2022\n",
    "\n",
    "STATIONS = [\"41117\"]\n",
    "YEARS = [\"2022\"]\n",
    "# NAN_THRESHOLD = 0.5\n",
    "FEATURES =  ['WTMP']\n",
    "ERA5 = True\n",
    "# STATIONARY_SHIFT = 1\n",
    "# LAG = 1\n",
    "# N_TEST_HOURS = 24\n",
    "# MODEL_NAME = \"pinn_1\""
   ],
   "metadata": {
    "collapsed": false,
    "pycharm": {
     "name": "#%%\n"
    }
   }
  },
  {
   "cell_type": "code",
   "execution_count": 5,
   "outputs": [
    {
     "name": "stdout",
     "output_type": "stream",
     "text": [
      "Stations: ['41117']\n",
      "Years: ['2022']\n",
      "NaN_Threshold: 0.5\n",
      "Features: ['WTMP']\n",
      "ERA5: True, Alpha:0.5 Stationary Shift: 1, lag: 1, Test-Hours:24\n",
      "Model: lstm_0\n"
     ]
    }
   ],
   "source": [
    "print(f\"Stations: {STATIONS}\")\n",
    "print(f\"Years: {YEARS}\")\n",
    "print(f\"NaN_Threshold: {NAN_THRESHOLD}\")\n",
    "print(f\"Features: {FEATURES}\")\n",
    "print(f\"ERA5: {ERA5}, Alpha:{ALPHA} Stationary Shift: {STATIONARY_SHIFT}, lag: {LAG}, Test-Hours:{N_TEST_HOURS}\")\n",
    "print(f\"Model: {MODEL_NAME}\")"
   ],
   "metadata": {
    "collapsed": false,
    "pycharm": {
     "name": "#%%\n"
    }
   }
  },
  {
   "cell_type": "code",
   "execution_count": 6,
   "outputs": [
    {
     "name": "stdout",
     "output_type": "stream",
     "text": [
      "Started with  2022 . Previous year took:   0.0007388591766357422 seconds\n",
      "from disc\n",
      "Finished downloading - now merging it together!\n",
      "Started with  2022 . Previous year took:   1.1920928955078125e-06 seconds\n",
      "Finished downloading - now merging it together!\n"
     ]
    },
    {
     "data": {
      "text/plain": "                     WTMP_41117  WTMP_41117_ERA5\ntimestamp                                       \n2022-01-01 00:00:00        20.6        20.254283\n2022-01-01 01:00:00        20.6        20.254283\n2022-01-01 02:00:00        20.5        20.254283\n2022-01-01 03:00:00        20.5        20.254283\n2022-01-01 04:00:00        20.4        20.254283\n...                         ...              ...\n2022-12-31 19:00:00        17.4        18.848540\n2022-12-31 20:00:00        17.4        18.848540\n2022-12-31 21:00:00        17.4        18.848540\n2022-12-31 22:00:00        17.4        19.500180\n2022-12-31 23:00:00        17.3        19.500180\n\n[8760 rows x 2 columns]",
      "text/html": "<div>\n<style scoped>\n    .dataframe tbody tr th:only-of-type {\n        vertical-align: middle;\n    }\n\n    .dataframe tbody tr th {\n        vertical-align: top;\n    }\n\n    .dataframe thead th {\n        text-align: right;\n    }\n</style>\n<table border=\"1\" class=\"dataframe\">\n  <thead>\n    <tr style=\"text-align: right;\">\n      <th></th>\n      <th>WTMP_41117</th>\n      <th>WTMP_41117_ERA5</th>\n    </tr>\n    <tr>\n      <th>timestamp</th>\n      <th></th>\n      <th></th>\n    </tr>\n  </thead>\n  <tbody>\n    <tr>\n      <th>2022-01-01 00:00:00</th>\n      <td>20.6</td>\n      <td>20.254283</td>\n    </tr>\n    <tr>\n      <th>2022-01-01 01:00:00</th>\n      <td>20.6</td>\n      <td>20.254283</td>\n    </tr>\n    <tr>\n      <th>2022-01-01 02:00:00</th>\n      <td>20.5</td>\n      <td>20.254283</td>\n    </tr>\n    <tr>\n      <th>2022-01-01 03:00:00</th>\n      <td>20.5</td>\n      <td>20.254283</td>\n    </tr>\n    <tr>\n      <th>2022-01-01 04:00:00</th>\n      <td>20.4</td>\n      <td>20.254283</td>\n    </tr>\n    <tr>\n      <th>...</th>\n      <td>...</td>\n      <td>...</td>\n    </tr>\n    <tr>\n      <th>2022-12-31 19:00:00</th>\n      <td>17.4</td>\n      <td>18.848540</td>\n    </tr>\n    <tr>\n      <th>2022-12-31 20:00:00</th>\n      <td>17.4</td>\n      <td>18.848540</td>\n    </tr>\n    <tr>\n      <th>2022-12-31 21:00:00</th>\n      <td>17.4</td>\n      <td>18.848540</td>\n    </tr>\n    <tr>\n      <th>2022-12-31 22:00:00</th>\n      <td>17.4</td>\n      <td>19.500180</td>\n    </tr>\n    <tr>\n      <th>2022-12-31 23:00:00</th>\n      <td>17.3</td>\n      <td>19.500180</td>\n    </tr>\n  </tbody>\n</table>\n<p>8760 rows × 2 columns</p>\n</div>"
     },
     "execution_count": 6,
     "metadata": {},
     "output_type": "execute_result"
    }
   ],
   "source": [
    "data = mL.get_data(\n",
    "    stations=STATIONS,\n",
    "    years=YEARS,\n",
    "    nan_threshold=NAN_THRESHOLD,\n",
    "    features=FEATURES,\n",
    "    #features=None,\n",
    "    era5=ERA5\n",
    "    )\n",
    "\n",
    "data"
   ],
   "metadata": {
    "collapsed": false,
    "pycharm": {
     "name": "#%%\n"
    }
   }
  },
  {
   "cell_type": "markdown",
   "source": [
    "## 1. Make data stationary"
   ],
   "metadata": {
    "collapsed": false,
    "pycharm": {
     "name": "#%% md\n"
    }
   }
  },
  {
   "cell_type": "code",
   "execution_count": 7,
   "outputs": [
    {
     "data": {
      "text/plain": "                     WTMP_41117  WTMP_41117_ERA5\ntimestamp                                       \n2022-01-01 01:00:00         0.0              0.0\n2022-01-01 02:00:00        -0.1              0.0\n2022-01-01 03:00:00         0.0              0.0\n2022-01-01 04:00:00        -0.1              0.0\n2022-01-01 05:00:00         0.0              0.0",
      "text/html": "<div>\n<style scoped>\n    .dataframe tbody tr th:only-of-type {\n        vertical-align: middle;\n    }\n\n    .dataframe tbody tr th {\n        vertical-align: top;\n    }\n\n    .dataframe thead th {\n        text-align: right;\n    }\n</style>\n<table border=\"1\" class=\"dataframe\">\n  <thead>\n    <tr style=\"text-align: right;\">\n      <th></th>\n      <th>WTMP_41117</th>\n      <th>WTMP_41117_ERA5</th>\n    </tr>\n    <tr>\n      <th>timestamp</th>\n      <th></th>\n      <th></th>\n    </tr>\n  </thead>\n  <tbody>\n    <tr>\n      <th>2022-01-01 01:00:00</th>\n      <td>0.0</td>\n      <td>0.0</td>\n    </tr>\n    <tr>\n      <th>2022-01-01 02:00:00</th>\n      <td>-0.1</td>\n      <td>0.0</td>\n    </tr>\n    <tr>\n      <th>2022-01-01 03:00:00</th>\n      <td>0.0</td>\n      <td>0.0</td>\n    </tr>\n    <tr>\n      <th>2022-01-01 04:00:00</th>\n      <td>-0.1</td>\n      <td>0.0</td>\n    </tr>\n    <tr>\n      <th>2022-01-01 05:00:00</th>\n      <td>0.0</td>\n      <td>0.0</td>\n    </tr>\n  </tbody>\n</table>\n</div>"
     },
     "execution_count": 7,
     "metadata": {},
     "output_type": "execute_result"
    }
   ],
   "source": [
    "STATIONARY = True #Set Flag for report\n",
    "data_stationary = DP.data_to_stationary(data, n = STATIONARY_SHIFT)\n",
    "data_stationary.head()"
   ],
   "metadata": {
    "collapsed": false,
    "pycharm": {
     "name": "#%%\n"
    }
   }
  },
  {
   "cell_type": "markdown",
   "source": [
    "## 2. Transform to supervised problem"
   ],
   "metadata": {
    "collapsed": false,
    "pycharm": {
     "name": "#%% md\n"
    }
   }
  },
  {
   "cell_type": "code",
   "execution_count": 8,
   "outputs": [
    {
     "data": {
      "text/plain": "                     WTMP_41117(t-1)  WTMP_41117_ERA5(t-1)  WTMP_41117(t)  \\\ntimestamp                                                                   \n2022-01-01 02:00:00              0.0                   0.0           -0.1   \n2022-01-01 03:00:00             -0.1                   0.0            0.0   \n2022-01-01 04:00:00              0.0                   0.0           -0.1   \n2022-01-01 05:00:00             -0.1                   0.0            0.0   \n2022-01-01 06:00:00              0.0                   0.0           -0.1   \n\n                     WTMP_41117_ERA5(t)  \ntimestamp                                \n2022-01-01 02:00:00                 0.0  \n2022-01-01 03:00:00                 0.0  \n2022-01-01 04:00:00                 0.0  \n2022-01-01 05:00:00                 0.0  \n2022-01-01 06:00:00                 0.0  ",
      "text/html": "<div>\n<style scoped>\n    .dataframe tbody tr th:only-of-type {\n        vertical-align: middle;\n    }\n\n    .dataframe tbody tr th {\n        vertical-align: top;\n    }\n\n    .dataframe thead th {\n        text-align: right;\n    }\n</style>\n<table border=\"1\" class=\"dataframe\">\n  <thead>\n    <tr style=\"text-align: right;\">\n      <th></th>\n      <th>WTMP_41117(t-1)</th>\n      <th>WTMP_41117_ERA5(t-1)</th>\n      <th>WTMP_41117(t)</th>\n      <th>WTMP_41117_ERA5(t)</th>\n    </tr>\n    <tr>\n      <th>timestamp</th>\n      <th></th>\n      <th></th>\n      <th></th>\n      <th></th>\n    </tr>\n  </thead>\n  <tbody>\n    <tr>\n      <th>2022-01-01 02:00:00</th>\n      <td>0.0</td>\n      <td>0.0</td>\n      <td>-0.1</td>\n      <td>0.0</td>\n    </tr>\n    <tr>\n      <th>2022-01-01 03:00:00</th>\n      <td>-0.1</td>\n      <td>0.0</td>\n      <td>0.0</td>\n      <td>0.0</td>\n    </tr>\n    <tr>\n      <th>2022-01-01 04:00:00</th>\n      <td>0.0</td>\n      <td>0.0</td>\n      <td>-0.1</td>\n      <td>0.0</td>\n    </tr>\n    <tr>\n      <th>2022-01-01 05:00:00</th>\n      <td>-0.1</td>\n      <td>0.0</td>\n      <td>0.0</td>\n      <td>0.0</td>\n    </tr>\n    <tr>\n      <th>2022-01-01 06:00:00</th>\n      <td>0.0</td>\n      <td>0.0</td>\n      <td>-0.1</td>\n      <td>0.0</td>\n    </tr>\n  </tbody>\n</table>\n</div>"
     },
     "execution_count": 8,
     "metadata": {},
     "output_type": "execute_result"
    }
   ],
   "source": [
    "data_supervised = DP.data_to_supervised(data_stationary, n_in=LAG)\n",
    "data_supervised.head()"
   ],
   "metadata": {
    "collapsed": false,
    "pycharm": {
     "name": "#%%\n"
    }
   }
  },
  {
   "cell_type": "markdown",
   "source": [
    "## train test split"
   ],
   "metadata": {
    "collapsed": false,
    "pycharm": {
     "name": "#%% md\n"
    }
   }
  },
  {
   "cell_type": "code",
   "execution_count": 9,
   "outputs": [
    {
     "name": "stdout",
     "output_type": "stream",
     "text": [
      "Shapes:  (8590, 1, 2) (8590, 2) (168, 1, 2) (168, 2)\n"
     ]
    }
   ],
   "source": [
    "train_X, train_y, test_X, test_y = DP.train_test_split(data_supervised, N_TEST_HOURS)\n",
    "print(\"Shapes: \", train_X.shape, train_y.shape, test_X.shape, test_y.shape)"
   ],
   "metadata": {
    "collapsed": false,
    "pycharm": {
     "name": "#%%\n"
    }
   }
  },
  {
   "cell_type": "markdown",
   "source": [
    "## Normalize the data"
   ],
   "metadata": {
    "collapsed": false,
    "pycharm": {
     "name": "#%% md\n"
    }
   }
  },
  {
   "cell_type": "code",
   "execution_count": 10,
   "outputs": [],
   "source": [
    "# Scale the data\n",
    "#NORMALIZED = True   #set flag for report\n",
    "train_X_scaled, train_y_scaled, test_X_scaled, test_y_scaled, SCALER = DP.scale_data(train_X,\n",
    "                                                                                     train_y,\n",
    "                                                                                     test_X,\n",
    "                                                                                     test_y)"
   ],
   "metadata": {
    "collapsed": false,
    "pycharm": {
     "name": "#%%\n"
    }
   }
  },
  {
   "cell_type": "markdown",
   "source": [
    "---\n",
    "# Select Model"
   ],
   "metadata": {
    "collapsed": false,
    "pycharm": {
     "name": "#%% md\n"
    }
   }
  },
  {
   "cell_type": "code",
   "execution_count": 11,
   "outputs": [
    {
     "name": "stderr",
     "output_type": "stream",
     "text": [
      "2023-05-03 17:27:07.528535: W tensorflow/tsl/platform/profile_utils/cpu_utils.cc:128] Failed to get CPU frequency: 0 Hz\n"
     ]
    },
    {
     "name": "stdout",
     "output_type": "stream",
     "text": [
      "Model: \"sequential\"\n",
      "_________________________________________________________________\n",
      " Layer (type)                Output Shape              Param #   \n",
      "=================================================================\n",
      " lstm (LSTM)                 (None, 50)                10600     \n",
      "                                                                 \n",
      " dense (Dense)               (None, 2)                 102       \n",
      "                                                                 \n",
      "=================================================================\n",
      "Total params: 10,702\n",
      "Trainable params: 10,702\n",
      "Non-trainable params: 0\n",
      "_________________________________________________________________\n"
     ]
    }
   ],
   "source": [
    "#model = models.lstm_0(train_X_scaled,train_y_scaled)\n",
    "model = Models.get_model(MODEL_NAME, train_X, train_y, ALPHA)\n",
    "model.summary()"
   ],
   "metadata": {
    "collapsed": false,
    "pycharm": {
     "name": "#%%\n"
    }
   }
  },
  {
   "cell_type": "markdown",
   "source": [
    "----\n",
    "# One-Shot Forecasting"
   ],
   "metadata": {
    "collapsed": false,
    "pycharm": {
     "name": "#%% md\n"
    }
   }
  },
  {
   "cell_type": "code",
   "execution_count": 12,
   "outputs": [
    {
     "name": "stdout",
     "output_type": "stream",
     "text": [
      "8590/8590 [==============================] - 3s 327us/step\n"
     ]
    }
   ],
   "source": [
    "_ = model.predict(train_X_scaled, batch_size=1)"
   ],
   "metadata": {
    "collapsed": false,
    "pycharm": {
     "name": "#%%\n"
    }
   }
  },
  {
   "cell_type": "code",
   "execution_count": 13,
   "outputs": [],
   "source": [
    "output_cols = data.columns.tolist()"
   ],
   "metadata": {
    "collapsed": false,
    "pycharm": {
     "name": "#%%\n"
    }
   }
  },
  {
   "cell_type": "code",
   "execution_count": 14,
   "outputs": [
    {
     "name": "stdout",
     "output_type": "stream",
     "text": [
      "6/6 [==============================] - 0s 606us/step\n"
     ]
    },
    {
     "data": {
      "text/plain": "                     WTMP_41117_pred  WTMP_41117_ERA5_pred\ntimestamp                                                 \n2022-12-25 00:00:00         0.153809              0.054579\n2022-12-25 01:00:00         0.153809              0.054579\n2022-12-25 02:00:00         0.153809              0.054579\n2022-12-25 03:00:00         0.153809              0.054579\n2022-12-25 04:00:00         0.153809              0.054579\n...                              ...                   ...\n2022-12-31 19:00:00         0.191926              0.054736\n2022-12-31 20:00:00         0.153809              0.054579\n2022-12-31 21:00:00         0.153809              0.054579\n2022-12-31 22:00:00         0.153809              0.054579\n2022-12-31 23:00:00        -0.030451              0.051804\n\n[168 rows x 2 columns]",
      "text/html": "<div>\n<style scoped>\n    .dataframe tbody tr th:only-of-type {\n        vertical-align: middle;\n    }\n\n    .dataframe tbody tr th {\n        vertical-align: top;\n    }\n\n    .dataframe thead th {\n        text-align: right;\n    }\n</style>\n<table border=\"1\" class=\"dataframe\">\n  <thead>\n    <tr style=\"text-align: right;\">\n      <th></th>\n      <th>WTMP_41117_pred</th>\n      <th>WTMP_41117_ERA5_pred</th>\n    </tr>\n    <tr>\n      <th>timestamp</th>\n      <th></th>\n      <th></th>\n    </tr>\n  </thead>\n  <tbody>\n    <tr>\n      <th>2022-12-25 00:00:00</th>\n      <td>0.153809</td>\n      <td>0.054579</td>\n    </tr>\n    <tr>\n      <th>2022-12-25 01:00:00</th>\n      <td>0.153809</td>\n      <td>0.054579</td>\n    </tr>\n    <tr>\n      <th>2022-12-25 02:00:00</th>\n      <td>0.153809</td>\n      <td>0.054579</td>\n    </tr>\n    <tr>\n      <th>2022-12-25 03:00:00</th>\n      <td>0.153809</td>\n      <td>0.054579</td>\n    </tr>\n    <tr>\n      <th>2022-12-25 04:00:00</th>\n      <td>0.153809</td>\n      <td>0.054579</td>\n    </tr>\n    <tr>\n      <th>...</th>\n      <td>...</td>\n      <td>...</td>\n    </tr>\n    <tr>\n      <th>2022-12-31 19:00:00</th>\n      <td>0.191926</td>\n      <td>0.054736</td>\n    </tr>\n    <tr>\n      <th>2022-12-31 20:00:00</th>\n      <td>0.153809</td>\n      <td>0.054579</td>\n    </tr>\n    <tr>\n      <th>2022-12-31 21:00:00</th>\n      <td>0.153809</td>\n      <td>0.054579</td>\n    </tr>\n    <tr>\n      <th>2022-12-31 22:00:00</th>\n      <td>0.153809</td>\n      <td>0.054579</td>\n    </tr>\n    <tr>\n      <th>2022-12-31 23:00:00</th>\n      <td>-0.030451</td>\n      <td>0.051804</td>\n    </tr>\n  </tbody>\n</table>\n<p>168 rows × 2 columns</p>\n</div>"
     },
     "execution_count": 14,
     "metadata": {},
     "output_type": "execute_result"
    }
   ],
   "source": [
    "yhat = model.predict(test_X_scaled)\n",
    "yhat_unscaled = DP.invert_scaling(yhat, SCALER)\n",
    "yhat_unscaled_df = pd.DataFrame(yhat_unscaled, columns=[name + \"_pred\" for name in output_cols])\n",
    "yhat_unscaled_df.set_index(data.tail(len(yhat)).index, inplace=True)\n",
    "yhat_unscaled_df"
   ],
   "metadata": {
    "collapsed": false,
    "pycharm": {
     "name": "#%%\n"
    }
   }
  },
  {
   "cell_type": "code",
   "execution_count": 15,
   "outputs": [
    {
     "data": {
      "text/plain": "                     WTMP_41117  WTMP_41117_ERA5\ntimestamp                                       \n2022-12-24 23:00:00        17.4        18.343939\n2022-12-25 00:00:00        17.4        18.343939\n2022-12-25 01:00:00        17.4        18.343939\n2022-12-25 02:00:00        17.4        18.343939\n2022-12-25 03:00:00        17.4        18.343939\n...                         ...              ...\n2022-12-31 19:00:00        17.4        18.848540\n2022-12-31 20:00:00        17.4        18.848540\n2022-12-31 21:00:00        17.4        18.848540\n2022-12-31 22:00:00        17.4        19.500180\n2022-12-31 23:00:00        17.3        19.500180\n\n[169 rows x 2 columns]",
      "text/html": "<div>\n<style scoped>\n    .dataframe tbody tr th:only-of-type {\n        vertical-align: middle;\n    }\n\n    .dataframe tbody tr th {\n        vertical-align: top;\n    }\n\n    .dataframe thead th {\n        text-align: right;\n    }\n</style>\n<table border=\"1\" class=\"dataframe\">\n  <thead>\n    <tr style=\"text-align: right;\">\n      <th></th>\n      <th>WTMP_41117</th>\n      <th>WTMP_41117_ERA5</th>\n    </tr>\n    <tr>\n      <th>timestamp</th>\n      <th></th>\n      <th></th>\n    </tr>\n  </thead>\n  <tbody>\n    <tr>\n      <th>2022-12-24 23:00:00</th>\n      <td>17.4</td>\n      <td>18.343939</td>\n    </tr>\n    <tr>\n      <th>2022-12-25 00:00:00</th>\n      <td>17.4</td>\n      <td>18.343939</td>\n    </tr>\n    <tr>\n      <th>2022-12-25 01:00:00</th>\n      <td>17.4</td>\n      <td>18.343939</td>\n    </tr>\n    <tr>\n      <th>2022-12-25 02:00:00</th>\n      <td>17.4</td>\n      <td>18.343939</td>\n    </tr>\n    <tr>\n      <th>2022-12-25 03:00:00</th>\n      <td>17.4</td>\n      <td>18.343939</td>\n    </tr>\n    <tr>\n      <th>...</th>\n      <td>...</td>\n      <td>...</td>\n    </tr>\n    <tr>\n      <th>2022-12-31 19:00:00</th>\n      <td>17.4</td>\n      <td>18.848540</td>\n    </tr>\n    <tr>\n      <th>2022-12-31 20:00:00</th>\n      <td>17.4</td>\n      <td>18.848540</td>\n    </tr>\n    <tr>\n      <th>2022-12-31 21:00:00</th>\n      <td>17.4</td>\n      <td>18.848540</td>\n    </tr>\n    <tr>\n      <th>2022-12-31 22:00:00</th>\n      <td>17.4</td>\n      <td>19.500180</td>\n    </tr>\n    <tr>\n      <th>2022-12-31 23:00:00</th>\n      <td>17.3</td>\n      <td>19.500180</td>\n    </tr>\n  </tbody>\n</table>\n<p>169 rows × 2 columns</p>\n</div>"
     },
     "execution_count": 15,
     "metadata": {},
     "output_type": "execute_result"
    }
   ],
   "source": [
    "evaluation_1 = data.tail(len(yhat)+1).copy()  #+1 since i need that value for de-differencing\n",
    "evaluation_1"
   ],
   "metadata": {
    "collapsed": false,
    "pycharm": {
     "name": "#%%\n"
    }
   }
  },
  {
   "cell_type": "code",
   "execution_count": 16,
   "outputs": [
    {
     "data": {
      "text/plain": "                     WTMP_41117  WTMP_41117_ERA5  WTMP_41117_pred  \\\ntimestamp                                                           \n2022-12-25 00:00:00        17.4        18.343939        17.553809   \n2022-12-25 01:00:00        17.4        18.343939        17.553809   \n2022-12-25 02:00:00        17.4        18.343939        17.553809   \n2022-12-25 03:00:00        17.4        18.343939        17.553809   \n2022-12-25 04:00:00        17.4        18.343939        17.553809   \n...                         ...              ...              ...   \n2022-12-31 19:00:00        17.4        18.848540        17.591926   \n2022-12-31 20:00:00        17.4        18.848540        17.553809   \n2022-12-31 21:00:00        17.4        18.848540        17.553809   \n2022-12-31 22:00:00        17.4        19.500180        17.553809   \n2022-12-31 23:00:00        17.3        19.500180        17.369549   \n\n                     WTMP_41117_ERA5_pred  \ntimestamp                                  \n2022-12-25 00:00:00             18.398519  \n2022-12-25 01:00:00             18.398519  \n2022-12-25 02:00:00             18.398519  \n2022-12-25 03:00:00             18.398519  \n2022-12-25 04:00:00             18.398519  \n...                                   ...  \n2022-12-31 19:00:00             18.903276  \n2022-12-31 20:00:00             18.903119  \n2022-12-31 21:00:00             18.903119  \n2022-12-31 22:00:00             18.903119  \n2022-12-31 23:00:00             19.551983  \n\n[168 rows x 4 columns]",
      "text/html": "<div>\n<style scoped>\n    .dataframe tbody tr th:only-of-type {\n        vertical-align: middle;\n    }\n\n    .dataframe tbody tr th {\n        vertical-align: top;\n    }\n\n    .dataframe thead th {\n        text-align: right;\n    }\n</style>\n<table border=\"1\" class=\"dataframe\">\n  <thead>\n    <tr style=\"text-align: right;\">\n      <th></th>\n      <th>WTMP_41117</th>\n      <th>WTMP_41117_ERA5</th>\n      <th>WTMP_41117_pred</th>\n      <th>WTMP_41117_ERA5_pred</th>\n    </tr>\n    <tr>\n      <th>timestamp</th>\n      <th></th>\n      <th></th>\n      <th></th>\n      <th></th>\n    </tr>\n  </thead>\n  <tbody>\n    <tr>\n      <th>2022-12-25 00:00:00</th>\n      <td>17.4</td>\n      <td>18.343939</td>\n      <td>17.553809</td>\n      <td>18.398519</td>\n    </tr>\n    <tr>\n      <th>2022-12-25 01:00:00</th>\n      <td>17.4</td>\n      <td>18.343939</td>\n      <td>17.553809</td>\n      <td>18.398519</td>\n    </tr>\n    <tr>\n      <th>2022-12-25 02:00:00</th>\n      <td>17.4</td>\n      <td>18.343939</td>\n      <td>17.553809</td>\n      <td>18.398519</td>\n    </tr>\n    <tr>\n      <th>2022-12-25 03:00:00</th>\n      <td>17.4</td>\n      <td>18.343939</td>\n      <td>17.553809</td>\n      <td>18.398519</td>\n    </tr>\n    <tr>\n      <th>2022-12-25 04:00:00</th>\n      <td>17.4</td>\n      <td>18.343939</td>\n      <td>17.553809</td>\n      <td>18.398519</td>\n    </tr>\n    <tr>\n      <th>...</th>\n      <td>...</td>\n      <td>...</td>\n      <td>...</td>\n      <td>...</td>\n    </tr>\n    <tr>\n      <th>2022-12-31 19:00:00</th>\n      <td>17.4</td>\n      <td>18.848540</td>\n      <td>17.591926</td>\n      <td>18.903276</td>\n    </tr>\n    <tr>\n      <th>2022-12-31 20:00:00</th>\n      <td>17.4</td>\n      <td>18.848540</td>\n      <td>17.553809</td>\n      <td>18.903119</td>\n    </tr>\n    <tr>\n      <th>2022-12-31 21:00:00</th>\n      <td>17.4</td>\n      <td>18.848540</td>\n      <td>17.553809</td>\n      <td>18.903119</td>\n    </tr>\n    <tr>\n      <th>2022-12-31 22:00:00</th>\n      <td>17.4</td>\n      <td>19.500180</td>\n      <td>17.553809</td>\n      <td>18.903119</td>\n    </tr>\n    <tr>\n      <th>2022-12-31 23:00:00</th>\n      <td>17.3</td>\n      <td>19.500180</td>\n      <td>17.369549</td>\n      <td>19.551983</td>\n    </tr>\n  </tbody>\n</table>\n<p>168 rows × 4 columns</p>\n</div>"
     },
     "execution_count": 16,
     "metadata": {},
     "output_type": "execute_result"
    }
   ],
   "source": [
    "for col in evaluation_1.columns:\n",
    "    evaluation_1[f\"{col}_pred\"]= evaluation_1[col].shift(STATIONARY_SHIFT) + yhat_unscaled_df[f\"{col}_pred\"]\n",
    "\n",
    "evaluation_1 = evaluation_1.iloc[STATIONARY_SHIFT:]  # remove first n entries since there is no delta value for them\n",
    "evaluation_1"
   ],
   "metadata": {
    "collapsed": false,
    "pycharm": {
     "name": "#%%\n"
    }
   }
  },
  {
   "cell_type": "code",
   "execution_count": 17,
   "outputs": [
    {
     "name": "stdout",
     "output_type": "stream",
     "text": [
      "MAE:  0.15442328343966172\n",
      "MSE:  0.02981420085174723\n"
     ]
    }
   ],
   "source": [
    "wtmp_true = [col for col in evaluation_1.columns if col.startswith(\"WTMP\")][0]\n",
    "\n",
    "mae = mean_absolute_error(evaluation_1[wtmp_true], evaluation_1[f\"{wtmp_true}_pred\"])\n",
    "mse = mean_squared_error(evaluation_1[wtmp_true], evaluation_1[f\"{wtmp_true}_pred\"])\n",
    "print('MAE: ', mae)\n",
    "print('MSE: ', mse)"
   ],
   "metadata": {
    "collapsed": false,
    "pycharm": {
     "name": "#%%\n"
    }
   }
  },
  {
   "cell_type": "code",
   "execution_count": 18,
   "outputs": [
    {
     "data": {
      "text/plain": "<AxesSubplot:xlabel='timestamp'>"
     },
     "execution_count": 18,
     "metadata": {},
     "output_type": "execute_result"
    },
    {
     "data": {
      "text/plain": "<Figure size 640x480 with 1 Axes>",
      "image/png": "[encoded data removed]"
     },
     "metadata": {},
     "output_type": "display_data"
    }
   ],
   "source": [
    "evaluation_1.plot(kind='line')"
   ],
   "metadata": {
    "collapsed": false,
    "pycharm": {
     "name": "#%%\n"
    }
   }
  },
  {
   "cell_type": "markdown",
   "source": [
    "# Recurrent forecast"
   ],
   "metadata": {
    "collapsed": false,
    "pycharm": {
     "name": "#%% md\n"
    }
   }
  },
  {
   "cell_type": "code",
   "execution_count": 19,
   "outputs": [
    {
     "name": "stdout",
     "output_type": "stream",
     "text": [
      "8590/8590 [==============================] - 3s 354us/step\n"
     ]
    }
   ],
   "source": [
    "model.reset_states()\n",
    "_ = model.predict(train_X_scaled, batch_size=1)"
   ],
   "metadata": {
    "collapsed": false,
    "pycharm": {
     "name": "#%%\n"
    }
   }
  },
  {
   "cell_type": "code",
   "execution_count": 20,
   "outputs": [],
   "source": [
    "# make a one-step forecast\n",
    "# This function helps with reshaping.\n",
    "def single_forecast(model, x):\n",
    "    x = x.reshape(1, 1, len(x[0]))\n",
    "    yhat = model.predict(x, verbose=0)\n",
    "    return yhat"
   ],
   "metadata": {
    "collapsed": false,
    "pycharm": {
     "name": "#%%\n"
    }
   }
  },
  {
   "cell_type": "code",
   "execution_count": 21,
   "outputs": [
    {
     "data": {
      "text/plain": "     WTMP_41117  WTMP_41117_ERA5  WTMP_41117_pred  WTMP_41117_ERA5_pred\n0     -0.185185        -0.073070                0                     0\n1     -0.185185        -0.073070                0                     0\n2     -0.185185        -0.073070                0                     0\n3     -0.185185        -0.073070                0                     0\n4     -0.185185        -0.073070                0                     0\n..          ...              ...              ...                   ...\n163   -0.185185        -0.073070                0                     0\n164   -0.185185        -0.073070                0                     0\n165   -0.185185        -0.073070                0                     0\n166   -0.185185         0.744012                0                     0\n167   -0.259259        -0.073070                0                     0\n\n[168 rows x 4 columns]",
      "text/html": "<div>\n<style scoped>\n    .dataframe tbody tr th:only-of-type {\n        vertical-align: middle;\n    }\n\n    .dataframe tbody tr th {\n        vertical-align: top;\n    }\n\n    .dataframe thead th {\n        text-align: right;\n    }\n</style>\n<table border=\"1\" class=\"dataframe\">\n  <thead>\n    <tr style=\"text-align: right;\">\n      <th></th>\n      <th>WTMP_41117</th>\n      <th>WTMP_41117_ERA5</th>\n      <th>WTMP_41117_pred</th>\n      <th>WTMP_41117_ERA5_pred</th>\n    </tr>\n  </thead>\n  <tbody>\n    <tr>\n      <th>0</th>\n      <td>-0.185185</td>\n      <td>-0.073070</td>\n      <td>0</td>\n      <td>0</td>\n    </tr>\n    <tr>\n      <th>1</th>\n      <td>-0.185185</td>\n      <td>-0.073070</td>\n      <td>0</td>\n      <td>0</td>\n    </tr>\n    <tr>\n      <th>2</th>\n      <td>-0.185185</td>\n      <td>-0.073070</td>\n      <td>0</td>\n      <td>0</td>\n    </tr>\n    <tr>\n      <th>3</th>\n      <td>-0.185185</td>\n      <td>-0.073070</td>\n      <td>0</td>\n      <td>0</td>\n    </tr>\n    <tr>\n      <th>4</th>\n      <td>-0.185185</td>\n      <td>-0.073070</td>\n      <td>0</td>\n      <td>0</td>\n    </tr>\n    <tr>\n      <th>...</th>\n      <td>...</td>\n      <td>...</td>\n      <td>...</td>\n      <td>...</td>\n    </tr>\n    <tr>\n      <th>163</th>\n      <td>-0.185185</td>\n      <td>-0.073070</td>\n      <td>0</td>\n      <td>0</td>\n    </tr>\n    <tr>\n      <th>164</th>\n      <td>-0.185185</td>\n      <td>-0.073070</td>\n      <td>0</td>\n      <td>0</td>\n    </tr>\n    <tr>\n      <th>165</th>\n      <td>-0.185185</td>\n      <td>-0.073070</td>\n      <td>0</td>\n      <td>0</td>\n    </tr>\n    <tr>\n      <th>166</th>\n      <td>-0.185185</td>\n      <td>0.744012</td>\n      <td>0</td>\n      <td>0</td>\n    </tr>\n    <tr>\n      <th>167</th>\n      <td>-0.259259</td>\n      <td>-0.073070</td>\n      <td>0</td>\n      <td>0</td>\n    </tr>\n  </tbody>\n</table>\n<p>168 rows × 4 columns</p>\n</div>"
     },
     "execution_count": 21,
     "metadata": {},
     "output_type": "execute_result"
    }
   ],
   "source": [
    "# Prepare data structure\n",
    "prediction_2 = pd.DataFrame(test_y_scaled, columns=output_cols)\n",
    "for col in output_cols:\n",
    "    prediction_2[f\"{col}_pred\"] = 0\n",
    "\n",
    "prediction_2"
   ],
   "metadata": {
    "collapsed": false,
    "pycharm": {
     "name": "#%%\n"
    }
   }
  },
  {
   "cell_type": "code",
   "execution_count": 22,
   "outputs": [
    {
     "data": {
      "text/plain": "     WTMP_41117  WTMP_41117_ERA5  WTMP_41117_pred  WTMP_41117_ERA5_pred\n0     -0.185185        -0.073070        -0.071253             -0.004634\n1     -0.185185        -0.073070        -0.027906             -0.004546\n2     -0.185185        -0.073070        -0.012367             -0.004374\n3     -0.185185        -0.073070        -0.006845             -0.004310\n4     -0.185185        -0.073070        -0.004887             -0.004287\n..          ...              ...              ...                   ...\n163   -0.185185        -0.073070        -0.003815             -0.004274\n164   -0.185185        -0.073070        -0.003815             -0.004274\n165   -0.185185        -0.073070        -0.003815             -0.004274\n166   -0.185185         0.744012        -0.003815             -0.004274\n167   -0.259259        -0.073070        -0.003815             -0.004274\n\n[168 rows x 4 columns]",
      "text/html": "<div>\n<style scoped>\n    .dataframe tbody tr th:only-of-type {\n        vertical-align: middle;\n    }\n\n    .dataframe tbody tr th {\n        vertical-align: top;\n    }\n\n    .dataframe thead th {\n        text-align: right;\n    }\n</style>\n<table border=\"1\" class=\"dataframe\">\n  <thead>\n    <tr style=\"text-align: right;\">\n      <th></th>\n      <th>WTMP_41117</th>\n      <th>WTMP_41117_ERA5</th>\n      <th>WTMP_41117_pred</th>\n      <th>WTMP_41117_ERA5_pred</th>\n    </tr>\n  </thead>\n  <tbody>\n    <tr>\n      <th>0</th>\n      <td>-0.185185</td>\n      <td>-0.073070</td>\n      <td>-0.071253</td>\n      <td>-0.004634</td>\n    </tr>\n    <tr>\n      <th>1</th>\n      <td>-0.185185</td>\n      <td>-0.073070</td>\n      <td>-0.027906</td>\n      <td>-0.004546</td>\n    </tr>\n    <tr>\n      <th>2</th>\n      <td>-0.185185</td>\n      <td>-0.073070</td>\n      <td>-0.012367</td>\n      <td>-0.004374</td>\n    </tr>\n    <tr>\n      <th>3</th>\n      <td>-0.185185</td>\n      <td>-0.073070</td>\n      <td>-0.006845</td>\n      <td>-0.004310</td>\n    </tr>\n    <tr>\n      <th>4</th>\n      <td>-0.185185</td>\n      <td>-0.073070</td>\n      <td>-0.004887</td>\n      <td>-0.004287</td>\n    </tr>\n    <tr>\n      <th>...</th>\n      <td>...</td>\n      <td>...</td>\n      <td>...</td>\n      <td>...</td>\n    </tr>\n    <tr>\n      <th>163</th>\n      <td>-0.185185</td>\n      <td>-0.073070</td>\n      <td>-0.003815</td>\n      <td>-0.004274</td>\n    </tr>\n    <tr>\n      <th>164</th>\n      <td>-0.185185</td>\n      <td>-0.073070</td>\n      <td>-0.003815</td>\n      <td>-0.004274</td>\n    </tr>\n    <tr>\n      <th>165</th>\n      <td>-0.185185</td>\n      <td>-0.073070</td>\n      <td>-0.003815</td>\n      <td>-0.004274</td>\n    </tr>\n    <tr>\n      <th>166</th>\n      <td>-0.185185</td>\n      <td>0.744012</td>\n      <td>-0.003815</td>\n      <td>-0.004274</td>\n    </tr>\n    <tr>\n      <th>167</th>\n      <td>-0.259259</td>\n      <td>-0.073070</td>\n      <td>-0.003815</td>\n      <td>-0.004274</td>\n    </tr>\n  </tbody>\n</table>\n<p>168 rows × 4 columns</p>\n</div>"
     },
     "execution_count": 22,
     "metadata": {},
     "output_type": "execute_result"
    },
    {
     "data": {
      "text/plain": "<Figure size 640x480 with 1 Axes>",
      "image/png": "[encoded data removed]"
     },
     "metadata": {},
     "output_type": "display_data"
    }
   ],
   "source": [
    "#Forecast a whole week\n",
    "prev_obs = test_X_scaled[0]\n",
    "\n",
    "for i, row in prediction_2.iterrows():\n",
    "    yhat = single_forecast(model, prev_obs)\n",
    "    prev_obs = yhat\n",
    "\n",
    "    #Mapping of array index and df column name\n",
    "    for j, element in enumerate(output_cols):\n",
    "        prediction_2.at[i, f\"{element}_pred\"] =yhat[0,j]\n",
    "\n",
    "prediction_2.plot(kind='line')\n",
    "prediction_2"
   ],
   "metadata": {
    "collapsed": false,
    "pycharm": {
     "name": "#%%\n"
    }
   }
  },
  {
   "cell_type": "code",
   "execution_count": 23,
   "outputs": [
    {
     "data": {
      "text/plain": "                     WTMP_41117  WTMP_41117_ERA5  WTMP_41117_pred  \\\ntimestamp                                                           \n2022-12-25 00:00:00        17.4        18.343939        17.553809   \n2022-12-25 01:00:00        17.4        18.343939        17.766136   \n2022-12-25 02:00:00        17.4        18.343939        17.999440   \n2022-12-25 03:00:00        17.4        18.343939        18.240200   \n2022-12-25 04:00:00        17.4        18.343939        18.483601   \n...                         ...              ...              ...   \n2022-12-31 19:00:00        17.4        18.848540        57.413846   \n2022-12-31 20:00:00        17.4        18.848540        57.658695   \n2022-12-31 21:00:00        17.4        18.848540        57.903544   \n2022-12-31 22:00:00        17.4        19.500180        58.148394   \n2022-12-31 23:00:00        17.3        19.500180        58.393243   \n\n                     WTMP_41117_ERA5_pred  \ntimestamp                                  \n2022-12-25 00:00:00             19.554759  \n2022-12-25 01:00:00             19.609408  \n2022-12-25 02:00:00             19.664195  \n2022-12-25 03:00:00             19.719033  \n2022-12-25 04:00:00             19.773889  \n...                                   ...  \n2022-12-31 19:00:00             28.497623  \n2022-12-31 20:00:00             28.552489  \n2022-12-31 21:00:00             28.607355  \n2022-12-31 22:00:00             28.662222  \n2022-12-31 23:00:00             28.717088  \n\n[168 rows x 4 columns]",
      "text/html": "<div>\n<style scoped>\n    .dataframe tbody tr th:only-of-type {\n        vertical-align: middle;\n    }\n\n    .dataframe tbody tr th {\n        vertical-align: top;\n    }\n\n    .dataframe thead th {\n        text-align: right;\n    }\n</style>\n<table border=\"1\" class=\"dataframe\">\n  <thead>\n    <tr style=\"text-align: right;\">\n      <th></th>\n      <th>WTMP_41117</th>\n      <th>WTMP_41117_ERA5</th>\n      <th>WTMP_41117_pred</th>\n      <th>WTMP_41117_ERA5_pred</th>\n    </tr>\n    <tr>\n      <th>timestamp</th>\n      <th></th>\n      <th></th>\n      <th></th>\n      <th></th>\n    </tr>\n  </thead>\n  <tbody>\n    <tr>\n      <th>2022-12-25 00:00:00</th>\n      <td>17.4</td>\n      <td>18.343939</td>\n      <td>17.553809</td>\n      <td>19.554759</td>\n    </tr>\n    <tr>\n      <th>2022-12-25 01:00:00</th>\n      <td>17.4</td>\n      <td>18.343939</td>\n      <td>17.766136</td>\n      <td>19.609408</td>\n    </tr>\n    <tr>\n      <th>2022-12-25 02:00:00</th>\n      <td>17.4</td>\n      <td>18.343939</td>\n      <td>17.999440</td>\n      <td>19.664195</td>\n    </tr>\n    <tr>\n      <th>2022-12-25 03:00:00</th>\n      <td>17.4</td>\n      <td>18.343939</td>\n      <td>18.240200</td>\n      <td>19.719033</td>\n    </tr>\n    <tr>\n      <th>2022-12-25 04:00:00</th>\n      <td>17.4</td>\n      <td>18.343939</td>\n      <td>18.483601</td>\n      <td>19.773889</td>\n    </tr>\n    <tr>\n      <th>...</th>\n      <td>...</td>\n      <td>...</td>\n      <td>...</td>\n      <td>...</td>\n    </tr>\n    <tr>\n      <th>2022-12-31 19:00:00</th>\n      <td>17.4</td>\n      <td>18.848540</td>\n      <td>57.413846</td>\n      <td>28.497623</td>\n    </tr>\n    <tr>\n      <th>2022-12-31 20:00:00</th>\n      <td>17.4</td>\n      <td>18.848540</td>\n      <td>57.658695</td>\n      <td>28.552489</td>\n    </tr>\n    <tr>\n      <th>2022-12-31 21:00:00</th>\n      <td>17.4</td>\n      <td>18.848540</td>\n      <td>57.903544</td>\n      <td>28.607355</td>\n    </tr>\n    <tr>\n      <th>2022-12-31 22:00:00</th>\n      <td>17.4</td>\n      <td>19.500180</td>\n      <td>58.148394</td>\n      <td>28.662222</td>\n    </tr>\n    <tr>\n      <th>2022-12-31 23:00:00</th>\n      <td>17.3</td>\n      <td>19.500180</td>\n      <td>58.393243</td>\n      <td>28.717088</td>\n    </tr>\n  </tbody>\n</table>\n<p>168 rows × 4 columns</p>\n</div>"
     },
     "execution_count": 23,
     "metadata": {},
     "output_type": "execute_result"
    }
   ],
   "source": [
    "#Reverse differenciate\n",
    "first_row = data.iloc[-len(yhat)-1]\n",
    "\n",
    "yhat = prediction_2[[name + \"_pred\" for name in output_cols]].values\n",
    "yhat_unscaled = DP.invert_scaling(yhat, SCALER)\n",
    "yhat_true_value = DP.stationary_to_data(yhat_unscaled, first_row)\n",
    "\n",
    "yhat_true_value_df = pd.DataFrame(yhat_true_value, columns=[name + \"_pred\" for name in output_cols])\n",
    "yhat_true_value_df.set_index(data.tail(len(yhat)).index, inplace=True)\n",
    "\n",
    "true_value = data.tail(len(yhat)+1).copy()\n",
    "\n",
    "evaluation_2 = pd.concat([true_value, yhat_true_value_df], axis=1)\n",
    "evaluation_2 = evaluation_2.iloc[STATIONARY_SHIFT:]\n",
    "evaluation_2"
   ],
   "metadata": {
    "collapsed": false,
    "pycharm": {
     "name": "#%%\n"
    }
   }
  },
  {
   "cell_type": "code",
   "execution_count": 24,
   "outputs": [
    {
     "name": "stdout",
     "output_type": "stream",
     "text": [
      "MAE:  21.051172979213693\n",
      "MSE:  580.9670931038343\n"
     ]
    }
   ],
   "source": [
    "wtmp_true = [col for col in evaluation_2.columns if col.startswith(\"WTMP\")][0]\n",
    "\n",
    "mae_2 = mean_absolute_error(evaluation_2[wtmp_true], evaluation_2[f\"{wtmp_true}_pred\"])\n",
    "mse_2 = mean_squared_error(evaluation_2[wtmp_true], evaluation_2[f\"{wtmp_true}_pred\"])\n",
    "print('MAE: ', mae_2)\n",
    "print('MSE: ', mse_2)"
   ],
   "metadata": {
    "collapsed": false,
    "pycharm": {
     "name": "#%%\n"
    }
   }
  },
  {
   "cell_type": "code",
   "execution_count": 25,
   "outputs": [
    {
     "data": {
      "text/plain": "<AxesSubplot:xlabel='timestamp'>"
     },
     "execution_count": 25,
     "metadata": {},
     "output_type": "execute_result"
    },
    {
     "data": {
      "text/plain": "<Figure size 640x480 with 1 Axes>",
      "image/png": "[encoded data removed]"
     },
     "metadata": {},
     "output_type": "display_data"
    }
   ],
   "source": [
    "evaluation_2.plot(kind='line')"
   ],
   "metadata": {
    "collapsed": false,
    "pycharm": {
     "name": "#%%\n"
    }
   }
  },
  {
   "cell_type": "markdown",
   "source": [
    "# SAVE"
   ],
   "metadata": {
    "collapsed": false,
    "pycharm": {
     "name": "#%% md\n"
    }
   }
  },
  {
   "cell_type": "code",
   "execution_count": 28,
   "outputs": [],
   "source": [
    "#Save Data About executed Test:\n",
    "\n",
    "# Pickle file\n",
    "\n",
    "#Convert model summary to string\n",
    "stringlist = []\n",
    "model.summary(print_fn=lambda x: stringlist.append(x))\n",
    "model_summary = \"\\n\".join(stringlist)\n",
    "\n",
    "report = Experiment(\n",
    "    name=\"Dataset_Testing\",\n",
    "    description=\"Stations that provide all files from 2013-2022 in GOM\",\n",
    "\n",
    "    stations = STATIONS,\n",
    "    years = YEARS,\n",
    "    nan_threshold=NAN_THRESHOLD,\n",
    "    features=FEATURES,\n",
    "    era5=ERA5,\n",
    "    stationary_shift=STATIONARY_SHIFT,\n",
    "    lag=LAG,\n",
    "    n_test_hours=N_TEST_HOURS,\n",
    "\n",
    "    #stationary=STATIONARY,\n",
    "    scaler=SCALER,\n",
    "\n",
    "    model_name = MODEL_NAME,\n",
    "    model_summary=model_summary,\n",
    "\n",
    "    one_shot_forecast = evaluation_1,\n",
    "    recursive_forecast = evaluation_2\n",
    ")\n",
    "\n",
    "\n",
    "# open a file for writing in binary mode\n",
    "with open(f'data/reports/{report.name}.pickle', 'wb') as f:\n",
    "    # write the object to the file using pickle.dump()\n",
    "    pickle.dump(report, f)"
   ],
   "metadata": {
    "collapsed": false,
    "pycharm": {
     "name": "#%%\n"
    }
   }
  },
  {
   "cell_type": "code",
   "execution_count": null,
   "outputs": [],
   "source": [],
   "metadata": {
    "collapsed": false,
    "pycharm": {
     "name": "#%%\n"
    }
   }
  },
  {
   "cell_type": "code",
   "execution_count": null,
   "outputs": [],
   "source": [],
   "metadata": {
    "collapsed": false,
    "pycharm": {
     "name": "#%%\n"
    }
   }
  },
  {
   "cell_type": "code",
   "execution_count": null,
   "outputs": [],
   "source": [],
   "metadata": {
    "collapsed": false,
    "pycharm": {
     "name": "#%%\n"
    }
   }
  }
 ],
 "metadata": {
  "kernelspec": {
   "display_name": "Python 3",
   "language": "python",
   "name": "python3"
  },
  "language_info": {
   "codemirror_mode": {
    "name": "ipython",
    "version": 2
   },
   "file_extension": ".py",
   "mimetype": "text/x-python",
   "name": "python",
   "nbconvert_exporter": "python",
   "pygments_lexer": "ipython2",
   "version": "2.7.6"
  }
 },
 "nbformat": 4,
 "nbformat_minor": 0
}