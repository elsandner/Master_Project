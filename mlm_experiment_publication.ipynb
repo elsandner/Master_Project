{
 "cells": [
  {
   "cell_type": "markdown",
   "source": [
    "# Not sure if this file is up to date - for operational usage go to Experiment_Automation.ipynb !!"
   ],
   "metadata": {
    "collapsed": false,
    "pycharm": {
     "name": "#%% md\n"
    }
   }
  },
  {
   "cell_type": "markdown",
   "metadata": {
    "pycharm": {
     "name": "#%% md\n"
    }
   },
   "source": [
    "# Test Environment"
   ]
  },
  {
   "cell_type": "code",
   "execution_count": 199,
   "metadata": {
    "pycharm": {
     "name": "#%%\n"
    }
   },
   "outputs": [],
   "source": [
    "import ipywidgets as widgets\n",
    "from IPython.display import display\n",
    "import numpy as np\n",
    "import pandas as pd\n",
    "#import Models.models as models\n",
    "#import Models.LSTM.models_LSTM as models\n",
    "import script_utils as mL\n",
    "#from Experiment_Class import Experiment\n",
    "from sklearn.metrics import mean_squared_error, mean_absolute_error\n",
    "import pickle\n",
    "import os\n",
    "\n",
    "NDBC = mL.NDBC_lib\n",
    "ERA5 = mL.ERA5_lib\n",
    "Models = mL.Models\n",
    "DP = mL.DataProcessor\n",
    "Experiment = mL.Experiment\n",
    "\n",
    "# %load_ext jupyternotify"
   ]
  },
  {
   "cell_type": "markdown",
   "metadata": {
    "pycharm": {
     "name": "#%% md\n"
    }
   },
   "source": [
    "# Get Data"
   ]
  },
  {
   "cell_type": "code",
   "execution_count": 200,
   "metadata": {
    "pycharm": {
     "name": "#%%\n"
    }
   },
   "outputs": [
    {
     "data": {
      "text/plain": "HBox(children=(VBox(children=(Select(description='Datafile:', options=('.DS_Store', '42003_stage_2.pickle', '4…",
      "application/vnd.jupyter.widget-view+json": {
       "version_major": 2,
       "version_minor": 0,
       "model_id": "7b8f2892de884efd81394caa30cb5424"
      }
     },
     "metadata": {},
     "output_type": "display_data"
    },
    {
     "name": "stdout",
     "output_type": "stream",
     "text": [
      "Alpha: \n"
     ]
    },
    {
     "data": {
      "text/plain": "FloatSlider(value=0.5, layout=Layout(width='500px'), max=1.0, step=0.01)",
      "application/vnd.jupyter.widget-view+json": {
       "version_major": 2,
       "version_minor": 0,
       "model_id": "1590a735746e4fb4b1bc1b32d5fa6070"
      }
     },
     "metadata": {},
     "output_type": "display_data"
    }
   ],
   "source": [
    "data_directory = os.path.join(os.getcwd(), f'data/datasets/type_A')\n",
    "\n",
    "def build_UI():\n",
    "\n",
    "    # Select Model-------------------------------------------------------------------------------\n",
    "    global datafile_widget\n",
    "    datafile_list = os.listdir(data_directory)\n",
    "    datafile_widget = widgets.Select(\n",
    "        options=datafile_list,\n",
    "        value=datafile_list[0],\n",
    "        # rows=10,\n",
    "        description='Datafile:',\n",
    "        disabled=False\n",
    "    )\n",
    "\n",
    "    #STATIONARY_SHIFT -----------------------------------------------------------------------\n",
    "    global stationaryShift_widget\n",
    "    stationaryShift_widget = widgets.BoundedIntText(\n",
    "        value=1,\n",
    "        min=0,\n",
    "        max=10,\n",
    "        step=1,\n",
    "        description='',\n",
    "        disabled=False,\n",
    "    )\n",
    "\n",
    "    #Supervised:\n",
    "    n_in_dropdown = widgets.Dropdown(\n",
    "        options=[1, 2, 3, 4, 5, 6, 7, 8, 9, 10],\n",
    "        value=3,\n",
    "        description='n_in:',\n",
    "        disabled=False,\n",
    "    )\n",
    "    n_out_dropdown = widgets.Dropdown(\n",
    "        options=[1, 2, 3, 4, 5, 6, 7, 8, 9, 10],\n",
    "        value=1,\n",
    "        description='n_out:',\n",
    "        disabled=False,\n",
    "    )\n",
    "\n",
    "    # Test Hours-------------------------------------------------------------------------------\n",
    "    global test_hours_widget\n",
    "    test_hours_widget = widgets.IntSlider(\n",
    "        value=24,\n",
    "        min=0,\n",
    "        max=1000,\n",
    "        step=1,\n",
    "        description='Test Hours:',\n",
    "        disabled=False,\n",
    "        continuous_update=False,\n",
    "        orientation='horizontal',\n",
    "        readout=True,\n",
    "        readout_format='d'\n",
    "    )\n",
    "\n",
    "    # Select Model-------------------------------------------------------------------------------\n",
    "    global models_widget\n",
    "    models_list = list(Models.model_dictionary.keys())\n",
    "    models_widget = widgets.Select(\n",
    "        options=models_list,\n",
    "        value=models_list[0],\n",
    "        rows=10,\n",
    "        description='Model:',\n",
    "        disabled=False\n",
    "    )\n",
    "\n",
    "    #ALPHA:-------------------------------------------------------------------------------\n",
    "    # create a FloatSlider widget for a value between 0 and 1\n",
    "    global alpha_slider\n",
    "    alpha_slider = widgets.FloatSlider(\n",
    "        value=0.5,\n",
    "        min=0,\n",
    "        max=1,\n",
    "        step=0.01,\n",
    "        description='',\n",
    "        readout_format='.2f',\n",
    "        orientation='horizontal',\n",
    "        layout={'width': '500px'}\n",
    "    )\n",
    "\n",
    "    left_box = widgets.VBox([\n",
    "        datafile_widget,\n",
    "        n_in_dropdown,\n",
    "        n_out_dropdown,\n",
    "        widgets.HTML(value=\"<p>Station Shift:</p>\"),\n",
    "        stationaryShift_widget,\n",
    "        test_hours_widget\n",
    "        ],\n",
    "    )\n",
    "\n",
    "\n",
    "    right_box = widgets.VBox([\n",
    "        models_widget\n",
    "    ])\n",
    "\n",
    "    display(widgets.HBox([\n",
    "        left_box,\n",
    "        right_box,\n",
    "    ]))\n",
    "    print(\"Alpha: \")\n",
    "    display(alpha_slider)\n",
    "\n",
    "build_UI() #can be activated whenever needed!"
   ]
  },
  {
   "cell_type": "code",
   "execution_count": 201,
   "metadata": {
    "pycharm": {
     "name": "#%%\n"
    }
   },
   "outputs": [],
   "source": [
    "# DATAFILE = datafile_widget.value\n",
    "# STATIONARY_SHIFT = stationaryShift_widget.value\n",
    "# N_TEST_HOURS = test_hours_widget.value\n",
    "# MODEL_NAME = models_widget.value\n",
    "# ALPHA = alpha_slider.value"
   ]
  },
  {
   "cell_type": "markdown",
   "metadata": {
    "pycharm": {
     "name": "#%% md\n"
    }
   },
   "source": [
    "## Optional: use hardcoded variables instead"
   ]
  },
  {
   "cell_type": "code",
   "execution_count": 202,
   "metadata": {
    "pycharm": {
     "name": "#%%\n"
    }
   },
   "outputs": [],
   "source": [
    "DATAFILE = \"42003_stage_2.pickle\"\n",
    "N_IN=24\n",
    "N_OUT=24\n",
    "#STATIONARY_SHIFT = 1\n",
    "N_TEST_HOURS = 31*24 #(One month)\n",
    "MODEL_NAME = \"LSTM_3D\"\n",
    "ALPHA = 1"
   ]
  },
  {
   "cell_type": "markdown",
   "source": [],
   "metadata": {
    "collapsed": false,
    "pycharm": {
     "name": "#%% md\n"
    }
   }
  },
  {
   "cell_type": "code",
   "execution_count": 203,
   "outputs": [
    {
     "name": "stdout",
     "output_type": "stream",
     "text": [
      "Datafile: 42003_stage_2.pickle\n",
      "Alpha: 1\n",
      "N_IN: 24\n",
      "N_OUT: 24\n",
      "Test-Hours: 744\n",
      "Model: LSTM_3D\n"
     ]
    }
   ],
   "source": [
    "print(f\"Datafile: {DATAFILE}\")\n",
    "print(f\"Alpha: {ALPHA}\")\n",
    "#print(f\"Stationary Shift: {STATIONARY_SHIFT}\")\n",
    "print(f\"N_IN: {N_IN}\")\n",
    "print(f\"N_OUT: {N_OUT}\")\n",
    "print(f\"Test-Hours: {N_TEST_HOURS}\")\n",
    "print(f\"Model: {MODEL_NAME}\")"
   ],
   "metadata": {
    "collapsed": false,
    "pycharm": {
     "name": "#%%\n"
    }
   }
  },
  {
   "cell_type": "code",
   "execution_count": 204,
   "metadata": {
    "pycharm": {
     "name": "#%%\n"
    }
   },
   "outputs": [
    {
     "name": "stdout",
     "output_type": "stream",
     "text": [
      "stations ['42040', '42038', '42007', '42001', '42002', '42003', '42012', '42019', '42035', '42036', '42039', '41041', '42055']\n",
      "years ['2017', '2018', '2019', '2020', '2021', '2022']\n",
      "nan_threshold 0.66\n",
      "features ['WDIR', 'WSPD', 'WVHT', 'APD', 'MWD', 'PRES', 'ATMP', 'WTMP', 'DEWP']\n",
      "add_era5 True\n"
     ]
    },
    {
     "data": {
      "text/plain": "                     WDIR_42001  WSPD_42001  PRES_42001  ATMP_42001  \\\n2017-01-01 00:00:00       107.0         8.1      1013.2        26.6   \n2017-01-01 01:00:00       107.0         8.1      1013.2        26.6   \n2017-01-01 02:00:00       107.0         8.1      1013.2        26.6   \n2017-01-01 03:00:00       107.0         8.1      1013.2        26.6   \n2017-01-01 04:00:00       107.0         8.1      1013.2        26.6   \n...                         ...         ...         ...         ...   \n2022-12-31 19:00:00       195.0         0.5      1015.0        25.6   \n2022-12-31 20:00:00       210.0         1.0      1015.0        25.3   \n2022-12-31 21:00:00       231.0         0.6      1014.7        26.4   \n2022-12-31 22:00:00        18.0         0.7      1014.9        25.4   \n2022-12-31 23:00:00        68.0         1.6      1015.0        25.0   \n\n                     WTMP_42001  DEWP_42001  WDIR_42002  WSPD_42002  \\\n2017-01-01 00:00:00        29.8        23.8        53.0         2.9   \n2017-01-01 01:00:00        29.8        23.8        53.0         2.9   \n2017-01-01 02:00:00        29.8        23.8        53.0         2.9   \n2017-01-01 03:00:00        29.8        23.8        53.0         2.9   \n2017-01-01 04:00:00        29.8        23.8        53.0         2.9   \n...                         ...         ...         ...         ...   \n2022-12-31 19:00:00        24.7        24.5        22.0         0.6   \n2022-12-31 20:00:00        24.5        24.3        88.0         1.2   \n2022-12-31 21:00:00        24.7        24.4        87.0         1.7   \n2022-12-31 22:00:00        24.7        24.1        90.0         2.5   \n2022-12-31 23:00:00        24.5        24.3       116.0         3.7   \n\n                     PRES_42002  ATMP_42002  ...  DEWP_42002_ERA5  \\\n2017-01-01 00:00:00      1016.4        23.3  ...        21.860131   \n2017-01-01 01:00:00      1016.4        23.3  ...        21.885986   \n2017-01-01 02:00:00      1016.4        23.3  ...        21.926532   \n2017-01-01 03:00:00      1016.4        23.3  ...        21.989702   \n2017-01-01 04:00:00      1016.4        23.3  ...        22.104876   \n...                         ...         ...  ...              ...   \n2022-12-31 19:00:00      1015.9        25.1  ...        20.512644   \n2022-12-31 20:00:00      1015.4        24.7  ...        20.593026   \n2022-12-31 21:00:00      1014.9        24.6  ...        20.705755   \n2022-12-31 22:00:00      1014.9        24.5  ...        20.222161   \n2022-12-31 23:00:00      1015.0        24.5  ...        20.541072   \n\n                     WDIR_42039_ERA5  WSPD_42039_ERA5  ATMP_42039_ERA5  \\\n2017-01-01 00:00:00        91.620952         8.348397        22.496642   \n2017-01-01 01:00:00        91.614961         8.460653        22.854421   \n2017-01-01 02:00:00        90.990649         7.987505        23.165863   \n2017-01-01 03:00:00        93.380226         7.735322        23.488559   \n2017-01-01 04:00:00        99.283786         7.698163        23.722886   \n...                              ...              ...              ...   \n2022-12-31 19:00:00        28.180851         8.602918        22.730194   \n2022-12-31 20:00:00        22.969408         7.734290        22.564177   \n2022-12-31 21:00:00        14.655430         6.485218        22.377552   \n2022-12-31 22:00:00        20.371840         3.294807        24.068445   \n2022-12-31 23:00:00        21.918165         2.229422        23.926533   \n\n                     WSPD_42035_ERA5  WSPD_42001_ERA5  ATMP_42019_ERA5  \\\n2017-01-01 00:00:00         4.389762         7.304383        22.738986   \n2017-01-01 01:00:00         4.734988         7.045226        22.988974   \n2017-01-01 02:00:00         4.716014         7.172287        23.073993   \n2017-01-01 03:00:00         4.520726         7.446157        23.121183   \n2017-01-01 04:00:00         4.060894         7.788665        23.175782   \n...                              ...              ...              ...   \n2022-12-31 19:00:00         2.533178         0.601025        21.847184   \n2022-12-31 20:00:00         2.669909         0.979714        22.052563   \n2022-12-31 21:00:00         3.147255         2.067327        22.260412   \n2022-12-31 22:00:00         3.469271         1.554299        22.101541   \n2022-12-31 23:00:00         3.938095         2.206784        22.243125   \n\n                     WTMP_42039_ERA5  WSPD_42002_ERA5  PRES_42039_ERA5  \n2017-01-01 00:00:00        23.406143         7.976832      1017.816021  \n2017-01-01 01:00:00        23.406143         7.374513      1018.317071  \n2017-01-01 02:00:00        23.406143         7.036900      1018.731352  \n2017-01-01 03:00:00        23.406143         6.923938      1018.723523  \n2017-01-01 04:00:00        23.406143         7.397256      1018.085466  \n...                              ...              ...              ...  \n2022-12-31 19:00:00        24.392457         1.062895      1016.581840  \n2022-12-31 20:00:00        24.392457         1.330008      1016.363260  \n2022-12-31 21:00:00        24.392457         1.770915      1016.186435  \n2022-12-31 22:00:00        24.885927         2.483432      1017.067575  \n2022-12-31 23:00:00        24.885927         3.242142      1017.021132  \n\n[52584 rows x 92 columns]",
      "text/html": "<div>\n<style scoped>\n    .dataframe tbody tr th:only-of-type {\n        vertical-align: middle;\n    }\n\n    .dataframe tbody tr th {\n        vertical-align: top;\n    }\n\n    .dataframe thead th {\n        text-align: right;\n    }\n</style>\n<table border=\"1\" class=\"dataframe\">\n  <thead>\n    <tr style=\"text-align: right;\">\n      <th></th>\n      <th>WDIR_42001</th>\n      <th>WSPD_42001</th>\n      <th>PRES_42001</th>\n      <th>ATMP_42001</th>\n      <th>WTMP_42001</th>\n      <th>DEWP_42001</th>\n      <th>WDIR_42002</th>\n      <th>WSPD_42002</th>\n      <th>PRES_42002</th>\n      <th>ATMP_42002</th>\n      <th>...</th>\n      <th>DEWP_42002_ERA5</th>\n      <th>WDIR_42039_ERA5</th>\n      <th>WSPD_42039_ERA5</th>\n      <th>ATMP_42039_ERA5</th>\n      <th>WSPD_42035_ERA5</th>\n      <th>WSPD_42001_ERA5</th>\n      <th>ATMP_42019_ERA5</th>\n      <th>WTMP_42039_ERA5</th>\n      <th>WSPD_42002_ERA5</th>\n      <th>PRES_42039_ERA5</th>\n    </tr>\n  </thead>\n  <tbody>\n    <tr>\n      <th>2017-01-01 00:00:00</th>\n      <td>107.0</td>\n      <td>8.1</td>\n      <td>1013.2</td>\n      <td>26.6</td>\n      <td>29.8</td>\n      <td>23.8</td>\n      <td>53.0</td>\n      <td>2.9</td>\n      <td>1016.4</td>\n      <td>23.3</td>\n      <td>...</td>\n      <td>21.860131</td>\n      <td>91.620952</td>\n      <td>8.348397</td>\n      <td>22.496642</td>\n      <td>4.389762</td>\n      <td>7.304383</td>\n      <td>22.738986</td>\n      <td>23.406143</td>\n      <td>7.976832</td>\n      <td>1017.816021</td>\n    </tr>\n    <tr>\n      <th>2017-01-01 01:00:00</th>\n      <td>107.0</td>\n      <td>8.1</td>\n      <td>1013.2</td>\n      <td>26.6</td>\n      <td>29.8</td>\n      <td>23.8</td>\n      <td>53.0</td>\n      <td>2.9</td>\n      <td>1016.4</td>\n      <td>23.3</td>\n      <td>...</td>\n      <td>21.885986</td>\n      <td>91.614961</td>\n      <td>8.460653</td>\n      <td>22.854421</td>\n      <td>4.734988</td>\n      <td>7.045226</td>\n      <td>22.988974</td>\n      <td>23.406143</td>\n      <td>7.374513</td>\n      <td>1018.317071</td>\n    </tr>\n    <tr>\n      <th>2017-01-01 02:00:00</th>\n      <td>107.0</td>\n      <td>8.1</td>\n      <td>1013.2</td>\n      <td>26.6</td>\n      <td>29.8</td>\n      <td>23.8</td>\n      <td>53.0</td>\n      <td>2.9</td>\n      <td>1016.4</td>\n      <td>23.3</td>\n      <td>...</td>\n      <td>21.926532</td>\n      <td>90.990649</td>\n      <td>7.987505</td>\n      <td>23.165863</td>\n      <td>4.716014</td>\n      <td>7.172287</td>\n      <td>23.073993</td>\n      <td>23.406143</td>\n      <td>7.036900</td>\n      <td>1018.731352</td>\n    </tr>\n    <tr>\n      <th>2017-01-01 03:00:00</th>\n      <td>107.0</td>\n      <td>8.1</td>\n      <td>1013.2</td>\n      <td>26.6</td>\n      <td>29.8</td>\n      <td>23.8</td>\n      <td>53.0</td>\n      <td>2.9</td>\n      <td>1016.4</td>\n      <td>23.3</td>\n      <td>...</td>\n      <td>21.989702</td>\n      <td>93.380226</td>\n      <td>7.735322</td>\n      <td>23.488559</td>\n      <td>4.520726</td>\n      <td>7.446157</td>\n      <td>23.121183</td>\n      <td>23.406143</td>\n      <td>6.923938</td>\n      <td>1018.723523</td>\n    </tr>\n    <tr>\n      <th>2017-01-01 04:00:00</th>\n      <td>107.0</td>\n      <td>8.1</td>\n      <td>1013.2</td>\n      <td>26.6</td>\n      <td>29.8</td>\n      <td>23.8</td>\n      <td>53.0</td>\n      <td>2.9</td>\n      <td>1016.4</td>\n      <td>23.3</td>\n      <td>...</td>\n      <td>22.104876</td>\n      <td>99.283786</td>\n      <td>7.698163</td>\n      <td>23.722886</td>\n      <td>4.060894</td>\n      <td>7.788665</td>\n      <td>23.175782</td>\n      <td>23.406143</td>\n      <td>7.397256</td>\n      <td>1018.085466</td>\n    </tr>\n    <tr>\n      <th>...</th>\n      <td>...</td>\n      <td>...</td>\n      <td>...</td>\n      <td>...</td>\n      <td>...</td>\n      <td>...</td>\n      <td>...</td>\n      <td>...</td>\n      <td>...</td>\n      <td>...</td>\n      <td>...</td>\n      <td>...</td>\n      <td>...</td>\n      <td>...</td>\n      <td>...</td>\n      <td>...</td>\n      <td>...</td>\n      <td>...</td>\n      <td>...</td>\n      <td>...</td>\n      <td>...</td>\n    </tr>\n    <tr>\n      <th>2022-12-31 19:00:00</th>\n      <td>195.0</td>\n      <td>0.5</td>\n      <td>1015.0</td>\n      <td>25.6</td>\n      <td>24.7</td>\n      <td>24.5</td>\n      <td>22.0</td>\n      <td>0.6</td>\n      <td>1015.9</td>\n      <td>25.1</td>\n      <td>...</td>\n      <td>20.512644</td>\n      <td>28.180851</td>\n      <td>8.602918</td>\n      <td>22.730194</td>\n      <td>2.533178</td>\n      <td>0.601025</td>\n      <td>21.847184</td>\n      <td>24.392457</td>\n      <td>1.062895</td>\n      <td>1016.581840</td>\n    </tr>\n    <tr>\n      <th>2022-12-31 20:00:00</th>\n      <td>210.0</td>\n      <td>1.0</td>\n      <td>1015.0</td>\n      <td>25.3</td>\n      <td>24.5</td>\n      <td>24.3</td>\n      <td>88.0</td>\n      <td>1.2</td>\n      <td>1015.4</td>\n      <td>24.7</td>\n      <td>...</td>\n      <td>20.593026</td>\n      <td>22.969408</td>\n      <td>7.734290</td>\n      <td>22.564177</td>\n      <td>2.669909</td>\n      <td>0.979714</td>\n      <td>22.052563</td>\n      <td>24.392457</td>\n      <td>1.330008</td>\n      <td>1016.363260</td>\n    </tr>\n    <tr>\n      <th>2022-12-31 21:00:00</th>\n      <td>231.0</td>\n      <td>0.6</td>\n      <td>1014.7</td>\n      <td>26.4</td>\n      <td>24.7</td>\n      <td>24.4</td>\n      <td>87.0</td>\n      <td>1.7</td>\n      <td>1014.9</td>\n      <td>24.6</td>\n      <td>...</td>\n      <td>20.705755</td>\n      <td>14.655430</td>\n      <td>6.485218</td>\n      <td>22.377552</td>\n      <td>3.147255</td>\n      <td>2.067327</td>\n      <td>22.260412</td>\n      <td>24.392457</td>\n      <td>1.770915</td>\n      <td>1016.186435</td>\n    </tr>\n    <tr>\n      <th>2022-12-31 22:00:00</th>\n      <td>18.0</td>\n      <td>0.7</td>\n      <td>1014.9</td>\n      <td>25.4</td>\n      <td>24.7</td>\n      <td>24.1</td>\n      <td>90.0</td>\n      <td>2.5</td>\n      <td>1014.9</td>\n      <td>24.5</td>\n      <td>...</td>\n      <td>20.222161</td>\n      <td>20.371840</td>\n      <td>3.294807</td>\n      <td>24.068445</td>\n      <td>3.469271</td>\n      <td>1.554299</td>\n      <td>22.101541</td>\n      <td>24.885927</td>\n      <td>2.483432</td>\n      <td>1017.067575</td>\n    </tr>\n    <tr>\n      <th>2022-12-31 23:00:00</th>\n      <td>68.0</td>\n      <td>1.6</td>\n      <td>1015.0</td>\n      <td>25.0</td>\n      <td>24.5</td>\n      <td>24.3</td>\n      <td>116.0</td>\n      <td>3.7</td>\n      <td>1015.0</td>\n      <td>24.5</td>\n      <td>...</td>\n      <td>20.541072</td>\n      <td>21.918165</td>\n      <td>2.229422</td>\n      <td>23.926533</td>\n      <td>3.938095</td>\n      <td>2.206784</td>\n      <td>22.243125</td>\n      <td>24.885927</td>\n      <td>3.242142</td>\n      <td>1017.021132</td>\n    </tr>\n  </tbody>\n</table>\n<p>52584 rows × 92 columns</p>\n</div>"
     },
     "execution_count": 204,
     "metadata": {},
     "output_type": "execute_result"
    }
   ],
   "source": [
    "with open(f'data/datasets/type_A/{DATAFILE}', 'rb') as f:\n",
    "    # load the object from the file using pickle.load()\n",
    "    dataset = pickle.load(f)\n",
    "\n",
    "print(\"stations\",dataset[\"stations\"])\n",
    "print(\"years\",dataset[\"years\"])\n",
    "print(\"nan_threshold\",dataset[\"nan_threshold\"])\n",
    "print(\"features\",dataset[\"features\"])\n",
    "print(\"add_era5\",dataset[\"add_era5\"])\n",
    "\n",
    "data = dataset[\"data\"]\n",
    "data"
   ]
  },
  {
   "cell_type": "markdown",
   "metadata": {
    "pycharm": {
     "name": "#%% md\n"
    }
   },
   "source": [
    "# Data Processing"
   ]
  },
  {
   "cell_type": "markdown",
   "metadata": {
    "pycharm": {
     "name": "#%% md\n"
    }
   },
   "source": [
    "## 1. Make data stationary"
   ]
  },
  {
   "cell_type": "markdown",
   "source": [
    "Austin mentioned that it might be worth it skipping this step to get more convincing results."
   ],
   "metadata": {
    "collapsed": false,
    "pycharm": {
     "name": "#%% md\n"
    }
   }
  },
  {
   "cell_type": "markdown",
   "source": [
    "## 2. Transform to supervised problem"
   ],
   "metadata": {
    "collapsed": false,
    "pycharm": {
     "name": "#%% md\n"
    }
   }
  },
  {
   "cell_type": "code",
   "execution_count": 205,
   "metadata": {
    "pycharm": {
     "name": "#%%\n"
    }
   },
   "outputs": [
    {
     "data": {
      "text/plain": "                     WDIR_42001(t-24)  WSPD_42001(t-24)  PRES_42001(t-24)  \\\n2017-01-02 00:00:00             107.0               8.1            1013.2   \n2017-01-02 01:00:00             107.0               8.1            1013.2   \n2017-01-02 02:00:00             107.0               8.1            1013.2   \n2017-01-02 03:00:00             107.0               8.1            1013.2   \n2017-01-02 04:00:00             107.0               8.1            1013.2   \n\n                     ATMP_42001(t-24)  WTMP_42001(t-24)  DEWP_42001(t-24)  \\\n2017-01-02 00:00:00              26.6              29.8              23.8   \n2017-01-02 01:00:00              26.6              29.8              23.8   \n2017-01-02 02:00:00              26.6              29.8              23.8   \n2017-01-02 03:00:00              26.6              29.8              23.8   \n2017-01-02 04:00:00              26.6              29.8              23.8   \n\n                     WDIR_42002(t-24)  WSPD_42002(t-24)  PRES_42002(t-24)  \\\n2017-01-02 00:00:00              53.0               2.9            1016.4   \n2017-01-02 01:00:00              53.0               2.9            1016.4   \n2017-01-02 02:00:00              53.0               2.9            1016.4   \n2017-01-02 03:00:00              53.0               2.9            1016.4   \n2017-01-02 04:00:00              53.0               2.9            1016.4   \n\n                     ATMP_42002(t-24)  ...  DEWP_42002_ERA5(t+23)  \\\n2017-01-02 00:00:00              23.3  ...              22.712186   \n2017-01-02 01:00:00              23.3  ...              22.767129   \n2017-01-02 02:00:00              23.3  ...              22.838819   \n2017-01-02 03:00:00              23.3  ...              22.878190   \n2017-01-02 04:00:00              23.3  ...              22.801505   \n\n                     WDIR_42039_ERA5(t+23)  WSPD_42039_ERA5(t+23)  \\\n2017-01-02 00:00:00             100.758006               5.600168   \n2017-01-02 01:00:00             112.998793               7.059138   \n2017-01-02 02:00:00             109.324571               8.449554   \n2017-01-02 03:00:00              94.179325               8.861126   \n2017-01-02 04:00:00              79.816156               8.779075   \n\n                     ATMP_42039_ERA5(t+23)  WSPD_42035_ERA5(t+23)  \\\n2017-01-02 00:00:00              24.089601               3.027370   \n2017-01-02 01:00:00              24.074376               3.468129   \n2017-01-02 02:00:00              24.029364               3.731152   \n2017-01-02 03:00:00              24.063785               3.605799   \n2017-01-02 04:00:00              24.014801               3.653944   \n\n                     WSPD_42001_ERA5(t+23)  ATMP_42019_ERA5(t+23)  \\\n2017-01-02 00:00:00               6.414373              22.095493   \n2017-01-02 01:00:00               6.809022              22.109533   \n2017-01-02 02:00:00               7.015621              22.160232   \n2017-01-02 03:00:00               6.296834              22.208202   \n2017-01-02 04:00:00               4.929976              22.280351   \n\n                     WTMP_42039_ERA5(t+23)  WSPD_42002_ERA5(t+23)  \\\n2017-01-02 00:00:00              23.516289               5.447760   \n2017-01-02 01:00:00              23.516289               5.496215   \n2017-01-02 02:00:00              23.516289               4.857116   \n2017-01-02 03:00:00              23.516289               3.256610   \n2017-01-02 04:00:00              23.516289               2.170185   \n\n                     PRES_42039_ERA5(t+23)  \n2017-01-02 00:00:00            1014.172311  \n2017-01-02 01:00:00            1014.978038  \n2017-01-02 02:00:00            1015.098081  \n2017-01-02 03:00:00            1016.216312  \n2017-01-02 04:00:00            1016.259371  \n\n[5 rows x 4416 columns]",
      "text/html": "<div>\n<style scoped>\n    .dataframe tbody tr th:only-of-type {\n        vertical-align: middle;\n    }\n\n    .dataframe tbody tr th {\n        vertical-align: top;\n    }\n\n    .dataframe thead th {\n        text-align: right;\n    }\n</style>\n<table border=\"1\" class=\"dataframe\">\n  <thead>\n    <tr style=\"text-align: right;\">\n      <th></th>\n      <th>WDIR_42001(t-24)</th>\n      <th>WSPD_42001(t-24)</th>\n      <th>PRES_42001(t-24)</th>\n      <th>ATMP_42001(t-24)</th>\n      <th>WTMP_42001(t-24)</th>\n      <th>DEWP_42001(t-24)</th>\n      <th>WDIR_42002(t-24)</th>\n      <th>WSPD_42002(t-24)</th>\n      <th>PRES_42002(t-24)</th>\n      <th>ATMP_42002(t-24)</th>\n      <th>...</th>\n      <th>DEWP_42002_ERA5(t+23)</th>\n      <th>WDIR_42039_ERA5(t+23)</th>\n      <th>WSPD_42039_ERA5(t+23)</th>\n      <th>ATMP_42039_ERA5(t+23)</th>\n      <th>WSPD_42035_ERA5(t+23)</th>\n      <th>WSPD_42001_ERA5(t+23)</th>\n      <th>ATMP_42019_ERA5(t+23)</th>\n      <th>WTMP_42039_ERA5(t+23)</th>\n      <th>WSPD_42002_ERA5(t+23)</th>\n      <th>PRES_42039_ERA5(t+23)</th>\n    </tr>\n  </thead>\n  <tbody>\n    <tr>\n      <th>2017-01-02 00:00:00</th>\n      <td>107.0</td>\n      <td>8.1</td>\n      <td>1013.2</td>\n      <td>26.6</td>\n      <td>29.8</td>\n      <td>23.8</td>\n      <td>53.0</td>\n      <td>2.9</td>\n      <td>1016.4</td>\n      <td>23.3</td>\n      <td>...</td>\n      <td>22.712186</td>\n      <td>100.758006</td>\n      <td>5.600168</td>\n      <td>24.089601</td>\n      <td>3.027370</td>\n      <td>6.414373</td>\n      <td>22.095493</td>\n      <td>23.516289</td>\n      <td>5.447760</td>\n      <td>1014.172311</td>\n    </tr>\n    <tr>\n      <th>2017-01-02 01:00:00</th>\n      <td>107.0</td>\n      <td>8.1</td>\n      <td>1013.2</td>\n      <td>26.6</td>\n      <td>29.8</td>\n      <td>23.8</td>\n      <td>53.0</td>\n      <td>2.9</td>\n      <td>1016.4</td>\n      <td>23.3</td>\n      <td>...</td>\n      <td>22.767129</td>\n      <td>112.998793</td>\n      <td>7.059138</td>\n      <td>24.074376</td>\n      <td>3.468129</td>\n      <td>6.809022</td>\n      <td>22.109533</td>\n      <td>23.516289</td>\n      <td>5.496215</td>\n      <td>1014.978038</td>\n    </tr>\n    <tr>\n      <th>2017-01-02 02:00:00</th>\n      <td>107.0</td>\n      <td>8.1</td>\n      <td>1013.2</td>\n      <td>26.6</td>\n      <td>29.8</td>\n      <td>23.8</td>\n      <td>53.0</td>\n      <td>2.9</td>\n      <td>1016.4</td>\n      <td>23.3</td>\n      <td>...</td>\n      <td>22.838819</td>\n      <td>109.324571</td>\n      <td>8.449554</td>\n      <td>24.029364</td>\n      <td>3.731152</td>\n      <td>7.015621</td>\n      <td>22.160232</td>\n      <td>23.516289</td>\n      <td>4.857116</td>\n      <td>1015.098081</td>\n    </tr>\n    <tr>\n      <th>2017-01-02 03:00:00</th>\n      <td>107.0</td>\n      <td>8.1</td>\n      <td>1013.2</td>\n      <td>26.6</td>\n      <td>29.8</td>\n      <td>23.8</td>\n      <td>53.0</td>\n      <td>2.9</td>\n      <td>1016.4</td>\n      <td>23.3</td>\n      <td>...</td>\n      <td>22.878190</td>\n      <td>94.179325</td>\n      <td>8.861126</td>\n      <td>24.063785</td>\n      <td>3.605799</td>\n      <td>6.296834</td>\n      <td>22.208202</td>\n      <td>23.516289</td>\n      <td>3.256610</td>\n      <td>1016.216312</td>\n    </tr>\n    <tr>\n      <th>2017-01-02 04:00:00</th>\n      <td>107.0</td>\n      <td>8.1</td>\n      <td>1013.2</td>\n      <td>26.6</td>\n      <td>29.8</td>\n      <td>23.8</td>\n      <td>53.0</td>\n      <td>2.9</td>\n      <td>1016.4</td>\n      <td>23.3</td>\n      <td>...</td>\n      <td>22.801505</td>\n      <td>79.816156</td>\n      <td>8.779075</td>\n      <td>24.014801</td>\n      <td>3.653944</td>\n      <td>4.929976</td>\n      <td>22.280351</td>\n      <td>23.516289</td>\n      <td>2.170185</td>\n      <td>1016.259371</td>\n    </tr>\n  </tbody>\n</table>\n<p>5 rows × 4416 columns</p>\n</div>"
     },
     "execution_count": 205,
     "metadata": {},
     "output_type": "execute_result"
    }
   ],
   "source": [
    "#data_supervised = DP.data_to_supervised(data_stationary, n_in=N_IN, n_out=N_OUT)\n",
    "data_supervised = DP.data_to_supervised(data, n_in=N_IN, n_out=N_OUT)\n",
    "data_supervised.head()"
   ]
  },
  {
   "cell_type": "markdown",
   "metadata": {
    "pycharm": {
     "name": "#%% md\n"
    }
   },
   "source": [
    "## train test split"
   ]
  },
  {
   "cell_type": "code",
   "execution_count": 206,
   "outputs": [],
   "source": [
    "def train_test_split_3d(df, num_test_records):\n",
    "    # Extract the unique timestamps for X and y\n",
    "    x_timestamps = []\n",
    "    y_timestamps = []\n",
    "\n",
    "    for col in df.columns:\n",
    "        timestamp = col.split('(')[-1][:-1]\n",
    "        if 't-' in col and timestamp not in x_timestamps:\n",
    "            x_timestamps.append(timestamp)\n",
    "        if ('t+' in col or timestamp == 't') and timestamp not in y_timestamps:\n",
    "            y_timestamps.append(timestamp)\n",
    "\n",
    "    # Number of features per timestamp\n",
    "    num_x_features = len(df.columns) // (len(x_timestamps) + len(y_timestamps))\n",
    "    num_y_features = num_x_features\n",
    "\n",
    "    # Initialize 3D arrays to hold the data\n",
    "    num_records = len(df)\n",
    "    x_data = np.zeros((num_records, len(x_timestamps), num_x_features))\n",
    "    y_data = np.zeros((num_records, len(y_timestamps), num_y_features))\n",
    "\n",
    "    for i, timestamp in enumerate(x_timestamps):\n",
    "        cols = [col for col in df.columns if f'({timestamp})' in col]\n",
    "        x_data[:, i, :] = df[cols].values\n",
    "\n",
    "    for i, timestamp in enumerate(y_timestamps):\n",
    "        cols = [col for col in df.columns if f'({timestamp})' in col]\n",
    "        y_data[:, i, :] = df[cols].values\n",
    "\n",
    "    # Split the data into train and test sets\n",
    "    train_x_data = x_data[:-num_test_records]\n",
    "    test_x_data = x_data[-num_test_records:]\n",
    "    train_y_data = y_data[:-num_test_records]\n",
    "    test_y_data = y_data[-num_test_records:]\n",
    "\n",
    "    # Create train_X, train_y, test_X, and test_y\n",
    "    train_X = train_x_data\n",
    "    train_y = train_y_data\n",
    "    test_X = test_x_data\n",
    "    test_y = test_y_data\n",
    "\n",
    "    y_headers = [col for col in data_supervised.columns if ('t+' in col or '(t)' in col) and 't-' not in col]\n",
    "\n",
    "    return train_X, train_y, test_X, test_y, y_headers\n",
    "\n",
    "def y_to_dataframe(y_array, y_headers):\n",
    "    records, timestamps, features = y_array.shape\n",
    "    data = y_array.reshape(records, timestamps * features)\n",
    "    return pd.DataFrame(data, columns=y_headers)"
   ],
   "metadata": {
    "collapsed": false,
    "pycharm": {
     "name": "#%%\n"
    }
   }
  },
  {
   "cell_type": "code",
   "execution_count": 207,
   "outputs": [
    {
     "name": "stdout",
     "output_type": "stream",
     "text": [
      "Shapes:  (51793, 24, 92) (51793, 24, 92) (744, 24, 92) (744, 24, 92)\n"
     ]
    }
   ],
   "source": [
    "train_X, train_y, test_X, test_y, y_headers = train_test_split_3d(data_supervised, N_TEST_HOURS)\n",
    "print(\"Shapes: \", train_X.shape, train_y.shape, test_X.shape, test_y.shape)"
   ],
   "metadata": {
    "collapsed": false,
    "pycharm": {
     "name": "#%%\n"
    }
   }
  },
  {
   "cell_type": "code",
   "execution_count": 208,
   "outputs": [],
   "source": [
    "#DEV Data:\n",
    "# Reducing the data to 10 records for development purposes\n",
    "#train_X, train_y, test_X, test_y = train_X[:10], train_y[:10], test_X[:10], test_y[:10]\n",
    "#print(\"Shapes: \", train_X.shape, train_y.shape, test_X.shape, test_y.shape)"
   ],
   "metadata": {
    "collapsed": false,
    "pycharm": {
     "name": "#%%\n"
    }
   }
  },
  {
   "cell_type": "markdown",
   "source": [
    "## Train Mdoel"
   ],
   "metadata": {
    "collapsed": false,
    "pycharm": {
     "name": "#%% md\n"
    }
   }
  },
  {
   "cell_type": "code",
   "execution_count": 209,
   "metadata": {
    "pycharm": {
     "name": "#%%\n"
    }
   },
   "outputs": [
    {
     "name": "stdout",
     "output_type": "stream",
     "text": [
      "Epoch 1/100\n",
      "729/729 [==============================] - 39s 50ms/step - loss: 206.3045 - val_loss: 204.4026\n",
      "Epoch 2/100\n",
      "729/729 [==============================] - 37s 51ms/step - loss: 196.9839 - val_loss: 196.2111\n",
      "Epoch 3/100\n",
      "729/729 [==============================] - 32s 44ms/step - loss: 191.6054 - val_loss: 191.8206\n",
      "Epoch 4/100\n",
      "729/729 [==============================] - 32s 43ms/step - loss: 187.6810 - val_loss: 187.9917\n",
      "Epoch 5/100\n",
      "729/729 [==============================] - 31s 43ms/step - loss: 183.9438 - val_loss: 184.5692\n",
      "Epoch 6/100\n",
      "729/729 [==============================] - 31s 42ms/step - loss: 180.6688 - val_loss: 181.6256\n",
      "Epoch 7/100\n",
      "729/729 [==============================] - 31s 43ms/step - loss: 177.6433 - val_loss: 178.8482\n",
      "Epoch 8/100\n",
      "729/729 [==============================] - 32s 43ms/step - loss: 174.7685 - val_loss: 176.1530\n",
      "Epoch 9/100\n",
      "729/729 [==============================] - 31s 42ms/step - loss: 172.1317 - val_loss: 173.7199\n",
      "Epoch 10/100\n",
      "729/729 [==============================] - 31s 42ms/step - loss: 169.6764 - val_loss: 171.3354\n",
      "Epoch 11/100\n",
      "729/729 [==============================] - 31s 43ms/step - loss: 167.3618 - val_loss: 168.9684\n",
      "Epoch 12/100\n",
      "729/729 [==============================] - 31s 43ms/step - loss: 165.1060 - val_loss: 166.6472\n",
      "Epoch 13/100\n",
      "729/729 [==============================] - 31s 43ms/step - loss: 162.8793 - val_loss: 164.3421\n",
      "Epoch 14/100\n",
      "729/729 [==============================] - 31s 43ms/step - loss: 160.6676 - val_loss: 162.0526\n",
      "Epoch 15/100\n",
      "729/729 [==============================] - 31s 43ms/step - loss: 158.4762 - val_loss: 159.7941\n",
      "Epoch 16/100\n",
      "729/729 [==============================] - 31s 42ms/step - loss: 156.3009 - val_loss: 157.5498\n",
      "Epoch 17/100\n",
      "729/729 [==============================] - 31s 42ms/step - loss: 154.1330 - val_loss: 155.3191\n",
      "Epoch 18/100\n",
      "729/729 [==============================] - 31s 42ms/step - loss: 151.9724 - val_loss: 153.0968\n",
      "Epoch 19/100\n",
      "729/729 [==============================] - 31s 42ms/step - loss: 149.8188 - val_loss: 150.9011\n",
      "Epoch 20/100\n",
      "729/729 [==============================] - 32s 43ms/step - loss: 147.6768 - val_loss: 148.7646\n",
      "Epoch 21/100\n",
      "729/729 [==============================] - 31s 42ms/step - loss: 145.5423 - val_loss: 146.6273\n",
      "Epoch 22/100\n",
      "729/729 [==============================] - 31s 42ms/step - loss: 143.4087 - val_loss: 144.4939\n",
      "Epoch 23/100\n",
      "729/729 [==============================] - 32s 43ms/step - loss: 141.2752 - val_loss: 142.3602\n",
      "Epoch 24/100\n",
      "729/729 [==============================] - 31s 43ms/step - loss: 139.1439 - val_loss: 140.2286\n",
      "Epoch 25/100\n",
      "729/729 [==============================] - 31s 43ms/step - loss: 137.0117 - val_loss: 138.0960\n",
      "Epoch 26/100\n",
      "729/729 [==============================] - 31s 43ms/step - loss: 134.8815 - val_loss: 135.9638\n",
      "Epoch 27/100\n",
      "729/729 [==============================] - 32s 44ms/step - loss: 132.7508 - val_loss: 133.8336\n",
      "Epoch 28/100\n",
      "729/729 [==============================] - 32s 44ms/step - loss: 130.6194 - val_loss: 131.7012\n",
      "Epoch 29/100\n",
      "729/729 [==============================] - 32s 44ms/step - loss: 128.4885 - val_loss: 129.5688\n",
      "Epoch 30/100\n",
      "729/729 [==============================] - 32s 44ms/step - loss: 126.3578 - val_loss: 127.4380\n",
      "Epoch 31/100\n",
      "729/729 [==============================] - 32s 44ms/step - loss: 124.2270 - val_loss: 125.3078\n",
      "Epoch 32/100\n",
      "729/729 [==============================] - 32s 44ms/step - loss: 122.0968 - val_loss: 123.1763\n",
      "Epoch 33/100\n",
      "729/729 [==============================] - 32s 44ms/step - loss: 119.9656 - val_loss: 121.0452\n",
      "Epoch 34/100\n",
      "729/729 [==============================] - 33s 45ms/step - loss: 117.8361 - val_loss: 118.9141\n",
      "Epoch 35/100\n",
      "729/729 [==============================] - 33s 45ms/step - loss: 115.7049 - val_loss: 116.7840\n",
      "Epoch 36/100\n",
      "729/729 [==============================] - 32s 44ms/step - loss: 113.5744 - val_loss: 114.6520\n",
      "Epoch 37/100\n",
      "729/729 [==============================] - 32s 44ms/step - loss: 111.4441 - val_loss: 112.5217\n",
      "Epoch 38/100\n",
      "729/729 [==============================] - 32s 43ms/step - loss: 109.3137 - val_loss: 110.3915\n",
      "Epoch 39/100\n",
      "729/729 [==============================] - 32s 44ms/step - loss: 107.1826 - val_loss: 108.2606\n",
      "Epoch 40/100\n",
      "729/729 [==============================] - 32s 43ms/step - loss: 105.0524 - val_loss: 106.1289\n",
      "Epoch 41/100\n",
      "729/729 [==============================] - 32s 43ms/step - loss: 102.9218 - val_loss: 103.9995\n",
      "Epoch 42/100\n",
      "729/729 [==============================] - 32s 44ms/step - loss: 100.7910 - val_loss: 101.8671\n",
      "Epoch 43/100\n",
      "729/729 [==============================] - 32s 43ms/step - loss: 98.6609 - val_loss: 99.7374\n",
      "Epoch 44/100\n",
      "729/729 [==============================] - 32s 44ms/step - loss: 96.5305 - val_loss: 97.6065\n",
      "Epoch 45/100\n",
      "729/729 [==============================] - 32s 44ms/step - loss: 94.4001 - val_loss: 95.4762\n",
      "Epoch 46/100\n",
      "729/729 [==============================] - 32s 44ms/step - loss: 92.2697 - val_loss: 93.3457\n",
      "Epoch 47/100\n",
      "729/729 [==============================] - 32s 44ms/step - loss: 90.1391 - val_loss: 91.2161\n",
      "Epoch 48/100\n",
      "729/729 [==============================] - 32s 44ms/step - loss: 88.0081 - val_loss: 89.0845\n",
      "Epoch 49/100\n",
      "729/729 [==============================] - 32s 44ms/step - loss: 85.8782 - val_loss: 86.9545\n",
      "Epoch 50/100\n",
      "729/729 [==============================] - 32s 44ms/step - loss: 83.7470 - val_loss: 84.8233\n",
      "Epoch 51/100\n",
      "729/729 [==============================] - 32s 44ms/step - loss: 81.6163 - val_loss: 82.6927\n",
      "Epoch 52/100\n",
      "729/729 [==============================] - 32s 43ms/step - loss: 79.4872 - val_loss: 80.5625\n",
      "Epoch 53/100\n",
      "729/729 [==============================] - 32s 44ms/step - loss: 77.3558 - val_loss: 78.4328\n",
      "Epoch 54/100\n",
      "729/729 [==============================] - 92s 127ms/step - loss: 75.2255 - val_loss: 76.3008\n",
      "Epoch 55/100\n",
      "729/729 [==============================] - 55s 76ms/step - loss: 73.0950 - val_loss: 74.1709\n",
      "Epoch 56/100\n",
      "729/729 [==============================] - 32s 44ms/step - loss: 70.9642 - val_loss: 72.0399\n",
      "Epoch 57/100\n",
      "729/729 [==============================] - 32s 43ms/step - loss: 68.8340 - val_loss: 69.9101\n",
      "Epoch 58/100\n",
      "729/729 [==============================] - 32s 44ms/step - loss: 66.7035 - val_loss: 67.7793\n",
      "Epoch 59/100\n",
      "729/729 [==============================] - 32s 43ms/step - loss: 64.5728 - val_loss: 65.6490\n",
      "Epoch 60/100\n",
      "729/729 [==============================] - 36s 49ms/step - loss: 62.4426 - val_loss: 63.5186\n",
      "Epoch 61/100\n",
      "729/729 [==============================] - 33s 45ms/step - loss: 60.3115 - val_loss: 61.3884\n",
      "Epoch 62/100\n",
      "729/729 [==============================] - 32s 44ms/step - loss: 58.1819 - val_loss: 59.2582\n",
      "Epoch 63/100\n",
      "729/729 [==============================] - 32s 43ms/step - loss: 56.0505 - val_loss: 57.1266\n",
      "Epoch 64/100\n",
      "729/729 [==============================] - 32s 44ms/step - loss: 53.9207 - val_loss: 54.9967\n",
      "Epoch 65/100\n",
      "729/729 [==============================] - 32s 43ms/step - loss: 51.7895 - val_loss: 52.8661\n",
      "Epoch 66/100\n",
      "729/729 [==============================] - 32s 44ms/step - loss: 49.6597 - val_loss: 50.7354\n",
      "Epoch 67/100\n",
      "729/729 [==============================] - 32s 43ms/step - loss: 47.5292 - val_loss: 48.6057\n",
      "Epoch 68/100\n",
      "729/729 [==============================] - 31s 43ms/step - loss: 45.3985 - val_loss: 46.4751\n",
      "Epoch 69/100\n",
      "729/729 [==============================] - 32s 44ms/step - loss: 43.2677 - val_loss: 44.3447\n",
      "Epoch 70/100\n",
      "729/729 [==============================] - 32s 44ms/step - loss: 41.1379 - val_loss: 42.2131\n",
      "Epoch 71/100\n",
      "729/729 [==============================] - 32s 44ms/step - loss: 39.0065 - val_loss: 40.0830\n",
      "Epoch 72/100\n",
      "729/729 [==============================] - 31s 43ms/step - loss: 36.8768 - val_loss: 37.9527\n",
      "Epoch 73/100\n",
      "729/729 [==============================] - 86s 119ms/step - loss: 34.7461 - val_loss: 35.8221\n",
      "Epoch 74/100\n",
      "729/729 [==============================] - 85s 116ms/step - loss: 32.6155 - val_loss: 33.6914\n",
      "Epoch 75/100\n",
      "729/729 [==============================] - 33s 46ms/step - loss: 30.4844 - val_loss: 31.5598\n",
      "Epoch 76/100\n",
      "729/729 [==============================] - 32s 44ms/step - loss: 28.3551 - val_loss: 29.4307\n",
      "Epoch 77/100\n",
      "729/729 [==============================] - 33s 45ms/step - loss: 26.2235 - val_loss: 27.2993\n",
      "Epoch 78/100\n",
      "729/729 [==============================] - 33s 45ms/step - loss: 24.0937 - val_loss: 25.1702\n",
      "Epoch 79/100\n",
      "729/729 [==============================] - 32s 44ms/step - loss: 21.9630 - val_loss: 23.0398\n",
      "Epoch 80/100\n",
      "729/729 [==============================] - 32s 44ms/step - loss: 19.8329 - val_loss: 20.9092\n",
      "Epoch 81/100\n",
      "729/729 [==============================] - 35s 48ms/step - loss: 17.7222 - val_loss: 18.8320\n",
      "Epoch 82/100\n",
      "729/729 [==============================] - 32s 44ms/step - loss: 15.8133 - val_loss: 17.3145\n",
      "Epoch 83/100\n",
      "729/729 [==============================] - 32s 44ms/step - loss: 15.0001 - val_loss: 17.2585\n",
      "Epoch 84/100\n",
      "729/729 [==============================] - 32s 44ms/step - loss: 14.9591 - val_loss: 17.2589\n",
      "Epoch 85/100\n",
      "729/729 [==============================] - 32s 44ms/step - loss: 14.9577 - val_loss: 17.2590\n",
      "Epoch 86/100\n",
      "729/729 [==============================] - 32s 44ms/step - loss: 14.9579 - val_loss: 17.2578\n",
      "Epoch 87/100\n",
      "729/729 [==============================] - 32s 44ms/step - loss: 14.9575 - val_loss: 17.2585\n",
      "Epoch 88/100\n",
      "729/729 [==============================] - 32s 44ms/step - loss: 14.9577 - val_loss: 17.2577\n",
      "Epoch 89/100\n",
      "729/729 [==============================] - 33s 46ms/step - loss: 14.9585 - val_loss: 17.2598\n",
      "Epoch 90/100\n",
      "729/729 [==============================] - 32s 44ms/step - loss: 14.9573 - val_loss: 17.2589\n",
      "Epoch 91/100\n",
      "729/729 [==============================] - 32s 44ms/step - loss: 14.9574 - val_loss: 17.2583\n",
      "Epoch 92/100\n",
      "729/729 [==============================] - 32s 44ms/step - loss: 14.9580 - val_loss: 17.2587\n",
      "Epoch 93/100\n",
      "729/729 [==============================] - 33s 45ms/step - loss: 14.9568 - val_loss: 17.2573\n",
      "Epoch 94/100\n",
      "729/729 [==============================] - 32s 44ms/step - loss: 14.9580 - val_loss: 17.2590\n",
      "Epoch 95/100\n",
      "729/729 [==============================] - 33s 46ms/step - loss: 14.9564 - val_loss: 17.2569\n",
      "Epoch 96/100\n",
      "729/729 [==============================] - 32s 44ms/step - loss: 14.9583 - val_loss: 17.2590\n",
      "Epoch 97/100\n",
      "729/729 [==============================] - 31s 42ms/step - loss: 14.9570 - val_loss: 17.2587\n",
      "Epoch 98/100\n",
      "729/729 [==============================] - 119s 163ms/step - loss: 14.9574 - val_loss: 17.2576\n",
      "Epoch 99/100\n",
      "729/729 [==============================] - 122s 168ms/step - loss: 14.9574 - val_loss: 17.2583\n",
      "Epoch 100/100\n",
      "729/729 [==============================] - 176s 242ms/step - loss: 14.9580 - val_loss: 17.2586\n"
     ]
    }
   ],
   "source": [
    "model = Models.get_model(MODEL_NAME, train_X, train_y, ALPHA)"
   ]
  },
  {
   "cell_type": "markdown",
   "source": [
    "# CONTINUE HERE"
   ],
   "metadata": {
    "collapsed": false,
    "pycharm": {
     "name": "#%% md\n"
    }
   }
  },
  {
   "cell_type": "code",
   "execution_count": 211,
   "outputs": [
    {
     "name": "stdout",
     "output_type": "stream",
     "text": [
      "Ready to continue\n"
     ]
    }
   ],
   "source": [
    "print('Ready to continue')"
   ],
   "metadata": {
    "collapsed": false,
    "pycharm": {
     "name": "#%%\n"
    }
   }
  },
  {
   "cell_type": "markdown",
   "metadata": {
    "pycharm": {
     "name": "#%% md\n"
    }
   },
   "source": [
    "----\n",
    "# One-Shot Forecasting"
   ]
  },
  {
   "cell_type": "code",
   "execution_count": 212,
   "metadata": {
    "pycharm": {
     "name": "#%%\n"
    }
   },
   "outputs": [
    {
     "name": "stdout",
     "output_type": "stream",
     "text": [
      "51793/51793 [==============================] - 144s 3ms/step\n"
     ]
    }
   ],
   "source": [
    "_ = model.predict(train_X, batch_size=1)"
   ]
  },
  {
   "cell_type": "code",
   "execution_count": 213,
   "metadata": {
    "pycharm": {
     "name": "#%%\n"
    }
   },
   "outputs": [],
   "source": [
    "#output_cols = data.columns.tolist() #??\n",
    "#output_cols"
   ]
  },
  {
   "cell_type": "code",
   "execution_count": 214,
   "metadata": {
    "pycharm": {
     "name": "#%%\n"
    }
   },
   "outputs": [
    {
     "name": "stdout",
     "output_type": "stream",
     "text": [
      "24/24 [==============================] - 1s 8ms/step\n"
     ]
    }
   ],
   "source": [
    "yhat = model.predict(test_X)"
   ]
  },
  {
   "cell_type": "code",
   "execution_count": 215,
   "outputs": [
    {
     "data": {
      "text/plain": "                     WDIR_42001(t)_pred  WSPD_42001(t)_pred  \\\n2022-11-30 01:00:00          100.951622            3.470601   \n2022-11-30 02:00:00          100.951622            3.470601   \n2022-11-30 03:00:00          100.951622            3.470601   \n2022-11-30 04:00:00          100.951622            3.470601   \n2022-11-30 05:00:00          100.951622            3.470601   \n...                                 ...                 ...   \n2022-12-30 20:00:00          100.951622            3.470601   \n2022-12-30 21:00:00          100.951622            3.470601   \n2022-12-30 22:00:00          100.951622            3.470601   \n2022-12-30 23:00:00          100.951622            3.470601   \n2022-12-31 00:00:00          100.951622            3.470601   \n\n                     PRES_42001(t)_pred  ATMP_42001(t)_pred  \\\n2022-11-30 01:00:00          787.958862           22.877684   \n2022-11-30 02:00:00          787.958862           22.877684   \n2022-11-30 03:00:00          787.958862           22.877684   \n2022-11-30 04:00:00          787.958862           22.877684   \n2022-11-30 05:00:00          787.958862           22.877684   \n...                                 ...                 ...   \n2022-12-30 20:00:00          787.958862           22.877684   \n2022-12-30 21:00:00          787.958862           22.877684   \n2022-12-30 22:00:00          787.958862           22.877684   \n2022-12-30 23:00:00          787.958862           22.877684   \n2022-12-31 00:00:00          787.958862           22.877684   \n\n                     WTMP_42001(t)_pred  DEWP_42001(t)_pred  \\\n2022-11-30 01:00:00           22.515289           20.328766   \n2022-11-30 02:00:00           22.515289           20.328766   \n2022-11-30 03:00:00           22.515289           20.328766   \n2022-11-30 04:00:00           22.515289           20.328766   \n2022-11-30 05:00:00           22.515289           20.328766   \n...                                 ...                 ...   \n2022-12-30 20:00:00           22.515289           20.328766   \n2022-12-30 21:00:00           22.515289           20.328766   \n2022-12-30 22:00:00           22.515289           20.328766   \n2022-12-30 23:00:00           22.515289           20.328766   \n2022-12-31 00:00:00           22.515289           20.328766   \n\n                     WDIR_42002(t)_pred  WSPD_42002(t)_pred  \\\n2022-11-30 01:00:00           45.217014            4.466831   \n2022-11-30 02:00:00           45.217014            4.466831   \n2022-11-30 03:00:00           45.217014            4.466831   \n2022-11-30 04:00:00           45.217014            4.466831   \n2022-11-30 05:00:00           45.217014            4.466831   \n...                                 ...                 ...   \n2022-12-30 20:00:00           45.217014            4.466831   \n2022-12-30 21:00:00           45.217014            4.466831   \n2022-12-30 22:00:00           45.217014            4.466831   \n2022-12-30 23:00:00           45.217014            4.466831   \n2022-12-31 00:00:00           45.217014            4.466831   \n\n                     PRES_42002(t)_pred  ATMP_42002(t)_pred  ...  \\\n2022-11-30 01:00:00          788.635681            19.07692  ...   \n2022-11-30 02:00:00          788.635681            19.07692  ...   \n2022-11-30 03:00:00          788.635681            19.07692  ...   \n2022-11-30 04:00:00          788.635681            19.07692  ...   \n2022-11-30 05:00:00          788.635681            19.07692  ...   \n...                                 ...                 ...  ...   \n2022-12-30 20:00:00          788.635681            19.07692  ...   \n2022-12-30 21:00:00          788.635681            19.07692  ...   \n2022-12-30 22:00:00          788.635681            19.07692  ...   \n2022-12-30 23:00:00          788.635681            19.07692  ...   \n2022-12-31 00:00:00          788.635681            19.07692  ...   \n\n                     DEWP_42002_ERA5(t+23)_pred  WDIR_42039_ERA5(t+23)_pred  \\\n2022-11-30 01:00:00                    0.968116                    -0.02937   \n2022-11-30 02:00:00                    0.968116                    -0.02937   \n2022-11-30 03:00:00                    0.968116                    -0.02937   \n2022-11-30 04:00:00                    0.968116                    -0.02937   \n2022-11-30 05:00:00                    0.968116                    -0.02937   \n...                                         ...                         ...   \n2022-12-30 20:00:00                    0.968116                    -0.02937   \n2022-12-30 21:00:00                    0.968116                    -0.02937   \n2022-12-30 22:00:00                    0.968116                    -0.02937   \n2022-12-30 23:00:00                    0.968116                    -0.02937   \n2022-12-31 00:00:00                    0.968116                    -0.02937   \n\n                     WSPD_42039_ERA5(t+23)_pred  ATMP_42039_ERA5(t+23)_pred  \\\n2022-11-30 01:00:00                   -0.741868                     0.03353   \n2022-11-30 02:00:00                   -0.741868                     0.03353   \n2022-11-30 03:00:00                   -0.741868                     0.03353   \n2022-11-30 04:00:00                   -0.741868                     0.03353   \n2022-11-30 05:00:00                   -0.741868                     0.03353   \n...                                         ...                         ...   \n2022-12-30 20:00:00                   -0.741868                     0.03353   \n2022-12-30 21:00:00                   -0.741868                     0.03353   \n2022-12-30 22:00:00                   -0.741868                     0.03353   \n2022-12-30 23:00:00                   -0.741868                     0.03353   \n2022-12-31 00:00:00                   -0.741868                     0.03353   \n\n                     WSPD_42035_ERA5(t+23)_pred  WSPD_42001_ERA5(t+23)_pred  \\\n2022-11-30 01:00:00                    0.027804                    -0.17851   \n2022-11-30 02:00:00                    0.027804                    -0.17851   \n2022-11-30 03:00:00                    0.027804                    -0.17851   \n2022-11-30 04:00:00                    0.027804                    -0.17851   \n2022-11-30 05:00:00                    0.027804                    -0.17851   \n...                                         ...                         ...   \n2022-12-30 20:00:00                    0.027804                    -0.17851   \n2022-12-30 21:00:00                    0.027804                    -0.17851   \n2022-12-30 22:00:00                    0.027804                    -0.17851   \n2022-12-30 23:00:00                    0.027804                    -0.17851   \n2022-12-31 00:00:00                    0.027804                    -0.17851   \n\n                     ATMP_42019_ERA5(t+23)_pred  WTMP_42039_ERA5(t+23)_pred  \\\n2022-11-30 01:00:00                    0.425472                    0.065564   \n2022-11-30 02:00:00                    0.425472                    0.065564   \n2022-11-30 03:00:00                    0.425472                    0.065564   \n2022-11-30 04:00:00                    0.425472                    0.065564   \n2022-11-30 05:00:00                    0.425472                    0.065564   \n...                                         ...                         ...   \n2022-12-30 20:00:00                    0.425472                    0.065564   \n2022-12-30 21:00:00                    0.425472                    0.065564   \n2022-12-30 22:00:00                    0.425472                    0.065564   \n2022-12-30 23:00:00                    0.425472                    0.065564   \n2022-12-31 00:00:00                    0.425472                    0.065564   \n\n                     WSPD_42002_ERA5(t+23)_pred  PRES_42039_ERA5(t+23)_pred  \n2022-11-30 01:00:00                    0.103171                    0.129197  \n2022-11-30 02:00:00                    0.103171                    0.129197  \n2022-11-30 03:00:00                    0.103171                    0.129197  \n2022-11-30 04:00:00                    0.103171                    0.129197  \n2022-11-30 05:00:00                    0.103171                    0.129197  \n...                                         ...                         ...  \n2022-12-30 20:00:00                    0.103171                    0.129197  \n2022-12-30 21:00:00                    0.103171                    0.129197  \n2022-12-30 22:00:00                    0.103171                    0.129197  \n2022-12-30 23:00:00                    0.103171                    0.129197  \n2022-12-31 00:00:00                    0.103171                    0.129197  \n\n[744 rows x 2208 columns]",
      "text/html": "<div>\n<style scoped>\n    .dataframe tbody tr th:only-of-type {\n        vertical-align: middle;\n    }\n\n    .dataframe tbody tr th {\n        vertical-align: top;\n    }\n\n    .dataframe thead th {\n        text-align: right;\n    }\n</style>\n<table border=\"1\" class=\"dataframe\">\n  <thead>\n    <tr style=\"text-align: right;\">\n      <th></th>\n      <th>WDIR_42001(t)_pred</th>\n      <th>WSPD_42001(t)_pred</th>\n      <th>PRES_42001(t)_pred</th>\n      <th>ATMP_42001(t)_pred</th>\n      <th>WTMP_42001(t)_pred</th>\n      <th>DEWP_42001(t)_pred</th>\n      <th>WDIR_42002(t)_pred</th>\n      <th>WSPD_42002(t)_pred</th>\n      <th>PRES_42002(t)_pred</th>\n      <th>ATMP_42002(t)_pred</th>\n      <th>...</th>\n      <th>DEWP_42002_ERA5(t+23)_pred</th>\n      <th>WDIR_42039_ERA5(t+23)_pred</th>\n      <th>WSPD_42039_ERA5(t+23)_pred</th>\n      <th>ATMP_42039_ERA5(t+23)_pred</th>\n      <th>WSPD_42035_ERA5(t+23)_pred</th>\n      <th>WSPD_42001_ERA5(t+23)_pred</th>\n      <th>ATMP_42019_ERA5(t+23)_pred</th>\n      <th>WTMP_42039_ERA5(t+23)_pred</th>\n      <th>WSPD_42002_ERA5(t+23)_pred</th>\n      <th>PRES_42039_ERA5(t+23)_pred</th>\n    </tr>\n  </thead>\n  <tbody>\n    <tr>\n      <th>2022-11-30 01:00:00</th>\n      <td>100.951622</td>\n      <td>3.470601</td>\n      <td>787.958862</td>\n      <td>22.877684</td>\n      <td>22.515289</td>\n      <td>20.328766</td>\n      <td>45.217014</td>\n      <td>4.466831</td>\n      <td>788.635681</td>\n      <td>19.07692</td>\n      <td>...</td>\n      <td>0.968116</td>\n      <td>-0.02937</td>\n      <td>-0.741868</td>\n      <td>0.03353</td>\n      <td>0.027804</td>\n      <td>-0.17851</td>\n      <td>0.425472</td>\n      <td>0.065564</td>\n      <td>0.103171</td>\n      <td>0.129197</td>\n    </tr>\n    <tr>\n      <th>2022-11-30 02:00:00</th>\n      <td>100.951622</td>\n      <td>3.470601</td>\n      <td>787.958862</td>\n      <td>22.877684</td>\n      <td>22.515289</td>\n      <td>20.328766</td>\n      <td>45.217014</td>\n      <td>4.466831</td>\n      <td>788.635681</td>\n      <td>19.07692</td>\n      <td>...</td>\n      <td>0.968116</td>\n      <td>-0.02937</td>\n      <td>-0.741868</td>\n      <td>0.03353</td>\n      <td>0.027804</td>\n      <td>-0.17851</td>\n      <td>0.425472</td>\n      <td>0.065564</td>\n      <td>0.103171</td>\n      <td>0.129197</td>\n    </tr>\n    <tr>\n      <th>2022-11-30 03:00:00</th>\n      <td>100.951622</td>\n      <td>3.470601</td>\n      <td>787.958862</td>\n      <td>22.877684</td>\n      <td>22.515289</td>\n      <td>20.328766</td>\n      <td>45.217014</td>\n      <td>4.466831</td>\n      <td>788.635681</td>\n      <td>19.07692</td>\n      <td>...</td>\n      <td>0.968116</td>\n      <td>-0.02937</td>\n      <td>-0.741868</td>\n      <td>0.03353</td>\n      <td>0.027804</td>\n      <td>-0.17851</td>\n      <td>0.425472</td>\n      <td>0.065564</td>\n      <td>0.103171</td>\n      <td>0.129197</td>\n    </tr>\n    <tr>\n      <th>2022-11-30 04:00:00</th>\n      <td>100.951622</td>\n      <td>3.470601</td>\n      <td>787.958862</td>\n      <td>22.877684</td>\n      <td>22.515289</td>\n      <td>20.328766</td>\n      <td>45.217014</td>\n      <td>4.466831</td>\n      <td>788.635681</td>\n      <td>19.07692</td>\n      <td>...</td>\n      <td>0.968116</td>\n      <td>-0.02937</td>\n      <td>-0.741868</td>\n      <td>0.03353</td>\n      <td>0.027804</td>\n      <td>-0.17851</td>\n      <td>0.425472</td>\n      <td>0.065564</td>\n      <td>0.103171</td>\n      <td>0.129197</td>\n    </tr>\n    <tr>\n      <th>2022-11-30 05:00:00</th>\n      <td>100.951622</td>\n      <td>3.470601</td>\n      <td>787.958862</td>\n      <td>22.877684</td>\n      <td>22.515289</td>\n      <td>20.328766</td>\n      <td>45.217014</td>\n      <td>4.466831</td>\n      <td>788.635681</td>\n      <td>19.07692</td>\n      <td>...</td>\n      <td>0.968116</td>\n      <td>-0.02937</td>\n      <td>-0.741868</td>\n      <td>0.03353</td>\n      <td>0.027804</td>\n      <td>-0.17851</td>\n      <td>0.425472</td>\n      <td>0.065564</td>\n      <td>0.103171</td>\n      <td>0.129197</td>\n    </tr>\n    <tr>\n      <th>...</th>\n      <td>...</td>\n      <td>...</td>\n      <td>...</td>\n      <td>...</td>\n      <td>...</td>\n      <td>...</td>\n      <td>...</td>\n      <td>...</td>\n      <td>...</td>\n      <td>...</td>\n      <td>...</td>\n      <td>...</td>\n      <td>...</td>\n      <td>...</td>\n      <td>...</td>\n      <td>...</td>\n      <td>...</td>\n      <td>...</td>\n      <td>...</td>\n      <td>...</td>\n      <td>...</td>\n    </tr>\n    <tr>\n      <th>2022-12-30 20:00:00</th>\n      <td>100.951622</td>\n      <td>3.470601</td>\n      <td>787.958862</td>\n      <td>22.877684</td>\n      <td>22.515289</td>\n      <td>20.328766</td>\n      <td>45.217014</td>\n      <td>4.466831</td>\n      <td>788.635681</td>\n      <td>19.07692</td>\n      <td>...</td>\n      <td>0.968116</td>\n      <td>-0.02937</td>\n      <td>-0.741868</td>\n      <td>0.03353</td>\n      <td>0.027804</td>\n      <td>-0.17851</td>\n      <td>0.425472</td>\n      <td>0.065564</td>\n      <td>0.103171</td>\n      <td>0.129197</td>\n    </tr>\n    <tr>\n      <th>2022-12-30 21:00:00</th>\n      <td>100.951622</td>\n      <td>3.470601</td>\n      <td>787.958862</td>\n      <td>22.877684</td>\n      <td>22.515289</td>\n      <td>20.328766</td>\n      <td>45.217014</td>\n      <td>4.466831</td>\n      <td>788.635681</td>\n      <td>19.07692</td>\n      <td>...</td>\n      <td>0.968116</td>\n      <td>-0.02937</td>\n      <td>-0.741868</td>\n      <td>0.03353</td>\n      <td>0.027804</td>\n      <td>-0.17851</td>\n      <td>0.425472</td>\n      <td>0.065564</td>\n      <td>0.103171</td>\n      <td>0.129197</td>\n    </tr>\n    <tr>\n      <th>2022-12-30 22:00:00</th>\n      <td>100.951622</td>\n      <td>3.470601</td>\n      <td>787.958862</td>\n      <td>22.877684</td>\n      <td>22.515289</td>\n      <td>20.328766</td>\n      <td>45.217014</td>\n      <td>4.466831</td>\n      <td>788.635681</td>\n      <td>19.07692</td>\n      <td>...</td>\n      <td>0.968116</td>\n      <td>-0.02937</td>\n      <td>-0.741868</td>\n      <td>0.03353</td>\n      <td>0.027804</td>\n      <td>-0.17851</td>\n      <td>0.425472</td>\n      <td>0.065564</td>\n      <td>0.103171</td>\n      <td>0.129197</td>\n    </tr>\n    <tr>\n      <th>2022-12-30 23:00:00</th>\n      <td>100.951622</td>\n      <td>3.470601</td>\n      <td>787.958862</td>\n      <td>22.877684</td>\n      <td>22.515289</td>\n      <td>20.328766</td>\n      <td>45.217014</td>\n      <td>4.466831</td>\n      <td>788.635681</td>\n      <td>19.07692</td>\n      <td>...</td>\n      <td>0.968116</td>\n      <td>-0.02937</td>\n      <td>-0.741868</td>\n      <td>0.03353</td>\n      <td>0.027804</td>\n      <td>-0.17851</td>\n      <td>0.425472</td>\n      <td>0.065564</td>\n      <td>0.103171</td>\n      <td>0.129197</td>\n    </tr>\n    <tr>\n      <th>2022-12-31 00:00:00</th>\n      <td>100.951622</td>\n      <td>3.470601</td>\n      <td>787.958862</td>\n      <td>22.877684</td>\n      <td>22.515289</td>\n      <td>20.328766</td>\n      <td>45.217014</td>\n      <td>4.466831</td>\n      <td>788.635681</td>\n      <td>19.07692</td>\n      <td>...</td>\n      <td>0.968116</td>\n      <td>-0.02937</td>\n      <td>-0.741868</td>\n      <td>0.03353</td>\n      <td>0.027804</td>\n      <td>-0.17851</td>\n      <td>0.425472</td>\n      <td>0.065564</td>\n      <td>0.103171</td>\n      <td>0.129197</td>\n    </tr>\n  </tbody>\n</table>\n<p>744 rows × 2208 columns</p>\n</div>"
     },
     "execution_count": 215,
     "metadata": {},
     "output_type": "execute_result"
    }
   ],
   "source": [
    "header_results=[name + \"_pred\" for name in y_headers]\n",
    "yhat_df = y_to_dataframe(yhat, header_results)\n",
    "yhat_df.set_index(data_supervised.tail(len(yhat)).index, inplace=True)\n",
    "yhat_df"
   ],
   "metadata": {
    "collapsed": false,
    "pycharm": {
     "name": "#%%\n"
    }
   }
  },
  {
   "cell_type": "code",
   "execution_count": 216,
   "outputs": [
    {
     "data": {
      "text/plain": "                     WDIR_42001(t)  WSPD_42001(t)  PRES_42001(t)  \\\n2022-11-30 01:00:00          143.0            5.1         1013.5   \n2022-11-30 02:00:00          146.0            5.5         1014.1   \n2022-11-30 03:00:00          145.0            5.8         1014.4   \n2022-11-30 04:00:00          151.0            5.0         1014.7   \n2022-11-30 05:00:00          155.0            4.9         1015.0   \n...                            ...            ...            ...   \n2022-12-30 20:00:00          174.0            8.3         1012.1   \n2022-12-30 21:00:00          178.0            7.1         1012.1   \n2022-12-30 22:00:00          185.0            7.1         1012.5   \n2022-12-30 23:00:00          185.0            5.9         1012.9   \n2022-12-31 00:00:00          189.0            5.0         1013.5   \n\n                     ATMP_42001(t)  WTMP_42001(t)  DEWP_42001(t)  \\\n2022-11-30 01:00:00           26.0           25.8           26.1   \n2022-11-30 02:00:00           26.0           25.7           26.1   \n2022-11-30 03:00:00           26.1           25.7           26.1   \n2022-11-30 04:00:00           26.0           25.7           26.0   \n2022-11-30 05:00:00           26.0           25.6           26.0   \n...                            ...            ...            ...   \n2022-12-30 20:00:00           25.4           24.1           24.3   \n2022-12-30 21:00:00           25.3           24.1           24.5   \n2022-12-30 22:00:00           25.4           24.2           24.2   \n2022-12-30 23:00:00           25.3           24.2           24.4   \n2022-12-31 00:00:00           25.2           24.3           24.5   \n\n                     WDIR_42002(t)  WSPD_42002(t)  PRES_42002(t)  \\\n2022-11-30 01:00:00          169.0            7.1         1012.2   \n2022-11-30 02:00:00          168.0            7.9         1012.8   \n2022-11-30 03:00:00          165.0            8.7         1012.9   \n2022-11-30 04:00:00          168.0            7.3         1013.6   \n2022-11-30 05:00:00          174.0            6.5         1014.2   \n...                            ...            ...            ...   \n2022-12-30 20:00:00          268.0            7.7         1011.1   \n2022-12-30 21:00:00          277.0            6.6         1011.1   \n2022-12-30 22:00:00          315.0            6.5         1011.3   \n2022-12-30 23:00:00          322.0            5.5         1011.7   \n2022-12-31 00:00:00          333.0            5.6         1012.3   \n\n                     ATMP_42002(t)  ...  DEWP_42002_ERA5(t+23)  \\\n2022-11-30 01:00:00           26.4  ...              22.305537   \n2022-11-30 02:00:00           26.4  ...              22.293447   \n2022-11-30 03:00:00           26.3  ...              22.082364   \n2022-11-30 04:00:00           26.4  ...              21.808872   \n2022-11-30 05:00:00           26.3  ...              21.497804   \n...                            ...  ...                    ...   \n2022-12-30 20:00:00           25.2  ...              20.512644   \n2022-12-30 21:00:00           25.3  ...              20.593026   \n2022-12-30 22:00:00           24.6  ...              20.705755   \n2022-12-30 23:00:00           24.7  ...              20.222161   \n2022-12-31 00:00:00           24.6  ...              20.541072   \n\n                     WDIR_42039_ERA5(t+23)  WSPD_42039_ERA5(t+23)  \\\n2022-11-30 01:00:00             242.227408               7.923812   \n2022-11-30 02:00:00             239.596934               7.981794   \n2022-11-30 03:00:00             242.366288               8.232870   \n2022-11-30 04:00:00             247.323459               8.985751   \n2022-11-30 05:00:00             249.279171               9.954728   \n...                                    ...                    ...   \n2022-12-30 20:00:00              28.180851               8.602918   \n2022-12-30 21:00:00              22.969408               7.734290   \n2022-12-30 22:00:00              14.655430               6.485218   \n2022-12-30 23:00:00              20.371840               3.294807   \n2022-12-31 00:00:00              21.918165               2.229422   \n\n                     ATMP_42039_ERA5(t+23)  WSPD_42035_ERA5(t+23)  \\\n2022-11-30 01:00:00              22.793180              11.096199   \n2022-11-30 02:00:00              22.885326              11.519451   \n2022-11-30 03:00:00              22.472808              11.726001   \n2022-11-30 04:00:00              21.507806              11.921091   \n2022-11-30 05:00:00              20.622119              11.674992   \n...                                    ...                    ...   \n2022-12-30 20:00:00              22.730194               2.533178   \n2022-12-30 21:00:00              22.564177               2.669909   \n2022-12-30 22:00:00              22.377552               3.147255   \n2022-12-30 23:00:00              24.068445               3.469271   \n2022-12-31 00:00:00              23.926533               3.938095   \n\n                     WSPD_42001_ERA5(t+23)  ATMP_42019_ERA5(t+23)  \\\n2022-11-30 01:00:00               6.853869              18.660720   \n2022-11-30 02:00:00               7.894913              18.769789   \n2022-11-30 03:00:00               8.438319              18.818356   \n2022-11-30 04:00:00               8.827513              18.804774   \n2022-11-30 05:00:00               9.112413              18.735216   \n...                                    ...                    ...   \n2022-12-30 20:00:00               0.601025              21.847184   \n2022-12-30 21:00:00               0.979714              22.052563   \n2022-12-30 22:00:00               2.067327              22.260412   \n2022-12-30 23:00:00               1.554299              22.101541   \n2022-12-31 00:00:00               2.206784              22.243125   \n\n                     WTMP_42039_ERA5(t+23)  WSPD_42002_ERA5(t+23)  \\\n2022-11-30 01:00:00              24.087488              10.980621   \n2022-11-30 02:00:00              24.087488              11.127536   \n2022-11-30 03:00:00              24.087488              11.483298   \n2022-11-30 04:00:00              24.087488              11.712454   \n2022-11-30 05:00:00              24.087488              11.972046   \n...                                    ...                    ...   \n2022-12-30 20:00:00              24.392457               1.062895   \n2022-12-30 21:00:00              24.392457               1.330008   \n2022-12-30 22:00:00              24.392457               1.770915   \n2022-12-30 23:00:00              24.885927               2.483432   \n2022-12-31 00:00:00              24.885927               3.242142   \n\n                     PRES_42039_ERA5(t+23)  \n2022-11-30 01:00:00            1020.541856  \n2022-11-30 02:00:00            1021.053156  \n2022-11-30 03:00:00            1021.884444  \n2022-11-30 04:00:00            1022.180572  \n2022-11-30 05:00:00            1022.342483  \n...                                    ...  \n2022-12-30 20:00:00            1016.581840  \n2022-12-30 21:00:00            1016.363260  \n2022-12-30 22:00:00            1016.186435  \n2022-12-30 23:00:00            1017.067575  \n2022-12-31 00:00:00            1017.021132  \n\n[744 rows x 2208 columns]",
      "text/html": "<div>\n<style scoped>\n    .dataframe tbody tr th:only-of-type {\n        vertical-align: middle;\n    }\n\n    .dataframe tbody tr th {\n        vertical-align: top;\n    }\n\n    .dataframe thead th {\n        text-align: right;\n    }\n</style>\n<table border=\"1\" class=\"dataframe\">\n  <thead>\n    <tr style=\"text-align: right;\">\n      <th></th>\n      <th>WDIR_42001(t)</th>\n      <th>WSPD_42001(t)</th>\n      <th>PRES_42001(t)</th>\n      <th>ATMP_42001(t)</th>\n      <th>WTMP_42001(t)</th>\n      <th>DEWP_42001(t)</th>\n      <th>WDIR_42002(t)</th>\n      <th>WSPD_42002(t)</th>\n      <th>PRES_42002(t)</th>\n      <th>ATMP_42002(t)</th>\n      <th>...</th>\n      <th>DEWP_42002_ERA5(t+23)</th>\n      <th>WDIR_42039_ERA5(t+23)</th>\n      <th>WSPD_42039_ERA5(t+23)</th>\n      <th>ATMP_42039_ERA5(t+23)</th>\n      <th>WSPD_42035_ERA5(t+23)</th>\n      <th>WSPD_42001_ERA5(t+23)</th>\n      <th>ATMP_42019_ERA5(t+23)</th>\n      <th>WTMP_42039_ERA5(t+23)</th>\n      <th>WSPD_42002_ERA5(t+23)</th>\n      <th>PRES_42039_ERA5(t+23)</th>\n    </tr>\n  </thead>\n  <tbody>\n    <tr>\n      <th>2022-11-30 01:00:00</th>\n      <td>143.0</td>\n      <td>5.1</td>\n      <td>1013.5</td>\n      <td>26.0</td>\n      <td>25.8</td>\n      <td>26.1</td>\n      <td>169.0</td>\n      <td>7.1</td>\n      <td>1012.2</td>\n      <td>26.4</td>\n      <td>...</td>\n      <td>22.305537</td>\n      <td>242.227408</td>\n      <td>7.923812</td>\n      <td>22.793180</td>\n      <td>11.096199</td>\n      <td>6.853869</td>\n      <td>18.660720</td>\n      <td>24.087488</td>\n      <td>10.980621</td>\n      <td>1020.541856</td>\n    </tr>\n    <tr>\n      <th>2022-11-30 02:00:00</th>\n      <td>146.0</td>\n      <td>5.5</td>\n      <td>1014.1</td>\n      <td>26.0</td>\n      <td>25.7</td>\n      <td>26.1</td>\n      <td>168.0</td>\n      <td>7.9</td>\n      <td>1012.8</td>\n      <td>26.4</td>\n      <td>...</td>\n      <td>22.293447</td>\n      <td>239.596934</td>\n      <td>7.981794</td>\n      <td>22.885326</td>\n      <td>11.519451</td>\n      <td>7.894913</td>\n      <td>18.769789</td>\n      <td>24.087488</td>\n      <td>11.127536</td>\n      <td>1021.053156</td>\n    </tr>\n    <tr>\n      <th>2022-11-30 03:00:00</th>\n      <td>145.0</td>\n      <td>5.8</td>\n      <td>1014.4</td>\n      <td>26.1</td>\n      <td>25.7</td>\n      <td>26.1</td>\n      <td>165.0</td>\n      <td>8.7</td>\n      <td>1012.9</td>\n      <td>26.3</td>\n      <td>...</td>\n      <td>22.082364</td>\n      <td>242.366288</td>\n      <td>8.232870</td>\n      <td>22.472808</td>\n      <td>11.726001</td>\n      <td>8.438319</td>\n      <td>18.818356</td>\n      <td>24.087488</td>\n      <td>11.483298</td>\n      <td>1021.884444</td>\n    </tr>\n    <tr>\n      <th>2022-11-30 04:00:00</th>\n      <td>151.0</td>\n      <td>5.0</td>\n      <td>1014.7</td>\n      <td>26.0</td>\n      <td>25.7</td>\n      <td>26.0</td>\n      <td>168.0</td>\n      <td>7.3</td>\n      <td>1013.6</td>\n      <td>26.4</td>\n      <td>...</td>\n      <td>21.808872</td>\n      <td>247.323459</td>\n      <td>8.985751</td>\n      <td>21.507806</td>\n      <td>11.921091</td>\n      <td>8.827513</td>\n      <td>18.804774</td>\n      <td>24.087488</td>\n      <td>11.712454</td>\n      <td>1022.180572</td>\n    </tr>\n    <tr>\n      <th>2022-11-30 05:00:00</th>\n      <td>155.0</td>\n      <td>4.9</td>\n      <td>1015.0</td>\n      <td>26.0</td>\n      <td>25.6</td>\n      <td>26.0</td>\n      <td>174.0</td>\n      <td>6.5</td>\n      <td>1014.2</td>\n      <td>26.3</td>\n      <td>...</td>\n      <td>21.497804</td>\n      <td>249.279171</td>\n      <td>9.954728</td>\n      <td>20.622119</td>\n      <td>11.674992</td>\n      <td>9.112413</td>\n      <td>18.735216</td>\n      <td>24.087488</td>\n      <td>11.972046</td>\n      <td>1022.342483</td>\n    </tr>\n    <tr>\n      <th>...</th>\n      <td>...</td>\n      <td>...</td>\n      <td>...</td>\n      <td>...</td>\n      <td>...</td>\n      <td>...</td>\n      <td>...</td>\n      <td>...</td>\n      <td>...</td>\n      <td>...</td>\n      <td>...</td>\n      <td>...</td>\n      <td>...</td>\n      <td>...</td>\n      <td>...</td>\n      <td>...</td>\n      <td>...</td>\n      <td>...</td>\n      <td>...</td>\n      <td>...</td>\n      <td>...</td>\n    </tr>\n    <tr>\n      <th>2022-12-30 20:00:00</th>\n      <td>174.0</td>\n      <td>8.3</td>\n      <td>1012.1</td>\n      <td>25.4</td>\n      <td>24.1</td>\n      <td>24.3</td>\n      <td>268.0</td>\n      <td>7.7</td>\n      <td>1011.1</td>\n      <td>25.2</td>\n      <td>...</td>\n      <td>20.512644</td>\n      <td>28.180851</td>\n      <td>8.602918</td>\n      <td>22.730194</td>\n      <td>2.533178</td>\n      <td>0.601025</td>\n      <td>21.847184</td>\n      <td>24.392457</td>\n      <td>1.062895</td>\n      <td>1016.581840</td>\n    </tr>\n    <tr>\n      <th>2022-12-30 21:00:00</th>\n      <td>178.0</td>\n      <td>7.1</td>\n      <td>1012.1</td>\n      <td>25.3</td>\n      <td>24.1</td>\n      <td>24.5</td>\n      <td>277.0</td>\n      <td>6.6</td>\n      <td>1011.1</td>\n      <td>25.3</td>\n      <td>...</td>\n      <td>20.593026</td>\n      <td>22.969408</td>\n      <td>7.734290</td>\n      <td>22.564177</td>\n      <td>2.669909</td>\n      <td>0.979714</td>\n      <td>22.052563</td>\n      <td>24.392457</td>\n      <td>1.330008</td>\n      <td>1016.363260</td>\n    </tr>\n    <tr>\n      <th>2022-12-30 22:00:00</th>\n      <td>185.0</td>\n      <td>7.1</td>\n      <td>1012.5</td>\n      <td>25.4</td>\n      <td>24.2</td>\n      <td>24.2</td>\n      <td>315.0</td>\n      <td>6.5</td>\n      <td>1011.3</td>\n      <td>24.6</td>\n      <td>...</td>\n      <td>20.705755</td>\n      <td>14.655430</td>\n      <td>6.485218</td>\n      <td>22.377552</td>\n      <td>3.147255</td>\n      <td>2.067327</td>\n      <td>22.260412</td>\n      <td>24.392457</td>\n      <td>1.770915</td>\n      <td>1016.186435</td>\n    </tr>\n    <tr>\n      <th>2022-12-30 23:00:00</th>\n      <td>185.0</td>\n      <td>5.9</td>\n      <td>1012.9</td>\n      <td>25.3</td>\n      <td>24.2</td>\n      <td>24.4</td>\n      <td>322.0</td>\n      <td>5.5</td>\n      <td>1011.7</td>\n      <td>24.7</td>\n      <td>...</td>\n      <td>20.222161</td>\n      <td>20.371840</td>\n      <td>3.294807</td>\n      <td>24.068445</td>\n      <td>3.469271</td>\n      <td>1.554299</td>\n      <td>22.101541</td>\n      <td>24.885927</td>\n      <td>2.483432</td>\n      <td>1017.067575</td>\n    </tr>\n    <tr>\n      <th>2022-12-31 00:00:00</th>\n      <td>189.0</td>\n      <td>5.0</td>\n      <td>1013.5</td>\n      <td>25.2</td>\n      <td>24.3</td>\n      <td>24.5</td>\n      <td>333.0</td>\n      <td>5.6</td>\n      <td>1012.3</td>\n      <td>24.6</td>\n      <td>...</td>\n      <td>20.541072</td>\n      <td>21.918165</td>\n      <td>2.229422</td>\n      <td>23.926533</td>\n      <td>3.938095</td>\n      <td>2.206784</td>\n      <td>22.243125</td>\n      <td>24.885927</td>\n      <td>3.242142</td>\n      <td>1017.021132</td>\n    </tr>\n  </tbody>\n</table>\n<p>744 rows × 2208 columns</p>\n</div>"
     },
     "execution_count": 216,
     "metadata": {},
     "output_type": "execute_result"
    }
   ],
   "source": [
    "evaluation = data_supervised[y_headers].tail(N_TEST_HOURS)\n",
    "evaluation"
   ],
   "metadata": {
    "collapsed": false,
    "pycharm": {
     "name": "#%%\n"
    }
   }
  },
  {
   "cell_type": "code",
   "execution_count": 216,
   "outputs": [],
   "source": [],
   "metadata": {
    "collapsed": false,
    "pycharm": {
     "name": "#%%\n"
    }
   }
  },
  {
   "cell_type": "code",
   "execution_count": 217,
   "outputs": [
    {
     "data": {
      "text/plain": "                     WDIR_42001(t)  WSPD_42001(t)  PRES_42001(t)  \\\n2022-11-30 01:00:00          143.0            5.1         1013.5   \n2022-11-30 02:00:00          146.0            5.5         1014.1   \n2022-11-30 03:00:00          145.0            5.8         1014.4   \n2022-11-30 04:00:00          151.0            5.0         1014.7   \n2022-11-30 05:00:00          155.0            4.9         1015.0   \n...                            ...            ...            ...   \n2022-12-30 20:00:00          174.0            8.3         1012.1   \n2022-12-30 21:00:00          178.0            7.1         1012.1   \n2022-12-30 22:00:00          185.0            7.1         1012.5   \n2022-12-30 23:00:00          185.0            5.9         1012.9   \n2022-12-31 00:00:00          189.0            5.0         1013.5   \n\n                     ATMP_42001(t)  WTMP_42001(t)  DEWP_42001(t)  \\\n2022-11-30 01:00:00           26.0           25.8           26.1   \n2022-11-30 02:00:00           26.0           25.7           26.1   \n2022-11-30 03:00:00           26.1           25.7           26.1   \n2022-11-30 04:00:00           26.0           25.7           26.0   \n2022-11-30 05:00:00           26.0           25.6           26.0   \n...                            ...            ...            ...   \n2022-12-30 20:00:00           25.4           24.1           24.3   \n2022-12-30 21:00:00           25.3           24.1           24.5   \n2022-12-30 22:00:00           25.4           24.2           24.2   \n2022-12-30 23:00:00           25.3           24.2           24.4   \n2022-12-31 00:00:00           25.2           24.3           24.5   \n\n                     WDIR_42002(t)  WSPD_42002(t)  PRES_42002(t)  \\\n2022-11-30 01:00:00          169.0            7.1         1012.2   \n2022-11-30 02:00:00          168.0            7.9         1012.8   \n2022-11-30 03:00:00          165.0            8.7         1012.9   \n2022-11-30 04:00:00          168.0            7.3         1013.6   \n2022-11-30 05:00:00          174.0            6.5         1014.2   \n...                            ...            ...            ...   \n2022-12-30 20:00:00          268.0            7.7         1011.1   \n2022-12-30 21:00:00          277.0            6.6         1011.1   \n2022-12-30 22:00:00          315.0            6.5         1011.3   \n2022-12-30 23:00:00          322.0            5.5         1011.7   \n2022-12-31 00:00:00          333.0            5.6         1012.3   \n\n                     ATMP_42002(t)  ...  DEWP_42002_ERA5(t+23)_pred  \\\n2022-11-30 01:00:00           26.4  ...                    0.968116   \n2022-11-30 02:00:00           26.4  ...                    0.968116   \n2022-11-30 03:00:00           26.3  ...                    0.968116   \n2022-11-30 04:00:00           26.4  ...                    0.968116   \n2022-11-30 05:00:00           26.3  ...                    0.968116   \n...                            ...  ...                         ...   \n2022-12-30 20:00:00           25.2  ...                    0.968116   \n2022-12-30 21:00:00           25.3  ...                    0.968116   \n2022-12-30 22:00:00           24.6  ...                    0.968116   \n2022-12-30 23:00:00           24.7  ...                    0.968116   \n2022-12-31 00:00:00           24.6  ...                    0.968116   \n\n                     WDIR_42039_ERA5(t+23)_pred  WSPD_42039_ERA5(t+23)_pred  \\\n2022-11-30 01:00:00                    -0.02937                   -0.741868   \n2022-11-30 02:00:00                    -0.02937                   -0.741868   \n2022-11-30 03:00:00                    -0.02937                   -0.741868   \n2022-11-30 04:00:00                    -0.02937                   -0.741868   \n2022-11-30 05:00:00                    -0.02937                   -0.741868   \n...                                         ...                         ...   \n2022-12-30 20:00:00                    -0.02937                   -0.741868   \n2022-12-30 21:00:00                    -0.02937                   -0.741868   \n2022-12-30 22:00:00                    -0.02937                   -0.741868   \n2022-12-30 23:00:00                    -0.02937                   -0.741868   \n2022-12-31 00:00:00                    -0.02937                   -0.741868   \n\n                     ATMP_42039_ERA5(t+23)_pred  WSPD_42035_ERA5(t+23)_pred  \\\n2022-11-30 01:00:00                     0.03353                    0.027804   \n2022-11-30 02:00:00                     0.03353                    0.027804   \n2022-11-30 03:00:00                     0.03353                    0.027804   \n2022-11-30 04:00:00                     0.03353                    0.027804   \n2022-11-30 05:00:00                     0.03353                    0.027804   \n...                                         ...                         ...   \n2022-12-30 20:00:00                     0.03353                    0.027804   \n2022-12-30 21:00:00                     0.03353                    0.027804   \n2022-12-30 22:00:00                     0.03353                    0.027804   \n2022-12-30 23:00:00                     0.03353                    0.027804   \n2022-12-31 00:00:00                     0.03353                    0.027804   \n\n                     WSPD_42001_ERA5(t+23)_pred  ATMP_42019_ERA5(t+23)_pred  \\\n2022-11-30 01:00:00                    -0.17851                    0.425472   \n2022-11-30 02:00:00                    -0.17851                    0.425472   \n2022-11-30 03:00:00                    -0.17851                    0.425472   \n2022-11-30 04:00:00                    -0.17851                    0.425472   \n2022-11-30 05:00:00                    -0.17851                    0.425472   \n...                                         ...                         ...   \n2022-12-30 20:00:00                    -0.17851                    0.425472   \n2022-12-30 21:00:00                    -0.17851                    0.425472   \n2022-12-30 22:00:00                    -0.17851                    0.425472   \n2022-12-30 23:00:00                    -0.17851                    0.425472   \n2022-12-31 00:00:00                    -0.17851                    0.425472   \n\n                     WTMP_42039_ERA5(t+23)_pred  WSPD_42002_ERA5(t+23)_pred  \\\n2022-11-30 01:00:00                    0.065564                    0.103171   \n2022-11-30 02:00:00                    0.065564                    0.103171   \n2022-11-30 03:00:00                    0.065564                    0.103171   \n2022-11-30 04:00:00                    0.065564                    0.103171   \n2022-11-30 05:00:00                    0.065564                    0.103171   \n...                                         ...                         ...   \n2022-12-30 20:00:00                    0.065564                    0.103171   \n2022-12-30 21:00:00                    0.065564                    0.103171   \n2022-12-30 22:00:00                    0.065564                    0.103171   \n2022-12-30 23:00:00                    0.065564                    0.103171   \n2022-12-31 00:00:00                    0.065564                    0.103171   \n\n                     PRES_42039_ERA5(t+23)_pred  \n2022-11-30 01:00:00                    0.129197  \n2022-11-30 02:00:00                    0.129197  \n2022-11-30 03:00:00                    0.129197  \n2022-11-30 04:00:00                    0.129197  \n2022-11-30 05:00:00                    0.129197  \n...                                         ...  \n2022-12-30 20:00:00                    0.129197  \n2022-12-30 21:00:00                    0.129197  \n2022-12-30 22:00:00                    0.129197  \n2022-12-30 23:00:00                    0.129197  \n2022-12-31 00:00:00                    0.129197  \n\n[744 rows x 4416 columns]",
      "text/html": "<div>\n<style scoped>\n    .dataframe tbody tr th:only-of-type {\n        vertical-align: middle;\n    }\n\n    .dataframe tbody tr th {\n        vertical-align: top;\n    }\n\n    .dataframe thead th {\n        text-align: right;\n    }\n</style>\n<table border=\"1\" class=\"dataframe\">\n  <thead>\n    <tr style=\"text-align: right;\">\n      <th></th>\n      <th>WDIR_42001(t)</th>\n      <th>WSPD_42001(t)</th>\n      <th>PRES_42001(t)</th>\n      <th>ATMP_42001(t)</th>\n      <th>WTMP_42001(t)</th>\n      <th>DEWP_42001(t)</th>\n      <th>WDIR_42002(t)</th>\n      <th>WSPD_42002(t)</th>\n      <th>PRES_42002(t)</th>\n      <th>ATMP_42002(t)</th>\n      <th>...</th>\n      <th>DEWP_42002_ERA5(t+23)_pred</th>\n      <th>WDIR_42039_ERA5(t+23)_pred</th>\n      <th>WSPD_42039_ERA5(t+23)_pred</th>\n      <th>ATMP_42039_ERA5(t+23)_pred</th>\n      <th>WSPD_42035_ERA5(t+23)_pred</th>\n      <th>WSPD_42001_ERA5(t+23)_pred</th>\n      <th>ATMP_42019_ERA5(t+23)_pred</th>\n      <th>WTMP_42039_ERA5(t+23)_pred</th>\n      <th>WSPD_42002_ERA5(t+23)_pred</th>\n      <th>PRES_42039_ERA5(t+23)_pred</th>\n    </tr>\n  </thead>\n  <tbody>\n    <tr>\n      <th>2022-11-30 01:00:00</th>\n      <td>143.0</td>\n      <td>5.1</td>\n      <td>1013.5</td>\n      <td>26.0</td>\n      <td>25.8</td>\n      <td>26.1</td>\n      <td>169.0</td>\n      <td>7.1</td>\n      <td>1012.2</td>\n      <td>26.4</td>\n      <td>...</td>\n      <td>0.968116</td>\n      <td>-0.02937</td>\n      <td>-0.741868</td>\n      <td>0.03353</td>\n      <td>0.027804</td>\n      <td>-0.17851</td>\n      <td>0.425472</td>\n      <td>0.065564</td>\n      <td>0.103171</td>\n      <td>0.129197</td>\n    </tr>\n    <tr>\n      <th>2022-11-30 02:00:00</th>\n      <td>146.0</td>\n      <td>5.5</td>\n      <td>1014.1</td>\n      <td>26.0</td>\n      <td>25.7</td>\n      <td>26.1</td>\n      <td>168.0</td>\n      <td>7.9</td>\n      <td>1012.8</td>\n      <td>26.4</td>\n      <td>...</td>\n      <td>0.968116</td>\n      <td>-0.02937</td>\n      <td>-0.741868</td>\n      <td>0.03353</td>\n      <td>0.027804</td>\n      <td>-0.17851</td>\n      <td>0.425472</td>\n      <td>0.065564</td>\n      <td>0.103171</td>\n      <td>0.129197</td>\n    </tr>\n    <tr>\n      <th>2022-11-30 03:00:00</th>\n      <td>145.0</td>\n      <td>5.8</td>\n      <td>1014.4</td>\n      <td>26.1</td>\n      <td>25.7</td>\n      <td>26.1</td>\n      <td>165.0</td>\n      <td>8.7</td>\n      <td>1012.9</td>\n      <td>26.3</td>\n      <td>...</td>\n      <td>0.968116</td>\n      <td>-0.02937</td>\n      <td>-0.741868</td>\n      <td>0.03353</td>\n      <td>0.027804</td>\n      <td>-0.17851</td>\n      <td>0.425472</td>\n      <td>0.065564</td>\n      <td>0.103171</td>\n      <td>0.129197</td>\n    </tr>\n    <tr>\n      <th>2022-11-30 04:00:00</th>\n      <td>151.0</td>\n      <td>5.0</td>\n      <td>1014.7</td>\n      <td>26.0</td>\n      <td>25.7</td>\n      <td>26.0</td>\n      <td>168.0</td>\n      <td>7.3</td>\n      <td>1013.6</td>\n      <td>26.4</td>\n      <td>...</td>\n      <td>0.968116</td>\n      <td>-0.02937</td>\n      <td>-0.741868</td>\n      <td>0.03353</td>\n      <td>0.027804</td>\n      <td>-0.17851</td>\n      <td>0.425472</td>\n      <td>0.065564</td>\n      <td>0.103171</td>\n      <td>0.129197</td>\n    </tr>\n    <tr>\n      <th>2022-11-30 05:00:00</th>\n      <td>155.0</td>\n      <td>4.9</td>\n      <td>1015.0</td>\n      <td>26.0</td>\n      <td>25.6</td>\n      <td>26.0</td>\n      <td>174.0</td>\n      <td>6.5</td>\n      <td>1014.2</td>\n      <td>26.3</td>\n      <td>...</td>\n      <td>0.968116</td>\n      <td>-0.02937</td>\n      <td>-0.741868</td>\n      <td>0.03353</td>\n      <td>0.027804</td>\n      <td>-0.17851</td>\n      <td>0.425472</td>\n      <td>0.065564</td>\n      <td>0.103171</td>\n      <td>0.129197</td>\n    </tr>\n    <tr>\n      <th>...</th>\n      <td>...</td>\n      <td>...</td>\n      <td>...</td>\n      <td>...</td>\n      <td>...</td>\n      <td>...</td>\n      <td>...</td>\n      <td>...</td>\n      <td>...</td>\n      <td>...</td>\n      <td>...</td>\n      <td>...</td>\n      <td>...</td>\n      <td>...</td>\n      <td>...</td>\n      <td>...</td>\n      <td>...</td>\n      <td>...</td>\n      <td>...</td>\n      <td>...</td>\n      <td>...</td>\n    </tr>\n    <tr>\n      <th>2022-12-30 20:00:00</th>\n      <td>174.0</td>\n      <td>8.3</td>\n      <td>1012.1</td>\n      <td>25.4</td>\n      <td>24.1</td>\n      <td>24.3</td>\n      <td>268.0</td>\n      <td>7.7</td>\n      <td>1011.1</td>\n      <td>25.2</td>\n      <td>...</td>\n      <td>0.968116</td>\n      <td>-0.02937</td>\n      <td>-0.741868</td>\n      <td>0.03353</td>\n      <td>0.027804</td>\n      <td>-0.17851</td>\n      <td>0.425472</td>\n      <td>0.065564</td>\n      <td>0.103171</td>\n      <td>0.129197</td>\n    </tr>\n    <tr>\n      <th>2022-12-30 21:00:00</th>\n      <td>178.0</td>\n      <td>7.1</td>\n      <td>1012.1</td>\n      <td>25.3</td>\n      <td>24.1</td>\n      <td>24.5</td>\n      <td>277.0</td>\n      <td>6.6</td>\n      <td>1011.1</td>\n      <td>25.3</td>\n      <td>...</td>\n      <td>0.968116</td>\n      <td>-0.02937</td>\n      <td>-0.741868</td>\n      <td>0.03353</td>\n      <td>0.027804</td>\n      <td>-0.17851</td>\n      <td>0.425472</td>\n      <td>0.065564</td>\n      <td>0.103171</td>\n      <td>0.129197</td>\n    </tr>\n    <tr>\n      <th>2022-12-30 22:00:00</th>\n      <td>185.0</td>\n      <td>7.1</td>\n      <td>1012.5</td>\n      <td>25.4</td>\n      <td>24.2</td>\n      <td>24.2</td>\n      <td>315.0</td>\n      <td>6.5</td>\n      <td>1011.3</td>\n      <td>24.6</td>\n      <td>...</td>\n      <td>0.968116</td>\n      <td>-0.02937</td>\n      <td>-0.741868</td>\n      <td>0.03353</td>\n      <td>0.027804</td>\n      <td>-0.17851</td>\n      <td>0.425472</td>\n      <td>0.065564</td>\n      <td>0.103171</td>\n      <td>0.129197</td>\n    </tr>\n    <tr>\n      <th>2022-12-30 23:00:00</th>\n      <td>185.0</td>\n      <td>5.9</td>\n      <td>1012.9</td>\n      <td>25.3</td>\n      <td>24.2</td>\n      <td>24.4</td>\n      <td>322.0</td>\n      <td>5.5</td>\n      <td>1011.7</td>\n      <td>24.7</td>\n      <td>...</td>\n      <td>0.968116</td>\n      <td>-0.02937</td>\n      <td>-0.741868</td>\n      <td>0.03353</td>\n      <td>0.027804</td>\n      <td>-0.17851</td>\n      <td>0.425472</td>\n      <td>0.065564</td>\n      <td>0.103171</td>\n      <td>0.129197</td>\n    </tr>\n    <tr>\n      <th>2022-12-31 00:00:00</th>\n      <td>189.0</td>\n      <td>5.0</td>\n      <td>1013.5</td>\n      <td>25.2</td>\n      <td>24.3</td>\n      <td>24.5</td>\n      <td>333.0</td>\n      <td>5.6</td>\n      <td>1012.3</td>\n      <td>24.6</td>\n      <td>...</td>\n      <td>0.968116</td>\n      <td>-0.02937</td>\n      <td>-0.741868</td>\n      <td>0.03353</td>\n      <td>0.027804</td>\n      <td>-0.17851</td>\n      <td>0.425472</td>\n      <td>0.065564</td>\n      <td>0.103171</td>\n      <td>0.129197</td>\n    </tr>\n  </tbody>\n</table>\n<p>744 rows × 4416 columns</p>\n</div>"
     },
     "execution_count": 217,
     "metadata": {},
     "output_type": "execute_result"
    }
   ],
   "source": [
    "evaluation = pd.concat([evaluation, yhat_df], axis=1)\n",
    "evaluation"
   ],
   "metadata": {
    "collapsed": false,
    "pycharm": {
     "name": "#%%\n"
    }
   }
  },
  {
   "cell_type": "code",
   "execution_count": 217,
   "metadata": {
    "pycharm": {
     "name": "#%%\n"
    }
   },
   "outputs": [],
   "source": []
  },
  {
   "cell_type": "markdown",
   "source": [
    "# Correct wind direction (modulo 360)"
   ],
   "metadata": {
    "collapsed": false,
    "pycharm": {
     "name": "#%% md\n"
    }
   }
  },
  {
   "cell_type": "code",
   "execution_count": 218,
   "outputs": [
    {
     "data": {
      "text/plain": "                     WDIR_42001(t)  WSPD_42001(t)  PRES_42001(t)  \\\n2022-11-30 01:00:00          143.0            5.1         1013.5   \n2022-11-30 02:00:00          146.0            5.5         1014.1   \n2022-11-30 03:00:00          145.0            5.8         1014.4   \n2022-11-30 04:00:00          151.0            5.0         1014.7   \n2022-11-30 05:00:00          155.0            4.9         1015.0   \n...                            ...            ...            ...   \n2022-12-30 20:00:00          174.0            8.3         1012.1   \n2022-12-30 21:00:00          178.0            7.1         1012.1   \n2022-12-30 22:00:00          185.0            7.1         1012.5   \n2022-12-30 23:00:00          185.0            5.9         1012.9   \n2022-12-31 00:00:00          189.0            5.0         1013.5   \n\n                     ATMP_42001(t)  WTMP_42001(t)  DEWP_42001(t)  \\\n2022-11-30 01:00:00           26.0           25.8           26.1   \n2022-11-30 02:00:00           26.0           25.7           26.1   \n2022-11-30 03:00:00           26.1           25.7           26.1   \n2022-11-30 04:00:00           26.0           25.7           26.0   \n2022-11-30 05:00:00           26.0           25.6           26.0   \n...                            ...            ...            ...   \n2022-12-30 20:00:00           25.4           24.1           24.3   \n2022-12-30 21:00:00           25.3           24.1           24.5   \n2022-12-30 22:00:00           25.4           24.2           24.2   \n2022-12-30 23:00:00           25.3           24.2           24.4   \n2022-12-31 00:00:00           25.2           24.3           24.5   \n\n                     WDIR_42002(t)  WSPD_42002(t)  PRES_42002(t)  \\\n2022-11-30 01:00:00          169.0            7.1         1012.2   \n2022-11-30 02:00:00          168.0            7.9         1012.8   \n2022-11-30 03:00:00          165.0            8.7         1012.9   \n2022-11-30 04:00:00          168.0            7.3         1013.6   \n2022-11-30 05:00:00          174.0            6.5         1014.2   \n...                            ...            ...            ...   \n2022-12-30 20:00:00          268.0            7.7         1011.1   \n2022-12-30 21:00:00          277.0            6.6         1011.1   \n2022-12-30 22:00:00          315.0            6.5         1011.3   \n2022-12-30 23:00:00          322.0            5.5         1011.7   \n2022-12-31 00:00:00          333.0            5.6         1012.3   \n\n                     ATMP_42002(t)  ...  DEWP_42002_ERA5(t+23)_pred  \\\n2022-11-30 01:00:00           26.4  ...                    0.968116   \n2022-11-30 02:00:00           26.4  ...                    0.968116   \n2022-11-30 03:00:00           26.3  ...                    0.968116   \n2022-11-30 04:00:00           26.4  ...                    0.968116   \n2022-11-30 05:00:00           26.3  ...                    0.968116   \n...                            ...  ...                         ...   \n2022-12-30 20:00:00           25.2  ...                    0.968116   \n2022-12-30 21:00:00           25.3  ...                    0.968116   \n2022-12-30 22:00:00           24.6  ...                    0.968116   \n2022-12-30 23:00:00           24.7  ...                    0.968116   \n2022-12-31 00:00:00           24.6  ...                    0.968116   \n\n                     WDIR_42039_ERA5(t+23)_pred  WSPD_42039_ERA5(t+23)_pred  \\\n2022-11-30 01:00:00                  359.970642                   -0.741868   \n2022-11-30 02:00:00                  359.970642                   -0.741868   \n2022-11-30 03:00:00                  359.970642                   -0.741868   \n2022-11-30 04:00:00                  359.970642                   -0.741868   \n2022-11-30 05:00:00                  359.970642                   -0.741868   \n...                                         ...                         ...   \n2022-12-30 20:00:00                  359.970642                   -0.741868   \n2022-12-30 21:00:00                  359.970642                   -0.741868   \n2022-12-30 22:00:00                  359.970642                   -0.741868   \n2022-12-30 23:00:00                  359.970642                   -0.741868   \n2022-12-31 00:00:00                  359.970642                   -0.741868   \n\n                     ATMP_42039_ERA5(t+23)_pred  WSPD_42035_ERA5(t+23)_pred  \\\n2022-11-30 01:00:00                     0.03353                    0.027804   \n2022-11-30 02:00:00                     0.03353                    0.027804   \n2022-11-30 03:00:00                     0.03353                    0.027804   \n2022-11-30 04:00:00                     0.03353                    0.027804   \n2022-11-30 05:00:00                     0.03353                    0.027804   \n...                                         ...                         ...   \n2022-12-30 20:00:00                     0.03353                    0.027804   \n2022-12-30 21:00:00                     0.03353                    0.027804   \n2022-12-30 22:00:00                     0.03353                    0.027804   \n2022-12-30 23:00:00                     0.03353                    0.027804   \n2022-12-31 00:00:00                     0.03353                    0.027804   \n\n                     WSPD_42001_ERA5(t+23)_pred  ATMP_42019_ERA5(t+23)_pred  \\\n2022-11-30 01:00:00                    -0.17851                    0.425472   \n2022-11-30 02:00:00                    -0.17851                    0.425472   \n2022-11-30 03:00:00                    -0.17851                    0.425472   \n2022-11-30 04:00:00                    -0.17851                    0.425472   \n2022-11-30 05:00:00                    -0.17851                    0.425472   \n...                                         ...                         ...   \n2022-12-30 20:00:00                    -0.17851                    0.425472   \n2022-12-30 21:00:00                    -0.17851                    0.425472   \n2022-12-30 22:00:00                    -0.17851                    0.425472   \n2022-12-30 23:00:00                    -0.17851                    0.425472   \n2022-12-31 00:00:00                    -0.17851                    0.425472   \n\n                     WTMP_42039_ERA5(t+23)_pred  WSPD_42002_ERA5(t+23)_pred  \\\n2022-11-30 01:00:00                    0.065564                    0.103171   \n2022-11-30 02:00:00                    0.065564                    0.103171   \n2022-11-30 03:00:00                    0.065564                    0.103171   \n2022-11-30 04:00:00                    0.065564                    0.103171   \n2022-11-30 05:00:00                    0.065564                    0.103171   \n...                                         ...                         ...   \n2022-12-30 20:00:00                    0.065564                    0.103171   \n2022-12-30 21:00:00                    0.065564                    0.103171   \n2022-12-30 22:00:00                    0.065564                    0.103171   \n2022-12-30 23:00:00                    0.065564                    0.103171   \n2022-12-31 00:00:00                    0.065564                    0.103171   \n\n                     PRES_42039_ERA5(t+23)_pred  \n2022-11-30 01:00:00                    0.129197  \n2022-11-30 02:00:00                    0.129197  \n2022-11-30 03:00:00                    0.129197  \n2022-11-30 04:00:00                    0.129197  \n2022-11-30 05:00:00                    0.129197  \n...                                         ...  \n2022-12-30 20:00:00                    0.129197  \n2022-12-30 21:00:00                    0.129197  \n2022-12-30 22:00:00                    0.129197  \n2022-12-30 23:00:00                    0.129197  \n2022-12-31 00:00:00                    0.129197  \n\n[744 rows x 4416 columns]",
      "text/html": "<div>\n<style scoped>\n    .dataframe tbody tr th:only-of-type {\n        vertical-align: middle;\n    }\n\n    .dataframe tbody tr th {\n        vertical-align: top;\n    }\n\n    .dataframe thead th {\n        text-align: right;\n    }\n</style>\n<table border=\"1\" class=\"dataframe\">\n  <thead>\n    <tr style=\"text-align: right;\">\n      <th></th>\n      <th>WDIR_42001(t)</th>\n      <th>WSPD_42001(t)</th>\n      <th>PRES_42001(t)</th>\n      <th>ATMP_42001(t)</th>\n      <th>WTMP_42001(t)</th>\n      <th>DEWP_42001(t)</th>\n      <th>WDIR_42002(t)</th>\n      <th>WSPD_42002(t)</th>\n      <th>PRES_42002(t)</th>\n      <th>ATMP_42002(t)</th>\n      <th>...</th>\n      <th>DEWP_42002_ERA5(t+23)_pred</th>\n      <th>WDIR_42039_ERA5(t+23)_pred</th>\n      <th>WSPD_42039_ERA5(t+23)_pred</th>\n      <th>ATMP_42039_ERA5(t+23)_pred</th>\n      <th>WSPD_42035_ERA5(t+23)_pred</th>\n      <th>WSPD_42001_ERA5(t+23)_pred</th>\n      <th>ATMP_42019_ERA5(t+23)_pred</th>\n      <th>WTMP_42039_ERA5(t+23)_pred</th>\n      <th>WSPD_42002_ERA5(t+23)_pred</th>\n      <th>PRES_42039_ERA5(t+23)_pred</th>\n    </tr>\n  </thead>\n  <tbody>\n    <tr>\n      <th>2022-11-30 01:00:00</th>\n      <td>143.0</td>\n      <td>5.1</td>\n      <td>1013.5</td>\n      <td>26.0</td>\n      <td>25.8</td>\n      <td>26.1</td>\n      <td>169.0</td>\n      <td>7.1</td>\n      <td>1012.2</td>\n      <td>26.4</td>\n      <td>...</td>\n      <td>0.968116</td>\n      <td>359.970642</td>\n      <td>-0.741868</td>\n      <td>0.03353</td>\n      <td>0.027804</td>\n      <td>-0.17851</td>\n      <td>0.425472</td>\n      <td>0.065564</td>\n      <td>0.103171</td>\n      <td>0.129197</td>\n    </tr>\n    <tr>\n      <th>2022-11-30 02:00:00</th>\n      <td>146.0</td>\n      <td>5.5</td>\n      <td>1014.1</td>\n      <td>26.0</td>\n      <td>25.7</td>\n      <td>26.1</td>\n      <td>168.0</td>\n      <td>7.9</td>\n      <td>1012.8</td>\n      <td>26.4</td>\n      <td>...</td>\n      <td>0.968116</td>\n      <td>359.970642</td>\n      <td>-0.741868</td>\n      <td>0.03353</td>\n      <td>0.027804</td>\n      <td>-0.17851</td>\n      <td>0.425472</td>\n      <td>0.065564</td>\n      <td>0.103171</td>\n      <td>0.129197</td>\n    </tr>\n    <tr>\n      <th>2022-11-30 03:00:00</th>\n      <td>145.0</td>\n      <td>5.8</td>\n      <td>1014.4</td>\n      <td>26.1</td>\n      <td>25.7</td>\n      <td>26.1</td>\n      <td>165.0</td>\n      <td>8.7</td>\n      <td>1012.9</td>\n      <td>26.3</td>\n      <td>...</td>\n      <td>0.968116</td>\n      <td>359.970642</td>\n      <td>-0.741868</td>\n      <td>0.03353</td>\n      <td>0.027804</td>\n      <td>-0.17851</td>\n      <td>0.425472</td>\n      <td>0.065564</td>\n      <td>0.103171</td>\n      <td>0.129197</td>\n    </tr>\n    <tr>\n      <th>2022-11-30 04:00:00</th>\n      <td>151.0</td>\n      <td>5.0</td>\n      <td>1014.7</td>\n      <td>26.0</td>\n      <td>25.7</td>\n      <td>26.0</td>\n      <td>168.0</td>\n      <td>7.3</td>\n      <td>1013.6</td>\n      <td>26.4</td>\n      <td>...</td>\n      <td>0.968116</td>\n      <td>359.970642</td>\n      <td>-0.741868</td>\n      <td>0.03353</td>\n      <td>0.027804</td>\n      <td>-0.17851</td>\n      <td>0.425472</td>\n      <td>0.065564</td>\n      <td>0.103171</td>\n      <td>0.129197</td>\n    </tr>\n    <tr>\n      <th>2022-11-30 05:00:00</th>\n      <td>155.0</td>\n      <td>4.9</td>\n      <td>1015.0</td>\n      <td>26.0</td>\n      <td>25.6</td>\n      <td>26.0</td>\n      <td>174.0</td>\n      <td>6.5</td>\n      <td>1014.2</td>\n      <td>26.3</td>\n      <td>...</td>\n      <td>0.968116</td>\n      <td>359.970642</td>\n      <td>-0.741868</td>\n      <td>0.03353</td>\n      <td>0.027804</td>\n      <td>-0.17851</td>\n      <td>0.425472</td>\n      <td>0.065564</td>\n      <td>0.103171</td>\n      <td>0.129197</td>\n    </tr>\n    <tr>\n      <th>...</th>\n      <td>...</td>\n      <td>...</td>\n      <td>...</td>\n      <td>...</td>\n      <td>...</td>\n      <td>...</td>\n      <td>...</td>\n      <td>...</td>\n      <td>...</td>\n      <td>...</td>\n      <td>...</td>\n      <td>...</td>\n      <td>...</td>\n      <td>...</td>\n      <td>...</td>\n      <td>...</td>\n      <td>...</td>\n      <td>...</td>\n      <td>...</td>\n      <td>...</td>\n      <td>...</td>\n    </tr>\n    <tr>\n      <th>2022-12-30 20:00:00</th>\n      <td>174.0</td>\n      <td>8.3</td>\n      <td>1012.1</td>\n      <td>25.4</td>\n      <td>24.1</td>\n      <td>24.3</td>\n      <td>268.0</td>\n      <td>7.7</td>\n      <td>1011.1</td>\n      <td>25.2</td>\n      <td>...</td>\n      <td>0.968116</td>\n      <td>359.970642</td>\n      <td>-0.741868</td>\n      <td>0.03353</td>\n      <td>0.027804</td>\n      <td>-0.17851</td>\n      <td>0.425472</td>\n      <td>0.065564</td>\n      <td>0.103171</td>\n      <td>0.129197</td>\n    </tr>\n    <tr>\n      <th>2022-12-30 21:00:00</th>\n      <td>178.0</td>\n      <td>7.1</td>\n      <td>1012.1</td>\n      <td>25.3</td>\n      <td>24.1</td>\n      <td>24.5</td>\n      <td>277.0</td>\n      <td>6.6</td>\n      <td>1011.1</td>\n      <td>25.3</td>\n      <td>...</td>\n      <td>0.968116</td>\n      <td>359.970642</td>\n      <td>-0.741868</td>\n      <td>0.03353</td>\n      <td>0.027804</td>\n      <td>-0.17851</td>\n      <td>0.425472</td>\n      <td>0.065564</td>\n      <td>0.103171</td>\n      <td>0.129197</td>\n    </tr>\n    <tr>\n      <th>2022-12-30 22:00:00</th>\n      <td>185.0</td>\n      <td>7.1</td>\n      <td>1012.5</td>\n      <td>25.4</td>\n      <td>24.2</td>\n      <td>24.2</td>\n      <td>315.0</td>\n      <td>6.5</td>\n      <td>1011.3</td>\n      <td>24.6</td>\n      <td>...</td>\n      <td>0.968116</td>\n      <td>359.970642</td>\n      <td>-0.741868</td>\n      <td>0.03353</td>\n      <td>0.027804</td>\n      <td>-0.17851</td>\n      <td>0.425472</td>\n      <td>0.065564</td>\n      <td>0.103171</td>\n      <td>0.129197</td>\n    </tr>\n    <tr>\n      <th>2022-12-30 23:00:00</th>\n      <td>185.0</td>\n      <td>5.9</td>\n      <td>1012.9</td>\n      <td>25.3</td>\n      <td>24.2</td>\n      <td>24.4</td>\n      <td>322.0</td>\n      <td>5.5</td>\n      <td>1011.7</td>\n      <td>24.7</td>\n      <td>...</td>\n      <td>0.968116</td>\n      <td>359.970642</td>\n      <td>-0.741868</td>\n      <td>0.03353</td>\n      <td>0.027804</td>\n      <td>-0.17851</td>\n      <td>0.425472</td>\n      <td>0.065564</td>\n      <td>0.103171</td>\n      <td>0.129197</td>\n    </tr>\n    <tr>\n      <th>2022-12-31 00:00:00</th>\n      <td>189.0</td>\n      <td>5.0</td>\n      <td>1013.5</td>\n      <td>25.2</td>\n      <td>24.3</td>\n      <td>24.5</td>\n      <td>333.0</td>\n      <td>5.6</td>\n      <td>1012.3</td>\n      <td>24.6</td>\n      <td>...</td>\n      <td>0.968116</td>\n      <td>359.970642</td>\n      <td>-0.741868</td>\n      <td>0.03353</td>\n      <td>0.027804</td>\n      <td>-0.17851</td>\n      <td>0.425472</td>\n      <td>0.065564</td>\n      <td>0.103171</td>\n      <td>0.129197</td>\n    </tr>\n  </tbody>\n</table>\n<p>744 rows × 4416 columns</p>\n</div>"
     },
     "execution_count": 218,
     "metadata": {},
     "output_type": "execute_result"
    }
   ],
   "source": [
    "# Get the list of columns starting with \"WDIR\"\n",
    "wdir_columns = [col for col in evaluation.columns if col.startswith(\"WDIR\")]\n",
    "\n",
    "# Modify the values in the selected columns\n",
    "evaluation[wdir_columns] = evaluation[wdir_columns] % 360\n",
    "\n",
    "evaluation"
   ],
   "metadata": {
    "collapsed": false,
    "pycharm": {
     "name": "#%%\n"
    }
   }
  },
  {
   "cell_type": "markdown",
   "metadata": {
    "pycharm": {
     "name": "#%% md\n"
    }
   },
   "source": [
    "# Recurrent forecast (EXCLUDED FOR NOW!)"
   ]
  },
  {
   "cell_type": "markdown",
   "metadata": {
    "pycharm": {
     "name": "#%% md\n"
    }
   },
   "source": [
    "# SAVE"
   ]
  },
  {
   "cell_type": "code",
   "execution_count": 219,
   "metadata": {
    "pycharm": {
     "name": "#%%\n"
    }
   },
   "outputs": [
    {
     "name": "stderr",
     "output_type": "stream",
     "text": [
      "UsageError: Cell magic `%%notify` not found.\n"
     ]
    }
   ],
   "source": [
    "%%notify -m \"Finished!!\"\n",
    "print(\"reached checkpoint\")"
   ]
  },
  {
   "cell_type": "code",
   "execution_count": 220,
   "metadata": {
    "pycharm": {
     "name": "#%%\n"
    }
   },
   "outputs": [
    {
     "data": {
      "text/plain": "HBox(children=(Text(value='', description='Filename:', placeholder='Enter filename'), Label(value='.pickle')))",
      "application/vnd.jupyter.widget-view+json": {
       "version_major": 2,
       "version_minor": 0,
       "model_id": "7215897843be4ca4bbdf2cc47eec1cfd"
      }
     },
     "metadata": {},
     "output_type": "display_data"
    },
    {
     "name": "stdout",
     "output_type": "stream",
     "text": [
      "Please also check if the reports description needs to be changed!\n"
     ]
    }
   ],
   "source": [
    "# create a text input widget for username\n",
    "filename_widget = widgets.Text(\n",
    "    value='',\n",
    "    placeholder='Enter filename',\n",
    "    description='Filename:',\n",
    "    disabled=False\n",
    ")\n",
    "# add '.csv' to the description\n",
    "extension_label = widgets.Label('.pickle')\n",
    "\n",
    "# display the widget\n",
    "display(widgets.HBox([filename_widget, extension_label]))\n",
    "\n",
    "print(\"Please also check if the reports description needs to be changed!\")\n"
   ]
  },
  {
   "cell_type": "markdown",
   "metadata": {
    "pycharm": {
     "name": "#%% md\n"
    }
   },
   "source": []
  },
  {
   "cell_type": "markdown",
   "source": [],
   "metadata": {
    "collapsed": false,
    "pycharm": {
     "name": "#%% md\n"
    }
   }
  },
  {
   "cell_type": "code",
   "execution_count": 221,
   "metadata": {
    "pycharm": {
     "name": "#%%\n"
    }
   },
   "outputs": [],
   "source": [
    "report_description=\"Second LSTM experiment for publication\""
   ]
  },
  {
   "cell_type": "markdown",
   "metadata": {
    "pycharm": {
     "name": "#%% md\n"
    }
   },
   "source": []
  },
  {
   "cell_type": "code",
   "execution_count": 222,
   "outputs": [
    {
     "name": "stdout",
     "output_type": "stream",
     "text": [
      "File successfully saved:\n",
      "data/reports/publication/report_42003_stage2_LSTM_1.pickle\n"
     ]
    }
   ],
   "source": [
    "filename = filename_widget.value\n",
    "if filename == \"\":\n",
    "    print(\"Enter a valid filename!\")\n",
    "\n",
    "else:\n",
    "    #Save Data About executed Test:\n",
    "\n",
    "    # Convert model summary to string\n",
    "    stringlist = []\n",
    "    model.summary(print_fn=lambda x: stringlist.append(x))\n",
    "    model_summary = \"\\n\".join(stringlist)\n",
    "\n",
    "    report = Experiment(\n",
    "        name=filename,\n",
    "        description=report_description,\n",
    "\n",
    "        stations = dataset[\"stations\"],\n",
    "        years = dataset[\"years\"],\n",
    "        nan_threshold=dataset[\"nan_threshold\"],\n",
    "        features=dataset[\"features\"],\n",
    "        era5=dataset[\"add_era5\"],\n",
    "\n",
    "        stationary_shift=None,\n",
    "\n",
    "        n_test_hours=N_TEST_HOURS,\n",
    "\n",
    "        #stationary=STATIONARY,\n",
    "        scaler= None, # SCALER,\n",
    "\n",
    "        model_name = MODEL_NAME,\n",
    "        model_summary=model_summary,\n",
    "\n",
    "        one_shot_forecast = evaluation,\n",
    "        recursive_forecast = None,   # evaluation_2\n",
    "        training_time = 0.0\n",
    "    )\n",
    "\n",
    "\n",
    "    # open a file for writing in binary mode\n",
    "    filepath = f'data/reports/publication/{report.name}.pickle'\n",
    "    with open(filepath, 'wb') as f:\n",
    "        # write the object to the file using pickle.dump()\n",
    "        pickle.dump(report, f)\n",
    "        print(\"File successfully saved:\")\n",
    "        print(filepath)"
   ],
   "metadata": {
    "collapsed": false,
    "pycharm": {
     "name": "#%%\n"
    }
   }
  },
  {
   "cell_type": "code",
   "execution_count": 222,
   "outputs": [],
   "source": [],
   "metadata": {
    "collapsed": false,
    "pycharm": {
     "name": "#%%\n"
    }
   }
  },
  {
   "cell_type": "markdown",
   "source": [
    "# Create Report"
   ],
   "metadata": {
    "collapsed": false,
    "pycharm": {
     "name": "#%% md\n"
    }
   }
  },
  {
   "cell_type": "markdown",
   "source": [
    "TODO:\n",
    "Currently the output only represents a single column !!\n"
   ],
   "metadata": {
    "collapsed": false,
    "pycharm": {
     "name": "#%% md\n"
    }
   }
  },
  {
   "cell_type": "code",
   "execution_count": 193,
   "outputs": [],
   "source": [
    "import re\n",
    "\n",
    "# open the file for reading in binary mode\n",
    "report: Experiment\n",
    "with open(filepath, 'rb') as f:\n",
    "    # load the object from the file using pickle.load()\n",
    "    report = pickle.load(f)\n",
    "\n",
    "evaluation =report.one_shot_forecast"
   ],
   "metadata": {
    "collapsed": false,
    "pycharm": {
     "name": "#%%\n"
    }
   }
  },
  {
   "cell_type": "code",
   "execution_count": 194,
   "outputs": [],
   "source": [
    "def evaluate(df):\n",
    "    # Initialize empty dictionaries to store MAE and MSE\n",
    "    mae_dict = {}\n",
    "    mse_dict = {}\n",
    "\n",
    "    # Loop through each column and calculate MAE and MSE\n",
    "    for col in df.columns:\n",
    "        if col.endswith('_pred'):\n",
    "            original_col = col.replace('_pred', '')\n",
    "            if original_col in df.columns:\n",
    "                mae_dict[original_col] = mean_absolute_error(df[original_col], df[col])\n",
    "                mse_dict[original_col] = mean_squared_error(df[original_col], df[col])\n",
    "\n",
    "    # Convert dictionaries to DataFrames\n",
    "    mae_df = pd.DataFrame(list(mae_dict.items()), columns=['Column', 'Error'])\n",
    "    mse_df = pd.DataFrame(list(mse_dict.items()), columns=['Column', 'Error'])\n",
    "\n",
    "    return mae_df, mse_df"
   ],
   "metadata": {
    "collapsed": false,
    "pycharm": {
     "name": "#%%\n"
    }
   }
  },
  {
   "cell_type": "code",
   "execution_count": 195,
   "outputs": [],
   "source": [
    "def reshape_dataframe(input_df):\n",
    "    # Extract feature, timestamp from Column\n",
    "    def extract_feature_timestamp(col_name):\n",
    "        match = re.match(r'(.*)_\\d+(_ERA5)?\\((t\\+?\\d*)\\)', col_name)\n",
    "        if match:\n",
    "            feature = match.group(1) + (match.group(2) if match.group(2) else '')\n",
    "            timestamp = match.group(3)\n",
    "            return feature, timestamp\n",
    "        return None, None\n",
    "\n",
    "    # Initialize a dictionary to hold the reshaped data\n",
    "    reshaped_data = {}\n",
    "\n",
    "    for _, row in input_df.iterrows():\n",
    "        feature, timestamp = extract_feature_timestamp(row['Column'])\n",
    "        if feature and timestamp:\n",
    "            if timestamp not in reshaped_data:\n",
    "                reshaped_data[timestamp] = {}\n",
    "            reshaped_data[timestamp][feature] = row['Error']\n",
    "\n",
    "    # Convert the reshaped dictionary to a DataFrame\n",
    "    reshaped_df = pd.DataFrame.from_dict(reshaped_data, orient='index')\n",
    "\n",
    "    # Sort the DataFrame columns and index for better readability\n",
    "    reshaped_df = reshaped_df.sort_index().sort_index(axis=1)\n",
    "\n",
    "    return reshaped_df"
   ],
   "metadata": {
    "collapsed": false,
    "pycharm": {
     "name": "#%%\n"
    }
   }
  },
  {
   "cell_type": "code",
   "execution_count": 198,
   "outputs": [
    {
     "data": {
      "text/plain": "                     Column        Error\n0             WDIR_42001(t)    65.852887\n1             WSPD_42001(t)     3.183405\n2             PRES_42001(t)   230.279551\n3             ATMP_42001(t)     2.716014\n4             WTMP_42001(t)     3.251949\n...                     ...          ...\n1339  WSPD_42039_ERA5(t+23)     6.602745\n1340  ATMP_42039_ERA5(t+23)    19.807989\n1341  WSPD_42001_ERA5(t+23)     5.570416\n1342  WTMP_42039_ERA5(t+23)    24.960378\n1343  PRES_42039_ERA5(t+23)  1020.155877\n\n[1344 rows x 2 columns]",
      "text/html": "<div>\n<style scoped>\n    .dataframe tbody tr th:only-of-type {\n        vertical-align: middle;\n    }\n\n    .dataframe tbody tr th {\n        vertical-align: top;\n    }\n\n    .dataframe thead th {\n        text-align: right;\n    }\n</style>\n<table border=\"1\" class=\"dataframe\">\n  <thead>\n    <tr style=\"text-align: right;\">\n      <th></th>\n      <th>Column</th>\n      <th>Error</th>\n    </tr>\n  </thead>\n  <tbody>\n    <tr>\n      <th>0</th>\n      <td>WDIR_42001(t)</td>\n      <td>65.852887</td>\n    </tr>\n    <tr>\n      <th>1</th>\n      <td>WSPD_42001(t)</td>\n      <td>3.183405</td>\n    </tr>\n    <tr>\n      <th>2</th>\n      <td>PRES_42001(t)</td>\n      <td>230.279551</td>\n    </tr>\n    <tr>\n      <th>3</th>\n      <td>ATMP_42001(t)</td>\n      <td>2.716014</td>\n    </tr>\n    <tr>\n      <th>4</th>\n      <td>WTMP_42001(t)</td>\n      <td>3.251949</td>\n    </tr>\n    <tr>\n      <th>...</th>\n      <td>...</td>\n      <td>...</td>\n    </tr>\n    <tr>\n      <th>1339</th>\n      <td>WSPD_42039_ERA5(t+23)</td>\n      <td>6.602745</td>\n    </tr>\n    <tr>\n      <th>1340</th>\n      <td>ATMP_42039_ERA5(t+23)</td>\n      <td>19.807989</td>\n    </tr>\n    <tr>\n      <th>1341</th>\n      <td>WSPD_42001_ERA5(t+23)</td>\n      <td>5.570416</td>\n    </tr>\n    <tr>\n      <th>1342</th>\n      <td>WTMP_42039_ERA5(t+23)</td>\n      <td>24.960378</td>\n    </tr>\n    <tr>\n      <th>1343</th>\n      <td>PRES_42039_ERA5(t+23)</td>\n      <td>1020.155877</td>\n    </tr>\n  </tbody>\n</table>\n<p>1344 rows × 2 columns</p>\n</div>"
     },
     "execution_count": 198,
     "metadata": {},
     "output_type": "execute_result"
    }
   ],
   "source": [
    "mae_df, mse_df = evaluate(evaluation)\n",
    "mae_df"
   ],
   "metadata": {
    "collapsed": false,
    "pycharm": {
     "name": "#%%\n"
    }
   }
  },
  {
   "cell_type": "code",
   "execution_count": 197,
   "outputs": [
    {
     "data": {
      "text/plain": "          ATMP  ATMP_ERA5      DEWP  DEWP_ERA5        PRES    PRES_ERA5  \\\nt     4.274990  19.729678  5.945800  14.313328  232.371151  1020.347760   \nt+1   4.904942  19.800230  6.572231  14.278585   38.622212  1020.206699   \nt+10  5.587772  19.805737  6.922766  14.285575    5.300940  1020.179437   \nt+11  5.590729  19.805134  6.922590  14.285257    5.302553  1020.178880   \nt+12  5.593551  19.803939  6.922281  14.284704    5.303762  1020.179045   \nt+13  5.598255  19.803515  6.921702  14.283587    5.303599  1020.178148   \nt+14  5.603229  19.804112  6.921393  14.281682    5.302658  1020.177087   \nt+15  5.603094  19.805224  6.922334  14.279507    5.299701  1020.175334   \nt+16  5.603766  19.804444  6.922871  14.277122    5.296879  1020.173647   \nt+17  5.604304  19.803803  6.923274  14.275200    5.293384  1020.171968   \nt+18  5.605245  19.803828  6.923274  14.274286    5.289083  1020.169577   \nt+19  5.606051  19.804244  6.922737  14.273266    5.286232  1020.167209   \nt+2   5.465255  19.809265  6.871222  14.275241    9.141547  1020.185707   \nt+20  5.606186  19.804303  6.922199  14.272341    5.283112  1020.164832   \nt+21  5.605917  19.803942  6.915882  14.271046    5.279320  1020.162404   \nt+22  5.605648  19.806158  6.908624  14.267726    5.274857  1020.159590   \nt+23  5.605917  19.807989  6.899619  14.264594    5.269048  1020.155877   \nt+3   5.553111  19.809033  6.918469  14.276649    5.688770  1020.183387   \nt+4   5.568402  19.808512  6.924007  14.278493    5.342105  1020.183722   \nt+5   5.572915  19.808052  6.924043  14.280104    5.298183  1020.183834   \nt+6   5.575730  19.807470  6.923316  14.281513    5.293371  1020.183729   \nt+7   5.578716  19.806967  6.922888  14.282976    5.294354  1020.183341   \nt+8   5.581723  19.806758  6.922982  14.284395    5.297311  1020.182284   \nt+9   5.584949  19.806725  6.922672  14.285593    5.299596  1020.180862   \n\n           WDIR   WDIR_ERA5      WSPD  WSPD_ERA5      WTMP  WTMP_ERA5  \nt     97.587507  190.152745  3.019630   5.837346  2.442350  24.757793  \nt+1   94.520874  189.941443  3.008769   5.636176  2.518278  24.921746  \nt+10  93.984194  189.542037  3.047851   5.601145  3.430889  24.954152  \nt+11  93.970753  189.503250  3.050238   5.598935  3.433846  24.954523  \nt+12  93.986882  189.481685  3.051549   5.595367  3.436803  24.954894  \nt+13  94.062151  189.483381  3.051684   5.592163  3.439895  24.955265  \nt+14  94.144140  189.494992  3.051952   5.590315  3.443120  24.955635  \nt+15  94.037957  189.548336  3.055480   5.589952  3.446481  24.956006  \nt+16  93.931774  189.586888  3.059243   5.590367  3.449975  24.956377  \nt+17  93.991705  189.611503  3.062603   5.590129  3.453201  24.956748  \nt+18  93.864017  189.172969  3.066130   5.589479  3.456158  24.957119  \nt+19  93.903787  188.764358  3.066432   5.588333  3.459115  24.957490  \nt+2   94.292969  189.886915  3.025162   5.604719  3.281063  24.947189  \nt+20  93.936836  188.390006  3.066733   5.583564  3.462341  24.957861  \nt+21  93.971229  188.031200  3.067169   5.579308  3.465432  24.958232  \nt+22  93.998902  187.721814  3.066261   5.574975  3.468524  24.959305  \nt+23  94.029263  187.419614  3.065487   5.570416  3.471481  24.960378  \nt+3   94.249287  189.838569  3.027325   5.600175  3.389764  24.951014  \nt+4   94.183523  189.778786  3.026962   5.599228  3.407980  24.951853  \nt+5   94.149571  189.723114  3.025899   5.598764  3.414061  24.952287  \nt+6   94.103824  189.684510  3.027485   5.598455  3.418220  24.952667  \nt+7   94.063495  189.654406  3.031217   5.598650  3.421749  24.953039  \nt+8   94.019140  189.625217  3.038878   5.599688  3.424841  24.953410  \nt+9   93.990914  189.592077  3.045028   5.601381  3.427932  24.953781  ",
      "text/html": "<div>\n<style scoped>\n    .dataframe tbody tr th:only-of-type {\n        vertical-align: middle;\n    }\n\n    .dataframe tbody tr th {\n        vertical-align: top;\n    }\n\n    .dataframe thead th {\n        text-align: right;\n    }\n</style>\n<table border=\"1\" class=\"dataframe\">\n  <thead>\n    <tr style=\"text-align: right;\">\n      <th></th>\n      <th>ATMP</th>\n      <th>ATMP_ERA5</th>\n      <th>DEWP</th>\n      <th>DEWP_ERA5</th>\n      <th>PRES</th>\n      <th>PRES_ERA5</th>\n      <th>WDIR</th>\n      <th>WDIR_ERA5</th>\n      <th>WSPD</th>\n      <th>WSPD_ERA5</th>\n      <th>WTMP</th>\n      <th>WTMP_ERA5</th>\n    </tr>\n  </thead>\n  <tbody>\n    <tr>\n      <th>t</th>\n      <td>4.274990</td>\n      <td>19.729678</td>\n      <td>5.945800</td>\n      <td>14.313328</td>\n      <td>232.371151</td>\n      <td>1020.347760</td>\n      <td>97.587507</td>\n      <td>190.152745</td>\n      <td>3.019630</td>\n      <td>5.837346</td>\n      <td>2.442350</td>\n      <td>24.757793</td>\n    </tr>\n    <tr>\n      <th>t+1</th>\n      <td>4.904942</td>\n      <td>19.800230</td>\n      <td>6.572231</td>\n      <td>14.278585</td>\n      <td>38.622212</td>\n      <td>1020.206699</td>\n      <td>94.520874</td>\n      <td>189.941443</td>\n      <td>3.008769</td>\n      <td>5.636176</td>\n      <td>2.518278</td>\n      <td>24.921746</td>\n    </tr>\n    <tr>\n      <th>t+10</th>\n      <td>5.587772</td>\n      <td>19.805737</td>\n      <td>6.922766</td>\n      <td>14.285575</td>\n      <td>5.300940</td>\n      <td>1020.179437</td>\n      <td>93.984194</td>\n      <td>189.542037</td>\n      <td>3.047851</td>\n      <td>5.601145</td>\n      <td>3.430889</td>\n      <td>24.954152</td>\n    </tr>\n    <tr>\n      <th>t+11</th>\n      <td>5.590729</td>\n      <td>19.805134</td>\n      <td>6.922590</td>\n      <td>14.285257</td>\n      <td>5.302553</td>\n      <td>1020.178880</td>\n      <td>93.970753</td>\n      <td>189.503250</td>\n      <td>3.050238</td>\n      <td>5.598935</td>\n      <td>3.433846</td>\n      <td>24.954523</td>\n    </tr>\n    <tr>\n      <th>t+12</th>\n      <td>5.593551</td>\n      <td>19.803939</td>\n      <td>6.922281</td>\n      <td>14.284704</td>\n      <td>5.303762</td>\n      <td>1020.179045</td>\n      <td>93.986882</td>\n      <td>189.481685</td>\n      <td>3.051549</td>\n      <td>5.595367</td>\n      <td>3.436803</td>\n      <td>24.954894</td>\n    </tr>\n    <tr>\n      <th>t+13</th>\n      <td>5.598255</td>\n      <td>19.803515</td>\n      <td>6.921702</td>\n      <td>14.283587</td>\n      <td>5.303599</td>\n      <td>1020.178148</td>\n      <td>94.062151</td>\n      <td>189.483381</td>\n      <td>3.051684</td>\n      <td>5.592163</td>\n      <td>3.439895</td>\n      <td>24.955265</td>\n    </tr>\n    <tr>\n      <th>t+14</th>\n      <td>5.603229</td>\n      <td>19.804112</td>\n      <td>6.921393</td>\n      <td>14.281682</td>\n      <td>5.302658</td>\n      <td>1020.177087</td>\n      <td>94.144140</td>\n      <td>189.494992</td>\n      <td>3.051952</td>\n      <td>5.590315</td>\n      <td>3.443120</td>\n      <td>24.955635</td>\n    </tr>\n    <tr>\n      <th>t+15</th>\n      <td>5.603094</td>\n      <td>19.805224</td>\n      <td>6.922334</td>\n      <td>14.279507</td>\n      <td>5.299701</td>\n      <td>1020.175334</td>\n      <td>94.037957</td>\n      <td>189.548336</td>\n      <td>3.055480</td>\n      <td>5.589952</td>\n      <td>3.446481</td>\n      <td>24.956006</td>\n    </tr>\n    <tr>\n      <th>t+16</th>\n      <td>5.603766</td>\n      <td>19.804444</td>\n      <td>6.922871</td>\n      <td>14.277122</td>\n      <td>5.296879</td>\n      <td>1020.173647</td>\n      <td>93.931774</td>\n      <td>189.586888</td>\n      <td>3.059243</td>\n      <td>5.590367</td>\n      <td>3.449975</td>\n      <td>24.956377</td>\n    </tr>\n    <tr>\n      <th>t+17</th>\n      <td>5.604304</td>\n      <td>19.803803</td>\n      <td>6.923274</td>\n      <td>14.275200</td>\n      <td>5.293384</td>\n      <td>1020.171968</td>\n      <td>93.991705</td>\n      <td>189.611503</td>\n      <td>3.062603</td>\n      <td>5.590129</td>\n      <td>3.453201</td>\n      <td>24.956748</td>\n    </tr>\n    <tr>\n      <th>t+18</th>\n      <td>5.605245</td>\n      <td>19.803828</td>\n      <td>6.923274</td>\n      <td>14.274286</td>\n      <td>5.289083</td>\n      <td>1020.169577</td>\n      <td>93.864017</td>\n      <td>189.172969</td>\n      <td>3.066130</td>\n      <td>5.589479</td>\n      <td>3.456158</td>\n      <td>24.957119</td>\n    </tr>\n    <tr>\n      <th>t+19</th>\n      <td>5.606051</td>\n      <td>19.804244</td>\n      <td>6.922737</td>\n      <td>14.273266</td>\n      <td>5.286232</td>\n      <td>1020.167209</td>\n      <td>93.903787</td>\n      <td>188.764358</td>\n      <td>3.066432</td>\n      <td>5.588333</td>\n      <td>3.459115</td>\n      <td>24.957490</td>\n    </tr>\n    <tr>\n      <th>t+2</th>\n      <td>5.465255</td>\n      <td>19.809265</td>\n      <td>6.871222</td>\n      <td>14.275241</td>\n      <td>9.141547</td>\n      <td>1020.185707</td>\n      <td>94.292969</td>\n      <td>189.886915</td>\n      <td>3.025162</td>\n      <td>5.604719</td>\n      <td>3.281063</td>\n      <td>24.947189</td>\n    </tr>\n    <tr>\n      <th>t+20</th>\n      <td>5.606186</td>\n      <td>19.804303</td>\n      <td>6.922199</td>\n      <td>14.272341</td>\n      <td>5.283112</td>\n      <td>1020.164832</td>\n      <td>93.936836</td>\n      <td>188.390006</td>\n      <td>3.066733</td>\n      <td>5.583564</td>\n      <td>3.462341</td>\n      <td>24.957861</td>\n    </tr>\n    <tr>\n      <th>t+21</th>\n      <td>5.605917</td>\n      <td>19.803942</td>\n      <td>6.915882</td>\n      <td>14.271046</td>\n      <td>5.279320</td>\n      <td>1020.162404</td>\n      <td>93.971229</td>\n      <td>188.031200</td>\n      <td>3.067169</td>\n      <td>5.579308</td>\n      <td>3.465432</td>\n      <td>24.958232</td>\n    </tr>\n    <tr>\n      <th>t+22</th>\n      <td>5.605648</td>\n      <td>19.806158</td>\n      <td>6.908624</td>\n      <td>14.267726</td>\n      <td>5.274857</td>\n      <td>1020.159590</td>\n      <td>93.998902</td>\n      <td>187.721814</td>\n      <td>3.066261</td>\n      <td>5.574975</td>\n      <td>3.468524</td>\n      <td>24.959305</td>\n    </tr>\n    <tr>\n      <th>t+23</th>\n      <td>5.605917</td>\n      <td>19.807989</td>\n      <td>6.899619</td>\n      <td>14.264594</td>\n      <td>5.269048</td>\n      <td>1020.155877</td>\n      <td>94.029263</td>\n      <td>187.419614</td>\n      <td>3.065487</td>\n      <td>5.570416</td>\n      <td>3.471481</td>\n      <td>24.960378</td>\n    </tr>\n    <tr>\n      <th>t+3</th>\n      <td>5.553111</td>\n      <td>19.809033</td>\n      <td>6.918469</td>\n      <td>14.276649</td>\n      <td>5.688770</td>\n      <td>1020.183387</td>\n      <td>94.249287</td>\n      <td>189.838569</td>\n      <td>3.027325</td>\n      <td>5.600175</td>\n      <td>3.389764</td>\n      <td>24.951014</td>\n    </tr>\n    <tr>\n      <th>t+4</th>\n      <td>5.568402</td>\n      <td>19.808512</td>\n      <td>6.924007</td>\n      <td>14.278493</td>\n      <td>5.342105</td>\n      <td>1020.183722</td>\n      <td>94.183523</td>\n      <td>189.778786</td>\n      <td>3.026962</td>\n      <td>5.599228</td>\n      <td>3.407980</td>\n      <td>24.951853</td>\n    </tr>\n    <tr>\n      <th>t+5</th>\n      <td>5.572915</td>\n      <td>19.808052</td>\n      <td>6.924043</td>\n      <td>14.280104</td>\n      <td>5.298183</td>\n      <td>1020.183834</td>\n      <td>94.149571</td>\n      <td>189.723114</td>\n      <td>3.025899</td>\n      <td>5.598764</td>\n      <td>3.414061</td>\n      <td>24.952287</td>\n    </tr>\n    <tr>\n      <th>t+6</th>\n      <td>5.575730</td>\n      <td>19.807470</td>\n      <td>6.923316</td>\n      <td>14.281513</td>\n      <td>5.293371</td>\n      <td>1020.183729</td>\n      <td>94.103824</td>\n      <td>189.684510</td>\n      <td>3.027485</td>\n      <td>5.598455</td>\n      <td>3.418220</td>\n      <td>24.952667</td>\n    </tr>\n    <tr>\n      <th>t+7</th>\n      <td>5.578716</td>\n      <td>19.806967</td>\n      <td>6.922888</td>\n      <td>14.282976</td>\n      <td>5.294354</td>\n      <td>1020.183341</td>\n      <td>94.063495</td>\n      <td>189.654406</td>\n      <td>3.031217</td>\n      <td>5.598650</td>\n      <td>3.421749</td>\n      <td>24.953039</td>\n    </tr>\n    <tr>\n      <th>t+8</th>\n      <td>5.581723</td>\n      <td>19.806758</td>\n      <td>6.922982</td>\n      <td>14.284395</td>\n      <td>5.297311</td>\n      <td>1020.182284</td>\n      <td>94.019140</td>\n      <td>189.625217</td>\n      <td>3.038878</td>\n      <td>5.599688</td>\n      <td>3.424841</td>\n      <td>24.953410</td>\n    </tr>\n    <tr>\n      <th>t+9</th>\n      <td>5.584949</td>\n      <td>19.806725</td>\n      <td>6.922672</td>\n      <td>14.285593</td>\n      <td>5.299596</td>\n      <td>1020.180862</td>\n      <td>93.990914</td>\n      <td>189.592077</td>\n      <td>3.045028</td>\n      <td>5.601381</td>\n      <td>3.427932</td>\n      <td>24.953781</td>\n    </tr>\n  </tbody>\n</table>\n</div>"
     },
     "execution_count": 197,
     "metadata": {},
     "output_type": "execute_result"
    }
   ],
   "source": [
    "mae = reshape_dataframe(mae_df)\n",
    "mae"
   ],
   "metadata": {
    "collapsed": false,
    "pycharm": {
     "name": "#%%\n"
    }
   }
  },
  {
   "cell_type": "code",
   "execution_count": 150,
   "outputs": [
    {
     "data": {
      "text/plain": "           ATMP   ATMP_ERA5       DEWP   DEWP_ERA5          PRES  \\\nt     87.314098  583.938995  69.352799  334.355538  49448.642745   \nt+1   22.597840  597.256828  18.309946  337.761494    805.055419   \nt+10  15.507806  598.928255  12.670307  337.855716     37.204937   \nt+11  15.507806  598.850102  12.670307  337.786739     37.204937   \nt+12  15.507806  598.778455  12.670307  337.725077     37.204937   \nt+13  15.507806  598.721109  12.670307  337.669520     37.204937   \nt+14  15.507806  598.668725  12.670307  337.617004     37.204937   \nt+15  15.507806  598.633207  12.670307  337.586043     37.204937   \nt+16  15.507806  598.598661  12.670307  337.557201     37.204937   \nt+17  15.507806  598.577276  12.670307  337.520238     37.204937   \nt+18  15.507806  598.520067  12.670307  337.491279     37.204937   \nt+19  15.507806  598.450776  12.670307  337.447119     37.204937   \nt+2   16.403585  599.281048  13.384192  338.254160      1.851154   \nt+20  15.507806  598.373301  12.670307  337.396314     37.204937   \nt+21  15.507806  598.229002  12.670307  337.321379     37.204937   \nt+22  15.507806  598.147854  12.670307  337.281667     37.204937   \nt+23  15.507806  598.052534  12.670307  337.237713     37.204937   \nt+3   15.627794  599.524281  12.765972  338.288851     29.778924   \nt+4   15.523989  599.492929  12.683183  338.257839     36.153679   \nt+5   15.509984  599.386474  12.672045  338.200205     37.062858   \nt+6   15.508076  599.293893  12.670497  338.122548     37.186325   \nt+7   15.507806  599.179264  12.670307  338.049804     37.204937   \nt+8   15.507806  599.090877  12.670307  337.996722     37.204937   \nt+9   15.507806  599.008373  12.670307  337.947596     37.204937   \n\n         PRES_ERA5         WDIR     WDIR_ERA5      WSPD  WSPD_ERA5       WTMP  \\\nt     1.038248e+06   369.152756  32406.143627  1.061404  28.049433  58.043724   \nt+1   1.037929e+06  1379.851099  32362.396251  4.350445  23.909206   5.860012   \nt+10  1.037890e+06  1626.753366  32593.422919  5.168063  23.048719   2.241278   \nt+11  1.037891e+06  1626.753366  32617.416293  5.168063  23.039883   2.241278   \nt+12  1.037894e+06  1626.753366  32651.116641  5.168063  23.044288   2.241278   \nt+13  1.037897e+06  1626.753366  32697.275875  5.168063  23.055178   2.241278   \nt+14  1.037899e+06  1626.753366  32746.621771  5.168063  23.054527   2.241278   \nt+15  1.037901e+06  1626.753366  32776.967830  5.168063  23.055102   2.241278   \nt+16  1.037903e+06  1626.753366  32800.626468  5.168063  23.063970   2.241278   \nt+17  1.037904e+06  1626.753366  32823.490417  5.168063  23.081289   2.241278   \nt+18  1.037903e+06  1626.753366  32845.094985  5.168063  23.097226   2.241278   \nt+19  1.037902e+06  1626.753366  32862.610617  5.168063  23.111164   2.241278   \nt+2   1.037883e+06  1591.607105  32375.957726  5.051496  23.300305   2.637583   \nt+20  1.037900e+06  1626.753366  32883.308630  5.168063  23.116181   2.241278   \nt+21  1.037898e+06  1626.753366  33006.237313  5.168063  23.122681   2.241278   \nt+22  1.037898e+06  1626.753366  32993.914847  5.168063  23.124308   2.241278   \nt+23  1.037899e+06  1626.753366  32977.886173  5.168063  23.123624   2.241278   \nt+3   1.037879e+06  1621.965131  32397.242870  5.152179  23.196789   2.293121   \nt+4   1.037881e+06  1626.106609  32423.736006  5.165919  23.165505   2.248233   \nt+5   1.037882e+06  1626.665975  32452.865051  5.167775  23.143609   2.242214   \nt+6   1.037884e+06  1626.742288  32478.446960  5.168029  23.122255   2.241375   \nt+7   1.037886e+06  1626.753366  32502.821507  5.168063  23.104124   2.241278   \nt+8   1.037888e+06  1626.753366  32531.146048  5.168063  23.086325   2.241278   \nt+9   1.037891e+06  1626.753366  32564.032482  5.168063  23.068161   2.241278   \n\n       WTMP_ERA5  \nt     687.683324  \nt+1   680.914907  \nt+10  679.420681  \nt+11  679.387245  \nt+12  679.353808  \nt+13  679.320371  \nt+14  679.286934  \nt+15  679.253497  \nt+16  679.220060  \nt+17  679.186623  \nt+18  679.153187  \nt+19  679.119750  \nt+2   679.852146  \nt+20  679.086313  \nt+21  679.052876  \nt+22  679.033909  \nt+23  679.014943  \nt+3   679.676968  \nt+4   679.624304  \nt+5   679.588270  \nt+6   679.554475  \nt+7   679.520992  \nt+8   679.487555  \nt+9   679.454118  ",
      "text/html": "<div>\n<style scoped>\n    .dataframe tbody tr th:only-of-type {\n        vertical-align: middle;\n    }\n\n    .dataframe tbody tr th {\n        vertical-align: top;\n    }\n\n    .dataframe thead th {\n        text-align: right;\n    }\n</style>\n<table border=\"1\" class=\"dataframe\">\n  <thead>\n    <tr style=\"text-align: right;\">\n      <th></th>\n      <th>ATMP</th>\n      <th>ATMP_ERA5</th>\n      <th>DEWP</th>\n      <th>DEWP_ERA5</th>\n      <th>PRES</th>\n      <th>PRES_ERA5</th>\n      <th>WDIR</th>\n      <th>WDIR_ERA5</th>\n      <th>WSPD</th>\n      <th>WSPD_ERA5</th>\n      <th>WTMP</th>\n      <th>WTMP_ERA5</th>\n    </tr>\n  </thead>\n  <tbody>\n    <tr>\n      <th>t</th>\n      <td>87.314098</td>\n      <td>583.938995</td>\n      <td>69.352799</td>\n      <td>334.355538</td>\n      <td>49448.642745</td>\n      <td>1.038248e+06</td>\n      <td>369.152756</td>\n      <td>32406.143627</td>\n      <td>1.061404</td>\n      <td>28.049433</td>\n      <td>58.043724</td>\n      <td>687.683324</td>\n    </tr>\n    <tr>\n      <th>t+1</th>\n      <td>22.597840</td>\n      <td>597.256828</td>\n      <td>18.309946</td>\n      <td>337.761494</td>\n      <td>805.055419</td>\n      <td>1.037929e+06</td>\n      <td>1379.851099</td>\n      <td>32362.396251</td>\n      <td>4.350445</td>\n      <td>23.909206</td>\n      <td>5.860012</td>\n      <td>680.914907</td>\n    </tr>\n    <tr>\n      <th>t+10</th>\n      <td>15.507806</td>\n      <td>598.928255</td>\n      <td>12.670307</td>\n      <td>337.855716</td>\n      <td>37.204937</td>\n      <td>1.037890e+06</td>\n      <td>1626.753366</td>\n      <td>32593.422919</td>\n      <td>5.168063</td>\n      <td>23.048719</td>\n      <td>2.241278</td>\n      <td>679.420681</td>\n    </tr>\n    <tr>\n      <th>t+11</th>\n      <td>15.507806</td>\n      <td>598.850102</td>\n      <td>12.670307</td>\n      <td>337.786739</td>\n      <td>37.204937</td>\n      <td>1.037891e+06</td>\n      <td>1626.753366</td>\n      <td>32617.416293</td>\n      <td>5.168063</td>\n      <td>23.039883</td>\n      <td>2.241278</td>\n      <td>679.387245</td>\n    </tr>\n    <tr>\n      <th>t+12</th>\n      <td>15.507806</td>\n      <td>598.778455</td>\n      <td>12.670307</td>\n      <td>337.725077</td>\n      <td>37.204937</td>\n      <td>1.037894e+06</td>\n      <td>1626.753366</td>\n      <td>32651.116641</td>\n      <td>5.168063</td>\n      <td>23.044288</td>\n      <td>2.241278</td>\n      <td>679.353808</td>\n    </tr>\n    <tr>\n      <th>t+13</th>\n      <td>15.507806</td>\n      <td>598.721109</td>\n      <td>12.670307</td>\n      <td>337.669520</td>\n      <td>37.204937</td>\n      <td>1.037897e+06</td>\n      <td>1626.753366</td>\n      <td>32697.275875</td>\n      <td>5.168063</td>\n      <td>23.055178</td>\n      <td>2.241278</td>\n      <td>679.320371</td>\n    </tr>\n    <tr>\n      <th>t+14</th>\n      <td>15.507806</td>\n      <td>598.668725</td>\n      <td>12.670307</td>\n      <td>337.617004</td>\n      <td>37.204937</td>\n      <td>1.037899e+06</td>\n      <td>1626.753366</td>\n      <td>32746.621771</td>\n      <td>5.168063</td>\n      <td>23.054527</td>\n      <td>2.241278</td>\n      <td>679.286934</td>\n    </tr>\n    <tr>\n      <th>t+15</th>\n      <td>15.507806</td>\n      <td>598.633207</td>\n      <td>12.670307</td>\n      <td>337.586043</td>\n      <td>37.204937</td>\n      <td>1.037901e+06</td>\n      <td>1626.753366</td>\n      <td>32776.967830</td>\n      <td>5.168063</td>\n      <td>23.055102</td>\n      <td>2.241278</td>\n      <td>679.253497</td>\n    </tr>\n    <tr>\n      <th>t+16</th>\n      <td>15.507806</td>\n      <td>598.598661</td>\n      <td>12.670307</td>\n      <td>337.557201</td>\n      <td>37.204937</td>\n      <td>1.037903e+06</td>\n      <td>1626.753366</td>\n      <td>32800.626468</td>\n      <td>5.168063</td>\n      <td>23.063970</td>\n      <td>2.241278</td>\n      <td>679.220060</td>\n    </tr>\n    <tr>\n      <th>t+17</th>\n      <td>15.507806</td>\n      <td>598.577276</td>\n      <td>12.670307</td>\n      <td>337.520238</td>\n      <td>37.204937</td>\n      <td>1.037904e+06</td>\n      <td>1626.753366</td>\n      <td>32823.490417</td>\n      <td>5.168063</td>\n      <td>23.081289</td>\n      <td>2.241278</td>\n      <td>679.186623</td>\n    </tr>\n    <tr>\n      <th>t+18</th>\n      <td>15.507806</td>\n      <td>598.520067</td>\n      <td>12.670307</td>\n      <td>337.491279</td>\n      <td>37.204937</td>\n      <td>1.037903e+06</td>\n      <td>1626.753366</td>\n      <td>32845.094985</td>\n      <td>5.168063</td>\n      <td>23.097226</td>\n      <td>2.241278</td>\n      <td>679.153187</td>\n    </tr>\n    <tr>\n      <th>t+19</th>\n      <td>15.507806</td>\n      <td>598.450776</td>\n      <td>12.670307</td>\n      <td>337.447119</td>\n      <td>37.204937</td>\n      <td>1.037902e+06</td>\n      <td>1626.753366</td>\n      <td>32862.610617</td>\n      <td>5.168063</td>\n      <td>23.111164</td>\n      <td>2.241278</td>\n      <td>679.119750</td>\n    </tr>\n    <tr>\n      <th>t+2</th>\n      <td>16.403585</td>\n      <td>599.281048</td>\n      <td>13.384192</td>\n      <td>338.254160</td>\n      <td>1.851154</td>\n      <td>1.037883e+06</td>\n      <td>1591.607105</td>\n      <td>32375.957726</td>\n      <td>5.051496</td>\n      <td>23.300305</td>\n      <td>2.637583</td>\n      <td>679.852146</td>\n    </tr>\n    <tr>\n      <th>t+20</th>\n      <td>15.507806</td>\n      <td>598.373301</td>\n      <td>12.670307</td>\n      <td>337.396314</td>\n      <td>37.204937</td>\n      <td>1.037900e+06</td>\n      <td>1626.753366</td>\n      <td>32883.308630</td>\n      <td>5.168063</td>\n      <td>23.116181</td>\n      <td>2.241278</td>\n      <td>679.086313</td>\n    </tr>\n    <tr>\n      <th>t+21</th>\n      <td>15.507806</td>\n      <td>598.229002</td>\n      <td>12.670307</td>\n      <td>337.321379</td>\n      <td>37.204937</td>\n      <td>1.037898e+06</td>\n      <td>1626.753366</td>\n      <td>33006.237313</td>\n      <td>5.168063</td>\n      <td>23.122681</td>\n      <td>2.241278</td>\n      <td>679.052876</td>\n    </tr>\n    <tr>\n      <th>t+22</th>\n      <td>15.507806</td>\n      <td>598.147854</td>\n      <td>12.670307</td>\n      <td>337.281667</td>\n      <td>37.204937</td>\n      <td>1.037898e+06</td>\n      <td>1626.753366</td>\n      <td>32993.914847</td>\n      <td>5.168063</td>\n      <td>23.124308</td>\n      <td>2.241278</td>\n      <td>679.033909</td>\n    </tr>\n    <tr>\n      <th>t+23</th>\n      <td>15.507806</td>\n      <td>598.052534</td>\n      <td>12.670307</td>\n      <td>337.237713</td>\n      <td>37.204937</td>\n      <td>1.037899e+06</td>\n      <td>1626.753366</td>\n      <td>32977.886173</td>\n      <td>5.168063</td>\n      <td>23.123624</td>\n      <td>2.241278</td>\n      <td>679.014943</td>\n    </tr>\n    <tr>\n      <th>t+3</th>\n      <td>15.627794</td>\n      <td>599.524281</td>\n      <td>12.765972</td>\n      <td>338.288851</td>\n      <td>29.778924</td>\n      <td>1.037879e+06</td>\n      <td>1621.965131</td>\n      <td>32397.242870</td>\n      <td>5.152179</td>\n      <td>23.196789</td>\n      <td>2.293121</td>\n      <td>679.676968</td>\n    </tr>\n    <tr>\n      <th>t+4</th>\n      <td>15.523989</td>\n      <td>599.492929</td>\n      <td>12.683183</td>\n      <td>338.257839</td>\n      <td>36.153679</td>\n      <td>1.037881e+06</td>\n      <td>1626.106609</td>\n      <td>32423.736006</td>\n      <td>5.165919</td>\n      <td>23.165505</td>\n      <td>2.248233</td>\n      <td>679.624304</td>\n    </tr>\n    <tr>\n      <th>t+5</th>\n      <td>15.509984</td>\n      <td>599.386474</td>\n      <td>12.672045</td>\n      <td>338.200205</td>\n      <td>37.062858</td>\n      <td>1.037882e+06</td>\n      <td>1626.665975</td>\n      <td>32452.865051</td>\n      <td>5.167775</td>\n      <td>23.143609</td>\n      <td>2.242214</td>\n      <td>679.588270</td>\n    </tr>\n    <tr>\n      <th>t+6</th>\n      <td>15.508076</td>\n      <td>599.293893</td>\n      <td>12.670497</td>\n      <td>338.122548</td>\n      <td>37.186325</td>\n      <td>1.037884e+06</td>\n      <td>1626.742288</td>\n      <td>32478.446960</td>\n      <td>5.168029</td>\n      <td>23.122255</td>\n      <td>2.241375</td>\n      <td>679.554475</td>\n    </tr>\n    <tr>\n      <th>t+7</th>\n      <td>15.507806</td>\n      <td>599.179264</td>\n      <td>12.670307</td>\n      <td>338.049804</td>\n      <td>37.204937</td>\n      <td>1.037886e+06</td>\n      <td>1626.753366</td>\n      <td>32502.821507</td>\n      <td>5.168063</td>\n      <td>23.104124</td>\n      <td>2.241278</td>\n      <td>679.520992</td>\n    </tr>\n    <tr>\n      <th>t+8</th>\n      <td>15.507806</td>\n      <td>599.090877</td>\n      <td>12.670307</td>\n      <td>337.996722</td>\n      <td>37.204937</td>\n      <td>1.037888e+06</td>\n      <td>1626.753366</td>\n      <td>32531.146048</td>\n      <td>5.168063</td>\n      <td>23.086325</td>\n      <td>2.241278</td>\n      <td>679.487555</td>\n    </tr>\n    <tr>\n      <th>t+9</th>\n      <td>15.507806</td>\n      <td>599.008373</td>\n      <td>12.670307</td>\n      <td>337.947596</td>\n      <td>37.204937</td>\n      <td>1.037891e+06</td>\n      <td>1626.753366</td>\n      <td>32564.032482</td>\n      <td>5.168063</td>\n      <td>23.068161</td>\n      <td>2.241278</td>\n      <td>679.454118</td>\n    </tr>\n  </tbody>\n</table>\n</div>"
     },
     "execution_count": 150,
     "metadata": {},
     "output_type": "execute_result"
    }
   ],
   "source": [
    "mse = reshape_dataframe(mse_df)\n",
    "mse"
   ],
   "metadata": {
    "collapsed": false,
    "pycharm": {
     "name": "#%%\n"
    }
   }
  },
  {
   "cell_type": "code",
   "execution_count": 151,
   "outputs": [],
   "source": [
    "# Save DataFrames to CSV (or any other format if needed)\n",
    "evaluation_path = \"data/evaluation/Publication/center_42003\"\n",
    "mae_df.to_csv(f'{evaluation_path}/{filename}mae_results.csv', index=False)\n",
    "mse_df.to_csv(f'{evaluation_path}/{filename}mse_results.csv', index=False)"
   ],
   "metadata": {
    "collapsed": false,
    "pycharm": {
     "name": "#%%\n"
    }
   }
  }
 ],
 "metadata": {
  "kernelspec": {
   "display_name": "Python 3 (ipykernel)",
   "language": "python",
   "name": "python3"
  },
  "language_info": {
   "codemirror_mode": {
    "name": "ipython",
    "version": 3
   },
   "file_extension": ".py",
   "mimetype": "text/x-python",
   "name": "python",
   "nbconvert_exporter": "python",
   "pygments_lexer": "ipython3",
   "version": "3.8.15"
  }
 },
 "nbformat": 4,
 "nbformat_minor": 1
}