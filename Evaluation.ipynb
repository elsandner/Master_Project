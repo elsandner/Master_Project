{
 "cells": [
  {
   "cell_type": "markdown",
   "source": [
    "# Evaluate the result of Experiments\n",
    "\n",
    "The aim of this script is to standardize the evaluation of several experiments."
   ],
   "metadata": {
    "collapsed": false,
    "pycharm": {
     "name": "#%% md\n"
    }
   }
  },
  {
   "cell_type": "code",
   "execution_count": 143,
   "metadata": {
    "collapsed": true,
    "pycharm": {
     "name": "#%%\n"
    }
   },
   "outputs": [],
   "source": [
    "import pickle\n",
    "from myLibrary import Experiment\n",
    "from myLibrary import DataProcessor as DP\n",
    "import os\n",
    "import ipywidgets as widgets\n",
    "import matplotlib.pyplot as plt\n",
    "from IPython.display import display\n",
    "import pandas as pd\n",
    "import numpy as np\n",
    "\n",
    "from sklearn.metrics import mean_squared_error, mean_absolute_error"
   ]
  },
  {
   "cell_type": "code",
   "execution_count": 144,
   "outputs": [
    {
     "data": {
      "text/plain": "Select(description='Reports:', options=('GOM_1_A_LSTM.pickle', 'report_06.pickle', '.DS_Store', 'GOM_2_A_LSTM.…",
      "application/vnd.jupyter.widget-view+json": {
       "version_major": 2,
       "version_minor": 0,
       "model_id": "1f7102a5ef3b4ee588b358282eba8228"
      }
     },
     "metadata": {},
     "output_type": "display_data"
    }
   ],
   "source": [
    "report_directory = os.path.join(os.getcwd(), f'data/reports')\n",
    "\n",
    "def build_UI():\n",
    "    # Select Model-------------------------------------------------------------------------------\n",
    "    global report_widget\n",
    "    report_list = os.listdir(report_directory)\n",
    "    report_widget = widgets.Select(\n",
    "        options=report_list,\n",
    "        value=report_list[0],\n",
    "        rows=10,\n",
    "        description='Reports:',\n",
    "        disabled=False\n",
    "    )\n",
    "    display(report_widget)\n",
    "\n",
    "build_UI()"
   ],
   "metadata": {
    "collapsed": false,
    "pycharm": {
     "name": "#%%\n"
    }
   }
  },
  {
   "cell_type": "code",
   "execution_count": 145,
   "outputs": [
    {
     "name": "stdout",
     "output_type": "stream",
     "text": [
      "report_10.pickle\n"
     ]
    }
   ],
   "source": [
    "filename = report_widget.value\n",
    "filename = \"report_10.pickle\"\n",
    "\n",
    "print(filename)\n",
    "# open the file for reading in binary mode\n",
    "report: Experiment\n",
    "with open(f'data/reports/{filename}', 'rb') as f:\n",
    "    # load the object from the file using pickle.load()\n",
    "    report = pickle.load(f)"
   ],
   "metadata": {
    "collapsed": false,
    "pycharm": {
     "name": "#%%\n"
    }
   }
  },
  {
   "cell_type": "code",
   "execution_count": 146,
   "outputs": [
    {
     "name": "stdout",
     "output_type": "stream",
     "text": [
      "Experiment: report_10\n",
      "Test #8 GOM, dataset A, GRU based PINN, Alpha = 1\n",
      "---------------------------------------\n",
      "Stations: ['42001', '42002', '42003', '42007', '42012', '42019', '42020', '42035', '42036', '42038', '42039', '42040', '42041', '42055']\n",
      "Years: ['2002', '2003', '2004', '2005', '2006', '2007', '2008', '2009', '2010', '2011', '2012', '2013', '2014', '2015', '2016', '2017', '2018', '2019', '2020', '2021', '2022']\n",
      "NaN_Threshold: 0.66\n",
      "Features: ['WDIR', 'WSPD', 'WVHT', 'APD', 'MWD', 'PRES', 'ATMP', 'WTMP', 'DEWP']\n",
      "ERA5: True, Stationary Shift: 1, Test-Hours:24\n",
      "\n",
      "---------------------------------------\n",
      "Normalized: True\n",
      "\n",
      "---------------------------------------\n",
      "Internal Model name: GRU\n",
      "Model: \"sequential\"\n",
      "_________________________________________________________________\n",
      " Layer (type)                Output Shape              Param #   \n",
      "=================================================================\n",
      " gru (GRU)                   (None, 1, 128)            89856     \n",
      "                                                                 \n",
      " dropout (Dropout)           (None, 1, 128)            0         \n",
      "                                                                 \n",
      " gru_1 (GRU)                 (None, 1, 64)             37248     \n",
      "                                                                 \n",
      " dropout_1 (Dropout)         (None, 1, 64)             0         \n",
      "                                                                 \n",
      " gru_2 (GRU)                 (None, 1, 32)             9408      \n",
      "                                                                 \n",
      " dropout_2 (Dropout)         (None, 1, 32)             0         \n",
      "                                                                 \n",
      " gru_3 (GRU)                 (None, 16)                2400      \n",
      "                                                                 \n",
      " dense (Dense)               (None, 104)               1768      \n",
      "                                                                 \n",
      "=================================================================\n",
      "Total params: 140,680\n",
      "Trainable params: 140,680\n",
      "Non-trainable params: 0\n",
      "_________________________________________________________________\n"
     ]
    }
   ],
   "source": [
    "report.print_settings()"
   ],
   "metadata": {
    "collapsed": false,
    "pycharm": {
     "name": "#%%\n"
    }
   }
  },
  {
   "cell_type": "code",
   "execution_count": 147,
   "outputs": [
    {
     "name": "stdout",
     "output_type": "stream",
     "text": [
      "One-Shot-Forecasting:\n",
      "MAE: 0.9120985388755799 \tMSE: 0.8421840967172738\n",
      "\n",
      "Recurrent-Forecasting:\n",
      "MAE: -1.0 \tMSE: -1.0\n"
     ]
    }
   ],
   "source": [
    "report.print_metrics()"
   ],
   "metadata": {
    "collapsed": false,
    "pycharm": {
     "name": "#%%\n"
    }
   }
  },
  {
   "cell_type": "code",
   "execution_count": 148,
   "outputs": [
    {
     "data": {
      "text/plain": "                     WDIR_42001  WSPD_42001  PRES_42001  ATMP_42001  \\\n2022-12-31 00:00:00       189.0         5.0      1013.5        25.2   \n2022-12-31 01:00:00       203.0         5.6      1013.8        24.7   \n2022-12-31 02:00:00       169.0         2.3      1014.5        24.8   \n2022-12-31 03:00:00        53.0         6.0      1014.8        22.7   \n2022-12-31 04:00:00        55.0         8.5      1015.2        22.3   \n2022-12-31 05:00:00        72.0         7.6      1014.9        22.6   \n2022-12-31 06:00:00        77.0         7.2      1014.4        23.0   \n2022-12-31 07:00:00        97.0         7.8      1014.1        23.1   \n2022-12-31 08:00:00       148.0         3.3      1013.9        24.4   \n2022-12-31 09:00:00       195.0         5.4      1014.0        25.0   \n2022-12-31 10:00:00       223.0         5.1      1014.4        25.0   \n2022-12-31 11:00:00        18.0         3.3      1015.0        22.6   \n2022-12-31 12:00:00       115.0         2.1      1014.9        23.2   \n2022-12-31 13:00:00        31.0         0.9      1015.4        23.6   \n2022-12-31 14:00:00        97.0         0.8      1015.9        24.5   \n2022-12-31 15:00:00       113.0         1.9      1016.6        24.4   \n2022-12-31 16:00:00       124.0         0.8      1017.1        24.6   \n2022-12-31 17:00:00       107.0         1.1      1016.6        24.9   \n2022-12-31 18:00:00       147.0         1.1      1015.9        25.1   \n2022-12-31 19:00:00       195.0         0.5      1015.0        25.6   \n2022-12-31 20:00:00       210.0         1.0      1015.0        25.3   \n2022-12-31 21:00:00       231.0         0.6      1014.7        26.4   \n2022-12-31 22:00:00        18.0         0.7      1014.9        25.4   \n2022-12-31 23:00:00        68.0         1.6      1015.0        25.0   \n\n                     WTMP_42001  DEWP_42001  WDIR_42002  WSPD_42002  \\\n2022-12-31 00:00:00        24.3        24.5       333.0         5.6   \n2022-12-31 01:00:00        24.3        23.5       359.0         4.6   \n2022-12-31 02:00:00        24.3        24.4        18.0         4.2   \n2022-12-31 03:00:00        24.4        22.1        51.0         4.0   \n2022-12-31 04:00:00        24.4        21.9        69.0         3.1   \n2022-12-31 05:00:00        24.3        22.1        89.0         3.7   \n2022-12-31 06:00:00        24.4        23.0       118.0         2.6   \n2022-12-31 07:00:00        24.4        23.0       151.0         2.8   \n2022-12-31 08:00:00        24.4        24.3       195.0         1.2   \n2022-12-31 09:00:00        24.4        24.6       207.0         2.3   \n2022-12-31 10:00:00        24.4        24.6       194.0         2.2   \n2022-12-31 11:00:00        24.3        22.0       217.0         2.7   \n2022-12-31 12:00:00        24.3        22.4       253.0         3.3   \n2022-12-31 13:00:00        24.4        22.7       273.0         2.9   \n2022-12-31 14:00:00        24.4        23.0       322.0         4.7   \n2022-12-31 15:00:00        24.3        23.6       322.0         3.2   \n2022-12-31 16:00:00        24.4        23.8       316.0         1.3   \n2022-12-31 17:00:00        24.4        23.9       104.0         0.0   \n2022-12-31 18:00:00        24.5        24.3        42.0         0.5   \n2022-12-31 19:00:00        24.7        24.5        22.0         0.6   \n2022-12-31 20:00:00        24.5        24.3        88.0         1.2   \n2022-12-31 21:00:00        24.7        24.4        87.0         1.7   \n2022-12-31 22:00:00        24.7        24.1        90.0         2.5   \n2022-12-31 23:00:00        24.5        24.3       116.0         3.7   \n\n                     PRES_42002  ATMP_42002  ...  WDIR_42039_ERA5_pred  \\\n2022-12-31 00:00:00      1012.3        24.6  ...            444.809549   \n2022-12-31 01:00:00      1012.9        24.6  ...            439.198263   \n2022-12-31 02:00:00      1013.5        24.7  ...            428.553123   \n2022-12-31 03:00:00      1014.1        24.5  ...            415.628825   \n2022-12-31 04:00:00      1014.4        24.3  ...            401.716379   \n2022-12-31 05:00:00      1014.4        24.3  ...            392.656068   \n2022-12-31 06:00:00      1014.5        24.4  ...            396.369205   \n2022-12-31 07:00:00      1014.6        24.5  ...            408.484637   \n2022-12-31 08:00:00      1014.8        24.6  ...            412.176854   \n2022-12-31 09:00:00      1014.4        24.5  ...            408.360037   \n2022-12-31 10:00:00      1014.4        24.6  ...            399.592119   \n2022-12-31 11:00:00      1014.9        24.6  ...            367.961074   \n2022-12-31 12:00:00      1015.4        24.6  ...            373.837664   \n2022-12-31 13:00:00      1016.0        24.6  ...            388.308420   \n2022-12-31 14:00:00      1016.6        24.5  ...            398.388181   \n2022-12-31 15:00:00      1017.2        24.6  ...            394.861052   \n2022-12-31 16:00:00      1017.8        24.7  ...            390.945911   \n2022-12-31 17:00:00      1017.7        25.8  ...            385.024347   \n2022-12-31 18:00:00      1016.8        25.5  ...            373.659786   \n2022-12-31 19:00:00      1015.9        25.1  ...            364.239775   \n2022-12-31 20:00:00      1015.4        24.7  ...            359.302463   \n2022-12-31 21:00:00      1014.9        24.6  ...            354.042864   \n2022-12-31 22:00:00      1014.9        24.5  ...            345.696080   \n2022-12-31 23:00:00      1015.0        24.5  ...            351.451918   \n\n                     WSPD_42039_ERA5_pred  ATMP_42039_ERA5_pred  \\\n2022-12-31 00:00:00              8.356694             21.842108   \n2022-12-31 01:00:00              7.947623             22.029274   \n2022-12-31 02:00:00              7.611666             21.934948   \n2022-12-31 03:00:00              8.150897             20.880667   \n2022-12-31 04:00:00              8.825571             20.980230   \n2022-12-31 05:00:00              7.789275             21.718760   \n2022-12-31 06:00:00              7.067751             21.935940   \n2022-12-31 07:00:00              6.574677             21.918520   \n2022-12-31 08:00:00              6.843332             22.007029   \n2022-12-31 09:00:00              7.405061             22.230709   \n2022-12-31 10:00:00              7.086466             22.388975   \n2022-12-31 11:00:00              4.953872             21.828240   \n2022-12-31 12:00:00              4.723428             21.782884   \n2022-12-31 13:00:00              5.559769             21.132043   \n2022-12-31 14:00:00              6.808987             21.695660   \n2022-12-31 15:00:00              7.552315             22.107485   \n2022-12-31 16:00:00              6.757067             22.174853   \n2022-12-31 17:00:00              5.997143             20.892936   \n2022-12-31 18:00:00              5.861192             20.634181   \n2022-12-31 19:00:00              6.229940             20.551592   \n2022-12-31 20:00:00              6.407427             20.634785   \n2022-12-31 21:00:00              5.536080             20.466638   \n2022-12-31 22:00:00              4.291562             20.282064   \n2022-12-31 23:00:00              1.102828             21.974544   \n\n                     WSPD_42035_ERA5_pred  WSPD_42001_ERA5_pred  \\\n2022-12-31 00:00:00              1.914700              6.324000   \n2022-12-31 01:00:00              2.569116              6.082649   \n2022-12-31 02:00:00              3.305508              6.611873   \n2022-12-31 03:00:00              2.400449              6.863131   \n2022-12-31 04:00:00              1.054073              7.487638   \n2022-12-31 05:00:00              0.905915              7.525298   \n2022-12-31 06:00:00              1.259391              7.572805   \n2022-12-31 07:00:00              2.122812              7.492704   \n2022-12-31 08:00:00              3.170047              7.514971   \n2022-12-31 09:00:00              3.141174              7.721294   \n2022-12-31 10:00:00              2.936287              7.688765   \n2022-12-31 11:00:00              3.019982              5.111021   \n2022-12-31 12:00:00              2.717836              4.106703   \n2022-12-31 13:00:00              2.531779              3.279022   \n2022-12-31 14:00:00              3.144095              2.891883   \n2022-12-31 15:00:00              3.859547              3.159582   \n2022-12-31 16:00:00              3.749840              3.026052   \n2022-12-31 17:00:00              3.948641              2.715061   \n2022-12-31 18:00:00              3.231528              2.163614   \n2022-12-31 19:00:00              2.323492              1.987681   \n2022-12-31 20:00:00              1.813493              1.634825   \n2022-12-31 21:00:00              1.948436              2.017223   \n2022-12-31 22:00:00              2.426938              3.099777   \n2022-12-31 23:00:00              2.748459              2.586402   \n\n                     DEWP_42020_ERA5_pred  ATMP_42019_ERA5_pred  \\\n2022-12-31 00:00:00             17.112215             17.690029   \n2022-12-31 01:00:00             16.907663             17.828304   \n2022-12-31 02:00:00             16.453368             17.898699   \n2022-12-31 03:00:00             16.107185             17.968637   \n2022-12-31 04:00:00             15.933946             17.866196   \n2022-12-31 05:00:00             15.734852             17.644285   \n2022-12-31 06:00:00             15.556164             17.514032   \n2022-12-31 07:00:00             15.343071             17.487093   \n2022-12-31 08:00:00             15.243030             17.504240   \n2022-12-31 09:00:00             15.228476             17.452064   \n2022-12-31 10:00:00             15.253377             17.369941   \n2022-12-31 11:00:00             16.668290             17.758246   \n2022-12-31 12:00:00             16.588174             17.945768   \n2022-12-31 13:00:00             16.600113             18.107703   \n2022-12-31 14:00:00             16.675658             18.346878   \n2022-12-31 15:00:00             16.847747             18.580426   \n2022-12-31 16:00:00             17.034537             18.790375   \n2022-12-31 17:00:00             17.190902             19.036522   \n2022-12-31 18:00:00             17.576587             19.243616   \n2022-12-31 19:00:00             17.926848             19.481133   \n2022-12-31 20:00:00             17.985745             19.669658   \n2022-12-31 21:00:00             17.907569             19.875708   \n2022-12-31 22:00:00             17.999792             20.081128   \n2022-12-31 23:00:00             17.229034             19.920166   \n\n                     WTMP_42039_ERA5_pred  WSPD_42002_ERA5_pred  \\\n2022-12-31 00:00:00             24.762152              4.039167   \n2022-12-31 01:00:00             24.762631              1.809303   \n2022-12-31 02:00:00             24.762653              1.520534   \n2022-12-31 03:00:00             24.762277              2.003667   \n2022-12-31 04:00:00             24.762497              2.239887   \n2022-12-31 05:00:00             24.762560              2.773362   \n2022-12-31 06:00:00             24.763437              3.750953   \n2022-12-31 07:00:00             24.763067              4.707015   \n2022-12-31 08:00:00             24.762930              4.917360   \n2022-12-31 09:00:00             24.763389              4.638147   \n2022-12-31 10:00:00             24.762931              4.417490   \n2022-12-31 11:00:00             24.762305              3.328327   \n2022-12-31 12:00:00             24.762823              2.968387   \n2022-12-31 13:00:00             24.762856              3.192992   \n2022-12-31 14:00:00             24.762133              3.481598   \n2022-12-31 15:00:00             24.762201              3.418634   \n2022-12-31 16:00:00             24.762863              2.503599   \n2022-12-31 17:00:00             24.762466              1.319488   \n2022-12-31 18:00:00             24.762512              0.735567   \n2022-12-31 19:00:00             24.762928              1.023597   \n2022-12-31 20:00:00             24.763359              1.472850   \n2022-12-31 21:00:00             24.763875              1.735031   \n2022-12-31 22:00:00             24.763376              2.170224   \n2022-12-31 23:00:00             25.257255              2.881566   \n\n                     PRES_42039_ERA5_pred  \n2022-12-31 00:00:00           1015.172086  \n2022-12-31 01:00:00           1015.782090  \n2022-12-31 02:00:00           1016.354407  \n2022-12-31 03:00:00           1016.816452  \n2022-12-31 04:00:00           1017.082516  \n2022-12-31 05:00:00           1017.220264  \n2022-12-31 06:00:00           1016.721021  \n2022-12-31 07:00:00           1016.140201  \n2022-12-31 08:00:00           1015.521496  \n2022-12-31 09:00:00           1015.084089  \n2022-12-31 10:00:00           1015.033599  \n2022-12-31 11:00:00           1015.399333  \n2022-12-31 12:00:00           1015.829232  \n2022-12-31 13:00:00           1016.484132  \n2022-12-31 14:00:00           1016.564143  \n2022-12-31 15:00:00           1017.285418  \n2022-12-31 16:00:00           1017.962494  \n2022-12-31 17:00:00           1018.326197  \n2022-12-31 18:00:00           1017.892571  \n2022-12-31 19:00:00           1017.267644  \n2022-12-31 20:00:00           1016.613138  \n2022-12-31 21:00:00           1016.394258  \n2022-12-31 22:00:00           1016.215517  \n2022-12-31 23:00:00           1017.095304  \n\n[24 rows x 208 columns]",
      "text/html": "<div>\n<style scoped>\n    .dataframe tbody tr th:only-of-type {\n        vertical-align: middle;\n    }\n\n    .dataframe tbody tr th {\n        vertical-align: top;\n    }\n\n    .dataframe thead th {\n        text-align: right;\n    }\n</style>\n<table border=\"1\" class=\"dataframe\">\n  <thead>\n    <tr style=\"text-align: right;\">\n      <th></th>\n      <th>WDIR_42001</th>\n      <th>WSPD_42001</th>\n      <th>PRES_42001</th>\n      <th>ATMP_42001</th>\n      <th>WTMP_42001</th>\n      <th>DEWP_42001</th>\n      <th>WDIR_42002</th>\n      <th>WSPD_42002</th>\n      <th>PRES_42002</th>\n      <th>ATMP_42002</th>\n      <th>...</th>\n      <th>WDIR_42039_ERA5_pred</th>\n      <th>WSPD_42039_ERA5_pred</th>\n      <th>ATMP_42039_ERA5_pred</th>\n      <th>WSPD_42035_ERA5_pred</th>\n      <th>WSPD_42001_ERA5_pred</th>\n      <th>DEWP_42020_ERA5_pred</th>\n      <th>ATMP_42019_ERA5_pred</th>\n      <th>WTMP_42039_ERA5_pred</th>\n      <th>WSPD_42002_ERA5_pred</th>\n      <th>PRES_42039_ERA5_pred</th>\n    </tr>\n  </thead>\n  <tbody>\n    <tr>\n      <th>2022-12-31 00:00:00</th>\n      <td>189.0</td>\n      <td>5.0</td>\n      <td>1013.5</td>\n      <td>25.2</td>\n      <td>24.3</td>\n      <td>24.5</td>\n      <td>333.0</td>\n      <td>5.6</td>\n      <td>1012.3</td>\n      <td>24.6</td>\n      <td>...</td>\n      <td>444.809549</td>\n      <td>8.356694</td>\n      <td>21.842108</td>\n      <td>1.914700</td>\n      <td>6.324000</td>\n      <td>17.112215</td>\n      <td>17.690029</td>\n      <td>24.762152</td>\n      <td>4.039167</td>\n      <td>1015.172086</td>\n    </tr>\n    <tr>\n      <th>2022-12-31 01:00:00</th>\n      <td>203.0</td>\n      <td>5.6</td>\n      <td>1013.8</td>\n      <td>24.7</td>\n      <td>24.3</td>\n      <td>23.5</td>\n      <td>359.0</td>\n      <td>4.6</td>\n      <td>1012.9</td>\n      <td>24.6</td>\n      <td>...</td>\n      <td>439.198263</td>\n      <td>7.947623</td>\n      <td>22.029274</td>\n      <td>2.569116</td>\n      <td>6.082649</td>\n      <td>16.907663</td>\n      <td>17.828304</td>\n      <td>24.762631</td>\n      <td>1.809303</td>\n      <td>1015.782090</td>\n    </tr>\n    <tr>\n      <th>2022-12-31 02:00:00</th>\n      <td>169.0</td>\n      <td>2.3</td>\n      <td>1014.5</td>\n      <td>24.8</td>\n      <td>24.3</td>\n      <td>24.4</td>\n      <td>18.0</td>\n      <td>4.2</td>\n      <td>1013.5</td>\n      <td>24.7</td>\n      <td>...</td>\n      <td>428.553123</td>\n      <td>7.611666</td>\n      <td>21.934948</td>\n      <td>3.305508</td>\n      <td>6.611873</td>\n      <td>16.453368</td>\n      <td>17.898699</td>\n      <td>24.762653</td>\n      <td>1.520534</td>\n      <td>1016.354407</td>\n    </tr>\n    <tr>\n      <th>2022-12-31 03:00:00</th>\n      <td>53.0</td>\n      <td>6.0</td>\n      <td>1014.8</td>\n      <td>22.7</td>\n      <td>24.4</td>\n      <td>22.1</td>\n      <td>51.0</td>\n      <td>4.0</td>\n      <td>1014.1</td>\n      <td>24.5</td>\n      <td>...</td>\n      <td>415.628825</td>\n      <td>8.150897</td>\n      <td>20.880667</td>\n      <td>2.400449</td>\n      <td>6.863131</td>\n      <td>16.107185</td>\n      <td>17.968637</td>\n      <td>24.762277</td>\n      <td>2.003667</td>\n      <td>1016.816452</td>\n    </tr>\n    <tr>\n      <th>2022-12-31 04:00:00</th>\n      <td>55.0</td>\n      <td>8.5</td>\n      <td>1015.2</td>\n      <td>22.3</td>\n      <td>24.4</td>\n      <td>21.9</td>\n      <td>69.0</td>\n      <td>3.1</td>\n      <td>1014.4</td>\n      <td>24.3</td>\n      <td>...</td>\n      <td>401.716379</td>\n      <td>8.825571</td>\n      <td>20.980230</td>\n      <td>1.054073</td>\n      <td>7.487638</td>\n      <td>15.933946</td>\n      <td>17.866196</td>\n      <td>24.762497</td>\n      <td>2.239887</td>\n      <td>1017.082516</td>\n    </tr>\n    <tr>\n      <th>2022-12-31 05:00:00</th>\n      <td>72.0</td>\n      <td>7.6</td>\n      <td>1014.9</td>\n      <td>22.6</td>\n      <td>24.3</td>\n      <td>22.1</td>\n      <td>89.0</td>\n      <td>3.7</td>\n      <td>1014.4</td>\n      <td>24.3</td>\n      <td>...</td>\n      <td>392.656068</td>\n      <td>7.789275</td>\n      <td>21.718760</td>\n      <td>0.905915</td>\n      <td>7.525298</td>\n      <td>15.734852</td>\n      <td>17.644285</td>\n      <td>24.762560</td>\n      <td>2.773362</td>\n      <td>1017.220264</td>\n    </tr>\n    <tr>\n      <th>2022-12-31 06:00:00</th>\n      <td>77.0</td>\n      <td>7.2</td>\n      <td>1014.4</td>\n      <td>23.0</td>\n      <td>24.4</td>\n      <td>23.0</td>\n      <td>118.0</td>\n      <td>2.6</td>\n      <td>1014.5</td>\n      <td>24.4</td>\n      <td>...</td>\n      <td>396.369205</td>\n      <td>7.067751</td>\n      <td>21.935940</td>\n      <td>1.259391</td>\n      <td>7.572805</td>\n      <td>15.556164</td>\n      <td>17.514032</td>\n      <td>24.763437</td>\n      <td>3.750953</td>\n      <td>1016.721021</td>\n    </tr>\n    <tr>\n      <th>2022-12-31 07:00:00</th>\n      <td>97.0</td>\n      <td>7.8</td>\n      <td>1014.1</td>\n      <td>23.1</td>\n      <td>24.4</td>\n      <td>23.0</td>\n      <td>151.0</td>\n      <td>2.8</td>\n      <td>1014.6</td>\n      <td>24.5</td>\n      <td>...</td>\n      <td>408.484637</td>\n      <td>6.574677</td>\n      <td>21.918520</td>\n      <td>2.122812</td>\n      <td>7.492704</td>\n      <td>15.343071</td>\n      <td>17.487093</td>\n      <td>24.763067</td>\n      <td>4.707015</td>\n      <td>1016.140201</td>\n    </tr>\n    <tr>\n      <th>2022-12-31 08:00:00</th>\n      <td>148.0</td>\n      <td>3.3</td>\n      <td>1013.9</td>\n      <td>24.4</td>\n      <td>24.4</td>\n      <td>24.3</td>\n      <td>195.0</td>\n      <td>1.2</td>\n      <td>1014.8</td>\n      <td>24.6</td>\n      <td>...</td>\n      <td>412.176854</td>\n      <td>6.843332</td>\n      <td>22.007029</td>\n      <td>3.170047</td>\n      <td>7.514971</td>\n      <td>15.243030</td>\n      <td>17.504240</td>\n      <td>24.762930</td>\n      <td>4.917360</td>\n      <td>1015.521496</td>\n    </tr>\n    <tr>\n      <th>2022-12-31 09:00:00</th>\n      <td>195.0</td>\n      <td>5.4</td>\n      <td>1014.0</td>\n      <td>25.0</td>\n      <td>24.4</td>\n      <td>24.6</td>\n      <td>207.0</td>\n      <td>2.3</td>\n      <td>1014.4</td>\n      <td>24.5</td>\n      <td>...</td>\n      <td>408.360037</td>\n      <td>7.405061</td>\n      <td>22.230709</td>\n      <td>3.141174</td>\n      <td>7.721294</td>\n      <td>15.228476</td>\n      <td>17.452064</td>\n      <td>24.763389</td>\n      <td>4.638147</td>\n      <td>1015.084089</td>\n    </tr>\n    <tr>\n      <th>2022-12-31 10:00:00</th>\n      <td>223.0</td>\n      <td>5.1</td>\n      <td>1014.4</td>\n      <td>25.0</td>\n      <td>24.4</td>\n      <td>24.6</td>\n      <td>194.0</td>\n      <td>2.2</td>\n      <td>1014.4</td>\n      <td>24.6</td>\n      <td>...</td>\n      <td>399.592119</td>\n      <td>7.086466</td>\n      <td>22.388975</td>\n      <td>2.936287</td>\n      <td>7.688765</td>\n      <td>15.253377</td>\n      <td>17.369941</td>\n      <td>24.762931</td>\n      <td>4.417490</td>\n      <td>1015.033599</td>\n    </tr>\n    <tr>\n      <th>2022-12-31 11:00:00</th>\n      <td>18.0</td>\n      <td>3.3</td>\n      <td>1015.0</td>\n      <td>22.6</td>\n      <td>24.3</td>\n      <td>22.0</td>\n      <td>217.0</td>\n      <td>2.7</td>\n      <td>1014.9</td>\n      <td>24.6</td>\n      <td>...</td>\n      <td>367.961074</td>\n      <td>4.953872</td>\n      <td>21.828240</td>\n      <td>3.019982</td>\n      <td>5.111021</td>\n      <td>16.668290</td>\n      <td>17.758246</td>\n      <td>24.762305</td>\n      <td>3.328327</td>\n      <td>1015.399333</td>\n    </tr>\n    <tr>\n      <th>2022-12-31 12:00:00</th>\n      <td>115.0</td>\n      <td>2.1</td>\n      <td>1014.9</td>\n      <td>23.2</td>\n      <td>24.3</td>\n      <td>22.4</td>\n      <td>253.0</td>\n      <td>3.3</td>\n      <td>1015.4</td>\n      <td>24.6</td>\n      <td>...</td>\n      <td>373.837664</td>\n      <td>4.723428</td>\n      <td>21.782884</td>\n      <td>2.717836</td>\n      <td>4.106703</td>\n      <td>16.588174</td>\n      <td>17.945768</td>\n      <td>24.762823</td>\n      <td>2.968387</td>\n      <td>1015.829232</td>\n    </tr>\n    <tr>\n      <th>2022-12-31 13:00:00</th>\n      <td>31.0</td>\n      <td>0.9</td>\n      <td>1015.4</td>\n      <td>23.6</td>\n      <td>24.4</td>\n      <td>22.7</td>\n      <td>273.0</td>\n      <td>2.9</td>\n      <td>1016.0</td>\n      <td>24.6</td>\n      <td>...</td>\n      <td>388.308420</td>\n      <td>5.559769</td>\n      <td>21.132043</td>\n      <td>2.531779</td>\n      <td>3.279022</td>\n      <td>16.600113</td>\n      <td>18.107703</td>\n      <td>24.762856</td>\n      <td>3.192992</td>\n      <td>1016.484132</td>\n    </tr>\n    <tr>\n      <th>2022-12-31 14:00:00</th>\n      <td>97.0</td>\n      <td>0.8</td>\n      <td>1015.9</td>\n      <td>24.5</td>\n      <td>24.4</td>\n      <td>23.0</td>\n      <td>322.0</td>\n      <td>4.7</td>\n      <td>1016.6</td>\n      <td>24.5</td>\n      <td>...</td>\n      <td>398.388181</td>\n      <td>6.808987</td>\n      <td>21.695660</td>\n      <td>3.144095</td>\n      <td>2.891883</td>\n      <td>16.675658</td>\n      <td>18.346878</td>\n      <td>24.762133</td>\n      <td>3.481598</td>\n      <td>1016.564143</td>\n    </tr>\n    <tr>\n      <th>2022-12-31 15:00:00</th>\n      <td>113.0</td>\n      <td>1.9</td>\n      <td>1016.6</td>\n      <td>24.4</td>\n      <td>24.3</td>\n      <td>23.6</td>\n      <td>322.0</td>\n      <td>3.2</td>\n      <td>1017.2</td>\n      <td>24.6</td>\n      <td>...</td>\n      <td>394.861052</td>\n      <td>7.552315</td>\n      <td>22.107485</td>\n      <td>3.859547</td>\n      <td>3.159582</td>\n      <td>16.847747</td>\n      <td>18.580426</td>\n      <td>24.762201</td>\n      <td>3.418634</td>\n      <td>1017.285418</td>\n    </tr>\n    <tr>\n      <th>2022-12-31 16:00:00</th>\n      <td>124.0</td>\n      <td>0.8</td>\n      <td>1017.1</td>\n      <td>24.6</td>\n      <td>24.4</td>\n      <td>23.8</td>\n      <td>316.0</td>\n      <td>1.3</td>\n      <td>1017.8</td>\n      <td>24.7</td>\n      <td>...</td>\n      <td>390.945911</td>\n      <td>6.757067</td>\n      <td>22.174853</td>\n      <td>3.749840</td>\n      <td>3.026052</td>\n      <td>17.034537</td>\n      <td>18.790375</td>\n      <td>24.762863</td>\n      <td>2.503599</td>\n      <td>1017.962494</td>\n    </tr>\n    <tr>\n      <th>2022-12-31 17:00:00</th>\n      <td>107.0</td>\n      <td>1.1</td>\n      <td>1016.6</td>\n      <td>24.9</td>\n      <td>24.4</td>\n      <td>23.9</td>\n      <td>104.0</td>\n      <td>0.0</td>\n      <td>1017.7</td>\n      <td>25.8</td>\n      <td>...</td>\n      <td>385.024347</td>\n      <td>5.997143</td>\n      <td>20.892936</td>\n      <td>3.948641</td>\n      <td>2.715061</td>\n      <td>17.190902</td>\n      <td>19.036522</td>\n      <td>24.762466</td>\n      <td>1.319488</td>\n      <td>1018.326197</td>\n    </tr>\n    <tr>\n      <th>2022-12-31 18:00:00</th>\n      <td>147.0</td>\n      <td>1.1</td>\n      <td>1015.9</td>\n      <td>25.1</td>\n      <td>24.5</td>\n      <td>24.3</td>\n      <td>42.0</td>\n      <td>0.5</td>\n      <td>1016.8</td>\n      <td>25.5</td>\n      <td>...</td>\n      <td>373.659786</td>\n      <td>5.861192</td>\n      <td>20.634181</td>\n      <td>3.231528</td>\n      <td>2.163614</td>\n      <td>17.576587</td>\n      <td>19.243616</td>\n      <td>24.762512</td>\n      <td>0.735567</td>\n      <td>1017.892571</td>\n    </tr>\n    <tr>\n      <th>2022-12-31 19:00:00</th>\n      <td>195.0</td>\n      <td>0.5</td>\n      <td>1015.0</td>\n      <td>25.6</td>\n      <td>24.7</td>\n      <td>24.5</td>\n      <td>22.0</td>\n      <td>0.6</td>\n      <td>1015.9</td>\n      <td>25.1</td>\n      <td>...</td>\n      <td>364.239775</td>\n      <td>6.229940</td>\n      <td>20.551592</td>\n      <td>2.323492</td>\n      <td>1.987681</td>\n      <td>17.926848</td>\n      <td>19.481133</td>\n      <td>24.762928</td>\n      <td>1.023597</td>\n      <td>1017.267644</td>\n    </tr>\n    <tr>\n      <th>2022-12-31 20:00:00</th>\n      <td>210.0</td>\n      <td>1.0</td>\n      <td>1015.0</td>\n      <td>25.3</td>\n      <td>24.5</td>\n      <td>24.3</td>\n      <td>88.0</td>\n      <td>1.2</td>\n      <td>1015.4</td>\n      <td>24.7</td>\n      <td>...</td>\n      <td>359.302463</td>\n      <td>6.407427</td>\n      <td>20.634785</td>\n      <td>1.813493</td>\n      <td>1.634825</td>\n      <td>17.985745</td>\n      <td>19.669658</td>\n      <td>24.763359</td>\n      <td>1.472850</td>\n      <td>1016.613138</td>\n    </tr>\n    <tr>\n      <th>2022-12-31 21:00:00</th>\n      <td>231.0</td>\n      <td>0.6</td>\n      <td>1014.7</td>\n      <td>26.4</td>\n      <td>24.7</td>\n      <td>24.4</td>\n      <td>87.0</td>\n      <td>1.7</td>\n      <td>1014.9</td>\n      <td>24.6</td>\n      <td>...</td>\n      <td>354.042864</td>\n      <td>5.536080</td>\n      <td>20.466638</td>\n      <td>1.948436</td>\n      <td>2.017223</td>\n      <td>17.907569</td>\n      <td>19.875708</td>\n      <td>24.763875</td>\n      <td>1.735031</td>\n      <td>1016.394258</td>\n    </tr>\n    <tr>\n      <th>2022-12-31 22:00:00</th>\n      <td>18.0</td>\n      <td>0.7</td>\n      <td>1014.9</td>\n      <td>25.4</td>\n      <td>24.7</td>\n      <td>24.1</td>\n      <td>90.0</td>\n      <td>2.5</td>\n      <td>1014.9</td>\n      <td>24.5</td>\n      <td>...</td>\n      <td>345.696080</td>\n      <td>4.291562</td>\n      <td>20.282064</td>\n      <td>2.426938</td>\n      <td>3.099777</td>\n      <td>17.999792</td>\n      <td>20.081128</td>\n      <td>24.763376</td>\n      <td>2.170224</td>\n      <td>1016.215517</td>\n    </tr>\n    <tr>\n      <th>2022-12-31 23:00:00</th>\n      <td>68.0</td>\n      <td>1.6</td>\n      <td>1015.0</td>\n      <td>25.0</td>\n      <td>24.5</td>\n      <td>24.3</td>\n      <td>116.0</td>\n      <td>3.7</td>\n      <td>1015.0</td>\n      <td>24.5</td>\n      <td>...</td>\n      <td>351.451918</td>\n      <td>1.102828</td>\n      <td>21.974544</td>\n      <td>2.748459</td>\n      <td>2.586402</td>\n      <td>17.229034</td>\n      <td>19.920166</td>\n      <td>25.257255</td>\n      <td>2.881566</td>\n      <td>1017.095304</td>\n    </tr>\n  </tbody>\n</table>\n<p>24 rows × 208 columns</p>\n</div>"
     },
     "execution_count": 148,
     "metadata": {},
     "output_type": "execute_result"
    }
   ],
   "source": [
    "report.one_shot_forecast"
   ],
   "metadata": {
    "collapsed": false,
    "pycharm": {
     "name": "#%%\n"
    }
   }
  },
  {
   "cell_type": "code",
   "execution_count": 149,
   "outputs": [
    {
     "data": {
      "text/plain": "Index(['WDIR_42001', 'WSPD_42001', 'PRES_42001', 'ATMP_42001', 'WTMP_42001',\n       'DEWP_42001', 'WDIR_42002', 'WSPD_42002', 'PRES_42002', 'ATMP_42002',\n       ...\n       'WDIR_42039_ERA5_pred', 'WSPD_42039_ERA5_pred', 'ATMP_42039_ERA5_pred',\n       'WSPD_42035_ERA5_pred', 'WSPD_42001_ERA5_pred', 'DEWP_42020_ERA5_pred',\n       'ATMP_42019_ERA5_pred', 'WTMP_42039_ERA5_pred', 'WSPD_42002_ERA5_pred',\n       'PRES_42039_ERA5_pred'],\n      dtype='object', length=208)"
     },
     "execution_count": 149,
     "metadata": {},
     "output_type": "execute_result"
    }
   ],
   "source": [
    "report.one_shot_forecast.columns"
   ],
   "metadata": {
    "collapsed": false,
    "pycharm": {
     "name": "#%%\n"
    }
   }
  },
  {
   "cell_type": "code",
   "execution_count": 150,
   "outputs": [],
   "source": [
    "# DOES NOT HANDLE WIND DIRECTION OVERFLOW !!\n",
    "\n",
    "# def create_charts(df, title):\n",
    "#     base_features = set()\n",
    "#\n",
    "#     for column in df.columns:\n",
    "#         base_feature = column.replace('_pred', '')\n",
    "#         base_features.add(base_feature)\n",
    "#\n",
    "#     for base_feature in base_features:\n",
    "#\n",
    "#         pred_feature = f'{base_feature}_pred'\n",
    "#\n",
    "#         plt.figure(figsize=(10, 6))\n",
    "#         plt.plot(df.index, df[base_feature], label=base_feature, color='#1f77b4')\n",
    "#         plt.plot(df.index, df[pred_feature], label=pred_feature, color='#2ca02c')\n",
    "#\n",
    "#         plt.xlabel('Time')\n",
    "#         plt.ylabel(base_feature)\n",
    "#         plt.title(f'{title}')\n",
    "#         plt.legend()\n",
    "#         plt.show()\n",
    "#\n",
    "#         # Calc Metrics\n",
    "#         mae = mean_absolute_error(df[base_feature], df[pred_feature])\n",
    "#         mse = mean_squared_error(df[base_feature], df[pred_feature])\n",
    "#         print(f\"\\t\\tMAE: {mae} \\tMSE: {mse}\\n\\n\")"
   ],
   "metadata": {
    "collapsed": false,
    "pycharm": {
     "name": "#%%\n"
    }
   }
  },
  {
   "cell_type": "code",
   "execution_count": 151,
   "outputs": [],
   "source": [
    "#title =  f\"One-Shot-Forecast of: {filename.replace('.pickle','')}\"\n",
    "#create_charts(report.one_shot_forecast, title)"
   ],
   "metadata": {
    "collapsed": false,
    "pycharm": {
     "name": "#%%\n"
    }
   }
  },
  {
   "cell_type": "code",
   "execution_count": 152,
   "outputs": [],
   "source": [
    "import matplotlib.backends.backend_pdf as pdf_backend\n",
    "import matplotlib.pyplot as plt\n",
    "from sklearn.metrics import mean_absolute_error, mean_squared_error\n",
    "\n",
    "def create_charts_to_pdf(df, title, metadata, filename):\n",
    "    base_features = set()\n",
    "\n",
    "    for column in df.columns:\n",
    "        base_feature = column.replace('_pred', '')\n",
    "        base_features.add(base_feature)\n",
    "\n",
    "    with pdf_backend.PdfPages(filename) as pdf:\n",
    "        # Add metadata to the beginning of the PDF\n",
    "        fig = plt.figure(figsize=(6, 10))\n",
    "        plt.title('Test Metadata')\n",
    "        plt.figtext(0.5, 0.05, metadata, ha='center', fontsize=8)\n",
    "        #plt.figtext(0.1, 0.9, metadata)  # Adjust the coordinates as needed\n",
    "        plt.axis('off')\n",
    "        pdf.savefig(fig)\n",
    "        plt.close(fig)\n",
    "\n",
    "        MAE = {}\n",
    "        MSE = {}\n",
    "        for base_feature in base_features:\n",
    "            pred_feature = f'{base_feature}_pred'\n",
    "\n",
    "            fig = plt.figure(figsize=(10, 6))\n",
    "            plt.plot(df.index, df[base_feature], label=base_feature, color='#1f77b4')\n",
    "            plt.plot(df.index, df[pred_feature], label=pred_feature, color='#2ca02c')\n",
    "\n",
    "            plt.xlabel('Time')\n",
    "            plt.ylabel(base_feature)\n",
    "            plt.title(f'{title}')\n",
    "            plt.legend()\n",
    "\n",
    "            # Calculate metrics\n",
    "            if base_feature.startswith(\"WDIR\"):\n",
    "                mae = DP.mean_absolute_error_WDIR(df[base_feature], df[pred_feature])\n",
    "                mse = DP.mean_square_error_WDIR(df[base_feature], df[pred_feature])\n",
    "            else:\n",
    "                mae = mean_absolute_error(df[base_feature], df[pred_feature])\n",
    "                mse = mean_squared_error(df[base_feature], df[pred_feature])\n",
    "            MAE[base_feature] = mae.round(3)\n",
    "            MSE[base_feature] = mse.round(3)\n",
    "\n",
    "            # Add metrics to the current page of the PDF\n",
    "            fig.text(0.01, 0.02, f\"MAE: {mae.round(3)}\\nMSE: {mse.round(3)}\")  # Adjust the coordinates as needed\n",
    "            pdf.savefig(fig)\n",
    "            plt.close(fig)\n",
    "\n",
    "        return MAE, MSE"
   ],
   "metadata": {
    "collapsed": false,
    "pycharm": {
     "name": "#%%\n"
    }
   }
  },
  {
   "cell_type": "code",
   "execution_count": 152,
   "outputs": [],
   "source": [],
   "metadata": {
    "collapsed": false,
    "pycharm": {
     "name": "#%%\n"
    }
   }
  },
  {
   "cell_type": "markdown",
   "source": [
    "## Create Dict for report files:"
   ],
   "metadata": {
    "collapsed": false,
    "pycharm": {
     "name": "#%% md\n"
    }
   }
  },
  {
   "cell_type": "code",
   "execution_count": 153,
   "outputs": [],
   "source": [
    "filename = f\"{filename.replace('.pickle','')}\"\n",
    "directory = f\"data/evaluation/{filename}\"\n",
    "if not os.path.exists(directory):\n",
    "    os.makedirs(directory)  # Create the directory"
   ],
   "metadata": {
    "collapsed": false,
    "pycharm": {
     "name": "#%%\n"
    }
   }
  },
  {
   "cell_type": "markdown",
   "source": [
    "# Create PDF File"
   ],
   "metadata": {
    "collapsed": false,
    "pycharm": {
     "name": "#%% md\n"
    }
   }
  },
  {
   "cell_type": "code",
   "execution_count": 154,
   "outputs": [
    {
     "name": "stdout",
     "output_type": "stream",
     "text": [
      "saved:  data/evaluation/report_10\n"
     ]
    }
   ],
   "source": [
    "title =  f\"One-Shot-Forecast of: {filename.replace('.pickle','')}\"\n",
    "MAE_dict, MSE_dict = create_charts_to_pdf(report.one_shot_forecast, title, report.get_settings_string(), f\"{directory}/{filename}_charts.pdf\")\n",
    "print(\"saved: \", directory)"
   ],
   "metadata": {
    "collapsed": false,
    "pycharm": {
     "name": "#%%\n"
    }
   }
  },
  {
   "cell_type": "code",
   "execution_count": 155,
   "outputs": [],
   "source": [
    "def create_error_table(dictionary):\n",
    "    # Extract unique measurements and station IDs\n",
    "    measurements = set()\n",
    "    station_ids = set()\n",
    "    for key in dictionary.keys():\n",
    "        measurement, station_id, *_ = key.split('_')\n",
    "        measurements.add(measurement)\n",
    "        station_ids.add(station_id)\n",
    "\n",
    "    # Create empty table\n",
    "    table = pd.DataFrame(index=sorted(station_ids), columns=sorted(measurements))\n",
    "\n",
    "    # Fill table with dictionary values\n",
    "    for key, value in dictionary.items():\n",
    "        measurement, station_id, *_ = key.split('_')\n",
    "        if key.endswith('ERA5'):\n",
    "            measurement += '_ERA5'\n",
    "        table.loc[station_id, measurement] = value\n",
    "\n",
    "    # Replace missing values with NaN\n",
    "    table = table.fillna(np.nan)\n",
    "\n",
    "    return table"
   ],
   "metadata": {
    "collapsed": false,
    "pycharm": {
     "name": "#%%\n"
    }
   }
  },
  {
   "cell_type": "markdown",
   "source": [
    "## Create MAE CSV File:"
   ],
   "metadata": {
    "collapsed": false,
    "pycharm": {
     "name": "#%% md\n"
    }
   }
  },
  {
   "cell_type": "code",
   "execution_count": 156,
   "outputs": [],
   "source": [
    "MAE_df = create_error_table(MAE_dict)\n",
    "MAE_df.to_csv(f\"{directory}/{filename}_MAE.csv\")"
   ],
   "metadata": {
    "collapsed": false,
    "pycharm": {
     "name": "#%%\n"
    }
   }
  },
  {
   "cell_type": "markdown",
   "source": [
    "## Create MSE CSV File:"
   ],
   "metadata": {
    "collapsed": false,
    "pycharm": {
     "name": "#%% md\n"
    }
   }
  },
  {
   "cell_type": "code",
   "execution_count": 157,
   "outputs": [],
   "source": [
    "MSE_df = create_error_table(MSE_dict)\n",
    "MSE_df.to_csv(f\"{directory}/{filename}_MSE.csv\")"
   ],
   "metadata": {
    "collapsed": false,
    "pycharm": {
     "name": "#%%\n"
    }
   }
  },
  {
   "cell_type": "code",
   "execution_count": 158,
   "outputs": [
    {
     "name": "stdout",
     "output_type": "stream",
     "text": [
      "data/evaluation/report_10/report_10\n"
     ]
    }
   ],
   "source": [
    "print(f\"{directory}/{filename}\")"
   ],
   "metadata": {
    "collapsed": false,
    "pycharm": {
     "name": "#%%\n"
    }
   }
  },
  {
   "cell_type": "code",
   "execution_count": 158,
   "outputs": [],
   "source": [],
   "metadata": {
    "collapsed": false,
    "pycharm": {
     "name": "#%%\n"
    }
   }
  }
 ],
 "metadata": {
  "kernelspec": {
   "display_name": "Python 3",
   "language": "python",
   "name": "python3"
  },
  "language_info": {
   "codemirror_mode": {
    "name": "ipython",
    "version": 2
   },
   "file_extension": ".py",
   "mimetype": "text/x-python",
   "name": "python",
   "nbconvert_exporter": "python",
   "pygments_lexer": "ipython2",
   "version": "2.7.6"
  }
 },
 "nbformat": 4,
 "nbformat_minor": 0
}