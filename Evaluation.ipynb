{
 "cells": [
  {
   "cell_type": "markdown",
   "source": [
    "# Evaluate the result of Experiments\n",
    "\n",
    "The aim of this script is to standardize the evaluation of several experiments."
   ],
   "metadata": {
    "collapsed": false,
    "pycharm": {
     "name": "#%% md\n"
    }
   }
  },
  {
   "cell_type": "code",
   "execution_count": 7,
   "metadata": {
    "collapsed": true,
    "pycharm": {
     "name": "#%%\n"
    }
   },
   "outputs": [],
   "source": [
    "import pickle\n",
    "from myLibrary import Experiment\n",
    "from myLibrary import DataProcessor as DP\n",
    "import os\n",
    "import ipywidgets as widgets\n",
    "import matplotlib.pyplot as plt\n",
    "from IPython.display import display\n",
    "import pandas as pd\n",
    "import numpy as np\n",
    "\n",
    "from sklearn.metrics import mean_squared_error, mean_absolute_error"
   ]
  },
  {
   "cell_type": "code",
   "execution_count": 2,
   "outputs": [
    {
     "data": {
      "text/plain": "Select(description='Reports:', options=('GOM_1_A_LSTM.pickle', '.DS_Store', 'GOM_2_A_LSTM.pickle', 'report_04.…",
      "application/vnd.jupyter.widget-view+json": {
       "version_major": 2,
       "version_minor": 0,
       "model_id": "9b60634f5c8d4d5b8a7464ec5a639c66"
      }
     },
     "metadata": {},
     "output_type": "display_data"
    }
   ],
   "source": [
    "report_directory = os.path.join(os.getcwd(), f'data/reports')\n",
    "\n",
    "def build_UI():\n",
    "    # Select Model-------------------------------------------------------------------------------\n",
    "    global report_widget\n",
    "    report_list = os.listdir(report_directory)\n",
    "    report_widget = widgets.Select(\n",
    "        options=report_list,\n",
    "        value=report_list[0],\n",
    "        rows=10,\n",
    "        description='Reports:',\n",
    "        disabled=False\n",
    "    )\n",
    "    display(report_widget)\n",
    "\n",
    "build_UI()"
   ],
   "metadata": {
    "collapsed": false,
    "pycharm": {
     "name": "#%%\n"
    }
   }
  },
  {
   "cell_type": "code",
   "execution_count": 3,
   "outputs": [
    {
     "name": "stdout",
     "output_type": "stream",
     "text": [
      "GOM_1_A_LSTM.pickle\n"
     ]
    }
   ],
   "source": [
    "filename = report_widget.value\n",
    "#filename = \"Most_basic_LSTM\"\n",
    "\n",
    "print(filename)\n",
    "# open the file for reading in binary mode\n",
    "report: Experiment\n",
    "with open(f'data/reports/{filename}', 'rb') as f:\n",
    "    # load the object from the file using pickle.load()\n",
    "    report = pickle.load(f)"
   ],
   "metadata": {
    "collapsed": false,
    "pycharm": {
     "name": "#%%\n"
    }
   }
  },
  {
   "cell_type": "code",
   "execution_count": 4,
   "outputs": [
    {
     "name": "stdout",
     "output_type": "stream",
     "text": [
      "Experiment: Gulf_of_Mexico_Dataset1_A_Test1\n",
      "Second real test: Dataset GOM_1A, LSTM_2\n",
      "---------------------------------------\n",
      "Stations: ['42012', '42040', '42039', '42036', '42019', '42020', '42002', '42001', '42003', '42055']\n",
      "Years: ['2020', '2021', '2022']\n",
      "NaN_Threshold: 0.66\n",
      "Features: ['WDIR', 'WSPD', 'WVHT', 'APD', 'MWD', 'PRES', 'ATMP', 'WTMP', 'DEWP']\n",
      "ERA5: True, Stationary Shift: 1, Test-Hours:24\n",
      "\n",
      "---------------------------------------\n",
      "Normalized: True\n",
      "\n",
      "---------------------------------------\n",
      "Internal Model name: lstm_2\n",
      "Model: \"sequential\"\n",
      "_________________________________________________________________\n",
      " Layer (type)                Output Shape              Param #   \n",
      "=================================================================\n",
      " lstm (LSTM)                 (None, 1, 128)            122368    \n",
      "                                                                 \n",
      " dropout (Dropout)           (None, 1, 128)            0         \n",
      "                                                                 \n",
      " lstm_1 (LSTM)               (None, 1, 64)             49408     \n",
      "                                                                 \n",
      " dropout_1 (Dropout)         (None, 1, 64)             0         \n",
      "                                                                 \n",
      " lstm_2 (LSTM)               (None, 1, 32)             12416     \n",
      "                                                                 \n",
      " dropout_2 (Dropout)         (None, 1, 32)             0         \n",
      "                                                                 \n",
      " lstm_3 (LSTM)               (None, 16)                3136      \n",
      "                                                                 \n",
      " dense (Dense)               (None, 110)               1870      \n",
      "                                                                 \n",
      "=================================================================\n",
      "Total params: 189,198\n",
      "Trainable params: 189,198\n",
      "Non-trainable params: 0\n",
      "_________________________________________________________________\n"
     ]
    }
   ],
   "source": [
    "report.print_settings()"
   ],
   "metadata": {
    "collapsed": false,
    "pycharm": {
     "name": "#%%\n"
    }
   }
  },
  {
   "cell_type": "code",
   "execution_count": 5,
   "outputs": [
    {
     "name": "stdout",
     "output_type": "stream",
     "text": [
      "One-Shot-Forecasting:\n",
      "MAE: 3.1747148056825005 \tMSE: 10.090366796052685\n",
      "\n",
      "Recurrent-Forecasting:\n",
      "MAE: 41.47709071696736 \tMSE: 2211.9543268901934\n"
     ]
    }
   ],
   "source": [
    "report.print_metrics()"
   ],
   "metadata": {
    "collapsed": false,
    "pycharm": {
     "name": "#%%\n"
    }
   }
  },
  {
   "cell_type": "code",
   "execution_count": 6,
   "outputs": [
    {
     "data": {
      "text/plain": "                     WDIR_42012  WSPD_42012  PRES_42012  ATMP_42012  \\\ntimestamp                                                             \n2022-12-31 00:00:00        25.0         8.0      1016.0        16.8   \n2022-12-31 01:00:00        69.0         9.0      1015.1        17.6   \n2022-12-31 02:00:00        90.0        11.5      1012.8        18.5   \n2022-12-31 03:00:00       109.0         8.8      1014.9        19.6   \n2022-12-31 04:00:00       103.0         9.7      1014.0        19.9   \n2022-12-31 05:00:00       119.0         6.9      1015.4        20.4   \n2022-12-31 06:00:00       124.0         8.7      1013.6        20.6   \n2022-12-31 07:00:00       129.0         6.2      1013.6        20.9   \n2022-12-31 08:00:00       148.0         4.0      1013.8        20.9   \n2022-12-31 09:00:00       179.0         8.3      1013.1        21.3   \n2022-12-31 10:00:00       186.0         8.0      1013.4        21.1   \n2022-12-31 11:00:00       199.0         6.3      1013.8        20.9   \n2022-12-31 12:00:00       231.0         7.7      1014.5        20.6   \n2022-12-31 13:00:00       254.0         7.5      1015.4        19.6   \n2022-12-31 14:00:00       264.0         6.5      1016.2        19.1   \n2022-12-31 15:00:00       266.0         4.2      1016.9        18.7   \n2022-12-31 16:00:00       261.0         4.2      1017.2        18.6   \n2022-12-31 17:00:00       287.0         4.0      1017.3        18.2   \n2022-12-31 18:00:00       289.0         2.2      1016.6        18.2   \n2022-12-31 19:00:00       234.0         1.4      1016.0        18.8   \n2022-12-31 20:00:00       190.0         2.5      1015.7        19.3   \n2022-12-31 21:00:00       213.0         3.2      1016.0        19.9   \n2022-12-31 22:00:00       207.0         2.2      1015.9        20.1   \n2022-12-31 23:00:00       201.0         3.1      1016.1        20.4   \n\n                     WTMP_42012  DEWP_42012  WDIR_42040  WSPD_42040  \\\ntimestamp                                                             \n2022-12-31 00:00:00        19.0        16.0        63.0         9.8   \n2022-12-31 01:00:00        19.3        16.9        83.0        10.4   \n2022-12-31 02:00:00        19.5        17.6        90.0        10.2   \n2022-12-31 03:00:00        19.6        18.2       103.0         7.5   \n2022-12-31 04:00:00        19.7        18.6       128.0         6.9   \n2022-12-31 05:00:00        19.9        18.8       146.0         6.8   \n2022-12-31 06:00:00        19.9        18.8       153.0         7.9   \n2022-12-31 07:00:00        20.0        19.3       168.0        10.2   \n2022-12-31 08:00:00        20.1        19.9       166.0        12.2   \n2022-12-31 09:00:00        20.2        18.8       181.0        10.9   \n2022-12-31 10:00:00        20.3        19.2       196.0         9.1   \n2022-12-31 11:00:00        20.3        19.1       208.0         8.4   \n2022-12-31 12:00:00        20.4        19.3       232.0         8.3   \n2022-12-31 13:00:00        20.4        18.4       278.0         4.8   \n2022-12-31 14:00:00        20.4        17.9       281.0         5.3   \n2022-12-31 15:00:00        20.4        17.8       262.0         3.1   \n2022-12-31 16:00:00        20.5        17.8       262.0         2.5   \n2022-12-31 17:00:00        20.5        17.5       262.0         0.7   \n2022-12-31 18:00:00        20.6        17.5       262.0         2.6   \n2022-12-31 19:00:00        20.6        17.6       262.0         2.7   \n2022-12-31 20:00:00        20.7        18.0       262.0         2.7   \n2022-12-31 21:00:00        20.9        18.3       262.0         1.9   \n2022-12-31 22:00:00        20.8        18.8       262.0         3.1   \n2022-12-31 23:00:00        20.8        19.2       262.0         2.4   \n\n                     PRES_42040  ATMP_42040  ...  ATMP_42002_ERA5_pred  \\\ntimestamp                                    ...                         \n2022-12-31 00:00:00      1015.9        17.9  ...             21.853135   \n2022-12-31 01:00:00      1014.3        19.1  ...             21.778176   \n2022-12-31 02:00:00      1014.7        19.9  ...             22.385355   \n2022-12-31 03:00:00      1015.6        20.7  ...             22.732914   \n2022-12-31 04:00:00      1015.3        21.3  ...             23.089590   \n2022-12-31 05:00:00      1015.1        22.0  ...             23.307369   \n2022-12-31 06:00:00      1014.5        22.2  ...             23.503033   \n2022-12-31 07:00:00      1014.4        22.0  ...             23.643728   \n2022-12-31 08:00:00      1013.2        21.9  ...             23.722376   \n2022-12-31 09:00:00      1013.6        21.8  ...             23.751762   \n2022-12-31 10:00:00      1014.2        22.1  ...             23.766246   \n2022-12-31 11:00:00      1014.7        21.9  ...             23.315990   \n2022-12-31 12:00:00      1015.4        21.8  ...             23.448789   \n2022-12-31 13:00:00      1016.7        20.4  ...             23.429311   \n2022-12-31 14:00:00      1017.6        20.2  ...             23.329519   \n2022-12-31 15:00:00      1017.7        20.3  ...             23.200956   \n2022-12-31 16:00:00      1018.3        20.3  ...             23.142203   \n2022-12-31 17:00:00      1017.8        20.6  ...             23.177889   \n2022-12-31 18:00:00      1017.4        21.2  ...             23.166737   \n2022-12-31 19:00:00      1016.6        21.6  ...             23.189869   \n2022-12-31 20:00:00      1016.3        21.5  ...             23.167775   \n2022-12-31 21:00:00      1016.4        21.6  ...             23.194907   \n2022-12-31 22:00:00      1016.6        21.5  ...             23.281520   \n2022-12-31 23:00:00      1016.9        21.3  ...             23.517538   \n\n                     DEWP_42002_ERA5_pred  WSPD_42003_ERA5_pred  \\\ntimestamp                                                         \n2022-12-31 00:00:00             18.220198             11.199724   \n2022-12-31 01:00:00             18.335676             11.182613   \n2022-12-31 02:00:00             18.235267             10.864647   \n2022-12-31 03:00:00             18.488611             10.635183   \n2022-12-31 04:00:00             18.677022             10.507045   \n2022-12-31 05:00:00             18.868438             10.777856   \n2022-12-31 06:00:00             18.983176             10.577621   \n2022-12-31 07:00:00             19.081561             10.220713   \n2022-12-31 08:00:00             19.141153             10.108910   \n2022-12-31 09:00:00             19.200538             10.075098   \n2022-12-31 10:00:00             19.205406              9.934432   \n2022-12-31 11:00:00             18.840625              7.289932   \n2022-12-31 12:00:00             18.676828              8.943980   \n2022-12-31 13:00:00             18.633110             10.236701   \n2022-12-31 14:00:00             18.683346             10.767384   \n2022-12-31 15:00:00             18.689572              9.402208   \n2022-12-31 16:00:00             18.598837              8.924984   \n2022-12-31 17:00:00             18.561296              9.317728   \n2022-12-31 18:00:00             18.560614              9.759063   \n2022-12-31 19:00:00             18.569379              9.535146   \n2022-12-31 20:00:00             18.606953              9.504358   \n2022-12-31 21:00:00             18.686811              8.919092   \n2022-12-31 22:00:00             18.799479              8.579795   \n2022-12-31 23:00:00             18.309688              7.204413   \n\n                     WSPD_42039_ERA5_pred  ATMP_42019_ERA5_pred  \\\ntimestamp                                                         \n2022-12-31 00:00:00              8.728648             17.915650   \n2022-12-31 01:00:00              8.316557             18.053600   \n2022-12-31 02:00:00              7.986839             18.124032   \n2022-12-31 03:00:00              8.515626             18.194223   \n2022-12-31 04:00:00              9.200081             18.088999   \n2022-12-31 05:00:00              8.163320             17.869359   \n2022-12-31 06:00:00              7.453105             17.737047   \n2022-12-31 07:00:00              6.955272             17.710764   \n2022-12-31 08:00:00              7.227498             17.728003   \n2022-12-31 09:00:00              7.786935             17.674743   \n2022-12-31 10:00:00              7.466406             17.595056   \n2022-12-31 11:00:00              5.313611             17.985922   \n2022-12-31 12:00:00              5.093829             18.168726   \n2022-12-31 13:00:00              5.928696             18.334672   \n2022-12-31 14:00:00              7.179890             18.571435   \n2022-12-31 15:00:00              7.914848             18.809991   \n2022-12-31 16:00:00              7.126874             19.016383   \n2022-12-31 17:00:00              6.363395             19.262369   \n2022-12-31 18:00:00              6.239781             19.468485   \n2022-12-31 19:00:00              6.620049             19.703312   \n2022-12-31 20:00:00              6.798518             19.890351   \n2022-12-31 21:00:00              5.929756             20.095265   \n2022-12-31 22:00:00              4.678441             20.303202   \n2022-12-31 23:00:00              1.473621             20.146737   \n\n                     ATMP_42020_ERA5_pred  PRES_42039_ERA5_pred  \\\ntimestamp                                                         \n2022-12-31 00:00:00             19.497552           1015.231582   \n2022-12-31 01:00:00             19.267019           1015.844222   \n2022-12-31 02:00:00             19.154045           1016.413507   \n2022-12-31 03:00:00             19.130144           1016.878609   \n2022-12-31 04:00:00             19.198353           1017.141019   \n2022-12-31 05:00:00             19.285880           1017.277265   \n2022-12-31 06:00:00             19.370102           1016.773133   \n2022-12-31 07:00:00             19.493125           1016.192146   \n2022-12-31 08:00:00             19.614546           1015.574073   \n2022-12-31 09:00:00             19.684000           1015.136447   \n2022-12-31 10:00:00             19.602833           1015.089500   \n2022-12-31 11:00:00             20.003515           1015.461932   \n2022-12-31 12:00:00             20.072206           1015.890183   \n2022-12-31 13:00:00             20.070360           1016.545898   \n2022-12-31 14:00:00             20.125281           1016.623375   \n2022-12-31 15:00:00             20.116549           1017.349691   \n2022-12-31 16:00:00             20.050166           1018.024178   \n2022-12-31 17:00:00             19.966185           1018.388821   \n2022-12-31 18:00:00             19.356038           1017.946359   \n2022-12-31 19:00:00             19.188643           1017.315025   \n2022-12-31 20:00:00             19.170003           1016.660924   \n2022-12-31 21:00:00             19.451860           1016.442401   \n2022-12-31 22:00:00             19.553105           1016.266444   \n2022-12-31 23:00:00             19.646956           1017.160632   \n\n                     WTMP_42019_ERA5_pred  WDIR_42003_ERA5_pred  \\\ntimestamp                                                         \n2022-12-31 00:00:00             22.109067            -28.019787   \n2022-12-31 01:00:00             22.109100             -8.577425   \n2022-12-31 02:00:00             22.109019            -23.842242   \n2022-12-31 03:00:00             22.109123            -27.906725   \n2022-12-31 04:00:00             22.109119            -34.342616   \n2022-12-31 05:00:00             22.109016            -44.338621   \n2022-12-31 06:00:00             22.108968            -62.871874   \n2022-12-31 07:00:00             22.108958            -54.082588   \n2022-12-31 08:00:00             22.108953            -61.249645   \n2022-12-31 09:00:00             22.108995            -65.252200   \n2022-12-31 10:00:00             22.108992            -73.586031   \n2022-12-31 11:00:00             22.109047            -40.476262   \n2022-12-31 12:00:00             22.109143            -44.112760   \n2022-12-31 13:00:00             22.109021            -57.485610   \n2022-12-31 14:00:00             22.109069            -85.039259   \n2022-12-31 15:00:00             22.109084            -81.930720   \n2022-12-31 16:00:00             22.109099            -57.914541   \n2022-12-31 17:00:00             22.109139            -54.938911   \n2022-12-31 18:00:00             22.108966            -79.619998   \n2022-12-31 19:00:00             22.108906           -108.058705   \n2022-12-31 20:00:00             22.108935           -100.364998   \n2022-12-31 21:00:00             22.108911           -101.753631   \n2022-12-31 22:00:00             22.108963           -120.232053   \n2022-12-31 23:00:00             22.277368            220.872750   \n\n                     WTMP_42055_ERA5_pred  \ntimestamp                                  \n2022-12-31 00:00:00             24.902557  \n2022-12-31 01:00:00             24.902582  \n2022-12-31 02:00:00             24.902576  \n2022-12-31 03:00:00             24.902586  \n2022-12-31 04:00:00             24.902568  \n2022-12-31 05:00:00             24.902579  \n2022-12-31 06:00:00             24.902550  \n2022-12-31 07:00:00             24.902562  \n2022-12-31 08:00:00             24.902550  \n2022-12-31 09:00:00             24.902553  \n2022-12-31 10:00:00             24.902562  \n2022-12-31 11:00:00             24.902622  \n2022-12-31 12:00:00             24.902584  \n2022-12-31 13:00:00             24.902604  \n2022-12-31 14:00:00             24.902575  \n2022-12-31 15:00:00             24.902580  \n2022-12-31 16:00:00             24.902582  \n2022-12-31 17:00:00             24.902572  \n2022-12-31 18:00:00             24.902569  \n2022-12-31 19:00:00             24.902532  \n2022-12-31 20:00:00             24.902543  \n2022-12-31 21:00:00             24.902560  \n2022-12-31 22:00:00             24.902552  \n2022-12-31 23:00:00             24.884245  \n\n[24 rows x 220 columns]",
      "text/html": "<div>\n<style scoped>\n    .dataframe tbody tr th:only-of-type {\n        vertical-align: middle;\n    }\n\n    .dataframe tbody tr th {\n        vertical-align: top;\n    }\n\n    .dataframe thead th {\n        text-align: right;\n    }\n</style>\n<table border=\"1\" class=\"dataframe\">\n  <thead>\n    <tr style=\"text-align: right;\">\n      <th></th>\n      <th>WDIR_42012</th>\n      <th>WSPD_42012</th>\n      <th>PRES_42012</th>\n      <th>ATMP_42012</th>\n      <th>WTMP_42012</th>\n      <th>DEWP_42012</th>\n      <th>WDIR_42040</th>\n      <th>WSPD_42040</th>\n      <th>PRES_42040</th>\n      <th>ATMP_42040</th>\n      <th>...</th>\n      <th>ATMP_42002_ERA5_pred</th>\n      <th>DEWP_42002_ERA5_pred</th>\n      <th>WSPD_42003_ERA5_pred</th>\n      <th>WSPD_42039_ERA5_pred</th>\n      <th>ATMP_42019_ERA5_pred</th>\n      <th>ATMP_42020_ERA5_pred</th>\n      <th>PRES_42039_ERA5_pred</th>\n      <th>WTMP_42019_ERA5_pred</th>\n      <th>WDIR_42003_ERA5_pred</th>\n      <th>WTMP_42055_ERA5_pred</th>\n    </tr>\n    <tr>\n      <th>timestamp</th>\n      <th></th>\n      <th></th>\n      <th></th>\n      <th></th>\n      <th></th>\n      <th></th>\n      <th></th>\n      <th></th>\n      <th></th>\n      <th></th>\n      <th></th>\n      <th></th>\n      <th></th>\n      <th></th>\n      <th></th>\n      <th></th>\n      <th></th>\n      <th></th>\n      <th></th>\n      <th></th>\n      <th></th>\n    </tr>\n  </thead>\n  <tbody>\n    <tr>\n      <th>2022-12-31 00:00:00</th>\n      <td>25.0</td>\n      <td>8.0</td>\n      <td>1016.0</td>\n      <td>16.8</td>\n      <td>19.0</td>\n      <td>16.0</td>\n      <td>63.0</td>\n      <td>9.8</td>\n      <td>1015.9</td>\n      <td>17.9</td>\n      <td>...</td>\n      <td>21.853135</td>\n      <td>18.220198</td>\n      <td>11.199724</td>\n      <td>8.728648</td>\n      <td>17.915650</td>\n      <td>19.497552</td>\n      <td>1015.231582</td>\n      <td>22.109067</td>\n      <td>-28.019787</td>\n      <td>24.902557</td>\n    </tr>\n    <tr>\n      <th>2022-12-31 01:00:00</th>\n      <td>69.0</td>\n      <td>9.0</td>\n      <td>1015.1</td>\n      <td>17.6</td>\n      <td>19.3</td>\n      <td>16.9</td>\n      <td>83.0</td>\n      <td>10.4</td>\n      <td>1014.3</td>\n      <td>19.1</td>\n      <td>...</td>\n      <td>21.778176</td>\n      <td>18.335676</td>\n      <td>11.182613</td>\n      <td>8.316557</td>\n      <td>18.053600</td>\n      <td>19.267019</td>\n      <td>1015.844222</td>\n      <td>22.109100</td>\n      <td>-8.577425</td>\n      <td>24.902582</td>\n    </tr>\n    <tr>\n      <th>2022-12-31 02:00:00</th>\n      <td>90.0</td>\n      <td>11.5</td>\n      <td>1012.8</td>\n      <td>18.5</td>\n      <td>19.5</td>\n      <td>17.6</td>\n      <td>90.0</td>\n      <td>10.2</td>\n      <td>1014.7</td>\n      <td>19.9</td>\n      <td>...</td>\n      <td>22.385355</td>\n      <td>18.235267</td>\n      <td>10.864647</td>\n      <td>7.986839</td>\n      <td>18.124032</td>\n      <td>19.154045</td>\n      <td>1016.413507</td>\n      <td>22.109019</td>\n      <td>-23.842242</td>\n      <td>24.902576</td>\n    </tr>\n    <tr>\n      <th>2022-12-31 03:00:00</th>\n      <td>109.0</td>\n      <td>8.8</td>\n      <td>1014.9</td>\n      <td>19.6</td>\n      <td>19.6</td>\n      <td>18.2</td>\n      <td>103.0</td>\n      <td>7.5</td>\n      <td>1015.6</td>\n      <td>20.7</td>\n      <td>...</td>\n      <td>22.732914</td>\n      <td>18.488611</td>\n      <td>10.635183</td>\n      <td>8.515626</td>\n      <td>18.194223</td>\n      <td>19.130144</td>\n      <td>1016.878609</td>\n      <td>22.109123</td>\n      <td>-27.906725</td>\n      <td>24.902586</td>\n    </tr>\n    <tr>\n      <th>2022-12-31 04:00:00</th>\n      <td>103.0</td>\n      <td>9.7</td>\n      <td>1014.0</td>\n      <td>19.9</td>\n      <td>19.7</td>\n      <td>18.6</td>\n      <td>128.0</td>\n      <td>6.9</td>\n      <td>1015.3</td>\n      <td>21.3</td>\n      <td>...</td>\n      <td>23.089590</td>\n      <td>18.677022</td>\n      <td>10.507045</td>\n      <td>9.200081</td>\n      <td>18.088999</td>\n      <td>19.198353</td>\n      <td>1017.141019</td>\n      <td>22.109119</td>\n      <td>-34.342616</td>\n      <td>24.902568</td>\n    </tr>\n    <tr>\n      <th>2022-12-31 05:00:00</th>\n      <td>119.0</td>\n      <td>6.9</td>\n      <td>1015.4</td>\n      <td>20.4</td>\n      <td>19.9</td>\n      <td>18.8</td>\n      <td>146.0</td>\n      <td>6.8</td>\n      <td>1015.1</td>\n      <td>22.0</td>\n      <td>...</td>\n      <td>23.307369</td>\n      <td>18.868438</td>\n      <td>10.777856</td>\n      <td>8.163320</td>\n      <td>17.869359</td>\n      <td>19.285880</td>\n      <td>1017.277265</td>\n      <td>22.109016</td>\n      <td>-44.338621</td>\n      <td>24.902579</td>\n    </tr>\n    <tr>\n      <th>2022-12-31 06:00:00</th>\n      <td>124.0</td>\n      <td>8.7</td>\n      <td>1013.6</td>\n      <td>20.6</td>\n      <td>19.9</td>\n      <td>18.8</td>\n      <td>153.0</td>\n      <td>7.9</td>\n      <td>1014.5</td>\n      <td>22.2</td>\n      <td>...</td>\n      <td>23.503033</td>\n      <td>18.983176</td>\n      <td>10.577621</td>\n      <td>7.453105</td>\n      <td>17.737047</td>\n      <td>19.370102</td>\n      <td>1016.773133</td>\n      <td>22.108968</td>\n      <td>-62.871874</td>\n      <td>24.902550</td>\n    </tr>\n    <tr>\n      <th>2022-12-31 07:00:00</th>\n      <td>129.0</td>\n      <td>6.2</td>\n      <td>1013.6</td>\n      <td>20.9</td>\n      <td>20.0</td>\n      <td>19.3</td>\n      <td>168.0</td>\n      <td>10.2</td>\n      <td>1014.4</td>\n      <td>22.0</td>\n      <td>...</td>\n      <td>23.643728</td>\n      <td>19.081561</td>\n      <td>10.220713</td>\n      <td>6.955272</td>\n      <td>17.710764</td>\n      <td>19.493125</td>\n      <td>1016.192146</td>\n      <td>22.108958</td>\n      <td>-54.082588</td>\n      <td>24.902562</td>\n    </tr>\n    <tr>\n      <th>2022-12-31 08:00:00</th>\n      <td>148.0</td>\n      <td>4.0</td>\n      <td>1013.8</td>\n      <td>20.9</td>\n      <td>20.1</td>\n      <td>19.9</td>\n      <td>166.0</td>\n      <td>12.2</td>\n      <td>1013.2</td>\n      <td>21.9</td>\n      <td>...</td>\n      <td>23.722376</td>\n      <td>19.141153</td>\n      <td>10.108910</td>\n      <td>7.227498</td>\n      <td>17.728003</td>\n      <td>19.614546</td>\n      <td>1015.574073</td>\n      <td>22.108953</td>\n      <td>-61.249645</td>\n      <td>24.902550</td>\n    </tr>\n    <tr>\n      <th>2022-12-31 09:00:00</th>\n      <td>179.0</td>\n      <td>8.3</td>\n      <td>1013.1</td>\n      <td>21.3</td>\n      <td>20.2</td>\n      <td>18.8</td>\n      <td>181.0</td>\n      <td>10.9</td>\n      <td>1013.6</td>\n      <td>21.8</td>\n      <td>...</td>\n      <td>23.751762</td>\n      <td>19.200538</td>\n      <td>10.075098</td>\n      <td>7.786935</td>\n      <td>17.674743</td>\n      <td>19.684000</td>\n      <td>1015.136447</td>\n      <td>22.108995</td>\n      <td>-65.252200</td>\n      <td>24.902553</td>\n    </tr>\n    <tr>\n      <th>2022-12-31 10:00:00</th>\n      <td>186.0</td>\n      <td>8.0</td>\n      <td>1013.4</td>\n      <td>21.1</td>\n      <td>20.3</td>\n      <td>19.2</td>\n      <td>196.0</td>\n      <td>9.1</td>\n      <td>1014.2</td>\n      <td>22.1</td>\n      <td>...</td>\n      <td>23.766246</td>\n      <td>19.205406</td>\n      <td>9.934432</td>\n      <td>7.466406</td>\n      <td>17.595056</td>\n      <td>19.602833</td>\n      <td>1015.089500</td>\n      <td>22.108992</td>\n      <td>-73.586031</td>\n      <td>24.902562</td>\n    </tr>\n    <tr>\n      <th>2022-12-31 11:00:00</th>\n      <td>199.0</td>\n      <td>6.3</td>\n      <td>1013.8</td>\n      <td>20.9</td>\n      <td>20.3</td>\n      <td>19.1</td>\n      <td>208.0</td>\n      <td>8.4</td>\n      <td>1014.7</td>\n      <td>21.9</td>\n      <td>...</td>\n      <td>23.315990</td>\n      <td>18.840625</td>\n      <td>7.289932</td>\n      <td>5.313611</td>\n      <td>17.985922</td>\n      <td>20.003515</td>\n      <td>1015.461932</td>\n      <td>22.109047</td>\n      <td>-40.476262</td>\n      <td>24.902622</td>\n    </tr>\n    <tr>\n      <th>2022-12-31 12:00:00</th>\n      <td>231.0</td>\n      <td>7.7</td>\n      <td>1014.5</td>\n      <td>20.6</td>\n      <td>20.4</td>\n      <td>19.3</td>\n      <td>232.0</td>\n      <td>8.3</td>\n      <td>1015.4</td>\n      <td>21.8</td>\n      <td>...</td>\n      <td>23.448789</td>\n      <td>18.676828</td>\n      <td>8.943980</td>\n      <td>5.093829</td>\n      <td>18.168726</td>\n      <td>20.072206</td>\n      <td>1015.890183</td>\n      <td>22.109143</td>\n      <td>-44.112760</td>\n      <td>24.902584</td>\n    </tr>\n    <tr>\n      <th>2022-12-31 13:00:00</th>\n      <td>254.0</td>\n      <td>7.5</td>\n      <td>1015.4</td>\n      <td>19.6</td>\n      <td>20.4</td>\n      <td>18.4</td>\n      <td>278.0</td>\n      <td>4.8</td>\n      <td>1016.7</td>\n      <td>20.4</td>\n      <td>...</td>\n      <td>23.429311</td>\n      <td>18.633110</td>\n      <td>10.236701</td>\n      <td>5.928696</td>\n      <td>18.334672</td>\n      <td>20.070360</td>\n      <td>1016.545898</td>\n      <td>22.109021</td>\n      <td>-57.485610</td>\n      <td>24.902604</td>\n    </tr>\n    <tr>\n      <th>2022-12-31 14:00:00</th>\n      <td>264.0</td>\n      <td>6.5</td>\n      <td>1016.2</td>\n      <td>19.1</td>\n      <td>20.4</td>\n      <td>17.9</td>\n      <td>281.0</td>\n      <td>5.3</td>\n      <td>1017.6</td>\n      <td>20.2</td>\n      <td>...</td>\n      <td>23.329519</td>\n      <td>18.683346</td>\n      <td>10.767384</td>\n      <td>7.179890</td>\n      <td>18.571435</td>\n      <td>20.125281</td>\n      <td>1016.623375</td>\n      <td>22.109069</td>\n      <td>-85.039259</td>\n      <td>24.902575</td>\n    </tr>\n    <tr>\n      <th>2022-12-31 15:00:00</th>\n      <td>266.0</td>\n      <td>4.2</td>\n      <td>1016.9</td>\n      <td>18.7</td>\n      <td>20.4</td>\n      <td>17.8</td>\n      <td>262.0</td>\n      <td>3.1</td>\n      <td>1017.7</td>\n      <td>20.3</td>\n      <td>...</td>\n      <td>23.200956</td>\n      <td>18.689572</td>\n      <td>9.402208</td>\n      <td>7.914848</td>\n      <td>18.809991</td>\n      <td>20.116549</td>\n      <td>1017.349691</td>\n      <td>22.109084</td>\n      <td>-81.930720</td>\n      <td>24.902580</td>\n    </tr>\n    <tr>\n      <th>2022-12-31 16:00:00</th>\n      <td>261.0</td>\n      <td>4.2</td>\n      <td>1017.2</td>\n      <td>18.6</td>\n      <td>20.5</td>\n      <td>17.8</td>\n      <td>262.0</td>\n      <td>2.5</td>\n      <td>1018.3</td>\n      <td>20.3</td>\n      <td>...</td>\n      <td>23.142203</td>\n      <td>18.598837</td>\n      <td>8.924984</td>\n      <td>7.126874</td>\n      <td>19.016383</td>\n      <td>20.050166</td>\n      <td>1018.024178</td>\n      <td>22.109099</td>\n      <td>-57.914541</td>\n      <td>24.902582</td>\n    </tr>\n    <tr>\n      <th>2022-12-31 17:00:00</th>\n      <td>287.0</td>\n      <td>4.0</td>\n      <td>1017.3</td>\n      <td>18.2</td>\n      <td>20.5</td>\n      <td>17.5</td>\n      <td>262.0</td>\n      <td>0.7</td>\n      <td>1017.8</td>\n      <td>20.6</td>\n      <td>...</td>\n      <td>23.177889</td>\n      <td>18.561296</td>\n      <td>9.317728</td>\n      <td>6.363395</td>\n      <td>19.262369</td>\n      <td>19.966185</td>\n      <td>1018.388821</td>\n      <td>22.109139</td>\n      <td>-54.938911</td>\n      <td>24.902572</td>\n    </tr>\n    <tr>\n      <th>2022-12-31 18:00:00</th>\n      <td>289.0</td>\n      <td>2.2</td>\n      <td>1016.6</td>\n      <td>18.2</td>\n      <td>20.6</td>\n      <td>17.5</td>\n      <td>262.0</td>\n      <td>2.6</td>\n      <td>1017.4</td>\n      <td>21.2</td>\n      <td>...</td>\n      <td>23.166737</td>\n      <td>18.560614</td>\n      <td>9.759063</td>\n      <td>6.239781</td>\n      <td>19.468485</td>\n      <td>19.356038</td>\n      <td>1017.946359</td>\n      <td>22.108966</td>\n      <td>-79.619998</td>\n      <td>24.902569</td>\n    </tr>\n    <tr>\n      <th>2022-12-31 19:00:00</th>\n      <td>234.0</td>\n      <td>1.4</td>\n      <td>1016.0</td>\n      <td>18.8</td>\n      <td>20.6</td>\n      <td>17.6</td>\n      <td>262.0</td>\n      <td>2.7</td>\n      <td>1016.6</td>\n      <td>21.6</td>\n      <td>...</td>\n      <td>23.189869</td>\n      <td>18.569379</td>\n      <td>9.535146</td>\n      <td>6.620049</td>\n      <td>19.703312</td>\n      <td>19.188643</td>\n      <td>1017.315025</td>\n      <td>22.108906</td>\n      <td>-108.058705</td>\n      <td>24.902532</td>\n    </tr>\n    <tr>\n      <th>2022-12-31 20:00:00</th>\n      <td>190.0</td>\n      <td>2.5</td>\n      <td>1015.7</td>\n      <td>19.3</td>\n      <td>20.7</td>\n      <td>18.0</td>\n      <td>262.0</td>\n      <td>2.7</td>\n      <td>1016.3</td>\n      <td>21.5</td>\n      <td>...</td>\n      <td>23.167775</td>\n      <td>18.606953</td>\n      <td>9.504358</td>\n      <td>6.798518</td>\n      <td>19.890351</td>\n      <td>19.170003</td>\n      <td>1016.660924</td>\n      <td>22.108935</td>\n      <td>-100.364998</td>\n      <td>24.902543</td>\n    </tr>\n    <tr>\n      <th>2022-12-31 21:00:00</th>\n      <td>213.0</td>\n      <td>3.2</td>\n      <td>1016.0</td>\n      <td>19.9</td>\n      <td>20.9</td>\n      <td>18.3</td>\n      <td>262.0</td>\n      <td>1.9</td>\n      <td>1016.4</td>\n      <td>21.6</td>\n      <td>...</td>\n      <td>23.194907</td>\n      <td>18.686811</td>\n      <td>8.919092</td>\n      <td>5.929756</td>\n      <td>20.095265</td>\n      <td>19.451860</td>\n      <td>1016.442401</td>\n      <td>22.108911</td>\n      <td>-101.753631</td>\n      <td>24.902560</td>\n    </tr>\n    <tr>\n      <th>2022-12-31 22:00:00</th>\n      <td>207.0</td>\n      <td>2.2</td>\n      <td>1015.9</td>\n      <td>20.1</td>\n      <td>20.8</td>\n      <td>18.8</td>\n      <td>262.0</td>\n      <td>3.1</td>\n      <td>1016.6</td>\n      <td>21.5</td>\n      <td>...</td>\n      <td>23.281520</td>\n      <td>18.799479</td>\n      <td>8.579795</td>\n      <td>4.678441</td>\n      <td>20.303202</td>\n      <td>19.553105</td>\n      <td>1016.266444</td>\n      <td>22.108963</td>\n      <td>-120.232053</td>\n      <td>24.902552</td>\n    </tr>\n    <tr>\n      <th>2022-12-31 23:00:00</th>\n      <td>201.0</td>\n      <td>3.1</td>\n      <td>1016.1</td>\n      <td>20.4</td>\n      <td>20.8</td>\n      <td>19.2</td>\n      <td>262.0</td>\n      <td>2.4</td>\n      <td>1016.9</td>\n      <td>21.3</td>\n      <td>...</td>\n      <td>23.517538</td>\n      <td>18.309688</td>\n      <td>7.204413</td>\n      <td>1.473621</td>\n      <td>20.146737</td>\n      <td>19.646956</td>\n      <td>1017.160632</td>\n      <td>22.277368</td>\n      <td>220.872750</td>\n      <td>24.884245</td>\n    </tr>\n  </tbody>\n</table>\n<p>24 rows × 220 columns</p>\n</div>"
     },
     "execution_count": 6,
     "metadata": {},
     "output_type": "execute_result"
    }
   ],
   "source": [
    "report.one_shot_forecast"
   ],
   "metadata": {
    "collapsed": false,
    "pycharm": {
     "name": "#%%\n"
    }
   }
  },
  {
   "cell_type": "code",
   "execution_count": 62,
   "outputs": [
    {
     "data": {
      "text/plain": "Index(['WDIR_42001', 'WSPD_42001', 'PRES_42001', 'ATMP_42001', 'WTMP_42001',\n       'DEWP_42001', 'WDIR_42002', 'WSPD_42002', 'PRES_42002', 'ATMP_42002',\n       ...\n       'WDIR_42039_ERA5_pred', 'WSPD_42039_ERA5_pred', 'ATMP_42039_ERA5_pred',\n       'WSPD_42035_ERA5_pred', 'WSPD_42001_ERA5_pred', 'DEWP_42020_ERA5_pred',\n       'ATMP_42019_ERA5_pred', 'WTMP_42039_ERA5_pred', 'WSPD_42002_ERA5_pred',\n       'PRES_42039_ERA5_pred'],\n      dtype='object', length=208)"
     },
     "execution_count": 62,
     "metadata": {},
     "output_type": "execute_result"
    }
   ],
   "source": [
    "report.one_shot_forecast.columns"
   ],
   "metadata": {
    "collapsed": false,
    "pycharm": {
     "name": "#%%\n"
    }
   }
  },
  {
   "cell_type": "code",
   "execution_count": 63,
   "outputs": [],
   "source": [
    "# DOES NOT HANDLE WIND DIRECTION OVERFLOW !!\n",
    "\n",
    "# def create_charts(df, title):\n",
    "#     base_features = set()\n",
    "#\n",
    "#     for column in df.columns:\n",
    "#         base_feature = column.replace('_pred', '')\n",
    "#         base_features.add(base_feature)\n",
    "#\n",
    "#     for base_feature in base_features:\n",
    "#\n",
    "#         pred_feature = f'{base_feature}_pred'\n",
    "#\n",
    "#         plt.figure(figsize=(10, 6))\n",
    "#         plt.plot(df.index, df[base_feature], label=base_feature, color='#1f77b4')\n",
    "#         plt.plot(df.index, df[pred_feature], label=pred_feature, color='#2ca02c')\n",
    "#\n",
    "#         plt.xlabel('Time')\n",
    "#         plt.ylabel(base_feature)\n",
    "#         plt.title(f'{title}')\n",
    "#         plt.legend()\n",
    "#         plt.show()\n",
    "#\n",
    "#         # Calc Metrics\n",
    "#         mae = mean_absolute_error(df[base_feature], df[pred_feature])\n",
    "#         mse = mean_squared_error(df[base_feature], df[pred_feature])\n",
    "#         print(f\"\\t\\tMAE: {mae} \\tMSE: {mse}\\n\\n\")"
   ],
   "metadata": {
    "collapsed": false,
    "pycharm": {
     "name": "#%%\n"
    }
   }
  },
  {
   "cell_type": "code",
   "execution_count": 64,
   "outputs": [],
   "source": [
    "#title =  f\"One-Shot-Forecast of: {filename.replace('.pickle','')}\"\n",
    "#create_charts(report.one_shot_forecast, title)"
   ],
   "metadata": {
    "collapsed": false,
    "pycharm": {
     "name": "#%%\n"
    }
   }
  },
  {
   "cell_type": "code",
   "execution_count": 65,
   "outputs": [],
   "source": [
    "import matplotlib.backends.backend_pdf as pdf_backend\n",
    "import matplotlib.pyplot as plt\n",
    "from sklearn.metrics import mean_absolute_error, mean_squared_error\n",
    "\n",
    "def create_charts_to_pdf(df, title, metadata, filename):\n",
    "    base_features = set()\n",
    "\n",
    "    for column in df.columns:\n",
    "        base_feature = column.replace('_pred', '')\n",
    "        base_features.add(base_feature)\n",
    "\n",
    "    with pdf_backend.PdfPages(filename) as pdf:\n",
    "        # Add metadata to the beginning of the PDF\n",
    "        fig = plt.figure(figsize=(6, 10))\n",
    "        plt.title('Test Metadata')\n",
    "        plt.figtext(0.5, 0.05, metadata, ha='center', fontsize=8)\n",
    "        #plt.figtext(0.1, 0.9, metadata)  # Adjust the coordinates as needed\n",
    "        plt.axis('off')\n",
    "        pdf.savefig(fig)\n",
    "        plt.close(fig)\n",
    "\n",
    "        MAE = {}\n",
    "        MSE = {}\n",
    "        for base_feature in base_features:\n",
    "            pred_feature = f'{base_feature}_pred'\n",
    "\n",
    "            fig = plt.figure(figsize=(10, 6))\n",
    "            plt.plot(df.index, df[base_feature], label=base_feature, color='#1f77b4')\n",
    "            plt.plot(df.index, df[pred_feature], label=pred_feature, color='#2ca02c')\n",
    "\n",
    "            plt.xlabel('Time')\n",
    "            plt.ylabel(base_feature)\n",
    "            plt.title(f'{title}')\n",
    "            plt.legend()\n",
    "\n",
    "            # Calculate metrics\n",
    "            if base_feature.startswith(\"WDIR\"):\n",
    "                mae = DP.mean_absolute_error_WDIR(df[base_feature], df[pred_feature])\n",
    "                mse = DP.mean_square_error_WDIR(df[base_feature], df[pred_feature])\n",
    "            else:\n",
    "                mae = mean_absolute_error(df[base_feature], df[pred_feature])\n",
    "                mse = mean_squared_error(df[base_feature], df[pred_feature])\n",
    "            MAE[base_feature] = mae.round(3)\n",
    "            MSE[base_feature] = mse.round(3)\n",
    "\n",
    "            # Add metrics to the current page of the PDF\n",
    "            fig.text(0.01, 0.02, f\"MAE: {mae.round(3)}\\nMSE: {mse.round(3)}\")  # Adjust the coordinates as needed\n",
    "            pdf.savefig(fig)\n",
    "            plt.close(fig)\n",
    "\n",
    "        return MAE, MSE"
   ],
   "metadata": {
    "collapsed": false,
    "pycharm": {
     "name": "#%%\n"
    }
   }
  },
  {
   "cell_type": "code",
   "execution_count": 65,
   "outputs": [],
   "source": [],
   "metadata": {
    "collapsed": false,
    "pycharm": {
     "name": "#%%\n"
    }
   }
  },
  {
   "cell_type": "markdown",
   "source": [
    "## Create Dict for report files:"
   ],
   "metadata": {
    "collapsed": false,
    "pycharm": {
     "name": "#%% md\n"
    }
   }
  },
  {
   "cell_type": "code",
   "execution_count": 66,
   "outputs": [],
   "source": [
    "filename = f\"{filename.replace('.pickle','')}\"\n",
    "directory = f\"data/evaluation/{filename}\"\n",
    "if not os.path.exists(directory):\n",
    "    os.makedirs(directory)  # Create the directory"
   ],
   "metadata": {
    "collapsed": false,
    "pycharm": {
     "name": "#%%\n"
    }
   }
  },
  {
   "cell_type": "markdown",
   "source": [
    "# Create PDF File"
   ],
   "metadata": {
    "collapsed": false,
    "pycharm": {
     "name": "#%% md\n"
    }
   }
  },
  {
   "cell_type": "code",
   "execution_count": 67,
   "outputs": [
    {
     "name": "stdout",
     "output_type": "stream",
     "text": [
      "saved:  data/evaluation/report_05\n"
     ]
    }
   ],
   "source": [
    "title =  f\"One-Shot-Forecast of: {filename.replace('.pickle','')}\"\n",
    "MAE_dict, MSE_dict = create_charts_to_pdf(report.one_shot_forecast, title, report.get_settings_string(), f\"{directory}/{filename}_charts.pdf\")\n",
    "print(\"saved: \", directory)"
   ],
   "metadata": {
    "collapsed": false,
    "pycharm": {
     "name": "#%%\n"
    }
   }
  },
  {
   "cell_type": "code",
   "execution_count": 68,
   "outputs": [],
   "source": [
    "def create_error_table(dictionary):\n",
    "    # Extract unique measurements and station IDs\n",
    "    measurements = set()\n",
    "    station_ids = set()\n",
    "    for key in dictionary.keys():\n",
    "        measurement, station_id, *_ = key.split('_')\n",
    "        measurements.add(measurement)\n",
    "        station_ids.add(station_id)\n",
    "\n",
    "    # Create empty table\n",
    "    table = pd.DataFrame(index=sorted(station_ids), columns=sorted(measurements))\n",
    "\n",
    "    # Fill table with dictionary values\n",
    "    for key, value in dictionary.items():\n",
    "        measurement, station_id, *_ = key.split('_')\n",
    "        if key.endswith('ERA5'):\n",
    "            measurement += '_ERA5'\n",
    "        table.loc[station_id, measurement] = value\n",
    "\n",
    "    # Replace missing values with NaN\n",
    "    table = table.fillna(np.nan)\n",
    "\n",
    "    return table"
   ],
   "metadata": {
    "collapsed": false,
    "pycharm": {
     "name": "#%%\n"
    }
   }
  },
  {
   "cell_type": "markdown",
   "source": [
    "## Create MAE CSV File:"
   ],
   "metadata": {
    "collapsed": false,
    "pycharm": {
     "name": "#%% md\n"
    }
   }
  },
  {
   "cell_type": "code",
   "execution_count": 69,
   "outputs": [],
   "source": [
    "MAE_df = create_error_table(MAE_dict)\n",
    "MAE_df.to_csv(f\"{directory}/{filename}_MAE.csv\")"
   ],
   "metadata": {
    "collapsed": false,
    "pycharm": {
     "name": "#%%\n"
    }
   }
  },
  {
   "cell_type": "markdown",
   "source": [
    "## Create MSE CSV File:"
   ],
   "metadata": {
    "collapsed": false,
    "pycharm": {
     "name": "#%% md\n"
    }
   }
  },
  {
   "cell_type": "code",
   "execution_count": 70,
   "outputs": [],
   "source": [
    "MSE_df = create_error_table(MSE_dict)\n",
    "MSE_df.to_csv(f\"{directory}/{filename}_MSE.csv\")"
   ],
   "metadata": {
    "collapsed": false,
    "pycharm": {
     "name": "#%%\n"
    }
   }
  },
  {
   "cell_type": "code",
   "execution_count": null,
   "outputs": [],
   "source": [],
   "metadata": {
    "collapsed": false,
    "pycharm": {
     "name": "#%%\n"
    }
   }
  }
 ],
 "metadata": {
  "kernelspec": {
   "display_name": "Python 3",
   "language": "python",
   "name": "python3"
  },
  "language_info": {
   "codemirror_mode": {
    "name": "ipython",
    "version": 2
   },
   "file_extension": ".py",
   "mimetype": "text/x-python",
   "name": "python",
   "nbconvert_exporter": "python",
   "pygments_lexer": "ipython2",
   "version": "2.7.6"
  }
 },
 "nbformat": 4,
 "nbformat_minor": 0
}