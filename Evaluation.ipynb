{
 "cells": [
  {
   "cell_type": "markdown",
   "source": [
    "# Not sure if this file is up to date - for operational usage go to Evaluation_Automation.ipynb !!"
   ],
   "metadata": {
    "collapsed": false,
    "pycharm": {
     "name": "#%% md\n"
    }
   }
  },
  {
   "cell_type": "markdown",
   "source": [
    "# Evaluate the result of Experiments\n",
    "\n",
    "The aim of this script is to standardize the evaluation of several experiments."
   ],
   "metadata": {
    "collapsed": false,
    "pycharm": {
     "name": "#%% md\n"
    }
   }
  },
  {
   "cell_type": "code",
   "execution_count": 25,
   "metadata": {
    "collapsed": true,
    "pycharm": {
     "name": "#%%\n"
    }
   },
   "outputs": [],
   "source": [
    "import pickle\n",
    "from myLibrary import Experiment\n",
    "from myLibrary import DataProcessor as DP\n",
    "import os\n",
    "import ipywidgets as widgets\n",
    "import matplotlib.pyplot as plt\n",
    "from IPython.display import display\n",
    "import pandas as pd\n",
    "import numpy as np\n",
    "\n",
    "from sklearn.metrics import mean_squared_error, mean_absolute_error"
   ]
  },
  {
   "cell_type": "code",
   "execution_count": 26,
   "outputs": [
    {
     "data": {
      "text/plain": "Select(description='Reports:', options=('report_A_TCN_0.4.pickle', 'report_B_CNN_0.2.pickle', 'report_A_TCN_0.…",
      "application/vnd.jupyter.widget-view+json": {
       "version_major": 2,
       "version_minor": 0,
       "model_id": "a42f0bc5b67f46d698df2efdf2b35b91"
      }
     },
     "metadata": {},
     "output_type": "display_data"
    }
   ],
   "source": [
    "report_directory = os.path.join(os.getcwd(), f'data/reports')\n",
    "\n",
    "def build_UI():\n",
    "    # Select Model-------------------------------------------------------------------------------\n",
    "    global report_widget\n",
    "    report_list = os.listdir(report_directory)\n",
    "    report_widget = widgets.Select(\n",
    "        options=report_list,\n",
    "        value=report_list[0],\n",
    "        rows=10,\n",
    "        description='Reports:',\n",
    "        disabled=False\n",
    "    )\n",
    "    display(report_widget)\n",
    "\n",
    "build_UI()"
   ],
   "metadata": {
    "collapsed": false,
    "pycharm": {
     "name": "#%%\n"
    }
   }
  },
  {
   "cell_type": "code",
   "execution_count": 4,
   "outputs": [
    {
     "name": "stdout",
     "output_type": "stream",
     "text": [
      "report_B_LSTM_0.0.pickle\n"
     ]
    }
   ],
   "source": [
    "filename = report_widget.value\n",
    "filename = \"report_B_LSTM_0.0.pickle\"\n",
    "\n",
    "print(filename)\n",
    "# open the file for reading in binary mode\n",
    "report: Experiment\n",
    "with open(f'data/reports/{filename}', 'rb') as f:\n",
    "    # load the object from the file using pickle.load()\n",
    "    report = pickle.load(f)"
   ],
   "metadata": {
    "collapsed": false,
    "pycharm": {
     "name": "#%%\n"
    }
   }
  },
  {
   "cell_type": "code",
   "execution_count": 5,
   "outputs": [
    {
     "name": "stdout",
     "output_type": "stream",
     "text": [
      "Experiment: report_B_LSTM_0.0\n",
      "Executed with automated script. Corrected wind direction. excluded scaling.\n",
      "---------------------------------------\n",
      "Stations: [['42001', '2002'], ['42002', '2002'], ['42003', '2002'], ['42007', '2002'], ['42012', '2002'], ['42019', '2002'], ['42020', '2002'], ['42035', '2002'], ['42036', '2002'], ['42038', '2002'], ['42039', '2002'], ['42040', '2002'], ['42041', '2002'], ['42055', '2002'], ['42001', '2003'], ['42002', '2003'], ['42003', '2003'], ['42007', '2003'], ['42012', '2003'], ['42019', '2003'], ['42020', '2003'], ['42035', '2003'], ['42036', '2003'], ['42038', '2003'], ['42039', '2003'], ['42040', '2003'], ['42041', '2003'], ['42055', '2003'], ['42001', '2004'], ['42002', '2004'], ['42003', '2004'], ['42007', '2004'], ['42012', '2004'], ['42019', '2004'], ['42020', '2004'], ['42035', '2004'], ['42036', '2004'], ['42038', '2004'], ['42039', '2004'], ['42040', '2004'], ['42041', '2004'], ['42055', '2004'], ['42001', '2005'], ['42002', '2005'], ['42003', '2005'], ['42007', '2005'], ['42012', '2005'], ['42019', '2005'], ['42020', '2005'], ['42035', '2005'], ['42036', '2005'], ['42038', '2005'], ['42039', '2005'], ['42040', '2005'], ['42041', '2005'], ['42055', '2005'], ['42001', '2006'], ['42002', '2006'], ['42003', '2006'], ['42007', '2006'], ['42012', '2006'], ['42019', '2006'], ['42020', '2006'], ['42035', '2006'], ['42036', '2006'], ['42038', '2006'], ['42039', '2006'], ['42040', '2006'], ['42041', '2006'], ['42055', '2006'], ['42001', '2007'], ['42002', '2007'], ['42003', '2007'], ['42007', '2007'], ['42012', '2007'], ['42019', '2007'], ['42020', '2007'], ['42035', '2007'], ['42036', '2007'], ['42038', '2007'], ['42039', '2007'], ['42040', '2007'], ['42041', '2007'], ['42055', '2007'], ['42001', '2008'], ['42002', '2008'], ['42003', '2008'], ['42007', '2008'], ['42012', '2008'], ['42019', '2008'], ['42020', '2008'], ['42035', '2008'], ['42036', '2008'], ['42038', '2008'], ['42039', '2008'], ['42040', '2008'], ['42041', '2008'], ['42055', '2008'], ['42001', '2009'], ['42002', '2009'], ['42003', '2009'], ['42007', '2009'], ['42012', '2009'], ['42019', '2009'], ['42020', '2009'], ['42035', '2009'], ['42036', '2009'], ['42038', '2009'], ['42039', '2009'], ['42040', '2009'], ['42041', '2009'], ['42055', '2009'], ['42001', '2010'], ['42002', '2010'], ['42003', '2010'], ['42007', '2010'], ['42012', '2010'], ['42019', '2010'], ['42020', '2010'], ['42035', '2010'], ['42036', '2010'], ['42038', '2010'], ['42039', '2010'], ['42040', '2010'], ['42041', '2010'], ['42055', '2010'], ['42001', '2011'], ['42002', '2011'], ['42003', '2011'], ['42007', '2011'], ['42012', '2011'], ['42019', '2011'], ['42020', '2011'], ['42035', '2011'], ['42036', '2011'], ['42038', '2011'], ['42039', '2011'], ['42040', '2011'], ['42041', '2011'], ['42055', '2011'], ['42001', '2012'], ['42002', '2012'], ['42003', '2012'], ['42007', '2012'], ['42012', '2012'], ['42019', '2012'], ['42020', '2012'], ['42035', '2012'], ['42036', '2012'], ['42038', '2012'], ['42039', '2012'], ['42040', '2012'], ['42041', '2012'], ['42055', '2012'], ['42001', '2013'], ['42002', '2013'], ['42003', '2013'], ['42007', '2013'], ['42012', '2013'], ['42019', '2013'], ['42020', '2013'], ['42035', '2013'], ['42036', '2013'], ['42038', '2013'], ['42039', '2013'], ['42040', '2013'], ['42041', '2013'], ['42055', '2013'], ['42001', '2014'], ['42002', '2014'], ['42003', '2014'], ['42007', '2014'], ['42012', '2014'], ['42019', '2014'], ['42020', '2014'], ['42035', '2014'], ['42036', '2014'], ['42038', '2014'], ['42039', '2014'], ['42040', '2014'], ['42041', '2014'], ['42055', '2014'], ['42001', '2015'], ['42002', '2015'], ['42003', '2015'], ['42007', '2015'], ['42012', '2015'], ['42019', '2015'], ['42020', '2015'], ['42035', '2015'], ['42036', '2015'], ['42038', '2015'], ['42039', '2015'], ['42040', '2015'], ['42041', '2015'], ['42055', '2015'], ['42001', '2016'], ['42002', '2016'], ['42003', '2016'], ['42007', '2016'], ['42012', '2016'], ['42019', '2016'], ['42020', '2016'], ['42035', '2016'], ['42036', '2016'], ['42038', '2016'], ['42039', '2016'], ['42040', '2016'], ['42041', '2016'], ['42055', '2016'], ['42001', '2017'], ['42002', '2017'], ['42003', '2017'], ['42007', '2017'], ['42012', '2017'], ['42019', '2017'], ['42020', '2017'], ['42035', '2017'], ['42036', '2017'], ['42038', '2017'], ['42039', '2017'], ['42040', '2017'], ['42041', '2017'], ['42055', '2017'], ['42001', '2018'], ['42002', '2018'], ['42003', '2018'], ['42007', '2018'], ['42012', '2018'], ['42019', '2018'], ['42020', '2018'], ['42035', '2018'], ['42036', '2018'], ['42038', '2018'], ['42039', '2018'], ['42040', '2018'], ['42041', '2018'], ['42055', '2018'], ['42001', '2019'], ['42002', '2019'], ['42003', '2019'], ['42007', '2019'], ['42012', '2019'], ['42019', '2019'], ['42020', '2019'], ['42035', '2019'], ['42036', '2019'], ['42038', '2019'], ['42039', '2019'], ['42040', '2019'], ['42041', '2019'], ['42055', '2019'], ['42001', '2020'], ['42002', '2020'], ['42003', '2020'], ['42007', '2020'], ['42012', '2020'], ['42019', '2020'], ['42020', '2020'], ['42035', '2020'], ['42036', '2020'], ['42038', '2020'], ['42039', '2020'], ['42040', '2020'], ['42041', '2020'], ['42055', '2020'], ['42001', '2021'], ['42002', '2021'], ['42003', '2021'], ['42007', '2021'], ['42012', '2021'], ['42019', '2021'], ['42020', '2021'], ['42035', '2021'], ['42036', '2021'], ['42038', '2021'], ['42039', '2021'], ['42040', '2021'], ['42041', '2021'], ['42055', '2021'], ['42001', '2022'], ['42002', '2022'], ['42003', '2022'], ['42007', '2022'], ['42012', '2022'], ['42019', '2022'], ['42020', '2022'], ['42035', '2022'], ['42036', '2022'], ['42038', '2022'], ['42039', '2022'], ['42040', '2022'], ['42041', '2022'], ['42055', '2022']]\n",
      "Years: ['not available']\n",
      "NaN_Threshold: 0.66\n",
      "Features: ['WSPD', 'PRES', 'WDIR']\n",
      "ERA5: True, Stationary Shift: 1, Test-Hours:27\n",
      "\n",
      "---------------------------------------\n",
      "Normalized: False\n",
      "\n",
      "---------------------------------------\n",
      "Internal Model name: LSTM\n",
      "Model: \"sequential\"\n",
      "_________________________________________________________________\n",
      " Layer (type)                Output Shape              Param #   \n",
      "=================================================================\n",
      " lstm (LSTM)                 (None, 3, 128)            69120     \n",
      "                                                                 \n",
      " dropout (Dropout)           (None, 3, 128)            0         \n",
      "                                                                 \n",
      " lstm_1 (LSTM)               (None, 3, 64)             49408     \n",
      "                                                                 \n",
      " dropout_1 (Dropout)         (None, 3, 64)             0         \n",
      "                                                                 \n",
      " lstm_2 (LSTM)               (None, 3, 32)             12416     \n",
      "                                                                 \n",
      " dropout_2 (Dropout)         (None, 3, 32)             0         \n",
      "                                                                 \n",
      " lstm_3 (LSTM)               (None, 16)                3136      \n",
      "                                                                 \n",
      " dense (Dense)               (None, 6)                 102       \n",
      "                                                                 \n",
      "=================================================================\n",
      "Total params: 134,182\n",
      "Trainable params: 134,182\n",
      "Non-trainable params: 0\n",
      "_________________________________________________________________\n"
     ]
    }
   ],
   "source": [
    "report.print_settings()"
   ],
   "metadata": {
    "collapsed": false,
    "pycharm": {
     "name": "#%%\n"
    }
   }
  },
  {
   "cell_type": "code",
   "execution_count": 7,
   "outputs": [
    {
     "name": "stdout",
     "output_type": "stream",
     "text": [
      "One-Shot-Forecasting:\n"
     ]
    },
    {
     "ename": "AttributeError",
     "evalue": "'Experiment' object has no attribute 'one_shot_forecast_MAE'",
     "output_type": "error",
     "traceback": [
      "\u001B[0;31m---------------------------------------------------------------------------\u001B[0m",
      "\u001B[0;31mAttributeError\u001B[0m                            Traceback (most recent call last)",
      "Cell \u001B[0;32mIn[7], line 1\u001B[0m\n\u001B[0;32m----> 1\u001B[0m \u001B[43mreport\u001B[49m\u001B[38;5;241;43m.\u001B[39;49m\u001B[43mprint_metrics\u001B[49m\u001B[43m(\u001B[49m\u001B[43m)\u001B[49m\n",
      "File \u001B[0;32m~/Library/Mobile Documents/com~apple~CloudDocs/Uni/WS22/Master Thesis/Master_Project/myLibrary.py:1350\u001B[0m, in \u001B[0;36mExperiment.print_metrics\u001B[0;34m(self)\u001B[0m\n\u001B[1;32m   1348\u001B[0m \u001B[38;5;28;01mdef\u001B[39;00m \u001B[38;5;21mprint_metrics\u001B[39m(\u001B[38;5;28mself\u001B[39m):\n\u001B[1;32m   1349\u001B[0m     \u001B[38;5;28mprint\u001B[39m(\u001B[38;5;124m\"\u001B[39m\u001B[38;5;124mOne-Shot-Forecasting:\u001B[39m\u001B[38;5;124m\"\u001B[39m)\n\u001B[0;32m-> 1350\u001B[0m     \u001B[38;5;28mprint\u001B[39m(\u001B[38;5;124mf\u001B[39m\u001B[38;5;124m\"\u001B[39m\u001B[38;5;124mMAE: \u001B[39m\u001B[38;5;132;01m{\u001B[39;00m\u001B[38;5;28mself\u001B[39m\u001B[38;5;241m.\u001B[39mone_shot_forecast_MAE\u001B[38;5;132;01m}\u001B[39;00m\u001B[38;5;124m \u001B[39m\u001B[38;5;130;01m\\t\u001B[39;00m\u001B[38;5;124mMSE: \u001B[39m\u001B[38;5;132;01m{\u001B[39;00m\u001B[38;5;28mself\u001B[39m\u001B[38;5;241m.\u001B[39mone_shot_forecast_MSE\u001B[38;5;132;01m}\u001B[39;00m\u001B[38;5;124m\"\u001B[39m)\n\u001B[1;32m   1351\u001B[0m     \u001B[38;5;28mprint\u001B[39m(\u001B[38;5;124m\"\u001B[39m\u001B[38;5;130;01m\\n\u001B[39;00m\u001B[38;5;124mRecurrent-Forecasting:\u001B[39m\u001B[38;5;124m\"\u001B[39m)\n\u001B[1;32m   1352\u001B[0m     \u001B[38;5;28mprint\u001B[39m(\u001B[38;5;124mf\u001B[39m\u001B[38;5;124m\"\u001B[39m\u001B[38;5;124mMAE: \u001B[39m\u001B[38;5;132;01m{\u001B[39;00m\u001B[38;5;28mself\u001B[39m\u001B[38;5;241m.\u001B[39mrecursive_forecast_MAE\u001B[38;5;132;01m}\u001B[39;00m\u001B[38;5;124m \u001B[39m\u001B[38;5;130;01m\\t\u001B[39;00m\u001B[38;5;124mMSE: \u001B[39m\u001B[38;5;132;01m{\u001B[39;00m\u001B[38;5;28mself\u001B[39m\u001B[38;5;241m.\u001B[39mrecursive_forecast_MSE\u001B[38;5;132;01m}\u001B[39;00m\u001B[38;5;124m\"\u001B[39m)\n",
      "\u001B[0;31mAttributeError\u001B[0m: 'Experiment' object has no attribute 'one_shot_forecast_MAE'"
     ]
    }
   ],
   "source": [
    "report.print_metrics()"
   ],
   "metadata": {
    "collapsed": false,
    "pycharm": {
     "name": "#%%\n"
    }
   }
  },
  {
   "cell_type": "code",
   "execution_count": 8,
   "outputs": [
    {
     "data": {
      "text/plain": "                     WDIR(t)  WSPD(t)  PRES(t)  WSPD_ERA5(t)  WDIR_ERA5(t)  \\\ntimestamp                                                                    \n2022-12-31 00:00:00    189.0      5.0   1013.5      5.057694     66.884523   \n2022-12-31 01:00:00    203.0      5.6   1013.8      5.587926     67.669663   \n2022-12-31 02:00:00    169.0      2.3   1014.5      5.840792     72.227735   \n2022-12-31 03:00:00     53.0      6.0   1014.8      6.463279     69.389256   \n2022-12-31 04:00:00     55.0      8.5   1015.2      6.500897     61.461657   \n2022-12-31 05:00:00     72.0      7.6   1014.9      6.541557     53.576686   \n2022-12-31 06:00:00     77.0      7.2   1014.4      6.465415     56.308269   \n2022-12-31 07:00:00     97.0      7.8   1014.1      6.487022     61.932861   \n2022-12-31 08:00:00    148.0      3.3   1013.9      6.690521     65.444207   \n2022-12-31 09:00:00    195.0      5.4   1014.0      6.661433     60.655439   \n2022-12-31 10:00:00    223.0      5.1   1014.4      4.087878     44.785787   \n2022-12-31 11:00:00     18.0      3.3   1015.0      3.082339     46.984747   \n2022-12-31 12:00:00    115.0      2.1   1014.9      2.253867     41.578548   \n2022-12-31 13:00:00     31.0      0.9   1015.4      1.868949     45.624845   \n2022-12-31 14:00:00     97.0      0.8   1015.9      2.137407     61.040945   \n2022-12-31 15:00:00    113.0      1.9   1016.6      2.001684     69.936360   \n2022-12-31 16:00:00    124.0      0.8   1017.1      1.689902     57.291839   \n2022-12-31 17:00:00    107.0      1.1   1016.6      1.136156     27.849093   \n2022-12-31 18:00:00    147.0      1.1   1015.9      0.956942      4.265350   \n2022-12-31 19:00:00    195.0      0.5   1015.0      0.601025    331.707817   \n2022-12-31 20:00:00    210.0      1.0   1015.0      0.979714    213.539484   \n2022-12-31 21:00:00    231.0      0.6   1014.7      2.067327    185.761738   \n2022-12-31 22:00:00     18.0      0.7   1014.9      1.554299    186.942913   \n2022-12-31 23:00:00     68.0      1.6   1015.0      2.206784    152.648150   \n\n                     PRES_ERA5(t)  WDIR(t)_pred  WSPD(t)_pred  PRES(t)_pred  \\\ntimestamp                                                                     \n2022-12-31 00:00:00   1014.403047    185.014419      5.915817   1012.911468   \n2022-12-31 01:00:00   1015.191389    189.075807      5.109995   1013.535423   \n2022-12-31 02:00:00   1015.804887    202.959396      5.559896   1013.764762   \n2022-12-31 03:00:00   1016.208879    168.823513      2.119316   1014.356596   \n2022-12-31 04:00:00   1016.314402     52.869581      5.882169   1014.691908   \n2022-12-31 05:00:00   1016.235452     55.041642      8.547254   1015.230407   \n2022-12-31 06:00:00   1015.708607     72.080682      7.686770   1014.946647   \n2022-12-31 07:00:00   1015.506803     76.842770      7.040751   1014.270666   \n2022-12-31 08:00:00   1015.204484     96.821666      7.615020   1013.955395   \n2022-12-31 09:00:00   1015.499486    147.815373      3.109166   1013.750363   \n2022-12-31 10:00:00   1015.262637    194.937300      5.331626   1013.949345   \n2022-12-31 11:00:00   1015.781780    223.350263      5.618384   1014.317842   \n2022-12-31 12:00:00   1016.172677     17.993649      3.316990   1014.875388   \n2022-12-31 13:00:00   1016.523137    114.916327      2.012304   1014.832144   \n2022-12-31 14:00:00   1017.198254     30.799282      0.722721   1015.232157   \n2022-12-31 15:00:00   1017.826386     96.793964      0.600069   1015.731138   \n2022-12-31 16:00:00   1018.226912    112.750723      1.664855   1016.394591   \n2022-12-31 17:00:00   1018.087498    123.918696      0.716722   1017.023459   \n2022-12-31 18:00:00   1017.561423    106.966102      1.066812   1016.570758   \n2022-12-31 19:00:00   1016.724556    147.298290      1.526413   1015.997891   \n2022-12-31 20:00:00   1016.415689    194.743086      0.296113   1014.779888   \n2022-12-31 21:00:00   1015.928896    209.938459      0.934061   1014.938674   \n2022-12-31 22:00:00   1016.562420    231.402077      1.213448   1014.499570   \n2022-12-31 23:00:00   1016.741116     17.811746      0.530682   1014.692633   \n\n                     WSPD_ERA5(t)_pred  WDIR_ERA5(t)_pred  PRES_ERA5(t)_pred  \ntimestamp                                                                     \n2022-12-31 00:00:00           9.000735          75.807080        1013.904543  \n2022-12-31 01:00:00          13.087475          66.863956        1014.466151  \n2022-12-31 02:00:00           7.459972          67.636539        1015.214375  \n2022-12-31 03:00:00           2.406487          72.230293        1015.765888  \n2022-12-31 04:00:00           3.947549          69.401016        1016.199813  \n2022-12-31 05:00:00          11.267347          61.416232        1016.374910  \n2022-12-31 06:00:00          12.732419          53.527454        1016.311805  \n2022-12-31 07:00:00           3.492268          56.310925        1015.679412  \n2022-12-31 08:00:00           3.093647          61.932858        1015.465590  \n2022-12-31 09:00:00           3.091148          65.445692        1015.160705  \n2022-12-31 10:00:00           7.837935          60.622326        1015.509620  \n2022-12-31 11:00:00          37.586379          44.888149        1015.341237  \n2022-12-31 12:00:00           5.952331          47.023270        1015.807635  \n2022-12-31 13:00:00           2.488012          41.554077        1016.174579  \n2022-12-31 14:00:00          -4.336800          45.676612        1016.489601  \n2022-12-31 15:00:00          -2.943201          61.065092        1017.152097  \n2022-12-31 16:00:00          -5.533321          69.987992        1017.766241  \n2022-12-31 17:00:00           2.101048          57.269989        1018.228360  \n2022-12-31 18:00:00           3.576847          27.816207        1018.109960  \n2022-12-31 19:00:00          23.816109           4.326820        1017.680657  \n2022-12-31 20:00:00         -10.393605         331.830112        1016.684017  \n2022-12-31 21:00:00           2.623934         213.510681        1016.422243  \n2022-12-31 22:00:00          45.204839         185.936876        1015.953350  \n2022-12-31 23:00:00          -3.973139         187.012846        1016.522509  ",
      "text/html": "<div>\n<style scoped>\n    .dataframe tbody tr th:only-of-type {\n        vertical-align: middle;\n    }\n\n    .dataframe tbody tr th {\n        vertical-align: top;\n    }\n\n    .dataframe thead th {\n        text-align: right;\n    }\n</style>\n<table border=\"1\" class=\"dataframe\">\n  <thead>\n    <tr style=\"text-align: right;\">\n      <th></th>\n      <th>WDIR(t)</th>\n      <th>WSPD(t)</th>\n      <th>PRES(t)</th>\n      <th>WSPD_ERA5(t)</th>\n      <th>WDIR_ERA5(t)</th>\n      <th>PRES_ERA5(t)</th>\n      <th>WDIR(t)_pred</th>\n      <th>WSPD(t)_pred</th>\n      <th>PRES(t)_pred</th>\n      <th>WSPD_ERA5(t)_pred</th>\n      <th>WDIR_ERA5(t)_pred</th>\n      <th>PRES_ERA5(t)_pred</th>\n    </tr>\n    <tr>\n      <th>timestamp</th>\n      <th></th>\n      <th></th>\n      <th></th>\n      <th></th>\n      <th></th>\n      <th></th>\n      <th></th>\n      <th></th>\n      <th></th>\n      <th></th>\n      <th></th>\n      <th></th>\n    </tr>\n  </thead>\n  <tbody>\n    <tr>\n      <th>2022-12-31 00:00:00</th>\n      <td>189.0</td>\n      <td>5.0</td>\n      <td>1013.5</td>\n      <td>5.057694</td>\n      <td>66.884523</td>\n      <td>1014.403047</td>\n      <td>185.014419</td>\n      <td>5.915817</td>\n      <td>1012.911468</td>\n      <td>9.000735</td>\n      <td>75.807080</td>\n      <td>1013.904543</td>\n    </tr>\n    <tr>\n      <th>2022-12-31 01:00:00</th>\n      <td>203.0</td>\n      <td>5.6</td>\n      <td>1013.8</td>\n      <td>5.587926</td>\n      <td>67.669663</td>\n      <td>1015.191389</td>\n      <td>189.075807</td>\n      <td>5.109995</td>\n      <td>1013.535423</td>\n      <td>13.087475</td>\n      <td>66.863956</td>\n      <td>1014.466151</td>\n    </tr>\n    <tr>\n      <th>2022-12-31 02:00:00</th>\n      <td>169.0</td>\n      <td>2.3</td>\n      <td>1014.5</td>\n      <td>5.840792</td>\n      <td>72.227735</td>\n      <td>1015.804887</td>\n      <td>202.959396</td>\n      <td>5.559896</td>\n      <td>1013.764762</td>\n      <td>7.459972</td>\n      <td>67.636539</td>\n      <td>1015.214375</td>\n    </tr>\n    <tr>\n      <th>2022-12-31 03:00:00</th>\n      <td>53.0</td>\n      <td>6.0</td>\n      <td>1014.8</td>\n      <td>6.463279</td>\n      <td>69.389256</td>\n      <td>1016.208879</td>\n      <td>168.823513</td>\n      <td>2.119316</td>\n      <td>1014.356596</td>\n      <td>2.406487</td>\n      <td>72.230293</td>\n      <td>1015.765888</td>\n    </tr>\n    <tr>\n      <th>2022-12-31 04:00:00</th>\n      <td>55.0</td>\n      <td>8.5</td>\n      <td>1015.2</td>\n      <td>6.500897</td>\n      <td>61.461657</td>\n      <td>1016.314402</td>\n      <td>52.869581</td>\n      <td>5.882169</td>\n      <td>1014.691908</td>\n      <td>3.947549</td>\n      <td>69.401016</td>\n      <td>1016.199813</td>\n    </tr>\n    <tr>\n      <th>2022-12-31 05:00:00</th>\n      <td>72.0</td>\n      <td>7.6</td>\n      <td>1014.9</td>\n      <td>6.541557</td>\n      <td>53.576686</td>\n      <td>1016.235452</td>\n      <td>55.041642</td>\n      <td>8.547254</td>\n      <td>1015.230407</td>\n      <td>11.267347</td>\n      <td>61.416232</td>\n      <td>1016.374910</td>\n    </tr>\n    <tr>\n      <th>2022-12-31 06:00:00</th>\n      <td>77.0</td>\n      <td>7.2</td>\n      <td>1014.4</td>\n      <td>6.465415</td>\n      <td>56.308269</td>\n      <td>1015.708607</td>\n      <td>72.080682</td>\n      <td>7.686770</td>\n      <td>1014.946647</td>\n      <td>12.732419</td>\n      <td>53.527454</td>\n      <td>1016.311805</td>\n    </tr>\n    <tr>\n      <th>2022-12-31 07:00:00</th>\n      <td>97.0</td>\n      <td>7.8</td>\n      <td>1014.1</td>\n      <td>6.487022</td>\n      <td>61.932861</td>\n      <td>1015.506803</td>\n      <td>76.842770</td>\n      <td>7.040751</td>\n      <td>1014.270666</td>\n      <td>3.492268</td>\n      <td>56.310925</td>\n      <td>1015.679412</td>\n    </tr>\n    <tr>\n      <th>2022-12-31 08:00:00</th>\n      <td>148.0</td>\n      <td>3.3</td>\n      <td>1013.9</td>\n      <td>6.690521</td>\n      <td>65.444207</td>\n      <td>1015.204484</td>\n      <td>96.821666</td>\n      <td>7.615020</td>\n      <td>1013.955395</td>\n      <td>3.093647</td>\n      <td>61.932858</td>\n      <td>1015.465590</td>\n    </tr>\n    <tr>\n      <th>2022-12-31 09:00:00</th>\n      <td>195.0</td>\n      <td>5.4</td>\n      <td>1014.0</td>\n      <td>6.661433</td>\n      <td>60.655439</td>\n      <td>1015.499486</td>\n      <td>147.815373</td>\n      <td>3.109166</td>\n      <td>1013.750363</td>\n      <td>3.091148</td>\n      <td>65.445692</td>\n      <td>1015.160705</td>\n    </tr>\n    <tr>\n      <th>2022-12-31 10:00:00</th>\n      <td>223.0</td>\n      <td>5.1</td>\n      <td>1014.4</td>\n      <td>4.087878</td>\n      <td>44.785787</td>\n      <td>1015.262637</td>\n      <td>194.937300</td>\n      <td>5.331626</td>\n      <td>1013.949345</td>\n      <td>7.837935</td>\n      <td>60.622326</td>\n      <td>1015.509620</td>\n    </tr>\n    <tr>\n      <th>2022-12-31 11:00:00</th>\n      <td>18.0</td>\n      <td>3.3</td>\n      <td>1015.0</td>\n      <td>3.082339</td>\n      <td>46.984747</td>\n      <td>1015.781780</td>\n      <td>223.350263</td>\n      <td>5.618384</td>\n      <td>1014.317842</td>\n      <td>37.586379</td>\n      <td>44.888149</td>\n      <td>1015.341237</td>\n    </tr>\n    <tr>\n      <th>2022-12-31 12:00:00</th>\n      <td>115.0</td>\n      <td>2.1</td>\n      <td>1014.9</td>\n      <td>2.253867</td>\n      <td>41.578548</td>\n      <td>1016.172677</td>\n      <td>17.993649</td>\n      <td>3.316990</td>\n      <td>1014.875388</td>\n      <td>5.952331</td>\n      <td>47.023270</td>\n      <td>1015.807635</td>\n    </tr>\n    <tr>\n      <th>2022-12-31 13:00:00</th>\n      <td>31.0</td>\n      <td>0.9</td>\n      <td>1015.4</td>\n      <td>1.868949</td>\n      <td>45.624845</td>\n      <td>1016.523137</td>\n      <td>114.916327</td>\n      <td>2.012304</td>\n      <td>1014.832144</td>\n      <td>2.488012</td>\n      <td>41.554077</td>\n      <td>1016.174579</td>\n    </tr>\n    <tr>\n      <th>2022-12-31 14:00:00</th>\n      <td>97.0</td>\n      <td>0.8</td>\n      <td>1015.9</td>\n      <td>2.137407</td>\n      <td>61.040945</td>\n      <td>1017.198254</td>\n      <td>30.799282</td>\n      <td>0.722721</td>\n      <td>1015.232157</td>\n      <td>-4.336800</td>\n      <td>45.676612</td>\n      <td>1016.489601</td>\n    </tr>\n    <tr>\n      <th>2022-12-31 15:00:00</th>\n      <td>113.0</td>\n      <td>1.9</td>\n      <td>1016.6</td>\n      <td>2.001684</td>\n      <td>69.936360</td>\n      <td>1017.826386</td>\n      <td>96.793964</td>\n      <td>0.600069</td>\n      <td>1015.731138</td>\n      <td>-2.943201</td>\n      <td>61.065092</td>\n      <td>1017.152097</td>\n    </tr>\n    <tr>\n      <th>2022-12-31 16:00:00</th>\n      <td>124.0</td>\n      <td>0.8</td>\n      <td>1017.1</td>\n      <td>1.689902</td>\n      <td>57.291839</td>\n      <td>1018.226912</td>\n      <td>112.750723</td>\n      <td>1.664855</td>\n      <td>1016.394591</td>\n      <td>-5.533321</td>\n      <td>69.987992</td>\n      <td>1017.766241</td>\n    </tr>\n    <tr>\n      <th>2022-12-31 17:00:00</th>\n      <td>107.0</td>\n      <td>1.1</td>\n      <td>1016.6</td>\n      <td>1.136156</td>\n      <td>27.849093</td>\n      <td>1018.087498</td>\n      <td>123.918696</td>\n      <td>0.716722</td>\n      <td>1017.023459</td>\n      <td>2.101048</td>\n      <td>57.269989</td>\n      <td>1018.228360</td>\n    </tr>\n    <tr>\n      <th>2022-12-31 18:00:00</th>\n      <td>147.0</td>\n      <td>1.1</td>\n      <td>1015.9</td>\n      <td>0.956942</td>\n      <td>4.265350</td>\n      <td>1017.561423</td>\n      <td>106.966102</td>\n      <td>1.066812</td>\n      <td>1016.570758</td>\n      <td>3.576847</td>\n      <td>27.816207</td>\n      <td>1018.109960</td>\n    </tr>\n    <tr>\n      <th>2022-12-31 19:00:00</th>\n      <td>195.0</td>\n      <td>0.5</td>\n      <td>1015.0</td>\n      <td>0.601025</td>\n      <td>331.707817</td>\n      <td>1016.724556</td>\n      <td>147.298290</td>\n      <td>1.526413</td>\n      <td>1015.997891</td>\n      <td>23.816109</td>\n      <td>4.326820</td>\n      <td>1017.680657</td>\n    </tr>\n    <tr>\n      <th>2022-12-31 20:00:00</th>\n      <td>210.0</td>\n      <td>1.0</td>\n      <td>1015.0</td>\n      <td>0.979714</td>\n      <td>213.539484</td>\n      <td>1016.415689</td>\n      <td>194.743086</td>\n      <td>0.296113</td>\n      <td>1014.779888</td>\n      <td>-10.393605</td>\n      <td>331.830112</td>\n      <td>1016.684017</td>\n    </tr>\n    <tr>\n      <th>2022-12-31 21:00:00</th>\n      <td>231.0</td>\n      <td>0.6</td>\n      <td>1014.7</td>\n      <td>2.067327</td>\n      <td>185.761738</td>\n      <td>1015.928896</td>\n      <td>209.938459</td>\n      <td>0.934061</td>\n      <td>1014.938674</td>\n      <td>2.623934</td>\n      <td>213.510681</td>\n      <td>1016.422243</td>\n    </tr>\n    <tr>\n      <th>2022-12-31 22:00:00</th>\n      <td>18.0</td>\n      <td>0.7</td>\n      <td>1014.9</td>\n      <td>1.554299</td>\n      <td>186.942913</td>\n      <td>1016.562420</td>\n      <td>231.402077</td>\n      <td>1.213448</td>\n      <td>1014.499570</td>\n      <td>45.204839</td>\n      <td>185.936876</td>\n      <td>1015.953350</td>\n    </tr>\n    <tr>\n      <th>2022-12-31 23:00:00</th>\n      <td>68.0</td>\n      <td>1.6</td>\n      <td>1015.0</td>\n      <td>2.206784</td>\n      <td>152.648150</td>\n      <td>1016.741116</td>\n      <td>17.811746</td>\n      <td>0.530682</td>\n      <td>1014.692633</td>\n      <td>-3.973139</td>\n      <td>187.012846</td>\n      <td>1016.522509</td>\n    </tr>\n  </tbody>\n</table>\n</div>"
     },
     "execution_count": 8,
     "metadata": {},
     "output_type": "execute_result"
    }
   ],
   "source": [
    "report.one_shot_forecast"
   ],
   "metadata": {
    "collapsed": false,
    "pycharm": {
     "name": "#%%\n"
    }
   }
  },
  {
   "cell_type": "code",
   "execution_count": 9,
   "outputs": [
    {
     "data": {
      "text/plain": "Index(['WDIR(t)', 'WSPD(t)', 'PRES(t)', 'WSPD_ERA5(t)', 'WDIR_ERA5(t)',\n       'PRES_ERA5(t)', 'WDIR(t)_pred', 'WSPD(t)_pred', 'PRES(t)_pred',\n       'WSPD_ERA5(t)_pred', 'WDIR_ERA5(t)_pred', 'PRES_ERA5(t)_pred'],\n      dtype='object')"
     },
     "execution_count": 9,
     "metadata": {},
     "output_type": "execute_result"
    }
   ],
   "source": [
    "report.one_shot_forecast.columns"
   ],
   "metadata": {
    "collapsed": false,
    "pycharm": {
     "name": "#%%\n"
    }
   }
  },
  {
   "cell_type": "code",
   "execution_count": 12,
   "outputs": [],
   "source": [
    "import matplotlib.backends.backend_pdf as pdf_backend\n",
    "import matplotlib.pyplot as plt\n",
    "from sklearn.metrics import mean_absolute_error, mean_squared_error\n",
    "\n",
    "def create_charts_to_pdf(df, title, metadata, filename):\n",
    "    base_features = set()\n",
    "\n",
    "    for column in df.columns:\n",
    "        base_feature = column.replace('_pred', '')\n",
    "        base_features.add(base_feature)\n",
    "\n",
    "    with pdf_backend.PdfPages(filename) as pdf:\n",
    "        # Add metadata to the beginning of the PDF\n",
    "        fig = plt.figure(figsize=(6, 10))\n",
    "        plt.title('Test Metadata')\n",
    "        plt.figtext(0.5, 0.05, metadata, ha='center', fontsize=8)\n",
    "        #plt.figtext(0.1, 0.9, metadata)  # Adjust the coordinates as needed\n",
    "        plt.axis('off')\n",
    "        pdf.savefig(fig)\n",
    "        plt.close(fig)\n",
    "\n",
    "        MAE = {}\n",
    "        MSE = {}\n",
    "        for base_feature in base_features:\n",
    "            pred_feature = f'{base_feature}_pred'\n",
    "\n",
    "            fig = plt.figure(figsize=(10, 6))\n",
    "            plt.plot(df.index, df[base_feature], label=base_feature, color='#1f77b4')\n",
    "            plt.plot(df.index, df[pred_feature], label=pred_feature, color='#2ca02c')\n",
    "\n",
    "            plt.xlabel('Time')\n",
    "            plt.ylabel(base_feature)\n",
    "            plt.title(f'{title}')\n",
    "            plt.legend()\n",
    "\n",
    "            # Calculate metrics\n",
    "            if base_feature.startswith(\"WDIR\"):\n",
    "                mae = DP.mean_absolute_error_WDIR(df[base_feature], df[pred_feature])\n",
    "                mse = DP.mean_square_error_WDIR(df[base_feature], df[pred_feature])\n",
    "            else:\n",
    "                mae = mean_absolute_error(df[base_feature], df[pred_feature])\n",
    "                mse = mean_squared_error(df[base_feature], df[pred_feature])\n",
    "            MAE[base_feature] = mae.round(3)\n",
    "            MSE[base_feature] = mse.round(3)\n",
    "\n",
    "            # Add metrics to the current page of the PDF\n",
    "            fig.text(0.01, 0.02, f\"MAE: {mae.round(3)}\\nMSE: {mse.round(3)}\")  # Adjust the coordinates as needed\n",
    "            pdf.savefig(fig)\n",
    "            plt.close(fig)\n",
    "\n",
    "        return MAE, MSE"
   ],
   "metadata": {
    "collapsed": false,
    "pycharm": {
     "name": "#%%\n"
    }
   }
  },
  {
   "cell_type": "markdown",
   "source": [
    "## Create Dict for report files:"
   ],
   "metadata": {
    "collapsed": false,
    "pycharm": {
     "name": "#%% md\n"
    }
   }
  },
  {
   "cell_type": "code",
   "execution_count": 13,
   "outputs": [],
   "source": [
    "filename = f\"{filename.replace('.pickle','')}\"\n",
    "directory = f\"data/evaluation/{filename}\"\n",
    "if not os.path.exists(directory):\n",
    "    os.makedirs(directory)  # Create the directory"
   ],
   "metadata": {
    "collapsed": false,
    "pycharm": {
     "name": "#%%\n"
    }
   }
  },
  {
   "cell_type": "markdown",
   "source": [
    "# Create PDF File"
   ],
   "metadata": {
    "collapsed": false,
    "pycharm": {
     "name": "#%% md\n"
    }
   }
  },
  {
   "cell_type": "code",
   "execution_count": 14,
   "outputs": [
    {
     "name": "stdout",
     "output_type": "stream",
     "text": [
      "saved:  data/evaluation/report_B_LSTM_0.0\n"
     ]
    }
   ],
   "source": [
    "title =  f\"One-Shot-Forecast of: {filename.replace('.pickle','')}\"\n",
    "MAE_dict, MSE_dict = create_charts_to_pdf(report.one_shot_forecast, title, report.get_settings_string(), f\"{directory}/{filename}_charts.pdf\")\n",
    "print(\"saved: \", directory)"
   ],
   "metadata": {
    "collapsed": false,
    "pycharm": {
     "name": "#%%\n"
    }
   }
  },
  {
   "cell_type": "code",
   "execution_count": null,
   "outputs": [],
   "source": [
    "# SSUM VERSION:\n",
    "def create_error_table(dictionary):\n",
    "    # Extract unique measurements and station IDs\n",
    "    measurements = set()\n",
    "    station_ids = set()\n",
    "    for key in dictionary.keys():\n",
    "        measurement, station_id, *_ = key.split('_')\n",
    "        measurements.add(measurement)\n",
    "        station_ids.add(station_id)\n",
    "\n",
    "    # Create empty table\n",
    "    table = pd.DataFrame(index=sorted(station_ids), columns=sorted(measurements))\n",
    "\n",
    "    # Fill table with dictionary values\n",
    "    for key, value in dictionary.items():\n",
    "        measurement, station_id, *_ = key.split('_')\n",
    "        if key.endswith('ERA5'):\n",
    "            measurement += '_ERA5'\n",
    "        table.loc[station_id, measurement] = value\n",
    "\n",
    "    # Replace missing values with NaN\n",
    "    table = table.fillna(np.nan)\n",
    "\n",
    "    return table"
   ],
   "metadata": {
    "collapsed": false,
    "pycharm": {
     "name": "#%%\n"
    }
   }
  },
  {
   "cell_type": "markdown",
   "source": [
    "# Create MAE and MSE CVS Files:"
   ],
   "metadata": {
    "collapsed": false,
    "pycharm": {
     "name": "#%% md\n"
    }
   }
  },
  {
   "cell_type": "code",
   "execution_count": 24,
   "outputs": [],
   "source": [
    "if \"_A_\" in filename:\n",
    "    MAE_df = create_error_table(MAE_dict)\n",
    "    MAE_df.to_csv(f\"{directory}/{filename}_MAE.csv\")\n",
    "    MSE_df = create_error_table(MSE_dict)\n",
    "    MSE_df.to_csv(f\"{directory}/{filename}_MSE.csv\")\n",
    "\n",
    "elif \"_B_\" in filename:\n",
    "    MAE_df = pd.DataFrame(MAE_dict.items(), columns=['Feature', 'MAE'])\n",
    "    MSE_df = pd.DataFrame(MSE_dict.items(), columns=['Feature', 'MSE'])\n",
    "    error_df = pd.merge(MAE_df, MSE_df, on='Feature')\n",
    "    error_df.to_csv(f\"{directory}/{filename}_Error.csv\", index=False)\n",
    "else:\n",
    "    print(\"Filename missmatch!\")"
   ],
   "metadata": {
    "collapsed": false,
    "pycharm": {
     "name": "#%%\n"
    }
   }
  },
  {
   "cell_type": "code",
   "execution_count": 17,
   "outputs": [
    {
     "name": "stdout",
     "output_type": "stream",
     "text": [
      "data/evaluation/report_01_b/report_01_b\n"
     ]
    }
   ],
   "source": [
    "print(f\"{directory}/{filename}\")"
   ],
   "metadata": {
    "collapsed": false,
    "pycharm": {
     "name": "#%%\n"
    }
   }
  },
  {
   "cell_type": "code",
   "execution_count": null,
   "outputs": [],
   "source": [],
   "metadata": {
    "collapsed": false,
    "pycharm": {
     "name": "#%%\n"
    }
   }
  }
 ],
 "metadata": {
  "kernelspec": {
   "display_name": "Python 3",
   "language": "python",
   "name": "python3"
  },
  "language_info": {
   "codemirror_mode": {
    "name": "ipython",
    "version": 2
   },
   "file_extension": ".py",
   "mimetype": "text/x-python",
   "name": "python",
   "nbconvert_exporter": "python",
   "pygments_lexer": "ipython2",
   "version": "2.7.6"
  }
 },
 "nbformat": 4,
 "nbformat_minor": 0
}