{
 "cells": [
  {
   "cell_type": "markdown",
   "source": [
    "# Evaluate the result of Experiments\n",
    "\n",
    "The aim of this script is to standardize the evaluation of several experiments."
   ],
   "metadata": {
    "collapsed": false,
    "pycharm": {
     "name": "#%% md\n"
    }
   }
  },
  {
   "cell_type": "code",
   "execution_count": 2,
   "metadata": {
    "collapsed": true,
    "pycharm": {
     "name": "#%%\n"
    }
   },
   "outputs": [],
   "source": [
    "import pickle\n",
    "from myLibrary import Experiment\n",
    "from myLibrary import DataProcessor as DP\n",
    "import os\n",
    "import ipywidgets as widgets\n",
    "import matplotlib.pyplot as plt\n",
    "from IPython.display import display\n",
    "import pandas as pd\n",
    "import numpy as np\n",
    "\n",
    "from sklearn.metrics import mean_squared_error, mean_absolute_error"
   ]
  },
  {
   "cell_type": "code",
   "execution_count": 3,
   "outputs": [
    {
     "data": {
      "text/plain": "Select(description='Reports:', options=('GOM_1_A_LSTM.pickle', 'report_14.pickle', 'report_18.pickle', 'report…",
      "application/vnd.jupyter.widget-view+json": {
       "version_major": 2,
       "version_minor": 0,
       "model_id": "35ba244b8d9b4ed18ebb7f0f9859c0a5"
      }
     },
     "metadata": {},
     "output_type": "display_data"
    }
   ],
   "source": [
    "report_directory = os.path.join(os.getcwd(), f'data/reports')\n",
    "\n",
    "def build_UI():\n",
    "    # Select Model-------------------------------------------------------------------------------\n",
    "    global report_widget\n",
    "    report_list = os.listdir(report_directory)\n",
    "    report_widget = widgets.Select(\n",
    "        options=report_list,\n",
    "        value=report_list[0],\n",
    "        rows=10,\n",
    "        description='Reports:',\n",
    "        disabled=False\n",
    "    )\n",
    "    display(report_widget)\n",
    "\n",
    "build_UI()"
   ],
   "metadata": {
    "collapsed": false,
    "pycharm": {
     "name": "#%%\n"
    }
   }
  },
  {
   "cell_type": "code",
   "execution_count": 4,
   "outputs": [
    {
     "name": "stdout",
     "output_type": "stream",
     "text": [
      "report_01_b.pickle\n"
     ]
    }
   ],
   "source": [
    "filename = report_widget.value\n",
    "filename = \"report_01_b.pickle\"\n",
    "\n",
    "print(filename)\n",
    "# open the file for reading in binary mode\n",
    "report: Experiment\n",
    "with open(f'data/reports/{filename}', 'rb') as f:\n",
    "    # load the object from the file using pickle.load()\n",
    "    report = pickle.load(f)"
   ],
   "metadata": {
    "collapsed": false,
    "pycharm": {
     "name": "#%%\n"
    }
   }
  },
  {
   "cell_type": "code",
   "execution_count": 5,
   "outputs": [
    {
     "name": "stdout",
     "output_type": "stream",
     "text": [
      "Experiment: report_01_b\n",
      "Test #01_b GOM, dataset A, TCN based PINN, Alpha = 0\n",
      "---------------------------------------\n",
      "Stations: ['42001', '42002', '42003', '42007', '42012', '42019', '42020', '42035', '42036', '42038', '42039', '42040', '42041', '42055']\n",
      "Years: ['2002', '2003', '2004', '2005', '2006', '2007', '2008', '2009', '2010', '2011', '2012', '2013', '2014', '2015', '2016', '2017', '2018', '2019', '2020', '2021', '2022']\n",
      "NaN_Threshold: 0.66\n",
      "Features: ['WDIR', 'WSPD', 'WVHT', 'APD', 'MWD', 'PRES', 'ATMP', 'WTMP', 'DEWP']\n",
      "ERA5: True, Stationary Shift: 1, Test-Hours:24\n",
      "\n",
      "---------------------------------------\n",
      "Normalized: False\n",
      "\n",
      "---------------------------------------\n",
      "Internal Model name: LSTM\n",
      "Model: \"sequential\"\n",
      "_________________________________________________________________\n",
      " Layer (type)                Output Shape              Param #   \n",
      "=================================================================\n",
      " lstm (LSTM)                 (None, 3, 128)            119296    \n",
      "                                                                 \n",
      " dropout (Dropout)           (None, 3, 128)            0         \n",
      "                                                                 \n",
      " lstm_1 (LSTM)               (None, 3, 64)             49408     \n",
      "                                                                 \n",
      " dropout_1 (Dropout)         (None, 3, 64)             0         \n",
      "                                                                 \n",
      " lstm_2 (LSTM)               (None, 3, 32)             12416     \n",
      "                                                                 \n",
      " dropout_2 (Dropout)         (None, 3, 32)             0         \n",
      "                                                                 \n",
      " lstm_3 (LSTM)               (None, 16)                3136      \n",
      "                                                                 \n",
      " dense (Dense)               (None, 104)               1768      \n",
      "                                                                 \n",
      "=================================================================\n",
      "Total params: 186,024\n",
      "Trainable params: 186,024\n",
      "Non-trainable params: 0\n",
      "_________________________________________________________________\n"
     ]
    }
   ],
   "source": [
    "report.print_settings()"
   ],
   "metadata": {
    "collapsed": false,
    "pycharm": {
     "name": "#%%\n"
    }
   }
  },
  {
   "cell_type": "code",
   "execution_count": 6,
   "outputs": [
    {
     "name": "stdout",
     "output_type": "stream",
     "text": [
      "One-Shot-Forecasting:\n",
      "MAE: 0.10908466144464872 \tMSE: 0.020497935019499324\n",
      "\n",
      "Recurrent-Forecasting:\n",
      "MAE: -1.0 \tMSE: -1.0\n"
     ]
    }
   ],
   "source": [
    "report.print_metrics()"
   ],
   "metadata": {
    "collapsed": false,
    "pycharm": {
     "name": "#%%\n"
    }
   }
  },
  {
   "cell_type": "code",
   "execution_count": 7,
   "outputs": [
    {
     "data": {
      "text/plain": "                     WDIR_42001  WSPD_42001  PRES_42001  ATMP_42001  \\\n2022-12-31 00:00:00       189.0         5.0      1013.5        25.2   \n2022-12-31 01:00:00       203.0         5.6      1013.8        24.7   \n2022-12-31 02:00:00       169.0         2.3      1014.5        24.8   \n2022-12-31 03:00:00        53.0         6.0      1014.8        22.7   \n2022-12-31 04:00:00        55.0         8.5      1015.2        22.3   \n2022-12-31 05:00:00        72.0         7.6      1014.9        22.6   \n2022-12-31 06:00:00        77.0         7.2      1014.4        23.0   \n2022-12-31 07:00:00        97.0         7.8      1014.1        23.1   \n2022-12-31 08:00:00       148.0         3.3      1013.9        24.4   \n2022-12-31 09:00:00       195.0         5.4      1014.0        25.0   \n2022-12-31 10:00:00       223.0         5.1      1014.4        25.0   \n2022-12-31 11:00:00        18.0         3.3      1015.0        22.6   \n2022-12-31 12:00:00       115.0         2.1      1014.9        23.2   \n2022-12-31 13:00:00        31.0         0.9      1015.4        23.6   \n2022-12-31 14:00:00        97.0         0.8      1015.9        24.5   \n2022-12-31 15:00:00       113.0         1.9      1016.6        24.4   \n2022-12-31 16:00:00       124.0         0.8      1017.1        24.6   \n2022-12-31 17:00:00       107.0         1.1      1016.6        24.9   \n2022-12-31 18:00:00       147.0         1.1      1015.9        25.1   \n2022-12-31 19:00:00       195.0         0.5      1015.0        25.6   \n2022-12-31 20:00:00       210.0         1.0      1015.0        25.3   \n2022-12-31 21:00:00       231.0         0.6      1014.7        26.4   \n2022-12-31 22:00:00        18.0         0.7      1014.9        25.4   \n2022-12-31 23:00:00        68.0         1.6      1015.0        25.0   \n\n                     WTMP_42001  DEWP_42001  WDIR_42002  WSPD_42002  \\\n2022-12-31 00:00:00        24.3        24.5       333.0         5.6   \n2022-12-31 01:00:00        24.3        23.5       359.0         4.6   \n2022-12-31 02:00:00        24.3        24.4        18.0         4.2   \n2022-12-31 03:00:00        24.4        22.1        51.0         4.0   \n2022-12-31 04:00:00        24.4        21.9        69.0         3.1   \n2022-12-31 05:00:00        24.3        22.1        89.0         3.7   \n2022-12-31 06:00:00        24.4        23.0       118.0         2.6   \n2022-12-31 07:00:00        24.4        23.0       151.0         2.8   \n2022-12-31 08:00:00        24.4        24.3       195.0         1.2   \n2022-12-31 09:00:00        24.4        24.6       207.0         2.3   \n2022-12-31 10:00:00        24.4        24.6       194.0         2.2   \n2022-12-31 11:00:00        24.3        22.0       217.0         2.7   \n2022-12-31 12:00:00        24.3        22.4       253.0         3.3   \n2022-12-31 13:00:00        24.4        22.7       273.0         2.9   \n2022-12-31 14:00:00        24.4        23.0       322.0         4.7   \n2022-12-31 15:00:00        24.3        23.6       322.0         3.2   \n2022-12-31 16:00:00        24.4        23.8       316.0         1.3   \n2022-12-31 17:00:00        24.4        23.9       104.0         0.0   \n2022-12-31 18:00:00        24.5        24.3        42.0         0.5   \n2022-12-31 19:00:00        24.7        24.5        22.0         0.6   \n2022-12-31 20:00:00        24.5        24.3        88.0         1.2   \n2022-12-31 21:00:00        24.7        24.4        87.0         1.7   \n2022-12-31 22:00:00        24.7        24.1        90.0         2.5   \n2022-12-31 23:00:00        24.5        24.3       116.0         3.7   \n\n                     PRES_42002  ATMP_42002  ...  WDIR_42039_ERA5_pred  \\\n2022-12-31 00:00:00      1012.3        24.6  ...            130.693571   \n2022-12-31 01:00:00      1012.9        24.6  ...            127.657388   \n2022-12-31 02:00:00      1013.5        24.7  ...            107.981504   \n2022-12-31 03:00:00      1014.1        24.5  ...             86.065152   \n2022-12-31 04:00:00      1014.4        24.3  ...            428.487527   \n2022-12-31 05:00:00      1014.4        24.3  ...            412.272859   \n2022-12-31 06:00:00      1014.5        24.4  ...            420.795017   \n2022-12-31 07:00:00      1014.6        24.5  ...             77.600732   \n2022-12-31 08:00:00      1014.8        24.6  ...            438.427770   \n2022-12-31 09:00:00      1014.4        24.5  ...            435.890860   \n2022-12-31 10:00:00      1014.4        24.6  ...             70.437392   \n2022-12-31 11:00:00      1014.9        24.6  ...             41.876362   \n2022-12-31 12:00:00      1015.4        24.6  ...             43.229510   \n2022-12-31 13:00:00      1016.0        24.6  ...            416.520731   \n2022-12-31 14:00:00      1016.6        24.5  ...             68.400430   \n2022-12-31 15:00:00      1017.2        24.6  ...             65.865638   \n2022-12-31 16:00:00      1017.8        24.7  ...            417.984943   \n2022-12-31 17:00:00      1017.7        25.8  ...            411.841363   \n2022-12-31 18:00:00      1016.8        25.5  ...             43.822761   \n2022-12-31 19:00:00      1015.9        25.1  ...             35.331799   \n2022-12-31 20:00:00      1015.4        24.7  ...             33.740940   \n2022-12-31 21:00:00      1014.9        24.6  ...            378.306108   \n2022-12-31 22:00:00      1014.9        24.5  ...            373.932805   \n2022-12-31 23:00:00      1015.0        24.5  ...            379.680220   \n\n                     WSPD_42039_ERA5_pred  ATMP_42039_ERA5_pred  \\\n2022-12-31 00:00:00             10.578786             23.904074   \n2022-12-31 01:00:00             10.135219             24.096799   \n2022-12-31 02:00:00              9.741758             23.954411   \n2022-12-31 03:00:00             10.332212             22.921299   \n2022-12-31 04:00:00             11.030661             23.053869   \n2022-12-31 05:00:00              9.974742             23.824115   \n2022-12-31 06:00:00              9.278046             24.013292   \n2022-12-31 07:00:00              8.699344             24.031973   \n2022-12-31 08:00:00              9.024888             24.106706   \n2022-12-31 09:00:00              9.591615             24.326784   \n2022-12-31 10:00:00              9.266971             24.483882   \n2022-12-31 11:00:00              7.104800             23.926180   \n2022-12-31 12:00:00              6.858887             23.894694   \n2022-12-31 13:00:00              7.758023             23.204705   \n2022-12-31 14:00:00              8.991870             23.792375   \n2022-12-31 15:00:00              9.739296             24.200955   \n2022-12-31 16:00:00              8.943498             24.267937   \n2022-12-31 17:00:00              8.179465             22.984720   \n2022-12-31 18:00:00              8.047924             22.725292   \n2022-12-31 19:00:00              8.420646             22.644469   \n2022-12-31 20:00:00              8.605017             22.728002   \n2022-12-31 21:00:00              7.746672             22.540305   \n2022-12-31 22:00:00              6.481939             22.370132   \n2022-12-31 23:00:00              3.287809             24.069617   \n\n                     WSPD_42035_ERA5_pred  WSPD_42001_ERA5_pred  \\\n2022-12-31 00:00:00              2.629691              5.309321   \n2022-12-31 01:00:00              3.221046              5.049966   \n2022-12-31 02:00:00              4.033839              5.494162   \n2022-12-31 03:00:00              3.068918              5.840723   \n2022-12-31 04:00:00              1.742300              6.459502   \n2022-12-31 05:00:00              1.598469              6.468039   \n2022-12-31 06:00:00              1.971927              6.464920   \n2022-12-31 07:00:00              2.773805              6.463436   \n2022-12-31 08:00:00              3.912788              6.489660   \n2022-12-31 09:00:00              3.845009              6.689007   \n2022-12-31 10:00:00              3.670461              6.677473   \n2022-12-31 11:00:00              3.806671              4.137478   \n2022-12-31 12:00:00              3.485076              3.126754   \n2022-12-31 13:00:00              3.278493              2.256634   \n2022-12-31 14:00:00              3.878463              1.868689   \n2022-12-31 15:00:00              4.600152              2.142677   \n2022-12-31 16:00:00              4.441231              1.996646   \n2022-12-31 17:00:00              4.652906              1.691243   \n2022-12-31 18:00:00              3.948578              1.141554   \n2022-12-31 19:00:00              3.053152              0.966395   \n2022-12-31 20:00:00              2.526843              0.622521   \n2022-12-31 21:00:00              2.672840              1.018030   \n2022-12-31 22:00:00              3.160121              2.077114   \n2022-12-31 23:00:00              3.482519              1.562157   \n\n                     DEWP_42020_ERA5_pred  ATMP_42019_ERA5_pred  \\\n2022-12-31 00:00:00             18.429003             19.864203   \n2022-12-31 01:00:00             18.229040             19.961484   \n2022-12-31 02:00:00             17.664652             19.896495   \n2022-12-31 03:00:00             17.379228             20.087536   \n2022-12-31 04:00:00             17.298540             20.068829   \n2022-12-31 05:00:00             17.013382             19.712524   \n2022-12-31 06:00:00             16.736949             19.477226   \n2022-12-31 07:00:00             16.603402             19.576773   \n2022-12-31 08:00:00             16.560904             19.664711   \n2022-12-31 09:00:00             16.587030             19.643940   \n2022-12-31 10:00:00             16.552500             19.526684   \n2022-12-31 11:00:00             17.885843             19.854543   \n2022-12-31 12:00:00             17.851316             20.080876   \n2022-12-31 13:00:00             17.925084             20.271652   \n2022-12-31 14:00:00             18.000813             20.512251   \n2022-12-31 15:00:00             18.165389             20.750180   \n2022-12-31 16:00:00             18.408272             20.995142   \n2022-12-31 17:00:00             18.545894             21.225326   \n2022-12-31 18:00:00             18.909604             21.419642   \n2022-12-31 19:00:00             19.248257             21.649691   \n2022-12-31 20:00:00             19.294151             21.836701   \n2022-12-31 21:00:00             19.204815             22.033164   \n2022-12-31 22:00:00             19.313397             22.237799   \n2022-12-31 23:00:00             18.548164             22.083769   \n\n                     WTMP_42039_ERA5_pred  WSPD_42002_ERA5_pred  \\\n2022-12-31 00:00:00             24.389866              3.648452   \n2022-12-31 01:00:00             24.389396              1.365152   \n2022-12-31 02:00:00             24.385888              0.982521   \n2022-12-31 03:00:00             24.388686              1.605773   \n2022-12-31 04:00:00             24.390194              1.857321   \n2022-12-31 05:00:00             24.386953              2.300635   \n2022-12-31 06:00:00             24.386960              3.210421   \n2022-12-31 07:00:00             24.392289              4.318198   \n2022-12-31 08:00:00             24.390319              4.525023   \n2022-12-31 09:00:00             24.389920              4.229266   \n2022-12-31 10:00:00             24.390779              4.048328   \n2022-12-31 11:00:00             24.390506              2.960025   \n2022-12-31 12:00:00             24.388936              2.599782   \n2022-12-31 13:00:00             24.388447              2.791096   \n2022-12-31 14:00:00             24.390754              3.096175   \n2022-12-31 15:00:00             24.391202              3.048518   \n2022-12-31 16:00:00             24.389594              2.098959   \n2022-12-31 17:00:00             24.389815              0.921441   \n2022-12-31 18:00:00             24.390418              0.338087   \n2022-12-31 19:00:00             24.390271              0.631639   \n2022-12-31 20:00:00             24.391186              1.091415   \n2022-12-31 21:00:00             24.391115              1.337534   \n2022-12-31 22:00:00             24.389988              1.764799   \n2022-12-31 23:00:00             24.883582              2.489167   \n\n                     PRES_42039_ERA5_pred  \n2022-12-31 00:00:00           1015.187167  \n2022-12-31 01:00:00           1015.823906  \n2022-12-31 02:00:00           1016.455605  \n2022-12-31 03:00:00           1016.828729  \n2022-12-31 04:00:00           1017.062122  \n2022-12-31 05:00:00           1017.227937  \n2022-12-31 06:00:00           1016.784622  \n2022-12-31 07:00:00           1016.162059  \n2022-12-31 08:00:00           1015.497106  \n2022-12-31 09:00:00           1015.041943  \n2022-12-31 10:00:00           1015.034682  \n2022-12-31 11:00:00           1015.405569  \n2022-12-31 12:00:00           1015.789663  \n2022-12-31 13:00:00           1016.464717  \n2022-12-31 14:00:00           1016.544750  \n2022-12-31 15:00:00           1017.274003  \n2022-12-31 16:00:00           1017.919237  \n2022-12-31 17:00:00           1018.291602  \n2022-12-31 18:00:00           1017.865488  \n2022-12-31 19:00:00           1017.248102  \n2022-12-31 20:00:00           1016.593067  \n2022-12-31 21:00:00           1016.395127  \n2022-12-31 22:00:00           1016.187834  \n2022-12-31 23:00:00           1017.066559  \n\n[24 rows x 208 columns]",
      "text/html": "<div>\n<style scoped>\n    .dataframe tbody tr th:only-of-type {\n        vertical-align: middle;\n    }\n\n    .dataframe tbody tr th {\n        vertical-align: top;\n    }\n\n    .dataframe thead th {\n        text-align: right;\n    }\n</style>\n<table border=\"1\" class=\"dataframe\">\n  <thead>\n    <tr style=\"text-align: right;\">\n      <th></th>\n      <th>WDIR_42001</th>\n      <th>WSPD_42001</th>\n      <th>PRES_42001</th>\n      <th>ATMP_42001</th>\n      <th>WTMP_42001</th>\n      <th>DEWP_42001</th>\n      <th>WDIR_42002</th>\n      <th>WSPD_42002</th>\n      <th>PRES_42002</th>\n      <th>ATMP_42002</th>\n      <th>...</th>\n      <th>WDIR_42039_ERA5_pred</th>\n      <th>WSPD_42039_ERA5_pred</th>\n      <th>ATMP_42039_ERA5_pred</th>\n      <th>WSPD_42035_ERA5_pred</th>\n      <th>WSPD_42001_ERA5_pred</th>\n      <th>DEWP_42020_ERA5_pred</th>\n      <th>ATMP_42019_ERA5_pred</th>\n      <th>WTMP_42039_ERA5_pred</th>\n      <th>WSPD_42002_ERA5_pred</th>\n      <th>PRES_42039_ERA5_pred</th>\n    </tr>\n  </thead>\n  <tbody>\n    <tr>\n      <th>2022-12-31 00:00:00</th>\n      <td>189.0</td>\n      <td>5.0</td>\n      <td>1013.5</td>\n      <td>25.2</td>\n      <td>24.3</td>\n      <td>24.5</td>\n      <td>333.0</td>\n      <td>5.6</td>\n      <td>1012.3</td>\n      <td>24.6</td>\n      <td>...</td>\n      <td>130.693571</td>\n      <td>10.578786</td>\n      <td>23.904074</td>\n      <td>2.629691</td>\n      <td>5.309321</td>\n      <td>18.429003</td>\n      <td>19.864203</td>\n      <td>24.389866</td>\n      <td>3.648452</td>\n      <td>1015.187167</td>\n    </tr>\n    <tr>\n      <th>2022-12-31 01:00:00</th>\n      <td>203.0</td>\n      <td>5.6</td>\n      <td>1013.8</td>\n      <td>24.7</td>\n      <td>24.3</td>\n      <td>23.5</td>\n      <td>359.0</td>\n      <td>4.6</td>\n      <td>1012.9</td>\n      <td>24.6</td>\n      <td>...</td>\n      <td>127.657388</td>\n      <td>10.135219</td>\n      <td>24.096799</td>\n      <td>3.221046</td>\n      <td>5.049966</td>\n      <td>18.229040</td>\n      <td>19.961484</td>\n      <td>24.389396</td>\n      <td>1.365152</td>\n      <td>1015.823906</td>\n    </tr>\n    <tr>\n      <th>2022-12-31 02:00:00</th>\n      <td>169.0</td>\n      <td>2.3</td>\n      <td>1014.5</td>\n      <td>24.8</td>\n      <td>24.3</td>\n      <td>24.4</td>\n      <td>18.0</td>\n      <td>4.2</td>\n      <td>1013.5</td>\n      <td>24.7</td>\n      <td>...</td>\n      <td>107.981504</td>\n      <td>9.741758</td>\n      <td>23.954411</td>\n      <td>4.033839</td>\n      <td>5.494162</td>\n      <td>17.664652</td>\n      <td>19.896495</td>\n      <td>24.385888</td>\n      <td>0.982521</td>\n      <td>1016.455605</td>\n    </tr>\n    <tr>\n      <th>2022-12-31 03:00:00</th>\n      <td>53.0</td>\n      <td>6.0</td>\n      <td>1014.8</td>\n      <td>22.7</td>\n      <td>24.4</td>\n      <td>22.1</td>\n      <td>51.0</td>\n      <td>4.0</td>\n      <td>1014.1</td>\n      <td>24.5</td>\n      <td>...</td>\n      <td>86.065152</td>\n      <td>10.332212</td>\n      <td>22.921299</td>\n      <td>3.068918</td>\n      <td>5.840723</td>\n      <td>17.379228</td>\n      <td>20.087536</td>\n      <td>24.388686</td>\n      <td>1.605773</td>\n      <td>1016.828729</td>\n    </tr>\n    <tr>\n      <th>2022-12-31 04:00:00</th>\n      <td>55.0</td>\n      <td>8.5</td>\n      <td>1015.2</td>\n      <td>22.3</td>\n      <td>24.4</td>\n      <td>21.9</td>\n      <td>69.0</td>\n      <td>3.1</td>\n      <td>1014.4</td>\n      <td>24.3</td>\n      <td>...</td>\n      <td>428.487527</td>\n      <td>11.030661</td>\n      <td>23.053869</td>\n      <td>1.742300</td>\n      <td>6.459502</td>\n      <td>17.298540</td>\n      <td>20.068829</td>\n      <td>24.390194</td>\n      <td>1.857321</td>\n      <td>1017.062122</td>\n    </tr>\n    <tr>\n      <th>2022-12-31 05:00:00</th>\n      <td>72.0</td>\n      <td>7.6</td>\n      <td>1014.9</td>\n      <td>22.6</td>\n      <td>24.3</td>\n      <td>22.1</td>\n      <td>89.0</td>\n      <td>3.7</td>\n      <td>1014.4</td>\n      <td>24.3</td>\n      <td>...</td>\n      <td>412.272859</td>\n      <td>9.974742</td>\n      <td>23.824115</td>\n      <td>1.598469</td>\n      <td>6.468039</td>\n      <td>17.013382</td>\n      <td>19.712524</td>\n      <td>24.386953</td>\n      <td>2.300635</td>\n      <td>1017.227937</td>\n    </tr>\n    <tr>\n      <th>2022-12-31 06:00:00</th>\n      <td>77.0</td>\n      <td>7.2</td>\n      <td>1014.4</td>\n      <td>23.0</td>\n      <td>24.4</td>\n      <td>23.0</td>\n      <td>118.0</td>\n      <td>2.6</td>\n      <td>1014.5</td>\n      <td>24.4</td>\n      <td>...</td>\n      <td>420.795017</td>\n      <td>9.278046</td>\n      <td>24.013292</td>\n      <td>1.971927</td>\n      <td>6.464920</td>\n      <td>16.736949</td>\n      <td>19.477226</td>\n      <td>24.386960</td>\n      <td>3.210421</td>\n      <td>1016.784622</td>\n    </tr>\n    <tr>\n      <th>2022-12-31 07:00:00</th>\n      <td>97.0</td>\n      <td>7.8</td>\n      <td>1014.1</td>\n      <td>23.1</td>\n      <td>24.4</td>\n      <td>23.0</td>\n      <td>151.0</td>\n      <td>2.8</td>\n      <td>1014.6</td>\n      <td>24.5</td>\n      <td>...</td>\n      <td>77.600732</td>\n      <td>8.699344</td>\n      <td>24.031973</td>\n      <td>2.773805</td>\n      <td>6.463436</td>\n      <td>16.603402</td>\n      <td>19.576773</td>\n      <td>24.392289</td>\n      <td>4.318198</td>\n      <td>1016.162059</td>\n    </tr>\n    <tr>\n      <th>2022-12-31 08:00:00</th>\n      <td>148.0</td>\n      <td>3.3</td>\n      <td>1013.9</td>\n      <td>24.4</td>\n      <td>24.4</td>\n      <td>24.3</td>\n      <td>195.0</td>\n      <td>1.2</td>\n      <td>1014.8</td>\n      <td>24.6</td>\n      <td>...</td>\n      <td>438.427770</td>\n      <td>9.024888</td>\n      <td>24.106706</td>\n      <td>3.912788</td>\n      <td>6.489660</td>\n      <td>16.560904</td>\n      <td>19.664711</td>\n      <td>24.390319</td>\n      <td>4.525023</td>\n      <td>1015.497106</td>\n    </tr>\n    <tr>\n      <th>2022-12-31 09:00:00</th>\n      <td>195.0</td>\n      <td>5.4</td>\n      <td>1014.0</td>\n      <td>25.0</td>\n      <td>24.4</td>\n      <td>24.6</td>\n      <td>207.0</td>\n      <td>2.3</td>\n      <td>1014.4</td>\n      <td>24.5</td>\n      <td>...</td>\n      <td>435.890860</td>\n      <td>9.591615</td>\n      <td>24.326784</td>\n      <td>3.845009</td>\n      <td>6.689007</td>\n      <td>16.587030</td>\n      <td>19.643940</td>\n      <td>24.389920</td>\n      <td>4.229266</td>\n      <td>1015.041943</td>\n    </tr>\n    <tr>\n      <th>2022-12-31 10:00:00</th>\n      <td>223.0</td>\n      <td>5.1</td>\n      <td>1014.4</td>\n      <td>25.0</td>\n      <td>24.4</td>\n      <td>24.6</td>\n      <td>194.0</td>\n      <td>2.2</td>\n      <td>1014.4</td>\n      <td>24.6</td>\n      <td>...</td>\n      <td>70.437392</td>\n      <td>9.266971</td>\n      <td>24.483882</td>\n      <td>3.670461</td>\n      <td>6.677473</td>\n      <td>16.552500</td>\n      <td>19.526684</td>\n      <td>24.390779</td>\n      <td>4.048328</td>\n      <td>1015.034682</td>\n    </tr>\n    <tr>\n      <th>2022-12-31 11:00:00</th>\n      <td>18.0</td>\n      <td>3.3</td>\n      <td>1015.0</td>\n      <td>22.6</td>\n      <td>24.3</td>\n      <td>22.0</td>\n      <td>217.0</td>\n      <td>2.7</td>\n      <td>1014.9</td>\n      <td>24.6</td>\n      <td>...</td>\n      <td>41.876362</td>\n      <td>7.104800</td>\n      <td>23.926180</td>\n      <td>3.806671</td>\n      <td>4.137478</td>\n      <td>17.885843</td>\n      <td>19.854543</td>\n      <td>24.390506</td>\n      <td>2.960025</td>\n      <td>1015.405569</td>\n    </tr>\n    <tr>\n      <th>2022-12-31 12:00:00</th>\n      <td>115.0</td>\n      <td>2.1</td>\n      <td>1014.9</td>\n      <td>23.2</td>\n      <td>24.3</td>\n      <td>22.4</td>\n      <td>253.0</td>\n      <td>3.3</td>\n      <td>1015.4</td>\n      <td>24.6</td>\n      <td>...</td>\n      <td>43.229510</td>\n      <td>6.858887</td>\n      <td>23.894694</td>\n      <td>3.485076</td>\n      <td>3.126754</td>\n      <td>17.851316</td>\n      <td>20.080876</td>\n      <td>24.388936</td>\n      <td>2.599782</td>\n      <td>1015.789663</td>\n    </tr>\n    <tr>\n      <th>2022-12-31 13:00:00</th>\n      <td>31.0</td>\n      <td>0.9</td>\n      <td>1015.4</td>\n      <td>23.6</td>\n      <td>24.4</td>\n      <td>22.7</td>\n      <td>273.0</td>\n      <td>2.9</td>\n      <td>1016.0</td>\n      <td>24.6</td>\n      <td>...</td>\n      <td>416.520731</td>\n      <td>7.758023</td>\n      <td>23.204705</td>\n      <td>3.278493</td>\n      <td>2.256634</td>\n      <td>17.925084</td>\n      <td>20.271652</td>\n      <td>24.388447</td>\n      <td>2.791096</td>\n      <td>1016.464717</td>\n    </tr>\n    <tr>\n      <th>2022-12-31 14:00:00</th>\n      <td>97.0</td>\n      <td>0.8</td>\n      <td>1015.9</td>\n      <td>24.5</td>\n      <td>24.4</td>\n      <td>23.0</td>\n      <td>322.0</td>\n      <td>4.7</td>\n      <td>1016.6</td>\n      <td>24.5</td>\n      <td>...</td>\n      <td>68.400430</td>\n      <td>8.991870</td>\n      <td>23.792375</td>\n      <td>3.878463</td>\n      <td>1.868689</td>\n      <td>18.000813</td>\n      <td>20.512251</td>\n      <td>24.390754</td>\n      <td>3.096175</td>\n      <td>1016.544750</td>\n    </tr>\n    <tr>\n      <th>2022-12-31 15:00:00</th>\n      <td>113.0</td>\n      <td>1.9</td>\n      <td>1016.6</td>\n      <td>24.4</td>\n      <td>24.3</td>\n      <td>23.6</td>\n      <td>322.0</td>\n      <td>3.2</td>\n      <td>1017.2</td>\n      <td>24.6</td>\n      <td>...</td>\n      <td>65.865638</td>\n      <td>9.739296</td>\n      <td>24.200955</td>\n      <td>4.600152</td>\n      <td>2.142677</td>\n      <td>18.165389</td>\n      <td>20.750180</td>\n      <td>24.391202</td>\n      <td>3.048518</td>\n      <td>1017.274003</td>\n    </tr>\n    <tr>\n      <th>2022-12-31 16:00:00</th>\n      <td>124.0</td>\n      <td>0.8</td>\n      <td>1017.1</td>\n      <td>24.6</td>\n      <td>24.4</td>\n      <td>23.8</td>\n      <td>316.0</td>\n      <td>1.3</td>\n      <td>1017.8</td>\n      <td>24.7</td>\n      <td>...</td>\n      <td>417.984943</td>\n      <td>8.943498</td>\n      <td>24.267937</td>\n      <td>4.441231</td>\n      <td>1.996646</td>\n      <td>18.408272</td>\n      <td>20.995142</td>\n      <td>24.389594</td>\n      <td>2.098959</td>\n      <td>1017.919237</td>\n    </tr>\n    <tr>\n      <th>2022-12-31 17:00:00</th>\n      <td>107.0</td>\n      <td>1.1</td>\n      <td>1016.6</td>\n      <td>24.9</td>\n      <td>24.4</td>\n      <td>23.9</td>\n      <td>104.0</td>\n      <td>0.0</td>\n      <td>1017.7</td>\n      <td>25.8</td>\n      <td>...</td>\n      <td>411.841363</td>\n      <td>8.179465</td>\n      <td>22.984720</td>\n      <td>4.652906</td>\n      <td>1.691243</td>\n      <td>18.545894</td>\n      <td>21.225326</td>\n      <td>24.389815</td>\n      <td>0.921441</td>\n      <td>1018.291602</td>\n    </tr>\n    <tr>\n      <th>2022-12-31 18:00:00</th>\n      <td>147.0</td>\n      <td>1.1</td>\n      <td>1015.9</td>\n      <td>25.1</td>\n      <td>24.5</td>\n      <td>24.3</td>\n      <td>42.0</td>\n      <td>0.5</td>\n      <td>1016.8</td>\n      <td>25.5</td>\n      <td>...</td>\n      <td>43.822761</td>\n      <td>8.047924</td>\n      <td>22.725292</td>\n      <td>3.948578</td>\n      <td>1.141554</td>\n      <td>18.909604</td>\n      <td>21.419642</td>\n      <td>24.390418</td>\n      <td>0.338087</td>\n      <td>1017.865488</td>\n    </tr>\n    <tr>\n      <th>2022-12-31 19:00:00</th>\n      <td>195.0</td>\n      <td>0.5</td>\n      <td>1015.0</td>\n      <td>25.6</td>\n      <td>24.7</td>\n      <td>24.5</td>\n      <td>22.0</td>\n      <td>0.6</td>\n      <td>1015.9</td>\n      <td>25.1</td>\n      <td>...</td>\n      <td>35.331799</td>\n      <td>8.420646</td>\n      <td>22.644469</td>\n      <td>3.053152</td>\n      <td>0.966395</td>\n      <td>19.248257</td>\n      <td>21.649691</td>\n      <td>24.390271</td>\n      <td>0.631639</td>\n      <td>1017.248102</td>\n    </tr>\n    <tr>\n      <th>2022-12-31 20:00:00</th>\n      <td>210.0</td>\n      <td>1.0</td>\n      <td>1015.0</td>\n      <td>25.3</td>\n      <td>24.5</td>\n      <td>24.3</td>\n      <td>88.0</td>\n      <td>1.2</td>\n      <td>1015.4</td>\n      <td>24.7</td>\n      <td>...</td>\n      <td>33.740940</td>\n      <td>8.605017</td>\n      <td>22.728002</td>\n      <td>2.526843</td>\n      <td>0.622521</td>\n      <td>19.294151</td>\n      <td>21.836701</td>\n      <td>24.391186</td>\n      <td>1.091415</td>\n      <td>1016.593067</td>\n    </tr>\n    <tr>\n      <th>2022-12-31 21:00:00</th>\n      <td>231.0</td>\n      <td>0.6</td>\n      <td>1014.7</td>\n      <td>26.4</td>\n      <td>24.7</td>\n      <td>24.4</td>\n      <td>87.0</td>\n      <td>1.7</td>\n      <td>1014.9</td>\n      <td>24.6</td>\n      <td>...</td>\n      <td>378.306108</td>\n      <td>7.746672</td>\n      <td>22.540305</td>\n      <td>2.672840</td>\n      <td>1.018030</td>\n      <td>19.204815</td>\n      <td>22.033164</td>\n      <td>24.391115</td>\n      <td>1.337534</td>\n      <td>1016.395127</td>\n    </tr>\n    <tr>\n      <th>2022-12-31 22:00:00</th>\n      <td>18.0</td>\n      <td>0.7</td>\n      <td>1014.9</td>\n      <td>25.4</td>\n      <td>24.7</td>\n      <td>24.1</td>\n      <td>90.0</td>\n      <td>2.5</td>\n      <td>1014.9</td>\n      <td>24.5</td>\n      <td>...</td>\n      <td>373.932805</td>\n      <td>6.481939</td>\n      <td>22.370132</td>\n      <td>3.160121</td>\n      <td>2.077114</td>\n      <td>19.313397</td>\n      <td>22.237799</td>\n      <td>24.389988</td>\n      <td>1.764799</td>\n      <td>1016.187834</td>\n    </tr>\n    <tr>\n      <th>2022-12-31 23:00:00</th>\n      <td>68.0</td>\n      <td>1.6</td>\n      <td>1015.0</td>\n      <td>25.0</td>\n      <td>24.5</td>\n      <td>24.3</td>\n      <td>116.0</td>\n      <td>3.7</td>\n      <td>1015.0</td>\n      <td>24.5</td>\n      <td>...</td>\n      <td>379.680220</td>\n      <td>3.287809</td>\n      <td>24.069617</td>\n      <td>3.482519</td>\n      <td>1.562157</td>\n      <td>18.548164</td>\n      <td>22.083769</td>\n      <td>24.883582</td>\n      <td>2.489167</td>\n      <td>1017.066559</td>\n    </tr>\n  </tbody>\n</table>\n<p>24 rows × 208 columns</p>\n</div>"
     },
     "execution_count": 7,
     "metadata": {},
     "output_type": "execute_result"
    }
   ],
   "source": [
    "report.one_shot_forecast"
   ],
   "metadata": {
    "collapsed": false,
    "pycharm": {
     "name": "#%%\n"
    }
   }
  },
  {
   "cell_type": "code",
   "execution_count": 8,
   "outputs": [
    {
     "data": {
      "text/plain": "Index(['WDIR_42001', 'WSPD_42001', 'PRES_42001', 'ATMP_42001', 'WTMP_42001',\n       'DEWP_42001', 'WDIR_42002', 'WSPD_42002', 'PRES_42002', 'ATMP_42002',\n       ...\n       'WDIR_42039_ERA5_pred', 'WSPD_42039_ERA5_pred', 'ATMP_42039_ERA5_pred',\n       'WSPD_42035_ERA5_pred', 'WSPD_42001_ERA5_pred', 'DEWP_42020_ERA5_pred',\n       'ATMP_42019_ERA5_pred', 'WTMP_42039_ERA5_pred', 'WSPD_42002_ERA5_pred',\n       'PRES_42039_ERA5_pred'],\n      dtype='object', length=208)"
     },
     "execution_count": 8,
     "metadata": {},
     "output_type": "execute_result"
    }
   ],
   "source": [
    "report.one_shot_forecast.columns"
   ],
   "metadata": {
    "collapsed": false,
    "pycharm": {
     "name": "#%%\n"
    }
   }
  },
  {
   "cell_type": "code",
   "execution_count": 9,
   "outputs": [],
   "source": [
    "# DOES NOT HANDLE WIND DIRECTION OVERFLOW !!\n",
    "\n",
    "# def create_charts(df, title):\n",
    "#     base_features = set()\n",
    "#\n",
    "#     for column in df.columns:\n",
    "#         base_feature = column.replace('_pred', '')\n",
    "#         base_features.add(base_feature)\n",
    "#\n",
    "#     for base_feature in base_features:\n",
    "#\n",
    "#         pred_feature = f'{base_feature}_pred'\n",
    "#\n",
    "#         plt.figure(figsize=(10, 6))\n",
    "#         plt.plot(df.index, df[base_feature], label=base_feature, color='#1f77b4')\n",
    "#         plt.plot(df.index, df[pred_feature], label=pred_feature, color='#2ca02c')\n",
    "#\n",
    "#         plt.xlabel('Time')\n",
    "#         plt.ylabel(base_feature)\n",
    "#         plt.title(f'{title}')\n",
    "#         plt.legend()\n",
    "#         plt.show()\n",
    "#\n",
    "#         # Calc Metrics\n",
    "#         mae = mean_absolute_error(df[base_feature], df[pred_feature])\n",
    "#         mse = mean_squared_error(df[base_feature], df[pred_feature])\n",
    "#         print(f\"\\t\\tMAE: {mae} \\tMSE: {mse}\\n\\n\")"
   ],
   "metadata": {
    "collapsed": false,
    "pycharm": {
     "name": "#%%\n"
    }
   }
  },
  {
   "cell_type": "code",
   "execution_count": 10,
   "outputs": [],
   "source": [
    "#title =  f\"One-Shot-Forecast of: {filename.replace('.pickle','')}\"\n",
    "#create_charts(report.one_shot_forecast, title)"
   ],
   "metadata": {
    "collapsed": false,
    "pycharm": {
     "name": "#%%\n"
    }
   }
  },
  {
   "cell_type": "code",
   "execution_count": 11,
   "outputs": [],
   "source": [
    "import matplotlib.backends.backend_pdf as pdf_backend\n",
    "import matplotlib.pyplot as plt\n",
    "from sklearn.metrics import mean_absolute_error, mean_squared_error\n",
    "\n",
    "def create_charts_to_pdf(df, title, metadata, filename):\n",
    "    base_features = set()\n",
    "\n",
    "    for column in df.columns:\n",
    "        base_feature = column.replace('_pred', '')\n",
    "        base_features.add(base_feature)\n",
    "\n",
    "    with pdf_backend.PdfPages(filename) as pdf:\n",
    "        # Add metadata to the beginning of the PDF\n",
    "        fig = plt.figure(figsize=(6, 10))\n",
    "        plt.title('Test Metadata')\n",
    "        plt.figtext(0.5, 0.05, metadata, ha='center', fontsize=8)\n",
    "        #plt.figtext(0.1, 0.9, metadata)  # Adjust the coordinates as needed\n",
    "        plt.axis('off')\n",
    "        pdf.savefig(fig)\n",
    "        plt.close(fig)\n",
    "\n",
    "        MAE = {}\n",
    "        MSE = {}\n",
    "        for base_feature in base_features:\n",
    "            pred_feature = f'{base_feature}_pred'\n",
    "\n",
    "            fig = plt.figure(figsize=(10, 6))\n",
    "            plt.plot(df.index, df[base_feature], label=base_feature, color='#1f77b4')\n",
    "            plt.plot(df.index, df[pred_feature], label=pred_feature, color='#2ca02c')\n",
    "\n",
    "            plt.xlabel('Time')\n",
    "            plt.ylabel(base_feature)\n",
    "            plt.title(f'{title}')\n",
    "            plt.legend()\n",
    "\n",
    "            # Calculate metrics\n",
    "            if base_feature.startswith(\"WDIR\"):\n",
    "                mae = DP.mean_absolute_error_WDIR(df[base_feature], df[pred_feature])\n",
    "                mse = DP.mean_square_error_WDIR(df[base_feature], df[pred_feature])\n",
    "            else:\n",
    "                mae = mean_absolute_error(df[base_feature], df[pred_feature])\n",
    "                mse = mean_squared_error(df[base_feature], df[pred_feature])\n",
    "            MAE[base_feature] = mae.round(3)\n",
    "            MSE[base_feature] = mse.round(3)\n",
    "\n",
    "            # Add metrics to the current page of the PDF\n",
    "            fig.text(0.01, 0.02, f\"MAE: {mae.round(3)}\\nMSE: {mse.round(3)}\")  # Adjust the coordinates as needed\n",
    "            pdf.savefig(fig)\n",
    "            plt.close(fig)\n",
    "\n",
    "        return MAE, MSE"
   ],
   "metadata": {
    "collapsed": false,
    "pycharm": {
     "name": "#%%\n"
    }
   }
  },
  {
   "cell_type": "code",
   "execution_count": 11,
   "outputs": [],
   "source": [],
   "metadata": {
    "collapsed": false,
    "pycharm": {
     "name": "#%%\n"
    }
   }
  },
  {
   "cell_type": "markdown",
   "source": [
    "## Create Dict for report files:"
   ],
   "metadata": {
    "collapsed": false,
    "pycharm": {
     "name": "#%% md\n"
    }
   }
  },
  {
   "cell_type": "code",
   "execution_count": 12,
   "outputs": [],
   "source": [
    "filename = f\"{filename.replace('.pickle','')}\"\n",
    "directory = f\"data/evaluation/{filename}\"\n",
    "if not os.path.exists(directory):\n",
    "    os.makedirs(directory)  # Create the directory"
   ],
   "metadata": {
    "collapsed": false,
    "pycharm": {
     "name": "#%%\n"
    }
   }
  },
  {
   "cell_type": "markdown",
   "source": [
    "# Create PDF File"
   ],
   "metadata": {
    "collapsed": false,
    "pycharm": {
     "name": "#%% md\n"
    }
   }
  },
  {
   "cell_type": "code",
   "execution_count": 13,
   "outputs": [
    {
     "name": "stdout",
     "output_type": "stream",
     "text": [
      "saved:  data/evaluation/report_01_b\n"
     ]
    }
   ],
   "source": [
    "title =  f\"One-Shot-Forecast of: {filename.replace('.pickle','')}\"\n",
    "MAE_dict, MSE_dict = create_charts_to_pdf(report.one_shot_forecast, title, report.get_settings_string(), f\"{directory}/{filename}_charts.pdf\")\n",
    "print(\"saved: \", directory)"
   ],
   "metadata": {
    "collapsed": false,
    "pycharm": {
     "name": "#%%\n"
    }
   }
  },
  {
   "cell_type": "code",
   "execution_count": 14,
   "outputs": [],
   "source": [
    "def create_error_table(dictionary):\n",
    "    # Extract unique measurements and station IDs\n",
    "    measurements = set()\n",
    "    station_ids = set()\n",
    "    for key in dictionary.keys():\n",
    "        measurement, station_id, *_ = key.split('_')\n",
    "        measurements.add(measurement)\n",
    "        station_ids.add(station_id)\n",
    "\n",
    "    # Create empty table\n",
    "    table = pd.DataFrame(index=sorted(station_ids), columns=sorted(measurements))\n",
    "\n",
    "    # Fill table with dictionary values\n",
    "    for key, value in dictionary.items():\n",
    "        measurement, station_id, *_ = key.split('_')\n",
    "        if key.endswith('ERA5'):\n",
    "            measurement += '_ERA5'\n",
    "        table.loc[station_id, measurement] = value\n",
    "\n",
    "    # Replace missing values with NaN\n",
    "    table = table.fillna(np.nan)\n",
    "\n",
    "    return table"
   ],
   "metadata": {
    "collapsed": false,
    "pycharm": {
     "name": "#%%\n"
    }
   }
  },
  {
   "cell_type": "markdown",
   "source": [
    "## Create MAE CSV File:"
   ],
   "metadata": {
    "collapsed": false,
    "pycharm": {
     "name": "#%% md\n"
    }
   }
  },
  {
   "cell_type": "code",
   "execution_count": 15,
   "outputs": [],
   "source": [
    "MAE_df = create_error_table(MAE_dict)\n",
    "MAE_df.to_csv(f\"{directory}/{filename}_MAE.csv\")"
   ],
   "metadata": {
    "collapsed": false,
    "pycharm": {
     "name": "#%%\n"
    }
   }
  },
  {
   "cell_type": "markdown",
   "source": [
    "## Create MSE CSV File:"
   ],
   "metadata": {
    "collapsed": false,
    "pycharm": {
     "name": "#%% md\n"
    }
   }
  },
  {
   "cell_type": "code",
   "execution_count": 16,
   "outputs": [],
   "source": [
    "MSE_df = create_error_table(MSE_dict)\n",
    "MSE_df.to_csv(f\"{directory}/{filename}_MSE.csv\")"
   ],
   "metadata": {
    "collapsed": false,
    "pycharm": {
     "name": "#%%\n"
    }
   }
  },
  {
   "cell_type": "code",
   "execution_count": 17,
   "outputs": [
    {
     "name": "stdout",
     "output_type": "stream",
     "text": [
      "data/evaluation/report_01_b/report_01_b\n"
     ]
    }
   ],
   "source": [
    "print(f\"{directory}/{filename}\")"
   ],
   "metadata": {
    "collapsed": false,
    "pycharm": {
     "name": "#%%\n"
    }
   }
  },
  {
   "cell_type": "code",
   "execution_count": null,
   "outputs": [],
   "source": [],
   "metadata": {
    "collapsed": false,
    "pycharm": {
     "name": "#%%\n"
    }
   }
  }
 ],
 "metadata": {
  "kernelspec": {
   "display_name": "Python 3",
   "language": "python",
   "name": "python3"
  },
  "language_info": {
   "codemirror_mode": {
    "name": "ipython",
    "version": 2
   },
   "file_extension": ".py",
   "mimetype": "text/x-python",
   "name": "python",
   "nbconvert_exporter": "python",
   "pygments_lexer": "ipython2",
   "version": "2.7.6"
  }
 },
 "nbformat": 4,
 "nbformat_minor": 0
}