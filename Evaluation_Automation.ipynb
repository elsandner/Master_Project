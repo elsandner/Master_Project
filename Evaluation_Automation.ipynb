{
 "cells": [
  {
   "cell_type": "markdown",
   "source": [
    "# Automation to create several Reports in a loop !"
   ],
   "metadata": {
    "collapsed": false,
    "pycharm": {
     "name": "#%% md\n"
    }
   }
  },
  {
   "cell_type": "code",
   "execution_count": 6,
   "metadata": {
    "collapsed": true,
    "pycharm": {
     "name": "#%%\n"
    }
   },
   "outputs": [],
   "source": [
    "import pickle\n",
    "from script_utils import Experiment\n",
    "from script_utils import DataProcessor as DP\n",
    "import os\n",
    "\n",
    "import pandas as pd\n",
    "import numpy as np\n",
    "\n",
    "import matplotlib.backends.backend_pdf as pdf_backend\n",
    "import matplotlib.pyplot as plt\n",
    "from sklearn.metrics import mean_absolute_error, mean_squared_error"
   ]
  },
  {
   "cell_type": "code",
   "execution_count": 7,
   "outputs": [],
   "source": [
    "def create_charts_to_pdf(df, title, metadata, filename):\n",
    "    base_features = set()\n",
    "\n",
    "    for column in df.columns:\n",
    "        base_feature = column.replace('_pred', '')\n",
    "        base_features.add(base_feature)\n",
    "\n",
    "    with pdf_backend.PdfPages(filename) as pdf:\n",
    "        # Add metadata to the beginning of the PDF\n",
    "        fig = plt.figure(figsize=(6, 10))\n",
    "        plt.title('Test Metadata')\n",
    "        plt.figtext(0.5, 0.05, metadata, ha='center', fontsize=8)\n",
    "        #plt.figtext(0.1, 0.9, metadata)  # Adjust the coordinates as needed\n",
    "        plt.axis('off')\n",
    "        pdf.savefig(fig)\n",
    "        plt.close(fig)\n",
    "\n",
    "        MAE = {}\n",
    "        MSE = {}\n",
    "        for base_feature in base_features:\n",
    "            pred_feature = f'{base_feature}_pred'\n",
    "\n",
    "            fig = plt.figure(figsize=(10, 6))\n",
    "            plt.plot(df.index, df[base_feature], label=base_feature, color='#1f77b4')\n",
    "            plt.plot(df.index, df[pred_feature], label=pred_feature, color='#2ca02c')\n",
    "\n",
    "            plt.xlabel('Time')\n",
    "            plt.ylabel(base_feature)\n",
    "            plt.title(f'{title}')\n",
    "            plt.legend()\n",
    "\n",
    "            # Calculate metrics\n",
    "            if base_feature.startswith(\"WDIR\"):\n",
    "                mae = DP.mean_absolute_error_WDIR(df[base_feature], df[pred_feature])\n",
    "                mse = DP.mean_square_error_WDIR(df[base_feature], df[pred_feature])\n",
    "            else:\n",
    "                mae = mean_absolute_error(df[base_feature], df[pred_feature])\n",
    "                mse = mean_squared_error(df[base_feature], df[pred_feature])\n",
    "            MAE[base_feature] = mae.round(3)\n",
    "            MSE[base_feature] = mse.round(3)\n",
    "\n",
    "            # Add metrics to the current page of the PDF\n",
    "            fig.text(0.01, 0.02, f\"MAE: {mae.round(3)}\\nMSE: {mse.round(3)}\")  # Adjust the coordinates as needed\n",
    "            pdf.savefig(fig)\n",
    "            plt.close(fig)\n",
    "\n",
    "        return MAE, MSE"
   ],
   "metadata": {
    "collapsed": false,
    "pycharm": {
     "name": "#%%\n"
    }
   }
  },
  {
   "cell_type": "code",
   "execution_count": 8,
   "outputs": [],
   "source": [
    "def create_error_table(dictionary):\n",
    "    # Extract unique measurements and station IDs\n",
    "    measurements = set()\n",
    "    station_ids = set()\n",
    "    for key in dictionary.keys():\n",
    "        measurement, station_id, *_ = key.split('_')\n",
    "        measurements.add(measurement)\n",
    "        station_ids.add(station_id)\n",
    "\n",
    "    # Create empty table\n",
    "    table = pd.DataFrame(index=sorted(station_ids), columns=sorted(measurements))\n",
    "\n",
    "    # Fill table with dictionary values\n",
    "    for key, value in dictionary.items():\n",
    "        measurement, station_id, *_ = key.split('_')\n",
    "        if key.endswith('ERA5'):\n",
    "            measurement += '_ERA5'\n",
    "        table.loc[station_id, measurement] = value\n",
    "\n",
    "    # Replace missing values with NaN\n",
    "    table = table.fillna(np.nan)\n",
    "\n",
    "    return table"
   ],
   "metadata": {
    "collapsed": false,
    "pycharm": {
     "name": "#%%\n"
    }
   }
  },
  {
   "cell_type": "code",
   "execution_count": 9,
   "outputs": [],
   "source": [
    "#Type = True for MLM and false for SSUM\n",
    "def evaluation(filename, type):\n",
    "\n",
    "    # open the file for reading in binary mode\n",
    "    report: Experiment\n",
    "    with open(f'data/reports/Publication/Stage_4/{filename}', 'rb') as f:\n",
    "        # load the object from the file using pickle.load()\n",
    "        report = pickle.load(f)\n",
    "\n",
    "    #Create directory if not exists\n",
    "    filename = f\"{filename.replace('.pickle','')}\"\n",
    "    directory = f\"data/evaluation/Publication/Stage_4/{filename}\"\n",
    "    if not os.path.exists(directory):\n",
    "        os.makedirs(directory)  # Create the directory\n",
    "\n",
    "   #Create PDF report\n",
    "    title =  f\"One-Shot-Forecast of: {filename.replace('.pickle','')}\"\n",
    "    MAE_dict, MSE_dict = create_charts_to_pdf(report.one_shot_forecast, title, report.get_settings_string(), f\"{directory}/{filename}_charts.pdf\")\n",
    "\n",
    "\n",
    "    if type:\n",
    "        MAE_df = create_error_table(MAE_dict)\n",
    "        MAE_df.to_csv(f\"{directory}/{filename}_MAE.csv\")\n",
    "        MSE_df = create_error_table(MSE_dict)\n",
    "        MSE_df.to_csv(f\"{directory}/{filename}_MSE.csv\")\n",
    "\n",
    "    else:\n",
    "        MAE_df = pd.DataFrame(MAE_dict.items(), columns=['Feature', 'MAE'])\n",
    "        MSE_df = pd.DataFrame(MSE_dict.items(), columns=['Feature', 'MSE'])\n",
    "        error_df = pd.merge(MAE_df, MSE_df, on='Feature')\n",
    "        error_df.to_csv(f\"{directory}/{filename}_Error.csv\", index=False)\n",
    "\n",
    "\n",
    "    print(f\"Saved: {directory}/{filename}\")"
   ],
   "metadata": {
    "collapsed": false,
    "pycharm": {
     "name": "#%%\n"
    }
   }
  },
  {
   "cell_type": "code",
   "execution_count": 10,
   "outputs": [
    {
     "name": "stdout",
     "output_type": "stream",
     "text": [
      "Saved: data/evaluation/Publication/Stage_4/report_A_LSTM_2_0.0/report_A_LSTM_2_0.0\n",
      "Saved: data/evaluation/Publication/Stage_4/report_A_LSTM_2_0.1/report_A_LSTM_2_0.1\n",
      "Saved: data/evaluation/Publication/Stage_4/report_A_LSTM_2_0.2/report_A_LSTM_2_0.2\n",
      "Saved: data/evaluation/Publication/Stage_4/report_A_LSTM_2_0.3/report_A_LSTM_2_0.3\n",
      "Saved: data/evaluation/Publication/Stage_4/report_A_LSTM_2_0.4/report_A_LSTM_2_0.4\n",
      "Saved: data/evaluation/Publication/Stage_4/report_A_LSTM_2_0.5/report_A_LSTM_2_0.5\n",
      "Saved: data/evaluation/Publication/Stage_4/report_A_LSTM_2_0.6/report_A_LSTM_2_0.6\n",
      "Saved: data/evaluation/Publication/Stage_4/report_A_LSTM_2_0.7/report_A_LSTM_2_0.7\n",
      "Saved: data/evaluation/Publication/Stage_4/report_A_LSTM_2_0.8/report_A_LSTM_2_0.8\n",
      "Saved: data/evaluation/Publication/Stage_4/report_A_LSTM_2_0.9/report_A_LSTM_2_0.9\n",
      "Saved: data/evaluation/Publication/Stage_4/report_A_LSTM_2_1.0/report_A_LSTM_2_1.0\n",
      "Saved: data/evaluation/Publication/Stage_4/report_A_CNN_2_0.0/report_A_CNN_2_0.0\n",
      "Saved: data/evaluation/Publication/Stage_4/report_A_CNN_2_0.1/report_A_CNN_2_0.1\n",
      "Saved: data/evaluation/Publication/Stage_4/report_A_CNN_2_0.2/report_A_CNN_2_0.2\n",
      "Saved: data/evaluation/Publication/Stage_4/report_A_CNN_2_0.3/report_A_CNN_2_0.3\n",
      "Saved: data/evaluation/Publication/Stage_4/report_A_CNN_2_0.4/report_A_CNN_2_0.4\n",
      "Saved: data/evaluation/Publication/Stage_4/report_A_CNN_2_0.5/report_A_CNN_2_0.5\n",
      "Saved: data/evaluation/Publication/Stage_4/report_A_CNN_2_0.6/report_A_CNN_2_0.6\n",
      "Saved: data/evaluation/Publication/Stage_4/report_A_CNN_2_0.7/report_A_CNN_2_0.7\n",
      "Saved: data/evaluation/Publication/Stage_4/report_A_CNN_2_0.8/report_A_CNN_2_0.8\n",
      "Saved: data/evaluation/Publication/Stage_4/report_A_CNN_2_0.9/report_A_CNN_2_0.9\n",
      "Saved: data/evaluation/Publication/Stage_4/report_A_CNN_2_1.0/report_A_CNN_2_1.0\n",
      "Saved: data/evaluation/Publication/Stage_4/report_A_transformer_0.0/report_A_transformer_0.0\n",
      "Saved: data/evaluation/Publication/Stage_4/report_A_transformer_0.1/report_A_transformer_0.1\n",
      "Saved: data/evaluation/Publication/Stage_4/report_A_transformer_0.2/report_A_transformer_0.2\n",
      "Saved: data/evaluation/Publication/Stage_4/report_A_transformer_0.3/report_A_transformer_0.3\n",
      "Saved: data/evaluation/Publication/Stage_4/report_A_transformer_0.4/report_A_transformer_0.4\n",
      "Saved: data/evaluation/Publication/Stage_4/report_A_transformer_0.5/report_A_transformer_0.5\n",
      "Saved: data/evaluation/Publication/Stage_4/report_A_transformer_0.6/report_A_transformer_0.6\n",
      "Saved: data/evaluation/Publication/Stage_4/report_A_transformer_0.7/report_A_transformer_0.7\n",
      "Saved: data/evaluation/Publication/Stage_4/report_A_transformer_0.8/report_A_transformer_0.8\n",
      "Saved: data/evaluation/Publication/Stage_4/report_A_transformer_0.9/report_A_transformer_0.9\n",
      "Saved: data/evaluation/Publication/Stage_4/report_A_transformer_1.0/report_A_transformer_1.0\n"
     ]
    }
   ],
   "source": [
    "approach = \"MLM\"   # \"MLM\" ... Multi Location Modelling, \"SSUM\" ... Station Specific Unified Model\n",
    "model_names = [\"LSTM_2\", \"CNN_2\", 'transformer']    #[\"LSTM\", \"GRU\", \"CNN\", \"TCN\"]\n",
    "alpha_values = np.arange(0, 1.1, 0.1)   #lower boundary, upper boundary, increment\n",
    "\n",
    "if approach == \"MLM\":\n",
    "    for model in model_names:\n",
    "        for alpha in alpha_values:\n",
    "            filename = f'report_A_{model}_{format(alpha, \".1f\")}.pickle'\n",
    "            evaluation(filename, True)\n",
    "\n",
    "elif approach == \"SSUM\":\n",
    "    for model in model_names:\n",
    "        for alpha in alpha_values:\n",
    "            filename = f'report_B_{model}_{format(alpha, \".1f\")}.pickle'\n",
    "            evaluation(filename, False)"
   ],
   "metadata": {
    "collapsed": false,
    "pycharm": {
     "name": "#%%\n"
    }
   }
  },
  {
   "cell_type": "code",
   "execution_count": 5,
   "outputs": [],
   "source": [],
   "metadata": {
    "collapsed": false,
    "pycharm": {
     "name": "#%%\n"
    }
   }
  },
  {
   "cell_type": "code",
   "execution_count": 5,
   "outputs": [],
   "source": [
    "\n"
   ],
   "metadata": {
    "collapsed": false,
    "pycharm": {
     "name": "#%%\n"
    }
   }
  },
  {
   "cell_type": "code",
   "execution_count": null,
   "outputs": [],
   "source": [],
   "metadata": {
    "collapsed": false,
    "pycharm": {
     "name": "#%%\n"
    }
   }
  }
 ],
 "metadata": {
  "kernelspec": {
   "display_name": "Python 3",
   "language": "python",
   "name": "python3"
  },
  "language_info": {
   "codemirror_mode": {
    "name": "ipython",
    "version": 2
   },
   "file_extension": ".py",
   "mimetype": "text/x-python",
   "name": "python",
   "nbconvert_exporter": "python",
   "pygments_lexer": "ipython2",
   "version": "2.7.6"
  }
 },
 "nbformat": 4,
 "nbformat_minor": 0
}