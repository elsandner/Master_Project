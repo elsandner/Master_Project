{
 "cells": [
  {
   "cell_type": "markdown",
   "source": [
    "# Automation to create several Reports in a loop !"
   ],
   "metadata": {
    "collapsed": false,
    "pycharm": {
     "name": "#%% md\n"
    }
   }
  },
  {
   "cell_type": "code",
   "execution_count": 16,
   "metadata": {
    "collapsed": true,
    "pycharm": {
     "name": "#%%\n"
    }
   },
   "outputs": [],
   "source": [
    "import pickle\n",
    "from script_utils import Experiment\n",
    "from script_utils import DataProcessor as DP\n",
    "import os\n",
    "\n",
    "import pandas as pd\n",
    "import numpy as np\n",
    "\n",
    "import matplotlib.backends.backend_pdf as pdf_backend\n",
    "import matplotlib.pyplot as plt\n",
    "from sklearn.metrics import mean_absolute_error, mean_squared_error"
   ]
  },
  {
   "cell_type": "code",
   "execution_count": 17,
   "outputs": [],
   "source": [
    "def create_charts_to_pdf(df, title, metadata, filename):\n",
    "    base_features = set()\n",
    "\n",
    "    for column in df.columns:\n",
    "        base_feature = column.replace('_pred', '')\n",
    "        base_features.add(base_feature)\n",
    "\n",
    "    with pdf_backend.PdfPages(filename) as pdf:\n",
    "        # Add metadata to the beginning of the PDF\n",
    "        fig = plt.figure(figsize=(6, 10))\n",
    "        plt.title('Test Metadata')\n",
    "        plt.figtext(0.5, 0.05, metadata, ha='center', fontsize=8)\n",
    "        #plt.figtext(0.1, 0.9, metadata)  # Adjust the coordinates as needed\n",
    "        plt.axis('off')\n",
    "        pdf.savefig(fig)\n",
    "        plt.close(fig)\n",
    "\n",
    "        MAE = {}\n",
    "        MSE = {}\n",
    "        for base_feature in base_features:\n",
    "            pred_feature = f'{base_feature}_pred'\n",
    "\n",
    "            fig = plt.figure(figsize=(10, 6))\n",
    "            plt.plot(df.index, df[base_feature], label=base_feature, color='#1f77b4')\n",
    "            plt.plot(df.index, df[pred_feature], label=pred_feature, color='#2ca02c')\n",
    "\n",
    "            plt.xlabel('Time')\n",
    "            plt.ylabel(base_feature)\n",
    "            plt.title(f'{title}')\n",
    "            plt.legend()\n",
    "\n",
    "            # Calculate metrics\n",
    "            if base_feature.startswith(\"WDIR\"):\n",
    "                mae = DP.mean_absolute_error_WDIR(df[base_feature], df[pred_feature])\n",
    "                mse = DP.mean_square_error_WDIR(df[base_feature], df[pred_feature])\n",
    "            else:\n",
    "                mae = mean_absolute_error(df[base_feature], df[pred_feature])\n",
    "                mse = mean_squared_error(df[base_feature], df[pred_feature])\n",
    "            MAE[base_feature] = mae.round(3)\n",
    "            MSE[base_feature] = mse.round(3)\n",
    "\n",
    "            # Add metrics to the current page of the PDF\n",
    "            fig.text(0.01, 0.02, f\"MAE: {mae.round(3)}\\nMSE: {mse.round(3)}\")  # Adjust the coordinates as needed\n",
    "            pdf.savefig(fig)\n",
    "            plt.close(fig)\n",
    "\n",
    "        return MAE, MSE"
   ],
   "metadata": {
    "collapsed": false,
    "pycharm": {
     "name": "#%%\n"
    }
   }
  },
  {
   "cell_type": "code",
   "execution_count": 18,
   "outputs": [],
   "source": [
    "def create_error_table(dictionary):\n",
    "    # Extract unique measurements and station IDs\n",
    "    measurements = set()\n",
    "    station_ids = set()\n",
    "    for key in dictionary.keys():\n",
    "        measurement, station_id, *_ = key.split('_')\n",
    "        measurements.add(measurement)\n",
    "        station_ids.add(station_id)\n",
    "\n",
    "    # Create empty table\n",
    "    table = pd.DataFrame(index=sorted(station_ids), columns=sorted(measurements))\n",
    "\n",
    "    # Fill table with dictionary values\n",
    "    for key, value in dictionary.items():\n",
    "        measurement, station_id, *_ = key.split('_')\n",
    "        if key.endswith('ERA5'):\n",
    "            measurement += '_ERA5'\n",
    "        table.loc[station_id, measurement] = value\n",
    "\n",
    "    # Replace missing values with NaN\n",
    "    table = table.fillna(np.nan)\n",
    "\n",
    "    return table"
   ],
   "metadata": {
    "collapsed": false,
    "pycharm": {
     "name": "#%%\n"
    }
   }
  },
  {
   "cell_type": "code",
   "execution_count": 19,
   "outputs": [],
   "source": [
    "#Type = True for MLM and false for SSUM\n",
    "def evaluation(filename, type):\n",
    "\n",
    "    # open the file for reading in binary mode\n",
    "    report: Experiment\n",
    "    with open(f'data/reports/Publication/center_42003/{filename}', 'rb') as f:\n",
    "        # load the object from the file using pickle.load()\n",
    "        report = pickle.load(f)\n",
    "\n",
    "    #Create directory if not exists\n",
    "    filename = f\"{filename.replace('.pickle','')}\"\n",
    "    directory = f\"data/evaluation/Publication/center_42003//{filename}\"\n",
    "    if not os.path.exists(directory):\n",
    "        os.makedirs(directory)  # Create the directory\n",
    "\n",
    "   #Create PDF report\n",
    "    title =  f\"One-Shot-Forecast of: {filename.replace('.pickle','')}\"\n",
    "    MAE_dict, MSE_dict = create_charts_to_pdf(report.one_shot_forecast, title, report.get_settings_string(), f\"{directory}/{filename}_charts.pdf\")\n",
    "\n",
    "\n",
    "    if type:\n",
    "        MAE_df = create_error_table(MAE_dict)\n",
    "        MAE_df.to_csv(f\"{directory}/{filename}_MAE.csv\")\n",
    "        MSE_df = create_error_table(MSE_dict)\n",
    "        MSE_df.to_csv(f\"{directory}/{filename}_MSE.csv\")\n",
    "\n",
    "    else:\n",
    "        MAE_df = pd.DataFrame(MAE_dict.items(), columns=['Feature', 'MAE'])\n",
    "        MSE_df = pd.DataFrame(MSE_dict.items(), columns=['Feature', 'MSE'])\n",
    "        error_df = pd.merge(MAE_df, MSE_df, on='Feature')\n",
    "        error_df.to_csv(f\"{directory}/{filename}_Error.csv\", index=False)\n",
    "\n",
    "\n",
    "    print(f\"Saved: {directory}/{filename}\")"
   ],
   "metadata": {
    "collapsed": false,
    "pycharm": {
     "name": "#%%\n"
    }
   }
  },
  {
   "cell_type": "code",
   "execution_count": 20,
   "outputs": [
    {
     "ename": "FileNotFoundError",
     "evalue": "[Errno 2] No such file or directory: 'data/reports/Publication/center_42003/report_A_LSTM_2_0.0.pickle'",
     "output_type": "error",
     "traceback": [
      "\u001B[0;31m---------------------------------------------------------------------------\u001B[0m",
      "\u001B[0;31mFileNotFoundError\u001B[0m                         Traceback (most recent call last)",
      "Cell \u001B[0;32mIn[20], line 9\u001B[0m\n\u001B[1;32m      7\u001B[0m         \u001B[38;5;28;01mfor\u001B[39;00m alpha \u001B[38;5;129;01min\u001B[39;00m alpha_values:\n\u001B[1;32m      8\u001B[0m             filename \u001B[38;5;241m=\u001B[39m \u001B[38;5;124mf\u001B[39m\u001B[38;5;124m'\u001B[39m\u001B[38;5;124mreport_A_\u001B[39m\u001B[38;5;132;01m{\u001B[39;00mmodel\u001B[38;5;132;01m}\u001B[39;00m\u001B[38;5;124m_\u001B[39m\u001B[38;5;132;01m{\u001B[39;00m\u001B[38;5;28mformat\u001B[39m(alpha, \u001B[38;5;124m\"\u001B[39m\u001B[38;5;124m.1f\u001B[39m\u001B[38;5;124m\"\u001B[39m)\u001B[38;5;132;01m}\u001B[39;00m\u001B[38;5;124m.pickle\u001B[39m\u001B[38;5;124m'\u001B[39m\n\u001B[0;32m----> 9\u001B[0m             \u001B[43mevaluation\u001B[49m\u001B[43m(\u001B[49m\u001B[43mfilename\u001B[49m\u001B[43m,\u001B[49m\u001B[43m \u001B[49m\u001B[38;5;28;43;01mTrue\u001B[39;49;00m\u001B[43m)\u001B[49m\n\u001B[1;32m     11\u001B[0m \u001B[38;5;28;01melif\u001B[39;00m approach \u001B[38;5;241m==\u001B[39m \u001B[38;5;124m\"\u001B[39m\u001B[38;5;124mSSUM\u001B[39m\u001B[38;5;124m\"\u001B[39m:\n\u001B[1;32m     12\u001B[0m     \u001B[38;5;28;01mfor\u001B[39;00m model \u001B[38;5;129;01min\u001B[39;00m model_names:\n",
      "Cell \u001B[0;32mIn[19], line 6\u001B[0m, in \u001B[0;36mevaluation\u001B[0;34m(filename, type)\u001B[0m\n\u001B[1;32m      2\u001B[0m \u001B[38;5;28;01mdef\u001B[39;00m \u001B[38;5;21mevaluation\u001B[39m(filename, \u001B[38;5;28mtype\u001B[39m):\n\u001B[1;32m      3\u001B[0m \n\u001B[1;32m      4\u001B[0m     \u001B[38;5;66;03m# open the file for reading in binary mode\u001B[39;00m\n\u001B[1;32m      5\u001B[0m     report: Experiment\n\u001B[0;32m----> 6\u001B[0m     \u001B[38;5;28;01mwith\u001B[39;00m \u001B[38;5;28;43mopen\u001B[39;49m\u001B[43m(\u001B[49m\u001B[38;5;124;43mf\u001B[39;49m\u001B[38;5;124;43m'\u001B[39;49m\u001B[38;5;124;43mdata/reports/Publication/center_42003/\u001B[39;49m\u001B[38;5;132;43;01m{\u001B[39;49;00m\u001B[43mfilename\u001B[49m\u001B[38;5;132;43;01m}\u001B[39;49;00m\u001B[38;5;124;43m'\u001B[39;49m\u001B[43m,\u001B[49m\u001B[43m \u001B[49m\u001B[38;5;124;43m'\u001B[39;49m\u001B[38;5;124;43mrb\u001B[39;49m\u001B[38;5;124;43m'\u001B[39;49m\u001B[43m)\u001B[49m \u001B[38;5;28;01mas\u001B[39;00m f:\n\u001B[1;32m      7\u001B[0m         \u001B[38;5;66;03m# load the object from the file using pickle.load()\u001B[39;00m\n\u001B[1;32m      8\u001B[0m         report \u001B[38;5;241m=\u001B[39m pickle\u001B[38;5;241m.\u001B[39mload(f)\n\u001B[1;32m     10\u001B[0m     \u001B[38;5;66;03m#Create directory if not exists\u001B[39;00m\n",
      "File \u001B[0;32m/opt/homebrew/Caskroom/miniforge/base/envs/Master_Project/lib/python3.8/site-packages/IPython/core/interactiveshell.py:282\u001B[0m, in \u001B[0;36m_modified_open\u001B[0;34m(file, *args, **kwargs)\u001B[0m\n\u001B[1;32m    275\u001B[0m \u001B[38;5;28;01mif\u001B[39;00m file \u001B[38;5;129;01min\u001B[39;00m {\u001B[38;5;241m0\u001B[39m, \u001B[38;5;241m1\u001B[39m, \u001B[38;5;241m2\u001B[39m}:\n\u001B[1;32m    276\u001B[0m     \u001B[38;5;28;01mraise\u001B[39;00m \u001B[38;5;167;01mValueError\u001B[39;00m(\n\u001B[1;32m    277\u001B[0m         \u001B[38;5;124mf\u001B[39m\u001B[38;5;124m\"\u001B[39m\u001B[38;5;124mIPython won\u001B[39m\u001B[38;5;124m'\u001B[39m\u001B[38;5;124mt let you open fd=\u001B[39m\u001B[38;5;132;01m{\u001B[39;00mfile\u001B[38;5;132;01m}\u001B[39;00m\u001B[38;5;124m by default \u001B[39m\u001B[38;5;124m\"\u001B[39m\n\u001B[1;32m    278\u001B[0m         \u001B[38;5;124m\"\u001B[39m\u001B[38;5;124mas it is likely to crash IPython. If you know what you are doing, \u001B[39m\u001B[38;5;124m\"\u001B[39m\n\u001B[1;32m    279\u001B[0m         \u001B[38;5;124m\"\u001B[39m\u001B[38;5;124myou can use builtins\u001B[39m\u001B[38;5;124m'\u001B[39m\u001B[38;5;124m open.\u001B[39m\u001B[38;5;124m\"\u001B[39m\n\u001B[1;32m    280\u001B[0m     )\n\u001B[0;32m--> 282\u001B[0m \u001B[38;5;28;01mreturn\u001B[39;00m \u001B[43mio_open\u001B[49m\u001B[43m(\u001B[49m\u001B[43mfile\u001B[49m\u001B[43m,\u001B[49m\u001B[43m \u001B[49m\u001B[38;5;241;43m*\u001B[39;49m\u001B[43margs\u001B[49m\u001B[43m,\u001B[49m\u001B[43m \u001B[49m\u001B[38;5;241;43m*\u001B[39;49m\u001B[38;5;241;43m*\u001B[39;49m\u001B[43mkwargs\u001B[49m\u001B[43m)\u001B[49m\n",
      "\u001B[0;31mFileNotFoundError\u001B[0m: [Errno 2] No such file or directory: 'data/reports/Publication/center_42003/report_A_LSTM_2_0.0.pickle'"
     ]
    }
   ],
   "source": [
    "approach = \"MLM\"   # \"MLM\" ... Multi Location Modelling, \"SSUM\" ... Station Specific Unified Model\n",
    "model_names = [\"LSTM_2\", \"CNN_2\", 'transformer']    #[\"LSTM\", \"GRU\", \"CNN\", \"TCN\"]\n",
    "alpha_values = np.arange(0, 1.1, 0.1)   #lower boundary, upper boundary, increment\n",
    "\n",
    "if approach == \"MLM\":\n",
    "    for model in model_names:\n",
    "        for alpha in alpha_values:\n",
    "            filename = f'report_A_{model}_{format(alpha, \".1f\")}.pickle'\n",
    "            evaluation(filename, True)\n",
    "\n",
    "elif approach == \"SSUM\":\n",
    "    for model in model_names:\n",
    "        for alpha in alpha_values:\n",
    "            filename = f'report_B_{model}_{format(alpha, \".1f\")}.pickle'\n",
    "            evaluation(filename, False)"
   ],
   "metadata": {
    "collapsed": false,
    "pycharm": {
     "name": "#%%\n"
    }
   }
  },
  {
   "cell_type": "markdown",
   "source": [],
   "metadata": {
    "collapsed": false,
    "pycharm": {
     "name": "#%% md\n"
    }
   }
  },
  {
   "cell_type": "markdown",
   "source": [
    "# Create Specific reports:"
   ],
   "metadata": {
    "collapsed": false,
    "pycharm": {
     "name": "#%% md\n"
    }
   }
  },
  {
   "cell_type": "code",
   "execution_count": 20,
   "outputs": [
    {
     "name": "stdout",
     "output_type": "stream",
     "text": [
      "Saved: data/evaluation/Publication/Stage_2/report_A_LSTM_2_0.7/report_A_LSTM_2_0.7\n",
      "Saved: data/evaluation/Publication/Stage_2/report_A_CNN_2_0.2/report_A_CNN_2_0.2\n",
      "Saved: data/evaluation/Publication/Stage_2/report_A_transformer_0.2/report_A_transformer_0.2\n"
     ]
    }
   ],
   "source": [
    "filenames = [\"report_A_LSTM_2_0.7.pickle\",\n",
    "             \"report_A_CNN_2_0.2.pickle\",\n",
    "             \"report_A_transformer_0.2.pickle\",\n",
    "            ]\n",
    "for filename in filenames:\n",
    "    evaluation(filename, True)"
   ],
   "metadata": {
    "collapsed": false,
    "pycharm": {
     "name": "#%%\n"
    }
   }
  },
  {
   "cell_type": "markdown",
   "source": [
    "# Single Report:"
   ],
   "metadata": {
    "collapsed": false,
    "pycharm": {
     "name": "#%% md\n"
    }
   }
  },
  {
   "cell_type": "code",
   "execution_count": 22,
   "outputs": [
    {
     "name": "stdout",
     "output_type": "stream",
     "text": [
      "Saved: data/evaluation/Publication/center_42003//report_42003_stage0_LSTM_1/report_42003_stage0_LSTM_1\n"
     ]
    }
   ],
   "source": [
    "evaluation('report_42003_stage0_LSTM_1.pickle', True)"
   ],
   "metadata": {
    "collapsed": false,
    "pycharm": {
     "name": "#%%\n"
    }
   }
  },
  {
   "cell_type": "code",
   "execution_count": null,
   "outputs": [],
   "source": [],
   "metadata": {
    "collapsed": false,
    "pycharm": {
     "name": "#%%\n"
    }
   }
  }
 ],
 "metadata": {
  "kernelspec": {
   "display_name": "Python 3",
   "language": "python",
   "name": "python3"
  },
  "language_info": {
   "codemirror_mode": {
    "name": "ipython",
    "version": 2
   },
   "file_extension": ".py",
   "mimetype": "text/x-python",
   "name": "python",
   "nbconvert_exporter": "python",
   "pygments_lexer": "ipython2",
   "version": "2.7.6"
  }
 },
 "nbformat": 4,
 "nbformat_minor": 0
}