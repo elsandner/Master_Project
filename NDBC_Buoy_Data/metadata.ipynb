{
 "cells": [
  {
   "cell_type": "markdown",
   "source": [
    "# Metadata of NDBC Buoys\n",
    "\n",
    "Most important is the GPS location of the buoys. Later, also sensor hights etc could be added here.\n",
    "\n",
    "The goal for now is to build a Dataframe including the buoy ID as key and the buoys latitude and longitude."
   ],
   "metadata": {
    "collapsed": false,
    "pycharm": {
     "name": "#%% md\n"
    }
   }
  },
  {
   "cell_type": "markdown",
   "source": [
    "## Metadata in XML\n",
    "The metadata in XML is available at:\n",
    "http://www.ndbc.noaa.gov/metadata/stationmetadata.xml\n",
    "The supporting XML schema can be found at:\n",
    "http://www.ndbc.noaa.gov/metadata/stationmetadata.xsd\n",
    "\n",
    "This file contains the historical metadata back to 2000 for all stations on the NDBC\n",
    "website. Limited metadata is available for non-NDBC stations. The file is generated once\n",
    "daily at midnight U.S. Central Time (05:00 UTC during daylight saving time or 06:00 UTC\n",
    "during standard time).\n",
    "\n",
    "Note: this file is fairly new and there were some inconsistencies in our older metadata, so this\n",
    "file is not 100% accurate, however, it is the best representation of the station history from our\n",
    "perspective.\n",
    "\n",
    "Source: https://www.ndbc.noaa.gov/docs/ndbc_web_data_guide.pdf (chapter 6)\n",
    "\n",
    "## Usefull Tutorial:\n",
    "https://www.studytonight.com/python-howtos/how-to-read-xml-file-in-python#:~:text=To%20read%20an%20XML%20file,XML%20file%20using%20getroot()%20."
   ],
   "metadata": {
    "collapsed": false,
    "pycharm": {
     "name": "#%% md\n"
    }
   }
  },
  {
   "cell_type": "code",
   "execution_count": 2,
   "outputs": [],
   "source": [
    "import pandas as pd\n",
    "from bs4 import BeautifulSoup"
   ],
   "metadata": {
    "collapsed": false,
    "pycharm": {
     "name": "#%%\n"
    }
   }
  },
  {
   "cell_type": "code",
   "execution_count": 3,
   "outputs": [],
   "source": [
    "with open(\"../data/metadata_01_14_2023.xml\", 'r') as f:\n",
    "    data = f.read()"
   ],
   "metadata": {
    "collapsed": false,
    "pycharm": {
     "name": "#%%\n"
    }
   }
  },
  {
   "cell_type": "code",
   "execution_count": 4,
   "outputs": [],
   "source": [
    "# Passing the stored data inside the beautifulsoup parser\n",
    "bs_data = BeautifulSoup(data, 'xml')"
   ],
   "metadata": {
    "collapsed": false,
    "pycharm": {
     "name": "#%%\n"
    }
   }
  },
  {
   "cell_type": "code",
   "execution_count": 5,
   "outputs": [],
   "source": [
    "# Finding all instances of tag\n",
    "stations = bs_data.find_all('stations')[0]\n",
    "# print(stations)"
   ],
   "metadata": {
    "collapsed": false,
    "pycharm": {
     "name": "#%%\n"
    }
   }
  },
  {
   "cell_type": "code",
   "execution_count": 6,
   "outputs": [],
   "source": [
    "station_list = stations.find_all(\"station\")\n",
    "# station_list[0]"
   ],
   "metadata": {
    "collapsed": false,
    "pycharm": {
     "name": "#%%\n"
    }
   }
  },
  {
   "cell_type": "code",
   "execution_count": 7,
   "outputs": [
    {
     "data": {
      "text/plain": "     StationID   lat    lon\n0        0Y2W3  45.0  -87.5\n1        18CI3  41.5  -87.0\n2        20CM4  42.0  -86.5\n3        21346  40.5  146.0\n4        21347  39.5  146.0\n...        ...   ...    ...\n1406     YGNN6  43.5  -79.0\n1407     YKRV2  37.0  -76.5\n1408     YKTV2  37.0  -76.5\n1409     YRSV2  37.5  -76.5\n1410     ZBQN7  34.0  -78.0\n\n[1411 rows x 3 columns]",
      "text/html": "<div>\n<style scoped>\n    .dataframe tbody tr th:only-of-type {\n        vertical-align: middle;\n    }\n\n    .dataframe tbody tr th {\n        vertical-align: top;\n    }\n\n    .dataframe thead th {\n        text-align: right;\n    }\n</style>\n<table border=\"1\" class=\"dataframe\">\n  <thead>\n    <tr style=\"text-align: right;\">\n      <th></th>\n      <th>StationID</th>\n      <th>lat</th>\n      <th>lon</th>\n    </tr>\n  </thead>\n  <tbody>\n    <tr>\n      <th>0</th>\n      <td>0Y2W3</td>\n      <td>45.0</td>\n      <td>-87.5</td>\n    </tr>\n    <tr>\n      <th>1</th>\n      <td>18CI3</td>\n      <td>41.5</td>\n      <td>-87.0</td>\n    </tr>\n    <tr>\n      <th>2</th>\n      <td>20CM4</td>\n      <td>42.0</td>\n      <td>-86.5</td>\n    </tr>\n    <tr>\n      <th>3</th>\n      <td>21346</td>\n      <td>40.5</td>\n      <td>146.0</td>\n    </tr>\n    <tr>\n      <th>4</th>\n      <td>21347</td>\n      <td>39.5</td>\n      <td>146.0</td>\n    </tr>\n    <tr>\n      <th>...</th>\n      <td>...</td>\n      <td>...</td>\n      <td>...</td>\n    </tr>\n    <tr>\n      <th>1406</th>\n      <td>YGNN6</td>\n      <td>43.5</td>\n      <td>-79.0</td>\n    </tr>\n    <tr>\n      <th>1407</th>\n      <td>YKRV2</td>\n      <td>37.0</td>\n      <td>-76.5</td>\n    </tr>\n    <tr>\n      <th>1408</th>\n      <td>YKTV2</td>\n      <td>37.0</td>\n      <td>-76.5</td>\n    </tr>\n    <tr>\n      <th>1409</th>\n      <td>YRSV2</td>\n      <td>37.5</td>\n      <td>-76.5</td>\n    </tr>\n    <tr>\n      <th>1410</th>\n      <td>ZBQN7</td>\n      <td>34.0</td>\n      <td>-78.0</td>\n    </tr>\n  </tbody>\n</table>\n<p>1411 rows × 3 columns</p>\n</div>"
     },
     "execution_count": 7,
     "metadata": {},
     "output_type": "execute_result"
    }
   ],
   "source": [
    "ids = []\n",
    "lats = []\n",
    "lons = []\n",
    "\n",
    "for station in station_list:\n",
    "    ids.append(station['id'])\n",
    "\n",
    "    histories = station.find_all(\"history\")\n",
    "\n",
    "    current_lat = []\n",
    "    current_lon = []\n",
    "    for history in histories:\n",
    "        current_lat.append(float(history['lat']))\n",
    "        current_lon.append(float(history['lng']))\n",
    "\n",
    "    average_lat = (sum(current_lat) / len(current_lat))\n",
    "    average_lon = (sum(current_lon) / len(current_lon))\n",
    "\n",
    "    #Round to value that matches ERA5 grid\n",
    "    #   Reanalysis: 0.25° x 0.25° (atmosphere),\n",
    "    #               0.5° x  0.5°  (ocean waves)\n",
    "    #   Mean, spread and members: 0.5° x 0.5° (atmosphere),\n",
    "    #                             1°   x 1°   (ocean waves)\n",
    "    # For now, I do round to 0.5° but this may need to be adopted\n",
    "    average_lat = round(average_lat * 2) / 2\n",
    "    average_lon = round(average_lon * 2) / 2\n",
    "\n",
    "    lats.append(average_lat)\n",
    "    lons.append(average_lon)\n",
    "\n",
    "metadata = pd.DataFrame({\n",
    "    \"StationID\": ids,\n",
    "    \"lat\": lats,\n",
    "    \"lon\": lons,\n",
    "})\n",
    "\n",
    "metadata"
   ],
   "metadata": {
    "collapsed": false,
    "pycharm": {
     "name": "#%%\n"
    }
   }
  },
  {
   "cell_type": "code",
   "execution_count": 8,
   "outputs": [],
   "source": [
    "metadata.to_csv(\"../data/my_metadata.csv\", index=False)"
   ],
   "metadata": {
    "collapsed": false,
    "pycharm": {
     "name": "#%%\n"
    }
   }
  },
  {
   "cell_type": "code",
   "execution_count": 76,
   "outputs": [],
   "source": [],
   "metadata": {
    "collapsed": false,
    "pycharm": {
     "name": "#%%\n"
    }
   }
  },
  {
   "cell_type": "code",
   "execution_count": 76,
   "outputs": [],
   "source": [],
   "metadata": {
    "collapsed": false,
    "pycharm": {
     "name": "#%%\n"
    }
   }
  },
  {
   "cell_type": "code",
   "execution_count": null,
   "outputs": [],
   "source": [],
   "metadata": {
    "collapsed": false,
    "pycharm": {
     "name": "#%%\n"
    }
   }
  }
 ],
 "metadata": {
  "kernelspec": {
   "display_name": "Python 3",
   "language": "python",
   "name": "python3"
  },
  "language_info": {
   "codemirror_mode": {
    "name": "ipython",
    "version": 2
   },
   "file_extension": ".py",
   "mimetype": "text/x-python",
   "name": "python",
   "nbconvert_exporter": "python",
   "pygments_lexer": "ipython2",
   "version": "2.7.6"
  }
 },
 "nbformat": 4,
 "nbformat_minor": 0
}