{
 "cells": [
  {
   "cell_type": "markdown",
   "source": [
    "# Analysing the difference of timestamps of buoys\n",
    "\n",
    "in 1_buoy_data_analysis.ipynb, I have observed that the timestamps of different buoys do not match. That is a problem since this does not allow me to create one instance with values for all buoys. In this notebook, I am going to observe the problem in more detail and might come to a solution.\n"
   ],
   "metadata": {
    "collapsed": false,
    "pycharm": {
     "name": "#%% md\n"
    }
   }
  },
  {
   "cell_type": "code",
   "execution_count": 15,
   "outputs": [],
   "source": [
    "import pandas as pd\n",
    "from collections import Counter\n",
    "from IPython.core.display_functions import display\n",
    "\n",
    "import myLibrary as mL"
   ],
   "metadata": {
    "collapsed": false,
    "pycharm": {
     "name": "#%%\n"
    }
   }
  },
  {
   "cell_type": "markdown",
   "source": [
    "### Stations for gulf of mexico\n",
    "copied from: https://www.ndbc.noaa.gov/mobile/region.php?reg=gulf_of_mexico"
   ],
   "metadata": {
    "collapsed": false,
    "pycharm": {
     "name": "#%% md\n"
    }
   }
  },
  {
   "cell_type": "markdown",
   "source": [
    "# Test which buoys actually exist!"
   ],
   "metadata": {
    "collapsed": false,
    "pycharm": {
     "name": "#%% md\n"
    }
   }
  },
  {
   "cell_type": "code",
   "execution_count": 16,
   "outputs": [
    {
     "name": "stdout",
     "output_type": "stream",
     "text": [
      "Failed to get file: HTTP Error 404: Not Found\n",
      "Failed to get file: HTTP Error 404: Not Found\n",
      "Failed to get file: HTTP Error 404: Not Found\n",
      "Failed to get file: HTTP Error 404: Not Found\n",
      "Failed to get file: HTTP Error 404: Not Found\n",
      "Failed to get file: HTTP Error 404: Not Found\n",
      "Failed to get file: HTTP Error 404: Not Found\n",
      "Failed to get file: HTTP Error 404: Not Found\n",
      "Failed to get file: HTTP Error 404: Not Found\n",
      "Failed to get file: HTTP Error 404: Not Found\n",
      "Failed to get file: HTTP Error 404: Not Found\n",
      "Failed to get file: HTTP Error 404: Not Found\n",
      "Failed to get file: HTTP Error 404: Not Found\n",
      "Failed to get file: HTTP Error 404: Not Found\n",
      "Failed to get file: HTTP Error 404: Not Found\n",
      "Failed to get file: HTTP Error 404: Not Found\n",
      "Failed to get file: HTTP Error 404: Not Found\n",
      "Failed to get file: HTTP Error 404: Not Found\n",
      "Failed to get file: HTTP Error 404: Not Found\n",
      "Failed to get file: HTTP Error 404: Not Found\n",
      "Failed to get file: HTTP Error 404: Not Found\n",
      "Failed to get file: HTTP Error 404: Not Found\n",
      "Failed to get file: HTTP Error 404: Not Found\n"
     ]
    },
    {
     "data": {
      "text/plain": "['41117',\n '41112',\n '42001',\n '42002',\n '42012',\n '42013',\n '42019',\n '42020',\n '42022',\n '42023',\n '42026',\n '42036',\n '42039',\n '42040',\n '42055',\n '42095',\n '42097',\n '42098',\n '42099',\n 'amrl1',\n 'anpt2',\n 'apcf1',\n 'arpf1',\n 'awrt2',\n 'babt2',\n 'bktl1',\n 'bsca1',\n 'burl1',\n 'bygl1',\n 'bzst2',\n 'capl1',\n 'carl1',\n 'cdrf1',\n 'cnbf1',\n 'crta1',\n 'cwaf1',\n 'cwbf1',\n 'dmsf1',\n 'ebef1',\n 'einl1',\n 'emat2',\n 'eptt2',\n 'fhpf1',\n 'fmoa1',\n 'fmrf1',\n 'fpst2',\n 'frdf1',\n 'gbif1',\n 'gctf1',\n 'gisl1',\n 'gkyf1',\n 'gnjt2',\n 'grrt2',\n 'gtot2',\n 'hist2',\n 'href1',\n 'irdt2',\n 'jxuf1',\n 'ktnf1',\n 'kywf1',\n 'lcll1',\n 'lmrf1',\n 'ltjf1',\n 'luit2',\n 'mbet2',\n 'mbpa1',\n 'mcga1',\n 'mgpt2',\n 'mhbt2',\n 'mtbf1',\n 'mypf1',\n 'ncht2',\n 'nfdf1',\n 'nuet2',\n 'nwcl1',\n 'obla1',\n 'optf1',\n 'pacf1',\n 'pact2',\n 'pcbf1',\n 'pcgt2',\n 'pclf1',\n 'pcnt2',\n 'pill1',\n 'pmaf1',\n 'pmnt2',\n 'pnlm6',\n 'port2',\n 'pstl1',\n 'ptat2',\n 'ptbm6',\n 'ptit2',\n 'ptoa1',\n 'rcpt2',\n 'rlit2',\n 'rlot2',\n 'rsjt2',\n 'rtat2',\n 'sapf1',\n 'sauf1',\n 'sdrt2',\n 'sgnt2',\n 'sgof1',\n 'shbl1',\n 'shpf1',\n 'skcf1',\n 'smkf1',\n 'sref1',\n 'srst2',\n 'taqt2',\n 'tesl1',\n 'tlvt2',\n 'tpaf1',\n 'tshf1',\n 'txpt2',\n 'txvt2',\n 'utvt2',\n 'vcaf1',\n 'vcat2',\n 'venf1',\n 'wiwf1',\n 'wplf1',\n 'wycm6']"
     },
     "metadata": {},
     "output_type": "display_data"
    },
    {
     "data": {
      "text/plain": "['42084',\n '42091',\n 'apxf1',\n 'bkbf1',\n 'dila1',\n 'efla1',\n 'gtxf1',\n 'hivt2',\n 'katp',\n 'kbmg1',\n 'kbqx',\n 'kdlp',\n 'kgry',\n 'kgul',\n 'khhv',\n 'kikt',\n 'kvaf',\n 'kvoa',\n 'lqat2',\n 'maxt2',\n 'rkxf1',\n 'vtbt2',\n 'wkxa1']"
     },
     "metadata": {},
     "output_type": "display_data"
    }
   ],
   "source": [
    "# Clean data: excluded to save computation time, see hardcopied values below!\n",
    "cleaned_stations_GOM, failed_stations_GOM = mL.clean_station_list(mL.stations_GOM, \"2020\")\n",
    "display(cleaned_stations_GOM)\n",
    "display(failed_stations_GOM)"
   ],
   "metadata": {
    "collapsed": false,
    "pycharm": {
     "name": "#%%\n"
    }
   }
  },
  {
   "cell_type": "code",
   "execution_count": 17,
   "outputs": [
    {
     "name": "stdout",
     "output_type": "stream",
     "text": [
      "146 Stations in total in the Gulf of Mexico.\n",
      "123  stations provide data for 2020.\n",
      "23  stations do not provide data for year 2020.\n"
     ]
    }
   ],
   "source": [
    "print(len(mL.stations_GOM), \"Stations in total in the Gulf of Mexico.\")\n",
    "print(len(cleaned_stations_GOM),\" stations provide data for 2020.\")\n",
    "print(len(failed_stations_GOM),\" stations do not provide data for year 2020.\")"
   ],
   "metadata": {
    "collapsed": false,
    "pycharm": {
     "name": "#%%\n"
    }
   }
  },
  {
   "cell_type": "markdown",
   "source": [
    "# Compare the timestamps of the data"
   ],
   "metadata": {
    "collapsed": false,
    "pycharm": {
     "name": "#%% md\n"
    }
   }
  },
  {
   "cell_type": "code",
   "execution_count": 18,
   "outputs": [],
   "source": [
    "def create_timestamp_df(station_numbers, year):\n",
    "    #time_df = pd.DataFrame()\n",
    "    time_dict = dict()\n",
    "    for station_number in station_numbers:\n",
    "        data = mL.get_data_file(station_number, year)  #load file\n",
    "\n",
    "        if data is not None:\n",
    "            filename = data[0]\n",
    "            station_df = data[1].drop(labels=0, axis=0) #drop row with units\n",
    "            #print(station_df.shape)\n",
    "\n",
    "            time_dict[filename] =  station_df['#YY'] +\"-\" \\\n",
    "                            + station_df['MM'] +\"-\"  \\\n",
    "                            + station_df['DD'] +\" \" \\\n",
    "                            + station_df['hh'] +\":\"\\\n",
    "                            + station_df['mm']\n",
    "\n",
    "            #TODO: following line causes performance warning!\n",
    "            #Is there a way to optimize this, doing the whole joining in one step?\n",
    "            time_dict[filename] = pd.to_datetime(time_dict[filename], format='%Y-%m-%d %H:%M', utc=True)\n",
    "            #time_df[filename] = time_df['Formatted Date'].apply(pd.to_datetime, utc=True)\n",
    "\n",
    "    return pd.DataFrame(time_dict)"
   ],
   "metadata": {
    "collapsed": false,
    "pycharm": {
     "name": "#%%\n"
    }
   }
  },
  {
   "cell_type": "code",
   "execution_count": 19,
   "outputs": [
    {
     "data": {
      "text/plain": "                          41117                     41112  \\\n1     2020-01-01 00:00:00+00:00 2020-01-01 00:00:00+00:00   \n2     2020-01-01 00:30:00+00:00 2020-01-01 00:30:00+00:00   \n3     2020-01-01 01:00:00+00:00 2020-01-01 01:00:00+00:00   \n4     2020-01-01 01:30:00+00:00 2020-01-01 01:30:00+00:00   \n5     2020-01-01 02:00:00+00:00 2020-01-01 02:00:00+00:00   \n...                         ...                       ...   \n87263                       NaT                       NaT   \n87264                       NaT                       NaT   \n87265                       NaT                       NaT   \n87266                       NaT                       NaT   \n87267                       NaT                       NaT   \n\n                          42001                     42002  \\\n1     2020-01-01 00:00:00+00:00 2020-01-01 00:00:00+00:00   \n2     2020-01-01 00:10:00+00:00 2020-01-01 00:10:00+00:00   \n3     2020-01-01 00:20:00+00:00 2020-01-01 00:20:00+00:00   \n4     2020-01-01 00:30:00+00:00 2020-01-01 00:30:00+00:00   \n5     2020-01-01 00:40:00+00:00 2020-01-01 00:40:00+00:00   \n...                         ...                       ...   \n87263                       NaT                       NaT   \n87264                       NaT                       NaT   \n87265                       NaT                       NaT   \n87266                       NaT                       NaT   \n87267                       NaT                       NaT   \n\n                          42012                     42013  \\\n1     2020-01-01 00:00:00+00:00 2020-01-30 00:00:00+00:00   \n2     2020-01-01 00:10:00+00:00 2020-01-30 00:30:00+00:00   \n3     2020-01-01 00:20:00+00:00 2020-01-30 01:00:00+00:00   \n4     2020-01-01 00:30:00+00:00 2020-01-30 01:30:00+00:00   \n5     2020-01-01 00:40:00+00:00 2020-01-30 02:00:00+00:00   \n...                         ...                       ...   \n87263                       NaT                       NaT   \n87264                       NaT                       NaT   \n87265                       NaT                       NaT   \n87266                       NaT                       NaT   \n87267                       NaT                       NaT   \n\n                          42019                     42020  \\\n1     2020-01-01 00:00:00+00:00 2020-01-01 00:00:00+00:00   \n2     2020-01-01 00:10:00+00:00 2020-01-01 00:10:00+00:00   \n3     2020-01-01 00:20:00+00:00 2020-01-01 00:20:00+00:00   \n4     2020-01-01 00:30:00+00:00 2020-01-01 00:30:00+00:00   \n5     2020-01-01 00:40:00+00:00 2020-01-01 00:40:00+00:00   \n...                         ...                       ...   \n87263                       NaT                       NaT   \n87264                       NaT                       NaT   \n87265                       NaT                       NaT   \n87266                       NaT                       NaT   \n87267                       NaT                       NaT   \n\n                          42022                     42023  ...  \\\n1     2020-01-01 01:00:00+00:00 2020-01-01 00:00:00+00:00  ...   \n2     2020-01-01 01:30:00+00:00 2020-01-01 00:30:00+00:00  ...   \n3     2020-01-01 02:00:00+00:00 2020-01-01 01:00:00+00:00  ...   \n4     2020-01-01 02:30:00+00:00 2020-01-01 01:30:00+00:00  ...   \n5     2020-01-01 03:00:00+00:00 2020-01-01 02:00:00+00:00  ...   \n...                         ...                       ...  ...   \n87263                       NaT                       NaT  ...   \n87264                       NaT                       NaT  ...   \n87265                       NaT                       NaT  ...   \n87266                       NaT                       NaT  ...   \n87267                       NaT                       NaT  ...   \n\n                          tshf1                     txpt2  \\\n1     2020-01-01 00:00:00+00:00 2020-01-01 00:00:00+00:00   \n2     2020-01-01 00:06:00+00:00 2020-01-01 00:06:00+00:00   \n3     2020-01-01 00:12:00+00:00 2020-01-01 00:12:00+00:00   \n4     2020-01-01 00:18:00+00:00 2020-01-01 00:18:00+00:00   \n5     2020-01-01 00:24:00+00:00 2020-01-01 00:24:00+00:00   \n...                         ...                       ...   \n87263                       NaT                       NaT   \n87264                       NaT                       NaT   \n87265                       NaT                       NaT   \n87266                       NaT                       NaT   \n87267                       NaT                       NaT   \n\n                          txvt2                     utvt2  \\\n1     2020-11-19 18:42:00+00:00 2020-11-23 14:54:00+00:00   \n2     2020-11-19 18:48:00+00:00 2020-11-23 15:00:00+00:00   \n3     2020-11-19 18:54:00+00:00 2020-11-23 15:06:00+00:00   \n4     2020-11-19 19:00:00+00:00 2020-11-23 15:12:00+00:00   \n5     2020-11-19 19:06:00+00:00 2020-11-23 15:18:00+00:00   \n...                         ...                       ...   \n87263                       NaT                       NaT   \n87264                       NaT                       NaT   \n87265                       NaT                       NaT   \n87266                       NaT                       NaT   \n87267                       NaT                       NaT   \n\n                          vcaf1                     vcat2  \\\n1     2020-01-01 00:00:00+00:00 2020-01-01 00:00:00+00:00   \n2     2020-01-01 00:06:00+00:00 2020-01-01 00:06:00+00:00   \n3     2020-01-01 00:12:00+00:00 2020-01-01 00:12:00+00:00   \n4     2020-01-01 00:18:00+00:00 2020-01-01 00:18:00+00:00   \n5     2020-01-01 00:24:00+00:00 2020-01-01 00:24:00+00:00   \n...                         ...                       ...   \n87263                       NaT                       NaT   \n87264                       NaT                       NaT   \n87265                       NaT                       NaT   \n87266                       NaT                       NaT   \n87267                       NaT                       NaT   \n\n                          venf1                     wiwf1  \\\n1     2020-01-01 00:00:00+00:00 2020-01-01 00:00:00+00:00   \n2     2020-01-01 01:00:00+00:00 2020-01-01 00:06:00+00:00   \n3     2020-01-01 02:00:00+00:00 2020-01-01 00:12:00+00:00   \n4     2020-01-01 03:00:00+00:00 2020-01-01 00:18:00+00:00   \n5     2020-01-01 04:00:00+00:00 2020-01-01 00:24:00+00:00   \n...                         ...                       ...   \n87263                       NaT                       NaT   \n87264                       NaT                       NaT   \n87265                       NaT                       NaT   \n87266                       NaT                       NaT   \n87267                       NaT                       NaT   \n\n                          wplf1                     wycm6  \n1     2020-01-01 00:00:00+00:00 2020-01-01 00:00:00+00:00  \n2     2020-01-01 00:06:00+00:00 2020-01-01 00:06:00+00:00  \n3     2020-01-01 00:12:00+00:00 2020-01-01 00:12:00+00:00  \n4     2020-01-01 00:18:00+00:00 2020-01-01 00:18:00+00:00  \n5     2020-01-01 00:24:00+00:00 2020-01-01 00:24:00+00:00  \n...                         ...                       ...  \n87263                       NaT                       NaT  \n87264                       NaT                       NaT  \n87265                       NaT                       NaT  \n87266                       NaT                       NaT  \n87267                       NaT                       NaT  \n\n[87267 rows x 123 columns]",
      "text/html": "<div>\n<style scoped>\n    .dataframe tbody tr th:only-of-type {\n        vertical-align: middle;\n    }\n\n    .dataframe tbody tr th {\n        vertical-align: top;\n    }\n\n    .dataframe thead th {\n        text-align: right;\n    }\n</style>\n<table border=\"1\" class=\"dataframe\">\n  <thead>\n    <tr style=\"text-align: right;\">\n      <th></th>\n      <th>41117</th>\n      <th>41112</th>\n      <th>42001</th>\n      <th>42002</th>\n      <th>42012</th>\n      <th>42013</th>\n      <th>42019</th>\n      <th>42020</th>\n      <th>42022</th>\n      <th>42023</th>\n      <th>...</th>\n      <th>tshf1</th>\n      <th>txpt2</th>\n      <th>txvt2</th>\n      <th>utvt2</th>\n      <th>vcaf1</th>\n      <th>vcat2</th>\n      <th>venf1</th>\n      <th>wiwf1</th>\n      <th>wplf1</th>\n      <th>wycm6</th>\n    </tr>\n  </thead>\n  <tbody>\n    <tr>\n      <th>1</th>\n      <td>2020-01-01 00:00:00+00:00</td>\n      <td>2020-01-01 00:00:00+00:00</td>\n      <td>2020-01-01 00:00:00+00:00</td>\n      <td>2020-01-01 00:00:00+00:00</td>\n      <td>2020-01-01 00:00:00+00:00</td>\n      <td>2020-01-30 00:00:00+00:00</td>\n      <td>2020-01-01 00:00:00+00:00</td>\n      <td>2020-01-01 00:00:00+00:00</td>\n      <td>2020-01-01 01:00:00+00:00</td>\n      <td>2020-01-01 00:00:00+00:00</td>\n      <td>...</td>\n      <td>2020-01-01 00:00:00+00:00</td>\n      <td>2020-01-01 00:00:00+00:00</td>\n      <td>2020-11-19 18:42:00+00:00</td>\n      <td>2020-11-23 14:54:00+00:00</td>\n      <td>2020-01-01 00:00:00+00:00</td>\n      <td>2020-01-01 00:00:00+00:00</td>\n      <td>2020-01-01 00:00:00+00:00</td>\n      <td>2020-01-01 00:00:00+00:00</td>\n      <td>2020-01-01 00:00:00+00:00</td>\n      <td>2020-01-01 00:00:00+00:00</td>\n    </tr>\n    <tr>\n      <th>2</th>\n      <td>2020-01-01 00:30:00+00:00</td>\n      <td>2020-01-01 00:30:00+00:00</td>\n      <td>2020-01-01 00:10:00+00:00</td>\n      <td>2020-01-01 00:10:00+00:00</td>\n      <td>2020-01-01 00:10:00+00:00</td>\n      <td>2020-01-30 00:30:00+00:00</td>\n      <td>2020-01-01 00:10:00+00:00</td>\n      <td>2020-01-01 00:10:00+00:00</td>\n      <td>2020-01-01 01:30:00+00:00</td>\n      <td>2020-01-01 00:30:00+00:00</td>\n      <td>...</td>\n      <td>2020-01-01 00:06:00+00:00</td>\n      <td>2020-01-01 00:06:00+00:00</td>\n      <td>2020-11-19 18:48:00+00:00</td>\n      <td>2020-11-23 15:00:00+00:00</td>\n      <td>2020-01-01 00:06:00+00:00</td>\n      <td>2020-01-01 00:06:00+00:00</td>\n      <td>2020-01-01 01:00:00+00:00</td>\n      <td>2020-01-01 00:06:00+00:00</td>\n      <td>2020-01-01 00:06:00+00:00</td>\n      <td>2020-01-01 00:06:00+00:00</td>\n    </tr>\n    <tr>\n      <th>3</th>\n      <td>2020-01-01 01:00:00+00:00</td>\n      <td>2020-01-01 01:00:00+00:00</td>\n      <td>2020-01-01 00:20:00+00:00</td>\n      <td>2020-01-01 00:20:00+00:00</td>\n      <td>2020-01-01 00:20:00+00:00</td>\n      <td>2020-01-30 01:00:00+00:00</td>\n      <td>2020-01-01 00:20:00+00:00</td>\n      <td>2020-01-01 00:20:00+00:00</td>\n      <td>2020-01-01 02:00:00+00:00</td>\n      <td>2020-01-01 01:00:00+00:00</td>\n      <td>...</td>\n      <td>2020-01-01 00:12:00+00:00</td>\n      <td>2020-01-01 00:12:00+00:00</td>\n      <td>2020-11-19 18:54:00+00:00</td>\n      <td>2020-11-23 15:06:00+00:00</td>\n      <td>2020-01-01 00:12:00+00:00</td>\n      <td>2020-01-01 00:12:00+00:00</td>\n      <td>2020-01-01 02:00:00+00:00</td>\n      <td>2020-01-01 00:12:00+00:00</td>\n      <td>2020-01-01 00:12:00+00:00</td>\n      <td>2020-01-01 00:12:00+00:00</td>\n    </tr>\n    <tr>\n      <th>4</th>\n      <td>2020-01-01 01:30:00+00:00</td>\n      <td>2020-01-01 01:30:00+00:00</td>\n      <td>2020-01-01 00:30:00+00:00</td>\n      <td>2020-01-01 00:30:00+00:00</td>\n      <td>2020-01-01 00:30:00+00:00</td>\n      <td>2020-01-30 01:30:00+00:00</td>\n      <td>2020-01-01 00:30:00+00:00</td>\n      <td>2020-01-01 00:30:00+00:00</td>\n      <td>2020-01-01 02:30:00+00:00</td>\n      <td>2020-01-01 01:30:00+00:00</td>\n      <td>...</td>\n      <td>2020-01-01 00:18:00+00:00</td>\n      <td>2020-01-01 00:18:00+00:00</td>\n      <td>2020-11-19 19:00:00+00:00</td>\n      <td>2020-11-23 15:12:00+00:00</td>\n      <td>2020-01-01 00:18:00+00:00</td>\n      <td>2020-01-01 00:18:00+00:00</td>\n      <td>2020-01-01 03:00:00+00:00</td>\n      <td>2020-01-01 00:18:00+00:00</td>\n      <td>2020-01-01 00:18:00+00:00</td>\n      <td>2020-01-01 00:18:00+00:00</td>\n    </tr>\n    <tr>\n      <th>5</th>\n      <td>2020-01-01 02:00:00+00:00</td>\n      <td>2020-01-01 02:00:00+00:00</td>\n      <td>2020-01-01 00:40:00+00:00</td>\n      <td>2020-01-01 00:40:00+00:00</td>\n      <td>2020-01-01 00:40:00+00:00</td>\n      <td>2020-01-30 02:00:00+00:00</td>\n      <td>2020-01-01 00:40:00+00:00</td>\n      <td>2020-01-01 00:40:00+00:00</td>\n      <td>2020-01-01 03:00:00+00:00</td>\n      <td>2020-01-01 02:00:00+00:00</td>\n      <td>...</td>\n      <td>2020-01-01 00:24:00+00:00</td>\n      <td>2020-01-01 00:24:00+00:00</td>\n      <td>2020-11-19 19:06:00+00:00</td>\n      <td>2020-11-23 15:18:00+00:00</td>\n      <td>2020-01-01 00:24:00+00:00</td>\n      <td>2020-01-01 00:24:00+00:00</td>\n      <td>2020-01-01 04:00:00+00:00</td>\n      <td>2020-01-01 00:24:00+00:00</td>\n      <td>2020-01-01 00:24:00+00:00</td>\n      <td>2020-01-01 00:24:00+00:00</td>\n    </tr>\n    <tr>\n      <th>...</th>\n      <td>...</td>\n      <td>...</td>\n      <td>...</td>\n      <td>...</td>\n      <td>...</td>\n      <td>...</td>\n      <td>...</td>\n      <td>...</td>\n      <td>...</td>\n      <td>...</td>\n      <td>...</td>\n      <td>...</td>\n      <td>...</td>\n      <td>...</td>\n      <td>...</td>\n      <td>...</td>\n      <td>...</td>\n      <td>...</td>\n      <td>...</td>\n      <td>...</td>\n      <td>...</td>\n    </tr>\n    <tr>\n      <th>87263</th>\n      <td>NaT</td>\n      <td>NaT</td>\n      <td>NaT</td>\n      <td>NaT</td>\n      <td>NaT</td>\n      <td>NaT</td>\n      <td>NaT</td>\n      <td>NaT</td>\n      <td>NaT</td>\n      <td>NaT</td>\n      <td>...</td>\n      <td>NaT</td>\n      <td>NaT</td>\n      <td>NaT</td>\n      <td>NaT</td>\n      <td>NaT</td>\n      <td>NaT</td>\n      <td>NaT</td>\n      <td>NaT</td>\n      <td>NaT</td>\n      <td>NaT</td>\n    </tr>\n    <tr>\n      <th>87264</th>\n      <td>NaT</td>\n      <td>NaT</td>\n      <td>NaT</td>\n      <td>NaT</td>\n      <td>NaT</td>\n      <td>NaT</td>\n      <td>NaT</td>\n      <td>NaT</td>\n      <td>NaT</td>\n      <td>NaT</td>\n      <td>...</td>\n      <td>NaT</td>\n      <td>NaT</td>\n      <td>NaT</td>\n      <td>NaT</td>\n      <td>NaT</td>\n      <td>NaT</td>\n      <td>NaT</td>\n      <td>NaT</td>\n      <td>NaT</td>\n      <td>NaT</td>\n    </tr>\n    <tr>\n      <th>87265</th>\n      <td>NaT</td>\n      <td>NaT</td>\n      <td>NaT</td>\n      <td>NaT</td>\n      <td>NaT</td>\n      <td>NaT</td>\n      <td>NaT</td>\n      <td>NaT</td>\n      <td>NaT</td>\n      <td>NaT</td>\n      <td>...</td>\n      <td>NaT</td>\n      <td>NaT</td>\n      <td>NaT</td>\n      <td>NaT</td>\n      <td>NaT</td>\n      <td>NaT</td>\n      <td>NaT</td>\n      <td>NaT</td>\n      <td>NaT</td>\n      <td>NaT</td>\n    </tr>\n    <tr>\n      <th>87266</th>\n      <td>NaT</td>\n      <td>NaT</td>\n      <td>NaT</td>\n      <td>NaT</td>\n      <td>NaT</td>\n      <td>NaT</td>\n      <td>NaT</td>\n      <td>NaT</td>\n      <td>NaT</td>\n      <td>NaT</td>\n      <td>...</td>\n      <td>NaT</td>\n      <td>NaT</td>\n      <td>NaT</td>\n      <td>NaT</td>\n      <td>NaT</td>\n      <td>NaT</td>\n      <td>NaT</td>\n      <td>NaT</td>\n      <td>NaT</td>\n      <td>NaT</td>\n    </tr>\n    <tr>\n      <th>87267</th>\n      <td>NaT</td>\n      <td>NaT</td>\n      <td>NaT</td>\n      <td>NaT</td>\n      <td>NaT</td>\n      <td>NaT</td>\n      <td>NaT</td>\n      <td>NaT</td>\n      <td>NaT</td>\n      <td>NaT</td>\n      <td>...</td>\n      <td>NaT</td>\n      <td>NaT</td>\n      <td>NaT</td>\n      <td>NaT</td>\n      <td>NaT</td>\n      <td>NaT</td>\n      <td>NaT</td>\n      <td>NaT</td>\n      <td>NaT</td>\n      <td>NaT</td>\n    </tr>\n  </tbody>\n</table>\n<p>87267 rows × 123 columns</p>\n</div>"
     },
     "execution_count": 19,
     "metadata": {},
     "output_type": "execute_result"
    }
   ],
   "source": [
    "timestamp_df = create_timestamp_df(cleaned_stations_GOM, \"2020\")\n",
    "timestamp_df"
   ],
   "metadata": {
    "collapsed": false,
    "pycharm": {
     "name": "#%%\n"
    }
   }
  },
  {
   "cell_type": "markdown",
   "source": [
    "### Analysis Step 1:\n",
    "Do all buoys start at 2020-01-01 00:00?\n",
    "\n",
    "Note: +00:00 is a UTC offset - thus can be interpreted as UTC (=Universal Time Coordinated)"
   ],
   "metadata": {
    "collapsed": false,
    "pycharm": {
     "name": "#%% md\n"
    }
   }
  },
  {
   "cell_type": "code",
   "execution_count": 20,
   "outputs": [
    {
     "name": "stdout",
     "output_type": "stream",
     "text": [
      "First timestamp:  2020-01-01 00:00:00+00:00\n",
      "Different Value in  42013 :  2020-01-30 00:00:00+00:00\n",
      "Different Value in  42022 :  2020-01-01 01:00:00+00:00\n",
      "Different Value in  42055 :  2020-01-01 00:40:00+00:00\n",
      "Different Value in  bsca1 :  2020-02-01 00:00:00+00:00\n",
      "Different Value in  ebef1 :  2020-05-01 00:00:00+00:00\n",
      "Different Value in  irdt2 :  2020-01-02 14:00:00+00:00\n",
      "Different Value in  jxuf1 :  2020-05-06 10:42:00+00:00\n",
      "Different Value in  mhbt2 :  2020-05-26 13:54:00+00:00\n",
      "Different Value in  rlit2 :  2020-03-03 08:18:00+00:00\n",
      "Different Value in  skcf1 :  2020-03-10 21:00:00+00:00\n",
      "Different Value in  tlvt2 :  2020-12-23 14:30:00+00:00\n",
      "Different Value in  txvt2 :  2020-11-19 18:42:00+00:00\n",
      "Different Value in  utvt2 :  2020-11-23 14:54:00+00:00\n",
      "Found  13 different values!\n",
      "False\n"
     ]
    }
   ],
   "source": [
    "def isSameFirstValue(df):\n",
    "    first_row = df.head(1)\n",
    "    first_timestamp = first_row.iloc[0, 0]\n",
    "    print(\"First timestamp: \", first_timestamp)\n",
    "\n",
    "    is_same = True\n",
    "    counter = 0\n",
    "    for column in first_row:\n",
    "        if first_timestamp != first_row.at[1, column]:\n",
    "            print(\"Different Value in \", column, \": \", first_row.at[1, column])\n",
    "            counter = counter + 1\n",
    "            is_same = False\n",
    "\n",
    "    print(\"Found \", counter, \"different values!\")\n",
    "    return is_same\n",
    "\n",
    "print(isSameFirstValue(timestamp_df))"
   ],
   "metadata": {
    "collapsed": false,
    "pycharm": {
     "name": "#%%\n"
    }
   }
  },
  {
   "cell_type": "markdown",
   "source": [
    "## ISSUE: not all Buoys start on the same time\n"
   ],
   "metadata": {
    "collapsed": false,
    "pycharm": {
     "name": "#%% md\n"
    }
   }
  },
  {
   "cell_type": "markdown",
   "source": [
    "### Analysis Step 2:\n",
    "What are the time-steps?\n",
    "\n",
    "Calculate the (average?!) time difference between the timestamps"
   ],
   "metadata": {
    "collapsed": false,
    "pycharm": {
     "name": "#%% md\n"
    }
   }
  },
  {
   "cell_type": "code",
   "execution_count": 21,
   "outputs": [
    {
     "data": {
      "text/plain": "                 41117\ntimedelta             \n0 days 00:30:00  17345\n0 days 01:00:00     54\n0 days 01:30:00      4\n0 days 07:30:00      1\n0 days 00:26:00      1\n0 days 02:00:00      2\n0 days 02:30:00      1\n0 days 22:00:00      1\n0 days 11:30:00      1\n0 days 03:30:00      1",
      "text/html": "<div>\n<style scoped>\n    .dataframe tbody tr th:only-of-type {\n        vertical-align: middle;\n    }\n\n    .dataframe tbody tr th {\n        vertical-align: top;\n    }\n\n    .dataframe thead th {\n        text-align: right;\n    }\n</style>\n<table border=\"1\" class=\"dataframe\">\n  <thead>\n    <tr style=\"text-align: right;\">\n      <th></th>\n      <th>41117</th>\n    </tr>\n    <tr>\n      <th>timedelta</th>\n      <th></th>\n    </tr>\n  </thead>\n  <tbody>\n    <tr>\n      <th>0 days 00:30:00</th>\n      <td>17345</td>\n    </tr>\n    <tr>\n      <th>0 days 01:00:00</th>\n      <td>54</td>\n    </tr>\n    <tr>\n      <th>0 days 01:30:00</th>\n      <td>4</td>\n    </tr>\n    <tr>\n      <th>0 days 07:30:00</th>\n      <td>1</td>\n    </tr>\n    <tr>\n      <th>0 days 00:26:00</th>\n      <td>1</td>\n    </tr>\n    <tr>\n      <th>0 days 02:00:00</th>\n      <td>2</td>\n    </tr>\n    <tr>\n      <th>0 days 02:30:00</th>\n      <td>1</td>\n    </tr>\n    <tr>\n      <th>0 days 22:00:00</th>\n      <td>1</td>\n    </tr>\n    <tr>\n      <th>0 days 11:30:00</th>\n      <td>1</td>\n    </tr>\n    <tr>\n      <th>0 days 03:30:00</th>\n      <td>1</td>\n    </tr>\n  </tbody>\n</table>\n</div>"
     },
     "execution_count": 21,
     "metadata": {},
     "output_type": "execute_result"
    }
   ],
   "source": [
    "#Param: timestamp: pandas.core.series.Series (of a single buoy)\n",
    "#Return: dataframe with time-delta as index and count value in first column. the columns name is the buoy-id\n",
    "def calc_time_delta_counts(timestamps, heading):\n",
    "    # build a list of all time steps for a specific buoy and their counts\n",
    "    # calc average time stamps\n",
    "\n",
    "    #display(type(timestamps))\n",
    "    timedeltas = [timestamps[i]-timestamps[i-1] for i in range(2, len(timestamps))]\n",
    "    counts = dict(Counter(timedeltas))\n",
    "    counts_df = pd.DataFrame.from_dict(counts, orient='index').reset_index()\n",
    "    counts_df.columns = [\"timedelta\",heading]\n",
    "    counts_df.set_index(\"timedelta\", inplace = True)\n",
    "    #display(counts_df)\n",
    "\n",
    "    # average = pd.Series(timedeltas).sum() / len(timedeltas)\n",
    "    # print(\"Average timedelta: \", average)\n",
    "    counts_df.drop(\"NaT\", inplace=True, errors='ignore')    #errors='ignore' only drops row if it exists\n",
    "\n",
    "    return counts_df\n",
    "\n",
    "#TEST:\n",
    "col_name = timestamp_df.columns[0]\n",
    "calc_time_delta_counts(timestamp_df[col_name], col_name)"
   ],
   "metadata": {
    "collapsed": false,
    "pycharm": {
     "name": "#%%\n"
    }
   }
  },
  {
   "cell_type": "code",
   "execution_count": 22,
   "outputs": [],
   "source": [
    "#Param: timestamps: dataframe with timestamps as it is returned by create_timestamp_df()\n",
    "def calc_all_time_delta_counts(timestamps):\n",
    "    counts_df = pd.DataFrame()\n",
    "\n",
    "    for buoy_id in timestamps:\n",
    "        current_counts = calc_time_delta_counts(timestamps[buoy_id], heading=buoy_id)\n",
    "        counts_df = pd.concat([counts_df, current_counts], axis=1)\n",
    "        #counts_df[buoy_id] = current_counts\n",
    "        counts_df.fillna(0, inplace = True)\n",
    "    return counts_df.sort_index()"
   ],
   "metadata": {
    "collapsed": false,
    "pycharm": {
     "name": "#%%\n"
    }
   }
  },
  {
   "cell_type": "code",
   "execution_count": 23,
   "outputs": [
    {
     "data": {
      "text/plain": "                    41117  41112    42001    42002    42012  42013    42019  \\\ntimedelta                                                                     \n-13 days +09:30:00    0.0    0.0      0.0      0.0      0.0    0.0      0.0   \n0 days 00:01:00       0.0    0.0      0.0      0.0      0.0    0.0      0.0   \n0 days 00:05:00       0.0    0.0      0.0      0.0      0.0    0.0      0.0   \n0 days 00:06:00       0.0    0.0      0.0      0.0      0.0    0.0      0.0   \n0 days 00:10:00       0.0    0.0  37464.0  52173.0  52146.0    0.0  46427.0   \n...                   ...    ...      ...      ...      ...    ...      ...   \n55 days 06:06:00      0.0    0.0      0.0      0.0      0.0    0.0      0.0   \n56 days 00:18:00      0.0    0.0      0.0      0.0      0.0    0.0      0.0   \n89 days 05:30:00      0.0    0.0      0.0      0.0      0.0    0.0      0.0   \n156 days 09:00:00     0.0    0.0      0.0      0.0      0.0    0.0      0.0   \n227 days 13:06:00     0.0    0.0      0.0      0.0      0.0    0.0      0.0   \n\n                      42020  42022  42023  ...    tshf1    txpt2    txvt2  \\\ntimedelta                                  ...                              \n-13 days +09:30:00      0.0    0.0    0.0  ...      0.0      0.0      0.0   \n0 days 00:01:00         0.0    0.0    0.0  ...      0.0      0.0      0.0   \n0 days 00:05:00         0.0    0.0    0.0  ...      0.0      0.0      0.0   \n0 days 00:06:00         0.0    0.0    0.0  ...  80600.0  83265.0  10087.0   \n0 days 00:10:00     30464.0    1.0    1.0  ...      0.0      0.0      0.0   \n...                     ...    ...    ...  ...      ...      ...      ...   \n55 days 06:06:00        0.0    0.0    0.0  ...      0.0      0.0      0.0   \n56 days 00:18:00        0.0    0.0    0.0  ...      0.0      0.0      0.0   \n89 days 05:30:00        0.0    0.0    0.0  ...      0.0      0.0      0.0   \n156 days 09:00:00       0.0    0.0    0.0  ...      0.0      0.0      0.0   \n227 days 13:06:00       0.0    0.0    0.0  ...      0.0      0.0      0.0   \n\n                     utvt2    vcaf1    vcat2  venf1    wiwf1    wplf1    wycm6  \ntimedelta                                                                       \n-13 days +09:30:00     0.0      0.0      0.0    0.0      0.0      0.0      0.0  \n0 days 00:01:00        0.0      0.0      0.0    0.0      0.0      0.0      0.0  \n0 days 00:05:00        0.0      0.0      0.0    0.0      0.0      0.0      0.0  \n0 days 00:06:00     8949.0  86639.0  85969.0    0.0  79270.0  81253.0  80115.0  \n0 days 00:10:00        0.0      0.0      0.0    0.0      0.0      0.0      0.0  \n...                    ...      ...      ...    ...      ...      ...      ...  \n55 days 06:06:00       0.0      0.0      0.0    0.0      0.0      0.0      0.0  \n56 days 00:18:00       0.0      0.0      0.0    0.0      0.0      0.0      0.0  \n89 days 05:30:00       0.0      0.0      0.0    0.0      0.0      0.0      0.0  \n156 days 09:00:00      0.0      0.0      0.0    0.0      0.0      0.0      0.0  \n227 days 13:06:00      0.0      0.0      0.0    0.0      0.0      0.0      0.0  \n\n[298 rows x 123 columns]",
      "text/html": "<div>\n<style scoped>\n    .dataframe tbody tr th:only-of-type {\n        vertical-align: middle;\n    }\n\n    .dataframe tbody tr th {\n        vertical-align: top;\n    }\n\n    .dataframe thead th {\n        text-align: right;\n    }\n</style>\n<table border=\"1\" class=\"dataframe\">\n  <thead>\n    <tr style=\"text-align: right;\">\n      <th></th>\n      <th>41117</th>\n      <th>41112</th>\n      <th>42001</th>\n      <th>42002</th>\n      <th>42012</th>\n      <th>42013</th>\n      <th>42019</th>\n      <th>42020</th>\n      <th>42022</th>\n      <th>42023</th>\n      <th>...</th>\n      <th>tshf1</th>\n      <th>txpt2</th>\n      <th>txvt2</th>\n      <th>utvt2</th>\n      <th>vcaf1</th>\n      <th>vcat2</th>\n      <th>venf1</th>\n      <th>wiwf1</th>\n      <th>wplf1</th>\n      <th>wycm6</th>\n    </tr>\n    <tr>\n      <th>timedelta</th>\n      <th></th>\n      <th></th>\n      <th></th>\n      <th></th>\n      <th></th>\n      <th></th>\n      <th></th>\n      <th></th>\n      <th></th>\n      <th></th>\n      <th></th>\n      <th></th>\n      <th></th>\n      <th></th>\n      <th></th>\n      <th></th>\n      <th></th>\n      <th></th>\n      <th></th>\n      <th></th>\n      <th></th>\n    </tr>\n  </thead>\n  <tbody>\n    <tr>\n      <th>-13 days +09:30:00</th>\n      <td>0.0</td>\n      <td>0.0</td>\n      <td>0.0</td>\n      <td>0.0</td>\n      <td>0.0</td>\n      <td>0.0</td>\n      <td>0.0</td>\n      <td>0.0</td>\n      <td>0.0</td>\n      <td>0.0</td>\n      <td>...</td>\n      <td>0.0</td>\n      <td>0.0</td>\n      <td>0.0</td>\n      <td>0.0</td>\n      <td>0.0</td>\n      <td>0.0</td>\n      <td>0.0</td>\n      <td>0.0</td>\n      <td>0.0</td>\n      <td>0.0</td>\n    </tr>\n    <tr>\n      <th>0 days 00:01:00</th>\n      <td>0.0</td>\n      <td>0.0</td>\n      <td>0.0</td>\n      <td>0.0</td>\n      <td>0.0</td>\n      <td>0.0</td>\n      <td>0.0</td>\n      <td>0.0</td>\n      <td>0.0</td>\n      <td>0.0</td>\n      <td>...</td>\n      <td>0.0</td>\n      <td>0.0</td>\n      <td>0.0</td>\n      <td>0.0</td>\n      <td>0.0</td>\n      <td>0.0</td>\n      <td>0.0</td>\n      <td>0.0</td>\n      <td>0.0</td>\n      <td>0.0</td>\n    </tr>\n    <tr>\n      <th>0 days 00:05:00</th>\n      <td>0.0</td>\n      <td>0.0</td>\n      <td>0.0</td>\n      <td>0.0</td>\n      <td>0.0</td>\n      <td>0.0</td>\n      <td>0.0</td>\n      <td>0.0</td>\n      <td>0.0</td>\n      <td>0.0</td>\n      <td>...</td>\n      <td>0.0</td>\n      <td>0.0</td>\n      <td>0.0</td>\n      <td>0.0</td>\n      <td>0.0</td>\n      <td>0.0</td>\n      <td>0.0</td>\n      <td>0.0</td>\n      <td>0.0</td>\n      <td>0.0</td>\n    </tr>\n    <tr>\n      <th>0 days 00:06:00</th>\n      <td>0.0</td>\n      <td>0.0</td>\n      <td>0.0</td>\n      <td>0.0</td>\n      <td>0.0</td>\n      <td>0.0</td>\n      <td>0.0</td>\n      <td>0.0</td>\n      <td>0.0</td>\n      <td>0.0</td>\n      <td>...</td>\n      <td>80600.0</td>\n      <td>83265.0</td>\n      <td>10087.0</td>\n      <td>8949.0</td>\n      <td>86639.0</td>\n      <td>85969.0</td>\n      <td>0.0</td>\n      <td>79270.0</td>\n      <td>81253.0</td>\n      <td>80115.0</td>\n    </tr>\n    <tr>\n      <th>0 days 00:10:00</th>\n      <td>0.0</td>\n      <td>0.0</td>\n      <td>37464.0</td>\n      <td>52173.0</td>\n      <td>52146.0</td>\n      <td>0.0</td>\n      <td>46427.0</td>\n      <td>30464.0</td>\n      <td>1.0</td>\n      <td>1.0</td>\n      <td>...</td>\n      <td>0.0</td>\n      <td>0.0</td>\n      <td>0.0</td>\n      <td>0.0</td>\n      <td>0.0</td>\n      <td>0.0</td>\n      <td>0.0</td>\n      <td>0.0</td>\n      <td>0.0</td>\n      <td>0.0</td>\n    </tr>\n    <tr>\n      <th>...</th>\n      <td>...</td>\n      <td>...</td>\n      <td>...</td>\n      <td>...</td>\n      <td>...</td>\n      <td>...</td>\n      <td>...</td>\n      <td>...</td>\n      <td>...</td>\n      <td>...</td>\n      <td>...</td>\n      <td>...</td>\n      <td>...</td>\n      <td>...</td>\n      <td>...</td>\n      <td>...</td>\n      <td>...</td>\n      <td>...</td>\n      <td>...</td>\n      <td>...</td>\n      <td>...</td>\n    </tr>\n    <tr>\n      <th>55 days 06:06:00</th>\n      <td>0.0</td>\n      <td>0.0</td>\n      <td>0.0</td>\n      <td>0.0</td>\n      <td>0.0</td>\n      <td>0.0</td>\n      <td>0.0</td>\n      <td>0.0</td>\n      <td>0.0</td>\n      <td>0.0</td>\n      <td>...</td>\n      <td>0.0</td>\n      <td>0.0</td>\n      <td>0.0</td>\n      <td>0.0</td>\n      <td>0.0</td>\n      <td>0.0</td>\n      <td>0.0</td>\n      <td>0.0</td>\n      <td>0.0</td>\n      <td>0.0</td>\n    </tr>\n    <tr>\n      <th>56 days 00:18:00</th>\n      <td>0.0</td>\n      <td>0.0</td>\n      <td>0.0</td>\n      <td>0.0</td>\n      <td>0.0</td>\n      <td>0.0</td>\n      <td>0.0</td>\n      <td>0.0</td>\n      <td>0.0</td>\n      <td>0.0</td>\n      <td>...</td>\n      <td>0.0</td>\n      <td>0.0</td>\n      <td>0.0</td>\n      <td>0.0</td>\n      <td>0.0</td>\n      <td>0.0</td>\n      <td>0.0</td>\n      <td>0.0</td>\n      <td>0.0</td>\n      <td>0.0</td>\n    </tr>\n    <tr>\n      <th>89 days 05:30:00</th>\n      <td>0.0</td>\n      <td>0.0</td>\n      <td>0.0</td>\n      <td>0.0</td>\n      <td>0.0</td>\n      <td>0.0</td>\n      <td>0.0</td>\n      <td>0.0</td>\n      <td>0.0</td>\n      <td>0.0</td>\n      <td>...</td>\n      <td>0.0</td>\n      <td>0.0</td>\n      <td>0.0</td>\n      <td>0.0</td>\n      <td>0.0</td>\n      <td>0.0</td>\n      <td>0.0</td>\n      <td>0.0</td>\n      <td>0.0</td>\n      <td>0.0</td>\n    </tr>\n    <tr>\n      <th>156 days 09:00:00</th>\n      <td>0.0</td>\n      <td>0.0</td>\n      <td>0.0</td>\n      <td>0.0</td>\n      <td>0.0</td>\n      <td>0.0</td>\n      <td>0.0</td>\n      <td>0.0</td>\n      <td>0.0</td>\n      <td>0.0</td>\n      <td>...</td>\n      <td>0.0</td>\n      <td>0.0</td>\n      <td>0.0</td>\n      <td>0.0</td>\n      <td>0.0</td>\n      <td>0.0</td>\n      <td>0.0</td>\n      <td>0.0</td>\n      <td>0.0</td>\n      <td>0.0</td>\n    </tr>\n    <tr>\n      <th>227 days 13:06:00</th>\n      <td>0.0</td>\n      <td>0.0</td>\n      <td>0.0</td>\n      <td>0.0</td>\n      <td>0.0</td>\n      <td>0.0</td>\n      <td>0.0</td>\n      <td>0.0</td>\n      <td>0.0</td>\n      <td>0.0</td>\n      <td>...</td>\n      <td>0.0</td>\n      <td>0.0</td>\n      <td>0.0</td>\n      <td>0.0</td>\n      <td>0.0</td>\n      <td>0.0</td>\n      <td>0.0</td>\n      <td>0.0</td>\n      <td>0.0</td>\n      <td>0.0</td>\n    </tr>\n  </tbody>\n</table>\n<p>298 rows × 123 columns</p>\n</div>"
     },
     "execution_count": 23,
     "metadata": {},
     "output_type": "execute_result"
    }
   ],
   "source": [
    "timestep_counts = calc_all_time_delta_counts(timestamp_df)\n",
    "timestep_counts"
   ],
   "metadata": {
    "collapsed": false,
    "pycharm": {
     "name": "#%%\n"
    }
   }
  },
  {
   "cell_type": "markdown",
   "source": [
    "as we can see, we do have 298 different time_steps ...\n",
    "now I need to find a way to get as much data as possible but with consistent timesteps!"
   ],
   "metadata": {
    "collapsed": false,
    "pycharm": {
     "name": "#%% md\n"
    }
   }
  },
  {
   "cell_type": "code",
   "execution_count": 24,
   "outputs": [
    {
     "name": "stdout",
     "output_type": "stream",
     "text": [
      "<class 'pandas.core.frame.DataFrame'>\n"
     ]
    },
    {
     "data": {
      "text/plain": "       max_count       timedelta  num_of_records  ratio in %\n41117    17345.0 0 days 00:30:00         17411.0    0.996209\n41112    15820.0 0 days 00:30:00         15909.0    0.994406\n42001    37464.0 0 days 00:10:00         37578.0    0.996966\n42002    52173.0 0 days 00:10:00         52272.0    0.998106\n42012    52146.0 0 days 00:10:00         52258.0    0.997857\n...          ...             ...             ...         ...\nvcat2    85969.0 0 days 00:06:00         86191.0    0.997424\nvenf1     8745.0 0 days 01:00:00          8757.0    0.998630\nwiwf1    79270.0 0 days 00:06:00         79924.0    0.991817\nwplf1    81253.0 0 days 00:06:00         81779.0    0.993568\nwycm6    80115.0 0 days 00:06:00         83079.0    0.964323\n\n[123 rows x 4 columns]",
      "text/html": "<div>\n<style scoped>\n    .dataframe tbody tr th:only-of-type {\n        vertical-align: middle;\n    }\n\n    .dataframe tbody tr th {\n        vertical-align: top;\n    }\n\n    .dataframe thead th {\n        text-align: right;\n    }\n</style>\n<table border=\"1\" class=\"dataframe\">\n  <thead>\n    <tr style=\"text-align: right;\">\n      <th></th>\n      <th>max_count</th>\n      <th>timedelta</th>\n      <th>num_of_records</th>\n      <th>ratio in %</th>\n    </tr>\n  </thead>\n  <tbody>\n    <tr>\n      <th>41117</th>\n      <td>17345.0</td>\n      <td>0 days 00:30:00</td>\n      <td>17411.0</td>\n      <td>0.996209</td>\n    </tr>\n    <tr>\n      <th>41112</th>\n      <td>15820.0</td>\n      <td>0 days 00:30:00</td>\n      <td>15909.0</td>\n      <td>0.994406</td>\n    </tr>\n    <tr>\n      <th>42001</th>\n      <td>37464.0</td>\n      <td>0 days 00:10:00</td>\n      <td>37578.0</td>\n      <td>0.996966</td>\n    </tr>\n    <tr>\n      <th>42002</th>\n      <td>52173.0</td>\n      <td>0 days 00:10:00</td>\n      <td>52272.0</td>\n      <td>0.998106</td>\n    </tr>\n    <tr>\n      <th>42012</th>\n      <td>52146.0</td>\n      <td>0 days 00:10:00</td>\n      <td>52258.0</td>\n      <td>0.997857</td>\n    </tr>\n    <tr>\n      <th>...</th>\n      <td>...</td>\n      <td>...</td>\n      <td>...</td>\n      <td>...</td>\n    </tr>\n    <tr>\n      <th>vcat2</th>\n      <td>85969.0</td>\n      <td>0 days 00:06:00</td>\n      <td>86191.0</td>\n      <td>0.997424</td>\n    </tr>\n    <tr>\n      <th>venf1</th>\n      <td>8745.0</td>\n      <td>0 days 01:00:00</td>\n      <td>8757.0</td>\n      <td>0.998630</td>\n    </tr>\n    <tr>\n      <th>wiwf1</th>\n      <td>79270.0</td>\n      <td>0 days 00:06:00</td>\n      <td>79924.0</td>\n      <td>0.991817</td>\n    </tr>\n    <tr>\n      <th>wplf1</th>\n      <td>81253.0</td>\n      <td>0 days 00:06:00</td>\n      <td>81779.0</td>\n      <td>0.993568</td>\n    </tr>\n    <tr>\n      <th>wycm6</th>\n      <td>80115.0</td>\n      <td>0 days 00:06:00</td>\n      <td>83079.0</td>\n      <td>0.964323</td>\n    </tr>\n  </tbody>\n</table>\n<p>123 rows × 4 columns</p>\n</div>"
     },
     "execution_count": 24,
     "metadata": {},
     "output_type": "execute_result"
    }
   ],
   "source": [
    "def create_max_count_statistic(timestep_counts):\n",
    "\n",
    "    max_counts = pd.DataFrame() #statistic by buoy ID\n",
    "    max_counts[\"max_count\"] = timestep_counts.max()\n",
    "    max_counts[\"timedelta\"] = timestep_counts.idxmax()\n",
    "    max_counts[\"num_of_records\"] = timestep_counts.sum()\n",
    "\n",
    "    #total_sum = timestep_counts.columns[1].sum()\n",
    "    #print(\"total sum: \", total_sum)\n",
    "\n",
    "    max_counts[\"ratio in %\"] = max_counts[\"max_count\"] / max_counts[\"num_of_records\"]\n",
    "    #print(type(max_counts))\n",
    "    #display(max_counts)\n",
    "\n",
    "    max_counts_by_delta = pd.DataFrame()    #statistic by timedelta\n",
    "    max_counts_by_delta[\"timedelta\"] = max_counts[\"timedelta\"].unique()\n",
    "    #display(max_counts_by_delta)\n",
    "    #print(\"Type of max_counts_by_delta: \", type(max_counts_by_delta))\n",
    "\n",
    "    buoy_ids = list()   #list of all timestamps\n",
    "    summs = list()        #total sum of timedelta values\n",
    "    for index_1, row_1 in max_counts_by_delta.iterrows():\n",
    "        current_ids = list() #this list becomes an element of buoy_ids\n",
    "        current_sum = 0\n",
    "        for index_2, row_2 in max_counts.iterrows():\n",
    "            if row_1[\"timedelta\"] == row_2[\"timedelta\"]:\n",
    "                current_ids.append(index_2)\n",
    "                current_sum += row_2[\"max_count\"]\n",
    "        buoy_ids.append(current_ids)\n",
    "        summs.append(current_sum)\n",
    "\n",
    "    max_counts_by_delta[\"buoy_ids\"] = buoy_ids\n",
    "    max_counts_by_delta[\"#total_obersvations\"] = summs\n",
    "\n",
    "    max_counts_by_delta.set_index('timedelta', inplace = True)\n",
    "    return max_counts, max_counts_by_delta\n",
    "\n",
    "#TEST:\n",
    "print(type(timestep_counts))\n",
    "statistic_by_buoy_id, statistic_by_timedelta = create_max_count_statistic(timestep_counts)\n",
    "statistic_by_buoy_id"
   ],
   "metadata": {
    "collapsed": false,
    "pycharm": {
     "name": "#%%\n"
    }
   }
  },
  {
   "cell_type": "code",
   "execution_count": 25,
   "outputs": [
    {
     "data": {
      "text/plain": "                                                          buoy_ids  \\\ntimedelta                                                            \n0 days 00:30:00  [41117, 41112, 42013, 42022, 42023, 42026, 420...   \n0 days 00:10:00  [42001, 42002, 42012, 42019, 42020, 42036, 420...   \n0 days 00:06:00  [amrl1, anpt2, apcf1, arpf1, awrt2, babt2, bkt...   \n0 days 01:00:00  [burl1, cdrf1, ktnf1, ptat2, sauf1, sgof1, srs...   \n\n                 #total_obersvations  \ntimedelta                             \n0 days 00:30:00             177487.0  \n0 days 00:10:00             432007.0  \n0 days 00:06:00            7395972.0  \n0 days 01:00:00              63931.0  ",
      "text/html": "<div>\n<style scoped>\n    .dataframe tbody tr th:only-of-type {\n        vertical-align: middle;\n    }\n\n    .dataframe tbody tr th {\n        vertical-align: top;\n    }\n\n    .dataframe thead th {\n        text-align: right;\n    }\n</style>\n<table border=\"1\" class=\"dataframe\">\n  <thead>\n    <tr style=\"text-align: right;\">\n      <th></th>\n      <th>buoy_ids</th>\n      <th>#total_obersvations</th>\n    </tr>\n    <tr>\n      <th>timedelta</th>\n      <th></th>\n      <th></th>\n    </tr>\n  </thead>\n  <tbody>\n    <tr>\n      <th>0 days 00:30:00</th>\n      <td>[41117, 41112, 42013, 42022, 42023, 42026, 420...</td>\n      <td>177487.0</td>\n    </tr>\n    <tr>\n      <th>0 days 00:10:00</th>\n      <td>[42001, 42002, 42012, 42019, 42020, 42036, 420...</td>\n      <td>432007.0</td>\n    </tr>\n    <tr>\n      <th>0 days 00:06:00</th>\n      <td>[amrl1, anpt2, apcf1, arpf1, awrt2, babt2, bkt...</td>\n      <td>7395972.0</td>\n    </tr>\n    <tr>\n      <th>0 days 01:00:00</th>\n      <td>[burl1, cdrf1, ktnf1, ptat2, sauf1, sgof1, srs...</td>\n      <td>63931.0</td>\n    </tr>\n  </tbody>\n</table>\n</div>"
     },
     "execution_count": 25,
     "metadata": {},
     "output_type": "execute_result"
    }
   ],
   "source": [
    "statistic_by_timedelta"
   ],
   "metadata": {
    "collapsed": false,
    "pycharm": {
     "name": "#%%\n"
    }
   }
  },
  {
   "cell_type": "markdown",
   "source": [
    "The ratio in the first statistic shows how constant the timestep is. In theory, if the sensor would save data after all x minutes, this value would be 100%.\n",
    "The lowest ratio is 87%. Which means only considering the most often occuring timedelta would not reduce the number of instances significantly.\n",
    "\n",
    "The second statistic shows how often and for which buoys the most often observed timedeltas occur. This should help to decide which timestep to use for the final dataset.\n",
    "\n",
    "Using 1h timesteps would include:\n",
    "     50%   of 30 min timedeltas\n",
    "     16.6% of 10 min timedeltas\n",
    "     10%   of  6 min timedeltas\n",
    "    100%   of  1 h   timedeltas\n",
    "    No additional NaN values would be created\n",
    "\n",
    "Using 30 min timesteps would include:\n",
    "    100%   of 30 min timedeltas\n",
    "     33.3% of 10 min timedeltas\n",
    "     20%   of  6 min timedeltas\n",
    "     50%   of  1 h   timedeltas\n",
    "   #### BUT: 50% of the data from the 1h-timedeltas would be NaN\n",
    "\n",
    "The smaller the selected timedelta gets, the more NaN values are created. Since we would create no NaN values at all,\n",
    "\n",
    "## Lets figure out how much data we would lose, if we only consider 1h timesteps starting on 01-01-2020 00:00.\n",
    "-->3_NaN_analysis.ipynb\n",
    "\n"
   ],
   "metadata": {
    "collapsed": false,
    "pycharm": {
     "name": "#%% md\n"
    }
   }
  },
  {
   "cell_type": "code",
   "execution_count": 26,
   "outputs": [
    {
     "name": "stdout",
     "output_type": "stream",
     "text": [
      "Num of buoy_station for timestep: 0 days 00:30:00  =  12\n",
      "Num of buoy_station for timestep: 0 days 00:10:00  =  10\n",
      "Num of buoy_station for timestep: 0 days 00:06:00  =  93\n",
      "Num of buoy_station for timestep: 0 days 01:00:00  =  8\n"
     ]
    }
   ],
   "source": [
    "for index, row in statistic_by_timedelta.iterrows():\n",
    "    print(\"Num of buoy_station for timestep:\", index ,\" = \", len(row['buoy_ids']))"
   ],
   "metadata": {
    "collapsed": false,
    "pycharm": {
     "name": "#%%\n"
    }
   }
  },
  {
   "cell_type": "markdown",
   "source": [
    "# ISSUE:\n",
    "As we can see, most stations use the 6 min timesteps. Therefore, it we would use significantly more data by only considering the 6 min timestaps. Before I rebuild the dataset, I have to check, which timesteps are used by the ocean models ERA5 and Wave Watch III.\n",
    "\n",
    "Acording to Pujan, 6 minutes is to little for forecasting! It should be 1 - 3 hours. (Research and ask Austin about thins!)\n"
   ],
   "metadata": {
    "collapsed": false,
    "pycharm": {
     "name": "#%% md\n"
    }
   }
  }
 ],
 "metadata": {
  "kernelspec": {
   "display_name": "Python 3",
   "language": "python",
   "name": "python3"
  },
  "language_info": {
   "codemirror_mode": {
    "name": "ipython",
    "version": 2
   },
   "file_extension": ".py",
   "mimetype": "text/x-python",
   "name": "python",
   "nbconvert_exporter": "python",
   "pygments_lexer": "ipython2",
   "version": "2.7.6"
  }
 },
 "nbformat": 4,
 "nbformat_minor": 0
}