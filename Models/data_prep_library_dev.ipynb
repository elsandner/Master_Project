{
 "cells": [
  {
   "cell_type": "markdown",
   "source": [
    "# Goal:\n",
    "Create library, in the best case with single-call functionality.\n",
    "Task of the lib: Do all preprocessing steps and provide data to fit a keras NN\n",
    "Should be basically an adapter function which also includes some preprocessing steps\n",
    "\n",
    "This file is for dev purpose, the final version musst be stored in a .py file!\n",
    "\n",
    "## Limitation:\n",
    "I am always predicting all features. Which of them are really of interest will be decided in the evaluation part!\n"
   ],
   "metadata": {
    "collapsed": false,
    "pycharm": {
     "name": "#%% md\n"
    }
   }
  },
  {
   "cell_type": "code",
   "execution_count": 1,
   "outputs": [],
   "source": [
    "# univariate data preparation\n",
    "from keras.models import Sequential\n",
    "from keras.layers import LSTM\n",
    "from keras.layers import Dense\n",
    "\n",
    "import pandas as pd\n",
    "import tensorflow as tf\n",
    "import myLibrary as mL\n",
    "from sklearn.metrics import mean_squared_error, mean_absolute_error\n",
    "\n",
    "import netCDF4 as nc\n",
    "import matplotlib.pyplot as plt"
   ],
   "metadata": {
    "collapsed": false,
    "pycharm": {
     "name": "#%%\n"
    }
   }
  },
  {
   "cell_type": "code",
   "execution_count": 2,
   "outputs": [
    {
     "name": "stdout",
     "output_type": "stream",
     "text": [
      "Started with  2020 . Previous year took:   0.0006608963012695312 seconds\n",
      "from disc\n",
      "from disc\n",
      "Started with  2021 . Previous year took:   4.141801834106445 seconds\n",
      "from disc\n",
      "from disc\n",
      "Finished downloading - now merging it together!\n"
     ]
    },
    {
     "data": {
      "text/plain": "                     PRES_42036  ATMP_42036  WTMP_42036  DEWP_42036  \\\ntimestamp                                                             \n2020-01-01 00:00:00      1019.5        17.2        21.8         6.8   \n2020-01-01 01:00:00      1019.8        17.3        21.8         7.3   \n2020-01-01 02:00:00      1020.1        17.8        21.8         7.6   \n2020-01-01 03:00:00      1020.7        18.1        21.8         8.4   \n2020-01-01 04:00:00      1020.7        18.2        21.8         7.9   \n...                         ...         ...         ...         ...   \n2021-12-31 19:00:00      1016.0        23.5        22.8        23.5   \n2021-12-31 20:00:00      1015.8        23.5        22.9        23.5   \n2021-12-31 21:00:00      1015.8        23.6        22.9        23.6   \n2021-12-31 22:00:00      1015.8        23.5        22.9        23.5   \n2021-12-31 23:00:00      1016.0        23.3        23.0        23.3   \n\n                     ATMP_41117  WTMP_41117  \ntimestamp                                    \n2020-01-01 00:00:00        26.7        17.4  \n2020-01-01 01:00:00        26.7        17.4  \n2020-01-01 02:00:00        26.7        17.4  \n2020-01-01 03:00:00        26.7        17.4  \n2020-01-01 04:00:00        26.7        17.4  \n...                         ...         ...  \n2021-12-31 19:00:00        21.3        20.5  \n2021-12-31 20:00:00        21.7        20.6  \n2021-12-31 21:00:00        21.7        20.7  \n2021-12-31 22:00:00        21.3        20.5  \n2021-12-31 23:00:00        20.9        20.6  \n\n[17544 rows x 6 columns]",
      "text/html": "<div>\n<style scoped>\n    .dataframe tbody tr th:only-of-type {\n        vertical-align: middle;\n    }\n\n    .dataframe tbody tr th {\n        vertical-align: top;\n    }\n\n    .dataframe thead th {\n        text-align: right;\n    }\n</style>\n<table border=\"1\" class=\"dataframe\">\n  <thead>\n    <tr style=\"text-align: right;\">\n      <th></th>\n      <th>PRES_42036</th>\n      <th>ATMP_42036</th>\n      <th>WTMP_42036</th>\n      <th>DEWP_42036</th>\n      <th>ATMP_41117</th>\n      <th>WTMP_41117</th>\n    </tr>\n    <tr>\n      <th>timestamp</th>\n      <th></th>\n      <th></th>\n      <th></th>\n      <th></th>\n      <th></th>\n      <th></th>\n    </tr>\n  </thead>\n  <tbody>\n    <tr>\n      <th>2020-01-01 00:00:00</th>\n      <td>1019.5</td>\n      <td>17.2</td>\n      <td>21.8</td>\n      <td>6.8</td>\n      <td>26.7</td>\n      <td>17.4</td>\n    </tr>\n    <tr>\n      <th>2020-01-01 01:00:00</th>\n      <td>1019.8</td>\n      <td>17.3</td>\n      <td>21.8</td>\n      <td>7.3</td>\n      <td>26.7</td>\n      <td>17.4</td>\n    </tr>\n    <tr>\n      <th>2020-01-01 02:00:00</th>\n      <td>1020.1</td>\n      <td>17.8</td>\n      <td>21.8</td>\n      <td>7.6</td>\n      <td>26.7</td>\n      <td>17.4</td>\n    </tr>\n    <tr>\n      <th>2020-01-01 03:00:00</th>\n      <td>1020.7</td>\n      <td>18.1</td>\n      <td>21.8</td>\n      <td>8.4</td>\n      <td>26.7</td>\n      <td>17.4</td>\n    </tr>\n    <tr>\n      <th>2020-01-01 04:00:00</th>\n      <td>1020.7</td>\n      <td>18.2</td>\n      <td>21.8</td>\n      <td>7.9</td>\n      <td>26.7</td>\n      <td>17.4</td>\n    </tr>\n    <tr>\n      <th>...</th>\n      <td>...</td>\n      <td>...</td>\n      <td>...</td>\n      <td>...</td>\n      <td>...</td>\n      <td>...</td>\n    </tr>\n    <tr>\n      <th>2021-12-31 19:00:00</th>\n      <td>1016.0</td>\n      <td>23.5</td>\n      <td>22.8</td>\n      <td>23.5</td>\n      <td>21.3</td>\n      <td>20.5</td>\n    </tr>\n    <tr>\n      <th>2021-12-31 20:00:00</th>\n      <td>1015.8</td>\n      <td>23.5</td>\n      <td>22.9</td>\n      <td>23.5</td>\n      <td>21.7</td>\n      <td>20.6</td>\n    </tr>\n    <tr>\n      <th>2021-12-31 21:00:00</th>\n      <td>1015.8</td>\n      <td>23.6</td>\n      <td>22.9</td>\n      <td>23.6</td>\n      <td>21.7</td>\n      <td>20.7</td>\n    </tr>\n    <tr>\n      <th>2021-12-31 22:00:00</th>\n      <td>1015.8</td>\n      <td>23.5</td>\n      <td>22.9</td>\n      <td>23.5</td>\n      <td>21.3</td>\n      <td>20.5</td>\n    </tr>\n    <tr>\n      <th>2021-12-31 23:00:00</th>\n      <td>1016.0</td>\n      <td>23.3</td>\n      <td>23.0</td>\n      <td>23.3</td>\n      <td>20.9</td>\n      <td>20.6</td>\n    </tr>\n  </tbody>\n</table>\n<p>17544 rows × 6 columns</p>\n</div>"
     },
     "execution_count": 2,
     "metadata": {},
     "output_type": "execute_result"
    }
   ],
   "source": [
    "data = mL.get_data(\n",
    "    stations=[\"42036\", \"41117\"],\n",
    "    years=[\"2020\", \"2021\"],\n",
    "    nan_threshold=0.8,\n",
    "    features=[\"PRES\",\"ATMP\", \"WTMP\", \"DEWP\"],\n",
    "    #features=None,\n",
    "    ERA5=False\n",
    "    )\n",
    "\n",
    "data"
   ],
   "metadata": {
    "collapsed": false,
    "pycharm": {
     "name": "#%%\n"
    }
   }
  },
  {
   "cell_type": "code",
   "execution_count": 8,
   "outputs": [
    {
     "data": {
      "text/plain": "0"
     },
     "execution_count": 8,
     "metadata": {},
     "output_type": "execute_result"
    }
   ],
   "source": [
    "data.isna().sum().sum()"
   ],
   "metadata": {
    "collapsed": false,
    "pycharm": {
     "name": "#%%\n"
    }
   }
  },
  {
   "cell_type": "markdown",
   "source": [
    "# Data to stationary"
   ],
   "metadata": {
    "collapsed": false,
    "pycharm": {
     "name": "#%% md\n"
    }
   }
  },
  {
   "cell_type": "code",
   "execution_count": 3,
   "outputs": [
    {
     "data": {
      "text/plain": "                     PRES_42036  ATMP_42036  WTMP_42036  DEWP_42036  \\\ntimestamp                                                             \n2020-01-01 01:00:00         0.3         0.1         0.0         0.5   \n2020-01-01 02:00:00         0.3         0.5         0.0         0.3   \n2020-01-01 03:00:00         0.6         0.3         0.0         0.8   \n2020-01-01 04:00:00         0.0         0.1         0.0        -0.5   \n2020-01-01 05:00:00        -0.5         0.1         0.0         0.4   \n...                         ...         ...         ...         ...   \n2021-12-31 19:00:00        -0.6         0.1         0.1         0.1   \n2021-12-31 20:00:00        -0.2         0.0         0.1         0.0   \n2021-12-31 21:00:00         0.0         0.1         0.0         0.1   \n2021-12-31 22:00:00         0.0        -0.1         0.0        -0.1   \n2021-12-31 23:00:00         0.2        -0.2         0.1        -0.2   \n\n                     ATMP_41117  WTMP_41117  \ntimestamp                                    \n2020-01-01 01:00:00         0.0         0.0  \n2020-01-01 02:00:00         0.0         0.0  \n2020-01-01 03:00:00         0.0         0.0  \n2020-01-01 04:00:00         0.0         0.0  \n2020-01-01 05:00:00         0.0         0.0  \n...                         ...         ...  \n2021-12-31 19:00:00         0.2        -0.1  \n2021-12-31 20:00:00         0.4         0.1  \n2021-12-31 21:00:00         0.0         0.1  \n2021-12-31 22:00:00        -0.4        -0.2  \n2021-12-31 23:00:00        -0.4         0.1  \n\n[17543 rows x 6 columns]",
      "text/html": "<div>\n<style scoped>\n    .dataframe tbody tr th:only-of-type {\n        vertical-align: middle;\n    }\n\n    .dataframe tbody tr th {\n        vertical-align: top;\n    }\n\n    .dataframe thead th {\n        text-align: right;\n    }\n</style>\n<table border=\"1\" class=\"dataframe\">\n  <thead>\n    <tr style=\"text-align: right;\">\n      <th></th>\n      <th>PRES_42036</th>\n      <th>ATMP_42036</th>\n      <th>WTMP_42036</th>\n      <th>DEWP_42036</th>\n      <th>ATMP_41117</th>\n      <th>WTMP_41117</th>\n    </tr>\n    <tr>\n      <th>timestamp</th>\n      <th></th>\n      <th></th>\n      <th></th>\n      <th></th>\n      <th></th>\n      <th></th>\n    </tr>\n  </thead>\n  <tbody>\n    <tr>\n      <th>2020-01-01 01:00:00</th>\n      <td>0.3</td>\n      <td>0.1</td>\n      <td>0.0</td>\n      <td>0.5</td>\n      <td>0.0</td>\n      <td>0.0</td>\n    </tr>\n    <tr>\n      <th>2020-01-01 02:00:00</th>\n      <td>0.3</td>\n      <td>0.5</td>\n      <td>0.0</td>\n      <td>0.3</td>\n      <td>0.0</td>\n      <td>0.0</td>\n    </tr>\n    <tr>\n      <th>2020-01-01 03:00:00</th>\n      <td>0.6</td>\n      <td>0.3</td>\n      <td>0.0</td>\n      <td>0.8</td>\n      <td>0.0</td>\n      <td>0.0</td>\n    </tr>\n    <tr>\n      <th>2020-01-01 04:00:00</th>\n      <td>0.0</td>\n      <td>0.1</td>\n      <td>0.0</td>\n      <td>-0.5</td>\n      <td>0.0</td>\n      <td>0.0</td>\n    </tr>\n    <tr>\n      <th>2020-01-01 05:00:00</th>\n      <td>-0.5</td>\n      <td>0.1</td>\n      <td>0.0</td>\n      <td>0.4</td>\n      <td>0.0</td>\n      <td>0.0</td>\n    </tr>\n    <tr>\n      <th>...</th>\n      <td>...</td>\n      <td>...</td>\n      <td>...</td>\n      <td>...</td>\n      <td>...</td>\n      <td>...</td>\n    </tr>\n    <tr>\n      <th>2021-12-31 19:00:00</th>\n      <td>-0.6</td>\n      <td>0.1</td>\n      <td>0.1</td>\n      <td>0.1</td>\n      <td>0.2</td>\n      <td>-0.1</td>\n    </tr>\n    <tr>\n      <th>2021-12-31 20:00:00</th>\n      <td>-0.2</td>\n      <td>0.0</td>\n      <td>0.1</td>\n      <td>0.0</td>\n      <td>0.4</td>\n      <td>0.1</td>\n    </tr>\n    <tr>\n      <th>2021-12-31 21:00:00</th>\n      <td>0.0</td>\n      <td>0.1</td>\n      <td>0.0</td>\n      <td>0.1</td>\n      <td>0.0</td>\n      <td>0.1</td>\n    </tr>\n    <tr>\n      <th>2021-12-31 22:00:00</th>\n      <td>0.0</td>\n      <td>-0.1</td>\n      <td>0.0</td>\n      <td>-0.1</td>\n      <td>-0.4</td>\n      <td>-0.2</td>\n    </tr>\n    <tr>\n      <th>2021-12-31 23:00:00</th>\n      <td>0.2</td>\n      <td>-0.2</td>\n      <td>0.1</td>\n      <td>-0.2</td>\n      <td>-0.4</td>\n      <td>0.1</td>\n    </tr>\n  </tbody>\n</table>\n<p>17543 rows × 6 columns</p>\n</div>"
     },
     "execution_count": 3,
     "metadata": {},
     "output_type": "execute_result"
    }
   ],
   "source": [
    "def data_to_stationary(data: pd.DataFrame, n: int =1):\n",
    "    data_stationary = pd.DataFrame()\n",
    "\n",
    "    for col in data.columns:\n",
    "        data_stationary[col] = data[col] - data[col].shift(n)  # y = value(i) - value(i-n)\n",
    "\n",
    "    data_stationary = data_stationary.iloc[n:]  # remove first n entries since there is no delta value for them\n",
    "    return data_stationary\n",
    "\n",
    "data_stationary = data_to_stationary(data)\n",
    "data_stationary"
   ],
   "metadata": {
    "collapsed": false,
    "pycharm": {
     "name": "#%%\n"
    }
   }
  },
  {
   "cell_type": "code",
   "execution_count": 6,
   "outputs": [],
   "source": [],
   "metadata": {
    "collapsed": false,
    "pycharm": {
     "name": "#%%\n"
    }
   }
  },
  {
   "cell_type": "code",
   "execution_count": 6,
   "outputs": [],
   "source": [],
   "metadata": {
    "collapsed": false,
    "pycharm": {
     "name": "#%%\n"
    }
   }
  },
  {
   "cell_type": "code",
   "execution_count": 6,
   "outputs": [],
   "source": [],
   "metadata": {
    "collapsed": false,
    "pycharm": {
     "name": "#%%\n"
    }
   }
  },
  {
   "cell_type": "code",
   "execution_count": null,
   "outputs": [],
   "source": [],
   "metadata": {
    "collapsed": false,
    "pycharm": {
     "name": "#%%\n"
    }
   }
  }
 ],
 "metadata": {
  "kernelspec": {
   "display_name": "Python 3",
   "language": "python",
   "name": "python3"
  },
  "language_info": {
   "codemirror_mode": {
    "name": "ipython",
    "version": 2
   },
   "file_extension": ".py",
   "mimetype": "text/x-python",
   "name": "python",
   "nbconvert_exporter": "python",
   "pygments_lexer": "ipython2",
   "version": "2.7.6"
  }
 },
 "nbformat": 4,
 "nbformat_minor": 0
}