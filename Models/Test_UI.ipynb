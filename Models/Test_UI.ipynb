{
 "cells": [
  {
   "cell_type": "markdown",
   "source": [
    "# Test Environment"
   ],
   "metadata": {
    "collapsed": false,
    "pycharm": {
     "name": "#%% md\n"
    }
   }
  },
  {
   "cell_type": "code",
   "execution_count": 1,
   "outputs": [],
   "source": [
    "import ipywidgets as widgets\n",
    "from IPython.display import display\n",
    "import numpy as np\n",
    "import pandas as pd\n",
    "import Models.models as models\n",
    "#import Models.LSTM.models_LSTM as models\n",
    "import myLibrary as mL\n",
    "from Experiment_Class import Experiment\n",
    "from sklearn.metrics import mean_squared_error, mean_absolute_error\n",
    "import pickle"
   ],
   "metadata": {
    "collapsed": false,
    "pycharm": {
     "name": "#%%\n"
    }
   }
  },
  {
   "cell_type": "markdown",
   "source": [
    "# Get Data"
   ],
   "metadata": {
    "collapsed": false,
    "pycharm": {
     "name": "#%% md\n"
    }
   }
  },
  {
   "cell_type": "code",
   "execution_count": 2,
   "outputs": [
    {
     "name": "stdout",
     "output_type": "stream",
     "text": [
      "STATIONS\n"
     ]
    },
    {
     "data": {
      "text/plain": "Box(children=(GridBox(children=(Checkbox(value=False, description='41117', indent=False), Checkbox(value=False…",
      "application/vnd.jupyter.widget-view+json": {
       "version_major": 2,
       "version_minor": 0,
       "model_id": "4cea5100eace40698f957e5762479d1d"
      }
     },
     "metadata": {},
     "output_type": "display_data"
    },
    {
     "data": {
      "text/plain": "SelectionRangeSlider(description='Time Range:', index=(51, 52), layout=Layout(width='500px'), options=(1970, 1…",
      "application/vnd.jupyter.widget-view+json": {
       "version_major": 2,
       "version_minor": 0,
       "model_id": "e54e74b8eb464e149c2fbff5fe3f4215"
      }
     },
     "metadata": {},
     "output_type": "display_data"
    },
    {
     "name": "stdout",
     "output_type": "stream",
     "text": [
      "NaN-Threshold:\n"
     ]
    },
    {
     "data": {
      "text/plain": "FloatSlider(value=0.5, layout=Layout(width='500px'), max=1.0, step=0.01)",
      "application/vnd.jupyter.widget-view+json": {
       "version_major": 2,
       "version_minor": 0,
       "model_id": "7cc9f8e1b93d457ba651d695c3a7486e"
      }
     },
     "metadata": {},
     "output_type": "display_data"
    },
    {
     "name": "stdout",
     "output_type": "stream",
     "text": [
      "Features:\n"
     ]
    },
    {
     "data": {
      "text/plain": "HBox(children=(Checkbox(value=False, description='WDIR', indent=False), Checkbox(value=False, description='WSP…",
      "application/vnd.jupyter.widget-view+json": {
       "version_major": 2,
       "version_minor": 0,
       "model_id": "72582fe2fe054edda6f8dbbe82692511"
      }
     },
     "metadata": {},
     "output_type": "display_data"
    },
    {
     "name": "stdout",
     "output_type": "stream",
     "text": [
      "Model Data:\n"
     ]
    },
    {
     "data": {
      "text/plain": "Checkbox(value=False, description='Add ERA5 model data', indent=False)",
      "application/vnd.jupyter.widget-view+json": {
       "version_major": 2,
       "version_minor": 0,
       "model_id": "f470cb96d658497a9fe9564a0aeced99"
      }
     },
     "metadata": {},
     "output_type": "display_data"
    },
    {
     "name": "stdout",
     "output_type": "stream",
     "text": [
      "Alpha:\n"
     ]
    },
    {
     "data": {
      "text/plain": "FloatSlider(value=0.5, layout=Layout(width='500px'), max=1.0, step=0.01)",
      "application/vnd.jupyter.widget-view+json": {
       "version_major": 2,
       "version_minor": 0,
       "model_id": "c6c6fa51cc2c4fed9fb34292d088df84"
      }
     },
     "metadata": {},
     "output_type": "display_data"
    },
    {
     "name": "stdout",
     "output_type": "stream",
     "text": [
      "Stationary Shilft: \n"
     ]
    },
    {
     "data": {
      "text/plain": "BoundedIntText(value=1, max=10)",
      "application/vnd.jupyter.widget-view+json": {
       "version_major": 2,
       "version_minor": 0,
       "model_id": "d34927e6b0ac4e42904c33fc114b5af8"
      }
     },
     "metadata": {},
     "output_type": "display_data"
    },
    {
     "name": "stdout",
     "output_type": "stream",
     "text": [
      "LAG:\n"
     ]
    },
    {
     "data": {
      "text/plain": "BoundedIntText(value=1, max=10)",
      "application/vnd.jupyter.widget-view+json": {
       "version_major": 2,
       "version_minor": 0,
       "model_id": "30041b2199f04d76ac74e018d8fd7642"
      }
     },
     "metadata": {},
     "output_type": "display_data"
    },
    {
     "data": {
      "text/plain": "IntSlider(value=24, continuous_update=False, description='Test Hours:', max=1000)",
      "application/vnd.jupyter.widget-view+json": {
       "version_major": 2,
       "version_minor": 0,
       "model_id": "579f8e706a1f49abb2c8c9466d1fda8d"
      }
     },
     "metadata": {},
     "output_type": "display_data"
    },
    {
     "data": {
      "text/plain": "Select(description='Model:', options=('lstm_0', 'lstm_1', 'lstm_2', 'pinn_0', 'pinn_1'), value='lstm_0')",
      "application/vnd.jupyter.widget-view+json": {
       "version_major": 2,
       "version_minor": 0,
       "model_id": "5645449e96b841ea96c35d89aad66be9"
      }
     },
     "metadata": {},
     "output_type": "display_data"
    }
   ],
   "source": [
    "import ipywidgets as widgets\n",
    "def build_UI():\n",
    "    #STATIONS -----------------------------------------------------------------------------------\n",
    "    # create a list of checkbox widgets for each station\n",
    "    stations = []\n",
    "    for station in mL.cleaned_stations_GOM:\n",
    "        checkbox = widgets.Checkbox(value=False, description=station, disabled=False, indent=False)\n",
    "        stations.append(checkbox)\n",
    "\n",
    "    # create a GridBox layout container with two columns\n",
    "    global stations_grid\n",
    "    stations_grid = widgets.GridBox(stations, layout=widgets.Layout(grid_template_columns=\"repeat(3, 300px)\"))\n",
    "\n",
    "    # wrap the GridBox inside a Box layout container with a fixed height and scrollable overflow\n",
    "    stations_box = widgets.Box(children=[stations_grid], layout=widgets.Layout(height=\"200px\", overflow=\"scroll\"))\n",
    "\n",
    "    # display the checkboxes\n",
    "    print(\"STATIONS\")\n",
    "    display(stations_box)\n",
    "\n",
    "    #Years --------------------------------------------------------------------------------------\n",
    "    # create a range slider widget for selecting a time range\n",
    "    global time_range_slider\n",
    "    time_range_slider = widgets.SelectionRangeSlider(\n",
    "        options=list(range(1970, 2023)),  # range of years to select from\n",
    "        index=(51, 52),  # initial range selected (1970-2023)\n",
    "        description='Time Range:',\n",
    "        orientation='horizontal',\n",
    "        layout={'width': '500px'}\n",
    "    )\n",
    "\n",
    "    # display the range slider widget\n",
    "    display(time_range_slider)\n",
    "\n",
    "    #NaN_Theshold--------------------------------------------------------------------------------\n",
    "    # create a FloatSlider widget for a value between 0 and 1\n",
    "    print(\"NaN-Threshold:\")\n",
    "    global nan_threshold_slider\n",
    "    nan_threshold_slider = widgets.FloatSlider(\n",
    "        value=0.5,\n",
    "        min=0,\n",
    "        max=1,\n",
    "        step=0.01,\n",
    "        description='',\n",
    "        readout_format='.2f',\n",
    "        orientation='horizontal',\n",
    "        layout={'width': '500px'}\n",
    "    )\n",
    "\n",
    "    # display the FloatSlider widget\n",
    "    display(nan_threshold_slider)\n",
    "\n",
    "    #Features--------------------------------------------------------------------------------\n",
    "    features = []\n",
    "    for feature in [\"WDIR\", \"WSPD\", \"WVHT\", \"APD\", \"MWD\", \"PRES\", \"ATMP\", \"WTMP\", \"DEWP\"]:\n",
    "        checkbox = widgets.Checkbox(value=False, description=feature, disabled=False, indent=False)\n",
    "        features.append(checkbox)\n",
    "\n",
    "    print(\"Features:\")\n",
    "    global feature_container\n",
    "    feature_container = widgets.HBox(features)\n",
    "    display(feature_container)\n",
    "\n",
    "    #ERA5------------------------------------------------------------------------------------\n",
    "    global era5_checkbox\n",
    "    era5_checkbox = widgets.Checkbox(value=False, description=\"Add ERA5 model data\", disabled=False, indent=False)\n",
    "    print(\"Model Data:\")\n",
    "    display(era5_checkbox)\n",
    "\n",
    "    #ALPHA:\n",
    "    # create a FloatSlider widget for a value between 0 and 1\n",
    "    print(\"Alpha:\")\n",
    "    global alpha_slider\n",
    "    alpha_slider = widgets.FloatSlider(\n",
    "        value=0.5,\n",
    "        min=0,\n",
    "        max=1,\n",
    "        step=0.01,\n",
    "        description='',\n",
    "        readout_format='.2f',\n",
    "        orientation='horizontal',\n",
    "        layout={'width': '500px'}\n",
    "    )\n",
    "\n",
    "    # display the FloatSlider widget\n",
    "    display(alpha_slider)\n",
    "\n",
    "    #STATIONARY_SHIFT -----------------------------------------------------------------------\n",
    "    global stationaryShift_widget\n",
    "    stationaryShift_widget = widgets.BoundedIntText(\n",
    "        value=1,\n",
    "        min=0,\n",
    "        max=10,\n",
    "        step=1,\n",
    "        description='',\n",
    "        disabled=False,\n",
    "    )\n",
    "    print(\"Stationary Shilft: \")\n",
    "    display(stationaryShift_widget)\n",
    "    # LAG ----------------------------------------------------------------------------------------\n",
    "    global lag_widget\n",
    "    lag_widget = widgets.BoundedIntText(\n",
    "        value=1,\n",
    "        min=0,\n",
    "        max=10,\n",
    "        step=1,\n",
    "        description='',\n",
    "        disabled=False,\n",
    "    )\n",
    "    print(\"LAG:\")\n",
    "    display(lag_widget)\n",
    "\n",
    "    # Test Hours-------------------------------------------------------------------------------\n",
    "    global test_hours_widget\n",
    "    test_hours_widget = widgets.IntSlider(\n",
    "        value=24,\n",
    "        min=0,\n",
    "        max=1000,\n",
    "        step=1,\n",
    "        description='Test Hours:',\n",
    "        disabled=False,\n",
    "        continuous_update=False,\n",
    "        orientation='horizontal',\n",
    "        readout=True,\n",
    "        readout_format='d'\n",
    "    )\n",
    "\n",
    "    # display the range slider widget\n",
    "    display(test_hours_widget)\n",
    "    #print(\"(1 Week = 168h)\")\n",
    "\n",
    "    # Test Hours-------------------------------------------------------------------------------\n",
    "    global models_widget\n",
    "    models_list = list(models.model_dictionary.keys())\n",
    "    models_widget = widgets.Select(\n",
    "        options=models_list,\n",
    "        value=models_list[0],\n",
    "        # rows=10,\n",
    "        description='Model:',\n",
    "        disabled=False\n",
    "    )\n",
    "    display(models_widget)\n",
    "\n",
    "\n",
    "build_UI()"
   ],
   "metadata": {
    "collapsed": false,
    "pycharm": {
     "name": "#%%\n"
    }
   }
  },
  {
   "cell_type": "code",
   "execution_count": 37,
   "outputs": [],
   "source": [
    "STATIONS = [checkbox.description for checkbox in stations_grid.children if checkbox.value]\n",
    "\n",
    "# get the selected time range\n",
    "start_year, end_year = time_range_slider.value\n",
    "YEARS = [str(year) for year in range(start_year, end_year + 1)]\n",
    "NAN_THRESHOLD = nan_threshold_slider.value\n",
    "FEATURES =  [checkbox.description for checkbox in feature_container.children if checkbox.value]\n",
    "ERA5 = era5_checkbox.value\n",
    "ALPHA = alpha_slider.value\n",
    "STATIONARY_SHIFT = stationaryShift_widget.value\n",
    "LAG = lag_widget.value\n",
    "N_TEST_HOURS = test_hours_widget.value\n",
    "MODEL_NAME = models_widget.value"
   ],
   "metadata": {
    "collapsed": false,
    "pycharm": {
     "name": "#%%\n"
    }
   }
  },
  {
   "cell_type": "code",
   "execution_count": 37,
   "outputs": [],
   "source": [],
   "metadata": {
    "collapsed": false,
    "pycharm": {
     "name": "#%%\n"
    }
   }
  },
  {
   "cell_type": "code",
   "execution_count": 38,
   "outputs": [],
   "source": [
    "#Hardcoded variables!\n",
    "#STATIONS = mL.stations_GOM\n",
    "#STATIONS = [\"41008\",\n",
    "            # \"41009\",\n",
    "            # \"41112\",\n",
    "            # \"41113\",\n",
    "            # \"41114\",\n",
    "            # \"42001\",\n",
    "            # \"42002\",\n",
    "            # \"42003\",\n",
    "            # \"42012\",\n",
    "            # \"42019\",\n",
    "            # \"42020\",\n",
    "            # \"42022\",\n",
    "            # \"42035\",\n",
    "            # \"42039\",\n",
    "            # \"42040\",\n",
    "            # \"42055\",\n",
    "            # \"42056\",\n",
    "            # \"42099\",\n",
    "            # \"AMRL1\",\n",
    "            # \"APCF1\",\n",
    "            # \"ARPF1\",\n",
    "            # \"BABT2\",\n",
    "            # \"BKTL1\",\n",
    "            # \"BSCA1\",\n",
    "            # \"BURL1\",\n",
    "            # \"BYGL1\",\n",
    "            # \"CAPL1\",\n",
    "            # \"CARL1\",\n",
    "            # \"CDRF1\",\n",
    "            # \"CRTA1\",\n",
    "            # \"CWBF1\",\n",
    "            # \"EPTT2\",\n",
    "            # \"FHPF1\",\n",
    "            # \"FMOA1\",\n",
    "            # \"FMRF1\",\n",
    "            # \"FRDF1\",\n",
    "            # \"FRWL1\",\n",
    "            # \"FWYF1\",\n",
    "            # \"GISL1\",\n",
    "            # \"GNJT2\",\n",
    "            # \"GTOT2\",\n",
    "            # \"KTNF1\",\n",
    "            # \"KYWF1\",\n",
    "            # \"LCLL1\",\n",
    "            # \"LKWF1\",\n",
    "            # \"LONF1\",\n",
    "            # \"LOPL1\",\n",
    "            # \"MBLA1\",\n",
    "            # \"MCGA1\",\n",
    "            # \"MGPT2\",\n",
    "            # \"MTBF1\",\n",
    "            # \"MYPF1\",\n",
    "            # \"NCHT2\",\n",
    "            # \"NPSF1\",\n",
    "            # \"NWCL1\",\n",
    "            # \"OBLA1\",\n",
    "            # \"OPTF1\",\n",
    "            # \"PACF1\",\n",
    "            # \"PACT2\",\n",
    "            # \"PCBF1\",\n",
    "            # \"PCGT2\",\n",
    "            # \"PCLF1\",\n",
    "            # \"PCNT2\",\n",
    "            # \"PILL1\",\n",
    "            # \"PMAF1\",\n",
    "            # \"PNLM6\",\n",
    "            # \"PORT2\",\n",
    "            # \"PSTL1\",\n",
    "            # \"PTAT2\",\n",
    "            # \"PTBM6\",\n",
    "            # \"PTIT2\",\n",
    "            # \"RCPT2\",\n",
    "            # \"RLOT2\",\n",
    "            # \"RSJT2\",\n",
    "            # \"RTAT2\",\n",
    "            # \"SANF1\",\n",
    "            # \"SAPF1\",\n",
    "            # \"SAUF1\",\n",
    "            # \"SDRT2\",\n",
    "            # \"SGOF1\",\n",
    "            # \"SHBL1\",\n",
    "            # \"SHPF1\",\n",
    "            # \"SIPF1\",\n",
    "            # \"SRST2\",\n",
    "            # \"TAQT2\",\n",
    "            # \"TESL1\",\n",
    "            # \"TPAF1\",\n",
    "            # \"TRDF1\",\n",
    "            # \"TSHF1\",\n",
    "            # \"TXPT2\",\n",
    "            # \"VAKF1\",\n",
    "            # \"VCAF1\",\n",
    "            # \"VCAT2\",\n",
    "            # \"VENF1\",\n",
    "            # \"WYCM6\"]    # All Stations in Gulf of Mexico that provide data files for every year within 2013-2022\n",
    "# YEARS = [\"2022\"]\n",
    "# NAN_THRESHOLD = 0.5\n",
    "# FEATURES =  ['WTMP']\n",
    "# ERA5 = True\n",
    "# STATIONARY_SHIFT = 1\n",
    "# LAG = 1\n",
    "# N_TEST_HOURS = 24\n",
    "# MODEL_NAME = \"pinn_1\""
   ],
   "metadata": {
    "collapsed": false,
    "pycharm": {
     "name": "#%%\n"
    }
   }
  },
  {
   "cell_type": "code",
   "execution_count": 39,
   "outputs": [
    {
     "name": "stdout",
     "output_type": "stream",
     "text": [
      "Stations: ['41117']\n",
      "Years: ['2021', '2022']\n",
      "NaN_Threshold: 0.5\n",
      "Features: ['WTMP']\n",
      "ERA5: False, Alpha:0.5 Stationary Shift: 1, lag: 1, Test-Hours:24\n",
      "Model: lstm_2\n"
     ]
    }
   ],
   "source": [
    "print(f\"Stations: {STATIONS}\")\n",
    "print(f\"Years: {YEARS}\")\n",
    "print(f\"NaN_Threshold: {NAN_THRESHOLD}\")\n",
    "print(f\"Features: {FEATURES}\")\n",
    "print(f\"ERA5: {ERA5}, Alpha:{ALPHA} Stationary Shift: {STATIONARY_SHIFT}, lag: {LAG}, Test-Hours:{N_TEST_HOURS}\")\n",
    "print(f\"Model: {MODEL_NAME}\")"
   ],
   "metadata": {
    "collapsed": false,
    "pycharm": {
     "name": "#%%\n"
    }
   }
  },
  {
   "cell_type": "code",
   "execution_count": 40,
   "outputs": [
    {
     "name": "stdout",
     "output_type": "stream",
     "text": [
      "Started with  2021 . Previous year took:   0.0004870891571044922 seconds\n",
      "from disc\n",
      "Started with  2022 . Previous year took:   3.5586390495300293 seconds\n",
      "from disc\n",
      "Finished downloading - now merging it together!\n"
     ]
    },
    {
     "data": {
      "text/plain": "                     WTMP_41117\ntimestamp                      \n2021-01-01 00:00:00        27.8\n2021-01-01 01:00:00        27.8\n2021-01-01 02:00:00        27.8\n2021-01-01 03:00:00        27.8\n2021-01-01 04:00:00        27.8\n...                         ...\n2022-12-31 19:00:00        17.4\n2022-12-31 20:00:00        17.4\n2022-12-31 21:00:00        17.4\n2022-12-31 22:00:00        17.4\n2022-12-31 23:00:00        17.3\n\n[17520 rows x 1 columns]",
      "text/html": "<div>\n<style scoped>\n    .dataframe tbody tr th:only-of-type {\n        vertical-align: middle;\n    }\n\n    .dataframe tbody tr th {\n        vertical-align: top;\n    }\n\n    .dataframe thead th {\n        text-align: right;\n    }\n</style>\n<table border=\"1\" class=\"dataframe\">\n  <thead>\n    <tr style=\"text-align: right;\">\n      <th></th>\n      <th>WTMP_41117</th>\n    </tr>\n    <tr>\n      <th>timestamp</th>\n      <th></th>\n    </tr>\n  </thead>\n  <tbody>\n    <tr>\n      <th>2021-01-01 00:00:00</th>\n      <td>27.8</td>\n    </tr>\n    <tr>\n      <th>2021-01-01 01:00:00</th>\n      <td>27.8</td>\n    </tr>\n    <tr>\n      <th>2021-01-01 02:00:00</th>\n      <td>27.8</td>\n    </tr>\n    <tr>\n      <th>2021-01-01 03:00:00</th>\n      <td>27.8</td>\n    </tr>\n    <tr>\n      <th>2021-01-01 04:00:00</th>\n      <td>27.8</td>\n    </tr>\n    <tr>\n      <th>...</th>\n      <td>...</td>\n    </tr>\n    <tr>\n      <th>2022-12-31 19:00:00</th>\n      <td>17.4</td>\n    </tr>\n    <tr>\n      <th>2022-12-31 20:00:00</th>\n      <td>17.4</td>\n    </tr>\n    <tr>\n      <th>2022-12-31 21:00:00</th>\n      <td>17.4</td>\n    </tr>\n    <tr>\n      <th>2022-12-31 22:00:00</th>\n      <td>17.4</td>\n    </tr>\n    <tr>\n      <th>2022-12-31 23:00:00</th>\n      <td>17.3</td>\n    </tr>\n  </tbody>\n</table>\n<p>17520 rows × 1 columns</p>\n</div>"
     },
     "execution_count": 40,
     "metadata": {},
     "output_type": "execute_result"
    }
   ],
   "source": [
    "data = mL.get_data(\n",
    "    stations=STATIONS,\n",
    "    years=YEARS,\n",
    "    nan_threshold=NAN_THRESHOLD,\n",
    "    features=FEATURES,\n",
    "    #features=None,\n",
    "    era5=ERA5\n",
    "    )\n",
    "\n",
    "data"
   ],
   "metadata": {
    "collapsed": false,
    "pycharm": {
     "name": "#%%\n"
    }
   }
  },
  {
   "cell_type": "markdown",
   "source": [
    "## 1. Make data stationary"
   ],
   "metadata": {
    "collapsed": false,
    "pycharm": {
     "name": "#%% md\n"
    }
   }
  },
  {
   "cell_type": "code",
   "execution_count": 41,
   "outputs": [
    {
     "data": {
      "text/plain": "                     WTMP_41117\ntimestamp                      \n2021-01-01 01:00:00         0.0\n2021-01-01 02:00:00         0.0\n2021-01-01 03:00:00         0.0\n2021-01-01 04:00:00         0.0\n2021-01-01 05:00:00         0.0",
      "text/html": "<div>\n<style scoped>\n    .dataframe tbody tr th:only-of-type {\n        vertical-align: middle;\n    }\n\n    .dataframe tbody tr th {\n        vertical-align: top;\n    }\n\n    .dataframe thead th {\n        text-align: right;\n    }\n</style>\n<table border=\"1\" class=\"dataframe\">\n  <thead>\n    <tr style=\"text-align: right;\">\n      <th></th>\n      <th>WTMP_41117</th>\n    </tr>\n    <tr>\n      <th>timestamp</th>\n      <th></th>\n    </tr>\n  </thead>\n  <tbody>\n    <tr>\n      <th>2021-01-01 01:00:00</th>\n      <td>0.0</td>\n    </tr>\n    <tr>\n      <th>2021-01-01 02:00:00</th>\n      <td>0.0</td>\n    </tr>\n    <tr>\n      <th>2021-01-01 03:00:00</th>\n      <td>0.0</td>\n    </tr>\n    <tr>\n      <th>2021-01-01 04:00:00</th>\n      <td>0.0</td>\n    </tr>\n    <tr>\n      <th>2021-01-01 05:00:00</th>\n      <td>0.0</td>\n    </tr>\n  </tbody>\n</table>\n</div>"
     },
     "execution_count": 41,
     "metadata": {},
     "output_type": "execute_result"
    }
   ],
   "source": [
    "STATIONARY = True #Set Flag for report\n",
    "data_stationary = mL.data_to_stationary(data, n = STATIONARY_SHIFT)\n",
    "data_stationary.head()"
   ],
   "metadata": {
    "collapsed": false,
    "pycharm": {
     "name": "#%%\n"
    }
   }
  },
  {
   "cell_type": "markdown",
   "source": [
    "## 2. Transform to supervised problem"
   ],
   "metadata": {
    "collapsed": false,
    "pycharm": {
     "name": "#%% md\n"
    }
   }
  },
  {
   "cell_type": "code",
   "execution_count": 42,
   "outputs": [
    {
     "data": {
      "text/plain": "                     WTMP_41117(t-1)  WTMP_41117(t)\ntimestamp                                          \n2021-01-01 02:00:00              0.0            0.0\n2021-01-01 03:00:00              0.0            0.0\n2021-01-01 04:00:00              0.0            0.0\n2021-01-01 05:00:00              0.0            0.0\n2021-01-01 06:00:00              0.0            0.0",
      "text/html": "<div>\n<style scoped>\n    .dataframe tbody tr th:only-of-type {\n        vertical-align: middle;\n    }\n\n    .dataframe tbody tr th {\n        vertical-align: top;\n    }\n\n    .dataframe thead th {\n        text-align: right;\n    }\n</style>\n<table border=\"1\" class=\"dataframe\">\n  <thead>\n    <tr style=\"text-align: right;\">\n      <th></th>\n      <th>WTMP_41117(t-1)</th>\n      <th>WTMP_41117(t)</th>\n    </tr>\n    <tr>\n      <th>timestamp</th>\n      <th></th>\n      <th></th>\n    </tr>\n  </thead>\n  <tbody>\n    <tr>\n      <th>2021-01-01 02:00:00</th>\n      <td>0.0</td>\n      <td>0.0</td>\n    </tr>\n    <tr>\n      <th>2021-01-01 03:00:00</th>\n      <td>0.0</td>\n      <td>0.0</td>\n    </tr>\n    <tr>\n      <th>2021-01-01 04:00:00</th>\n      <td>0.0</td>\n      <td>0.0</td>\n    </tr>\n    <tr>\n      <th>2021-01-01 05:00:00</th>\n      <td>0.0</td>\n      <td>0.0</td>\n    </tr>\n    <tr>\n      <th>2021-01-01 06:00:00</th>\n      <td>0.0</td>\n      <td>0.0</td>\n    </tr>\n  </tbody>\n</table>\n</div>"
     },
     "execution_count": 42,
     "metadata": {},
     "output_type": "execute_result"
    }
   ],
   "source": [
    "data_supervised = mL.data_to_supervised(data_stationary, n_in=LAG)\n",
    "data_supervised.head()"
   ],
   "metadata": {
    "collapsed": false,
    "pycharm": {
     "name": "#%%\n"
    }
   }
  },
  {
   "cell_type": "markdown",
   "source": [
    "## train test split"
   ],
   "metadata": {
    "collapsed": false,
    "pycharm": {
     "name": "#%% md\n"
    }
   }
  },
  {
   "cell_type": "code",
   "execution_count": 43,
   "outputs": [
    {
     "name": "stdout",
     "output_type": "stream",
     "text": [
      "Shapes:  (17350, 1, 1) (17350, 1) (168, 1, 1) (168, 1)\n"
     ]
    }
   ],
   "source": [
    "train_X, train_y, test_X, test_y = mL.train_test_split(data_supervised, N_TEST_HOURS)\n",
    "print(\"Shapes: \", train_X.shape, train_y.shape, test_X.shape, test_y.shape)"
   ],
   "metadata": {
    "collapsed": false,
    "pycharm": {
     "name": "#%%\n"
    }
   }
  },
  {
   "cell_type": "markdown",
   "source": [
    "## Normalize the data"
   ],
   "metadata": {
    "collapsed": false,
    "pycharm": {
     "name": "#%% md\n"
    }
   }
  },
  {
   "cell_type": "code",
   "execution_count": 44,
   "outputs": [],
   "source": [
    "# Scale the data\n",
    "#NORMALIZED = True   #set flag for report\n",
    "train_X_scaled, train_y_scaled, test_X_scaled, test_y_scaled, SCALER = mL.scale_data(train_X,\n",
    "                                                                                     train_y,\n",
    "                                                                                     test_X,\n",
    "                                                                                     test_y)"
   ],
   "metadata": {
    "collapsed": false,
    "pycharm": {
     "name": "#%%\n"
    }
   }
  },
  {
   "cell_type": "markdown",
   "source": [
    "---\n",
    "# Select Model"
   ],
   "metadata": {
    "collapsed": false,
    "pycharm": {
     "name": "#%% md\n"
    }
   }
  },
  {
   "cell_type": "code",
   "execution_count": 45,
   "outputs": [
    {
     "name": "stdout",
     "output_type": "stream",
     "text": [
      "Epoch 1/100\n",
      "244/244 [==============================] - 4s 5ms/step - loss: 0.0149 - val_loss: 0.0105\n",
      "Epoch 2/100\n",
      "244/244 [==============================] - 1s 3ms/step - loss: 0.0145 - val_loss: 0.0106\n",
      "Epoch 3/100\n",
      "244/244 [==============================] - 1s 3ms/step - loss: 0.0145 - val_loss: 0.0106\n",
      "Epoch 4/100\n",
      "244/244 [==============================] - 1s 3ms/step - loss: 0.0145 - val_loss: 0.0106\n",
      "Epoch 5/100\n",
      "244/244 [==============================] - 1s 4ms/step - loss: 0.0145 - val_loss: 0.0106\n",
      "Epoch 6/100\n",
      "244/244 [==============================] - 1s 4ms/step - loss: 0.0145 - val_loss: 0.0106\n",
      "Epoch 7/100\n",
      "244/244 [==============================] - 1s 3ms/step - loss: 0.0144 - val_loss: 0.0105\n",
      "Epoch 8/100\n",
      "244/244 [==============================] - 1s 4ms/step - loss: 0.0144 - val_loss: 0.0106\n",
      "Epoch 9/100\n",
      "244/244 [==============================] - 1s 4ms/step - loss: 0.0144 - val_loss: 0.0105\n",
      "Epoch 10/100\n",
      "244/244 [==============================] - 1s 4ms/step - loss: 0.0144 - val_loss: 0.0106\n",
      "Epoch 11/100\n",
      "244/244 [==============================] - 1s 3ms/step - loss: 0.0144 - val_loss: 0.0106\n",
      "Epoch 12/100\n",
      "244/244 [==============================] - 1s 3ms/step - loss: 0.0144 - val_loss: 0.0106\n",
      "Epoch 13/100\n",
      "244/244 [==============================] - 1s 3ms/step - loss: 0.0143 - val_loss: 0.0106\n",
      "Epoch 14/100\n",
      "244/244 [==============================] - 1s 3ms/step - loss: 0.0144 - val_loss: 0.0106\n",
      "Epoch 15/100\n",
      "244/244 [==============================] - 1s 3ms/step - loss: 0.0144 - val_loss: 0.0106\n",
      "Epoch 16/100\n",
      "244/244 [==============================] - 1s 3ms/step - loss: 0.0143 - val_loss: 0.0106\n",
      "Epoch 17/100\n",
      "244/244 [==============================] - 1s 3ms/step - loss: 0.0144 - val_loss: 0.0106\n",
      "Epoch 18/100\n",
      "244/244 [==============================] - 1s 3ms/step - loss: 0.0143 - val_loss: 0.0106\n",
      "Epoch 19/100\n",
      "244/244 [==============================] - 1s 3ms/step - loss: 0.0144 - val_loss: 0.0106\n",
      "Epoch 20/100\n",
      "244/244 [==============================] - 1s 3ms/step - loss: 0.0144 - val_loss: 0.0106\n",
      "Epoch 21/100\n",
      "244/244 [==============================] - 1s 3ms/step - loss: 0.0143 - val_loss: 0.0106\n",
      "Epoch 22/100\n",
      "244/244 [==============================] - 1s 3ms/step - loss: 0.0144 - val_loss: 0.0106\n",
      "Epoch 23/100\n",
      "244/244 [==============================] - 1s 3ms/step - loss: 0.0144 - val_loss: 0.0106\n",
      "Epoch 24/100\n",
      "244/244 [==============================] - 1s 3ms/step - loss: 0.0144 - val_loss: 0.0106\n",
      "Epoch 25/100\n",
      "244/244 [==============================] - 1s 3ms/step - loss: 0.0143 - val_loss: 0.0107\n",
      "Epoch 26/100\n",
      "244/244 [==============================] - 1s 3ms/step - loss: 0.0144 - val_loss: 0.0106\n",
      "Epoch 27/100\n",
      "244/244 [==============================] - 1s 3ms/step - loss: 0.0143 - val_loss: 0.0106\n",
      "Epoch 28/100\n",
      "244/244 [==============================] - 1s 3ms/step - loss: 0.0143 - val_loss: 0.0106\n",
      "Epoch 29/100\n",
      "244/244 [==============================] - 1s 3ms/step - loss: 0.0144 - val_loss: 0.0106\n",
      "Epoch 30/100\n",
      "244/244 [==============================] - 1s 3ms/step - loss: 0.0143 - val_loss: 0.0106\n",
      "Epoch 31/100\n",
      "244/244 [==============================] - 1s 3ms/step - loss: 0.0143 - val_loss: 0.0106\n",
      "Epoch 32/100\n",
      "244/244 [==============================] - 1s 3ms/step - loss: 0.0143 - val_loss: 0.0107\n",
      "Epoch 33/100\n",
      "244/244 [==============================] - 1s 3ms/step - loss: 0.0143 - val_loss: 0.0106\n",
      "Epoch 34/100\n",
      "244/244 [==============================] - 1s 3ms/step - loss: 0.0144 - val_loss: 0.0106\n",
      "Epoch 35/100\n",
      "244/244 [==============================] - 1s 3ms/step - loss: 0.0143 - val_loss: 0.0107\n",
      "Epoch 36/100\n",
      "244/244 [==============================] - 1s 3ms/step - loss: 0.0144 - val_loss: 0.0106\n",
      "Epoch 37/100\n",
      "244/244 [==============================] - 1s 3ms/step - loss: 0.0143 - val_loss: 0.0106\n",
      "Epoch 38/100\n",
      "244/244 [==============================] - 1s 3ms/step - loss: 0.0143 - val_loss: 0.0106\n",
      "Epoch 39/100\n",
      "244/244 [==============================] - 1s 3ms/step - loss: 0.0143 - val_loss: 0.0106\n",
      "Epoch 40/100\n",
      "244/244 [==============================] - 1s 3ms/step - loss: 0.0143 - val_loss: 0.0107\n",
      "Epoch 41/100\n",
      "244/244 [==============================] - 1s 3ms/step - loss: 0.0144 - val_loss: 0.0106\n",
      "Epoch 42/100\n",
      "244/244 [==============================] - 1s 3ms/step - loss: 0.0144 - val_loss: 0.0106\n",
      "Epoch 43/100\n",
      "244/244 [==============================] - 1s 3ms/step - loss: 0.0143 - val_loss: 0.0106\n",
      "Epoch 44/100\n",
      "244/244 [==============================] - 1s 3ms/step - loss: 0.0144 - val_loss: 0.0106\n",
      "Epoch 45/100\n",
      "244/244 [==============================] - 1s 3ms/step - loss: 0.0144 - val_loss: 0.0106\n",
      "Epoch 46/100\n",
      "244/244 [==============================] - 1s 3ms/step - loss: 0.0143 - val_loss: 0.0106\n",
      "Epoch 47/100\n",
      "244/244 [==============================] - 1s 3ms/step - loss: 0.0143 - val_loss: 0.0106\n",
      "Epoch 48/100\n",
      "244/244 [==============================] - 1s 3ms/step - loss: 0.0143 - val_loss: 0.0106\n",
      "Epoch 49/100\n",
      "244/244 [==============================] - 1s 3ms/step - loss: 0.0143 - val_loss: 0.0106\n",
      "Epoch 50/100\n",
      "244/244 [==============================] - 1s 3ms/step - loss: 0.0144 - val_loss: 0.0106\n",
      "Epoch 51/100\n",
      "244/244 [==============================] - 1s 3ms/step - loss: 0.0143 - val_loss: 0.0106\n",
      "Epoch 52/100\n",
      "244/244 [==============================] - 1s 3ms/step - loss: 0.0143 - val_loss: 0.0106\n",
      "Epoch 53/100\n",
      "244/244 [==============================] - 1s 4ms/step - loss: 0.0143 - val_loss: 0.0107\n",
      "Epoch 54/100\n",
      "244/244 [==============================] - 1s 3ms/step - loss: 0.0143 - val_loss: 0.0106\n",
      "Epoch 55/100\n",
      "244/244 [==============================] - 1s 3ms/step - loss: 0.0144 - val_loss: 0.0106\n",
      "Epoch 56/100\n",
      "244/244 [==============================] - 1s 3ms/step - loss: 0.0143 - val_loss: 0.0106\n",
      "Epoch 57/100\n",
      "244/244 [==============================] - 1s 3ms/step - loss: 0.0144 - val_loss: 0.0106\n",
      "Epoch 58/100\n",
      "244/244 [==============================] - 1s 3ms/step - loss: 0.0143 - val_loss: 0.0106\n",
      "Epoch 59/100\n",
      "244/244 [==============================] - 1s 3ms/step - loss: 0.0143 - val_loss: 0.0106\n",
      "Epoch 60/100\n",
      "244/244 [==============================] - 1s 3ms/step - loss: 0.0143 - val_loss: 0.0106\n",
      "Epoch 61/100\n",
      "244/244 [==============================] - 1s 3ms/step - loss: 0.0143 - val_loss: 0.0106\n",
      "Epoch 62/100\n",
      "244/244 [==============================] - 1s 3ms/step - loss: 0.0143 - val_loss: 0.0106\n",
      "Epoch 63/100\n",
      "244/244 [==============================] - 1s 3ms/step - loss: 0.0144 - val_loss: 0.0106\n",
      "Epoch 64/100\n",
      "244/244 [==============================] - 1s 3ms/step - loss: 0.0143 - val_loss: 0.0106\n",
      "Epoch 65/100\n",
      "244/244 [==============================] - 1s 3ms/step - loss: 0.0143 - val_loss: 0.0106\n",
      "Epoch 66/100\n",
      "244/244 [==============================] - 1s 3ms/step - loss: 0.0143 - val_loss: 0.0107\n",
      "Epoch 67/100\n",
      "244/244 [==============================] - 1s 4ms/step - loss: 0.0143 - val_loss: 0.0106\n",
      "Epoch 68/100\n",
      "244/244 [==============================] - 1s 4ms/step - loss: 0.0143 - val_loss: 0.0106\n",
      "Epoch 69/100\n",
      "244/244 [==============================] - 1s 3ms/step - loss: 0.0143 - val_loss: 0.0106\n",
      "Epoch 70/100\n",
      "244/244 [==============================] - 1s 3ms/step - loss: 0.0143 - val_loss: 0.0106\n",
      "Epoch 71/100\n",
      "244/244 [==============================] - 1s 4ms/step - loss: 0.0143 - val_loss: 0.0106\n",
      "Epoch 72/100\n",
      "244/244 [==============================] - 1s 4ms/step - loss: 0.0143 - val_loss: 0.0106\n",
      "Epoch 73/100\n",
      "244/244 [==============================] - 1s 4ms/step - loss: 0.0143 - val_loss: 0.0106\n",
      "Epoch 74/100\n",
      "244/244 [==============================] - 1s 3ms/step - loss: 0.0143 - val_loss: 0.0106\n",
      "Epoch 75/100\n",
      "244/244 [==============================] - 1s 3ms/step - loss: 0.0143 - val_loss: 0.0106\n",
      "Epoch 76/100\n",
      "244/244 [==============================] - 1s 3ms/step - loss: 0.0143 - val_loss: 0.0106\n",
      "Epoch 77/100\n",
      "244/244 [==============================] - 1s 4ms/step - loss: 0.0143 - val_loss: 0.0106\n",
      "Epoch 78/100\n",
      "244/244 [==============================] - 1s 3ms/step - loss: 0.0143 - val_loss: 0.0106\n",
      "Epoch 79/100\n",
      "244/244 [==============================] - 1s 3ms/step - loss: 0.0143 - val_loss: 0.0106\n",
      "Epoch 80/100\n",
      "244/244 [==============================] - 1s 3ms/step - loss: 0.0143 - val_loss: 0.0106\n",
      "Epoch 81/100\n",
      "244/244 [==============================] - 1s 3ms/step - loss: 0.0143 - val_loss: 0.0106\n",
      "Epoch 82/100\n",
      "244/244 [==============================] - 1s 3ms/step - loss: 0.0143 - val_loss: 0.0106\n",
      "Epoch 83/100\n",
      "244/244 [==============================] - 1s 3ms/step - loss: 0.0143 - val_loss: 0.0106\n",
      "Epoch 84/100\n",
      "244/244 [==============================] - 1s 3ms/step - loss: 0.0143 - val_loss: 0.0106\n",
      "Epoch 85/100\n",
      "244/244 [==============================] - 1s 3ms/step - loss: 0.0143 - val_loss: 0.0106\n",
      "Epoch 86/100\n",
      "244/244 [==============================] - 1s 3ms/step - loss: 0.0143 - val_loss: 0.0106\n",
      "Epoch 87/100\n",
      "244/244 [==============================] - 1s 3ms/step - loss: 0.0143 - val_loss: 0.0106\n",
      "Epoch 88/100\n",
      "244/244 [==============================] - 1s 3ms/step - loss: 0.0143 - val_loss: 0.0106\n",
      "Epoch 89/100\n",
      "244/244 [==============================] - 1s 3ms/step - loss: 0.0143 - val_loss: 0.0106\n",
      "Epoch 90/100\n",
      "244/244 [==============================] - 1s 3ms/step - loss: 0.0143 - val_loss: 0.0107\n",
      "Epoch 91/100\n",
      "244/244 [==============================] - 1s 3ms/step - loss: 0.0143 - val_loss: 0.0106\n",
      "Epoch 92/100\n",
      "244/244 [==============================] - 1s 3ms/step - loss: 0.0143 - val_loss: 0.0106\n",
      "Epoch 93/100\n",
      "244/244 [==============================] - 1s 3ms/step - loss: 0.0143 - val_loss: 0.0106\n",
      "Epoch 94/100\n",
      "244/244 [==============================] - 1s 3ms/step - loss: 0.0143 - val_loss: 0.0106\n",
      "Epoch 95/100\n",
      "244/244 [==============================] - 1s 3ms/step - loss: 0.0143 - val_loss: 0.0106\n",
      "Epoch 96/100\n",
      "244/244 [==============================] - 1s 3ms/step - loss: 0.0143 - val_loss: 0.0106\n",
      "Epoch 97/100\n",
      "244/244 [==============================] - 1s 3ms/step - loss: 0.0143 - val_loss: 0.0106\n",
      "Epoch 98/100\n",
      "244/244 [==============================] - 1s 3ms/step - loss: 0.0143 - val_loss: 0.0106\n",
      "Epoch 99/100\n",
      "244/244 [==============================] - 1s 3ms/step - loss: 0.0143 - val_loss: 0.0106\n",
      "Epoch 100/100\n",
      "244/244 [==============================] - 1s 3ms/step - loss: 0.0143 - val_loss: 0.0106\n",
      "Model: \"sequential_1\"\n",
      "_________________________________________________________________\n",
      " Layer (type)                Output Shape              Param #   \n",
      "=================================================================\n",
      " lstm_1 (LSTM)               (None, 1, 128)            66560     \n",
      "                                                                 \n",
      " dropout (Dropout)           (None, 1, 128)            0         \n",
      "                                                                 \n",
      " lstm_2 (LSTM)               (None, 1, 64)             49408     \n",
      "                                                                 \n",
      " dropout_1 (Dropout)         (None, 1, 64)             0         \n",
      "                                                                 \n",
      " lstm_3 (LSTM)               (None, 1, 32)             12416     \n",
      "                                                                 \n",
      " dropout_2 (Dropout)         (None, 1, 32)             0         \n",
      "                                                                 \n",
      " lstm_4 (LSTM)               (None, 16)                3136      \n",
      "                                                                 \n",
      " dense_1 (Dense)             (None, 1)                 17        \n",
      "                                                                 \n",
      "=================================================================\n",
      "Total params: 131,537\n",
      "Trainable params: 131,537\n",
      "Non-trainable params: 0\n",
      "_________________________________________________________________\n"
     ]
    }
   ],
   "source": [
    "#model = models.lstm_0(train_X_scaled,train_y_scaled)\n",
    "model = models.get_model(MODEL_NAME, train_X, train_y, ALPHA)\n",
    "model.summary()"
   ],
   "metadata": {
    "collapsed": false,
    "pycharm": {
     "name": "#%%\n"
    }
   }
  },
  {
   "cell_type": "markdown",
   "source": [
    "----\n",
    "# One-Shot Forecasting"
   ],
   "metadata": {
    "collapsed": false,
    "pycharm": {
     "name": "#%% md\n"
    }
   }
  },
  {
   "cell_type": "code",
   "execution_count": 46,
   "outputs": [
    {
     "name": "stdout",
     "output_type": "stream",
     "text": [
      "17350/17350 [==============================] - 9s 490us/step\n"
     ]
    }
   ],
   "source": [
    "_ = model.predict(train_X_scaled, batch_size=1)"
   ],
   "metadata": {
    "collapsed": false,
    "pycharm": {
     "name": "#%%\n"
    }
   }
  },
  {
   "cell_type": "code",
   "execution_count": 47,
   "outputs": [],
   "source": [
    "output_cols = data.columns.tolist()"
   ],
   "metadata": {
    "collapsed": false,
    "pycharm": {
     "name": "#%%\n"
    }
   }
  },
  {
   "cell_type": "code",
   "execution_count": 48,
   "outputs": [
    {
     "name": "stdout",
     "output_type": "stream",
     "text": [
      "6/6 [==============================] - 0s 2ms/step\n"
     ]
    },
    {
     "data": {
      "text/plain": "                     WTMP_41117_pred\ntimestamp                           \n2022-12-25 00:00:00         0.082959\n2022-12-25 01:00:00         0.082959\n2022-12-25 02:00:00         0.082959\n2022-12-25 03:00:00         0.082959\n2022-12-25 04:00:00         0.082959\n...                              ...\n2022-12-31 19:00:00         0.115812\n2022-12-31 20:00:00         0.082959\n2022-12-31 21:00:00         0.082959\n2022-12-31 22:00:00         0.082959\n2022-12-31 23:00:00         0.082959\n\n[168 rows x 1 columns]",
      "text/html": "<div>\n<style scoped>\n    .dataframe tbody tr th:only-of-type {\n        vertical-align: middle;\n    }\n\n    .dataframe tbody tr th {\n        vertical-align: top;\n    }\n\n    .dataframe thead th {\n        text-align: right;\n    }\n</style>\n<table border=\"1\" class=\"dataframe\">\n  <thead>\n    <tr style=\"text-align: right;\">\n      <th></th>\n      <th>WTMP_41117_pred</th>\n    </tr>\n    <tr>\n      <th>timestamp</th>\n      <th></th>\n    </tr>\n  </thead>\n  <tbody>\n    <tr>\n      <th>2022-12-25 00:00:00</th>\n      <td>0.082959</td>\n    </tr>\n    <tr>\n      <th>2022-12-25 01:00:00</th>\n      <td>0.082959</td>\n    </tr>\n    <tr>\n      <th>2022-12-25 02:00:00</th>\n      <td>0.082959</td>\n    </tr>\n    <tr>\n      <th>2022-12-25 03:00:00</th>\n      <td>0.082959</td>\n    </tr>\n    <tr>\n      <th>2022-12-25 04:00:00</th>\n      <td>0.082959</td>\n    </tr>\n    <tr>\n      <th>...</th>\n      <td>...</td>\n    </tr>\n    <tr>\n      <th>2022-12-31 19:00:00</th>\n      <td>0.115812</td>\n    </tr>\n    <tr>\n      <th>2022-12-31 20:00:00</th>\n      <td>0.082959</td>\n    </tr>\n    <tr>\n      <th>2022-12-31 21:00:00</th>\n      <td>0.082959</td>\n    </tr>\n    <tr>\n      <th>2022-12-31 22:00:00</th>\n      <td>0.082959</td>\n    </tr>\n    <tr>\n      <th>2022-12-31 23:00:00</th>\n      <td>0.082959</td>\n    </tr>\n  </tbody>\n</table>\n<p>168 rows × 1 columns</p>\n</div>"
     },
     "execution_count": 48,
     "metadata": {},
     "output_type": "execute_result"
    }
   ],
   "source": [
    "yhat = model.predict(test_X_scaled)\n",
    "yhat_unscaled = mL.invert_scaling(yhat, SCALER)\n",
    "yhat_unscaled_df = pd.DataFrame(yhat_unscaled, columns=[name + \"_pred\" for name in output_cols])\n",
    "yhat_unscaled_df.set_index(data.tail(len(yhat)).index, inplace=True)\n",
    "yhat_unscaled_df"
   ],
   "metadata": {
    "collapsed": false,
    "pycharm": {
     "name": "#%%\n"
    }
   }
  },
  {
   "cell_type": "code",
   "execution_count": 49,
   "outputs": [
    {
     "data": {
      "text/plain": "                     WTMP_41117\ntimestamp                      \n2022-12-24 23:00:00        17.4\n2022-12-25 00:00:00        17.4\n2022-12-25 01:00:00        17.4\n2022-12-25 02:00:00        17.4\n2022-12-25 03:00:00        17.4\n...                         ...\n2022-12-31 19:00:00        17.4\n2022-12-31 20:00:00        17.4\n2022-12-31 21:00:00        17.4\n2022-12-31 22:00:00        17.4\n2022-12-31 23:00:00        17.3\n\n[169 rows x 1 columns]",
      "text/html": "<div>\n<style scoped>\n    .dataframe tbody tr th:only-of-type {\n        vertical-align: middle;\n    }\n\n    .dataframe tbody tr th {\n        vertical-align: top;\n    }\n\n    .dataframe thead th {\n        text-align: right;\n    }\n</style>\n<table border=\"1\" class=\"dataframe\">\n  <thead>\n    <tr style=\"text-align: right;\">\n      <th></th>\n      <th>WTMP_41117</th>\n    </tr>\n    <tr>\n      <th>timestamp</th>\n      <th></th>\n    </tr>\n  </thead>\n  <tbody>\n    <tr>\n      <th>2022-12-24 23:00:00</th>\n      <td>17.4</td>\n    </tr>\n    <tr>\n      <th>2022-12-25 00:00:00</th>\n      <td>17.4</td>\n    </tr>\n    <tr>\n      <th>2022-12-25 01:00:00</th>\n      <td>17.4</td>\n    </tr>\n    <tr>\n      <th>2022-12-25 02:00:00</th>\n      <td>17.4</td>\n    </tr>\n    <tr>\n      <th>2022-12-25 03:00:00</th>\n      <td>17.4</td>\n    </tr>\n    <tr>\n      <th>...</th>\n      <td>...</td>\n    </tr>\n    <tr>\n      <th>2022-12-31 19:00:00</th>\n      <td>17.4</td>\n    </tr>\n    <tr>\n      <th>2022-12-31 20:00:00</th>\n      <td>17.4</td>\n    </tr>\n    <tr>\n      <th>2022-12-31 21:00:00</th>\n      <td>17.4</td>\n    </tr>\n    <tr>\n      <th>2022-12-31 22:00:00</th>\n      <td>17.4</td>\n    </tr>\n    <tr>\n      <th>2022-12-31 23:00:00</th>\n      <td>17.3</td>\n    </tr>\n  </tbody>\n</table>\n<p>169 rows × 1 columns</p>\n</div>"
     },
     "execution_count": 49,
     "metadata": {},
     "output_type": "execute_result"
    }
   ],
   "source": [
    "evaluation_1 = data.tail(len(yhat)+1).copy()  #+1 since i need that value for de-differencing\n",
    "evaluation_1"
   ],
   "metadata": {
    "collapsed": false,
    "pycharm": {
     "name": "#%%\n"
    }
   }
  },
  {
   "cell_type": "code",
   "execution_count": 50,
   "outputs": [
    {
     "data": {
      "text/plain": "                     WTMP_41117  WTMP_41117_pred\ntimestamp                                       \n2022-12-25 00:00:00        17.4        17.482959\n2022-12-25 01:00:00        17.4        17.482959\n2022-12-25 02:00:00        17.4        17.482959\n2022-12-25 03:00:00        17.4        17.482959\n2022-12-25 04:00:00        17.4        17.482959\n...                         ...              ...\n2022-12-31 19:00:00        17.4        17.515812\n2022-12-31 20:00:00        17.4        17.482959\n2022-12-31 21:00:00        17.4        17.482959\n2022-12-31 22:00:00        17.4        17.482959\n2022-12-31 23:00:00        17.3        17.482959\n\n[168 rows x 2 columns]",
      "text/html": "<div>\n<style scoped>\n    .dataframe tbody tr th:only-of-type {\n        vertical-align: middle;\n    }\n\n    .dataframe tbody tr th {\n        vertical-align: top;\n    }\n\n    .dataframe thead th {\n        text-align: right;\n    }\n</style>\n<table border=\"1\" class=\"dataframe\">\n  <thead>\n    <tr style=\"text-align: right;\">\n      <th></th>\n      <th>WTMP_41117</th>\n      <th>WTMP_41117_pred</th>\n    </tr>\n    <tr>\n      <th>timestamp</th>\n      <th></th>\n      <th></th>\n    </tr>\n  </thead>\n  <tbody>\n    <tr>\n      <th>2022-12-25 00:00:00</th>\n      <td>17.4</td>\n      <td>17.482959</td>\n    </tr>\n    <tr>\n      <th>2022-12-25 01:00:00</th>\n      <td>17.4</td>\n      <td>17.482959</td>\n    </tr>\n    <tr>\n      <th>2022-12-25 02:00:00</th>\n      <td>17.4</td>\n      <td>17.482959</td>\n    </tr>\n    <tr>\n      <th>2022-12-25 03:00:00</th>\n      <td>17.4</td>\n      <td>17.482959</td>\n    </tr>\n    <tr>\n      <th>2022-12-25 04:00:00</th>\n      <td>17.4</td>\n      <td>17.482959</td>\n    </tr>\n    <tr>\n      <th>...</th>\n      <td>...</td>\n      <td>...</td>\n    </tr>\n    <tr>\n      <th>2022-12-31 19:00:00</th>\n      <td>17.4</td>\n      <td>17.515812</td>\n    </tr>\n    <tr>\n      <th>2022-12-31 20:00:00</th>\n      <td>17.4</td>\n      <td>17.482959</td>\n    </tr>\n    <tr>\n      <th>2022-12-31 21:00:00</th>\n      <td>17.4</td>\n      <td>17.482959</td>\n    </tr>\n    <tr>\n      <th>2022-12-31 22:00:00</th>\n      <td>17.4</td>\n      <td>17.482959</td>\n    </tr>\n    <tr>\n      <th>2022-12-31 23:00:00</th>\n      <td>17.3</td>\n      <td>17.482959</td>\n    </tr>\n  </tbody>\n</table>\n<p>168 rows × 2 columns</p>\n</div>"
     },
     "execution_count": 50,
     "metadata": {},
     "output_type": "execute_result"
    }
   ],
   "source": [
    "for col in evaluation_1.columns:\n",
    "    evaluation_1[f\"{col}_pred\"]= evaluation_1[col].shift(STATIONARY_SHIFT) + yhat_unscaled_df[f\"{col}_pred\"]\n",
    "\n",
    "evaluation_1 = evaluation_1.iloc[STATIONARY_SHIFT:]  # remove first n entries since there is no delta value for them\n",
    "evaluation_1"
   ],
   "metadata": {
    "collapsed": false,
    "pycharm": {
     "name": "#%%\n"
    }
   }
  },
  {
   "cell_type": "code",
   "execution_count": 51,
   "outputs": [
    {
     "name": "stdout",
     "output_type": "stream",
     "text": [
      "MAE:  0.09821462887561015\n",
      "MSE:  0.013615275077456888\n"
     ]
    }
   ],
   "source": [
    "wtmp_true = [col for col in evaluation_1.columns if col.startswith(\"WTMP\")][0]\n",
    "\n",
    "mae = mean_absolute_error(evaluation_1[wtmp_true], evaluation_1[f\"{wtmp_true}_pred\"])\n",
    "mse = mean_squared_error(evaluation_1[wtmp_true], evaluation_1[f\"{wtmp_true}_pred\"])\n",
    "print('MAE: ', mae)\n",
    "print('MSE: ', mse)"
   ],
   "metadata": {
    "collapsed": false,
    "pycharm": {
     "name": "#%%\n"
    }
   }
  },
  {
   "cell_type": "code",
   "execution_count": 52,
   "outputs": [
    {
     "data": {
      "text/plain": "<AxesSubplot:xlabel='timestamp'>"
     },
     "execution_count": 52,
     "metadata": {},
     "output_type": "execute_result"
    },
    {
     "data": {
      "text/plain": "<Figure size 640x480 with 1 Axes>",
      "image/png": "[encoded data removed]"
     },
     "metadata": {},
     "output_type": "display_data"
    }
   ],
   "source": [
    "evaluation_1.plot(kind='line')"
   ],
   "metadata": {
    "collapsed": false,
    "pycharm": {
     "name": "#%%\n"
    }
   }
  },
  {
   "cell_type": "markdown",
   "source": [
    "# Recurrent forecast"
   ],
   "metadata": {
    "collapsed": false,
    "pycharm": {
     "name": "#%% md\n"
    }
   }
  },
  {
   "cell_type": "code",
   "execution_count": 53,
   "outputs": [
    {
     "name": "stdout",
     "output_type": "stream",
     "text": [
      "17350/17350 [==============================] - 9s 508us/step\n"
     ]
    }
   ],
   "source": [
    "model.reset_states()\n",
    "_ = model.predict(train_X_scaled, batch_size=1)"
   ],
   "metadata": {
    "collapsed": false,
    "pycharm": {
     "name": "#%%\n"
    }
   }
  },
  {
   "cell_type": "code",
   "execution_count": 54,
   "outputs": [],
   "source": [
    "# make a one-step forecast\n",
    "# This function helps with reshaping.\n",
    "def single_forecast(model, x):\n",
    "    x = x.reshape(1, 1, len(x[0]))\n",
    "    yhat = model.predict(x, verbose=0)\n",
    "    return yhat"
   ],
   "metadata": {
    "collapsed": false,
    "pycharm": {
     "name": "#%%\n"
    }
   }
  },
  {
   "cell_type": "code",
   "execution_count": 55,
   "outputs": [
    {
     "data": {
      "text/plain": "     WTMP_41117  WTMP_41117_pred\n0     -0.096774                0\n1     -0.096774                0\n2     -0.096774                0\n3     -0.096774                0\n4     -0.096774                0\n..          ...              ...\n163   -0.096774                0\n164   -0.096774                0\n165   -0.096774                0\n166   -0.096774                0\n167   -0.161290                0\n\n[168 rows x 2 columns]",
      "text/html": "<div>\n<style scoped>\n    .dataframe tbody tr th:only-of-type {\n        vertical-align: middle;\n    }\n\n    .dataframe tbody tr th {\n        vertical-align: top;\n    }\n\n    .dataframe thead th {\n        text-align: right;\n    }\n</style>\n<table border=\"1\" class=\"dataframe\">\n  <thead>\n    <tr style=\"text-align: right;\">\n      <th></th>\n      <th>WTMP_41117</th>\n      <th>WTMP_41117_pred</th>\n    </tr>\n  </thead>\n  <tbody>\n    <tr>\n      <th>0</th>\n      <td>-0.096774</td>\n      <td>0</td>\n    </tr>\n    <tr>\n      <th>1</th>\n      <td>-0.096774</td>\n      <td>0</td>\n    </tr>\n    <tr>\n      <th>2</th>\n      <td>-0.096774</td>\n      <td>0</td>\n    </tr>\n    <tr>\n      <th>3</th>\n      <td>-0.096774</td>\n      <td>0</td>\n    </tr>\n    <tr>\n      <th>4</th>\n      <td>-0.096774</td>\n      <td>0</td>\n    </tr>\n    <tr>\n      <th>...</th>\n      <td>...</td>\n      <td>...</td>\n    </tr>\n    <tr>\n      <th>163</th>\n      <td>-0.096774</td>\n      <td>0</td>\n    </tr>\n    <tr>\n      <th>164</th>\n      <td>-0.096774</td>\n      <td>0</td>\n    </tr>\n    <tr>\n      <th>165</th>\n      <td>-0.096774</td>\n      <td>0</td>\n    </tr>\n    <tr>\n      <th>166</th>\n      <td>-0.096774</td>\n      <td>0</td>\n    </tr>\n    <tr>\n      <th>167</th>\n      <td>-0.161290</td>\n      <td>0</td>\n    </tr>\n  </tbody>\n</table>\n<p>168 rows × 2 columns</p>\n</div>"
     },
     "execution_count": 55,
     "metadata": {},
     "output_type": "execute_result"
    }
   ],
   "source": [
    "# Prepare data structure\n",
    "prediction_2 = pd.DataFrame(test_y_scaled, columns=output_cols)\n",
    "for col in output_cols:\n",
    "    prediction_2[f\"{col}_pred\"] = 0\n",
    "\n",
    "prediction_2"
   ],
   "metadata": {
    "collapsed": false,
    "pycharm": {
     "name": "#%%\n"
    }
   }
  },
  {
   "cell_type": "code",
   "execution_count": 56,
   "outputs": [
    {
     "data": {
      "text/plain": "     WTMP_41117  WTMP_41117_pred\n0     -0.096774        -0.043252\n1     -0.096774        -0.025846\n2     -0.096774        -0.019802\n3     -0.096774        -0.017642\n4     -0.096774        -0.016862\n..          ...              ...\n163   -0.096774        -0.016417\n164   -0.096774        -0.016417\n165   -0.096774        -0.016417\n166   -0.096774        -0.016417\n167   -0.161290        -0.016417\n\n[168 rows x 2 columns]",
      "text/html": "<div>\n<style scoped>\n    .dataframe tbody tr th:only-of-type {\n        vertical-align: middle;\n    }\n\n    .dataframe tbody tr th {\n        vertical-align: top;\n    }\n\n    .dataframe thead th {\n        text-align: right;\n    }\n</style>\n<table border=\"1\" class=\"dataframe\">\n  <thead>\n    <tr style=\"text-align: right;\">\n      <th></th>\n      <th>WTMP_41117</th>\n      <th>WTMP_41117_pred</th>\n    </tr>\n  </thead>\n  <tbody>\n    <tr>\n      <th>0</th>\n      <td>-0.096774</td>\n      <td>-0.043252</td>\n    </tr>\n    <tr>\n      <th>1</th>\n      <td>-0.096774</td>\n      <td>-0.025846</td>\n    </tr>\n    <tr>\n      <th>2</th>\n      <td>-0.096774</td>\n      <td>-0.019802</td>\n    </tr>\n    <tr>\n      <th>3</th>\n      <td>-0.096774</td>\n      <td>-0.017642</td>\n    </tr>\n    <tr>\n      <th>4</th>\n      <td>-0.096774</td>\n      <td>-0.016862</td>\n    </tr>\n    <tr>\n      <th>...</th>\n      <td>...</td>\n      <td>...</td>\n    </tr>\n    <tr>\n      <th>163</th>\n      <td>-0.096774</td>\n      <td>-0.016417</td>\n    </tr>\n    <tr>\n      <th>164</th>\n      <td>-0.096774</td>\n      <td>-0.016417</td>\n    </tr>\n    <tr>\n      <th>165</th>\n      <td>-0.096774</td>\n      <td>-0.016417</td>\n    </tr>\n    <tr>\n      <th>166</th>\n      <td>-0.096774</td>\n      <td>-0.016417</td>\n    </tr>\n    <tr>\n      <th>167</th>\n      <td>-0.161290</td>\n      <td>-0.016417</td>\n    </tr>\n  </tbody>\n</table>\n<p>168 rows × 2 columns</p>\n</div>"
     },
     "execution_count": 56,
     "metadata": {},
     "output_type": "execute_result"
    },
    {
     "data": {
      "text/plain": "<Figure size 640x480 with 1 Axes>",
      "image/png": "[encoded data removed]"
     },
     "metadata": {},
     "output_type": "display_data"
    }
   ],
   "source": [
    "#Forecast a whole week\n",
    "prev_obs = test_X_scaled[0]\n",
    "\n",
    "for i, row in prediction_2.iterrows():\n",
    "    yhat = single_forecast(model, prev_obs)\n",
    "    prev_obs = yhat\n",
    "\n",
    "    #Mapping of array index and df column name\n",
    "    for j, element in enumerate(output_cols):\n",
    "        prediction_2.at[i, f\"{element}_pred\"] =yhat[0,j]\n",
    "\n",
    "prediction_2.plot(kind='line')\n",
    "prediction_2"
   ],
   "metadata": {
    "collapsed": false,
    "pycharm": {
     "name": "#%%\n"
    }
   }
  },
  {
   "cell_type": "code",
   "execution_count": 57,
   "outputs": [
    {
     "data": {
      "text/plain": "                     WTMP_41117  WTMP_41117_pred\ntimestamp                                       \n2022-12-25 00:00:00        17.4        17.482959\n2022-12-25 01:00:00        17.4        17.592897\n2022-12-25 02:00:00        17.4        17.712204\n2022-12-25 03:00:00        17.4        17.834860\n2022-12-25 04:00:00        17.4        17.958724\n...                         ...              ...\n2022-12-31 19:00:00        17.4        37.762386\n2022-12-31 20:00:00        17.4        37.886940\n2022-12-31 21:00:00        17.4        38.011494\n2022-12-31 22:00:00        17.4        38.136048\n2022-12-31 23:00:00        17.3        38.260602\n\n[168 rows x 2 columns]",
      "text/html": "<div>\n<style scoped>\n    .dataframe tbody tr th:only-of-type {\n        vertical-align: middle;\n    }\n\n    .dataframe tbody tr th {\n        vertical-align: top;\n    }\n\n    .dataframe thead th {\n        text-align: right;\n    }\n</style>\n<table border=\"1\" class=\"dataframe\">\n  <thead>\n    <tr style=\"text-align: right;\">\n      <th></th>\n      <th>WTMP_41117</th>\n      <th>WTMP_41117_pred</th>\n    </tr>\n    <tr>\n      <th>timestamp</th>\n      <th></th>\n      <th></th>\n    </tr>\n  </thead>\n  <tbody>\n    <tr>\n      <th>2022-12-25 00:00:00</th>\n      <td>17.4</td>\n      <td>17.482959</td>\n    </tr>\n    <tr>\n      <th>2022-12-25 01:00:00</th>\n      <td>17.4</td>\n      <td>17.592897</td>\n    </tr>\n    <tr>\n      <th>2022-12-25 02:00:00</th>\n      <td>17.4</td>\n      <td>17.712204</td>\n    </tr>\n    <tr>\n      <th>2022-12-25 03:00:00</th>\n      <td>17.4</td>\n      <td>17.834860</td>\n    </tr>\n    <tr>\n      <th>2022-12-25 04:00:00</th>\n      <td>17.4</td>\n      <td>17.958724</td>\n    </tr>\n    <tr>\n      <th>...</th>\n      <td>...</td>\n      <td>...</td>\n    </tr>\n    <tr>\n      <th>2022-12-31 19:00:00</th>\n      <td>17.4</td>\n      <td>37.762386</td>\n    </tr>\n    <tr>\n      <th>2022-12-31 20:00:00</th>\n      <td>17.4</td>\n      <td>37.886940</td>\n    </tr>\n    <tr>\n      <th>2022-12-31 21:00:00</th>\n      <td>17.4</td>\n      <td>38.011494</td>\n    </tr>\n    <tr>\n      <th>2022-12-31 22:00:00</th>\n      <td>17.4</td>\n      <td>38.136048</td>\n    </tr>\n    <tr>\n      <th>2022-12-31 23:00:00</th>\n      <td>17.3</td>\n      <td>38.260602</td>\n    </tr>\n  </tbody>\n</table>\n<p>168 rows × 2 columns</p>\n</div>"
     },
     "execution_count": 57,
     "metadata": {},
     "output_type": "execute_result"
    }
   ],
   "source": [
    "#Reverse differenciate\n",
    "first_row = data.iloc[-len(yhat)-1]\n",
    "\n",
    "yhat = prediction_2[[name + \"_pred\" for name in output_cols]].values\n",
    "yhat_unscaled = mL.invert_scaling(yhat, SCALER)\n",
    "yhat_true_value = mL.stationary_to_data(yhat_unscaled, first_row)\n",
    "\n",
    "yhat_true_value_df = pd.DataFrame(yhat_true_value, columns=[name + \"_pred\" for name in output_cols])\n",
    "yhat_true_value_df.set_index(data.tail(len(yhat)).index, inplace=True)\n",
    "\n",
    "true_value = data.tail(len(yhat)+1).copy()\n",
    "\n",
    "evaluation_2 = pd.concat([true_value, yhat_true_value_df], axis=1)\n",
    "evaluation_2 = evaluation_2.iloc[STATIONARY_SHIFT:]\n",
    "evaluation_2"
   ],
   "metadata": {
    "collapsed": false,
    "pycharm": {
     "name": "#%%\n"
    }
   }
  },
  {
   "cell_type": "code",
   "execution_count": 58,
   "outputs": [
    {
     "name": "stdout",
     "output_type": "stream",
     "text": [
      "MAE:  10.962952176344901\n",
      "MSE:  155.13848957097144\n"
     ]
    }
   ],
   "source": [
    "wtmp_true = [col for col in evaluation_2.columns if col.startswith(\"WTMP\")][0]\n",
    "\n",
    "mae_2 = mean_absolute_error(evaluation_2[wtmp_true], evaluation_2[f\"{wtmp_true}_pred\"])\n",
    "mse_2 = mean_squared_error(evaluation_2[wtmp_true], evaluation_2[f\"{wtmp_true}_pred\"])\n",
    "print('MAE: ', mae_2)\n",
    "print('MSE: ', mse_2)"
   ],
   "metadata": {
    "collapsed": false,
    "pycharm": {
     "name": "#%%\n"
    }
   }
  },
  {
   "cell_type": "code",
   "execution_count": 59,
   "outputs": [
    {
     "data": {
      "text/plain": "<AxesSubplot:xlabel='timestamp'>"
     },
     "execution_count": 59,
     "metadata": {},
     "output_type": "execute_result"
    },
    {
     "data": {
      "text/plain": "<Figure size 640x480 with 1 Axes>",
      "image/png": "[encoded data removed]"
     },
     "metadata": {},
     "output_type": "display_data"
    }
   ],
   "source": [
    "evaluation_2.plot(kind='line')"
   ],
   "metadata": {
    "collapsed": false,
    "pycharm": {
     "name": "#%%\n"
    }
   }
  },
  {
   "cell_type": "markdown",
   "source": [
    "# SAVE"
   ],
   "metadata": {
    "collapsed": false,
    "pycharm": {
     "name": "#%% md\n"
    }
   }
  },
  {
   "cell_type": "code",
   "execution_count": 27,
   "outputs": [],
   "source": [
    "#Save Data About executed Test:\n",
    "\n",
    "# Pickle file\n",
    "\n",
    "#Convert model summary to string\n",
    "stringlist = []\n",
    "model.summary(print_fn=lambda x: stringlist.append(x))\n",
    "model_summary = \"\\n\".join(stringlist)\n",
    "\n",
    "report = Experiment(\n",
    "    name=\"Dataset_Testing\",\n",
    "    description=\"Stations that provide all files from 2013-2022 in GOM\",\n",
    "\n",
    "    stations = STATIONS,\n",
    "    years = YEARS,\n",
    "    nan_threshold=NAN_THRESHOLD,\n",
    "    features=FEATURES,\n",
    "    era5=ERA5,\n",
    "    stationary_shift=STATIONARY_SHIFT,\n",
    "    lag=LAG,\n",
    "    n_test_hours=N_TEST_HOURS,\n",
    "\n",
    "    #stationary=STATIONARY,\n",
    "    scaler=SCALER,\n",
    "\n",
    "    model_name = MODEL_NAME,\n",
    "    model_summary=model_summary,\n",
    "\n",
    "    one_shot_forecast = evaluation_1,\n",
    "    recursive_forecast = evaluation_2\n",
    ")\n",
    "\n",
    "\n",
    "# open a file for writing in binary mode\n",
    "with open(f'../data/reports/{report.name}.pickle', 'wb') as f:\n",
    "    # write the object to the file using pickle.dump()\n",
    "    pickle.dump(report, f)"
   ],
   "metadata": {
    "collapsed": false,
    "pycharm": {
     "name": "#%%\n"
    }
   }
  },
  {
   "cell_type": "code",
   "execution_count": null,
   "outputs": [],
   "source": [],
   "metadata": {
    "collapsed": false,
    "pycharm": {
     "name": "#%%\n"
    }
   }
  },
  {
   "cell_type": "code",
   "execution_count": null,
   "outputs": [],
   "source": [],
   "metadata": {
    "collapsed": false,
    "pycharm": {
     "name": "#%%\n"
    }
   }
  },
  {
   "cell_type": "code",
   "execution_count": null,
   "outputs": [],
   "source": [],
   "metadata": {
    "collapsed": false,
    "pycharm": {
     "name": "#%%\n"
    }
   }
  }
 ],
 "metadata": {
  "kernelspec": {
   "display_name": "Python 3",
   "language": "python",
   "name": "python3"
  },
  "language_info": {
   "codemirror_mode": {
    "name": "ipython",
    "version": 2
   },
   "file_extension": ".py",
   "mimetype": "text/x-python",
   "name": "python",
   "nbconvert_exporter": "python",
   "pygments_lexer": "ipython2",
   "version": "2.7.6"
  }
 },
 "nbformat": 4,
 "nbformat_minor": 0
}