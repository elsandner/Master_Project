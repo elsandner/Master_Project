{
 "cells": [
  {
   "cell_type": "markdown",
   "source": [
    "# Generalized in a way that it is not limited to LSTM anymore!\n",
    "# This file can be deleted!\n",
    "\n",
    "# Test Environment"
   ],
   "metadata": {
    "collapsed": false,
    "pycharm": {
     "name": "#%% md\n"
    }
   }
  },
  {
   "cell_type": "code",
   "execution_count": 19,
   "outputs": [],
   "source": [
    "import ipywidgets as widgets\n",
    "from IPython.display import display\n",
    "import numpy as np\n",
    "import pandas as pd\n",
    "import Models.LSTM.models as models\n",
    "import myLibrary as mL\n",
    "from dataset_container import Experiment\n",
    "from sklearn.metrics import mean_squared_error, mean_absolute_error\n",
    "import pickle"
   ],
   "metadata": {
    "collapsed": false,
    "pycharm": {
     "name": "#%%\n"
    }
   }
  },
  {
   "cell_type": "markdown",
   "source": [
    "# Get Data"
   ],
   "metadata": {
    "collapsed": false,
    "pycharm": {
     "name": "#%% md\n"
    }
   }
  },
  {
   "cell_type": "code",
   "execution_count": 20,
   "outputs": [
    {
     "name": "stdout",
     "output_type": "stream",
     "text": [
      "STATIONS\n"
     ]
    },
    {
     "data": {
      "text/plain": "Box(children=(GridBox(children=(Checkbox(value=False, description='41117', indent=False), Checkbox(value=False…",
      "application/vnd.jupyter.widget-view+json": {
       "version_major": 2,
       "version_minor": 0,
       "model_id": "044d2562ab854ae3994218b8098e0d6d"
      }
     },
     "metadata": {},
     "output_type": "display_data"
    },
    {
     "data": {
      "text/plain": "SelectionRangeSlider(description='Time Range:', index=(51, 52), layout=Layout(width='500px'), options=(1970, 1…",
      "application/vnd.jupyter.widget-view+json": {
       "version_major": 2,
       "version_minor": 0,
       "model_id": "f7be66eb984f42d0a289427889ad1ccd"
      }
     },
     "metadata": {},
     "output_type": "display_data"
    },
    {
     "name": "stdout",
     "output_type": "stream",
     "text": [
      "NaN-Threshold:\n"
     ]
    },
    {
     "data": {
      "text/plain": "FloatSlider(value=0.5, layout=Layout(width='500px'), max=1.0, step=0.01)",
      "application/vnd.jupyter.widget-view+json": {
       "version_major": 2,
       "version_minor": 0,
       "model_id": "3db9847a4f224663a68baa037550426d"
      }
     },
     "metadata": {},
     "output_type": "display_data"
    },
    {
     "name": "stdout",
     "output_type": "stream",
     "text": [
      "Features:\n"
     ]
    },
    {
     "data": {
      "text/plain": "HBox(children=(Checkbox(value=False, description='WDIR', indent=False), Checkbox(value=False, description='WSP…",
      "application/vnd.jupyter.widget-view+json": {
       "version_major": 2,
       "version_minor": 0,
       "model_id": "4210e5f8ad9847d89ca1c4726249b55a"
      }
     },
     "metadata": {},
     "output_type": "display_data"
    },
    {
     "name": "stdout",
     "output_type": "stream",
     "text": [
      "Model Data:\n"
     ]
    },
    {
     "data": {
      "text/plain": "Checkbox(value=False, description='Add ERA5 model data', indent=False)",
      "application/vnd.jupyter.widget-view+json": {
       "version_major": 2,
       "version_minor": 0,
       "model_id": "d8440d8c6443498391d5758ddf9cf61b"
      }
     },
     "metadata": {},
     "output_type": "display_data"
    },
    {
     "name": "stdout",
     "output_type": "stream",
     "text": [
      "Stationary Shilft: \n"
     ]
    },
    {
     "data": {
      "text/plain": "BoundedIntText(value=1, max=10)",
      "application/vnd.jupyter.widget-view+json": {
       "version_major": 2,
       "version_minor": 0,
       "model_id": "97a138d883f24dd1a039efc4f1f116cc"
      }
     },
     "metadata": {},
     "output_type": "display_data"
    },
    {
     "name": "stdout",
     "output_type": "stream",
     "text": [
      "LAG:\n"
     ]
    },
    {
     "data": {
      "text/plain": "BoundedIntText(value=1, max=10)",
      "application/vnd.jupyter.widget-view+json": {
       "version_major": 2,
       "version_minor": 0,
       "model_id": "cc7e2d4ae9f44bb1bfdd506bc5c2996f"
      }
     },
     "metadata": {},
     "output_type": "display_data"
    },
    {
     "data": {
      "text/plain": "IntSlider(value=24, continuous_update=False, description='Test Hours:', max=1000)",
      "application/vnd.jupyter.widget-view+json": {
       "version_major": 2,
       "version_minor": 0,
       "model_id": "cd50acb80053443aa04aa7490d29f2d9"
      }
     },
     "metadata": {},
     "output_type": "display_data"
    },
    {
     "data": {
      "text/plain": "Select(description='Model:', options=('lstm_0', 'lstm_1'), value='lstm_0')",
      "application/vnd.jupyter.widget-view+json": {
       "version_major": 2,
       "version_minor": 0,
       "model_id": "ed15bb962e294f139828e56f6f1a750c"
      }
     },
     "metadata": {},
     "output_type": "display_data"
    }
   ],
   "source": [
    "import ipywidgets as widgets\n",
    "def build_UI():\n",
    "    #STATIONS -----------------------------------------------------------------------------------\n",
    "    # create a list of checkbox widgets for each station\n",
    "    stations = []\n",
    "    for station in mL.cleaned_stations_GOM:\n",
    "        checkbox = widgets.Checkbox(value=False, description=station, disabled=False, indent=False)\n",
    "        stations.append(checkbox)\n",
    "\n",
    "    # create a GridBox layout container with two columns\n",
    "    global stations_grid\n",
    "    stations_grid = widgets.GridBox(stations, layout=widgets.Layout(grid_template_columns=\"repeat(3, 300px)\"))\n",
    "\n",
    "    # wrap the GridBox inside a Box layout container with a fixed height and scrollable overflow\n",
    "    stations_box = widgets.Box(children=[stations_grid], layout=widgets.Layout(height=\"200px\", overflow=\"scroll\"))\n",
    "\n",
    "    # display the checkboxes\n",
    "    print(\"STATIONS\")\n",
    "    display(stations_box)\n",
    "\n",
    "    #Years --------------------------------------------------------------------------------------\n",
    "    # create a range slider widget for selecting a time range\n",
    "    global time_range_slider\n",
    "    time_range_slider = widgets.SelectionRangeSlider(\n",
    "        options=list(range(1970, 2023)),  # range of years to select from\n",
    "        index=(51, 52),  # initial range selected (1970-2023)\n",
    "        description='Time Range:',\n",
    "        orientation='horizontal',\n",
    "        layout={'width': '500px'}\n",
    "    )\n",
    "\n",
    "    # display the range slider widget\n",
    "    display(time_range_slider)\n",
    "\n",
    "    #NaN_Theshold--------------------------------------------------------------------------------\n",
    "    # create a FloatSlider widget for a value between 0 and 1\n",
    "    print(\"NaN-Threshold:\")\n",
    "    global nan_threshold_slider\n",
    "    nan_threshold_slider = widgets.FloatSlider(\n",
    "        value=0.5,\n",
    "        min=0,\n",
    "        max=1,\n",
    "        step=0.01,\n",
    "        description='',\n",
    "        readout_format='.2f',\n",
    "        orientation='horizontal',\n",
    "        layout={'width': '500px'}\n",
    "    )\n",
    "\n",
    "    # display the FloatSlider widget\n",
    "    display(nan_threshold_slider)\n",
    "\n",
    "    #Features--------------------------------------------------------------------------------\n",
    "    features = []\n",
    "    for feature in [\"WDIR\", \"WSPD\", \"WVHT\", \"APD\", \"MWD\", \"PRES\", \"ATMP\", \"WTMP\", \"DEWP\"]:\n",
    "        checkbox = widgets.Checkbox(value=False, description=feature, disabled=False, indent=False)\n",
    "        features.append(checkbox)\n",
    "\n",
    "    print(\"Features:\")\n",
    "    global feature_container\n",
    "    feature_container = widgets.HBox(features)\n",
    "    display(feature_container)\n",
    "\n",
    "    #ERA5------------------------------------------------------------------------------------\n",
    "    global era5_checkbox\n",
    "    era5_checkbox = widgets.Checkbox(value=False, description=\"Add ERA5 model data\", disabled=False, indent=False)\n",
    "    print(\"Model Data:\")\n",
    "    display(era5_checkbox)\n",
    "    #STATIONARY_SHIFT -----------------------------------------------------------------------\n",
    "    global stationaryShift_widget\n",
    "    stationaryShift_widget = widgets.BoundedIntText(\n",
    "        value=1,\n",
    "        min=0,\n",
    "        max=10,\n",
    "        step=1,\n",
    "        description='',\n",
    "        disabled=False,\n",
    "    )\n",
    "    print(\"Stationary Shilft: \")\n",
    "    display(stationaryShift_widget)\n",
    "    # LAG ----------------------------------------------------------------------------------------\n",
    "    global lag_widget\n",
    "    lag_widget = widgets.BoundedIntText(\n",
    "        value=1,\n",
    "        min=0,\n",
    "        max=10,\n",
    "        step=1,\n",
    "        description='',\n",
    "        disabled=False,\n",
    "    )\n",
    "    print(\"LAG:\")\n",
    "    display(lag_widget)\n",
    "\n",
    "    # Test Hours-------------------------------------------------------------------------------\n",
    "    global test_hours_widget\n",
    "    test_hours_widget = widgets.IntSlider(\n",
    "        value=24,\n",
    "        min=0,\n",
    "        max=1000,\n",
    "        step=1,\n",
    "        description='Test Hours:',\n",
    "        disabled=False,\n",
    "        continuous_update=False,\n",
    "        orientation='horizontal',\n",
    "        readout=True,\n",
    "        readout_format='d'\n",
    "    )\n",
    "\n",
    "    # display the range slider widget\n",
    "    display(test_hours_widget)\n",
    "    #print(\"(1 Week = 168h)\")\n",
    "\n",
    "    # Test Hours-------------------------------------------------------------------------------\n",
    "    global models_widget\n",
    "    models_list = list(models.model_dictionary.keys())\n",
    "    models_widget = widgets.Select(\n",
    "        options=models_list,\n",
    "        value=models_list[0],\n",
    "        # rows=10,\n",
    "        description='Model:',\n",
    "        disabled=False\n",
    "    )\n",
    "    display(models_widget)\n",
    "\n",
    "\n",
    "build_UI()"
   ],
   "metadata": {
    "collapsed": false,
    "pycharm": {
     "name": "#%%\n"
    }
   }
  },
  {
   "cell_type": "code",
   "execution_count": 21,
   "outputs": [
    {
     "name": "stdout",
     "output_type": "stream",
     "text": [
      "Stations: ['41117']\n",
      "Years: ['2021', '2022']\n",
      "NaN_Threshold: 0.5\n",
      "Features: ['WTMP']\n",
      "ERA5: False, Stationary Shift: 1, lag: 1, Test-Hours:24\n",
      "Model: lstm_0\n"
     ]
    }
   ],
   "source": [
    "STATIONS = [checkbox.description for checkbox in stations_grid.children if checkbox.value]\n",
    "\n",
    "# get the selected time range\n",
    "start_year, end_year = time_range_slider.value\n",
    "YEARS = [str(year) for year in range(start_year, end_year + 1)]\n",
    "NAN_THRESHOLD = nan_threshold_slider.value\n",
    "FEATURES =  [checkbox.description for checkbox in feature_container.children if checkbox.value]\n",
    "ERA5 = era5_checkbox.value\n",
    "STATIONARY_SHIFT = stationaryShift_widget.value\n",
    "LAG = lag_widget.value\n",
    "N_TEST_HOURS = test_hours_widget.value\n",
    "MODEL_NAME = models_widget.value\n",
    "\n",
    "print(f\"Stations: {STATIONS}\")\n",
    "print(f\"Years: {YEARS}\")\n",
    "print(f\"NaN_Threshold: {NAN_THRESHOLD}\")\n",
    "print(f\"Features: {FEATURES}\")\n",
    "print(f\"ERA5: {ERA5}, Stationary Shift: {STATIONARY_SHIFT}, lag: {LAG}, Test-Hours:{N_TEST_HOURS}\")\n",
    "print(f\"Model: {MODEL_NAME}\")"
   ],
   "metadata": {
    "collapsed": false,
    "pycharm": {
     "name": "#%%\n"
    }
   }
  },
  {
   "cell_type": "code",
   "execution_count": 22,
   "outputs": [
    {
     "name": "stdout",
     "output_type": "stream",
     "text": [
      "Started with  2021 . Previous year took:   0.00043320655822753906 seconds\n",
      "from disc\n",
      "Started with  2022 . Previous year took:   3.1666271686553955 seconds\n",
      "from disc\n",
      "Finished downloading - now merging it together!\n"
     ]
    },
    {
     "data": {
      "text/plain": "                     WTMP_41117\ntimestamp                      \n2021-01-01 00:00:00        27.8\n2021-01-01 01:00:00        27.8\n2021-01-01 02:00:00        27.8\n2021-01-01 03:00:00        27.8\n2021-01-01 04:00:00        27.8\n...                         ...\n2022-12-31 19:00:00        17.4\n2022-12-31 20:00:00        17.4\n2022-12-31 21:00:00        17.4\n2022-12-31 22:00:00        17.4\n2022-12-31 23:00:00        17.3\n\n[17520 rows x 1 columns]",
      "text/html": "<div>\n<style scoped>\n    .dataframe tbody tr th:only-of-type {\n        vertical-align: middle;\n    }\n\n    .dataframe tbody tr th {\n        vertical-align: top;\n    }\n\n    .dataframe thead th {\n        text-align: right;\n    }\n</style>\n<table border=\"1\" class=\"dataframe\">\n  <thead>\n    <tr style=\"text-align: right;\">\n      <th></th>\n      <th>WTMP_41117</th>\n    </tr>\n    <tr>\n      <th>timestamp</th>\n      <th></th>\n    </tr>\n  </thead>\n  <tbody>\n    <tr>\n      <th>2021-01-01 00:00:00</th>\n      <td>27.8</td>\n    </tr>\n    <tr>\n      <th>2021-01-01 01:00:00</th>\n      <td>27.8</td>\n    </tr>\n    <tr>\n      <th>2021-01-01 02:00:00</th>\n      <td>27.8</td>\n    </tr>\n    <tr>\n      <th>2021-01-01 03:00:00</th>\n      <td>27.8</td>\n    </tr>\n    <tr>\n      <th>2021-01-01 04:00:00</th>\n      <td>27.8</td>\n    </tr>\n    <tr>\n      <th>...</th>\n      <td>...</td>\n    </tr>\n    <tr>\n      <th>2022-12-31 19:00:00</th>\n      <td>17.4</td>\n    </tr>\n    <tr>\n      <th>2022-12-31 20:00:00</th>\n      <td>17.4</td>\n    </tr>\n    <tr>\n      <th>2022-12-31 21:00:00</th>\n      <td>17.4</td>\n    </tr>\n    <tr>\n      <th>2022-12-31 22:00:00</th>\n      <td>17.4</td>\n    </tr>\n    <tr>\n      <th>2022-12-31 23:00:00</th>\n      <td>17.3</td>\n    </tr>\n  </tbody>\n</table>\n<p>17520 rows × 1 columns</p>\n</div>"
     },
     "execution_count": 22,
     "metadata": {},
     "output_type": "execute_result"
    }
   ],
   "source": [
    "data = mL.get_data(\n",
    "    stations=STATIONS,\n",
    "    years=YEARS,\n",
    "    nan_threshold=NAN_THRESHOLD,\n",
    "    features=FEATURES,\n",
    "    #features=None,\n",
    "    era5=ERA5\n",
    "    )\n",
    "\n",
    "data"
   ],
   "metadata": {
    "collapsed": false,
    "pycharm": {
     "name": "#%%\n"
    }
   }
  },
  {
   "cell_type": "markdown",
   "source": [
    "## 1. Make data stationary"
   ],
   "metadata": {
    "collapsed": false,
    "pycharm": {
     "name": "#%% md\n"
    }
   }
  },
  {
   "cell_type": "code",
   "execution_count": 23,
   "outputs": [
    {
     "data": {
      "text/plain": "                     WTMP_41117\ntimestamp                      \n2021-01-01 01:00:00         0.0\n2021-01-01 02:00:00         0.0\n2021-01-01 03:00:00         0.0\n2021-01-01 04:00:00         0.0\n2021-01-01 05:00:00         0.0",
      "text/html": "<div>\n<style scoped>\n    .dataframe tbody tr th:only-of-type {\n        vertical-align: middle;\n    }\n\n    .dataframe tbody tr th {\n        vertical-align: top;\n    }\n\n    .dataframe thead th {\n        text-align: right;\n    }\n</style>\n<table border=\"1\" class=\"dataframe\">\n  <thead>\n    <tr style=\"text-align: right;\">\n      <th></th>\n      <th>WTMP_41117</th>\n    </tr>\n    <tr>\n      <th>timestamp</th>\n      <th></th>\n    </tr>\n  </thead>\n  <tbody>\n    <tr>\n      <th>2021-01-01 01:00:00</th>\n      <td>0.0</td>\n    </tr>\n    <tr>\n      <th>2021-01-01 02:00:00</th>\n      <td>0.0</td>\n    </tr>\n    <tr>\n      <th>2021-01-01 03:00:00</th>\n      <td>0.0</td>\n    </tr>\n    <tr>\n      <th>2021-01-01 04:00:00</th>\n      <td>0.0</td>\n    </tr>\n    <tr>\n      <th>2021-01-01 05:00:00</th>\n      <td>0.0</td>\n    </tr>\n  </tbody>\n</table>\n</div>"
     },
     "execution_count": 23,
     "metadata": {},
     "output_type": "execute_result"
    }
   ],
   "source": [
    "STATIONARY = True #Set Flag for report\n",
    "data_stationary = mL.data_to_stationary(data, n = STATIONARY_SHIFT)\n",
    "data_stationary.head()"
   ],
   "metadata": {
    "collapsed": false,
    "pycharm": {
     "name": "#%%\n"
    }
   }
  },
  {
   "cell_type": "markdown",
   "source": [
    "## 2. Transform to supervised problem"
   ],
   "metadata": {
    "collapsed": false,
    "pycharm": {
     "name": "#%% md\n"
    }
   }
  },
  {
   "cell_type": "code",
   "execution_count": 24,
   "outputs": [
    {
     "data": {
      "text/plain": "                     WTMP_41117(t-1)  WTMP_41117(t)\ntimestamp                                          \n2021-01-01 02:00:00              0.0            0.0\n2021-01-01 03:00:00              0.0            0.0\n2021-01-01 04:00:00              0.0            0.0\n2021-01-01 05:00:00              0.0            0.0\n2021-01-01 06:00:00              0.0            0.0",
      "text/html": "<div>\n<style scoped>\n    .dataframe tbody tr th:only-of-type {\n        vertical-align: middle;\n    }\n\n    .dataframe tbody tr th {\n        vertical-align: top;\n    }\n\n    .dataframe thead th {\n        text-align: right;\n    }\n</style>\n<table border=\"1\" class=\"dataframe\">\n  <thead>\n    <tr style=\"text-align: right;\">\n      <th></th>\n      <th>WTMP_41117(t-1)</th>\n      <th>WTMP_41117(t)</th>\n    </tr>\n    <tr>\n      <th>timestamp</th>\n      <th></th>\n      <th></th>\n    </tr>\n  </thead>\n  <tbody>\n    <tr>\n      <th>2021-01-01 02:00:00</th>\n      <td>0.0</td>\n      <td>0.0</td>\n    </tr>\n    <tr>\n      <th>2021-01-01 03:00:00</th>\n      <td>0.0</td>\n      <td>0.0</td>\n    </tr>\n    <tr>\n      <th>2021-01-01 04:00:00</th>\n      <td>0.0</td>\n      <td>0.0</td>\n    </tr>\n    <tr>\n      <th>2021-01-01 05:00:00</th>\n      <td>0.0</td>\n      <td>0.0</td>\n    </tr>\n    <tr>\n      <th>2021-01-01 06:00:00</th>\n      <td>0.0</td>\n      <td>0.0</td>\n    </tr>\n  </tbody>\n</table>\n</div>"
     },
     "execution_count": 24,
     "metadata": {},
     "output_type": "execute_result"
    }
   ],
   "source": [
    "data_supervised = mL.data_to_supervised(data_stationary)\n",
    "data_supervised.head()"
   ],
   "metadata": {
    "collapsed": false,
    "pycharm": {
     "name": "#%%\n"
    }
   }
  },
  {
   "cell_type": "markdown",
   "source": [
    "## train test split"
   ],
   "metadata": {
    "collapsed": false,
    "pycharm": {
     "name": "#%% md\n"
    }
   }
  },
  {
   "cell_type": "code",
   "execution_count": 25,
   "outputs": [
    {
     "name": "stdout",
     "output_type": "stream",
     "text": [
      "Shapes:  (17350, 1, 1) (17350, 1) (168, 1, 1) (168, 1)\n"
     ]
    }
   ],
   "source": [
    "train_X, train_y, test_X, test_y = mL.train_test_split(data_supervised, N_TEST_HOURS)\n",
    "print(\"Shapes: \", train_X.shape, train_y.shape, test_X.shape, test_y.shape)"
   ],
   "metadata": {
    "collapsed": false,
    "pycharm": {
     "name": "#%%\n"
    }
   }
  },
  {
   "cell_type": "markdown",
   "source": [
    "## Normalize the data"
   ],
   "metadata": {
    "collapsed": false,
    "pycharm": {
     "name": "#%% md\n"
    }
   }
  },
  {
   "cell_type": "code",
   "execution_count": 26,
   "outputs": [],
   "source": [
    "# Scale the data\n",
    "NORMALIZED = True   #set flag for report\n",
    "train_X_scaled, train_y_scaled, test_X_scaled, test_y_scaled, SCALER = mL.scale_data(train_X,\n",
    "                                                                                     train_y,\n",
    "                                                                                     test_X,\n",
    "                                                                                     test_y)"
   ],
   "metadata": {
    "collapsed": false,
    "pycharm": {
     "name": "#%%\n"
    }
   }
  },
  {
   "cell_type": "markdown",
   "source": [
    "---\n",
    "# Select Model"
   ],
   "metadata": {
    "collapsed": false,
    "pycharm": {
     "name": "#%% md\n"
    }
   }
  },
  {
   "cell_type": "code",
   "execution_count": 27,
   "outputs": [
    {
     "name": "stderr",
     "output_type": "stream",
     "text": [
      "2023-04-28 17:02:15.437748: W tensorflow/tsl/platform/profile_utils/cpu_utils.cc:128] Failed to get CPU frequency: 0 Hz\n"
     ]
    },
    {
     "name": "stdout",
     "output_type": "stream",
     "text": [
      "Model: \"sequential\"\n",
      "_________________________________________________________________\n",
      " Layer (type)                Output Shape              Param #   \n",
      "=================================================================\n",
      " lstm (LSTM)                 (None, 50)                10400     \n",
      "                                                                 \n",
      " dense (Dense)               (None, 1)                 51        \n",
      "                                                                 \n",
      "=================================================================\n",
      "Total params: 10,451\n",
      "Trainable params: 10,451\n",
      "Non-trainable params: 0\n",
      "_________________________________________________________________\n"
     ]
    }
   ],
   "source": [
    "#model = models.lstm_0(train_X_scaled,train_y_scaled)\n",
    "model = models.get_model(MODEL_NAME, train_X, train_y)\n",
    "model.summary()"
   ],
   "metadata": {
    "collapsed": false,
    "pycharm": {
     "name": "#%%\n"
    }
   }
  },
  {
   "cell_type": "markdown",
   "source": [
    "----\n",
    "# One-Shot Forecasting"
   ],
   "metadata": {
    "collapsed": false,
    "pycharm": {
     "name": "#%% md\n"
    }
   }
  },
  {
   "cell_type": "code",
   "execution_count": 28,
   "outputs": [
    {
     "name": "stdout",
     "output_type": "stream",
     "text": [
      "17350/17350 [==============================] - 6s 328us/step\n"
     ]
    }
   ],
   "source": [
    "_ = model.predict(train_X_scaled, batch_size=1)"
   ],
   "metadata": {
    "collapsed": false,
    "pycharm": {
     "name": "#%%\n"
    }
   }
  },
  {
   "cell_type": "markdown",
   "source": [],
   "metadata": {
    "collapsed": false,
    "pycharm": {
     "name": "#%% md\n"
    }
   }
  },
  {
   "cell_type": "code",
   "execution_count": 29,
   "outputs": [
    {
     "data": {
      "text/plain": "['WTMP_41117']"
     },
     "execution_count": 29,
     "metadata": {},
     "output_type": "execute_result"
    }
   ],
   "source": [
    "output_cols = data.columns.tolist()\n",
    "output_cols"
   ],
   "metadata": {
    "collapsed": false,
    "pycharm": {
     "name": "#%%\n"
    }
   }
  },
  {
   "cell_type": "code",
   "execution_count": 30,
   "outputs": [
    {
     "name": "stdout",
     "output_type": "stream",
     "text": [
      "6/6 [==============================] - 0s 658us/step\n"
     ]
    },
    {
     "data": {
      "text/plain": "                     WTMP_41117_pred\ntimestamp                           \n2022-12-25 00:00:00         0.093889\n2022-12-25 01:00:00         0.093889\n2022-12-25 02:00:00         0.093889\n2022-12-25 03:00:00         0.093889\n2022-12-25 04:00:00         0.093889\n...                              ...\n2022-12-31 19:00:00         0.129981\n2022-12-31 20:00:00         0.093889\n2022-12-31 21:00:00         0.093889\n2022-12-31 22:00:00         0.093889\n2022-12-31 23:00:00         0.093889\n\n[168 rows x 1 columns]",
      "text/html": "<div>\n<style scoped>\n    .dataframe tbody tr th:only-of-type {\n        vertical-align: middle;\n    }\n\n    .dataframe tbody tr th {\n        vertical-align: top;\n    }\n\n    .dataframe thead th {\n        text-align: right;\n    }\n</style>\n<table border=\"1\" class=\"dataframe\">\n  <thead>\n    <tr style=\"text-align: right;\">\n      <th></th>\n      <th>WTMP_41117_pred</th>\n    </tr>\n    <tr>\n      <th>timestamp</th>\n      <th></th>\n    </tr>\n  </thead>\n  <tbody>\n    <tr>\n      <th>2022-12-25 00:00:00</th>\n      <td>0.093889</td>\n    </tr>\n    <tr>\n      <th>2022-12-25 01:00:00</th>\n      <td>0.093889</td>\n    </tr>\n    <tr>\n      <th>2022-12-25 02:00:00</th>\n      <td>0.093889</td>\n    </tr>\n    <tr>\n      <th>2022-12-25 03:00:00</th>\n      <td>0.093889</td>\n    </tr>\n    <tr>\n      <th>2022-12-25 04:00:00</th>\n      <td>0.093889</td>\n    </tr>\n    <tr>\n      <th>...</th>\n      <td>...</td>\n    </tr>\n    <tr>\n      <th>2022-12-31 19:00:00</th>\n      <td>0.129981</td>\n    </tr>\n    <tr>\n      <th>2022-12-31 20:00:00</th>\n      <td>0.093889</td>\n    </tr>\n    <tr>\n      <th>2022-12-31 21:00:00</th>\n      <td>0.093889</td>\n    </tr>\n    <tr>\n      <th>2022-12-31 22:00:00</th>\n      <td>0.093889</td>\n    </tr>\n    <tr>\n      <th>2022-12-31 23:00:00</th>\n      <td>0.093889</td>\n    </tr>\n  </tbody>\n</table>\n<p>168 rows × 1 columns</p>\n</div>"
     },
     "execution_count": 30,
     "metadata": {},
     "output_type": "execute_result"
    }
   ],
   "source": [
    "yhat = model.predict(test_X_scaled)\n",
    "yhat_unscaled = mL.invert_scaling(yhat, SCALER)\n",
    "yhat_unscaled_df = pd.DataFrame(yhat_unscaled, columns=[name + \"_pred\" for name in output_cols])\n",
    "yhat_unscaled_df.set_index(data.tail(len(yhat)).index, inplace=True)\n",
    "yhat_unscaled_df"
   ],
   "metadata": {
    "collapsed": false,
    "pycharm": {
     "name": "#%%\n"
    }
   }
  },
  {
   "cell_type": "code",
   "execution_count": 31,
   "outputs": [
    {
     "data": {
      "text/plain": "                     WTMP_41117\ntimestamp                      \n2022-12-24 23:00:00        17.4\n2022-12-25 00:00:00        17.4\n2022-12-25 01:00:00        17.4\n2022-12-25 02:00:00        17.4\n2022-12-25 03:00:00        17.4\n...                         ...\n2022-12-31 19:00:00        17.4\n2022-12-31 20:00:00        17.4\n2022-12-31 21:00:00        17.4\n2022-12-31 22:00:00        17.4\n2022-12-31 23:00:00        17.3\n\n[169 rows x 1 columns]",
      "text/html": "<div>\n<style scoped>\n    .dataframe tbody tr th:only-of-type {\n        vertical-align: middle;\n    }\n\n    .dataframe tbody tr th {\n        vertical-align: top;\n    }\n\n    .dataframe thead th {\n        text-align: right;\n    }\n</style>\n<table border=\"1\" class=\"dataframe\">\n  <thead>\n    <tr style=\"text-align: right;\">\n      <th></th>\n      <th>WTMP_41117</th>\n    </tr>\n    <tr>\n      <th>timestamp</th>\n      <th></th>\n    </tr>\n  </thead>\n  <tbody>\n    <tr>\n      <th>2022-12-24 23:00:00</th>\n      <td>17.4</td>\n    </tr>\n    <tr>\n      <th>2022-12-25 00:00:00</th>\n      <td>17.4</td>\n    </tr>\n    <tr>\n      <th>2022-12-25 01:00:00</th>\n      <td>17.4</td>\n    </tr>\n    <tr>\n      <th>2022-12-25 02:00:00</th>\n      <td>17.4</td>\n    </tr>\n    <tr>\n      <th>2022-12-25 03:00:00</th>\n      <td>17.4</td>\n    </tr>\n    <tr>\n      <th>...</th>\n      <td>...</td>\n    </tr>\n    <tr>\n      <th>2022-12-31 19:00:00</th>\n      <td>17.4</td>\n    </tr>\n    <tr>\n      <th>2022-12-31 20:00:00</th>\n      <td>17.4</td>\n    </tr>\n    <tr>\n      <th>2022-12-31 21:00:00</th>\n      <td>17.4</td>\n    </tr>\n    <tr>\n      <th>2022-12-31 22:00:00</th>\n      <td>17.4</td>\n    </tr>\n    <tr>\n      <th>2022-12-31 23:00:00</th>\n      <td>17.3</td>\n    </tr>\n  </tbody>\n</table>\n<p>169 rows × 1 columns</p>\n</div>"
     },
     "execution_count": 31,
     "metadata": {},
     "output_type": "execute_result"
    }
   ],
   "source": [
    "evaluation_1 = data.tail(len(yhat)+1).copy()  #+1 since i need that value for de-differencing\n",
    "evaluation_1"
   ],
   "metadata": {
    "collapsed": false,
    "pycharm": {
     "name": "#%%\n"
    }
   }
  },
  {
   "cell_type": "code",
   "execution_count": 32,
   "outputs": [
    {
     "data": {
      "text/plain": "                     WTMP_41117  WTMP_41117_pred\ntimestamp                                       \n2022-12-25 00:00:00        17.4        17.493889\n2022-12-25 01:00:00        17.4        17.493889\n2022-12-25 02:00:00        17.4        17.493889\n2022-12-25 03:00:00        17.4        17.493889\n2022-12-25 04:00:00        17.4        17.493889\n...                         ...              ...\n2022-12-31 19:00:00        17.4        17.529981\n2022-12-31 20:00:00        17.4        17.493889\n2022-12-31 21:00:00        17.4        17.493889\n2022-12-31 22:00:00        17.4        17.493889\n2022-12-31 23:00:00        17.3        17.493889\n\n[168 rows x 2 columns]",
      "text/html": "<div>\n<style scoped>\n    .dataframe tbody tr th:only-of-type {\n        vertical-align: middle;\n    }\n\n    .dataframe tbody tr th {\n        vertical-align: top;\n    }\n\n    .dataframe thead th {\n        text-align: right;\n    }\n</style>\n<table border=\"1\" class=\"dataframe\">\n  <thead>\n    <tr style=\"text-align: right;\">\n      <th></th>\n      <th>WTMP_41117</th>\n      <th>WTMP_41117_pred</th>\n    </tr>\n    <tr>\n      <th>timestamp</th>\n      <th></th>\n      <th></th>\n    </tr>\n  </thead>\n  <tbody>\n    <tr>\n      <th>2022-12-25 00:00:00</th>\n      <td>17.4</td>\n      <td>17.493889</td>\n    </tr>\n    <tr>\n      <th>2022-12-25 01:00:00</th>\n      <td>17.4</td>\n      <td>17.493889</td>\n    </tr>\n    <tr>\n      <th>2022-12-25 02:00:00</th>\n      <td>17.4</td>\n      <td>17.493889</td>\n    </tr>\n    <tr>\n      <th>2022-12-25 03:00:00</th>\n      <td>17.4</td>\n      <td>17.493889</td>\n    </tr>\n    <tr>\n      <th>2022-12-25 04:00:00</th>\n      <td>17.4</td>\n      <td>17.493889</td>\n    </tr>\n    <tr>\n      <th>...</th>\n      <td>...</td>\n      <td>...</td>\n    </tr>\n    <tr>\n      <th>2022-12-31 19:00:00</th>\n      <td>17.4</td>\n      <td>17.529981</td>\n    </tr>\n    <tr>\n      <th>2022-12-31 20:00:00</th>\n      <td>17.4</td>\n      <td>17.493889</td>\n    </tr>\n    <tr>\n      <th>2022-12-31 21:00:00</th>\n      <td>17.4</td>\n      <td>17.493889</td>\n    </tr>\n    <tr>\n      <th>2022-12-31 22:00:00</th>\n      <td>17.4</td>\n      <td>17.493889</td>\n    </tr>\n    <tr>\n      <th>2022-12-31 23:00:00</th>\n      <td>17.3</td>\n      <td>17.493889</td>\n    </tr>\n  </tbody>\n</table>\n<p>168 rows × 2 columns</p>\n</div>"
     },
     "execution_count": 32,
     "metadata": {},
     "output_type": "execute_result"
    }
   ],
   "source": [
    "for col in evaluation_1.columns:\n",
    "    evaluation_1[f\"{col}_pred\"]= evaluation_1[col].shift(STATIONARY_SHIFT) + yhat_unscaled_df[f\"{col}_pred\"]\n",
    "\n",
    "evaluation_1 = evaluation_1.iloc[STATIONARY_SHIFT:]  # remove first n entries since there is no delta value for them\n",
    "evaluation_1"
   ],
   "metadata": {
    "collapsed": false,
    "pycharm": {
     "name": "#%%\n"
    }
   }
  },
  {
   "cell_type": "code",
   "execution_count": 33,
   "outputs": [
    {
     "name": "stdout",
     "output_type": "stream",
     "text": [
      "MAE:  0.10453519801875288\n",
      "MSE:  0.015453502744625234\n"
     ]
    }
   ],
   "source": [
    "wtmp_true = [col for col in evaluation_1.columns if col.startswith(\"WTMP\")][0]\n",
    "\n",
    "mae = mean_absolute_error(evaluation_1[wtmp_true], evaluation_1[f\"{wtmp_true}_pred\"])\n",
    "mse = mean_squared_error(evaluation_1[wtmp_true], evaluation_1[f\"{wtmp_true}_pred\"])\n",
    "print('MAE: ', mae)\n",
    "print('MSE: ', mse)"
   ],
   "metadata": {
    "collapsed": false,
    "pycharm": {
     "name": "#%%\n"
    }
   }
  },
  {
   "cell_type": "code",
   "execution_count": 34,
   "outputs": [
    {
     "data": {
      "text/plain": "<AxesSubplot:xlabel='timestamp'>"
     },
     "execution_count": 34,
     "metadata": {},
     "output_type": "execute_result"
    },
    {
     "data": {
      "text/plain": "<Figure size 640x480 with 1 Axes>",
      "image/png": "[encoded data removed]"
     },
     "metadata": {},
     "output_type": "display_data"
    }
   ],
   "source": [
    "evaluation_1.plot(kind='line')"
   ],
   "metadata": {
    "collapsed": false,
    "pycharm": {
     "name": "#%%\n"
    }
   }
  },
  {
   "cell_type": "markdown",
   "source": [
    "# 1-Week forecast"
   ],
   "metadata": {
    "collapsed": false,
    "pycharm": {
     "name": "#%% md\n"
    }
   }
  },
  {
   "cell_type": "code",
   "execution_count": 35,
   "outputs": [
    {
     "name": "stdout",
     "output_type": "stream",
     "text": [
      "17350/17350 [==============================] - 6s 324us/step\n"
     ]
    }
   ],
   "source": [
    "model.reset_states()\n",
    "_ = model.predict(train_X_scaled, batch_size=1)"
   ],
   "metadata": {
    "collapsed": false,
    "pycharm": {
     "name": "#%%\n"
    }
   }
  },
  {
   "cell_type": "code",
   "execution_count": 36,
   "outputs": [],
   "source": [
    "# make a one-step forecast\n",
    "# This function helps with reshaping.\n",
    "def single_forecast(model, x):\n",
    "    x = x.reshape(1, 1, len(x[0]))\n",
    "    yhat = model.predict(x, verbose=0)\n",
    "    return yhat"
   ],
   "metadata": {
    "collapsed": false,
    "pycharm": {
     "name": "#%%\n"
    }
   }
  },
  {
   "cell_type": "code",
   "execution_count": 37,
   "outputs": [
    {
     "data": {
      "text/plain": "     WTMP_41117  WTMP_41117_pred\n0           0.0                0\n1           0.0                0\n2           0.0                0\n3           0.0                0\n4           0.0                0\n..          ...              ...\n163         0.0                0\n164         0.0                0\n165         0.0                0\n166         0.0                0\n167        -0.1                0\n\n[168 rows x 2 columns]",
      "text/html": "<div>\n<style scoped>\n    .dataframe tbody tr th:only-of-type {\n        vertical-align: middle;\n    }\n\n    .dataframe tbody tr th {\n        vertical-align: top;\n    }\n\n    .dataframe thead th {\n        text-align: right;\n    }\n</style>\n<table border=\"1\" class=\"dataframe\">\n  <thead>\n    <tr style=\"text-align: right;\">\n      <th></th>\n      <th>WTMP_41117</th>\n      <th>WTMP_41117_pred</th>\n    </tr>\n  </thead>\n  <tbody>\n    <tr>\n      <th>0</th>\n      <td>0.0</td>\n      <td>0</td>\n    </tr>\n    <tr>\n      <th>1</th>\n      <td>0.0</td>\n      <td>0</td>\n    </tr>\n    <tr>\n      <th>2</th>\n      <td>0.0</td>\n      <td>0</td>\n    </tr>\n    <tr>\n      <th>3</th>\n      <td>0.0</td>\n      <td>0</td>\n    </tr>\n    <tr>\n      <th>4</th>\n      <td>0.0</td>\n      <td>0</td>\n    </tr>\n    <tr>\n      <th>...</th>\n      <td>...</td>\n      <td>...</td>\n    </tr>\n    <tr>\n      <th>163</th>\n      <td>0.0</td>\n      <td>0</td>\n    </tr>\n    <tr>\n      <th>164</th>\n      <td>0.0</td>\n      <td>0</td>\n    </tr>\n    <tr>\n      <th>165</th>\n      <td>0.0</td>\n      <td>0</td>\n    </tr>\n    <tr>\n      <th>166</th>\n      <td>0.0</td>\n      <td>0</td>\n    </tr>\n    <tr>\n      <th>167</th>\n      <td>-0.1</td>\n      <td>0</td>\n    </tr>\n  </tbody>\n</table>\n<p>168 rows × 2 columns</p>\n</div>"
     },
     "execution_count": 37,
     "metadata": {},
     "output_type": "execute_result"
    }
   ],
   "source": [
    "# Prepare data structure\n",
    "prediction_2 = pd.DataFrame(test_y, columns=output_cols)\n",
    "for col in output_cols:\n",
    "    prediction_2[f\"{col}_pred\"] = 0\n",
    "\n",
    "prediction_2"
   ],
   "metadata": {
    "collapsed": false,
    "pycharm": {
     "name": "#%%\n"
    }
   }
  },
  {
   "cell_type": "code",
   "execution_count": 38,
   "outputs": [
    {
     "data": {
      "text/plain": "<AxesSubplot:>"
     },
     "execution_count": 38,
     "metadata": {},
     "output_type": "execute_result"
    },
    {
     "data": {
      "text/plain": "<Figure size 640x480 with 1 Axes>",
      "image/png": "[encoded data removed]"
     },
     "metadata": {},
     "output_type": "display_data"
    }
   ],
   "source": [
    "prediction_2.plot(kind='line')"
   ],
   "metadata": {
    "collapsed": false,
    "pycharm": {
     "name": "#%%\n"
    }
   }
  },
  {
   "cell_type": "code",
   "execution_count": 39,
   "outputs": [
    {
     "data": {
      "text/plain": "     WTMP_41117  WTMP_41117_pred\n0           0.0        -0.001349\n1           0.0        -0.001832\n2           0.0        -0.002005\n3           0.0        -0.002066\n4           0.0        -0.002089\n..          ...              ...\n163         0.0        -0.002101\n164         0.0        -0.002101\n165         0.0        -0.002101\n166         0.0        -0.002101\n167        -0.1        -0.002101\n\n[168 rows x 2 columns]",
      "text/html": "<div>\n<style scoped>\n    .dataframe tbody tr th:only-of-type {\n        vertical-align: middle;\n    }\n\n    .dataframe tbody tr th {\n        vertical-align: top;\n    }\n\n    .dataframe thead th {\n        text-align: right;\n    }\n</style>\n<table border=\"1\" class=\"dataframe\">\n  <thead>\n    <tr style=\"text-align: right;\">\n      <th></th>\n      <th>WTMP_41117</th>\n      <th>WTMP_41117_pred</th>\n    </tr>\n  </thead>\n  <tbody>\n    <tr>\n      <th>0</th>\n      <td>0.0</td>\n      <td>-0.001349</td>\n    </tr>\n    <tr>\n      <th>1</th>\n      <td>0.0</td>\n      <td>-0.001832</td>\n    </tr>\n    <tr>\n      <th>2</th>\n      <td>0.0</td>\n      <td>-0.002005</td>\n    </tr>\n    <tr>\n      <th>3</th>\n      <td>0.0</td>\n      <td>-0.002066</td>\n    </tr>\n    <tr>\n      <th>4</th>\n      <td>0.0</td>\n      <td>-0.002089</td>\n    </tr>\n    <tr>\n      <th>...</th>\n      <td>...</td>\n      <td>...</td>\n    </tr>\n    <tr>\n      <th>163</th>\n      <td>0.0</td>\n      <td>-0.002101</td>\n    </tr>\n    <tr>\n      <th>164</th>\n      <td>0.0</td>\n      <td>-0.002101</td>\n    </tr>\n    <tr>\n      <th>165</th>\n      <td>0.0</td>\n      <td>-0.002101</td>\n    </tr>\n    <tr>\n      <th>166</th>\n      <td>0.0</td>\n      <td>-0.002101</td>\n    </tr>\n    <tr>\n      <th>167</th>\n      <td>-0.1</td>\n      <td>-0.002101</td>\n    </tr>\n  </tbody>\n</table>\n<p>168 rows × 2 columns</p>\n</div>"
     },
     "execution_count": 39,
     "metadata": {},
     "output_type": "execute_result"
    }
   ],
   "source": [
    "#Forecast a whole week\n",
    "prev_obs = test_X[0]\n",
    "\n",
    "for i, row in prediction_2.iterrows():\n",
    "    yhat = single_forecast(model, prev_obs)\n",
    "    prev_obs = yhat\n",
    "\n",
    "    #Mapping of array index and df column name\n",
    "    for j, element in enumerate(output_cols):\n",
    "        prediction_2.at[i, f\"{element}_pred\"] =yhat[0,j]\n",
    "\n",
    "prediction_2"
   ],
   "metadata": {
    "collapsed": false,
    "pycharm": {
     "name": "#%%\n"
    }
   }
  },
  {
   "cell_type": "code",
   "execution_count": 41,
   "outputs": [
    {
     "data": {
      "text/plain": "                     WTMP_41117  WTMP_41117_pred\ntimestamp                                       \n2022-12-25 00:00:00        17.4        17.547908\n2022-12-25 01:00:00        17.4        17.695069\n2022-12-25 02:00:00        17.4        17.841962\n2022-12-25 03:00:00        17.4        17.988759\n2022-12-25 04:00:00        17.4        18.135521\n...                         ...              ...\n2022-12-31 19:00:00        17.4        41.467775\n2022-12-31 20:00:00        17.4        41.614518\n2022-12-31 21:00:00        17.4        41.761262\n2022-12-31 22:00:00        17.4        41.908006\n2022-12-31 23:00:00        17.3        42.054749\n\n[168 rows x 2 columns]",
      "text/html": "<div>\n<style scoped>\n    .dataframe tbody tr th:only-of-type {\n        vertical-align: middle;\n    }\n\n    .dataframe tbody tr th {\n        vertical-align: top;\n    }\n\n    .dataframe thead th {\n        text-align: right;\n    }\n</style>\n<table border=\"1\" class=\"dataframe\">\n  <thead>\n    <tr style=\"text-align: right;\">\n      <th></th>\n      <th>WTMP_41117</th>\n      <th>WTMP_41117_pred</th>\n    </tr>\n    <tr>\n      <th>timestamp</th>\n      <th></th>\n      <th></th>\n    </tr>\n  </thead>\n  <tbody>\n    <tr>\n      <th>2022-12-25 00:00:00</th>\n      <td>17.4</td>\n      <td>17.547908</td>\n    </tr>\n    <tr>\n      <th>2022-12-25 01:00:00</th>\n      <td>17.4</td>\n      <td>17.695069</td>\n    </tr>\n    <tr>\n      <th>2022-12-25 02:00:00</th>\n      <td>17.4</td>\n      <td>17.841962</td>\n    </tr>\n    <tr>\n      <th>2022-12-25 03:00:00</th>\n      <td>17.4</td>\n      <td>17.988759</td>\n    </tr>\n    <tr>\n      <th>2022-12-25 04:00:00</th>\n      <td>17.4</td>\n      <td>18.135521</td>\n    </tr>\n    <tr>\n      <th>...</th>\n      <td>...</td>\n      <td>...</td>\n    </tr>\n    <tr>\n      <th>2022-12-31 19:00:00</th>\n      <td>17.4</td>\n      <td>41.467775</td>\n    </tr>\n    <tr>\n      <th>2022-12-31 20:00:00</th>\n      <td>17.4</td>\n      <td>41.614518</td>\n    </tr>\n    <tr>\n      <th>2022-12-31 21:00:00</th>\n      <td>17.4</td>\n      <td>41.761262</td>\n    </tr>\n    <tr>\n      <th>2022-12-31 22:00:00</th>\n      <td>17.4</td>\n      <td>41.908006</td>\n    </tr>\n    <tr>\n      <th>2022-12-31 23:00:00</th>\n      <td>17.3</td>\n      <td>42.054749</td>\n    </tr>\n  </tbody>\n</table>\n<p>168 rows × 2 columns</p>\n</div>"
     },
     "execution_count": 41,
     "metadata": {},
     "output_type": "execute_result"
    }
   ],
   "source": [
    "#Reverse differenciate\n",
    "first_row = data.iloc[-len(yhat)-1]\n",
    "\n",
    "yhat = prediction_2[[name + \"_pred\" for name in output_cols]].values\n",
    "yhat_unscaled = mL.invert_scaling(yhat, SCALER)\n",
    "yhat_true_value = mL.stationary_to_data(yhat_unscaled, first_row)\n",
    "\n",
    "yhat_true_value_df = pd.DataFrame(yhat_true_value, columns=[name + \"_pred\" for name in output_cols])\n",
    "yhat_true_value_df.set_index(data.tail(len(yhat)).index, inplace=True)\n",
    "\n",
    "true_value = data.tail(len(yhat)+1).copy()\n",
    "\n",
    "evaluation_2 = pd.concat([true_value, yhat_true_value_df], axis=1)\n",
    "evaluation_2 = evaluation_2.iloc[STATIONARY_SHIFT:]\n",
    "evaluation_2"
   ],
   "metadata": {
    "collapsed": false,
    "pycharm": {
     "name": "#%%\n"
    }
   }
  },
  {
   "cell_type": "code",
   "execution_count": 42,
   "outputs": [
    {
     "name": "stdout",
     "output_type": "stream",
     "text": [
      "MAE:  12.90402829231744\n",
      "MSE:  215.32783073471515\n"
     ]
    }
   ],
   "source": [
    "wtmp_true = [col for col in evaluation_2.columns if col.startswith(\"WTMP\")][0]\n",
    "\n",
    "mae_2 = mean_absolute_error(evaluation_2[wtmp_true], evaluation_2[f\"{wtmp_true}_pred\"])\n",
    "mse_2 = mean_squared_error(evaluation_2[wtmp_true], evaluation_2[f\"{wtmp_true}_pred\"])\n",
    "print('MAE: ', mae_2)\n",
    "print('MSE: ', mse_2)"
   ],
   "metadata": {
    "collapsed": false,
    "pycharm": {
     "name": "#%%\n"
    }
   }
  },
  {
   "cell_type": "code",
   "execution_count": 43,
   "outputs": [
    {
     "data": {
      "text/plain": "<AxesSubplot:xlabel='timestamp'>"
     },
     "execution_count": 43,
     "metadata": {},
     "output_type": "execute_result"
    },
    {
     "data": {
      "text/plain": "<Figure size 640x480 with 1 Axes>",
      "image/png": "[encoded data removed]"
     },
     "metadata": {},
     "output_type": "display_data"
    }
   ],
   "source": [
    "evaluation_2.plot(kind='line')"
   ],
   "metadata": {
    "collapsed": false,
    "pycharm": {
     "name": "#%%\n"
    }
   }
  },
  {
   "cell_type": "markdown",
   "source": [
    "# SAVE"
   ],
   "metadata": {
    "collapsed": false,
    "pycharm": {
     "name": "#%% md\n"
    }
   }
  },
  {
   "cell_type": "code",
   "execution_count": 44,
   "outputs": [
    {
     "name": "stdout",
     "output_type": "stream",
     "text": [
      "Keras weights file (<HDF5 file \"variables.h5\" (mode r+)>) saving:\n",
      "...layers\n",
      "......dense\n",
      ".........vars\n",
      "............0\n",
      "............1\n",
      "......lstm\n",
      ".........cell\n",
      "............vars\n",
      "...............0\n",
      "...............1\n",
      "...............2\n",
      ".........vars\n",
      "...metrics\n",
      "......mean\n",
      ".........vars\n",
      "............0\n",
      "............1\n",
      "...optimizer\n",
      "......vars\n",
      ".........0\n",
      ".........1\n",
      ".........10\n",
      ".........2\n",
      ".........3\n",
      ".........4\n",
      ".........5\n",
      ".........6\n",
      ".........7\n",
      ".........8\n",
      ".........9\n",
      "...vars\n",
      "Keras model archive saving:\n",
      "File Name                                             Modified             Size\n",
      "config.json                                    2023-04-28 17:04:52         1800\n",
      "metadata.json                                  2023-04-28 17:04:52           64\n",
      "variables.h5                                   2023-04-28 17:04:52       145576\n"
     ]
    }
   ],
   "source": [
    "#Save Data About executed Test:\n",
    "\n",
    "# Pickle file\n",
    "\n",
    "report = Experiment(\n",
    "    name=\"Baseline\",\n",
    "    description=\"Random station, single year test, standard settings\",\n",
    "\n",
    "    stations = STATIONS,\n",
    "    years = YEARS,\n",
    "    nan_threshold=NAN_THRESHOLD,\n",
    "    features=FEATURES,\n",
    "    era5=ERA5,\n",
    "    stationary_shift=STATIONARY_SHIFT,\n",
    "    lag=LAG,\n",
    "    n_test_hours=N_TEST_HOURS,\n",
    "\n",
    "    stationary=STATIONARY,\n",
    "    scaler=SCALER,\n",
    "\n",
    "    model_name = MODEL_NAME,\n",
    "    model=model,\n",
    "\n",
    "    one_shot_forecast = evaluation_1,\n",
    "    recursive_forecast = evaluation_2\n",
    ")\n",
    "\n",
    "\n",
    "# open a file for writing in binary mode\n",
    "with open(f'Reports/{report.name}.pickle', 'wb') as f:\n",
    "    # write the object to the file using pickle.dump()\n",
    "    pickle.dump(report, f)"
   ],
   "metadata": {
    "collapsed": false,
    "pycharm": {
     "name": "#%%\n"
    }
   }
  },
  {
   "cell_type": "code",
   "execution_count": 82,
   "outputs": [],
   "source": [],
   "metadata": {
    "collapsed": false,
    "pycharm": {
     "name": "#%%\n"
    }
   }
  },
  {
   "cell_type": "code",
   "execution_count": null,
   "outputs": [],
   "source": [],
   "metadata": {
    "collapsed": false,
    "pycharm": {
     "name": "#%%\n"
    }
   }
  }
 ],
 "metadata": {
  "kernelspec": {
   "display_name": "Python 3",
   "language": "python",
   "name": "python3"
  },
  "language_info": {
   "codemirror_mode": {
    "name": "ipython",
    "version": 2
   },
   "file_extension": ".py",
   "mimetype": "text/x-python",
   "name": "python",
   "nbconvert_exporter": "python",
   "pygments_lexer": "ipython2",
   "version": "2.7.6"
  }
 },
 "nbformat": 4,
 "nbformat_minor": 0
}