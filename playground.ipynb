{
 "cells": [
  {
   "cell_type": "markdown",
   "metadata": {
    "pycharm": {
     "name": "#%% md\n"
    }
   },
   "source": [
    "# TEST PLAYGROUND"
   ]
  },
  {
   "cell_type": "code",
   "execution_count": 230,
   "outputs": [],
   "source": [
    "import pickle\n",
    "import myLibrary as mL\n",
    "import pandas as pd\n",
    "import numpy as np\n",
    "\n",
    "from numpy import array\n",
    "from numpy import hstack\n",
    "from keras.models import Sequential\n",
    "from keras.layers import Dense\n",
    "from keras.layers import Flatten\n",
    "from keras.layers.convolutional import Conv1D\n",
    "from keras.layers.convolutional import MaxPooling1D\n",
    "\n",
    "DP = mL.DataProcessor"
   ],
   "metadata": {
    "collapsed": false,
    "pycharm": {
     "name": "#%%\n"
    }
   }
  },
  {
   "cell_type": "code",
   "execution_count": 231,
   "outputs": [],
   "source": [
    "DATAFILE = \"GOM_2_A.pickle\"\n",
    "n_steps = 3 #is 3 in example .."
   ],
   "metadata": {
    "collapsed": false,
    "pycharm": {
     "name": "#%%\n"
    }
   }
  },
  {
   "cell_type": "code",
   "execution_count": 232,
   "outputs": [
    {
     "data": {
      "text/plain": "                     WDIR_42012  WSPD_42012  PRES_42012  ATMP_42012  \\\ntimestamp                                                             \n2020-01-01 00:00:00       294.0         5.1      1019.9        14.5   \n2020-01-01 01:00:00       292.0         4.7      1020.2        14.7   \n2020-01-01 02:00:00       292.0         4.2      1020.6        14.8   \n2020-01-01 03:00:00       288.0         4.2      1020.7        15.0   \n2020-01-01 04:00:00       300.0         4.6      1020.4        15.0   \n...                         ...         ...         ...         ...   \n2022-12-31 19:00:00       234.0         1.4      1016.0        18.8   \n2022-12-31 20:00:00       190.0         2.5      1015.7        19.3   \n2022-12-31 21:00:00       213.0         3.2      1016.0        19.9   \n2022-12-31 22:00:00       207.0         2.2      1015.9        20.1   \n2022-12-31 23:00:00       201.0         3.1      1016.1        20.4   \n\n                     WTMP_42012  DEWP_42012  WDIR_42040  WSPD_42040  \\\ntimestamp                                                             \n2020-01-01 00:00:00        19.1         5.2       297.0         3.9   \n2020-01-01 01:00:00        19.1         5.3       306.0         3.6   \n2020-01-01 02:00:00        19.0         6.2       314.0         3.5   \n2020-01-01 03:00:00        18.9         6.7       340.0         3.3   \n2020-01-01 04:00:00        18.8         7.1       296.0         2.8   \n...                         ...         ...         ...         ...   \n2022-12-31 19:00:00        20.6        17.6       262.0         2.7   \n2022-12-31 20:00:00        20.7        18.0       262.0         2.7   \n2022-12-31 21:00:00        20.9        18.3       262.0         1.9   \n2022-12-31 22:00:00        20.8        18.8       262.0         3.1   \n2022-12-31 23:00:00        20.8        19.2       262.0         2.4   \n\n                     PRES_42040  ATMP_42040  ...  WDIR_42003  WSPD_42003  \\\ntimestamp                                    ...                           \n2020-01-01 00:00:00      1020.5        15.3  ...        35.0         5.7   \n2020-01-01 01:00:00      1021.0        15.5  ...        44.0         5.4   \n2020-01-01 02:00:00      1021.1        15.9  ...        47.0         5.4   \n2020-01-01 03:00:00      1021.2        16.1  ...        35.0         4.5   \n2020-01-01 04:00:00      1021.2        16.1  ...        39.0         4.3   \n...                         ...         ...  ...         ...         ...   \n2022-12-31 19:00:00      1016.6        21.6  ...        54.0         3.4   \n2022-12-31 20:00:00      1016.3        21.5  ...        54.0         3.4   \n2022-12-31 21:00:00      1016.4        21.6  ...        54.0         3.4   \n2022-12-31 22:00:00      1016.6        21.5  ...        54.0         3.4   \n2022-12-31 23:00:00      1016.9        21.3  ...        54.0         3.4   \n\n                     PRES_42003  WTMP_42003  WDIR_42055  WSPD_42055  \\\ntimestamp                                                             \n2020-01-01 00:00:00      1019.3        26.8       101.0         4.6   \n2020-01-01 01:00:00      1019.5        26.9       101.0         4.6   \n2020-01-01 02:00:00      1019.6        26.9       101.0         4.6   \n2020-01-01 03:00:00      1020.3        26.9       101.0         4.6   \n2020-01-01 04:00:00      1020.2        26.9       101.0         4.6   \n...                         ...         ...         ...         ...   \n2022-12-31 19:00:00      1012.1        29.4       108.0         2.4   \n2022-12-31 20:00:00      1012.1        29.4       114.0         2.0   \n2022-12-31 21:00:00      1012.1        29.4       110.0         2.5   \n2022-12-31 22:00:00      1012.1        29.4       115.0         3.1   \n2022-12-31 23:00:00      1012.1        29.4       114.0         3.5   \n\n                     PRES_42055  ATMP_42055  WTMP_42055  DEWP_42055  \ntimestamp                                                            \n2020-01-01 00:00:00      1011.8        25.6        26.4        23.7  \n2020-01-01 01:00:00      1011.8        25.6        26.4        23.7  \n2020-01-01 02:00:00      1011.8        25.6        26.4        23.7  \n2020-01-01 03:00:00      1011.8        25.6        26.4        23.7  \n2020-01-01 04:00:00      1011.8        25.6        26.4        23.7  \n...                         ...         ...         ...         ...  \n2022-12-31 19:00:00      1016.3        30.0        25.7        25.9  \n2022-12-31 20:00:00      1016.0        30.0        25.8        25.9  \n2022-12-31 21:00:00      1015.5        30.0        25.8        25.9  \n2022-12-31 22:00:00      1015.6        30.0        26.0        25.9  \n2022-12-31 23:00:00      1015.9        30.0        25.9        25.9  \n\n[26304 rows x 55 columns]",
      "text/html": "<div>\n<style scoped>\n    .dataframe tbody tr th:only-of-type {\n        vertical-align: middle;\n    }\n\n    .dataframe tbody tr th {\n        vertical-align: top;\n    }\n\n    .dataframe thead th {\n        text-align: right;\n    }\n</style>\n<table border=\"1\" class=\"dataframe\">\n  <thead>\n    <tr style=\"text-align: right;\">\n      <th></th>\n      <th>WDIR_42012</th>\n      <th>WSPD_42012</th>\n      <th>PRES_42012</th>\n      <th>ATMP_42012</th>\n      <th>WTMP_42012</th>\n      <th>DEWP_42012</th>\n      <th>WDIR_42040</th>\n      <th>WSPD_42040</th>\n      <th>PRES_42040</th>\n      <th>ATMP_42040</th>\n      <th>...</th>\n      <th>WDIR_42003</th>\n      <th>WSPD_42003</th>\n      <th>PRES_42003</th>\n      <th>WTMP_42003</th>\n      <th>WDIR_42055</th>\n      <th>WSPD_42055</th>\n      <th>PRES_42055</th>\n      <th>ATMP_42055</th>\n      <th>WTMP_42055</th>\n      <th>DEWP_42055</th>\n    </tr>\n    <tr>\n      <th>timestamp</th>\n      <th></th>\n      <th></th>\n      <th></th>\n      <th></th>\n      <th></th>\n      <th></th>\n      <th></th>\n      <th></th>\n      <th></th>\n      <th></th>\n      <th></th>\n      <th></th>\n      <th></th>\n      <th></th>\n      <th></th>\n      <th></th>\n      <th></th>\n      <th></th>\n      <th></th>\n      <th></th>\n      <th></th>\n    </tr>\n  </thead>\n  <tbody>\n    <tr>\n      <th>2020-01-01 00:00:00</th>\n      <td>294.0</td>\n      <td>5.1</td>\n      <td>1019.9</td>\n      <td>14.5</td>\n      <td>19.1</td>\n      <td>5.2</td>\n      <td>297.0</td>\n      <td>3.9</td>\n      <td>1020.5</td>\n      <td>15.3</td>\n      <td>...</td>\n      <td>35.0</td>\n      <td>5.7</td>\n      <td>1019.3</td>\n      <td>26.8</td>\n      <td>101.0</td>\n      <td>4.6</td>\n      <td>1011.8</td>\n      <td>25.6</td>\n      <td>26.4</td>\n      <td>23.7</td>\n    </tr>\n    <tr>\n      <th>2020-01-01 01:00:00</th>\n      <td>292.0</td>\n      <td>4.7</td>\n      <td>1020.2</td>\n      <td>14.7</td>\n      <td>19.1</td>\n      <td>5.3</td>\n      <td>306.0</td>\n      <td>3.6</td>\n      <td>1021.0</td>\n      <td>15.5</td>\n      <td>...</td>\n      <td>44.0</td>\n      <td>5.4</td>\n      <td>1019.5</td>\n      <td>26.9</td>\n      <td>101.0</td>\n      <td>4.6</td>\n      <td>1011.8</td>\n      <td>25.6</td>\n      <td>26.4</td>\n      <td>23.7</td>\n    </tr>\n    <tr>\n      <th>2020-01-01 02:00:00</th>\n      <td>292.0</td>\n      <td>4.2</td>\n      <td>1020.6</td>\n      <td>14.8</td>\n      <td>19.0</td>\n      <td>6.2</td>\n      <td>314.0</td>\n      <td>3.5</td>\n      <td>1021.1</td>\n      <td>15.9</td>\n      <td>...</td>\n      <td>47.0</td>\n      <td>5.4</td>\n      <td>1019.6</td>\n      <td>26.9</td>\n      <td>101.0</td>\n      <td>4.6</td>\n      <td>1011.8</td>\n      <td>25.6</td>\n      <td>26.4</td>\n      <td>23.7</td>\n    </tr>\n    <tr>\n      <th>2020-01-01 03:00:00</th>\n      <td>288.0</td>\n      <td>4.2</td>\n      <td>1020.7</td>\n      <td>15.0</td>\n      <td>18.9</td>\n      <td>6.7</td>\n      <td>340.0</td>\n      <td>3.3</td>\n      <td>1021.2</td>\n      <td>16.1</td>\n      <td>...</td>\n      <td>35.0</td>\n      <td>4.5</td>\n      <td>1020.3</td>\n      <td>26.9</td>\n      <td>101.0</td>\n      <td>4.6</td>\n      <td>1011.8</td>\n      <td>25.6</td>\n      <td>26.4</td>\n      <td>23.7</td>\n    </tr>\n    <tr>\n      <th>2020-01-01 04:00:00</th>\n      <td>300.0</td>\n      <td>4.6</td>\n      <td>1020.4</td>\n      <td>15.0</td>\n      <td>18.8</td>\n      <td>7.1</td>\n      <td>296.0</td>\n      <td>2.8</td>\n      <td>1021.2</td>\n      <td>16.1</td>\n      <td>...</td>\n      <td>39.0</td>\n      <td>4.3</td>\n      <td>1020.2</td>\n      <td>26.9</td>\n      <td>101.0</td>\n      <td>4.6</td>\n      <td>1011.8</td>\n      <td>25.6</td>\n      <td>26.4</td>\n      <td>23.7</td>\n    </tr>\n    <tr>\n      <th>...</th>\n      <td>...</td>\n      <td>...</td>\n      <td>...</td>\n      <td>...</td>\n      <td>...</td>\n      <td>...</td>\n      <td>...</td>\n      <td>...</td>\n      <td>...</td>\n      <td>...</td>\n      <td>...</td>\n      <td>...</td>\n      <td>...</td>\n      <td>...</td>\n      <td>...</td>\n      <td>...</td>\n      <td>...</td>\n      <td>...</td>\n      <td>...</td>\n      <td>...</td>\n      <td>...</td>\n    </tr>\n    <tr>\n      <th>2022-12-31 19:00:00</th>\n      <td>234.0</td>\n      <td>1.4</td>\n      <td>1016.0</td>\n      <td>18.8</td>\n      <td>20.6</td>\n      <td>17.6</td>\n      <td>262.0</td>\n      <td>2.7</td>\n      <td>1016.6</td>\n      <td>21.6</td>\n      <td>...</td>\n      <td>54.0</td>\n      <td>3.4</td>\n      <td>1012.1</td>\n      <td>29.4</td>\n      <td>108.0</td>\n      <td>2.4</td>\n      <td>1016.3</td>\n      <td>30.0</td>\n      <td>25.7</td>\n      <td>25.9</td>\n    </tr>\n    <tr>\n      <th>2022-12-31 20:00:00</th>\n      <td>190.0</td>\n      <td>2.5</td>\n      <td>1015.7</td>\n      <td>19.3</td>\n      <td>20.7</td>\n      <td>18.0</td>\n      <td>262.0</td>\n      <td>2.7</td>\n      <td>1016.3</td>\n      <td>21.5</td>\n      <td>...</td>\n      <td>54.0</td>\n      <td>3.4</td>\n      <td>1012.1</td>\n      <td>29.4</td>\n      <td>114.0</td>\n      <td>2.0</td>\n      <td>1016.0</td>\n      <td>30.0</td>\n      <td>25.8</td>\n      <td>25.9</td>\n    </tr>\n    <tr>\n      <th>2022-12-31 21:00:00</th>\n      <td>213.0</td>\n      <td>3.2</td>\n      <td>1016.0</td>\n      <td>19.9</td>\n      <td>20.9</td>\n      <td>18.3</td>\n      <td>262.0</td>\n      <td>1.9</td>\n      <td>1016.4</td>\n      <td>21.6</td>\n      <td>...</td>\n      <td>54.0</td>\n      <td>3.4</td>\n      <td>1012.1</td>\n      <td>29.4</td>\n      <td>110.0</td>\n      <td>2.5</td>\n      <td>1015.5</td>\n      <td>30.0</td>\n      <td>25.8</td>\n      <td>25.9</td>\n    </tr>\n    <tr>\n      <th>2022-12-31 22:00:00</th>\n      <td>207.0</td>\n      <td>2.2</td>\n      <td>1015.9</td>\n      <td>20.1</td>\n      <td>20.8</td>\n      <td>18.8</td>\n      <td>262.0</td>\n      <td>3.1</td>\n      <td>1016.6</td>\n      <td>21.5</td>\n      <td>...</td>\n      <td>54.0</td>\n      <td>3.4</td>\n      <td>1012.1</td>\n      <td>29.4</td>\n      <td>115.0</td>\n      <td>3.1</td>\n      <td>1015.6</td>\n      <td>30.0</td>\n      <td>26.0</td>\n      <td>25.9</td>\n    </tr>\n    <tr>\n      <th>2022-12-31 23:00:00</th>\n      <td>201.0</td>\n      <td>3.1</td>\n      <td>1016.1</td>\n      <td>20.4</td>\n      <td>20.8</td>\n      <td>19.2</td>\n      <td>262.0</td>\n      <td>2.4</td>\n      <td>1016.9</td>\n      <td>21.3</td>\n      <td>...</td>\n      <td>54.0</td>\n      <td>3.4</td>\n      <td>1012.1</td>\n      <td>29.4</td>\n      <td>114.0</td>\n      <td>3.5</td>\n      <td>1015.9</td>\n      <td>30.0</td>\n      <td>25.9</td>\n      <td>25.9</td>\n    </tr>\n  </tbody>\n</table>\n<p>26304 rows × 55 columns</p>\n</div>"
     },
     "execution_count": 232,
     "metadata": {},
     "output_type": "execute_result"
    }
   ],
   "source": [
    "with open(f'data/datasets/type_A/{DATAFILE}', 'rb') as f:\n",
    "    # load the object from the file using pickle.load()\n",
    "    dataset = pickle.load(f)\n",
    "\n",
    "data = dataset[\"data\"]\n",
    "data"
   ],
   "metadata": {
    "collapsed": false,
    "pycharm": {
     "name": "#%%\n"
    }
   }
  },
  {
   "cell_type": "markdown",
   "source": [
    "# Test Data"
   ],
   "metadata": {
    "collapsed": false,
    "pycharm": {
     "name": "#%% md\n"
    }
   }
  },
  {
   "cell_type": "code",
   "execution_count": 233,
   "outputs": [
    {
     "data": {
      "text/plain": "                     WDIR_1  WSPD_2  WDIR_3  WSPD_4\n2020-01-01 01:00:00       1       2       3       4\n2020-01-01 02:00:00       5       6       7       8\n2020-01-01 03:00:00       9      10      11      12\n2020-01-01 04:00:00      13      14      15      16\n2020-01-01 05:00:00      17      18      19      20\n2020-01-01 06:00:00      21      22      23      24\n2020-01-01 07:00:00      25      26      27      28\n2020-01-01 08:00:00      29      30      31      32\n2020-01-01 09:00:00      33      34      35      36\n2020-01-01 10:00:00      37      38      39      40",
      "text/html": "<div>\n<style scoped>\n    .dataframe tbody tr th:only-of-type {\n        vertical-align: middle;\n    }\n\n    .dataframe tbody tr th {\n        vertical-align: top;\n    }\n\n    .dataframe thead th {\n        text-align: right;\n    }\n</style>\n<table border=\"1\" class=\"dataframe\">\n  <thead>\n    <tr style=\"text-align: right;\">\n      <th></th>\n      <th>WDIR_1</th>\n      <th>WSPD_2</th>\n      <th>WDIR_3</th>\n      <th>WSPD_4</th>\n    </tr>\n  </thead>\n  <tbody>\n    <tr>\n      <th>2020-01-01 01:00:00</th>\n      <td>1</td>\n      <td>2</td>\n      <td>3</td>\n      <td>4</td>\n    </tr>\n    <tr>\n      <th>2020-01-01 02:00:00</th>\n      <td>5</td>\n      <td>6</td>\n      <td>7</td>\n      <td>8</td>\n    </tr>\n    <tr>\n      <th>2020-01-01 03:00:00</th>\n      <td>9</td>\n      <td>10</td>\n      <td>11</td>\n      <td>12</td>\n    </tr>\n    <tr>\n      <th>2020-01-01 04:00:00</th>\n      <td>13</td>\n      <td>14</td>\n      <td>15</td>\n      <td>16</td>\n    </tr>\n    <tr>\n      <th>2020-01-01 05:00:00</th>\n      <td>17</td>\n      <td>18</td>\n      <td>19</td>\n      <td>20</td>\n    </tr>\n    <tr>\n      <th>2020-01-01 06:00:00</th>\n      <td>21</td>\n      <td>22</td>\n      <td>23</td>\n      <td>24</td>\n    </tr>\n    <tr>\n      <th>2020-01-01 07:00:00</th>\n      <td>25</td>\n      <td>26</td>\n      <td>27</td>\n      <td>28</td>\n    </tr>\n    <tr>\n      <th>2020-01-01 08:00:00</th>\n      <td>29</td>\n      <td>30</td>\n      <td>31</td>\n      <td>32</td>\n    </tr>\n    <tr>\n      <th>2020-01-01 09:00:00</th>\n      <td>33</td>\n      <td>34</td>\n      <td>35</td>\n      <td>36</td>\n    </tr>\n    <tr>\n      <th>2020-01-01 10:00:00</th>\n      <td>37</td>\n      <td>38</td>\n      <td>39</td>\n      <td>40</td>\n    </tr>\n  </tbody>\n</table>\n</div>"
     },
     "execution_count": 233,
     "metadata": {},
     "output_type": "execute_result"
    }
   ],
   "source": [
    "n = 10\n",
    "\n",
    "data = {}\n",
    "for col in range(1, 5):\n",
    "    key = f'WDIR_{col}' if col % 2 != 0 else f'WSPD_{col}'\n",
    "    data[key] = []\n",
    "\n",
    "    for row in range(1, n+1):\n",
    "        value = (row-1) * 4 + col\n",
    "        data[key].append(value)\n",
    "\n",
    "timestamps = pd.date_range(start='2020-01-01 01:00:00', periods=n, freq='H')\n",
    "data = pd.DataFrame(data, index=timestamps)\n",
    "data"
   ],
   "metadata": {
    "collapsed": false,
    "pycharm": {
     "name": "#%%\n"
    }
   }
  },
  {
   "cell_type": "code",
   "execution_count": 234,
   "outputs": [
    {
     "data": {
      "text/plain": "                     WDIR_1(t-3)  WSPD_2(t-3)  WDIR_3(t-3)  WSPD_4(t-3)  \\\n2020-01-01 04:00:00          1.0          2.0          3.0          4.0   \n2020-01-01 05:00:00          5.0          6.0          7.0          8.0   \n2020-01-01 06:00:00          9.0         10.0         11.0         12.0   \n2020-01-01 07:00:00         13.0         14.0         15.0         16.0   \n2020-01-01 08:00:00         17.0         18.0         19.0         20.0   \n2020-01-01 09:00:00         21.0         22.0         23.0         24.0   \n\n                     WDIR_1(t-2)  WSPD_2(t-2)  WDIR_3(t-2)  WSPD_4(t-2)  \\\n2020-01-01 04:00:00          5.0          6.0          7.0          8.0   \n2020-01-01 05:00:00          9.0         10.0         11.0         12.0   \n2020-01-01 06:00:00         13.0         14.0         15.0         16.0   \n2020-01-01 07:00:00         17.0         18.0         19.0         20.0   \n2020-01-01 08:00:00         21.0         22.0         23.0         24.0   \n2020-01-01 09:00:00         25.0         26.0         27.0         28.0   \n\n                     WDIR_1(t-1)  WSPD_2(t-1)  WDIR_3(t-1)  WSPD_4(t-1)  \\\n2020-01-01 04:00:00          9.0         10.0         11.0         12.0   \n2020-01-01 05:00:00         13.0         14.0         15.0         16.0   \n2020-01-01 06:00:00         17.0         18.0         19.0         20.0   \n2020-01-01 07:00:00         21.0         22.0         23.0         24.0   \n2020-01-01 08:00:00         25.0         26.0         27.0         28.0   \n2020-01-01 09:00:00         29.0         30.0         31.0         32.0   \n\n                     WDIR_1(t)  WSPD_2(t)  WDIR_3(t)  WSPD_4(t)  WDIR_1(t+1)  \\\n2020-01-01 04:00:00         13         14         15         16         17.0   \n2020-01-01 05:00:00         17         18         19         20         21.0   \n2020-01-01 06:00:00         21         22         23         24         25.0   \n2020-01-01 07:00:00         25         26         27         28         29.0   \n2020-01-01 08:00:00         29         30         31         32         33.0   \n2020-01-01 09:00:00         33         34         35         36         37.0   \n\n                     WSPD_2(t+1)  WDIR_3(t+1)  WSPD_4(t+1)  \n2020-01-01 04:00:00         18.0         19.0         20.0  \n2020-01-01 05:00:00         22.0         23.0         24.0  \n2020-01-01 06:00:00         26.0         27.0         28.0  \n2020-01-01 07:00:00         30.0         31.0         32.0  \n2020-01-01 08:00:00         34.0         35.0         36.0  \n2020-01-01 09:00:00         38.0         39.0         40.0  ",
      "text/html": "<div>\n<style scoped>\n    .dataframe tbody tr th:only-of-type {\n        vertical-align: middle;\n    }\n\n    .dataframe tbody tr th {\n        vertical-align: top;\n    }\n\n    .dataframe thead th {\n        text-align: right;\n    }\n</style>\n<table border=\"1\" class=\"dataframe\">\n  <thead>\n    <tr style=\"text-align: right;\">\n      <th></th>\n      <th>WDIR_1(t-3)</th>\n      <th>WSPD_2(t-3)</th>\n      <th>WDIR_3(t-3)</th>\n      <th>WSPD_4(t-3)</th>\n      <th>WDIR_1(t-2)</th>\n      <th>WSPD_2(t-2)</th>\n      <th>WDIR_3(t-2)</th>\n      <th>WSPD_4(t-2)</th>\n      <th>WDIR_1(t-1)</th>\n      <th>WSPD_2(t-1)</th>\n      <th>WDIR_3(t-1)</th>\n      <th>WSPD_4(t-1)</th>\n      <th>WDIR_1(t)</th>\n      <th>WSPD_2(t)</th>\n      <th>WDIR_3(t)</th>\n      <th>WSPD_4(t)</th>\n      <th>WDIR_1(t+1)</th>\n      <th>WSPD_2(t+1)</th>\n      <th>WDIR_3(t+1)</th>\n      <th>WSPD_4(t+1)</th>\n    </tr>\n  </thead>\n  <tbody>\n    <tr>\n      <th>2020-01-01 04:00:00</th>\n      <td>1.0</td>\n      <td>2.0</td>\n      <td>3.0</td>\n      <td>4.0</td>\n      <td>5.0</td>\n      <td>6.0</td>\n      <td>7.0</td>\n      <td>8.0</td>\n      <td>9.0</td>\n      <td>10.0</td>\n      <td>11.0</td>\n      <td>12.0</td>\n      <td>13</td>\n      <td>14</td>\n      <td>15</td>\n      <td>16</td>\n      <td>17.0</td>\n      <td>18.0</td>\n      <td>19.0</td>\n      <td>20.0</td>\n    </tr>\n    <tr>\n      <th>2020-01-01 05:00:00</th>\n      <td>5.0</td>\n      <td>6.0</td>\n      <td>7.0</td>\n      <td>8.0</td>\n      <td>9.0</td>\n      <td>10.0</td>\n      <td>11.0</td>\n      <td>12.0</td>\n      <td>13.0</td>\n      <td>14.0</td>\n      <td>15.0</td>\n      <td>16.0</td>\n      <td>17</td>\n      <td>18</td>\n      <td>19</td>\n      <td>20</td>\n      <td>21.0</td>\n      <td>22.0</td>\n      <td>23.0</td>\n      <td>24.0</td>\n    </tr>\n    <tr>\n      <th>2020-01-01 06:00:00</th>\n      <td>9.0</td>\n      <td>10.0</td>\n      <td>11.0</td>\n      <td>12.0</td>\n      <td>13.0</td>\n      <td>14.0</td>\n      <td>15.0</td>\n      <td>16.0</td>\n      <td>17.0</td>\n      <td>18.0</td>\n      <td>19.0</td>\n      <td>20.0</td>\n      <td>21</td>\n      <td>22</td>\n      <td>23</td>\n      <td>24</td>\n      <td>25.0</td>\n      <td>26.0</td>\n      <td>27.0</td>\n      <td>28.0</td>\n    </tr>\n    <tr>\n      <th>2020-01-01 07:00:00</th>\n      <td>13.0</td>\n      <td>14.0</td>\n      <td>15.0</td>\n      <td>16.0</td>\n      <td>17.0</td>\n      <td>18.0</td>\n      <td>19.0</td>\n      <td>20.0</td>\n      <td>21.0</td>\n      <td>22.0</td>\n      <td>23.0</td>\n      <td>24.0</td>\n      <td>25</td>\n      <td>26</td>\n      <td>27</td>\n      <td>28</td>\n      <td>29.0</td>\n      <td>30.0</td>\n      <td>31.0</td>\n      <td>32.0</td>\n    </tr>\n    <tr>\n      <th>2020-01-01 08:00:00</th>\n      <td>17.0</td>\n      <td>18.0</td>\n      <td>19.0</td>\n      <td>20.0</td>\n      <td>21.0</td>\n      <td>22.0</td>\n      <td>23.0</td>\n      <td>24.0</td>\n      <td>25.0</td>\n      <td>26.0</td>\n      <td>27.0</td>\n      <td>28.0</td>\n      <td>29</td>\n      <td>30</td>\n      <td>31</td>\n      <td>32</td>\n      <td>33.0</td>\n      <td>34.0</td>\n      <td>35.0</td>\n      <td>36.0</td>\n    </tr>\n    <tr>\n      <th>2020-01-01 09:00:00</th>\n      <td>21.0</td>\n      <td>22.0</td>\n      <td>23.0</td>\n      <td>24.0</td>\n      <td>25.0</td>\n      <td>26.0</td>\n      <td>27.0</td>\n      <td>28.0</td>\n      <td>29.0</td>\n      <td>30.0</td>\n      <td>31.0</td>\n      <td>32.0</td>\n      <td>33</td>\n      <td>34</td>\n      <td>35</td>\n      <td>36</td>\n      <td>37.0</td>\n      <td>38.0</td>\n      <td>39.0</td>\n      <td>40.0</td>\n    </tr>\n  </tbody>\n</table>\n</div>"
     },
     "execution_count": 234,
     "metadata": {},
     "output_type": "execute_result"
    }
   ],
   "source": [
    "data_supervised = DP.data_to_supervised(data, n_in=3, n_out=2)\n",
    "data_supervised"
   ],
   "metadata": {
    "collapsed": false,
    "pycharm": {
     "name": "#%%\n"
    }
   }
  },
  {
   "cell_type": "code",
   "execution_count": 235,
   "outputs": [
    {
     "data": {
      "text/plain": "Index(['WDIR_1(t-3)', 'WSPD_2(t-3)', 'WDIR_3(t-3)', 'WSPD_4(t-3)',\n       'WDIR_1(t-2)', 'WSPD_2(t-2)', 'WDIR_3(t-2)', 'WSPD_4(t-2)',\n       'WDIR_1(t-1)', 'WSPD_2(t-1)', 'WDIR_3(t-1)', 'WSPD_4(t-1)', 'WDIR_1(t)',\n       'WSPD_2(t)', 'WDIR_3(t)', 'WSPD_4(t)', 'WDIR_1(t+1)', 'WSPD_2(t+1)',\n       'WDIR_3(t+1)', 'WSPD_4(t+1)'],\n      dtype='object')"
     },
     "execution_count": 235,
     "metadata": {},
     "output_type": "execute_result"
    }
   ],
   "source": [
    "data_supervised.columns\n"
   ],
   "metadata": {
    "collapsed": false,
    "pycharm": {
     "name": "#%%\n"
    }
   }
  },
  {
   "cell_type": "code",
   "execution_count": 267,
   "outputs": [],
   "source": [
    "# Input:\n",
    "# Dataframe existing of columns that follow the following name convention:\n",
    "# input values are marked with suffix: t-n\n",
    "# output is marked with suffix: t or t+n\n",
    "# depending on the suffix, the data is seperated into input (X) and output (y)\n",
    "# Furthermore, the data is devided into train and test. The last n_test_hours rows represent the test set.\n",
    "# Return:\n",
    "#   train_X, test_X: numpy.array\n",
    "#   train_y, test_y: pd.Dataframe\n",
    "\n",
    "def train_test_split(data: pd.DataFrame, n_test_hours: int):\n",
    "    # split into train and test sets\n",
    "    train = data.head(-n_test_hours).values\n",
    "    test = data.tail(n_test_hours).values\n",
    "\n",
    "    # get indices of input and output columns\n",
    "    input_cols = [i for i in range(data.values.shape[1]) if 't-' in data.columns[i]]\n",
    "    output_cols = [i for i in range(data.values.shape[1]) if ('(t)' in data.columns[i]) or ('t+' in data.columns[i])]\n",
    "\n",
    "    # split into input and outputs\n",
    "    train_X, train_y = train[:, input_cols], train[:, output_cols]\n",
    "    test_X, test_y = test[:, input_cols], test[:, output_cols]\n",
    "\n",
    "    # reshape input to be 3D [samples, timesteps, features]\n",
    "    train_X = train_X.reshape((train_X.shape[0], 1, train_X.shape[1]))\n",
    "    test_X = test_X.reshape((test_X.shape[0], 1, test_X.shape[1]))\n",
    "\n",
    "    return train_X, train_y, test_X, test_y"
   ],
   "metadata": {
    "collapsed": false,
    "pycharm": {
     "name": "#%%\n"
    }
   }
  },
  {
   "cell_type": "code",
   "execution_count": 268,
   "outputs": [],
   "source": [
    "def train_test_split_2(data: pd.DataFrame, n_test_hours: int):\n",
    "\n",
    "    # Extract time options\n",
    "    input_cols, output_cols = [], []\n",
    "    for column_header in data.columns:\n",
    "        # Split the column header by '(' and ')' to extract the time option\n",
    "        time_option = column_header.split('(')[-1].split(')')[0]\n",
    "        time_option = f\"({time_option})\"\n",
    "        if '-' in time_option and time_option not in input_cols:\n",
    "            input_cols.append(time_option)\n",
    "        elif '-' not in time_option and time_option not in output_cols:\n",
    "                output_cols.append(time_option)\n",
    "\n",
    "    # split into train and test sets\n",
    "    train = data.head(-n_test_hours)\n",
    "    test = data.tail(n_test_hours)\n",
    "\n",
    "    #Create list of dataframes - one dataframe per time_stamp\n",
    "    df_train_X, df_test_X, df_train_y, df_test_y = [], [], [], []\n",
    "    for time_option in input_cols:\n",
    "        df_train_X.append(train.filter(like=time_option, axis=1))\n",
    "        df_test_X.append(test.filter(like=time_option, axis=1))\n",
    "\n",
    "    for time_option in output_cols:\n",
    "        df_train_y.append(train.filter(like=time_option, axis=1))\n",
    "        df_test_y.append(test.filter(like=time_option, axis=1))\n",
    "\n",
    "    # Get the dimensions\n",
    "    train_X_dims = (df_train_X[0].shape[0], # Number of rows\n",
    "                    len(df_train_X),        # Number of dataframes = number of timestamps\n",
    "                    df_train_X[0].shape[1]     # number of cols = number of features\n",
    "    )\n",
    "    test_X_dims = (df_test_X[0].shape[0], # Number of rows\n",
    "                    len(df_test_X),        # Number of dataframes = number of timestamps\n",
    "                    df_test_X[0].shape[1]     # number of cols = number of features\n",
    "    )\n",
    "    train_y_dims = (df_train_y[0].shape[0], # Number of rows\n",
    "                    len(df_train_y),        # Number of dataframes = number of timestamps\n",
    "                    df_train_y[0].shape[1]     # number of cols = number of features\n",
    "    )\n",
    "    test_y_dims = (df_test_y[0].shape[0], # Number of rows\n",
    "                    len(df_test_y),        # Number of dataframes = number of timestamps\n",
    "                    df_test_y[0].shape[1]     # number of cols = number of features\n",
    "    )\n",
    "\n",
    "    # Create a three-dimensional array filled with NaN\n",
    "    train_X = np.empty(train_X_dims)\n",
    "    test_X  = np.empty(test_X_dims)\n",
    "    train_y = np.empty(train_y_dims)\n",
    "    test_y  = np.empty(test_y_dims)\n",
    "    train_X.fill(np.nan)\n",
    "    test_X.fill(np.nan)\n",
    "    train_y.fill(np.nan)\n",
    "    test_y.fill(np.nan)\n",
    "\n",
    "    # Fill the array with data from dataframes\n",
    "    for i, df in enumerate(df_train_X):\n",
    "        train_X[:, i, :] = df.values\n",
    "    for i, df in enumerate(df_test_X):\n",
    "        test_X[:, i, :] = df.values\n",
    "    for i, df in enumerate(df_train_y):\n",
    "        train_y[:, i, :] = df.values\n",
    "    for i, df in enumerate(df_test_y):\n",
    "        test_y[:, i, :] = df.values\n",
    "\n",
    "    return train_X, train_y, test_X, test_y"
   ],
   "metadata": {
    "collapsed": false,
    "pycharm": {
     "name": "#%%\n"
    }
   }
  },
  {
   "cell_type": "markdown",
   "source": [
    "# STATUS:\n",
    "\n",
    "the 3 dimensional shape should be as expected now ...\n",
    "\n",
    "next goal:\n",
    "    train / test split\n",
    "    finalize this function\n",
    "    then continue with CNN issue ...\n",
    "\n",
    "\n"
   ],
   "metadata": {
    "collapsed": false,
    "pycharm": {
     "name": "#%% md\n"
    }
   }
  },
  {
   "cell_type": "code",
   "execution_count": 269,
   "outputs": [],
   "source": [
    "train_X, train_y, test_X, test_y = train_test_split(data_supervised, 5)"
   ],
   "metadata": {
    "collapsed": false,
    "pycharm": {
     "name": "#%%\n"
    }
   }
  },
  {
   "cell_type": "code",
   "execution_count": 270,
   "outputs": [
    {
     "name": "stdout",
     "output_type": "stream",
     "text": [
      "(1, 1, 12)\n"
     ]
    },
    {
     "data": {
      "text/plain": "array([[[ 1.,  2.,  3.,  4.,  5.,  6.,  7.,  8.,  9., 10., 11., 12.]]])"
     },
     "execution_count": 270,
     "metadata": {},
     "output_type": "execute_result"
    }
   ],
   "source": [
    "print(train_X.shape)\n",
    "train_X"
   ],
   "metadata": {
    "collapsed": false,
    "pycharm": {
     "name": "#%%\n"
    }
   }
  },
  {
   "cell_type": "code",
   "execution_count": 271,
   "outputs": [
    {
     "name": "stdout",
     "output_type": "stream",
     "text": [
      "(1, 8)\n"
     ]
    },
    {
     "data": {
      "text/plain": "array([[13., 14., 15., 16., 17., 18., 19., 20.]])"
     },
     "execution_count": 271,
     "metadata": {},
     "output_type": "execute_result"
    }
   ],
   "source": [
    "print(train_y.shape)\n",
    "train_y"
   ],
   "metadata": {
    "collapsed": false,
    "pycharm": {
     "name": "#%%\n"
    }
   }
  },
  {
   "cell_type": "code",
   "execution_count": 272,
   "outputs": [
    {
     "name": "stdout",
     "output_type": "stream",
     "text": [
      "(5, 1, 12)\n"
     ]
    },
    {
     "data": {
      "text/plain": "array([[[ 5.,  6.,  7.,  8.,  9., 10., 11., 12., 13., 14., 15., 16.]],\n\n       [[ 9., 10., 11., 12., 13., 14., 15., 16., 17., 18., 19., 20.]],\n\n       [[13., 14., 15., 16., 17., 18., 19., 20., 21., 22., 23., 24.]],\n\n       [[17., 18., 19., 20., 21., 22., 23., 24., 25., 26., 27., 28.]],\n\n       [[21., 22., 23., 24., 25., 26., 27., 28., 29., 30., 31., 32.]]])"
     },
     "execution_count": 272,
     "metadata": {},
     "output_type": "execute_result"
    }
   ],
   "source": [
    "print(test_X.shape)\n",
    "test_X"
   ],
   "metadata": {
    "collapsed": false,
    "pycharm": {
     "name": "#%%\n"
    }
   }
  },
  {
   "cell_type": "code",
   "execution_count": 273,
   "outputs": [
    {
     "name": "stdout",
     "output_type": "stream",
     "text": [
      "(5, 8)\n"
     ]
    },
    {
     "data": {
      "text/plain": "array([[17., 18., 19., 20., 21., 22., 23., 24.],\n       [21., 22., 23., 24., 25., 26., 27., 28.],\n       [25., 26., 27., 28., 29., 30., 31., 32.],\n       [29., 30., 31., 32., 33., 34., 35., 36.],\n       [33., 34., 35., 36., 37., 38., 39., 40.]])"
     },
     "execution_count": 273,
     "metadata": {},
     "output_type": "execute_result"
    }
   ],
   "source": [
    "print(test_y.shape)\n",
    "test_y"
   ],
   "metadata": {
    "collapsed": false,
    "pycharm": {
     "name": "#%%\n"
    }
   }
  },
  {
   "cell_type": "code",
   "execution_count": 143,
   "outputs": [],
   "source": [
    "# train_X_scaled, train_y_scaled, test_X_scaled, test_y_scaled, SCALER = DP.scale_data(train_X, train_y, test_X, test_y)"
   ],
   "metadata": {
    "collapsed": false,
    "pycharm": {
     "name": "#%%\n"
    }
   }
  },
  {
   "cell_type": "code",
   "execution_count": 144,
   "outputs": [
    {
     "data": {
      "text/plain": "(22, 12)"
     },
     "execution_count": 144,
     "metadata": {},
     "output_type": "execute_result"
    }
   ],
   "source": [
    "train_X.shape #Shouldn't it be (184053, 1, 312)"
   ],
   "metadata": {
    "collapsed": false,
    "pycharm": {
     "name": "#%%\n"
    }
   }
  },
  {
   "cell_type": "code",
   "execution_count": 260,
   "outputs": [],
   "source": [
    "# define model\n",
    "model = Sequential()\n",
    "model.add(Conv1D(filters=64, kernel_size=2, activation='relu', input_shape=(n_steps, train_X.shape[2])))\n",
    "model.add(MaxPooling1D(pool_size=2))\n",
    "model.add(Flatten())\n",
    "model.add(Dense(50, activation='relu'))\n",
    "model.add(Dense(1))\n",
    "model.compile(optimizer='adam', loss='mse')"
   ],
   "metadata": {
    "collapsed": false,
    "pycharm": {
     "name": "#%%\n"
    }
   }
  },
  {
   "cell_type": "code",
   "execution_count": 261,
   "outputs": [
    {
     "data": {
      "text/plain": "<keras.callbacks.History at 0x11f2236a0>"
     },
     "execution_count": 261,
     "metadata": {},
     "output_type": "execute_result"
    }
   ],
   "source": [
    "model.fit(train_X, train_y, epochs=1000, verbose=0)"
   ],
   "metadata": {
    "collapsed": false,
    "pycharm": {
     "name": "#%%\n"
    }
   }
  },
  {
   "cell_type": "code",
   "execution_count": 22,
   "outputs": [],
   "source": [
    "#model = mL.Models.get_model(\"CNN\", train_X, train_y, 0.0)\n",
    "#model.summary()"
   ],
   "metadata": {
    "collapsed": false,
    "pycharm": {
     "name": "#%%\n"
    }
   }
  },
  {
   "cell_type": "code",
   "execution_count": null,
   "outputs": [],
   "source": [],
   "metadata": {
    "collapsed": false,
    "pycharm": {
     "name": "#%%\n"
    }
   }
  }
 ],
 "metadata": {
  "kernelspec": {
   "display_name": "Python 3 (ipykernel)",
   "language": "python",
   "name": "python3"
  },
  "language_info": {
   "codemirror_mode": {
    "name": "ipython",
    "version": 3
   },
   "file_extension": ".py",
   "mimetype": "text/x-python",
   "name": "python",
   "nbconvert_exporter": "python",
   "pygments_lexer": "ipython3",
   "version": "3.8.15"
  }
 },
 "nbformat": 4,
 "nbformat_minor": 1
}