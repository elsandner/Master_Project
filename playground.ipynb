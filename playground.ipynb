{
 "cells": [
  {
   "cell_type": "markdown",
   "source": [
    "# TEST PLAYGROUND"
   ],
   "metadata": {
    "collapsed": false,
    "pycharm": {
     "name": "#%% md\n"
    }
   }
  },
  {
   "cell_type": "code",
   "execution_count": 48,
   "metadata": {
    "collapsed": true,
    "pycharm": {
     "name": "#%%\n"
    }
   },
   "outputs": [
    {
     "name": "stdout",
     "output_type": "stream",
     "text": [
      "40\n"
     ]
    },
    {
     "data": {
      "text/plain": "20"
     },
     "execution_count": 48,
     "metadata": {},
     "output_type": "execute_result"
    }
   ],
   "source": [
    "obs  = 20\n",
    "pred = 400\n",
    "pred = pred % 360\n",
    "print(pred)\n",
    "\n",
    "delta_a = (360 - obs + pred) % 360\n",
    "delta_b = (360 - pred + obs) % 360\n",
    "delta = min(delta_a, delta_b)\n",
    "delta"
   ]
  },
  {
   "cell_type": "code",
   "execution_count": 51,
   "outputs": [],
   "source": [
    "import pandas as pd"
   ],
   "metadata": {
    "collapsed": false,
    "pycharm": {
     "name": "#%%\n"
    }
   }
  },
  {
   "cell_type": "code",
   "execution_count": 79,
   "outputs": [],
   "source": [
    "def mean_absolute_error_WDIR(true_values, predictions):\n",
    "    # absolute_errors = abs(true_values - predictions)\n",
    "    delta_a = (360 - true_values + predictions) % 360\n",
    "    delta_b = (360 - predictions + true_values) % 360\n",
    "    absolute_errors = pd.Series([min(val1, val2) for val1, val2 in zip(delta_a, delta_b)])\n",
    "    mae = absolute_errors.mean()\n",
    "    return mae"
   ],
   "metadata": {
    "collapsed": false,
    "pycharm": {
     "name": "#%%\n"
    }
   }
  },
  {
   "cell_type": "code",
   "execution_count": 80,
   "outputs": [
    {
     "name": "stdout",
     "output_type": "stream",
     "text": [
      "Mean Absolute Error: 56.0\n"
     ]
    }
   ],
   "source": [
    "true_values = pd.Series([10, 350, 140,  80,  45])\n",
    "predictions = pd.Series([20,  10, 160, 270, 345])\n",
    "# Normal:                10, 340,  20, 190, 300     --> MAE = 172\n",
    "# Mod360:                10,  20,  20, 170,  60     --> MAE = 56\n",
    "\n",
    "\n",
    "\n",
    "mae = mean_absolute_error_WDIR(true_values, predictions)\n",
    "print(\"Mean Absolute Error:\", mae)"
   ],
   "metadata": {
    "collapsed": false,
    "pycharm": {
     "name": "#%%\n"
    }
   }
  },
  {
   "cell_type": "code",
   "execution_count": 57,
   "outputs": [
    {
     "data": {
      "text/plain": "172.0"
     },
     "execution_count": 57,
     "metadata": {},
     "output_type": "execute_result"
    }
   ],
   "source": [
    "#Control:\n",
    "from sklearn.metrics import mean_absolute_error, mean_squared_error\n",
    "mean_absolute_error(true_values, predictions)"
   ],
   "metadata": {
    "collapsed": false,
    "pycharm": {
     "name": "#%%\n"
    }
   }
  },
  {
   "cell_type": "markdown",
   "source": [
    "#MSE"
   ],
   "metadata": {
    "collapsed": false,
    "pycharm": {
     "name": "#%% md\n"
    }
   }
  },
  {
   "cell_type": "code",
   "execution_count": 84,
   "outputs": [],
   "source": [
    "def mean_square_error_WDIR(true_values, predictions):\n",
    "    absolute_errors = abs(true_values - predictions)\n",
    "    delta_a = (360 - true_values + predictions) % 360\n",
    "    delta_b = (360 - predictions + true_values) % 360\n",
    "    absolute_errors = pd.Series([min(val1, val2) for val1, val2 in zip(delta_a, delta_b)])\n",
    "\n",
    "    squared_error  = absolute_errors * absolute_errors\n",
    "    mse = squared_error.mean()\n",
    "    return mse"
   ],
   "metadata": {
    "collapsed": false,
    "pycharm": {
     "name": "#%%\n"
    }
   }
  },
  {
   "cell_type": "code",
   "execution_count": 85,
   "outputs": [
    {
     "name": "stdout",
     "output_type": "stream",
     "text": [
      "Mean Square Error: 6680.0\n"
     ]
    }
   ],
   "source": [
    "true_values = pd.Series([10, 350, 140,  80,  45])\n",
    "predictions = pd.Series([20,  10, 160, 270, 345])\n",
    "# Normal:                10, 340,  20, 190, 300     --> MSE = 172\n",
    "# Mod360:                10,  20,  20, 170,  60     --> MAE = 56\n",
    "\n",
    "\n",
    "\n",
    "mse = mean_square_error_WDIR(true_values, predictions)\n",
    "print(\"Mean Square Error:\", mse)"
   ],
   "metadata": {
    "collapsed": false,
    "pycharm": {
     "name": "#%%\n"
    }
   }
  },
  {
   "cell_type": "markdown",
   "source": [
    "---"
   ],
   "metadata": {
    "collapsed": false,
    "pycharm": {
     "name": "#%% md\n"
    }
   }
  },
  {
   "cell_type": "code",
   "execution_count": null,
   "outputs": [],
   "source": [],
   "metadata": {
    "collapsed": false,
    "pycharm": {
     "name": "#%%\n"
    }
   }
  },
  {
   "cell_type": "code",
   "execution_count": 59,
   "outputs": [
    {
     "data": {
      "text/plain": "100.0"
     },
     "execution_count": 59,
     "metadata": {},
     "output_type": "execute_result"
    }
   ],
   "source": [],
   "metadata": {
    "collapsed": false,
    "pycharm": {
     "name": "#%%\n"
    }
   }
  },
  {
   "cell_type": "markdown",
   "source": [
    "# This experiment shows that it does make sense to use MSE for wind direction !"
   ],
   "metadata": {
    "collapsed": false,
    "pycharm": {
     "name": "#%% md\n"
    }
   }
  },
  {
   "cell_type": "code",
   "execution_count": null,
   "outputs": [],
   "source": [],
   "metadata": {
    "collapsed": false,
    "pycharm": {
     "name": "#%%\n"
    }
   }
  }
 ],
 "metadata": {
  "kernelspec": {
   "display_name": "Python 3",
   "language": "python",
   "name": "python3"
  },
  "language_info": {
   "codemirror_mode": {
    "name": "ipython",
    "version": 2
   },
   "file_extension": ".py",
   "mimetype": "text/x-python",
   "name": "python",
   "nbconvert_exporter": "python",
   "pygments_lexer": "ipython2",
   "version": "2.7.6"
  }
 },
 "nbformat": 4,
 "nbformat_minor": 0
}