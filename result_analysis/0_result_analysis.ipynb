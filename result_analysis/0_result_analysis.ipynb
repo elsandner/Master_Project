{
 "cells": [
  {
   "cell_type": "code",
   "execution_count": 73,
   "metadata": {
    "collapsed": true,
    "pycharm": {
     "name": "#%%\n"
    }
   },
   "outputs": [],
   "source": [
    "import pandas as pd"
   ]
  },
  {
   "cell_type": "code",
   "execution_count": 74,
   "outputs": [
    {
     "data": {
      "text/plain": "    Architecture  Alpha  StationID   ATMP   DEWP   PRES      WDIR    WSPD  \\\n0           LSTM    0.0      42001  0.709  0.792  0.228  3980.978   2.724   \n1           LSTM    0.0      42002  0.100  0.004  0.237  1789.096   0.923   \n2           LSTM    0.0      42003  0.052  0.016  0.002     0.078   0.024   \n3           LSTM    0.0      42019  0.102  0.527  0.295     0.016   0.604   \n4           LSTM    0.0      42020  0.428  0.618  0.278  2372.501   0.746   \n..           ...    ...        ...    ...    ...    ...       ...     ...   \n391          TCN    1.0      42020  0.530  0.697  0.369  3690.938   0.653   \n392          TCN    1.0      42035  0.074  0.065  0.028    34.652   0.166   \n393          TCN    1.0      42036  0.230  0.775  0.548  1968.411   2.360   \n394          TCN    1.0      42039  1.076    NaN  0.683  4338.799  10.897   \n395          TCN    1.0      42040  0.386  0.219  0.561   608.712   2.346   \n\n      WTMP  \n0    0.013  \n1    0.001  \n2    0.004  \n3    0.019  \n4    0.235  \n..     ...  \n391  0.151  \n392  0.068  \n393    NaN  \n394  0.091  \n395  0.072  \n\n[396 rows x 9 columns]",
      "text/html": "<div>\n<style scoped>\n    .dataframe tbody tr th:only-of-type {\n        vertical-align: middle;\n    }\n\n    .dataframe tbody tr th {\n        vertical-align: top;\n    }\n\n    .dataframe thead th {\n        text-align: right;\n    }\n</style>\n<table border=\"1\" class=\"dataframe\">\n  <thead>\n    <tr style=\"text-align: right;\">\n      <th></th>\n      <th>Architecture</th>\n      <th>Alpha</th>\n      <th>StationID</th>\n      <th>ATMP</th>\n      <th>DEWP</th>\n      <th>PRES</th>\n      <th>WDIR</th>\n      <th>WSPD</th>\n      <th>WTMP</th>\n    </tr>\n  </thead>\n  <tbody>\n    <tr>\n      <th>0</th>\n      <td>LSTM</td>\n      <td>0.0</td>\n      <td>42001</td>\n      <td>0.709</td>\n      <td>0.792</td>\n      <td>0.228</td>\n      <td>3980.978</td>\n      <td>2.724</td>\n      <td>0.013</td>\n    </tr>\n    <tr>\n      <th>1</th>\n      <td>LSTM</td>\n      <td>0.0</td>\n      <td>42002</td>\n      <td>0.100</td>\n      <td>0.004</td>\n      <td>0.237</td>\n      <td>1789.096</td>\n      <td>0.923</td>\n      <td>0.001</td>\n    </tr>\n    <tr>\n      <th>2</th>\n      <td>LSTM</td>\n      <td>0.0</td>\n      <td>42003</td>\n      <td>0.052</td>\n      <td>0.016</td>\n      <td>0.002</td>\n      <td>0.078</td>\n      <td>0.024</td>\n      <td>0.004</td>\n    </tr>\n    <tr>\n      <th>3</th>\n      <td>LSTM</td>\n      <td>0.0</td>\n      <td>42019</td>\n      <td>0.102</td>\n      <td>0.527</td>\n      <td>0.295</td>\n      <td>0.016</td>\n      <td>0.604</td>\n      <td>0.019</td>\n    </tr>\n    <tr>\n      <th>4</th>\n      <td>LSTM</td>\n      <td>0.0</td>\n      <td>42020</td>\n      <td>0.428</td>\n      <td>0.618</td>\n      <td>0.278</td>\n      <td>2372.501</td>\n      <td>0.746</td>\n      <td>0.235</td>\n    </tr>\n    <tr>\n      <th>...</th>\n      <td>...</td>\n      <td>...</td>\n      <td>...</td>\n      <td>...</td>\n      <td>...</td>\n      <td>...</td>\n      <td>...</td>\n      <td>...</td>\n      <td>...</td>\n    </tr>\n    <tr>\n      <th>391</th>\n      <td>TCN</td>\n      <td>1.0</td>\n      <td>42020</td>\n      <td>0.530</td>\n      <td>0.697</td>\n      <td>0.369</td>\n      <td>3690.938</td>\n      <td>0.653</td>\n      <td>0.151</td>\n    </tr>\n    <tr>\n      <th>392</th>\n      <td>TCN</td>\n      <td>1.0</td>\n      <td>42035</td>\n      <td>0.074</td>\n      <td>0.065</td>\n      <td>0.028</td>\n      <td>34.652</td>\n      <td>0.166</td>\n      <td>0.068</td>\n    </tr>\n    <tr>\n      <th>393</th>\n      <td>TCN</td>\n      <td>1.0</td>\n      <td>42036</td>\n      <td>0.230</td>\n      <td>0.775</td>\n      <td>0.548</td>\n      <td>1968.411</td>\n      <td>2.360</td>\n      <td>NaN</td>\n    </tr>\n    <tr>\n      <th>394</th>\n      <td>TCN</td>\n      <td>1.0</td>\n      <td>42039</td>\n      <td>1.076</td>\n      <td>NaN</td>\n      <td>0.683</td>\n      <td>4338.799</td>\n      <td>10.897</td>\n      <td>0.091</td>\n    </tr>\n    <tr>\n      <th>395</th>\n      <td>TCN</td>\n      <td>1.0</td>\n      <td>42040</td>\n      <td>0.386</td>\n      <td>0.219</td>\n      <td>0.561</td>\n      <td>608.712</td>\n      <td>2.346</td>\n      <td>0.072</td>\n    </tr>\n  </tbody>\n</table>\n<p>396 rows × 9 columns</p>\n</div>"
     },
     "execution_count": 74,
     "metadata": {},
     "output_type": "execute_result"
    }
   ],
   "source": [
    "path = f\"files/MLM_MSE.csv\"\n",
    "df = pd.read_csv(path)\n",
    "cols_to_drop = [col for col in df.columns if '_ERA5' in col]\n",
    "df = df.drop(columns=cols_to_drop)\n",
    "df"
   ],
   "metadata": {
    "collapsed": false,
    "pycharm": {
     "name": "#%%\n"
    }
   }
  },
  {
   "cell_type": "code",
   "execution_count": 75,
   "outputs": [
    {
     "data": {
      "text/plain": "    Architecture  Alpha  StationID      ATMP      DEWP      PRES      WDIR  \\\n0           LSTM    0.0      42001     0.709     0.792     0.228  3980.978   \n1           LSTM    0.0      42002     0.100     0.004     0.237  1789.096   \n2           LSTM    0.0      42003     0.052     0.016     0.002     0.078   \n3           LSTM    0.0      42019     0.102     0.527     0.295     0.016   \n4           LSTM    0.0      42020     0.428     0.618     0.278  2372.501   \n5           LSTM    0.0      42035     0.014     0.008     0.013     0.045   \n6           LSTM    0.0      42036     0.226     0.751     0.529  1900.489   \n7           LSTM    0.0      42039     1.004       NaN     0.657  3411.863   \n8           LSTM    0.0      42040     0.341     0.090     0.491   290.089   \n99           GRU    0.0      42001     0.780     0.883     0.502  3986.589   \n100          GRU    0.0      42002     0.359     0.011     0.360  1806.199   \n101          GRU    0.0      42003     0.050     0.198     0.029     0.031   \n102          GRU    0.0      42019     1.041     0.529     0.393     0.190   \n103          GRU    0.0      42020     0.637     0.620     0.345  2376.584   \n104          GRU    0.0      42035     0.226     0.048     0.017     0.194   \n105          GRU    0.0      42036     0.787     1.048     0.526  1898.481   \n106          GRU    0.0      42039     1.231       NaN     0.695  3432.007   \n107          GRU    0.0      42040     0.287     0.102     0.989   281.659   \n198          CNN    0.0      42001  2960.411   117.493  4155.740  4525.042   \n199          CNN    0.0      42002  1412.668  1607.724   834.657  1953.468   \n200          CNN    0.0      42003   509.783   236.226   292.217   397.963   \n201          CNN    0.0      42019    56.879  1199.567    90.678   197.170   \n202          CNN    0.0      42020   891.975   576.451    78.340  2472.646   \n203          CNN    0.0      42035    97.402   838.534  2040.942   210.181   \n204          CNN    0.0      42036  4442.193    96.520   361.694  2784.988   \n205          CNN    0.0      42039   637.583       NaN    79.809  4484.961   \n206          CNN    0.0      42040   504.589   171.885   218.227  1141.311   \n297          TCN    0.0      42001  2960.411   117.493  4155.740  4525.042   \n298          TCN    0.0      42002  1412.668  1607.724   834.657  1953.468   \n299          TCN    0.0      42003   509.783   236.226   292.217   397.963   \n300          TCN    0.0      42019    56.879  1199.567    90.678   197.170   \n301          TCN    0.0      42020   891.975   576.451    78.340  2472.646   \n302          TCN    0.0      42035    97.402   838.534  2040.942   210.181   \n303          TCN    0.0      42036  4442.193    96.520   361.694  2784.988   \n304          TCN    0.0      42039   637.583       NaN    79.809  4484.961   \n305          TCN    0.0      42040   504.589   171.885   218.227  1141.311   \n\n         WSPD      WTMP  \n0       2.724     0.013  \n1       0.923     0.001  \n2       0.024     0.004  \n3       0.604     0.019  \n4       0.746     0.235  \n5       0.018     0.006  \n6       2.288       NaN  \n7       9.424     0.046  \n8       2.252     0.025  \n99      3.119     0.030  \n100     2.365     0.418  \n101     0.357     0.241  \n102     0.624     0.758  \n103     0.635     0.238  \n104     0.244     0.023  \n105     2.260       NaN  \n106     9.592     0.393  \n107     2.260     1.059  \n198   224.567   915.346  \n199   101.778   198.079  \n200   182.829   298.955  \n201    79.560  1022.541  \n202   838.244  1749.984  \n203    48.516   460.056  \n204  1446.758       NaN  \n205  1439.634  1419.373  \n206   536.800  2167.544  \n297   224.567   915.346  \n298   101.778   198.079  \n299   182.829   298.955  \n300    79.560  1022.541  \n301   838.244  1749.984  \n302    48.516   460.056  \n303  1446.758       NaN  \n304  1439.634  1419.373  \n305   536.800  2167.544  ",
      "text/html": "<div>\n<style scoped>\n    .dataframe tbody tr th:only-of-type {\n        vertical-align: middle;\n    }\n\n    .dataframe tbody tr th {\n        vertical-align: top;\n    }\n\n    .dataframe thead th {\n        text-align: right;\n    }\n</style>\n<table border=\"1\" class=\"dataframe\">\n  <thead>\n    <tr style=\"text-align: right;\">\n      <th></th>\n      <th>Architecture</th>\n      <th>Alpha</th>\n      <th>StationID</th>\n      <th>ATMP</th>\n      <th>DEWP</th>\n      <th>PRES</th>\n      <th>WDIR</th>\n      <th>WSPD</th>\n      <th>WTMP</th>\n    </tr>\n  </thead>\n  <tbody>\n    <tr>\n      <th>0</th>\n      <td>LSTM</td>\n      <td>0.0</td>\n      <td>42001</td>\n      <td>0.709</td>\n      <td>0.792</td>\n      <td>0.228</td>\n      <td>3980.978</td>\n      <td>2.724</td>\n      <td>0.013</td>\n    </tr>\n    <tr>\n      <th>1</th>\n      <td>LSTM</td>\n      <td>0.0</td>\n      <td>42002</td>\n      <td>0.100</td>\n      <td>0.004</td>\n      <td>0.237</td>\n      <td>1789.096</td>\n      <td>0.923</td>\n      <td>0.001</td>\n    </tr>\n    <tr>\n      <th>2</th>\n      <td>LSTM</td>\n      <td>0.0</td>\n      <td>42003</td>\n      <td>0.052</td>\n      <td>0.016</td>\n      <td>0.002</td>\n      <td>0.078</td>\n      <td>0.024</td>\n      <td>0.004</td>\n    </tr>\n    <tr>\n      <th>3</th>\n      <td>LSTM</td>\n      <td>0.0</td>\n      <td>42019</td>\n      <td>0.102</td>\n      <td>0.527</td>\n      <td>0.295</td>\n      <td>0.016</td>\n      <td>0.604</td>\n      <td>0.019</td>\n    </tr>\n    <tr>\n      <th>4</th>\n      <td>LSTM</td>\n      <td>0.0</td>\n      <td>42020</td>\n      <td>0.428</td>\n      <td>0.618</td>\n      <td>0.278</td>\n      <td>2372.501</td>\n      <td>0.746</td>\n      <td>0.235</td>\n    </tr>\n    <tr>\n      <th>5</th>\n      <td>LSTM</td>\n      <td>0.0</td>\n      <td>42035</td>\n      <td>0.014</td>\n      <td>0.008</td>\n      <td>0.013</td>\n      <td>0.045</td>\n      <td>0.018</td>\n      <td>0.006</td>\n    </tr>\n    <tr>\n      <th>6</th>\n      <td>LSTM</td>\n      <td>0.0</td>\n      <td>42036</td>\n      <td>0.226</td>\n      <td>0.751</td>\n      <td>0.529</td>\n      <td>1900.489</td>\n      <td>2.288</td>\n      <td>NaN</td>\n    </tr>\n    <tr>\n      <th>7</th>\n      <td>LSTM</td>\n      <td>0.0</td>\n      <td>42039</td>\n      <td>1.004</td>\n      <td>NaN</td>\n      <td>0.657</td>\n      <td>3411.863</td>\n      <td>9.424</td>\n      <td>0.046</td>\n    </tr>\n    <tr>\n      <th>8</th>\n      <td>LSTM</td>\n      <td>0.0</td>\n      <td>42040</td>\n      <td>0.341</td>\n      <td>0.090</td>\n      <td>0.491</td>\n      <td>290.089</td>\n      <td>2.252</td>\n      <td>0.025</td>\n    </tr>\n    <tr>\n      <th>99</th>\n      <td>GRU</td>\n      <td>0.0</td>\n      <td>42001</td>\n      <td>0.780</td>\n      <td>0.883</td>\n      <td>0.502</td>\n      <td>3986.589</td>\n      <td>3.119</td>\n      <td>0.030</td>\n    </tr>\n    <tr>\n      <th>100</th>\n      <td>GRU</td>\n      <td>0.0</td>\n      <td>42002</td>\n      <td>0.359</td>\n      <td>0.011</td>\n      <td>0.360</td>\n      <td>1806.199</td>\n      <td>2.365</td>\n      <td>0.418</td>\n    </tr>\n    <tr>\n      <th>101</th>\n      <td>GRU</td>\n      <td>0.0</td>\n      <td>42003</td>\n      <td>0.050</td>\n      <td>0.198</td>\n      <td>0.029</td>\n      <td>0.031</td>\n      <td>0.357</td>\n      <td>0.241</td>\n    </tr>\n    <tr>\n      <th>102</th>\n      <td>GRU</td>\n      <td>0.0</td>\n      <td>42019</td>\n      <td>1.041</td>\n      <td>0.529</td>\n      <td>0.393</td>\n      <td>0.190</td>\n      <td>0.624</td>\n      <td>0.758</td>\n    </tr>\n    <tr>\n      <th>103</th>\n      <td>GRU</td>\n      <td>0.0</td>\n      <td>42020</td>\n      <td>0.637</td>\n      <td>0.620</td>\n      <td>0.345</td>\n      <td>2376.584</td>\n      <td>0.635</td>\n      <td>0.238</td>\n    </tr>\n    <tr>\n      <th>104</th>\n      <td>GRU</td>\n      <td>0.0</td>\n      <td>42035</td>\n      <td>0.226</td>\n      <td>0.048</td>\n      <td>0.017</td>\n      <td>0.194</td>\n      <td>0.244</td>\n      <td>0.023</td>\n    </tr>\n    <tr>\n      <th>105</th>\n      <td>GRU</td>\n      <td>0.0</td>\n      <td>42036</td>\n      <td>0.787</td>\n      <td>1.048</td>\n      <td>0.526</td>\n      <td>1898.481</td>\n      <td>2.260</td>\n      <td>NaN</td>\n    </tr>\n    <tr>\n      <th>106</th>\n      <td>GRU</td>\n      <td>0.0</td>\n      <td>42039</td>\n      <td>1.231</td>\n      <td>NaN</td>\n      <td>0.695</td>\n      <td>3432.007</td>\n      <td>9.592</td>\n      <td>0.393</td>\n    </tr>\n    <tr>\n      <th>107</th>\n      <td>GRU</td>\n      <td>0.0</td>\n      <td>42040</td>\n      <td>0.287</td>\n      <td>0.102</td>\n      <td>0.989</td>\n      <td>281.659</td>\n      <td>2.260</td>\n      <td>1.059</td>\n    </tr>\n    <tr>\n      <th>198</th>\n      <td>CNN</td>\n      <td>0.0</td>\n      <td>42001</td>\n      <td>2960.411</td>\n      <td>117.493</td>\n      <td>4155.740</td>\n      <td>4525.042</td>\n      <td>224.567</td>\n      <td>915.346</td>\n    </tr>\n    <tr>\n      <th>199</th>\n      <td>CNN</td>\n      <td>0.0</td>\n      <td>42002</td>\n      <td>1412.668</td>\n      <td>1607.724</td>\n      <td>834.657</td>\n      <td>1953.468</td>\n      <td>101.778</td>\n      <td>198.079</td>\n    </tr>\n    <tr>\n      <th>200</th>\n      <td>CNN</td>\n      <td>0.0</td>\n      <td>42003</td>\n      <td>509.783</td>\n      <td>236.226</td>\n      <td>292.217</td>\n      <td>397.963</td>\n      <td>182.829</td>\n      <td>298.955</td>\n    </tr>\n    <tr>\n      <th>201</th>\n      <td>CNN</td>\n      <td>0.0</td>\n      <td>42019</td>\n      <td>56.879</td>\n      <td>1199.567</td>\n      <td>90.678</td>\n      <td>197.170</td>\n      <td>79.560</td>\n      <td>1022.541</td>\n    </tr>\n    <tr>\n      <th>202</th>\n      <td>CNN</td>\n      <td>0.0</td>\n      <td>42020</td>\n      <td>891.975</td>\n      <td>576.451</td>\n      <td>78.340</td>\n      <td>2472.646</td>\n      <td>838.244</td>\n      <td>1749.984</td>\n    </tr>\n    <tr>\n      <th>203</th>\n      <td>CNN</td>\n      <td>0.0</td>\n      <td>42035</td>\n      <td>97.402</td>\n      <td>838.534</td>\n      <td>2040.942</td>\n      <td>210.181</td>\n      <td>48.516</td>\n      <td>460.056</td>\n    </tr>\n    <tr>\n      <th>204</th>\n      <td>CNN</td>\n      <td>0.0</td>\n      <td>42036</td>\n      <td>4442.193</td>\n      <td>96.520</td>\n      <td>361.694</td>\n      <td>2784.988</td>\n      <td>1446.758</td>\n      <td>NaN</td>\n    </tr>\n    <tr>\n      <th>205</th>\n      <td>CNN</td>\n      <td>0.0</td>\n      <td>42039</td>\n      <td>637.583</td>\n      <td>NaN</td>\n      <td>79.809</td>\n      <td>4484.961</td>\n      <td>1439.634</td>\n      <td>1419.373</td>\n    </tr>\n    <tr>\n      <th>206</th>\n      <td>CNN</td>\n      <td>0.0</td>\n      <td>42040</td>\n      <td>504.589</td>\n      <td>171.885</td>\n      <td>218.227</td>\n      <td>1141.311</td>\n      <td>536.800</td>\n      <td>2167.544</td>\n    </tr>\n    <tr>\n      <th>297</th>\n      <td>TCN</td>\n      <td>0.0</td>\n      <td>42001</td>\n      <td>2960.411</td>\n      <td>117.493</td>\n      <td>4155.740</td>\n      <td>4525.042</td>\n      <td>224.567</td>\n      <td>915.346</td>\n    </tr>\n    <tr>\n      <th>298</th>\n      <td>TCN</td>\n      <td>0.0</td>\n      <td>42002</td>\n      <td>1412.668</td>\n      <td>1607.724</td>\n      <td>834.657</td>\n      <td>1953.468</td>\n      <td>101.778</td>\n      <td>198.079</td>\n    </tr>\n    <tr>\n      <th>299</th>\n      <td>TCN</td>\n      <td>0.0</td>\n      <td>42003</td>\n      <td>509.783</td>\n      <td>236.226</td>\n      <td>292.217</td>\n      <td>397.963</td>\n      <td>182.829</td>\n      <td>298.955</td>\n    </tr>\n    <tr>\n      <th>300</th>\n      <td>TCN</td>\n      <td>0.0</td>\n      <td>42019</td>\n      <td>56.879</td>\n      <td>1199.567</td>\n      <td>90.678</td>\n      <td>197.170</td>\n      <td>79.560</td>\n      <td>1022.541</td>\n    </tr>\n    <tr>\n      <th>301</th>\n      <td>TCN</td>\n      <td>0.0</td>\n      <td>42020</td>\n      <td>891.975</td>\n      <td>576.451</td>\n      <td>78.340</td>\n      <td>2472.646</td>\n      <td>838.244</td>\n      <td>1749.984</td>\n    </tr>\n    <tr>\n      <th>302</th>\n      <td>TCN</td>\n      <td>0.0</td>\n      <td>42035</td>\n      <td>97.402</td>\n      <td>838.534</td>\n      <td>2040.942</td>\n      <td>210.181</td>\n      <td>48.516</td>\n      <td>460.056</td>\n    </tr>\n    <tr>\n      <th>303</th>\n      <td>TCN</td>\n      <td>0.0</td>\n      <td>42036</td>\n      <td>4442.193</td>\n      <td>96.520</td>\n      <td>361.694</td>\n      <td>2784.988</td>\n      <td>1446.758</td>\n      <td>NaN</td>\n    </tr>\n    <tr>\n      <th>304</th>\n      <td>TCN</td>\n      <td>0.0</td>\n      <td>42039</td>\n      <td>637.583</td>\n      <td>NaN</td>\n      <td>79.809</td>\n      <td>4484.961</td>\n      <td>1439.634</td>\n      <td>1419.373</td>\n    </tr>\n    <tr>\n      <th>305</th>\n      <td>TCN</td>\n      <td>0.0</td>\n      <td>42040</td>\n      <td>504.589</td>\n      <td>171.885</td>\n      <td>218.227</td>\n      <td>1141.311</td>\n      <td>536.800</td>\n      <td>2167.544</td>\n    </tr>\n  </tbody>\n</table>\n</div>"
     },
     "execution_count": 75,
     "metadata": {},
     "output_type": "execute_result"
    }
   ],
   "source": [
    "condition = (df['Alpha'] == 0)\n",
    "reference = df.loc[condition].copy()\n",
    "reference"
   ],
   "metadata": {
    "collapsed": false,
    "pycharm": {
     "name": "#%%\n"
    }
   }
  },
  {
   "cell_type": "code",
   "execution_count": 76,
   "outputs": [],
   "source": [
    "# Compute the distances to create the improvement dataframe\n",
    "def compute_distance(row):\n",
    "    ref_row = reference[\n",
    "        (reference['Architecture'] == row['Architecture']) &\n",
    "        (reference['StationID'] == row['StationID'])\n",
    "    ].iloc[0]\n",
    "    for col in ['ATMP', 'DEWP', 'PRES', 'WDIR', 'WSPD', 'WTMP']:\n",
    "        row[col] = row[col] - ref_row[col]\n",
    "    return row"
   ],
   "metadata": {
    "collapsed": false,
    "pycharm": {
     "name": "#%%\n"
    }
   }
  },
  {
   "cell_type": "code",
   "execution_count": 77,
   "outputs": [
    {
     "data": {
      "text/plain": "    Architecture  Alpha  StationID      ATMP     DEWP      PRES      WDIR  \\\n0           LSTM    0.0      42001     0.000    0.000     0.000     0.000   \n1           LSTM    0.0      42002     0.000    0.000     0.000     0.000   \n2           LSTM    0.0      42003     0.000    0.000     0.000     0.000   \n3           LSTM    0.0      42019     0.000    0.000     0.000     0.000   \n4           LSTM    0.0      42020     0.000    0.000     0.000     0.000   \n..           ...    ...        ...       ...      ...       ...       ...   \n391          TCN    1.0      42020  -891.445 -575.754   -77.971  1218.292   \n392          TCN    1.0      42035   -97.328 -838.469 -2040.914  -175.529   \n393          TCN    1.0      42036 -4441.963  -95.745  -361.146  -816.577   \n394          TCN    1.0      42039  -636.507      NaN   -79.126  -146.162   \n395          TCN    1.0      42040  -504.203 -171.666  -217.666  -532.599   \n\n         WSPD      WTMP  \n0       0.000     0.000  \n1       0.000     0.000  \n2       0.000     0.000  \n3       0.000     0.000  \n4       0.000     0.000  \n..        ...       ...  \n391  -837.591 -1749.833  \n392   -48.350  -459.988  \n393 -1444.398       NaN  \n394 -1428.737 -1419.282  \n395  -534.454 -2167.472  \n\n[396 rows x 9 columns]",
      "text/html": "<div>\n<style scoped>\n    .dataframe tbody tr th:only-of-type {\n        vertical-align: middle;\n    }\n\n    .dataframe tbody tr th {\n        vertical-align: top;\n    }\n\n    .dataframe thead th {\n        text-align: right;\n    }\n</style>\n<table border=\"1\" class=\"dataframe\">\n  <thead>\n    <tr style=\"text-align: right;\">\n      <th></th>\n      <th>Architecture</th>\n      <th>Alpha</th>\n      <th>StationID</th>\n      <th>ATMP</th>\n      <th>DEWP</th>\n      <th>PRES</th>\n      <th>WDIR</th>\n      <th>WSPD</th>\n      <th>WTMP</th>\n    </tr>\n  </thead>\n  <tbody>\n    <tr>\n      <th>0</th>\n      <td>LSTM</td>\n      <td>0.0</td>\n      <td>42001</td>\n      <td>0.000</td>\n      <td>0.000</td>\n      <td>0.000</td>\n      <td>0.000</td>\n      <td>0.000</td>\n      <td>0.000</td>\n    </tr>\n    <tr>\n      <th>1</th>\n      <td>LSTM</td>\n      <td>0.0</td>\n      <td>42002</td>\n      <td>0.000</td>\n      <td>0.000</td>\n      <td>0.000</td>\n      <td>0.000</td>\n      <td>0.000</td>\n      <td>0.000</td>\n    </tr>\n    <tr>\n      <th>2</th>\n      <td>LSTM</td>\n      <td>0.0</td>\n      <td>42003</td>\n      <td>0.000</td>\n      <td>0.000</td>\n      <td>0.000</td>\n      <td>0.000</td>\n      <td>0.000</td>\n      <td>0.000</td>\n    </tr>\n    <tr>\n      <th>3</th>\n      <td>LSTM</td>\n      <td>0.0</td>\n      <td>42019</td>\n      <td>0.000</td>\n      <td>0.000</td>\n      <td>0.000</td>\n      <td>0.000</td>\n      <td>0.000</td>\n      <td>0.000</td>\n    </tr>\n    <tr>\n      <th>4</th>\n      <td>LSTM</td>\n      <td>0.0</td>\n      <td>42020</td>\n      <td>0.000</td>\n      <td>0.000</td>\n      <td>0.000</td>\n      <td>0.000</td>\n      <td>0.000</td>\n      <td>0.000</td>\n    </tr>\n    <tr>\n      <th>...</th>\n      <td>...</td>\n      <td>...</td>\n      <td>...</td>\n      <td>...</td>\n      <td>...</td>\n      <td>...</td>\n      <td>...</td>\n      <td>...</td>\n      <td>...</td>\n    </tr>\n    <tr>\n      <th>391</th>\n      <td>TCN</td>\n      <td>1.0</td>\n      <td>42020</td>\n      <td>-891.445</td>\n      <td>-575.754</td>\n      <td>-77.971</td>\n      <td>1218.292</td>\n      <td>-837.591</td>\n      <td>-1749.833</td>\n    </tr>\n    <tr>\n      <th>392</th>\n      <td>TCN</td>\n      <td>1.0</td>\n      <td>42035</td>\n      <td>-97.328</td>\n      <td>-838.469</td>\n      <td>-2040.914</td>\n      <td>-175.529</td>\n      <td>-48.350</td>\n      <td>-459.988</td>\n    </tr>\n    <tr>\n      <th>393</th>\n      <td>TCN</td>\n      <td>1.0</td>\n      <td>42036</td>\n      <td>-4441.963</td>\n      <td>-95.745</td>\n      <td>-361.146</td>\n      <td>-816.577</td>\n      <td>-1444.398</td>\n      <td>NaN</td>\n    </tr>\n    <tr>\n      <th>394</th>\n      <td>TCN</td>\n      <td>1.0</td>\n      <td>42039</td>\n      <td>-636.507</td>\n      <td>NaN</td>\n      <td>-79.126</td>\n      <td>-146.162</td>\n      <td>-1428.737</td>\n      <td>-1419.282</td>\n    </tr>\n    <tr>\n      <th>395</th>\n      <td>TCN</td>\n      <td>1.0</td>\n      <td>42040</td>\n      <td>-504.203</td>\n      <td>-171.666</td>\n      <td>-217.666</td>\n      <td>-532.599</td>\n      <td>-534.454</td>\n      <td>-2167.472</td>\n    </tr>\n  </tbody>\n</table>\n<p>396 rows × 9 columns</p>\n</div>"
     },
     "execution_count": 77,
     "metadata": {},
     "output_type": "execute_result"
    }
   ],
   "source": [
    "improvement = df.apply(compute_distance, axis=1)\n",
    "improvement"
   ],
   "metadata": {
    "collapsed": false,
    "pycharm": {
     "name": "#%%\n"
    }
   }
  },
  {
   "cell_type": "code",
   "execution_count": 78,
   "outputs": [],
   "source": [
    "improvement.to_csv('files/MLM_MSE_improvement.csv', index=False)"
   ],
   "metadata": {
    "collapsed": false,
    "pycharm": {
     "name": "#%%\n"
    }
   }
  },
  {
   "cell_type": "code",
   "execution_count": 64,
   "outputs": [],
   "source": [],
   "metadata": {
    "collapsed": false,
    "pycharm": {
     "name": "#%%\n"
    }
   }
  },
  {
   "cell_type": "code",
   "execution_count": 64,
   "outputs": [],
   "source": [],
   "metadata": {
    "collapsed": false,
    "pycharm": {
     "name": "#%%\n"
    }
   }
  }
 ],
 "metadata": {
  "kernelspec": {
   "display_name": "Python 3",
   "language": "python",
   "name": "python3"
  },
  "language_info": {
   "codemirror_mode": {
    "name": "ipython",
    "version": 2
   },
   "file_extension": ".py",
   "mimetype": "text/x-python",
   "name": "python",
   "nbconvert_exporter": "python",
   "pygments_lexer": "ipython2",
   "version": "2.7.6"
  }
 },
 "nbformat": 4,
 "nbformat_minor": 0
}