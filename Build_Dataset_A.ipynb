{
 "cells": [
  {
   "cell_type": "markdown",
   "source": [
    "# Build Dataset A\n",
    "\n",
    "## Description of approach A:\n",
    "The idea behind this type of dataset is to represent the current state of a certain area (defined by the used stations) in one data record. The ocean is a highly intricate and interrelated system. This approach might help to enable a neural network to detect patterns of ocean currents and increase the forecasting accuracy.\n",
    "\n",
    "The dataset is a table which can be stored as .csv file and read as pd.dataframe. Within a certain timeframe, there is exactly one record for each full hour, so each record has a timestamp as index. Each feature (columns) of the dataset represent one of the 9 measurements [\"WDIR\", \"WSPD\", \"WVHT\", \"APD\", \"MWD\", \"PRES\", \"ATMP\", \"WTMP\", \"DEWP\"] of a certain station. If ERA5=true, the corresponding measurements of the corrsponding stations location are added as additional features.\n",
    "\n",
    "To train a neural network with the created data, it first needs to be transformed to a supervised data. The function myLibrary.DataProcessing.data_to_supervised(data, n_in, n_out, dropnan): pd.dataframe can do that.\n",
    "\n",
    "Advantage:\n",
    "* Represents the current state of a area, not just of a single location\n",
    "* Includes every timestamp, which should allow to detect seasonal patterns.\n",
    "\n",
    "Disadvantage:\n",
    "* No good solution for NaN imputation\n",
    "* Since all features and timestamps must have a value, there is also no good way to remove NaN values."
   ],
   "metadata": {
    "collapsed": false,
    "pycharm": {
     "name": "#%% md\n"
    }
   }
  },
  {
   "cell_type": "code",
   "execution_count": 1,
   "metadata": {
    "collapsed": true,
    "pycharm": {
     "name": "#%%\n"
    }
   },
   "outputs": [],
   "source": [
    "import ipywidgets as widgets\n",
    "from IPython.display import display\n",
    "import pickle\n",
    "\n",
    "import myLibrary as mL\n",
    "NDBC = mL.NDBC_lib\n",
    "ERA5 = mL.ERA5_lib\n",
    "Models = mL.Models\n",
    "DP = mL.DataProcessor\n",
    "Experiment = mL.Experiment"
   ]
  },
  {
   "cell_type": "code",
   "execution_count": 3,
   "outputs": [
    {
     "name": "stdout",
     "output_type": "stream",
     "text": [
      "STATIONS\n"
     ]
    },
    {
     "data": {
      "text/plain": "Box(children=(GridBox(children=(Checkbox(value=False, description='41117', indent=False), Checkbox(value=False…",
      "application/vnd.jupyter.widget-view+json": {
       "version_major": 2,
       "version_minor": 0,
       "model_id": "634770f739344c1394eac5b39e929383"
      }
     },
     "metadata": {},
     "output_type": "display_data"
    },
    {
     "data": {
      "text/plain": "SelectionRangeSlider(description='Time Range:', index=(51, 52), layout=Layout(width='500px'), options=(1970, 1…",
      "application/vnd.jupyter.widget-view+json": {
       "version_major": 2,
       "version_minor": 0,
       "model_id": "f51de8c9e33842689b36b4ac1e600588"
      }
     },
     "metadata": {},
     "output_type": "display_data"
    },
    {
     "name": "stdout",
     "output_type": "stream",
     "text": [
      "NaN-Threshold:\n"
     ]
    },
    {
     "data": {
      "text/plain": "FloatSlider(value=0.5, layout=Layout(width='500px'), max=1.0, step=0.01)",
      "application/vnd.jupyter.widget-view+json": {
       "version_major": 2,
       "version_minor": 0,
       "model_id": "9179c2c8d0db4d8fb5a96e000fff4ebe"
      }
     },
     "metadata": {},
     "output_type": "display_data"
    },
    {
     "name": "stdout",
     "output_type": "stream",
     "text": [
      "Features:\n"
     ]
    },
    {
     "data": {
      "text/plain": "HBox(children=(Checkbox(value=False, description='WDIR', indent=False), Checkbox(value=False, description='WSP…",
      "application/vnd.jupyter.widget-view+json": {
       "version_major": 2,
       "version_minor": 0,
       "model_id": "5ce93798969d4757a0082dbed36f2494"
      }
     },
     "metadata": {},
     "output_type": "display_data"
    },
    {
     "name": "stdout",
     "output_type": "stream",
     "text": [
      "Model Data:\n"
     ]
    },
    {
     "data": {
      "text/plain": "Checkbox(value=False, description='Add ERA5 model data', indent=False)",
      "application/vnd.jupyter.widget-view+json": {
       "version_major": 2,
       "version_minor": 0,
       "model_id": "c942334b5f3c40ff85f67f54815c4ada"
      }
     },
     "metadata": {},
     "output_type": "display_data"
    }
   ],
   "source": [
    "def build_UI():\n",
    "    #STATIONS -----------------------------------------------------------------------------------\n",
    "    # create a list of checkbox widgets for each station\n",
    "    stations = []\n",
    "    for station in NDBC.cleaned_stations_GOM:\n",
    "        checkbox = widgets.Checkbox(value=False, description=station, disabled=False, indent=False)\n",
    "        stations.append(checkbox)\n",
    "\n",
    "    # create a GridBox layout container with two columns\n",
    "    global stations_grid\n",
    "    stations_grid = widgets.GridBox(stations, layout=widgets.Layout(grid_template_columns=\"repeat(3, 300px)\"))\n",
    "\n",
    "    # wrap the GridBox inside a Box layout container with a fixed height and scrollable overflow\n",
    "    stations_box = widgets.Box(children=[stations_grid], layout=widgets.Layout(height=\"200px\", overflow=\"scroll\"))\n",
    "\n",
    "    # display the checkboxes\n",
    "    print(\"STATIONS\")\n",
    "    display(stations_box)\n",
    "\n",
    "    #Years --------------------------------------------------------------------------------------\n",
    "    # create a range slider widget for selecting a time range\n",
    "    global time_range_slider\n",
    "    time_range_slider = widgets.SelectionRangeSlider(\n",
    "        options=list(range(1970, 2023)),  # range of years to select from\n",
    "        index=(51, 52),  # initial range selected (1970-2023)\n",
    "        description='Time Range:',\n",
    "        orientation='horizontal',\n",
    "        layout={'width': '500px'}\n",
    "    )\n",
    "\n",
    "    # display the range slider widget\n",
    "    display(time_range_slider)\n",
    "\n",
    "    #NaN_Theshold--------------------------------------------------------------------------------\n",
    "    # create a FloatSlider widget for a value between 0 and 1\n",
    "    print(\"NaN-Threshold:\")\n",
    "    global nan_threshold_slider\n",
    "    nan_threshold_slider = widgets.FloatSlider(\n",
    "        value=0.5,\n",
    "        min=0,\n",
    "        max=1,\n",
    "        step=0.01,\n",
    "        description='',\n",
    "        readout_format='.2f',\n",
    "        orientation='horizontal',\n",
    "        layout={'width': '500px'}\n",
    "    )\n",
    "\n",
    "    # display the FloatSlider widget\n",
    "    display(nan_threshold_slider)\n",
    "\n",
    "    #Features--------------------------------------------------------------------------------\n",
    "    features = []\n",
    "    for feature in [\"WDIR\", \"WSPD\", \"WVHT\", \"APD\", \"MWD\", \"PRES\", \"ATMP\", \"WTMP\", \"DEWP\"]:\n",
    "        checkbox = widgets.Checkbox(value=False, description=feature, disabled=False, indent=False)\n",
    "        features.append(checkbox)\n",
    "\n",
    "    print(\"Features:\")\n",
    "    global feature_container\n",
    "    feature_container = widgets.HBox(features)\n",
    "    display(feature_container)\n",
    "\n",
    "    #ERA5------------------------------------------------------------------------------------\n",
    "    global era5_checkbox\n",
    "    era5_checkbox = widgets.Checkbox(value=False, description=\"Add ERA5 model data\", disabled=False, indent=False)\n",
    "    print(\"Model Data:\")\n",
    "    display(era5_checkbox)\n",
    "\n",
    "\n",
    "build_UI()"
   ],
   "metadata": {
    "collapsed": false,
    "pycharm": {
     "name": "#%%\n"
    }
   }
  },
  {
   "cell_type": "code",
   "execution_count": 42,
   "outputs": [],
   "source": [
    "# Read variables from UI\n",
    "STATIONS = [checkbox.description for checkbox in stations_grid.children if checkbox.value]\n",
    "\n",
    "# get the selected time range\n",
    "start_year, end_year = time_range_slider.value\n",
    "YEARS = [str(year) for year in range(start_year, end_year + 1)]\n",
    "NAN_THRESHOLD = nan_threshold_slider.value\n",
    "FEATURES =  [checkbox.description for checkbox in feature_container.children if checkbox.value]\n",
    "ADD_ERA5 = era5_checkbox.value"
   ],
   "metadata": {
    "collapsed": false,
    "pycharm": {
     "name": "#%%\n"
    }
   }
  },
  {
   "cell_type": "markdown",
   "source": [
    "## Optional: use hardcoded variables instead"
   ],
   "metadata": {
    "collapsed": false,
    "pycharm": {
     "name": "#%% md\n"
    }
   }
  },
  {
   "cell_type": "code",
   "execution_count": 43,
   "outputs": [],
   "source": [
    "# STATIONS = [\"41117\"]\n",
    "# YEARS = [\"2022\"]\n",
    "# NAN_THRESHOLD = 0.5\n",
    "# FEATURES = ['WTMP']     # [\"WDIR\", \"WSPD\", \"WVHT\", \"APD\", \"MWD\", \"PRES\", \"ATMP\", \"WTMP\", \"DEWP\"]\n",
    "# ADD_ERA5 = True"
   ],
   "metadata": {
    "collapsed": false,
    "pycharm": {
     "name": "#%%\n"
    }
   }
  },
  {
   "cell_type": "code",
   "execution_count": 44,
   "outputs": [
    {
     "name": "stdout",
     "output_type": "stream",
     "text": [
      "Stations: ['41117']\n",
      "Years: ['2022']\n",
      "NaN_Threshold: 0.5\n",
      "Features: ['ATMP', 'WTMP']\n",
      "ADD_ERA5: True\n"
     ]
    }
   ],
   "source": [
    "print(f\"Stations: {STATIONS}\")\n",
    "print(f\"Years: {YEARS}\")\n",
    "print(f\"NaN_Threshold: {NAN_THRESHOLD}\")\n",
    "print(f\"Features: {FEATURES}\")\n",
    "print(f\"ADD_ERA5: {ADD_ERA5}\")"
   ],
   "metadata": {
    "collapsed": false,
    "pycharm": {
     "name": "#%%\n"
    }
   }
  },
  {
   "cell_type": "code",
   "execution_count": 45,
   "outputs": [
    {
     "name": "stdout",
     "output_type": "stream",
     "text": [
      "Started with  2022 . Previous year took:   0.0005838871002197266 seconds\n",
      "from disc\n",
      "Finished downloading - now merging it together!\n",
      "Started with  2022 . Previous year took:   0.0 seconds\n",
      "Finished downloading - now merging it together!\n"
     ]
    },
    {
     "data": {
      "text/plain": "                     ATMP_41117  WTMP_41117  ATMP_41117_ERA5  WTMP_41117_ERA5\ntimestamp                                                                    \n2022-01-01 00:00:00        20.8        20.6        21.629668        20.254283\n2022-01-01 01:00:00        20.8        20.6        21.576521        20.254283\n2022-01-01 02:00:00        20.8        20.5        21.481707        20.254283\n2022-01-01 03:00:00        20.8        20.5        21.298031        20.254283\n2022-01-01 04:00:00        20.7        20.4        21.101175        20.254283\n...                         ...         ...              ...              ...\n2022-12-31 19:00:00        18.1        17.4        20.968520        18.848540\n2022-12-31 20:00:00        18.3        17.4        21.142417        18.848540\n2022-12-31 21:00:00        18.7        17.4        21.182383        18.848540\n2022-12-31 22:00:00        18.7        17.4        19.681513        19.500180\n2022-12-31 23:00:00        18.7        17.3        19.559488        19.500180\n\n[8760 rows x 4 columns]",
      "text/html": "<div>\n<style scoped>\n    .dataframe tbody tr th:only-of-type {\n        vertical-align: middle;\n    }\n\n    .dataframe tbody tr th {\n        vertical-align: top;\n    }\n\n    .dataframe thead th {\n        text-align: right;\n    }\n</style>\n<table border=\"1\" class=\"dataframe\">\n  <thead>\n    <tr style=\"text-align: right;\">\n      <th></th>\n      <th>ATMP_41117</th>\n      <th>WTMP_41117</th>\n      <th>ATMP_41117_ERA5</th>\n      <th>WTMP_41117_ERA5</th>\n    </tr>\n    <tr>\n      <th>timestamp</th>\n      <th></th>\n      <th></th>\n      <th></th>\n      <th></th>\n    </tr>\n  </thead>\n  <tbody>\n    <tr>\n      <th>2022-01-01 00:00:00</th>\n      <td>20.8</td>\n      <td>20.6</td>\n      <td>21.629668</td>\n      <td>20.254283</td>\n    </tr>\n    <tr>\n      <th>2022-01-01 01:00:00</th>\n      <td>20.8</td>\n      <td>20.6</td>\n      <td>21.576521</td>\n      <td>20.254283</td>\n    </tr>\n    <tr>\n      <th>2022-01-01 02:00:00</th>\n      <td>20.8</td>\n      <td>20.5</td>\n      <td>21.481707</td>\n      <td>20.254283</td>\n    </tr>\n    <tr>\n      <th>2022-01-01 03:00:00</th>\n      <td>20.8</td>\n      <td>20.5</td>\n      <td>21.298031</td>\n      <td>20.254283</td>\n    </tr>\n    <tr>\n      <th>2022-01-01 04:00:00</th>\n      <td>20.7</td>\n      <td>20.4</td>\n      <td>21.101175</td>\n      <td>20.254283</td>\n    </tr>\n    <tr>\n      <th>...</th>\n      <td>...</td>\n      <td>...</td>\n      <td>...</td>\n      <td>...</td>\n    </tr>\n    <tr>\n      <th>2022-12-31 19:00:00</th>\n      <td>18.1</td>\n      <td>17.4</td>\n      <td>20.968520</td>\n      <td>18.848540</td>\n    </tr>\n    <tr>\n      <th>2022-12-31 20:00:00</th>\n      <td>18.3</td>\n      <td>17.4</td>\n      <td>21.142417</td>\n      <td>18.848540</td>\n    </tr>\n    <tr>\n      <th>2022-12-31 21:00:00</th>\n      <td>18.7</td>\n      <td>17.4</td>\n      <td>21.182383</td>\n      <td>18.848540</td>\n    </tr>\n    <tr>\n      <th>2022-12-31 22:00:00</th>\n      <td>18.7</td>\n      <td>17.4</td>\n      <td>19.681513</td>\n      <td>19.500180</td>\n    </tr>\n    <tr>\n      <th>2022-12-31 23:00:00</th>\n      <td>18.7</td>\n      <td>17.3</td>\n      <td>19.559488</td>\n      <td>19.500180</td>\n    </tr>\n  </tbody>\n</table>\n<p>8760 rows × 4 columns</p>\n</div>"
     },
     "execution_count": 45,
     "metadata": {},
     "output_type": "execute_result"
    }
   ],
   "source": [
    "data = mL.get_data_A(\n",
    "    stations=STATIONS,\n",
    "    years=YEARS,\n",
    "    nan_threshold=NAN_THRESHOLD,\n",
    "    features=FEATURES,\n",
    "    era5=ADD_ERA5\n",
    "    )\n",
    "\n",
    "data"
   ],
   "metadata": {
    "collapsed": false,
    "pycharm": {
     "name": "#%%\n"
    }
   }
  },
  {
   "cell_type": "markdown",
   "source": [
    "# Save Dataframe as .csv"
   ],
   "metadata": {
    "collapsed": false,
    "pycharm": {
     "name": "#%% md\n"
    }
   }
  },
  {
   "cell_type": "code",
   "execution_count": 46,
   "outputs": [
    {
     "data": {
      "text/plain": "HBox(children=(Text(value='', description='Filename:', placeholder='Enter filename'), Label(value='.pickle')))",
      "application/vnd.jupyter.widget-view+json": {
       "version_major": 2,
       "version_minor": 0,
       "model_id": "95eece07e851461d88228eb30b515738"
      }
     },
     "execution_count": 46,
     "metadata": {},
     "output_type": "execute_result"
    }
   ],
   "source": [
    "# create a text input widget for username\n",
    "filename_widget = widgets.Text(\n",
    "    value='',\n",
    "    placeholder='Enter filename',\n",
    "    description='Filename:',\n",
    "    disabled=False\n",
    ")\n",
    "# add '.csv' to the description\n",
    "extension_label = widgets.Label('.pickle')\n",
    "\n",
    "# display the widget\n",
    "widgets.HBox([filename_widget, extension_label])"
   ],
   "metadata": {
    "collapsed": false,
    "pycharm": {
     "name": "#%%\n"
    }
   }
  },
  {
   "cell_type": "code",
   "execution_count": 49,
   "outputs": [
    {
     "name": "stdout",
     "output_type": "stream",
     "text": [
      "File successfully saved:\n",
      "data/datasets/type_A/dataset_1_A.pickle\n"
     ]
    }
   ],
   "source": [
    "filename = filename_widget.value\n",
    "if filename == \"\":\n",
    "    print(\"Enter a valid filename!\")\n",
    "\n",
    "else:\n",
    "    dataset = {\n",
    "        \"stations\": STATIONS,\n",
    "        \"years\": YEARS,\n",
    "        \"nan_threshold\": NAN_THRESHOLD,\n",
    "        \"features\": FEATURES,\n",
    "        \"add_era5\": ADD_ERA5,\n",
    "        \"data\": data\n",
    "    }\n",
    "\n",
    "    # open a file for writing in binary mode\n",
    "    filepath = f'data/datasets/type_A/{filename}_A.pickle'\n",
    "    with open(filepath, 'wb') as f:\n",
    "        # write the object to the file using pickle.dump()\n",
    "        pickle.dump(dataset, f)\n",
    "\n",
    "    print(\"File successfully saved:\")\n",
    "    print(filepath)"
   ],
   "metadata": {
    "collapsed": false,
    "pycharm": {
     "name": "#%%\n"
    }
   }
  },
  {
   "cell_type": "code",
   "execution_count": null,
   "outputs": [],
   "source": [],
   "metadata": {
    "collapsed": false,
    "pycharm": {
     "name": "#%%\n"
    }
   }
  }
 ],
 "metadata": {
  "kernelspec": {
   "display_name": "Python 3",
   "language": "python",
   "name": "python3"
  },
  "language_info": {
   "codemirror_mode": {
    "name": "ipython",
    "version": 2
   },
   "file_extension": ".py",
   "mimetype": "text/x-python",
   "name": "python",
   "nbconvert_exporter": "python",
   "pygments_lexer": "ipython2",
   "version": "2.7.6"
  }
 },
 "nbformat": 4,
 "nbformat_minor": 0
}