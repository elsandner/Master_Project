{
 "cells": [
  {
   "cell_type": "markdown",
   "source": [
    "# Build Dataset A\n",
    "\n",
    "## Description of approach A:\n",
    "The idea behind this type of dataset is to represent the current state of a certain area (defined by the used stations) in one data record. The ocean is a highly intricate and interrelated system. This approach might help to enable a neural network to detect patterns of ocean currents and increase the forecasting accuracy.\n",
    "\n",
    "The dataset is a table which can be stored as .csv file and read as pd.dataframe. Within a certain timeframe, there is exactly one record for each full hour, so each record has a timestamp as index. Each feature (columns) of the dataset represent one of the 9 measurements [\"WDIR\", \"WSPD\", \"WVHT\", \"APD\", \"MWD\", \"PRES\", \"ATMP\", \"WTMP\", \"DEWP\"] of a certain station. If ERA5=true, the corresponding measurements of the corrsponding stations location are added as additional features.\n",
    "\n",
    "To train a neural network with the created data, it first needs to be transformed to a supervised data. The function myLibrary.DataProcessing.data_to_supervised(data, n_in, n_out, dropnan): pd.dataframe can do that.\n",
    "\n",
    "Advantage:\n",
    "* Represents the current state of a area, not just of a single location\n",
    "* Includes every timestamp, which should allow to detect seasonal patterns.\n",
    "\n",
    "Disadvantage:\n",
    "* No good solution for NaN imputation\n",
    "* Since all features and timestamps must have a value, there is also no good way to remove NaN values."
   ],
   "metadata": {
    "collapsed": false,
    "pycharm": {
     "name": "#%% md\n"
    }
   }
  },
  {
   "cell_type": "code",
   "execution_count": 1,
   "metadata": {
    "collapsed": true,
    "pycharm": {
     "name": "#%%\n"
    }
   },
   "outputs": [],
   "source": [
    "import ipywidgets as widgets\n",
    "from IPython.display import display\n",
    "import pickle\n",
    "\n",
    "import myLibrary as mL\n",
    "NDBC = mL.NDBC_lib\n",
    "ERA5 = mL.ERA5_lib\n",
    "Models = mL.Models\n",
    "DP = mL.DataProcessor\n",
    "Experiment = mL.Experiment"
   ]
  },
  {
   "cell_type": "code",
   "execution_count": 2,
   "outputs": [
    {
     "name": "stdout",
     "output_type": "stream",
     "text": [
      "STATIONS\n"
     ]
    },
    {
     "data": {
      "text/plain": "Box(children=(GridBox(children=(Checkbox(value=False, description='41117', indent=False), Checkbox(value=False…",
      "application/vnd.jupyter.widget-view+json": {
       "version_major": 2,
       "version_minor": 0,
       "model_id": "9e4278c1c09845d78c0cdf040750925b"
      }
     },
     "metadata": {},
     "output_type": "display_data"
    },
    {
     "data": {
      "text/plain": "SelectionRangeSlider(description='Time Range:', index=(51, 52), layout=Layout(width='500px'), options=(1970, 1…",
      "application/vnd.jupyter.widget-view+json": {
       "version_major": 2,
       "version_minor": 0,
       "model_id": "a0563a3f4b044896ae9941979a1b97b0"
      }
     },
     "metadata": {},
     "output_type": "display_data"
    },
    {
     "name": "stdout",
     "output_type": "stream",
     "text": [
      "NaN-Threshold:\n"
     ]
    },
    {
     "data": {
      "text/plain": "FloatSlider(value=0.5, layout=Layout(width='500px'), max=1.0, step=0.01)",
      "application/vnd.jupyter.widget-view+json": {
       "version_major": 2,
       "version_minor": 0,
       "model_id": "46fde3574f7b46e5adfe887136e6b394"
      }
     },
     "metadata": {},
     "output_type": "display_data"
    },
    {
     "name": "stdout",
     "output_type": "stream",
     "text": [
      "Features:\n"
     ]
    },
    {
     "data": {
      "text/plain": "HBox(children=(Checkbox(value=False, description='WDIR', indent=False), Checkbox(value=False, description='WSP…",
      "application/vnd.jupyter.widget-view+json": {
       "version_major": 2,
       "version_minor": 0,
       "model_id": "1e8d8770b0814d57bf1d5f2580eaed37"
      }
     },
     "metadata": {},
     "output_type": "display_data"
    },
    {
     "name": "stdout",
     "output_type": "stream",
     "text": [
      "Model Data:\n"
     ]
    },
    {
     "data": {
      "text/plain": "Checkbox(value=False, description='Add ERA5 model data', indent=False)",
      "application/vnd.jupyter.widget-view+json": {
       "version_major": 2,
       "version_minor": 0,
       "model_id": "c21a5aa052964e5b8f9ef3e7dee60510"
      }
     },
     "metadata": {},
     "output_type": "display_data"
    }
   ],
   "source": [
    "def build_UI():\n",
    "    #STATIONS -----------------------------------------------------------------------------------\n",
    "    # create a list of checkbox widgets for each station\n",
    "    stations = []\n",
    "    for station in NDBC.cleaned_stations_GOM:\n",
    "        checkbox = widgets.Checkbox(value=False, description=station, disabled=False, indent=False)\n",
    "        stations.append(checkbox)\n",
    "\n",
    "    # create a GridBox layout container with two columns\n",
    "    global stations_grid\n",
    "    stations_grid = widgets.GridBox(stations, layout=widgets.Layout(grid_template_columns=\"repeat(3, 300px)\"))\n",
    "\n",
    "    # wrap the GridBox inside a Box layout container with a fixed height and scrollable overflow\n",
    "    stations_box = widgets.Box(children=[stations_grid], layout=widgets.Layout(height=\"200px\", overflow=\"scroll\"))\n",
    "\n",
    "    # display the checkboxes\n",
    "    print(\"STATIONS\")\n",
    "    display(stations_box)\n",
    "\n",
    "    #Years --------------------------------------------------------------------------------------\n",
    "    # create a range slider widget for selecting a time range\n",
    "    global time_range_slider\n",
    "    time_range_slider = widgets.SelectionRangeSlider(\n",
    "        options=list(range(1970, 2023)),  # range of years to select from\n",
    "        index=(51, 52),  # initial range selected (1970-2023)\n",
    "        description='Time Range:',\n",
    "        orientation='horizontal',\n",
    "        layout={'width': '500px'}\n",
    "    )\n",
    "\n",
    "    # display the range slider widget\n",
    "    display(time_range_slider)\n",
    "\n",
    "    #NaN_Theshold--------------------------------------------------------------------------------\n",
    "    # create a FloatSlider widget for a value between 0 and 1\n",
    "    print(\"NaN-Threshold:\")\n",
    "    global nan_threshold_slider\n",
    "    nan_threshold_slider = widgets.FloatSlider(\n",
    "        value=0.5,\n",
    "        min=0,\n",
    "        max=1,\n",
    "        step=0.01,\n",
    "        description='',\n",
    "        readout_format='.2f',\n",
    "        orientation='horizontal',\n",
    "        layout={'width': '500px'}\n",
    "    )\n",
    "\n",
    "    # display the FloatSlider widget\n",
    "    display(nan_threshold_slider)\n",
    "\n",
    "    #Features--------------------------------------------------------------------------------\n",
    "    features = []\n",
    "    for feature in [\"WDIR\", \"WSPD\", \"WVHT\", \"APD\", \"MWD\", \"PRES\", \"ATMP\", \"WTMP\", \"DEWP\"]:\n",
    "        checkbox = widgets.Checkbox(value=False, description=feature, disabled=False, indent=False)\n",
    "        features.append(checkbox)\n",
    "\n",
    "    print(\"Features:\")\n",
    "    global feature_container\n",
    "    feature_container = widgets.HBox(features)\n",
    "    display(feature_container)\n",
    "\n",
    "    #ERA5------------------------------------------------------------------------------------\n",
    "    global era5_checkbox\n",
    "    era5_checkbox = widgets.Checkbox(value=False, description=\"Add ERA5 model data\", disabled=False, indent=False)\n",
    "    print(\"Model Data:\")\n",
    "    display(era5_checkbox)\n",
    "\n",
    "\n",
    "build_UI()"
   ],
   "metadata": {
    "collapsed": false,
    "pycharm": {
     "name": "#%%\n"
    }
   }
  },
  {
   "cell_type": "code",
   "execution_count": 3,
   "outputs": [],
   "source": [
    "# Read variables from UI\n",
    "STATIONS = [checkbox.description for checkbox in stations_grid.children if checkbox.value]\n",
    "\n",
    "# get the selected time range\n",
    "start_year, end_year = time_range_slider.value\n",
    "YEARS = [str(year) for year in range(start_year, end_year + 1)]\n",
    "NAN_THRESHOLD = nan_threshold_slider.value\n",
    "FEATURES =  [checkbox.description for checkbox in feature_container.children if checkbox.value]\n",
    "ADD_ERA5 = era5_checkbox.value"
   ],
   "metadata": {
    "collapsed": false,
    "pycharm": {
     "name": "#%%\n"
    }
   }
  },
  {
   "cell_type": "markdown",
   "source": [
    "## Optional: use hardcoded variables instead"
   ],
   "metadata": {
    "collapsed": false,
    "pycharm": {
     "name": "#%% md\n"
    }
   }
  },
  {
   "cell_type": "code",
   "execution_count": null,
   "outputs": [],
   "source": [],
   "metadata": {
    "collapsed": false,
    "pycharm": {
     "name": "#%%\n"
    }
   }
  },
  {
   "cell_type": "code",
   "execution_count": 3,
   "outputs": [],
   "source": [
    "STATIONS = [ '42001',\n",
    "             '42002',\n",
    "             '42003',\n",
    "             '42007',\n",
    "             '42012',\n",
    "             '42019',\n",
    "             '42020',\n",
    "             '42035',\n",
    "             '42036',\n",
    "             '42038',\n",
    "             '42039',\n",
    "             '42040',\n",
    "             '42041',\n",
    "             '42055']\n",
    "\n",
    "YEARS = ['2002',\n",
    "         '2003',\n",
    "         '2004',\n",
    "         '2005',\n",
    "         '2006',\n",
    "         '2007',\n",
    "         '2008',\n",
    "         '2009',\n",
    "         '2010',\n",
    "         '2011',\n",
    "         '2012',\n",
    "         '2013',\n",
    "         '2014',\n",
    "         '2015',\n",
    "         '2016',\n",
    "         '2017',\n",
    "         '2018',\n",
    "         '2019',\n",
    "         '2020',\n",
    "         '2021',\n",
    "         '2022']\n",
    "\n",
    "\n",
    "# STATIONS = [\"41117\"]\n",
    "# YEARS = [\"2022\"]\n",
    "NAN_THRESHOLD = 0.66\n",
    "FEATURES = mL.measurements     # [\"WDIR\", \"WSPD\", \"WVHT\", \"APD\", \"MWD\", \"PRES\", \"ATMP\", \"WTMP\", \"DEWP\"]\n",
    "ADD_ERA5 = True"
   ],
   "metadata": {
    "collapsed": false,
    "pycharm": {
     "name": "#%%\n"
    }
   }
  },
  {
   "cell_type": "code",
   "execution_count": 4,
   "outputs": [
    {
     "name": "stdout",
     "output_type": "stream",
     "text": [
      "Stations: ['42001', '42002', '42003', '42007', '42012', '42019', '42020', '42035', '42036', '42038', '42039', '42040', '42041', '42055']\n",
      "Years: ['2002', '2003', '2004', '2005', '2006', '2007', '2008', '2009', '2010', '2011', '2012', '2013', '2014', '2015', '2016', '2017', '2018', '2019', '2020', '2021', '2022']\n",
      "NaN_Threshold: 0.66\n",
      "Features: ['WDIR', 'WSPD', 'WVHT', 'APD', 'MWD', 'PRES', 'ATMP', 'WTMP', 'DEWP']\n",
      "ADD_ERA5: True\n"
     ]
    }
   ],
   "source": [
    "print(f\"Stations: {STATIONS}\")\n",
    "print(f\"Years: {YEARS}\")\n",
    "print(f\"NaN_Threshold: {NAN_THRESHOLD}\")\n",
    "print(f\"Features: {FEATURES}\")\n",
    "print(f\"ADD_ERA5: {ADD_ERA5}\")"
   ],
   "metadata": {
    "collapsed": false,
    "pycharm": {
     "name": "#%%\n"
    }
   }
  },
  {
   "cell_type": "code",
   "execution_count": 5,
   "outputs": [
    {
     "name": "stdout",
     "output_type": "stream",
     "text": [
      "Started with  2002 . Previous year took:   0.00522303581237793 seconds\n",
      "from disc\n",
      "from disc\n",
      "from disc\n",
      "from disc\n",
      "Failed to get 42012h2002.txt.gz: HTTP Error 404: Not Found\n",
      "from disc\n",
      "from disc\n",
      "from disc\n",
      "from disc\n",
      "Failed to get 42038h2002.txt.gz: HTTP Error 404: Not Found\n",
      "from disc\n",
      "from disc\n",
      "from disc\n",
      "Failed to get 42055h2002.txt.gz: HTTP Error 404: Not Found\n",
      "Started with  2003 . Previous year took:   27.299588918685913 seconds\n",
      "from disc\n",
      "from disc\n",
      "from disc\n",
      "from disc\n",
      "Failed to get 42012h2003.txt.gz: HTTP Error 404: Not Found\n",
      "from disc\n",
      "from disc\n",
      "from disc\n",
      "from disc\n",
      "Failed to get 42038h2003.txt.gz: HTTP Error 404: Not Found\n",
      "from disc\n",
      "from disc\n",
      "from disc\n",
      "Failed to get 42055h2003.txt.gz: HTTP Error 404: Not Found\n",
      "Started with  2004 . Previous year took:   26.762537956237793 seconds\n",
      "from disc\n",
      "from disc\n",
      "from disc\n",
      "from disc\n",
      "Failed to get 42012h2004.txt.gz: HTTP Error 404: Not Found\n",
      "from disc\n",
      "from disc\n",
      "from disc\n",
      "from disc\n",
      "from disc\n",
      "from disc\n",
      "from disc\n",
      "from disc\n",
      "Failed to get 42055h2004.txt.gz: HTTP Error 404: Not Found\n",
      "Started with  2005 . Previous year took:   24.37952470779419 seconds\n",
      "from disc\n",
      "from disc\n",
      "from disc\n",
      "from disc\n",
      "Failed to get 42012h2005.txt.gz: HTTP Error 404: Not Found\n",
      "from disc\n",
      "from disc\n",
      "from disc\n",
      "from disc\n",
      "from disc\n",
      "from disc\n",
      "from disc\n",
      "from disc\n",
      "from disc\n",
      "Started with  2006 . Previous year took:   23.83974289894104 seconds\n",
      "from disc\n",
      "from disc\n",
      "from disc\n",
      "from disc\n",
      "Failed to get 42012h2006.txt.gz: HTTP Error 404: Not Found\n",
      "from disc\n",
      "from disc\n",
      "from disc\n",
      "from disc\n",
      "from disc\n",
      "from disc\n",
      "from disc\n",
      "Failed to get 42041h2006.txt.gz: HTTP Error 404: Not Found\n",
      "from disc\n",
      "Started with  2007 . Previous year took:   24.82704210281372 seconds\n",
      "from disc\n",
      "from disc\n",
      "from disc\n",
      "from disc\n",
      "Failed to get 42012h2007.txt.gz: HTTP Error 404: Not Found\n",
      "from disc\n",
      "from disc\n",
      "from disc\n",
      "from disc\n",
      "Failed to get 42038h2007.txt.gz: HTTP Error 404: Not Found\n",
      "from disc\n",
      "from disc\n",
      "Failed to get 42041h2007.txt.gz: HTTP Error 404: Not Found\n",
      "from disc\n",
      "Started with  2008 . Previous year took:   31.996982097625732 seconds\n",
      "from disc\n",
      "from disc\n",
      "from disc\n",
      "from disc\n",
      "Failed to get 42012h2008.txt.gz: HTTP Error 404: Not Found\n",
      "from disc\n",
      "from disc\n",
      "from disc\n",
      "from disc\n",
      "Failed to get 42038h2008.txt.gz: HTTP Error 404: Not Found\n",
      "from disc\n",
      "from disc\n",
      "Failed to get 42041h2008.txt.gz: HTTP Error 404: Not Found\n",
      "from disc\n",
      "Started with  2009 . Previous year took:   73.47671794891357 seconds\n",
      "from disc\n",
      "from disc\n",
      "from disc\n",
      "from disc\n",
      "from disc\n",
      "from disc\n",
      "from disc\n",
      "from disc\n",
      "from disc\n",
      "Failed to get 42038h2009.txt.gz: HTTP Error 404: Not Found\n",
      "from disc\n",
      "from disc\n",
      "Failed to get 42041h2009.txt.gz: HTTP Error 404: Not Found\n",
      "from disc\n",
      "Started with  2010 . Previous year took:   74.36869621276855 seconds\n",
      "from disc\n",
      "from disc\n",
      "from disc\n",
      "Failed to get 42007h2010.txt.gz: HTTP Error 404: Not Found\n",
      "from disc\n",
      "from disc\n",
      "from disc\n",
      "from disc\n",
      "from disc\n",
      "Failed to get 42038h2010.txt.gz: HTTP Error 404: Not Found\n",
      "from disc\n",
      "from disc\n",
      "Failed to get 42041h2010.txt.gz: HTTP Error 404: Not Found\n",
      "from disc\n",
      "Started with  2011 . Previous year took:   76.79464483261108 seconds\n",
      "from disc\n",
      "from disc\n",
      "from disc\n",
      "Failed to get 42007h2011.txt.gz: HTTP Error 404: Not Found\n",
      "from disc\n",
      "from disc\n",
      "from disc\n",
      "from disc\n",
      "from disc\n",
      "Failed to get 42038h2011.txt.gz: HTTP Error 404: Not Found\n",
      "from disc\n",
      "from disc\n",
      "Failed to get 42041h2011.txt.gz: HTTP Error 404: Not Found\n",
      "from disc\n",
      "Started with  2012 . Previous year took:   72.62513613700867 seconds\n",
      "from disc\n",
      "from disc\n",
      "from disc\n",
      "Failed to get 42007h2012.txt.gz: HTTP Error 404: Not Found\n",
      "from disc\n",
      "from disc\n",
      "from disc\n",
      "from disc\n",
      "from disc\n",
      "Failed to get 42038h2012.txt.gz: HTTP Error 404: Not Found\n",
      "from disc\n",
      "from disc\n",
      "Failed to get 42041h2012.txt.gz: HTTP Error 404: Not Found\n",
      "from disc\n",
      "Started with  2013 . Previous year took:   73.889897108078 seconds\n",
      "from disc\n",
      "from disc\n",
      "from disc\n",
      "Failed to get 42007h2013.txt.gz: HTTP Error 404: Not Found\n",
      "from disc\n",
      "from disc\n",
      "from disc\n",
      "from disc\n",
      "from disc\n",
      "Failed to get 42038h2013.txt.gz: HTTP Error 404: Not Found\n",
      "from disc\n",
      "from disc\n",
      "Failed to get 42041h2013.txt.gz: HTTP Error 404: Not Found\n",
      "from disc\n",
      "Started with  2014 . Previous year took:   73.93724417686462 seconds\n",
      "from disc\n",
      "from disc\n",
      "from disc\n",
      "Failed to get 42007h2014.txt.gz: HTTP Error 404: Not Found\n",
      "from disc\n",
      "from disc\n",
      "from disc\n",
      "from disc\n",
      "from disc\n",
      "Failed to get 42038h2014.txt.gz: HTTP Error 404: Not Found\n",
      "from disc\n",
      "from disc\n",
      "Failed to get 42041h2014.txt.gz: HTTP Error 404: Not Found\n",
      "from disc\n",
      "Started with  2015 . Previous year took:   72.33371496200562 seconds\n",
      "from disc\n",
      "from disc\n",
      "from disc\n",
      "Failed to get 42007h2015.txt.gz: HTTP Error 404: Not Found\n",
      "from disc\n",
      "from disc\n",
      "from disc\n",
      "from disc\n",
      "from disc\n",
      "Failed to get 42038h2015.txt.gz: HTTP Error 404: Not Found\n",
      "from disc\n",
      "from disc\n",
      "Failed to get 42041h2015.txt.gz: HTTP Error 404: Not Found\n",
      "from disc\n",
      "Started with  2016 . Previous year took:   74.66236782073975 seconds\n",
      "from disc\n",
      "from disc\n",
      "from disc\n",
      "Failed to get 42007h2016.txt.gz: HTTP Error 404: Not Found\n",
      "from disc\n",
      "from disc\n",
      "from disc\n",
      "from disc\n",
      "from disc\n",
      "Failed to get 42038h2016.txt.gz: HTTP Error 404: Not Found\n",
      "from disc\n",
      "from disc\n",
      "Failed to get 42041h2016.txt.gz: HTTP Error 404: Not Found\n",
      "from disc\n",
      "Started with  2017 . Previous year took:   77.91014790534973 seconds\n",
      "from disc\n",
      "from disc\n",
      "from disc\n",
      "Failed to get 42007h2017.txt.gz: HTTP Error 404: Not Found\n",
      "from disc\n",
      "from disc\n",
      "from disc\n",
      "from disc\n",
      "from disc\n",
      "Failed to get 42038h2017.txt.gz: HTTP Error 404: Not Found\n",
      "from disc\n",
      "from disc\n",
      "Failed to get 42041h2017.txt.gz: HTTP Error 404: Not Found\n",
      "from disc\n",
      "Started with  2018 . Previous year took:   81.05213975906372 seconds\n",
      "from disc\n",
      "from disc\n",
      "from disc\n",
      "Failed to get 42007h2018.txt.gz: HTTP Error 404: Not Found\n",
      "from disc\n",
      "from disc\n",
      "from disc\n",
      "from disc\n",
      "Failed to get 42036h2018.txt.gz: HTTP Error 404: Not Found\n",
      "Failed to get 42038h2018.txt.gz: HTTP Error 404: Not Found\n",
      "from disc\n",
      "from disc\n",
      "Failed to get 42041h2018.txt.gz: HTTP Error 404: Not Found\n",
      "from disc\n",
      "Started with  2019 . Previous year took:   95.30288791656494 seconds\n",
      "from disc\n",
      "from disc\n",
      "Found 1 duplicates is 42002h2019 and removed them!\n",
      "from disc\n",
      "Failed to get 42007h2019.txt.gz: HTTP Error 404: Not Found\n",
      "from disc\n",
      "from disc\n",
      "from disc\n",
      "from disc\n",
      "from disc\n",
      "Failed to get 42038h2019.txt.gz: HTTP Error 404: Not Found\n",
      "from disc\n",
      "from disc\n",
      "Failed to get 42041h2019.txt.gz: HTTP Error 404: Not Found\n",
      "from disc\n",
      "Started with  2020 . Previous year took:   103.87842392921448 seconds\n",
      "from disc\n",
      "from disc\n",
      "from disc\n",
      "Failed to get 42007h2020.txt.gz: HTTP Error 404: Not Found\n",
      "from disc\n",
      "from disc\n",
      "from disc\n",
      "from disc\n",
      "from disc\n",
      "Failed to get 42038h2020.txt.gz: HTTP Error 404: Not Found\n",
      "from disc\n",
      "from disc\n",
      "Failed to get 42041h2020.txt.gz: HTTP Error 404: Not Found\n",
      "from disc\n",
      "Started with  2021 . Previous year took:   114.00031805038452 seconds\n",
      "from disc\n",
      "from disc\n",
      "from disc\n",
      "Failed to get 42007h2021.txt.gz: HTTP Error 404: Not Found\n",
      "from disc\n",
      "from disc\n",
      "from disc\n",
      "from disc\n",
      "from disc\n",
      "Failed to get 42038h2021.txt.gz: HTTP Error 404: Not Found\n",
      "from disc\n",
      "from disc\n",
      "Failed to get 42041h2021.txt.gz: HTTP Error 404: Not Found\n",
      "from disc\n",
      "Started with  2022 . Previous year took:   110.22263979911804 seconds\n",
      "from disc\n",
      "from disc\n",
      "from disc\n",
      "Failed to get 42007h2022.txt.gz: HTTP Error 404: Not Found\n",
      "from disc\n",
      "from disc\n",
      "from disc\n",
      "from disc\n",
      "from disc\n",
      "Failed to get 42038h2022.txt.gz: HTTP Error 404: Not Found\n",
      "from disc\n",
      "from disc\n",
      "Failed to get 42041h2022.txt.gz: HTTP Error 404: Not Found\n",
      "from disc\n",
      "Finished downloading - now merging it together!\n",
      "Started with  2002 . Previous year took:   9.5367431640625e-07 seconds\n",
      "Started with  2003 . Previous year took:   1.1475169658660889 seconds\n",
      "Started with  2004 . Previous year took:   1.1317987442016602 seconds\n",
      "Started with  2005 . Previous year took:   1.1281838417053223 seconds\n",
      "Started with  2006 . Previous year took:   1.1215381622314453 seconds\n",
      "Started with  2007 . Previous year took:   1.108557939529419 seconds\n",
      "Started with  2008 . Previous year took:   1.1147639751434326 seconds\n",
      "Started with  2009 . Previous year took:   1.1111862659454346 seconds\n",
      "Started with  2010 . Previous year took:   1.104083776473999 seconds\n",
      "Started with  2011 . Previous year took:   1.1157870292663574 seconds\n",
      "Started with  2012 . Previous year took:   1.1140871047973633 seconds\n",
      "Started with  2013 . Previous year took:   1.1022920608520508 seconds\n",
      "Started with  2014 . Previous year took:   1.11027193069458 seconds\n",
      "Started with  2015 . Previous year took:   1.1201422214508057 seconds\n",
      "Started with  2016 . Previous year took:   1.1136293411254883 seconds\n",
      "Started with  2017 . Previous year took:   1.1100609302520752 seconds\n",
      "Started with  2018 . Previous year took:   1.108916997909546 seconds\n",
      "Started with  2019 . Previous year took:   1.1008849143981934 seconds\n",
      "Started with  2020 . Previous year took:   1.115583896636963 seconds\n",
      "Started with  2021 . Previous year took:   1.1121110916137695 seconds\n",
      "Started with  2022 . Previous year took:   1.0971760749816895 seconds\n",
      "Finished downloading - now merging it together!\n"
     ]
    },
    {
     "data": {
      "text/plain": "                     WDIR_42001  WSPD_42001  PRES_42001  ATMP_42001  \\\n2002-01-01 00:00:00        66.0         9.3      1017.1        22.3   \n2002-01-01 01:00:00        66.0         9.3      1017.1        22.3   \n2002-01-01 02:00:00        67.0         9.4      1017.2        21.9   \n2002-01-01 03:00:00        69.0         9.1      1017.2        22.4   \n2002-01-01 04:00:00        70.0         9.0      1017.1        22.5   \n...                         ...         ...         ...         ...   \n2022-12-31 19:00:00       195.0         0.5      1015.0        25.6   \n2022-12-31 20:00:00       210.0         1.0      1015.0        25.3   \n2022-12-31 21:00:00       231.0         0.6      1014.7        26.4   \n2022-12-31 22:00:00        18.0         0.7      1014.9        25.4   \n2022-12-31 23:00:00        68.0         1.6      1015.0        25.0   \n\n                     WTMP_42001  DEWP_42001  WDIR_42002  WSPD_42002  \\\n2002-01-01 00:00:00        25.5        16.8        39.0        10.5   \n2002-01-01 01:00:00        25.5        16.8        39.0        10.5   \n2002-01-01 02:00:00        25.5        16.6        36.0        10.9   \n2002-01-01 03:00:00        25.5        16.9        32.0        12.7   \n2002-01-01 04:00:00        25.5        16.3        33.0        12.7   \n...                         ...         ...         ...         ...   \n2022-12-31 19:00:00        24.7        24.5        22.0         0.6   \n2022-12-31 20:00:00        24.5        24.3        88.0         1.2   \n2022-12-31 21:00:00        24.7        24.4        87.0         1.7   \n2022-12-31 22:00:00        24.7        24.1        90.0         2.5   \n2022-12-31 23:00:00        24.5        24.3       116.0         3.7   \n\n                     PRES_42002  ATMP_42002  ...  WDIR_42039_ERA5  \\\n2002-01-01 00:00:00      1016.1        21.7  ...       246.007357   \n2002-01-01 01:00:00      1016.1        21.7  ...       247.678051   \n2002-01-01 02:00:00      1016.1        21.7  ...       250.591891   \n2002-01-01 03:00:00      1015.9        20.8  ...       253.468273   \n2002-01-01 04:00:00      1015.8        21.0  ...       251.493918   \n...                         ...         ...  ...              ...   \n2022-12-31 19:00:00      1015.9        25.1  ...        28.180851   \n2022-12-31 20:00:00      1015.4        24.7  ...        22.969408   \n2022-12-31 21:00:00      1014.9        24.6  ...        14.655430   \n2022-12-31 22:00:00      1014.9        24.5  ...        20.371840   \n2022-12-31 23:00:00      1015.0        24.5  ...        21.918165   \n\n                     WSPD_42039_ERA5  ATMP_42039_ERA5  WSPD_42035_ERA5  \\\n2002-01-01 00:00:00         5.756333        13.882608         8.031200   \n2002-01-01 01:00:00         5.579721        14.020573         8.216895   \n2002-01-01 02:00:00         5.582730        14.070538         8.454808   \n2002-01-01 03:00:00         5.633966        14.058979         8.471692   \n2002-01-01 04:00:00         5.638108        13.986641         8.698506   \n...                              ...              ...              ...   \n2022-12-31 19:00:00         8.602918        22.730194         2.533178   \n2022-12-31 20:00:00         7.734290        22.564177         2.669909   \n2022-12-31 21:00:00         6.485218        22.377552         3.147255   \n2022-12-31 22:00:00         3.294807        24.068445         3.469271   \n2022-12-31 23:00:00         2.229422        23.926533         3.938095   \n\n                     WSPD_42001_ERA5  DEWP_42020_ERA5  ATMP_42019_ERA5  \\\n2002-01-01 00:00:00         9.867456        10.834305        11.708612   \n2002-01-01 01:00:00         9.782997        10.975658        11.926516   \n2002-01-01 02:00:00         9.517146        11.111871        12.166319   \n2002-01-01 03:00:00         8.911373        11.239089        12.361607   \n2002-01-01 04:00:00         8.481407        11.332468        12.482585   \n...                              ...              ...              ...   \n2022-12-31 19:00:00         0.601025        19.323104        21.847184   \n2022-12-31 20:00:00         0.979714        19.245361        22.052563   \n2022-12-31 21:00:00         2.067327        19.338348        22.260412   \n2022-12-31 22:00:00         1.554299        18.567779        22.101541   \n2022-12-31 23:00:00         2.206784        18.779285        22.243125   \n\n                     WTMP_42039_ERA5  WSPD_42002_ERA5  PRES_42039_ERA5  \n2002-01-01 00:00:00        21.781113         9.820263      1019.426223  \n2002-01-01 01:00:00        21.781113        10.465795      1019.792677  \n2002-01-01 02:00:00        21.781113        11.760698      1019.725358  \n2002-01-01 03:00:00        21.781113        11.910608      1019.833394  \n2002-01-01 04:00:00        21.781113        11.716782      1019.804620  \n...                              ...              ...              ...  \n2022-12-31 19:00:00        24.392457         1.062895      1016.581840  \n2022-12-31 20:00:00        24.392457         1.330008      1016.363260  \n2022-12-31 21:00:00        24.392457         1.770915      1016.186435  \n2022-12-31 22:00:00        24.885927         2.483432      1017.067575  \n2022-12-31 23:00:00        24.885927         3.242142      1017.021132  \n\n[184080 rows x 104 columns]",
      "text/html": "<div>\n<style scoped>\n    .dataframe tbody tr th:only-of-type {\n        vertical-align: middle;\n    }\n\n    .dataframe tbody tr th {\n        vertical-align: top;\n    }\n\n    .dataframe thead th {\n        text-align: right;\n    }\n</style>\n<table border=\"1\" class=\"dataframe\">\n  <thead>\n    <tr style=\"text-align: right;\">\n      <th></th>\n      <th>WDIR_42001</th>\n      <th>WSPD_42001</th>\n      <th>PRES_42001</th>\n      <th>ATMP_42001</th>\n      <th>WTMP_42001</th>\n      <th>DEWP_42001</th>\n      <th>WDIR_42002</th>\n      <th>WSPD_42002</th>\n      <th>PRES_42002</th>\n      <th>ATMP_42002</th>\n      <th>...</th>\n      <th>WDIR_42039_ERA5</th>\n      <th>WSPD_42039_ERA5</th>\n      <th>ATMP_42039_ERA5</th>\n      <th>WSPD_42035_ERA5</th>\n      <th>WSPD_42001_ERA5</th>\n      <th>DEWP_42020_ERA5</th>\n      <th>ATMP_42019_ERA5</th>\n      <th>WTMP_42039_ERA5</th>\n      <th>WSPD_42002_ERA5</th>\n      <th>PRES_42039_ERA5</th>\n    </tr>\n  </thead>\n  <tbody>\n    <tr>\n      <th>2002-01-01 00:00:00</th>\n      <td>66.0</td>\n      <td>9.3</td>\n      <td>1017.1</td>\n      <td>22.3</td>\n      <td>25.5</td>\n      <td>16.8</td>\n      <td>39.0</td>\n      <td>10.5</td>\n      <td>1016.1</td>\n      <td>21.7</td>\n      <td>...</td>\n      <td>246.007357</td>\n      <td>5.756333</td>\n      <td>13.882608</td>\n      <td>8.031200</td>\n      <td>9.867456</td>\n      <td>10.834305</td>\n      <td>11.708612</td>\n      <td>21.781113</td>\n      <td>9.820263</td>\n      <td>1019.426223</td>\n    </tr>\n    <tr>\n      <th>2002-01-01 01:00:00</th>\n      <td>66.0</td>\n      <td>9.3</td>\n      <td>1017.1</td>\n      <td>22.3</td>\n      <td>25.5</td>\n      <td>16.8</td>\n      <td>39.0</td>\n      <td>10.5</td>\n      <td>1016.1</td>\n      <td>21.7</td>\n      <td>...</td>\n      <td>247.678051</td>\n      <td>5.579721</td>\n      <td>14.020573</td>\n      <td>8.216895</td>\n      <td>9.782997</td>\n      <td>10.975658</td>\n      <td>11.926516</td>\n      <td>21.781113</td>\n      <td>10.465795</td>\n      <td>1019.792677</td>\n    </tr>\n    <tr>\n      <th>2002-01-01 02:00:00</th>\n      <td>67.0</td>\n      <td>9.4</td>\n      <td>1017.2</td>\n      <td>21.9</td>\n      <td>25.5</td>\n      <td>16.6</td>\n      <td>36.0</td>\n      <td>10.9</td>\n      <td>1016.1</td>\n      <td>21.7</td>\n      <td>...</td>\n      <td>250.591891</td>\n      <td>5.582730</td>\n      <td>14.070538</td>\n      <td>8.454808</td>\n      <td>9.517146</td>\n      <td>11.111871</td>\n      <td>12.166319</td>\n      <td>21.781113</td>\n      <td>11.760698</td>\n      <td>1019.725358</td>\n    </tr>\n    <tr>\n      <th>2002-01-01 03:00:00</th>\n      <td>69.0</td>\n      <td>9.1</td>\n      <td>1017.2</td>\n      <td>22.4</td>\n      <td>25.5</td>\n      <td>16.9</td>\n      <td>32.0</td>\n      <td>12.7</td>\n      <td>1015.9</td>\n      <td>20.8</td>\n      <td>...</td>\n      <td>253.468273</td>\n      <td>5.633966</td>\n      <td>14.058979</td>\n      <td>8.471692</td>\n      <td>8.911373</td>\n      <td>11.239089</td>\n      <td>12.361607</td>\n      <td>21.781113</td>\n      <td>11.910608</td>\n      <td>1019.833394</td>\n    </tr>\n    <tr>\n      <th>2002-01-01 04:00:00</th>\n      <td>70.0</td>\n      <td>9.0</td>\n      <td>1017.1</td>\n      <td>22.5</td>\n      <td>25.5</td>\n      <td>16.3</td>\n      <td>33.0</td>\n      <td>12.7</td>\n      <td>1015.8</td>\n      <td>21.0</td>\n      <td>...</td>\n      <td>251.493918</td>\n      <td>5.638108</td>\n      <td>13.986641</td>\n      <td>8.698506</td>\n      <td>8.481407</td>\n      <td>11.332468</td>\n      <td>12.482585</td>\n      <td>21.781113</td>\n      <td>11.716782</td>\n      <td>1019.804620</td>\n    </tr>\n    <tr>\n      <th>...</th>\n      <td>...</td>\n      <td>...</td>\n      <td>...</td>\n      <td>...</td>\n      <td>...</td>\n      <td>...</td>\n      <td>...</td>\n      <td>...</td>\n      <td>...</td>\n      <td>...</td>\n      <td>...</td>\n      <td>...</td>\n      <td>...</td>\n      <td>...</td>\n      <td>...</td>\n      <td>...</td>\n      <td>...</td>\n      <td>...</td>\n      <td>...</td>\n      <td>...</td>\n      <td>...</td>\n    </tr>\n    <tr>\n      <th>2022-12-31 19:00:00</th>\n      <td>195.0</td>\n      <td>0.5</td>\n      <td>1015.0</td>\n      <td>25.6</td>\n      <td>24.7</td>\n      <td>24.5</td>\n      <td>22.0</td>\n      <td>0.6</td>\n      <td>1015.9</td>\n      <td>25.1</td>\n      <td>...</td>\n      <td>28.180851</td>\n      <td>8.602918</td>\n      <td>22.730194</td>\n      <td>2.533178</td>\n      <td>0.601025</td>\n      <td>19.323104</td>\n      <td>21.847184</td>\n      <td>24.392457</td>\n      <td>1.062895</td>\n      <td>1016.581840</td>\n    </tr>\n    <tr>\n      <th>2022-12-31 20:00:00</th>\n      <td>210.0</td>\n      <td>1.0</td>\n      <td>1015.0</td>\n      <td>25.3</td>\n      <td>24.5</td>\n      <td>24.3</td>\n      <td>88.0</td>\n      <td>1.2</td>\n      <td>1015.4</td>\n      <td>24.7</td>\n      <td>...</td>\n      <td>22.969408</td>\n      <td>7.734290</td>\n      <td>22.564177</td>\n      <td>2.669909</td>\n      <td>0.979714</td>\n      <td>19.245361</td>\n      <td>22.052563</td>\n      <td>24.392457</td>\n      <td>1.330008</td>\n      <td>1016.363260</td>\n    </tr>\n    <tr>\n      <th>2022-12-31 21:00:00</th>\n      <td>231.0</td>\n      <td>0.6</td>\n      <td>1014.7</td>\n      <td>26.4</td>\n      <td>24.7</td>\n      <td>24.4</td>\n      <td>87.0</td>\n      <td>1.7</td>\n      <td>1014.9</td>\n      <td>24.6</td>\n      <td>...</td>\n      <td>14.655430</td>\n      <td>6.485218</td>\n      <td>22.377552</td>\n      <td>3.147255</td>\n      <td>2.067327</td>\n      <td>19.338348</td>\n      <td>22.260412</td>\n      <td>24.392457</td>\n      <td>1.770915</td>\n      <td>1016.186435</td>\n    </tr>\n    <tr>\n      <th>2022-12-31 22:00:00</th>\n      <td>18.0</td>\n      <td>0.7</td>\n      <td>1014.9</td>\n      <td>25.4</td>\n      <td>24.7</td>\n      <td>24.1</td>\n      <td>90.0</td>\n      <td>2.5</td>\n      <td>1014.9</td>\n      <td>24.5</td>\n      <td>...</td>\n      <td>20.371840</td>\n      <td>3.294807</td>\n      <td>24.068445</td>\n      <td>3.469271</td>\n      <td>1.554299</td>\n      <td>18.567779</td>\n      <td>22.101541</td>\n      <td>24.885927</td>\n      <td>2.483432</td>\n      <td>1017.067575</td>\n    </tr>\n    <tr>\n      <th>2022-12-31 23:00:00</th>\n      <td>68.0</td>\n      <td>1.6</td>\n      <td>1015.0</td>\n      <td>25.0</td>\n      <td>24.5</td>\n      <td>24.3</td>\n      <td>116.0</td>\n      <td>3.7</td>\n      <td>1015.0</td>\n      <td>24.5</td>\n      <td>...</td>\n      <td>21.918165</td>\n      <td>2.229422</td>\n      <td>23.926533</td>\n      <td>3.938095</td>\n      <td>2.206784</td>\n      <td>18.779285</td>\n      <td>22.243125</td>\n      <td>24.885927</td>\n      <td>3.242142</td>\n      <td>1017.021132</td>\n    </tr>\n  </tbody>\n</table>\n<p>184080 rows × 104 columns</p>\n</div>"
     },
     "execution_count": 5,
     "metadata": {},
     "output_type": "execute_result"
    }
   ],
   "source": [
    "data = mL.get_data_A(\n",
    "    stations=STATIONS,\n",
    "    years=YEARS,\n",
    "    nan_threshold=NAN_THRESHOLD,\n",
    "    features=FEATURES,\n",
    "    era5=ADD_ERA5\n",
    "    )\n",
    "\n",
    "data"
   ],
   "metadata": {
    "collapsed": false,
    "pycharm": {
     "name": "#%%\n"
    }
   }
  },
  {
   "cell_type": "markdown",
   "source": [
    "# Save Dataset"
   ],
   "metadata": {
    "collapsed": false,
    "pycharm": {
     "name": "#%% md\n"
    }
   }
  },
  {
   "cell_type": "code",
   "execution_count": 6,
   "outputs": [
    {
     "data": {
      "text/plain": "HBox(children=(Text(value='', description='Filename:', placeholder='Enter filename'), Label(value='.pickle')))",
      "application/vnd.jupyter.widget-view+json": {
       "version_major": 2,
       "version_minor": 0,
       "model_id": "fed865c600b14dfd9244be423ac08070"
      }
     },
     "execution_count": 6,
     "metadata": {},
     "output_type": "execute_result"
    }
   ],
   "source": [
    "# create a text input widget for username\n",
    "filename_widget = widgets.Text(\n",
    "    value='',\n",
    "    placeholder='Enter filename',\n",
    "    description='Filename:',\n",
    "    disabled=False\n",
    ")\n",
    "# add '.csv' to the description\n",
    "extension_label = widgets.Label('.pickle')\n",
    "\n",
    "# display the widget\n",
    "widgets.HBox([filename_widget, extension_label])"
   ],
   "metadata": {
    "collapsed": false,
    "pycharm": {
     "name": "#%%\n"
    }
   }
  },
  {
   "cell_type": "code",
   "execution_count": 7,
   "outputs": [
    {
     "name": "stdout",
     "output_type": "stream",
     "text": [
      "File successfully saved:\n",
      "data/datasets/type_A/dataset_GOM_1_A_A.pickle\n"
     ]
    }
   ],
   "source": [
    "filename = filename_widget.value\n",
    "if filename == \"\":\n",
    "    print(\"Enter a valid filename!\")\n",
    "\n",
    "else:\n",
    "    dataset = {\n",
    "        \"stations\": STATIONS,\n",
    "        \"years\": YEARS,\n",
    "        \"nan_threshold\": NAN_THRESHOLD,\n",
    "        \"features\": FEATURES,\n",
    "        \"add_era5\": ADD_ERA5,\n",
    "        \"data\": data\n",
    "    }\n",
    "\n",
    "    # open a file for writing in binary mode\n",
    "    filepath = f'data/datasets/type_A/{filename}_A.pickle'\n",
    "    with open(filepath, 'wb') as f:\n",
    "        # write the object to the file using pickle.dump()\n",
    "        pickle.dump(dataset, f)\n",
    "\n",
    "    print(\"File successfully saved:\")\n",
    "    print(filepath)"
   ],
   "metadata": {
    "collapsed": false,
    "pycharm": {
     "name": "#%%\n"
    }
   }
  },
  {
   "cell_type": "code",
   "execution_count": null,
   "outputs": [],
   "source": [],
   "metadata": {
    "collapsed": false,
    "pycharm": {
     "name": "#%%\n"
    }
   }
  }
 ],
 "metadata": {
  "kernelspec": {
   "display_name": "Python 3",
   "language": "python",
   "name": "python3"
  },
  "language_info": {
   "codemirror_mode": {
    "name": "ipython",
    "version": 2
   },
   "file_extension": ".py",
   "mimetype": "text/x-python",
   "name": "python",
   "nbconvert_exporter": "python",
   "pygments_lexer": "ipython2",
   "version": "2.7.6"
  }
 },
 "nbformat": 4,
 "nbformat_minor": 0
}