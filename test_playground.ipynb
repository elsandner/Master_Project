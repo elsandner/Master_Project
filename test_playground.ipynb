{
 "cells": [
  {
   "cell_type": "markdown",
   "source": [
    "## Test if mL.get_data_file returns the same dataframe from web and disc"
   ],
   "metadata": {
    "collapsed": false,
    "pycharm": {
     "name": "#%% md\n"
    }
   }
  },
  {
   "cell_type": "code",
   "execution_count": 2,
   "metadata": {
    "collapsed": true,
    "pycharm": {
     "name": "#%%\n"
    }
   },
   "outputs": [],
   "source": [
    "import myLibrary as mL"
   ]
  },
  {
   "cell_type": "code",
   "execution_count": 8,
   "outputs": [],
   "source": [
    "station_number = \"42036\"\n",
    "year = \"2022\""
   ],
   "metadata": {
    "collapsed": false,
    "pycharm": {
     "name": "#%%\n"
    }
   }
  },
  {
   "cell_type": "code",
   "execution_count": 9,
   "outputs": [
    {
     "name": "stdout",
     "output_type": "stream",
     "text": [
      "from disc\n"
     ]
    },
    {
     "name": "stderr",
     "output_type": "stream",
     "text": [
      "/Users/elsandner/Library/Mobile Documents/com~apple~CloudDocs/Uni/WS22/Master Thesis/Master_Project/myLibrary.py:345: DtypeWarning: Columns (1,2,3,4,5,6,7,8,9,10,11,12,13,14,15,16,17,18) have mixed types. Specify dtype option on import or set low_memory=False.\n",
      "  df_data = pd.read_csv(filepath)\n"
     ]
    }
   ],
   "source": [
    "station_number_1, df_data_1 = mL.get_data_file(station_number, year, fromDisc=True)"
   ],
   "metadata": {
    "collapsed": false,
    "pycharm": {
     "name": "#%%\n"
    }
   }
  },
  {
   "cell_type": "code",
   "execution_count": 10,
   "outputs": [
    {
     "data": {
      "text/plain": "        #YY  MM  DD  hh  mm  WDIR WSPD  GST   WVHT    DPD    APD   MWD  \\\n0       #yr  mo  dy  hr  mn  degT  m/s  m/s      m    sec    sec  degT   \n1      2022  01  01  00  00   168  3.5  4.2  99.00  99.00  99.00   999   \n2      2022  01  01  00  10   167  3.5  4.3  99.00  99.00  99.00   999   \n3      2022  01  01  00  20   165  3.4  4.6  99.00  99.00  99.00   999   \n4      2022  01  01  00  30   163  3.8  4.5  99.00  99.00  99.00   999   \n...     ...  ..  ..  ..  ..   ...  ...  ...    ...    ...    ...   ...   \n52525  2022  12  31  23  10   179  3.7  4.5   0.76    5.0   4.28   185   \n52526  2022  12  31  23  20   184  3.6  4.5   99.0   99.0   99.0   999   \n52527  2022  12  31  23  30   176  3.9  4.9   99.0   99.0   99.0   999   \n52528  2022  12  31  23  40   181  5.3  6.4   0.78   4.76   4.26   177   \n52529  2022  12  31  23  50   185  4.4  5.4   99.0   99.0   99.0   999   \n\n         PRES  ATMP  WTMP  DEWP   VIS   TIDE  \n0         hPa  degC  degC  degC    mi     ft  \n1      1016.3  23.3  23.0  23.3  99.0  99.00  \n2      1016.4  23.2  23.1  23.2  99.0  99.00  \n3      1016.4  23.2  23.0  23.2  99.0  99.00  \n4      1016.4  23.2  23.0  23.2  99.0  99.00  \n...       ...   ...   ...   ...   ...    ...  \n52525  1016.4  22.6  22.3  22.1  99.0   99.0  \n52526  1016.5  22.6  22.3  22.1  99.0   99.0  \n52527  1016.3  22.6  22.3  22.2  99.0   99.0  \n52528  1016.4  22.6  22.3  22.1  99.0   99.0  \n52529  1016.5  22.6  22.3  22.1  99.0   99.0  \n\n[52530 rows x 18 columns]",
      "text/html": "<div>\n<style scoped>\n    .dataframe tbody tr th:only-of-type {\n        vertical-align: middle;\n    }\n\n    .dataframe tbody tr th {\n        vertical-align: top;\n    }\n\n    .dataframe thead th {\n        text-align: right;\n    }\n</style>\n<table border=\"1\" class=\"dataframe\">\n  <thead>\n    <tr style=\"text-align: right;\">\n      <th></th>\n      <th>#YY</th>\n      <th>MM</th>\n      <th>DD</th>\n      <th>hh</th>\n      <th>mm</th>\n      <th>WDIR</th>\n      <th>WSPD</th>\n      <th>GST</th>\n      <th>WVHT</th>\n      <th>DPD</th>\n      <th>APD</th>\n      <th>MWD</th>\n      <th>PRES</th>\n      <th>ATMP</th>\n      <th>WTMP</th>\n      <th>DEWP</th>\n      <th>VIS</th>\n      <th>TIDE</th>\n    </tr>\n  </thead>\n  <tbody>\n    <tr>\n      <th>0</th>\n      <td>#yr</td>\n      <td>mo</td>\n      <td>dy</td>\n      <td>hr</td>\n      <td>mn</td>\n      <td>degT</td>\n      <td>m/s</td>\n      <td>m/s</td>\n      <td>m</td>\n      <td>sec</td>\n      <td>sec</td>\n      <td>degT</td>\n      <td>hPa</td>\n      <td>degC</td>\n      <td>degC</td>\n      <td>degC</td>\n      <td>mi</td>\n      <td>ft</td>\n    </tr>\n    <tr>\n      <th>1</th>\n      <td>2022</td>\n      <td>01</td>\n      <td>01</td>\n      <td>00</td>\n      <td>00</td>\n      <td>168</td>\n      <td>3.5</td>\n      <td>4.2</td>\n      <td>99.00</td>\n      <td>99.00</td>\n      <td>99.00</td>\n      <td>999</td>\n      <td>1016.3</td>\n      <td>23.3</td>\n      <td>23.0</td>\n      <td>23.3</td>\n      <td>99.0</td>\n      <td>99.00</td>\n    </tr>\n    <tr>\n      <th>2</th>\n      <td>2022</td>\n      <td>01</td>\n      <td>01</td>\n      <td>00</td>\n      <td>10</td>\n      <td>167</td>\n      <td>3.5</td>\n      <td>4.3</td>\n      <td>99.00</td>\n      <td>99.00</td>\n      <td>99.00</td>\n      <td>999</td>\n      <td>1016.4</td>\n      <td>23.2</td>\n      <td>23.1</td>\n      <td>23.2</td>\n      <td>99.0</td>\n      <td>99.00</td>\n    </tr>\n    <tr>\n      <th>3</th>\n      <td>2022</td>\n      <td>01</td>\n      <td>01</td>\n      <td>00</td>\n      <td>20</td>\n      <td>165</td>\n      <td>3.4</td>\n      <td>4.6</td>\n      <td>99.00</td>\n      <td>99.00</td>\n      <td>99.00</td>\n      <td>999</td>\n      <td>1016.4</td>\n      <td>23.2</td>\n      <td>23.0</td>\n      <td>23.2</td>\n      <td>99.0</td>\n      <td>99.00</td>\n    </tr>\n    <tr>\n      <th>4</th>\n      <td>2022</td>\n      <td>01</td>\n      <td>01</td>\n      <td>00</td>\n      <td>30</td>\n      <td>163</td>\n      <td>3.8</td>\n      <td>4.5</td>\n      <td>99.00</td>\n      <td>99.00</td>\n      <td>99.00</td>\n      <td>999</td>\n      <td>1016.4</td>\n      <td>23.2</td>\n      <td>23.0</td>\n      <td>23.2</td>\n      <td>99.0</td>\n      <td>99.00</td>\n    </tr>\n    <tr>\n      <th>...</th>\n      <td>...</td>\n      <td>...</td>\n      <td>...</td>\n      <td>...</td>\n      <td>...</td>\n      <td>...</td>\n      <td>...</td>\n      <td>...</td>\n      <td>...</td>\n      <td>...</td>\n      <td>...</td>\n      <td>...</td>\n      <td>...</td>\n      <td>...</td>\n      <td>...</td>\n      <td>...</td>\n      <td>...</td>\n      <td>...</td>\n    </tr>\n    <tr>\n      <th>52525</th>\n      <td>2022</td>\n      <td>12</td>\n      <td>31</td>\n      <td>23</td>\n      <td>10</td>\n      <td>179</td>\n      <td>3.7</td>\n      <td>4.5</td>\n      <td>0.76</td>\n      <td>5.0</td>\n      <td>4.28</td>\n      <td>185</td>\n      <td>1016.4</td>\n      <td>22.6</td>\n      <td>22.3</td>\n      <td>22.1</td>\n      <td>99.0</td>\n      <td>99.0</td>\n    </tr>\n    <tr>\n      <th>52526</th>\n      <td>2022</td>\n      <td>12</td>\n      <td>31</td>\n      <td>23</td>\n      <td>20</td>\n      <td>184</td>\n      <td>3.6</td>\n      <td>4.5</td>\n      <td>99.0</td>\n      <td>99.0</td>\n      <td>99.0</td>\n      <td>999</td>\n      <td>1016.5</td>\n      <td>22.6</td>\n      <td>22.3</td>\n      <td>22.1</td>\n      <td>99.0</td>\n      <td>99.0</td>\n    </tr>\n    <tr>\n      <th>52527</th>\n      <td>2022</td>\n      <td>12</td>\n      <td>31</td>\n      <td>23</td>\n      <td>30</td>\n      <td>176</td>\n      <td>3.9</td>\n      <td>4.9</td>\n      <td>99.0</td>\n      <td>99.0</td>\n      <td>99.0</td>\n      <td>999</td>\n      <td>1016.3</td>\n      <td>22.6</td>\n      <td>22.3</td>\n      <td>22.2</td>\n      <td>99.0</td>\n      <td>99.0</td>\n    </tr>\n    <tr>\n      <th>52528</th>\n      <td>2022</td>\n      <td>12</td>\n      <td>31</td>\n      <td>23</td>\n      <td>40</td>\n      <td>181</td>\n      <td>5.3</td>\n      <td>6.4</td>\n      <td>0.78</td>\n      <td>4.76</td>\n      <td>4.26</td>\n      <td>177</td>\n      <td>1016.4</td>\n      <td>22.6</td>\n      <td>22.3</td>\n      <td>22.1</td>\n      <td>99.0</td>\n      <td>99.0</td>\n    </tr>\n    <tr>\n      <th>52529</th>\n      <td>2022</td>\n      <td>12</td>\n      <td>31</td>\n      <td>23</td>\n      <td>50</td>\n      <td>185</td>\n      <td>4.4</td>\n      <td>5.4</td>\n      <td>99.0</td>\n      <td>99.0</td>\n      <td>99.0</td>\n      <td>999</td>\n      <td>1016.5</td>\n      <td>22.6</td>\n      <td>22.3</td>\n      <td>22.1</td>\n      <td>99.0</td>\n      <td>99.0</td>\n    </tr>\n  </tbody>\n</table>\n<p>52530 rows × 18 columns</p>\n</div>"
     },
     "execution_count": 10,
     "metadata": {},
     "output_type": "execute_result"
    }
   ],
   "source": [
    "df_data_1"
   ],
   "metadata": {
    "collapsed": false,
    "pycharm": {
     "name": "#%%\n"
    }
   }
  },
  {
   "cell_type": "code",
   "execution_count": 11,
   "outputs": [
    {
     "name": "stdout",
     "output_type": "stream",
     "text": [
      "from web\n"
     ]
    }
   ],
   "source": [
    "station_number_1, df_data_2 = mL.get_data_file(station_number, year, fromDisc=False)"
   ],
   "metadata": {
    "collapsed": false,
    "pycharm": {
     "name": "#%%\n"
    }
   }
  },
  {
   "cell_type": "code",
   "execution_count": 12,
   "outputs": [
    {
     "data": {
      "text/plain": "        #YY  MM  DD  hh  mm  WDIR WSPD  GST   WVHT    DPD    APD   MWD  \\\n0       #yr  mo  dy  hr  mn  degT  m/s  m/s      m    sec    sec  degT   \n1      2022  01  01  00  00   168  3.5  4.2  99.00  99.00  99.00   999   \n2      2022  01  01  00  10   167  3.5  4.3  99.00  99.00  99.00   999   \n3      2022  01  01  00  20   165  3.4  4.6  99.00  99.00  99.00   999   \n4      2022  01  01  00  30   163  3.8  4.5  99.00  99.00  99.00   999   \n...     ...  ..  ..  ..  ..   ...  ...  ...    ...    ...    ...   ...   \n52525  2022  12  31  23  10   179  3.7  4.5   0.76   5.00   4.28   185   \n52526  2022  12  31  23  20   184  3.6  4.5  99.00  99.00  99.00   999   \n52527  2022  12  31  23  30   176  3.9  4.9  99.00  99.00  99.00   999   \n52528  2022  12  31  23  40   181  5.3  6.4   0.78   4.76   4.26   177   \n52529  2022  12  31  23  50   185  4.4  5.4  99.00  99.00  99.00   999   \n\n         PRES  ATMP  WTMP  DEWP   VIS   TIDE  \n0         hPa  degC  degC  degC    mi     ft  \n1      1016.3  23.3  23.0  23.3  99.0  99.00  \n2      1016.4  23.2  23.1  23.2  99.0  99.00  \n3      1016.4  23.2  23.0  23.2  99.0  99.00  \n4      1016.4  23.2  23.0  23.2  99.0  99.00  \n...       ...   ...   ...   ...   ...    ...  \n52525  1016.4  22.6  22.3  22.1  99.0  99.00  \n52526  1016.5  22.6  22.3  22.1  99.0  99.00  \n52527  1016.3  22.6  22.3  22.2  99.0  99.00  \n52528  1016.4  22.6  22.3  22.1  99.0  99.00  \n52529  1016.5  22.6  22.3  22.1  99.0  99.00  \n\n[52530 rows x 18 columns]",
      "text/html": "<div>\n<style scoped>\n    .dataframe tbody tr th:only-of-type {\n        vertical-align: middle;\n    }\n\n    .dataframe tbody tr th {\n        vertical-align: top;\n    }\n\n    .dataframe thead th {\n        text-align: right;\n    }\n</style>\n<table border=\"1\" class=\"dataframe\">\n  <thead>\n    <tr style=\"text-align: right;\">\n      <th></th>\n      <th>#YY</th>\n      <th>MM</th>\n      <th>DD</th>\n      <th>hh</th>\n      <th>mm</th>\n      <th>WDIR</th>\n      <th>WSPD</th>\n      <th>GST</th>\n      <th>WVHT</th>\n      <th>DPD</th>\n      <th>APD</th>\n      <th>MWD</th>\n      <th>PRES</th>\n      <th>ATMP</th>\n      <th>WTMP</th>\n      <th>DEWP</th>\n      <th>VIS</th>\n      <th>TIDE</th>\n    </tr>\n  </thead>\n  <tbody>\n    <tr>\n      <th>0</th>\n      <td>#yr</td>\n      <td>mo</td>\n      <td>dy</td>\n      <td>hr</td>\n      <td>mn</td>\n      <td>degT</td>\n      <td>m/s</td>\n      <td>m/s</td>\n      <td>m</td>\n      <td>sec</td>\n      <td>sec</td>\n      <td>degT</td>\n      <td>hPa</td>\n      <td>degC</td>\n      <td>degC</td>\n      <td>degC</td>\n      <td>mi</td>\n      <td>ft</td>\n    </tr>\n    <tr>\n      <th>1</th>\n      <td>2022</td>\n      <td>01</td>\n      <td>01</td>\n      <td>00</td>\n      <td>00</td>\n      <td>168</td>\n      <td>3.5</td>\n      <td>4.2</td>\n      <td>99.00</td>\n      <td>99.00</td>\n      <td>99.00</td>\n      <td>999</td>\n      <td>1016.3</td>\n      <td>23.3</td>\n      <td>23.0</td>\n      <td>23.3</td>\n      <td>99.0</td>\n      <td>99.00</td>\n    </tr>\n    <tr>\n      <th>2</th>\n      <td>2022</td>\n      <td>01</td>\n      <td>01</td>\n      <td>00</td>\n      <td>10</td>\n      <td>167</td>\n      <td>3.5</td>\n      <td>4.3</td>\n      <td>99.00</td>\n      <td>99.00</td>\n      <td>99.00</td>\n      <td>999</td>\n      <td>1016.4</td>\n      <td>23.2</td>\n      <td>23.1</td>\n      <td>23.2</td>\n      <td>99.0</td>\n      <td>99.00</td>\n    </tr>\n    <tr>\n      <th>3</th>\n      <td>2022</td>\n      <td>01</td>\n      <td>01</td>\n      <td>00</td>\n      <td>20</td>\n      <td>165</td>\n      <td>3.4</td>\n      <td>4.6</td>\n      <td>99.00</td>\n      <td>99.00</td>\n      <td>99.00</td>\n      <td>999</td>\n      <td>1016.4</td>\n      <td>23.2</td>\n      <td>23.0</td>\n      <td>23.2</td>\n      <td>99.0</td>\n      <td>99.00</td>\n    </tr>\n    <tr>\n      <th>4</th>\n      <td>2022</td>\n      <td>01</td>\n      <td>01</td>\n      <td>00</td>\n      <td>30</td>\n      <td>163</td>\n      <td>3.8</td>\n      <td>4.5</td>\n      <td>99.00</td>\n      <td>99.00</td>\n      <td>99.00</td>\n      <td>999</td>\n      <td>1016.4</td>\n      <td>23.2</td>\n      <td>23.0</td>\n      <td>23.2</td>\n      <td>99.0</td>\n      <td>99.00</td>\n    </tr>\n    <tr>\n      <th>...</th>\n      <td>...</td>\n      <td>...</td>\n      <td>...</td>\n      <td>...</td>\n      <td>...</td>\n      <td>...</td>\n      <td>...</td>\n      <td>...</td>\n      <td>...</td>\n      <td>...</td>\n      <td>...</td>\n      <td>...</td>\n      <td>...</td>\n      <td>...</td>\n      <td>...</td>\n      <td>...</td>\n      <td>...</td>\n      <td>...</td>\n    </tr>\n    <tr>\n      <th>52525</th>\n      <td>2022</td>\n      <td>12</td>\n      <td>31</td>\n      <td>23</td>\n      <td>10</td>\n      <td>179</td>\n      <td>3.7</td>\n      <td>4.5</td>\n      <td>0.76</td>\n      <td>5.00</td>\n      <td>4.28</td>\n      <td>185</td>\n      <td>1016.4</td>\n      <td>22.6</td>\n      <td>22.3</td>\n      <td>22.1</td>\n      <td>99.0</td>\n      <td>99.00</td>\n    </tr>\n    <tr>\n      <th>52526</th>\n      <td>2022</td>\n      <td>12</td>\n      <td>31</td>\n      <td>23</td>\n      <td>20</td>\n      <td>184</td>\n      <td>3.6</td>\n      <td>4.5</td>\n      <td>99.00</td>\n      <td>99.00</td>\n      <td>99.00</td>\n      <td>999</td>\n      <td>1016.5</td>\n      <td>22.6</td>\n      <td>22.3</td>\n      <td>22.1</td>\n      <td>99.0</td>\n      <td>99.00</td>\n    </tr>\n    <tr>\n      <th>52527</th>\n      <td>2022</td>\n      <td>12</td>\n      <td>31</td>\n      <td>23</td>\n      <td>30</td>\n      <td>176</td>\n      <td>3.9</td>\n      <td>4.9</td>\n      <td>99.00</td>\n      <td>99.00</td>\n      <td>99.00</td>\n      <td>999</td>\n      <td>1016.3</td>\n      <td>22.6</td>\n      <td>22.3</td>\n      <td>22.2</td>\n      <td>99.0</td>\n      <td>99.00</td>\n    </tr>\n    <tr>\n      <th>52528</th>\n      <td>2022</td>\n      <td>12</td>\n      <td>31</td>\n      <td>23</td>\n      <td>40</td>\n      <td>181</td>\n      <td>5.3</td>\n      <td>6.4</td>\n      <td>0.78</td>\n      <td>4.76</td>\n      <td>4.26</td>\n      <td>177</td>\n      <td>1016.4</td>\n      <td>22.6</td>\n      <td>22.3</td>\n      <td>22.1</td>\n      <td>99.0</td>\n      <td>99.00</td>\n    </tr>\n    <tr>\n      <th>52529</th>\n      <td>2022</td>\n      <td>12</td>\n      <td>31</td>\n      <td>23</td>\n      <td>50</td>\n      <td>185</td>\n      <td>4.4</td>\n      <td>5.4</td>\n      <td>99.00</td>\n      <td>99.00</td>\n      <td>99.00</td>\n      <td>999</td>\n      <td>1016.5</td>\n      <td>22.6</td>\n      <td>22.3</td>\n      <td>22.1</td>\n      <td>99.0</td>\n      <td>99.00</td>\n    </tr>\n  </tbody>\n</table>\n<p>52530 rows × 18 columns</p>\n</div>"
     },
     "execution_count": 12,
     "metadata": {},
     "output_type": "execute_result"
    }
   ],
   "source": [
    "df_data_2"
   ],
   "metadata": {
    "collapsed": false,
    "pycharm": {
     "name": "#%%\n"
    }
   }
  },
  {
   "cell_type": "markdown",
   "source": [
    "# Download ERA5 Data Files"
   ],
   "metadata": {
    "collapsed": false,
    "pycharm": {
     "name": "#%% md\n"
    }
   }
  },
  {
   "cell_type": "code",
   "execution_count": 1,
   "outputs": [
    {
     "data": {
      "text/plain": "['41117',\n '41112',\n '42001',\n '42002',\n '42012',\n '42013',\n '42019',\n '42020',\n '42022',\n '42023']"
     },
     "execution_count": 1,
     "metadata": {},
     "output_type": "execute_result"
    }
   ],
   "source": [
    "import myLibrary as mL\n",
    "\n",
    "stations = mL.cleaned_stations_GOM[0:10]\n",
    "stations"
   ],
   "metadata": {
    "collapsed": false,
    "pycharm": {
     "name": "#%%\n"
    }
   }
  },
  {
   "cell_type": "code",
   "execution_count": null,
   "outputs": [
    {
     "name": "stdout",
     "output_type": "stream",
     "text": [
      "Started with  2022 . Previous year took:   9.5367431640625e-07 seconds\n",
      "donwloading 41117_2022.nc ...\n",
      "/Users/elsandner/Library/Mobile Documents/com~apple~CloudDocs/Uni/WS22/Master Thesis/Master_Project/data/ERA5_downloads/singleStations/41117_2022.nc\n"
     ]
    },
    {
     "name": "stderr",
     "output_type": "stream",
     "text": [
      "/opt/homebrew/Caskroom/miniforge/base/envs/Master_Project/lib/python3.8/site-packages/urllib3/connectionpool.py:1045: InsecureRequestWarning: Unverified HTTPS request is being made to host 'cds.climate.copernicus.eu'. Adding certificate verification is strongly advised. See: https://urllib3.readthedocs.io/en/1.26.x/advanced-usage.html#ssl-warnings\n",
      "  warnings.warn(\n",
      "2023-04-21 14:36:29,317 INFO Welcome to the CDS\n",
      "2023-04-21 14:36:29,318 INFO Sending request to https://cds.climate.copernicus.eu/api/v2/resources/reanalysis-era5-single-levels\n",
      "/opt/homebrew/Caskroom/miniforge/base/envs/Master_Project/lib/python3.8/site-packages/urllib3/connectionpool.py:1045: InsecureRequestWarning: Unverified HTTPS request is being made to host 'cds.climate.copernicus.eu'. Adding certificate verification is strongly advised. See: https://urllib3.readthedocs.io/en/1.26.x/advanced-usage.html#ssl-warnings\n",
      "  warnings.warn(\n",
      "2023-04-21 14:36:29,573 INFO Request is queued\n",
      "/opt/homebrew/Caskroom/miniforge/base/envs/Master_Project/lib/python3.8/site-packages/urllib3/connectionpool.py:1045: InsecureRequestWarning: Unverified HTTPS request is being made to host 'cds.climate.copernicus.eu'. Adding certificate verification is strongly advised. See: https://urllib3.readthedocs.io/en/1.26.x/advanced-usage.html#ssl-warnings\n",
      "  warnings.warn(\n",
      "2023-04-21 14:36:30,729 INFO Request is running\n",
      "/opt/homebrew/Caskroom/miniforge/base/envs/Master_Project/lib/python3.8/site-packages/urllib3/connectionpool.py:1045: InsecureRequestWarning: Unverified HTTPS request is being made to host 'cds.climate.copernicus.eu'. Adding certificate verification is strongly advised. See: https://urllib3.readthedocs.io/en/1.26.x/advanced-usage.html#ssl-warnings\n",
      "  warnings.warn(\n",
      "/opt/homebrew/Caskroom/miniforge/base/envs/Master_Project/lib/python3.8/site-packages/urllib3/connectionpool.py:1045: InsecureRequestWarning: Unverified HTTPS request is being made to host 'cds.climate.copernicus.eu'. Adding certificate verification is strongly advised. See: https://urllib3.readthedocs.io/en/1.26.x/advanced-usage.html#ssl-warnings\n",
      "  warnings.warn(\n",
      "/opt/homebrew/Caskroom/miniforge/base/envs/Master_Project/lib/python3.8/site-packages/urllib3/connectionpool.py:1045: InsecureRequestWarning: Unverified HTTPS request is being made to host 'cds.climate.copernicus.eu'. Adding certificate verification is strongly advised. See: https://urllib3.readthedocs.io/en/1.26.x/advanced-usage.html#ssl-warnings\n",
      "  warnings.warn(\n",
      "/opt/homebrew/Caskroom/miniforge/base/envs/Master_Project/lib/python3.8/site-packages/urllib3/connectionpool.py:1045: InsecureRequestWarning: Unverified HTTPS request is being made to host 'cds.climate.copernicus.eu'. Adding certificate verification is strongly advised. See: https://urllib3.readthedocs.io/en/1.26.x/advanced-usage.html#ssl-warnings\n",
      "  warnings.warn(\n",
      "/opt/homebrew/Caskroom/miniforge/base/envs/Master_Project/lib/python3.8/site-packages/urllib3/connectionpool.py:1045: InsecureRequestWarning: Unverified HTTPS request is being made to host 'cds.climate.copernicus.eu'. Adding certificate verification is strongly advised. See: https://urllib3.readthedocs.io/en/1.26.x/advanced-usage.html#ssl-warnings\n",
      "  warnings.warn(\n",
      "/opt/homebrew/Caskroom/miniforge/base/envs/Master_Project/lib/python3.8/site-packages/urllib3/connectionpool.py:1045: InsecureRequestWarning: Unverified HTTPS request is being made to host 'cds.climate.copernicus.eu'. Adding certificate verification is strongly advised. See: https://urllib3.readthedocs.io/en/1.26.x/advanced-usage.html#ssl-warnings\n",
      "  warnings.warn(\n",
      "/opt/homebrew/Caskroom/miniforge/base/envs/Master_Project/lib/python3.8/site-packages/urllib3/connectionpool.py:1045: InsecureRequestWarning: Unverified HTTPS request is being made to host 'cds.climate.copernicus.eu'. Adding certificate verification is strongly advised. See: https://urllib3.readthedocs.io/en/1.26.x/advanced-usage.html#ssl-warnings\n",
      "  warnings.warn(\n",
      "/opt/homebrew/Caskroom/miniforge/base/envs/Master_Project/lib/python3.8/site-packages/urllib3/connectionpool.py:1045: InsecureRequestWarning: Unverified HTTPS request is being made to host 'cds.climate.copernicus.eu'. Adding certificate verification is strongly advised. See: https://urllib3.readthedocs.io/en/1.26.x/advanced-usage.html#ssl-warnings\n",
      "  warnings.warn(\n",
      "/opt/homebrew/Caskroom/miniforge/base/envs/Master_Project/lib/python3.8/site-packages/urllib3/connectionpool.py:1045: InsecureRequestWarning: Unverified HTTPS request is being made to host 'cds.climate.copernicus.eu'. Adding certificate verification is strongly advised. See: https://urllib3.readthedocs.io/en/1.26.x/advanced-usage.html#ssl-warnings\n",
      "  warnings.warn(\n",
      "/opt/homebrew/Caskroom/miniforge/base/envs/Master_Project/lib/python3.8/site-packages/urllib3/connectionpool.py:1045: InsecureRequestWarning: Unverified HTTPS request is being made to host 'cds.climate.copernicus.eu'. Adding certificate verification is strongly advised. See: https://urllib3.readthedocs.io/en/1.26.x/advanced-usage.html#ssl-warnings\n",
      "  warnings.warn(\n",
      "/opt/homebrew/Caskroom/miniforge/base/envs/Master_Project/lib/python3.8/site-packages/urllib3/connectionpool.py:1045: InsecureRequestWarning: Unverified HTTPS request is being made to host 'cds.climate.copernicus.eu'. Adding certificate verification is strongly advised. See: https://urllib3.readthedocs.io/en/1.26.x/advanced-usage.html#ssl-warnings\n",
      "  warnings.warn(\n",
      "/opt/homebrew/Caskroom/miniforge/base/envs/Master_Project/lib/python3.8/site-packages/urllib3/connectionpool.py:1045: InsecureRequestWarning: Unverified HTTPS request is being made to host 'cds.climate.copernicus.eu'. Adding certificate verification is strongly advised. See: https://urllib3.readthedocs.io/en/1.26.x/advanced-usage.html#ssl-warnings\n",
      "  warnings.warn(\n",
      "/opt/homebrew/Caskroom/miniforge/base/envs/Master_Project/lib/python3.8/site-packages/urllib3/connectionpool.py:1045: InsecureRequestWarning: Unverified HTTPS request is being made to host 'cds.climate.copernicus.eu'. Adding certificate verification is strongly advised. See: https://urllib3.readthedocs.io/en/1.26.x/advanced-usage.html#ssl-warnings\n",
      "  warnings.warn(\n",
      "/opt/homebrew/Caskroom/miniforge/base/envs/Master_Project/lib/python3.8/site-packages/urllib3/connectionpool.py:1045: InsecureRequestWarning: Unverified HTTPS request is being made to host 'cds.climate.copernicus.eu'. Adding certificate verification is strongly advised. See: https://urllib3.readthedocs.io/en/1.26.x/advanced-usage.html#ssl-warnings\n",
      "  warnings.warn(\n",
      "/opt/homebrew/Caskroom/miniforge/base/envs/Master_Project/lib/python3.8/site-packages/urllib3/connectionpool.py:1045: InsecureRequestWarning: Unverified HTTPS request is being made to host 'cds.climate.copernicus.eu'. Adding certificate verification is strongly advised. See: https://urllib3.readthedocs.io/en/1.26.x/advanced-usage.html#ssl-warnings\n",
      "  warnings.warn(\n",
      "/opt/homebrew/Caskroom/miniforge/base/envs/Master_Project/lib/python3.8/site-packages/urllib3/connectionpool.py:1045: InsecureRequestWarning: Unverified HTTPS request is being made to host 'cds.climate.copernicus.eu'. Adding certificate verification is strongly advised. See: https://urllib3.readthedocs.io/en/1.26.x/advanced-usage.html#ssl-warnings\n",
      "  warnings.warn(\n",
      "/opt/homebrew/Caskroom/miniforge/base/envs/Master_Project/lib/python3.8/site-packages/urllib3/connectionpool.py:1045: InsecureRequestWarning: Unverified HTTPS request is being made to host 'cds.climate.copernicus.eu'. Adding certificate verification is strongly advised. See: https://urllib3.readthedocs.io/en/1.26.x/advanced-usage.html#ssl-warnings\n",
      "  warnings.warn(\n",
      "/opt/homebrew/Caskroom/miniforge/base/envs/Master_Project/lib/python3.8/site-packages/urllib3/connectionpool.py:1045: InsecureRequestWarning: Unverified HTTPS request is being made to host 'cds.climate.copernicus.eu'. Adding certificate verification is strongly advised. See: https://urllib3.readthedocs.io/en/1.26.x/advanced-usage.html#ssl-warnings\n",
      "  warnings.warn(\n",
      "/opt/homebrew/Caskroom/miniforge/base/envs/Master_Project/lib/python3.8/site-packages/urllib3/connectionpool.py:1045: InsecureRequestWarning: Unverified HTTPS request is being made to host 'cds.climate.copernicus.eu'. Adding certificate verification is strongly advised. See: https://urllib3.readthedocs.io/en/1.26.x/advanced-usage.html#ssl-warnings\n",
      "  warnings.warn(\n",
      "/opt/homebrew/Caskroom/miniforge/base/envs/Master_Project/lib/python3.8/site-packages/urllib3/connectionpool.py:1045: InsecureRequestWarning: Unverified HTTPS request is being made to host 'cds.climate.copernicus.eu'. Adding certificate verification is strongly advised. See: https://urllib3.readthedocs.io/en/1.26.x/advanced-usage.html#ssl-warnings\n",
      "  warnings.warn(\n",
      "/opt/homebrew/Caskroom/miniforge/base/envs/Master_Project/lib/python3.8/site-packages/urllib3/connectionpool.py:1045: InsecureRequestWarning: Unverified HTTPS request is being made to host 'cds.climate.copernicus.eu'. Adding certificate verification is strongly advised. See: https://urllib3.readthedocs.io/en/1.26.x/advanced-usage.html#ssl-warnings\n",
      "  warnings.warn(\n",
      "/opt/homebrew/Caskroom/miniforge/base/envs/Master_Project/lib/python3.8/site-packages/urllib3/connectionpool.py:1045: InsecureRequestWarning: Unverified HTTPS request is being made to host 'cds.climate.copernicus.eu'. Adding certificate verification is strongly advised. See: https://urllib3.readthedocs.io/en/1.26.x/advanced-usage.html#ssl-warnings\n",
      "  warnings.warn(\n",
      "/opt/homebrew/Caskroom/miniforge/base/envs/Master_Project/lib/python3.8/site-packages/urllib3/connectionpool.py:1045: InsecureRequestWarning: Unverified HTTPS request is being made to host 'cds.climate.copernicus.eu'. Adding certificate verification is strongly advised. See: https://urllib3.readthedocs.io/en/1.26.x/advanced-usage.html#ssl-warnings\n",
      "  warnings.warn(\n",
      "/opt/homebrew/Caskroom/miniforge/base/envs/Master_Project/lib/python3.8/site-packages/urllib3/connectionpool.py:1045: InsecureRequestWarning: Unverified HTTPS request is being made to host 'cds.climate.copernicus.eu'. Adding certificate verification is strongly advised. See: https://urllib3.readthedocs.io/en/1.26.x/advanced-usage.html#ssl-warnings\n",
      "  warnings.warn(\n",
      "/opt/homebrew/Caskroom/miniforge/base/envs/Master_Project/lib/python3.8/site-packages/urllib3/connectionpool.py:1045: InsecureRequestWarning: Unverified HTTPS request is being made to host 'cds.climate.copernicus.eu'. Adding certificate verification is strongly advised. See: https://urllib3.readthedocs.io/en/1.26.x/advanced-usage.html#ssl-warnings\n",
      "  warnings.warn(\n",
      "/opt/homebrew/Caskroom/miniforge/base/envs/Master_Project/lib/python3.8/site-packages/urllib3/connectionpool.py:1045: InsecureRequestWarning: Unverified HTTPS request is being made to host 'cds.climate.copernicus.eu'. Adding certificate verification is strongly advised. See: https://urllib3.readthedocs.io/en/1.26.x/advanced-usage.html#ssl-warnings\n",
      "  warnings.warn(\n",
      "/opt/homebrew/Caskroom/miniforge/base/envs/Master_Project/lib/python3.8/site-packages/urllib3/connectionpool.py:1045: InsecureRequestWarning: Unverified HTTPS request is being made to host 'cds.climate.copernicus.eu'. Adding certificate verification is strongly advised. See: https://urllib3.readthedocs.io/en/1.26.x/advanced-usage.html#ssl-warnings\n",
      "  warnings.warn(\n",
      "/opt/homebrew/Caskroom/miniforge/base/envs/Master_Project/lib/python3.8/site-packages/urllib3/connectionpool.py:1045: InsecureRequestWarning: Unverified HTTPS request is being made to host 'cds.climate.copernicus.eu'. Adding certificate verification is strongly advised. See: https://urllib3.readthedocs.io/en/1.26.x/advanced-usage.html#ssl-warnings\n",
      "  warnings.warn(\n",
      "/opt/homebrew/Caskroom/miniforge/base/envs/Master_Project/lib/python3.8/site-packages/urllib3/connectionpool.py:1045: InsecureRequestWarning: Unverified HTTPS request is being made to host 'cds.climate.copernicus.eu'. Adding certificate verification is strongly advised. See: https://urllib3.readthedocs.io/en/1.26.x/advanced-usage.html#ssl-warnings\n",
      "  warnings.warn(\n",
      "/opt/homebrew/Caskroom/miniforge/base/envs/Master_Project/lib/python3.8/site-packages/urllib3/connectionpool.py:1045: InsecureRequestWarning: Unverified HTTPS request is being made to host 'cds.climate.copernicus.eu'. Adding certificate verification is strongly advised. See: https://urllib3.readthedocs.io/en/1.26.x/advanced-usage.html#ssl-warnings\n",
      "  warnings.warn(\n",
      "/opt/homebrew/Caskroom/miniforge/base/envs/Master_Project/lib/python3.8/site-packages/urllib3/connectionpool.py:1045: InsecureRequestWarning: Unverified HTTPS request is being made to host 'cds.climate.copernicus.eu'. Adding certificate verification is strongly advised. See: https://urllib3.readthedocs.io/en/1.26.x/advanced-usage.html#ssl-warnings\n",
      "  warnings.warn(\n",
      "2023-04-21 15:21:01,867 INFO Request is completed\n",
      "2023-04-21 15:21:01,869 INFO Downloading https://download-0001-clone.copernicus-climate.eu/cache-compute-0001/cache/data8/adaptor.mars.internal-1682107996.974822-13770-10-6e679dbf-8d5b-4a48-868b-ad7d926094f2.nc to /Users/elsandner/Library/Mobile Documents/com~apple~CloudDocs/Uni/WS22/Master Thesis/Master_Project/data/ERA5_downloads/singleStations/41117_2022.nc (191.3K)\n",
      "/opt/homebrew/Caskroom/miniforge/base/envs/Master_Project/lib/python3.8/site-packages/urllib3/connectionpool.py:1045: InsecureRequestWarning: Unverified HTTPS request is being made to host 'download-0001-clone.copernicus-climate.eu'. Adding certificate verification is strongly advised. See: https://urllib3.readthedocs.io/en/1.26.x/advanced-usage.html#ssl-warnings\n",
      "  warnings.warn(\n",
      "2023-04-21 15:21:03,084 INFO Download rate 157.5K/s\n",
      "/opt/homebrew/Caskroom/miniforge/base/envs/Master_Project/lib/python3.8/site-packages/urllib3/connectionpool.py:1045: InsecureRequestWarning: Unverified HTTPS request is being made to host 'cds.climate.copernicus.eu'. Adding certificate verification is strongly advised. See: https://urllib3.readthedocs.io/en/1.26.x/advanced-usage.html#ssl-warnings\n",
      "  warnings.warn(\n"
     ]
    },
    {
     "name": "stdout",
     "output_type": "stream",
     "text": [
      "Completed download of 41117_2022.nc!\n",
      "donwloading 41112_2022.nc ...\n",
      "/Users/elsandner/Library/Mobile Documents/com~apple~CloudDocs/Uni/WS22/Master Thesis/Master_Project/data/ERA5_downloads/singleStations/41112_2022.nc\n"
     ]
    },
    {
     "name": "stderr",
     "output_type": "stream",
     "text": [
      "/opt/homebrew/Caskroom/miniforge/base/envs/Master_Project/lib/python3.8/site-packages/urllib3/connectionpool.py:1045: InsecureRequestWarning: Unverified HTTPS request is being made to host 'cds.climate.copernicus.eu'. Adding certificate verification is strongly advised. See: https://urllib3.readthedocs.io/en/1.26.x/advanced-usage.html#ssl-warnings\n",
      "  warnings.warn(\n",
      "2023-04-21 15:21:03,534 INFO Welcome to the CDS\n",
      "2023-04-21 15:21:03,535 INFO Sending request to https://cds.climate.copernicus.eu/api/v2/resources/reanalysis-era5-single-levels\n",
      "/opt/homebrew/Caskroom/miniforge/base/envs/Master_Project/lib/python3.8/site-packages/urllib3/connectionpool.py:1045: InsecureRequestWarning: Unverified HTTPS request is being made to host 'cds.climate.copernicus.eu'. Adding certificate verification is strongly advised. See: https://urllib3.readthedocs.io/en/1.26.x/advanced-usage.html#ssl-warnings\n",
      "  warnings.warn(\n",
      "2023-04-21 15:21:03,756 INFO Request is queued\n",
      "/opt/homebrew/Caskroom/miniforge/base/envs/Master_Project/lib/python3.8/site-packages/urllib3/connectionpool.py:1045: InsecureRequestWarning: Unverified HTTPS request is being made to host 'cds.climate.copernicus.eu'. Adding certificate verification is strongly advised. See: https://urllib3.readthedocs.io/en/1.26.x/advanced-usage.html#ssl-warnings\n",
      "  warnings.warn(\n",
      "2023-04-21 15:21:04,917 INFO Request is running\n",
      "/opt/homebrew/Caskroom/miniforge/base/envs/Master_Project/lib/python3.8/site-packages/urllib3/connectionpool.py:1045: InsecureRequestWarning: Unverified HTTPS request is being made to host 'cds.climate.copernicus.eu'. Adding certificate verification is strongly advised. See: https://urllib3.readthedocs.io/en/1.26.x/advanced-usage.html#ssl-warnings\n",
      "  warnings.warn(\n",
      "/opt/homebrew/Caskroom/miniforge/base/envs/Master_Project/lib/python3.8/site-packages/urllib3/connectionpool.py:1045: InsecureRequestWarning: Unverified HTTPS request is being made to host 'cds.climate.copernicus.eu'. Adding certificate verification is strongly advised. See: https://urllib3.readthedocs.io/en/1.26.x/advanced-usage.html#ssl-warnings\n",
      "  warnings.warn(\n",
      "/opt/homebrew/Caskroom/miniforge/base/envs/Master_Project/lib/python3.8/site-packages/urllib3/connectionpool.py:1045: InsecureRequestWarning: Unverified HTTPS request is being made to host 'cds.climate.copernicus.eu'. Adding certificate verification is strongly advised. See: https://urllib3.readthedocs.io/en/1.26.x/advanced-usage.html#ssl-warnings\n",
      "  warnings.warn(\n",
      "/opt/homebrew/Caskroom/miniforge/base/envs/Master_Project/lib/python3.8/site-packages/urllib3/connectionpool.py:1045: InsecureRequestWarning: Unverified HTTPS request is being made to host 'cds.climate.copernicus.eu'. Adding certificate verification is strongly advised. See: https://urllib3.readthedocs.io/en/1.26.x/advanced-usage.html#ssl-warnings\n",
      "  warnings.warn(\n",
      "/opt/homebrew/Caskroom/miniforge/base/envs/Master_Project/lib/python3.8/site-packages/urllib3/connectionpool.py:1045: InsecureRequestWarning: Unverified HTTPS request is being made to host 'cds.climate.copernicus.eu'. Adding certificate verification is strongly advised. See: https://urllib3.readthedocs.io/en/1.26.x/advanced-usage.html#ssl-warnings\n",
      "  warnings.warn(\n",
      "/opt/homebrew/Caskroom/miniforge/base/envs/Master_Project/lib/python3.8/site-packages/urllib3/connectionpool.py:1045: InsecureRequestWarning: Unverified HTTPS request is being made to host 'cds.climate.copernicus.eu'. Adding certificate verification is strongly advised. See: https://urllib3.readthedocs.io/en/1.26.x/advanced-usage.html#ssl-warnings\n",
      "  warnings.warn(\n",
      "/opt/homebrew/Caskroom/miniforge/base/envs/Master_Project/lib/python3.8/site-packages/urllib3/connectionpool.py:1045: InsecureRequestWarning: Unverified HTTPS request is being made to host 'cds.climate.copernicus.eu'. Adding certificate verification is strongly advised. See: https://urllib3.readthedocs.io/en/1.26.x/advanced-usage.html#ssl-warnings\n",
      "  warnings.warn(\n",
      "/opt/homebrew/Caskroom/miniforge/base/envs/Master_Project/lib/python3.8/site-packages/urllib3/connectionpool.py:1045: InsecureRequestWarning: Unverified HTTPS request is being made to host 'cds.climate.copernicus.eu'. Adding certificate verification is strongly advised. See: https://urllib3.readthedocs.io/en/1.26.x/advanced-usage.html#ssl-warnings\n",
      "  warnings.warn(\n",
      "/opt/homebrew/Caskroom/miniforge/base/envs/Master_Project/lib/python3.8/site-packages/urllib3/connectionpool.py:1045: InsecureRequestWarning: Unverified HTTPS request is being made to host 'cds.climate.copernicus.eu'. Adding certificate verification is strongly advised. See: https://urllib3.readthedocs.io/en/1.26.x/advanced-usage.html#ssl-warnings\n",
      "  warnings.warn(\n",
      "/opt/homebrew/Caskroom/miniforge/base/envs/Master_Project/lib/python3.8/site-packages/urllib3/connectionpool.py:1045: InsecureRequestWarning: Unverified HTTPS request is being made to host 'cds.climate.copernicus.eu'. Adding certificate verification is strongly advised. See: https://urllib3.readthedocs.io/en/1.26.x/advanced-usage.html#ssl-warnings\n",
      "  warnings.warn(\n",
      "/opt/homebrew/Caskroom/miniforge/base/envs/Master_Project/lib/python3.8/site-packages/urllib3/connectionpool.py:1045: InsecureRequestWarning: Unverified HTTPS request is being made to host 'cds.climate.copernicus.eu'. Adding certificate verification is strongly advised. See: https://urllib3.readthedocs.io/en/1.26.x/advanced-usage.html#ssl-warnings\n",
      "  warnings.warn(\n",
      "/opt/homebrew/Caskroom/miniforge/base/envs/Master_Project/lib/python3.8/site-packages/urllib3/connectionpool.py:1045: InsecureRequestWarning: Unverified HTTPS request is being made to host 'cds.climate.copernicus.eu'. Adding certificate verification is strongly advised. See: https://urllib3.readthedocs.io/en/1.26.x/advanced-usage.html#ssl-warnings\n",
      "  warnings.warn(\n",
      "/opt/homebrew/Caskroom/miniforge/base/envs/Master_Project/lib/python3.8/site-packages/urllib3/connectionpool.py:1045: InsecureRequestWarning: Unverified HTTPS request is being made to host 'cds.climate.copernicus.eu'. Adding certificate verification is strongly advised. See: https://urllib3.readthedocs.io/en/1.26.x/advanced-usage.html#ssl-warnings\n",
      "  warnings.warn(\n",
      "/opt/homebrew/Caskroom/miniforge/base/envs/Master_Project/lib/python3.8/site-packages/urllib3/connectionpool.py:1045: InsecureRequestWarning: Unverified HTTPS request is being made to host 'cds.climate.copernicus.eu'. Adding certificate verification is strongly advised. See: https://urllib3.readthedocs.io/en/1.26.x/advanced-usage.html#ssl-warnings\n",
      "  warnings.warn(\n",
      "/opt/homebrew/Caskroom/miniforge/base/envs/Master_Project/lib/python3.8/site-packages/urllib3/connectionpool.py:1045: InsecureRequestWarning: Unverified HTTPS request is being made to host 'cds.climate.copernicus.eu'. Adding certificate verification is strongly advised. See: https://urllib3.readthedocs.io/en/1.26.x/advanced-usage.html#ssl-warnings\n",
      "  warnings.warn(\n",
      "/opt/homebrew/Caskroom/miniforge/base/envs/Master_Project/lib/python3.8/site-packages/urllib3/connectionpool.py:1045: InsecureRequestWarning: Unverified HTTPS request is being made to host 'cds.climate.copernicus.eu'. Adding certificate verification is strongly advised. See: https://urllib3.readthedocs.io/en/1.26.x/advanced-usage.html#ssl-warnings\n",
      "  warnings.warn(\n",
      "/opt/homebrew/Caskroom/miniforge/base/envs/Master_Project/lib/python3.8/site-packages/urllib3/connectionpool.py:1045: InsecureRequestWarning: Unverified HTTPS request is being made to host 'cds.climate.copernicus.eu'. Adding certificate verification is strongly advised. See: https://urllib3.readthedocs.io/en/1.26.x/advanced-usage.html#ssl-warnings\n",
      "  warnings.warn(\n",
      "/opt/homebrew/Caskroom/miniforge/base/envs/Master_Project/lib/python3.8/site-packages/urllib3/connectionpool.py:1045: InsecureRequestWarning: Unverified HTTPS request is being made to host 'cds.climate.copernicus.eu'. Adding certificate verification is strongly advised. See: https://urllib3.readthedocs.io/en/1.26.x/advanced-usage.html#ssl-warnings\n",
      "  warnings.warn(\n",
      "/opt/homebrew/Caskroom/miniforge/base/envs/Master_Project/lib/python3.8/site-packages/urllib3/connectionpool.py:1045: InsecureRequestWarning: Unverified HTTPS request is being made to host 'cds.climate.copernicus.eu'. Adding certificate verification is strongly advised. See: https://urllib3.readthedocs.io/en/1.26.x/advanced-usage.html#ssl-warnings\n",
      "  warnings.warn(\n",
      "/opt/homebrew/Caskroom/miniforge/base/envs/Master_Project/lib/python3.8/site-packages/urllib3/connectionpool.py:1045: InsecureRequestWarning: Unverified HTTPS request is being made to host 'cds.climate.copernicus.eu'. Adding certificate verification is strongly advised. See: https://urllib3.readthedocs.io/en/1.26.x/advanced-usage.html#ssl-warnings\n",
      "  warnings.warn(\n",
      "/opt/homebrew/Caskroom/miniforge/base/envs/Master_Project/lib/python3.8/site-packages/urllib3/connectionpool.py:1045: InsecureRequestWarning: Unverified HTTPS request is being made to host 'cds.climate.copernicus.eu'. Adding certificate verification is strongly advised. See: https://urllib3.readthedocs.io/en/1.26.x/advanced-usage.html#ssl-warnings\n",
      "  warnings.warn(\n",
      "/opt/homebrew/Caskroom/miniforge/base/envs/Master_Project/lib/python3.8/site-packages/urllib3/connectionpool.py:1045: InsecureRequestWarning: Unverified HTTPS request is being made to host 'cds.climate.copernicus.eu'. Adding certificate verification is strongly advised. See: https://urllib3.readthedocs.io/en/1.26.x/advanced-usage.html#ssl-warnings\n",
      "  warnings.warn(\n",
      "/opt/homebrew/Caskroom/miniforge/base/envs/Master_Project/lib/python3.8/site-packages/urllib3/connectionpool.py:1045: InsecureRequestWarning: Unverified HTTPS request is being made to host 'cds.climate.copernicus.eu'. Adding certificate verification is strongly advised. See: https://urllib3.readthedocs.io/en/1.26.x/advanced-usage.html#ssl-warnings\n",
      "  warnings.warn(\n",
      "/opt/homebrew/Caskroom/miniforge/base/envs/Master_Project/lib/python3.8/site-packages/urllib3/connectionpool.py:1045: InsecureRequestWarning: Unverified HTTPS request is being made to host 'cds.climate.copernicus.eu'. Adding certificate verification is strongly advised. See: https://urllib3.readthedocs.io/en/1.26.x/advanced-usage.html#ssl-warnings\n",
      "  warnings.warn(\n",
      "/opt/homebrew/Caskroom/miniforge/base/envs/Master_Project/lib/python3.8/site-packages/urllib3/connectionpool.py:1045: InsecureRequestWarning: Unverified HTTPS request is being made to host 'cds.climate.copernicus.eu'. Adding certificate verification is strongly advised. See: https://urllib3.readthedocs.io/en/1.26.x/advanced-usage.html#ssl-warnings\n",
      "  warnings.warn(\n",
      "/opt/homebrew/Caskroom/miniforge/base/envs/Master_Project/lib/python3.8/site-packages/urllib3/connectionpool.py:1045: InsecureRequestWarning: Unverified HTTPS request is being made to host 'cds.climate.copernicus.eu'. Adding certificate verification is strongly advised. See: https://urllib3.readthedocs.io/en/1.26.x/advanced-usage.html#ssl-warnings\n",
      "  warnings.warn(\n",
      "/opt/homebrew/Caskroom/miniforge/base/envs/Master_Project/lib/python3.8/site-packages/urllib3/connectionpool.py:1045: InsecureRequestWarning: Unverified HTTPS request is being made to host 'cds.climate.copernicus.eu'. Adding certificate verification is strongly advised. See: https://urllib3.readthedocs.io/en/1.26.x/advanced-usage.html#ssl-warnings\n",
      "  warnings.warn(\n",
      "/opt/homebrew/Caskroom/miniforge/base/envs/Master_Project/lib/python3.8/site-packages/urllib3/connectionpool.py:1045: InsecureRequestWarning: Unverified HTTPS request is being made to host 'cds.climate.copernicus.eu'. Adding certificate verification is strongly advised. See: https://urllib3.readthedocs.io/en/1.26.x/advanced-usage.html#ssl-warnings\n",
      "  warnings.warn(\n",
      "/opt/homebrew/Caskroom/miniforge/base/envs/Master_Project/lib/python3.8/site-packages/urllib3/connectionpool.py:1045: InsecureRequestWarning: Unverified HTTPS request is being made to host 'cds.climate.copernicus.eu'. Adding certificate verification is strongly advised. See: https://urllib3.readthedocs.io/en/1.26.x/advanced-usage.html#ssl-warnings\n",
      "  warnings.warn(\n",
      "/opt/homebrew/Caskroom/miniforge/base/envs/Master_Project/lib/python3.8/site-packages/urllib3/connectionpool.py:1045: InsecureRequestWarning: Unverified HTTPS request is being made to host 'cds.climate.copernicus.eu'. Adding certificate verification is strongly advised. See: https://urllib3.readthedocs.io/en/1.26.x/advanced-usage.html#ssl-warnings\n",
      "  warnings.warn(\n",
      "/opt/homebrew/Caskroom/miniforge/base/envs/Master_Project/lib/python3.8/site-packages/urllib3/connectionpool.py:1045: InsecureRequestWarning: Unverified HTTPS request is being made to host 'cds.climate.copernicus.eu'. Adding certificate verification is strongly advised. See: https://urllib3.readthedocs.io/en/1.26.x/advanced-usage.html#ssl-warnings\n",
      "  warnings.warn(\n",
      "2023-04-21 16:05:38,461 INFO Request is completed\n",
      "2023-04-21 16:05:38,463 INFO Downloading https://download-0002-clone.copernicus-climate.eu/cache-compute-0002/cache/data6/adaptor.mars.internal-1682110649.43874-10261-7-60711fdf-5572-4276-8600-90d01f19414c.nc to /Users/elsandner/Library/Mobile Documents/com~apple~CloudDocs/Uni/WS22/Master Thesis/Master_Project/data/ERA5_downloads/singleStations/41112_2022.nc (191.3K)\n",
      "/opt/homebrew/Caskroom/miniforge/base/envs/Master_Project/lib/python3.8/site-packages/urllib3/connectionpool.py:1045: InsecureRequestWarning: Unverified HTTPS request is being made to host 'download-0002-clone.copernicus-climate.eu'. Adding certificate verification is strongly advised. See: https://urllib3.readthedocs.io/en/1.26.x/advanced-usage.html#ssl-warnings\n",
      "  warnings.warn(\n",
      "2023-04-21 16:05:39,721 INFO Download rate 152.2K/s\n",
      "/opt/homebrew/Caskroom/miniforge/base/envs/Master_Project/lib/python3.8/site-packages/urllib3/connectionpool.py:1045: InsecureRequestWarning: Unverified HTTPS request is being made to host 'cds.climate.copernicus.eu'. Adding certificate verification is strongly advised. See: https://urllib3.readthedocs.io/en/1.26.x/advanced-usage.html#ssl-warnings\n",
      "  warnings.warn(\n"
     ]
    },
    {
     "name": "stdout",
     "output_type": "stream",
     "text": [
      "Completed download of 41112_2022.nc!\n",
      "donwloading 42001_2022.nc ...\n",
      "/Users/elsandner/Library/Mobile Documents/com~apple~CloudDocs/Uni/WS22/Master Thesis/Master_Project/data/ERA5_downloads/singleStations/42001_2022.nc\n"
     ]
    },
    {
     "name": "stderr",
     "output_type": "stream",
     "text": [
      "/opt/homebrew/Caskroom/miniforge/base/envs/Master_Project/lib/python3.8/site-packages/urllib3/connectionpool.py:1045: InsecureRequestWarning: Unverified HTTPS request is being made to host 'cds.climate.copernicus.eu'. Adding certificate verification is strongly advised. See: https://urllib3.readthedocs.io/en/1.26.x/advanced-usage.html#ssl-warnings\n",
      "  warnings.warn(\n",
      "2023-04-21 16:05:40,114 INFO Welcome to the CDS\n",
      "2023-04-21 16:05:40,115 INFO Sending request to https://cds.climate.copernicus.eu/api/v2/resources/reanalysis-era5-single-levels\n",
      "/opt/homebrew/Caskroom/miniforge/base/envs/Master_Project/lib/python3.8/site-packages/urllib3/connectionpool.py:1045: InsecureRequestWarning: Unverified HTTPS request is being made to host 'cds.climate.copernicus.eu'. Adding certificate verification is strongly advised. See: https://urllib3.readthedocs.io/en/1.26.x/advanced-usage.html#ssl-warnings\n",
      "  warnings.warn(\n",
      "2023-04-21 16:05:40,322 INFO Request is queued\n",
      "/opt/homebrew/Caskroom/miniforge/base/envs/Master_Project/lib/python3.8/site-packages/urllib3/connectionpool.py:1045: InsecureRequestWarning: Unverified HTTPS request is being made to host 'cds.climate.copernicus.eu'. Adding certificate verification is strongly advised. See: https://urllib3.readthedocs.io/en/1.26.x/advanced-usage.html#ssl-warnings\n",
      "  warnings.warn(\n",
      "2023-04-21 16:05:41,482 INFO Request is running\n",
      "/opt/homebrew/Caskroom/miniforge/base/envs/Master_Project/lib/python3.8/site-packages/urllib3/connectionpool.py:1045: InsecureRequestWarning: Unverified HTTPS request is being made to host 'cds.climate.copernicus.eu'. Adding certificate verification is strongly advised. See: https://urllib3.readthedocs.io/en/1.26.x/advanced-usage.html#ssl-warnings\n",
      "  warnings.warn(\n",
      "/opt/homebrew/Caskroom/miniforge/base/envs/Master_Project/lib/python3.8/site-packages/urllib3/connectionpool.py:1045: InsecureRequestWarning: Unverified HTTPS request is being made to host 'cds.climate.copernicus.eu'. Adding certificate verification is strongly advised. See: https://urllib3.readthedocs.io/en/1.26.x/advanced-usage.html#ssl-warnings\n",
      "  warnings.warn(\n",
      "/opt/homebrew/Caskroom/miniforge/base/envs/Master_Project/lib/python3.8/site-packages/urllib3/connectionpool.py:1045: InsecureRequestWarning: Unverified HTTPS request is being made to host 'cds.climate.copernicus.eu'. Adding certificate verification is strongly advised. See: https://urllib3.readthedocs.io/en/1.26.x/advanced-usage.html#ssl-warnings\n",
      "  warnings.warn(\n",
      "/opt/homebrew/Caskroom/miniforge/base/envs/Master_Project/lib/python3.8/site-packages/urllib3/connectionpool.py:1045: InsecureRequestWarning: Unverified HTTPS request is being made to host 'cds.climate.copernicus.eu'. Adding certificate verification is strongly advised. See: https://urllib3.readthedocs.io/en/1.26.x/advanced-usage.html#ssl-warnings\n",
      "  warnings.warn(\n",
      "/opt/homebrew/Caskroom/miniforge/base/envs/Master_Project/lib/python3.8/site-packages/urllib3/connectionpool.py:1045: InsecureRequestWarning: Unverified HTTPS request is being made to host 'cds.climate.copernicus.eu'. Adding certificate verification is strongly advised. See: https://urllib3.readthedocs.io/en/1.26.x/advanced-usage.html#ssl-warnings\n",
      "  warnings.warn(\n",
      "/opt/homebrew/Caskroom/miniforge/base/envs/Master_Project/lib/python3.8/site-packages/urllib3/connectionpool.py:1045: InsecureRequestWarning: Unverified HTTPS request is being made to host 'cds.climate.copernicus.eu'. Adding certificate verification is strongly advised. See: https://urllib3.readthedocs.io/en/1.26.x/advanced-usage.html#ssl-warnings\n",
      "  warnings.warn(\n",
      "/opt/homebrew/Caskroom/miniforge/base/envs/Master_Project/lib/python3.8/site-packages/urllib3/connectionpool.py:1045: InsecureRequestWarning: Unverified HTTPS request is being made to host 'cds.climate.copernicus.eu'. Adding certificate verification is strongly advised. See: https://urllib3.readthedocs.io/en/1.26.x/advanced-usage.html#ssl-warnings\n",
      "  warnings.warn(\n",
      "/opt/homebrew/Caskroom/miniforge/base/envs/Master_Project/lib/python3.8/site-packages/urllib3/connectionpool.py:1045: InsecureRequestWarning: Unverified HTTPS request is being made to host 'cds.climate.copernicus.eu'. Adding certificate verification is strongly advised. See: https://urllib3.readthedocs.io/en/1.26.x/advanced-usage.html#ssl-warnings\n",
      "  warnings.warn(\n",
      "/opt/homebrew/Caskroom/miniforge/base/envs/Master_Project/lib/python3.8/site-packages/urllib3/connectionpool.py:1045: InsecureRequestWarning: Unverified HTTPS request is being made to host 'cds.climate.copernicus.eu'. Adding certificate verification is strongly advised. See: https://urllib3.readthedocs.io/en/1.26.x/advanced-usage.html#ssl-warnings\n",
      "  warnings.warn(\n",
      "/opt/homebrew/Caskroom/miniforge/base/envs/Master_Project/lib/python3.8/site-packages/urllib3/connectionpool.py:1045: InsecureRequestWarning: Unverified HTTPS request is being made to host 'cds.climate.copernicus.eu'. Adding certificate verification is strongly advised. See: https://urllib3.readthedocs.io/en/1.26.x/advanced-usage.html#ssl-warnings\n",
      "  warnings.warn(\n",
      "/opt/homebrew/Caskroom/miniforge/base/envs/Master_Project/lib/python3.8/site-packages/urllib3/connectionpool.py:1045: InsecureRequestWarning: Unverified HTTPS request is being made to host 'cds.climate.copernicus.eu'. Adding certificate verification is strongly advised. See: https://urllib3.readthedocs.io/en/1.26.x/advanced-usage.html#ssl-warnings\n",
      "  warnings.warn(\n",
      "/opt/homebrew/Caskroom/miniforge/base/envs/Master_Project/lib/python3.8/site-packages/urllib3/connectionpool.py:1045: InsecureRequestWarning: Unverified HTTPS request is being made to host 'cds.climate.copernicus.eu'. Adding certificate verification is strongly advised. See: https://urllib3.readthedocs.io/en/1.26.x/advanced-usage.html#ssl-warnings\n",
      "  warnings.warn(\n",
      "/opt/homebrew/Caskroom/miniforge/base/envs/Master_Project/lib/python3.8/site-packages/urllib3/connectionpool.py:1045: InsecureRequestWarning: Unverified HTTPS request is being made to host 'cds.climate.copernicus.eu'. Adding certificate verification is strongly advised. See: https://urllib3.readthedocs.io/en/1.26.x/advanced-usage.html#ssl-warnings\n",
      "  warnings.warn(\n",
      "/opt/homebrew/Caskroom/miniforge/base/envs/Master_Project/lib/python3.8/site-packages/urllib3/connectionpool.py:1045: InsecureRequestWarning: Unverified HTTPS request is being made to host 'cds.climate.copernicus.eu'. Adding certificate verification is strongly advised. See: https://urllib3.readthedocs.io/en/1.26.x/advanced-usage.html#ssl-warnings\n",
      "  warnings.warn(\n",
      "/opt/homebrew/Caskroom/miniforge/base/envs/Master_Project/lib/python3.8/site-packages/urllib3/connectionpool.py:1045: InsecureRequestWarning: Unverified HTTPS request is being made to host 'cds.climate.copernicus.eu'. Adding certificate verification is strongly advised. See: https://urllib3.readthedocs.io/en/1.26.x/advanced-usage.html#ssl-warnings\n",
      "  warnings.warn(\n",
      "2023-04-21 16:40:09,104 WARNING Recovering from connection error [HTTPSConnectionPool(host='cds.climate.copernicus.eu', port=443): Read timed out. (read timeout=60)], attemps 0 of 500\n",
      "2023-04-21 16:40:09,110 WARNING Retrying in 120 seconds\n",
      "2023-04-21 16:42:09,117 INFO Retrying now...\n",
      "/opt/homebrew/Caskroom/miniforge/base/envs/Master_Project/lib/python3.8/site-packages/urllib3/connectionpool.py:1045: InsecureRequestWarning: Unverified HTTPS request is being made to host 'cds.climate.copernicus.eu'. Adding certificate verification is strongly advised. See: https://urllib3.readthedocs.io/en/1.26.x/advanced-usage.html#ssl-warnings\n",
      "  warnings.warn(\n",
      "/opt/homebrew/Caskroom/miniforge/base/envs/Master_Project/lib/python3.8/site-packages/urllib3/connectionpool.py:1045: InsecureRequestWarning: Unverified HTTPS request is being made to host 'cds.climate.copernicus.eu'. Adding certificate verification is strongly advised. See: https://urllib3.readthedocs.io/en/1.26.x/advanced-usage.html#ssl-warnings\n",
      "  warnings.warn(\n",
      "/opt/homebrew/Caskroom/miniforge/base/envs/Master_Project/lib/python3.8/site-packages/urllib3/connectionpool.py:1045: InsecureRequestWarning: Unverified HTTPS request is being made to host 'cds.climate.copernicus.eu'. Adding certificate verification is strongly advised. See: https://urllib3.readthedocs.io/en/1.26.x/advanced-usage.html#ssl-warnings\n",
      "  warnings.warn(\n",
      "/opt/homebrew/Caskroom/miniforge/base/envs/Master_Project/lib/python3.8/site-packages/urllib3/connectionpool.py:1045: InsecureRequestWarning: Unverified HTTPS request is being made to host 'cds.climate.copernicus.eu'. Adding certificate verification is strongly advised. See: https://urllib3.readthedocs.io/en/1.26.x/advanced-usage.html#ssl-warnings\n",
      "  warnings.warn(\n",
      "/opt/homebrew/Caskroom/miniforge/base/envs/Master_Project/lib/python3.8/site-packages/urllib3/connectionpool.py:1045: InsecureRequestWarning: Unverified HTTPS request is being made to host 'cds.climate.copernicus.eu'. Adding certificate verification is strongly advised. See: https://urllib3.readthedocs.io/en/1.26.x/advanced-usage.html#ssl-warnings\n",
      "  warnings.warn(\n"
     ]
    }
   ],
   "source": [
    "data_ERA5 = mL.build_ERA5_dataset(\n",
    "                stations=stations,\n",
    "                years=[\"2022\"]\n",
    "            )\n",
    "\n",
    "data_ERA5"
   ],
   "metadata": {
    "collapsed": false,
    "pycharm": {
     "name": "#%%\n",
     "is_executing": true
    }
   }
  },
  {
   "cell_type": "code",
   "execution_count": null,
   "outputs": [],
   "source": [],
   "metadata": {
    "collapsed": false,
    "pycharm": {
     "name": "#%%\n"
    }
   }
  }
 ],
 "metadata": {
  "kernelspec": {
   "display_name": "Python 3",
   "language": "python",
   "name": "python3"
  },
  "language_info": {
   "codemirror_mode": {
    "name": "ipython",
    "version": 2
   },
   "file_extension": ".py",
   "mimetype": "text/x-python",
   "name": "python",
   "nbconvert_exporter": "python",
   "pygments_lexer": "ipython2",
   "version": "2.7.6"
  }
 },
 "nbformat": 4,
 "nbformat_minor": 0
}