{
 "cells": [
  {
   "cell_type": "markdown",
   "source": [
    "## Test if mL.get_data_file returns the same dataframe from web and disc"
   ],
   "metadata": {
    "collapsed": false,
    "pycharm": {
     "name": "#%% md\n"
    }
   }
  },
  {
   "cell_type": "code",
   "execution_count": 2,
   "metadata": {
    "collapsed": true,
    "pycharm": {
     "name": "#%%\n"
    }
   },
   "outputs": [],
   "source": [
    "import myLibrary as mL"
   ]
  },
  {
   "cell_type": "code",
   "execution_count": 8,
   "outputs": [],
   "source": [
    "station_number = \"42036\"\n",
    "year = \"2022\""
   ],
   "metadata": {
    "collapsed": false,
    "pycharm": {
     "name": "#%%\n"
    }
   }
  },
  {
   "cell_type": "code",
   "execution_count": 9,
   "outputs": [
    {
     "name": "stdout",
     "output_type": "stream",
     "text": [
      "from disc\n"
     ]
    },
    {
     "name": "stderr",
     "output_type": "stream",
     "text": [
      "/Users/elsandner/Library/Mobile Documents/com~apple~CloudDocs/Uni/WS22/Master Thesis/Master_Project/myLibrary.py:345: DtypeWarning: Columns (1,2,3,4,5,6,7,8,9,10,11,12,13,14,15,16,17,18) have mixed types. Specify dtype option on import or set low_memory=False.\n",
      "  df_data = pd.read_csv(filepath)\n"
     ]
    }
   ],
   "source": [
    "station_number_1, df_data_1 = mL.get_data_file(station_number, year, fromDisc=True)"
   ],
   "metadata": {
    "collapsed": false,
    "pycharm": {
     "name": "#%%\n"
    }
   }
  },
  {
   "cell_type": "code",
   "execution_count": 10,
   "outputs": [
    {
     "data": {
      "text/plain": "        #YY  MM  DD  hh  mm  WDIR WSPD  GST   WVHT    DPD    APD   MWD  \\\n0       #yr  mo  dy  hr  mn  degT  m/s  m/s      m    sec    sec  degT   \n1      2022  01  01  00  00   168  3.5  4.2  99.00  99.00  99.00   999   \n2      2022  01  01  00  10   167  3.5  4.3  99.00  99.00  99.00   999   \n3      2022  01  01  00  20   165  3.4  4.6  99.00  99.00  99.00   999   \n4      2022  01  01  00  30   163  3.8  4.5  99.00  99.00  99.00   999   \n...     ...  ..  ..  ..  ..   ...  ...  ...    ...    ...    ...   ...   \n52525  2022  12  31  23  10   179  3.7  4.5   0.76    5.0   4.28   185   \n52526  2022  12  31  23  20   184  3.6  4.5   99.0   99.0   99.0   999   \n52527  2022  12  31  23  30   176  3.9  4.9   99.0   99.0   99.0   999   \n52528  2022  12  31  23  40   181  5.3  6.4   0.78   4.76   4.26   177   \n52529  2022  12  31  23  50   185  4.4  5.4   99.0   99.0   99.0   999   \n\n         PRES  ATMP  WTMP  DEWP   VIS   TIDE  \n0         hPa  degC  degC  degC    mi     ft  \n1      1016.3  23.3  23.0  23.3  99.0  99.00  \n2      1016.4  23.2  23.1  23.2  99.0  99.00  \n3      1016.4  23.2  23.0  23.2  99.0  99.00  \n4      1016.4  23.2  23.0  23.2  99.0  99.00  \n...       ...   ...   ...   ...   ...    ...  \n52525  1016.4  22.6  22.3  22.1  99.0   99.0  \n52526  1016.5  22.6  22.3  22.1  99.0   99.0  \n52527  1016.3  22.6  22.3  22.2  99.0   99.0  \n52528  1016.4  22.6  22.3  22.1  99.0   99.0  \n52529  1016.5  22.6  22.3  22.1  99.0   99.0  \n\n[52530 rows x 18 columns]",
      "text/html": "<div>\n<style scoped>\n    .dataframe tbody tr th:only-of-type {\n        vertical-align: middle;\n    }\n\n    .dataframe tbody tr th {\n        vertical-align: top;\n    }\n\n    .dataframe thead th {\n        text-align: right;\n    }\n</style>\n<table border=\"1\" class=\"dataframe\">\n  <thead>\n    <tr style=\"text-align: right;\">\n      <th></th>\n      <th>#YY</th>\n      <th>MM</th>\n      <th>DD</th>\n      <th>hh</th>\n      <th>mm</th>\n      <th>WDIR</th>\n      <th>WSPD</th>\n      <th>GST</th>\n      <th>WVHT</th>\n      <th>DPD</th>\n      <th>APD</th>\n      <th>MWD</th>\n      <th>PRES</th>\n      <th>ATMP</th>\n      <th>WTMP</th>\n      <th>DEWP</th>\n      <th>VIS</th>\n      <th>TIDE</th>\n    </tr>\n  </thead>\n  <tbody>\n    <tr>\n      <th>0</th>\n      <td>#yr</td>\n      <td>mo</td>\n      <td>dy</td>\n      <td>hr</td>\n      <td>mn</td>\n      <td>degT</td>\n      <td>m/s</td>\n      <td>m/s</td>\n      <td>m</td>\n      <td>sec</td>\n      <td>sec</td>\n      <td>degT</td>\n      <td>hPa</td>\n      <td>degC</td>\n      <td>degC</td>\n      <td>degC</td>\n      <td>mi</td>\n      <td>ft</td>\n    </tr>\n    <tr>\n      <th>1</th>\n      <td>2022</td>\n      <td>01</td>\n      <td>01</td>\n      <td>00</td>\n      <td>00</td>\n      <td>168</td>\n      <td>3.5</td>\n      <td>4.2</td>\n      <td>99.00</td>\n      <td>99.00</td>\n      <td>99.00</td>\n      <td>999</td>\n      <td>1016.3</td>\n      <td>23.3</td>\n      <td>23.0</td>\n      <td>23.3</td>\n      <td>99.0</td>\n      <td>99.00</td>\n    </tr>\n    <tr>\n      <th>2</th>\n      <td>2022</td>\n      <td>01</td>\n      <td>01</td>\n      <td>00</td>\n      <td>10</td>\n      <td>167</td>\n      <td>3.5</td>\n      <td>4.3</td>\n      <td>99.00</td>\n      <td>99.00</td>\n      <td>99.00</td>\n      <td>999</td>\n      <td>1016.4</td>\n      <td>23.2</td>\n      <td>23.1</td>\n      <td>23.2</td>\n      <td>99.0</td>\n      <td>99.00</td>\n    </tr>\n    <tr>\n      <th>3</th>\n      <td>2022</td>\n      <td>01</td>\n      <td>01</td>\n      <td>00</td>\n      <td>20</td>\n      <td>165</td>\n      <td>3.4</td>\n      <td>4.6</td>\n      <td>99.00</td>\n      <td>99.00</td>\n      <td>99.00</td>\n      <td>999</td>\n      <td>1016.4</td>\n      <td>23.2</td>\n      <td>23.0</td>\n      <td>23.2</td>\n      <td>99.0</td>\n      <td>99.00</td>\n    </tr>\n    <tr>\n      <th>4</th>\n      <td>2022</td>\n      <td>01</td>\n      <td>01</td>\n      <td>00</td>\n      <td>30</td>\n      <td>163</td>\n      <td>3.8</td>\n      <td>4.5</td>\n      <td>99.00</td>\n      <td>99.00</td>\n      <td>99.00</td>\n      <td>999</td>\n      <td>1016.4</td>\n      <td>23.2</td>\n      <td>23.0</td>\n      <td>23.2</td>\n      <td>99.0</td>\n      <td>99.00</td>\n    </tr>\n    <tr>\n      <th>...</th>\n      <td>...</td>\n      <td>...</td>\n      <td>...</td>\n      <td>...</td>\n      <td>...</td>\n      <td>...</td>\n      <td>...</td>\n      <td>...</td>\n      <td>...</td>\n      <td>...</td>\n      <td>...</td>\n      <td>...</td>\n      <td>...</td>\n      <td>...</td>\n      <td>...</td>\n      <td>...</td>\n      <td>...</td>\n      <td>...</td>\n    </tr>\n    <tr>\n      <th>52525</th>\n      <td>2022</td>\n      <td>12</td>\n      <td>31</td>\n      <td>23</td>\n      <td>10</td>\n      <td>179</td>\n      <td>3.7</td>\n      <td>4.5</td>\n      <td>0.76</td>\n      <td>5.0</td>\n      <td>4.28</td>\n      <td>185</td>\n      <td>1016.4</td>\n      <td>22.6</td>\n      <td>22.3</td>\n      <td>22.1</td>\n      <td>99.0</td>\n      <td>99.0</td>\n    </tr>\n    <tr>\n      <th>52526</th>\n      <td>2022</td>\n      <td>12</td>\n      <td>31</td>\n      <td>23</td>\n      <td>20</td>\n      <td>184</td>\n      <td>3.6</td>\n      <td>4.5</td>\n      <td>99.0</td>\n      <td>99.0</td>\n      <td>99.0</td>\n      <td>999</td>\n      <td>1016.5</td>\n      <td>22.6</td>\n      <td>22.3</td>\n      <td>22.1</td>\n      <td>99.0</td>\n      <td>99.0</td>\n    </tr>\n    <tr>\n      <th>52527</th>\n      <td>2022</td>\n      <td>12</td>\n      <td>31</td>\n      <td>23</td>\n      <td>30</td>\n      <td>176</td>\n      <td>3.9</td>\n      <td>4.9</td>\n      <td>99.0</td>\n      <td>99.0</td>\n      <td>99.0</td>\n      <td>999</td>\n      <td>1016.3</td>\n      <td>22.6</td>\n      <td>22.3</td>\n      <td>22.2</td>\n      <td>99.0</td>\n      <td>99.0</td>\n    </tr>\n    <tr>\n      <th>52528</th>\n      <td>2022</td>\n      <td>12</td>\n      <td>31</td>\n      <td>23</td>\n      <td>40</td>\n      <td>181</td>\n      <td>5.3</td>\n      <td>6.4</td>\n      <td>0.78</td>\n      <td>4.76</td>\n      <td>4.26</td>\n      <td>177</td>\n      <td>1016.4</td>\n      <td>22.6</td>\n      <td>22.3</td>\n      <td>22.1</td>\n      <td>99.0</td>\n      <td>99.0</td>\n    </tr>\n    <tr>\n      <th>52529</th>\n      <td>2022</td>\n      <td>12</td>\n      <td>31</td>\n      <td>23</td>\n      <td>50</td>\n      <td>185</td>\n      <td>4.4</td>\n      <td>5.4</td>\n      <td>99.0</td>\n      <td>99.0</td>\n      <td>99.0</td>\n      <td>999</td>\n      <td>1016.5</td>\n      <td>22.6</td>\n      <td>22.3</td>\n      <td>22.1</td>\n      <td>99.0</td>\n      <td>99.0</td>\n    </tr>\n  </tbody>\n</table>\n<p>52530 rows × 18 columns</p>\n</div>"
     },
     "execution_count": 10,
     "metadata": {},
     "output_type": "execute_result"
    }
   ],
   "source": [
    "df_data_1"
   ],
   "metadata": {
    "collapsed": false,
    "pycharm": {
     "name": "#%%\n"
    }
   }
  },
  {
   "cell_type": "code",
   "execution_count": 11,
   "outputs": [
    {
     "name": "stdout",
     "output_type": "stream",
     "text": [
      "from web\n"
     ]
    }
   ],
   "source": [
    "station_number_1, df_data_2 = mL.get_data_file(station_number, year, fromDisc=False)"
   ],
   "metadata": {
    "collapsed": false,
    "pycharm": {
     "name": "#%%\n"
    }
   }
  },
  {
   "cell_type": "code",
   "execution_count": 12,
   "outputs": [
    {
     "data": {
      "text/plain": "        #YY  MM  DD  hh  mm  WDIR WSPD  GST   WVHT    DPD    APD   MWD  \\\n0       #yr  mo  dy  hr  mn  degT  m/s  m/s      m    sec    sec  degT   \n1      2022  01  01  00  00   168  3.5  4.2  99.00  99.00  99.00   999   \n2      2022  01  01  00  10   167  3.5  4.3  99.00  99.00  99.00   999   \n3      2022  01  01  00  20   165  3.4  4.6  99.00  99.00  99.00   999   \n4      2022  01  01  00  30   163  3.8  4.5  99.00  99.00  99.00   999   \n...     ...  ..  ..  ..  ..   ...  ...  ...    ...    ...    ...   ...   \n52525  2022  12  31  23  10   179  3.7  4.5   0.76   5.00   4.28   185   \n52526  2022  12  31  23  20   184  3.6  4.5  99.00  99.00  99.00   999   \n52527  2022  12  31  23  30   176  3.9  4.9  99.00  99.00  99.00   999   \n52528  2022  12  31  23  40   181  5.3  6.4   0.78   4.76   4.26   177   \n52529  2022  12  31  23  50   185  4.4  5.4  99.00  99.00  99.00   999   \n\n         PRES  ATMP  WTMP  DEWP   VIS   TIDE  \n0         hPa  degC  degC  degC    mi     ft  \n1      1016.3  23.3  23.0  23.3  99.0  99.00  \n2      1016.4  23.2  23.1  23.2  99.0  99.00  \n3      1016.4  23.2  23.0  23.2  99.0  99.00  \n4      1016.4  23.2  23.0  23.2  99.0  99.00  \n...       ...   ...   ...   ...   ...    ...  \n52525  1016.4  22.6  22.3  22.1  99.0  99.00  \n52526  1016.5  22.6  22.3  22.1  99.0  99.00  \n52527  1016.3  22.6  22.3  22.2  99.0  99.00  \n52528  1016.4  22.6  22.3  22.1  99.0  99.00  \n52529  1016.5  22.6  22.3  22.1  99.0  99.00  \n\n[52530 rows x 18 columns]",
      "text/html": "<div>\n<style scoped>\n    .dataframe tbody tr th:only-of-type {\n        vertical-align: middle;\n    }\n\n    .dataframe tbody tr th {\n        vertical-align: top;\n    }\n\n    .dataframe thead th {\n        text-align: right;\n    }\n</style>\n<table border=\"1\" class=\"dataframe\">\n  <thead>\n    <tr style=\"text-align: right;\">\n      <th></th>\n      <th>#YY</th>\n      <th>MM</th>\n      <th>DD</th>\n      <th>hh</th>\n      <th>mm</th>\n      <th>WDIR</th>\n      <th>WSPD</th>\n      <th>GST</th>\n      <th>WVHT</th>\n      <th>DPD</th>\n      <th>APD</th>\n      <th>MWD</th>\n      <th>PRES</th>\n      <th>ATMP</th>\n      <th>WTMP</th>\n      <th>DEWP</th>\n      <th>VIS</th>\n      <th>TIDE</th>\n    </tr>\n  </thead>\n  <tbody>\n    <tr>\n      <th>0</th>\n      <td>#yr</td>\n      <td>mo</td>\n      <td>dy</td>\n      <td>hr</td>\n      <td>mn</td>\n      <td>degT</td>\n      <td>m/s</td>\n      <td>m/s</td>\n      <td>m</td>\n      <td>sec</td>\n      <td>sec</td>\n      <td>degT</td>\n      <td>hPa</td>\n      <td>degC</td>\n      <td>degC</td>\n      <td>degC</td>\n      <td>mi</td>\n      <td>ft</td>\n    </tr>\n    <tr>\n      <th>1</th>\n      <td>2022</td>\n      <td>01</td>\n      <td>01</td>\n      <td>00</td>\n      <td>00</td>\n      <td>168</td>\n      <td>3.5</td>\n      <td>4.2</td>\n      <td>99.00</td>\n      <td>99.00</td>\n      <td>99.00</td>\n      <td>999</td>\n      <td>1016.3</td>\n      <td>23.3</td>\n      <td>23.0</td>\n      <td>23.3</td>\n      <td>99.0</td>\n      <td>99.00</td>\n    </tr>\n    <tr>\n      <th>2</th>\n      <td>2022</td>\n      <td>01</td>\n      <td>01</td>\n      <td>00</td>\n      <td>10</td>\n      <td>167</td>\n      <td>3.5</td>\n      <td>4.3</td>\n      <td>99.00</td>\n      <td>99.00</td>\n      <td>99.00</td>\n      <td>999</td>\n      <td>1016.4</td>\n      <td>23.2</td>\n      <td>23.1</td>\n      <td>23.2</td>\n      <td>99.0</td>\n      <td>99.00</td>\n    </tr>\n    <tr>\n      <th>3</th>\n      <td>2022</td>\n      <td>01</td>\n      <td>01</td>\n      <td>00</td>\n      <td>20</td>\n      <td>165</td>\n      <td>3.4</td>\n      <td>4.6</td>\n      <td>99.00</td>\n      <td>99.00</td>\n      <td>99.00</td>\n      <td>999</td>\n      <td>1016.4</td>\n      <td>23.2</td>\n      <td>23.0</td>\n      <td>23.2</td>\n      <td>99.0</td>\n      <td>99.00</td>\n    </tr>\n    <tr>\n      <th>4</th>\n      <td>2022</td>\n      <td>01</td>\n      <td>01</td>\n      <td>00</td>\n      <td>30</td>\n      <td>163</td>\n      <td>3.8</td>\n      <td>4.5</td>\n      <td>99.00</td>\n      <td>99.00</td>\n      <td>99.00</td>\n      <td>999</td>\n      <td>1016.4</td>\n      <td>23.2</td>\n      <td>23.0</td>\n      <td>23.2</td>\n      <td>99.0</td>\n      <td>99.00</td>\n    </tr>\n    <tr>\n      <th>...</th>\n      <td>...</td>\n      <td>...</td>\n      <td>...</td>\n      <td>...</td>\n      <td>...</td>\n      <td>...</td>\n      <td>...</td>\n      <td>...</td>\n      <td>...</td>\n      <td>...</td>\n      <td>...</td>\n      <td>...</td>\n      <td>...</td>\n      <td>...</td>\n      <td>...</td>\n      <td>...</td>\n      <td>...</td>\n      <td>...</td>\n    </tr>\n    <tr>\n      <th>52525</th>\n      <td>2022</td>\n      <td>12</td>\n      <td>31</td>\n      <td>23</td>\n      <td>10</td>\n      <td>179</td>\n      <td>3.7</td>\n      <td>4.5</td>\n      <td>0.76</td>\n      <td>5.00</td>\n      <td>4.28</td>\n      <td>185</td>\n      <td>1016.4</td>\n      <td>22.6</td>\n      <td>22.3</td>\n      <td>22.1</td>\n      <td>99.0</td>\n      <td>99.00</td>\n    </tr>\n    <tr>\n      <th>52526</th>\n      <td>2022</td>\n      <td>12</td>\n      <td>31</td>\n      <td>23</td>\n      <td>20</td>\n      <td>184</td>\n      <td>3.6</td>\n      <td>4.5</td>\n      <td>99.00</td>\n      <td>99.00</td>\n      <td>99.00</td>\n      <td>999</td>\n      <td>1016.5</td>\n      <td>22.6</td>\n      <td>22.3</td>\n      <td>22.1</td>\n      <td>99.0</td>\n      <td>99.00</td>\n    </tr>\n    <tr>\n      <th>52527</th>\n      <td>2022</td>\n      <td>12</td>\n      <td>31</td>\n      <td>23</td>\n      <td>30</td>\n      <td>176</td>\n      <td>3.9</td>\n      <td>4.9</td>\n      <td>99.00</td>\n      <td>99.00</td>\n      <td>99.00</td>\n      <td>999</td>\n      <td>1016.3</td>\n      <td>22.6</td>\n      <td>22.3</td>\n      <td>22.2</td>\n      <td>99.0</td>\n      <td>99.00</td>\n    </tr>\n    <tr>\n      <th>52528</th>\n      <td>2022</td>\n      <td>12</td>\n      <td>31</td>\n      <td>23</td>\n      <td>40</td>\n      <td>181</td>\n      <td>5.3</td>\n      <td>6.4</td>\n      <td>0.78</td>\n      <td>4.76</td>\n      <td>4.26</td>\n      <td>177</td>\n      <td>1016.4</td>\n      <td>22.6</td>\n      <td>22.3</td>\n      <td>22.1</td>\n      <td>99.0</td>\n      <td>99.00</td>\n    </tr>\n    <tr>\n      <th>52529</th>\n      <td>2022</td>\n      <td>12</td>\n      <td>31</td>\n      <td>23</td>\n      <td>50</td>\n      <td>185</td>\n      <td>4.4</td>\n      <td>5.4</td>\n      <td>99.00</td>\n      <td>99.00</td>\n      <td>99.00</td>\n      <td>999</td>\n      <td>1016.5</td>\n      <td>22.6</td>\n      <td>22.3</td>\n      <td>22.1</td>\n      <td>99.0</td>\n      <td>99.00</td>\n    </tr>\n  </tbody>\n</table>\n<p>52530 rows × 18 columns</p>\n</div>"
     },
     "execution_count": 12,
     "metadata": {},
     "output_type": "execute_result"
    }
   ],
   "source": [
    "df_data_2"
   ],
   "metadata": {
    "collapsed": false,
    "pycharm": {
     "name": "#%%\n"
    }
   }
  },
  {
   "cell_type": "markdown",
   "source": [
    "# Download ERA5 Data Files"
   ],
   "metadata": {
    "collapsed": false,
    "pycharm": {
     "name": "#%% md\n"
    }
   }
  },
  {
   "cell_type": "code",
   "execution_count": 3,
   "outputs": [
    {
     "data": {
      "text/plain": "['41117',\n '41112',\n '42001',\n '42002',\n '42012',\n '42013',\n '42019',\n '42020',\n '42022',\n '42023']"
     },
     "execution_count": 3,
     "metadata": {},
     "output_type": "execute_result"
    }
   ],
   "source": [
    "import myLibrary as mL\n",
    "\n",
    "stations = mL.cleaned_stations_GOM[0:10]\n",
    "stations"
   ],
   "metadata": {
    "collapsed": false,
    "pycharm": {
     "name": "#%%\n"
    }
   }
  },
  {
   "cell_type": "code",
   "execution_count": 4,
   "outputs": [
    {
     "name": "stdout",
     "output_type": "stream",
     "text": [
      "Started with  2022 . Previous year took:   9.5367431640625e-07 seconds\n",
      "donwloading 42023_2022.nc ...\n",
      "/Users/elsandner/Library/Mobile Documents/com~apple~CloudDocs/Uni/WS22/Master Thesis/Master_Project/data/ERA5_downloads/singleStations/42023_2022.nc\n"
     ]
    },
    {
     "name": "stderr",
     "output_type": "stream",
     "text": [
      "/opt/homebrew/Caskroom/miniforge/base/envs/Master_Project/lib/python3.8/site-packages/urllib3/connectionpool.py:1045: InsecureRequestWarning: Unverified HTTPS request is being made to host 'cds.climate.copernicus.eu'. Adding certificate verification is strongly advised. See: https://urllib3.readthedocs.io/en/1.26.x/advanced-usage.html#ssl-warnings\n",
      "  warnings.warn(\n",
      "2023-04-23 11:46:01,459 INFO Sending request to https://cds.climate.copernicus.eu/api/v2/resources/reanalysis-era5-single-levels\n",
      "/opt/homebrew/Caskroom/miniforge/base/envs/Master_Project/lib/python3.8/site-packages/urllib3/connectionpool.py:1045: InsecureRequestWarning: Unverified HTTPS request is being made to host 'cds.climate.copernicus.eu'. Adding certificate verification is strongly advised. See: https://urllib3.readthedocs.io/en/1.26.x/advanced-usage.html#ssl-warnings\n",
      "  warnings.warn(\n",
      "2023-04-23 11:46:02,227 INFO Request is queued\n",
      "/opt/homebrew/Caskroom/miniforge/base/envs/Master_Project/lib/python3.8/site-packages/urllib3/connectionpool.py:1045: InsecureRequestWarning: Unverified HTTPS request is being made to host 'cds.climate.copernicus.eu'. Adding certificate verification is strongly advised. See: https://urllib3.readthedocs.io/en/1.26.x/advanced-usage.html#ssl-warnings\n",
      "  warnings.warn(\n",
      "2023-04-23 11:46:03,388 INFO Request is running\n",
      "/opt/homebrew/Caskroom/miniforge/base/envs/Master_Project/lib/python3.8/site-packages/urllib3/connectionpool.py:1045: InsecureRequestWarning: Unverified HTTPS request is being made to host 'cds.climate.copernicus.eu'. Adding certificate verification is strongly advised. See: https://urllib3.readthedocs.io/en/1.26.x/advanced-usage.html#ssl-warnings\n",
      "  warnings.warn(\n",
      "/opt/homebrew/Caskroom/miniforge/base/envs/Master_Project/lib/python3.8/site-packages/urllib3/connectionpool.py:1045: InsecureRequestWarning: Unverified HTTPS request is being made to host 'cds.climate.copernicus.eu'. Adding certificate verification is strongly advised. See: https://urllib3.readthedocs.io/en/1.26.x/advanced-usage.html#ssl-warnings\n",
      "  warnings.warn(\n",
      "/opt/homebrew/Caskroom/miniforge/base/envs/Master_Project/lib/python3.8/site-packages/urllib3/connectionpool.py:1045: InsecureRequestWarning: Unverified HTTPS request is being made to host 'cds.climate.copernicus.eu'. Adding certificate verification is strongly advised. See: https://urllib3.readthedocs.io/en/1.26.x/advanced-usage.html#ssl-warnings\n",
      "  warnings.warn(\n",
      "/opt/homebrew/Caskroom/miniforge/base/envs/Master_Project/lib/python3.8/site-packages/urllib3/connectionpool.py:1045: InsecureRequestWarning: Unverified HTTPS request is being made to host 'cds.climate.copernicus.eu'. Adding certificate verification is strongly advised. See: https://urllib3.readthedocs.io/en/1.26.x/advanced-usage.html#ssl-warnings\n",
      "  warnings.warn(\n",
      "/opt/homebrew/Caskroom/miniforge/base/envs/Master_Project/lib/python3.8/site-packages/urllib3/connectionpool.py:1045: InsecureRequestWarning: Unverified HTTPS request is being made to host 'cds.climate.copernicus.eu'. Adding certificate verification is strongly advised. See: https://urllib3.readthedocs.io/en/1.26.x/advanced-usage.html#ssl-warnings\n",
      "  warnings.warn(\n",
      "/opt/homebrew/Caskroom/miniforge/base/envs/Master_Project/lib/python3.8/site-packages/urllib3/connectionpool.py:1045: InsecureRequestWarning: Unverified HTTPS request is being made to host 'cds.climate.copernicus.eu'. Adding certificate verification is strongly advised. See: https://urllib3.readthedocs.io/en/1.26.x/advanced-usage.html#ssl-warnings\n",
      "  warnings.warn(\n",
      "/opt/homebrew/Caskroom/miniforge/base/envs/Master_Project/lib/python3.8/site-packages/urllib3/connectionpool.py:1045: InsecureRequestWarning: Unverified HTTPS request is being made to host 'cds.climate.copernicus.eu'. Adding certificate verification is strongly advised. See: https://urllib3.readthedocs.io/en/1.26.x/advanced-usage.html#ssl-warnings\n",
      "  warnings.warn(\n",
      "/opt/homebrew/Caskroom/miniforge/base/envs/Master_Project/lib/python3.8/site-packages/urllib3/connectionpool.py:1045: InsecureRequestWarning: Unverified HTTPS request is being made to host 'cds.climate.copernicus.eu'. Adding certificate verification is strongly advised. See: https://urllib3.readthedocs.io/en/1.26.x/advanced-usage.html#ssl-warnings\n",
      "  warnings.warn(\n",
      "/opt/homebrew/Caskroom/miniforge/base/envs/Master_Project/lib/python3.8/site-packages/urllib3/connectionpool.py:1045: InsecureRequestWarning: Unverified HTTPS request is being made to host 'cds.climate.copernicus.eu'. Adding certificate verification is strongly advised. See: https://urllib3.readthedocs.io/en/1.26.x/advanced-usage.html#ssl-warnings\n",
      "  warnings.warn(\n",
      "/opt/homebrew/Caskroom/miniforge/base/envs/Master_Project/lib/python3.8/site-packages/urllib3/connectionpool.py:1045: InsecureRequestWarning: Unverified HTTPS request is being made to host 'cds.climate.copernicus.eu'. Adding certificate verification is strongly advised. See: https://urllib3.readthedocs.io/en/1.26.x/advanced-usage.html#ssl-warnings\n",
      "  warnings.warn(\n",
      "/opt/homebrew/Caskroom/miniforge/base/envs/Master_Project/lib/python3.8/site-packages/urllib3/connectionpool.py:1045: InsecureRequestWarning: Unverified HTTPS request is being made to host 'cds.climate.copernicus.eu'. Adding certificate verification is strongly advised. See: https://urllib3.readthedocs.io/en/1.26.x/advanced-usage.html#ssl-warnings\n",
      "  warnings.warn(\n",
      "/opt/homebrew/Caskroom/miniforge/base/envs/Master_Project/lib/python3.8/site-packages/urllib3/connectionpool.py:1045: InsecureRequestWarning: Unverified HTTPS request is being made to host 'cds.climate.copernicus.eu'. Adding certificate verification is strongly advised. See: https://urllib3.readthedocs.io/en/1.26.x/advanced-usage.html#ssl-warnings\n",
      "  warnings.warn(\n",
      "/opt/homebrew/Caskroom/miniforge/base/envs/Master_Project/lib/python3.8/site-packages/urllib3/connectionpool.py:1045: InsecureRequestWarning: Unverified HTTPS request is being made to host 'cds.climate.copernicus.eu'. Adding certificate verification is strongly advised. See: https://urllib3.readthedocs.io/en/1.26.x/advanced-usage.html#ssl-warnings\n",
      "  warnings.warn(\n",
      "/opt/homebrew/Caskroom/miniforge/base/envs/Master_Project/lib/python3.8/site-packages/urllib3/connectionpool.py:1045: InsecureRequestWarning: Unverified HTTPS request is being made to host 'cds.climate.copernicus.eu'. Adding certificate verification is strongly advised. See: https://urllib3.readthedocs.io/en/1.26.x/advanced-usage.html#ssl-warnings\n",
      "  warnings.warn(\n",
      "/opt/homebrew/Caskroom/miniforge/base/envs/Master_Project/lib/python3.8/site-packages/urllib3/connectionpool.py:1045: InsecureRequestWarning: Unverified HTTPS request is being made to host 'cds.climate.copernicus.eu'. Adding certificate verification is strongly advised. See: https://urllib3.readthedocs.io/en/1.26.x/advanced-usage.html#ssl-warnings\n",
      "  warnings.warn(\n",
      "/opt/homebrew/Caskroom/miniforge/base/envs/Master_Project/lib/python3.8/site-packages/urllib3/connectionpool.py:1045: InsecureRequestWarning: Unverified HTTPS request is being made to host 'cds.climate.copernicus.eu'. Adding certificate verification is strongly advised. See: https://urllib3.readthedocs.io/en/1.26.x/advanced-usage.html#ssl-warnings\n",
      "  warnings.warn(\n",
      "/opt/homebrew/Caskroom/miniforge/base/envs/Master_Project/lib/python3.8/site-packages/urllib3/connectionpool.py:1045: InsecureRequestWarning: Unverified HTTPS request is being made to host 'cds.climate.copernicus.eu'. Adding certificate verification is strongly advised. See: https://urllib3.readthedocs.io/en/1.26.x/advanced-usage.html#ssl-warnings\n",
      "  warnings.warn(\n",
      "/opt/homebrew/Caskroom/miniforge/base/envs/Master_Project/lib/python3.8/site-packages/urllib3/connectionpool.py:1045: InsecureRequestWarning: Unverified HTTPS request is being made to host 'cds.climate.copernicus.eu'. Adding certificate verification is strongly advised. See: https://urllib3.readthedocs.io/en/1.26.x/advanced-usage.html#ssl-warnings\n",
      "  warnings.warn(\n",
      "/opt/homebrew/Caskroom/miniforge/base/envs/Master_Project/lib/python3.8/site-packages/urllib3/connectionpool.py:1045: InsecureRequestWarning: Unverified HTTPS request is being made to host 'cds.climate.copernicus.eu'. Adding certificate verification is strongly advised. See: https://urllib3.readthedocs.io/en/1.26.x/advanced-usage.html#ssl-warnings\n",
      "  warnings.warn(\n",
      "/opt/homebrew/Caskroom/miniforge/base/envs/Master_Project/lib/python3.8/site-packages/urllib3/connectionpool.py:1045: InsecureRequestWarning: Unverified HTTPS request is being made to host 'cds.climate.copernicus.eu'. Adding certificate verification is strongly advised. See: https://urllib3.readthedocs.io/en/1.26.x/advanced-usage.html#ssl-warnings\n",
      "  warnings.warn(\n",
      "/opt/homebrew/Caskroom/miniforge/base/envs/Master_Project/lib/python3.8/site-packages/urllib3/connectionpool.py:1045: InsecureRequestWarning: Unverified HTTPS request is being made to host 'cds.climate.copernicus.eu'. Adding certificate verification is strongly advised. See: https://urllib3.readthedocs.io/en/1.26.x/advanced-usage.html#ssl-warnings\n",
      "  warnings.warn(\n",
      "2023-04-23 12:34:13,087 WARNING Recovering from connection error [HTTPSConnectionPool(host='cds.climate.copernicus.eu', port=443): Read timed out. (read timeout=60)], attemps 0 of 500\n",
      "2023-04-23 12:34:13,090 WARNING Retrying in 120 seconds\n",
      "2023-04-23 13:04:18,812 INFO Retrying now...\n",
      "/opt/homebrew/Caskroom/miniforge/base/envs/Master_Project/lib/python3.8/site-packages/urllib3/connectionpool.py:1045: InsecureRequestWarning: Unverified HTTPS request is being made to host 'cds.climate.copernicus.eu'. Adding certificate verification is strongly advised. See: https://urllib3.readthedocs.io/en/1.26.x/advanced-usage.html#ssl-warnings\n",
      "  warnings.warn(\n",
      "2023-04-23 13:04:19,734 INFO Request is completed\n",
      "2023-04-23 13:04:19,736 INFO Downloading https://download-0013-clone.copernicus-climate.eu/cache-compute-0013/cache/data7/adaptor.mars.internal-1682270138.5056698-18476-3-0601d8b3-b480-4bef-84e0-c556af91c0da.nc to /Users/elsandner/Library/Mobile Documents/com~apple~CloudDocs/Uni/WS22/Master Thesis/Master_Project/data/ERA5_downloads/singleStations/42023_2022.nc (191.3K)\n",
      "/opt/homebrew/Caskroom/miniforge/base/envs/Master_Project/lib/python3.8/site-packages/urllib3/connectionpool.py:1045: InsecureRequestWarning: Unverified HTTPS request is being made to host 'download-0013-clone.copernicus-climate.eu'. Adding certificate verification is strongly advised. See: https://urllib3.readthedocs.io/en/1.26.x/advanced-usage.html#ssl-warnings\n",
      "  warnings.warn(\n",
      "2023-04-23 13:04:22,377 INFO Download rate 72.4K/s \n",
      "/opt/homebrew/Caskroom/miniforge/base/envs/Master_Project/lib/python3.8/site-packages/urllib3/connectionpool.py:1045: InsecureRequestWarning: Unverified HTTPS request is being made to host 'cds.climate.copernicus.eu'. Adding certificate verification is strongly advised. See: https://urllib3.readthedocs.io/en/1.26.x/advanced-usage.html#ssl-warnings\n",
      "  warnings.warn(\n"
     ]
    },
    {
     "name": "stdout",
     "output_type": "stream",
     "text": [
      "Completed download of 42023_2022.nc!\n",
      "Finished downloading - now merging it together!\n"
     ]
    },
    {
     "data": {
      "text/plain": "                     WDIR_41117  WSPD_41117  DEWP_41117  ATMP_41117  \\\ntimestamp                                                             \n2022-01-01 00:00:00  104.269370    5.035121   19.699422   21.629668   \n2022-01-01 01:00:00   99.998468    5.689560   19.672313   21.576521   \n2022-01-01 02:00:00   92.882957    5.014020   19.643801   21.481707   \n2022-01-01 03:00:00   92.544427    5.463980   19.584908   21.298031   \n2022-01-01 04:00:00   85.821568    5.374128   19.493297   21.101175   \n...                         ...         ...         ...         ...   \n2022-12-31 19:00:00   53.060100    7.171131   19.047861   20.968520   \n2022-12-31 20:00:00   58.144730    7.292185   18.872585   21.142417   \n2022-12-31 21:00:00   54.141226    6.600096   18.785648   21.182383   \n2022-12-31 22:00:00   42.689586    5.040456   19.296520   19.681513   \n2022-12-31 23:00:00   57.039035    5.104058   19.238095   19.559488   \n\n                      PRES_41117  WTMP_41117  WVHT_41117  APD_41117  \\\ntimestamp                                                             \n2022-01-01 00:00:00  1017.915716   20.254283    0.329483   6.299478   \n2022-01-01 01:00:00  1018.018294   20.254283    0.323012   5.954988   \n2022-01-01 02:00:00  1018.652456   20.254283    0.328982   5.711620   \n2022-01-01 03:00:00  1018.574133   20.254283    0.335453   5.640352   \n2022-01-01 04:00:00  1018.542298   20.254283    0.333494   5.453326   \n...                          ...         ...         ...        ...   \n2022-12-31 19:00:00  1018.106723   18.848540    0.972845   7.201093   \n2022-12-31 20:00:00  1017.797979   18.848540    0.973255   7.045239   \n2022-12-31 21:00:00  1017.863669   18.848540    0.960313   7.001043   \n2022-12-31 22:00:00  1018.190099   19.500180    1.001600   7.210313   \n2022-12-31 23:00:00  1018.191109   19.500180    0.959493   7.373631   \n\n                      MWD_41117  WDIR_41112  ...   MWD_42022  WDIR_42023  \\\ntimestamp                                    ...                           \n2022-01-01 00:00:00  124.004919   79.968773  ...  179.998129  140.308452   \n2022-01-01 01:00:00  127.794886   72.682745  ...  179.998129  142.943763   \n2022-01-01 02:00:00  130.859815   66.346629  ...  179.998129  138.626688   \n2022-01-01 03:00:00  131.524433   69.972378  ...  179.998129  130.062850   \n2022-01-01 04:00:00  134.149946   63.189943  ...  179.998129  128.922169   \n...                         ...         ...  ...         ...         ...   \n2022-12-31 19:00:00  110.295125   56.259584  ...  179.998129  104.586777   \n2022-12-31 20:00:00  113.700603   49.795707  ...  179.998129  108.708536   \n2022-12-31 21:00:00  115.798816   50.512018  ...  179.998129  114.242494   \n2022-12-31 22:00:00  113.931296   66.440253  ...  179.998129  123.383908   \n2022-12-31 23:00:00  112.338412   53.954553  ...  179.998129  140.370817   \n\n                     WSPD_42023  DEWP_42023  ATMP_42023   PRES_42023  \\\ntimestamp                                                              \n2022-01-01 00:00:00    4.096470   22.193783   24.049552  1018.212998   \n2022-01-01 01:00:00    4.130555   22.078850   24.004272  1018.745975   \n2022-01-01 02:00:00    4.102502   21.932902   23.958423  1018.712768   \n2022-01-01 03:00:00    4.289966   21.712157   23.971808  1018.872163   \n2022-01-01 04:00:00    4.221560   21.422817   23.993736  1018.862201   \n...                         ...         ...         ...          ...   \n2022-12-31 19:00:00    5.590695   22.651327   23.783000  1018.374053   \n2022-12-31 20:00:00    5.234322   22.661544   23.771039  1018.083489   \n2022-12-31 21:00:00    4.804854   22.668476   23.762211  1017.791265   \n2022-12-31 22:00:00    2.569992   22.854924   23.706964  1018.917823   \n2022-12-31 23:00:00    2.402910   22.804572   23.620107  1019.061445   \n\n                     WTMP_42023  WVHT_42023  APD_42023   MWD_42023  \ntimestamp                                                           \n2022-01-01 00:00:00   24.738653    0.411766   3.427401  149.848955  \n2022-01-01 01:00:00   24.738653    0.395991   3.447760  150.118126  \n2022-01-01 02:00:00   24.738653    0.381471   3.459514  150.332364  \n2022-01-01 03:00:00   24.738653    0.363545   3.440309  150.431244  \n2022-01-01 04:00:00   24.738653    0.354761   3.417431  150.486177  \n...                         ...         ...        ...         ...  \n2022-12-31 19:00:00   23.280181    0.418159   3.288978  153.633831  \n2022-12-31 20:00:00   23.280181    0.401727   3.330956  154.139214  \n2022-12-31 21:00:00   23.280181    0.388701   3.351316  154.501771  \n2022-12-31 22:00:00   23.217932    0.405013   3.436636  154.924755  \n2022-12-31 23:00:00   23.217932    0.390135   3.491837  155.501550  \n\n[8760 rows x 90 columns]",
      "text/html": "<div>\n<style scoped>\n    .dataframe tbody tr th:only-of-type {\n        vertical-align: middle;\n    }\n\n    .dataframe tbody tr th {\n        vertical-align: top;\n    }\n\n    .dataframe thead th {\n        text-align: right;\n    }\n</style>\n<table border=\"1\" class=\"dataframe\">\n  <thead>\n    <tr style=\"text-align: right;\">\n      <th></th>\n      <th>WDIR_41117</th>\n      <th>WSPD_41117</th>\n      <th>DEWP_41117</th>\n      <th>ATMP_41117</th>\n      <th>PRES_41117</th>\n      <th>WTMP_41117</th>\n      <th>WVHT_41117</th>\n      <th>APD_41117</th>\n      <th>MWD_41117</th>\n      <th>WDIR_41112</th>\n      <th>...</th>\n      <th>MWD_42022</th>\n      <th>WDIR_42023</th>\n      <th>WSPD_42023</th>\n      <th>DEWP_42023</th>\n      <th>ATMP_42023</th>\n      <th>PRES_42023</th>\n      <th>WTMP_42023</th>\n      <th>WVHT_42023</th>\n      <th>APD_42023</th>\n      <th>MWD_42023</th>\n    </tr>\n    <tr>\n      <th>timestamp</th>\n      <th></th>\n      <th></th>\n      <th></th>\n      <th></th>\n      <th></th>\n      <th></th>\n      <th></th>\n      <th></th>\n      <th></th>\n      <th></th>\n      <th></th>\n      <th></th>\n      <th></th>\n      <th></th>\n      <th></th>\n      <th></th>\n      <th></th>\n      <th></th>\n      <th></th>\n      <th></th>\n      <th></th>\n    </tr>\n  </thead>\n  <tbody>\n    <tr>\n      <th>2022-01-01 00:00:00</th>\n      <td>104.269370</td>\n      <td>5.035121</td>\n      <td>19.699422</td>\n      <td>21.629668</td>\n      <td>1017.915716</td>\n      <td>20.254283</td>\n      <td>0.329483</td>\n      <td>6.299478</td>\n      <td>124.004919</td>\n      <td>79.968773</td>\n      <td>...</td>\n      <td>179.998129</td>\n      <td>140.308452</td>\n      <td>4.096470</td>\n      <td>22.193783</td>\n      <td>24.049552</td>\n      <td>1018.212998</td>\n      <td>24.738653</td>\n      <td>0.411766</td>\n      <td>3.427401</td>\n      <td>149.848955</td>\n    </tr>\n    <tr>\n      <th>2022-01-01 01:00:00</th>\n      <td>99.998468</td>\n      <td>5.689560</td>\n      <td>19.672313</td>\n      <td>21.576521</td>\n      <td>1018.018294</td>\n      <td>20.254283</td>\n      <td>0.323012</td>\n      <td>5.954988</td>\n      <td>127.794886</td>\n      <td>72.682745</td>\n      <td>...</td>\n      <td>179.998129</td>\n      <td>142.943763</td>\n      <td>4.130555</td>\n      <td>22.078850</td>\n      <td>24.004272</td>\n      <td>1018.745975</td>\n      <td>24.738653</td>\n      <td>0.395991</td>\n      <td>3.447760</td>\n      <td>150.118126</td>\n    </tr>\n    <tr>\n      <th>2022-01-01 02:00:00</th>\n      <td>92.882957</td>\n      <td>5.014020</td>\n      <td>19.643801</td>\n      <td>21.481707</td>\n      <td>1018.652456</td>\n      <td>20.254283</td>\n      <td>0.328982</td>\n      <td>5.711620</td>\n      <td>130.859815</td>\n      <td>66.346629</td>\n      <td>...</td>\n      <td>179.998129</td>\n      <td>138.626688</td>\n      <td>4.102502</td>\n      <td>21.932902</td>\n      <td>23.958423</td>\n      <td>1018.712768</td>\n      <td>24.738653</td>\n      <td>0.381471</td>\n      <td>3.459514</td>\n      <td>150.332364</td>\n    </tr>\n    <tr>\n      <th>2022-01-01 03:00:00</th>\n      <td>92.544427</td>\n      <td>5.463980</td>\n      <td>19.584908</td>\n      <td>21.298031</td>\n      <td>1018.574133</td>\n      <td>20.254283</td>\n      <td>0.335453</td>\n      <td>5.640352</td>\n      <td>131.524433</td>\n      <td>69.972378</td>\n      <td>...</td>\n      <td>179.998129</td>\n      <td>130.062850</td>\n      <td>4.289966</td>\n      <td>21.712157</td>\n      <td>23.971808</td>\n      <td>1018.872163</td>\n      <td>24.738653</td>\n      <td>0.363545</td>\n      <td>3.440309</td>\n      <td>150.431244</td>\n    </tr>\n    <tr>\n      <th>2022-01-01 04:00:00</th>\n      <td>85.821568</td>\n      <td>5.374128</td>\n      <td>19.493297</td>\n      <td>21.101175</td>\n      <td>1018.542298</td>\n      <td>20.254283</td>\n      <td>0.333494</td>\n      <td>5.453326</td>\n      <td>134.149946</td>\n      <td>63.189943</td>\n      <td>...</td>\n      <td>179.998129</td>\n      <td>128.922169</td>\n      <td>4.221560</td>\n      <td>21.422817</td>\n      <td>23.993736</td>\n      <td>1018.862201</td>\n      <td>24.738653</td>\n      <td>0.354761</td>\n      <td>3.417431</td>\n      <td>150.486177</td>\n    </tr>\n    <tr>\n      <th>...</th>\n      <td>...</td>\n      <td>...</td>\n      <td>...</td>\n      <td>...</td>\n      <td>...</td>\n      <td>...</td>\n      <td>...</td>\n      <td>...</td>\n      <td>...</td>\n      <td>...</td>\n      <td>...</td>\n      <td>...</td>\n      <td>...</td>\n      <td>...</td>\n      <td>...</td>\n      <td>...</td>\n      <td>...</td>\n      <td>...</td>\n      <td>...</td>\n      <td>...</td>\n      <td>...</td>\n    </tr>\n    <tr>\n      <th>2022-12-31 19:00:00</th>\n      <td>53.060100</td>\n      <td>7.171131</td>\n      <td>19.047861</td>\n      <td>20.968520</td>\n      <td>1018.106723</td>\n      <td>18.848540</td>\n      <td>0.972845</td>\n      <td>7.201093</td>\n      <td>110.295125</td>\n      <td>56.259584</td>\n      <td>...</td>\n      <td>179.998129</td>\n      <td>104.586777</td>\n      <td>5.590695</td>\n      <td>22.651327</td>\n      <td>23.783000</td>\n      <td>1018.374053</td>\n      <td>23.280181</td>\n      <td>0.418159</td>\n      <td>3.288978</td>\n      <td>153.633831</td>\n    </tr>\n    <tr>\n      <th>2022-12-31 20:00:00</th>\n      <td>58.144730</td>\n      <td>7.292185</td>\n      <td>18.872585</td>\n      <td>21.142417</td>\n      <td>1017.797979</td>\n      <td>18.848540</td>\n      <td>0.973255</td>\n      <td>7.045239</td>\n      <td>113.700603</td>\n      <td>49.795707</td>\n      <td>...</td>\n      <td>179.998129</td>\n      <td>108.708536</td>\n      <td>5.234322</td>\n      <td>22.661544</td>\n      <td>23.771039</td>\n      <td>1018.083489</td>\n      <td>23.280181</td>\n      <td>0.401727</td>\n      <td>3.330956</td>\n      <td>154.139214</td>\n    </tr>\n    <tr>\n      <th>2022-12-31 21:00:00</th>\n      <td>54.141226</td>\n      <td>6.600096</td>\n      <td>18.785648</td>\n      <td>21.182383</td>\n      <td>1017.863669</td>\n      <td>18.848540</td>\n      <td>0.960313</td>\n      <td>7.001043</td>\n      <td>115.798816</td>\n      <td>50.512018</td>\n      <td>...</td>\n      <td>179.998129</td>\n      <td>114.242494</td>\n      <td>4.804854</td>\n      <td>22.668476</td>\n      <td>23.762211</td>\n      <td>1017.791265</td>\n      <td>23.280181</td>\n      <td>0.388701</td>\n      <td>3.351316</td>\n      <td>154.501771</td>\n    </tr>\n    <tr>\n      <th>2022-12-31 22:00:00</th>\n      <td>42.689586</td>\n      <td>5.040456</td>\n      <td>19.296520</td>\n      <td>19.681513</td>\n      <td>1018.190099</td>\n      <td>19.500180</td>\n      <td>1.001600</td>\n      <td>7.210313</td>\n      <td>113.931296</td>\n      <td>66.440253</td>\n      <td>...</td>\n      <td>179.998129</td>\n      <td>123.383908</td>\n      <td>2.569992</td>\n      <td>22.854924</td>\n      <td>23.706964</td>\n      <td>1018.917823</td>\n      <td>23.217932</td>\n      <td>0.405013</td>\n      <td>3.436636</td>\n      <td>154.924755</td>\n    </tr>\n    <tr>\n      <th>2022-12-31 23:00:00</th>\n      <td>57.039035</td>\n      <td>5.104058</td>\n      <td>19.238095</td>\n      <td>19.559488</td>\n      <td>1018.191109</td>\n      <td>19.500180</td>\n      <td>0.959493</td>\n      <td>7.373631</td>\n      <td>112.338412</td>\n      <td>53.954553</td>\n      <td>...</td>\n      <td>179.998129</td>\n      <td>140.370817</td>\n      <td>2.402910</td>\n      <td>22.804572</td>\n      <td>23.620107</td>\n      <td>1019.061445</td>\n      <td>23.217932</td>\n      <td>0.390135</td>\n      <td>3.491837</td>\n      <td>155.501550</td>\n    </tr>\n  </tbody>\n</table>\n<p>8760 rows × 90 columns</p>\n</div>"
     },
     "execution_count": 4,
     "metadata": {},
     "output_type": "execute_result"
    }
   ],
   "source": [
    "data_ERA5 = mL.build_ERA5_dataset(\n",
    "                stations=stations,\n",
    "                years=[\"2022\"]\n",
    "            )\n",
    "\n",
    "data_ERA5"
   ],
   "metadata": {
    "collapsed": false,
    "pycharm": {
     "name": "#%%\n"
    }
   }
  },
  {
   "cell_type": "code",
   "execution_count": 9,
   "outputs": [
    {
     "data": {
      "text/plain": "['41117',\n '41112',\n '42001',\n '42002',\n '42012',\n '42013',\n '42019',\n '42020',\n '42022',\n '42023',\n '42026',\n '42036',\n '42039',\n '42040',\n '42055',\n '42095',\n '42097',\n '42098',\n '42099',\n 'AMRL1',\n 'ANPT2',\n 'APCF1',\n 'ARPF1',\n 'AWRT2',\n 'BABT2',\n 'BKTL1',\n 'BSCA1',\n 'BURL1',\n 'BYGL1',\n 'BZST2',\n 'CAPL1',\n 'CARL1',\n 'CDRF1',\n 'CNBF1',\n 'CRTA1',\n 'CWAF1',\n 'CWBF1',\n 'DMSF1',\n 'EBEF1',\n 'EINL1',\n 'EMAT2',\n 'EPTT2',\n 'FHPF1',\n 'FMOA1',\n 'FMRF1',\n 'FPST2',\n 'FRDF1',\n 'GBIF1',\n 'GCTF1',\n 'GISL1',\n 'GKYF1',\n 'GNJT2',\n 'GRRT2',\n 'GTOT2',\n 'HIST2',\n 'HREF1',\n 'IRDT2',\n 'JXUF1',\n 'KTNF1',\n 'KYWF1',\n 'LCLL1',\n 'LMRF1',\n 'LTJF1',\n 'LUIT2',\n 'MBET2',\n 'MBPA1',\n 'MCGA1',\n 'MGPT2',\n 'MHBT2',\n 'MTBF1',\n 'MYPF1',\n 'NCHT2',\n 'NFDF1',\n 'NUET2',\n 'NWCL1',\n 'OBLA1',\n 'OPTF1',\n 'PACF1',\n 'PACT2',\n 'PCBF1',\n 'PCGT2',\n 'PCLF1',\n 'PCNT2',\n 'PILL1',\n 'PMAF1',\n 'PMNT2',\n 'PNLM6',\n 'PORT2',\n 'PSTL1',\n 'PTAT2',\n 'PTBM6',\n 'PTIT2',\n 'PTOA1',\n 'RCPT2',\n 'RLIT2',\n 'RLOT2',\n 'RSJT2',\n 'RTAT2',\n 'SAPF1',\n 'SAUF1',\n 'SDRT2',\n 'SGNT2',\n 'SGOF1',\n 'SHBL1',\n 'SHPF1',\n 'SKCF1',\n 'SMKF1',\n 'SREF1',\n 'SRST2',\n 'TAQT2',\n 'TESL1',\n 'TLVT2',\n 'TPAF1',\n 'TSHF1',\n 'TXPT2',\n 'TXVT2',\n 'UTVT2',\n 'VCAF1',\n 'VCAT2',\n 'VENF1',\n 'WIWF1',\n 'WPLF1',\n 'WYCM6']"
     },
     "execution_count": 9,
     "metadata": {},
     "output_type": "execute_result"
    }
   ],
   "source": [
    "stations_2 = mL.cleaned_stations_GOM\n",
    "stations_2"
   ],
   "metadata": {
    "collapsed": false,
    "pycharm": {
     "name": "#%%\n"
    }
   }
  },
  {
   "cell_type": "code",
   "execution_count": 10,
   "outputs": [
    {
     "name": "stdout",
     "output_type": "stream",
     "text": [
      "Started with  2022 . Previous year took:   1.1920928955078125e-06 seconds\n",
      "donwloading GKYF1_2022.nc ...\n",
      "/Users/elsandner/Library/Mobile Documents/com~apple~CloudDocs/Uni/WS22/Master Thesis/Master_Project/data/ERA5_downloads/singleStations/GKYF1_2022.nc\n"
     ]
    },
    {
     "name": "stderr",
     "output_type": "stream",
     "text": [
      "/opt/homebrew/Caskroom/miniforge/base/envs/Master_Project/lib/python3.8/site-packages/urllib3/connectionpool.py:1045: InsecureRequestWarning: Unverified HTTPS request is being made to host 'cds.climate.copernicus.eu'. Adding certificate verification is strongly advised. See: https://urllib3.readthedocs.io/en/1.26.x/advanced-usage.html#ssl-warnings\n",
      "  warnings.warn(\n",
      "2023-04-24 18:29:32,052 INFO Welcome to the CDS\n",
      "2023-04-24 18:29:32,052 INFO Sending request to https://cds.climate.copernicus.eu/api/v2/resources/reanalysis-era5-single-levels\n",
      "/opt/homebrew/Caskroom/miniforge/base/envs/Master_Project/lib/python3.8/site-packages/urllib3/connectionpool.py:1045: InsecureRequestWarning: Unverified HTTPS request is being made to host 'cds.climate.copernicus.eu'. Adding certificate verification is strongly advised. See: https://urllib3.readthedocs.io/en/1.26.x/advanced-usage.html#ssl-warnings\n",
      "  warnings.warn(\n",
      "2023-04-24 18:29:32,315 INFO Request is queued\n",
      "/opt/homebrew/Caskroom/miniforge/base/envs/Master_Project/lib/python3.8/site-packages/urllib3/connectionpool.py:1045: InsecureRequestWarning: Unverified HTTPS request is being made to host 'cds.climate.copernicus.eu'. Adding certificate verification is strongly advised. See: https://urllib3.readthedocs.io/en/1.26.x/advanced-usage.html#ssl-warnings\n",
      "  warnings.warn(\n",
      "2023-04-24 18:29:33,478 INFO Request is running\n",
      "/opt/homebrew/Caskroom/miniforge/base/envs/Master_Project/lib/python3.8/site-packages/urllib3/connectionpool.py:1045: InsecureRequestWarning: Unverified HTTPS request is being made to host 'cds.climate.copernicus.eu'. Adding certificate verification is strongly advised. See: https://urllib3.readthedocs.io/en/1.26.x/advanced-usage.html#ssl-warnings\n",
      "  warnings.warn(\n",
      "/opt/homebrew/Caskroom/miniforge/base/envs/Master_Project/lib/python3.8/site-packages/urllib3/connectionpool.py:1045: InsecureRequestWarning: Unverified HTTPS request is being made to host 'cds.climate.copernicus.eu'. Adding certificate verification is strongly advised. See: https://urllib3.readthedocs.io/en/1.26.x/advanced-usage.html#ssl-warnings\n",
      "  warnings.warn(\n",
      "/opt/homebrew/Caskroom/miniforge/base/envs/Master_Project/lib/python3.8/site-packages/urllib3/connectionpool.py:1045: InsecureRequestWarning: Unverified HTTPS request is being made to host 'cds.climate.copernicus.eu'. Adding certificate verification is strongly advised. See: https://urllib3.readthedocs.io/en/1.26.x/advanced-usage.html#ssl-warnings\n",
      "  warnings.warn(\n",
      "/opt/homebrew/Caskroom/miniforge/base/envs/Master_Project/lib/python3.8/site-packages/urllib3/connectionpool.py:1045: InsecureRequestWarning: Unverified HTTPS request is being made to host 'cds.climate.copernicus.eu'. Adding certificate verification is strongly advised. See: https://urllib3.readthedocs.io/en/1.26.x/advanced-usage.html#ssl-warnings\n",
      "  warnings.warn(\n",
      "/opt/homebrew/Caskroom/miniforge/base/envs/Master_Project/lib/python3.8/site-packages/urllib3/connectionpool.py:1045: InsecureRequestWarning: Unverified HTTPS request is being made to host 'cds.climate.copernicus.eu'. Adding certificate verification is strongly advised. See: https://urllib3.readthedocs.io/en/1.26.x/advanced-usage.html#ssl-warnings\n",
      "  warnings.warn(\n",
      "/opt/homebrew/Caskroom/miniforge/base/envs/Master_Project/lib/python3.8/site-packages/urllib3/connectionpool.py:1045: InsecureRequestWarning: Unverified HTTPS request is being made to host 'cds.climate.copernicus.eu'. Adding certificate verification is strongly advised. See: https://urllib3.readthedocs.io/en/1.26.x/advanced-usage.html#ssl-warnings\n",
      "  warnings.warn(\n",
      "/opt/homebrew/Caskroom/miniforge/base/envs/Master_Project/lib/python3.8/site-packages/urllib3/connectionpool.py:1045: InsecureRequestWarning: Unverified HTTPS request is being made to host 'cds.climate.copernicus.eu'. Adding certificate verification is strongly advised. See: https://urllib3.readthedocs.io/en/1.26.x/advanced-usage.html#ssl-warnings\n",
      "  warnings.warn(\n",
      "/opt/homebrew/Caskroom/miniforge/base/envs/Master_Project/lib/python3.8/site-packages/urllib3/connectionpool.py:1045: InsecureRequestWarning: Unverified HTTPS request is being made to host 'cds.climate.copernicus.eu'. Adding certificate verification is strongly advised. See: https://urllib3.readthedocs.io/en/1.26.x/advanced-usage.html#ssl-warnings\n",
      "  warnings.warn(\n",
      "/opt/homebrew/Caskroom/miniforge/base/envs/Master_Project/lib/python3.8/site-packages/urllib3/connectionpool.py:1045: InsecureRequestWarning: Unverified HTTPS request is being made to host 'cds.climate.copernicus.eu'. Adding certificate verification is strongly advised. See: https://urllib3.readthedocs.io/en/1.26.x/advanced-usage.html#ssl-warnings\n",
      "  warnings.warn(\n",
      "/opt/homebrew/Caskroom/miniforge/base/envs/Master_Project/lib/python3.8/site-packages/urllib3/connectionpool.py:1045: InsecureRequestWarning: Unverified HTTPS request is being made to host 'cds.climate.copernicus.eu'. Adding certificate verification is strongly advised. See: https://urllib3.readthedocs.io/en/1.26.x/advanced-usage.html#ssl-warnings\n",
      "  warnings.warn(\n",
      "/opt/homebrew/Caskroom/miniforge/base/envs/Master_Project/lib/python3.8/site-packages/urllib3/connectionpool.py:1045: InsecureRequestWarning: Unverified HTTPS request is being made to host 'cds.climate.copernicus.eu'. Adding certificate verification is strongly advised. See: https://urllib3.readthedocs.io/en/1.26.x/advanced-usage.html#ssl-warnings\n",
      "  warnings.warn(\n",
      "/opt/homebrew/Caskroom/miniforge/base/envs/Master_Project/lib/python3.8/site-packages/urllib3/connectionpool.py:1045: InsecureRequestWarning: Unverified HTTPS request is being made to host 'cds.climate.copernicus.eu'. Adding certificate verification is strongly advised. See: https://urllib3.readthedocs.io/en/1.26.x/advanced-usage.html#ssl-warnings\n",
      "  warnings.warn(\n",
      "/opt/homebrew/Caskroom/miniforge/base/envs/Master_Project/lib/python3.8/site-packages/urllib3/connectionpool.py:1045: InsecureRequestWarning: Unverified HTTPS request is being made to host 'cds.climate.copernicus.eu'. Adding certificate verification is strongly advised. See: https://urllib3.readthedocs.io/en/1.26.x/advanced-usage.html#ssl-warnings\n",
      "  warnings.warn(\n",
      "/opt/homebrew/Caskroom/miniforge/base/envs/Master_Project/lib/python3.8/site-packages/urllib3/connectionpool.py:1045: InsecureRequestWarning: Unverified HTTPS request is being made to host 'cds.climate.copernicus.eu'. Adding certificate verification is strongly advised. See: https://urllib3.readthedocs.io/en/1.26.x/advanced-usage.html#ssl-warnings\n",
      "  warnings.warn(\n",
      "/opt/homebrew/Caskroom/miniforge/base/envs/Master_Project/lib/python3.8/site-packages/urllib3/connectionpool.py:1045: InsecureRequestWarning: Unverified HTTPS request is being made to host 'cds.climate.copernicus.eu'. Adding certificate verification is strongly advised. See: https://urllib3.readthedocs.io/en/1.26.x/advanced-usage.html#ssl-warnings\n",
      "  warnings.warn(\n",
      "/opt/homebrew/Caskroom/miniforge/base/envs/Master_Project/lib/python3.8/site-packages/urllib3/connectionpool.py:1045: InsecureRequestWarning: Unverified HTTPS request is being made to host 'cds.climate.copernicus.eu'. Adding certificate verification is strongly advised. See: https://urllib3.readthedocs.io/en/1.26.x/advanced-usage.html#ssl-warnings\n",
      "  warnings.warn(\n",
      "/opt/homebrew/Caskroom/miniforge/base/envs/Master_Project/lib/python3.8/site-packages/urllib3/connectionpool.py:1045: InsecureRequestWarning: Unverified HTTPS request is being made to host 'cds.climate.copernicus.eu'. Adding certificate verification is strongly advised. See: https://urllib3.readthedocs.io/en/1.26.x/advanced-usage.html#ssl-warnings\n",
      "  warnings.warn(\n",
      "/opt/homebrew/Caskroom/miniforge/base/envs/Master_Project/lib/python3.8/site-packages/urllib3/connectionpool.py:1045: InsecureRequestWarning: Unverified HTTPS request is being made to host 'cds.climate.copernicus.eu'. Adding certificate verification is strongly advised. See: https://urllib3.readthedocs.io/en/1.26.x/advanced-usage.html#ssl-warnings\n",
      "  warnings.warn(\n",
      "/opt/homebrew/Caskroom/miniforge/base/envs/Master_Project/lib/python3.8/site-packages/urllib3/connectionpool.py:1045: InsecureRequestWarning: Unverified HTTPS request is being made to host 'cds.climate.copernicus.eu'. Adding certificate verification is strongly advised. See: https://urllib3.readthedocs.io/en/1.26.x/advanced-usage.html#ssl-warnings\n",
      "  warnings.warn(\n",
      "/opt/homebrew/Caskroom/miniforge/base/envs/Master_Project/lib/python3.8/site-packages/urllib3/connectionpool.py:1045: InsecureRequestWarning: Unverified HTTPS request is being made to host 'cds.climate.copernicus.eu'. Adding certificate verification is strongly advised. See: https://urllib3.readthedocs.io/en/1.26.x/advanced-usage.html#ssl-warnings\n",
      "  warnings.warn(\n",
      "/opt/homebrew/Caskroom/miniforge/base/envs/Master_Project/lib/python3.8/site-packages/urllib3/connectionpool.py:1045: InsecureRequestWarning: Unverified HTTPS request is being made to host 'cds.climate.copernicus.eu'. Adding certificate verification is strongly advised. See: https://urllib3.readthedocs.io/en/1.26.x/advanced-usage.html#ssl-warnings\n",
      "  warnings.warn(\n",
      "/opt/homebrew/Caskroom/miniforge/base/envs/Master_Project/lib/python3.8/site-packages/urllib3/connectionpool.py:1045: InsecureRequestWarning: Unverified HTTPS request is being made to host 'cds.climate.copernicus.eu'. Adding certificate verification is strongly advised. See: https://urllib3.readthedocs.io/en/1.26.x/advanced-usage.html#ssl-warnings\n",
      "  warnings.warn(\n",
      "/opt/homebrew/Caskroom/miniforge/base/envs/Master_Project/lib/python3.8/site-packages/urllib3/connectionpool.py:1045: InsecureRequestWarning: Unverified HTTPS request is being made to host 'cds.climate.copernicus.eu'. Adding certificate verification is strongly advised. See: https://urllib3.readthedocs.io/en/1.26.x/advanced-usage.html#ssl-warnings\n",
      "  warnings.warn(\n",
      "/opt/homebrew/Caskroom/miniforge/base/envs/Master_Project/lib/python3.8/site-packages/urllib3/connectionpool.py:1045: InsecureRequestWarning: Unverified HTTPS request is being made to host 'cds.climate.copernicus.eu'. Adding certificate verification is strongly advised. See: https://urllib3.readthedocs.io/en/1.26.x/advanced-usage.html#ssl-warnings\n",
      "  warnings.warn(\n",
      "/opt/homebrew/Caskroom/miniforge/base/envs/Master_Project/lib/python3.8/site-packages/urllib3/connectionpool.py:1045: InsecureRequestWarning: Unverified HTTPS request is being made to host 'cds.climate.copernicus.eu'. Adding certificate verification is strongly advised. See: https://urllib3.readthedocs.io/en/1.26.x/advanced-usage.html#ssl-warnings\n",
      "  warnings.warn(\n",
      "/opt/homebrew/Caskroom/miniforge/base/envs/Master_Project/lib/python3.8/site-packages/urllib3/connectionpool.py:1045: InsecureRequestWarning: Unverified HTTPS request is being made to host 'cds.climate.copernicus.eu'. Adding certificate verification is strongly advised. See: https://urllib3.readthedocs.io/en/1.26.x/advanced-usage.html#ssl-warnings\n",
      "  warnings.warn(\n",
      "/opt/homebrew/Caskroom/miniforge/base/envs/Master_Project/lib/python3.8/site-packages/urllib3/connectionpool.py:1045: InsecureRequestWarning: Unverified HTTPS request is being made to host 'cds.climate.copernicus.eu'. Adding certificate verification is strongly advised. See: https://urllib3.readthedocs.io/en/1.26.x/advanced-usage.html#ssl-warnings\n",
      "  warnings.warn(\n",
      "/opt/homebrew/Caskroom/miniforge/base/envs/Master_Project/lib/python3.8/site-packages/urllib3/connectionpool.py:1045: InsecureRequestWarning: Unverified HTTPS request is being made to host 'cds.climate.copernicus.eu'. Adding certificate verification is strongly advised. See: https://urllib3.readthedocs.io/en/1.26.x/advanced-usage.html#ssl-warnings\n",
      "  warnings.warn(\n",
      "/opt/homebrew/Caskroom/miniforge/base/envs/Master_Project/lib/python3.8/site-packages/urllib3/connectionpool.py:1045: InsecureRequestWarning: Unverified HTTPS request is being made to host 'cds.climate.copernicus.eu'. Adding certificate verification is strongly advised. See: https://urllib3.readthedocs.io/en/1.26.x/advanced-usage.html#ssl-warnings\n",
      "  warnings.warn(\n",
      "/opt/homebrew/Caskroom/miniforge/base/envs/Master_Project/lib/python3.8/site-packages/urllib3/connectionpool.py:1045: InsecureRequestWarning: Unverified HTTPS request is being made to host 'cds.climate.copernicus.eu'. Adding certificate verification is strongly advised. See: https://urllib3.readthedocs.io/en/1.26.x/advanced-usage.html#ssl-warnings\n",
      "  warnings.warn(\n",
      "/opt/homebrew/Caskroom/miniforge/base/envs/Master_Project/lib/python3.8/site-packages/urllib3/connectionpool.py:1045: InsecureRequestWarning: Unverified HTTPS request is being made to host 'cds.climate.copernicus.eu'. Adding certificate verification is strongly advised. See: https://urllib3.readthedocs.io/en/1.26.x/advanced-usage.html#ssl-warnings\n",
      "  warnings.warn(\n",
      "2023-04-24 19:14:04,250 INFO Request is completed\n",
      "2023-04-24 19:14:04,251 INFO Downloading https://download-0009-clone.copernicus-climate.eu/cache-compute-0009/cache/data2/adaptor.mars.internal-1682381200.622482-25363-2-550ffdab-8964-4e92-bb9e-077a8ef916f8.nc to /Users/elsandner/Library/Mobile Documents/com~apple~CloudDocs/Uni/WS22/Master Thesis/Master_Project/data/ERA5_downloads/singleStations/GKYF1_2022.nc (191.3K)\n",
      "/opt/homebrew/Caskroom/miniforge/base/envs/Master_Project/lib/python3.8/site-packages/urllib3/connectionpool.py:1045: InsecureRequestWarning: Unverified HTTPS request is being made to host 'download-0009-clone.copernicus-climate.eu'. Adding certificate verification is strongly advised. See: https://urllib3.readthedocs.io/en/1.26.x/advanced-usage.html#ssl-warnings\n",
      "  warnings.warn(\n",
      "2023-04-24 19:14:06,028 INFO Download rate 107.7K/s\n",
      "/opt/homebrew/Caskroom/miniforge/base/envs/Master_Project/lib/python3.8/site-packages/urllib3/connectionpool.py:1045: InsecureRequestWarning: Unverified HTTPS request is being made to host 'cds.climate.copernicus.eu'. Adding certificate verification is strongly advised. See: https://urllib3.readthedocs.io/en/1.26.x/advanced-usage.html#ssl-warnings\n",
      "  warnings.warn(\n"
     ]
    },
    {
     "name": "stdout",
     "output_type": "stream",
     "text": [
      "Completed download of GKYF1_2022.nc!\n",
      "donwloading GNJT2_2022.nc ...\n",
      "/Users/elsandner/Library/Mobile Documents/com~apple~CloudDocs/Uni/WS22/Master Thesis/Master_Project/data/ERA5_downloads/singleStations/GNJT2_2022.nc\n"
     ]
    },
    {
     "name": "stderr",
     "output_type": "stream",
     "text": [
      "/opt/homebrew/Caskroom/miniforge/base/envs/Master_Project/lib/python3.8/site-packages/urllib3/connectionpool.py:1045: InsecureRequestWarning: Unverified HTTPS request is being made to host 'cds.climate.copernicus.eu'. Adding certificate verification is strongly advised. See: https://urllib3.readthedocs.io/en/1.26.x/advanced-usage.html#ssl-warnings\n",
      "  warnings.warn(\n",
      "2023-04-24 19:14:06,455 INFO Welcome to the CDS\n",
      "2023-04-24 19:14:06,462 INFO Sending request to https://cds.climate.copernicus.eu/api/v2/resources/reanalysis-era5-single-levels\n",
      "/opt/homebrew/Caskroom/miniforge/base/envs/Master_Project/lib/python3.8/site-packages/urllib3/connectionpool.py:1045: InsecureRequestWarning: Unverified HTTPS request is being made to host 'cds.climate.copernicus.eu'. Adding certificate verification is strongly advised. See: https://urllib3.readthedocs.io/en/1.26.x/advanced-usage.html#ssl-warnings\n",
      "  warnings.warn(\n",
      "2023-04-24 19:14:06,722 INFO Request is queued\n",
      "/opt/homebrew/Caskroom/miniforge/base/envs/Master_Project/lib/python3.8/site-packages/urllib3/connectionpool.py:1045: InsecureRequestWarning: Unverified HTTPS request is being made to host 'cds.climate.copernicus.eu'. Adding certificate verification is strongly advised. See: https://urllib3.readthedocs.io/en/1.26.x/advanced-usage.html#ssl-warnings\n",
      "  warnings.warn(\n",
      "2023-04-24 19:14:07,871 INFO Request is running\n",
      "/opt/homebrew/Caskroom/miniforge/base/envs/Master_Project/lib/python3.8/site-packages/urllib3/connectionpool.py:1045: InsecureRequestWarning: Unverified HTTPS request is being made to host 'cds.climate.copernicus.eu'. Adding certificate verification is strongly advised. See: https://urllib3.readthedocs.io/en/1.26.x/advanced-usage.html#ssl-warnings\n",
      "  warnings.warn(\n",
      "/opt/homebrew/Caskroom/miniforge/base/envs/Master_Project/lib/python3.8/site-packages/urllib3/connectionpool.py:1045: InsecureRequestWarning: Unverified HTTPS request is being made to host 'cds.climate.copernicus.eu'. Adding certificate verification is strongly advised. See: https://urllib3.readthedocs.io/en/1.26.x/advanced-usage.html#ssl-warnings\n",
      "  warnings.warn(\n",
      "/opt/homebrew/Caskroom/miniforge/base/envs/Master_Project/lib/python3.8/site-packages/urllib3/connectionpool.py:1045: InsecureRequestWarning: Unverified HTTPS request is being made to host 'cds.climate.copernicus.eu'. Adding certificate verification is strongly advised. See: https://urllib3.readthedocs.io/en/1.26.x/advanced-usage.html#ssl-warnings\n",
      "  warnings.warn(\n",
      "/opt/homebrew/Caskroom/miniforge/base/envs/Master_Project/lib/python3.8/site-packages/urllib3/connectionpool.py:1045: InsecureRequestWarning: Unverified HTTPS request is being made to host 'cds.climate.copernicus.eu'. Adding certificate verification is strongly advised. See: https://urllib3.readthedocs.io/en/1.26.x/advanced-usage.html#ssl-warnings\n",
      "  warnings.warn(\n",
      "/opt/homebrew/Caskroom/miniforge/base/envs/Master_Project/lib/python3.8/site-packages/urllib3/connectionpool.py:1045: InsecureRequestWarning: Unverified HTTPS request is being made to host 'cds.climate.copernicus.eu'. Adding certificate verification is strongly advised. See: https://urllib3.readthedocs.io/en/1.26.x/advanced-usage.html#ssl-warnings\n",
      "  warnings.warn(\n",
      "/opt/homebrew/Caskroom/miniforge/base/envs/Master_Project/lib/python3.8/site-packages/urllib3/connectionpool.py:1045: InsecureRequestWarning: Unverified HTTPS request is being made to host 'cds.climate.copernicus.eu'. Adding certificate verification is strongly advised. See: https://urllib3.readthedocs.io/en/1.26.x/advanced-usage.html#ssl-warnings\n",
      "  warnings.warn(\n",
      "/opt/homebrew/Caskroom/miniforge/base/envs/Master_Project/lib/python3.8/site-packages/urllib3/connectionpool.py:1045: InsecureRequestWarning: Unverified HTTPS request is being made to host 'cds.climate.copernicus.eu'. Adding certificate verification is strongly advised. See: https://urllib3.readthedocs.io/en/1.26.x/advanced-usage.html#ssl-warnings\n",
      "  warnings.warn(\n",
      "/opt/homebrew/Caskroom/miniforge/base/envs/Master_Project/lib/python3.8/site-packages/urllib3/connectionpool.py:1045: InsecureRequestWarning: Unverified HTTPS request is being made to host 'cds.climate.copernicus.eu'. Adding certificate verification is strongly advised. See: https://urllib3.readthedocs.io/en/1.26.x/advanced-usage.html#ssl-warnings\n",
      "  warnings.warn(\n",
      "/opt/homebrew/Caskroom/miniforge/base/envs/Master_Project/lib/python3.8/site-packages/urllib3/connectionpool.py:1045: InsecureRequestWarning: Unverified HTTPS request is being made to host 'cds.climate.copernicus.eu'. Adding certificate verification is strongly advised. See: https://urllib3.readthedocs.io/en/1.26.x/advanced-usage.html#ssl-warnings\n",
      "  warnings.warn(\n",
      "/opt/homebrew/Caskroom/miniforge/base/envs/Master_Project/lib/python3.8/site-packages/urllib3/connectionpool.py:1045: InsecureRequestWarning: Unverified HTTPS request is being made to host 'cds.climate.copernicus.eu'. Adding certificate verification is strongly advised. See: https://urllib3.readthedocs.io/en/1.26.x/advanced-usage.html#ssl-warnings\n",
      "  warnings.warn(\n",
      "/opt/homebrew/Caskroom/miniforge/base/envs/Master_Project/lib/python3.8/site-packages/urllib3/connectionpool.py:1045: InsecureRequestWarning: Unverified HTTPS request is being made to host 'cds.climate.copernicus.eu'. Adding certificate verification is strongly advised. See: https://urllib3.readthedocs.io/en/1.26.x/advanced-usage.html#ssl-warnings\n",
      "  warnings.warn(\n",
      "/opt/homebrew/Caskroom/miniforge/base/envs/Master_Project/lib/python3.8/site-packages/urllib3/connectionpool.py:1045: InsecureRequestWarning: Unverified HTTPS request is being made to host 'cds.climate.copernicus.eu'. Adding certificate verification is strongly advised. See: https://urllib3.readthedocs.io/en/1.26.x/advanced-usage.html#ssl-warnings\n",
      "  warnings.warn(\n"
     ]
    },
    {
     "ename": "KeyboardInterrupt",
     "evalue": "",
     "output_type": "error",
     "traceback": [
      "\u001B[0;31m---------------------------------------------------------------------------\u001B[0m",
      "\u001B[0;31mKeyboardInterrupt\u001B[0m                         Traceback (most recent call last)",
      "Cell \u001B[0;32mIn[10], line 1\u001B[0m\n\u001B[0;32m----> 1\u001B[0m data_ERA5_2 \u001B[38;5;241m=\u001B[39m \u001B[43mmL\u001B[49m\u001B[38;5;241;43m.\u001B[39;49m\u001B[43mbuild_ERA5_dataset\u001B[49m\u001B[43m(\u001B[49m\n\u001B[1;32m      2\u001B[0m \u001B[43m                \u001B[49m\u001B[43mstations\u001B[49m\u001B[38;5;241;43m=\u001B[39;49m\u001B[43mstations_2\u001B[49m\u001B[43m,\u001B[49m\n\u001B[1;32m      3\u001B[0m \u001B[43m                \u001B[49m\u001B[43myears\u001B[49m\u001B[38;5;241;43m=\u001B[39;49m\u001B[43m[\u001B[49m\u001B[38;5;124;43m\"\u001B[39;49m\u001B[38;5;124;43m2022\u001B[39;49m\u001B[38;5;124;43m\"\u001B[39;49m\u001B[43m]\u001B[49m\n\u001B[1;32m      4\u001B[0m \u001B[43m            \u001B[49m\u001B[43m)\u001B[49m\n\u001B[1;32m      5\u001B[0m data_ERA5_2\n",
      "File \u001B[0;32m~/Library/Mobile Documents/com~apple~CloudDocs/Uni/WS22/Master Thesis/Master_Project/myLibrary.py:761\u001B[0m, in \u001B[0;36mbuild_ERA5_dataset\u001B[0;34m(stations, years)\u001B[0m\n\u001B[1;32m    758\u001B[0m time_ref \u001B[38;5;241m=\u001B[39m time\u001B[38;5;241m.\u001B[39mtime()\n\u001B[1;32m    760\u001B[0m data_list_annual \u001B[38;5;241m=\u001B[39m \u001B[38;5;28mlist\u001B[39m()    \u001B[38;5;66;03m# each element in this list is a df containing data of one certain year and all locations\u001B[39;00m\n\u001B[0;32m--> 761\u001B[0m \u001B[38;5;28;01mfor\u001B[39;00m year \u001B[38;5;129;01min\u001B[39;00m years:\n\u001B[1;32m    762\u001B[0m     \u001B[38;5;28mprint\u001B[39m(\u001B[38;5;124m\"\u001B[39m\u001B[38;5;124mStarted with \u001B[39m\u001B[38;5;124m\"\u001B[39m, year, \u001B[38;5;124m\"\u001B[39m\u001B[38;5;124m. Previous year took:  \u001B[39m\u001B[38;5;124m\"\u001B[39m, time\u001B[38;5;241m.\u001B[39mtime() \u001B[38;5;241m-\u001B[39m time_ref , \u001B[38;5;124m\"\u001B[39m\u001B[38;5;124mseconds\u001B[39m\u001B[38;5;124m\"\u001B[39m)\n\u001B[1;32m    763\u001B[0m     time_ref \u001B[38;5;241m=\u001B[39m time\u001B[38;5;241m.\u001B[39mtime()\n",
      "File \u001B[0;32m~/Library/Mobile Documents/com~apple~CloudDocs/Uni/WS22/Master Thesis/Master_Project/myLibrary.py:696\u001B[0m, in \u001B[0;36mget_ERA5_singlePoint\u001B[0;34m(station_id, year)\u001B[0m\n\u001B[1;32m    663\u001B[0m     c = cdsapi.Client(url, key)\n\u001B[1;32m    665\u001B[0m     c.retrieve(\n\u001B[1;32m    666\u001B[0m         'reanalysis-era5-single-levels',\n\u001B[1;32m    667\u001B[0m         {\n\u001B[0;32m   (...)\u001B[0m\n\u001B[1;32m    692\u001B[0m         path\n\u001B[1;32m    693\u001B[0m     )\n\u001B[0;32m--> 696\u001B[0m # Reads from memory\n\u001B[1;32m    697\u001B[0m # If file does not exists --> download\n\u001B[1;32m    698\u001B[0m # returns dataframe\n\u001B[1;32m    699\u001B[0m def get_ERA5_singlePoint(station_id, year):\n\u001B[1;32m    700\u001B[0m     path = f\"{os.path.dirname(__file__)}/data/ERA5_downloads/singleStations/{station_id}_{year}.nc\"\n",
      "File \u001B[0;32m~/Library/Mobile Documents/com~apple~CloudDocs/Uni/WS22/Master Thesis/Master_Project/myLibrary.py:657\u001B[0m, in \u001B[0;36mdownload_ERA5_singlePoint\u001B[0;34m(station_id, year, variables)\u001B[0m\n\u001B[1;32m    654\u001B[0m \u001B[38;5;28mprint\u001B[39m(path)\n\u001B[1;32m    656\u001B[0m \u001B[38;5;66;03m#metadata = pd.read_csv('../data/my_metadata.csv')\u001B[39;00m\n\u001B[0;32m--> 657\u001B[0m metadata \u001B[38;5;241m=\u001B[39m pd\u001B[38;5;241m.\u001B[39mread_csv(\u001B[38;5;124mf\u001B[39m\u001B[38;5;124m\"\u001B[39m\u001B[38;5;132;01m{\u001B[39;00mos\u001B[38;5;241m.\u001B[39mpath\u001B[38;5;241m.\u001B[39mdirname(\u001B[38;5;18m__file__\u001B[39m)\u001B[38;5;132;01m}\u001B[39;00m\u001B[38;5;124m/data/metadata/metadata_2023_03_14.csv\u001B[39m\u001B[38;5;124m\"\u001B[39m)\n\u001B[1;32m    658\u001B[0m metadata\u001B[38;5;241m.\u001B[39mset_index(\u001B[38;5;124m\"\u001B[39m\u001B[38;5;124mStationID\u001B[39m\u001B[38;5;124m\"\u001B[39m, inplace\u001B[38;5;241m=\u001B[39m\u001B[38;5;28;01mTrue\u001B[39;00m)\n\u001B[1;32m    659\u001B[0m lat \u001B[38;5;241m=\u001B[39m metadata\u001B[38;5;241m.\u001B[39mloc[station_id\u001B[38;5;241m.\u001B[39mupper()][\u001B[38;5;124m\"\u001B[39m\u001B[38;5;124mlat\u001B[39m\u001B[38;5;124m\"\u001B[39m]\n",
      "File \u001B[0;32m/opt/homebrew/Caskroom/miniforge/base/envs/Master_Project/lib/python3.8/site-packages/cdsapi/api.py:348\u001B[0m, in \u001B[0;36mClient.retrieve\u001B[0;34m(self, name, request, target)\u001B[0m\n\u001B[1;32m    347\u001B[0m \u001B[38;5;28;01mdef\u001B[39;00m \u001B[38;5;21mretrieve\u001B[39m(\u001B[38;5;28mself\u001B[39m, name, request, target\u001B[38;5;241m=\u001B[39m\u001B[38;5;28;01mNone\u001B[39;00m):\n\u001B[0;32m--> 348\u001B[0m     result \u001B[38;5;241m=\u001B[39m \u001B[38;5;28;43mself\u001B[39;49m\u001B[38;5;241;43m.\u001B[39;49m\u001B[43m_api\u001B[49m\u001B[43m(\u001B[49m\u001B[38;5;124;43m\"\u001B[39;49m\u001B[38;5;132;43;01m%s\u001B[39;49;00m\u001B[38;5;124;43m/resources/\u001B[39;49m\u001B[38;5;132;43;01m%s\u001B[39;49;00m\u001B[38;5;124;43m\"\u001B[39;49m\u001B[43m \u001B[49m\u001B[38;5;241;43m%\u001B[39;49m\u001B[43m \u001B[49m\u001B[43m(\u001B[49m\u001B[38;5;28;43mself\u001B[39;49m\u001B[38;5;241;43m.\u001B[39;49m\u001B[43murl\u001B[49m\u001B[43m,\u001B[49m\u001B[43m \u001B[49m\u001B[43mname\u001B[49m\u001B[43m)\u001B[49m\u001B[43m,\u001B[49m\u001B[43m \u001B[49m\u001B[43mrequest\u001B[49m\u001B[43m,\u001B[49m\u001B[43m \u001B[49m\u001B[38;5;124;43m\"\u001B[39;49m\u001B[38;5;124;43mPOST\u001B[39;49m\u001B[38;5;124;43m\"\u001B[39;49m\u001B[43m)\u001B[49m\n\u001B[1;32m    349\u001B[0m     \u001B[38;5;28;01mif\u001B[39;00m target \u001B[38;5;129;01mis\u001B[39;00m \u001B[38;5;129;01mnot\u001B[39;00m \u001B[38;5;28;01mNone\u001B[39;00m:\n\u001B[1;32m    350\u001B[0m         result\u001B[38;5;241m.\u001B[39mdownload(target)\n",
      "File \u001B[0;32m/opt/homebrew/Caskroom/miniforge/base/envs/Master_Project/lib/python3.8/site-packages/cdsapi/api.py:479\u001B[0m, in \u001B[0;36mClient._api\u001B[0;34m(self, url, request, method)\u001B[0m\n\u001B[1;32m    476\u001B[0m rid \u001B[38;5;241m=\u001B[39m reply[\u001B[38;5;124m\"\u001B[39m\u001B[38;5;124mrequest_id\u001B[39m\u001B[38;5;124m\"\u001B[39m]\n\u001B[1;32m    478\u001B[0m \u001B[38;5;28mself\u001B[39m\u001B[38;5;241m.\u001B[39mdebug(\u001B[38;5;124m\"\u001B[39m\u001B[38;5;124mRequest ID is \u001B[39m\u001B[38;5;132;01m%s\u001B[39;00m\u001B[38;5;124m, sleep \u001B[39m\u001B[38;5;132;01m%s\u001B[39;00m\u001B[38;5;124m\"\u001B[39m, rid, sleep)\n\u001B[0;32m--> 479\u001B[0m \u001B[43mtime\u001B[49m\u001B[38;5;241;43m.\u001B[39;49m\u001B[43msleep\u001B[49m\u001B[43m(\u001B[49m\u001B[43msleep\u001B[49m\u001B[43m)\u001B[49m\n\u001B[1;32m    480\u001B[0m sleep \u001B[38;5;241m*\u001B[39m\u001B[38;5;241m=\u001B[39m \u001B[38;5;241m1.5\u001B[39m\n\u001B[1;32m    481\u001B[0m \u001B[38;5;28;01mif\u001B[39;00m sleep \u001B[38;5;241m>\u001B[39m \u001B[38;5;28mself\u001B[39m\u001B[38;5;241m.\u001B[39msleep_max:\n",
      "\u001B[0;31mKeyboardInterrupt\u001B[0m: "
     ]
    }
   ],
   "source": [
    "data_ERA5_2 = mL.build_ERA5_dataset(\n",
    "                stations=stations_2,\n",
    "                years=[\"2022\"]\n",
    "            )\n",
    "data_ERA5_2"
   ],
   "metadata": {
    "collapsed": false,
    "pycharm": {
     "name": "#%%\n"
    }
   }
  },
  {
   "cell_type": "code",
   "execution_count": 11,
   "outputs": [],
   "source": [
    "import pickle\n",
    "from dataset_container import Experiment"
   ],
   "metadata": {
    "collapsed": false,
    "pycharm": {
     "name": "#%%\n"
    }
   }
  },
  {
   "cell_type": "code",
   "execution_count": 13,
   "outputs": [
    {
     "name": "stderr",
     "output_type": "stream",
     "text": [
      "/opt/homebrew/Caskroom/miniforge/base/envs/Master_Project/lib/python3.8/site-packages/urllib3/connectionpool.py:1045: InsecureRequestWarning: Unverified HTTPS request is being made to host 'cds.climate.copernicus.eu'. Adding certificate verification is strongly advised. See: https://urllib3.readthedocs.io/en/1.26.x/advanced-usage.html#ssl-warnings\n",
      "  warnings.warn(\n"
     ]
    },
    {
     "name": "stdout",
     "output_type": "stream",
     "text": [
      "Keras model archive loading:\n",
      "File Name                                             Modified             Size\n",
      "config.json                                    2023-04-24 19:17:36         1800\n",
      "metadata.json                                  2023-04-24 19:17:36           64\n",
      "variables.h5                                   2023-04-24 19:17:36       145576\n",
      "Keras weights file (<HDF5 file \"variables.h5\" (mode r)>) loading:\n",
      "...layers\n",
      "......dense\n",
      ".........vars\n",
      "............0\n",
      "............1\n",
      "......lstm\n",
      ".........cell\n",
      "............vars\n",
      "...............0\n",
      "...............1\n",
      "...............2\n",
      ".........vars\n",
      "...metrics\n",
      "......mean\n",
      ".........vars\n",
      "............0\n",
      "............1\n",
      "...optimizer\n",
      "......vars\n",
      ".........0\n",
      ".........1\n",
      ".........10\n",
      ".........2\n",
      ".........3\n",
      ".........4\n",
      ".........5\n",
      ".........6\n",
      ".........7\n",
      ".........8\n",
      ".........9\n",
      "...vars\n"
     ]
    }
   ],
   "source": [
    "# open the file for reading in binary mode\n",
    "\n",
    "report: Experiment\n",
    "with open(f'Models/LSTM/Reports/Baseline.pickle', 'rb') as f:\n",
    "    # load the object from the file using pickle.load()\n",
    "    report = pickle.load(f)"
   ],
   "metadata": {
    "collapsed": false,
    "pycharm": {
     "name": "#%%\n"
    }
   }
  },
  {
   "cell_type": "code",
   "execution_count": 14,
   "outputs": [
    {
     "name": "stdout",
     "output_type": "stream",
     "text": [
      "experiment description\n"
     ]
    }
   ],
   "source": [
    "report.describe()"
   ],
   "metadata": {
    "collapsed": false,
    "pycharm": {
     "name": "#%%\n"
    }
   }
  },
  {
   "cell_type": "code",
   "execution_count": 17,
   "outputs": [
    {
     "data": {
      "text/plain": "'Random station, single year test, standard settings'"
     },
     "execution_count": 17,
     "metadata": {},
     "output_type": "execute_result"
    }
   ],
   "source": [
    "report.description"
   ],
   "metadata": {
    "collapsed": false,
    "pycharm": {
     "name": "#%%\n"
    }
   }
  },
  {
   "cell_type": "code",
   "execution_count": null,
   "outputs": [],
   "source": [],
   "metadata": {
    "collapsed": false,
    "pycharm": {
     "name": "#%%\n"
    }
   }
  }
 ],
 "metadata": {
  "kernelspec": {
   "display_name": "Python 3",
   "language": "python",
   "name": "python3"
  },
  "language_info": {
   "codemirror_mode": {
    "name": "ipython",
    "version": 2
   },
   "file_extension": ".py",
   "mimetype": "text/x-python",
   "name": "python",
   "nbconvert_exporter": "python",
   "pygments_lexer": "ipython2",
   "version": "2.7.6"
  }
 },
 "nbformat": 4,
 "nbformat_minor": 0
}