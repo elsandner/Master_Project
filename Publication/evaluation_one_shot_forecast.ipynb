{
 "cells": [
  {
   "cell_type": "code",
   "execution_count": 7,
   "outputs": [],
   "source": [
    "import pickle\n",
    "import pandas as pd\n",
    "import numpy as np"
   ],
   "metadata": {
    "collapsed": false,
    "pycharm": {
     "name": "#%%\n"
    }
   }
  },
  {
   "cell_type": "code",
   "execution_count": 8,
   "outputs": [],
   "source": [
    "filename = \"report_42003_stage0_LSTM_1.pickle\"\n",
    "filepath = f'../data/reports/Publication/center_42003/{filename}'"
   ],
   "metadata": {
    "collapsed": false,
    "pycharm": {
     "name": "#%%\n"
    }
   }
  },
  {
   "cell_type": "code",
   "execution_count": 9,
   "outputs": [],
   "source": [
    "with open(filepath, 'rb') as f:\n",
    "        # load the object from the file using pickle.load()\n",
    "        report = pickle.load(f)"
   ],
   "metadata": {
    "collapsed": false,
    "pycharm": {
     "name": "#%%\n"
    }
   }
  },
  {
   "cell_type": "code",
   "execution_count": 10,
   "outputs": [
    {
     "name": "stdout",
     "output_type": "stream",
     "text": [
      "Experiment: 42003_stage0_LSTM_1\n",
      "FIRST LSTM experiment for publication\n",
      "---------------------------------------\n",
      "Stations: ['42003']\n",
      "Years: ['2017', '2018', '2019', '2020', '2021', '2022']\n",
      "NaN_Threshold: 0.66\n",
      "Features: ['WDIR', 'WSPD', 'WVHT', 'APD', 'MWD', 'PRES', 'ATMP', 'WTMP', 'DEWP']\n",
      "ERA5: True, Stationary Shift: None, Test-Hours:744\n",
      "\n",
      "---------------------------------------\n",
      "Normalized: False\n",
      "\n",
      "---------------------------------------\n",
      "Internal Model name: LSTM_3D\n",
      "Model: \"sequential_2\"\n",
      "_________________________________________________________________\n",
      " Layer (type)                Output Shape              Param #   \n",
      "=================================================================\n",
      " lstm_8 (LSTM)               (None, 24, 128)           72192     \n",
      "                                                                 \n",
      " dropout_6 (Dropout)         (None, 24, 128)           0         \n",
      "                                                                 \n",
      " lstm_9 (LSTM)               (None, 24, 64)            49408     \n",
      "                                                                 \n",
      " dropout_7 (Dropout)         (None, 24, 64)            0         \n",
      "                                                                 \n",
      " lstm_10 (LSTM)              (None, 24, 32)            12416     \n",
      "                                                                 \n",
      " dropout_8 (Dropout)         (None, 24, 32)            0         \n",
      "                                                                 \n",
      " lstm_11 (LSTM)              (None, 24, 16)            3136      \n",
      "                                                                 \n",
      " dense_2 (Dense)             (None, 24, 12)            204       \n",
      "                                                                 \n",
      "=================================================================\n",
      "Total params: 137,356\n",
      "Trainable params: 137,356\n",
      "Non-trainable params: 0\n",
      "_________________________________________________________________\n"
     ]
    }
   ],
   "source": [
    "report.print_settings()"
   ],
   "metadata": {
    "collapsed": false,
    "pycharm": {
     "name": "#%%\n"
    }
   }
  },
  {
   "cell_type": "code",
   "execution_count": 15,
   "outputs": [
    {
     "data": {
      "text/plain": "                     WDIR_42003(t)_pred  WSPD_42003(t)_pred  \\\n2022-12-01 00:00:00           73.213348            4.430244   \n2022-12-01 01:00:00           73.213348            4.430244   \n2022-12-01 02:00:00           73.213348            4.430244   \n2022-12-01 03:00:00           73.213348            4.430244   \n2022-12-01 04:00:00           73.213348            4.430244   \n...                                 ...                 ...   \n2022-12-31 19:00:00           73.213348            4.430244   \n2022-12-31 20:00:00           73.213348            4.430244   \n2022-12-31 21:00:00           73.213348            4.430244   \n2022-12-31 22:00:00           73.213348            4.430244   \n2022-12-31 23:00:00           73.213348            4.430244   \n\n                     PRES_42003(t)_pred  ATMP_42003(t)_pred  \\\n2022-12-01 00:00:00          789.729492           19.355799   \n2022-12-01 01:00:00          789.729492           19.355799   \n2022-12-01 02:00:00          789.729492           19.355799   \n2022-12-01 03:00:00          789.729492           19.355799   \n2022-12-01 04:00:00          789.729492           19.355799   \n...                                 ...                 ...   \n2022-12-31 19:00:00          789.729492           19.355799   \n2022-12-31 20:00:00          789.729492           19.355799   \n2022-12-31 21:00:00          789.729492           19.355799   \n2022-12-31 22:00:00          789.729492           19.355799   \n2022-12-31 23:00:00          789.729492           19.355799   \n\n                     WTMP_42003(t)_pred  DEWP_42003(t)_pred  \\\n2022-12-01 00:00:00           21.781357           16.772167   \n2022-12-01 01:00:00           21.781357           16.772167   \n2022-12-01 02:00:00           21.781357           16.772167   \n2022-12-01 03:00:00           21.781357           16.772167   \n2022-12-01 04:00:00           21.781357           16.772167   \n...                                 ...                 ...   \n2022-12-31 19:00:00           21.781357           16.772167   \n2022-12-31 20:00:00           21.781357           16.772167   \n2022-12-31 21:00:00           21.781357           16.772167   \n2022-12-31 22:00:00           21.781357           16.772167   \n2022-12-31 23:00:00           21.781357           16.772167   \n\n                     PRES_42003_ERA5(t)_pred  DEWP_42003_ERA5(t)_pred  \\\n2022-12-01 00:00:00                 0.589462                -0.359229   \n2022-12-01 01:00:00                 0.589462                -0.359229   \n2022-12-01 02:00:00                 0.589462                -0.359229   \n2022-12-01 03:00:00                 0.589462                -0.359229   \n2022-12-01 04:00:00                 0.589462                -0.359229   \n...                                      ...                      ...   \n2022-12-31 19:00:00                 0.589462                -0.359229   \n2022-12-31 20:00:00                 0.589462                -0.359229   \n2022-12-31 21:00:00                 0.589462                -0.359229   \n2022-12-31 22:00:00                 0.589462                -0.359229   \n2022-12-31 23:00:00                 0.589462                -0.359229   \n\n                     ATMP_42003_ERA5(t)_pred  WDIR_42003_ERA5(t)_pred  ...  \\\n2022-12-01 00:00:00                -1.039141               359.293701  ...   \n2022-12-01 01:00:00                -1.039141               359.293701  ...   \n2022-12-01 02:00:00                -1.039141               359.293701  ...   \n2022-12-01 03:00:00                -1.039141               359.293701  ...   \n2022-12-01 04:00:00                -1.039141               359.293701  ...   \n...                                      ...                      ...  ...   \n2022-12-31 19:00:00                -1.039141               359.293701  ...   \n2022-12-31 20:00:00                -1.039141               359.293701  ...   \n2022-12-31 21:00:00                -1.039141               359.293701  ...   \n2022-12-31 22:00:00                -1.039141               359.293701  ...   \n2022-12-31 23:00:00                -1.039141               359.293701  ...   \n\n                     PRES_42003(t+23)_pred  ATMP_42003(t+23)_pred  \\\n2022-12-01 00:00:00            1018.199585              24.762005   \n2022-12-01 01:00:00            1018.199585              24.762005   \n2022-12-01 02:00:00            1018.199585              24.762005   \n2022-12-01 03:00:00            1018.199585              24.762005   \n2022-12-01 04:00:00            1018.199585              24.762005   \n...                                    ...                    ...   \n2022-12-31 19:00:00            1018.199585              24.762005   \n2022-12-31 20:00:00            1018.199585              24.762005   \n2022-12-31 21:00:00            1018.199585              24.762005   \n2022-12-31 22:00:00            1018.199585              24.762005   \n2022-12-31 23:00:00            1018.199585              24.762005   \n\n                     WTMP_42003(t+23)_pred  DEWP_42003(t+23)_pred  \\\n2022-12-01 00:00:00               27.90291              21.540462   \n2022-12-01 01:00:00               27.90291              21.540462   \n2022-12-01 02:00:00               27.90291              21.540462   \n2022-12-01 03:00:00               27.90291              21.540462   \n2022-12-01 04:00:00               27.90291              21.540462   \n...                                    ...                    ...   \n2022-12-31 19:00:00               27.90291              21.540462   \n2022-12-31 20:00:00               27.90291              21.540462   \n2022-12-31 21:00:00               27.90291              21.540462   \n2022-12-31 22:00:00               27.90291              21.540462   \n2022-12-31 23:00:00               27.90291              21.540462   \n\n                     PRES_42003_ERA5(t+23)_pred  DEWP_42003_ERA5(t+23)_pred  \\\n2022-12-01 00:00:00                    0.773985                    -0.47168   \n2022-12-01 01:00:00                    0.773985                    -0.47168   \n2022-12-01 02:00:00                    0.773985                    -0.47168   \n2022-12-01 03:00:00                    0.773985                    -0.47168   \n2022-12-01 04:00:00                    0.773985                    -0.47168   \n...                                         ...                         ...   \n2022-12-31 19:00:00                    0.773985                    -0.47168   \n2022-12-31 20:00:00                    0.773985                    -0.47168   \n2022-12-31 21:00:00                    0.773985                    -0.47168   \n2022-12-31 22:00:00                    0.773985                    -0.47168   \n2022-12-31 23:00:00                    0.773985                    -0.47168   \n\n                     ATMP_42003_ERA5(t+23)_pred  WDIR_42003_ERA5(t+23)_pred  \\\n2022-12-01 00:00:00                   -1.364429                  359.072632   \n2022-12-01 01:00:00                   -1.364429                  359.072632   \n2022-12-01 02:00:00                   -1.364429                  359.072632   \n2022-12-01 03:00:00                   -1.364429                  359.072632   \n2022-12-01 04:00:00                   -1.364429                  359.072632   \n...                                         ...                         ...   \n2022-12-31 19:00:00                   -1.364429                  359.072632   \n2022-12-31 20:00:00                   -1.364429                  359.072632   \n2022-12-31 21:00:00                   -1.364429                  359.072632   \n2022-12-31 22:00:00                   -1.364429                  359.072632   \n2022-12-31 23:00:00                   -1.364429                  359.072632   \n\n                     WTMP_42003_ERA5(t+23)_pred  WSPD_42003_ERA5(t+23)_pred  \n2022-12-01 00:00:00                     0.63605                    2.268727  \n2022-12-01 01:00:00                     0.63605                    2.268727  \n2022-12-01 02:00:00                     0.63605                    2.268727  \n2022-12-01 03:00:00                     0.63605                    2.268727  \n2022-12-01 04:00:00                     0.63605                    2.268727  \n...                                         ...                         ...  \n2022-12-31 19:00:00                     0.63605                    2.268727  \n2022-12-31 20:00:00                     0.63605                    2.268727  \n2022-12-31 21:00:00                     0.63605                    2.268727  \n2022-12-31 22:00:00                     0.63605                    2.268727  \n2022-12-31 23:00:00                     0.63605                    2.268727  \n\n[744 rows x 288 columns]",
      "text/html": "<div>\n<style scoped>\n    .dataframe tbody tr th:only-of-type {\n        vertical-align: middle;\n    }\n\n    .dataframe tbody tr th {\n        vertical-align: top;\n    }\n\n    .dataframe thead th {\n        text-align: right;\n    }\n</style>\n<table border=\"1\" class=\"dataframe\">\n  <thead>\n    <tr style=\"text-align: right;\">\n      <th></th>\n      <th>WDIR_42003(t)_pred</th>\n      <th>WSPD_42003(t)_pred</th>\n      <th>PRES_42003(t)_pred</th>\n      <th>ATMP_42003(t)_pred</th>\n      <th>WTMP_42003(t)_pred</th>\n      <th>DEWP_42003(t)_pred</th>\n      <th>PRES_42003_ERA5(t)_pred</th>\n      <th>DEWP_42003_ERA5(t)_pred</th>\n      <th>ATMP_42003_ERA5(t)_pred</th>\n      <th>WDIR_42003_ERA5(t)_pred</th>\n      <th>...</th>\n      <th>PRES_42003(t+23)_pred</th>\n      <th>ATMP_42003(t+23)_pred</th>\n      <th>WTMP_42003(t+23)_pred</th>\n      <th>DEWP_42003(t+23)_pred</th>\n      <th>PRES_42003_ERA5(t+23)_pred</th>\n      <th>DEWP_42003_ERA5(t+23)_pred</th>\n      <th>ATMP_42003_ERA5(t+23)_pred</th>\n      <th>WDIR_42003_ERA5(t+23)_pred</th>\n      <th>WTMP_42003_ERA5(t+23)_pred</th>\n      <th>WSPD_42003_ERA5(t+23)_pred</th>\n    </tr>\n  </thead>\n  <tbody>\n    <tr>\n      <th>2022-12-01 00:00:00</th>\n      <td>73.213348</td>\n      <td>4.430244</td>\n      <td>789.729492</td>\n      <td>19.355799</td>\n      <td>21.781357</td>\n      <td>16.772167</td>\n      <td>0.589462</td>\n      <td>-0.359229</td>\n      <td>-1.039141</td>\n      <td>359.293701</td>\n      <td>...</td>\n      <td>1018.199585</td>\n      <td>24.762005</td>\n      <td>27.90291</td>\n      <td>21.540462</td>\n      <td>0.773985</td>\n      <td>-0.47168</td>\n      <td>-1.364429</td>\n      <td>359.072632</td>\n      <td>0.63605</td>\n      <td>2.268727</td>\n    </tr>\n    <tr>\n      <th>2022-12-01 01:00:00</th>\n      <td>73.213348</td>\n      <td>4.430244</td>\n      <td>789.729492</td>\n      <td>19.355799</td>\n      <td>21.781357</td>\n      <td>16.772167</td>\n      <td>0.589462</td>\n      <td>-0.359229</td>\n      <td>-1.039141</td>\n      <td>359.293701</td>\n      <td>...</td>\n      <td>1018.199585</td>\n      <td>24.762005</td>\n      <td>27.90291</td>\n      <td>21.540462</td>\n      <td>0.773985</td>\n      <td>-0.47168</td>\n      <td>-1.364429</td>\n      <td>359.072632</td>\n      <td>0.63605</td>\n      <td>2.268727</td>\n    </tr>\n    <tr>\n      <th>2022-12-01 02:00:00</th>\n      <td>73.213348</td>\n      <td>4.430244</td>\n      <td>789.729492</td>\n      <td>19.355799</td>\n      <td>21.781357</td>\n      <td>16.772167</td>\n      <td>0.589462</td>\n      <td>-0.359229</td>\n      <td>-1.039141</td>\n      <td>359.293701</td>\n      <td>...</td>\n      <td>1018.199585</td>\n      <td>24.762005</td>\n      <td>27.90291</td>\n      <td>21.540462</td>\n      <td>0.773985</td>\n      <td>-0.47168</td>\n      <td>-1.364429</td>\n      <td>359.072632</td>\n      <td>0.63605</td>\n      <td>2.268727</td>\n    </tr>\n    <tr>\n      <th>2022-12-01 03:00:00</th>\n      <td>73.213348</td>\n      <td>4.430244</td>\n      <td>789.729492</td>\n      <td>19.355799</td>\n      <td>21.781357</td>\n      <td>16.772167</td>\n      <td>0.589462</td>\n      <td>-0.359229</td>\n      <td>-1.039141</td>\n      <td>359.293701</td>\n      <td>...</td>\n      <td>1018.199585</td>\n      <td>24.762005</td>\n      <td>27.90291</td>\n      <td>21.540462</td>\n      <td>0.773985</td>\n      <td>-0.47168</td>\n      <td>-1.364429</td>\n      <td>359.072632</td>\n      <td>0.63605</td>\n      <td>2.268727</td>\n    </tr>\n    <tr>\n      <th>2022-12-01 04:00:00</th>\n      <td>73.213348</td>\n      <td>4.430244</td>\n      <td>789.729492</td>\n      <td>19.355799</td>\n      <td>21.781357</td>\n      <td>16.772167</td>\n      <td>0.589462</td>\n      <td>-0.359229</td>\n      <td>-1.039141</td>\n      <td>359.293701</td>\n      <td>...</td>\n      <td>1018.199585</td>\n      <td>24.762005</td>\n      <td>27.90291</td>\n      <td>21.540462</td>\n      <td>0.773985</td>\n      <td>-0.47168</td>\n      <td>-1.364429</td>\n      <td>359.072632</td>\n      <td>0.63605</td>\n      <td>2.268727</td>\n    </tr>\n    <tr>\n      <th>...</th>\n      <td>...</td>\n      <td>...</td>\n      <td>...</td>\n      <td>...</td>\n      <td>...</td>\n      <td>...</td>\n      <td>...</td>\n      <td>...</td>\n      <td>...</td>\n      <td>...</td>\n      <td>...</td>\n      <td>...</td>\n      <td>...</td>\n      <td>...</td>\n      <td>...</td>\n      <td>...</td>\n      <td>...</td>\n      <td>...</td>\n      <td>...</td>\n      <td>...</td>\n      <td>...</td>\n    </tr>\n    <tr>\n      <th>2022-12-31 19:00:00</th>\n      <td>73.213348</td>\n      <td>4.430244</td>\n      <td>789.729492</td>\n      <td>19.355799</td>\n      <td>21.781357</td>\n      <td>16.772167</td>\n      <td>0.589462</td>\n      <td>-0.359229</td>\n      <td>-1.039141</td>\n      <td>359.293701</td>\n      <td>...</td>\n      <td>1018.199585</td>\n      <td>24.762005</td>\n      <td>27.90291</td>\n      <td>21.540462</td>\n      <td>0.773985</td>\n      <td>-0.47168</td>\n      <td>-1.364429</td>\n      <td>359.072632</td>\n      <td>0.63605</td>\n      <td>2.268727</td>\n    </tr>\n    <tr>\n      <th>2022-12-31 20:00:00</th>\n      <td>73.213348</td>\n      <td>4.430244</td>\n      <td>789.729492</td>\n      <td>19.355799</td>\n      <td>21.781357</td>\n      <td>16.772167</td>\n      <td>0.589462</td>\n      <td>-0.359229</td>\n      <td>-1.039141</td>\n      <td>359.293701</td>\n      <td>...</td>\n      <td>1018.199585</td>\n      <td>24.762005</td>\n      <td>27.90291</td>\n      <td>21.540462</td>\n      <td>0.773985</td>\n      <td>-0.47168</td>\n      <td>-1.364429</td>\n      <td>359.072632</td>\n      <td>0.63605</td>\n      <td>2.268727</td>\n    </tr>\n    <tr>\n      <th>2022-12-31 21:00:00</th>\n      <td>73.213348</td>\n      <td>4.430244</td>\n      <td>789.729492</td>\n      <td>19.355799</td>\n      <td>21.781357</td>\n      <td>16.772167</td>\n      <td>0.589462</td>\n      <td>-0.359229</td>\n      <td>-1.039141</td>\n      <td>359.293701</td>\n      <td>...</td>\n      <td>1018.199585</td>\n      <td>24.762005</td>\n      <td>27.90291</td>\n      <td>21.540462</td>\n      <td>0.773985</td>\n      <td>-0.47168</td>\n      <td>-1.364429</td>\n      <td>359.072632</td>\n      <td>0.63605</td>\n      <td>2.268727</td>\n    </tr>\n    <tr>\n      <th>2022-12-31 22:00:00</th>\n      <td>73.213348</td>\n      <td>4.430244</td>\n      <td>789.729492</td>\n      <td>19.355799</td>\n      <td>21.781357</td>\n      <td>16.772167</td>\n      <td>0.589462</td>\n      <td>-0.359229</td>\n      <td>-1.039141</td>\n      <td>359.293701</td>\n      <td>...</td>\n      <td>1018.199585</td>\n      <td>24.762005</td>\n      <td>27.90291</td>\n      <td>21.540462</td>\n      <td>0.773985</td>\n      <td>-0.47168</td>\n      <td>-1.364429</td>\n      <td>359.072632</td>\n      <td>0.63605</td>\n      <td>2.268727</td>\n    </tr>\n    <tr>\n      <th>2022-12-31 23:00:00</th>\n      <td>73.213348</td>\n      <td>4.430244</td>\n      <td>789.729492</td>\n      <td>19.355799</td>\n      <td>21.781357</td>\n      <td>16.772167</td>\n      <td>0.589462</td>\n      <td>-0.359229</td>\n      <td>-1.039141</td>\n      <td>359.293701</td>\n      <td>...</td>\n      <td>1018.199585</td>\n      <td>24.762005</td>\n      <td>27.90291</td>\n      <td>21.540462</td>\n      <td>0.773985</td>\n      <td>-0.47168</td>\n      <td>-1.364429</td>\n      <td>359.072632</td>\n      <td>0.63605</td>\n      <td>2.268727</td>\n    </tr>\n  </tbody>\n</table>\n<p>744 rows × 288 columns</p>\n</div>"
     },
     "execution_count": 15,
     "metadata": {},
     "output_type": "execute_result"
    }
   ],
   "source": [
    "report.one_shot_forecast"
   ],
   "metadata": {
    "collapsed": false,
    "pycharm": {
     "name": "#%%\n"
    }
   }
  },
  {
   "cell_type": "code",
   "execution_count": 17,
   "outputs": [
    {
     "data": {
      "text/plain": "'Experiment: 42003_stage0_LSTM_1\\nFIRST LSTM experiment for publication\\n---------------------------------------\\nStations: 42003\\nYears: [\\'2017\\', \\'2018\\', \\'2019\\', \\'2020\\', \\'2021\\', \\'2022\\']\\nNaN_Threshold: 0.66\\nFeatures: [\\'WDIR\\', \\'WSPD\\', \\'WVHT\\', \\'APD\\', \\'MWD\\', \\'PRES\\', \\'ATMP\\', \\'WTMP\\', \\'DEWP\\']\\nERA5: True, Stationary Shift: None, Test-Hours:744\\n\\n---------------------------------------\\nNormalized: False\\n\\n---------------------------------------\\nInternal Model name: LSTM_3D\\nModel: \"sequential_2\"\\n_________________________________________________________________\\n Layer (type)                Output Shape              Param #   \\n=================================================================\\n lstm_8 (LSTM)               (None, 24, 128)           72192     \\n                                                                 \\n dropout_6 (Dropout)         (None, 24, 128)           0         \\n                                                                 \\n lstm_9 (LSTM)               (None, 24, 64)            49408     \\n                                                                 \\n dropout_7 (Dropout)         (None, 24, 64)            0         \\n                                                                 \\n lstm_10 (LSTM)              (None, 24, 32)            12416     \\n                                                                 \\n dropout_8 (Dropout)         (None, 24, 32)            0         \\n                                                                 \\n lstm_11 (LSTM)              (None, 24, 16)            3136      \\n                                                                 \\n dense_2 (Dense)             (None, 24, 12)            204       \\n                                                                 \\n=================================================================\\nTotal params: 137,356\\nTrainable params: 137,356\\nNon-trainable params: 0\\n_________________________________________________________________'"
     },
     "execution_count": 17,
     "metadata": {},
     "output_type": "execute_result"
    }
   ],
   "source": [
    "report.get_settings_string()"
   ],
   "metadata": {
    "collapsed": false,
    "pycharm": {
     "name": "#%%\n"
    }
   }
  },
  {
   "cell_type": "code",
   "execution_count": 11,
   "outputs": [],
   "source": [
    "def create_error_table(dictionary):\n",
    "    # Extract unique measurements and station IDs\n",
    "    measurements = set()\n",
    "    station_ids = set()\n",
    "    for key in dictionary.keys():\n",
    "        measurement, station_id, *_ = key.split('_')\n",
    "        measurements.add(measurement)\n",
    "        station_ids.add(station_id)\n",
    "\n",
    "    # Create empty table\n",
    "    table = pd.DataFrame(index=sorted(station_ids), columns=sorted(measurements))\n",
    "\n",
    "    # Fill table with dictionary values\n",
    "    for key, value in dictionary.items():\n",
    "        measurement, station_id, *_ = key.split('_')\n",
    "        if key.endswith('ERA5'):\n",
    "            measurement += '_ERA5'\n",
    "        table.loc[station_id, measurement] = value\n",
    "\n",
    "    # Replace missing values with NaN\n",
    "    table = table.fillna(np.nan)\n",
    "\n",
    "    return table"
   ],
   "metadata": {
    "collapsed": false,
    "pycharm": {
     "name": "#%%\n"
    }
   }
  },
  {
   "cell_type": "code",
   "execution_count": null,
   "outputs": [],
   "source": [
    "MAE_df = create_error_table(MAE_dict)"
   ],
   "metadata": {
    "collapsed": false,
    "pycharm": {
     "name": "#%%\n"
    }
   }
  }
 ],
 "metadata": {
  "kernelspec": {
   "display_name": "Python 3",
   "language": "python",
   "name": "python3"
  },
  "language_info": {
   "codemirror_mode": {
    "name": "ipython",
    "version": 2
   },
   "file_extension": ".py",
   "mimetype": "text/x-python",
   "name": "python",
   "nbconvert_exporter": "python",
   "pygments_lexer": "ipython2",
   "version": "2.7.6"
  }
 },
 "nbformat": 4,
 "nbformat_minor": 0
}