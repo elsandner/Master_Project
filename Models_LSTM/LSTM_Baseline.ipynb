{
 "cells": [
  {
   "cell_type": "markdown",
   "source": [],
   "metadata": {
    "collapsed": false,
    "pycharm": {
     "name": "#%% md\n"
    }
   }
  },
  {
   "cell_type": "markdown",
   "source": [
    "https://machinelearningmastery.com/time-series-forecasting-long-short-term-memory-network-python/\n",
    "\n",
    "## One-Step univariate time series forecast with LSTM"
   ],
   "metadata": {
    "collapsed": false,
    "pycharm": {
     "name": "#%% md\n"
    }
   }
  },
  {
   "cell_type": "code",
   "execution_count": 1,
   "metadata": {
    "collapsed": true,
    "pycharm": {
     "name": "#%%\n"
    }
   },
   "outputs": [],
   "source": [
    "# univariate data preparation\n",
    "from keras.models import Sequential\n",
    "from keras.layers import LSTM\n",
    "from keras.layers import Dense\n",
    "\n",
    "import pandas as pd\n",
    "import numpy as np\n",
    "import myLibrary as mL\n",
    "from sklearn.preprocessing import MinMaxScaler\n",
    "from sklearn.metrics import mean_squared_error, mean_absolute_error\n",
    "from math import sqrt\n",
    "from matplotlib import pyplot\n",
    "from IPython.core.display_functions import display\n",
    "import matplotlib.pyplot as plt"
   ]
  },
  {
   "cell_type": "code",
   "execution_count": 2,
   "outputs": [],
   "source": [
    "STATION_ID = \"42036\"    # 33.61% NaN values -> Best value for GOM and 2022\n",
    "YEAR = \"2022\"\n",
    "n=1\n",
    "lag=1\n",
    "num_test_records=7*24"
   ],
   "metadata": {
    "collapsed": false,
    "pycharm": {
     "name": "#%%\n"
    }
   }
  },
  {
   "cell_type": "code",
   "execution_count": 3,
   "outputs": [
    {
     "name": "stdout",
     "output_type": "stream",
     "text": [
      "from disc\n"
     ]
    }
   ],
   "source": [
    "data = mL.get_buoy_data(STATION_ID, YEAR)\n",
    "\n",
    "data = data.drop([\n",
    "    \"WDIR_42036\",\n",
    "    \"WSPD_42036\",\n",
    "    \"WVHT_42036\",\n",
    "    \"APD_42036\",\n",
    "    \"MWD_42036\",\n",
    "    \"PRES_42036\",\n",
    "    \"ATMP_42036\",\n",
    "    #\"WTMP_42036\",\n",
    "    \"DEWP_42036\"], axis=1)"
   ],
   "metadata": {
    "collapsed": false,
    "pycharm": {
     "name": "#%%\n"
    }
   }
  },
  {
   "cell_type": "code",
   "execution_count": 4,
   "outputs": [
    {
     "name": "stdout",
     "output_type": "stream",
     "text": [
      "NaN values:  57\n",
      "Remaining NaN values:  0\n"
     ]
    }
   ],
   "source": [
    "print(\"NaN values: \", data.isna().sum().sum())\n",
    "data.fillna(method='ffill', inplace=True) #ffill .. forward fill (just copy previous value)\n",
    "print(\"Remaining NaN values: \", data.isna().sum().sum())\n",
    "# msno.matrix(data)"
   ],
   "metadata": {
    "collapsed": false,
    "pycharm": {
     "name": "#%%\n"
    }
   }
  },
  {
   "cell_type": "code",
   "execution_count": 5,
   "outputs": [
    {
     "name": "stdout",
     "output_type": "stream",
     "text": [
      "<class 'pandas.core.frame.DataFrame'>\n"
     ]
    },
    {
     "data": {
      "text/plain": "                     WTMP_42036\ntimestamp                      \n2022-01-01 00:00:00        23.0\n2022-01-01 01:00:00        23.0\n2022-01-01 02:00:00        23.0\n2022-01-01 03:00:00        23.0\n2022-01-01 04:00:00        23.0\n...                         ...\n2022-12-31 19:00:00        22.0\n2022-12-31 20:00:00        22.0\n2022-12-31 21:00:00        22.1\n2022-12-31 22:00:00        22.2\n2022-12-31 23:00:00        22.3\n\n[8760 rows x 1 columns]",
      "text/html": "<div>\n<style scoped>\n    .dataframe tbody tr th:only-of-type {\n        vertical-align: middle;\n    }\n\n    .dataframe tbody tr th {\n        vertical-align: top;\n    }\n\n    .dataframe thead th {\n        text-align: right;\n    }\n</style>\n<table border=\"1\" class=\"dataframe\">\n  <thead>\n    <tr style=\"text-align: right;\">\n      <th></th>\n      <th>WTMP_42036</th>\n    </tr>\n    <tr>\n      <th>timestamp</th>\n      <th></th>\n    </tr>\n  </thead>\n  <tbody>\n    <tr>\n      <th>2022-01-01 00:00:00</th>\n      <td>23.0</td>\n    </tr>\n    <tr>\n      <th>2022-01-01 01:00:00</th>\n      <td>23.0</td>\n    </tr>\n    <tr>\n      <th>2022-01-01 02:00:00</th>\n      <td>23.0</td>\n    </tr>\n    <tr>\n      <th>2022-01-01 03:00:00</th>\n      <td>23.0</td>\n    </tr>\n    <tr>\n      <th>2022-01-01 04:00:00</th>\n      <td>23.0</td>\n    </tr>\n    <tr>\n      <th>...</th>\n      <td>...</td>\n    </tr>\n    <tr>\n      <th>2022-12-31 19:00:00</th>\n      <td>22.0</td>\n    </tr>\n    <tr>\n      <th>2022-12-31 20:00:00</th>\n      <td>22.0</td>\n    </tr>\n    <tr>\n      <th>2022-12-31 21:00:00</th>\n      <td>22.1</td>\n    </tr>\n    <tr>\n      <th>2022-12-31 22:00:00</th>\n      <td>22.2</td>\n    </tr>\n    <tr>\n      <th>2022-12-31 23:00:00</th>\n      <td>22.3</td>\n    </tr>\n  </tbody>\n</table>\n<p>8760 rows × 1 columns</p>\n</div>"
     },
     "execution_count": 5,
     "metadata": {},
     "output_type": "execute_result"
    }
   ],
   "source": [
    "print(type(data))\n",
    "data"
   ],
   "metadata": {
    "collapsed": false,
    "pycharm": {
     "name": "#%%\n"
    }
   }
  },
  {
   "cell_type": "markdown",
   "source": [
    "# Prepare data for LSTM network\n",
    "\n",
    "* ### Transform Time Series to Stationary\n",
    "    Preprocessing step that converts the absolute values to delta values. This should result in a more skillful forecast.\n",
    "* ### Provide input X and output y.\n",
    "    LSTM model expects data divided into input (X) and output (y). The model learns a function that maps an input X to an output y. In this example, X is the observation at timestep t-lag and y is the value at t.\n",
    "* ### Split into train and test data\n",
    "    use the last n records for testing\n"
   ],
   "metadata": {
    "collapsed": false,
    "pycharm": {
     "name": "#%% md\n"
    }
   }
  },
  {
   "cell_type": "code",
   "execution_count": 6,
   "outputs": [],
   "source": [
    "#Parameter: Dataframe, ..\n",
    "#This function prepares the provided data for the LSTM network.\n",
    "# * differenciates the data\n",
    "# * creates an input column X and an output column y\n",
    "# * devides the data into train and test data.\n",
    "#returns a df with train and a df with test data\n",
    "#Limitation: Currently only for single WTMP_ feature!\n",
    "def data_to_supervised(df, n=1, lag=1, num_test_records=7*24):\n",
    "    supervised = pd.DataFrame()\n",
    "\n",
    "    #Transform time series to stationary. = Preprocessing step that converts the absolute values to delta values.\n",
    "    supervised[\"y\"] =  df[f\"WTMP_{STATION_ID}\"] - df[f\"WTMP_{STATION_ID}\"].shift(n)    # y = value(i) - value(i-n)\n",
    "    supervised = supervised.iloc[n:] # remove first n entries since there is no delta value for them\n",
    "\n",
    "    #LSTM model expects data devided into input (X) and output (y). The model learns a function that maps an input X to an output y. In this example, X is the observation at timestep t-1 and y is the value at t.\n",
    "    supervised[\"X\"] = supervised['y'].shift(lag)\n",
    "    #supervised[\"y\"] = supervised[\"y\"].fillna(0) # first n entries are NaN\n",
    "    supervised = supervised.iloc[lag:] # remove first lag entries since there is no valid value in y\n",
    "\n",
    "    supervised = supervised.reindex(columns=[\"X\",\"y\"])\n",
    "\n",
    "    train, test = supervised[0:-num_test_records], supervised[-num_test_records:]\n",
    "    return train, test\n",
    "\n",
    "\n",
    "train, test = data_to_supervised(data, n=n, lag=lag, num_test_records=num_test_records)"
   ],
   "metadata": {
    "collapsed": false,
    "pycharm": {
     "name": "#%%\n"
    }
   }
  },
  {
   "cell_type": "code",
   "execution_count": 7,
   "outputs": [
    {
     "data": {
      "text/plain": "                       X    y\ntimestamp                    \n2022-01-01 02:00:00  0.0  0.0\n2022-01-01 03:00:00  0.0  0.0\n2022-01-01 04:00:00  0.0  0.0\n2022-01-01 05:00:00  0.0  0.0\n2022-01-01 06:00:00  0.0 -0.1\n...                  ...  ...\n2022-12-24 19:00:00 -0.1  0.0\n2022-12-24 20:00:00  0.0  0.1\n2022-12-24 21:00:00  0.1 -0.1\n2022-12-24 22:00:00 -0.1  0.0\n2022-12-24 23:00:00  0.0 -0.1\n\n[8590 rows x 2 columns]",
      "text/html": "<div>\n<style scoped>\n    .dataframe tbody tr th:only-of-type {\n        vertical-align: middle;\n    }\n\n    .dataframe tbody tr th {\n        vertical-align: top;\n    }\n\n    .dataframe thead th {\n        text-align: right;\n    }\n</style>\n<table border=\"1\" class=\"dataframe\">\n  <thead>\n    <tr style=\"text-align: right;\">\n      <th></th>\n      <th>X</th>\n      <th>y</th>\n    </tr>\n    <tr>\n      <th>timestamp</th>\n      <th></th>\n      <th></th>\n    </tr>\n  </thead>\n  <tbody>\n    <tr>\n      <th>2022-01-01 02:00:00</th>\n      <td>0.0</td>\n      <td>0.0</td>\n    </tr>\n    <tr>\n      <th>2022-01-01 03:00:00</th>\n      <td>0.0</td>\n      <td>0.0</td>\n    </tr>\n    <tr>\n      <th>2022-01-01 04:00:00</th>\n      <td>0.0</td>\n      <td>0.0</td>\n    </tr>\n    <tr>\n      <th>2022-01-01 05:00:00</th>\n      <td>0.0</td>\n      <td>0.0</td>\n    </tr>\n    <tr>\n      <th>2022-01-01 06:00:00</th>\n      <td>0.0</td>\n      <td>-0.1</td>\n    </tr>\n    <tr>\n      <th>...</th>\n      <td>...</td>\n      <td>...</td>\n    </tr>\n    <tr>\n      <th>2022-12-24 19:00:00</th>\n      <td>-0.1</td>\n      <td>0.0</td>\n    </tr>\n    <tr>\n      <th>2022-12-24 20:00:00</th>\n      <td>0.0</td>\n      <td>0.1</td>\n    </tr>\n    <tr>\n      <th>2022-12-24 21:00:00</th>\n      <td>0.1</td>\n      <td>-0.1</td>\n    </tr>\n    <tr>\n      <th>2022-12-24 22:00:00</th>\n      <td>-0.1</td>\n      <td>0.0</td>\n    </tr>\n    <tr>\n      <th>2022-12-24 23:00:00</th>\n      <td>0.0</td>\n      <td>-0.1</td>\n    </tr>\n  </tbody>\n</table>\n<p>8590 rows × 2 columns</p>\n</div>"
     },
     "execution_count": 7,
     "metadata": {},
     "output_type": "execute_result"
    }
   ],
   "source": [
    "train"
   ],
   "metadata": {
    "collapsed": false,
    "pycharm": {
     "name": "#%%\n"
    }
   }
  },
  {
   "cell_type": "code",
   "execution_count": 8,
   "outputs": [
    {
     "data": {
      "text/plain": "                       X    y\ntimestamp                    \n2022-12-25 00:00:00 -0.1  0.1\n2022-12-25 01:00:00  0.1  0.0\n2022-12-25 02:00:00  0.0 -0.1\n2022-12-25 03:00:00 -0.1  0.0\n2022-12-25 04:00:00  0.0 -0.1\n...                  ...  ...\n2022-12-31 19:00:00  0.1  0.0\n2022-12-31 20:00:00  0.0  0.0\n2022-12-31 21:00:00  0.0  0.1\n2022-12-31 22:00:00  0.1  0.1\n2022-12-31 23:00:00  0.1  0.1\n\n[168 rows x 2 columns]",
      "text/html": "<div>\n<style scoped>\n    .dataframe tbody tr th:only-of-type {\n        vertical-align: middle;\n    }\n\n    .dataframe tbody tr th {\n        vertical-align: top;\n    }\n\n    .dataframe thead th {\n        text-align: right;\n    }\n</style>\n<table border=\"1\" class=\"dataframe\">\n  <thead>\n    <tr style=\"text-align: right;\">\n      <th></th>\n      <th>X</th>\n      <th>y</th>\n    </tr>\n    <tr>\n      <th>timestamp</th>\n      <th></th>\n      <th></th>\n    </tr>\n  </thead>\n  <tbody>\n    <tr>\n      <th>2022-12-25 00:00:00</th>\n      <td>-0.1</td>\n      <td>0.1</td>\n    </tr>\n    <tr>\n      <th>2022-12-25 01:00:00</th>\n      <td>0.1</td>\n      <td>0.0</td>\n    </tr>\n    <tr>\n      <th>2022-12-25 02:00:00</th>\n      <td>0.0</td>\n      <td>-0.1</td>\n    </tr>\n    <tr>\n      <th>2022-12-25 03:00:00</th>\n      <td>-0.1</td>\n      <td>0.0</td>\n    </tr>\n    <tr>\n      <th>2022-12-25 04:00:00</th>\n      <td>0.0</td>\n      <td>-0.1</td>\n    </tr>\n    <tr>\n      <th>...</th>\n      <td>...</td>\n      <td>...</td>\n    </tr>\n    <tr>\n      <th>2022-12-31 19:00:00</th>\n      <td>0.1</td>\n      <td>0.0</td>\n    </tr>\n    <tr>\n      <th>2022-12-31 20:00:00</th>\n      <td>0.0</td>\n      <td>0.0</td>\n    </tr>\n    <tr>\n      <th>2022-12-31 21:00:00</th>\n      <td>0.0</td>\n      <td>0.1</td>\n    </tr>\n    <tr>\n      <th>2022-12-31 22:00:00</th>\n      <td>0.1</td>\n      <td>0.1</td>\n    </tr>\n    <tr>\n      <th>2022-12-31 23:00:00</th>\n      <td>0.1</td>\n      <td>0.1</td>\n    </tr>\n  </tbody>\n</table>\n<p>168 rows × 2 columns</p>\n</div>"
     },
     "execution_count": 8,
     "metadata": {},
     "output_type": "execute_result"
    }
   ],
   "source": [
    "test"
   ],
   "metadata": {
    "collapsed": false,
    "pycharm": {
     "name": "#%%\n"
    }
   }
  },
  {
   "cell_type": "markdown",
   "source": [
    "### Normalize the data\n",
    "   The default activation function for LSTMs is the hyperbolic tangent (tanh) which outputs values between -1 and 1. We use MinMaxScaler class to reshape out data to this scale. To make the experiment fair, we only consider the training data for the min and max values. Otherwise, we would contaminate the experiment with knowledge from the test data."
   ],
   "metadata": {
    "collapsed": false,
    "pycharm": {
     "name": "#%% md\n"
    }
   }
  },
  {
   "cell_type": "code",
   "execution_count": 9,
   "outputs": [],
   "source": [
    "def scale(train, test):\n",
    "     # fit scaler\n",
    "     scaler = MinMaxScaler(feature_range=(-1, 1))\n",
    "     scaler = scaler.fit(train)\n",
    "\n",
    "     # transform train\n",
    "     train_scaled = pd.DataFrame(scaler.transform(train), columns=train.columns)\n",
    "\n",
    "     # transform test\n",
    "     test_scaled = pd.DataFrame(scaler.transform(test), columns=test.columns)\n",
    "     return scaler, train_scaled, test_scaled"
   ],
   "metadata": {
    "collapsed": false,
    "pycharm": {
     "name": "#%%\n"
    }
   }
  },
  {
   "cell_type": "code",
   "execution_count": 10,
   "outputs": [],
   "source": [
    "#invert single float value\n",
    "def invert_scale(scaler, value):\n",
    "    scaled_value_array = np.array([[value, 0]])\n",
    "    inverted_value = scaler.inverse_transform(scaled_value_array)[0][0]\n",
    "    return inverted_value"
   ],
   "metadata": {
    "collapsed": false,
    "pycharm": {
     "name": "#%%\n"
    }
   }
  },
  {
   "cell_type": "code",
   "execution_count": 11,
   "outputs": [],
   "source": [
    "scaler, train_scaled, test_scaled = scale(train, test)"
   ],
   "metadata": {
    "collapsed": false,
    "pycharm": {
     "name": "#%%\n"
    }
   }
  },
  {
   "cell_type": "code",
   "execution_count": 12,
   "outputs": [
    {
     "data": {
      "text/plain": "         X     y\n0     0.04  0.04\n1     0.04  0.04\n2     0.04  0.04\n3     0.04  0.04\n4     0.04 -0.04\n...    ...   ...\n8585 -0.04  0.04\n8586  0.04  0.12\n8587  0.12 -0.04\n8588 -0.04  0.04\n8589  0.04 -0.04\n\n[8590 rows x 2 columns]",
      "text/html": "<div>\n<style scoped>\n    .dataframe tbody tr th:only-of-type {\n        vertical-align: middle;\n    }\n\n    .dataframe tbody tr th {\n        vertical-align: top;\n    }\n\n    .dataframe thead th {\n        text-align: right;\n    }\n</style>\n<table border=\"1\" class=\"dataframe\">\n  <thead>\n    <tr style=\"text-align: right;\">\n      <th></th>\n      <th>X</th>\n      <th>y</th>\n    </tr>\n  </thead>\n  <tbody>\n    <tr>\n      <th>0</th>\n      <td>0.04</td>\n      <td>0.04</td>\n    </tr>\n    <tr>\n      <th>1</th>\n      <td>0.04</td>\n      <td>0.04</td>\n    </tr>\n    <tr>\n      <th>2</th>\n      <td>0.04</td>\n      <td>0.04</td>\n    </tr>\n    <tr>\n      <th>3</th>\n      <td>0.04</td>\n      <td>0.04</td>\n    </tr>\n    <tr>\n      <th>4</th>\n      <td>0.04</td>\n      <td>-0.04</td>\n    </tr>\n    <tr>\n      <th>...</th>\n      <td>...</td>\n      <td>...</td>\n    </tr>\n    <tr>\n      <th>8585</th>\n      <td>-0.04</td>\n      <td>0.04</td>\n    </tr>\n    <tr>\n      <th>8586</th>\n      <td>0.04</td>\n      <td>0.12</td>\n    </tr>\n    <tr>\n      <th>8587</th>\n      <td>0.12</td>\n      <td>-0.04</td>\n    </tr>\n    <tr>\n      <th>8588</th>\n      <td>-0.04</td>\n      <td>0.04</td>\n    </tr>\n    <tr>\n      <th>8589</th>\n      <td>0.04</td>\n      <td>-0.04</td>\n    </tr>\n  </tbody>\n</table>\n<p>8590 rows × 2 columns</p>\n</div>"
     },
     "execution_count": 12,
     "metadata": {},
     "output_type": "execute_result"
    }
   ],
   "source": [
    "train_scaled"
   ],
   "metadata": {
    "collapsed": false,
    "pycharm": {
     "name": "#%%\n"
    }
   }
  },
  {
   "cell_type": "code",
   "execution_count": 13,
   "outputs": [
    {
     "data": {
      "text/plain": "        X     y\n0   -0.04  0.12\n1    0.12  0.04\n2    0.04 -0.04\n3   -0.04  0.04\n4    0.04 -0.04\n..    ...   ...\n163  0.12  0.04\n164  0.04  0.04\n165  0.04  0.12\n166  0.12  0.12\n167  0.12  0.12\n\n[168 rows x 2 columns]",
      "text/html": "<div>\n<style scoped>\n    .dataframe tbody tr th:only-of-type {\n        vertical-align: middle;\n    }\n\n    .dataframe tbody tr th {\n        vertical-align: top;\n    }\n\n    .dataframe thead th {\n        text-align: right;\n    }\n</style>\n<table border=\"1\" class=\"dataframe\">\n  <thead>\n    <tr style=\"text-align: right;\">\n      <th></th>\n      <th>X</th>\n      <th>y</th>\n    </tr>\n  </thead>\n  <tbody>\n    <tr>\n      <th>0</th>\n      <td>-0.04</td>\n      <td>0.12</td>\n    </tr>\n    <tr>\n      <th>1</th>\n      <td>0.12</td>\n      <td>0.04</td>\n    </tr>\n    <tr>\n      <th>2</th>\n      <td>0.04</td>\n      <td>-0.04</td>\n    </tr>\n    <tr>\n      <th>3</th>\n      <td>-0.04</td>\n      <td>0.04</td>\n    </tr>\n    <tr>\n      <th>4</th>\n      <td>0.04</td>\n      <td>-0.04</td>\n    </tr>\n    <tr>\n      <th>...</th>\n      <td>...</td>\n      <td>...</td>\n    </tr>\n    <tr>\n      <th>163</th>\n      <td>0.12</td>\n      <td>0.04</td>\n    </tr>\n    <tr>\n      <th>164</th>\n      <td>0.04</td>\n      <td>0.04</td>\n    </tr>\n    <tr>\n      <th>165</th>\n      <td>0.04</td>\n      <td>0.12</td>\n    </tr>\n    <tr>\n      <th>166</th>\n      <td>0.12</td>\n      <td>0.12</td>\n    </tr>\n    <tr>\n      <th>167</th>\n      <td>0.12</td>\n      <td>0.12</td>\n    </tr>\n  </tbody>\n</table>\n<p>168 rows × 2 columns</p>\n</div>"
     },
     "execution_count": 13,
     "metadata": {},
     "output_type": "execute_result"
    }
   ],
   "source": [
    "test_scaled"
   ],
   "metadata": {
    "collapsed": false,
    "pycharm": {
     "name": "#%%\n"
    }
   }
  },
  {
   "cell_type": "code",
   "execution_count": 13,
   "outputs": [],
   "source": [],
   "metadata": {
    "collapsed": false,
    "pycharm": {
     "name": "#%%\n"
    }
   }
  },
  {
   "cell_type": "code",
   "execution_count": 13,
   "outputs": [],
   "source": [],
   "metadata": {
    "collapsed": false,
    "pycharm": {
     "name": "#%%\n"
    }
   }
  },
  {
   "cell_type": "markdown",
   "source": [
    "### LSTM Model\n",
    "\n",
    "The LSTM layer expects input to be in a matrix with the dimensions: [samples, time steps, features].\n",
    "\n",
    "Samples: independent observations i.e. rows of data\n",
    "Time steps: ???\n",
    "Features: number of features (in this case 1)"
   ],
   "metadata": {
    "collapsed": false,
    "pycharm": {
     "name": "#%% md\n"
    }
   }
  },
  {
   "cell_type": "code",
   "execution_count": 14,
   "outputs": [
    {
     "data": {
      "text/plain": "         X     y\n0     0.04  0.04\n1     0.04  0.04\n2     0.04  0.04\n3     0.04  0.04\n4     0.04 -0.04\n...    ...   ...\n8585 -0.04  0.04\n8586  0.04  0.12\n8587  0.12 -0.04\n8588 -0.04  0.04\n8589  0.04 -0.04\n\n[8590 rows x 2 columns]",
      "text/html": "<div>\n<style scoped>\n    .dataframe tbody tr th:only-of-type {\n        vertical-align: middle;\n    }\n\n    .dataframe tbody tr th {\n        vertical-align: top;\n    }\n\n    .dataframe thead th {\n        text-align: right;\n    }\n</style>\n<table border=\"1\" class=\"dataframe\">\n  <thead>\n    <tr style=\"text-align: right;\">\n      <th></th>\n      <th>X</th>\n      <th>y</th>\n    </tr>\n  </thead>\n  <tbody>\n    <tr>\n      <th>0</th>\n      <td>0.04</td>\n      <td>0.04</td>\n    </tr>\n    <tr>\n      <th>1</th>\n      <td>0.04</td>\n      <td>0.04</td>\n    </tr>\n    <tr>\n      <th>2</th>\n      <td>0.04</td>\n      <td>0.04</td>\n    </tr>\n    <tr>\n      <th>3</th>\n      <td>0.04</td>\n      <td>0.04</td>\n    </tr>\n    <tr>\n      <th>4</th>\n      <td>0.04</td>\n      <td>-0.04</td>\n    </tr>\n    <tr>\n      <th>...</th>\n      <td>...</td>\n      <td>...</td>\n    </tr>\n    <tr>\n      <th>8585</th>\n      <td>-0.04</td>\n      <td>0.04</td>\n    </tr>\n    <tr>\n      <th>8586</th>\n      <td>0.04</td>\n      <td>0.12</td>\n    </tr>\n    <tr>\n      <th>8587</th>\n      <td>0.12</td>\n      <td>-0.04</td>\n    </tr>\n    <tr>\n      <th>8588</th>\n      <td>-0.04</td>\n      <td>0.04</td>\n    </tr>\n    <tr>\n      <th>8589</th>\n      <td>0.04</td>\n      <td>-0.04</td>\n    </tr>\n  </tbody>\n</table>\n<p>8590 rows × 2 columns</p>\n</div>"
     },
     "execution_count": 14,
     "metadata": {},
     "output_type": "execute_result"
    }
   ],
   "source": [
    "train_scaled"
   ],
   "metadata": {
    "collapsed": false,
    "pycharm": {
     "name": "#%%\n"
    }
   }
  },
  {
   "cell_type": "code",
   "execution_count": 32,
   "outputs": [],
   "source": [
    "# TODO: understand this in more detail!\n",
    "# fit an LSTM network to training data\n",
    "def fit_lstm(train, batch_size, nb_epoch, neurons):\n",
    "    train = train.values    #convert dataframe to numpy array\n",
    "    X, y = train[:, 0:-1], train[:, -1]\n",
    "    X = X.reshape(X.shape[0], 1, X.shape[1])\n",
    "\n",
    "    model = Sequential()\n",
    "    model.add(LSTM(neurons, batch_input_shape=(batch_size, X.shape[1], X.shape[2]), stateful=True))\n",
    "    model.add(Dense(1))\n",
    "    model.compile(loss='mean_squared_error', optimizer='adam')\n",
    "    for i in range(nb_epoch):\n",
    "        model.fit(X, y, epochs=1, batch_size=batch_size, verbose=0, shuffle=False)\n",
    "        model.reset_states()\n",
    "    return model"
   ],
   "metadata": {
    "collapsed": false,
    "pycharm": {
     "name": "#%%\n"
    }
   }
  },
  {
   "cell_type": "code",
   "execution_count": 33,
   "outputs": [],
   "source": [
    "# make a one-step forecast\n",
    "def forecast_lstm(model, batch_size, X):\n",
    "     X = X.reshape(1, 1, len(X))\n",
    "     yhat = model.predict(X, batch_size=batch_size)\n",
    "     return yhat[0,0]"
   ],
   "metadata": {
    "collapsed": false,
    "pycharm": {
     "name": "#%%\n"
    }
   }
  },
  {
   "cell_type": "code",
   "execution_count": 34,
   "outputs": [],
   "source": [
    "# fit the model\n",
    "#lstm_model = fit_lstm(train_scaled, 1, 200, 50)    #training data, batch size, epochs, #neurons\n",
    "lstm_model = fit_lstm(train_scaled, 1, 2, 5)    #training data, batch size, epochs, #neurons"
   ],
   "metadata": {
    "collapsed": false,
    "pycharm": {
     "name": "#%%\n"
    }
   }
  },
  {
   "cell_type": "code",
   "execution_count": 18,
   "outputs": [
    {
     "name": "stdout",
     "output_type": "stream",
     "text": [
      "8590/8590 [==============================] - 3s 329us/step\n"
     ]
    },
    {
     "data": {
      "text/plain": "array([[0.0158854 ],\n       [0.02058447],\n       [0.02342242],\n       ...,\n       [0.02772522],\n       [0.02790894],\n       [0.02660676]], dtype=float32)"
     },
     "execution_count": 18,
     "metadata": {},
     "output_type": "execute_result"
    }
   ],
   "source": [
    "# extract input values from test_scaled\n",
    "X_train = train_scaled['X'].values\n",
    "# reshape input values for LSTM model input\n",
    "X_train = X_train.reshape(X_train.shape[0], 1, 1)\n",
    "\n",
    "# forecast the entire training dataset to build up state for forecasting\n",
    "lstm_model.predict(X_train, batch_size=1)"
   ],
   "metadata": {
    "collapsed": false,
    "pycharm": {
     "name": "#%%\n"
    }
   }
  },
  {
   "cell_type": "code",
   "execution_count": 87,
   "outputs": [],
   "source": [
    "# make a one-step forecast\n",
    "def forecast_lstm(model, batch_size, X):\n",
    "    X = np.array([X])\n",
    "    X = X.reshape(1, 1, len(X))\n",
    "    yhat = model.predict(X, batch_size=batch_size, verbose=0)\n",
    "    return yhat[0,0]"
   ],
   "metadata": {
    "collapsed": false,
    "pycharm": {
     "name": "#%%\n"
    }
   }
  },
  {
   "cell_type": "code",
   "execution_count": 88,
   "outputs": [],
   "source": [
    "# walk-forward validation on the test data\n",
    "predictions = list()\n",
    "\n",
    "for index, row in test_scaled.iterrows():\n",
    "    # make one-step forecast\n",
    "    yhat = forecast_lstm(lstm_model, 1, row[\"X\"])  #yhat = predictioned y\n",
    "    # invert scaling\n",
    "    yhat = invert_scale(scaler, yhat)\n",
    "    # invert differencing\n",
    "    yhat = yhat + data[\"WTMP_42036\"][-len(test_scaled)+index]    #add the delta value (=yhat) to the according absolute value\n",
    "    # store forecast\n",
    "    predictions.append(yhat)"
   ],
   "metadata": {
    "collapsed": false,
    "pycharm": {
     "name": "#%%\n"
    }
   }
  },
  {
   "cell_type": "markdown",
   "source": [
    "\n",
    "\n",
    "\n",
    "\n",
    "\n",
    "\n",
    "\n",
    "\n",
    "\n",
    "\n",
    "\n"
   ],
   "metadata": {
    "collapsed": false,
    "pycharm": {
     "name": "#%% md\n"
    }
   }
  },
  {
   "cell_type": "markdown",
   "source": [
    "# Evaluation"
   ],
   "metadata": {
    "collapsed": false,
    "pycharm": {
     "name": "#%% md\n"
    }
   }
  },
  {
   "cell_type": "code",
   "execution_count": 89,
   "outputs": [
    {
     "data": {
      "text/plain": "                     WTMP_42036  Prediction\ntimestamp                                  \n2022-12-25 00:00:00        22.2   22.189370\n2022-12-25 01:00:00        22.2   22.190951\n2022-12-25 02:00:00        22.1   22.090583\n2022-12-25 03:00:00        22.1   22.085420\n2022-12-25 04:00:00        22.0   21.984773\n...                         ...         ...\n2022-12-31 19:00:00        22.0   21.988987\n2022-12-31 20:00:00        22.0   21.989460\n2022-12-31 21:00:00        22.1   22.088830\n2022-12-31 22:00:00        22.2   22.191367\n2022-12-31 23:00:00        22.3   22.294216\n\n[168 rows x 2 columns]",
      "text/html": "<div>\n<style scoped>\n    .dataframe tbody tr th:only-of-type {\n        vertical-align: middle;\n    }\n\n    .dataframe tbody tr th {\n        vertical-align: top;\n    }\n\n    .dataframe thead th {\n        text-align: right;\n    }\n</style>\n<table border=\"1\" class=\"dataframe\">\n  <thead>\n    <tr style=\"text-align: right;\">\n      <th></th>\n      <th>WTMP_42036</th>\n      <th>Prediction</th>\n    </tr>\n    <tr>\n      <th>timestamp</th>\n      <th></th>\n      <th></th>\n    </tr>\n  </thead>\n  <tbody>\n    <tr>\n      <th>2022-12-25 00:00:00</th>\n      <td>22.2</td>\n      <td>22.189370</td>\n    </tr>\n    <tr>\n      <th>2022-12-25 01:00:00</th>\n      <td>22.2</td>\n      <td>22.190951</td>\n    </tr>\n    <tr>\n      <th>2022-12-25 02:00:00</th>\n      <td>22.1</td>\n      <td>22.090583</td>\n    </tr>\n    <tr>\n      <th>2022-12-25 03:00:00</th>\n      <td>22.1</td>\n      <td>22.085420</td>\n    </tr>\n    <tr>\n      <th>2022-12-25 04:00:00</th>\n      <td>22.0</td>\n      <td>21.984773</td>\n    </tr>\n    <tr>\n      <th>...</th>\n      <td>...</td>\n      <td>...</td>\n    </tr>\n    <tr>\n      <th>2022-12-31 19:00:00</th>\n      <td>22.0</td>\n      <td>21.988987</td>\n    </tr>\n    <tr>\n      <th>2022-12-31 20:00:00</th>\n      <td>22.0</td>\n      <td>21.989460</td>\n    </tr>\n    <tr>\n      <th>2022-12-31 21:00:00</th>\n      <td>22.1</td>\n      <td>22.088830</td>\n    </tr>\n    <tr>\n      <th>2022-12-31 22:00:00</th>\n      <td>22.2</td>\n      <td>22.191367</td>\n    </tr>\n    <tr>\n      <th>2022-12-31 23:00:00</th>\n      <td>22.3</td>\n      <td>22.294216</td>\n    </tr>\n  </tbody>\n</table>\n<p>168 rows × 2 columns</p>\n</div>"
     },
     "execution_count": 89,
     "metadata": {},
     "output_type": "execute_result"
    }
   ],
   "source": [
    "result = data.tail(len(predictions)).copy() #to ensure that it is a copy and not the original data dataframe\n",
    "result.loc[:, \"Prediction\"] = predictions\n",
    "result"
   ],
   "metadata": {
    "collapsed": false,
    "pycharm": {
     "name": "#%%\n"
    }
   }
  },
  {
   "cell_type": "code",
   "execution_count": 92,
   "outputs": [
    {
     "data": {
      "text/plain": "<Figure size 1500x480 with 1 Axes>",
      "image/png": "[encoded data removed]"
     },
     "metadata": {},
     "output_type": "display_data"
    }
   ],
   "source": [
    "plt.figure().set_figwidth(15)\n",
    "plt.plot(result[\"Prediction\"], label=\"Prediction\")\n",
    "plt.plot(result[\"WTMP_42036\"], label=\"Ground Truth\")\n",
    "plt.title(\"Result of 2 week LSTM forecast\")\n",
    "plt.legend()\n",
    "plt.show()"
   ],
   "metadata": {
    "collapsed": false,
    "pycharm": {
     "name": "#%%\n"
    }
   }
  },
  {
   "cell_type": "code",
   "execution_count": 93,
   "outputs": [
    {
     "name": "stdout",
     "output_type": "stream",
     "text": [
      "MAE:  0.0136940919611211\n",
      "MSE:  0.00021023778664838535\n"
     ]
    }
   ],
   "source": [
    "# report performance\n",
    "mae = mean_absolute_error(result[\"WTMP_42036\"], result[\"Prediction\"])\n",
    "mse = mean_squared_error(result[\"WTMP_42036\"], result[\"Prediction\"])\n",
    "print('MAE: ', mae)\n",
    "print('MSE: ', mse)\n",
    "#error_scores.append(rmse)"
   ],
   "metadata": {
    "collapsed": false,
    "pycharm": {
     "name": "#%%\n"
    }
   }
  }
 ],
 "metadata": {
  "kernelspec": {
   "display_name": "Python 3",
   "language": "python",
   "name": "python3"
  },
  "language_info": {
   "codemirror_mode": {
    "name": "ipython",
    "version": 2
   },
   "file_extension": ".py",
   "mimetype": "text/x-python",
   "name": "python",
   "nbconvert_exporter": "python",
   "pygments_lexer": "ipython2",
   "version": "2.7.6"
  }
 },
 "nbformat": 4,
 "nbformat_minor": 0
}