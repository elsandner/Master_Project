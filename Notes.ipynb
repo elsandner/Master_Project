{
 "cells": [
  {
   "cell_type": "markdown",
   "source": [
    "# Notes\n",
    "----"
   ],
   "metadata": {
    "collapsed": false,
    "pycharm": {
     "name": "#%% md\n"
    }
   }
  },
  {
   "cell_type": "markdown",
   "source": [
    "# TODOS:\n",
    "* CSV files change datatypes. Are pickle files an alternative? What exactly are Pickle files? Why are they better\n"
   ],
   "metadata": {
    "collapsed": false,
    "pycharm": {
     "name": "#%% md\n"
    }
   }
  },
  {
   "cell_type": "markdown",
   "source": [
    "----\n",
    "# Next Steps:\n",
    "1. Compare data imputation techniques (not important, could be postponed!)\n",
    "2. Get familiar with ERA5, Wave Watch III\n",
    "   - What are the timesteps?\n",
    "   - How to build a \"similar dataset\" from that source?\n",
    "3. Build PINN and fit in with created datasets\n",
    "    - I guess I will start with quite small dataset, which is not ready yet!\n",
    "4. Then the real work will start!\n",
    "    - Try out different preprocessing techniques and document their performance!\n",
    "    - Here I must not forget to write a lot!!\n",
    "\n",
    "# Correction:\n",
    "Now I have documented most of my findings so far. I reached the point where it does not make sense to continue writing, since I will not continue with the 1h timesteps! Therefore I now will:\n",
    "\n",
    "1. Read about ERA5, Wave Watch III\n",
    "2. Figure out how to use them\n",
    "3. Figure out which timesteps can be used\n",
    "4. Rebuild the dataset of the buoy data with the correct timesteps\n",
    "7. Then I need to figure out how to get the GPS coordinates of both data sources!\n",
    "8. Then I can build a similar dataset with both data sources!\n",
    "9. And then I will continue with preprocessing and dokumentation!"
   ],
   "metadata": {
    "collapsed": false,
    "pycharm": {
     "name": "#%% md\n"
    }
   }
  },
  {
   "cell_type": "markdown",
   "source": [
    "# Research TODOs:\n",
    "- What is the difference between:\n",
    "    - Missing completely at random\n",
    "    - Missing at random\n",
    "    - Missing not at random\n",
    "- Do some research about the importance of normalization in this domain/context/use case!!\n",
    "- Is MSE the best accuracy measurement metric for NaN imputation? What is relative MSE?"
   ],
   "metadata": {
    "collapsed": false,
    "pycharm": {
     "name": "#%% md\n"
    }
   }
  },
  {
   "cell_type": "markdown",
   "source": [
    "---\n",
    "# Open questions:\n",
    "- What are the right timesteps for forecasting? Where can I read something about this?  (should be clear before building datasets!)\n"
   ],
   "metadata": {
    "collapsed": false,
    "pycharm": {
     "name": "#%% md\n"
    }
   }
  },
  {
   "cell_type": "markdown",
   "source": [
    "---\n",
    "# Findings:\n",
    "\n",
    "Timesteps: Many data records are collected just a few minutes before or after a full-hour. Those should not be filtered out!"
   ],
   "metadata": {
    "collapsed": false,
    "pycharm": {
     "name": "#%% md\n"
    }
   }
  },
  {
   "cell_type": "markdown",
   "source": [],
   "metadata": {
    "collapsed": false,
    "pycharm": {
     "name": "#%% md\n"
    }
   }
  },
  {
   "cell_type": "code",
   "execution_count": null,
   "outputs": [],
   "source": [],
   "metadata": {
    "collapsed": false,
    "pycharm": {
     "name": "#%%\n"
    }
   }
  }
 ],
 "metadata": {
  "kernelspec": {
   "display_name": "Python 3",
   "language": "python",
   "name": "python3"
  },
  "language_info": {
   "codemirror_mode": {
    "name": "ipython",
    "version": 2
   },
   "file_extension": ".py",
   "mimetype": "text/x-python",
   "name": "python",
   "nbconvert_exporter": "python",
   "pygments_lexer": "ipython2",
   "version": "2.7.6"
  }
 },
 "nbformat": 4,
 "nbformat_minor": 0
}