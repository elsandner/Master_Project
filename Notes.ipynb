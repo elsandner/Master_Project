{
 "cells": [
  {
   "cell_type": "markdown",
   "source": [
    "# Notes\n",
    "----"
   ],
   "metadata": {
    "collapsed": false,
    "pycharm": {
     "name": "#%% md\n"
    }
   }
  },
  {
   "cell_type": "markdown",
   "source": [
    "# TODOS:\n",
    "* CSV files change datatypes. Are pickle files an alternative? What exactly are Pickle files? Why are they better\n"
   ],
   "metadata": {
    "collapsed": false,
    "pycharm": {
     "name": "#%% md\n"
    }
   }
  },
  {
   "cell_type": "markdown",
   "source": [
    "----\n",
    "# Next Steps:\n",
    "1. Compare data imputation techniques (not important, could be postponed!)\n",
    "2. Get familiar with ERA5, Wave Watch III\n",
    "   - What are the timesteps?\n",
    "   - How to build a \"similar dataset\" from that source?\n",
    "3. Build PINN and fit in with created datasets\n",
    "    - I guess I will start with quite small dataset, which is not ready yet!\n",
    "4. Then the real work will start!\n",
    "    - Try out different preprocessing techniques and document their performance!\n",
    "    - Here I must not forget to write a lot!!"
   ],
   "metadata": {
    "collapsed": false,
    "pycharm": {
     "name": "#%% md\n"
    }
   }
  },
  {
   "cell_type": "markdown",
   "source": [
    "# Research TODOs:\n",
    "- What is the difference between:\n",
    "    - Missing completely at random\n",
    "    - Missing at random\n",
    "    - Missing not at random\n",
    "- Do some research about the importance of normalization in this domain/context/use case!!\n",
    "- Is MSE the best accuracy measurement metric for NaN imputation? What is relative MSE?"
   ],
   "metadata": {
    "collapsed": false,
    "pycharm": {
     "name": "#%% md\n"
    }
   }
  },
  {
   "cell_type": "markdown",
   "source": [
    "---\n",
    "# Open questions:\n",
    "- What are the right timesteps for forecasting? Where can I read something about this?  (should be clear before building datasets!)\n"
   ],
   "metadata": {
    "collapsed": false,
    "pycharm": {
     "name": "#%% md\n"
    }
   }
  },
  {
   "cell_type": "markdown",
   "source": [],
   "metadata": {
    "collapsed": false,
    "pycharm": {
     "name": "#%% md\n"
    }
   }
  },
  {
   "cell_type": "code",
   "execution_count": null,
   "outputs": [],
   "source": [],
   "metadata": {
    "collapsed": false,
    "pycharm": {
     "name": "#%%\n"
    }
   }
  }
 ],
 "metadata": {
  "kernelspec": {
   "display_name": "Python 3",
   "language": "python",
   "name": "python3"
  },
  "language_info": {
   "codemirror_mode": {
    "name": "ipython",
    "version": 2
   },
   "file_extension": ".py",
   "mimetype": "text/x-python",
   "name": "python",
   "nbconvert_exporter": "python",
   "pygments_lexer": "ipython2",
   "version": "2.7.6"
  }
 },
 "nbformat": 4,
 "nbformat_minor": 0
}