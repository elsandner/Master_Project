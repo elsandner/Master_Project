{
 "cells": [
  {
   "cell_type": "markdown",
   "source": [
    "# Not sure if this file is up to date - for operational usage go to Experiment_Automation.ipynb !!"
   ],
   "metadata": {
    "collapsed": false,
    "pycharm": {
     "name": "#%% md\n"
    }
   }
  },
  {
   "cell_type": "markdown",
   "metadata": {
    "pycharm": {
     "name": "#%% md\n"
    }
   },
   "source": [
    "# Test Environment"
   ]
  },
  {
   "cell_type": "code",
   "execution_count": 45,
   "metadata": {
    "pycharm": {
     "name": "#%%\n"
    }
   },
   "outputs": [],
   "source": [
    "import ipywidgets as widgets\n",
    "from IPython.display import display\n",
    "import numpy as np\n",
    "import pandas as pd\n",
    "#import Models.models as models\n",
    "#import Models.LSTM.models_LSTM as models\n",
    "import script_utils as mL\n",
    "#from Experiment_Class import Experiment\n",
    "from sklearn.metrics import mean_squared_error, mean_absolute_error\n",
    "import pickle\n",
    "import os\n",
    "\n",
    "NDBC = mL.NDBC_lib\n",
    "ERA5 = mL.ERA5_lib\n",
    "Models = mL.Models\n",
    "DP = mL.DataProcessor\n",
    "Experiment = mL.Experiment\n",
    "\n",
    "# %load_ext jupyternotify"
   ]
  },
  {
   "cell_type": "markdown",
   "metadata": {
    "pycharm": {
     "name": "#%% md\n"
    }
   },
   "source": [
    "# Get Data"
   ]
  },
  {
   "cell_type": "code",
   "execution_count": 46,
   "metadata": {
    "pycharm": {
     "name": "#%%\n"
    }
   },
   "outputs": [
    {
     "data": {
      "text/plain": "HBox(children=(VBox(children=(Select(description='Datafile:', options=('.DS_Store', '42003_stage_2.pickle', '4…",
      "application/vnd.jupyter.widget-view+json": {
       "version_major": 2,
       "version_minor": 0,
       "model_id": "5d664c76c7d6412d8729e0672034a588"
      }
     },
     "metadata": {},
     "output_type": "display_data"
    },
    {
     "name": "stdout",
     "output_type": "stream",
     "text": [
      "Alpha: \n"
     ]
    },
    {
     "data": {
      "text/plain": "FloatSlider(value=0.5, layout=Layout(width='500px'), max=1.0, step=0.01)",
      "application/vnd.jupyter.widget-view+json": {
       "version_major": 2,
       "version_minor": 0,
       "model_id": "7058aa97e18746c8a6fb92790afcbdf6"
      }
     },
     "metadata": {},
     "output_type": "display_data"
    }
   ],
   "source": [
    "data_directory = os.path.join(os.getcwd(), f'data/datasets/type_A')\n",
    "\n",
    "def build_UI():\n",
    "\n",
    "    # Select Model-------------------------------------------------------------------------------\n",
    "    global datafile_widget\n",
    "    datafile_list = os.listdir(data_directory)\n",
    "    datafile_widget = widgets.Select(\n",
    "        options=datafile_list,\n",
    "        value=datafile_list[0],\n",
    "        # rows=10,\n",
    "        description='Datafile:',\n",
    "        disabled=False\n",
    "    )\n",
    "\n",
    "    #STATIONARY_SHIFT -----------------------------------------------------------------------\n",
    "    global stationaryShift_widget\n",
    "    stationaryShift_widget = widgets.BoundedIntText(\n",
    "        value=1,\n",
    "        min=0,\n",
    "        max=10,\n",
    "        step=1,\n",
    "        description='',\n",
    "        disabled=False,\n",
    "    )\n",
    "\n",
    "    #Supervised:\n",
    "    n_in_dropdown = widgets.Dropdown(\n",
    "        options=[1, 2, 3, 4, 5, 6, 7, 8, 9, 10],\n",
    "        value=3,\n",
    "        description='n_in:',\n",
    "        disabled=False,\n",
    "    )\n",
    "    n_out_dropdown = widgets.Dropdown(\n",
    "        options=[1, 2, 3, 4, 5, 6, 7, 8, 9, 10],\n",
    "        value=1,\n",
    "        description='n_out:',\n",
    "        disabled=False,\n",
    "    )\n",
    "\n",
    "    # Test Hours-------------------------------------------------------------------------------\n",
    "    global test_hours_widget\n",
    "    test_hours_widget = widgets.IntSlider(\n",
    "        value=24,\n",
    "        min=0,\n",
    "        max=1000,\n",
    "        step=1,\n",
    "        description='Test Hours:',\n",
    "        disabled=False,\n",
    "        continuous_update=False,\n",
    "        orientation='horizontal',\n",
    "        readout=True,\n",
    "        readout_format='d'\n",
    "    )\n",
    "\n",
    "    # Select Model-------------------------------------------------------------------------------\n",
    "    global models_widget\n",
    "    models_list = list(Models.model_dictionary.keys())\n",
    "    models_widget = widgets.Select(\n",
    "        options=models_list,\n",
    "        value=models_list[0],\n",
    "        rows=10,\n",
    "        description='Model:',\n",
    "        disabled=False\n",
    "    )\n",
    "\n",
    "    #ALPHA:-------------------------------------------------------------------------------\n",
    "    # create a FloatSlider widget for a value between 0 and 1\n",
    "    global alpha_slider\n",
    "    alpha_slider = widgets.FloatSlider(\n",
    "        value=0.5,\n",
    "        min=0,\n",
    "        max=1,\n",
    "        step=0.01,\n",
    "        description='',\n",
    "        readout_format='.2f',\n",
    "        orientation='horizontal',\n",
    "        layout={'width': '500px'}\n",
    "    )\n",
    "\n",
    "    left_box = widgets.VBox([\n",
    "        datafile_widget,\n",
    "        n_in_dropdown,\n",
    "        n_out_dropdown,\n",
    "        widgets.HTML(value=\"<p>Station Shift:</p>\"),\n",
    "        stationaryShift_widget,\n",
    "        test_hours_widget\n",
    "        ],\n",
    "    )\n",
    "\n",
    "\n",
    "    right_box = widgets.VBox([\n",
    "        models_widget\n",
    "    ])\n",
    "\n",
    "    display(widgets.HBox([\n",
    "        left_box,\n",
    "        right_box,\n",
    "    ]))\n",
    "    print(\"Alpha: \")\n",
    "    display(alpha_slider)\n",
    "\n",
    "build_UI() #can be activated whenever needed!"
   ]
  },
  {
   "cell_type": "code",
   "execution_count": 47,
   "metadata": {
    "pycharm": {
     "name": "#%%\n"
    }
   },
   "outputs": [],
   "source": [
    "# DATAFILE = datafile_widget.value\n",
    "# STATIONARY_SHIFT = stationaryShift_widget.value\n",
    "# N_TEST_HOURS = test_hours_widget.value\n",
    "# MODEL_NAME = models_widget.value\n",
    "# ALPHA = alpha_slider.value"
   ]
  },
  {
   "cell_type": "markdown",
   "metadata": {
    "pycharm": {
     "name": "#%% md\n"
    }
   },
   "source": [
    "## Optional: use hardcoded variables instead"
   ]
  },
  {
   "cell_type": "code",
   "execution_count": 97,
   "metadata": {
    "pycharm": {
     "name": "#%%\n"
    }
   },
   "outputs": [],
   "source": [
    "DATAFILE = \"42003_stage_0.pickle\"\n",
    "N_IN=3\n",
    "N_OUT=1\n",
    "STATIONARY_SHIFT = 1\n",
    "N_TEST_HOURS = 31*24 #(One month)\n",
    "MODEL_NAME = \"LSTM_2\"\n",
    "ALPHA = 1"
   ]
  },
  {
   "cell_type": "markdown",
   "source": [],
   "metadata": {
    "collapsed": false,
    "pycharm": {
     "name": "#%% md\n"
    }
   }
  },
  {
   "cell_type": "code",
   "execution_count": 98,
   "outputs": [
    {
     "name": "stdout",
     "output_type": "stream",
     "text": [
      "Datafile: 42003_stage_0.pickle\n",
      "Alpha: 1\n",
      "Stationary Shift: 1\n",
      "N_IN: 3\n",
      "N_OUT: 1\n",
      "Test-Hours: 744\n",
      "Model: LSTM_2\n"
     ]
    }
   ],
   "source": [
    "print(f\"Datafile: {DATAFILE}\")\n",
    "print(f\"Alpha: {ALPHA}\")\n",
    "print(f\"Stationary Shift: {STATIONARY_SHIFT}\")\n",
    "print(f\"N_IN: {N_IN}\")\n",
    "print(f\"N_OUT: {N_OUT}\")\n",
    "print(f\"Test-Hours: {N_TEST_HOURS}\")\n",
    "print(f\"Model: {MODEL_NAME}\")"
   ],
   "metadata": {
    "collapsed": false,
    "pycharm": {
     "name": "#%%\n"
    }
   }
  },
  {
   "cell_type": "code",
   "execution_count": 99,
   "metadata": {
    "pycharm": {
     "name": "#%%\n"
    }
   },
   "outputs": [
    {
     "name": "stdout",
     "output_type": "stream",
     "text": [
      "stations ['42003']\n",
      "years ['2017', '2018', '2019', '2020', '2021', '2022']\n",
      "nan_threshold 0.66\n",
      "features ['WDIR', 'WSPD', 'WVHT', 'APD', 'MWD', 'PRES', 'ATMP', 'WTMP', 'DEWP']\n",
      "add_era5 True\n"
     ]
    },
    {
     "data": {
      "text/plain": "                     WDIR_42003  WSPD_42003  PRES_42003  ATMP_42003  \\\n2017-01-01 00:00:00        52.0         1.2      1017.0        23.9   \n2017-01-01 01:00:00        52.0         1.2      1017.0        23.9   \n2017-01-01 02:00:00        52.0         1.2      1017.0        23.9   \n2017-01-01 03:00:00        52.0         1.2      1017.0        23.9   \n2017-01-01 04:00:00        52.0         1.2      1017.0        23.9   \n...                         ...         ...         ...         ...   \n2022-12-31 19:00:00        54.0         3.4      1012.1        28.7   \n2022-12-31 20:00:00        54.0         3.4      1012.1        28.7   \n2022-12-31 21:00:00        54.0         3.4      1012.1        28.7   \n2022-12-31 22:00:00        54.0         3.4      1012.1        28.7   \n2022-12-31 23:00:00        54.0         3.4      1012.1        28.7   \n\n                     WTMP_42003  DEWP_42003  PRES_42003_ERA5  DEWP_42003_ERA5  \\\n2017-01-01 00:00:00        24.8        24.8      1017.543815        18.389685   \n2017-01-01 01:00:00        24.8        24.8      1017.844245        18.258847   \n2017-01-01 02:00:00        24.8        24.8      1018.266168        18.152943   \n2017-01-01 03:00:00        24.8        24.8      1018.731300        18.085380   \n2017-01-01 04:00:00        24.8        24.8      1018.775526        18.327483   \n...                         ...         ...              ...              ...   \n2022-12-31 19:00:00        29.4        25.1      1017.354549        22.430594   \n2022-12-31 20:00:00        29.4        25.1      1017.170520        22.323688   \n2022-12-31 21:00:00        29.4        25.1      1017.046382        21.885496   \n2022-12-31 22:00:00        29.4        25.1      1018.447468        21.882078   \n2022-12-31 23:00:00        29.4        25.1      1018.568702        21.835773   \n\n                     ATMP_42003_ERA5  WDIR_42003_ERA5  WTMP_42003_ERA5  \\\n2017-01-01 00:00:00        25.496719       121.924126        25.576055   \n2017-01-01 01:00:00        25.561329       121.222618        25.576055   \n2017-01-01 02:00:00        25.712758       119.223252        25.576055   \n2017-01-01 03:00:00        25.847811       118.280718        25.576055   \n2017-01-01 04:00:00        25.777593       116.010992        25.576055   \n...                              ...              ...              ...   \n2022-12-31 19:00:00        25.116762        62.437416        26.043836   \n2022-12-31 20:00:00        24.950898        52.297944        26.043836   \n2022-12-31 21:00:00        23.590570        38.390185        26.043836   \n2022-12-31 22:00:00        23.937287       343.208740        26.256956   \n2022-12-31 23:00:00        23.834820       348.634561        26.256956   \n\n                     WSPD_42003_ERA5  \n2017-01-01 00:00:00         8.435547  \n2017-01-01 01:00:00         8.621167  \n2017-01-01 02:00:00         8.626273  \n2017-01-01 03:00:00         8.543633  \n2017-01-01 04:00:00         8.382881  \n...                              ...  \n2022-12-31 19:00:00         5.699986  \n2022-12-31 20:00:00         5.119160  \n2022-12-31 21:00:00         4.777839  \n2022-12-31 22:00:00         3.422273  \n2022-12-31 23:00:00         2.600605  \n\n[52584 rows x 12 columns]",
      "text/html": "<div>\n<style scoped>\n    .dataframe tbody tr th:only-of-type {\n        vertical-align: middle;\n    }\n\n    .dataframe tbody tr th {\n        vertical-align: top;\n    }\n\n    .dataframe thead th {\n        text-align: right;\n    }\n</style>\n<table border=\"1\" class=\"dataframe\">\n  <thead>\n    <tr style=\"text-align: right;\">\n      <th></th>\n      <th>WDIR_42003</th>\n      <th>WSPD_42003</th>\n      <th>PRES_42003</th>\n      <th>ATMP_42003</th>\n      <th>WTMP_42003</th>\n      <th>DEWP_42003</th>\n      <th>PRES_42003_ERA5</th>\n      <th>DEWP_42003_ERA5</th>\n      <th>ATMP_42003_ERA5</th>\n      <th>WDIR_42003_ERA5</th>\n      <th>WTMP_42003_ERA5</th>\n      <th>WSPD_42003_ERA5</th>\n    </tr>\n  </thead>\n  <tbody>\n    <tr>\n      <th>2017-01-01 00:00:00</th>\n      <td>52.0</td>\n      <td>1.2</td>\n      <td>1017.0</td>\n      <td>23.9</td>\n      <td>24.8</td>\n      <td>24.8</td>\n      <td>1017.543815</td>\n      <td>18.389685</td>\n      <td>25.496719</td>\n      <td>121.924126</td>\n      <td>25.576055</td>\n      <td>8.435547</td>\n    </tr>\n    <tr>\n      <th>2017-01-01 01:00:00</th>\n      <td>52.0</td>\n      <td>1.2</td>\n      <td>1017.0</td>\n      <td>23.9</td>\n      <td>24.8</td>\n      <td>24.8</td>\n      <td>1017.844245</td>\n      <td>18.258847</td>\n      <td>25.561329</td>\n      <td>121.222618</td>\n      <td>25.576055</td>\n      <td>8.621167</td>\n    </tr>\n    <tr>\n      <th>2017-01-01 02:00:00</th>\n      <td>52.0</td>\n      <td>1.2</td>\n      <td>1017.0</td>\n      <td>23.9</td>\n      <td>24.8</td>\n      <td>24.8</td>\n      <td>1018.266168</td>\n      <td>18.152943</td>\n      <td>25.712758</td>\n      <td>119.223252</td>\n      <td>25.576055</td>\n      <td>8.626273</td>\n    </tr>\n    <tr>\n      <th>2017-01-01 03:00:00</th>\n      <td>52.0</td>\n      <td>1.2</td>\n      <td>1017.0</td>\n      <td>23.9</td>\n      <td>24.8</td>\n      <td>24.8</td>\n      <td>1018.731300</td>\n      <td>18.085380</td>\n      <td>25.847811</td>\n      <td>118.280718</td>\n      <td>25.576055</td>\n      <td>8.543633</td>\n    </tr>\n    <tr>\n      <th>2017-01-01 04:00:00</th>\n      <td>52.0</td>\n      <td>1.2</td>\n      <td>1017.0</td>\n      <td>23.9</td>\n      <td>24.8</td>\n      <td>24.8</td>\n      <td>1018.775526</td>\n      <td>18.327483</td>\n      <td>25.777593</td>\n      <td>116.010992</td>\n      <td>25.576055</td>\n      <td>8.382881</td>\n    </tr>\n    <tr>\n      <th>...</th>\n      <td>...</td>\n      <td>...</td>\n      <td>...</td>\n      <td>...</td>\n      <td>...</td>\n      <td>...</td>\n      <td>...</td>\n      <td>...</td>\n      <td>...</td>\n      <td>...</td>\n      <td>...</td>\n      <td>...</td>\n    </tr>\n    <tr>\n      <th>2022-12-31 19:00:00</th>\n      <td>54.0</td>\n      <td>3.4</td>\n      <td>1012.1</td>\n      <td>28.7</td>\n      <td>29.4</td>\n      <td>25.1</td>\n      <td>1017.354549</td>\n      <td>22.430594</td>\n      <td>25.116762</td>\n      <td>62.437416</td>\n      <td>26.043836</td>\n      <td>5.699986</td>\n    </tr>\n    <tr>\n      <th>2022-12-31 20:00:00</th>\n      <td>54.0</td>\n      <td>3.4</td>\n      <td>1012.1</td>\n      <td>28.7</td>\n      <td>29.4</td>\n      <td>25.1</td>\n      <td>1017.170520</td>\n      <td>22.323688</td>\n      <td>24.950898</td>\n      <td>52.297944</td>\n      <td>26.043836</td>\n      <td>5.119160</td>\n    </tr>\n    <tr>\n      <th>2022-12-31 21:00:00</th>\n      <td>54.0</td>\n      <td>3.4</td>\n      <td>1012.1</td>\n      <td>28.7</td>\n      <td>29.4</td>\n      <td>25.1</td>\n      <td>1017.046382</td>\n      <td>21.885496</td>\n      <td>23.590570</td>\n      <td>38.390185</td>\n      <td>26.043836</td>\n      <td>4.777839</td>\n    </tr>\n    <tr>\n      <th>2022-12-31 22:00:00</th>\n      <td>54.0</td>\n      <td>3.4</td>\n      <td>1012.1</td>\n      <td>28.7</td>\n      <td>29.4</td>\n      <td>25.1</td>\n      <td>1018.447468</td>\n      <td>21.882078</td>\n      <td>23.937287</td>\n      <td>343.208740</td>\n      <td>26.256956</td>\n      <td>3.422273</td>\n    </tr>\n    <tr>\n      <th>2022-12-31 23:00:00</th>\n      <td>54.0</td>\n      <td>3.4</td>\n      <td>1012.1</td>\n      <td>28.7</td>\n      <td>29.4</td>\n      <td>25.1</td>\n      <td>1018.568702</td>\n      <td>21.835773</td>\n      <td>23.834820</td>\n      <td>348.634561</td>\n      <td>26.256956</td>\n      <td>2.600605</td>\n    </tr>\n  </tbody>\n</table>\n<p>52584 rows × 12 columns</p>\n</div>"
     },
     "execution_count": 99,
     "metadata": {},
     "output_type": "execute_result"
    }
   ],
   "source": [
    "with open(f'data/datasets/type_A/{DATAFILE}', 'rb') as f:\n",
    "    # load the object from the file using pickle.load()\n",
    "    dataset = pickle.load(f)\n",
    "\n",
    "print(\"stations\",dataset[\"stations\"])\n",
    "print(\"years\",dataset[\"years\"])\n",
    "print(\"nan_threshold\",dataset[\"nan_threshold\"])\n",
    "print(\"features\",dataset[\"features\"])\n",
    "print(\"add_era5\",dataset[\"add_era5\"])\n",
    "\n",
    "data = dataset[\"data\"]\n",
    "data"
   ]
  },
  {
   "cell_type": "markdown",
   "metadata": {
    "pycharm": {
     "name": "#%% md\n"
    }
   },
   "source": [
    "# Data Processing"
   ]
  },
  {
   "cell_type": "markdown",
   "metadata": {
    "pycharm": {
     "name": "#%% md\n"
    }
   },
   "source": [
    "## 1. Make data stationary"
   ]
  },
  {
   "cell_type": "code",
   "execution_count": 100,
   "metadata": {
    "pycharm": {
     "name": "#%%\n"
    }
   },
   "outputs": [
    {
     "data": {
      "text/plain": "                     WDIR_42003  WSPD_42003  PRES_42003  ATMP_42003  \\\n2017-01-01 01:00:00         0.0         0.0         0.0         0.0   \n2017-01-01 02:00:00         0.0         0.0         0.0         0.0   \n2017-01-01 03:00:00         0.0         0.0         0.0         0.0   \n2017-01-01 04:00:00         0.0         0.0         0.0         0.0   \n2017-01-01 05:00:00         0.0         0.0         0.0         0.0   \n\n                     WTMP_42003  DEWP_42003  PRES_42003_ERA5  DEWP_42003_ERA5  \\\n2017-01-01 01:00:00         0.0         0.0         0.300430        -0.130838   \n2017-01-01 02:00:00         0.0         0.0         0.421923        -0.105904   \n2017-01-01 03:00:00         0.0         0.0         0.465132        -0.067564   \n2017-01-01 04:00:00         0.0         0.0         0.044226         0.242104   \n2017-01-01 05:00:00         0.0         0.0        -0.210453         0.067028   \n\n                     ATMP_42003_ERA5  WDIR_42003_ERA5  WTMP_42003_ERA5  \\\n2017-01-01 01:00:00         0.064610        -0.701509              0.0   \n2017-01-01 02:00:00         0.151429        -1.999366              0.0   \n2017-01-01 03:00:00         0.135053        -0.942534              0.0   \n2017-01-01 04:00:00        -0.070218        -2.269726              0.0   \n2017-01-01 05:00:00        -0.067302        -1.705968              0.0   \n\n                     WSPD_42003_ERA5  \n2017-01-01 01:00:00         0.185620  \n2017-01-01 02:00:00         0.005106  \n2017-01-01 03:00:00        -0.082641  \n2017-01-01 04:00:00        -0.160752  \n2017-01-01 05:00:00        -0.302338  ",
      "text/html": "<div>\n<style scoped>\n    .dataframe tbody tr th:only-of-type {\n        vertical-align: middle;\n    }\n\n    .dataframe tbody tr th {\n        vertical-align: top;\n    }\n\n    .dataframe thead th {\n        text-align: right;\n    }\n</style>\n<table border=\"1\" class=\"dataframe\">\n  <thead>\n    <tr style=\"text-align: right;\">\n      <th></th>\n      <th>WDIR_42003</th>\n      <th>WSPD_42003</th>\n      <th>PRES_42003</th>\n      <th>ATMP_42003</th>\n      <th>WTMP_42003</th>\n      <th>DEWP_42003</th>\n      <th>PRES_42003_ERA5</th>\n      <th>DEWP_42003_ERA5</th>\n      <th>ATMP_42003_ERA5</th>\n      <th>WDIR_42003_ERA5</th>\n      <th>WTMP_42003_ERA5</th>\n      <th>WSPD_42003_ERA5</th>\n    </tr>\n  </thead>\n  <tbody>\n    <tr>\n      <th>2017-01-01 01:00:00</th>\n      <td>0.0</td>\n      <td>0.0</td>\n      <td>0.0</td>\n      <td>0.0</td>\n      <td>0.0</td>\n      <td>0.0</td>\n      <td>0.300430</td>\n      <td>-0.130838</td>\n      <td>0.064610</td>\n      <td>-0.701509</td>\n      <td>0.0</td>\n      <td>0.185620</td>\n    </tr>\n    <tr>\n      <th>2017-01-01 02:00:00</th>\n      <td>0.0</td>\n      <td>0.0</td>\n      <td>0.0</td>\n      <td>0.0</td>\n      <td>0.0</td>\n      <td>0.0</td>\n      <td>0.421923</td>\n      <td>-0.105904</td>\n      <td>0.151429</td>\n      <td>-1.999366</td>\n      <td>0.0</td>\n      <td>0.005106</td>\n    </tr>\n    <tr>\n      <th>2017-01-01 03:00:00</th>\n      <td>0.0</td>\n      <td>0.0</td>\n      <td>0.0</td>\n      <td>0.0</td>\n      <td>0.0</td>\n      <td>0.0</td>\n      <td>0.465132</td>\n      <td>-0.067564</td>\n      <td>0.135053</td>\n      <td>-0.942534</td>\n      <td>0.0</td>\n      <td>-0.082641</td>\n    </tr>\n    <tr>\n      <th>2017-01-01 04:00:00</th>\n      <td>0.0</td>\n      <td>0.0</td>\n      <td>0.0</td>\n      <td>0.0</td>\n      <td>0.0</td>\n      <td>0.0</td>\n      <td>0.044226</td>\n      <td>0.242104</td>\n      <td>-0.070218</td>\n      <td>-2.269726</td>\n      <td>0.0</td>\n      <td>-0.160752</td>\n    </tr>\n    <tr>\n      <th>2017-01-01 05:00:00</th>\n      <td>0.0</td>\n      <td>0.0</td>\n      <td>0.0</td>\n      <td>0.0</td>\n      <td>0.0</td>\n      <td>0.0</td>\n      <td>-0.210453</td>\n      <td>0.067028</td>\n      <td>-0.067302</td>\n      <td>-1.705968</td>\n      <td>0.0</td>\n      <td>-0.302338</td>\n    </tr>\n  </tbody>\n</table>\n</div>"
     },
     "execution_count": 100,
     "metadata": {},
     "output_type": "execute_result"
    }
   ],
   "source": [
    "STATIONARY = True #Set Flag for report\n",
    "data_stationary = DP.data_to_stationary(data, n = STATIONARY_SHIFT)\n",
    "data_stationary.head()"
   ]
  },
  {
   "cell_type": "markdown",
   "metadata": {
    "pycharm": {
     "name": "#%% md\n"
    }
   },
   "source": [
    "## 2. Transform to supervised problem"
   ]
  },
  {
   "cell_type": "code",
   "execution_count": 101,
   "metadata": {
    "pycharm": {
     "name": "#%%\n"
    }
   },
   "outputs": [
    {
     "data": {
      "text/plain": "                     WDIR_42003(t-3)  WSPD_42003(t-3)  PRES_42003(t-3)  \\\n2017-01-01 04:00:00              0.0              0.0              0.0   \n2017-01-01 05:00:00              0.0              0.0              0.0   \n2017-01-01 06:00:00              0.0              0.0              0.0   \n2017-01-01 07:00:00              0.0              0.0              0.0   \n2017-01-01 08:00:00              0.0              0.0              0.0   \n\n                     ATMP_42003(t-3)  WTMP_42003(t-3)  DEWP_42003(t-3)  \\\n2017-01-01 04:00:00              0.0              0.0              0.0   \n2017-01-01 05:00:00              0.0              0.0              0.0   \n2017-01-01 06:00:00              0.0              0.0              0.0   \n2017-01-01 07:00:00              0.0              0.0              0.0   \n2017-01-01 08:00:00              0.0              0.0              0.0   \n\n                     PRES_42003_ERA5(t-3)  DEWP_42003_ERA5(t-3)  \\\n2017-01-01 04:00:00              0.300430             -0.130838   \n2017-01-01 05:00:00              0.421923             -0.105904   \n2017-01-01 06:00:00              0.465132             -0.067564   \n2017-01-01 07:00:00              0.044226              0.242104   \n2017-01-01 08:00:00             -0.210453              0.067028   \n\n                     ATMP_42003_ERA5(t-3)  WDIR_42003_ERA5(t-3)  ...  \\\n2017-01-01 04:00:00              0.064610             -0.701509  ...   \n2017-01-01 05:00:00              0.151429             -1.999366  ...   \n2017-01-01 06:00:00              0.135053             -0.942534  ...   \n2017-01-01 07:00:00             -0.070218             -2.269726  ...   \n2017-01-01 08:00:00             -0.067302             -1.705968  ...   \n\n                     PRES_42003(t)  ATMP_42003(t)  WTMP_42003(t)  \\\n2017-01-01 04:00:00            0.0            0.0            0.0   \n2017-01-01 05:00:00            0.0            0.0            0.0   \n2017-01-01 06:00:00            0.0            0.0            0.0   \n2017-01-01 07:00:00            0.0            0.0            0.0   \n2017-01-01 08:00:00            0.0            0.0            0.0   \n\n                     DEWP_42003(t)  PRES_42003_ERA5(t)  DEWP_42003_ERA5(t)  \\\n2017-01-01 04:00:00            0.0            0.044226            0.242104   \n2017-01-01 05:00:00            0.0           -0.210453            0.067028   \n2017-01-01 06:00:00            0.0           -0.497666            0.426295   \n2017-01-01 07:00:00            0.0           -0.375664            0.118773   \n2017-01-01 08:00:00            0.0           -0.150469            0.194380   \n\n                     ATMP_42003_ERA5(t)  WDIR_42003_ERA5(t)  \\\n2017-01-01 04:00:00           -0.070218           -2.269726   \n2017-01-01 05:00:00           -0.067302           -1.705968   \n2017-01-01 06:00:00           -0.085473            0.483651   \n2017-01-01 07:00:00           -0.019518           -1.945436   \n2017-01-01 08:00:00           -0.021985            0.439287   \n\n                     WTMP_42003_ERA5(t)  WSPD_42003_ERA5(t)  \n2017-01-01 04:00:00                 0.0           -0.160752  \n2017-01-01 05:00:00                 0.0           -0.302338  \n2017-01-01 06:00:00                 0.0           -0.071808  \n2017-01-01 07:00:00                 0.0           -0.151994  \n2017-01-01 08:00:00                 0.0           -0.172049  \n\n[5 rows x 48 columns]",
      "text/html": "<div>\n<style scoped>\n    .dataframe tbody tr th:only-of-type {\n        vertical-align: middle;\n    }\n\n    .dataframe tbody tr th {\n        vertical-align: top;\n    }\n\n    .dataframe thead th {\n        text-align: right;\n    }\n</style>\n<table border=\"1\" class=\"dataframe\">\n  <thead>\n    <tr style=\"text-align: right;\">\n      <th></th>\n      <th>WDIR_42003(t-3)</th>\n      <th>WSPD_42003(t-3)</th>\n      <th>PRES_42003(t-3)</th>\n      <th>ATMP_42003(t-3)</th>\n      <th>WTMP_42003(t-3)</th>\n      <th>DEWP_42003(t-3)</th>\n      <th>PRES_42003_ERA5(t-3)</th>\n      <th>DEWP_42003_ERA5(t-3)</th>\n      <th>ATMP_42003_ERA5(t-3)</th>\n      <th>WDIR_42003_ERA5(t-3)</th>\n      <th>...</th>\n      <th>PRES_42003(t)</th>\n      <th>ATMP_42003(t)</th>\n      <th>WTMP_42003(t)</th>\n      <th>DEWP_42003(t)</th>\n      <th>PRES_42003_ERA5(t)</th>\n      <th>DEWP_42003_ERA5(t)</th>\n      <th>ATMP_42003_ERA5(t)</th>\n      <th>WDIR_42003_ERA5(t)</th>\n      <th>WTMP_42003_ERA5(t)</th>\n      <th>WSPD_42003_ERA5(t)</th>\n    </tr>\n  </thead>\n  <tbody>\n    <tr>\n      <th>2017-01-01 04:00:00</th>\n      <td>0.0</td>\n      <td>0.0</td>\n      <td>0.0</td>\n      <td>0.0</td>\n      <td>0.0</td>\n      <td>0.0</td>\n      <td>0.300430</td>\n      <td>-0.130838</td>\n      <td>0.064610</td>\n      <td>-0.701509</td>\n      <td>...</td>\n      <td>0.0</td>\n      <td>0.0</td>\n      <td>0.0</td>\n      <td>0.0</td>\n      <td>0.044226</td>\n      <td>0.242104</td>\n      <td>-0.070218</td>\n      <td>-2.269726</td>\n      <td>0.0</td>\n      <td>-0.160752</td>\n    </tr>\n    <tr>\n      <th>2017-01-01 05:00:00</th>\n      <td>0.0</td>\n      <td>0.0</td>\n      <td>0.0</td>\n      <td>0.0</td>\n      <td>0.0</td>\n      <td>0.0</td>\n      <td>0.421923</td>\n      <td>-0.105904</td>\n      <td>0.151429</td>\n      <td>-1.999366</td>\n      <td>...</td>\n      <td>0.0</td>\n      <td>0.0</td>\n      <td>0.0</td>\n      <td>0.0</td>\n      <td>-0.210453</td>\n      <td>0.067028</td>\n      <td>-0.067302</td>\n      <td>-1.705968</td>\n      <td>0.0</td>\n      <td>-0.302338</td>\n    </tr>\n    <tr>\n      <th>2017-01-01 06:00:00</th>\n      <td>0.0</td>\n      <td>0.0</td>\n      <td>0.0</td>\n      <td>0.0</td>\n      <td>0.0</td>\n      <td>0.0</td>\n      <td>0.465132</td>\n      <td>-0.067564</td>\n      <td>0.135053</td>\n      <td>-0.942534</td>\n      <td>...</td>\n      <td>0.0</td>\n      <td>0.0</td>\n      <td>0.0</td>\n      <td>0.0</td>\n      <td>-0.497666</td>\n      <td>0.426295</td>\n      <td>-0.085473</td>\n      <td>0.483651</td>\n      <td>0.0</td>\n      <td>-0.071808</td>\n    </tr>\n    <tr>\n      <th>2017-01-01 07:00:00</th>\n      <td>0.0</td>\n      <td>0.0</td>\n      <td>0.0</td>\n      <td>0.0</td>\n      <td>0.0</td>\n      <td>0.0</td>\n      <td>0.044226</td>\n      <td>0.242104</td>\n      <td>-0.070218</td>\n      <td>-2.269726</td>\n      <td>...</td>\n      <td>0.0</td>\n      <td>0.0</td>\n      <td>0.0</td>\n      <td>0.0</td>\n      <td>-0.375664</td>\n      <td>0.118773</td>\n      <td>-0.019518</td>\n      <td>-1.945436</td>\n      <td>0.0</td>\n      <td>-0.151994</td>\n    </tr>\n    <tr>\n      <th>2017-01-01 08:00:00</th>\n      <td>0.0</td>\n      <td>0.0</td>\n      <td>0.0</td>\n      <td>0.0</td>\n      <td>0.0</td>\n      <td>0.0</td>\n      <td>-0.210453</td>\n      <td>0.067028</td>\n      <td>-0.067302</td>\n      <td>-1.705968</td>\n      <td>...</td>\n      <td>0.0</td>\n      <td>0.0</td>\n      <td>0.0</td>\n      <td>0.0</td>\n      <td>-0.150469</td>\n      <td>0.194380</td>\n      <td>-0.021985</td>\n      <td>0.439287</td>\n      <td>0.0</td>\n      <td>-0.172049</td>\n    </tr>\n  </tbody>\n</table>\n<p>5 rows × 48 columns</p>\n</div>"
     },
     "execution_count": 101,
     "metadata": {},
     "output_type": "execute_result"
    }
   ],
   "source": [
    "data_supervised = DP.data_to_supervised(data_stationary, n_in=N_IN, n_out=N_OUT)\n",
    "data_supervised.head()"
   ]
  },
  {
   "cell_type": "markdown",
   "metadata": {
    "pycharm": {
     "name": "#%% md\n"
    }
   },
   "source": [
    "## train test split"
   ]
  },
  {
   "cell_type": "code",
   "execution_count": 101,
   "outputs": [],
   "source": [],
   "metadata": {
    "collapsed": false,
    "pycharm": {
     "name": "#%%\n"
    }
   }
  },
  {
   "cell_type": "code",
   "execution_count": 102,
   "metadata": {
    "pycharm": {
     "name": "#%%\n"
    }
   },
   "outputs": [
    {
     "name": "stdout",
     "output_type": "stream",
     "text": [
      "Shapes:  (51836, 3, 12) (51836, 12) (744, 3, 12) (744, 12)\n"
     ]
    }
   ],
   "source": [
    "train_X, train_y, test_X, test_y = DP.train_test_split(data_supervised, N_TEST_HOURS)\n",
    "print(\"Shapes: \", train_X.shape, train_y.shape, test_X.shape, test_y.shape)"
   ]
  },
  {
   "cell_type": "code",
   "execution_count": 96,
   "outputs": [
    {
     "data": {
      "text/plain": "numpy.ndarray"
     },
     "execution_count": 96,
     "metadata": {},
     "output_type": "execute_result"
    }
   ],
   "source": [
    "type(train_y)"
   ],
   "metadata": {
    "collapsed": false,
    "pycharm": {
     "name": "#%%\n"
    }
   }
  },
  {
   "cell_type": "code",
   "execution_count": 91,
   "outputs": [],
   "source": [
    "#Developement experiment:\n",
    "# Flatten X to fix issue with supervised problem when n_out > 1\n",
    "#train_X = train_X.reshape((train_X.shape[0], -1))\n",
    "#test_X = test_X.reshape((test_X.shape[0], -1))\n",
    "\n",
    "#print(\"Shapes: \", train_X.shape, train_y.shape, test_X.shape, test_y.shape)"
   ],
   "metadata": {
    "collapsed": false,
    "pycharm": {
     "name": "#%%\n"
    }
   }
  },
  {
   "cell_type": "code",
   "execution_count": 90,
   "outputs": [
    {
     "ename": "AttributeError",
     "evalue": "'numpy.ndarray' object has no attribute 'head'",
     "output_type": "error",
     "traceback": [
      "\u001B[0;31m---------------------------------------------------------------------------\u001B[0m",
      "\u001B[0;31mAttributeError\u001B[0m                            Traceback (most recent call last)",
      "Cell \u001B[0;32mIn[90], line 1\u001B[0m\n\u001B[0;32m----> 1\u001B[0m \u001B[43mtrain_X\u001B[49m\u001B[38;5;241;43m.\u001B[39;49m\u001B[43mhead\u001B[49m()\n",
      "\u001B[0;31mAttributeError\u001B[0m: 'numpy.ndarray' object has no attribute 'head'"
     ]
    }
   ],
   "source": [
    "train_X.head()"
   ],
   "metadata": {
    "collapsed": false,
    "pycharm": {
     "name": "#%%\n"
    }
   }
  },
  {
   "cell_type": "markdown",
   "metadata": {
    "pycharm": {
     "name": "#%% md\n"
    }
   },
   "source": [
    "## Normalize the data"
   ]
  },
  {
   "cell_type": "code",
   "execution_count": 87,
   "metadata": {
    "pycharm": {
     "name": "#%%\n"
    }
   },
   "outputs": [],
   "source": [
    "# Scale the data\n",
    "#NORMALIZED = True   #set flag for report\n",
    "\n",
    "#train_X_scaled, train_y_scaled, test_X_scaled, test_y_scaled, SCALER = DP.scale_data(train_X,\n",
    "#                                                                                     train_y,\n",
    "#                                                                                     test_X,\n",
    "#                                                                                     test_y)\n",
    "\n",
    "train_X_scaled, train_y_scaled, test_X_scaled, test_y_scaled = train_X, train_y, test_X, test_y #just to exclude scaling for now!\n",
    "\n",
    "\n"
   ]
  },
  {
   "cell_type": "markdown",
   "metadata": {
    "pycharm": {
     "name": "#%% md\n"
    }
   },
   "source": [
    "---\n",
    "# Select Model"
   ]
  },
  {
   "cell_type": "code",
   "execution_count": 88,
   "metadata": {
    "pycharm": {
     "name": "#%%\n"
    }
   },
   "outputs": [
    {
     "name": "stdout",
     "output_type": "stream",
     "text": [
      "(51792, 288)\n",
      "(51792, 288)\n"
     ]
    }
   ],
   "source": [
    "print(train_X_scaled.shape)\n",
    "print(train_y_scaled.shape)"
   ]
  },
  {
   "cell_type": "code",
   "execution_count": null,
   "outputs": [],
   "source": [],
   "metadata": {
    "collapsed": false,
    "pycharm": {
     "name": "#%%\n"
    }
   }
  },
  {
   "cell_type": "code",
   "execution_count": 89,
   "metadata": {
    "pycharm": {
     "name": "#%%\n"
    }
   },
   "outputs": [
    {
     "ename": "IndexError",
     "evalue": "tuple index out of range",
     "output_type": "error",
     "traceback": [
      "\u001B[0;31m---------------------------------------------------------------------------\u001B[0m",
      "\u001B[0;31mIndexError\u001B[0m                                Traceback (most recent call last)",
      "Cell \u001B[0;32mIn[89], line 1\u001B[0m\n\u001B[0;32m----> 1\u001B[0m model \u001B[38;5;241m=\u001B[39m \u001B[43mModels\u001B[49m\u001B[38;5;241;43m.\u001B[39;49m\u001B[43mget_model\u001B[49m\u001B[43m(\u001B[49m\u001B[43mMODEL_NAME\u001B[49m\u001B[43m,\u001B[49m\u001B[43m \u001B[49m\u001B[43mtrain_X_scaled\u001B[49m\u001B[43m,\u001B[49m\u001B[43m \u001B[49m\u001B[43mtrain_y_scaled\u001B[49m\u001B[43m,\u001B[49m\u001B[43m \u001B[49m\u001B[43mALPHA\u001B[49m\u001B[43m)\u001B[49m\n",
      "File \u001B[0;32m~/Library/Mobile Documents/com~apple~CloudDocs/Uni/WS22/Master Thesis/Master_Project/script_utils.py:1784\u001B[0m, in \u001B[0;36mModels.get_model\u001B[0;34m(model_name, train_X, train_y, alpha)\u001B[0m\n\u001B[1;32m   1781\u001B[0m \u001B[38;5;129m@staticmethod\u001B[39m\n\u001B[1;32m   1782\u001B[0m \u001B[38;5;28;01mdef\u001B[39;00m \u001B[38;5;21mget_model\u001B[39m(model_name, train_X, train_y, alpha):\n\u001B[1;32m   1783\u001B[0m     model_function \u001B[38;5;241m=\u001B[39m Models\u001B[38;5;241m.\u001B[39mmodel_dictionary[model_name]\n\u001B[0;32m-> 1784\u001B[0m     \u001B[38;5;28;01mreturn\u001B[39;00m \u001B[43mmodel_function\u001B[49m\u001B[43m(\u001B[49m\u001B[43mtrain_X\u001B[49m\u001B[43m,\u001B[49m\u001B[43m \u001B[49m\u001B[43mtrain_y\u001B[49m\u001B[43m,\u001B[49m\u001B[43m \u001B[49m\u001B[43malpha\u001B[49m\u001B[43m)\u001B[49m\n",
      "File \u001B[0;32m~/Library/Mobile Documents/com~apple~CloudDocs/Uni/WS22/Master Thesis/Master_Project/script_utils.py:1551\u001B[0m, in \u001B[0;36mModels.LSTM_2\u001B[0;34m(train_X, train_y, alpha)\u001B[0m\n\u001B[1;32m   1549\u001B[0m \u001B[38;5;66;03m# design network\u001B[39;00m\n\u001B[1;32m   1550\u001B[0m model \u001B[38;5;241m=\u001B[39m Sequential()\n\u001B[0;32m-> 1551\u001B[0m model\u001B[38;5;241m.\u001B[39madd(LSTM(\u001B[38;5;241m128\u001B[39m, input_shape\u001B[38;5;241m=\u001B[39m(train_X\u001B[38;5;241m.\u001B[39mshape[\u001B[38;5;241m1\u001B[39m], \u001B[43mtrain_X\u001B[49m\u001B[38;5;241;43m.\u001B[39;49m\u001B[43mshape\u001B[49m\u001B[43m[\u001B[49m\u001B[38;5;241;43m2\u001B[39;49m\u001B[43m]\u001B[49m), return_sequences\u001B[38;5;241m=\u001B[39m\u001B[38;5;28;01mTrue\u001B[39;00m))\n\u001B[1;32m   1552\u001B[0m model\u001B[38;5;241m.\u001B[39madd(Dropout(\u001B[38;5;241m0.2\u001B[39m))\n\u001B[1;32m   1553\u001B[0m model\u001B[38;5;241m.\u001B[39madd(LSTM(\u001B[38;5;241m64\u001B[39m, return_sequences\u001B[38;5;241m=\u001B[39m\u001B[38;5;28;01mTrue\u001B[39;00m))\n",
      "\u001B[0;31mIndexError\u001B[0m: tuple index out of range"
     ]
    }
   ],
   "source": [
    "model = Models.get_model(MODEL_NAME, train_X_scaled, train_y_scaled, ALPHA)"
   ]
  },
  {
   "cell_type": "markdown",
   "metadata": {
    "pycharm": {
     "name": "#%% md\n"
    }
   },
   "source": [
    "----\n",
    "# One-Shot Forecasting"
   ]
  },
  {
   "cell_type": "code",
   "execution_count": 35,
   "metadata": {
    "pycharm": {
     "name": "#%%\n"
    }
   },
   "outputs": [
    {
     "ename": "NameError",
     "evalue": "name 'model' is not defined",
     "output_type": "error",
     "traceback": [
      "\u001B[0;31m---------------------------------------------------------------------------\u001B[0m",
      "\u001B[0;31mNameError\u001B[0m                                 Traceback (most recent call last)",
      "Cell \u001B[0;32mIn[35], line 1\u001B[0m\n\u001B[0;32m----> 1\u001B[0m _ \u001B[38;5;241m=\u001B[39m \u001B[43mmodel\u001B[49m\u001B[38;5;241m.\u001B[39mpredict(train_X_scaled, batch_size\u001B[38;5;241m=\u001B[39m\u001B[38;5;241m1\u001B[39m)\n",
      "\u001B[0;31mNameError\u001B[0m: name 'model' is not defined"
     ]
    }
   ],
   "source": [
    "_ = model.predict(train_X_scaled, batch_size=1)"
   ]
  },
  {
   "cell_type": "code",
   "execution_count": 16,
   "metadata": {
    "pycharm": {
     "name": "#%%\n"
    }
   },
   "outputs": [
    {
     "data": {
      "text/plain": "['WDIR_42001',\n 'WSPD_42001',\n 'PRES_42001',\n 'ATMP_42001',\n 'WTMP_42001',\n 'DEWP_42001',\n 'WDIR_42002',\n 'WSPD_42002',\n 'PRES_42002',\n 'ATMP_42002',\n 'WTMP_42002',\n 'DEWP_42002',\n 'WDIR_42003',\n 'WSPD_42003',\n 'PRES_42003',\n 'ATMP_42003',\n 'WTMP_42003',\n 'DEWP_42003',\n 'WDIR_42019',\n 'WSPD_42019',\n 'PRES_42019',\n 'ATMP_42019',\n 'WTMP_42019',\n 'DEWP_42019',\n 'WDIR_42020',\n 'WSPD_42020',\n 'PRES_42020',\n 'ATMP_42020',\n 'WTMP_42020',\n 'DEWP_42020',\n 'WDIR_42035',\n 'WSPD_42035',\n 'PRES_42035',\n 'ATMP_42035',\n 'WTMP_42035',\n 'DEWP_42035',\n 'WDIR_42036',\n 'WSPD_42036',\n 'PRES_42036',\n 'ATMP_42036',\n 'DEWP_42036',\n 'WDIR_42039',\n 'WSPD_42039',\n 'PRES_42039',\n 'ATMP_42039',\n 'WTMP_42039',\n 'WDIR_42040',\n 'WSPD_42040',\n 'PRES_42040',\n 'ATMP_42040',\n 'WTMP_42040',\n 'DEWP_42040',\n 'WTMP_42001_ERA5',\n 'ATMP_42020_ERA5',\n 'ATMP_42001_ERA5',\n 'DEWP_42001_ERA5',\n 'PRES_42019_ERA5',\n 'ATMP_42040_ERA5',\n 'PRES_42001_ERA5',\n 'WDIR_42035_ERA5',\n 'PRES_42003_ERA5',\n 'DEWP_42003_ERA5',\n 'WTMP_42035_ERA5',\n 'PRES_42040_ERA5',\n 'DEWP_42040_ERA5',\n 'ATMP_42035_ERA5',\n 'PRES_42002_ERA5',\n 'WDIR_42001_ERA5',\n 'DEWP_42019_ERA5',\n 'WDIR_42020_ERA5',\n 'WSPD_42019_ERA5',\n 'PRES_42020_ERA5',\n 'DEWP_42036_ERA5',\n 'WTMP_42002_ERA5',\n 'WTMP_42019_ERA5',\n 'WSPD_42036_ERA5',\n 'ATMP_42003_ERA5',\n 'WDIR_42003_ERA5',\n 'WTMP_42003_ERA5',\n 'WTMP_42020_ERA5',\n 'PRES_42036_ERA5',\n 'WDIR_42040_ERA5',\n 'WSPD_42040_ERA5',\n 'WSPD_42003_ERA5',\n 'WSPD_42020_ERA5',\n 'WDIR_42036_ERA5',\n 'WDIR_42019_ERA5',\n 'WTMP_42040_ERA5',\n 'DEWP_42035_ERA5',\n 'ATMP_42002_ERA5',\n 'PRES_42035_ERA5',\n 'WDIR_42002_ERA5',\n 'ATMP_42036_ERA5',\n 'DEWP_42002_ERA5',\n 'WDIR_42039_ERA5',\n 'WSPD_42039_ERA5',\n 'ATMP_42039_ERA5',\n 'WSPD_42035_ERA5',\n 'WSPD_42001_ERA5',\n 'DEWP_42020_ERA5',\n 'ATMP_42019_ERA5',\n 'WTMP_42039_ERA5',\n 'WSPD_42002_ERA5',\n 'PRES_42039_ERA5']"
     },
     "execution_count": 16,
     "metadata": {},
     "output_type": "execute_result"
    }
   ],
   "source": [
    "output_cols = data.columns.tolist()\n",
    "output_cols"
   ]
  },
  {
   "cell_type": "code",
   "execution_count": 17,
   "metadata": {
    "pycharm": {
     "name": "#%%\n"
    }
   },
   "outputs": [
    {
     "name": "stdout",
     "output_type": "stream",
     "text": [
      "1/1 [==============================] - 0s 200ms/step\n"
     ]
    },
    {
     "data": {
      "text/plain": "                     WDIR_42001_pred  WSPD_42001_pred  PRES_42001_pred  \\\n2022-12-31 00:00:00         0.083912        -0.048608         0.017255   \n2022-12-31 01:00:00         0.045644        -0.040685         0.014082   \n2022-12-31 02:00:00         0.003008        -0.030363         0.014721   \n2022-12-31 03:00:00        -0.049466        -0.020243         0.007982   \n2022-12-31 04:00:00        -0.049283        -0.020291         0.007996   \n2022-12-31 05:00:00        -0.043748        -0.021754         0.008409   \n2022-12-31 06:00:00        -0.010879        -0.029063         0.010343   \n2022-12-31 07:00:00        -0.005338        -0.028895         0.013744   \n2022-12-31 08:00:00         0.016172        -0.035140         0.012925   \n2022-12-31 09:00:00         0.043070        -0.040825         0.014812   \n2022-12-31 10:00:00        -0.033516        -0.024162         0.009268   \n2022-12-31 11:00:00         0.071961        -0.045778         0.015746   \n2022-12-31 12:00:00         0.077137        -0.045335         0.002531   \n2022-12-31 13:00:00         0.051352        -0.057166         0.006695   \n2022-12-31 14:00:00         0.026988        -0.035383         0.014199   \n2022-12-31 15:00:00         0.025327        -0.044539         0.008691   \n2022-12-31 16:00:00        -0.011528        -0.027908         0.012566   \n2022-12-31 17:00:00        -0.022429        -0.026456         0.009189   \n2022-12-31 18:00:00        -0.034941        -0.024320         0.006430   \n2022-12-31 19:00:00        -0.084947        -0.011327         0.004024   \n2022-12-31 20:00:00         0.023577        -0.039008         0.014206   \n2022-12-31 21:00:00         0.075083        -0.045714         0.016980   \n2022-12-31 22:00:00         0.095794        -0.051155         0.017877   \n2022-12-31 23:00:00         0.089904        -0.050061         0.018264   \n\n                     ATMP_42001_pred  WTMP_42001_pred  DEWP_42001_pred  \\\n2022-12-31 00:00:00        -0.020981        -0.029096         0.074749   \n2022-12-31 01:00:00        -0.030722        -0.027556         0.066822   \n2022-12-31 02:00:00        -0.048893        -0.024733         0.057439   \n2022-12-31 03:00:00        -0.063162        -0.018153         0.045537   \n2022-12-31 04:00:00        -0.063090        -0.018179         0.045587   \n2022-12-31 05:00:00        -0.060918        -0.018993         0.047126   \n2022-12-31 06:00:00        -0.049201        -0.021766         0.053588   \n2022-12-31 07:00:00        -0.051033        -0.023621         0.055427   \n2022-12-31 08:00:00        -0.040408        -0.024201         0.060338   \n2022-12-31 09:00:00        -0.031543        -0.026777         0.066374   \n2022-12-31 10:00:00        -0.057337        -0.019753         0.049189   \n2022-12-31 11:00:00        -0.023895        -0.029461         0.074107   \n2022-12-31 12:00:00        -0.013553        -0.026531         0.054919   \n2022-12-31 13:00:00        -0.013318        -0.018450         0.087080   \n2022-12-31 14:00:00        -0.039873        -0.026892         0.060105   \n2022-12-31 15:00:00        -0.027350        -0.020602         0.073374   \n2022-12-31 16:00:00        -0.052127        -0.023063         0.054308   \n2022-12-31 17:00:00        -0.053304        -0.020712         0.051105   \n2022-12-31 18:00:00        -0.055119        -0.017361         0.047081   \n2022-12-31 19:00:00        -0.075534        -0.012426         0.036052   \n2022-12-31 20:00:00        -0.036464        -0.024996         0.068508   \n2022-12-31 21:00:00        -0.024226        -0.029921         0.073755   \n2022-12-31 22:00:00        -0.018140        -0.029251         0.076805   \n2022-12-31 23:00:00        -0.019955        -0.029242         0.076639   \n\n                     WDIR_42002_pred  WSPD_42002_pred  PRES_42002_pred  \\\n2022-12-31 00:00:00         0.016794         0.120610        -0.054225   \n2022-12-31 01:00:00        -0.006201         0.138422        -0.053979   \n2022-12-31 02:00:00        -0.034303         0.155170        -0.057559   \n2022-12-31 03:00:00        -0.059552         0.176598        -0.053096   \n2022-12-31 04:00:00        -0.059456         0.176524        -0.053113   \n2022-12-31 05:00:00        -0.056524         0.174228        -0.053601   \n2022-12-31 06:00:00        -0.037850         0.162315        -0.053867   \n2022-12-31 07:00:00        -0.038318         0.158678        -0.057040   \n2022-12-31 08:00:00        -0.022776         0.149657        -0.054874   \n2022-12-31 09:00:00        -0.007714         0.138335        -0.055047   \n2022-12-31 10:00:00        -0.050675         0.170161        -0.053944   \n2022-12-31 11:00:00         0.009741         0.124504        -0.053465   \n2022-12-31 12:00:00         0.018256         0.163944        -0.039681   \n2022-12-31 13:00:00         0.022691         0.098373        -0.042297   \n2022-12-31 14:00:00        -0.020327         0.150709        -0.056519   \n2022-12-31 15:00:00        -0.004714         0.128354        -0.049612   \n2022-12-31 16:00:00        -0.040834         0.161020        -0.056334   \n2022-12-31 17:00:00        -0.044636         0.167638        -0.053550   \n2022-12-31 18:00:00        -0.048785         0.173535        -0.050457   \n2022-12-31 19:00:00        -0.077075         0.190710        -0.048775   \n2022-12-31 20:00:00        -0.015811         0.135889        -0.055951   \n2022-12-31 21:00:00         0.010049         0.124403        -0.054697   \n2022-12-31 22:00:00         0.024677         0.115154        -0.053435   \n2022-12-31 23:00:00         0.020488         0.115954        -0.054614   \n\n                     ATMP_42002_pred  ...  WDIR_42039_ERA5_pred  \\\n2022-12-31 00:00:00        -0.013221  ...             -0.032019   \n2022-12-31 01:00:00        -0.017088  ...             -0.015483   \n2022-12-31 02:00:00        -0.018567  ...              0.005179   \n2022-12-31 03:00:00        -0.025460  ...              0.026563   \n2022-12-31 04:00:00        -0.025450  ...              0.026479   \n2022-12-31 05:00:00        -0.025140  ...              0.023929   \n2022-12-31 06:00:00        -0.022757  ...              0.009470   \n2022-12-31 07:00:00        -0.019752  ...              0.008588   \n2022-12-31 08:00:00        -0.019494  ...             -0.002391   \n2022-12-31 09:00:00        -0.016859  ...             -0.014261   \n2022-12-31 10:00:00        -0.024257  ...              0.019434   \n2022-12-31 11:00:00        -0.014053  ...             -0.027214   \n2022-12-31 12:00:00        -0.029873  ...             -0.030479   \n2022-12-31 13:00:00        -0.017458  ...             -0.029141   \n2022-12-31 14:00:00        -0.019037  ...             -0.005621   \n2022-12-31 15:00:00        -0.019072  ...             -0.012639   \n2022-12-31 16:00:00        -0.020973  ...              0.010821   \n2022-12-31 17:00:00        -0.023873  ...              0.014601   \n2022-12-31 18:00:00        -0.026435  ...              0.019069   \n2022-12-31 19:00:00        -0.027963  ...              0.042365   \n2022-12-31 20:00:00        -0.016538  ...             -0.007322   \n2022-12-31 21:00:00        -0.013303  ...             -0.027828   \n2022-12-31 22:00:00        -0.011806  ...             -0.037271   \n2022-12-31 23:00:00        -0.011781  ...             -0.034593   \n\n                     WSPD_42039_ERA5_pred  ATMP_42039_ERA5_pred  \\\n2022-12-31 00:00:00              0.000623             -0.009460   \n2022-12-31 01:00:00             -0.001127             -0.013398   \n2022-12-31 02:00:00             -0.003076             -0.018241   \n2022-12-31 03:00:00             -0.005395             -0.023194   \n2022-12-31 04:00:00             -0.005386             -0.023175   \n2022-12-31 05:00:00             -0.005128             -0.022595   \n2022-12-31 06:00:00             -0.003690             -0.019228   \n2022-12-31 07:00:00             -0.003446             -0.019032   \n2022-12-31 08:00:00             -0.002434             -0.016451   \n2022-12-31 09:00:00             -0.001222             -0.013670   \n2022-12-31 10:00:00             -0.004670             -0.021545   \n2022-12-31 11:00:00              0.000145             -0.010628   \n2022-12-31 12:00:00             -0.000759             -0.009864   \n2022-12-31 13:00:00              0.000384             -0.009943   \n2022-12-31 14:00:00             -0.002114             -0.015696   \n2022-12-31 15:00:00             -0.001344             -0.013985   \n2022-12-31 16:00:00             -0.003696             -0.019553   \n2022-12-31 17:00:00             -0.004226             -0.020423   \n2022-12-31 18:00:00             -0.004814             -0.021448   \n2022-12-31 19:00:00             -0.007040             -0.026779   \n2022-12-31 20:00:00             -0.001721             -0.015280   \n2022-12-31 21:00:00              0.000232             -0.010486   \n2022-12-31 22:00:00              0.001160             -0.008175   \n2022-12-31 23:00:00              0.000944             -0.008828   \n\n                     WSPD_42035_ERA5_pred  WSPD_42001_ERA5_pred  \\\n2022-12-31 00:00:00              0.005582              0.394607   \n2022-12-31 01:00:00              0.001753              0.632048   \n2022-12-31 02:00:00             -0.002980              0.929440   \n2022-12-31 03:00:00             -0.007914              1.235240   \n2022-12-31 04:00:00             -0.007895              1.234046   \n2022-12-31 05:00:00             -0.007318              1.197709   \n2022-12-31 06:00:00             -0.003998              0.990672   \n2022-12-31 07:00:00             -0.003769              0.978391   \n2022-12-31 08:00:00             -0.001262              0.821256   \n2022-12-31 09:00:00              0.001470              0.650719   \n2022-12-31 10:00:00             -0.006285              1.133692   \n2022-12-31 11:00:00              0.004475              0.463266   \n2022-12-31 12:00:00              0.005033              0.404603   \n2022-12-31 13:00:00              0.004912              0.446996   \n2022-12-31 14:00:00             -0.000534              0.773816   \n2022-12-31 15:00:00              0.001099              0.679113   \n2022-12-31 16:00:00             -0.004289              1.010354   \n2022-12-31 17:00:00             -0.005182              1.063987   \n2022-12-31 18:00:00             -0.006224              1.127469   \n2022-12-31 19:00:00             -0.011503              1.460414   \n2022-12-31 20:00:00             -0.000101              0.753420   \n2022-12-31 21:00:00              0.004622              0.454258   \n2022-12-31 22:00:00              0.006803              0.318994   \n2022-12-31 23:00:00              0.006188              0.358209   \n\n                     DEWP_42020_ERA5_pred  ATMP_42019_ERA5_pred  \\\n2022-12-31 00:00:00             -0.002391             -0.000916   \n2022-12-31 01:00:00             -0.001010             -0.001129   \n2022-12-31 02:00:00              0.000662             -0.001427   \n2022-12-31 03:00:00              0.002744             -0.001897   \n2022-12-31 04:00:00              0.002736             -0.001894   \n2022-12-31 05:00:00              0.002480             -0.001824   \n2022-12-31 06:00:00              0.001252             -0.001590   \n2022-12-31 07:00:00              0.000998             -0.001499   \n2022-12-31 08:00:00              0.000186             -0.001320   \n2022-12-31 09:00:00             -0.000867             -0.001107   \n2022-12-31 10:00:00              0.002097             -0.001737   \n2022-12-31 11:00:00             -0.002120             -0.000911   \n2022-12-31 12:00:00             -0.001239             -0.002252   \n2022-12-31 13:00:00             -0.001668             -0.000051   \n2022-12-31 14:00:00             -0.000129             -0.001393   \n2022-12-31 15:00:00             -0.000516             -0.000688   \n2022-12-31 16:00:00              0.001220             -0.001544   \n2022-12-31 17:00:00              0.001712             -0.001694   \n2022-12-31 18:00:00              0.002253             -0.001845   \n2022-12-31 19:00:00              0.004413             -0.002374   \n2022-12-31 20:00:00             -0.000366             -0.000912   \n2022-12-31 21:00:00             -0.002196             -0.000932   \n2022-12-31 22:00:00             -0.002707             -0.000875   \n2022-12-31 23:00:00             -0.002589             -0.000833   \n\n                     WTMP_42039_ERA5_pred  WSPD_42002_ERA5_pred  \\\n2022-12-31 00:00:00              0.005079              0.003192   \n2022-12-31 01:00:00              0.001962              0.000533   \n2022-12-31 02:00:00             -0.002222             -0.002966   \n2022-12-31 03:00:00             -0.006352             -0.006578   \n2022-12-31 04:00:00             -0.006335             -0.006563   \n2022-12-31 05:00:00             -0.005831             -0.006111   \n2022-12-31 06:00:00             -0.002968             -0.003689   \n2022-12-31 07:00:00             -0.002887             -0.003544   \n2022-12-31 08:00:00             -0.000718             -0.001700   \n2022-12-31 09:00:00              0.001617              0.000305   \n2022-12-31 10:00:00             -0.004966             -0.005364   \n2022-12-31 11:00:00              0.004223              0.002481   \n2022-12-31 12:00:00              0.006216              0.002868   \n2022-12-31 13:00:00              0.003413              0.002725   \n2022-12-31 14:00:00              0.000055             -0.001178   \n2022-12-31 15:00:00              0.000783              0.000033   \n2022-12-31 16:00:00             -0.003311             -0.003914   \n2022-12-31 17:00:00             -0.003958             -0.004554   \n2022-12-31 18:00:00             -0.004751             -0.005308   \n2022-12-31 19:00:00             -0.009461             -0.009380   \n2022-12-31 20:00:00             -0.000112             -0.000862   \n2022-12-31 21:00:00              0.004352              0.002569   \n2022-12-31 22:00:00              0.005992              0.003971   \n2022-12-31 23:00:00              0.005454              0.003575   \n\n                     PRES_42039_ERA5_pred  \n2022-12-31 00:00:00              0.002654  \n2022-12-31 01:00:00              0.000526  \n2022-12-31 02:00:00             -0.002195  \n2022-12-31 03:00:00             -0.004993  \n2022-12-31 04:00:00             -0.004982  \n2022-12-31 05:00:00             -0.004639  \n2022-12-31 06:00:00             -0.002771  \n2022-12-31 07:00:00             -0.002649  \n2022-12-31 08:00:00             -0.001274  \n2022-12-31 09:00:00              0.000275  \n2022-12-31 10:00:00             -0.004077  \n2022-12-31 11:00:00              0.002126  \n2022-12-31 12:00:00              0.002987  \n2022-12-31 13:00:00              0.001311  \n2022-12-31 14:00:00             -0.000743  \n2022-12-31 15:00:00             -0.000303  \n2022-12-31 16:00:00             -0.002932  \n2022-12-31 17:00:00             -0.003429  \n2022-12-31 18:00:00             -0.004029  \n2022-12-31 19:00:00             -0.007121  \n2022-12-31 20:00:00             -0.000787  \n2022-12-31 21:00:00              0.002223  \n2022-12-31 22:00:00              0.003214  \n2022-12-31 23:00:00              0.002897  \n\n[24 rows x 104 columns]",
      "text/html": "<div>\n<style scoped>\n    .dataframe tbody tr th:only-of-type {\n        vertical-align: middle;\n    }\n\n    .dataframe tbody tr th {\n        vertical-align: top;\n    }\n\n    .dataframe thead th {\n        text-align: right;\n    }\n</style>\n<table border=\"1\" class=\"dataframe\">\n  <thead>\n    <tr style=\"text-align: right;\">\n      <th></th>\n      <th>WDIR_42001_pred</th>\n      <th>WSPD_42001_pred</th>\n      <th>PRES_42001_pred</th>\n      <th>ATMP_42001_pred</th>\n      <th>WTMP_42001_pred</th>\n      <th>DEWP_42001_pred</th>\n      <th>WDIR_42002_pred</th>\n      <th>WSPD_42002_pred</th>\n      <th>PRES_42002_pred</th>\n      <th>ATMP_42002_pred</th>\n      <th>...</th>\n      <th>WDIR_42039_ERA5_pred</th>\n      <th>WSPD_42039_ERA5_pred</th>\n      <th>ATMP_42039_ERA5_pred</th>\n      <th>WSPD_42035_ERA5_pred</th>\n      <th>WSPD_42001_ERA5_pred</th>\n      <th>DEWP_42020_ERA5_pred</th>\n      <th>ATMP_42019_ERA5_pred</th>\n      <th>WTMP_42039_ERA5_pred</th>\n      <th>WSPD_42002_ERA5_pred</th>\n      <th>PRES_42039_ERA5_pred</th>\n    </tr>\n  </thead>\n  <tbody>\n    <tr>\n      <th>2022-12-31 00:00:00</th>\n      <td>0.083912</td>\n      <td>-0.048608</td>\n      <td>0.017255</td>\n      <td>-0.020981</td>\n      <td>-0.029096</td>\n      <td>0.074749</td>\n      <td>0.016794</td>\n      <td>0.120610</td>\n      <td>-0.054225</td>\n      <td>-0.013221</td>\n      <td>...</td>\n      <td>-0.032019</td>\n      <td>0.000623</td>\n      <td>-0.009460</td>\n      <td>0.005582</td>\n      <td>0.394607</td>\n      <td>-0.002391</td>\n      <td>-0.000916</td>\n      <td>0.005079</td>\n      <td>0.003192</td>\n      <td>0.002654</td>\n    </tr>\n    <tr>\n      <th>2022-12-31 01:00:00</th>\n      <td>0.045644</td>\n      <td>-0.040685</td>\n      <td>0.014082</td>\n      <td>-0.030722</td>\n      <td>-0.027556</td>\n      <td>0.066822</td>\n      <td>-0.006201</td>\n      <td>0.138422</td>\n      <td>-0.053979</td>\n      <td>-0.017088</td>\n      <td>...</td>\n      <td>-0.015483</td>\n      <td>-0.001127</td>\n      <td>-0.013398</td>\n      <td>0.001753</td>\n      <td>0.632048</td>\n      <td>-0.001010</td>\n      <td>-0.001129</td>\n      <td>0.001962</td>\n      <td>0.000533</td>\n      <td>0.000526</td>\n    </tr>\n    <tr>\n      <th>2022-12-31 02:00:00</th>\n      <td>0.003008</td>\n      <td>-0.030363</td>\n      <td>0.014721</td>\n      <td>-0.048893</td>\n      <td>-0.024733</td>\n      <td>0.057439</td>\n      <td>-0.034303</td>\n      <td>0.155170</td>\n      <td>-0.057559</td>\n      <td>-0.018567</td>\n      <td>...</td>\n      <td>0.005179</td>\n      <td>-0.003076</td>\n      <td>-0.018241</td>\n      <td>-0.002980</td>\n      <td>0.929440</td>\n      <td>0.000662</td>\n      <td>-0.001427</td>\n      <td>-0.002222</td>\n      <td>-0.002966</td>\n      <td>-0.002195</td>\n    </tr>\n    <tr>\n      <th>2022-12-31 03:00:00</th>\n      <td>-0.049466</td>\n      <td>-0.020243</td>\n      <td>0.007982</td>\n      <td>-0.063162</td>\n      <td>-0.018153</td>\n      <td>0.045537</td>\n      <td>-0.059552</td>\n      <td>0.176598</td>\n      <td>-0.053096</td>\n      <td>-0.025460</td>\n      <td>...</td>\n      <td>0.026563</td>\n      <td>-0.005395</td>\n      <td>-0.023194</td>\n      <td>-0.007914</td>\n      <td>1.235240</td>\n      <td>0.002744</td>\n      <td>-0.001897</td>\n      <td>-0.006352</td>\n      <td>-0.006578</td>\n      <td>-0.004993</td>\n    </tr>\n    <tr>\n      <th>2022-12-31 04:00:00</th>\n      <td>-0.049283</td>\n      <td>-0.020291</td>\n      <td>0.007996</td>\n      <td>-0.063090</td>\n      <td>-0.018179</td>\n      <td>0.045587</td>\n      <td>-0.059456</td>\n      <td>0.176524</td>\n      <td>-0.053113</td>\n      <td>-0.025450</td>\n      <td>...</td>\n      <td>0.026479</td>\n      <td>-0.005386</td>\n      <td>-0.023175</td>\n      <td>-0.007895</td>\n      <td>1.234046</td>\n      <td>0.002736</td>\n      <td>-0.001894</td>\n      <td>-0.006335</td>\n      <td>-0.006563</td>\n      <td>-0.004982</td>\n    </tr>\n    <tr>\n      <th>2022-12-31 05:00:00</th>\n      <td>-0.043748</td>\n      <td>-0.021754</td>\n      <td>0.008409</td>\n      <td>-0.060918</td>\n      <td>-0.018993</td>\n      <td>0.047126</td>\n      <td>-0.056524</td>\n      <td>0.174228</td>\n      <td>-0.053601</td>\n      <td>-0.025140</td>\n      <td>...</td>\n      <td>0.023929</td>\n      <td>-0.005128</td>\n      <td>-0.022595</td>\n      <td>-0.007318</td>\n      <td>1.197709</td>\n      <td>0.002480</td>\n      <td>-0.001824</td>\n      <td>-0.005831</td>\n      <td>-0.006111</td>\n      <td>-0.004639</td>\n    </tr>\n    <tr>\n      <th>2022-12-31 06:00:00</th>\n      <td>-0.010879</td>\n      <td>-0.029063</td>\n      <td>0.010343</td>\n      <td>-0.049201</td>\n      <td>-0.021766</td>\n      <td>0.053588</td>\n      <td>-0.037850</td>\n      <td>0.162315</td>\n      <td>-0.053867</td>\n      <td>-0.022757</td>\n      <td>...</td>\n      <td>0.009470</td>\n      <td>-0.003690</td>\n      <td>-0.019228</td>\n      <td>-0.003998</td>\n      <td>0.990672</td>\n      <td>0.001252</td>\n      <td>-0.001590</td>\n      <td>-0.002968</td>\n      <td>-0.003689</td>\n      <td>-0.002771</td>\n    </tr>\n    <tr>\n      <th>2022-12-31 07:00:00</th>\n      <td>-0.005338</td>\n      <td>-0.028895</td>\n      <td>0.013744</td>\n      <td>-0.051033</td>\n      <td>-0.023621</td>\n      <td>0.055427</td>\n      <td>-0.038318</td>\n      <td>0.158678</td>\n      <td>-0.057040</td>\n      <td>-0.019752</td>\n      <td>...</td>\n      <td>0.008588</td>\n      <td>-0.003446</td>\n      <td>-0.019032</td>\n      <td>-0.003769</td>\n      <td>0.978391</td>\n      <td>0.000998</td>\n      <td>-0.001499</td>\n      <td>-0.002887</td>\n      <td>-0.003544</td>\n      <td>-0.002649</td>\n    </tr>\n    <tr>\n      <th>2022-12-31 08:00:00</th>\n      <td>0.016172</td>\n      <td>-0.035140</td>\n      <td>0.012925</td>\n      <td>-0.040408</td>\n      <td>-0.024201</td>\n      <td>0.060338</td>\n      <td>-0.022776</td>\n      <td>0.149657</td>\n      <td>-0.054874</td>\n      <td>-0.019494</td>\n      <td>...</td>\n      <td>-0.002391</td>\n      <td>-0.002434</td>\n      <td>-0.016451</td>\n      <td>-0.001262</td>\n      <td>0.821256</td>\n      <td>0.000186</td>\n      <td>-0.001320</td>\n      <td>-0.000718</td>\n      <td>-0.001700</td>\n      <td>-0.001274</td>\n    </tr>\n    <tr>\n      <th>2022-12-31 09:00:00</th>\n      <td>0.043070</td>\n      <td>-0.040825</td>\n      <td>0.014812</td>\n      <td>-0.031543</td>\n      <td>-0.026777</td>\n      <td>0.066374</td>\n      <td>-0.007714</td>\n      <td>0.138335</td>\n      <td>-0.055047</td>\n      <td>-0.016859</td>\n      <td>...</td>\n      <td>-0.014261</td>\n      <td>-0.001222</td>\n      <td>-0.013670</td>\n      <td>0.001470</td>\n      <td>0.650719</td>\n      <td>-0.000867</td>\n      <td>-0.001107</td>\n      <td>0.001617</td>\n      <td>0.000305</td>\n      <td>0.000275</td>\n    </tr>\n    <tr>\n      <th>2022-12-31 10:00:00</th>\n      <td>-0.033516</td>\n      <td>-0.024162</td>\n      <td>0.009268</td>\n      <td>-0.057337</td>\n      <td>-0.019753</td>\n      <td>0.049189</td>\n      <td>-0.050675</td>\n      <td>0.170161</td>\n      <td>-0.053944</td>\n      <td>-0.024257</td>\n      <td>...</td>\n      <td>0.019434</td>\n      <td>-0.004670</td>\n      <td>-0.021545</td>\n      <td>-0.006285</td>\n      <td>1.133692</td>\n      <td>0.002097</td>\n      <td>-0.001737</td>\n      <td>-0.004966</td>\n      <td>-0.005364</td>\n      <td>-0.004077</td>\n    </tr>\n    <tr>\n      <th>2022-12-31 11:00:00</th>\n      <td>0.071961</td>\n      <td>-0.045778</td>\n      <td>0.015746</td>\n      <td>-0.023895</td>\n      <td>-0.029461</td>\n      <td>0.074107</td>\n      <td>0.009741</td>\n      <td>0.124504</td>\n      <td>-0.053465</td>\n      <td>-0.014053</td>\n      <td>...</td>\n      <td>-0.027214</td>\n      <td>0.000145</td>\n      <td>-0.010628</td>\n      <td>0.004475</td>\n      <td>0.463266</td>\n      <td>-0.002120</td>\n      <td>-0.000911</td>\n      <td>0.004223</td>\n      <td>0.002481</td>\n      <td>0.002126</td>\n    </tr>\n    <tr>\n      <th>2022-12-31 12:00:00</th>\n      <td>0.077137</td>\n      <td>-0.045335</td>\n      <td>0.002531</td>\n      <td>-0.013553</td>\n      <td>-0.026531</td>\n      <td>0.054919</td>\n      <td>0.018256</td>\n      <td>0.163944</td>\n      <td>-0.039681</td>\n      <td>-0.029873</td>\n      <td>...</td>\n      <td>-0.030479</td>\n      <td>-0.000759</td>\n      <td>-0.009864</td>\n      <td>0.005033</td>\n      <td>0.404603</td>\n      <td>-0.001239</td>\n      <td>-0.002252</td>\n      <td>0.006216</td>\n      <td>0.002868</td>\n      <td>0.002987</td>\n    </tr>\n    <tr>\n      <th>2022-12-31 13:00:00</th>\n      <td>0.051352</td>\n      <td>-0.057166</td>\n      <td>0.006695</td>\n      <td>-0.013318</td>\n      <td>-0.018450</td>\n      <td>0.087080</td>\n      <td>0.022691</td>\n      <td>0.098373</td>\n      <td>-0.042297</td>\n      <td>-0.017458</td>\n      <td>...</td>\n      <td>-0.029141</td>\n      <td>0.000384</td>\n      <td>-0.009943</td>\n      <td>0.004912</td>\n      <td>0.446996</td>\n      <td>-0.001668</td>\n      <td>-0.000051</td>\n      <td>0.003413</td>\n      <td>0.002725</td>\n      <td>0.001311</td>\n    </tr>\n    <tr>\n      <th>2022-12-31 14:00:00</th>\n      <td>0.026988</td>\n      <td>-0.035383</td>\n      <td>0.014199</td>\n      <td>-0.039873</td>\n      <td>-0.026892</td>\n      <td>0.060105</td>\n      <td>-0.020327</td>\n      <td>0.150709</td>\n      <td>-0.056519</td>\n      <td>-0.019037</td>\n      <td>...</td>\n      <td>-0.005621</td>\n      <td>-0.002114</td>\n      <td>-0.015696</td>\n      <td>-0.000534</td>\n      <td>0.773816</td>\n      <td>-0.000129</td>\n      <td>-0.001393</td>\n      <td>0.000055</td>\n      <td>-0.001178</td>\n      <td>-0.000743</td>\n    </tr>\n    <tr>\n      <th>2022-12-31 15:00:00</th>\n      <td>0.025327</td>\n      <td>-0.044539</td>\n      <td>0.008691</td>\n      <td>-0.027350</td>\n      <td>-0.020602</td>\n      <td>0.073374</td>\n      <td>-0.004714</td>\n      <td>0.128354</td>\n      <td>-0.049612</td>\n      <td>-0.019072</td>\n      <td>...</td>\n      <td>-0.012639</td>\n      <td>-0.001344</td>\n      <td>-0.013985</td>\n      <td>0.001099</td>\n      <td>0.679113</td>\n      <td>-0.000516</td>\n      <td>-0.000688</td>\n      <td>0.000783</td>\n      <td>0.000033</td>\n      <td>-0.000303</td>\n    </tr>\n    <tr>\n      <th>2022-12-31 16:00:00</th>\n      <td>-0.011528</td>\n      <td>-0.027908</td>\n      <td>0.012566</td>\n      <td>-0.052127</td>\n      <td>-0.023063</td>\n      <td>0.054308</td>\n      <td>-0.040834</td>\n      <td>0.161020</td>\n      <td>-0.056334</td>\n      <td>-0.020973</td>\n      <td>...</td>\n      <td>0.010821</td>\n      <td>-0.003696</td>\n      <td>-0.019553</td>\n      <td>-0.004289</td>\n      <td>1.010354</td>\n      <td>0.001220</td>\n      <td>-0.001544</td>\n      <td>-0.003311</td>\n      <td>-0.003914</td>\n      <td>-0.002932</td>\n    </tr>\n    <tr>\n      <th>2022-12-31 17:00:00</th>\n      <td>-0.022429</td>\n      <td>-0.026456</td>\n      <td>0.009189</td>\n      <td>-0.053304</td>\n      <td>-0.020712</td>\n      <td>0.051105</td>\n      <td>-0.044636</td>\n      <td>0.167638</td>\n      <td>-0.053550</td>\n      <td>-0.023873</td>\n      <td>...</td>\n      <td>0.014601</td>\n      <td>-0.004226</td>\n      <td>-0.020423</td>\n      <td>-0.005182</td>\n      <td>1.063987</td>\n      <td>0.001712</td>\n      <td>-0.001694</td>\n      <td>-0.003958</td>\n      <td>-0.004554</td>\n      <td>-0.003429</td>\n    </tr>\n    <tr>\n      <th>2022-12-31 18:00:00</th>\n      <td>-0.034941</td>\n      <td>-0.024320</td>\n      <td>0.006430</td>\n      <td>-0.055119</td>\n      <td>-0.017361</td>\n      <td>0.047081</td>\n      <td>-0.048785</td>\n      <td>0.173535</td>\n      <td>-0.050457</td>\n      <td>-0.026435</td>\n      <td>...</td>\n      <td>0.019069</td>\n      <td>-0.004814</td>\n      <td>-0.021448</td>\n      <td>-0.006224</td>\n      <td>1.127469</td>\n      <td>0.002253</td>\n      <td>-0.001845</td>\n      <td>-0.004751</td>\n      <td>-0.005308</td>\n      <td>-0.004029</td>\n    </tr>\n    <tr>\n      <th>2022-12-31 19:00:00</th>\n      <td>-0.084947</td>\n      <td>-0.011327</td>\n      <td>0.004024</td>\n      <td>-0.075534</td>\n      <td>-0.012426</td>\n      <td>0.036052</td>\n      <td>-0.077075</td>\n      <td>0.190710</td>\n      <td>-0.048775</td>\n      <td>-0.027963</td>\n      <td>...</td>\n      <td>0.042365</td>\n      <td>-0.007040</td>\n      <td>-0.026779</td>\n      <td>-0.011503</td>\n      <td>1.460414</td>\n      <td>0.004413</td>\n      <td>-0.002374</td>\n      <td>-0.009461</td>\n      <td>-0.009380</td>\n      <td>-0.007121</td>\n    </tr>\n    <tr>\n      <th>2022-12-31 20:00:00</th>\n      <td>0.023577</td>\n      <td>-0.039008</td>\n      <td>0.014206</td>\n      <td>-0.036464</td>\n      <td>-0.024996</td>\n      <td>0.068508</td>\n      <td>-0.015811</td>\n      <td>0.135889</td>\n      <td>-0.055951</td>\n      <td>-0.016538</td>\n      <td>...</td>\n      <td>-0.007322</td>\n      <td>-0.001721</td>\n      <td>-0.015280</td>\n      <td>-0.000101</td>\n      <td>0.753420</td>\n      <td>-0.000366</td>\n      <td>-0.000912</td>\n      <td>-0.000112</td>\n      <td>-0.000862</td>\n      <td>-0.000787</td>\n    </tr>\n    <tr>\n      <th>2022-12-31 21:00:00</th>\n      <td>0.075083</td>\n      <td>-0.045714</td>\n      <td>0.016980</td>\n      <td>-0.024226</td>\n      <td>-0.029921</td>\n      <td>0.073755</td>\n      <td>0.010049</td>\n      <td>0.124403</td>\n      <td>-0.054697</td>\n      <td>-0.013303</td>\n      <td>...</td>\n      <td>-0.027828</td>\n      <td>0.000232</td>\n      <td>-0.010486</td>\n      <td>0.004622</td>\n      <td>0.454258</td>\n      <td>-0.002196</td>\n      <td>-0.000932</td>\n      <td>0.004352</td>\n      <td>0.002569</td>\n      <td>0.002223</td>\n    </tr>\n    <tr>\n      <th>2022-12-31 22:00:00</th>\n      <td>0.095794</td>\n      <td>-0.051155</td>\n      <td>0.017877</td>\n      <td>-0.018140</td>\n      <td>-0.029251</td>\n      <td>0.076805</td>\n      <td>0.024677</td>\n      <td>0.115154</td>\n      <td>-0.053435</td>\n      <td>-0.011806</td>\n      <td>...</td>\n      <td>-0.037271</td>\n      <td>0.001160</td>\n      <td>-0.008175</td>\n      <td>0.006803</td>\n      <td>0.318994</td>\n      <td>-0.002707</td>\n      <td>-0.000875</td>\n      <td>0.005992</td>\n      <td>0.003971</td>\n      <td>0.003214</td>\n    </tr>\n    <tr>\n      <th>2022-12-31 23:00:00</th>\n      <td>0.089904</td>\n      <td>-0.050061</td>\n      <td>0.018264</td>\n      <td>-0.019955</td>\n      <td>-0.029242</td>\n      <td>0.076639</td>\n      <td>0.020488</td>\n      <td>0.115954</td>\n      <td>-0.054614</td>\n      <td>-0.011781</td>\n      <td>...</td>\n      <td>-0.034593</td>\n      <td>0.000944</td>\n      <td>-0.008828</td>\n      <td>0.006188</td>\n      <td>0.358209</td>\n      <td>-0.002589</td>\n      <td>-0.000833</td>\n      <td>0.005454</td>\n      <td>0.003575</td>\n      <td>0.002897</td>\n    </tr>\n  </tbody>\n</table>\n<p>24 rows × 104 columns</p>\n</div>"
     },
     "execution_count": 17,
     "metadata": {},
     "output_type": "execute_result"
    }
   ],
   "source": [
    "yhat = model.predict(test_X_scaled)\n",
    "# yhat_unscaled = DP.invert_scaling(yhat, SCALER)\n",
    "yhat_unscaled = yhat # since test_X_scaled is actually not scaled - lol :D\n",
    "yhat_unscaled_df = pd.DataFrame(yhat_unscaled, columns=[name + \"_pred\" for name in output_cols])\n",
    "yhat_unscaled_df.set_index(data.tail(len(yhat)).index, inplace=True)\n",
    "yhat_unscaled_df"
   ]
  },
  {
   "cell_type": "markdown",
   "metadata": {
    "pycharm": {
     "name": "#%% md\n"
    }
   },
   "source": []
  },
  {
   "cell_type": "code",
   "execution_count": 18,
   "outputs": [],
   "source": [
    "# # Get the list of columns starting with \"WDIR\"\n",
    "# wdir_columns = [col for col in yhat_unscaled_df.columns if col.startswith(\"WDIR\")]\n",
    "#\n",
    "# # Modify the values in the selected columns\n",
    "# yhat_unscaled_df[wdir_columns] = yhat_unscaled_df[wdir_columns] % 360\n",
    "#\n",
    "# yhat_unscaled_df"
   ],
   "metadata": {
    "collapsed": false,
    "pycharm": {
     "name": "#%%\n"
    }
   }
  },
  {
   "cell_type": "code",
   "execution_count": 19,
   "metadata": {
    "pycharm": {
     "name": "#%%\n"
    }
   },
   "outputs": [
    {
     "data": {
      "text/plain": "                     WDIR_42001  WSPD_42001  PRES_42001  ATMP_42001  \\\n2022-12-30 23:00:00       185.0         5.9      1012.9        25.3   \n2022-12-31 00:00:00       189.0         5.0      1013.5        25.2   \n2022-12-31 01:00:00       203.0         5.6      1013.8        24.7   \n2022-12-31 02:00:00       169.0         2.3      1014.5        24.8   \n2022-12-31 03:00:00        53.0         6.0      1014.8        22.7   \n2022-12-31 04:00:00        55.0         8.5      1015.2        22.3   \n2022-12-31 05:00:00        72.0         7.6      1014.9        22.6   \n2022-12-31 06:00:00        77.0         7.2      1014.4        23.0   \n2022-12-31 07:00:00        97.0         7.8      1014.1        23.1   \n2022-12-31 08:00:00       148.0         3.3      1013.9        24.4   \n2022-12-31 09:00:00       195.0         5.4      1014.0        25.0   \n2022-12-31 10:00:00       223.0         5.1      1014.4        25.0   \n2022-12-31 11:00:00        18.0         3.3      1015.0        22.6   \n2022-12-31 12:00:00       115.0         2.1      1014.9        23.2   \n2022-12-31 13:00:00        31.0         0.9      1015.4        23.6   \n2022-12-31 14:00:00        97.0         0.8      1015.9        24.5   \n2022-12-31 15:00:00       113.0         1.9      1016.6        24.4   \n2022-12-31 16:00:00       124.0         0.8      1017.1        24.6   \n2022-12-31 17:00:00       107.0         1.1      1016.6        24.9   \n2022-12-31 18:00:00       147.0         1.1      1015.9        25.1   \n2022-12-31 19:00:00       195.0         0.5      1015.0        25.6   \n2022-12-31 20:00:00       210.0         1.0      1015.0        25.3   \n2022-12-31 21:00:00       231.0         0.6      1014.7        26.4   \n2022-12-31 22:00:00        18.0         0.7      1014.9        25.4   \n2022-12-31 23:00:00        68.0         1.6      1015.0        25.0   \n\n                     WTMP_42001  DEWP_42001  WDIR_42002  WSPD_42002  \\\n2022-12-30 23:00:00        24.2        24.4       322.0         5.5   \n2022-12-31 00:00:00        24.3        24.5       333.0         5.6   \n2022-12-31 01:00:00        24.3        23.5       359.0         4.6   \n2022-12-31 02:00:00        24.3        24.4        18.0         4.2   \n2022-12-31 03:00:00        24.4        22.1        51.0         4.0   \n2022-12-31 04:00:00        24.4        21.9        69.0         3.1   \n2022-12-31 05:00:00        24.3        22.1        89.0         3.7   \n2022-12-31 06:00:00        24.4        23.0       118.0         2.6   \n2022-12-31 07:00:00        24.4        23.0       151.0         2.8   \n2022-12-31 08:00:00        24.4        24.3       195.0         1.2   \n2022-12-31 09:00:00        24.4        24.6       207.0         2.3   \n2022-12-31 10:00:00        24.4        24.6       194.0         2.2   \n2022-12-31 11:00:00        24.3        22.0       217.0         2.7   \n2022-12-31 12:00:00        24.3        22.4       253.0         3.3   \n2022-12-31 13:00:00        24.4        22.7       273.0         2.9   \n2022-12-31 14:00:00        24.4        23.0       322.0         4.7   \n2022-12-31 15:00:00        24.3        23.6       322.0         3.2   \n2022-12-31 16:00:00        24.4        23.8       316.0         1.3   \n2022-12-31 17:00:00        24.4        23.9       104.0         0.0   \n2022-12-31 18:00:00        24.5        24.3        42.0         0.5   \n2022-12-31 19:00:00        24.7        24.5        22.0         0.6   \n2022-12-31 20:00:00        24.5        24.3        88.0         1.2   \n2022-12-31 21:00:00        24.7        24.4        87.0         1.7   \n2022-12-31 22:00:00        24.7        24.1        90.0         2.5   \n2022-12-31 23:00:00        24.5        24.3       116.0         3.7   \n\n                     PRES_42002  ATMP_42002  ...  WDIR_42039_ERA5  \\\n2022-12-30 23:00:00      1011.7        24.7  ...       113.871622   \n2022-12-31 00:00:00      1012.3        24.6  ...       108.235067   \n2022-12-31 01:00:00      1012.9        24.6  ...        97.574364   \n2022-12-31 02:00:00      1013.5        24.7  ...        84.710673   \n2022-12-31 03:00:00      1014.1        24.5  ...        70.760477   \n2022-12-31 04:00:00      1014.4        24.3  ...        61.682710   \n2022-12-31 05:00:00      1014.4        24.3  ...        65.365573   \n2022-12-31 06:00:00      1014.5        24.4  ...        77.495898   \n2022-12-31 07:00:00      1014.6        24.5  ...        81.234776   \n2022-12-31 08:00:00      1014.8        24.6  ...        77.326712   \n2022-12-31 09:00:00      1014.4        24.5  ...        68.590929   \n2022-12-31 10:00:00      1014.4        24.6  ...        36.958083   \n2022-12-31 11:00:00      1014.9        24.6  ...        42.923937   \n2022-12-31 12:00:00      1015.4        24.6  ...        57.340921   \n2022-12-31 13:00:00      1016.0        24.6  ...        67.428525   \n2022-12-31 14:00:00      1016.6        24.5  ...        63.862272   \n2022-12-31 15:00:00      1017.2        24.6  ...        59.982563   \n2022-12-31 16:00:00      1017.8        24.7  ...        54.021722   \n2022-12-31 17:00:00      1017.7        25.8  ...        42.613490   \n2022-12-31 18:00:00      1016.8        25.5  ...        33.224639   \n2022-12-31 19:00:00      1015.9        25.1  ...        28.180851   \n2022-12-31 20:00:00      1015.4        24.7  ...        22.969408   \n2022-12-31 21:00:00      1014.9        24.6  ...        14.655430   \n2022-12-31 22:00:00      1014.9        24.5  ...        20.371840   \n2022-12-31 23:00:00      1015.0        24.5  ...        21.918165   \n\n                     WSPD_42039_ERA5  ATMP_42039_ERA5  WSPD_42035_ERA5  \\\n2022-12-30 23:00:00        10.542640        23.935086         2.632245   \n2022-12-31 00:00:00        10.136320        24.123266         3.286975   \n2022-12-31 01:00:00         9.799587        24.028398         4.023334   \n2022-12-31 02:00:00        10.336202        22.973194         3.117344   \n2022-12-31 03:00:00        11.014376        23.074671         1.771335   \n2022-12-31 04:00:00         9.975791        23.811448         1.624550   \n2022-12-31 05:00:00         9.259451        24.030731         1.979889   \n2022-12-31 06:00:00         8.763196        24.011680         2.840376   \n2022-12-31 07:00:00         9.032894        24.101493         3.889530   \n2022-12-31 08:00:00         9.596466        24.324664         3.860175   \n2022-12-31 09:00:00         9.274966        24.482128         3.656089   \n2022-12-31 10:00:00         7.138695        23.919534         3.737391   \n2022-12-31 11:00:00         6.912922        23.877933         3.433366   \n2022-12-31 12:00:00         7.748116        23.225526         3.249472   \n2022-12-31 13:00:00         8.995343        23.788509         3.861368   \n2022-12-31 14:00:00         9.735934        24.198304         4.578226   \n2022-12-31 15:00:00         8.944310        24.267899         4.467306   \n2022-12-31 16:00:00         8.184192        22.985636         4.666860   \n2022-12-31 17:00:00         8.048871        22.726306         3.951884   \n2022-12-31 18:00:00         8.420749        22.645825         3.044037   \n2022-12-31 19:00:00         8.602918        22.730194         2.533178   \n2022-12-31 20:00:00         7.734290        22.564177         2.669909   \n2022-12-31 21:00:00         6.485218        22.377552         3.147255   \n2022-12-31 22:00:00         3.294807        24.068445         3.469271   \n2022-12-31 23:00:00         2.229422        23.926533         3.938095   \n\n                     WSPD_42001_ERA5  DEWP_42020_ERA5  ATMP_42019_ERA5  \\\n2022-12-30 23:00:00         5.301299        18.452689        19.872416   \n2022-12-31 00:00:00         5.057694        18.248043        20.009884   \n2022-12-31 01:00:00         5.587926        17.794162        20.081088   \n2022-12-31 02:00:00         5.840792        17.447368        20.151057   \n2022-12-31 03:00:00         6.463279        17.274733        20.047338   \n2022-12-31 04:00:00         6.500897        17.075041        19.827142   \n2022-12-31 05:00:00         6.541557        16.895165        19.694613   \n2022-12-31 06:00:00         6.465415        16.681753        19.667860   \n2022-12-31 07:00:00         6.487022        16.582288        19.685558   \n2022-12-31 08:00:00         6.690521        16.566664        19.631641   \n2022-12-31 09:00:00         6.661433        16.592959        19.552206   \n2022-12-31 10:00:00         4.087878        18.007574        19.941150   \n2022-12-31 11:00:00         3.082339        17.928687        20.125950   \n2022-12-31 12:00:00         2.253867        17.940120        20.289760   \n2022-12-31 13:00:00         1.868949        18.015958        20.528888   \n2022-12-31 14:00:00         2.137407        18.188211        20.764725   \n2022-12-31 15:00:00         2.001684        18.374565        20.972985   \n2022-12-31 16:00:00         1.689902        18.530813        21.218287   \n2022-12-31 17:00:00         1.136156        18.914954        21.425724   \n2022-12-31 18:00:00         0.956942        19.264797        21.661149   \n2022-12-31 19:00:00         0.601025        19.323104        21.847184   \n2022-12-31 20:00:00         0.979714        19.245361        22.052563   \n2022-12-31 21:00:00         2.067327        19.338348        22.260412   \n2022-12-31 22:00:00         1.554299        18.567779        22.101541   \n2022-12-31 23:00:00         2.206784        18.779285        22.243125   \n\n                     WTMP_42039_ERA5  WSPD_42002_ERA5  PRES_42039_ERA5  \n2022-12-30 23:00:00        24.392457         3.651173      1015.146367  \n2022-12-31 00:00:00        24.392457         1.420595      1015.755665  \n2022-12-31 01:00:00        24.392457         1.134690      1016.328747  \n2022-12-31 02:00:00        24.392457         1.613154      1016.790195  \n2022-12-31 03:00:00        24.392457         1.853178      1017.056071  \n2022-12-31 04:00:00        24.392457         2.384701      1017.194548  \n2022-12-31 05:00:00        24.392457         3.354966      1016.693048  \n2022-12-31 06:00:00        24.392457         4.305897      1016.111445  \n2022-12-31 07:00:00        24.392457         4.524105      1015.494477  \n2022-12-31 08:00:00        24.392457         4.233950      1015.054333  \n2022-12-31 09:00:00        24.392457         4.025557      1015.007038  \n2022-12-31 10:00:00        24.392457         2.932615      1015.372617  \n2022-12-31 11:00:00        24.392457         2.577727      1015.801682  \n2022-12-31 12:00:00        24.392457         2.801135      1016.457424  \n2022-12-31 13:00:00        24.392457         3.091739      1016.537954  \n2022-12-31 14:00:00        24.392457         3.032069      1017.260591  \n2022-12-31 15:00:00        24.392457         2.112608      1017.936358  \n2022-12-31 16:00:00        24.392457         0.927335      1018.299381  \n2022-12-31 17:00:00        24.392457         0.337422      1017.865203  \n2022-12-31 18:00:00        24.392457         0.622219      1017.238861  \n2022-12-31 19:00:00        24.392457         1.062895      1016.581840  \n2022-12-31 20:00:00        24.392457         1.330008      1016.363260  \n2022-12-31 21:00:00        24.392457         1.770915      1016.186435  \n2022-12-31 22:00:00        24.885927         2.483432      1017.067575  \n2022-12-31 23:00:00        24.885927         3.242142      1017.021132  \n\n[25 rows x 104 columns]",
      "text/html": "<div>\n<style scoped>\n    .dataframe tbody tr th:only-of-type {\n        vertical-align: middle;\n    }\n\n    .dataframe tbody tr th {\n        vertical-align: top;\n    }\n\n    .dataframe thead th {\n        text-align: right;\n    }\n</style>\n<table border=\"1\" class=\"dataframe\">\n  <thead>\n    <tr style=\"text-align: right;\">\n      <th></th>\n      <th>WDIR_42001</th>\n      <th>WSPD_42001</th>\n      <th>PRES_42001</th>\n      <th>ATMP_42001</th>\n      <th>WTMP_42001</th>\n      <th>DEWP_42001</th>\n      <th>WDIR_42002</th>\n      <th>WSPD_42002</th>\n      <th>PRES_42002</th>\n      <th>ATMP_42002</th>\n      <th>...</th>\n      <th>WDIR_42039_ERA5</th>\n      <th>WSPD_42039_ERA5</th>\n      <th>ATMP_42039_ERA5</th>\n      <th>WSPD_42035_ERA5</th>\n      <th>WSPD_42001_ERA5</th>\n      <th>DEWP_42020_ERA5</th>\n      <th>ATMP_42019_ERA5</th>\n      <th>WTMP_42039_ERA5</th>\n      <th>WSPD_42002_ERA5</th>\n      <th>PRES_42039_ERA5</th>\n    </tr>\n  </thead>\n  <tbody>\n    <tr>\n      <th>2022-12-30 23:00:00</th>\n      <td>185.0</td>\n      <td>5.9</td>\n      <td>1012.9</td>\n      <td>25.3</td>\n      <td>24.2</td>\n      <td>24.4</td>\n      <td>322.0</td>\n      <td>5.5</td>\n      <td>1011.7</td>\n      <td>24.7</td>\n      <td>...</td>\n      <td>113.871622</td>\n      <td>10.542640</td>\n      <td>23.935086</td>\n      <td>2.632245</td>\n      <td>5.301299</td>\n      <td>18.452689</td>\n      <td>19.872416</td>\n      <td>24.392457</td>\n      <td>3.651173</td>\n      <td>1015.146367</td>\n    </tr>\n    <tr>\n      <th>2022-12-31 00:00:00</th>\n      <td>189.0</td>\n      <td>5.0</td>\n      <td>1013.5</td>\n      <td>25.2</td>\n      <td>24.3</td>\n      <td>24.5</td>\n      <td>333.0</td>\n      <td>5.6</td>\n      <td>1012.3</td>\n      <td>24.6</td>\n      <td>...</td>\n      <td>108.235067</td>\n      <td>10.136320</td>\n      <td>24.123266</td>\n      <td>3.286975</td>\n      <td>5.057694</td>\n      <td>18.248043</td>\n      <td>20.009884</td>\n      <td>24.392457</td>\n      <td>1.420595</td>\n      <td>1015.755665</td>\n    </tr>\n    <tr>\n      <th>2022-12-31 01:00:00</th>\n      <td>203.0</td>\n      <td>5.6</td>\n      <td>1013.8</td>\n      <td>24.7</td>\n      <td>24.3</td>\n      <td>23.5</td>\n      <td>359.0</td>\n      <td>4.6</td>\n      <td>1012.9</td>\n      <td>24.6</td>\n      <td>...</td>\n      <td>97.574364</td>\n      <td>9.799587</td>\n      <td>24.028398</td>\n      <td>4.023334</td>\n      <td>5.587926</td>\n      <td>17.794162</td>\n      <td>20.081088</td>\n      <td>24.392457</td>\n      <td>1.134690</td>\n      <td>1016.328747</td>\n    </tr>\n    <tr>\n      <th>2022-12-31 02:00:00</th>\n      <td>169.0</td>\n      <td>2.3</td>\n      <td>1014.5</td>\n      <td>24.8</td>\n      <td>24.3</td>\n      <td>24.4</td>\n      <td>18.0</td>\n      <td>4.2</td>\n      <td>1013.5</td>\n      <td>24.7</td>\n      <td>...</td>\n      <td>84.710673</td>\n      <td>10.336202</td>\n      <td>22.973194</td>\n      <td>3.117344</td>\n      <td>5.840792</td>\n      <td>17.447368</td>\n      <td>20.151057</td>\n      <td>24.392457</td>\n      <td>1.613154</td>\n      <td>1016.790195</td>\n    </tr>\n    <tr>\n      <th>2022-12-31 03:00:00</th>\n      <td>53.0</td>\n      <td>6.0</td>\n      <td>1014.8</td>\n      <td>22.7</td>\n      <td>24.4</td>\n      <td>22.1</td>\n      <td>51.0</td>\n      <td>4.0</td>\n      <td>1014.1</td>\n      <td>24.5</td>\n      <td>...</td>\n      <td>70.760477</td>\n      <td>11.014376</td>\n      <td>23.074671</td>\n      <td>1.771335</td>\n      <td>6.463279</td>\n      <td>17.274733</td>\n      <td>20.047338</td>\n      <td>24.392457</td>\n      <td>1.853178</td>\n      <td>1017.056071</td>\n    </tr>\n    <tr>\n      <th>2022-12-31 04:00:00</th>\n      <td>55.0</td>\n      <td>8.5</td>\n      <td>1015.2</td>\n      <td>22.3</td>\n      <td>24.4</td>\n      <td>21.9</td>\n      <td>69.0</td>\n      <td>3.1</td>\n      <td>1014.4</td>\n      <td>24.3</td>\n      <td>...</td>\n      <td>61.682710</td>\n      <td>9.975791</td>\n      <td>23.811448</td>\n      <td>1.624550</td>\n      <td>6.500897</td>\n      <td>17.075041</td>\n      <td>19.827142</td>\n      <td>24.392457</td>\n      <td>2.384701</td>\n      <td>1017.194548</td>\n    </tr>\n    <tr>\n      <th>2022-12-31 05:00:00</th>\n      <td>72.0</td>\n      <td>7.6</td>\n      <td>1014.9</td>\n      <td>22.6</td>\n      <td>24.3</td>\n      <td>22.1</td>\n      <td>89.0</td>\n      <td>3.7</td>\n      <td>1014.4</td>\n      <td>24.3</td>\n      <td>...</td>\n      <td>65.365573</td>\n      <td>9.259451</td>\n      <td>24.030731</td>\n      <td>1.979889</td>\n      <td>6.541557</td>\n      <td>16.895165</td>\n      <td>19.694613</td>\n      <td>24.392457</td>\n      <td>3.354966</td>\n      <td>1016.693048</td>\n    </tr>\n    <tr>\n      <th>2022-12-31 06:00:00</th>\n      <td>77.0</td>\n      <td>7.2</td>\n      <td>1014.4</td>\n      <td>23.0</td>\n      <td>24.4</td>\n      <td>23.0</td>\n      <td>118.0</td>\n      <td>2.6</td>\n      <td>1014.5</td>\n      <td>24.4</td>\n      <td>...</td>\n      <td>77.495898</td>\n      <td>8.763196</td>\n      <td>24.011680</td>\n      <td>2.840376</td>\n      <td>6.465415</td>\n      <td>16.681753</td>\n      <td>19.667860</td>\n      <td>24.392457</td>\n      <td>4.305897</td>\n      <td>1016.111445</td>\n    </tr>\n    <tr>\n      <th>2022-12-31 07:00:00</th>\n      <td>97.0</td>\n      <td>7.8</td>\n      <td>1014.1</td>\n      <td>23.1</td>\n      <td>24.4</td>\n      <td>23.0</td>\n      <td>151.0</td>\n      <td>2.8</td>\n      <td>1014.6</td>\n      <td>24.5</td>\n      <td>...</td>\n      <td>81.234776</td>\n      <td>9.032894</td>\n      <td>24.101493</td>\n      <td>3.889530</td>\n      <td>6.487022</td>\n      <td>16.582288</td>\n      <td>19.685558</td>\n      <td>24.392457</td>\n      <td>4.524105</td>\n      <td>1015.494477</td>\n    </tr>\n    <tr>\n      <th>2022-12-31 08:00:00</th>\n      <td>148.0</td>\n      <td>3.3</td>\n      <td>1013.9</td>\n      <td>24.4</td>\n      <td>24.4</td>\n      <td>24.3</td>\n      <td>195.0</td>\n      <td>1.2</td>\n      <td>1014.8</td>\n      <td>24.6</td>\n      <td>...</td>\n      <td>77.326712</td>\n      <td>9.596466</td>\n      <td>24.324664</td>\n      <td>3.860175</td>\n      <td>6.690521</td>\n      <td>16.566664</td>\n      <td>19.631641</td>\n      <td>24.392457</td>\n      <td>4.233950</td>\n      <td>1015.054333</td>\n    </tr>\n    <tr>\n      <th>2022-12-31 09:00:00</th>\n      <td>195.0</td>\n      <td>5.4</td>\n      <td>1014.0</td>\n      <td>25.0</td>\n      <td>24.4</td>\n      <td>24.6</td>\n      <td>207.0</td>\n      <td>2.3</td>\n      <td>1014.4</td>\n      <td>24.5</td>\n      <td>...</td>\n      <td>68.590929</td>\n      <td>9.274966</td>\n      <td>24.482128</td>\n      <td>3.656089</td>\n      <td>6.661433</td>\n      <td>16.592959</td>\n      <td>19.552206</td>\n      <td>24.392457</td>\n      <td>4.025557</td>\n      <td>1015.007038</td>\n    </tr>\n    <tr>\n      <th>2022-12-31 10:00:00</th>\n      <td>223.0</td>\n      <td>5.1</td>\n      <td>1014.4</td>\n      <td>25.0</td>\n      <td>24.4</td>\n      <td>24.6</td>\n      <td>194.0</td>\n      <td>2.2</td>\n      <td>1014.4</td>\n      <td>24.6</td>\n      <td>...</td>\n      <td>36.958083</td>\n      <td>7.138695</td>\n      <td>23.919534</td>\n      <td>3.737391</td>\n      <td>4.087878</td>\n      <td>18.007574</td>\n      <td>19.941150</td>\n      <td>24.392457</td>\n      <td>2.932615</td>\n      <td>1015.372617</td>\n    </tr>\n    <tr>\n      <th>2022-12-31 11:00:00</th>\n      <td>18.0</td>\n      <td>3.3</td>\n      <td>1015.0</td>\n      <td>22.6</td>\n      <td>24.3</td>\n      <td>22.0</td>\n      <td>217.0</td>\n      <td>2.7</td>\n      <td>1014.9</td>\n      <td>24.6</td>\n      <td>...</td>\n      <td>42.923937</td>\n      <td>6.912922</td>\n      <td>23.877933</td>\n      <td>3.433366</td>\n      <td>3.082339</td>\n      <td>17.928687</td>\n      <td>20.125950</td>\n      <td>24.392457</td>\n      <td>2.577727</td>\n      <td>1015.801682</td>\n    </tr>\n    <tr>\n      <th>2022-12-31 12:00:00</th>\n      <td>115.0</td>\n      <td>2.1</td>\n      <td>1014.9</td>\n      <td>23.2</td>\n      <td>24.3</td>\n      <td>22.4</td>\n      <td>253.0</td>\n      <td>3.3</td>\n      <td>1015.4</td>\n      <td>24.6</td>\n      <td>...</td>\n      <td>57.340921</td>\n      <td>7.748116</td>\n      <td>23.225526</td>\n      <td>3.249472</td>\n      <td>2.253867</td>\n      <td>17.940120</td>\n      <td>20.289760</td>\n      <td>24.392457</td>\n      <td>2.801135</td>\n      <td>1016.457424</td>\n    </tr>\n    <tr>\n      <th>2022-12-31 13:00:00</th>\n      <td>31.0</td>\n      <td>0.9</td>\n      <td>1015.4</td>\n      <td>23.6</td>\n      <td>24.4</td>\n      <td>22.7</td>\n      <td>273.0</td>\n      <td>2.9</td>\n      <td>1016.0</td>\n      <td>24.6</td>\n      <td>...</td>\n      <td>67.428525</td>\n      <td>8.995343</td>\n      <td>23.788509</td>\n      <td>3.861368</td>\n      <td>1.868949</td>\n      <td>18.015958</td>\n      <td>20.528888</td>\n      <td>24.392457</td>\n      <td>3.091739</td>\n      <td>1016.537954</td>\n    </tr>\n    <tr>\n      <th>2022-12-31 14:00:00</th>\n      <td>97.0</td>\n      <td>0.8</td>\n      <td>1015.9</td>\n      <td>24.5</td>\n      <td>24.4</td>\n      <td>23.0</td>\n      <td>322.0</td>\n      <td>4.7</td>\n      <td>1016.6</td>\n      <td>24.5</td>\n      <td>...</td>\n      <td>63.862272</td>\n      <td>9.735934</td>\n      <td>24.198304</td>\n      <td>4.578226</td>\n      <td>2.137407</td>\n      <td>18.188211</td>\n      <td>20.764725</td>\n      <td>24.392457</td>\n      <td>3.032069</td>\n      <td>1017.260591</td>\n    </tr>\n    <tr>\n      <th>2022-12-31 15:00:00</th>\n      <td>113.0</td>\n      <td>1.9</td>\n      <td>1016.6</td>\n      <td>24.4</td>\n      <td>24.3</td>\n      <td>23.6</td>\n      <td>322.0</td>\n      <td>3.2</td>\n      <td>1017.2</td>\n      <td>24.6</td>\n      <td>...</td>\n      <td>59.982563</td>\n      <td>8.944310</td>\n      <td>24.267899</td>\n      <td>4.467306</td>\n      <td>2.001684</td>\n      <td>18.374565</td>\n      <td>20.972985</td>\n      <td>24.392457</td>\n      <td>2.112608</td>\n      <td>1017.936358</td>\n    </tr>\n    <tr>\n      <th>2022-12-31 16:00:00</th>\n      <td>124.0</td>\n      <td>0.8</td>\n      <td>1017.1</td>\n      <td>24.6</td>\n      <td>24.4</td>\n      <td>23.8</td>\n      <td>316.0</td>\n      <td>1.3</td>\n      <td>1017.8</td>\n      <td>24.7</td>\n      <td>...</td>\n      <td>54.021722</td>\n      <td>8.184192</td>\n      <td>22.985636</td>\n      <td>4.666860</td>\n      <td>1.689902</td>\n      <td>18.530813</td>\n      <td>21.218287</td>\n      <td>24.392457</td>\n      <td>0.927335</td>\n      <td>1018.299381</td>\n    </tr>\n    <tr>\n      <th>2022-12-31 17:00:00</th>\n      <td>107.0</td>\n      <td>1.1</td>\n      <td>1016.6</td>\n      <td>24.9</td>\n      <td>24.4</td>\n      <td>23.9</td>\n      <td>104.0</td>\n      <td>0.0</td>\n      <td>1017.7</td>\n      <td>25.8</td>\n      <td>...</td>\n      <td>42.613490</td>\n      <td>8.048871</td>\n      <td>22.726306</td>\n      <td>3.951884</td>\n      <td>1.136156</td>\n      <td>18.914954</td>\n      <td>21.425724</td>\n      <td>24.392457</td>\n      <td>0.337422</td>\n      <td>1017.865203</td>\n    </tr>\n    <tr>\n      <th>2022-12-31 18:00:00</th>\n      <td>147.0</td>\n      <td>1.1</td>\n      <td>1015.9</td>\n      <td>25.1</td>\n      <td>24.5</td>\n      <td>24.3</td>\n      <td>42.0</td>\n      <td>0.5</td>\n      <td>1016.8</td>\n      <td>25.5</td>\n      <td>...</td>\n      <td>33.224639</td>\n      <td>8.420749</td>\n      <td>22.645825</td>\n      <td>3.044037</td>\n      <td>0.956942</td>\n      <td>19.264797</td>\n      <td>21.661149</td>\n      <td>24.392457</td>\n      <td>0.622219</td>\n      <td>1017.238861</td>\n    </tr>\n    <tr>\n      <th>2022-12-31 19:00:00</th>\n      <td>195.0</td>\n      <td>0.5</td>\n      <td>1015.0</td>\n      <td>25.6</td>\n      <td>24.7</td>\n      <td>24.5</td>\n      <td>22.0</td>\n      <td>0.6</td>\n      <td>1015.9</td>\n      <td>25.1</td>\n      <td>...</td>\n      <td>28.180851</td>\n      <td>8.602918</td>\n      <td>22.730194</td>\n      <td>2.533178</td>\n      <td>0.601025</td>\n      <td>19.323104</td>\n      <td>21.847184</td>\n      <td>24.392457</td>\n      <td>1.062895</td>\n      <td>1016.581840</td>\n    </tr>\n    <tr>\n      <th>2022-12-31 20:00:00</th>\n      <td>210.0</td>\n      <td>1.0</td>\n      <td>1015.0</td>\n      <td>25.3</td>\n      <td>24.5</td>\n      <td>24.3</td>\n      <td>88.0</td>\n      <td>1.2</td>\n      <td>1015.4</td>\n      <td>24.7</td>\n      <td>...</td>\n      <td>22.969408</td>\n      <td>7.734290</td>\n      <td>22.564177</td>\n      <td>2.669909</td>\n      <td>0.979714</td>\n      <td>19.245361</td>\n      <td>22.052563</td>\n      <td>24.392457</td>\n      <td>1.330008</td>\n      <td>1016.363260</td>\n    </tr>\n    <tr>\n      <th>2022-12-31 21:00:00</th>\n      <td>231.0</td>\n      <td>0.6</td>\n      <td>1014.7</td>\n      <td>26.4</td>\n      <td>24.7</td>\n      <td>24.4</td>\n      <td>87.0</td>\n      <td>1.7</td>\n      <td>1014.9</td>\n      <td>24.6</td>\n      <td>...</td>\n      <td>14.655430</td>\n      <td>6.485218</td>\n      <td>22.377552</td>\n      <td>3.147255</td>\n      <td>2.067327</td>\n      <td>19.338348</td>\n      <td>22.260412</td>\n      <td>24.392457</td>\n      <td>1.770915</td>\n      <td>1016.186435</td>\n    </tr>\n    <tr>\n      <th>2022-12-31 22:00:00</th>\n      <td>18.0</td>\n      <td>0.7</td>\n      <td>1014.9</td>\n      <td>25.4</td>\n      <td>24.7</td>\n      <td>24.1</td>\n      <td>90.0</td>\n      <td>2.5</td>\n      <td>1014.9</td>\n      <td>24.5</td>\n      <td>...</td>\n      <td>20.371840</td>\n      <td>3.294807</td>\n      <td>24.068445</td>\n      <td>3.469271</td>\n      <td>1.554299</td>\n      <td>18.567779</td>\n      <td>22.101541</td>\n      <td>24.885927</td>\n      <td>2.483432</td>\n      <td>1017.067575</td>\n    </tr>\n    <tr>\n      <th>2022-12-31 23:00:00</th>\n      <td>68.0</td>\n      <td>1.6</td>\n      <td>1015.0</td>\n      <td>25.0</td>\n      <td>24.5</td>\n      <td>24.3</td>\n      <td>116.0</td>\n      <td>3.7</td>\n      <td>1015.0</td>\n      <td>24.5</td>\n      <td>...</td>\n      <td>21.918165</td>\n      <td>2.229422</td>\n      <td>23.926533</td>\n      <td>3.938095</td>\n      <td>2.206784</td>\n      <td>18.779285</td>\n      <td>22.243125</td>\n      <td>24.885927</td>\n      <td>3.242142</td>\n      <td>1017.021132</td>\n    </tr>\n  </tbody>\n</table>\n<p>25 rows × 104 columns</p>\n</div>"
     },
     "execution_count": 19,
     "metadata": {},
     "output_type": "execute_result"
    }
   ],
   "source": [
    "evaluation_1 = data.tail(len(yhat)+1).copy()  #+1 since i need that value for de-differencing\n",
    "evaluation_1"
   ]
  },
  {
   "cell_type": "code",
   "execution_count": 19,
   "outputs": [],
   "source": [],
   "metadata": {
    "collapsed": false,
    "pycharm": {
     "name": "#%%\n"
    }
   }
  },
  {
   "cell_type": "code",
   "execution_count": 20,
   "metadata": {
    "pycharm": {
     "name": "#%%\n"
    }
   },
   "outputs": [
    {
     "name": "stderr",
     "output_type": "stream",
     "text": [
      "/var/folders/ys/lj6w647n5qjdv23zdxs_fn740000gn/T/ipykernel_83941/4009267436.py:2: PerformanceWarning: DataFrame is highly fragmented.  This is usually the result of calling `frame.insert` many times, which has poor performance.  Consider joining all columns at once using pd.concat(axis=1) instead. To get a de-fragmented frame, use `newframe = frame.copy()`\n",
      "  evaluation_1[f\"{col}_pred\"]= evaluation_1[col].shift(STATIONARY_SHIFT) + yhat_unscaled_df[f\"{col}_pred\"]\n",
      "/var/folders/ys/lj6w647n5qjdv23zdxs_fn740000gn/T/ipykernel_83941/4009267436.py:2: PerformanceWarning: DataFrame is highly fragmented.  This is usually the result of calling `frame.insert` many times, which has poor performance.  Consider joining all columns at once using pd.concat(axis=1) instead. To get a de-fragmented frame, use `newframe = frame.copy()`\n",
      "  evaluation_1[f\"{col}_pred\"]= evaluation_1[col].shift(STATIONARY_SHIFT) + yhat_unscaled_df[f\"{col}_pred\"]\n",
      "/var/folders/ys/lj6w647n5qjdv23zdxs_fn740000gn/T/ipykernel_83941/4009267436.py:2: PerformanceWarning: DataFrame is highly fragmented.  This is usually the result of calling `frame.insert` many times, which has poor performance.  Consider joining all columns at once using pd.concat(axis=1) instead. To get a de-fragmented frame, use `newframe = frame.copy()`\n",
      "  evaluation_1[f\"{col}_pred\"]= evaluation_1[col].shift(STATIONARY_SHIFT) + yhat_unscaled_df[f\"{col}_pred\"]\n",
      "/var/folders/ys/lj6w647n5qjdv23zdxs_fn740000gn/T/ipykernel_83941/4009267436.py:2: PerformanceWarning: DataFrame is highly fragmented.  This is usually the result of calling `frame.insert` many times, which has poor performance.  Consider joining all columns at once using pd.concat(axis=1) instead. To get a de-fragmented frame, use `newframe = frame.copy()`\n",
      "  evaluation_1[f\"{col}_pred\"]= evaluation_1[col].shift(STATIONARY_SHIFT) + yhat_unscaled_df[f\"{col}_pred\"]\n",
      "/var/folders/ys/lj6w647n5qjdv23zdxs_fn740000gn/T/ipykernel_83941/4009267436.py:2: PerformanceWarning: DataFrame is highly fragmented.  This is usually the result of calling `frame.insert` many times, which has poor performance.  Consider joining all columns at once using pd.concat(axis=1) instead. To get a de-fragmented frame, use `newframe = frame.copy()`\n",
      "  evaluation_1[f\"{col}_pred\"]= evaluation_1[col].shift(STATIONARY_SHIFT) + yhat_unscaled_df[f\"{col}_pred\"]\n"
     ]
    },
    {
     "data": {
      "text/plain": "                     WDIR_42001  WSPD_42001  PRES_42001  ATMP_42001  \\\n2022-12-31 00:00:00       189.0         5.0      1013.5        25.2   \n2022-12-31 01:00:00       203.0         5.6      1013.8        24.7   \n2022-12-31 02:00:00       169.0         2.3      1014.5        24.8   \n2022-12-31 03:00:00        53.0         6.0      1014.8        22.7   \n2022-12-31 04:00:00        55.0         8.5      1015.2        22.3   \n2022-12-31 05:00:00        72.0         7.6      1014.9        22.6   \n2022-12-31 06:00:00        77.0         7.2      1014.4        23.0   \n2022-12-31 07:00:00        97.0         7.8      1014.1        23.1   \n2022-12-31 08:00:00       148.0         3.3      1013.9        24.4   \n2022-12-31 09:00:00       195.0         5.4      1014.0        25.0   \n2022-12-31 10:00:00       223.0         5.1      1014.4        25.0   \n2022-12-31 11:00:00        18.0         3.3      1015.0        22.6   \n2022-12-31 12:00:00       115.0         2.1      1014.9        23.2   \n2022-12-31 13:00:00        31.0         0.9      1015.4        23.6   \n2022-12-31 14:00:00        97.0         0.8      1015.9        24.5   \n2022-12-31 15:00:00       113.0         1.9      1016.6        24.4   \n2022-12-31 16:00:00       124.0         0.8      1017.1        24.6   \n2022-12-31 17:00:00       107.0         1.1      1016.6        24.9   \n2022-12-31 18:00:00       147.0         1.1      1015.9        25.1   \n2022-12-31 19:00:00       195.0         0.5      1015.0        25.6   \n2022-12-31 20:00:00       210.0         1.0      1015.0        25.3   \n2022-12-31 21:00:00       231.0         0.6      1014.7        26.4   \n2022-12-31 22:00:00        18.0         0.7      1014.9        25.4   \n2022-12-31 23:00:00        68.0         1.6      1015.0        25.0   \n\n                     WTMP_42001  DEWP_42001  WDIR_42002  WSPD_42002  \\\n2022-12-31 00:00:00        24.3        24.5       333.0         5.6   \n2022-12-31 01:00:00        24.3        23.5       359.0         4.6   \n2022-12-31 02:00:00        24.3        24.4        18.0         4.2   \n2022-12-31 03:00:00        24.4        22.1        51.0         4.0   \n2022-12-31 04:00:00        24.4        21.9        69.0         3.1   \n2022-12-31 05:00:00        24.3        22.1        89.0         3.7   \n2022-12-31 06:00:00        24.4        23.0       118.0         2.6   \n2022-12-31 07:00:00        24.4        23.0       151.0         2.8   \n2022-12-31 08:00:00        24.4        24.3       195.0         1.2   \n2022-12-31 09:00:00        24.4        24.6       207.0         2.3   \n2022-12-31 10:00:00        24.4        24.6       194.0         2.2   \n2022-12-31 11:00:00        24.3        22.0       217.0         2.7   \n2022-12-31 12:00:00        24.3        22.4       253.0         3.3   \n2022-12-31 13:00:00        24.4        22.7       273.0         2.9   \n2022-12-31 14:00:00        24.4        23.0       322.0         4.7   \n2022-12-31 15:00:00        24.3        23.6       322.0         3.2   \n2022-12-31 16:00:00        24.4        23.8       316.0         1.3   \n2022-12-31 17:00:00        24.4        23.9       104.0         0.0   \n2022-12-31 18:00:00        24.5        24.3        42.0         0.5   \n2022-12-31 19:00:00        24.7        24.5        22.0         0.6   \n2022-12-31 20:00:00        24.5        24.3        88.0         1.2   \n2022-12-31 21:00:00        24.7        24.4        87.0         1.7   \n2022-12-31 22:00:00        24.7        24.1        90.0         2.5   \n2022-12-31 23:00:00        24.5        24.3       116.0         3.7   \n\n                     PRES_42002  ATMP_42002  ...  WDIR_42039_ERA5_pred  \\\n2022-12-31 00:00:00      1012.3        24.6  ...            113.839604   \n2022-12-31 01:00:00      1012.9        24.6  ...            108.219584   \n2022-12-31 02:00:00      1013.5        24.7  ...             97.579543   \n2022-12-31 03:00:00      1014.1        24.5  ...             84.737236   \n2022-12-31 04:00:00      1014.4        24.3  ...             70.786955   \n2022-12-31 05:00:00      1014.4        24.3  ...             61.706639   \n2022-12-31 06:00:00      1014.5        24.4  ...             65.375044   \n2022-12-31 07:00:00      1014.6        24.5  ...             77.504486   \n2022-12-31 08:00:00      1014.8        24.6  ...             81.232386   \n2022-12-31 09:00:00      1014.4        24.5  ...             77.312451   \n2022-12-31 10:00:00      1014.4        24.6  ...             68.610364   \n2022-12-31 11:00:00      1014.9        24.6  ...             36.930869   \n2022-12-31 12:00:00      1015.4        24.6  ...             42.893458   \n2022-12-31 13:00:00      1016.0        24.6  ...             57.311780   \n2022-12-31 14:00:00      1016.6        24.5  ...             67.422904   \n2022-12-31 15:00:00      1017.2        24.6  ...             63.849633   \n2022-12-31 16:00:00      1017.8        24.7  ...             59.993384   \n2022-12-31 17:00:00      1017.7        25.8  ...             54.036324   \n2022-12-31 18:00:00      1016.8        25.5  ...             42.632559   \n2022-12-31 19:00:00      1015.9        25.1  ...             33.267004   \n2022-12-31 20:00:00      1015.4        24.7  ...             28.173529   \n2022-12-31 21:00:00      1014.9        24.6  ...             22.941580   \n2022-12-31 22:00:00      1014.9        24.5  ...             14.618159   \n2022-12-31 23:00:00      1015.0        24.5  ...             20.337247   \n\n                     WSPD_42039_ERA5_pred  ATMP_42039_ERA5_pred  \\\n2022-12-31 00:00:00             10.543263             23.925626   \n2022-12-31 01:00:00             10.135193             24.109868   \n2022-12-31 02:00:00              9.796511             24.010157   \n2022-12-31 03:00:00             10.330807             22.950001   \n2022-12-31 04:00:00             11.008990             23.051497   \n2022-12-31 05:00:00              9.970663             23.788853   \n2022-12-31 06:00:00              9.255761             24.011504   \n2022-12-31 07:00:00              8.759750             23.992648   \n2022-12-31 08:00:00              9.030461             24.085041   \n2022-12-31 09:00:00              9.595243             24.310994   \n2022-12-31 10:00:00              9.270296             24.460584   \n2022-12-31 11:00:00              7.138840             23.908906   \n2022-12-31 12:00:00              6.912163             23.868069   \n2022-12-31 13:00:00              7.748500             23.215583   \n2022-12-31 14:00:00              8.993229             23.772812   \n2022-12-31 15:00:00              9.734591             24.184319   \n2022-12-31 16:00:00              8.940614             24.248346   \n2022-12-31 17:00:00              8.179966             22.965213   \n2022-12-31 18:00:00              8.044057             22.704858   \n2022-12-31 19:00:00              8.413709             22.619045   \n2022-12-31 20:00:00              8.601197             22.714915   \n2022-12-31 21:00:00              7.734522             22.553690   \n2022-12-31 22:00:00              6.486378             22.369378   \n2022-12-31 23:00:00              3.295751             24.059617   \n\n                     WSPD_42035_ERA5_pred  WSPD_42001_ERA5_pred  \\\n2022-12-31 00:00:00              2.637827              5.695906   \n2022-12-31 01:00:00              3.288728              5.689742   \n2022-12-31 02:00:00              4.020354              6.517366   \n2022-12-31 03:00:00              3.109430              7.076032   \n2022-12-31 04:00:00              1.763439              7.697326   \n2022-12-31 05:00:00              1.617232              7.698606   \n2022-12-31 06:00:00              1.975891              7.532228   \n2022-12-31 07:00:00              2.836607              7.443806   \n2022-12-31 08:00:00              3.888268              7.308278   \n2022-12-31 09:00:00              3.861645              7.341240   \n2022-12-31 10:00:00              3.649804              7.795126   \n2022-12-31 11:00:00              3.741866              4.551145   \n2022-12-31 12:00:00              3.438399              3.486942   \n2022-12-31 13:00:00              3.254384              2.700863   \n2022-12-31 14:00:00              3.860834              2.642765   \n2022-12-31 15:00:00              4.579326              2.816520   \n2022-12-31 16:00:00              4.463017              3.012038   \n2022-12-31 17:00:00              4.661677              2.753889   \n2022-12-31 18:00:00              3.945660              2.263624   \n2022-12-31 19:00:00              3.032533              2.417355   \n2022-12-31 20:00:00              2.533078              1.354446   \n2022-12-31 21:00:00              2.674531              1.433971   \n2022-12-31 22:00:00              3.154058              2.386321   \n2022-12-31 23:00:00              3.475459              1.912508   \n\n                     DEWP_42020_ERA5_pred  ATMP_42019_ERA5_pred  \\\n2022-12-31 00:00:00             18.450298             19.871500   \n2022-12-31 01:00:00             18.247033             20.008756   \n2022-12-31 02:00:00             17.794824             20.079661   \n2022-12-31 03:00:00             17.450112             20.149160   \n2022-12-31 04:00:00             17.277469             20.045444   \n2022-12-31 05:00:00             17.077521             19.825319   \n2022-12-31 06:00:00             16.896417             19.693023   \n2022-12-31 07:00:00             16.682751             19.666361   \n2022-12-31 08:00:00             16.582474             19.684238   \n2022-12-31 09:00:00             16.565797             19.630534   \n2022-12-31 10:00:00             16.595056             19.550469   \n2022-12-31 11:00:00             18.005453             19.940239   \n2022-12-31 12:00:00             17.927449             20.123698   \n2022-12-31 13:00:00             17.938452             20.289709   \n2022-12-31 14:00:00             18.015829             20.527496   \n2022-12-31 15:00:00             18.187695             20.764036   \n2022-12-31 16:00:00             18.375785             20.971441   \n2022-12-31 17:00:00             18.532525             21.216593   \n2022-12-31 18:00:00             18.917207             21.423880   \n2022-12-31 19:00:00             19.269210             21.658775   \n2022-12-31 20:00:00             19.322739             21.846271   \n2022-12-31 21:00:00             19.243165             22.051631   \n2022-12-31 22:00:00             19.335641             22.259537   \n2022-12-31 23:00:00             18.565190             22.100709   \n\n                     WTMP_42039_ERA5_pred  WSPD_42002_ERA5_pred  \\\n2022-12-31 00:00:00             24.397536              3.654365   \n2022-12-31 01:00:00             24.394419              1.421128   \n2022-12-31 02:00:00             24.390235              1.131724   \n2022-12-31 03:00:00             24.386105              1.606576   \n2022-12-31 04:00:00             24.386122              1.846616   \n2022-12-31 05:00:00             24.386627              2.378590   \n2022-12-31 06:00:00             24.389489              3.351278   \n2022-12-31 07:00:00             24.389570              4.302353   \n2022-12-31 08:00:00             24.391739              4.522405   \n2022-12-31 09:00:00             24.394075              4.234256   \n2022-12-31 10:00:00             24.387491              4.020193   \n2022-12-31 11:00:00             24.396680              2.935096   \n2022-12-31 12:00:00             24.398673              2.580595   \n2022-12-31 13:00:00             24.395870              2.803861   \n2022-12-31 14:00:00             24.392512              3.090561   \n2022-12-31 15:00:00             24.393240              3.032102   \n2022-12-31 16:00:00             24.389146              2.108694   \n2022-12-31 17:00:00             24.388499              0.922782   \n2022-12-31 18:00:00             24.387706              0.332114   \n2022-12-31 19:00:00             24.382996              0.612839   \n2022-12-31 20:00:00             24.392345              1.062034   \n2022-12-31 21:00:00             24.396809              1.332577   \n2022-12-31 22:00:00             24.398449              1.774885   \n2022-12-31 23:00:00             24.891381              2.487007   \n\n                     PRES_42039_ERA5_pred  \n2022-12-31 00:00:00           1015.149021  \n2022-12-31 01:00:00           1015.756191  \n2022-12-31 02:00:00           1016.326552  \n2022-12-31 03:00:00           1016.785202  \n2022-12-31 04:00:00           1017.051089  \n2022-12-31 05:00:00           1017.189909  \n2022-12-31 06:00:00           1016.690277  \n2022-12-31 07:00:00           1016.108796  \n2022-12-31 08:00:00           1015.493202  \n2022-12-31 09:00:00           1015.054608  \n2022-12-31 10:00:00           1015.002960  \n2022-12-31 11:00:00           1015.374743  \n2022-12-31 12:00:00           1015.804670  \n2022-12-31 13:00:00           1016.458735  \n2022-12-31 14:00:00           1016.537211  \n2022-12-31 15:00:00           1017.260287  \n2022-12-31 16:00:00           1017.933427  \n2022-12-31 17:00:00           1018.295952  \n2022-12-31 18:00:00           1017.861174  \n2022-12-31 19:00:00           1017.231739  \n2022-12-31 20:00:00           1016.581053  \n2022-12-31 21:00:00           1016.365483  \n2022-12-31 22:00:00           1016.189650  \n2022-12-31 23:00:00           1017.070473  \n\n[24 rows x 208 columns]",
      "text/html": "<div>\n<style scoped>\n    .dataframe tbody tr th:only-of-type {\n        vertical-align: middle;\n    }\n\n    .dataframe tbody tr th {\n        vertical-align: top;\n    }\n\n    .dataframe thead th {\n        text-align: right;\n    }\n</style>\n<table border=\"1\" class=\"dataframe\">\n  <thead>\n    <tr style=\"text-align: right;\">\n      <th></th>\n      <th>WDIR_42001</th>\n      <th>WSPD_42001</th>\n      <th>PRES_42001</th>\n      <th>ATMP_42001</th>\n      <th>WTMP_42001</th>\n      <th>DEWP_42001</th>\n      <th>WDIR_42002</th>\n      <th>WSPD_42002</th>\n      <th>PRES_42002</th>\n      <th>ATMP_42002</th>\n      <th>...</th>\n      <th>WDIR_42039_ERA5_pred</th>\n      <th>WSPD_42039_ERA5_pred</th>\n      <th>ATMP_42039_ERA5_pred</th>\n      <th>WSPD_42035_ERA5_pred</th>\n      <th>WSPD_42001_ERA5_pred</th>\n      <th>DEWP_42020_ERA5_pred</th>\n      <th>ATMP_42019_ERA5_pred</th>\n      <th>WTMP_42039_ERA5_pred</th>\n      <th>WSPD_42002_ERA5_pred</th>\n      <th>PRES_42039_ERA5_pred</th>\n    </tr>\n  </thead>\n  <tbody>\n    <tr>\n      <th>2022-12-31 00:00:00</th>\n      <td>189.0</td>\n      <td>5.0</td>\n      <td>1013.5</td>\n      <td>25.2</td>\n      <td>24.3</td>\n      <td>24.5</td>\n      <td>333.0</td>\n      <td>5.6</td>\n      <td>1012.3</td>\n      <td>24.6</td>\n      <td>...</td>\n      <td>113.839604</td>\n      <td>10.543263</td>\n      <td>23.925626</td>\n      <td>2.637827</td>\n      <td>5.695906</td>\n      <td>18.450298</td>\n      <td>19.871500</td>\n      <td>24.397536</td>\n      <td>3.654365</td>\n      <td>1015.149021</td>\n    </tr>\n    <tr>\n      <th>2022-12-31 01:00:00</th>\n      <td>203.0</td>\n      <td>5.6</td>\n      <td>1013.8</td>\n      <td>24.7</td>\n      <td>24.3</td>\n      <td>23.5</td>\n      <td>359.0</td>\n      <td>4.6</td>\n      <td>1012.9</td>\n      <td>24.6</td>\n      <td>...</td>\n      <td>108.219584</td>\n      <td>10.135193</td>\n      <td>24.109868</td>\n      <td>3.288728</td>\n      <td>5.689742</td>\n      <td>18.247033</td>\n      <td>20.008756</td>\n      <td>24.394419</td>\n      <td>1.421128</td>\n      <td>1015.756191</td>\n    </tr>\n    <tr>\n      <th>2022-12-31 02:00:00</th>\n      <td>169.0</td>\n      <td>2.3</td>\n      <td>1014.5</td>\n      <td>24.8</td>\n      <td>24.3</td>\n      <td>24.4</td>\n      <td>18.0</td>\n      <td>4.2</td>\n      <td>1013.5</td>\n      <td>24.7</td>\n      <td>...</td>\n      <td>97.579543</td>\n      <td>9.796511</td>\n      <td>24.010157</td>\n      <td>4.020354</td>\n      <td>6.517366</td>\n      <td>17.794824</td>\n      <td>20.079661</td>\n      <td>24.390235</td>\n      <td>1.131724</td>\n      <td>1016.326552</td>\n    </tr>\n    <tr>\n      <th>2022-12-31 03:00:00</th>\n      <td>53.0</td>\n      <td>6.0</td>\n      <td>1014.8</td>\n      <td>22.7</td>\n      <td>24.4</td>\n      <td>22.1</td>\n      <td>51.0</td>\n      <td>4.0</td>\n      <td>1014.1</td>\n      <td>24.5</td>\n      <td>...</td>\n      <td>84.737236</td>\n      <td>10.330807</td>\n      <td>22.950001</td>\n      <td>3.109430</td>\n      <td>7.076032</td>\n      <td>17.450112</td>\n      <td>20.149160</td>\n      <td>24.386105</td>\n      <td>1.606576</td>\n      <td>1016.785202</td>\n    </tr>\n    <tr>\n      <th>2022-12-31 04:00:00</th>\n      <td>55.0</td>\n      <td>8.5</td>\n      <td>1015.2</td>\n      <td>22.3</td>\n      <td>24.4</td>\n      <td>21.9</td>\n      <td>69.0</td>\n      <td>3.1</td>\n      <td>1014.4</td>\n      <td>24.3</td>\n      <td>...</td>\n      <td>70.786955</td>\n      <td>11.008990</td>\n      <td>23.051497</td>\n      <td>1.763439</td>\n      <td>7.697326</td>\n      <td>17.277469</td>\n      <td>20.045444</td>\n      <td>24.386122</td>\n      <td>1.846616</td>\n      <td>1017.051089</td>\n    </tr>\n    <tr>\n      <th>2022-12-31 05:00:00</th>\n      <td>72.0</td>\n      <td>7.6</td>\n      <td>1014.9</td>\n      <td>22.6</td>\n      <td>24.3</td>\n      <td>22.1</td>\n      <td>89.0</td>\n      <td>3.7</td>\n      <td>1014.4</td>\n      <td>24.3</td>\n      <td>...</td>\n      <td>61.706639</td>\n      <td>9.970663</td>\n      <td>23.788853</td>\n      <td>1.617232</td>\n      <td>7.698606</td>\n      <td>17.077521</td>\n      <td>19.825319</td>\n      <td>24.386627</td>\n      <td>2.378590</td>\n      <td>1017.189909</td>\n    </tr>\n    <tr>\n      <th>2022-12-31 06:00:00</th>\n      <td>77.0</td>\n      <td>7.2</td>\n      <td>1014.4</td>\n      <td>23.0</td>\n      <td>24.4</td>\n      <td>23.0</td>\n      <td>118.0</td>\n      <td>2.6</td>\n      <td>1014.5</td>\n      <td>24.4</td>\n      <td>...</td>\n      <td>65.375044</td>\n      <td>9.255761</td>\n      <td>24.011504</td>\n      <td>1.975891</td>\n      <td>7.532228</td>\n      <td>16.896417</td>\n      <td>19.693023</td>\n      <td>24.389489</td>\n      <td>3.351278</td>\n      <td>1016.690277</td>\n    </tr>\n    <tr>\n      <th>2022-12-31 07:00:00</th>\n      <td>97.0</td>\n      <td>7.8</td>\n      <td>1014.1</td>\n      <td>23.1</td>\n      <td>24.4</td>\n      <td>23.0</td>\n      <td>151.0</td>\n      <td>2.8</td>\n      <td>1014.6</td>\n      <td>24.5</td>\n      <td>...</td>\n      <td>77.504486</td>\n      <td>8.759750</td>\n      <td>23.992648</td>\n      <td>2.836607</td>\n      <td>7.443806</td>\n      <td>16.682751</td>\n      <td>19.666361</td>\n      <td>24.389570</td>\n      <td>4.302353</td>\n      <td>1016.108796</td>\n    </tr>\n    <tr>\n      <th>2022-12-31 08:00:00</th>\n      <td>148.0</td>\n      <td>3.3</td>\n      <td>1013.9</td>\n      <td>24.4</td>\n      <td>24.4</td>\n      <td>24.3</td>\n      <td>195.0</td>\n      <td>1.2</td>\n      <td>1014.8</td>\n      <td>24.6</td>\n      <td>...</td>\n      <td>81.232386</td>\n      <td>9.030461</td>\n      <td>24.085041</td>\n      <td>3.888268</td>\n      <td>7.308278</td>\n      <td>16.582474</td>\n      <td>19.684238</td>\n      <td>24.391739</td>\n      <td>4.522405</td>\n      <td>1015.493202</td>\n    </tr>\n    <tr>\n      <th>2022-12-31 09:00:00</th>\n      <td>195.0</td>\n      <td>5.4</td>\n      <td>1014.0</td>\n      <td>25.0</td>\n      <td>24.4</td>\n      <td>24.6</td>\n      <td>207.0</td>\n      <td>2.3</td>\n      <td>1014.4</td>\n      <td>24.5</td>\n      <td>...</td>\n      <td>77.312451</td>\n      <td>9.595243</td>\n      <td>24.310994</td>\n      <td>3.861645</td>\n      <td>7.341240</td>\n      <td>16.565797</td>\n      <td>19.630534</td>\n      <td>24.394075</td>\n      <td>4.234256</td>\n      <td>1015.054608</td>\n    </tr>\n    <tr>\n      <th>2022-12-31 10:00:00</th>\n      <td>223.0</td>\n      <td>5.1</td>\n      <td>1014.4</td>\n      <td>25.0</td>\n      <td>24.4</td>\n      <td>24.6</td>\n      <td>194.0</td>\n      <td>2.2</td>\n      <td>1014.4</td>\n      <td>24.6</td>\n      <td>...</td>\n      <td>68.610364</td>\n      <td>9.270296</td>\n      <td>24.460584</td>\n      <td>3.649804</td>\n      <td>7.795126</td>\n      <td>16.595056</td>\n      <td>19.550469</td>\n      <td>24.387491</td>\n      <td>4.020193</td>\n      <td>1015.002960</td>\n    </tr>\n    <tr>\n      <th>2022-12-31 11:00:00</th>\n      <td>18.0</td>\n      <td>3.3</td>\n      <td>1015.0</td>\n      <td>22.6</td>\n      <td>24.3</td>\n      <td>22.0</td>\n      <td>217.0</td>\n      <td>2.7</td>\n      <td>1014.9</td>\n      <td>24.6</td>\n      <td>...</td>\n      <td>36.930869</td>\n      <td>7.138840</td>\n      <td>23.908906</td>\n      <td>3.741866</td>\n      <td>4.551145</td>\n      <td>18.005453</td>\n      <td>19.940239</td>\n      <td>24.396680</td>\n      <td>2.935096</td>\n      <td>1015.374743</td>\n    </tr>\n    <tr>\n      <th>2022-12-31 12:00:00</th>\n      <td>115.0</td>\n      <td>2.1</td>\n      <td>1014.9</td>\n      <td>23.2</td>\n      <td>24.3</td>\n      <td>22.4</td>\n      <td>253.0</td>\n      <td>3.3</td>\n      <td>1015.4</td>\n      <td>24.6</td>\n      <td>...</td>\n      <td>42.893458</td>\n      <td>6.912163</td>\n      <td>23.868069</td>\n      <td>3.438399</td>\n      <td>3.486942</td>\n      <td>17.927449</td>\n      <td>20.123698</td>\n      <td>24.398673</td>\n      <td>2.580595</td>\n      <td>1015.804670</td>\n    </tr>\n    <tr>\n      <th>2022-12-31 13:00:00</th>\n      <td>31.0</td>\n      <td>0.9</td>\n      <td>1015.4</td>\n      <td>23.6</td>\n      <td>24.4</td>\n      <td>22.7</td>\n      <td>273.0</td>\n      <td>2.9</td>\n      <td>1016.0</td>\n      <td>24.6</td>\n      <td>...</td>\n      <td>57.311780</td>\n      <td>7.748500</td>\n      <td>23.215583</td>\n      <td>3.254384</td>\n      <td>2.700863</td>\n      <td>17.938452</td>\n      <td>20.289709</td>\n      <td>24.395870</td>\n      <td>2.803861</td>\n      <td>1016.458735</td>\n    </tr>\n    <tr>\n      <th>2022-12-31 14:00:00</th>\n      <td>97.0</td>\n      <td>0.8</td>\n      <td>1015.9</td>\n      <td>24.5</td>\n      <td>24.4</td>\n      <td>23.0</td>\n      <td>322.0</td>\n      <td>4.7</td>\n      <td>1016.6</td>\n      <td>24.5</td>\n      <td>...</td>\n      <td>67.422904</td>\n      <td>8.993229</td>\n      <td>23.772812</td>\n      <td>3.860834</td>\n      <td>2.642765</td>\n      <td>18.015829</td>\n      <td>20.527496</td>\n      <td>24.392512</td>\n      <td>3.090561</td>\n      <td>1016.537211</td>\n    </tr>\n    <tr>\n      <th>2022-12-31 15:00:00</th>\n      <td>113.0</td>\n      <td>1.9</td>\n      <td>1016.6</td>\n      <td>24.4</td>\n      <td>24.3</td>\n      <td>23.6</td>\n      <td>322.0</td>\n      <td>3.2</td>\n      <td>1017.2</td>\n      <td>24.6</td>\n      <td>...</td>\n      <td>63.849633</td>\n      <td>9.734591</td>\n      <td>24.184319</td>\n      <td>4.579326</td>\n      <td>2.816520</td>\n      <td>18.187695</td>\n      <td>20.764036</td>\n      <td>24.393240</td>\n      <td>3.032102</td>\n      <td>1017.260287</td>\n    </tr>\n    <tr>\n      <th>2022-12-31 16:00:00</th>\n      <td>124.0</td>\n      <td>0.8</td>\n      <td>1017.1</td>\n      <td>24.6</td>\n      <td>24.4</td>\n      <td>23.8</td>\n      <td>316.0</td>\n      <td>1.3</td>\n      <td>1017.8</td>\n      <td>24.7</td>\n      <td>...</td>\n      <td>59.993384</td>\n      <td>8.940614</td>\n      <td>24.248346</td>\n      <td>4.463017</td>\n      <td>3.012038</td>\n      <td>18.375785</td>\n      <td>20.971441</td>\n      <td>24.389146</td>\n      <td>2.108694</td>\n      <td>1017.933427</td>\n    </tr>\n    <tr>\n      <th>2022-12-31 17:00:00</th>\n      <td>107.0</td>\n      <td>1.1</td>\n      <td>1016.6</td>\n      <td>24.9</td>\n      <td>24.4</td>\n      <td>23.9</td>\n      <td>104.0</td>\n      <td>0.0</td>\n      <td>1017.7</td>\n      <td>25.8</td>\n      <td>...</td>\n      <td>54.036324</td>\n      <td>8.179966</td>\n      <td>22.965213</td>\n      <td>4.661677</td>\n      <td>2.753889</td>\n      <td>18.532525</td>\n      <td>21.216593</td>\n      <td>24.388499</td>\n      <td>0.922782</td>\n      <td>1018.295952</td>\n    </tr>\n    <tr>\n      <th>2022-12-31 18:00:00</th>\n      <td>147.0</td>\n      <td>1.1</td>\n      <td>1015.9</td>\n      <td>25.1</td>\n      <td>24.5</td>\n      <td>24.3</td>\n      <td>42.0</td>\n      <td>0.5</td>\n      <td>1016.8</td>\n      <td>25.5</td>\n      <td>...</td>\n      <td>42.632559</td>\n      <td>8.044057</td>\n      <td>22.704858</td>\n      <td>3.945660</td>\n      <td>2.263624</td>\n      <td>18.917207</td>\n      <td>21.423880</td>\n      <td>24.387706</td>\n      <td>0.332114</td>\n      <td>1017.861174</td>\n    </tr>\n    <tr>\n      <th>2022-12-31 19:00:00</th>\n      <td>195.0</td>\n      <td>0.5</td>\n      <td>1015.0</td>\n      <td>25.6</td>\n      <td>24.7</td>\n      <td>24.5</td>\n      <td>22.0</td>\n      <td>0.6</td>\n      <td>1015.9</td>\n      <td>25.1</td>\n      <td>...</td>\n      <td>33.267004</td>\n      <td>8.413709</td>\n      <td>22.619045</td>\n      <td>3.032533</td>\n      <td>2.417355</td>\n      <td>19.269210</td>\n      <td>21.658775</td>\n      <td>24.382996</td>\n      <td>0.612839</td>\n      <td>1017.231739</td>\n    </tr>\n    <tr>\n      <th>2022-12-31 20:00:00</th>\n      <td>210.0</td>\n      <td>1.0</td>\n      <td>1015.0</td>\n      <td>25.3</td>\n      <td>24.5</td>\n      <td>24.3</td>\n      <td>88.0</td>\n      <td>1.2</td>\n      <td>1015.4</td>\n      <td>24.7</td>\n      <td>...</td>\n      <td>28.173529</td>\n      <td>8.601197</td>\n      <td>22.714915</td>\n      <td>2.533078</td>\n      <td>1.354446</td>\n      <td>19.322739</td>\n      <td>21.846271</td>\n      <td>24.392345</td>\n      <td>1.062034</td>\n      <td>1016.581053</td>\n    </tr>\n    <tr>\n      <th>2022-12-31 21:00:00</th>\n      <td>231.0</td>\n      <td>0.6</td>\n      <td>1014.7</td>\n      <td>26.4</td>\n      <td>24.7</td>\n      <td>24.4</td>\n      <td>87.0</td>\n      <td>1.7</td>\n      <td>1014.9</td>\n      <td>24.6</td>\n      <td>...</td>\n      <td>22.941580</td>\n      <td>7.734522</td>\n      <td>22.553690</td>\n      <td>2.674531</td>\n      <td>1.433971</td>\n      <td>19.243165</td>\n      <td>22.051631</td>\n      <td>24.396809</td>\n      <td>1.332577</td>\n      <td>1016.365483</td>\n    </tr>\n    <tr>\n      <th>2022-12-31 22:00:00</th>\n      <td>18.0</td>\n      <td>0.7</td>\n      <td>1014.9</td>\n      <td>25.4</td>\n      <td>24.7</td>\n      <td>24.1</td>\n      <td>90.0</td>\n      <td>2.5</td>\n      <td>1014.9</td>\n      <td>24.5</td>\n      <td>...</td>\n      <td>14.618159</td>\n      <td>6.486378</td>\n      <td>22.369378</td>\n      <td>3.154058</td>\n      <td>2.386321</td>\n      <td>19.335641</td>\n      <td>22.259537</td>\n      <td>24.398449</td>\n      <td>1.774885</td>\n      <td>1016.189650</td>\n    </tr>\n    <tr>\n      <th>2022-12-31 23:00:00</th>\n      <td>68.0</td>\n      <td>1.6</td>\n      <td>1015.0</td>\n      <td>25.0</td>\n      <td>24.5</td>\n      <td>24.3</td>\n      <td>116.0</td>\n      <td>3.7</td>\n      <td>1015.0</td>\n      <td>24.5</td>\n      <td>...</td>\n      <td>20.337247</td>\n      <td>3.295751</td>\n      <td>24.059617</td>\n      <td>3.475459</td>\n      <td>1.912508</td>\n      <td>18.565190</td>\n      <td>22.100709</td>\n      <td>24.891381</td>\n      <td>2.487007</td>\n      <td>1017.070473</td>\n    </tr>\n  </tbody>\n</table>\n<p>24 rows × 208 columns</p>\n</div>"
     },
     "execution_count": 20,
     "metadata": {},
     "output_type": "execute_result"
    }
   ],
   "source": [
    "for col in evaluation_1.columns:\n",
    "    evaluation_1[f\"{col}_pred\"]= evaluation_1[col].shift(STATIONARY_SHIFT) + yhat_unscaled_df[f\"{col}_pred\"]\n",
    "\n",
    "evaluation_1 = evaluation_1.iloc[STATIONARY_SHIFT:]  # remove first n entries since there is no delta value for them\n",
    "evaluation_1"
   ]
  },
  {
   "cell_type": "markdown",
   "source": [
    "# Correct wind direction (modulo 360)"
   ],
   "metadata": {
    "collapsed": false,
    "pycharm": {
     "name": "#%% md\n"
    }
   }
  },
  {
   "cell_type": "code",
   "execution_count": 21,
   "outputs": [
    {
     "name": "stderr",
     "output_type": "stream",
     "text": [
      "/var/folders/ys/lj6w647n5qjdv23zdxs_fn740000gn/T/ipykernel_83941/1134168289.py:5: SettingWithCopyWarning: \n",
      "A value is trying to be set on a copy of a slice from a DataFrame.\n",
      "Try using .loc[row_indexer,col_indexer] = value instead\n",
      "\n",
      "See the caveats in the documentation: https://pandas.pydata.org/pandas-docs/stable/user_guide/indexing.html#returning-a-view-versus-a-copy\n",
      "  evaluation_1[wdir_columns] = evaluation_1[wdir_columns] % 360\n"
     ]
    },
    {
     "data": {
      "text/plain": "                     WDIR_42001  WSPD_42001  PRES_42001  ATMP_42001  \\\n2022-12-31 00:00:00       189.0         5.0      1013.5        25.2   \n2022-12-31 01:00:00       203.0         5.6      1013.8        24.7   \n2022-12-31 02:00:00       169.0         2.3      1014.5        24.8   \n2022-12-31 03:00:00        53.0         6.0      1014.8        22.7   \n2022-12-31 04:00:00        55.0         8.5      1015.2        22.3   \n2022-12-31 05:00:00        72.0         7.6      1014.9        22.6   \n2022-12-31 06:00:00        77.0         7.2      1014.4        23.0   \n2022-12-31 07:00:00        97.0         7.8      1014.1        23.1   \n2022-12-31 08:00:00       148.0         3.3      1013.9        24.4   \n2022-12-31 09:00:00       195.0         5.4      1014.0        25.0   \n2022-12-31 10:00:00       223.0         5.1      1014.4        25.0   \n2022-12-31 11:00:00        18.0         3.3      1015.0        22.6   \n2022-12-31 12:00:00       115.0         2.1      1014.9        23.2   \n2022-12-31 13:00:00        31.0         0.9      1015.4        23.6   \n2022-12-31 14:00:00        97.0         0.8      1015.9        24.5   \n2022-12-31 15:00:00       113.0         1.9      1016.6        24.4   \n2022-12-31 16:00:00       124.0         0.8      1017.1        24.6   \n2022-12-31 17:00:00       107.0         1.1      1016.6        24.9   \n2022-12-31 18:00:00       147.0         1.1      1015.9        25.1   \n2022-12-31 19:00:00       195.0         0.5      1015.0        25.6   \n2022-12-31 20:00:00       210.0         1.0      1015.0        25.3   \n2022-12-31 21:00:00       231.0         0.6      1014.7        26.4   \n2022-12-31 22:00:00        18.0         0.7      1014.9        25.4   \n2022-12-31 23:00:00        68.0         1.6      1015.0        25.0   \n\n                     WTMP_42001  DEWP_42001  WDIR_42002  WSPD_42002  \\\n2022-12-31 00:00:00        24.3        24.5       333.0         5.6   \n2022-12-31 01:00:00        24.3        23.5       359.0         4.6   \n2022-12-31 02:00:00        24.3        24.4        18.0         4.2   \n2022-12-31 03:00:00        24.4        22.1        51.0         4.0   \n2022-12-31 04:00:00        24.4        21.9        69.0         3.1   \n2022-12-31 05:00:00        24.3        22.1        89.0         3.7   \n2022-12-31 06:00:00        24.4        23.0       118.0         2.6   \n2022-12-31 07:00:00        24.4        23.0       151.0         2.8   \n2022-12-31 08:00:00        24.4        24.3       195.0         1.2   \n2022-12-31 09:00:00        24.4        24.6       207.0         2.3   \n2022-12-31 10:00:00        24.4        24.6       194.0         2.2   \n2022-12-31 11:00:00        24.3        22.0       217.0         2.7   \n2022-12-31 12:00:00        24.3        22.4       253.0         3.3   \n2022-12-31 13:00:00        24.4        22.7       273.0         2.9   \n2022-12-31 14:00:00        24.4        23.0       322.0         4.7   \n2022-12-31 15:00:00        24.3        23.6       322.0         3.2   \n2022-12-31 16:00:00        24.4        23.8       316.0         1.3   \n2022-12-31 17:00:00        24.4        23.9       104.0         0.0   \n2022-12-31 18:00:00        24.5        24.3        42.0         0.5   \n2022-12-31 19:00:00        24.7        24.5        22.0         0.6   \n2022-12-31 20:00:00        24.5        24.3        88.0         1.2   \n2022-12-31 21:00:00        24.7        24.4        87.0         1.7   \n2022-12-31 22:00:00        24.7        24.1        90.0         2.5   \n2022-12-31 23:00:00        24.5        24.3       116.0         3.7   \n\n                     PRES_42002  ATMP_42002  ...  WDIR_42039_ERA5_pred  \\\n2022-12-31 00:00:00      1012.3        24.6  ...            113.839604   \n2022-12-31 01:00:00      1012.9        24.6  ...            108.219584   \n2022-12-31 02:00:00      1013.5        24.7  ...             97.579543   \n2022-12-31 03:00:00      1014.1        24.5  ...             84.737236   \n2022-12-31 04:00:00      1014.4        24.3  ...             70.786955   \n2022-12-31 05:00:00      1014.4        24.3  ...             61.706639   \n2022-12-31 06:00:00      1014.5        24.4  ...             65.375044   \n2022-12-31 07:00:00      1014.6        24.5  ...             77.504486   \n2022-12-31 08:00:00      1014.8        24.6  ...             81.232386   \n2022-12-31 09:00:00      1014.4        24.5  ...             77.312451   \n2022-12-31 10:00:00      1014.4        24.6  ...             68.610364   \n2022-12-31 11:00:00      1014.9        24.6  ...             36.930869   \n2022-12-31 12:00:00      1015.4        24.6  ...             42.893458   \n2022-12-31 13:00:00      1016.0        24.6  ...             57.311780   \n2022-12-31 14:00:00      1016.6        24.5  ...             67.422904   \n2022-12-31 15:00:00      1017.2        24.6  ...             63.849633   \n2022-12-31 16:00:00      1017.8        24.7  ...             59.993384   \n2022-12-31 17:00:00      1017.7        25.8  ...             54.036324   \n2022-12-31 18:00:00      1016.8        25.5  ...             42.632559   \n2022-12-31 19:00:00      1015.9        25.1  ...             33.267004   \n2022-12-31 20:00:00      1015.4        24.7  ...             28.173529   \n2022-12-31 21:00:00      1014.9        24.6  ...             22.941580   \n2022-12-31 22:00:00      1014.9        24.5  ...             14.618159   \n2022-12-31 23:00:00      1015.0        24.5  ...             20.337247   \n\n                     WSPD_42039_ERA5_pred  ATMP_42039_ERA5_pred  \\\n2022-12-31 00:00:00             10.543263             23.925626   \n2022-12-31 01:00:00             10.135193             24.109868   \n2022-12-31 02:00:00              9.796511             24.010157   \n2022-12-31 03:00:00             10.330807             22.950001   \n2022-12-31 04:00:00             11.008990             23.051497   \n2022-12-31 05:00:00              9.970663             23.788853   \n2022-12-31 06:00:00              9.255761             24.011504   \n2022-12-31 07:00:00              8.759750             23.992648   \n2022-12-31 08:00:00              9.030461             24.085041   \n2022-12-31 09:00:00              9.595243             24.310994   \n2022-12-31 10:00:00              9.270296             24.460584   \n2022-12-31 11:00:00              7.138840             23.908906   \n2022-12-31 12:00:00              6.912163             23.868069   \n2022-12-31 13:00:00              7.748500             23.215583   \n2022-12-31 14:00:00              8.993229             23.772812   \n2022-12-31 15:00:00              9.734591             24.184319   \n2022-12-31 16:00:00              8.940614             24.248346   \n2022-12-31 17:00:00              8.179966             22.965213   \n2022-12-31 18:00:00              8.044057             22.704858   \n2022-12-31 19:00:00              8.413709             22.619045   \n2022-12-31 20:00:00              8.601197             22.714915   \n2022-12-31 21:00:00              7.734522             22.553690   \n2022-12-31 22:00:00              6.486378             22.369378   \n2022-12-31 23:00:00              3.295751             24.059617   \n\n                     WSPD_42035_ERA5_pred  WSPD_42001_ERA5_pred  \\\n2022-12-31 00:00:00              2.637827              5.695906   \n2022-12-31 01:00:00              3.288728              5.689742   \n2022-12-31 02:00:00              4.020354              6.517366   \n2022-12-31 03:00:00              3.109430              7.076032   \n2022-12-31 04:00:00              1.763439              7.697326   \n2022-12-31 05:00:00              1.617232              7.698606   \n2022-12-31 06:00:00              1.975891              7.532228   \n2022-12-31 07:00:00              2.836607              7.443806   \n2022-12-31 08:00:00              3.888268              7.308278   \n2022-12-31 09:00:00              3.861645              7.341240   \n2022-12-31 10:00:00              3.649804              7.795126   \n2022-12-31 11:00:00              3.741866              4.551145   \n2022-12-31 12:00:00              3.438399              3.486942   \n2022-12-31 13:00:00              3.254384              2.700863   \n2022-12-31 14:00:00              3.860834              2.642765   \n2022-12-31 15:00:00              4.579326              2.816520   \n2022-12-31 16:00:00              4.463017              3.012038   \n2022-12-31 17:00:00              4.661677              2.753889   \n2022-12-31 18:00:00              3.945660              2.263624   \n2022-12-31 19:00:00              3.032533              2.417355   \n2022-12-31 20:00:00              2.533078              1.354446   \n2022-12-31 21:00:00              2.674531              1.433971   \n2022-12-31 22:00:00              3.154058              2.386321   \n2022-12-31 23:00:00              3.475459              1.912508   \n\n                     DEWP_42020_ERA5_pred  ATMP_42019_ERA5_pred  \\\n2022-12-31 00:00:00             18.450298             19.871500   \n2022-12-31 01:00:00             18.247033             20.008756   \n2022-12-31 02:00:00             17.794824             20.079661   \n2022-12-31 03:00:00             17.450112             20.149160   \n2022-12-31 04:00:00             17.277469             20.045444   \n2022-12-31 05:00:00             17.077521             19.825319   \n2022-12-31 06:00:00             16.896417             19.693023   \n2022-12-31 07:00:00             16.682751             19.666361   \n2022-12-31 08:00:00             16.582474             19.684238   \n2022-12-31 09:00:00             16.565797             19.630534   \n2022-12-31 10:00:00             16.595056             19.550469   \n2022-12-31 11:00:00             18.005453             19.940239   \n2022-12-31 12:00:00             17.927449             20.123698   \n2022-12-31 13:00:00             17.938452             20.289709   \n2022-12-31 14:00:00             18.015829             20.527496   \n2022-12-31 15:00:00             18.187695             20.764036   \n2022-12-31 16:00:00             18.375785             20.971441   \n2022-12-31 17:00:00             18.532525             21.216593   \n2022-12-31 18:00:00             18.917207             21.423880   \n2022-12-31 19:00:00             19.269210             21.658775   \n2022-12-31 20:00:00             19.322739             21.846271   \n2022-12-31 21:00:00             19.243165             22.051631   \n2022-12-31 22:00:00             19.335641             22.259537   \n2022-12-31 23:00:00             18.565190             22.100709   \n\n                     WTMP_42039_ERA5_pred  WSPD_42002_ERA5_pred  \\\n2022-12-31 00:00:00             24.397536              3.654365   \n2022-12-31 01:00:00             24.394419              1.421128   \n2022-12-31 02:00:00             24.390235              1.131724   \n2022-12-31 03:00:00             24.386105              1.606576   \n2022-12-31 04:00:00             24.386122              1.846616   \n2022-12-31 05:00:00             24.386627              2.378590   \n2022-12-31 06:00:00             24.389489              3.351278   \n2022-12-31 07:00:00             24.389570              4.302353   \n2022-12-31 08:00:00             24.391739              4.522405   \n2022-12-31 09:00:00             24.394075              4.234256   \n2022-12-31 10:00:00             24.387491              4.020193   \n2022-12-31 11:00:00             24.396680              2.935096   \n2022-12-31 12:00:00             24.398673              2.580595   \n2022-12-31 13:00:00             24.395870              2.803861   \n2022-12-31 14:00:00             24.392512              3.090561   \n2022-12-31 15:00:00             24.393240              3.032102   \n2022-12-31 16:00:00             24.389146              2.108694   \n2022-12-31 17:00:00             24.388499              0.922782   \n2022-12-31 18:00:00             24.387706              0.332114   \n2022-12-31 19:00:00             24.382996              0.612839   \n2022-12-31 20:00:00             24.392345              1.062034   \n2022-12-31 21:00:00             24.396809              1.332577   \n2022-12-31 22:00:00             24.398449              1.774885   \n2022-12-31 23:00:00             24.891381              2.487007   \n\n                     PRES_42039_ERA5_pred  \n2022-12-31 00:00:00           1015.149021  \n2022-12-31 01:00:00           1015.756191  \n2022-12-31 02:00:00           1016.326552  \n2022-12-31 03:00:00           1016.785202  \n2022-12-31 04:00:00           1017.051089  \n2022-12-31 05:00:00           1017.189909  \n2022-12-31 06:00:00           1016.690277  \n2022-12-31 07:00:00           1016.108796  \n2022-12-31 08:00:00           1015.493202  \n2022-12-31 09:00:00           1015.054608  \n2022-12-31 10:00:00           1015.002960  \n2022-12-31 11:00:00           1015.374743  \n2022-12-31 12:00:00           1015.804670  \n2022-12-31 13:00:00           1016.458735  \n2022-12-31 14:00:00           1016.537211  \n2022-12-31 15:00:00           1017.260287  \n2022-12-31 16:00:00           1017.933427  \n2022-12-31 17:00:00           1018.295952  \n2022-12-31 18:00:00           1017.861174  \n2022-12-31 19:00:00           1017.231739  \n2022-12-31 20:00:00           1016.581053  \n2022-12-31 21:00:00           1016.365483  \n2022-12-31 22:00:00           1016.189650  \n2022-12-31 23:00:00           1017.070473  \n\n[24 rows x 208 columns]",
      "text/html": "<div>\n<style scoped>\n    .dataframe tbody tr th:only-of-type {\n        vertical-align: middle;\n    }\n\n    .dataframe tbody tr th {\n        vertical-align: top;\n    }\n\n    .dataframe thead th {\n        text-align: right;\n    }\n</style>\n<table border=\"1\" class=\"dataframe\">\n  <thead>\n    <tr style=\"text-align: right;\">\n      <th></th>\n      <th>WDIR_42001</th>\n      <th>WSPD_42001</th>\n      <th>PRES_42001</th>\n      <th>ATMP_42001</th>\n      <th>WTMP_42001</th>\n      <th>DEWP_42001</th>\n      <th>WDIR_42002</th>\n      <th>WSPD_42002</th>\n      <th>PRES_42002</th>\n      <th>ATMP_42002</th>\n      <th>...</th>\n      <th>WDIR_42039_ERA5_pred</th>\n      <th>WSPD_42039_ERA5_pred</th>\n      <th>ATMP_42039_ERA5_pred</th>\n      <th>WSPD_42035_ERA5_pred</th>\n      <th>WSPD_42001_ERA5_pred</th>\n      <th>DEWP_42020_ERA5_pred</th>\n      <th>ATMP_42019_ERA5_pred</th>\n      <th>WTMP_42039_ERA5_pred</th>\n      <th>WSPD_42002_ERA5_pred</th>\n      <th>PRES_42039_ERA5_pred</th>\n    </tr>\n  </thead>\n  <tbody>\n    <tr>\n      <th>2022-12-31 00:00:00</th>\n      <td>189.0</td>\n      <td>5.0</td>\n      <td>1013.5</td>\n      <td>25.2</td>\n      <td>24.3</td>\n      <td>24.5</td>\n      <td>333.0</td>\n      <td>5.6</td>\n      <td>1012.3</td>\n      <td>24.6</td>\n      <td>...</td>\n      <td>113.839604</td>\n      <td>10.543263</td>\n      <td>23.925626</td>\n      <td>2.637827</td>\n      <td>5.695906</td>\n      <td>18.450298</td>\n      <td>19.871500</td>\n      <td>24.397536</td>\n      <td>3.654365</td>\n      <td>1015.149021</td>\n    </tr>\n    <tr>\n      <th>2022-12-31 01:00:00</th>\n      <td>203.0</td>\n      <td>5.6</td>\n      <td>1013.8</td>\n      <td>24.7</td>\n      <td>24.3</td>\n      <td>23.5</td>\n      <td>359.0</td>\n      <td>4.6</td>\n      <td>1012.9</td>\n      <td>24.6</td>\n      <td>...</td>\n      <td>108.219584</td>\n      <td>10.135193</td>\n      <td>24.109868</td>\n      <td>3.288728</td>\n      <td>5.689742</td>\n      <td>18.247033</td>\n      <td>20.008756</td>\n      <td>24.394419</td>\n      <td>1.421128</td>\n      <td>1015.756191</td>\n    </tr>\n    <tr>\n      <th>2022-12-31 02:00:00</th>\n      <td>169.0</td>\n      <td>2.3</td>\n      <td>1014.5</td>\n      <td>24.8</td>\n      <td>24.3</td>\n      <td>24.4</td>\n      <td>18.0</td>\n      <td>4.2</td>\n      <td>1013.5</td>\n      <td>24.7</td>\n      <td>...</td>\n      <td>97.579543</td>\n      <td>9.796511</td>\n      <td>24.010157</td>\n      <td>4.020354</td>\n      <td>6.517366</td>\n      <td>17.794824</td>\n      <td>20.079661</td>\n      <td>24.390235</td>\n      <td>1.131724</td>\n      <td>1016.326552</td>\n    </tr>\n    <tr>\n      <th>2022-12-31 03:00:00</th>\n      <td>53.0</td>\n      <td>6.0</td>\n      <td>1014.8</td>\n      <td>22.7</td>\n      <td>24.4</td>\n      <td>22.1</td>\n      <td>51.0</td>\n      <td>4.0</td>\n      <td>1014.1</td>\n      <td>24.5</td>\n      <td>...</td>\n      <td>84.737236</td>\n      <td>10.330807</td>\n      <td>22.950001</td>\n      <td>3.109430</td>\n      <td>7.076032</td>\n      <td>17.450112</td>\n      <td>20.149160</td>\n      <td>24.386105</td>\n      <td>1.606576</td>\n      <td>1016.785202</td>\n    </tr>\n    <tr>\n      <th>2022-12-31 04:00:00</th>\n      <td>55.0</td>\n      <td>8.5</td>\n      <td>1015.2</td>\n      <td>22.3</td>\n      <td>24.4</td>\n      <td>21.9</td>\n      <td>69.0</td>\n      <td>3.1</td>\n      <td>1014.4</td>\n      <td>24.3</td>\n      <td>...</td>\n      <td>70.786955</td>\n      <td>11.008990</td>\n      <td>23.051497</td>\n      <td>1.763439</td>\n      <td>7.697326</td>\n      <td>17.277469</td>\n      <td>20.045444</td>\n      <td>24.386122</td>\n      <td>1.846616</td>\n      <td>1017.051089</td>\n    </tr>\n    <tr>\n      <th>2022-12-31 05:00:00</th>\n      <td>72.0</td>\n      <td>7.6</td>\n      <td>1014.9</td>\n      <td>22.6</td>\n      <td>24.3</td>\n      <td>22.1</td>\n      <td>89.0</td>\n      <td>3.7</td>\n      <td>1014.4</td>\n      <td>24.3</td>\n      <td>...</td>\n      <td>61.706639</td>\n      <td>9.970663</td>\n      <td>23.788853</td>\n      <td>1.617232</td>\n      <td>7.698606</td>\n      <td>17.077521</td>\n      <td>19.825319</td>\n      <td>24.386627</td>\n      <td>2.378590</td>\n      <td>1017.189909</td>\n    </tr>\n    <tr>\n      <th>2022-12-31 06:00:00</th>\n      <td>77.0</td>\n      <td>7.2</td>\n      <td>1014.4</td>\n      <td>23.0</td>\n      <td>24.4</td>\n      <td>23.0</td>\n      <td>118.0</td>\n      <td>2.6</td>\n      <td>1014.5</td>\n      <td>24.4</td>\n      <td>...</td>\n      <td>65.375044</td>\n      <td>9.255761</td>\n      <td>24.011504</td>\n      <td>1.975891</td>\n      <td>7.532228</td>\n      <td>16.896417</td>\n      <td>19.693023</td>\n      <td>24.389489</td>\n      <td>3.351278</td>\n      <td>1016.690277</td>\n    </tr>\n    <tr>\n      <th>2022-12-31 07:00:00</th>\n      <td>97.0</td>\n      <td>7.8</td>\n      <td>1014.1</td>\n      <td>23.1</td>\n      <td>24.4</td>\n      <td>23.0</td>\n      <td>151.0</td>\n      <td>2.8</td>\n      <td>1014.6</td>\n      <td>24.5</td>\n      <td>...</td>\n      <td>77.504486</td>\n      <td>8.759750</td>\n      <td>23.992648</td>\n      <td>2.836607</td>\n      <td>7.443806</td>\n      <td>16.682751</td>\n      <td>19.666361</td>\n      <td>24.389570</td>\n      <td>4.302353</td>\n      <td>1016.108796</td>\n    </tr>\n    <tr>\n      <th>2022-12-31 08:00:00</th>\n      <td>148.0</td>\n      <td>3.3</td>\n      <td>1013.9</td>\n      <td>24.4</td>\n      <td>24.4</td>\n      <td>24.3</td>\n      <td>195.0</td>\n      <td>1.2</td>\n      <td>1014.8</td>\n      <td>24.6</td>\n      <td>...</td>\n      <td>81.232386</td>\n      <td>9.030461</td>\n      <td>24.085041</td>\n      <td>3.888268</td>\n      <td>7.308278</td>\n      <td>16.582474</td>\n      <td>19.684238</td>\n      <td>24.391739</td>\n      <td>4.522405</td>\n      <td>1015.493202</td>\n    </tr>\n    <tr>\n      <th>2022-12-31 09:00:00</th>\n      <td>195.0</td>\n      <td>5.4</td>\n      <td>1014.0</td>\n      <td>25.0</td>\n      <td>24.4</td>\n      <td>24.6</td>\n      <td>207.0</td>\n      <td>2.3</td>\n      <td>1014.4</td>\n      <td>24.5</td>\n      <td>...</td>\n      <td>77.312451</td>\n      <td>9.595243</td>\n      <td>24.310994</td>\n      <td>3.861645</td>\n      <td>7.341240</td>\n      <td>16.565797</td>\n      <td>19.630534</td>\n      <td>24.394075</td>\n      <td>4.234256</td>\n      <td>1015.054608</td>\n    </tr>\n    <tr>\n      <th>2022-12-31 10:00:00</th>\n      <td>223.0</td>\n      <td>5.1</td>\n      <td>1014.4</td>\n      <td>25.0</td>\n      <td>24.4</td>\n      <td>24.6</td>\n      <td>194.0</td>\n      <td>2.2</td>\n      <td>1014.4</td>\n      <td>24.6</td>\n      <td>...</td>\n      <td>68.610364</td>\n      <td>9.270296</td>\n      <td>24.460584</td>\n      <td>3.649804</td>\n      <td>7.795126</td>\n      <td>16.595056</td>\n      <td>19.550469</td>\n      <td>24.387491</td>\n      <td>4.020193</td>\n      <td>1015.002960</td>\n    </tr>\n    <tr>\n      <th>2022-12-31 11:00:00</th>\n      <td>18.0</td>\n      <td>3.3</td>\n      <td>1015.0</td>\n      <td>22.6</td>\n      <td>24.3</td>\n      <td>22.0</td>\n      <td>217.0</td>\n      <td>2.7</td>\n      <td>1014.9</td>\n      <td>24.6</td>\n      <td>...</td>\n      <td>36.930869</td>\n      <td>7.138840</td>\n      <td>23.908906</td>\n      <td>3.741866</td>\n      <td>4.551145</td>\n      <td>18.005453</td>\n      <td>19.940239</td>\n      <td>24.396680</td>\n      <td>2.935096</td>\n      <td>1015.374743</td>\n    </tr>\n    <tr>\n      <th>2022-12-31 12:00:00</th>\n      <td>115.0</td>\n      <td>2.1</td>\n      <td>1014.9</td>\n      <td>23.2</td>\n      <td>24.3</td>\n      <td>22.4</td>\n      <td>253.0</td>\n      <td>3.3</td>\n      <td>1015.4</td>\n      <td>24.6</td>\n      <td>...</td>\n      <td>42.893458</td>\n      <td>6.912163</td>\n      <td>23.868069</td>\n      <td>3.438399</td>\n      <td>3.486942</td>\n      <td>17.927449</td>\n      <td>20.123698</td>\n      <td>24.398673</td>\n      <td>2.580595</td>\n      <td>1015.804670</td>\n    </tr>\n    <tr>\n      <th>2022-12-31 13:00:00</th>\n      <td>31.0</td>\n      <td>0.9</td>\n      <td>1015.4</td>\n      <td>23.6</td>\n      <td>24.4</td>\n      <td>22.7</td>\n      <td>273.0</td>\n      <td>2.9</td>\n      <td>1016.0</td>\n      <td>24.6</td>\n      <td>...</td>\n      <td>57.311780</td>\n      <td>7.748500</td>\n      <td>23.215583</td>\n      <td>3.254384</td>\n      <td>2.700863</td>\n      <td>17.938452</td>\n      <td>20.289709</td>\n      <td>24.395870</td>\n      <td>2.803861</td>\n      <td>1016.458735</td>\n    </tr>\n    <tr>\n      <th>2022-12-31 14:00:00</th>\n      <td>97.0</td>\n      <td>0.8</td>\n      <td>1015.9</td>\n      <td>24.5</td>\n      <td>24.4</td>\n      <td>23.0</td>\n      <td>322.0</td>\n      <td>4.7</td>\n      <td>1016.6</td>\n      <td>24.5</td>\n      <td>...</td>\n      <td>67.422904</td>\n      <td>8.993229</td>\n      <td>23.772812</td>\n      <td>3.860834</td>\n      <td>2.642765</td>\n      <td>18.015829</td>\n      <td>20.527496</td>\n      <td>24.392512</td>\n      <td>3.090561</td>\n      <td>1016.537211</td>\n    </tr>\n    <tr>\n      <th>2022-12-31 15:00:00</th>\n      <td>113.0</td>\n      <td>1.9</td>\n      <td>1016.6</td>\n      <td>24.4</td>\n      <td>24.3</td>\n      <td>23.6</td>\n      <td>322.0</td>\n      <td>3.2</td>\n      <td>1017.2</td>\n      <td>24.6</td>\n      <td>...</td>\n      <td>63.849633</td>\n      <td>9.734591</td>\n      <td>24.184319</td>\n      <td>4.579326</td>\n      <td>2.816520</td>\n      <td>18.187695</td>\n      <td>20.764036</td>\n      <td>24.393240</td>\n      <td>3.032102</td>\n      <td>1017.260287</td>\n    </tr>\n    <tr>\n      <th>2022-12-31 16:00:00</th>\n      <td>124.0</td>\n      <td>0.8</td>\n      <td>1017.1</td>\n      <td>24.6</td>\n      <td>24.4</td>\n      <td>23.8</td>\n      <td>316.0</td>\n      <td>1.3</td>\n      <td>1017.8</td>\n      <td>24.7</td>\n      <td>...</td>\n      <td>59.993384</td>\n      <td>8.940614</td>\n      <td>24.248346</td>\n      <td>4.463017</td>\n      <td>3.012038</td>\n      <td>18.375785</td>\n      <td>20.971441</td>\n      <td>24.389146</td>\n      <td>2.108694</td>\n      <td>1017.933427</td>\n    </tr>\n    <tr>\n      <th>2022-12-31 17:00:00</th>\n      <td>107.0</td>\n      <td>1.1</td>\n      <td>1016.6</td>\n      <td>24.9</td>\n      <td>24.4</td>\n      <td>23.9</td>\n      <td>104.0</td>\n      <td>0.0</td>\n      <td>1017.7</td>\n      <td>25.8</td>\n      <td>...</td>\n      <td>54.036324</td>\n      <td>8.179966</td>\n      <td>22.965213</td>\n      <td>4.661677</td>\n      <td>2.753889</td>\n      <td>18.532525</td>\n      <td>21.216593</td>\n      <td>24.388499</td>\n      <td>0.922782</td>\n      <td>1018.295952</td>\n    </tr>\n    <tr>\n      <th>2022-12-31 18:00:00</th>\n      <td>147.0</td>\n      <td>1.1</td>\n      <td>1015.9</td>\n      <td>25.1</td>\n      <td>24.5</td>\n      <td>24.3</td>\n      <td>42.0</td>\n      <td>0.5</td>\n      <td>1016.8</td>\n      <td>25.5</td>\n      <td>...</td>\n      <td>42.632559</td>\n      <td>8.044057</td>\n      <td>22.704858</td>\n      <td>3.945660</td>\n      <td>2.263624</td>\n      <td>18.917207</td>\n      <td>21.423880</td>\n      <td>24.387706</td>\n      <td>0.332114</td>\n      <td>1017.861174</td>\n    </tr>\n    <tr>\n      <th>2022-12-31 19:00:00</th>\n      <td>195.0</td>\n      <td>0.5</td>\n      <td>1015.0</td>\n      <td>25.6</td>\n      <td>24.7</td>\n      <td>24.5</td>\n      <td>22.0</td>\n      <td>0.6</td>\n      <td>1015.9</td>\n      <td>25.1</td>\n      <td>...</td>\n      <td>33.267004</td>\n      <td>8.413709</td>\n      <td>22.619045</td>\n      <td>3.032533</td>\n      <td>2.417355</td>\n      <td>19.269210</td>\n      <td>21.658775</td>\n      <td>24.382996</td>\n      <td>0.612839</td>\n      <td>1017.231739</td>\n    </tr>\n    <tr>\n      <th>2022-12-31 20:00:00</th>\n      <td>210.0</td>\n      <td>1.0</td>\n      <td>1015.0</td>\n      <td>25.3</td>\n      <td>24.5</td>\n      <td>24.3</td>\n      <td>88.0</td>\n      <td>1.2</td>\n      <td>1015.4</td>\n      <td>24.7</td>\n      <td>...</td>\n      <td>28.173529</td>\n      <td>8.601197</td>\n      <td>22.714915</td>\n      <td>2.533078</td>\n      <td>1.354446</td>\n      <td>19.322739</td>\n      <td>21.846271</td>\n      <td>24.392345</td>\n      <td>1.062034</td>\n      <td>1016.581053</td>\n    </tr>\n    <tr>\n      <th>2022-12-31 21:00:00</th>\n      <td>231.0</td>\n      <td>0.6</td>\n      <td>1014.7</td>\n      <td>26.4</td>\n      <td>24.7</td>\n      <td>24.4</td>\n      <td>87.0</td>\n      <td>1.7</td>\n      <td>1014.9</td>\n      <td>24.6</td>\n      <td>...</td>\n      <td>22.941580</td>\n      <td>7.734522</td>\n      <td>22.553690</td>\n      <td>2.674531</td>\n      <td>1.433971</td>\n      <td>19.243165</td>\n      <td>22.051631</td>\n      <td>24.396809</td>\n      <td>1.332577</td>\n      <td>1016.365483</td>\n    </tr>\n    <tr>\n      <th>2022-12-31 22:00:00</th>\n      <td>18.0</td>\n      <td>0.7</td>\n      <td>1014.9</td>\n      <td>25.4</td>\n      <td>24.7</td>\n      <td>24.1</td>\n      <td>90.0</td>\n      <td>2.5</td>\n      <td>1014.9</td>\n      <td>24.5</td>\n      <td>...</td>\n      <td>14.618159</td>\n      <td>6.486378</td>\n      <td>22.369378</td>\n      <td>3.154058</td>\n      <td>2.386321</td>\n      <td>19.335641</td>\n      <td>22.259537</td>\n      <td>24.398449</td>\n      <td>1.774885</td>\n      <td>1016.189650</td>\n    </tr>\n    <tr>\n      <th>2022-12-31 23:00:00</th>\n      <td>68.0</td>\n      <td>1.6</td>\n      <td>1015.0</td>\n      <td>25.0</td>\n      <td>24.5</td>\n      <td>24.3</td>\n      <td>116.0</td>\n      <td>3.7</td>\n      <td>1015.0</td>\n      <td>24.5</td>\n      <td>...</td>\n      <td>20.337247</td>\n      <td>3.295751</td>\n      <td>24.059617</td>\n      <td>3.475459</td>\n      <td>1.912508</td>\n      <td>18.565190</td>\n      <td>22.100709</td>\n      <td>24.891381</td>\n      <td>2.487007</td>\n      <td>1017.070473</td>\n    </tr>\n  </tbody>\n</table>\n<p>24 rows × 208 columns</p>\n</div>"
     },
     "execution_count": 21,
     "metadata": {},
     "output_type": "execute_result"
    }
   ],
   "source": [
    "# Get the list of columns starting with \"WDIR\"\n",
    "wdir_columns = [col for col in evaluation_1.columns if col.startswith(\"WDIR\")]\n",
    "\n",
    "# Modify the values in the selected columns\n",
    "evaluation_1[wdir_columns] = evaluation_1[wdir_columns] % 360\n",
    "\n",
    "evaluation_1"
   ],
   "metadata": {
    "collapsed": false,
    "pycharm": {
     "name": "#%%\n"
    }
   }
  },
  {
   "cell_type": "markdown",
   "metadata": {
    "pycharm": {
     "name": "#%% md\n"
    }
   },
   "source": [
    "# Recurrent forecast (EXCLUDED FOR NOW!)"
   ]
  },
  {
   "cell_type": "code",
   "execution_count": 22,
   "metadata": {
    "pycharm": {
     "name": "#%%\n"
    }
   },
   "outputs": [],
   "source": [
    "# model.reset_states()\n",
    "# _ = model.predict(train_X_scaled, batch_size=1)"
   ]
  },
  {
   "cell_type": "code",
   "execution_count": 23,
   "metadata": {
    "pycharm": {
     "name": "#%%\n"
    }
   },
   "outputs": [],
   "source": [
    "# # make a one-step forecast\n",
    "# # This function helps with reshaping.\n",
    "# def single_forecast(model, x):\n",
    "#     x = x.reshape(1, 1, len(x[0]))\n",
    "#     yhat = model.predict(x, verbose=0)\n",
    "#     return yhat"
   ]
  },
  {
   "cell_type": "code",
   "execution_count": 24,
   "metadata": {
    "pycharm": {
     "name": "#%%\n"
    }
   },
   "outputs": [],
   "source": [
    "# # Prepare data structure\n",
    "# prediction_2 = pd.DataFrame(test_y_scaled, columns=output_cols)\n",
    "# for col in output_cols:\n",
    "#     prediction_2[f\"{col}_pred\"] = 0\n",
    "#\n",
    "# prediction_2"
   ]
  },
  {
   "cell_type": "code",
   "execution_count": 25,
   "metadata": {
    "pycharm": {
     "name": "#%%\n"
    }
   },
   "outputs": [],
   "source": [
    "# #Forecast a whole week\n",
    "# prev_obs = test_X_scaled[0]\n",
    "#\n",
    "# for i, row in prediction_2.iterrows():\n",
    "#     yhat = single_forecast(model, prev_obs)\n",
    "#     prev_obs = yhat\n",
    "#\n",
    "#     #Mapping of array index and df column name\n",
    "#     for j, element in enumerate(output_cols):\n",
    "#         prediction_2.at[i, f\"{element}_pred\"] =yhat[0,j]\n",
    "#\n",
    "# # prediction_2.plot(kind='line')\n",
    "# prediction_2"
   ]
  },
  {
   "cell_type": "code",
   "execution_count": 26,
   "metadata": {
    "pycharm": {
     "name": "#%%\n"
    }
   },
   "outputs": [],
   "source": [
    "# #Reverse differenciate\n",
    "# first_row = data.iloc[-len(yhat)-1]\n",
    "#\n",
    "# yhat = prediction_2[[name + \"_pred\" for name in output_cols]].values\n",
    "# yhat_unscaled = DP.invert_scaling(yhat, SCALER)\n",
    "# yhat_true_value = DP.stationary_to_data(yhat_unscaled, first_row)\n",
    "#\n",
    "# yhat_true_value_df = pd.DataFrame(yhat_true_value, columns=[name + \"_pred\" for name in output_cols])\n",
    "# yhat_true_value_df.set_index(data.tail(len(yhat)).index, inplace=True)\n",
    "#\n",
    "# true_value = data.tail(len(yhat)+1).copy()\n",
    "#\n",
    "# evaluation_2 = pd.concat([true_value, yhat_true_value_df], axis=1)\n",
    "# evaluation_2 = evaluation_2.iloc[STATIONARY_SHIFT:]\n",
    "# evaluation_2"
   ]
  },
  {
   "cell_type": "code",
   "execution_count": 27,
   "metadata": {
    "pycharm": {
     "name": "#%%\n"
    }
   },
   "outputs": [],
   "source": [
    "# wtmp_true = [col for col in evaluation_2.columns if col.startswith(\"WTMP\")][0]\n",
    "#\n",
    "# mae_2 = mean_absolute_error(evaluation_2[wtmp_true], evaluation_2[f\"{wtmp_true}_pred\"])\n",
    "# mse_2 = mean_squared_error(evaluation_2[wtmp_true], evaluation_2[f\"{wtmp_true}_pred\"])\n",
    "# print('MAE: ', mae_2)\n",
    "# print('MSE: ', mse_2)"
   ]
  },
  {
   "cell_type": "code",
   "execution_count": 28,
   "metadata": {
    "pycharm": {
     "name": "#%%\n"
    }
   },
   "outputs": [],
   "source": [
    "#evaluation_2.plot(kind='line')"
   ]
  },
  {
   "cell_type": "markdown",
   "metadata": {
    "pycharm": {
     "name": "#%% md\n"
    }
   },
   "source": [
    "# SAVE"
   ]
  },
  {
   "cell_type": "code",
   "execution_count": 29,
   "metadata": {
    "pycharm": {
     "name": "#%%\n"
    }
   },
   "outputs": [
    {
     "name": "stdout",
     "output_type": "stream",
     "text": [
      "reached checkpoint\n"
     ]
    },
    {
     "data": {
      "text/plain": "<IPython.core.display.Javascript object>",
      "application/javascript": "$(document).ready(\n    function() {\n        function appendUniqueDiv(){\n            // append a div with our uuid so we can check that it's already\n            // been sent and avoid duplicates on page reload\n            var notifiedDiv = document.createElement(\"div\")\n            notifiedDiv.id = \"8ca5a5cb-fc8b-4964-921a-fef1cd25f0fb\"\n            element.append(notifiedDiv)\n        }\n\n        // only send notifications if the pageload is complete; this will\n        // help stop extra notifications when a saved notebook is loaded,\n        // which during testing gives us state \"interactive\", not \"complete\"\n        if (document.readyState === 'complete') {\n            // check for the div that signifies that the notification\n            // was already sent\n            if (document.getElementById(\"8ca5a5cb-fc8b-4964-921a-fef1cd25f0fb\") === null) {\n                var notificationPayload = {\"requireInteraction\": false, \"icon\": \"/static/base/images/favicon.ico\", \"body\": \"Finished!!\"};\n                if (Notification.permission !== 'denied') {\n                    if (Notification.permission !== 'granted') { \n                        Notification.requestPermission(function (permission) {\n                            if(!('permission' in Notification)) {\n                                Notification.permission = permission\n                            }\n                        })\n                    }\n                    if (Notification.permission === 'granted') {\n                    var notification = new Notification(\"Jupyter Notebook\", notificationPayload)\n                    appendUniqueDiv()\n                    notification.onclick = function () {\n                        window.focus();\n                        this.close();\n                        };\n                    } \n                }     \n            }\n        }\n    }\n)\n"
     },
     "metadata": {},
     "output_type": "display_data"
    }
   ],
   "source": [
    "%%notify -m \"Finished!!\"\n",
    "print(\"reached checkpoint\")"
   ]
  },
  {
   "cell_type": "code",
   "execution_count": 31,
   "metadata": {
    "pycharm": {
     "name": "#%%\n"
    }
   },
   "outputs": [
    {
     "data": {
      "text/plain": "HBox(children=(Text(value='', description='Filename:', placeholder='Enter filename'), Label(value='.pickle')))",
      "application/vnd.jupyter.widget-view+json": {
       "version_major": 2,
       "version_minor": 0,
       "model_id": "60d03768d8f04d589e677498e9a42f4f"
      }
     },
     "metadata": {},
     "output_type": "display_data"
    },
    {
     "name": "stdout",
     "output_type": "stream",
     "text": [
      "Please also check if the reports description needs to be changed!\n"
     ]
    }
   ],
   "source": [
    "# create a text input widget for username\n",
    "filename_widget = widgets.Text(\n",
    "    value='',\n",
    "    placeholder='Enter filename',\n",
    "    description='Filename:',\n",
    "    disabled=False\n",
    ")\n",
    "# add '.csv' to the description\n",
    "extension_label = widgets.Label('.pickle')\n",
    "\n",
    "# display the widget\n",
    "display(widgets.HBox([filename_widget, extension_label]))\n",
    "\n",
    "print(\"Please also check if the reports description needs to be changed!\")"
   ]
  },
  {
   "cell_type": "markdown",
   "metadata": {
    "pycharm": {
     "name": "#%% md\n"
    }
   },
   "source": []
  },
  {
   "cell_type": "code",
   "execution_count": 32,
   "metadata": {
    "pycharm": {
     "name": "#%%\n"
    }
   },
   "outputs": [],
   "source": [
    "report_description=\"FIRST TRANSFORMER EXPERIMENT\""
   ]
  },
  {
   "cell_type": "markdown",
   "metadata": {
    "pycharm": {
     "name": "#%% md\n"
    }
   },
   "source": []
  },
  {
   "cell_type": "code",
   "execution_count": 34,
   "metadata": {
    "pycharm": {
     "name": "#%%\n"
    }
   },
   "outputs": [
    {
     "name": "stdout",
     "output_type": "stream",
     "text": [
      "File successfully saved:\n",
      "data/reports/publication/transformer_0.pickle\n"
     ]
    }
   ],
   "source": [
    "filename = filename_widget.value\n",
    "if filename == \"\":\n",
    "    print(\"Enter a valid filename!\")\n",
    "\n",
    "else:\n",
    "    #Save Data About executed Test:\n",
    "\n",
    "    # Convert model summary to string\n",
    "    stringlist = []\n",
    "    model.summary(print_fn=lambda x: stringlist.append(x))\n",
    "    model_summary = \"\\n\".join(stringlist)\n",
    "\n",
    "    report = Experiment(\n",
    "        name=filename,\n",
    "        description=report_description,\n",
    "\n",
    "        stations = dataset[\"stations\"],\n",
    "        years = dataset[\"years\"],\n",
    "        nan_threshold=dataset[\"nan_threshold\"],\n",
    "        features=dataset[\"features\"],\n",
    "        era5=dataset[\"add_era5\"],\n",
    "\n",
    "        stationary_shift=STATIONARY_SHIFT,\n",
    "\n",
    "        n_test_hours=N_TEST_HOURS,\n",
    "\n",
    "        #stationary=STATIONARY,\n",
    "        scaler= None, # SCALER,\n",
    "\n",
    "        model_name = MODEL_NAME,\n",
    "        model_summary=model_summary,\n",
    "\n",
    "        one_shot_forecast = evaluation_1,\n",
    "        recursive_forecast = None,   # evaluation_2\n",
    "        training_time = 0.0\n",
    "    )\n",
    "\n",
    "\n",
    "    # open a file for writing in binary mode\n",
    "    filepath = f'data/reports/publication/{report.name}.pickle'\n",
    "    with open(filepath, 'wb') as f:\n",
    "        # write the object to the file using pickle.dump()\n",
    "        pickle.dump(report, f)\n",
    "        print(\"File successfully saved:\")\n",
    "        print(filepath)"
   ]
  },
  {
   "cell_type": "code",
   "execution_count": null,
   "metadata": {
    "pycharm": {
     "name": "#%%\n"
    }
   },
   "outputs": [],
   "source": []
  },
  {
   "cell_type": "code",
   "execution_count": null,
   "metadata": {
    "pycharm": {
     "name": "#%%\n"
    }
   },
   "outputs": [],
   "source": []
  },
  {
   "cell_type": "code",
   "execution_count": null,
   "metadata": {
    "pycharm": {
     "name": "#%%\n"
    }
   },
   "outputs": [],
   "source": []
  }
 ],
 "metadata": {
  "kernelspec": {
   "display_name": "Python 3 (ipykernel)",
   "language": "python",
   "name": "python3"
  },
  "language_info": {
   "codemirror_mode": {
    "name": "ipython",
    "version": 3
   },
   "file_extension": ".py",
   "mimetype": "text/x-python",
   "name": "python",
   "nbconvert_exporter": "python",
   "pygments_lexer": "ipython3",
   "version": "3.8.15"
  }
 },
 "nbformat": 4,
 "nbformat_minor": 1
}