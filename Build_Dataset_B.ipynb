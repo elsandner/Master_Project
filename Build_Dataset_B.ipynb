{
 "cells": [
  {
   "cell_type": "markdown",
   "source": [
    "# Build Dataset B\n",
    "\n",
    "## Description of approach B:\n",
    "\n",
    "The idea is to find data records of single buoys that provide all measurements [“WDIR”, “WSPD”, “WVHT”, “APD”, “MWD”, “PRES”, “ATMP”, “WTMP”, “DEWP”].\n",
    "\n",
    "### TODO: detailed description after implementation!"
   ],
   "metadata": {
    "collapsed": false,
    "pycharm": {
     "name": "#%% md\n"
    }
   }
  },
  {
   "cell_type": "code",
   "execution_count": 1,
   "outputs": [],
   "source": [
    "import pickle\n",
    "import pandas as pd\n",
    "import myLibrary as mL\n",
    "import datetime\n",
    "NDBC = mL.NDBC_lib"
   ],
   "metadata": {
    "collapsed": false,
    "pycharm": {
     "name": "#%%\n"
    }
   }
  },
  {
   "cell_type": "markdown",
   "source": [
    "---\n",
    "# Parameter:"
   ],
   "metadata": {
    "collapsed": false,
    "pycharm": {
     "name": "#%% md\n"
    }
   }
  },
  {
   "cell_type": "code",
   "execution_count": 2,
   "outputs": [
    {
     "data": {
      "text/plain": "[['42001', '2002'],\n ['42002', '2002'],\n ['42003', '2002'],\n ['42007', '2002'],\n ['42012', '2002'],\n ['42019', '2002'],\n ['42020', '2002'],\n ['42035', '2002'],\n ['42036', '2002'],\n ['42038', '2002'],\n ['42039', '2002'],\n ['42040', '2002'],\n ['42041', '2002'],\n ['42055', '2002'],\n ['42001', '2003'],\n ['42002', '2003'],\n ['42003', '2003'],\n ['42007', '2003'],\n ['42012', '2003'],\n ['42019', '2003'],\n ['42020', '2003'],\n ['42035', '2003'],\n ['42036', '2003'],\n ['42038', '2003'],\n ['42039', '2003'],\n ['42040', '2003'],\n ['42041', '2003'],\n ['42055', '2003'],\n ['42001', '2004'],\n ['42002', '2004'],\n ['42003', '2004'],\n ['42007', '2004'],\n ['42012', '2004'],\n ['42019', '2004'],\n ['42020', '2004'],\n ['42035', '2004'],\n ['42036', '2004'],\n ['42038', '2004'],\n ['42039', '2004'],\n ['42040', '2004'],\n ['42041', '2004'],\n ['42055', '2004'],\n ['42001', '2005'],\n ['42002', '2005'],\n ['42003', '2005'],\n ['42007', '2005'],\n ['42012', '2005'],\n ['42019', '2005'],\n ['42020', '2005'],\n ['42035', '2005'],\n ['42036', '2005'],\n ['42038', '2005'],\n ['42039', '2005'],\n ['42040', '2005'],\n ['42041', '2005'],\n ['42055', '2005'],\n ['42001', '2006'],\n ['42002', '2006'],\n ['42003', '2006'],\n ['42007', '2006'],\n ['42012', '2006'],\n ['42019', '2006'],\n ['42020', '2006'],\n ['42035', '2006'],\n ['42036', '2006'],\n ['42038', '2006'],\n ['42039', '2006'],\n ['42040', '2006'],\n ['42041', '2006'],\n ['42055', '2006'],\n ['42001', '2007'],\n ['42002', '2007'],\n ['42003', '2007'],\n ['42007', '2007'],\n ['42012', '2007'],\n ['42019', '2007'],\n ['42020', '2007'],\n ['42035', '2007'],\n ['42036', '2007'],\n ['42038', '2007'],\n ['42039', '2007'],\n ['42040', '2007'],\n ['42041', '2007'],\n ['42055', '2007'],\n ['42001', '2008'],\n ['42002', '2008'],\n ['42003', '2008'],\n ['42007', '2008'],\n ['42012', '2008'],\n ['42019', '2008'],\n ['42020', '2008'],\n ['42035', '2008'],\n ['42036', '2008'],\n ['42038', '2008'],\n ['42039', '2008'],\n ['42040', '2008'],\n ['42041', '2008'],\n ['42055', '2008'],\n ['42001', '2009'],\n ['42002', '2009'],\n ['42003', '2009'],\n ['42007', '2009'],\n ['42012', '2009'],\n ['42019', '2009'],\n ['42020', '2009'],\n ['42035', '2009'],\n ['42036', '2009'],\n ['42038', '2009'],\n ['42039', '2009'],\n ['42040', '2009'],\n ['42041', '2009'],\n ['42055', '2009'],\n ['42001', '2010'],\n ['42002', '2010'],\n ['42003', '2010'],\n ['42007', '2010'],\n ['42012', '2010'],\n ['42019', '2010'],\n ['42020', '2010'],\n ['42035', '2010'],\n ['42036', '2010'],\n ['42038', '2010'],\n ['42039', '2010'],\n ['42040', '2010'],\n ['42041', '2010'],\n ['42055', '2010'],\n ['42001', '2011'],\n ['42002', '2011'],\n ['42003', '2011'],\n ['42007', '2011'],\n ['42012', '2011'],\n ['42019', '2011'],\n ['42020', '2011'],\n ['42035', '2011'],\n ['42036', '2011'],\n ['42038', '2011'],\n ['42039', '2011'],\n ['42040', '2011'],\n ['42041', '2011'],\n ['42055', '2011'],\n ['42001', '2012'],\n ['42002', '2012'],\n ['42003', '2012'],\n ['42007', '2012'],\n ['42012', '2012'],\n ['42019', '2012'],\n ['42020', '2012'],\n ['42035', '2012'],\n ['42036', '2012'],\n ['42038', '2012'],\n ['42039', '2012'],\n ['42040', '2012'],\n ['42041', '2012'],\n ['42055', '2012'],\n ['42001', '2013'],\n ['42002', '2013'],\n ['42003', '2013'],\n ['42007', '2013'],\n ['42012', '2013'],\n ['42019', '2013'],\n ['42020', '2013'],\n ['42035', '2013'],\n ['42036', '2013'],\n ['42038', '2013'],\n ['42039', '2013'],\n ['42040', '2013'],\n ['42041', '2013'],\n ['42055', '2013'],\n ['42001', '2014'],\n ['42002', '2014'],\n ['42003', '2014'],\n ['42007', '2014'],\n ['42012', '2014'],\n ['42019', '2014'],\n ['42020', '2014'],\n ['42035', '2014'],\n ['42036', '2014'],\n ['42038', '2014'],\n ['42039', '2014'],\n ['42040', '2014'],\n ['42041', '2014'],\n ['42055', '2014'],\n ['42001', '2015'],\n ['42002', '2015'],\n ['42003', '2015'],\n ['42007', '2015'],\n ['42012', '2015'],\n ['42019', '2015'],\n ['42020', '2015'],\n ['42035', '2015'],\n ['42036', '2015'],\n ['42038', '2015'],\n ['42039', '2015'],\n ['42040', '2015'],\n ['42041', '2015'],\n ['42055', '2015'],\n ['42001', '2016'],\n ['42002', '2016'],\n ['42003', '2016'],\n ['42007', '2016'],\n ['42012', '2016'],\n ['42019', '2016'],\n ['42020', '2016'],\n ['42035', '2016'],\n ['42036', '2016'],\n ['42038', '2016'],\n ['42039', '2016'],\n ['42040', '2016'],\n ['42041', '2016'],\n ['42055', '2016'],\n ['42001', '2017'],\n ['42002', '2017'],\n ['42003', '2017'],\n ['42007', '2017'],\n ['42012', '2017'],\n ['42019', '2017'],\n ['42020', '2017'],\n ['42035', '2017'],\n ['42036', '2017'],\n ['42038', '2017'],\n ['42039', '2017'],\n ['42040', '2017'],\n ['42041', '2017'],\n ['42055', '2017'],\n ['42001', '2018'],\n ['42002', '2018'],\n ['42003', '2018'],\n ['42007', '2018'],\n ['42012', '2018'],\n ['42019', '2018'],\n ['42020', '2018'],\n ['42035', '2018'],\n ['42036', '2018'],\n ['42038', '2018'],\n ['42039', '2018'],\n ['42040', '2018'],\n ['42041', '2018'],\n ['42055', '2018'],\n ['42001', '2019'],\n ['42002', '2019'],\n ['42003', '2019'],\n ['42007', '2019'],\n ['42012', '2019'],\n ['42019', '2019'],\n ['42020', '2019'],\n ['42035', '2019'],\n ['42036', '2019'],\n ['42038', '2019'],\n ['42039', '2019'],\n ['42040', '2019'],\n ['42041', '2019'],\n ['42055', '2019'],\n ['42001', '2020'],\n ['42002', '2020'],\n ['42003', '2020'],\n ['42007', '2020'],\n ['42012', '2020'],\n ['42019', '2020'],\n ['42020', '2020'],\n ['42035', '2020'],\n ['42036', '2020'],\n ['42038', '2020'],\n ['42039', '2020'],\n ['42040', '2020'],\n ['42041', '2020'],\n ['42055', '2020'],\n ['42001', '2021'],\n ['42002', '2021'],\n ['42003', '2021'],\n ['42007', '2021'],\n ['42012', '2021'],\n ['42019', '2021'],\n ['42020', '2021'],\n ['42035', '2021'],\n ['42036', '2021'],\n ['42038', '2021'],\n ['42039', '2021'],\n ['42040', '2021'],\n ['42041', '2021'],\n ['42055', '2021'],\n ['42001', '2022'],\n ['42002', '2022'],\n ['42003', '2022'],\n ['42007', '2022'],\n ['42012', '2022'],\n ['42019', '2022'],\n ['42020', '2022'],\n ['42035', '2022'],\n ['42036', '2022'],\n ['42038', '2022'],\n ['42039', '2022'],\n ['42040', '2022'],\n ['42041', '2022'],\n ['42055', '2022']]"
     },
     "execution_count": 2,
     "metadata": {},
     "output_type": "execute_result"
    }
   ],
   "source": [
    "# Optional build files list by stations and years\n",
    "stations = [ '42001',\n",
    "             '42002',\n",
    "             '42003',\n",
    "             '42007',\n",
    "             '42012',\n",
    "             '42019',\n",
    "             '42020',\n",
    "             '42035',\n",
    "             '42036',\n",
    "             '42038',\n",
    "             '42039',\n",
    "             '42040',\n",
    "             '42041',\n",
    "             '42055']\n",
    "\n",
    "years = ['2002',\n",
    "         '2003',\n",
    "         '2004',\n",
    "         '2005',\n",
    "         '2006',\n",
    "         '2007',\n",
    "         '2008',\n",
    "         '2009',\n",
    "         '2010',\n",
    "         '2011',\n",
    "         '2012',\n",
    "         '2013',\n",
    "         '2014',\n",
    "         '2015',\n",
    "         '2016',\n",
    "         '2017',\n",
    "         '2018',\n",
    "         '2019',\n",
    "         '2020',\n",
    "         '2021',\n",
    "         '2022']\n",
    "\n",
    "\n",
    "files = []\n",
    "for year in years:\n",
    "    for station in stations:\n",
    "        files.append([station, year])\n",
    "\n",
    "files"
   ],
   "metadata": {
    "collapsed": false,
    "pycharm": {
     "name": "#%%\n"
    }
   }
  },
  {
   "cell_type": "code",
   "execution_count": 3,
   "outputs": [],
   "source": [
    "# Train data:\n",
    "# files = [\n",
    "#    ['42001', '2022'],\n",
    "    # ['NWCL1', '2014'],\n",
    "    # ['NWCL1', '2015'],\n",
    "    # ['NWCL1', '2016'],\n",
    "    # ['NWCL1', '2017'],\n",
    "    # ['NWCL1', '2018'],\n",
    "    # ['NWCL1', '2019'],\n",
    "    # ['NWCL1', '2020'],\n",
    "    # ['NWCL1', '2021'],\n",
    "    # ['NWCL1', '2022'],\n",
    "#]\n",
    "\n",
    "features =  mL.measurements     # [\"WDIR\", \"WSPD\", \"WVHT\", \"APD\", \"MWD\", \"PRES\", \"ATMP\", \"WTMP\", \"DEWP\"]\n",
    "add_ERA5 = True\n",
    "n_in=3  #CHANGED!\n",
    "n_out=1\n",
    "nan_threshold = 0.66\n",
    "\n",
    "# Test data:1\n",
    "station_id = \"42001\"\n",
    "year = \"2022\"\n",
    "num_test_hours = 24\n",
    "\n",
    "# Save as:\n",
    "filename = \"dataset_GOM_1_B\""
   ],
   "metadata": {
    "collapsed": false,
    "pycharm": {
     "name": "#%%\n"
    }
   }
  },
  {
   "cell_type": "markdown",
   "source": [
    "---"
   ],
   "metadata": {
    "collapsed": false,
    "pycharm": {
     "name": "#%% md\n"
    }
   }
  },
  {
   "cell_type": "code",
   "execution_count": 4,
   "outputs": [],
   "source": [
    "#Correction of num_test_hours:\n",
    "num_test_hours = num_test_hours + n_in"
   ],
   "metadata": {
    "collapsed": false,
    "pycharm": {
     "name": "#%%\n"
    }
   }
  },
  {
   "cell_type": "code",
   "execution_count": 5,
   "outputs": [
    {
     "name": "stdout",
     "output_type": "stream",
     "text": [
      "from disc\n",
      "from disc\n",
      "from disc\n",
      "from disc\n",
      "Failed to get 42012h2002.txt.gz: HTTP Error 404: Not Found\n",
      "from disc\n",
      "from disc\n",
      "from disc\n",
      "from disc\n",
      "Failed to get 42038h2002.txt.gz: HTTP Error 404: Not Found\n",
      "from disc\n",
      "from disc\n",
      "from disc\n",
      "Failed to get 42055h2002.txt.gz: HTTP Error 404: Not Found\n",
      "from disc\n",
      "from disc\n",
      "from disc\n",
      "from disc\n",
      "Failed to get 42012h2003.txt.gz: HTTP Error 404: Not Found\n",
      "from disc\n",
      "from disc\n",
      "from disc\n",
      "from disc\n",
      "Failed to get 42038h2003.txt.gz: HTTP Error 404: Not Found\n",
      "from disc\n",
      "from disc\n",
      "from disc\n",
      "Failed to get 42055h2003.txt.gz: HTTP Error 404: Not Found\n",
      "from disc\n",
      "from disc\n",
      "from disc\n",
      "from disc\n",
      "Failed to get 42012h2004.txt.gz: HTTP Error 404: Not Found\n",
      "from disc\n",
      "from disc\n",
      "from disc\n",
      "from disc\n",
      "from disc\n",
      "from disc\n",
      "from disc\n",
      "from disc\n",
      "Failed to get 42055h2004.txt.gz: HTTP Error 404: Not Found\n",
      "from disc\n",
      "from disc\n",
      "from disc\n",
      "from disc\n",
      "Failed to get 42012h2005.txt.gz: HTTP Error 404: Not Found\n",
      "from disc\n",
      "from disc\n",
      "from disc\n",
      "from disc\n",
      "from disc\n",
      "from disc\n",
      "from disc\n",
      "from disc\n",
      "from disc\n",
      "from disc\n",
      "from disc\n",
      "from disc\n",
      "from disc\n",
      "Failed to get 42012h2006.txt.gz: HTTP Error 404: Not Found\n",
      "from disc\n",
      "from disc\n",
      "from disc\n",
      "from disc\n",
      "from disc\n",
      "from disc\n",
      "from disc\n",
      "Failed to get 42041h2006.txt.gz: HTTP Error 404: Not Found\n",
      "from disc\n",
      "from disc\n",
      "from disc\n",
      "from disc\n",
      "from disc\n",
      "Failed to get 42012h2007.txt.gz: HTTP Error 404: Not Found\n",
      "from disc\n",
      "from disc\n",
      "from disc\n",
      "from disc\n",
      "Failed to get 42038h2007.txt.gz: HTTP Error 404: Not Found\n",
      "from disc\n",
      "from disc\n",
      "Failed to get 42041h2007.txt.gz: HTTP Error 404: Not Found\n",
      "from disc\n",
      "from disc\n",
      "from disc\n",
      "from disc\n",
      "from disc\n",
      "Failed to get 42012h2008.txt.gz: HTTP Error 404: Not Found\n",
      "from disc\n",
      "from disc\n",
      "from disc\n",
      "from disc\n",
      "Failed to get 42038h2008.txt.gz: HTTP Error 404: Not Found\n",
      "from disc\n",
      "from disc\n",
      "Failed to get 42041h2008.txt.gz: HTTP Error 404: Not Found\n",
      "from disc\n",
      "from disc\n",
      "from disc\n",
      "from disc\n",
      "from disc\n",
      "from disc\n",
      "from disc\n",
      "from disc\n",
      "from disc\n",
      "from disc\n",
      "Failed to get 42038h2009.txt.gz: HTTP Error 404: Not Found\n",
      "from disc\n",
      "from disc\n",
      "Failed to get 42041h2009.txt.gz: HTTP Error 404: Not Found\n",
      "from disc\n",
      "from disc\n",
      "from disc\n",
      "from disc\n",
      "Failed to get 42007h2010.txt.gz: HTTP Error 404: Not Found\n",
      "from disc\n",
      "from disc\n",
      "from disc\n",
      "from disc\n",
      "from disc\n",
      "Failed to get 42038h2010.txt.gz: HTTP Error 404: Not Found\n",
      "from disc\n",
      "from disc\n",
      "Failed to get 42041h2010.txt.gz: HTTP Error 404: Not Found\n",
      "from disc\n",
      "from disc\n",
      "from disc\n",
      "from disc\n",
      "Failed to get 42007h2011.txt.gz: HTTP Error 404: Not Found\n",
      "from disc\n",
      "from disc\n",
      "from disc\n",
      "from disc\n",
      "from disc\n",
      "Failed to get 42038h2011.txt.gz: HTTP Error 404: Not Found\n",
      "from disc\n",
      "from disc\n",
      "Failed to get 42041h2011.txt.gz: HTTP Error 404: Not Found\n",
      "from disc\n",
      "from disc\n",
      "from disc\n",
      "from disc\n",
      "Failed to get 42007h2012.txt.gz: HTTP Error 404: Not Found\n",
      "from disc\n",
      "from disc\n",
      "from disc\n",
      "from disc\n",
      "from disc\n",
      "Failed to get 42038h2012.txt.gz: HTTP Error 404: Not Found\n",
      "from disc\n",
      "from disc\n",
      "Failed to get 42041h2012.txt.gz: HTTP Error 404: Not Found\n",
      "from disc\n",
      "from disc\n",
      "from disc\n",
      "from disc\n",
      "Failed to get 42007h2013.txt.gz: HTTP Error 404: Not Found\n",
      "from disc\n",
      "from disc\n",
      "from disc\n",
      "from disc\n",
      "from disc\n",
      "Failed to get 42038h2013.txt.gz: HTTP Error 404: Not Found\n",
      "from disc\n",
      "from disc\n",
      "Failed to get 42041h2013.txt.gz: HTTP Error 404: Not Found\n",
      "from disc\n",
      "from disc\n",
      "from disc\n",
      "from disc\n",
      "Failed to get 42007h2014.txt.gz: HTTP Error 404: Not Found\n",
      "from disc\n",
      "from disc\n",
      "from disc\n",
      "from disc\n",
      "from disc\n",
      "Failed to get 42038h2014.txt.gz: HTTP Error 404: Not Found\n",
      "from disc\n",
      "from disc\n",
      "Failed to get 42041h2014.txt.gz: HTTP Error 404: Not Found\n",
      "from disc\n",
      "from disc\n",
      "from disc\n",
      "from disc\n",
      "Failed to get 42007h2015.txt.gz: HTTP Error 404: Not Found\n",
      "from disc\n",
      "from disc\n",
      "from disc\n",
      "from disc\n",
      "from disc\n",
      "Failed to get 42038h2015.txt.gz: HTTP Error 404: Not Found\n",
      "from disc\n",
      "from disc\n",
      "Failed to get 42041h2015.txt.gz: HTTP Error 404: Not Found\n",
      "from disc\n",
      "from disc\n",
      "from disc\n",
      "from disc\n",
      "Failed to get 42007h2016.txt.gz: HTTP Error 404: Not Found\n",
      "from disc\n",
      "from disc\n",
      "from disc\n",
      "from disc\n",
      "from disc\n",
      "Failed to get 42038h2016.txt.gz: HTTP Error 404: Not Found\n",
      "from disc\n",
      "from disc\n",
      "Failed to get 42041h2016.txt.gz: HTTP Error 404: Not Found\n",
      "from disc\n",
      "from disc\n",
      "from disc\n",
      "from disc\n",
      "Failed to get 42007h2017.txt.gz: HTTP Error 404: Not Found\n",
      "from disc\n",
      "from disc\n",
      "from disc\n",
      "from disc\n",
      "from disc\n",
      "Failed to get 42038h2017.txt.gz: HTTP Error 404: Not Found\n",
      "from disc\n",
      "from disc\n",
      "Failed to get 42041h2017.txt.gz: HTTP Error 404: Not Found\n",
      "from disc\n",
      "from disc\n",
      "from disc\n",
      "from disc\n",
      "Failed to get 42007h2018.txt.gz: HTTP Error 404: Not Found\n",
      "from disc\n",
      "from disc\n",
      "from disc\n",
      "from disc\n",
      "Failed to get 42036h2018.txt.gz: HTTP Error 404: Not Found\n",
      "Failed to get 42038h2018.txt.gz: HTTP Error 404: Not Found\n",
      "from disc\n",
      "from disc\n",
      "Failed to get 42041h2018.txt.gz: HTTP Error 404: Not Found\n",
      "from disc\n",
      "from disc\n",
      "from disc\n",
      "Found 1 duplicates is 42002h2019 and removed them!\n",
      "from disc\n",
      "Failed to get 42007h2019.txt.gz: HTTP Error 404: Not Found\n",
      "from disc\n",
      "from disc\n",
      "from disc\n",
      "from disc\n",
      "from disc\n",
      "Failed to get 42038h2019.txt.gz: HTTP Error 404: Not Found\n",
      "from disc\n",
      "from disc\n",
      "Failed to get 42041h2019.txt.gz: HTTP Error 404: Not Found\n",
      "from disc\n",
      "from disc\n",
      "from disc\n",
      "from disc\n",
      "Failed to get 42007h2020.txt.gz: HTTP Error 404: Not Found\n",
      "from disc\n",
      "from disc\n",
      "from disc\n",
      "from disc\n",
      "from disc\n",
      "Failed to get 42038h2020.txt.gz: HTTP Error 404: Not Found\n",
      "from disc\n",
      "from disc\n",
      "Failed to get 42041h2020.txt.gz: HTTP Error 404: Not Found\n",
      "from disc\n",
      "from disc\n",
      "from disc\n",
      "from disc\n",
      "Failed to get 42007h2021.txt.gz: HTTP Error 404: Not Found\n",
      "from disc\n",
      "from disc\n",
      "from disc\n",
      "from disc\n",
      "from disc\n",
      "Failed to get 42038h2021.txt.gz: HTTP Error 404: Not Found\n",
      "from disc\n",
      "from disc\n",
      "Failed to get 42041h2021.txt.gz: HTTP Error 404: Not Found\n",
      "from disc\n",
      "from disc\n",
      "from disc\n",
      "from disc\n",
      "Failed to get 42007h2022.txt.gz: HTTP Error 404: Not Found\n",
      "from disc\n",
      "from disc\n",
      "from disc\n",
      "from disc\n",
      "from disc\n",
      "Failed to get 42038h2022.txt.gz: HTTP Error 404: Not Found\n",
      "from disc\n",
      "from disc\n",
      "Failed to get 42041h2022.txt.gz: HTTP Error 404: Not Found\n",
      "from disc\n",
      "Removed 1744076 rows with NaN values!\n"
     ]
    }
   ],
   "source": [
    "train = mL.get_data_B(files, features, n_in, n_out, nan_threshold, add_ERA5)"
   ],
   "metadata": {
    "collapsed": false,
    "pycharm": {
     "name": "#%%\n"
    }
   }
  },
  {
   "cell_type": "code",
   "execution_count": 6,
   "outputs": [
    {
     "data": {
      "text/plain": "                     WDIR(t-3)  WSPD(t-3)  PRES(t-3)  WDIR_ERA5(t-3)  \\\n2002-01-01 04:00:00       66.0        9.3     1017.1      198.460880   \n2002-01-01 05:00:00       67.0        9.4     1017.2      195.622229   \n2002-01-01 06:00:00       69.0        9.1     1017.2      192.752865   \n2002-01-01 07:00:00       70.0        9.0     1017.1      192.963684   \n2002-01-01 13:00:00       78.0       10.2     1015.7      191.828712   \n...                        ...        ...        ...             ...   \n2022-12-31 19:00:00      117.0        2.4     1018.6      185.397804   \n2022-12-31 20:00:00      108.0        2.7     1018.0      184.083078   \n2022-12-31 21:00:00      115.0        1.8     1017.5      172.157813   \n2022-12-31 22:00:00      108.0        2.4     1016.3      165.626085   \n2022-12-31 23:00:00      114.0        2.0     1016.0      163.191521   \n\n                     WSPD_ERA5(t-3)  PRES_ERA5(t-3)  WDIR(t-2)  WSPD(t-2)  \\\n2002-01-01 04:00:00        9.782997     1016.800242       67.0        9.4   \n2002-01-01 05:00:00        9.517146     1016.907822       69.0        9.1   \n2002-01-01 06:00:00        8.911373     1016.562914       70.0        9.0   \n2002-01-01 07:00:00        8.481407     1017.104074       69.0        9.6   \n2002-01-01 13:00:00        9.656415     1015.942210       80.0       10.0   \n...                             ...             ...        ...        ...   \n2022-12-31 19:00:00        0.976809     1017.201775      108.0        2.7   \n2022-12-31 20:00:00        1.534549     1017.165171      115.0        1.8   \n2022-12-31 21:00:00        1.516896     1016.538601      108.0        2.4   \n2022-12-31 22:00:00        1.428672     1015.749252      114.0        2.0   \n2022-12-31 23:00:00        1.674133     1014.953013      110.0        2.5   \n\n                     PRES(t-2)  WDIR_ERA5(t-2)  ...  PRES(t-1)  \\\n2002-01-01 04:00:00     1017.2      195.622229  ...     1017.2   \n2002-01-01 05:00:00     1017.2      192.752865  ...     1017.1   \n2002-01-01 06:00:00     1017.1      192.963684  ...     1016.5   \n2002-01-01 07:00:00     1016.5      194.397209  ...     1016.2   \n2002-01-01 13:00:00     1015.7      184.076283  ...     1014.9   \n...                        ...             ...  ...        ...   \n2022-12-31 19:00:00     1018.0      184.083078  ...     1017.5   \n2022-12-31 20:00:00     1017.5      172.157813  ...     1016.3   \n2022-12-31 21:00:00     1016.3      165.626085  ...     1016.0   \n2022-12-31 22:00:00     1016.0      163.191521  ...     1015.5   \n2022-12-31 23:00:00     1015.5      160.048319  ...     1015.6   \n\n                     WDIR_ERA5(t-1)  WSPD_ERA5(t-1)  PRES_ERA5(t-1)  WDIR(t)  \\\n2002-01-01 04:00:00      192.752865        8.911373     1016.562914     70.0   \n2002-01-01 05:00:00      192.963684        8.481407     1017.104074     69.0   \n2002-01-01 06:00:00      194.397209        8.035067     1016.824366     72.0   \n2002-01-01 07:00:00      193.785241        8.451408     1016.893478     70.0   \n2002-01-01 13:00:00      175.759396       10.050993     1015.906350     90.0   \n...                             ...             ...             ...      ...   \n2022-12-31 19:00:00      172.157813        1.516896     1016.538601    108.0   \n2022-12-31 20:00:00      165.626085        1.428672     1015.749252    114.0   \n2022-12-31 21:00:00      163.191521        1.674133     1014.953013    110.0   \n2022-12-31 22:00:00      160.048319        1.999245     1014.461231    115.0   \n2022-12-31 23:00:00      163.247095        1.976410     1014.649848    114.0   \n\n                     WSPD(t)  PRES(t)  WDIR_ERA5(t)  WSPD_ERA5(t)  \\\n2002-01-01 04:00:00      9.0   1017.1    192.963684      8.481407   \n2002-01-01 05:00:00      9.6   1016.5    194.397209      8.035067   \n2002-01-01 06:00:00      9.5   1016.2    193.785241      8.451408   \n2002-01-01 07:00:00      9.6   1016.3    194.463238      8.955747   \n2002-01-01 13:00:00     10.2   1015.2    166.023397      9.709110   \n...                      ...      ...           ...           ...   \n2022-12-31 19:00:00      2.4   1016.3    165.626085      1.428672   \n2022-12-31 20:00:00      2.0   1016.0    163.191521      1.674133   \n2022-12-31 21:00:00      2.5   1015.5    160.048319      1.999245   \n2022-12-31 22:00:00      3.1   1015.6    163.247095      1.976410   \n2022-12-31 23:00:00      3.5   1015.9    168.850505      2.415962   \n\n                     PRES_ERA5(t)  \n2002-01-01 04:00:00   1017.104074  \n2002-01-01 05:00:00   1016.824366  \n2002-01-01 06:00:00   1016.893478  \n2002-01-01 07:00:00   1016.710266  \n2002-01-01 13:00:00   1016.105210  \n...                           ...  \n2022-12-31 19:00:00   1015.749252  \n2022-12-31 20:00:00   1014.953013  \n2022-12-31 21:00:00   1014.461231  \n2022-12-31 22:00:00   1014.649848  \n2022-12-31 23:00:00   1014.663628  \n\n[833044 rows x 24 columns]",
      "text/html": "<div>\n<style scoped>\n    .dataframe tbody tr th:only-of-type {\n        vertical-align: middle;\n    }\n\n    .dataframe tbody tr th {\n        vertical-align: top;\n    }\n\n    .dataframe thead th {\n        text-align: right;\n    }\n</style>\n<table border=\"1\" class=\"dataframe\">\n  <thead>\n    <tr style=\"text-align: right;\">\n      <th></th>\n      <th>WDIR(t-3)</th>\n      <th>WSPD(t-3)</th>\n      <th>PRES(t-3)</th>\n      <th>WDIR_ERA5(t-3)</th>\n      <th>WSPD_ERA5(t-3)</th>\n      <th>PRES_ERA5(t-3)</th>\n      <th>WDIR(t-2)</th>\n      <th>WSPD(t-2)</th>\n      <th>PRES(t-2)</th>\n      <th>WDIR_ERA5(t-2)</th>\n      <th>...</th>\n      <th>PRES(t-1)</th>\n      <th>WDIR_ERA5(t-1)</th>\n      <th>WSPD_ERA5(t-1)</th>\n      <th>PRES_ERA5(t-1)</th>\n      <th>WDIR(t)</th>\n      <th>WSPD(t)</th>\n      <th>PRES(t)</th>\n      <th>WDIR_ERA5(t)</th>\n      <th>WSPD_ERA5(t)</th>\n      <th>PRES_ERA5(t)</th>\n    </tr>\n  </thead>\n  <tbody>\n    <tr>\n      <th>2002-01-01 04:00:00</th>\n      <td>66.0</td>\n      <td>9.3</td>\n      <td>1017.1</td>\n      <td>198.460880</td>\n      <td>9.782997</td>\n      <td>1016.800242</td>\n      <td>67.0</td>\n      <td>9.4</td>\n      <td>1017.2</td>\n      <td>195.622229</td>\n      <td>...</td>\n      <td>1017.2</td>\n      <td>192.752865</td>\n      <td>8.911373</td>\n      <td>1016.562914</td>\n      <td>70.0</td>\n      <td>9.0</td>\n      <td>1017.1</td>\n      <td>192.963684</td>\n      <td>8.481407</td>\n      <td>1017.104074</td>\n    </tr>\n    <tr>\n      <th>2002-01-01 05:00:00</th>\n      <td>67.0</td>\n      <td>9.4</td>\n      <td>1017.2</td>\n      <td>195.622229</td>\n      <td>9.517146</td>\n      <td>1016.907822</td>\n      <td>69.0</td>\n      <td>9.1</td>\n      <td>1017.2</td>\n      <td>192.752865</td>\n      <td>...</td>\n      <td>1017.1</td>\n      <td>192.963684</td>\n      <td>8.481407</td>\n      <td>1017.104074</td>\n      <td>69.0</td>\n      <td>9.6</td>\n      <td>1016.5</td>\n      <td>194.397209</td>\n      <td>8.035067</td>\n      <td>1016.824366</td>\n    </tr>\n    <tr>\n      <th>2002-01-01 06:00:00</th>\n      <td>69.0</td>\n      <td>9.1</td>\n      <td>1017.2</td>\n      <td>192.752865</td>\n      <td>8.911373</td>\n      <td>1016.562914</td>\n      <td>70.0</td>\n      <td>9.0</td>\n      <td>1017.1</td>\n      <td>192.963684</td>\n      <td>...</td>\n      <td>1016.5</td>\n      <td>194.397209</td>\n      <td>8.035067</td>\n      <td>1016.824366</td>\n      <td>72.0</td>\n      <td>9.5</td>\n      <td>1016.2</td>\n      <td>193.785241</td>\n      <td>8.451408</td>\n      <td>1016.893478</td>\n    </tr>\n    <tr>\n      <th>2002-01-01 07:00:00</th>\n      <td>70.0</td>\n      <td>9.0</td>\n      <td>1017.1</td>\n      <td>192.963684</td>\n      <td>8.481407</td>\n      <td>1017.104074</td>\n      <td>69.0</td>\n      <td>9.6</td>\n      <td>1016.5</td>\n      <td>194.397209</td>\n      <td>...</td>\n      <td>1016.2</td>\n      <td>193.785241</td>\n      <td>8.451408</td>\n      <td>1016.893478</td>\n      <td>70.0</td>\n      <td>9.6</td>\n      <td>1016.3</td>\n      <td>194.463238</td>\n      <td>8.955747</td>\n      <td>1016.710266</td>\n    </tr>\n    <tr>\n      <th>2002-01-01 13:00:00</th>\n      <td>78.0</td>\n      <td>10.2</td>\n      <td>1015.7</td>\n      <td>191.828712</td>\n      <td>9.656415</td>\n      <td>1015.942210</td>\n      <td>80.0</td>\n      <td>10.0</td>\n      <td>1015.7</td>\n      <td>184.076283</td>\n      <td>...</td>\n      <td>1014.9</td>\n      <td>175.759396</td>\n      <td>10.050993</td>\n      <td>1015.906350</td>\n      <td>90.0</td>\n      <td>10.2</td>\n      <td>1015.2</td>\n      <td>166.023397</td>\n      <td>9.709110</td>\n      <td>1016.105210</td>\n    </tr>\n    <tr>\n      <th>...</th>\n      <td>...</td>\n      <td>...</td>\n      <td>...</td>\n      <td>...</td>\n      <td>...</td>\n      <td>...</td>\n      <td>...</td>\n      <td>...</td>\n      <td>...</td>\n      <td>...</td>\n      <td>...</td>\n      <td>...</td>\n      <td>...</td>\n      <td>...</td>\n      <td>...</td>\n      <td>...</td>\n      <td>...</td>\n      <td>...</td>\n      <td>...</td>\n      <td>...</td>\n      <td>...</td>\n    </tr>\n    <tr>\n      <th>2022-12-31 19:00:00</th>\n      <td>117.0</td>\n      <td>2.4</td>\n      <td>1018.6</td>\n      <td>185.397804</td>\n      <td>0.976809</td>\n      <td>1017.201775</td>\n      <td>108.0</td>\n      <td>2.7</td>\n      <td>1018.0</td>\n      <td>184.083078</td>\n      <td>...</td>\n      <td>1017.5</td>\n      <td>172.157813</td>\n      <td>1.516896</td>\n      <td>1016.538601</td>\n      <td>108.0</td>\n      <td>2.4</td>\n      <td>1016.3</td>\n      <td>165.626085</td>\n      <td>1.428672</td>\n      <td>1015.749252</td>\n    </tr>\n    <tr>\n      <th>2022-12-31 20:00:00</th>\n      <td>108.0</td>\n      <td>2.7</td>\n      <td>1018.0</td>\n      <td>184.083078</td>\n      <td>1.534549</td>\n      <td>1017.165171</td>\n      <td>115.0</td>\n      <td>1.8</td>\n      <td>1017.5</td>\n      <td>172.157813</td>\n      <td>...</td>\n      <td>1016.3</td>\n      <td>165.626085</td>\n      <td>1.428672</td>\n      <td>1015.749252</td>\n      <td>114.0</td>\n      <td>2.0</td>\n      <td>1016.0</td>\n      <td>163.191521</td>\n      <td>1.674133</td>\n      <td>1014.953013</td>\n    </tr>\n    <tr>\n      <th>2022-12-31 21:00:00</th>\n      <td>115.0</td>\n      <td>1.8</td>\n      <td>1017.5</td>\n      <td>172.157813</td>\n      <td>1.516896</td>\n      <td>1016.538601</td>\n      <td>108.0</td>\n      <td>2.4</td>\n      <td>1016.3</td>\n      <td>165.626085</td>\n      <td>...</td>\n      <td>1016.0</td>\n      <td>163.191521</td>\n      <td>1.674133</td>\n      <td>1014.953013</td>\n      <td>110.0</td>\n      <td>2.5</td>\n      <td>1015.5</td>\n      <td>160.048319</td>\n      <td>1.999245</td>\n      <td>1014.461231</td>\n    </tr>\n    <tr>\n      <th>2022-12-31 22:00:00</th>\n      <td>108.0</td>\n      <td>2.4</td>\n      <td>1016.3</td>\n      <td>165.626085</td>\n      <td>1.428672</td>\n      <td>1015.749252</td>\n      <td>114.0</td>\n      <td>2.0</td>\n      <td>1016.0</td>\n      <td>163.191521</td>\n      <td>...</td>\n      <td>1015.5</td>\n      <td>160.048319</td>\n      <td>1.999245</td>\n      <td>1014.461231</td>\n      <td>115.0</td>\n      <td>3.1</td>\n      <td>1015.6</td>\n      <td>163.247095</td>\n      <td>1.976410</td>\n      <td>1014.649848</td>\n    </tr>\n    <tr>\n      <th>2022-12-31 23:00:00</th>\n      <td>114.0</td>\n      <td>2.0</td>\n      <td>1016.0</td>\n      <td>163.191521</td>\n      <td>1.674133</td>\n      <td>1014.953013</td>\n      <td>110.0</td>\n      <td>2.5</td>\n      <td>1015.5</td>\n      <td>160.048319</td>\n      <td>...</td>\n      <td>1015.6</td>\n      <td>163.247095</td>\n      <td>1.976410</td>\n      <td>1014.649848</td>\n      <td>114.0</td>\n      <td>3.5</td>\n      <td>1015.9</td>\n      <td>168.850505</td>\n      <td>2.415962</td>\n      <td>1014.663628</td>\n    </tr>\n  </tbody>\n</table>\n<p>833044 rows × 24 columns</p>\n</div>"
     },
     "execution_count": 6,
     "metadata": {},
     "output_type": "execute_result"
    }
   ],
   "source": [
    "train"
   ],
   "metadata": {
    "collapsed": false,
    "pycharm": {
     "name": "#%%\n"
    }
   }
  },
  {
   "cell_type": "markdown",
   "source": [
    "# Ensure that all records in training data are from a timestamp prior the first test timestamp"
   ],
   "metadata": {
    "collapsed": false,
    "pycharm": {
     "name": "#%% md\n"
    }
   }
  },
  {
   "cell_type": "code",
   "execution_count": 7,
   "outputs": [
    {
     "data": {
      "text/plain": "                     WDIR(t-3)  WSPD(t-3)  PRES(t-3)  WDIR_ERA5(t-3)  \\\n2002-01-01 04:00:00       66.0        9.3     1017.1      198.460880   \n2002-01-01 05:00:00       67.0        9.4     1017.2      195.622229   \n2002-01-01 06:00:00       69.0        9.1     1017.2      192.752865   \n2002-01-01 07:00:00       70.0        9.0     1017.1      192.963684   \n2002-01-01 13:00:00       78.0       10.2     1015.7      191.828712   \n...                        ...        ...        ...             ...   \n2022-12-30 17:00:00      151.0        8.3     1015.4      108.262924   \n2022-12-30 18:00:00      151.0        9.0     1015.8      105.293383   \n2022-12-30 19:00:00      155.0        7.9     1015.9      101.070552   \n2022-12-30 20:00:00      170.0        7.6     1016.1       96.994334   \n2022-12-30 21:00:00      176.0        6.5     1015.5       92.810490   \n\n                     WSPD_ERA5(t-3)  PRES_ERA5(t-3)  WDIR(t-2)  WSPD(t-2)  \\\n2002-01-01 04:00:00        9.782997     1016.800242       67.0        9.4   \n2002-01-01 05:00:00        9.517146     1016.907822       69.0        9.1   \n2002-01-01 06:00:00        8.911373     1016.562914       70.0        9.0   \n2002-01-01 07:00:00        8.481407     1017.104074       69.0        9.6   \n2002-01-01 13:00:00        9.656415     1015.942210       80.0       10.0   \n...                             ...             ...        ...        ...   \n2022-12-30 17:00:00        7.926161     1013.825187      151.0        9.0   \n2022-12-30 18:00:00        7.694256     1014.540468      155.0        7.9   \n2022-12-30 19:00:00        7.443888     1014.780760      170.0        7.6   \n2022-12-30 20:00:00        7.125562     1014.631331      176.0        6.5   \n2022-12-30 21:00:00        6.996244     1013.912606      177.0        7.0   \n\n                     PRES(t-2)  WDIR_ERA5(t-2)  ...  PRES(t-1)  \\\n2002-01-01 04:00:00     1017.2      195.622229  ...     1017.2   \n2002-01-01 05:00:00     1017.2      192.752865  ...     1017.1   \n2002-01-01 06:00:00     1017.1      192.963684  ...     1016.5   \n2002-01-01 07:00:00     1016.5      194.397209  ...     1016.2   \n2002-01-01 13:00:00     1015.7      184.076283  ...     1014.9   \n...                        ...             ...  ...        ...   \n2022-12-30 17:00:00     1015.8      105.293383  ...     1015.9   \n2022-12-30 18:00:00     1015.9      101.070552  ...     1016.1   \n2022-12-30 19:00:00     1016.1       96.994334  ...     1015.5   \n2022-12-30 20:00:00     1015.5       92.810490  ...     1014.1   \n2022-12-30 21:00:00     1014.1       88.714044  ...     1013.8   \n\n                     WDIR_ERA5(t-1)  WSPD_ERA5(t-1)  PRES_ERA5(t-1)  WDIR(t)  \\\n2002-01-01 04:00:00      192.752865        8.911373     1016.562914     70.0   \n2002-01-01 05:00:00      192.963684        8.481407     1017.104074     69.0   \n2002-01-01 06:00:00      194.397209        8.035067     1016.824366     72.0   \n2002-01-01 07:00:00      193.785241        8.451408     1016.893478     70.0   \n2002-01-01 13:00:00      175.759396       10.050993     1015.906350     90.0   \n...                             ...             ...             ...      ...   \n2022-12-30 17:00:00      101.070552        7.443888     1014.780760    170.0   \n2022-12-30 18:00:00       96.994334        7.125562     1014.631331    176.0   \n2022-12-30 19:00:00       92.810490        6.996244     1013.912606    177.0   \n2022-12-30 20:00:00       88.714044        6.862280     1012.748607    187.0   \n2022-12-30 21:00:00       84.951047        6.433312     1012.007058    180.0   \n\n                     WSPD(t)  PRES(t)  WDIR_ERA5(t)  WSPD_ERA5(t)  \\\n2002-01-01 04:00:00      9.0   1017.1    192.963684      8.481407   \n2002-01-01 05:00:00      9.6   1016.5    194.397209      8.035067   \n2002-01-01 06:00:00      9.5   1016.2    193.785241      8.451408   \n2002-01-01 07:00:00      9.6   1016.3    194.463238      8.955747   \n2002-01-01 13:00:00     10.2   1015.2    166.023397      9.709110   \n...                      ...      ...           ...           ...   \n2022-12-30 17:00:00      7.6   1016.1     96.994334      7.125562   \n2022-12-30 18:00:00      6.5   1015.5     92.810490      6.996244   \n2022-12-30 19:00:00      7.0   1014.1     88.714044      6.862280   \n2022-12-30 20:00:00      5.7   1013.8     84.951047      6.433312   \n2022-12-30 21:00:00      5.8   1013.0     82.582222      5.941144   \n\n                     PRES_ERA5(t)  \n2002-01-01 04:00:00   1017.104074  \n2002-01-01 05:00:00   1016.824366  \n2002-01-01 06:00:00   1016.893478  \n2002-01-01 07:00:00   1016.710266  \n2002-01-01 13:00:00   1016.105210  \n...                           ...  \n2022-12-30 17:00:00   1014.631331  \n2022-12-30 18:00:00   1013.912606  \n2022-12-30 19:00:00   1012.748607  \n2022-12-30 20:00:00   1012.007058  \n2022-12-30 21:00:00   1011.541975  \n\n[832844 rows x 24 columns]",
      "text/html": "<div>\n<style scoped>\n    .dataframe tbody tr th:only-of-type {\n        vertical-align: middle;\n    }\n\n    .dataframe tbody tr th {\n        vertical-align: top;\n    }\n\n    .dataframe thead th {\n        text-align: right;\n    }\n</style>\n<table border=\"1\" class=\"dataframe\">\n  <thead>\n    <tr style=\"text-align: right;\">\n      <th></th>\n      <th>WDIR(t-3)</th>\n      <th>WSPD(t-3)</th>\n      <th>PRES(t-3)</th>\n      <th>WDIR_ERA5(t-3)</th>\n      <th>WSPD_ERA5(t-3)</th>\n      <th>PRES_ERA5(t-3)</th>\n      <th>WDIR(t-2)</th>\n      <th>WSPD(t-2)</th>\n      <th>PRES(t-2)</th>\n      <th>WDIR_ERA5(t-2)</th>\n      <th>...</th>\n      <th>PRES(t-1)</th>\n      <th>WDIR_ERA5(t-1)</th>\n      <th>WSPD_ERA5(t-1)</th>\n      <th>PRES_ERA5(t-1)</th>\n      <th>WDIR(t)</th>\n      <th>WSPD(t)</th>\n      <th>PRES(t)</th>\n      <th>WDIR_ERA5(t)</th>\n      <th>WSPD_ERA5(t)</th>\n      <th>PRES_ERA5(t)</th>\n    </tr>\n  </thead>\n  <tbody>\n    <tr>\n      <th>2002-01-01 04:00:00</th>\n      <td>66.0</td>\n      <td>9.3</td>\n      <td>1017.1</td>\n      <td>198.460880</td>\n      <td>9.782997</td>\n      <td>1016.800242</td>\n      <td>67.0</td>\n      <td>9.4</td>\n      <td>1017.2</td>\n      <td>195.622229</td>\n      <td>...</td>\n      <td>1017.2</td>\n      <td>192.752865</td>\n      <td>8.911373</td>\n      <td>1016.562914</td>\n      <td>70.0</td>\n      <td>9.0</td>\n      <td>1017.1</td>\n      <td>192.963684</td>\n      <td>8.481407</td>\n      <td>1017.104074</td>\n    </tr>\n    <tr>\n      <th>2002-01-01 05:00:00</th>\n      <td>67.0</td>\n      <td>9.4</td>\n      <td>1017.2</td>\n      <td>195.622229</td>\n      <td>9.517146</td>\n      <td>1016.907822</td>\n      <td>69.0</td>\n      <td>9.1</td>\n      <td>1017.2</td>\n      <td>192.752865</td>\n      <td>...</td>\n      <td>1017.1</td>\n      <td>192.963684</td>\n      <td>8.481407</td>\n      <td>1017.104074</td>\n      <td>69.0</td>\n      <td>9.6</td>\n      <td>1016.5</td>\n      <td>194.397209</td>\n      <td>8.035067</td>\n      <td>1016.824366</td>\n    </tr>\n    <tr>\n      <th>2002-01-01 06:00:00</th>\n      <td>69.0</td>\n      <td>9.1</td>\n      <td>1017.2</td>\n      <td>192.752865</td>\n      <td>8.911373</td>\n      <td>1016.562914</td>\n      <td>70.0</td>\n      <td>9.0</td>\n      <td>1017.1</td>\n      <td>192.963684</td>\n      <td>...</td>\n      <td>1016.5</td>\n      <td>194.397209</td>\n      <td>8.035067</td>\n      <td>1016.824366</td>\n      <td>72.0</td>\n      <td>9.5</td>\n      <td>1016.2</td>\n      <td>193.785241</td>\n      <td>8.451408</td>\n      <td>1016.893478</td>\n    </tr>\n    <tr>\n      <th>2002-01-01 07:00:00</th>\n      <td>70.0</td>\n      <td>9.0</td>\n      <td>1017.1</td>\n      <td>192.963684</td>\n      <td>8.481407</td>\n      <td>1017.104074</td>\n      <td>69.0</td>\n      <td>9.6</td>\n      <td>1016.5</td>\n      <td>194.397209</td>\n      <td>...</td>\n      <td>1016.2</td>\n      <td>193.785241</td>\n      <td>8.451408</td>\n      <td>1016.893478</td>\n      <td>70.0</td>\n      <td>9.6</td>\n      <td>1016.3</td>\n      <td>194.463238</td>\n      <td>8.955747</td>\n      <td>1016.710266</td>\n    </tr>\n    <tr>\n      <th>2002-01-01 13:00:00</th>\n      <td>78.0</td>\n      <td>10.2</td>\n      <td>1015.7</td>\n      <td>191.828712</td>\n      <td>9.656415</td>\n      <td>1015.942210</td>\n      <td>80.0</td>\n      <td>10.0</td>\n      <td>1015.7</td>\n      <td>184.076283</td>\n      <td>...</td>\n      <td>1014.9</td>\n      <td>175.759396</td>\n      <td>10.050993</td>\n      <td>1015.906350</td>\n      <td>90.0</td>\n      <td>10.2</td>\n      <td>1015.2</td>\n      <td>166.023397</td>\n      <td>9.709110</td>\n      <td>1016.105210</td>\n    </tr>\n    <tr>\n      <th>...</th>\n      <td>...</td>\n      <td>...</td>\n      <td>...</td>\n      <td>...</td>\n      <td>...</td>\n      <td>...</td>\n      <td>...</td>\n      <td>...</td>\n      <td>...</td>\n      <td>...</td>\n      <td>...</td>\n      <td>...</td>\n      <td>...</td>\n      <td>...</td>\n      <td>...</td>\n      <td>...</td>\n      <td>...</td>\n      <td>...</td>\n      <td>...</td>\n      <td>...</td>\n      <td>...</td>\n    </tr>\n    <tr>\n      <th>2022-12-30 17:00:00</th>\n      <td>151.0</td>\n      <td>8.3</td>\n      <td>1015.4</td>\n      <td>108.262924</td>\n      <td>7.926161</td>\n      <td>1013.825187</td>\n      <td>151.0</td>\n      <td>9.0</td>\n      <td>1015.8</td>\n      <td>105.293383</td>\n      <td>...</td>\n      <td>1015.9</td>\n      <td>101.070552</td>\n      <td>7.443888</td>\n      <td>1014.780760</td>\n      <td>170.0</td>\n      <td>7.6</td>\n      <td>1016.1</td>\n      <td>96.994334</td>\n      <td>7.125562</td>\n      <td>1014.631331</td>\n    </tr>\n    <tr>\n      <th>2022-12-30 18:00:00</th>\n      <td>151.0</td>\n      <td>9.0</td>\n      <td>1015.8</td>\n      <td>105.293383</td>\n      <td>7.694256</td>\n      <td>1014.540468</td>\n      <td>155.0</td>\n      <td>7.9</td>\n      <td>1015.9</td>\n      <td>101.070552</td>\n      <td>...</td>\n      <td>1016.1</td>\n      <td>96.994334</td>\n      <td>7.125562</td>\n      <td>1014.631331</td>\n      <td>176.0</td>\n      <td>6.5</td>\n      <td>1015.5</td>\n      <td>92.810490</td>\n      <td>6.996244</td>\n      <td>1013.912606</td>\n    </tr>\n    <tr>\n      <th>2022-12-30 19:00:00</th>\n      <td>155.0</td>\n      <td>7.9</td>\n      <td>1015.9</td>\n      <td>101.070552</td>\n      <td>7.443888</td>\n      <td>1014.780760</td>\n      <td>170.0</td>\n      <td>7.6</td>\n      <td>1016.1</td>\n      <td>96.994334</td>\n      <td>...</td>\n      <td>1015.5</td>\n      <td>92.810490</td>\n      <td>6.996244</td>\n      <td>1013.912606</td>\n      <td>177.0</td>\n      <td>7.0</td>\n      <td>1014.1</td>\n      <td>88.714044</td>\n      <td>6.862280</td>\n      <td>1012.748607</td>\n    </tr>\n    <tr>\n      <th>2022-12-30 20:00:00</th>\n      <td>170.0</td>\n      <td>7.6</td>\n      <td>1016.1</td>\n      <td>96.994334</td>\n      <td>7.125562</td>\n      <td>1014.631331</td>\n      <td>176.0</td>\n      <td>6.5</td>\n      <td>1015.5</td>\n      <td>92.810490</td>\n      <td>...</td>\n      <td>1014.1</td>\n      <td>88.714044</td>\n      <td>6.862280</td>\n      <td>1012.748607</td>\n      <td>187.0</td>\n      <td>5.7</td>\n      <td>1013.8</td>\n      <td>84.951047</td>\n      <td>6.433312</td>\n      <td>1012.007058</td>\n    </tr>\n    <tr>\n      <th>2022-12-30 21:00:00</th>\n      <td>176.0</td>\n      <td>6.5</td>\n      <td>1015.5</td>\n      <td>92.810490</td>\n      <td>6.996244</td>\n      <td>1013.912606</td>\n      <td>177.0</td>\n      <td>7.0</td>\n      <td>1014.1</td>\n      <td>88.714044</td>\n      <td>...</td>\n      <td>1013.8</td>\n      <td>84.951047</td>\n      <td>6.433312</td>\n      <td>1012.007058</td>\n      <td>180.0</td>\n      <td>5.8</td>\n      <td>1013.0</td>\n      <td>82.582222</td>\n      <td>5.941144</td>\n      <td>1011.541975</td>\n    </tr>\n  </tbody>\n</table>\n<p>832844 rows × 24 columns</p>\n</div>"
     },
     "execution_count": 7,
     "metadata": {},
     "output_type": "execute_result"
    }
   ],
   "source": [
    "cutoff_timestamp = pd.to_datetime(f'{int(year)+1}-01-01 00:00:00')-pd.Timedelta(hours=num_test_hours)\n",
    "cutoff_timestamp\n",
    "\n",
    "mask = train.index > cutoff_timestamp\n",
    "train = train[~mask]\n",
    "train"
   ],
   "metadata": {
    "collapsed": false,
    "pycharm": {
     "name": "#%%\n"
    }
   }
  },
  {
   "cell_type": "markdown",
   "source": [
    "# Depending on the provided features, a Test set is build:"
   ],
   "metadata": {
    "collapsed": false,
    "pycharm": {
     "name": "#%% md\n"
    }
   }
  },
  {
   "cell_type": "code",
   "execution_count": 8,
   "outputs": [
    {
     "data": {
      "text/plain": "['WSPD', 'PRES', 'WDIR']"
     },
     "execution_count": 8,
     "metadata": {},
     "output_type": "execute_result"
    }
   ],
   "source": [
    "features = train.columns\n",
    "features = [f.split('(')[0].replace('_ERA5', '') for f in features]\n",
    "features = list(set(features))  #remove duplicates\n",
    "features"
   ],
   "metadata": {
    "collapsed": false,
    "pycharm": {
     "name": "#%%\n"
    }
   }
  },
  {
   "cell_type": "code",
   "execution_count": 9,
   "outputs": [
    {
     "name": "stdout",
     "output_type": "stream",
     "text": [
      "Started with  2022 . Previous year took:   0.0004131793975830078 seconds\n",
      "from disc\n",
      "Finished downloading - now merging it together!\n",
      "Started with  2022 . Previous year took:   9.5367431640625e-07 seconds\n",
      "Finished downloading - now merging it together!\n"
     ]
    },
    {
     "data": {
      "text/plain": "                     WDIR(t-3)  WSPD(t-3)  PRES(t-3)  WSPD_ERA5(t-3)  \\\ntimestamp                                                              \n2022-12-30 23:00:00      174.0        8.3     1012.1        9.214088   \n2022-12-31 00:00:00      178.0        7.1     1012.1        7.537587   \n2022-12-31 01:00:00      185.0        7.1     1012.5        6.664921   \n2022-12-31 02:00:00      185.0        5.9     1012.9        5.301299   \n2022-12-31 03:00:00      189.0        5.0     1013.5        5.057694   \n2022-12-31 04:00:00      203.0        5.6     1013.8        5.587926   \n2022-12-31 05:00:00      169.0        2.3     1014.5        5.840792   \n2022-12-31 06:00:00       53.0        6.0     1014.8        6.463279   \n2022-12-31 07:00:00       55.0        8.5     1015.2        6.500897   \n2022-12-31 08:00:00       72.0        7.6     1014.9        6.541557   \n2022-12-31 09:00:00       77.0        7.2     1014.4        6.465415   \n2022-12-31 10:00:00       97.0        7.8     1014.1        6.487022   \n2022-12-31 11:00:00      148.0        3.3     1013.9        6.690521   \n2022-12-31 12:00:00      195.0        5.4     1014.0        6.661433   \n2022-12-31 13:00:00      223.0        5.1     1014.4        4.087878   \n2022-12-31 14:00:00       18.0        3.3     1015.0        3.082339   \n2022-12-31 15:00:00      115.0        2.1     1014.9        2.253867   \n2022-12-31 16:00:00       31.0        0.9     1015.4        1.868949   \n2022-12-31 17:00:00       97.0        0.8     1015.9        2.137407   \n2022-12-31 18:00:00      113.0        1.9     1016.6        2.001684   \n2022-12-31 19:00:00      124.0        0.8     1017.1        1.689902   \n2022-12-31 20:00:00      107.0        1.1     1016.6        1.136156   \n2022-12-31 21:00:00      147.0        1.1     1015.9        0.956942   \n2022-12-31 22:00:00      195.0        0.5     1015.0        0.601025   \n2022-12-31 23:00:00      210.0        1.0     1015.0        0.979714   \n\n                     WDIR_ERA5(t-3)  PRES_ERA5(t-3)  WDIR(t-2)  WSPD(t-2)  \\\ntimestamp                                                                   \n2022-12-30 23:00:00       82.921450     1013.439475      178.0        7.1   \n2022-12-31 00:00:00       73.692776     1013.466818      185.0        7.1   \n2022-12-31 01:00:00       88.954451     1013.615090      185.0        5.9   \n2022-12-31 02:00:00       75.851396     1013.856175      189.0        5.0   \n2022-12-31 03:00:00       66.884523     1014.403047      203.0        5.6   \n2022-12-31 04:00:00       67.669663     1015.191389      169.0        2.3   \n2022-12-31 05:00:00       72.227735     1015.804887       53.0        6.0   \n2022-12-31 06:00:00       69.389256     1016.208879       55.0        8.5   \n2022-12-31 07:00:00       61.461657     1016.314402       72.0        7.6   \n2022-12-31 08:00:00       53.576686     1016.235452       77.0        7.2   \n2022-12-31 09:00:00       56.308269     1015.708607       97.0        7.8   \n2022-12-31 10:00:00       61.932861     1015.506803      148.0        3.3   \n2022-12-31 11:00:00       65.444207     1015.204484      195.0        5.4   \n2022-12-31 12:00:00       60.655439     1015.499486      223.0        5.1   \n2022-12-31 13:00:00       44.785787     1015.262637       18.0        3.3   \n2022-12-31 14:00:00       46.984747     1015.781780      115.0        2.1   \n2022-12-31 15:00:00       41.578548     1016.172677       31.0        0.9   \n2022-12-31 16:00:00       45.624845     1016.523137       97.0        0.8   \n2022-12-31 17:00:00       61.040945     1017.198254      113.0        1.9   \n2022-12-31 18:00:00       69.936360     1017.826386      124.0        0.8   \n2022-12-31 19:00:00       57.291839     1018.226912      107.0        1.1   \n2022-12-31 20:00:00       27.849093     1018.087498      147.0        1.1   \n2022-12-31 21:00:00        4.265350     1017.561423      195.0        0.5   \n2022-12-31 22:00:00      331.707817     1016.724556      210.0        1.0   \n2022-12-31 23:00:00      213.539484     1016.415689      231.0        0.6   \n\n                     PRES(t-2)  WSPD_ERA5(t-2)  ...  PRES(t-1)  \\\ntimestamp                                       ...              \n2022-12-30 23:00:00     1012.1        7.537587  ...     1012.5   \n2022-12-31 00:00:00     1012.5        6.664921  ...     1012.9   \n2022-12-31 01:00:00     1012.9        5.301299  ...     1013.5   \n2022-12-31 02:00:00     1013.5        5.057694  ...     1013.8   \n2022-12-31 03:00:00     1013.8        5.587926  ...     1014.5   \n2022-12-31 04:00:00     1014.5        5.840792  ...     1014.8   \n2022-12-31 05:00:00     1014.8        6.463279  ...     1015.2   \n2022-12-31 06:00:00     1015.2        6.500897  ...     1014.9   \n2022-12-31 07:00:00     1014.9        6.541557  ...     1014.4   \n2022-12-31 08:00:00     1014.4        6.465415  ...     1014.1   \n2022-12-31 09:00:00     1014.1        6.487022  ...     1013.9   \n2022-12-31 10:00:00     1013.9        6.690521  ...     1014.0   \n2022-12-31 11:00:00     1014.0        6.661433  ...     1014.4   \n2022-12-31 12:00:00     1014.4        4.087878  ...     1015.0   \n2022-12-31 13:00:00     1015.0        3.082339  ...     1014.9   \n2022-12-31 14:00:00     1014.9        2.253867  ...     1015.4   \n2022-12-31 15:00:00     1015.4        1.868949  ...     1015.9   \n2022-12-31 16:00:00     1015.9        2.137407  ...     1016.6   \n2022-12-31 17:00:00     1016.6        2.001684  ...     1017.1   \n2022-12-31 18:00:00     1017.1        1.689902  ...     1016.6   \n2022-12-31 19:00:00     1016.6        1.136156  ...     1015.9   \n2022-12-31 20:00:00     1015.9        0.956942  ...     1015.0   \n2022-12-31 21:00:00     1015.0        0.601025  ...     1015.0   \n2022-12-31 22:00:00     1015.0        0.979714  ...     1014.7   \n2022-12-31 23:00:00     1014.7        2.067327  ...     1014.9   \n\n                     WSPD_ERA5(t-1)  WDIR_ERA5(t-1)  PRES_ERA5(t-1)  WDIR(t)  \\\ntimestamp                                                                      \n2022-12-30 23:00:00        6.664921       88.954451     1013.615090    185.0   \n2022-12-31 00:00:00        5.301299       75.851396     1013.856175    189.0   \n2022-12-31 01:00:00        5.057694       66.884523     1014.403047    203.0   \n2022-12-31 02:00:00        5.587926       67.669663     1015.191389    169.0   \n2022-12-31 03:00:00        5.840792       72.227735     1015.804887     53.0   \n2022-12-31 04:00:00        6.463279       69.389256     1016.208879     55.0   \n2022-12-31 05:00:00        6.500897       61.461657     1016.314402     72.0   \n2022-12-31 06:00:00        6.541557       53.576686     1016.235452     77.0   \n2022-12-31 07:00:00        6.465415       56.308269     1015.708607     97.0   \n2022-12-31 08:00:00        6.487022       61.932861     1015.506803    148.0   \n2022-12-31 09:00:00        6.690521       65.444207     1015.204484    195.0   \n2022-12-31 10:00:00        6.661433       60.655439     1015.499486    223.0   \n2022-12-31 11:00:00        4.087878       44.785787     1015.262637     18.0   \n2022-12-31 12:00:00        3.082339       46.984747     1015.781780    115.0   \n2022-12-31 13:00:00        2.253867       41.578548     1016.172677     31.0   \n2022-12-31 14:00:00        1.868949       45.624845     1016.523137     97.0   \n2022-12-31 15:00:00        2.137407       61.040945     1017.198254    113.0   \n2022-12-31 16:00:00        2.001684       69.936360     1017.826386    124.0   \n2022-12-31 17:00:00        1.689902       57.291839     1018.226912    107.0   \n2022-12-31 18:00:00        1.136156       27.849093     1018.087498    147.0   \n2022-12-31 19:00:00        0.956942        4.265350     1017.561423    195.0   \n2022-12-31 20:00:00        0.601025      331.707817     1016.724556    210.0   \n2022-12-31 21:00:00        0.979714      213.539484     1016.415689    231.0   \n2022-12-31 22:00:00        2.067327      185.761738     1015.928896     18.0   \n2022-12-31 23:00:00        1.554299      186.942913     1016.562420     68.0   \n\n                     WSPD(t)  PRES(t)  WSPD_ERA5(t)  WDIR_ERA5(t)  \\\ntimestamp                                                           \n2022-12-30 23:00:00      5.9   1012.9      5.301299     75.851396   \n2022-12-31 00:00:00      5.0   1013.5      5.057694     66.884523   \n2022-12-31 01:00:00      5.6   1013.8      5.587926     67.669663   \n2022-12-31 02:00:00      2.3   1014.5      5.840792     72.227735   \n2022-12-31 03:00:00      6.0   1014.8      6.463279     69.389256   \n2022-12-31 04:00:00      8.5   1015.2      6.500897     61.461657   \n2022-12-31 05:00:00      7.6   1014.9      6.541557     53.576686   \n2022-12-31 06:00:00      7.2   1014.4      6.465415     56.308269   \n2022-12-31 07:00:00      7.8   1014.1      6.487022     61.932861   \n2022-12-31 08:00:00      3.3   1013.9      6.690521     65.444207   \n2022-12-31 09:00:00      5.4   1014.0      6.661433     60.655439   \n2022-12-31 10:00:00      5.1   1014.4      4.087878     44.785787   \n2022-12-31 11:00:00      3.3   1015.0      3.082339     46.984747   \n2022-12-31 12:00:00      2.1   1014.9      2.253867     41.578548   \n2022-12-31 13:00:00      0.9   1015.4      1.868949     45.624845   \n2022-12-31 14:00:00      0.8   1015.9      2.137407     61.040945   \n2022-12-31 15:00:00      1.9   1016.6      2.001684     69.936360   \n2022-12-31 16:00:00      0.8   1017.1      1.689902     57.291839   \n2022-12-31 17:00:00      1.1   1016.6      1.136156     27.849093   \n2022-12-31 18:00:00      1.1   1015.9      0.956942      4.265350   \n2022-12-31 19:00:00      0.5   1015.0      0.601025    331.707817   \n2022-12-31 20:00:00      1.0   1015.0      0.979714    213.539484   \n2022-12-31 21:00:00      0.6   1014.7      2.067327    185.761738   \n2022-12-31 22:00:00      0.7   1014.9      1.554299    186.942913   \n2022-12-31 23:00:00      1.6   1015.0      2.206784    152.648150   \n\n                     PRES_ERA5(t)  \ntimestamp                          \n2022-12-30 23:00:00   1013.856175  \n2022-12-31 00:00:00   1014.403047  \n2022-12-31 01:00:00   1015.191389  \n2022-12-31 02:00:00   1015.804887  \n2022-12-31 03:00:00   1016.208879  \n2022-12-31 04:00:00   1016.314402  \n2022-12-31 05:00:00   1016.235452  \n2022-12-31 06:00:00   1015.708607  \n2022-12-31 07:00:00   1015.506803  \n2022-12-31 08:00:00   1015.204484  \n2022-12-31 09:00:00   1015.499486  \n2022-12-31 10:00:00   1015.262637  \n2022-12-31 11:00:00   1015.781780  \n2022-12-31 12:00:00   1016.172677  \n2022-12-31 13:00:00   1016.523137  \n2022-12-31 14:00:00   1017.198254  \n2022-12-31 15:00:00   1017.826386  \n2022-12-31 16:00:00   1018.226912  \n2022-12-31 17:00:00   1018.087498  \n2022-12-31 18:00:00   1017.561423  \n2022-12-31 19:00:00   1016.724556  \n2022-12-31 20:00:00   1016.415689  \n2022-12-31 21:00:00   1015.928896  \n2022-12-31 22:00:00   1016.562420  \n2022-12-31 23:00:00   1016.741116  \n\n[25 rows x 24 columns]",
      "text/html": "<div>\n<style scoped>\n    .dataframe tbody tr th:only-of-type {\n        vertical-align: middle;\n    }\n\n    .dataframe tbody tr th {\n        vertical-align: top;\n    }\n\n    .dataframe thead th {\n        text-align: right;\n    }\n</style>\n<table border=\"1\" class=\"dataframe\">\n  <thead>\n    <tr style=\"text-align: right;\">\n      <th></th>\n      <th>WDIR(t-3)</th>\n      <th>WSPD(t-3)</th>\n      <th>PRES(t-3)</th>\n      <th>WSPD_ERA5(t-3)</th>\n      <th>WDIR_ERA5(t-3)</th>\n      <th>PRES_ERA5(t-3)</th>\n      <th>WDIR(t-2)</th>\n      <th>WSPD(t-2)</th>\n      <th>PRES(t-2)</th>\n      <th>WSPD_ERA5(t-2)</th>\n      <th>...</th>\n      <th>PRES(t-1)</th>\n      <th>WSPD_ERA5(t-1)</th>\n      <th>WDIR_ERA5(t-1)</th>\n      <th>PRES_ERA5(t-1)</th>\n      <th>WDIR(t)</th>\n      <th>WSPD(t)</th>\n      <th>PRES(t)</th>\n      <th>WSPD_ERA5(t)</th>\n      <th>WDIR_ERA5(t)</th>\n      <th>PRES_ERA5(t)</th>\n    </tr>\n    <tr>\n      <th>timestamp</th>\n      <th></th>\n      <th></th>\n      <th></th>\n      <th></th>\n      <th></th>\n      <th></th>\n      <th></th>\n      <th></th>\n      <th></th>\n      <th></th>\n      <th></th>\n      <th></th>\n      <th></th>\n      <th></th>\n      <th></th>\n      <th></th>\n      <th></th>\n      <th></th>\n      <th></th>\n      <th></th>\n      <th></th>\n    </tr>\n  </thead>\n  <tbody>\n    <tr>\n      <th>2022-12-30 23:00:00</th>\n      <td>174.0</td>\n      <td>8.3</td>\n      <td>1012.1</td>\n      <td>9.214088</td>\n      <td>82.921450</td>\n      <td>1013.439475</td>\n      <td>178.0</td>\n      <td>7.1</td>\n      <td>1012.1</td>\n      <td>7.537587</td>\n      <td>...</td>\n      <td>1012.5</td>\n      <td>6.664921</td>\n      <td>88.954451</td>\n      <td>1013.615090</td>\n      <td>185.0</td>\n      <td>5.9</td>\n      <td>1012.9</td>\n      <td>5.301299</td>\n      <td>75.851396</td>\n      <td>1013.856175</td>\n    </tr>\n    <tr>\n      <th>2022-12-31 00:00:00</th>\n      <td>178.0</td>\n      <td>7.1</td>\n      <td>1012.1</td>\n      <td>7.537587</td>\n      <td>73.692776</td>\n      <td>1013.466818</td>\n      <td>185.0</td>\n      <td>7.1</td>\n      <td>1012.5</td>\n      <td>6.664921</td>\n      <td>...</td>\n      <td>1012.9</td>\n      <td>5.301299</td>\n      <td>75.851396</td>\n      <td>1013.856175</td>\n      <td>189.0</td>\n      <td>5.0</td>\n      <td>1013.5</td>\n      <td>5.057694</td>\n      <td>66.884523</td>\n      <td>1014.403047</td>\n    </tr>\n    <tr>\n      <th>2022-12-31 01:00:00</th>\n      <td>185.0</td>\n      <td>7.1</td>\n      <td>1012.5</td>\n      <td>6.664921</td>\n      <td>88.954451</td>\n      <td>1013.615090</td>\n      <td>185.0</td>\n      <td>5.9</td>\n      <td>1012.9</td>\n      <td>5.301299</td>\n      <td>...</td>\n      <td>1013.5</td>\n      <td>5.057694</td>\n      <td>66.884523</td>\n      <td>1014.403047</td>\n      <td>203.0</td>\n      <td>5.6</td>\n      <td>1013.8</td>\n      <td>5.587926</td>\n      <td>67.669663</td>\n      <td>1015.191389</td>\n    </tr>\n    <tr>\n      <th>2022-12-31 02:00:00</th>\n      <td>185.0</td>\n      <td>5.9</td>\n      <td>1012.9</td>\n      <td>5.301299</td>\n      <td>75.851396</td>\n      <td>1013.856175</td>\n      <td>189.0</td>\n      <td>5.0</td>\n      <td>1013.5</td>\n      <td>5.057694</td>\n      <td>...</td>\n      <td>1013.8</td>\n      <td>5.587926</td>\n      <td>67.669663</td>\n      <td>1015.191389</td>\n      <td>169.0</td>\n      <td>2.3</td>\n      <td>1014.5</td>\n      <td>5.840792</td>\n      <td>72.227735</td>\n      <td>1015.804887</td>\n    </tr>\n    <tr>\n      <th>2022-12-31 03:00:00</th>\n      <td>189.0</td>\n      <td>5.0</td>\n      <td>1013.5</td>\n      <td>5.057694</td>\n      <td>66.884523</td>\n      <td>1014.403047</td>\n      <td>203.0</td>\n      <td>5.6</td>\n      <td>1013.8</td>\n      <td>5.587926</td>\n      <td>...</td>\n      <td>1014.5</td>\n      <td>5.840792</td>\n      <td>72.227735</td>\n      <td>1015.804887</td>\n      <td>53.0</td>\n      <td>6.0</td>\n      <td>1014.8</td>\n      <td>6.463279</td>\n      <td>69.389256</td>\n      <td>1016.208879</td>\n    </tr>\n    <tr>\n      <th>2022-12-31 04:00:00</th>\n      <td>203.0</td>\n      <td>5.6</td>\n      <td>1013.8</td>\n      <td>5.587926</td>\n      <td>67.669663</td>\n      <td>1015.191389</td>\n      <td>169.0</td>\n      <td>2.3</td>\n      <td>1014.5</td>\n      <td>5.840792</td>\n      <td>...</td>\n      <td>1014.8</td>\n      <td>6.463279</td>\n      <td>69.389256</td>\n      <td>1016.208879</td>\n      <td>55.0</td>\n      <td>8.5</td>\n      <td>1015.2</td>\n      <td>6.500897</td>\n      <td>61.461657</td>\n      <td>1016.314402</td>\n    </tr>\n    <tr>\n      <th>2022-12-31 05:00:00</th>\n      <td>169.0</td>\n      <td>2.3</td>\n      <td>1014.5</td>\n      <td>5.840792</td>\n      <td>72.227735</td>\n      <td>1015.804887</td>\n      <td>53.0</td>\n      <td>6.0</td>\n      <td>1014.8</td>\n      <td>6.463279</td>\n      <td>...</td>\n      <td>1015.2</td>\n      <td>6.500897</td>\n      <td>61.461657</td>\n      <td>1016.314402</td>\n      <td>72.0</td>\n      <td>7.6</td>\n      <td>1014.9</td>\n      <td>6.541557</td>\n      <td>53.576686</td>\n      <td>1016.235452</td>\n    </tr>\n    <tr>\n      <th>2022-12-31 06:00:00</th>\n      <td>53.0</td>\n      <td>6.0</td>\n      <td>1014.8</td>\n      <td>6.463279</td>\n      <td>69.389256</td>\n      <td>1016.208879</td>\n      <td>55.0</td>\n      <td>8.5</td>\n      <td>1015.2</td>\n      <td>6.500897</td>\n      <td>...</td>\n      <td>1014.9</td>\n      <td>6.541557</td>\n      <td>53.576686</td>\n      <td>1016.235452</td>\n      <td>77.0</td>\n      <td>7.2</td>\n      <td>1014.4</td>\n      <td>6.465415</td>\n      <td>56.308269</td>\n      <td>1015.708607</td>\n    </tr>\n    <tr>\n      <th>2022-12-31 07:00:00</th>\n      <td>55.0</td>\n      <td>8.5</td>\n      <td>1015.2</td>\n      <td>6.500897</td>\n      <td>61.461657</td>\n      <td>1016.314402</td>\n      <td>72.0</td>\n      <td>7.6</td>\n      <td>1014.9</td>\n      <td>6.541557</td>\n      <td>...</td>\n      <td>1014.4</td>\n      <td>6.465415</td>\n      <td>56.308269</td>\n      <td>1015.708607</td>\n      <td>97.0</td>\n      <td>7.8</td>\n      <td>1014.1</td>\n      <td>6.487022</td>\n      <td>61.932861</td>\n      <td>1015.506803</td>\n    </tr>\n    <tr>\n      <th>2022-12-31 08:00:00</th>\n      <td>72.0</td>\n      <td>7.6</td>\n      <td>1014.9</td>\n      <td>6.541557</td>\n      <td>53.576686</td>\n      <td>1016.235452</td>\n      <td>77.0</td>\n      <td>7.2</td>\n      <td>1014.4</td>\n      <td>6.465415</td>\n      <td>...</td>\n      <td>1014.1</td>\n      <td>6.487022</td>\n      <td>61.932861</td>\n      <td>1015.506803</td>\n      <td>148.0</td>\n      <td>3.3</td>\n      <td>1013.9</td>\n      <td>6.690521</td>\n      <td>65.444207</td>\n      <td>1015.204484</td>\n    </tr>\n    <tr>\n      <th>2022-12-31 09:00:00</th>\n      <td>77.0</td>\n      <td>7.2</td>\n      <td>1014.4</td>\n      <td>6.465415</td>\n      <td>56.308269</td>\n      <td>1015.708607</td>\n      <td>97.0</td>\n      <td>7.8</td>\n      <td>1014.1</td>\n      <td>6.487022</td>\n      <td>...</td>\n      <td>1013.9</td>\n      <td>6.690521</td>\n      <td>65.444207</td>\n      <td>1015.204484</td>\n      <td>195.0</td>\n      <td>5.4</td>\n      <td>1014.0</td>\n      <td>6.661433</td>\n      <td>60.655439</td>\n      <td>1015.499486</td>\n    </tr>\n    <tr>\n      <th>2022-12-31 10:00:00</th>\n      <td>97.0</td>\n      <td>7.8</td>\n      <td>1014.1</td>\n      <td>6.487022</td>\n      <td>61.932861</td>\n      <td>1015.506803</td>\n      <td>148.0</td>\n      <td>3.3</td>\n      <td>1013.9</td>\n      <td>6.690521</td>\n      <td>...</td>\n      <td>1014.0</td>\n      <td>6.661433</td>\n      <td>60.655439</td>\n      <td>1015.499486</td>\n      <td>223.0</td>\n      <td>5.1</td>\n      <td>1014.4</td>\n      <td>4.087878</td>\n      <td>44.785787</td>\n      <td>1015.262637</td>\n    </tr>\n    <tr>\n      <th>2022-12-31 11:00:00</th>\n      <td>148.0</td>\n      <td>3.3</td>\n      <td>1013.9</td>\n      <td>6.690521</td>\n      <td>65.444207</td>\n      <td>1015.204484</td>\n      <td>195.0</td>\n      <td>5.4</td>\n      <td>1014.0</td>\n      <td>6.661433</td>\n      <td>...</td>\n      <td>1014.4</td>\n      <td>4.087878</td>\n      <td>44.785787</td>\n      <td>1015.262637</td>\n      <td>18.0</td>\n      <td>3.3</td>\n      <td>1015.0</td>\n      <td>3.082339</td>\n      <td>46.984747</td>\n      <td>1015.781780</td>\n    </tr>\n    <tr>\n      <th>2022-12-31 12:00:00</th>\n      <td>195.0</td>\n      <td>5.4</td>\n      <td>1014.0</td>\n      <td>6.661433</td>\n      <td>60.655439</td>\n      <td>1015.499486</td>\n      <td>223.0</td>\n      <td>5.1</td>\n      <td>1014.4</td>\n      <td>4.087878</td>\n      <td>...</td>\n      <td>1015.0</td>\n      <td>3.082339</td>\n      <td>46.984747</td>\n      <td>1015.781780</td>\n      <td>115.0</td>\n      <td>2.1</td>\n      <td>1014.9</td>\n      <td>2.253867</td>\n      <td>41.578548</td>\n      <td>1016.172677</td>\n    </tr>\n    <tr>\n      <th>2022-12-31 13:00:00</th>\n      <td>223.0</td>\n      <td>5.1</td>\n      <td>1014.4</td>\n      <td>4.087878</td>\n      <td>44.785787</td>\n      <td>1015.262637</td>\n      <td>18.0</td>\n      <td>3.3</td>\n      <td>1015.0</td>\n      <td>3.082339</td>\n      <td>...</td>\n      <td>1014.9</td>\n      <td>2.253867</td>\n      <td>41.578548</td>\n      <td>1016.172677</td>\n      <td>31.0</td>\n      <td>0.9</td>\n      <td>1015.4</td>\n      <td>1.868949</td>\n      <td>45.624845</td>\n      <td>1016.523137</td>\n    </tr>\n    <tr>\n      <th>2022-12-31 14:00:00</th>\n      <td>18.0</td>\n      <td>3.3</td>\n      <td>1015.0</td>\n      <td>3.082339</td>\n      <td>46.984747</td>\n      <td>1015.781780</td>\n      <td>115.0</td>\n      <td>2.1</td>\n      <td>1014.9</td>\n      <td>2.253867</td>\n      <td>...</td>\n      <td>1015.4</td>\n      <td>1.868949</td>\n      <td>45.624845</td>\n      <td>1016.523137</td>\n      <td>97.0</td>\n      <td>0.8</td>\n      <td>1015.9</td>\n      <td>2.137407</td>\n      <td>61.040945</td>\n      <td>1017.198254</td>\n    </tr>\n    <tr>\n      <th>2022-12-31 15:00:00</th>\n      <td>115.0</td>\n      <td>2.1</td>\n      <td>1014.9</td>\n      <td>2.253867</td>\n      <td>41.578548</td>\n      <td>1016.172677</td>\n      <td>31.0</td>\n      <td>0.9</td>\n      <td>1015.4</td>\n      <td>1.868949</td>\n      <td>...</td>\n      <td>1015.9</td>\n      <td>2.137407</td>\n      <td>61.040945</td>\n      <td>1017.198254</td>\n      <td>113.0</td>\n      <td>1.9</td>\n      <td>1016.6</td>\n      <td>2.001684</td>\n      <td>69.936360</td>\n      <td>1017.826386</td>\n    </tr>\n    <tr>\n      <th>2022-12-31 16:00:00</th>\n      <td>31.0</td>\n      <td>0.9</td>\n      <td>1015.4</td>\n      <td>1.868949</td>\n      <td>45.624845</td>\n      <td>1016.523137</td>\n      <td>97.0</td>\n      <td>0.8</td>\n      <td>1015.9</td>\n      <td>2.137407</td>\n      <td>...</td>\n      <td>1016.6</td>\n      <td>2.001684</td>\n      <td>69.936360</td>\n      <td>1017.826386</td>\n      <td>124.0</td>\n      <td>0.8</td>\n      <td>1017.1</td>\n      <td>1.689902</td>\n      <td>57.291839</td>\n      <td>1018.226912</td>\n    </tr>\n    <tr>\n      <th>2022-12-31 17:00:00</th>\n      <td>97.0</td>\n      <td>0.8</td>\n      <td>1015.9</td>\n      <td>2.137407</td>\n      <td>61.040945</td>\n      <td>1017.198254</td>\n      <td>113.0</td>\n      <td>1.9</td>\n      <td>1016.6</td>\n      <td>2.001684</td>\n      <td>...</td>\n      <td>1017.1</td>\n      <td>1.689902</td>\n      <td>57.291839</td>\n      <td>1018.226912</td>\n      <td>107.0</td>\n      <td>1.1</td>\n      <td>1016.6</td>\n      <td>1.136156</td>\n      <td>27.849093</td>\n      <td>1018.087498</td>\n    </tr>\n    <tr>\n      <th>2022-12-31 18:00:00</th>\n      <td>113.0</td>\n      <td>1.9</td>\n      <td>1016.6</td>\n      <td>2.001684</td>\n      <td>69.936360</td>\n      <td>1017.826386</td>\n      <td>124.0</td>\n      <td>0.8</td>\n      <td>1017.1</td>\n      <td>1.689902</td>\n      <td>...</td>\n      <td>1016.6</td>\n      <td>1.136156</td>\n      <td>27.849093</td>\n      <td>1018.087498</td>\n      <td>147.0</td>\n      <td>1.1</td>\n      <td>1015.9</td>\n      <td>0.956942</td>\n      <td>4.265350</td>\n      <td>1017.561423</td>\n    </tr>\n    <tr>\n      <th>2022-12-31 19:00:00</th>\n      <td>124.0</td>\n      <td>0.8</td>\n      <td>1017.1</td>\n      <td>1.689902</td>\n      <td>57.291839</td>\n      <td>1018.226912</td>\n      <td>107.0</td>\n      <td>1.1</td>\n      <td>1016.6</td>\n      <td>1.136156</td>\n      <td>...</td>\n      <td>1015.9</td>\n      <td>0.956942</td>\n      <td>4.265350</td>\n      <td>1017.561423</td>\n      <td>195.0</td>\n      <td>0.5</td>\n      <td>1015.0</td>\n      <td>0.601025</td>\n      <td>331.707817</td>\n      <td>1016.724556</td>\n    </tr>\n    <tr>\n      <th>2022-12-31 20:00:00</th>\n      <td>107.0</td>\n      <td>1.1</td>\n      <td>1016.6</td>\n      <td>1.136156</td>\n      <td>27.849093</td>\n      <td>1018.087498</td>\n      <td>147.0</td>\n      <td>1.1</td>\n      <td>1015.9</td>\n      <td>0.956942</td>\n      <td>...</td>\n      <td>1015.0</td>\n      <td>0.601025</td>\n      <td>331.707817</td>\n      <td>1016.724556</td>\n      <td>210.0</td>\n      <td>1.0</td>\n      <td>1015.0</td>\n      <td>0.979714</td>\n      <td>213.539484</td>\n      <td>1016.415689</td>\n    </tr>\n    <tr>\n      <th>2022-12-31 21:00:00</th>\n      <td>147.0</td>\n      <td>1.1</td>\n      <td>1015.9</td>\n      <td>0.956942</td>\n      <td>4.265350</td>\n      <td>1017.561423</td>\n      <td>195.0</td>\n      <td>0.5</td>\n      <td>1015.0</td>\n      <td>0.601025</td>\n      <td>...</td>\n      <td>1015.0</td>\n      <td>0.979714</td>\n      <td>213.539484</td>\n      <td>1016.415689</td>\n      <td>231.0</td>\n      <td>0.6</td>\n      <td>1014.7</td>\n      <td>2.067327</td>\n      <td>185.761738</td>\n      <td>1015.928896</td>\n    </tr>\n    <tr>\n      <th>2022-12-31 22:00:00</th>\n      <td>195.0</td>\n      <td>0.5</td>\n      <td>1015.0</td>\n      <td>0.601025</td>\n      <td>331.707817</td>\n      <td>1016.724556</td>\n      <td>210.0</td>\n      <td>1.0</td>\n      <td>1015.0</td>\n      <td>0.979714</td>\n      <td>...</td>\n      <td>1014.7</td>\n      <td>2.067327</td>\n      <td>185.761738</td>\n      <td>1015.928896</td>\n      <td>18.0</td>\n      <td>0.7</td>\n      <td>1014.9</td>\n      <td>1.554299</td>\n      <td>186.942913</td>\n      <td>1016.562420</td>\n    </tr>\n    <tr>\n      <th>2022-12-31 23:00:00</th>\n      <td>210.0</td>\n      <td>1.0</td>\n      <td>1015.0</td>\n      <td>0.979714</td>\n      <td>213.539484</td>\n      <td>1016.415689</td>\n      <td>231.0</td>\n      <td>0.6</td>\n      <td>1014.7</td>\n      <td>2.067327</td>\n      <td>...</td>\n      <td>1014.9</td>\n      <td>1.554299</td>\n      <td>186.942913</td>\n      <td>1016.562420</td>\n      <td>68.0</td>\n      <td>1.6</td>\n      <td>1015.0</td>\n      <td>2.206784</td>\n      <td>152.648150</td>\n      <td>1016.741116</td>\n    </tr>\n  </tbody>\n</table>\n<p>25 rows × 24 columns</p>\n</div>"
     },
     "execution_count": 9,
     "metadata": {},
     "output_type": "execute_result"
    }
   ],
   "source": [
    "station_id = station_id.lower()\n",
    "test = mL.get_data_A([station_id], [year],1,features ,add_ERA5).tail(num_test_hours+1)\n",
    "test.columns = test.columns.str.replace(f'_{station_id}', '')\n",
    "test = mL.DataProcessor.data_to_supervised(test, n_in, n_out, True)\n",
    "test"
   ],
   "metadata": {
    "collapsed": false,
    "pycharm": {
     "name": "#%%\n"
    }
   }
  },
  {
   "cell_type": "markdown",
   "source": [
    "# Save to disc:"
   ],
   "metadata": {
    "collapsed": false,
    "pycharm": {
     "name": "#%% md\n"
    }
   }
  },
  {
   "cell_type": "code",
   "execution_count": 10,
   "outputs": [],
   "source": [
    "#filename =\"GOM_2\""
   ],
   "metadata": {
    "collapsed": false,
    "pycharm": {
     "name": "#%%\n"
    }
   }
  },
  {
   "cell_type": "code",
   "execution_count": 11,
   "outputs": [
    {
     "name": "stdout",
     "output_type": "stream",
     "text": [
      "Current time: 20:34:14.905096\n",
      "File successfully saved:\n",
      "data/datasets/type_B/dataset_GOM_1_B_B.pickle\n"
     ]
    }
   ],
   "source": [
    "data_object = {\n",
    "    \"files\": files,\n",
    "    \"nan_threshold\": nan_threshold,\n",
    "    \"features\": features,\n",
    "    \"add_era5\": add_ERA5,\n",
    "    \"num_test_hours\": num_test_hours,\n",
    "    \"data_train\": train,\n",
    "    \"data_test\": test\n",
    "}\n",
    "\n",
    "# open a file for writing in binary mode\n",
    "filepath = f'data/datasets/type_B/{filename}_B.pickle'\n",
    "with open(filepath, 'wb') as f:\n",
    "    # write the object to the file using pickle.dump()\n",
    "    pickle.dump(data_object, f)\n",
    "\n",
    "\n",
    "current_time = datetime.datetime.now().time()\n",
    "print(\"Current time:\", current_time)\n",
    "print(\"File successfully saved:\")\n",
    "print(filepath)"
   ],
   "metadata": {
    "collapsed": false,
    "pycharm": {
     "name": "#%%\n"
    }
   }
  },
  {
   "cell_type": "code",
   "execution_count": 12,
   "outputs": [
    {
     "name": "stdout",
     "output_type": "stream",
     "text": [
      "DONE!\n"
     ]
    }
   ],
   "source": [
    "print(\"DONE!\")"
   ],
   "metadata": {
    "collapsed": false,
    "pycharm": {
     "name": "#%%\n"
    }
   }
  },
  {
   "cell_type": "code",
   "execution_count": null,
   "outputs": [],
   "source": [],
   "metadata": {
    "collapsed": false,
    "pycharm": {
     "name": "#%%\n"
    }
   }
  }
 ],
 "metadata": {
  "kernelspec": {
   "display_name": "Python 3",
   "language": "python",
   "name": "python3"
  },
  "language_info": {
   "codemirror_mode": {
    "name": "ipython",
    "version": 2
   },
   "file_extension": ".py",
   "mimetype": "text/x-python",
   "name": "python",
   "nbconvert_exporter": "python",
   "pygments_lexer": "ipython2",
   "version": "2.7.6"
  }
 },
 "nbformat": 4,
 "nbformat_minor": 0
}