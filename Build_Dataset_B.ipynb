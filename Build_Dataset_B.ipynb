{
 "cells": [
  {
   "cell_type": "markdown",
   "source": [
    "# Build Dataset B\n",
    "\n",
    "## Description of approach B:\n",
    "\n",
    "The idea is to find data records of single buoys that provide all measurements [“WDIR”, “WSPD”, “WVHT”, “APD”, “MWD”, “PRES”, “ATMP”, “WTMP”, “DEWP”].\n",
    "\n",
    "### TODO: detailed description after implementation!"
   ],
   "metadata": {
    "collapsed": false,
    "pycharm": {
     "name": "#%% md\n"
    }
   }
  },
  {
   "cell_type": "markdown",
   "source": [
    "# TODO: WIND DIRECTION CORRECTION MODULO 360 !!"
   ],
   "metadata": {
    "collapsed": false,
    "pycharm": {
     "name": "#%% md\n"
    }
   }
  },
  {
   "cell_type": "code",
   "execution_count": 1,
   "outputs": [],
   "source": [
    "import pickle\n",
    "import pandas as pd\n",
    "import myLibrary as mL\n",
    "import datetime\n",
    "NDBC = mL.NDBC_lib"
   ],
   "metadata": {
    "collapsed": false,
    "pycharm": {
     "name": "#%%\n"
    }
   }
  },
  {
   "cell_type": "markdown",
   "source": [
    "---\n",
    "# Parameter:"
   ],
   "metadata": {
    "collapsed": false,
    "pycharm": {
     "name": "#%% md\n"
    }
   }
  },
  {
   "cell_type": "code",
   "execution_count": 2,
   "outputs": [
    {
     "data": {
      "text/plain": "[['42001', '2022'],\n ['42002', '2022'],\n ['42003', '2022'],\n ['42007', '2022'],\n ['42012', '2022'],\n ['42019', '2022'],\n ['42020', '2022'],\n ['42035', '2022'],\n ['42036', '2022'],\n ['42038', '2022'],\n ['42039', '2022'],\n ['42040', '2022'],\n ['42041', '2022'],\n ['42055', '2022'],\n ['42001', '2021'],\n ['42002', '2021'],\n ['42003', '2021'],\n ['42007', '2021'],\n ['42012', '2021'],\n ['42019', '2021'],\n ['42020', '2021'],\n ['42035', '2021'],\n ['42036', '2021'],\n ['42038', '2021'],\n ['42039', '2021'],\n ['42040', '2021'],\n ['42041', '2021'],\n ['42055', '2021'],\n ['42001', '2020'],\n ['42002', '2020'],\n ['42003', '2020'],\n ['42007', '2020'],\n ['42012', '2020'],\n ['42019', '2020'],\n ['42020', '2020'],\n ['42035', '2020'],\n ['42036', '2020'],\n ['42038', '2020'],\n ['42039', '2020'],\n ['42040', '2020'],\n ['42041', '2020'],\n ['42055', '2020'],\n ['42001', '2019'],\n ['42002', '2019'],\n ['42003', '2019'],\n ['42007', '2019'],\n ['42012', '2019'],\n ['42019', '2019'],\n ['42020', '2019'],\n ['42035', '2019'],\n ['42036', '2019'],\n ['42038', '2019'],\n ['42039', '2019'],\n ['42040', '2019'],\n ['42041', '2019'],\n ['42055', '2019'],\n ['42001', '2018'],\n ['42002', '2018'],\n ['42003', '2018'],\n ['42007', '2018'],\n ['42012', '2018'],\n ['42019', '2018'],\n ['42020', '2018'],\n ['42035', '2018'],\n ['42036', '2018'],\n ['42038', '2018'],\n ['42039', '2018'],\n ['42040', '2018'],\n ['42041', '2018'],\n ['42055', '2018'],\n ['42001', '2017'],\n ['42002', '2017'],\n ['42003', '2017'],\n ['42007', '2017'],\n ['42012', '2017'],\n ['42019', '2017'],\n ['42020', '2017'],\n ['42035', '2017'],\n ['42036', '2017'],\n ['42038', '2017'],\n ['42039', '2017'],\n ['42040', '2017'],\n ['42041', '2017'],\n ['42055', '2017'],\n ['42001', '2016'],\n ['42002', '2016'],\n ['42003', '2016'],\n ['42007', '2016'],\n ['42012', '2016'],\n ['42019', '2016'],\n ['42020', '2016'],\n ['42035', '2016'],\n ['42036', '2016'],\n ['42038', '2016'],\n ['42039', '2016'],\n ['42040', '2016'],\n ['42041', '2016'],\n ['42055', '2016'],\n ['42001', '2015'],\n ['42002', '2015'],\n ['42003', '2015'],\n ['42007', '2015'],\n ['42012', '2015'],\n ['42019', '2015'],\n ['42020', '2015'],\n ['42035', '2015'],\n ['42036', '2015'],\n ['42038', '2015'],\n ['42039', '2015'],\n ['42040', '2015'],\n ['42041', '2015'],\n ['42055', '2015'],\n ['42001', '2014'],\n ['42002', '2014'],\n ['42003', '2014'],\n ['42007', '2014'],\n ['42012', '2014'],\n ['42019', '2014'],\n ['42020', '2014'],\n ['42035', '2014'],\n ['42036', '2014'],\n ['42038', '2014'],\n ['42039', '2014'],\n ['42040', '2014'],\n ['42041', '2014'],\n ['42055', '2014'],\n ['42001', '2013'],\n ['42002', '2013'],\n ['42003', '2013'],\n ['42007', '2013'],\n ['42012', '2013'],\n ['42019', '2013'],\n ['42020', '2013'],\n ['42035', '2013'],\n ['42036', '2013'],\n ['42038', '2013'],\n ['42039', '2013'],\n ['42040', '2013'],\n ['42041', '2013'],\n ['42055', '2013'],\n ['42001', '2012'],\n ['42002', '2012'],\n ['42003', '2012'],\n ['42007', '2012'],\n ['42012', '2012'],\n ['42019', '2012'],\n ['42020', '2012'],\n ['42035', '2012'],\n ['42036', '2012'],\n ['42038', '2012'],\n ['42039', '2012'],\n ['42040', '2012'],\n ['42041', '2012'],\n ['42055', '2012'],\n ['42001', '2011'],\n ['42002', '2011'],\n ['42003', '2011'],\n ['42007', '2011'],\n ['42012', '2011'],\n ['42019', '2011'],\n ['42020', '2011'],\n ['42035', '2011'],\n ['42036', '2011'],\n ['42038', '2011'],\n ['42039', '2011'],\n ['42040', '2011'],\n ['42041', '2011'],\n ['42055', '2011'],\n ['42001', '2010'],\n ['42002', '2010'],\n ['42003', '2010'],\n ['42007', '2010'],\n ['42012', '2010'],\n ['42019', '2010'],\n ['42020', '2010'],\n ['42035', '2010'],\n ['42036', '2010'],\n ['42038', '2010'],\n ['42039', '2010'],\n ['42040', '2010'],\n ['42041', '2010'],\n ['42055', '2010'],\n ['42001', '2009'],\n ['42002', '2009'],\n ['42003', '2009'],\n ['42007', '2009'],\n ['42012', '2009'],\n ['42019', '2009'],\n ['42020', '2009'],\n ['42035', '2009'],\n ['42036', '2009'],\n ['42038', '2009'],\n ['42039', '2009'],\n ['42040', '2009'],\n ['42041', '2009'],\n ['42055', '2009'],\n ['42001', '2008'],\n ['42002', '2008'],\n ['42003', '2008'],\n ['42007', '2008'],\n ['42012', '2008'],\n ['42019', '2008'],\n ['42020', '2008'],\n ['42035', '2008'],\n ['42036', '2008'],\n ['42038', '2008'],\n ['42039', '2008'],\n ['42040', '2008'],\n ['42041', '2008'],\n ['42055', '2008'],\n ['42001', '2007'],\n ['42002', '2007'],\n ['42003', '2007'],\n ['42007', '2007'],\n ['42012', '2007'],\n ['42019', '2007'],\n ['42020', '2007'],\n ['42035', '2007'],\n ['42036', '2007'],\n ['42038', '2007'],\n ['42039', '2007'],\n ['42040', '2007'],\n ['42041', '2007'],\n ['42055', '2007'],\n ['42001', '2006'],\n ['42002', '2006'],\n ['42003', '2006'],\n ['42007', '2006'],\n ['42012', '2006'],\n ['42019', '2006'],\n ['42020', '2006'],\n ['42035', '2006'],\n ['42036', '2006'],\n ['42038', '2006'],\n ['42039', '2006'],\n ['42040', '2006'],\n ['42041', '2006'],\n ['42055', '2006'],\n ['42001', '2005'],\n ['42002', '2005'],\n ['42003', '2005'],\n ['42007', '2005'],\n ['42012', '2005'],\n ['42019', '2005'],\n ['42020', '2005'],\n ['42035', '2005'],\n ['42036', '2005'],\n ['42038', '2005'],\n ['42039', '2005'],\n ['42040', '2005'],\n ['42041', '2005'],\n ['42055', '2005'],\n ['42001', '2004'],\n ['42002', '2004'],\n ['42003', '2004'],\n ['42007', '2004'],\n ['42012', '2004'],\n ['42019', '2004'],\n ['42020', '2004'],\n ['42035', '2004'],\n ['42036', '2004'],\n ['42038', '2004'],\n ['42039', '2004'],\n ['42040', '2004'],\n ['42041', '2004'],\n ['42055', '2004'],\n ['42001', '2003'],\n ['42002', '2003'],\n ['42003', '2003'],\n ['42007', '2003'],\n ['42012', '2003'],\n ['42019', '2003'],\n ['42020', '2003'],\n ['42035', '2003'],\n ['42036', '2003'],\n ['42038', '2003'],\n ['42039', '2003'],\n ['42040', '2003'],\n ['42041', '2003'],\n ['42055', '2003'],\n ['42001', '2002'],\n ['42002', '2002'],\n ['42003', '2002'],\n ['42007', '2002'],\n ['42012', '2002'],\n ['42019', '2002'],\n ['42020', '2002'],\n ['42035', '2002'],\n ['42036', '2002'],\n ['42038', '2002'],\n ['42039', '2002'],\n ['42040', '2002'],\n ['42041', '2002'],\n ['42055', '2002']]"
     },
     "execution_count": 2,
     "metadata": {},
     "output_type": "execute_result"
    }
   ],
   "source": [
    "# Optional build files list by stations and years\n",
    "# stations = [\"42012\", \"42040\", \"42039\", \"42036\", \"42019\", \"42020\", \"42002\", \"42001\", \"42003\", \"42055\"]\n",
    "# years = [\"2015\", \"2014\", \"2013\"]\n",
    "stations = [ '42001','42002','42003','42007','42012','42019','42020','42035','42036','42038','42039','42040','42041','42055']\n",
    "years = ['2022', '2021', '2020', '2019', '2018', '2017', '2016', '2015', '2014', '2013', '2012', '2011','2010', '2009', '2008','2007', '2006', '2005','2004', '2003', '2002']\n",
    "#years = ['2004', '2003', '2002']\n",
    "\n",
    "\n",
    "#42055_2007\n",
    "\n",
    "files = []\n",
    "for year in years:\n",
    "    for station in stations:\n",
    "        files.append([station, year])\n",
    "\n",
    "files"
   ],
   "metadata": {
    "collapsed": false,
    "pycharm": {
     "name": "#%%\n"
    }
   }
  },
  {
   "cell_type": "code",
   "execution_count": 3,
   "outputs": [],
   "source": [
    "# Train data:\n",
    "# files = [\n",
    "#    ['42001', '2022'],\n",
    "    # ['NWCL1', '2014'],\n",
    "    # ['NWCL1', '2015'],\n",
    "    # ['NWCL1', '2016'],\n",
    "    # ['NWCL1', '2017'],\n",
    "    # ['NWCL1', '2018'],\n",
    "    # ['NWCL1', '2019'],\n",
    "    # ['NWCL1', '2020'],\n",
    "    # ['NWCL1', '2021'],\n",
    "    # ['NWCL1', '2022'],\n",
    "#]\n",
    "\n",
    "features =  mL.measurements\n",
    "add_ERA5 = True\n",
    "n_in=1\n",
    "n_out=1\n",
    "nan_threshold = 0.66\n",
    "\n",
    "# Test data:\n",
    "station_id = \"42001\"\n",
    "year = \"2022\"\n",
    "num_test_hours = 24\n",
    "\n",
    "# Save as:\n",
    "filename = \"GOM_16_17\""
   ],
   "metadata": {
    "collapsed": false,
    "pycharm": {
     "name": "#%%\n"
    }
   }
  },
  {
   "cell_type": "markdown",
   "source": [
    "---"
   ],
   "metadata": {
    "collapsed": false,
    "pycharm": {
     "name": "#%% md\n"
    }
   }
  },
  {
   "cell_type": "code",
   "execution_count": 4,
   "outputs": [
    {
     "name": "stdout",
     "output_type": "stream",
     "text": [
      "from disc\n",
      "from disc\n",
      "from disc\n",
      "Failed to get 42007h2022.txt.gz: HTTP Error 404: Not Found\n",
      "from disc\n",
      "from disc\n",
      "from disc\n",
      "from disc\n",
      "from disc\n",
      "Failed to get 42038h2022.txt.gz: HTTP Error 404: Not Found\n",
      "from disc\n",
      "from disc\n",
      "Failed to get 42041h2022.txt.gz: HTTP Error 404: Not Found\n",
      "from disc\n",
      "from disc\n",
      "from disc\n",
      "from disc\n",
      "Failed to get 42007h2021.txt.gz: HTTP Error 404: Not Found\n",
      "from disc\n",
      "from disc\n",
      "from disc\n",
      "from disc\n",
      "from disc\n",
      "Failed to get 42038h2021.txt.gz: HTTP Error 404: Not Found\n",
      "from disc\n",
      "from disc\n",
      "Failed to get 42041h2021.txt.gz: HTTP Error 404: Not Found\n",
      "from disc\n",
      "from disc\n",
      "from disc\n",
      "from disc\n",
      "Failed to get 42007h2020.txt.gz: HTTP Error 404: Not Found\n",
      "from disc\n",
      "from disc\n",
      "from disc\n",
      "from disc\n",
      "from disc\n",
      "Failed to get 42038h2020.txt.gz: HTTP Error 404: Not Found\n",
      "from disc\n",
      "from disc\n",
      "Failed to get 42041h2020.txt.gz: HTTP Error 404: Not Found\n",
      "from disc\n",
      "from disc\n",
      "from disc\n",
      "Found 1 duplicates is 42002h2019 and removed them!\n",
      "from disc\n",
      "Failed to get 42007h2019.txt.gz: HTTP Error 404: Not Found\n",
      "from disc\n",
      "from disc\n",
      "from disc\n",
      "from disc\n",
      "from disc\n",
      "Failed to get 42038h2019.txt.gz: HTTP Error 404: Not Found\n",
      "from disc\n",
      "from disc\n",
      "Failed to get 42041h2019.txt.gz: HTTP Error 404: Not Found\n",
      "from disc\n",
      "from disc\n",
      "from disc\n",
      "from disc\n",
      "Failed to get 42007h2018.txt.gz: HTTP Error 404: Not Found\n",
      "from disc\n",
      "from disc\n",
      "from disc\n",
      "from disc\n",
      "Failed to get 42036h2018.txt.gz: HTTP Error 404: Not Found\n",
      "Failed to get 42038h2018.txt.gz: HTTP Error 404: Not Found\n",
      "from disc\n",
      "from disc\n",
      "Failed to get 42041h2018.txt.gz: HTTP Error 404: Not Found\n",
      "from disc\n",
      "from disc\n",
      "from disc\n",
      "from disc\n",
      "Failed to get 42007h2017.txt.gz: HTTP Error 404: Not Found\n",
      "from disc\n",
      "from disc\n",
      "from disc\n",
      "from disc\n",
      "from disc\n",
      "Failed to get 42038h2017.txt.gz: HTTP Error 404: Not Found\n",
      "from disc\n",
      "from disc\n",
      "Failed to get 42041h2017.txt.gz: HTTP Error 404: Not Found\n",
      "from disc\n",
      "from disc\n",
      "from disc\n",
      "from disc\n",
      "Failed to get 42007h2016.txt.gz: HTTP Error 404: Not Found\n",
      "from disc\n",
      "from disc\n",
      "from disc\n",
      "from disc\n",
      "from disc\n",
      "Failed to get 42038h2016.txt.gz: HTTP Error 404: Not Found\n",
      "from disc\n",
      "from disc\n",
      "Failed to get 42041h2016.txt.gz: HTTP Error 404: Not Found\n",
      "from disc\n",
      "from disc\n",
      "from disc\n",
      "from disc\n",
      "Failed to get 42007h2015.txt.gz: HTTP Error 404: Not Found\n",
      "from disc\n",
      "from disc\n",
      "from disc\n",
      "from disc\n",
      "from disc\n",
      "Failed to get 42038h2015.txt.gz: HTTP Error 404: Not Found\n",
      "from disc\n",
      "from disc\n",
      "Failed to get 42041h2015.txt.gz: HTTP Error 404: Not Found\n",
      "from disc\n",
      "from disc\n",
      "from disc\n",
      "from disc\n",
      "Failed to get 42007h2014.txt.gz: HTTP Error 404: Not Found\n",
      "from disc\n",
      "from disc\n",
      "from disc\n",
      "from disc\n",
      "from disc\n",
      "Failed to get 42038h2014.txt.gz: HTTP Error 404: Not Found\n",
      "from disc\n",
      "from disc\n",
      "Failed to get 42041h2014.txt.gz: HTTP Error 404: Not Found\n",
      "from disc\n",
      "from disc\n",
      "from disc\n",
      "from disc\n",
      "Failed to get 42007h2013.txt.gz: HTTP Error 404: Not Found\n",
      "from disc\n",
      "from disc\n",
      "from disc\n",
      "from disc\n",
      "from disc\n",
      "Failed to get 42038h2013.txt.gz: HTTP Error 404: Not Found\n",
      "from disc\n",
      "from disc\n",
      "Failed to get 42041h2013.txt.gz: HTTP Error 404: Not Found\n",
      "from disc\n",
      "from disc\n",
      "from disc\n",
      "from disc\n",
      "Failed to get 42007h2012.txt.gz: HTTP Error 404: Not Found\n",
      "from disc\n",
      "from disc\n",
      "from disc\n",
      "from disc\n",
      "from disc\n",
      "Failed to get 42038h2012.txt.gz: HTTP Error 404: Not Found\n",
      "from disc\n",
      "from disc\n",
      "Failed to get 42041h2012.txt.gz: HTTP Error 404: Not Found\n",
      "from disc\n",
      "from disc\n",
      "from disc\n",
      "from disc\n",
      "Failed to get 42007h2011.txt.gz: HTTP Error 404: Not Found\n",
      "from disc\n",
      "from disc\n",
      "from disc\n",
      "from disc\n",
      "from disc\n",
      "Failed to get 42038h2011.txt.gz: HTTP Error 404: Not Found\n",
      "from disc\n",
      "from disc\n",
      "Failed to get 42041h2011.txt.gz: HTTP Error 404: Not Found\n",
      "from disc\n",
      "from disc\n",
      "from disc\n",
      "from disc\n",
      "Failed to get 42007h2010.txt.gz: HTTP Error 404: Not Found\n",
      "from disc\n",
      "from disc\n",
      "from disc\n",
      "from disc\n",
      "from disc\n",
      "Failed to get 42038h2010.txt.gz: HTTP Error 404: Not Found\n",
      "from disc\n",
      "from disc\n",
      "Failed to get 42041h2010.txt.gz: HTTP Error 404: Not Found\n",
      "from disc\n",
      "from disc\n",
      "from disc\n",
      "from disc\n",
      "from disc\n",
      "from disc\n",
      "from disc\n",
      "from disc\n",
      "from disc\n",
      "from disc\n",
      "Failed to get 42038h2009.txt.gz: HTTP Error 404: Not Found\n",
      "from disc\n",
      "from disc\n",
      "Failed to get 42041h2009.txt.gz: HTTP Error 404: Not Found\n",
      "from disc\n",
      "from disc\n",
      "from disc\n",
      "from disc\n",
      "from disc\n",
      "Failed to get 42012h2008.txt.gz: HTTP Error 404: Not Found\n",
      "from disc\n",
      "from disc\n",
      "from disc\n",
      "from disc\n",
      "Failed to get 42038h2008.txt.gz: HTTP Error 404: Not Found\n",
      "from disc\n",
      "from disc\n",
      "Failed to get 42041h2008.txt.gz: HTTP Error 404: Not Found\n",
      "from disc\n",
      "from disc\n",
      "from disc\n",
      "from disc\n",
      "from disc\n",
      "Failed to get 42012h2007.txt.gz: HTTP Error 404: Not Found\n",
      "from disc\n",
      "from disc\n",
      "from disc\n",
      "from disc\n",
      "Failed to get 42038h2007.txt.gz: HTTP Error 404: Not Found\n",
      "from disc\n",
      "from disc\n",
      "Failed to get 42041h2007.txt.gz: HTTP Error 404: Not Found\n",
      "from disc\n",
      "from disc\n",
      "from disc\n",
      "from disc\n",
      "from disc\n",
      "Failed to get 42012h2006.txt.gz: HTTP Error 404: Not Found\n",
      "from disc\n",
      "from disc\n",
      "from disc\n",
      "from disc\n",
      "from disc\n",
      "from disc\n",
      "from disc\n",
      "Failed to get 42041h2006.txt.gz: HTTP Error 404: Not Found\n",
      "from disc\n",
      "from disc\n",
      "from disc\n",
      "from disc\n",
      "from disc\n",
      "Failed to get 42012h2005.txt.gz: HTTP Error 404: Not Found\n",
      "from disc\n",
      "from disc\n",
      "from disc\n",
      "from disc\n",
      "from disc\n",
      "from disc\n",
      "from disc\n",
      "from disc\n",
      "from disc\n",
      "from disc\n",
      "from disc\n",
      "from disc\n",
      "from disc\n",
      "Failed to get 42012h2004.txt.gz: HTTP Error 404: Not Found\n",
      "from disc\n",
      "from disc\n",
      "from disc\n",
      "from disc\n",
      "from disc\n",
      "from disc\n",
      "from disc\n",
      "from disc\n",
      "Failed to get 42055h2004.txt.gz: HTTP Error 404: Not Found\n",
      "from disc\n",
      "from disc\n",
      "from disc\n",
      "from disc\n",
      "Failed to get 42012h2003.txt.gz: HTTP Error 404: Not Found\n",
      "from disc\n",
      "from disc\n",
      "from disc\n",
      "from disc\n",
      "Failed to get 42038h2003.txt.gz: HTTP Error 404: Not Found\n",
      "from disc\n",
      "from disc\n",
      "from disc\n",
      "Failed to get 42055h2003.txt.gz: HTTP Error 404: Not Found\n",
      "from disc\n",
      "from disc\n",
      "from disc\n",
      "from disc\n",
      "Failed to get 42012h2002.txt.gz: HTTP Error 404: Not Found\n",
      "from disc\n",
      "from disc\n",
      "from disc\n",
      "from disc\n",
      "Failed to get 42038h2002.txt.gz: HTTP Error 404: Not Found\n",
      "from disc\n",
      "from disc\n",
      "from disc\n",
      "Failed to get 42055h2002.txt.gz: HTTP Error 404: Not Found\n",
      "Removed 1721248 rows with NaN values!\n"
     ]
    }
   ],
   "source": [
    "train = mL.get_data_B(files, features, n_in, n_out, nan_threshold, add_ERA5)"
   ],
   "metadata": {
    "collapsed": false,
    "pycharm": {
     "name": "#%%\n"
    }
   }
  },
  {
   "cell_type": "code",
   "execution_count": null,
   "outputs": [],
   "source": [
    "train"
   ],
   "metadata": {
    "collapsed": false,
    "pycharm": {
     "name": "#%%\n",
     "is_executing": true
    }
   }
  },
  {
   "cell_type": "markdown",
   "source": [
    "# Ensure that all records in training data are from a timestamp prior the first test timestamp"
   ],
   "metadata": {
    "collapsed": false,
    "pycharm": {
     "name": "#%% md\n"
    }
   }
  },
  {
   "cell_type": "code",
   "execution_count": null,
   "outputs": [],
   "source": [
    "cutoff_timestamp = pd.to_datetime(f'{int(year)+1}-01-01 00:00:00')-pd.Timedelta(hours=num_test_hours)\n",
    "cutoff_timestamp\n",
    "\n",
    "mask = train.index > cutoff_timestamp\n",
    "train = train[~mask]\n",
    "train"
   ],
   "metadata": {
    "collapsed": false,
    "pycharm": {
     "name": "#%%\n",
     "is_executing": true
    }
   }
  },
  {
   "cell_type": "markdown",
   "source": [
    "# Depending on the provided features, a Test set is build:"
   ],
   "metadata": {
    "collapsed": false,
    "pycharm": {
     "name": "#%% md\n"
    }
   }
  },
  {
   "cell_type": "code",
   "execution_count": null,
   "outputs": [],
   "source": [
    "features = train.columns\n",
    "features = [f.split('(')[0].replace('_ERA5', '') for f in features]\n",
    "features = list(set(features))  #remove duplicates\n",
    "features"
   ],
   "metadata": {
    "collapsed": false,
    "pycharm": {
     "name": "#%%\n",
     "is_executing": true
    }
   }
  },
  {
   "cell_type": "code",
   "execution_count": null,
   "outputs": [],
   "source": [
    "station_id = station_id.lower()\n",
    "test = mL.get_data_A([station_id], [year],1,features ,add_ERA5).tail(num_test_hours+1)\n",
    "test.columns = test.columns.str.replace(f'_{station_id}', '')\n",
    "test = mL.DataProcessor.data_to_supervised(test, n_in, n_out, True)\n",
    "test"
   ],
   "metadata": {
    "collapsed": false,
    "pycharm": {
     "name": "#%%\n",
     "is_executing": true
    }
   }
  },
  {
   "cell_type": "markdown",
   "source": [
    "# Save to disc:"
   ],
   "metadata": {
    "collapsed": false,
    "pycharm": {
     "name": "#%% md\n"
    }
   }
  },
  {
   "cell_type": "code",
   "execution_count": null,
   "outputs": [],
   "source": [
    "#filename =\"GOM_2\""
   ],
   "metadata": {
    "collapsed": false,
    "pycharm": {
     "name": "#%%\n",
     "is_executing": true
    }
   }
  },
  {
   "cell_type": "code",
   "execution_count": null,
   "outputs": [],
   "source": [
    "data_object = {\n",
    "    \"files\": files,\n",
    "    \"nan_threshold\": nan_threshold,\n",
    "    \"features\": features,\n",
    "    \"add_era5\": add_ERA5,\n",
    "    \"num_test_hours\": num_test_hours,\n",
    "    \"data_train\": train,\n",
    "    \"data_test\": test\n",
    "}\n",
    "\n",
    "# open a file for writing in binary mode\n",
    "filepath = f'data/datasets/type_B/{filename}_B.pickle'\n",
    "with open(filepath, 'wb') as f:\n",
    "    # write the object to the file using pickle.dump()\n",
    "    pickle.dump(data_object, f)\n",
    "\n",
    "\n",
    "current_time = datetime.datetime.now().time()\n",
    "print(\"Current time:\", current_time)\n",
    "print(\"File successfully saved:\")\n",
    "print(filepath)"
   ],
   "metadata": {
    "collapsed": false,
    "pycharm": {
     "name": "#%%\n",
     "is_executing": true
    }
   }
  },
  {
   "cell_type": "code",
   "execution_count": null,
   "outputs": [],
   "source": [],
   "metadata": {
    "collapsed": false,
    "pycharm": {
     "name": "#%%\n",
     "is_executing": true
    }
   }
  }
 ],
 "metadata": {
  "kernelspec": {
   "display_name": "Python 3",
   "language": "python",
   "name": "python3"
  },
  "language_info": {
   "codemirror_mode": {
    "name": "ipython",
    "version": 2
   },
   "file_extension": ".py",
   "mimetype": "text/x-python",
   "name": "python",
   "nbconvert_exporter": "python",
   "pygments_lexer": "ipython2",
   "version": "2.7.6"
  }
 },
 "nbformat": 4,
 "nbformat_minor": 0
}