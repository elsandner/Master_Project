{
 "cells": [
  {
   "cell_type": "markdown",
   "source": [
    "# Step 1: Try to access the buoy data and print it"
   ],
   "metadata": {
    "collapsed": false,
    "pycharm": {
     "name": "#%% md\n"
    }
   }
  },
  {
   "cell_type": "markdown",
   "source": [
    "I think Austin used the FTP protocol but according to the Web-Data-Guide, this is meanwhile not recommended anymore since it will be removed in future updates. Use http instead!\n"
   ],
   "metadata": {
    "collapsed": false,
    "pycharm": {
     "name": "#%% md\n"
    }
   }
  },
  {
   "cell_type": "markdown",
   "source": [
    "Getting started by reading the data of a single buoy using this tutorial:\n",
    "https://medium.com/@holtan.chase/retrieving-data-from-national-data-buoy-center-api-f94d262c7ea7"
   ],
   "metadata": {
    "collapsed": false,
    "pycharm": {
     "name": "#%% md\n"
    }
   }
  },
  {
   "cell_type": "markdown",
   "source": [],
   "metadata": {
    "collapsed": false,
    "pycharm": {
     "name": "#%% md\n"
    }
   }
  },
  {
   "cell_type": "code",
   "execution_count": 2,
   "outputs": [],
   "source": [
    "import pandas as pd\n",
    "from IPython.core.display_functions import display"
   ],
   "metadata": {
    "collapsed": false,
    "pycharm": {
     "name": "#%%\n"
    }
   }
  },
  {
   "cell_type": "code",
   "execution_count": 12,
   "outputs": [],
   "source": [
    "#Stations for gulf of mexico: https://www.ndbc.noaa.gov/mobile/region.php?reg=gulf_of_mexico\n",
    "station_numbers_all = list((\n",
    "    \"41117\",\n",
    "\"41112\",\n",
    "\"42001\",\n",
    "\"42002\",\n",
    "\"42012\",\n",
    "\"42013\",\n",
    "\"42019\",\n",
    "\"42020\",\n",
    "\"42022\",\n",
    "\"42023\",\n",
    "\"42026\",\n",
    "\"42036\",\n",
    "\"42039\",\n",
    "\"42040\",\n",
    "\"42055\",\n",
    "\"42084\",\n",
    "\"42091\",\n",
    "\"42095\",\n",
    "\"42097\",\n",
    "\"42098\",\n",
    "\"42099\",\n",
    "\"AMRL1\",\n",
    "\"ANPT2\",\n",
    "\"APCF1\",\n",
    "\"APXF1\",\n",
    "\"ARPF1\",\n",
    "\"AWRT2\",\n",
    "\"BABT2\",\n",
    "\"BKBF1\",\n",
    "\"BKTL1\",\n",
    "\"BSCA1\",\n",
    "\"BURL1\",\n",
    "\"BYGL1\",\n",
    "\"BZST2\",\n",
    "\"CAPL1\",\n",
    "\"CARL1\",\n",
    "\"CDRF1\",\n",
    "\"CNBF1\",\n",
    "\"CRTA1\",\n",
    "\"CWAF1\",\n",
    "\"CWBF1\",\n",
    "\"DILA1\",\n",
    "\"DMSF1\",\n",
    "\"EBEF1\",\n",
    "\"EFLA1\",\n",
    "\"EINL1\",\n",
    "\"EMAT2\",\n",
    "\"EPTT2\",\n",
    "\"FHPF1\",\n",
    "\"FMOA1\",\n",
    "\"FMRF1\",\n",
    "\"FPST2\",\n",
    "\"FRDF1\",\n",
    "\"GBIF1\",\n",
    "\"GCTF1\",\n",
    "\"GISL1\",\n",
    "\"GKYF1\",\n",
    "\"GNJT2\",\n",
    "\"GRRT2\",\n",
    "\"GTOT2\",\n",
    "\"GTXF1\",\n",
    "\"HIST2\",\n",
    "\"HIVT2\",\n",
    "\"HREF1\",\n",
    "\"IRDT2\",\n",
    "\"JXUF1\",\n",
    "\"KATP\",\n",
    "\"KBMG1\",\n",
    "\"KBQX\",\n",
    "\"KDLP\",\n",
    "\"KGRY\",\n",
    "\"KGUL\",\n",
    "\"KHHV\",\n",
    "\"KIKT\",\n",
    "\"KTNF1\",\n",
    "\"KVAF\",\n",
    "\"KVOA\",\n",
    "\"KYWF1\",\n",
    "\"LCLL1\",\n",
    "\"LMRF1\",\n",
    "\"LQAT2\",\n",
    "\"LTJF1\",\n",
    "\"LUIT2\",\n",
    "\"MAXT2\",\n",
    "\"MBET2\",\n",
    "\"MBPA1\",\n",
    "\"MCGA1\",\n",
    "\"MGPT2\",\n",
    "\"MHBT2\",\n",
    "\"MTBF1\",\n",
    "\"MYPF1\",\n",
    "\"NCHT2\",\n",
    "\"NFDF1\",\n",
    "\"NUET2\",\n",
    "\"NWCL1\",\n",
    "\"OBLA1\",\n",
    "\"OPTF1\",\n",
    "\"PACF1\",\n",
    "\"PACT2\",\n",
    "\"PCBF1\",\n",
    "\"PCGT2\",\n",
    "\"PCLF1\",\n",
    "\"PCNT2\",\n",
    "\"PILL1\",\n",
    "\"PMAF1\",\n",
    "\"PMNT2\",\n",
    "\"PNLM6\",\n",
    "\"PORT2\",\n",
    "\"PSTL1\",\n",
    "\"PTAT2\",\n",
    "\"PTBM6\",\n",
    "\"PTIT2\",\n",
    "\"PTOA1\",\n",
    "\"RCPT2\",\n",
    "\"RKXF1\",\n",
    "\"RLIT2\",\n",
    "\"RLOT2\",\n",
    "\"RSJT2\",\n",
    "\"RTAT2\",\n",
    "\"SAPF1\",\n",
    "\"SAUF1\",\n",
    "\"SDRT2\",\n",
    "\"SGNT2\",\n",
    "\"SGOF1\",\n",
    "\"SHBL1\",\n",
    "\"SHPF1\",\n",
    "\"SKCF1\",\n",
    "\"SMKF1\",\n",
    "\"SREF1\",\n",
    "\"SRST2\",\n",
    "\"TAQT2\",\n",
    "\"TESL1\",\n",
    "\"TLVT2\",\n",
    "\"TPAF1\",\n",
    "\"TSHF1\",\n",
    "\"TXPT2\",\n",
    "\"TXVT2\",\n",
    "\"UTVT2\",\n",
    "\"VCAF1\",\n",
    "\"VCAT2\",\n",
    "\"VENF1\",\n",
    "\"VTBT2\",\n",
    "\"WIWF1\",\n",
    "\"WKXA1\",\n",
    "\"WPLF1\",\n",
    "\"WYCM6\",\n",
    "))\n",
    "\n",
    "station_numbers_small = list((  #mainly for test purpose\n",
    "    \"41117\",\n",
    "\"41112\",\n",
    "\"42026\",\n",
    "\"42098\",\n",
    "\"42099\",\n",
    "\"BKTL1\",\n",
    "\"BSCA1\",\n",
    "\"DMSF1\",\n",
    "\"EBEF1\",\n",
    "\"RLOT2\",\n",
    "\"RSJT2\",\n",
    "\"RTAT2\",\n",
    "\"SREF1\",\n",
    "\"SRST2\",\n",
    "\"WYCM6\",\n",
    "))"
   ],
   "metadata": {
    "collapsed": false,
    "pycharm": {
     "name": "#%%\n"
    }
   }
  },
  {
   "cell_type": "code",
   "execution_count": 4,
   "outputs": [],
   "source": [
    "#get stdmet (=Standard Meteorological) data by station and year\n",
    "#Params: station_number: string, year: string\n",
    "#return: if exists: tuple(station_number: str, data: dataframe\n",
    "def get_data_file(station_number, year):\n",
    "    base_url =\"https://www.ndbc.noaa.gov/data/historical/stdmet/\"\n",
    "    filename = station_number +\"h\"+ year + \".txt.gz\"\n",
    "    url = base_url + filename\n",
    "    #print(url)\n",
    "\n",
    "    try:\n",
    "        df_data = pd.read_csv(url, delim_whitespace=True, low_memory=False)\n",
    "        return station_number, df_data    #return as tuple\n",
    "    except BaseException as e:\n",
    "        print('Failed to get file: {}'.format(e))\n",
    "        return None"
   ],
   "metadata": {
    "collapsed": false,
    "pycharm": {
     "name": "#%%\n"
    }
   }
  },
  {
   "cell_type": "markdown",
   "source": [],
   "metadata": {
    "collapsed": false,
    "pycharm": {
     "name": "#%% md\n"
    }
   }
  },
  {
   "cell_type": "code",
   "execution_count": 5,
   "outputs": [
    {
     "data": {
      "text/plain": "        #YY  MM  DD  hh  mm  WDIR  WSPD   GST  WVHT   DPD   APD   MWD    PRES  \\\n0       #yr  mo  dy  hr  mn  degT   m/s   m/s     m   sec   sec  degT     hPa   \n1      2017  03  31  19  22   999  99.0  99.0  1.29  5.88  4.88   136  9999.0   \n2      2017  03  31  19  52   999  99.0  99.0  1.24  5.88  4.76   136  9999.0   \n3      2017  03  31  20  22   999  99.0  99.0  1.18  5.88  4.89   136  9999.0   \n4      2017  03  31  20  52   999  99.0  99.0  1.15  5.56  4.76   137  9999.0   \n...     ...  ..  ..  ..  ..   ...   ...   ...   ...   ...   ...   ...     ...   \n12701  2017  12  31  21  52   999  99.0  99.0  0.70  9.09  5.15    78  9999.0   \n12702  2017  12  31  22  22   999  99.0  99.0  0.72  9.09  5.47    85  9999.0   \n12703  2017  12  31  22  52   999  99.0  99.0  0.70  9.88  5.13    87  9999.0   \n12704  2017  12  31  23  22   999  99.0  99.0  0.74  9.09  4.85    81  9999.0   \n12705  2017  12  31  23  52   999  99.0  99.0  0.73  9.88  4.53    77  9999.0   \n\n        ATMP  WTMP   DEWP   VIS   TIDE  \n0       degC  degC   degC    mi     ft  \n1      999.0  20.9  999.0  99.0  99.00  \n2      999.0  20.9  999.0  99.0  99.00  \n3      999.0  20.9  999.0  99.0  99.00  \n4      999.0  20.8  999.0  99.0  99.00  \n...      ...   ...    ...   ...    ...  \n12701  999.0  17.7  999.0  99.0  99.00  \n12702  999.0  17.7  999.0  99.0  99.00  \n12703  999.0  17.6  999.0  99.0  99.00  \n12704  999.0  17.6  999.0  99.0  99.00  \n12705  999.0  17.6  999.0  99.0  99.00  \n\n[12706 rows x 18 columns]",
      "text/html": "<div>\n<style scoped>\n    .dataframe tbody tr th:only-of-type {\n        vertical-align: middle;\n    }\n\n    .dataframe tbody tr th {\n        vertical-align: top;\n    }\n\n    .dataframe thead th {\n        text-align: right;\n    }\n</style>\n<table border=\"1\" class=\"dataframe\">\n  <thead>\n    <tr style=\"text-align: right;\">\n      <th></th>\n      <th>#YY</th>\n      <th>MM</th>\n      <th>DD</th>\n      <th>hh</th>\n      <th>mm</th>\n      <th>WDIR</th>\n      <th>WSPD</th>\n      <th>GST</th>\n      <th>WVHT</th>\n      <th>DPD</th>\n      <th>APD</th>\n      <th>MWD</th>\n      <th>PRES</th>\n      <th>ATMP</th>\n      <th>WTMP</th>\n      <th>DEWP</th>\n      <th>VIS</th>\n      <th>TIDE</th>\n    </tr>\n  </thead>\n  <tbody>\n    <tr>\n      <th>0</th>\n      <td>#yr</td>\n      <td>mo</td>\n      <td>dy</td>\n      <td>hr</td>\n      <td>mn</td>\n      <td>degT</td>\n      <td>m/s</td>\n      <td>m/s</td>\n      <td>m</td>\n      <td>sec</td>\n      <td>sec</td>\n      <td>degT</td>\n      <td>hPa</td>\n      <td>degC</td>\n      <td>degC</td>\n      <td>degC</td>\n      <td>mi</td>\n      <td>ft</td>\n    </tr>\n    <tr>\n      <th>1</th>\n      <td>2017</td>\n      <td>03</td>\n      <td>31</td>\n      <td>19</td>\n      <td>22</td>\n      <td>999</td>\n      <td>99.0</td>\n      <td>99.0</td>\n      <td>1.29</td>\n      <td>5.88</td>\n      <td>4.88</td>\n      <td>136</td>\n      <td>9999.0</td>\n      <td>999.0</td>\n      <td>20.9</td>\n      <td>999.0</td>\n      <td>99.0</td>\n      <td>99.00</td>\n    </tr>\n    <tr>\n      <th>2</th>\n      <td>2017</td>\n      <td>03</td>\n      <td>31</td>\n      <td>19</td>\n      <td>52</td>\n      <td>999</td>\n      <td>99.0</td>\n      <td>99.0</td>\n      <td>1.24</td>\n      <td>5.88</td>\n      <td>4.76</td>\n      <td>136</td>\n      <td>9999.0</td>\n      <td>999.0</td>\n      <td>20.9</td>\n      <td>999.0</td>\n      <td>99.0</td>\n      <td>99.00</td>\n    </tr>\n    <tr>\n      <th>3</th>\n      <td>2017</td>\n      <td>03</td>\n      <td>31</td>\n      <td>20</td>\n      <td>22</td>\n      <td>999</td>\n      <td>99.0</td>\n      <td>99.0</td>\n      <td>1.18</td>\n      <td>5.88</td>\n      <td>4.89</td>\n      <td>136</td>\n      <td>9999.0</td>\n      <td>999.0</td>\n      <td>20.9</td>\n      <td>999.0</td>\n      <td>99.0</td>\n      <td>99.00</td>\n    </tr>\n    <tr>\n      <th>4</th>\n      <td>2017</td>\n      <td>03</td>\n      <td>31</td>\n      <td>20</td>\n      <td>52</td>\n      <td>999</td>\n      <td>99.0</td>\n      <td>99.0</td>\n      <td>1.15</td>\n      <td>5.56</td>\n      <td>4.76</td>\n      <td>137</td>\n      <td>9999.0</td>\n      <td>999.0</td>\n      <td>20.8</td>\n      <td>999.0</td>\n      <td>99.0</td>\n      <td>99.00</td>\n    </tr>\n    <tr>\n      <th>...</th>\n      <td>...</td>\n      <td>...</td>\n      <td>...</td>\n      <td>...</td>\n      <td>...</td>\n      <td>...</td>\n      <td>...</td>\n      <td>...</td>\n      <td>...</td>\n      <td>...</td>\n      <td>...</td>\n      <td>...</td>\n      <td>...</td>\n      <td>...</td>\n      <td>...</td>\n      <td>...</td>\n      <td>...</td>\n      <td>...</td>\n    </tr>\n    <tr>\n      <th>12701</th>\n      <td>2017</td>\n      <td>12</td>\n      <td>31</td>\n      <td>21</td>\n      <td>52</td>\n      <td>999</td>\n      <td>99.0</td>\n      <td>99.0</td>\n      <td>0.70</td>\n      <td>9.09</td>\n      <td>5.15</td>\n      <td>78</td>\n      <td>9999.0</td>\n      <td>999.0</td>\n      <td>17.7</td>\n      <td>999.0</td>\n      <td>99.0</td>\n      <td>99.00</td>\n    </tr>\n    <tr>\n      <th>12702</th>\n      <td>2017</td>\n      <td>12</td>\n      <td>31</td>\n      <td>22</td>\n      <td>22</td>\n      <td>999</td>\n      <td>99.0</td>\n      <td>99.0</td>\n      <td>0.72</td>\n      <td>9.09</td>\n      <td>5.47</td>\n      <td>85</td>\n      <td>9999.0</td>\n      <td>999.0</td>\n      <td>17.7</td>\n      <td>999.0</td>\n      <td>99.0</td>\n      <td>99.00</td>\n    </tr>\n    <tr>\n      <th>12703</th>\n      <td>2017</td>\n      <td>12</td>\n      <td>31</td>\n      <td>22</td>\n      <td>52</td>\n      <td>999</td>\n      <td>99.0</td>\n      <td>99.0</td>\n      <td>0.70</td>\n      <td>9.88</td>\n      <td>5.13</td>\n      <td>87</td>\n      <td>9999.0</td>\n      <td>999.0</td>\n      <td>17.6</td>\n      <td>999.0</td>\n      <td>99.0</td>\n      <td>99.00</td>\n    </tr>\n    <tr>\n      <th>12704</th>\n      <td>2017</td>\n      <td>12</td>\n      <td>31</td>\n      <td>23</td>\n      <td>22</td>\n      <td>999</td>\n      <td>99.0</td>\n      <td>99.0</td>\n      <td>0.74</td>\n      <td>9.09</td>\n      <td>4.85</td>\n      <td>81</td>\n      <td>9999.0</td>\n      <td>999.0</td>\n      <td>17.6</td>\n      <td>999.0</td>\n      <td>99.0</td>\n      <td>99.00</td>\n    </tr>\n    <tr>\n      <th>12705</th>\n      <td>2017</td>\n      <td>12</td>\n      <td>31</td>\n      <td>23</td>\n      <td>52</td>\n      <td>999</td>\n      <td>99.0</td>\n      <td>99.0</td>\n      <td>0.73</td>\n      <td>9.88</td>\n      <td>4.53</td>\n      <td>77</td>\n      <td>9999.0</td>\n      <td>999.0</td>\n      <td>17.6</td>\n      <td>999.0</td>\n      <td>99.0</td>\n      <td>99.00</td>\n    </tr>\n  </tbody>\n</table>\n<p>12706 rows × 18 columns</p>\n</div>"
     },
     "execution_count": 5,
     "metadata": {},
     "output_type": "execute_result"
    }
   ],
   "source": [
    "test_data = get_data_file(\"41117\", \"2017\")\n",
    "test_data[1]"
   ],
   "metadata": {
    "collapsed": false,
    "pycharm": {
     "name": "#%%\n"
    }
   }
  },
  {
   "cell_type": "markdown",
   "source": [
    "Get all data of year 2020 from all stations"
   ],
   "metadata": {
    "collapsed": false,
    "pycharm": {
     "name": "#%% md\n"
    }
   }
  },
  {
   "cell_type": "markdown",
   "source": [],
   "metadata": {
    "collapsed": false,
    "pycharm": {
     "name": "#%% md\n"
    }
   }
  },
  {
   "cell_type": "code",
   "execution_count": 8,
   "outputs": [],
   "source": [
    "def df_modification(data):\n",
    "    filename = data[0]\n",
    "    df = data[1]\n",
    "    df = df.drop(labels=0, axis=0) #drop row with units\n",
    "\n",
    "    #replace time columns with timestamp index\n",
    "    df['timestamp'] =  df['#YY'] +\"-\" \\\n",
    "                       + df['MM'] +\"-\"  \\\n",
    "                       + df['DD'] +\" \" \\\n",
    "                       + df['hh'] +\":\"\\\n",
    "                       + df['mm']\n",
    "    df['timestamp'] = pd.to_datetime(df['timestamp'], format='%Y-%m-%d %H:%M')\n",
    "    df.drop(columns=['#YY', 'MM', 'DD', 'hh', 'mm'], inplace=True)\n",
    "    df.set_index('timestamp', inplace = True)\n",
    "\n",
    "    df.columns += \"_\"+filename\n",
    "\n",
    "    return filename, df"
   ],
   "metadata": {
    "collapsed": false,
    "pycharm": {
     "name": "#%%\n"
    }
   }
  },
  {
   "cell_type": "code",
   "execution_count": 9,
   "outputs": [
    {
     "data": {
      "text/plain": "                    WDIR_41117 WSPD_41117 GST_41117 WVHT_41117 DPD_41117  \\\ntimestamp                                                                  \n2017-03-31 19:22:00        999       99.0      99.0       1.29      5.88   \n2017-03-31 19:52:00        999       99.0      99.0       1.24      5.88   \n2017-03-31 20:22:00        999       99.0      99.0       1.18      5.88   \n2017-03-31 20:52:00        999       99.0      99.0       1.15      5.56   \n2017-03-31 21:22:00        999       99.0      99.0       1.10      5.88   \n...                        ...        ...       ...        ...       ...   \n2017-12-31 21:52:00        999       99.0      99.0       0.70      9.09   \n2017-12-31 22:22:00        999       99.0      99.0       0.72      9.09   \n2017-12-31 22:52:00        999       99.0      99.0       0.70      9.88   \n2017-12-31 23:22:00        999       99.0      99.0       0.74      9.09   \n2017-12-31 23:52:00        999       99.0      99.0       0.73      9.88   \n\n                    APD_41117 MWD_41117 PRES_41117 ATMP_41117 WTMP_41117  \\\ntimestamp                                                                  \n2017-03-31 19:22:00      4.88       136     9999.0      999.0       20.9   \n2017-03-31 19:52:00      4.76       136     9999.0      999.0       20.9   \n2017-03-31 20:22:00      4.89       136     9999.0      999.0       20.9   \n2017-03-31 20:52:00      4.76       137     9999.0      999.0       20.8   \n2017-03-31 21:22:00      4.81       133     9999.0      999.0       21.0   \n...                       ...       ...        ...        ...        ...   \n2017-12-31 21:52:00      5.15        78     9999.0      999.0       17.7   \n2017-12-31 22:22:00      5.47        85     9999.0      999.0       17.7   \n2017-12-31 22:52:00      5.13        87     9999.0      999.0       17.6   \n2017-12-31 23:22:00      4.85        81     9999.0      999.0       17.6   \n2017-12-31 23:52:00      4.53        77     9999.0      999.0       17.6   \n\n                    DEWP_41117 VIS_41117 TIDE_41117  \ntimestamp                                            \n2017-03-31 19:22:00      999.0      99.0      99.00  \n2017-03-31 19:52:00      999.0      99.0      99.00  \n2017-03-31 20:22:00      999.0      99.0      99.00  \n2017-03-31 20:52:00      999.0      99.0      99.00  \n2017-03-31 21:22:00      999.0      99.0      99.00  \n...                        ...       ...        ...  \n2017-12-31 21:52:00      999.0      99.0      99.00  \n2017-12-31 22:22:00      999.0      99.0      99.00  \n2017-12-31 22:52:00      999.0      99.0      99.00  \n2017-12-31 23:22:00      999.0      99.0      99.00  \n2017-12-31 23:52:00      999.0      99.0      99.00  \n\n[12705 rows x 13 columns]",
      "text/html": "<div>\n<style scoped>\n    .dataframe tbody tr th:only-of-type {\n        vertical-align: middle;\n    }\n\n    .dataframe tbody tr th {\n        vertical-align: top;\n    }\n\n    .dataframe thead th {\n        text-align: right;\n    }\n</style>\n<table border=\"1\" class=\"dataframe\">\n  <thead>\n    <tr style=\"text-align: right;\">\n      <th></th>\n      <th>WDIR_41117</th>\n      <th>WSPD_41117</th>\n      <th>GST_41117</th>\n      <th>WVHT_41117</th>\n      <th>DPD_41117</th>\n      <th>APD_41117</th>\n      <th>MWD_41117</th>\n      <th>PRES_41117</th>\n      <th>ATMP_41117</th>\n      <th>WTMP_41117</th>\n      <th>DEWP_41117</th>\n      <th>VIS_41117</th>\n      <th>TIDE_41117</th>\n    </tr>\n    <tr>\n      <th>timestamp</th>\n      <th></th>\n      <th></th>\n      <th></th>\n      <th></th>\n      <th></th>\n      <th></th>\n      <th></th>\n      <th></th>\n      <th></th>\n      <th></th>\n      <th></th>\n      <th></th>\n      <th></th>\n    </tr>\n  </thead>\n  <tbody>\n    <tr>\n      <th>2017-03-31 19:22:00</th>\n      <td>999</td>\n      <td>99.0</td>\n      <td>99.0</td>\n      <td>1.29</td>\n      <td>5.88</td>\n      <td>4.88</td>\n      <td>136</td>\n      <td>9999.0</td>\n      <td>999.0</td>\n      <td>20.9</td>\n      <td>999.0</td>\n      <td>99.0</td>\n      <td>99.00</td>\n    </tr>\n    <tr>\n      <th>2017-03-31 19:52:00</th>\n      <td>999</td>\n      <td>99.0</td>\n      <td>99.0</td>\n      <td>1.24</td>\n      <td>5.88</td>\n      <td>4.76</td>\n      <td>136</td>\n      <td>9999.0</td>\n      <td>999.0</td>\n      <td>20.9</td>\n      <td>999.0</td>\n      <td>99.0</td>\n      <td>99.00</td>\n    </tr>\n    <tr>\n      <th>2017-03-31 20:22:00</th>\n      <td>999</td>\n      <td>99.0</td>\n      <td>99.0</td>\n      <td>1.18</td>\n      <td>5.88</td>\n      <td>4.89</td>\n      <td>136</td>\n      <td>9999.0</td>\n      <td>999.0</td>\n      <td>20.9</td>\n      <td>999.0</td>\n      <td>99.0</td>\n      <td>99.00</td>\n    </tr>\n    <tr>\n      <th>2017-03-31 20:52:00</th>\n      <td>999</td>\n      <td>99.0</td>\n      <td>99.0</td>\n      <td>1.15</td>\n      <td>5.56</td>\n      <td>4.76</td>\n      <td>137</td>\n      <td>9999.0</td>\n      <td>999.0</td>\n      <td>20.8</td>\n      <td>999.0</td>\n      <td>99.0</td>\n      <td>99.00</td>\n    </tr>\n    <tr>\n      <th>2017-03-31 21:22:00</th>\n      <td>999</td>\n      <td>99.0</td>\n      <td>99.0</td>\n      <td>1.10</td>\n      <td>5.88</td>\n      <td>4.81</td>\n      <td>133</td>\n      <td>9999.0</td>\n      <td>999.0</td>\n      <td>21.0</td>\n      <td>999.0</td>\n      <td>99.0</td>\n      <td>99.00</td>\n    </tr>\n    <tr>\n      <th>...</th>\n      <td>...</td>\n      <td>...</td>\n      <td>...</td>\n      <td>...</td>\n      <td>...</td>\n      <td>...</td>\n      <td>...</td>\n      <td>...</td>\n      <td>...</td>\n      <td>...</td>\n      <td>...</td>\n      <td>...</td>\n      <td>...</td>\n    </tr>\n    <tr>\n      <th>2017-12-31 21:52:00</th>\n      <td>999</td>\n      <td>99.0</td>\n      <td>99.0</td>\n      <td>0.70</td>\n      <td>9.09</td>\n      <td>5.15</td>\n      <td>78</td>\n      <td>9999.0</td>\n      <td>999.0</td>\n      <td>17.7</td>\n      <td>999.0</td>\n      <td>99.0</td>\n      <td>99.00</td>\n    </tr>\n    <tr>\n      <th>2017-12-31 22:22:00</th>\n      <td>999</td>\n      <td>99.0</td>\n      <td>99.0</td>\n      <td>0.72</td>\n      <td>9.09</td>\n      <td>5.47</td>\n      <td>85</td>\n      <td>9999.0</td>\n      <td>999.0</td>\n      <td>17.7</td>\n      <td>999.0</td>\n      <td>99.0</td>\n      <td>99.00</td>\n    </tr>\n    <tr>\n      <th>2017-12-31 22:52:00</th>\n      <td>999</td>\n      <td>99.0</td>\n      <td>99.0</td>\n      <td>0.70</td>\n      <td>9.88</td>\n      <td>5.13</td>\n      <td>87</td>\n      <td>9999.0</td>\n      <td>999.0</td>\n      <td>17.6</td>\n      <td>999.0</td>\n      <td>99.0</td>\n      <td>99.00</td>\n    </tr>\n    <tr>\n      <th>2017-12-31 23:22:00</th>\n      <td>999</td>\n      <td>99.0</td>\n      <td>99.0</td>\n      <td>0.74</td>\n      <td>9.09</td>\n      <td>4.85</td>\n      <td>81</td>\n      <td>9999.0</td>\n      <td>999.0</td>\n      <td>17.6</td>\n      <td>999.0</td>\n      <td>99.0</td>\n      <td>99.00</td>\n    </tr>\n    <tr>\n      <th>2017-12-31 23:52:00</th>\n      <td>999</td>\n      <td>99.0</td>\n      <td>99.0</td>\n      <td>0.73</td>\n      <td>9.88</td>\n      <td>4.53</td>\n      <td>77</td>\n      <td>9999.0</td>\n      <td>999.0</td>\n      <td>17.6</td>\n      <td>999.0</td>\n      <td>99.0</td>\n      <td>99.00</td>\n    </tr>\n  </tbody>\n</table>\n<p>12705 rows × 13 columns</p>\n</div>"
     },
     "metadata": {},
     "output_type": "display_data"
    }
   ],
   "source": [
    "#Test df_modification\n",
    "test_data = get_data_file(\"41117\", \"2017\")\n",
    "data_modified = df_modification(test_data)[1]\n",
    "#display(list(data_modified.columns))\n",
    "display(data_modified)\n"
   ],
   "metadata": {
    "collapsed": false,
    "pycharm": {
     "name": "#%%\n"
    }
   }
  },
  {
   "cell_type": "markdown",
   "source": [],
   "metadata": {
    "collapsed": false,
    "pycharm": {
     "name": "#%% md\n"
    }
   }
  },
  {
   "cell_type": "code",
   "execution_count": 10,
   "outputs": [],
   "source": [
    "#get whole data\n",
    "def build_dataset(station_numbers, year):\n",
    "    dataframes = list()\n",
    "\n",
    "    for station_number in station_numbers:\n",
    "        data = get_data_file(station_number, year)  #load file\n",
    "\n",
    "        if data is not None:\n",
    "            current_df = df_modification(data)   #[1] ... df and not the whole tuple\n",
    "            print(\"Shape of \", current_df[0],\": \",current_df[1].shape)\n",
    "\n",
    "            dataframes.append(current_df[1])\n",
    "\n",
    "    #merged_data = pd.concat(dataframes)\n",
    "    merged_data = pd.concat(dataframes, axis=1, join=\"outer\")   #outer join also includes NaN, inner join removes them\n",
    "    return merged_data"
   ],
   "metadata": {
    "collapsed": false,
    "pycharm": {
     "name": "#%%\n"
    }
   }
  },
  {
   "cell_type": "code",
   "execution_count": 13,
   "outputs": [
    {
     "name": "stdout",
     "output_type": "stream",
     "text": [
      "Shape of  41117 :  (17412, 13)\n",
      "Shape of  41112 :  (15910, 13)\n"
     ]
    },
    {
     "name": "stderr",
     "output_type": "stream",
     "text": [
      "/var/folders/ys/lj6w647n5qjdv23zdxs_fn740000gn/T/ipykernel_10070/3830290580.py:11: DtypeWarning: Columns (0,1,2,3,4,5,6,7,8,9,10,11,12,13,14,15,16,17) have mixed types. Specify dtype option on import or set low_memory=False.\n",
      "  df_data = pd.read_csv(url, delim_whitespace=True)\n"
     ]
    },
    {
     "ename": "TypeError",
     "evalue": "unsupported operand type(s) for +: 'int' and 'str'",
     "output_type": "error",
     "traceback": [
      "\u001B[0;31m---------------------------------------------------------------------------\u001B[0m",
      "\u001B[0;31mTypeError\u001B[0m                                 Traceback (most recent call last)",
      "File \u001B[0;32m/opt/homebrew/Caskroom/miniforge/base/envs/Project_conda/lib/python3.8/site-packages/pandas/core/ops/array_ops.py:165\u001B[0m, in \u001B[0;36m_na_arithmetic_op\u001B[0;34m(left, right, op, is_cmp)\u001B[0m\n\u001B[1;32m    164\u001B[0m \u001B[38;5;28;01mtry\u001B[39;00m:\n\u001B[0;32m--> 165\u001B[0m     result \u001B[38;5;241m=\u001B[39m \u001B[43mfunc\u001B[49m\u001B[43m(\u001B[49m\u001B[43mleft\u001B[49m\u001B[43m,\u001B[49m\u001B[43m \u001B[49m\u001B[43mright\u001B[49m\u001B[43m)\u001B[49m\n\u001B[1;32m    166\u001B[0m \u001B[38;5;28;01mexcept\u001B[39;00m \u001B[38;5;167;01mTypeError\u001B[39;00m:\n",
      "\u001B[0;31mTypeError\u001B[0m: unsupported operand type(s) for +: 'int' and 'str'",
      "\nDuring handling of the above exception, another exception occurred:\n",
      "\u001B[0;31mTypeError\u001B[0m                                 Traceback (most recent call last)",
      "Cell \u001B[0;32mIn [13], line 5\u001B[0m\n\u001B[1;32m      2\u001B[0m station_numbers_one \u001B[38;5;241m=\u001B[39m [\u001B[38;5;124m\"\u001B[39m\u001B[38;5;124m41117\u001B[39m\u001B[38;5;124m\"\u001B[39m]\n\u001B[1;32m      3\u001B[0m station_numbers_two \u001B[38;5;241m=\u001B[39m [ \u001B[38;5;124m\"\u001B[39m\u001B[38;5;124m41117\u001B[39m\u001B[38;5;124m\"\u001B[39m,\u001B[38;5;124m\"\u001B[39m\u001B[38;5;124m41112\u001B[39m\u001B[38;5;124m\"\u001B[39m]\n\u001B[0;32m----> 5\u001B[0m merged_df \u001B[38;5;241m=\u001B[39m \u001B[43mbuild_dataset\u001B[49m\u001B[43m(\u001B[49m\u001B[43mstation_numbers_all\u001B[49m\u001B[43m,\u001B[49m\u001B[43m \u001B[49m\u001B[38;5;124;43m\"\u001B[39;49m\u001B[38;5;124;43m2020\u001B[39;49m\u001B[38;5;124;43m\"\u001B[39;49m\u001B[43m)\u001B[49m\n\u001B[1;32m      6\u001B[0m merged_df\n",
      "Cell \u001B[0;32mIn [10], line 9\u001B[0m, in \u001B[0;36mbuild_dataset\u001B[0;34m(station_numbers, year)\u001B[0m\n\u001B[1;32m      6\u001B[0m data \u001B[38;5;241m=\u001B[39m get_data_file(station_number, year)  \u001B[38;5;66;03m#load file\u001B[39;00m\n\u001B[1;32m      8\u001B[0m \u001B[38;5;28;01mif\u001B[39;00m data \u001B[38;5;129;01mis\u001B[39;00m \u001B[38;5;129;01mnot\u001B[39;00m \u001B[38;5;28;01mNone\u001B[39;00m:\n\u001B[0;32m----> 9\u001B[0m     current_df \u001B[38;5;241m=\u001B[39m \u001B[43mdf_modification\u001B[49m\u001B[43m(\u001B[49m\u001B[43mdata\u001B[49m\u001B[43m)\u001B[49m   \u001B[38;5;66;03m#[1] ... df and not the whole tuple\u001B[39;00m\n\u001B[1;32m     10\u001B[0m     \u001B[38;5;28mprint\u001B[39m(\u001B[38;5;124m\"\u001B[39m\u001B[38;5;124mShape of \u001B[39m\u001B[38;5;124m\"\u001B[39m, current_df[\u001B[38;5;241m0\u001B[39m],\u001B[38;5;124m\"\u001B[39m\u001B[38;5;124m: \u001B[39m\u001B[38;5;124m\"\u001B[39m,current_df[\u001B[38;5;241m1\u001B[39m]\u001B[38;5;241m.\u001B[39mshape)\n\u001B[1;32m     12\u001B[0m     dataframes\u001B[38;5;241m.\u001B[39mappend(current_df[\u001B[38;5;241m1\u001B[39m])\n",
      "Cell \u001B[0;32mIn [8], line 7\u001B[0m, in \u001B[0;36mdf_modification\u001B[0;34m(data)\u001B[0m\n\u001B[1;32m      4\u001B[0m df \u001B[38;5;241m=\u001B[39m df\u001B[38;5;241m.\u001B[39mdrop(labels\u001B[38;5;241m=\u001B[39m\u001B[38;5;241m0\u001B[39m, axis\u001B[38;5;241m=\u001B[39m\u001B[38;5;241m0\u001B[39m) \u001B[38;5;66;03m#drop row with units\u001B[39;00m\n\u001B[1;32m      6\u001B[0m \u001B[38;5;66;03m#replace time columns with timestamp index\u001B[39;00m\n\u001B[0;32m----> 7\u001B[0m df[\u001B[38;5;124m'\u001B[39m\u001B[38;5;124mtimestamp\u001B[39m\u001B[38;5;124m'\u001B[39m] \u001B[38;5;241m=\u001B[39m  \u001B[43mdf\u001B[49m\u001B[43m[\u001B[49m\u001B[38;5;124;43m'\u001B[39;49m\u001B[38;5;124;43m#YY\u001B[39;49m\u001B[38;5;124;43m'\u001B[39;49m\u001B[43m]\u001B[49m\u001B[43m \u001B[49m\u001B[38;5;241;43m+\u001B[39;49m\u001B[38;5;124;43m\"\u001B[39;49m\u001B[38;5;124;43m-\u001B[39;49m\u001B[38;5;124;43m\"\u001B[39;49m \\\n\u001B[1;32m      8\u001B[0m                    \u001B[38;5;241m+\u001B[39m df[\u001B[38;5;124m'\u001B[39m\u001B[38;5;124mMM\u001B[39m\u001B[38;5;124m'\u001B[39m] \u001B[38;5;241m+\u001B[39m\u001B[38;5;124m\"\u001B[39m\u001B[38;5;124m-\u001B[39m\u001B[38;5;124m\"\u001B[39m  \\\n\u001B[1;32m      9\u001B[0m                    \u001B[38;5;241m+\u001B[39m df[\u001B[38;5;124m'\u001B[39m\u001B[38;5;124mDD\u001B[39m\u001B[38;5;124m'\u001B[39m] \u001B[38;5;241m+\u001B[39m\u001B[38;5;124m\"\u001B[39m\u001B[38;5;124m \u001B[39m\u001B[38;5;124m\"\u001B[39m \\\n\u001B[1;32m     10\u001B[0m                    \u001B[38;5;241m+\u001B[39m df[\u001B[38;5;124m'\u001B[39m\u001B[38;5;124mhh\u001B[39m\u001B[38;5;124m'\u001B[39m] \u001B[38;5;241m+\u001B[39m\u001B[38;5;124m\"\u001B[39m\u001B[38;5;124m:\u001B[39m\u001B[38;5;124m\"\u001B[39m\\\n\u001B[1;32m     11\u001B[0m                    \u001B[38;5;241m+\u001B[39m df[\u001B[38;5;124m'\u001B[39m\u001B[38;5;124mmm\u001B[39m\u001B[38;5;124m'\u001B[39m]\n\u001B[1;32m     12\u001B[0m df[\u001B[38;5;124m'\u001B[39m\u001B[38;5;124mtimestamp\u001B[39m\u001B[38;5;124m'\u001B[39m] \u001B[38;5;241m=\u001B[39m pd\u001B[38;5;241m.\u001B[39mto_datetime(df[\u001B[38;5;124m'\u001B[39m\u001B[38;5;124mtimestamp\u001B[39m\u001B[38;5;124m'\u001B[39m], \u001B[38;5;28mformat\u001B[39m\u001B[38;5;241m=\u001B[39m\u001B[38;5;124m'\u001B[39m\u001B[38;5;124m%\u001B[39m\u001B[38;5;124mY-\u001B[39m\u001B[38;5;124m%\u001B[39m\u001B[38;5;124mm-\u001B[39m\u001B[38;5;132;01m%d\u001B[39;00m\u001B[38;5;124m \u001B[39m\u001B[38;5;124m%\u001B[39m\u001B[38;5;124mH:\u001B[39m\u001B[38;5;124m%\u001B[39m\u001B[38;5;124mM\u001B[39m\u001B[38;5;124m'\u001B[39m)\n\u001B[1;32m     13\u001B[0m df\u001B[38;5;241m.\u001B[39mdrop(columns\u001B[38;5;241m=\u001B[39m[\u001B[38;5;124m'\u001B[39m\u001B[38;5;124m#YY\u001B[39m\u001B[38;5;124m'\u001B[39m, \u001B[38;5;124m'\u001B[39m\u001B[38;5;124mMM\u001B[39m\u001B[38;5;124m'\u001B[39m, \u001B[38;5;124m'\u001B[39m\u001B[38;5;124mDD\u001B[39m\u001B[38;5;124m'\u001B[39m, \u001B[38;5;124m'\u001B[39m\u001B[38;5;124mhh\u001B[39m\u001B[38;5;124m'\u001B[39m, \u001B[38;5;124m'\u001B[39m\u001B[38;5;124mmm\u001B[39m\u001B[38;5;124m'\u001B[39m], inplace\u001B[38;5;241m=\u001B[39m\u001B[38;5;28;01mTrue\u001B[39;00m)\n",
      "File \u001B[0;32m/opt/homebrew/Caskroom/miniforge/base/envs/Project_conda/lib/python3.8/site-packages/pandas/core/ops/common.py:72\u001B[0m, in \u001B[0;36m_unpack_zerodim_and_defer.<locals>.new_method\u001B[0;34m(self, other)\u001B[0m\n\u001B[1;32m     68\u001B[0m             \u001B[38;5;28;01mreturn\u001B[39;00m \u001B[38;5;28mNotImplemented\u001B[39m\n\u001B[1;32m     70\u001B[0m other \u001B[38;5;241m=\u001B[39m item_from_zerodim(other)\n\u001B[0;32m---> 72\u001B[0m \u001B[38;5;28;01mreturn\u001B[39;00m \u001B[43mmethod\u001B[49m\u001B[43m(\u001B[49m\u001B[38;5;28;43mself\u001B[39;49m\u001B[43m,\u001B[49m\u001B[43m \u001B[49m\u001B[43mother\u001B[49m\u001B[43m)\u001B[49m\n",
      "File \u001B[0;32m/opt/homebrew/Caskroom/miniforge/base/envs/Project_conda/lib/python3.8/site-packages/pandas/core/arraylike.py:102\u001B[0m, in \u001B[0;36mOpsMixin.__add__\u001B[0;34m(self, other)\u001B[0m\n\u001B[1;32m    100\u001B[0m \u001B[38;5;129m@unpack_zerodim_and_defer\u001B[39m(\u001B[38;5;124m\"\u001B[39m\u001B[38;5;124m__add__\u001B[39m\u001B[38;5;124m\"\u001B[39m)\n\u001B[1;32m    101\u001B[0m \u001B[38;5;28;01mdef\u001B[39;00m \u001B[38;5;21m__add__\u001B[39m(\u001B[38;5;28mself\u001B[39m, other):\n\u001B[0;32m--> 102\u001B[0m     \u001B[38;5;28;01mreturn\u001B[39;00m \u001B[38;5;28;43mself\u001B[39;49m\u001B[38;5;241;43m.\u001B[39;49m\u001B[43m_arith_method\u001B[49m\u001B[43m(\u001B[49m\u001B[43mother\u001B[49m\u001B[43m,\u001B[49m\u001B[43m \u001B[49m\u001B[43moperator\u001B[49m\u001B[38;5;241;43m.\u001B[39;49m\u001B[43madd\u001B[49m\u001B[43m)\u001B[49m\n",
      "File \u001B[0;32m/opt/homebrew/Caskroom/miniforge/base/envs/Project_conda/lib/python3.8/site-packages/pandas/core/series.py:6259\u001B[0m, in \u001B[0;36mSeries._arith_method\u001B[0;34m(self, other, op)\u001B[0m\n\u001B[1;32m   6257\u001B[0m \u001B[38;5;28;01mdef\u001B[39;00m \u001B[38;5;21m_arith_method\u001B[39m(\u001B[38;5;28mself\u001B[39m, other, op):\n\u001B[1;32m   6258\u001B[0m     \u001B[38;5;28mself\u001B[39m, other \u001B[38;5;241m=\u001B[39m ops\u001B[38;5;241m.\u001B[39malign_method_SERIES(\u001B[38;5;28mself\u001B[39m, other)\n\u001B[0;32m-> 6259\u001B[0m     \u001B[38;5;28;01mreturn\u001B[39;00m \u001B[43mbase\u001B[49m\u001B[38;5;241;43m.\u001B[39;49m\u001B[43mIndexOpsMixin\u001B[49m\u001B[38;5;241;43m.\u001B[39;49m\u001B[43m_arith_method\u001B[49m\u001B[43m(\u001B[49m\u001B[38;5;28;43mself\u001B[39;49m\u001B[43m,\u001B[49m\u001B[43m \u001B[49m\u001B[43mother\u001B[49m\u001B[43m,\u001B[49m\u001B[43m \u001B[49m\u001B[43mop\u001B[49m\u001B[43m)\u001B[49m\n",
      "File \u001B[0;32m/opt/homebrew/Caskroom/miniforge/base/envs/Project_conda/lib/python3.8/site-packages/pandas/core/base.py:1325\u001B[0m, in \u001B[0;36mIndexOpsMixin._arith_method\u001B[0;34m(self, other, op)\u001B[0m\n\u001B[1;32m   1322\u001B[0m rvalues \u001B[38;5;241m=\u001B[39m ensure_wrapped_if_datetimelike(rvalues)\n\u001B[1;32m   1324\u001B[0m \u001B[38;5;28;01mwith\u001B[39;00m np\u001B[38;5;241m.\u001B[39merrstate(\u001B[38;5;28mall\u001B[39m\u001B[38;5;241m=\u001B[39m\u001B[38;5;124m\"\u001B[39m\u001B[38;5;124mignore\u001B[39m\u001B[38;5;124m\"\u001B[39m):\n\u001B[0;32m-> 1325\u001B[0m     result \u001B[38;5;241m=\u001B[39m \u001B[43mops\u001B[49m\u001B[38;5;241;43m.\u001B[39;49m\u001B[43marithmetic_op\u001B[49m\u001B[43m(\u001B[49m\u001B[43mlvalues\u001B[49m\u001B[43m,\u001B[49m\u001B[43m \u001B[49m\u001B[43mrvalues\u001B[49m\u001B[43m,\u001B[49m\u001B[43m \u001B[49m\u001B[43mop\u001B[49m\u001B[43m)\u001B[49m\n\u001B[1;32m   1327\u001B[0m \u001B[38;5;28;01mreturn\u001B[39;00m \u001B[38;5;28mself\u001B[39m\u001B[38;5;241m.\u001B[39m_construct_result(result, name\u001B[38;5;241m=\u001B[39mres_name)\n",
      "File \u001B[0;32m/opt/homebrew/Caskroom/miniforge/base/envs/Project_conda/lib/python3.8/site-packages/pandas/core/ops/array_ops.py:226\u001B[0m, in \u001B[0;36marithmetic_op\u001B[0;34m(left, right, op)\u001B[0m\n\u001B[1;32m    222\u001B[0m     _bool_arith_check(op, left, right)\n\u001B[1;32m    224\u001B[0m     \u001B[38;5;66;03m# error: Argument 1 to \"_na_arithmetic_op\" has incompatible type\u001B[39;00m\n\u001B[1;32m    225\u001B[0m     \u001B[38;5;66;03m# \"Union[ExtensionArray, ndarray[Any, Any]]\"; expected \"ndarray[Any, Any]\"\u001B[39;00m\n\u001B[0;32m--> 226\u001B[0m     res_values \u001B[38;5;241m=\u001B[39m \u001B[43m_na_arithmetic_op\u001B[49m\u001B[43m(\u001B[49m\u001B[43mleft\u001B[49m\u001B[43m,\u001B[49m\u001B[43m \u001B[49m\u001B[43mright\u001B[49m\u001B[43m,\u001B[49m\u001B[43m \u001B[49m\u001B[43mop\u001B[49m\u001B[43m)\u001B[49m  \u001B[38;5;66;03m# type: ignore[arg-type]\u001B[39;00m\n\u001B[1;32m    228\u001B[0m \u001B[38;5;28;01mreturn\u001B[39;00m res_values\n",
      "File \u001B[0;32m/opt/homebrew/Caskroom/miniforge/base/envs/Project_conda/lib/python3.8/site-packages/pandas/core/ops/array_ops.py:172\u001B[0m, in \u001B[0;36m_na_arithmetic_op\u001B[0;34m(left, right, op, is_cmp)\u001B[0m\n\u001B[1;32m    166\u001B[0m \u001B[38;5;28;01mexcept\u001B[39;00m \u001B[38;5;167;01mTypeError\u001B[39;00m:\n\u001B[1;32m    167\u001B[0m     \u001B[38;5;28;01mif\u001B[39;00m \u001B[38;5;129;01mnot\u001B[39;00m is_cmp \u001B[38;5;129;01mand\u001B[39;00m (is_object_dtype(left\u001B[38;5;241m.\u001B[39mdtype) \u001B[38;5;129;01mor\u001B[39;00m is_object_dtype(right)):\n\u001B[1;32m    168\u001B[0m         \u001B[38;5;66;03m# For object dtype, fallback to a masked operation (only operating\u001B[39;00m\n\u001B[1;32m    169\u001B[0m         \u001B[38;5;66;03m#  on the non-missing values)\u001B[39;00m\n\u001B[1;32m    170\u001B[0m         \u001B[38;5;66;03m# Don't do this for comparisons, as that will handle complex numbers\u001B[39;00m\n\u001B[1;32m    171\u001B[0m         \u001B[38;5;66;03m#  incorrectly, see GH#32047\u001B[39;00m\n\u001B[0;32m--> 172\u001B[0m         result \u001B[38;5;241m=\u001B[39m \u001B[43m_masked_arith_op\u001B[49m\u001B[43m(\u001B[49m\u001B[43mleft\u001B[49m\u001B[43m,\u001B[49m\u001B[43m \u001B[49m\u001B[43mright\u001B[49m\u001B[43m,\u001B[49m\u001B[43m \u001B[49m\u001B[43mop\u001B[49m\u001B[43m)\u001B[49m\n\u001B[1;32m    173\u001B[0m     \u001B[38;5;28;01melse\u001B[39;00m:\n\u001B[1;32m    174\u001B[0m         \u001B[38;5;28;01mraise\u001B[39;00m\n",
      "File \u001B[0;32m/opt/homebrew/Caskroom/miniforge/base/envs/Project_conda/lib/python3.8/site-packages/pandas/core/ops/array_ops.py:129\u001B[0m, in \u001B[0;36m_masked_arith_op\u001B[0;34m(x, y, op)\u001B[0m\n\u001B[1;32m    126\u001B[0m         mask \u001B[38;5;241m=\u001B[39m np\u001B[38;5;241m.\u001B[39mwhere(y \u001B[38;5;241m==\u001B[39m \u001B[38;5;241m1\u001B[39m, \u001B[38;5;28;01mFalse\u001B[39;00m, mask)\n\u001B[1;32m    128\u001B[0m     \u001B[38;5;28;01mif\u001B[39;00m mask\u001B[38;5;241m.\u001B[39many():\n\u001B[0;32m--> 129\u001B[0m         result[mask] \u001B[38;5;241m=\u001B[39m \u001B[43mop\u001B[49m\u001B[43m(\u001B[49m\u001B[43mxrav\u001B[49m\u001B[43m[\u001B[49m\u001B[43mmask\u001B[49m\u001B[43m]\u001B[49m\u001B[43m,\u001B[49m\u001B[43m \u001B[49m\u001B[43my\u001B[49m\u001B[43m)\u001B[49m\n\u001B[1;32m    131\u001B[0m np\u001B[38;5;241m.\u001B[39mputmask(result, \u001B[38;5;241m~\u001B[39mmask, np\u001B[38;5;241m.\u001B[39mnan)\n\u001B[1;32m    132\u001B[0m result \u001B[38;5;241m=\u001B[39m result\u001B[38;5;241m.\u001B[39mreshape(x\u001B[38;5;241m.\u001B[39mshape)  \u001B[38;5;66;03m# 2D compat\u001B[39;00m\n",
      "\u001B[0;31mTypeError\u001B[0m: unsupported operand type(s) for +: 'int' and 'str'"
     ]
    }
   ],
   "source": [
    "#TEST:\n",
    "station_numbers_one = [\"41117\"]\n",
    "station_numbers_two = [ \"41117\",\"41112\"]\n",
    "\n",
    "merged_df = build_dataset(station_numbers_all, \"2020\")\n",
    "merged_df"
   ],
   "metadata": {
    "collapsed": false,
    "pycharm": {
     "name": "#%%\n"
    }
   }
  },
  {
   "cell_type": "markdown",
   "source": [
    "Guide:\n",
    "https://www.ndbc.noaa.gov/docs/ndbc_web_data_guide.pdf"
   ],
   "metadata": {
    "collapsed": false,
    "pycharm": {
     "name": "#%% md\n"
    }
   }
  },
  {
   "cell_type": "markdown",
   "source": [
    "# Issue with Timestamps\n",
    "\n",
    "Since the datafiles of each buoy have different numbers of rows, the timestamps are not similar.\n",
    "I think this can be handles by outer-join the whole data and then remove rows with NaN values.\n",
    "Anyways, I need to find a way to investigate / visualize the timestamps\n",
    "\n",
    "### The problem is, that different buoys provide values on different time stamps!"
   ],
   "metadata": {
    "collapsed": false,
    "pycharm": {
     "name": "#%% md\n"
    }
   }
  },
  {
   "cell_type": "code",
   "execution_count": null,
   "outputs": [],
   "source": [],
   "metadata": {
    "collapsed": false,
    "pycharm": {
     "name": "#%%\n"
    }
   }
  },
  {
   "cell_type": "markdown",
   "source": [
    "\n"
   ],
   "metadata": {
    "collapsed": false,
    "pycharm": {
     "name": "#%% md\n"
    }
   }
  }
 ],
 "metadata": {
  "kernelspec": {
   "display_name": "Python 3",
   "language": "python",
   "name": "python3"
  },
  "language_info": {
   "codemirror_mode": {
    "name": "ipython",
    "version": 2
   },
   "file_extension": ".py",
   "mimetype": "text/x-python",
   "name": "python",
   "nbconvert_exporter": "python",
   "pygments_lexer": "ipython2",
   "version": "2.7.6"
  }
 },
 "nbformat": 4,
 "nbformat_minor": 0
}