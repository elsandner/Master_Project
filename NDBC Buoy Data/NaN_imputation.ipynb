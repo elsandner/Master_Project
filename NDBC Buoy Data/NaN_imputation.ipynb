{
 "cells": [
  {
   "cell_type": "markdown",
   "source": [
    "# GOAL: solve the problem of missing data (NaN)\n",
    "In the current cleaned file, still about 18% of the values are NaN. Deleting all of them would significantly reduce the amount of data. Here I am trying different approaches to imputate them.\n",
    "\n",
    "Most promising approaches:\n",
    "* Impute missing values with Mean/Median ... simple but not very accurate\n",
    "* Use available data to predict missing data (eg. linear regression) ... probably works very well if the amount of missing values is low.\n",
    "* There is also a Skikitlearn method called simple imputer: https://www.youtube.com/watch?v=GFnwvZVCMro\n",
    "* Imputation using Deep Learning Library — Datawig ... probably the best result, but I expect it to be quite slow (shouldn't be the problem)"
   ],
   "metadata": {
    "collapsed": false,
    "pycharm": {
     "name": "#%% md\n"
    }
   }
  },
  {
   "cell_type": "markdown",
   "source": [
    "# Readings:\n",
    "* https://towardsdatascience.com/imputation-of-missing-data-in-tables-with-datawig-2d7ab327ece2\n",
    "* https://towardsdatascience.com/7-ways-to-handle-missing-values-in-machine-learning-1a6326adf79e\n",
    "* **TUTORIAL:** https://github.com/kennethleungty/DataWig-Missing-Data-Imputation/blob/main/notebooks/DataWig-Example.ipynb\n",
    "*  **DataWig Doc:** https://datawig.readthedocs.io/en/latest/source/intro.html\n",
    "\n",
    "\n",
    "Paper about Datawig (Comparission to alternatives):\n",
    "* https://jmlr.org/papers/v20/18-753.html\n",
    "* https://www.jmlr.org/papers/volume20/18-753/18-753.pdf (From Amazon Science)\n"
   ],
   "metadata": {
    "collapsed": false,
    "pycharm": {
     "name": "#%% md\n"
    }
   }
  },
  {
   "cell_type": "markdown",
   "source": [
    "## TODOs:\n",
    "* As soon as I finished with all those experiments --> build one notebook which executes the final preprocessing steps.\n",
    "* Improve code reuse-ability - Either figure out how to import functions from another notebook or create a .py file with frequently used functions!"
   ],
   "metadata": {
    "collapsed": false,
    "pycharm": {
     "name": "#%% md\n"
    }
   }
  },
  {
   "cell_type": "code",
   "execution_count": 1,
   "outputs": [],
   "source": [
    "import pandas as pd"
   ],
   "metadata": {
    "collapsed": false,
    "pycharm": {
     "name": "#%%\n"
    }
   }
  },
  {
   "cell_type": "code",
   "execution_count": 3,
   "outputs": [
    {
     "data": {
      "text/plain": "                timestamp  WVHT_41117  DPD_41117  APD_41117  MWD_41117  \\\n6290  2020-09-19 02:00:00         NaN        NaN        NaN        NaN   \n3645  2020-05-31 21:00:00        0.52       8.33       4.38       95.0   \n3429  2020-05-22 21:00:00        1.17      12.50       6.16       64.0   \n5096  2020-07-31 08:00:00         NaN        NaN        NaN        NaN   \n1816  2020-03-16 16:00:00        1.36       5.56       4.96       45.0   \n\n      WTMP_41117  WVHT_41112  DPD_41112  APD_41112  MWD_41112  ...  \\\n6290         NaN        0.91       3.85       3.63      360.0  ...   \n3645        27.2        0.60       8.33       5.57      109.0  ...   \n3429        25.6        0.94      11.76       5.30       91.0  ...   \n5096         NaN         NaN        NaN        NaN        NaN  ...   \n1816        18.8        1.37       5.00       4.25       46.0  ...   \n\n      WTMP_wiwf1  TIDE_wiwf1  WTMP_wplf1  TIDE_wplf1  WDIR_wycm6  WSPD_wycm6  \\\n6290        31.3        1.02        30.9        0.03        26.0         7.3   \n3645        30.4       -0.16        31.8       -0.78       338.0         1.4   \n3429        30.4       -0.03        30.4        0.13       218.0         3.2   \n5096        30.7        0.14        31.0       -0.20       252.0         3.3   \n1816        23.9       -0.54        25.5       -0.60        68.0         0.1   \n\n      GST_wycm6  PRES_wycm6  ATMP_wycm6  WTMP_wycm6  \n6290        8.3      1015.1        25.3        25.7  \n3645        2.2      1017.5        32.0        29.0  \n3429        8.8      1015.5         NaN        27.6  \n5096        5.0      1015.6        28.3        28.4  \n1816        1.6      1024.9        21.6        22.1  \n\n[5 rows x 626 columns]",
      "text/html": "<div>\n<style scoped>\n    .dataframe tbody tr th:only-of-type {\n        vertical-align: middle;\n    }\n\n    .dataframe tbody tr th {\n        vertical-align: top;\n    }\n\n    .dataframe thead th {\n        text-align: right;\n    }\n</style>\n<table border=\"1\" class=\"dataframe\">\n  <thead>\n    <tr style=\"text-align: right;\">\n      <th></th>\n      <th>timestamp</th>\n      <th>WVHT_41117</th>\n      <th>DPD_41117</th>\n      <th>APD_41117</th>\n      <th>MWD_41117</th>\n      <th>WTMP_41117</th>\n      <th>WVHT_41112</th>\n      <th>DPD_41112</th>\n      <th>APD_41112</th>\n      <th>MWD_41112</th>\n      <th>...</th>\n      <th>WTMP_wiwf1</th>\n      <th>TIDE_wiwf1</th>\n      <th>WTMP_wplf1</th>\n      <th>TIDE_wplf1</th>\n      <th>WDIR_wycm6</th>\n      <th>WSPD_wycm6</th>\n      <th>GST_wycm6</th>\n      <th>PRES_wycm6</th>\n      <th>ATMP_wycm6</th>\n      <th>WTMP_wycm6</th>\n    </tr>\n  </thead>\n  <tbody>\n    <tr>\n      <th>6290</th>\n      <td>2020-09-19 02:00:00</td>\n      <td>NaN</td>\n      <td>NaN</td>\n      <td>NaN</td>\n      <td>NaN</td>\n      <td>NaN</td>\n      <td>0.91</td>\n      <td>3.85</td>\n      <td>3.63</td>\n      <td>360.0</td>\n      <td>...</td>\n      <td>31.3</td>\n      <td>1.02</td>\n      <td>30.9</td>\n      <td>0.03</td>\n      <td>26.0</td>\n      <td>7.3</td>\n      <td>8.3</td>\n      <td>1015.1</td>\n      <td>25.3</td>\n      <td>25.7</td>\n    </tr>\n    <tr>\n      <th>3645</th>\n      <td>2020-05-31 21:00:00</td>\n      <td>0.52</td>\n      <td>8.33</td>\n      <td>4.38</td>\n      <td>95.0</td>\n      <td>27.2</td>\n      <td>0.60</td>\n      <td>8.33</td>\n      <td>5.57</td>\n      <td>109.0</td>\n      <td>...</td>\n      <td>30.4</td>\n      <td>-0.16</td>\n      <td>31.8</td>\n      <td>-0.78</td>\n      <td>338.0</td>\n      <td>1.4</td>\n      <td>2.2</td>\n      <td>1017.5</td>\n      <td>32.0</td>\n      <td>29.0</td>\n    </tr>\n    <tr>\n      <th>3429</th>\n      <td>2020-05-22 21:00:00</td>\n      <td>1.17</td>\n      <td>12.50</td>\n      <td>6.16</td>\n      <td>64.0</td>\n      <td>25.6</td>\n      <td>0.94</td>\n      <td>11.76</td>\n      <td>5.30</td>\n      <td>91.0</td>\n      <td>...</td>\n      <td>30.4</td>\n      <td>-0.03</td>\n      <td>30.4</td>\n      <td>0.13</td>\n      <td>218.0</td>\n      <td>3.2</td>\n      <td>8.8</td>\n      <td>1015.5</td>\n      <td>NaN</td>\n      <td>27.6</td>\n    </tr>\n    <tr>\n      <th>5096</th>\n      <td>2020-07-31 08:00:00</td>\n      <td>NaN</td>\n      <td>NaN</td>\n      <td>NaN</td>\n      <td>NaN</td>\n      <td>NaN</td>\n      <td>NaN</td>\n      <td>NaN</td>\n      <td>NaN</td>\n      <td>NaN</td>\n      <td>...</td>\n      <td>30.7</td>\n      <td>0.14</td>\n      <td>31.0</td>\n      <td>-0.20</td>\n      <td>252.0</td>\n      <td>3.3</td>\n      <td>5.0</td>\n      <td>1015.6</td>\n      <td>28.3</td>\n      <td>28.4</td>\n    </tr>\n    <tr>\n      <th>1816</th>\n      <td>2020-03-16 16:00:00</td>\n      <td>1.36</td>\n      <td>5.56</td>\n      <td>4.96</td>\n      <td>45.0</td>\n      <td>18.8</td>\n      <td>1.37</td>\n      <td>5.00</td>\n      <td>4.25</td>\n      <td>46.0</td>\n      <td>...</td>\n      <td>23.9</td>\n      <td>-0.54</td>\n      <td>25.5</td>\n      <td>-0.60</td>\n      <td>68.0</td>\n      <td>0.1</td>\n      <td>1.6</td>\n      <td>1024.9</td>\n      <td>21.6</td>\n      <td>22.1</td>\n    </tr>\n  </tbody>\n</table>\n<p>5 rows × 626 columns</p>\n</div>"
     },
     "execution_count": 3,
     "metadata": {},
     "output_type": "execute_result"
    }
   ],
   "source": [
    "data = pd.read_csv(\"../data/NDBC_historical_stdmet_GOM_2020_cleaned.csv\")\n",
    "data.sample(5)"
   ],
   "metadata": {
    "collapsed": false,
    "pycharm": {
     "name": "#%%\n"
    }
   }
  },
  {
   "cell_type": "code",
   "execution_count": null,
   "outputs": [],
   "source": [
    "import datawig\n",
    "df = datawig.SimpleImputer.complete(data)"
   ],
   "metadata": {
    "collapsed": false,
    "pycharm": {
     "name": "#%%\n"
    }
   }
  }
 ],
 "metadata": {
  "kernelspec": {
   "display_name": "Python 3",
   "language": "python",
   "name": "python3"
  },
  "language_info": {
   "codemirror_mode": {
    "name": "ipython",
    "version": 2
   },
   "file_extension": ".py",
   "mimetype": "text/x-python",
   "name": "python",
   "nbconvert_exporter": "python",
   "pygments_lexer": "ipython2",
   "version": "2.7.6"
  }
 },
 "nbformat": 4,
 "nbformat_minor": 0
}