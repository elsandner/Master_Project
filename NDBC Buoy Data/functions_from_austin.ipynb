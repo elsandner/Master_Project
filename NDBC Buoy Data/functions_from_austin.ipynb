{
 "cells": [
  {
   "cell_type": "markdown",
   "source": [
    "# Functions provided by Austin Schmidt via E-Mail on Nov. 22"
   ],
   "metadata": {
    "collapsed": false,
    "pycharm": {
     "name": "#%% md\n"
    }
   }
  },
  {
   "cell_type": "markdown",
   "source": [
    "Download NOAA from National Center for Environmental Informatics"
   ],
   "metadata": {
    "collapsed": false,
    "pycharm": {
     "name": "#%% md\n"
    }
   }
  },
  {
   "cell_type": "code",
   "execution_count": null,
   "outputs": [],
   "source": [
    "import numpy as np\n",
    "import os\n",
    "import pandas as pd\n",
    "\n",
    "\n"
   ],
   "metadata": {
    "collapsed": false,
    "pycharm": {
     "name": "#%%\n"
    }
   }
  },
  {
   "cell_type": "code",
   "execution_count": null,
   "outputs": [],
   "source": [
    "def download_noaa(buoy, date):\n",
    "    myurl = \"http://www.ndbc.noaa.gov/view_text_file.php?filename=\"+buoy+\"h\"+ date +\".txt.gz&dir=data/historical/stdmet/\"\n",
    "    data = requests.get(myurl).text.split(\"\\n\")\n",
    "\n",
    "    return_val = []\n",
    "    for line in data[2:]:\n",
    "        return_val.append([float(a) for a in line.strip().split(\" \") if a.strip() != '' ] )\n",
    "\n",
    "    return_val = np.array(return_val[0:-1])\n",
    "\n",
    "\n",
    "    if return_val.size == 0:\n",
    "        return return_val, return_val\n",
    "\n",
    "    df = pd.DataFrame(return_val, columns = data[0].split())\n",
    "\n",
    "    return df, return_val\n"
   ],
   "metadata": {
    "collapsed": false,
    "pycharm": {
     "name": "#%%\n"
    }
   }
  },
  {
   "cell_type": "markdown",
   "source": [
    "Load Files:"
   ],
   "metadata": {
    "collapsed": false,
    "pycharm": {
     "name": "#%% md\n"
    }
   }
  },
  {
   "cell_type": "code",
   "execution_count": null,
   "outputs": [],
   "source": [
    "def load_files(file_path):\n",
    "    #Collect all files in a files list\n",
    "    ext='.nc'\n",
    "    files = []\n",
    "    for filename in os.listdir(file_path):\n",
    "        f = os.path.join(file_path, filename)\n",
    "        if(f.endswith(ext)):\n",
    "            files.append(f)\n",
    "\n",
    "    return files"
   ],
   "metadata": {
    "collapsed": false,
    "pycharm": {
     "name": "#%%\n"
    }
   }
  },
  {
   "cell_type": "code",
   "execution_count": null,
   "outputs": [],
   "source": [
    "def load_numpy_files(file_path):\n",
    "    #Collect all files in a files list\n",
    "    ext='.npy'\n",
    "    files = []\n",
    "    for filename in os.listdir(file_path):\n",
    "        f = os.path.join(file_path, filename)\n",
    "        if(f.endswith(ext)):\n",
    "            files.append(f)\n",
    "\n",
    "    return files"
   ],
   "metadata": {
    "collapsed": false,
    "pycharm": {
     "name": "#%%\n"
    }
   }
  },
  {
   "cell_type": "code",
   "execution_count": null,
   "outputs": [],
   "source": [
    "##### reads buoy list\n",
    "station_dict = {}\n",
    "with open('stations_list.txt', \"r\") as f:\n",
    "    lines = f.readlines()\n",
    "    for line in lines[:-1]:\n",
    "        v = [a.strip() for a in line.split(\" \") if a.strip() != '']\n",
    "\n",
    "        if len(v) > 1:\n",
    "            #print(v)\n",
    "            station = v[0].replace(\"*\", \"\") # 41001*\n",
    "            lat = v[1][:-1]\n",
    "            lon = '-'+v[2][:-1]\n",
    "            station_dict[station] = [lat, lon]"
   ],
   "metadata": {
    "collapsed": false,
    "pycharm": {
     "name": "#%%\n"
    }
   }
  },
  {
   "cell_type": "code",
   "execution_count": null,
   "outputs": [],
   "source": [
    "#load and process data for each buoy\n",
    "for buoy, (lat, lon) in zip(station_dict.keys(), station_dict.values()):\n",
    "\n",
    "    lat = float(lat)\n",
    "    lon = float(lon)"
   ],
   "metadata": {
    "collapsed": false,
    "pycharm": {
     "name": "#%%\n"
    }
   }
  },
  {
   "cell_type": "code",
   "execution_count": null,
   "outputs": [],
   "source": [],
   "metadata": {
    "collapsed": false,
    "pycharm": {
     "name": "#%%\n"
    }
   }
  },
  {
   "cell_type": "code",
   "execution_count": null,
   "outputs": [],
   "source": [],
   "metadata": {
    "collapsed": false,
    "pycharm": {
     "name": "#%%\n"
    }
   }
  },
  {
   "cell_type": "code",
   "execution_count": null,
   "outputs": [],
   "source": [],
   "metadata": {
    "collapsed": false,
    "pycharm": {
     "name": "#%%\n"
    }
   }
  },
  {
   "cell_type": "code",
   "execution_count": null,
   "outputs": [],
   "source": [],
   "metadata": {
    "collapsed": false,
    "pycharm": {
     "name": "#%%\n"
    }
   }
  },
  {
   "cell_type": "code",
   "execution_count": null,
   "metadata": {
    "collapsed": true,
    "pycharm": {
     "name": "#%%\n"
    }
   },
   "outputs": [],
   "source": [
    "\n",
    "######## data processing code\n",
    "#Holding single netcdf file in memory to find lat/lon values\n",
    "files = load_files(DATA_PATH)\n",
    "c_files = load_files(CLIMATE_DATA_PATH)\n",
    "for t in range(1):\n",
    "    data = nc.Dataset(files[t], 'r')\n",
    "    c_data = nc.Dataset(c_files[t], 'r')\n",
    "\n",
    "buoy_year='2011'\n",
    "\n",
    "multiple_buoy_data = []\n",
    "columns = ['buoy_water_temp', 'buoy_gust', 'buoy_pressure', 'water_temp', 'salinity', 'water_u', 'water_v', 'surf_el']\n",
    "\n",
    "buoy_data_train = pd.DataFrame(columns=columns)\n",
    "buoy_data_val = pd.DataFrame(columns=columns)\n",
    "buoy_data_test = pd.DataFrame(columns=np.append('buoy',columns))\n",
    "\n",
    "\n",
    "from datetime import date, timedelta\n",
    "\n",
    "station_dict = {}\n",
    "with open('stations_list.txt', \"r\") as f:\n",
    "    lines = f.readlines()\n",
    "    for line in lines[:-1]:\n",
    "        v = [a.strip() for a in line.split(\" \") if a.strip() != '']\n",
    "\n",
    "        if len(v) > 1:\n",
    "            #print(v)\n",
    "            station = v[0].replace(\"*\", \"\") # 41001*\n",
    "            lat = v[1][:-1]\n",
    "            lon = '-'+v[2][:-1]\n",
    "            station_dict[station] = [lat, lon]\n",
    "\n",
    "\n",
    "#load and process data for each buoy\n",
    "for buoy, (lat, lon) in zip(station_dict.keys(), station_dict.values()):\n",
    "\n",
    "    lat = float(lat)\n",
    "    lon = float(lon)\n",
    "\n",
    "\n",
    "    #download and collect buoy data\n",
    "    print(f\"Beginning processing for buoy {buoy} in\",buoy_year)\n",
    "    df, val = download_noaa(buoy, buoy_year)\n",
    "\n",
    "    if(val.size==0):\n",
    "        print(f\"No data for year\", buoy_year, \"\\n\")\n",
    "        continue\n",
    "\n",
    "    df_third_hour = df[df.hh % 3 == 0]\n",
    "    buoy_df = df_third_hour[df_third_hour.mm == 50].reset_index(drop=True)\n",
    "\n",
    "    #Removing problematic fill data from buoys. Simply replacing the fill values with min values\n",
    "    buoy_df.replace(99.0, np.nan, inplace=True)\n",
    "    buoy_df.replace(999.0, np.nan, inplace=True)\n",
    "    buoy_df.replace(9999.0, np.nan, inplace=True)\n",
    "\n",
    "    buoy_df = buoy_df.fillna(buoy_df.mean())\n",
    "\n",
    "    if (buoy_df[['WTMP','GST','PRES']].isnull().values.any()):\n",
    "        print(f\"Buoy has unresolved NaNs for year\", buoy_year, \"\\n\")\n",
    "        continue\n",
    "\n",
    "    if(buoy_df.empty):\n",
    "        print(f\"Buoy is empty somehow...\\n\")\n",
    "        continue\n",
    "\n",
    "    #Given a set of date times and the buoy dataframe, we can align each recorded timestep with its HYCOM counterpart.\n",
    "    buoy_datetimes = buoy_df[['#YY' ,'MM', 'DD', 'hh', 'mm']].to_numpy().astype('int')\n",
    "\n",
    "    # calculate the difference array to get lats/lons index in the HYCOM data.\n",
    "    difference_lat = np.absolute(data['lat'][:]-lat)\n",
    "    difference_lon = np.absolute(data['lon'][:]-lon)\n",
    "\n",
    "    c_difference_lat = np.absolute(c_data['latitude'][:]-lat)\n",
    "    c_difference_lon = np.absolute(c_data['longitude'][:]-lon)\n",
    "\n",
    "    # find the index of minimum element from the array (the closest lat and lon)\n",
    "    lat_index = difference_lat.argmin()\n",
    "    lon_index = difference_lon.argmin()\n",
    "\n",
    "    c_lat_index = c_difference_lat.argmin()\n",
    "    c_lon_index = c_difference_lon.argmin()\n",
    "\n",
    "    #adjust so matrix corner always includes the buoy\n",
    "    if(data['lat'][lat_index]>lat):\n",
    "        lat_index=lat_index-1\n",
    "\n",
    "    if(data['lon'][lon_index]>lon):\n",
    "        lon_index=lon_index-1\n",
    "\n",
    "    if(c_data['latitude'][c_lat_index]>lat):\n",
    "        c_lat_index=c_lat_index-1\n",
    "\n",
    "    if(c_data['longitude'][c_lon_index]>lon):\n",
    "        c_lon_index=c_lon_index-1\n",
    "\n",
    "    print(lat, lon, lat_index,lon_index, c_lat_index, c_lon_index)\n",
    "\n",
    "    print(\"Loading HYCOM features \")\n",
    "    #Get features using the desired lat and lon for each buoy\n",
    "    inter_features, feature = load_interp_features(0,1,lat_index,lat_index+1,lon_index,lon_index+1)\n",
    "\n",
    "    mask = inter_features > -30000\n",
    "    inter_features[inter_features <= -30000] = inter_features[mask].mean()\n",
    "\n",
    "    print(\"Loading Climate features \")\n",
    "    #Load climate features with same technique\n",
    "    c_features, c_feature = load_climate_features(0,1,c_lat_index,c_lat_index+1,c_lon_index,c_lon_index+1)\n",
    "\n",
    "    mask = c_features > -30000\n",
    "    c_features[c_features <= -30000] = 0.0\n",
    "\n",
    "    #pressure variable same units as buoys\n",
    "    c_features[7] = c_features[7] / 100\n",
    "\n",
    "    #match up buoy data with HYCOM data temporally. Holes still remain in the data, but\n",
    "    #HYCOM at least matches 1 to 1\n",
    "    dates=[]\n",
    "    train_index_match = []\n",
    "    val_index_match = []\n",
    "    test_index_match = []\n",
    "\n",
    "    time_sets=[]\n",
    "    date_generated = generate_time()\n",
    "\n",
    "    #Match HYCOM instances with buoy instances timewise. We break up data into train/test/val by date\n",
    "    print(\"Matching HYCOM and Climate instances with buoys\")\n",
    "\n",
    "    for i,j in zip(range(0,len(buoy_datetimes)), range(0,len(buoy_datetimes))):\n",
    "        check = (date_generated[i] - buoy_datetimes[j]) == 0\n",
    "        while (not np.all(check)):\n",
    "            i=i+1\n",
    "            check = ((date_generated[i] - buoy_datetimes[j]) == 0)\n",
    "\n",
    "        if(date_generated[i] < date_generated[2044]):\n",
    "            train_index_match.append([i,j])\n",
    "\n",
    "\n",
    "        elif((date_generated[i] >= date_generated[2044]) & (date_generated[i] < date_generated[2336])):\n",
    "            val_index_match.append([i,j])\n",
    "\n",
    "\n",
    "        elif(date_generated[i] >= date_generated[2336]):\n",
    "            test_index_match.append([i,j])\n",
    "\n",
    "        im_train = np.array(train_index_match)\n",
    "        im_val = np.array(val_index_match)\n",
    "        im_test = np.array(test_index_match)\n",
    "\n",
    "    #Use selected indices to build datasets by date\n",
    "    print(\"Building Train, Test, Val sets\")\n",
    "    dct_train={}\n",
    "    dct_val={}\n",
    "    dct_test={}\n",
    "\n",
    "    if(im_train.size!=0):\n",
    "        dct_train ={'buoy_water_temp':buoy_df['WTMP'].to_numpy()[im_train[:-1,1]],\n",
    "                    'buoy_gust':buoy_df['GST'].to_numpy()[im_train[:-1,1]],\n",
    "                    'buoy_pressure':buoy_df['PRES'].to_numpy()[im_train[:-1,1]],\n",
    "\n",
    "                    'water_temp':inter_features[im_train[:-1,0], 0, 0, 0] ,'salinity':inter_features[im_train[:-1,0], 1, 0, 0],\n",
    "                    'water_u':inter_features[im_train[:-1,0], 2, 0, 0], 'water_v':inter_features[im_train[:-1,0], 3, 0, 0],\n",
    "                    'surf_el':inter_features[im_train[:-1,0], 4, 0, 0],\n",
    "\n",
    "                    'u10':c_features[0, 0,im_train[:-1,0]], 'v10':c_features[1, 0,im_train[:-1,0]],\n",
    "                    'e':c_features[2, 0,im_train[:-1,0]],\n",
    "                    'i10fg':c_features[3, 0,im_train[:-1,0]], 'mer':c_features[4, 0,im_train[:-1,0]],\n",
    "                    'mror':c_features[5, 0,im_train[:-1,0]], 'siconc':c_features[6, 0,im_train[:-1,0]],\n",
    "                    'sp':c_features[7, 0,im_train[:-1,0]],\n",
    "                    'tcc':c_features[8, 0,im_train[:-1,0]], 'tp':c_features[9, 0,im_train[:-1,0]],\n",
    "\n",
    "                    'next_buoy_water_temp':buoy_df['WTMP'].to_numpy()[im_train[1:,1]],\n",
    "                    'next_buoy_gust':buoy_df['GST'].to_numpy()[im_train[1:,1]],\n",
    "                    'next_buoy_pressure':buoy_df['PRES'].to_numpy()[im_train[1:,1]],\n",
    "\n",
    "                    'next_water_temp':inter_features[im_train[1:,0], 0, 0, 0] ,\n",
    "                    'next_salinity':inter_features[im_train[1:,0], 1, 0, 0],\n",
    "                    'next_water_u':inter_features[im_train[1:,0], 2, 0, 0], 'next_water_v':inter_features[im_train[1:,0], 3, 0, 0],\n",
    "                    'next_surf_el':inter_features[im_train[1:,0], 4, 0, 0],\n",
    "\n",
    "                    'next_u10':c_features[0, 0,im_train[1:,0]], 'next_v10':c_features[1, 0,im_train[1:,0]],\n",
    "                    'next_e':c_features[2, 0,im_train[1:,0]],\n",
    "                    'next_i10fg':c_features[3, 0,im_train[1:,0]], 'next_mer':c_features[4, 0,im_train[1:,0]],\n",
    "                    'next_mror':c_features[5, 0,im_train[1:,0]], 'next_siconc':c_features[6, 0,im_train[1:,0]],\n",
    "                    'next_sp':c_features[7, 0,im_train[1:,0]],\n",
    "                    'next_tcc':c_features[8, 0,im_train[1:,0]], 'next_tp':c_features[9, 0,im_train[1:,0]] }\n",
    "\n",
    "    if(im_val.size!=0):\n",
    "        dct_val = { 'buoy_water_temp':buoy_df['WTMP'].to_numpy()[im_val[:-1,1]] ,\n",
    "                    'buoy_gust':buoy_df['GST'].to_numpy()[im_val[:-1,1]],\n",
    "                    'buoy_pressure':buoy_df['PRES'].to_numpy()[im_val[:-1,1]],\n",
    "\n",
    "                    'water_temp':inter_features[im_val[:-1,0], 0, 0, 0] ,'salinity':inter_features[im_val[:-1,0], 1, 0, 0],\n",
    "                    'water_u':inter_features[im_val[:-1,0], 2, 0, 0], 'water_v':inter_features[im_val[:-1,0], 3, 0, 0],\n",
    "                    'surf_el':inter_features[im_val[:-1,0], 4, 0, 0],\n",
    "\n",
    "                    'u10':c_features[0, 0,im_val[:-1,0]], 'v10':c_features[1, 0,im_val[:-1,0]],\n",
    "                    'e':c_features[2, 0,im_val[:-1,0]],\n",
    "                    'i10fg':c_features[3, 0,im_val[:-1,0]], 'mer':c_features[4, 0,im_val[:-1,0]],\n",
    "                    'mror':c_features[5, 0,im_val[:-1,0]], 'siconc':c_features[6, 0,im_val[:-1,0]],\n",
    "                    'sp':c_features[7, 0,im_val[:-1,0]],\n",
    "                    'tcc':c_features[8, 0,im_val[:-1,0]], 'tp':c_features[9, 0,im_val[:-1,0]],\n",
    "\n",
    "                    'next_buoy_water_temp':buoy_df['WTMP'].to_numpy()[im_val[1:,1]] ,\n",
    "                    'next_buoy_gust':buoy_df['GST'].to_numpy()[im_val[1:,1]],\n",
    "                    'next_buoy_pressure':buoy_df['PRES'].to_numpy()[im_val[1:,1]],\n",
    "\n",
    "                    'next_water_temp':inter_features[im_val[1:,0], 0, 0, 0] ,'next_salinity':inter_features[im_val[1:,0], 1, 0, 0],\n",
    "                    'next_water_u':inter_features[im_val[1:,0], 2, 0, 0], 'next_water_v':inter_features[im_val[1:,0], 3, 0, 0],\n",
    "                    'next_surf_el':inter_features[im_val[1:,0], 4, 0, 0],\n",
    "\n",
    "                    'next_u10':c_features[0, 0,im_val[1:,0]], 'next_v10':c_features[1, 0,im_val[1:,0]],\n",
    "                    'next_e':c_features[2, 0,im_val[1:,0]],\n",
    "                    'next_i10fg':c_features[3, 0,im_val[1:,0]], 'next_mer':c_features[4, 0,im_val[1:,0]],\n",
    "                    'next_mror':c_features[5, 0,im_val[1:,0]], 'next_siconc':c_features[6, 0,im_val[1:,0]],\n",
    "                    'next_sp':c_features[7, 0,im_val[1:,0]],\n",
    "                    'next_tcc':c_features[8, 0,im_val[1:,0]], 'next_tp':c_features[9, 0,im_val[1:,0]] }\n",
    "\n",
    "    if(not im_test.size<8):\n",
    "        dct_test = {'buoy':[buoy for p in range(len(im_test)-1) ],'buoy_water_temp':buoy_df['WTMP'].to_numpy()[im_test[:-1,1]] ,\n",
    "                    'buoy_gust':buoy_df['GST'].to_numpy()[im_test[:-1,1]],\n",
    "                    'buoy_pressure':buoy_df['PRES'].to_numpy()[im_test[:-1,1]],\n",
    "\n",
    "\n",
    "                    'water_temp':inter_features[im_test[:-1,0], 0, 0, 0] ,'salinity':inter_features[im_test[:-1,0], 1, 0, 0],\n",
    "                    'water_u':inter_features[im_test[:-1,0], 2, 0, 0], 'water_v':inter_features[im_test[:-1,0], 3, 0, 0],\n",
    "                    'surf_el':inter_features[im_test[:-1,0], 4, 0, 0],\n",
    "\n",
    "                    'u10':c_features[0, 0,im_test[:-1,0]], 'v10':c_features[1, 0,im_test[:-1,0]],\n",
    "                    'e':c_features[2, 0,im_test[:-1,0]],\n",
    "                    'i10fg':c_features[3, 0,im_test[:-1,0]], 'mer':c_features[4, 0,im_test[:-1,0]],\n",
    "                    'mror':c_features[5, 0,im_test[:-1,0]], 'siconc':c_features[6, 0,im_test[:-1,0]],\n",
    "                    'sp':c_features[7, 0,im_test[:-1,0]],\n",
    "                    'tcc':c_features[8, 0,im_test[:-1,0]], 'tp':c_features[9, 0,im_test[:-1,0]],\n",
    "\n",
    "                    'next_buoy_water_temp':buoy_df['WTMP'].to_numpy()[im_test[1:,1]] ,\n",
    "                    'next_buoy_gust':buoy_df['GST'].to_numpy()[im_test[1:,1]],\n",
    "                    'next_buoy_pressure':buoy_df['PRES'].to_numpy()[im_test[1:,1]],\n",
    "\n",
    "                    'next_water_temp':inter_features[im_test[1:,0], 0, 0, 0] ,\n",
    "                    'next_salinity':inter_features[im_test[1:,0], 1, 0, 0],\n",
    "                    'next_water_u':inter_features[im_test[1:,0], 2, 0, 0], 'next_water_v':inter_features[im_test[1:,0], 3, 0, 0],\n",
    "                    'next_surf_el':inter_features[im_test[1:,0], 4, 0, 0],\n",
    "\n",
    "                    'next_u10':c_features[0, 0,im_test[1:,0]], 'next_v10':c_features[1, 0,im_test[1:,0]],\n",
    "                    'next_e':c_features[2, 0,im_test[1:,0]],\n",
    "                    'next_i10fg':c_features[3, 0,im_test[1:,0]], 'next_mer':c_features[4, 0,im_test[1:,0]],\n",
    "                    'next_mror':c_features[5, 0,im_test[1:,0]], 'next_siconc':c_features[6, 0,im_test[1:,0]],\n",
    "                    'next_sp':c_features[7, 0,im_test[1:,0]],\n",
    "                    'next_tcc':c_features[8, 0,im_test[1:,0]], 'next_tp':c_features[9, 0,im_test[1:,0]] }\n",
    "\n",
    "    single_buoy_data_train = pd.DataFrame(data=dct_train)\n",
    "    single_buoy_data_val = pd.DataFrame(data=dct_val)\n",
    "    single_buoy_data_test = pd.DataFrame(data=dct_test)\n",
    "\n",
    "    print(\"Train size: \", len(single_buoy_data_train))\n",
    "    print(\"Val size: \", len(single_buoy_data_val))\n",
    "    print(\"Test size: \", len(single_buoy_data_test),'\\n')\n",
    "\n",
    "    buoy_data_train = pd.concat([buoy_data_train, single_buoy_data_train])\n",
    "    buoy_data_val = pd.concat([buoy_data_val, single_buoy_data_val])\n",
    "    buoy_data_test = pd.concat([buoy_data_test, single_buoy_data_test])\n",
    "\n",
    "    buoy_data_train.to_pickle(\"./ProcessedData/all_buoys_data_train.pkl\")\n",
    "    buoy_data_val.to_pickle(\"./ProcessedData/all_buoys_data_val.pkl\")\n",
    "    buoy_data_test.to_pickle(\"./ProcessedData/all_buoys_data_test.pkl\")\n",
    "\n",
    "\n",
    "\n",
    "\n",
    "\n",
    "\n",
    "\n",
    "\n"
   ]
  }
 ],
 "metadata": {
  "kernelspec": {
   "display_name": "Python 3",
   "language": "python",
   "name": "python3"
  },
  "language_info": {
   "codemirror_mode": {
    "name": "ipython",
    "version": 2
   },
   "file_extension": ".py",
   "mimetype": "text/x-python",
   "name": "python",
   "nbconvert_exporter": "python",
   "pygments_lexer": "ipython2",
   "version": "2.7.6"
  }
 },
 "nbformat": 4,
 "nbformat_minor": 0
}