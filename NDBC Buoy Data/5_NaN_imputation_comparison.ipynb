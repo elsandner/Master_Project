{
 "cells": [
  {
   "cell_type": "markdown",
   "source": [
    "# TODO:\n",
    " 1. Create (small) Dataset for comparison of different data imputation techniques\n",
    " 2. Run several imputation methods\n",
    " 3. Compare them in time and accuracy\n",
    " 4. Write first chapter of thesis!\n",
    "\n",
    "Imputation techniques:\n",
    "* mean / median\n",
    "* k-NN\n",
    "* MICE\n",
    "* Maybe some additional methods at a later point\n"
   ],
   "metadata": {
    "collapsed": false,
    "pycharm": {
     "name": "#%% md\n"
    }
   }
  },
  {
   "cell_type": "code",
   "execution_count": null,
   "metadata": {
    "collapsed": true,
    "pycharm": {
     "name": "#%%\n"
    }
   },
   "outputs": [],
   "source": []
  }
 ],
 "metadata": {
  "kernelspec": {
   "display_name": "Python 3",
   "language": "python",
   "name": "python3"
  },
  "language_info": {
   "codemirror_mode": {
    "name": "ipython",
    "version": 2
   },
   "file_extension": ".py",
   "mimetype": "text/x-python",
   "name": "python",
   "nbconvert_exporter": "python",
   "pygments_lexer": "ipython2",
   "version": "2.7.6"
  }
 },
 "nbformat": 4,
 "nbformat_minor": 0
}